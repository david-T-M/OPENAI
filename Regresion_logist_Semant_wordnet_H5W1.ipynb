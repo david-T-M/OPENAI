{
 "cells": [
  {
   "cell_type": "code",
   "execution_count": 1,
   "metadata": {},
   "outputs": [],
   "source": [
    "import pandas as pd\n",
    "import numpy as np\n",
    "from sklearn import linear_model\n",
    "from sklearn import model_selection\n",
    "from sklearn.metrics import classification_report\n",
    "from sklearn.metrics import confusion_matrix\n",
    "from sklearn.metrics import accuracy_score\n",
    "import matplotlib.pyplot as plt\n",
    "import seaborn as sb"
   ]
  },
  {
   "cell_type": "code",
   "execution_count": 2,
   "metadata": {},
   "outputs": [
    {
     "data": {
      "text/html": [
       "<div>\n",
       "<style scoped>\n",
       "    .dataframe tbody tr th:only-of-type {\n",
       "        vertical-align: middle;\n",
       "    }\n",
       "\n",
       "    .dataframe tbody tr th {\n",
       "        vertical-align: top;\n",
       "    }\n",
       "\n",
       "    .dataframe thead th {\n",
       "        text-align: right;\n",
       "    }\n",
       "</style>\n",
       "<table border=\"1\" class=\"dataframe\">\n",
       "  <thead>\n",
       "    <tr style=\"text-align: right;\">\n",
       "      <th></th>\n",
       "      <th>Who</th>\n",
       "      <th>Where</th>\n",
       "      <th>When</th>\n",
       "      <th>What</th>\n",
       "      <th>Why</th>\n",
       "      <th>How</th>\n",
       "      <th>Additional information</th>\n",
       "      <th>Who_w</th>\n",
       "      <th>Where_w</th>\n",
       "      <th>When_w</th>\n",
       "      <th>What_w</th>\n",
       "      <th>Why_w</th>\n",
       "      <th>How_w</th>\n",
       "      <th>Additional information_w</th>\n",
       "      <th>CLASS</th>\n",
       "    </tr>\n",
       "  </thead>\n",
       "  <tbody>\n",
       "    <tr>\n",
       "      <th>0</th>\n",
       "      <td>0.696783</td>\n",
       "      <td>0.076060</td>\n",
       "      <td>1.0</td>\n",
       "      <td>0.505262</td>\n",
       "      <td>1.0</td>\n",
       "      <td>1.0</td>\n",
       "      <td>1.000000</td>\n",
       "      <td>3.637586</td>\n",
       "      <td>0.000000</td>\n",
       "      <td>0.0</td>\n",
       "      <td>2.564949</td>\n",
       "      <td>0.0</td>\n",
       "      <td>0.0</td>\n",
       "      <td>0.000000</td>\n",
       "      <td>entailment</td>\n",
       "    </tr>\n",
       "    <tr>\n",
       "      <th>1</th>\n",
       "      <td>0.762582</td>\n",
       "      <td>1.000000</td>\n",
       "      <td>1.0</td>\n",
       "      <td>0.944161</td>\n",
       "      <td>1.0</td>\n",
       "      <td>1.0</td>\n",
       "      <td>0.699488</td>\n",
       "      <td>3.637586</td>\n",
       "      <td>0.000000</td>\n",
       "      <td>0.0</td>\n",
       "      <td>3.637586</td>\n",
       "      <td>0.0</td>\n",
       "      <td>0.0</td>\n",
       "      <td>3.637586</td>\n",
       "      <td>entailment</td>\n",
       "    </tr>\n",
       "    <tr>\n",
       "      <th>2</th>\n",
       "      <td>0.881357</td>\n",
       "      <td>0.265408</td>\n",
       "      <td>1.0</td>\n",
       "      <td>0.360803</td>\n",
       "      <td>1.0</td>\n",
       "      <td>1.0</td>\n",
       "      <td>1.000000</td>\n",
       "      <td>3.637586</td>\n",
       "      <td>2.251292</td>\n",
       "      <td>0.0</td>\n",
       "      <td>2.538974</td>\n",
       "      <td>0.0</td>\n",
       "      <td>0.0</td>\n",
       "      <td>0.000000</td>\n",
       "      <td>contradiction</td>\n",
       "    </tr>\n",
       "    <tr>\n",
       "      <th>3</th>\n",
       "      <td>0.153366</td>\n",
       "      <td>1.000000</td>\n",
       "      <td>1.0</td>\n",
       "      <td>0.358316</td>\n",
       "      <td>1.0</td>\n",
       "      <td>1.0</td>\n",
       "      <td>1.000000</td>\n",
       "      <td>2.028148</td>\n",
       "      <td>0.000000</td>\n",
       "      <td>0.0</td>\n",
       "      <td>3.637586</td>\n",
       "      <td>0.0</td>\n",
       "      <td>0.0</td>\n",
       "      <td>0.000000</td>\n",
       "      <td>contradiction</td>\n",
       "    </tr>\n",
       "    <tr>\n",
       "      <th>4</th>\n",
       "      <td>0.919903</td>\n",
       "      <td>0.715984</td>\n",
       "      <td>1.0</td>\n",
       "      <td>0.224679</td>\n",
       "      <td>1.0</td>\n",
       "      <td>1.0</td>\n",
       "      <td>1.000000</td>\n",
       "      <td>3.637586</td>\n",
       "      <td>3.637586</td>\n",
       "      <td>0.0</td>\n",
       "      <td>2.251292</td>\n",
       "      <td>0.0</td>\n",
       "      <td>0.0</td>\n",
       "      <td>0.000000</td>\n",
       "      <td>neutral</td>\n",
       "    </tr>\n",
       "    <tr>\n",
       "      <th>...</th>\n",
       "      <td>...</td>\n",
       "      <td>...</td>\n",
       "      <td>...</td>\n",
       "      <td>...</td>\n",
       "      <td>...</td>\n",
       "      <td>...</td>\n",
       "      <td>...</td>\n",
       "      <td>...</td>\n",
       "      <td>...</td>\n",
       "      <td>...</td>\n",
       "      <td>...</td>\n",
       "      <td>...</td>\n",
       "      <td>...</td>\n",
       "      <td>...</td>\n",
       "      <td>...</td>\n",
       "    </tr>\n",
       "    <tr>\n",
       "      <th>95</th>\n",
       "      <td>0.706643</td>\n",
       "      <td>0.210286</td>\n",
       "      <td>1.0</td>\n",
       "      <td>0.570392</td>\n",
       "      <td>1.0</td>\n",
       "      <td>1.0</td>\n",
       "      <td>1.000000</td>\n",
       "      <td>3.637586</td>\n",
       "      <td>0.000000</td>\n",
       "      <td>0.0</td>\n",
       "      <td>3.637586</td>\n",
       "      <td>0.0</td>\n",
       "      <td>0.0</td>\n",
       "      <td>0.000000</td>\n",
       "      <td>entailment</td>\n",
       "    </tr>\n",
       "    <tr>\n",
       "      <th>96</th>\n",
       "      <td>0.894956</td>\n",
       "      <td>1.000000</td>\n",
       "      <td>1.0</td>\n",
       "      <td>0.830284</td>\n",
       "      <td>1.0</td>\n",
       "      <td>1.0</td>\n",
       "      <td>1.000000</td>\n",
       "      <td>3.637586</td>\n",
       "      <td>0.000000</td>\n",
       "      <td>0.0</td>\n",
       "      <td>3.637586</td>\n",
       "      <td>0.0</td>\n",
       "      <td>0.0</td>\n",
       "      <td>0.000000</td>\n",
       "      <td>entailment</td>\n",
       "    </tr>\n",
       "    <tr>\n",
       "      <th>97</th>\n",
       "      <td>0.072305</td>\n",
       "      <td>1.000000</td>\n",
       "      <td>1.0</td>\n",
       "      <td>0.086890</td>\n",
       "      <td>1.0</td>\n",
       "      <td>1.0</td>\n",
       "      <td>1.000000</td>\n",
       "      <td>3.637586</td>\n",
       "      <td>0.000000</td>\n",
       "      <td>0.0</td>\n",
       "      <td>3.637586</td>\n",
       "      <td>0.0</td>\n",
       "      <td>0.0</td>\n",
       "      <td>0.000000</td>\n",
       "      <td>contradiction</td>\n",
       "    </tr>\n",
       "    <tr>\n",
       "      <th>98</th>\n",
       "      <td>0.655674</td>\n",
       "      <td>1.000000</td>\n",
       "      <td>1.0</td>\n",
       "      <td>0.357685</td>\n",
       "      <td>1.0</td>\n",
       "      <td>1.0</td>\n",
       "      <td>1.000000</td>\n",
       "      <td>3.637586</td>\n",
       "      <td>0.000000</td>\n",
       "      <td>0.0</td>\n",
       "      <td>2.564949</td>\n",
       "      <td>0.0</td>\n",
       "      <td>0.0</td>\n",
       "      <td>0.000000</td>\n",
       "      <td>contradiction</td>\n",
       "    </tr>\n",
       "    <tr>\n",
       "      <th>99</th>\n",
       "      <td>0.615321</td>\n",
       "      <td>1.000000</td>\n",
       "      <td>1.0</td>\n",
       "      <td>0.030110</td>\n",
       "      <td>1.0</td>\n",
       "      <td>1.0</td>\n",
       "      <td>1.000000</td>\n",
       "      <td>3.637586</td>\n",
       "      <td>0.000000</td>\n",
       "      <td>0.0</td>\n",
       "      <td>2.564949</td>\n",
       "      <td>0.0</td>\n",
       "      <td>0.0</td>\n",
       "      <td>0.000000</td>\n",
       "      <td>contradiction</td>\n",
       "    </tr>\n",
       "  </tbody>\n",
       "</table>\n",
       "<p>100 rows × 15 columns</p>\n",
       "</div>"
      ],
      "text/plain": [
       "         Who     Where  When      What  Why  How  Additional information  \\\n",
       "0   0.696783  0.076060   1.0  0.505262  1.0  1.0                1.000000   \n",
       "1   0.762582  1.000000   1.0  0.944161  1.0  1.0                0.699488   \n",
       "2   0.881357  0.265408   1.0  0.360803  1.0  1.0                1.000000   \n",
       "3   0.153366  1.000000   1.0  0.358316  1.0  1.0                1.000000   \n",
       "4   0.919903  0.715984   1.0  0.224679  1.0  1.0                1.000000   \n",
       "..       ...       ...   ...       ...  ...  ...                     ...   \n",
       "95  0.706643  0.210286   1.0  0.570392  1.0  1.0                1.000000   \n",
       "96  0.894956  1.000000   1.0  0.830284  1.0  1.0                1.000000   \n",
       "97  0.072305  1.000000   1.0  0.086890  1.0  1.0                1.000000   \n",
       "98  0.655674  1.000000   1.0  0.357685  1.0  1.0                1.000000   \n",
       "99  0.615321  1.000000   1.0  0.030110  1.0  1.0                1.000000   \n",
       "\n",
       "       Who_w   Where_w  When_w    What_w  Why_w  How_w  \\\n",
       "0   3.637586  0.000000     0.0  2.564949    0.0    0.0   \n",
       "1   3.637586  0.000000     0.0  3.637586    0.0    0.0   \n",
       "2   3.637586  2.251292     0.0  2.538974    0.0    0.0   \n",
       "3   2.028148  0.000000     0.0  3.637586    0.0    0.0   \n",
       "4   3.637586  3.637586     0.0  2.251292    0.0    0.0   \n",
       "..       ...       ...     ...       ...    ...    ...   \n",
       "95  3.637586  0.000000     0.0  3.637586    0.0    0.0   \n",
       "96  3.637586  0.000000     0.0  3.637586    0.0    0.0   \n",
       "97  3.637586  0.000000     0.0  3.637586    0.0    0.0   \n",
       "98  3.637586  0.000000     0.0  2.564949    0.0    0.0   \n",
       "99  3.637586  0.000000     0.0  2.564949    0.0    0.0   \n",
       "\n",
       "    Additional information_w          CLASS  \n",
       "0                   0.000000     entailment  \n",
       "1                   3.637586     entailment  \n",
       "2                   0.000000  contradiction  \n",
       "3                   0.000000  contradiction  \n",
       "4                   0.000000        neutral  \n",
       "..                       ...            ...  \n",
       "95                  0.000000     entailment  \n",
       "96                  0.000000     entailment  \n",
       "97                  0.000000  contradiction  \n",
       "98                  0.000000  contradiction  \n",
       "99                  0.000000  contradiction  \n",
       "\n",
       "[100 rows x 15 columns]"
      ]
     },
     "execution_count": 2,
     "metadata": {},
     "output_type": "execute_result"
    }
   ],
   "source": [
    "dataframe = pd.read_csv(r\"indicadores_H5W1_wordnet_sentencebert_CLASS.csv\")\n",
    "dataframe"
   ]
  },
  {
   "cell_type": "code",
   "execution_count": 3,
   "metadata": {},
   "outputs": [
    {
     "data": {
      "text/html": [
       "<div>\n",
       "<style scoped>\n",
       "    .dataframe tbody tr th:only-of-type {\n",
       "        vertical-align: middle;\n",
       "    }\n",
       "\n",
       "    .dataframe tbody tr th {\n",
       "        vertical-align: top;\n",
       "    }\n",
       "\n",
       "    .dataframe thead th {\n",
       "        text-align: right;\n",
       "    }\n",
       "</style>\n",
       "<table border=\"1\" class=\"dataframe\">\n",
       "  <thead>\n",
       "    <tr style=\"text-align: right;\">\n",
       "      <th></th>\n",
       "      <th>Who</th>\n",
       "      <th>Where</th>\n",
       "      <th>When</th>\n",
       "      <th>What</th>\n",
       "      <th>Why</th>\n",
       "      <th>How</th>\n",
       "      <th>Additional information</th>\n",
       "      <th>Who_w</th>\n",
       "      <th>Where_w</th>\n",
       "      <th>When_w</th>\n",
       "      <th>What_w</th>\n",
       "      <th>Why_w</th>\n",
       "      <th>How_w</th>\n",
       "      <th>Additional information_w</th>\n",
       "    </tr>\n",
       "  </thead>\n",
       "  <tbody>\n",
       "    <tr>\n",
       "      <th>count</th>\n",
       "      <td>100.000000</td>\n",
       "      <td>100.000000</td>\n",
       "      <td>100.000000</td>\n",
       "      <td>100.000000</td>\n",
       "      <td>100.000000</td>\n",
       "      <td>100.000000</td>\n",
       "      <td>100.000000</td>\n",
       "      <td>100.000000</td>\n",
       "      <td>100.000000</td>\n",
       "      <td>100.000000</td>\n",
       "      <td>100.000000</td>\n",
       "      <td>100.000000</td>\n",
       "      <td>100.000000</td>\n",
       "      <td>100.000000</td>\n",
       "    </tr>\n",
       "    <tr>\n",
       "      <th>mean</th>\n",
       "      <td>0.712144</td>\n",
       "      <td>0.751508</td>\n",
       "      <td>0.923311</td>\n",
       "      <td>0.496864</td>\n",
       "      <td>0.908617</td>\n",
       "      <td>0.860216</td>\n",
       "      <td>0.870180</td>\n",
       "      <td>3.216180</td>\n",
       "      <td>0.952474</td>\n",
       "      <td>0.083880</td>\n",
       "      <td>2.465364</td>\n",
       "      <td>0.155714</td>\n",
       "      <td>0.248701</td>\n",
       "      <td>0.405521</td>\n",
       "    </tr>\n",
       "    <tr>\n",
       "      <th>std</th>\n",
       "      <td>0.254961</td>\n",
       "      <td>0.338036</td>\n",
       "      <td>0.233606</td>\n",
       "      <td>0.327958</td>\n",
       "      <td>0.259196</td>\n",
       "      <td>0.309860</td>\n",
       "      <td>0.293922</td>\n",
       "      <td>0.979224</td>\n",
       "      <td>1.417860</td>\n",
       "      <td>0.492678</td>\n",
       "      <td>1.268416</td>\n",
       "      <td>0.691334</td>\n",
       "      <td>0.747393</td>\n",
       "      <td>1.052825</td>\n",
       "    </tr>\n",
       "    <tr>\n",
       "      <th>min</th>\n",
       "      <td>0.072305</td>\n",
       "      <td>0.076060</td>\n",
       "      <td>0.187566</td>\n",
       "      <td>-0.011613</td>\n",
       "      <td>-0.009505</td>\n",
       "      <td>0.026425</td>\n",
       "      <td>-0.013459</td>\n",
       "      <td>0.000000</td>\n",
       "      <td>0.000000</td>\n",
       "      <td>0.000000</td>\n",
       "      <td>0.000000</td>\n",
       "      <td>0.000000</td>\n",
       "      <td>0.000000</td>\n",
       "      <td>0.000000</td>\n",
       "    </tr>\n",
       "    <tr>\n",
       "      <th>25%</th>\n",
       "      <td>0.532159</td>\n",
       "      <td>0.360418</td>\n",
       "      <td>1.000000</td>\n",
       "      <td>0.216580</td>\n",
       "      <td>1.000000</td>\n",
       "      <td>1.000000</td>\n",
       "      <td>1.000000</td>\n",
       "      <td>3.637586</td>\n",
       "      <td>0.000000</td>\n",
       "      <td>0.000000</td>\n",
       "      <td>1.871802</td>\n",
       "      <td>0.000000</td>\n",
       "      <td>0.000000</td>\n",
       "      <td>0.000000</td>\n",
       "    </tr>\n",
       "    <tr>\n",
       "      <th>50%</th>\n",
       "      <td>0.751170</td>\n",
       "      <td>1.000000</td>\n",
       "      <td>1.000000</td>\n",
       "      <td>0.456016</td>\n",
       "      <td>1.000000</td>\n",
       "      <td>1.000000</td>\n",
       "      <td>1.000000</td>\n",
       "      <td>3.637586</td>\n",
       "      <td>0.000000</td>\n",
       "      <td>0.000000</td>\n",
       "      <td>2.564949</td>\n",
       "      <td>0.000000</td>\n",
       "      <td>0.000000</td>\n",
       "      <td>0.000000</td>\n",
       "    </tr>\n",
       "    <tr>\n",
       "      <th>75%</th>\n",
       "      <td>0.986195</td>\n",
       "      <td>1.000000</td>\n",
       "      <td>1.000000</td>\n",
       "      <td>0.807519</td>\n",
       "      <td>1.000000</td>\n",
       "      <td>1.000000</td>\n",
       "      <td>1.000000</td>\n",
       "      <td>3.637586</td>\n",
       "      <td>1.730214</td>\n",
       "      <td>0.000000</td>\n",
       "      <td>3.637586</td>\n",
       "      <td>0.000000</td>\n",
       "      <td>0.000000</td>\n",
       "      <td>0.000000</td>\n",
       "    </tr>\n",
       "    <tr>\n",
       "      <th>max</th>\n",
       "      <td>1.000000</td>\n",
       "      <td>1.000000</td>\n",
       "      <td>1.000000</td>\n",
       "      <td>1.000000</td>\n",
       "      <td>1.000000</td>\n",
       "      <td>1.000000</td>\n",
       "      <td>1.000000</td>\n",
       "      <td>3.637586</td>\n",
       "      <td>3.637586</td>\n",
       "      <td>3.258097</td>\n",
       "      <td>3.637586</td>\n",
       "      <td>3.637586</td>\n",
       "      <td>3.637586</td>\n",
       "      <td>3.637586</td>\n",
       "    </tr>\n",
       "  </tbody>\n",
       "</table>\n",
       "</div>"
      ],
      "text/plain": [
       "              Who       Where        When        What         Why         How  \\\n",
       "count  100.000000  100.000000  100.000000  100.000000  100.000000  100.000000   \n",
       "mean     0.712144    0.751508    0.923311    0.496864    0.908617    0.860216   \n",
       "std      0.254961    0.338036    0.233606    0.327958    0.259196    0.309860   \n",
       "min      0.072305    0.076060    0.187566   -0.011613   -0.009505    0.026425   \n",
       "25%      0.532159    0.360418    1.000000    0.216580    1.000000    1.000000   \n",
       "50%      0.751170    1.000000    1.000000    0.456016    1.000000    1.000000   \n",
       "75%      0.986195    1.000000    1.000000    0.807519    1.000000    1.000000   \n",
       "max      1.000000    1.000000    1.000000    1.000000    1.000000    1.000000   \n",
       "\n",
       "       Additional information       Who_w     Where_w      When_w      What_w  \\\n",
       "count              100.000000  100.000000  100.000000  100.000000  100.000000   \n",
       "mean                 0.870180    3.216180    0.952474    0.083880    2.465364   \n",
       "std                  0.293922    0.979224    1.417860    0.492678    1.268416   \n",
       "min                 -0.013459    0.000000    0.000000    0.000000    0.000000   \n",
       "25%                  1.000000    3.637586    0.000000    0.000000    1.871802   \n",
       "50%                  1.000000    3.637586    0.000000    0.000000    2.564949   \n",
       "75%                  1.000000    3.637586    1.730214    0.000000    3.637586   \n",
       "max                  1.000000    3.637586    3.637586    3.258097    3.637586   \n",
       "\n",
       "            Why_w       How_w  Additional information_w  \n",
       "count  100.000000  100.000000                100.000000  \n",
       "mean     0.155714    0.248701                  0.405521  \n",
       "std      0.691334    0.747393                  1.052825  \n",
       "min      0.000000    0.000000                  0.000000  \n",
       "25%      0.000000    0.000000                  0.000000  \n",
       "50%      0.000000    0.000000                  0.000000  \n",
       "75%      0.000000    0.000000                  0.000000  \n",
       "max      3.637586    3.637586                  3.637586  "
      ]
     },
     "execution_count": 3,
     "metadata": {},
     "output_type": "execute_result"
    }
   ],
   "source": [
    "dataframe.describe()"
   ]
  },
  {
   "cell_type": "code",
   "execution_count": 4,
   "metadata": {},
   "outputs": [
    {
     "name": "stdout",
     "output_type": "stream",
     "text": [
      "CLASS\n",
      "contradiction    27\n",
      "entailment       42\n",
      "neutral          31\n",
      "dtype: int64\n"
     ]
    }
   ],
   "source": [
    "print(dataframe.groupby('CLASS').size())"
   ]
  },
  {
   "cell_type": "code",
   "execution_count": 5,
   "metadata": {},
   "outputs": [
    {
     "data": {
      "image/png": "[encoded data removed]",
      "text/plain": [
       "<Figure size 2000x1000 with 16 Axes>"
      ]
     },
     "metadata": {},
     "output_type": "display_data"
    }
   ],
   "source": [
    "dataframe.hist(figsize=(20,10))\n",
    "plt.show()"
   ]
  },
  {
   "cell_type": "code",
   "execution_count": 6,
   "metadata": {},
   "outputs": [],
   "source": [
    "#sb.pairplot(dataframe.dropna(), hue='CLASS',size=4,vars=['Who','Where','When','What','Why','How','Additional information'],kind='reg')"
   ]
  },
  {
   "cell_type": "code",
   "execution_count": 7,
   "metadata": {},
   "outputs": [
    {
     "name": "stderr",
     "output_type": "stream",
     "text": [
      "C:\\Users\\Ninja\\AppData\\Local\\Temp\\ipykernel_15108\\1802400925.py:1: FutureWarning: In a future version of pandas all arguments of DataFrame.drop except for the argument 'labels' will be keyword-only.\n",
      "  X = np.array(dataframe.drop(['CLASS'],1))\n",
      "C:\\Users\\Ninja\\AppData\\Local\\Temp\\ipykernel_15108\\1802400925.py:2: FutureWarning: In a future version of pandas all arguments of DataFrame.drop except for the argument 'labels' will be keyword-only.\n",
      "  X_test = np.array(dataframe.drop(['CLASS'],1))\n"
     ]
    },
    {
     "data": {
      "text/plain": [
       "(100, 14)"
      ]
     },
     "execution_count": 7,
     "metadata": {},
     "output_type": "execute_result"
    }
   ],
   "source": [
    "X = np.array(dataframe.drop(['CLASS'],1))\n",
    "X_test = np.array(dataframe.drop(['CLASS'],1))\n",
    "y = np.array(dataframe['CLASS'])\n",
    "y_test =np.array(dataframe['CLASS'])\n",
    "X.shape"
   ]
  },
  {
   "cell_type": "code",
   "execution_count": 8,
   "metadata": {},
   "outputs": [
    {
     "data": {
      "text/plain": [
       "array(['entailment', 'entailment', 'contradiction', 'contradiction',\n",
       "       'neutral', 'neutral', 'neutral', 'entailment', 'neutral',\n",
       "       'entailment', 'neutral', 'contradiction', 'entailment',\n",
       "       'contradiction', 'neutral', 'neutral', 'entailment',\n",
       "       'contradiction', 'contradiction', 'entailment', 'entailment',\n",
       "       'entailment', 'neutral', 'contradiction', 'entailment', 'neutral',\n",
       "       'entailment', 'entailment', 'entailment', 'neutral', 'neutral',\n",
       "       'contradiction', 'contradiction', 'entailment', 'contradiction',\n",
       "       'neutral', 'entailment', 'neutral', 'neutral', 'entailment',\n",
       "       'neutral', 'neutral', 'contradiction', 'neutral', 'entailment',\n",
       "       'neutral', 'neutral', 'entailment', 'contradiction', 'neutral',\n",
       "       'entailment', 'entailment', 'neutral', 'entailment',\n",
       "       'contradiction', 'entailment', 'entailment', 'neutral', 'neutral',\n",
       "       'neutral', 'neutral', 'neutral', 'neutral', 'entailment',\n",
       "       'entailment', 'contradiction', 'entailment', 'entailment',\n",
       "       'neutral', 'contradiction', 'entailment', 'contradiction',\n",
       "       'contradiction', 'contradiction', 'neutral', 'entailment',\n",
       "       'entailment', 'entailment', 'entailment', 'contradiction',\n",
       "       'neutral', 'entailment', 'entailment', 'entailment',\n",
       "       'contradiction', 'entailment', 'entailment', 'entailment',\n",
       "       'contradiction', 'contradiction', 'contradiction', 'neutral',\n",
       "       'entailment', 'entailment', 'contradiction', 'entailment',\n",
       "       'entailment', 'contradiction', 'contradiction', 'contradiction'],\n",
       "      dtype=object)"
      ]
     },
     "execution_count": 8,
     "metadata": {},
     "output_type": "execute_result"
    }
   ],
   "source": [
    "y_test"
   ]
  },
  {
   "cell_type": "code",
   "execution_count": 9,
   "metadata": {},
   "outputs": [
    {
     "data": {
      "text/plain": [
       "array(['entailment', 'entailment', 'contradiction', 'contradiction',\n",
       "       'neutral', 'neutral', 'neutral', 'entailment', 'neutral',\n",
       "       'entailment', 'neutral', 'contradiction', 'entailment',\n",
       "       'contradiction', 'neutral', 'neutral', 'entailment',\n",
       "       'contradiction', 'contradiction', 'entailment', 'entailment',\n",
       "       'entailment', 'neutral', 'contradiction', 'entailment', 'neutral',\n",
       "       'entailment', 'entailment', 'entailment', 'neutral', 'neutral',\n",
       "       'contradiction', 'contradiction', 'entailment', 'contradiction',\n",
       "       'neutral', 'entailment', 'neutral', 'neutral', 'entailment',\n",
       "       'neutral', 'neutral', 'contradiction', 'neutral', 'entailment',\n",
       "       'neutral', 'neutral', 'entailment', 'contradiction', 'neutral',\n",
       "       'entailment', 'entailment', 'neutral', 'entailment',\n",
       "       'contradiction', 'entailment', 'entailment', 'neutral', 'neutral',\n",
       "       'neutral', 'neutral', 'neutral', 'neutral', 'entailment',\n",
       "       'entailment', 'contradiction', 'entailment', 'entailment',\n",
       "       'neutral', 'contradiction', 'entailment', 'contradiction',\n",
       "       'contradiction', 'contradiction', 'neutral', 'entailment',\n",
       "       'entailment', 'entailment', 'entailment', 'contradiction',\n",
       "       'neutral', 'entailment', 'entailment', 'entailment',\n",
       "       'contradiction', 'entailment', 'entailment', 'entailment',\n",
       "       'contradiction', 'contradiction', 'contradiction', 'neutral',\n",
       "       'entailment', 'entailment', 'contradiction', 'entailment',\n",
       "       'entailment', 'contradiction', 'contradiction', 'contradiction'],\n",
       "      dtype=object)"
      ]
     },
     "execution_count": 9,
     "metadata": {},
     "output_type": "execute_result"
    }
   ],
   "source": [
    "y"
   ]
  },
  {
   "cell_type": "code",
   "execution_count": 10,
   "metadata": {},
   "outputs": [
    {
     "data": {
      "text/plain": [
       "LogisticRegression(C=0.1)"
      ]
     },
     "execution_count": 10,
     "metadata": {},
     "output_type": "execute_result"
    }
   ],
   "source": [
    "model = linear_model.LogisticRegression(penalty=\"l2\", C=0.1)\n",
    "model.fit(X,y)"
   ]
  },
  {
   "cell_type": "code",
   "execution_count": 11,
   "metadata": {},
   "outputs": [
    {
     "data": {
      "text/plain": [
       "{'C': 0.1,\n",
       " 'class_weight': None,\n",
       " 'dual': False,\n",
       " 'fit_intercept': True,\n",
       " 'intercept_scaling': 1,\n",
       " 'l1_ratio': None,\n",
       " 'max_iter': 100,\n",
       " 'multi_class': 'auto',\n",
       " 'n_jobs': None,\n",
       " 'penalty': 'l2',\n",
       " 'random_state': None,\n",
       " 'solver': 'lbfgs',\n",
       " 'tol': 0.0001,\n",
       " 'verbose': 0,\n",
       " 'warm_start': False}"
      ]
     },
     "execution_count": 11,
     "metadata": {},
     "output_type": "execute_result"
    }
   ],
   "source": [
    "model.get_params()"
   ]
  },
  {
   "cell_type": "code",
   "execution_count": 12,
   "metadata": {},
   "outputs": [
    {
     "data": {
      "text/plain": [
       "array([[ 9.80427403e-02,  1.86846693e-01, -2.84889433e-01],\n",
       "       [-5.71259724e-01,  8.82093577e-01, -3.10833853e-01],\n",
       "       [-3.72664288e-01,  2.77212856e-01,  9.54514316e-02],\n",
       "       [ 3.24815609e-01,  2.27141966e-01, -5.51957575e-01],\n",
       "       [-6.90929033e-01,  3.05317332e-01,  3.85611701e-01],\n",
       "       [-4.38249940e-01,  1.94121395e-01,  2.44128545e-01],\n",
       "       [-1.34871492e+00, -5.41956865e-01,  1.89067179e+00],\n",
       "       [-6.67761860e-01,  3.82251355e-01,  2.85510505e-01],\n",
       "       [-8.56186567e-01, -6.43978080e-01,  1.50016465e+00],\n",
       "       [ 3.40659819e-02,  3.43137141e-01, -3.77203123e-01],\n",
       "       [-6.91368000e-03,  8.53850684e-02, -7.84713884e-02],\n",
       "       [ 1.66862699e-01,  1.58075682e-01, -3.24938381e-01],\n",
       "       [-6.79362047e-03,  5.04944143e-01, -4.98150522e-01],\n",
       "       [ 1.62450635e-01, -1.43055746e-01, -1.93948896e-02],\n",
       "       [-6.78439531e-01,  1.44631421e-01,  5.33808110e-01],\n",
       "       [-1.11967443e+00,  3.72824173e-01,  7.46850259e-01],\n",
       "       [-5.38042932e-01,  7.24507697e-01, -1.86464765e-01],\n",
       "       [-5.80691717e-01,  3.07352956e-01,  2.73338760e-01],\n",
       "       [ 6.75191341e-02,  4.88408109e-01, -5.55927243e-01],\n",
       "       [-2.05634254e-02,  3.36927837e-01, -3.16364412e-01],\n",
       "       [-2.34724060e-01,  3.82150957e-01, -1.47426897e-01],\n",
       "       [-2.14653798e-03,  3.99837338e-01, -3.97690800e-01],\n",
       "       [-1.78787725e-01,  5.30380803e-02,  1.25749645e-01],\n",
       "       [-1.79554230e-02,  3.59710287e-01, -3.41754864e-01],\n",
       "       [ 5.30787025e-02,  4.15387640e-01, -4.68466342e-01],\n",
       "       [ 2.25109234e-02,  8.40227544e-02, -1.06533678e-01],\n",
       "       [ 4.77041806e-02,  2.80169742e-01, -3.27873922e-01],\n",
       "       [-5.31757199e-01,  5.16565093e-01,  1.51921061e-02],\n",
       "       [-7.19912334e-01,  5.06645934e-01,  2.13266400e-01],\n",
       "       [ 1.29701594e-02,  1.10021736e-01, -1.22991895e-01],\n",
       "       [-6.07778812e-02,  1.40556730e-01, -7.97788488e-02],\n",
       "       [ 1.52997423e-01,  4.31511338e-01, -5.84508762e-01],\n",
       "       [-8.43876790e-03,  2.76599873e-01, -2.68161105e-01],\n",
       "       [-9.54665997e-03,  6.14867583e-01, -6.05320924e-01],\n",
       "       [ 1.00895245e-01, -6.60032201e-01,  5.59136956e-01],\n",
       "       [ 1.15231250e-01,  1.92973710e-01, -3.08204959e-01],\n",
       "       [-9.11703655e-01,  5.30564346e-01,  3.81139308e-01],\n",
       "       [ 2.48077522e-01, -1.14230068e-01, -1.33847454e-01],\n",
       "       [ 1.27190922e-01,  1.96443460e-01, -3.23634382e-01],\n",
       "       [-4.97572426e-01,  4.25003846e-01,  7.25685798e-02],\n",
       "       [-1.78234685e-01,  5.00912570e-02,  1.28143428e-01],\n",
       "       [-7.06832483e-01,  2.33129322e-01,  4.73703161e-01],\n",
       "       [-1.60162483e-03,  6.87456446e-02, -6.71440198e-02],\n",
       "       [-1.08558412e-01, -5.52360281e-02,  1.63794440e-01],\n",
       "       [ 1.78521807e-01,  1.00285107e-01, -2.78806914e-01],\n",
       "       [-2.61251631e-01,  1.15809128e-01,  1.45442502e-01],\n",
       "       [-1.02816943e-01,  3.35569431e-01, -2.32752488e-01],\n",
       "       [ 1.89851607e-01,  6.30839899e-01, -8.20691507e-01],\n",
       "       [ 5.71847676e-02,  1.47858103e-01, -2.05042870e-01],\n",
       "       [-6.02352854e-01, -1.99562465e-01,  8.01915318e-01],\n",
       "       [-9.14228828e-02,  5.70384644e-01, -4.78961762e-01],\n",
       "       [-1.60035314e-01,  6.15691542e-01, -4.55656228e-01],\n",
       "       [-3.98573395e-01,  2.79256877e-01,  1.19316518e-01],\n",
       "       [ 4.39480397e-02,  4.28528740e-01, -4.72476780e-01],\n",
       "       [ 4.16764677e-02,  3.94555399e-01, -4.36231867e-01],\n",
       "       [ 2.32852049e-03,  5.29251151e-01, -5.31579671e-01],\n",
       "       [-1.12869947e-01,  7.16603654e-01, -6.03733707e-01],\n",
       "       [-6.14702441e-01,  1.84043114e-01,  4.30659327e-01],\n",
       "       [-5.57094807e-01,  4.83549692e-01,  7.35451150e-02],\n",
       "       [-1.12869947e-01,  7.16603654e-01, -6.03733707e-01],\n",
       "       [-6.98034530e-01,  2.77752192e-01,  4.20282337e-01],\n",
       "       [-6.09519241e-02,  8.67474403e-02, -2.57955161e-02],\n",
       "       [-4.93530613e-01,  3.64186943e-01,  1.29343670e-01],\n",
       "       [-9.88353983e-02,  5.26974993e-01, -4.28139595e-01],\n",
       "       [-4.77957445e-01,  6.38902446e-01, -1.60945001e-01],\n",
       "       [-3.32328127e-02,  3.53320046e-01, -3.20087233e-01],\n",
       "       [-4.56516001e-02,  5.47875757e-01, -5.02224157e-01],\n",
       "       [-7.22341023e-01,  8.02898613e-02,  6.42051162e-01],\n",
       "       [ 8.59105664e-02,  3.38764825e-01, -4.24675391e-01],\n",
       "       [ 1.50975186e-01, -4.86540296e-02, -1.02321157e-01],\n",
       "       [-7.62542750e-01,  4.92409749e-01,  2.70133001e-01],\n",
       "       [ 2.04175757e-01, -1.30934709e-01, -7.32410475e-02],\n",
       "       [ 2.48003536e-01,  1.04754969e-01, -3.52758505e-01],\n",
       "       [-8.24710072e-01,  6.58732637e-01,  1.65977435e-01],\n",
       "       [ 1.58778390e-01,  1.24268511e-01, -2.83046900e-01],\n",
       "       [-6.22987657e-01,  4.87774140e-01,  1.35213517e-01],\n",
       "       [-3.67298608e-01,  6.25363859e-01, -2.58065251e-01],\n",
       "       [-6.74205281e-01,  6.89100692e-01, -1.48954116e-02],\n",
       "       [-2.81860807e-01,  5.51298455e-01, -2.69437648e-01],\n",
       "       [ 5.94698326e-04,  3.36546723e-01, -3.37141421e-01],\n",
       "       [-1.64101898e-01,  1.61996566e-01,  2.10533169e-03],\n",
       "       [-1.46584245e-01,  2.78611072e-01, -1.32026827e-01],\n",
       "       [-4.16636362e-01,  4.68683013e-01, -5.20466513e-02],\n",
       "       [-9.04195081e-02,  2.81610818e-01, -1.91191310e-01],\n",
       "       [ 3.32166141e-01,  8.52388552e-02, -4.17404997e-01],\n",
       "       [-9.20244854e-02,  1.37153946e-01, -4.51294611e-02],\n",
       "       [-7.79094808e-01,  3.05050194e-01,  4.74044614e-01],\n",
       "       [-6.59442419e-02,  1.83701984e-01, -1.17757742e-01],\n",
       "       [-1.12869947e-01,  7.16603654e-01, -6.03733707e-01],\n",
       "       [-4.76782620e-03,  4.30637894e-01, -4.25870068e-01],\n",
       "       [-5.95055739e-01,  2.11657982e-01,  3.83397756e-01],\n",
       "       [-1.32771755e-01, -8.30721211e-01,  9.63492966e-01],\n",
       "       [ 7.02620103e-03,  5.29273750e-02, -5.99535761e-02],\n",
       "       [-2.79859191e-01,  3.55696141e-01, -7.58369499e-02],\n",
       "       [-2.21283420e-01, -7.48290204e-02,  2.96112441e-01],\n",
       "       [ 1.33941634e-01,  2.86224757e-01, -4.20166392e-01],\n",
       "       [-5.66784084e-02,  5.26432506e-01, -4.69754097e-01],\n",
       "       [ 2.93833291e-01, -4.26305921e-02, -2.51202699e-01],\n",
       "       [ 2.32915876e-02,  1.81284760e-01, -2.04576348e-01],\n",
       "       [ 9.03277671e-02,  1.04425825e-02, -1.00770350e-01]])"
      ]
     },
     "execution_count": 12,
     "metadata": {},
     "output_type": "execute_result"
    }
   ],
   "source": [
    "model.decision_function(X)"
   ]
  },
  {
   "cell_type": "code",
   "execution_count": 13,
   "metadata": {},
   "outputs": [],
   "source": [
    "labels=np.array(['Who','Where','When','What','Why','How','Additional information','Who_w','Where_w','When_w','What_w','Why_w','How_w','Additional information_w'])"
   ]
  },
  {
   "cell_type": "code",
   "execution_count": 14,
   "metadata": {},
   "outputs": [
    {
     "data": {
      "text/plain": [
       "array(['contradiction', 'entailment', 'neutral'], dtype=object)"
      ]
     },
     "execution_count": 14,
     "metadata": {},
     "output_type": "execute_result"
    }
   ],
   "source": [
    "model.classes_"
   ]
  },
  {
   "cell_type": "code",
   "execution_count": 15,
   "metadata": {},
   "outputs": [],
   "source": [
    "contradiction=model.coef_[0]\n",
    "entailment=model.coef_[1]\n",
    "neutral=model.coef_[2]"
   ]
  },
  {
   "cell_type": "code",
   "execution_count": 16,
   "metadata": {},
   "outputs": [
    {
     "name": "stdout",
     "output_type": "stream",
     "text": [
      "Contradiction  10 What_w 0 Who\n",
      "Entailment  3 What 11 Why_w\n",
      "Neutral  11 Why_w 3 What\n"
     ]
    }
   ],
   "source": [
    "print(\"Contradiction \",np.argmax(contradiction),labels[np.argmax(contradiction)],np.argmin(contradiction),labels[np.argmin(contradiction)])\n",
    "print(\"Entailment \",np.argmax(entailment),labels[np.argmax(entailment)],np.argmin(entailment),labels[np.argmin(entailment)])\n",
    "print(\"Neutral \",np.argmax(neutral),labels[np.argmax(neutral)],np.argmin(neutral),labels[np.argmin(neutral)])"
   ]
  },
  {
   "cell_type": "code",
   "execution_count": 17,
   "metadata": {},
   "outputs": [
    {
     "data": {
      "image/png": "[encoded data removed]",
      "text/plain": [
       "<Figure size 640x480 with 1 Axes>"
      ]
     },
     "metadata": {},
     "output_type": "display_data"
    }
   ],
   "source": [
    "import matplotlib.pyplot as plt\n",
    "import numpy as np\n",
    "\n",
    "x_v = np.arange(0,14,1)\n",
    "y_v = contradiction\n",
    "\n",
    "plt.bar(x_v,y_v)\n",
    "plt.xlabel('x')\n",
    "plt.ylabel('y')\n",
    "plt.title('Contradiction')\n",
    "plt.show()"
   ]
  },
  {
   "cell_type": "code",
   "execution_count": 18,
   "metadata": {},
   "outputs": [
    {
     "data": {
      "image/png": "[encoded data removed]",
      "text/plain": [
       "<Figure size 640x480 with 1 Axes>"
      ]
     },
     "metadata": {},
     "output_type": "display_data"
    }
   ],
   "source": [
    "x_v = np.arange(0,14,1)\n",
    "y_v = entailment\n",
    "\n",
    "plt.bar(x_v,y_v)\n",
    "plt.xlabel('x')\n",
    "plt.ylabel('y')\n",
    "plt.title('Entailment')\n",
    "plt.show()"
   ]
  },
  {
   "cell_type": "code",
   "execution_count": 19,
   "metadata": {},
   "outputs": [
    {
     "data": {
      "image/png": "[encoded data removed]",
      "text/plain": [
       "<Figure size 640x480 with 1 Axes>"
      ]
     },
     "metadata": {},
     "output_type": "display_data"
    }
   ],
   "source": [
    "x_v = np.arange(0,14,1)\n",
    "y_v = neutral\n",
    "\n",
    "plt.bar(x_v,y_v)\n",
    "plt.xlabel('x')\n",
    "plt.ylabel('y')\n",
    "plt.title('Neutral')\n",
    "plt.show()"
   ]
  },
  {
   "cell_type": "code",
   "execution_count": 20,
   "metadata": {},
   "outputs": [
    {
     "name": "stdout",
     "output_type": "stream",
     "text": [
      "['entailment' 'entailment' 'entailment' 'contradiction' 'neutral'\n",
      " 'neutral' 'neutral' 'entailment' 'neutral' 'entailment' 'entailment'\n",
      " 'contradiction' 'entailment' 'contradiction' 'neutral' 'neutral'\n",
      " 'entailment' 'entailment' 'entailment' 'entailment' 'entailment'\n",
      " 'entailment' 'neutral' 'entailment' 'entailment' 'entailment'\n",
      " 'entailment' 'entailment' 'entailment' 'entailment' 'entailment'\n",
      " 'entailment' 'entailment' 'entailment' 'neutral' 'entailment'\n",
      " 'entailment' 'contradiction' 'entailment' 'entailment' 'neutral'\n",
      " 'neutral' 'entailment' 'neutral' 'contradiction' 'neutral' 'entailment'\n",
      " 'entailment' 'entailment' 'neutral' 'entailment' 'entailment'\n",
      " 'entailment' 'entailment' 'entailment' 'entailment' 'entailment'\n",
      " 'neutral' 'entailment' 'entailment' 'neutral' 'entailment' 'entailment'\n",
      " 'entailment' 'entailment' 'entailment' 'entailment' 'neutral'\n",
      " 'entailment' 'contradiction' 'entailment' 'contradiction' 'contradiction'\n",
      " 'entailment' 'contradiction' 'entailment' 'entailment' 'entailment'\n",
      " 'entailment' 'entailment' 'entailment' 'entailment' 'entailment'\n",
      " 'entailment' 'contradiction' 'entailment' 'neutral' 'entailment'\n",
      " 'entailment' 'entailment' 'neutral' 'neutral' 'entailment' 'entailment'\n",
      " 'neutral' 'entailment' 'entailment' 'contradiction' 'entailment'\n",
      " 'contradiction']\n"
     ]
    }
   ],
   "source": [
    "predictions = model.predict(X)\n",
    "print(predictions)"
   ]
  },
  {
   "cell_type": "code",
   "execution_count": 21,
   "metadata": {},
   "outputs": [
    {
     "data": {
      "text/plain": [
       "array(['entailment', 'entailment', 'contradiction', 'contradiction',\n",
       "       'neutral', 'neutral', 'neutral', 'entailment', 'neutral',\n",
       "       'entailment', 'neutral', 'contradiction', 'entailment',\n",
       "       'contradiction', 'neutral', 'neutral', 'entailment',\n",
       "       'contradiction', 'contradiction', 'entailment', 'entailment',\n",
       "       'entailment', 'neutral', 'contradiction', 'entailment', 'neutral',\n",
       "       'entailment', 'entailment', 'entailment', 'neutral', 'neutral',\n",
       "       'contradiction', 'contradiction', 'entailment', 'contradiction',\n",
       "       'neutral', 'entailment', 'neutral', 'neutral', 'entailment',\n",
       "       'neutral', 'neutral', 'contradiction', 'neutral', 'entailment',\n",
       "       'neutral', 'neutral', 'entailment', 'contradiction', 'neutral',\n",
       "       'entailment', 'entailment', 'neutral', 'entailment',\n",
       "       'contradiction', 'entailment', 'entailment', 'neutral', 'neutral',\n",
       "       'neutral', 'neutral', 'neutral', 'neutral', 'entailment',\n",
       "       'entailment', 'contradiction', 'entailment', 'entailment',\n",
       "       'neutral', 'contradiction', 'entailment', 'contradiction',\n",
       "       'contradiction', 'contradiction', 'neutral', 'entailment',\n",
       "       'entailment', 'entailment', 'entailment', 'contradiction',\n",
       "       'neutral', 'entailment', 'entailment', 'entailment',\n",
       "       'contradiction', 'entailment', 'entailment', 'entailment',\n",
       "       'contradiction', 'contradiction', 'contradiction', 'neutral',\n",
       "       'entailment', 'entailment', 'contradiction', 'entailment',\n",
       "       'entailment', 'contradiction', 'contradiction', 'contradiction'],\n",
       "      dtype=object)"
      ]
     },
     "execution_count": 21,
     "metadata": {},
     "output_type": "execute_result"
    }
   ],
   "source": [
    "y"
   ]
  },
  {
   "cell_type": "code",
   "execution_count": 22,
   "metadata": {},
   "outputs": [
    {
     "data": {
      "text/plain": [
       "array([[0.69678307, 0.07605992, 1.        , ..., 0.        , 0.        ,\n",
       "        0.        ],\n",
       "       [0.76258183, 1.        , 1.        , ..., 0.        , 0.        ,\n",
       "        3.63758616],\n",
       "       [0.88135707, 0.26540822, 1.        , ..., 0.        , 0.        ,\n",
       "        0.        ],\n",
       "       ...,\n",
       "       [0.07230499, 1.        , 1.        , ..., 0.        , 0.        ,\n",
       "        0.        ],\n",
       "       [0.65567434, 1.        , 1.        , ..., 0.        , 0.        ,\n",
       "        0.        ],\n",
       "       [0.61532092, 1.        , 1.        , ..., 0.        , 0.        ,\n",
       "        0.        ]])"
      ]
     },
     "execution_count": 22,
     "metadata": {},
     "output_type": "execute_result"
    }
   ],
   "source": [
    "X"
   ]
  },
  {
   "cell_type": "code",
   "execution_count": 23,
   "metadata": {},
   "outputs": [
    {
     "data": {
      "text/plain": [
       "0.63"
      ]
     },
     "execution_count": 23,
     "metadata": {},
     "output_type": "execute_result"
    }
   ],
   "source": [
    "model.score(X,y)"
   ]
  },
  {
   "cell_type": "code",
   "execution_count": 24,
   "metadata": {},
   "outputs": [],
   "source": [
    "validation_size = 0.10\n",
    "seed = 7\n",
    "X_train, X_validation, Y_train, Y_validation = model_selection.train_test_split(X, y, test_size=validation_size)"
   ]
  },
  {
   "cell_type": "code",
   "execution_count": 25,
   "metadata": {},
   "outputs": [
    {
     "name": "stdout",
     "output_type": "stream",
     "text": [
      "Logistic Regression: 0.466667 (0.184592)\n"
     ]
    }
   ],
   "source": [
    "name='Logistic Regression'\n",
    "kfold = model_selection.KFold(n_splits=10)\n",
    "cv_results = model_selection.cross_val_score(model, X_train, Y_train, cv=kfold, scoring='accuracy')\n",
    "msg = \"%s: %f (%f)\" % (name, cv_results.mean(), cv_results.std())\n",
    "print(msg)"
   ]
  },
  {
   "cell_type": "code",
   "execution_count": 26,
   "metadata": {},
   "outputs": [
    {
     "name": "stdout",
     "output_type": "stream",
     "text": [
      "0.6\n"
     ]
    }
   ],
   "source": [
    "predictions = model.predict(X_validation)\n",
    "print(accuracy_score(Y_validation, predictions))"
   ]
  },
  {
   "cell_type": "code",
   "execution_count": 27,
   "metadata": {},
   "outputs": [
    {
     "data": {
      "text/plain": [
       "array(['contradiction', 'entailment', 'neutral'], dtype=object)"
      ]
     },
     "execution_count": 27,
     "metadata": {},
     "output_type": "execute_result"
    }
   ],
   "source": [
    "model.classes_"
   ]
  },
  {
   "cell_type": "code",
   "execution_count": 28,
   "metadata": {},
   "outputs": [
    {
     "name": "stdout",
     "output_type": "stream",
     "text": [
      "[[1 2 0]\n",
      " [0 5 0]\n",
      " [0 2 0]]\n"
     ]
    }
   ],
   "source": [
    "print(confusion_matrix(Y_validation, predictions,labels=model.classes_))"
   ]
  },
  {
   "cell_type": "code",
   "execution_count": 29,
   "metadata": {},
   "outputs": [
    {
     "name": "stdout",
     "output_type": "stream",
     "text": [
      "               precision    recall  f1-score   support\n",
      "\n",
      "contradiction       1.00      0.33      0.50         3\n",
      "   entailment       0.56      1.00      0.71         5\n",
      "      neutral       0.00      0.00      0.00         2\n",
      "\n",
      "     accuracy                           0.60        10\n",
      "    macro avg       0.52      0.44      0.40        10\n",
      " weighted avg       0.58      0.60      0.51        10\n",
      "\n"
     ]
    },
    {
     "name": "stderr",
     "output_type": "stream",
     "text": [
      "c:\\Users\\Ninja\\anaconda3\\lib\\site-packages\\sklearn\\metrics\\_classification.py:1318: UndefinedMetricWarning: Precision and F-score are ill-defined and being set to 0.0 in labels with no predicted samples. Use `zero_division` parameter to control this behavior.\n",
      "  _warn_prf(average, modifier, msg_start, len(result))\n",
      "c:\\Users\\Ninja\\anaconda3\\lib\\site-packages\\sklearn\\metrics\\_classification.py:1318: UndefinedMetricWarning: Precision and F-score are ill-defined and being set to 0.0 in labels with no predicted samples. Use `zero_division` parameter to control this behavior.\n",
      "  _warn_prf(average, modifier, msg_start, len(result))\n",
      "c:\\Users\\Ninja\\anaconda3\\lib\\site-packages\\sklearn\\metrics\\_classification.py:1318: UndefinedMetricWarning: Precision and F-score are ill-defined and being set to 0.0 in labels with no predicted samples. Use `zero_division` parameter to control this behavior.\n",
      "  _warn_prf(average, modifier, msg_start, len(result))\n"
     ]
    }
   ],
   "source": [
    "print(classification_report(Y_validation, predictions))"
   ]
  }
 ],
 "metadata": {
  "kernelspec": {
   "display_name": "Python 3",
   "language": "python",
   "name": "python3"
  },
  "language_info": {
   "codemirror_mode": {
    "name": "ipython",
    "version": 3
   },
   "file_extension": ".py",
   "mimetype": "text/x-python",
   "name": "python",
   "nbconvert_exporter": "python",
   "pygments_lexer": "ipython3",
   "version": "3.9.13"
  }
 },
 "nbformat": 4,
 "nbformat_minor": 2
}
