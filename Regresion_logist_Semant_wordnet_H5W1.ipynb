{
 "cells": [
  {
   "cell_type": "code",
   "execution_count": 1,
   "metadata": {},
   "outputs": [],
   "source": [
    "import pandas as pd\n",
    "import numpy as np\n",
    "from sklearn import linear_model\n",
    "from sklearn import model_selection\n",
    "from sklearn.metrics import classification_report\n",
    "from sklearn.metrics import confusion_matrix\n",
    "from sklearn.metrics import accuracy_score\n",
    "import matplotlib.pyplot as plt\n",
    "import seaborn as sb"
   ]
  },
  {
   "cell_type": "code",
   "execution_count": 2,
   "metadata": {},
   "outputs": [
    {
     "data": {
      "text/html": [
       "<div>\n",
       "<style scoped>\n",
       "    .dataframe tbody tr th:only-of-type {\n",
       "        vertical-align: middle;\n",
       "    }\n",
       "\n",
       "    .dataframe tbody tr th {\n",
       "        vertical-align: top;\n",
       "    }\n",
       "\n",
       "    .dataframe thead th {\n",
       "        text-align: right;\n",
       "    }\n",
       "</style>\n",
       "<table border=\"1\" class=\"dataframe\">\n",
       "  <thead>\n",
       "    <tr style=\"text-align: right;\">\n",
       "      <th></th>\n",
       "      <th>Who</th>\n",
       "      <th>Where</th>\n",
       "      <th>When</th>\n",
       "      <th>What</th>\n",
       "      <th>Why</th>\n",
       "      <th>How</th>\n",
       "      <th>Additional information</th>\n",
       "      <th>CLASS</th>\n",
       "      <th>Who_w</th>\n",
       "      <th>Where_w</th>\n",
       "      <th>When_w</th>\n",
       "      <th>What_w</th>\n",
       "      <th>Why_w</th>\n",
       "      <th>How_w</th>\n",
       "      <th>Additional information_w</th>\n",
       "    </tr>\n",
       "  </thead>\n",
       "  <tbody>\n",
       "    <tr>\n",
       "      <th>0</th>\n",
       "      <td>0.696783</td>\n",
       "      <td>0.076060</td>\n",
       "      <td>1.0</td>\n",
       "      <td>0.505262</td>\n",
       "      <td>1.0</td>\n",
       "      <td>1.0</td>\n",
       "      <td>1.000000</td>\n",
       "      <td>entailment</td>\n",
       "      <td>0.800000</td>\n",
       "      <td>-1.000000</td>\n",
       "      <td>0.0</td>\n",
       "      <td>0.833333</td>\n",
       "      <td>0.0</td>\n",
       "      <td>1.0</td>\n",
       "      <td>0.0</td>\n",
       "    </tr>\n",
       "    <tr>\n",
       "      <th>1</th>\n",
       "      <td>0.762582</td>\n",
       "      <td>1.000000</td>\n",
       "      <td>1.0</td>\n",
       "      <td>0.944161</td>\n",
       "      <td>1.0</td>\n",
       "      <td>1.0</td>\n",
       "      <td>0.699488</td>\n",
       "      <td>entailment</td>\n",
       "      <td>0.947368</td>\n",
       "      <td>1.000000</td>\n",
       "      <td>1.0</td>\n",
       "      <td>1.000000</td>\n",
       "      <td>1.0</td>\n",
       "      <td>1.0</td>\n",
       "      <td>1.0</td>\n",
       "    </tr>\n",
       "    <tr>\n",
       "      <th>2</th>\n",
       "      <td>0.881357</td>\n",
       "      <td>0.265408</td>\n",
       "      <td>1.0</td>\n",
       "      <td>0.360803</td>\n",
       "      <td>1.0</td>\n",
       "      <td>1.0</td>\n",
       "      <td>1.000000</td>\n",
       "      <td>contradiction</td>\n",
       "      <td>1.000000</td>\n",
       "      <td>0.769231</td>\n",
       "      <td>0.0</td>\n",
       "      <td>0.833333</td>\n",
       "      <td>0.0</td>\n",
       "      <td>1.0</td>\n",
       "      <td>1.0</td>\n",
       "    </tr>\n",
       "    <tr>\n",
       "      <th>3</th>\n",
       "      <td>0.153366</td>\n",
       "      <td>1.000000</td>\n",
       "      <td>1.0</td>\n",
       "      <td>0.358316</td>\n",
       "      <td>1.0</td>\n",
       "      <td>1.0</td>\n",
       "      <td>1.000000</td>\n",
       "      <td>contradiction</td>\n",
       "      <td>0.666667</td>\n",
       "      <td>1.000000</td>\n",
       "      <td>0.0</td>\n",
       "      <td>1.000000</td>\n",
       "      <td>0.0</td>\n",
       "      <td>0.0</td>\n",
       "      <td>0.0</td>\n",
       "    </tr>\n",
       "    <tr>\n",
       "      <th>4</th>\n",
       "      <td>0.919903</td>\n",
       "      <td>0.715984</td>\n",
       "      <td>1.0</td>\n",
       "      <td>0.224679</td>\n",
       "      <td>1.0</td>\n",
       "      <td>1.0</td>\n",
       "      <td>1.000000</td>\n",
       "      <td>neutral</td>\n",
       "      <td>1.000000</td>\n",
       "      <td>1.000000</td>\n",
       "      <td>0.0</td>\n",
       "      <td>0.769231</td>\n",
       "      <td>0.0</td>\n",
       "      <td>0.0</td>\n",
       "      <td>1.0</td>\n",
       "    </tr>\n",
       "    <tr>\n",
       "      <th>...</th>\n",
       "      <td>...</td>\n",
       "      <td>...</td>\n",
       "      <td>...</td>\n",
       "      <td>...</td>\n",
       "      <td>...</td>\n",
       "      <td>...</td>\n",
       "      <td>...</td>\n",
       "      <td>...</td>\n",
       "      <td>...</td>\n",
       "      <td>...</td>\n",
       "      <td>...</td>\n",
       "      <td>...</td>\n",
       "      <td>...</td>\n",
       "      <td>...</td>\n",
       "      <td>...</td>\n",
       "    </tr>\n",
       "    <tr>\n",
       "      <th>95</th>\n",
       "      <td>0.706643</td>\n",
       "      <td>0.210286</td>\n",
       "      <td>1.0</td>\n",
       "      <td>0.570392</td>\n",
       "      <td>1.0</td>\n",
       "      <td>1.0</td>\n",
       "      <td>1.000000</td>\n",
       "      <td>entailment</td>\n",
       "      <td>0.947368</td>\n",
       "      <td>-1.000000</td>\n",
       "      <td>0.0</td>\n",
       "      <td>1.000000</td>\n",
       "      <td>0.0</td>\n",
       "      <td>1.0</td>\n",
       "      <td>0.0</td>\n",
       "    </tr>\n",
       "    <tr>\n",
       "      <th>96</th>\n",
       "      <td>0.894956</td>\n",
       "      <td>1.000000</td>\n",
       "      <td>1.0</td>\n",
       "      <td>0.830284</td>\n",
       "      <td>1.0</td>\n",
       "      <td>1.0</td>\n",
       "      <td>1.000000</td>\n",
       "      <td>entailment</td>\n",
       "      <td>1.000000</td>\n",
       "      <td>0.000000</td>\n",
       "      <td>0.0</td>\n",
       "      <td>1.000000</td>\n",
       "      <td>0.0</td>\n",
       "      <td>0.0</td>\n",
       "      <td>0.0</td>\n",
       "    </tr>\n",
       "    <tr>\n",
       "      <th>97</th>\n",
       "      <td>0.072305</td>\n",
       "      <td>1.000000</td>\n",
       "      <td>1.0</td>\n",
       "      <td>0.086890</td>\n",
       "      <td>1.0</td>\n",
       "      <td>1.0</td>\n",
       "      <td>1.000000</td>\n",
       "      <td>contradiction</td>\n",
       "      <td>0.705882</td>\n",
       "      <td>0.000000</td>\n",
       "      <td>0.0</td>\n",
       "      <td>0.705882</td>\n",
       "      <td>0.0</td>\n",
       "      <td>1.0</td>\n",
       "      <td>0.0</td>\n",
       "    </tr>\n",
       "    <tr>\n",
       "      <th>98</th>\n",
       "      <td>0.655674</td>\n",
       "      <td>1.000000</td>\n",
       "      <td>1.0</td>\n",
       "      <td>0.357686</td>\n",
       "      <td>1.0</td>\n",
       "      <td>1.0</td>\n",
       "      <td>1.000000</td>\n",
       "      <td>contradiction</td>\n",
       "      <td>1.000000</td>\n",
       "      <td>1.000000</td>\n",
       "      <td>0.0</td>\n",
       "      <td>0.750000</td>\n",
       "      <td>0.0</td>\n",
       "      <td>0.0</td>\n",
       "      <td>0.0</td>\n",
       "    </tr>\n",
       "    <tr>\n",
       "      <th>99</th>\n",
       "      <td>0.615321</td>\n",
       "      <td>1.000000</td>\n",
       "      <td>1.0</td>\n",
       "      <td>0.030110</td>\n",
       "      <td>1.0</td>\n",
       "      <td>1.0</td>\n",
       "      <td>1.000000</td>\n",
       "      <td>contradiction</td>\n",
       "      <td>1.000000</td>\n",
       "      <td>1.000000</td>\n",
       "      <td>0.0</td>\n",
       "      <td>0.666667</td>\n",
       "      <td>0.0</td>\n",
       "      <td>0.0</td>\n",
       "      <td>0.0</td>\n",
       "    </tr>\n",
       "  </tbody>\n",
       "</table>\n",
       "<p>100 rows × 15 columns</p>\n",
       "</div>"
      ],
      "text/plain": [
       "         Who     Where  When      What  Why  How  Additional information  \\\n",
       "0   0.696783  0.076060   1.0  0.505262  1.0  1.0                1.000000   \n",
       "1   0.762582  1.000000   1.0  0.944161  1.0  1.0                0.699488   \n",
       "2   0.881357  0.265408   1.0  0.360803  1.0  1.0                1.000000   \n",
       "3   0.153366  1.000000   1.0  0.358316  1.0  1.0                1.000000   \n",
       "4   0.919903  0.715984   1.0  0.224679  1.0  1.0                1.000000   \n",
       "..       ...       ...   ...       ...  ...  ...                     ...   \n",
       "95  0.706643  0.210286   1.0  0.570392  1.0  1.0                1.000000   \n",
       "96  0.894956  1.000000   1.0  0.830284  1.0  1.0                1.000000   \n",
       "97  0.072305  1.000000   1.0  0.086890  1.0  1.0                1.000000   \n",
       "98  0.655674  1.000000   1.0  0.357686  1.0  1.0                1.000000   \n",
       "99  0.615321  1.000000   1.0  0.030110  1.0  1.0                1.000000   \n",
       "\n",
       "            CLASS     Who_w   Where_w  When_w    What_w  Why_w  How_w  \\\n",
       "0      entailment  0.800000 -1.000000     0.0  0.833333    0.0    1.0   \n",
       "1      entailment  0.947368  1.000000     1.0  1.000000    1.0    1.0   \n",
       "2   contradiction  1.000000  0.769231     0.0  0.833333    0.0    1.0   \n",
       "3   contradiction  0.666667  1.000000     0.0  1.000000    0.0    0.0   \n",
       "4         neutral  1.000000  1.000000     0.0  0.769231    0.0    0.0   \n",
       "..            ...       ...       ...     ...       ...    ...    ...   \n",
       "95     entailment  0.947368 -1.000000     0.0  1.000000    0.0    1.0   \n",
       "96     entailment  1.000000  0.000000     0.0  1.000000    0.0    0.0   \n",
       "97  contradiction  0.705882  0.000000     0.0  0.705882    0.0    1.0   \n",
       "98  contradiction  1.000000  1.000000     0.0  0.750000    0.0    0.0   \n",
       "99  contradiction  1.000000  1.000000     0.0  0.666667    0.0    0.0   \n",
       "\n",
       "    Additional information_w  \n",
       "0                        0.0  \n",
       "1                        1.0  \n",
       "2                        1.0  \n",
       "3                        0.0  \n",
       "4                        1.0  \n",
       "..                       ...  \n",
       "95                       0.0  \n",
       "96                       0.0  \n",
       "97                       0.0  \n",
       "98                       0.0  \n",
       "99                       0.0  \n",
       "\n",
       "[100 rows x 15 columns]"
      ]
     },
     "execution_count": 2,
     "metadata": {},
     "output_type": "execute_result"
    }
   ],
   "source": [
    "dataframe = pd.read_csv(r\"indicadores_H5W1_sentencebert_Wordnet2_CLASS.csv\")\n",
    "dataframe"
   ]
  },
  {
   "cell_type": "code",
   "execution_count": 3,
   "metadata": {},
   "outputs": [
    {
     "data": {
      "text/html": [
       "<div>\n",
       "<style scoped>\n",
       "    .dataframe tbody tr th:only-of-type {\n",
       "        vertical-align: middle;\n",
       "    }\n",
       "\n",
       "    .dataframe tbody tr th {\n",
       "        vertical-align: top;\n",
       "    }\n",
       "\n",
       "    .dataframe thead th {\n",
       "        text-align: right;\n",
       "    }\n",
       "</style>\n",
       "<table border=\"1\" class=\"dataframe\">\n",
       "  <thead>\n",
       "    <tr style=\"text-align: right;\">\n",
       "      <th></th>\n",
       "      <th>Who</th>\n",
       "      <th>Where</th>\n",
       "      <th>When</th>\n",
       "      <th>What</th>\n",
       "      <th>Why</th>\n",
       "      <th>How</th>\n",
       "      <th>Additional information</th>\n",
       "      <th>Who_w</th>\n",
       "      <th>Where_w</th>\n",
       "      <th>When_w</th>\n",
       "      <th>What_w</th>\n",
       "      <th>Why_w</th>\n",
       "      <th>How_w</th>\n",
       "      <th>Additional information_w</th>\n",
       "    </tr>\n",
       "  </thead>\n",
       "  <tbody>\n",
       "    <tr>\n",
       "      <th>count</th>\n",
       "      <td>100.000000</td>\n",
       "      <td>100.000000</td>\n",
       "      <td>100.000000</td>\n",
       "      <td>100.000000</td>\n",
       "      <td>100.000000</td>\n",
       "      <td>100.000000</td>\n",
       "      <td>100.000000</td>\n",
       "      <td>100.000000</td>\n",
       "      <td>100.000000</td>\n",
       "      <td>100.000000</td>\n",
       "      <td>100.000000</td>\n",
       "      <td>100.000000</td>\n",
       "      <td>100.000000</td>\n",
       "      <td>100.000000</td>\n",
       "    </tr>\n",
       "    <tr>\n",
       "      <th>mean</th>\n",
       "      <td>0.712144</td>\n",
       "      <td>0.773416</td>\n",
       "      <td>0.972706</td>\n",
       "      <td>0.496864</td>\n",
       "      <td>0.951210</td>\n",
       "      <td>0.884602</td>\n",
       "      <td>0.918129</td>\n",
       "      <td>0.927850</td>\n",
       "      <td>0.492823</td>\n",
       "      <td>0.127714</td>\n",
       "      <td>0.778082</td>\n",
       "      <td>0.135000</td>\n",
       "      <td>0.268959</td>\n",
       "      <td>0.443725</td>\n",
       "    </tr>\n",
       "    <tr>\n",
       "      <th>std</th>\n",
       "      <td>0.254961</td>\n",
       "      <td>0.329373</td>\n",
       "      <td>0.137323</td>\n",
       "      <td>0.327958</td>\n",
       "      <td>0.190396</td>\n",
       "      <td>0.286908</td>\n",
       "      <td>0.239915</td>\n",
       "      <td>0.164707</td>\n",
       "      <td>0.639667</td>\n",
       "      <td>0.575031</td>\n",
       "      <td>0.375084</td>\n",
       "      <td>0.598209</td>\n",
       "      <td>0.649786</td>\n",
       "      <td>0.609301</td>\n",
       "    </tr>\n",
       "    <tr>\n",
       "      <th>min</th>\n",
       "      <td>0.072305</td>\n",
       "      <td>0.076060</td>\n",
       "      <td>0.189548</td>\n",
       "      <td>-0.011613</td>\n",
       "      <td>-0.004532</td>\n",
       "      <td>0.026425</td>\n",
       "      <td>-0.013459</td>\n",
       "      <td>0.000000</td>\n",
       "      <td>-1.000000</td>\n",
       "      <td>-1.000000</td>\n",
       "      <td>-1.000000</td>\n",
       "      <td>-1.000000</td>\n",
       "      <td>-1.000000</td>\n",
       "      <td>-1.000000</td>\n",
       "    </tr>\n",
       "    <tr>\n",
       "      <th>25%</th>\n",
       "      <td>0.532159</td>\n",
       "      <td>0.492926</td>\n",
       "      <td>1.000000</td>\n",
       "      <td>0.216580</td>\n",
       "      <td>1.000000</td>\n",
       "      <td>1.000000</td>\n",
       "      <td>1.000000</td>\n",
       "      <td>0.909091</td>\n",
       "      <td>0.000000</td>\n",
       "      <td>0.000000</td>\n",
       "      <td>0.666667</td>\n",
       "      <td>0.000000</td>\n",
       "      <td>0.000000</td>\n",
       "      <td>0.000000</td>\n",
       "    </tr>\n",
       "    <tr>\n",
       "      <th>50%</th>\n",
       "      <td>0.751170</td>\n",
       "      <td>1.000000</td>\n",
       "      <td>1.000000</td>\n",
       "      <td>0.456016</td>\n",
       "      <td>1.000000</td>\n",
       "      <td>1.000000</td>\n",
       "      <td>1.000000</td>\n",
       "      <td>1.000000</td>\n",
       "      <td>0.759615</td>\n",
       "      <td>0.000000</td>\n",
       "      <td>0.894444</td>\n",
       "      <td>0.000000</td>\n",
       "      <td>0.000000</td>\n",
       "      <td>0.500000</td>\n",
       "    </tr>\n",
       "    <tr>\n",
       "      <th>75%</th>\n",
       "      <td>0.986195</td>\n",
       "      <td>1.000000</td>\n",
       "      <td>1.000000</td>\n",
       "      <td>0.807518</td>\n",
       "      <td>1.000000</td>\n",
       "      <td>1.000000</td>\n",
       "      <td>1.000000</td>\n",
       "      <td>1.000000</td>\n",
       "      <td>1.000000</td>\n",
       "      <td>0.050000</td>\n",
       "      <td>1.000000</td>\n",
       "      <td>0.625000</td>\n",
       "      <td>1.000000</td>\n",
       "      <td>1.000000</td>\n",
       "    </tr>\n",
       "    <tr>\n",
       "      <th>max</th>\n",
       "      <td>1.000000</td>\n",
       "      <td>1.000000</td>\n",
       "      <td>1.000000</td>\n",
       "      <td>1.000000</td>\n",
       "      <td>1.000000</td>\n",
       "      <td>1.000000</td>\n",
       "      <td>1.000000</td>\n",
       "      <td>1.000000</td>\n",
       "      <td>1.000000</td>\n",
       "      <td>1.000000</td>\n",
       "      <td>1.000000</td>\n",
       "      <td>1.000000</td>\n",
       "      <td>1.000000</td>\n",
       "      <td>1.000000</td>\n",
       "    </tr>\n",
       "  </tbody>\n",
       "</table>\n",
       "</div>"
      ],
      "text/plain": [
       "              Who       Where        When        What         Why         How  \\\n",
       "count  100.000000  100.000000  100.000000  100.000000  100.000000  100.000000   \n",
       "mean     0.712144    0.773416    0.972706    0.496864    0.951210    0.884602   \n",
       "std      0.254961    0.329373    0.137323    0.327958    0.190396    0.286908   \n",
       "min      0.072305    0.076060    0.189548   -0.011613   -0.004532    0.026425   \n",
       "25%      0.532159    0.492926    1.000000    0.216580    1.000000    1.000000   \n",
       "50%      0.751170    1.000000    1.000000    0.456016    1.000000    1.000000   \n",
       "75%      0.986195    1.000000    1.000000    0.807518    1.000000    1.000000   \n",
       "max      1.000000    1.000000    1.000000    1.000000    1.000000    1.000000   \n",
       "\n",
       "       Additional information       Who_w     Where_w      When_w      What_w  \\\n",
       "count              100.000000  100.000000  100.000000  100.000000  100.000000   \n",
       "mean                 0.918129    0.927850    0.492823    0.127714    0.778082   \n",
       "std                  0.239915    0.164707    0.639667    0.575031    0.375084   \n",
       "min                 -0.013459    0.000000   -1.000000   -1.000000   -1.000000   \n",
       "25%                  1.000000    0.909091    0.000000    0.000000    0.666667   \n",
       "50%                  1.000000    1.000000    0.759615    0.000000    0.894444   \n",
       "75%                  1.000000    1.000000    1.000000    0.050000    1.000000   \n",
       "max                  1.000000    1.000000    1.000000    1.000000    1.000000   \n",
       "\n",
       "            Why_w       How_w  Additional information_w  \n",
       "count  100.000000  100.000000                100.000000  \n",
       "mean     0.135000    0.268959                  0.443725  \n",
       "std      0.598209    0.649786                  0.609301  \n",
       "min     -1.000000   -1.000000                 -1.000000  \n",
       "25%      0.000000    0.000000                  0.000000  \n",
       "50%      0.000000    0.000000                  0.500000  \n",
       "75%      0.625000    1.000000                  1.000000  \n",
       "max      1.000000    1.000000                  1.000000  "
      ]
     },
     "execution_count": 3,
     "metadata": {},
     "output_type": "execute_result"
    }
   ],
   "source": [
    "dataframe.describe()"
   ]
  },
  {
   "cell_type": "code",
   "execution_count": 4,
   "metadata": {},
   "outputs": [
    {
     "name": "stdout",
     "output_type": "stream",
     "text": [
      "CLASS\n",
      "contradiction    27\n",
      "entailment       42\n",
      "neutral          31\n",
      "dtype: int64\n"
     ]
    }
   ],
   "source": [
    "print(dataframe.groupby('CLASS').size())"
   ]
  },
  {
   "cell_type": "code",
   "execution_count": 5,
   "metadata": {},
   "outputs": [
    {
     "data": {
      "image/png": "[encoded data removed]",
      "text/plain": [
       "<Figure size 1440x720 with 16 Axes>"
      ]
     },
     "metadata": {
      "needs_background": "light"
     },
     "output_type": "display_data"
    }
   ],
   "source": [
    "dataframe.hist(figsize=(20,10))\n",
    "plt.show()"
   ]
  },
  {
   "cell_type": "code",
   "execution_count": 6,
   "metadata": {},
   "outputs": [],
   "source": [
    "#sb.pairplot(dataframe.dropna(), hue='CLASS',size=4,vars=['Who','Where','When','What','Why','How','Additional information'],kind='reg')"
   ]
  },
  {
   "cell_type": "code",
   "execution_count": 7,
   "metadata": {},
   "outputs": [
    {
     "name": "stderr",
     "output_type": "stream",
     "text": [
      "/tmp/ipykernel_161122/1802400925.py:1: FutureWarning: In a future version of pandas all arguments of DataFrame.drop except for the argument 'labels' will be keyword-only.\n",
      "  X = np.array(dataframe.drop(['CLASS'],1))\n",
      "/tmp/ipykernel_161122/1802400925.py:2: FutureWarning: In a future version of pandas all arguments of DataFrame.drop except for the argument 'labels' will be keyword-only.\n",
      "  X_test = np.array(dataframe.drop(['CLASS'],1))\n"
     ]
    },
    {
     "data": {
      "text/plain": [
       "(100, 14)"
      ]
     },
     "execution_count": 7,
     "metadata": {},
     "output_type": "execute_result"
    }
   ],
   "source": [
    "X = np.array(dataframe.drop(['CLASS'],1))\n",
    "X_test = np.array(dataframe.drop(['CLASS'],1))\n",
    "y = np.array(dataframe['CLASS'])\n",
    "y_test =np.array(dataframe['CLASS'])\n",
    "X.shape"
   ]
  },
  {
   "cell_type": "code",
   "execution_count": 8,
   "metadata": {},
   "outputs": [
    {
     "data": {
      "text/plain": [
       "array(['entailment', 'entailment', 'contradiction', 'contradiction',\n",
       "       'neutral', 'neutral', 'neutral', 'entailment', 'neutral',\n",
       "       'entailment', 'neutral', 'contradiction', 'entailment',\n",
       "       'contradiction', 'neutral', 'neutral', 'entailment',\n",
       "       'contradiction', 'contradiction', 'entailment', 'entailment',\n",
       "       'entailment', 'neutral', 'contradiction', 'entailment', 'neutral',\n",
       "       'entailment', 'entailment', 'entailment', 'neutral', 'neutral',\n",
       "       'contradiction', 'contradiction', 'entailment', 'contradiction',\n",
       "       'neutral', 'entailment', 'neutral', 'neutral', 'entailment',\n",
       "       'neutral', 'neutral', 'contradiction', 'neutral', 'entailment',\n",
       "       'neutral', 'neutral', 'entailment', 'contradiction', 'neutral',\n",
       "       'entailment', 'entailment', 'neutral', 'entailment',\n",
       "       'contradiction', 'entailment', 'entailment', 'neutral', 'neutral',\n",
       "       'neutral', 'neutral', 'neutral', 'neutral', 'entailment',\n",
       "       'entailment', 'contradiction', 'entailment', 'entailment',\n",
       "       'neutral', 'contradiction', 'entailment', 'contradiction',\n",
       "       'contradiction', 'contradiction', 'neutral', 'entailment',\n",
       "       'entailment', 'entailment', 'entailment', 'contradiction',\n",
       "       'neutral', 'entailment', 'entailment', 'entailment',\n",
       "       'contradiction', 'entailment', 'entailment', 'entailment',\n",
       "       'contradiction', 'contradiction', 'contradiction', 'neutral',\n",
       "       'entailment', 'entailment', 'contradiction', 'entailment',\n",
       "       'entailment', 'contradiction', 'contradiction', 'contradiction'],\n",
       "      dtype=object)"
      ]
     },
     "execution_count": 8,
     "metadata": {},
     "output_type": "execute_result"
    }
   ],
   "source": [
    "y_test"
   ]
  },
  {
   "cell_type": "code",
   "execution_count": 9,
   "metadata": {},
   "outputs": [
    {
     "data": {
      "text/plain": [
       "array(['entailment', 'entailment', 'contradiction', 'contradiction',\n",
       "       'neutral', 'neutral', 'neutral', 'entailment', 'neutral',\n",
       "       'entailment', 'neutral', 'contradiction', 'entailment',\n",
       "       'contradiction', 'neutral', 'neutral', 'entailment',\n",
       "       'contradiction', 'contradiction', 'entailment', 'entailment',\n",
       "       'entailment', 'neutral', 'contradiction', 'entailment', 'neutral',\n",
       "       'entailment', 'entailment', 'entailment', 'neutral', 'neutral',\n",
       "       'contradiction', 'contradiction', 'entailment', 'contradiction',\n",
       "       'neutral', 'entailment', 'neutral', 'neutral', 'entailment',\n",
       "       'neutral', 'neutral', 'contradiction', 'neutral', 'entailment',\n",
       "       'neutral', 'neutral', 'entailment', 'contradiction', 'neutral',\n",
       "       'entailment', 'entailment', 'neutral', 'entailment',\n",
       "       'contradiction', 'entailment', 'entailment', 'neutral', 'neutral',\n",
       "       'neutral', 'neutral', 'neutral', 'neutral', 'entailment',\n",
       "       'entailment', 'contradiction', 'entailment', 'entailment',\n",
       "       'neutral', 'contradiction', 'entailment', 'contradiction',\n",
       "       'contradiction', 'contradiction', 'neutral', 'entailment',\n",
       "       'entailment', 'entailment', 'entailment', 'contradiction',\n",
       "       'neutral', 'entailment', 'entailment', 'entailment',\n",
       "       'contradiction', 'entailment', 'entailment', 'entailment',\n",
       "       'contradiction', 'contradiction', 'contradiction', 'neutral',\n",
       "       'entailment', 'entailment', 'contradiction', 'entailment',\n",
       "       'entailment', 'contradiction', 'contradiction', 'contradiction'],\n",
       "      dtype=object)"
      ]
     },
     "execution_count": 9,
     "metadata": {},
     "output_type": "execute_result"
    }
   ],
   "source": [
    "y"
   ]
  },
  {
   "cell_type": "code",
   "execution_count": 10,
   "metadata": {},
   "outputs": [
    {
     "data": {
      "text/html": [
       "<style>#sk-container-id-1 {color: black;background-color: white;}#sk-container-id-1 pre{padding: 0;}#sk-container-id-1 div.sk-toggleable {background-color: white;}#sk-container-id-1 label.sk-toggleable__label {cursor: pointer;display: block;width: 100%;margin-bottom: 0;padding: 0.3em;box-sizing: border-box;text-align: center;}#sk-container-id-1 label.sk-toggleable__label-arrow:before {content: \"▸\";float: left;margin-right: 0.25em;color: #696969;}#sk-container-id-1 label.sk-toggleable__label-arrow:hover:before {color: black;}#sk-container-id-1 div.sk-estimator:hover label.sk-toggleable__label-arrow:before {color: black;}#sk-container-id-1 div.sk-toggleable__content {max-height: 0;max-width: 0;overflow: hidden;text-align: left;background-color: #f0f8ff;}#sk-container-id-1 div.sk-toggleable__content pre {margin: 0.2em;color: black;border-radius: 0.25em;background-color: #f0f8ff;}#sk-container-id-1 input.sk-toggleable__control:checked~div.sk-toggleable__content {max-height: 200px;max-width: 100%;overflow: auto;}#sk-container-id-1 input.sk-toggleable__control:checked~label.sk-toggleable__label-arrow:before {content: \"▾\";}#sk-container-id-1 div.sk-estimator input.sk-toggleable__control:checked~label.sk-toggleable__label {background-color: #d4ebff;}#sk-container-id-1 div.sk-label input.sk-toggleable__control:checked~label.sk-toggleable__label {background-color: #d4ebff;}#sk-container-id-1 input.sk-hidden--visually {border: 0;clip: rect(1px 1px 1px 1px);clip: rect(1px, 1px, 1px, 1px);height: 1px;margin: -1px;overflow: hidden;padding: 0;position: absolute;width: 1px;}#sk-container-id-1 div.sk-estimator {font-family: monospace;background-color: #f0f8ff;border: 1px dotted black;border-radius: 0.25em;box-sizing: border-box;margin-bottom: 0.5em;}#sk-container-id-1 div.sk-estimator:hover {background-color: #d4ebff;}#sk-container-id-1 div.sk-parallel-item::after {content: \"\";width: 100%;border-bottom: 1px solid gray;flex-grow: 1;}#sk-container-id-1 div.sk-label:hover label.sk-toggleable__label {background-color: #d4ebff;}#sk-container-id-1 div.sk-serial::before {content: \"\";position: absolute;border-left: 1px solid gray;box-sizing: border-box;top: 0;bottom: 0;left: 50%;z-index: 0;}#sk-container-id-1 div.sk-serial {display: flex;flex-direction: column;align-items: center;background-color: white;padding-right: 0.2em;padding-left: 0.2em;position: relative;}#sk-container-id-1 div.sk-item {position: relative;z-index: 1;}#sk-container-id-1 div.sk-parallel {display: flex;align-items: stretch;justify-content: center;background-color: white;position: relative;}#sk-container-id-1 div.sk-item::before, #sk-container-id-1 div.sk-parallel-item::before {content: \"\";position: absolute;border-left: 1px solid gray;box-sizing: border-box;top: 0;bottom: 0;left: 50%;z-index: -1;}#sk-container-id-1 div.sk-parallel-item {display: flex;flex-direction: column;z-index: 1;position: relative;background-color: white;}#sk-container-id-1 div.sk-parallel-item:first-child::after {align-self: flex-end;width: 50%;}#sk-container-id-1 div.sk-parallel-item:last-child::after {align-self: flex-start;width: 50%;}#sk-container-id-1 div.sk-parallel-item:only-child::after {width: 0;}#sk-container-id-1 div.sk-dashed-wrapped {border: 1px dashed gray;margin: 0 0.4em 0.5em 0.4em;box-sizing: border-box;padding-bottom: 0.4em;background-color: white;}#sk-container-id-1 div.sk-label label {font-family: monospace;font-weight: bold;display: inline-block;line-height: 1.2em;}#sk-container-id-1 div.sk-label-container {text-align: center;}#sk-container-id-1 div.sk-container {/* jupyter's `normalize.less` sets `[hidden] { display: none; }` but bootstrap.min.css set `[hidden] { display: none !important; }` so we also need the `!important` here to be able to override the default hidden behavior on the sphinx rendered scikit-learn.org. See: https://github.com/scikit-learn/scikit-learn/issues/21755 */display: inline-block !important;position: relative;}#sk-container-id-1 div.sk-text-repr-fallback {display: none;}</style><div id=\"sk-container-id-1\" class=\"sk-top-container\"><div class=\"sk-text-repr-fallback\"><pre>LogisticRegression(C=0.1)</pre><b>In a Jupyter environment, please rerun this cell to show the HTML representation or trust the notebook. <br />On GitHub, the HTML representation is unable to render, please try loading this page with nbviewer.org.</b></div><div class=\"sk-container\" hidden><div class=\"sk-item\"><div class=\"sk-estimator sk-toggleable\"><input class=\"sk-toggleable__control sk-hidden--visually\" id=\"sk-estimator-id-1\" type=\"checkbox\" checked><label for=\"sk-estimator-id-1\" class=\"sk-toggleable__label sk-toggleable__label-arrow\">LogisticRegression</label><div class=\"sk-toggleable__content\"><pre>LogisticRegression(C=0.1)</pre></div></div></div></div></div>"
      ],
      "text/plain": [
       "LogisticRegression(C=0.1)"
      ]
     },
     "execution_count": 10,
     "metadata": {},
     "output_type": "execute_result"
    }
   ],
   "source": [
    "model = linear_model.LogisticRegression(penalty=\"l2\", C=0.1)\n",
    "model.fit(X,y)"
   ]
  },
  {
   "cell_type": "code",
   "execution_count": 11,
   "metadata": {},
   "outputs": [
    {
     "data": {
      "text/plain": [
       "{'C': 0.1,\n",
       " 'class_weight': None,\n",
       " 'dual': False,\n",
       " 'fit_intercept': True,\n",
       " 'intercept_scaling': 1,\n",
       " 'l1_ratio': None,\n",
       " 'max_iter': 100,\n",
       " 'multi_class': 'auto',\n",
       " 'n_jobs': None,\n",
       " 'penalty': 'l2',\n",
       " 'random_state': None,\n",
       " 'solver': 'lbfgs',\n",
       " 'tol': 0.0001,\n",
       " 'verbose': 0,\n",
       " 'warm_start': False}"
      ]
     },
     "execution_count": 11,
     "metadata": {},
     "output_type": "execute_result"
    }
   ],
   "source": [
    "model.get_params()"
   ]
  },
  {
   "cell_type": "code",
   "execution_count": 12,
   "metadata": {},
   "outputs": [
    {
     "data": {
      "text/plain": [
       "array([[ 2.06160066e-01,  2.50992376e-01, -4.57152442e-01],\n",
       "       [-1.41332757e-01,  4.31282143e-01, -2.89949386e-01],\n",
       "       [-1.24237163e-01,  4.09598903e-02,  8.32772732e-02],\n",
       "       [-2.98707515e-03,  5.66724984e-02, -5.36854232e-02],\n",
       "       [-3.85235523e-01,  1.56698565e-01,  2.28536957e-01],\n",
       "       [-1.84020820e-01, -1.33127349e-02,  1.97333555e-01],\n",
       "       [-2.46739745e-01,  3.27678437e-01, -8.09386922e-02],\n",
       "       [-2.59823084e-01,  1.98360146e-01,  6.14629381e-02],\n",
       "       [-1.93957821e-02,  2.84068378e-01, -2.64672596e-01],\n",
       "       [-4.65204905e-01,  5.23240917e-01, -5.80360117e-02],\n",
       "       [-2.99681009e-01,  2.15930499e-01,  8.37505098e-02],\n",
       "       [-1.62607504e-02,  1.89544219e-02, -2.69367143e-03],\n",
       "       [ 2.04399037e-03,  4.18568733e-01, -4.20612723e-01],\n",
       "       [-3.30089436e-03, -8.82179377e-02,  9.15188321e-02],\n",
       "       [-7.26456299e-01, -7.84221002e-02,  8.04878399e-01],\n",
       "       [-8.62624312e-01,  4.29405882e-01,  4.33218430e-01],\n",
       "       [-1.79568774e-01,  2.50407354e-01, -7.08385793e-02],\n",
       "       [-2.39156351e-01,  1.86346110e-01,  5.28102411e-02],\n",
       "       [ 5.79692343e-02,  4.48504511e-01, -5.06473745e-01],\n",
       "       [-6.38657984e-01,  4.99184004e-01,  1.39473980e-01],\n",
       "       [ 1.32845649e-02,  5.80151072e-01, -5.93435636e-01],\n",
       "       [-2.75632243e-01,  3.41764491e-01, -6.61322474e-02],\n",
       "       [-4.39522381e-01,  1.32906469e-01,  3.06615912e-01],\n",
       "       [-3.88220477e-01,  4.40350723e-01, -5.21302464e-02],\n",
       "       [-1.62227900e-01,  4.83179369e-01, -3.20951469e-01],\n",
       "       [-8.26261985e-03,  3.60646821e-02, -2.78020623e-02],\n",
       "       [-3.22268621e-01,  3.60474007e-01, -3.82053864e-02],\n",
       "       [-5.83879534e-01,  2.61719730e-01,  3.22159804e-01],\n",
       "       [-1.78866398e-01,  4.02413301e-01, -2.23546902e-01],\n",
       "       [-1.87537715e-01,  1.14234021e-01,  7.33036943e-02],\n",
       "       [-3.41335159e-01,  3.03561975e-01,  3.77731837e-02],\n",
       "       [ 1.29565112e-01,  2.68108499e-01, -3.97673611e-01],\n",
       "       [-3.05518550e-03,  1.24619063e-01, -1.21563877e-01],\n",
       "       [-2.89091000e-01,  4.96862851e-01, -2.07771851e-01],\n",
       "       [ 1.37787117e-01,  2.00484168e-01, -3.38271285e-01],\n",
       "       [-2.40089936e-01,  2.75378783e-01, -3.52888469e-02],\n",
       "       [-3.19285292e-01,  4.83632996e-01, -1.64347704e-01],\n",
       "       [-2.35328822e-01,  2.95787196e-01, -6.04583745e-02],\n",
       "       [ 3.06067387e-02,  7.56633689e-02, -1.06270108e-01],\n",
       "       [-7.04179757e-01,  6.09065772e-01,  9.51139848e-02],\n",
       "       [-5.97052458e-01,  1.47888891e-01,  4.49163567e-01],\n",
       "       [-2.38323367e-01,  8.00001167e-02,  1.58323250e-01],\n",
       "       [-3.42109262e-02,  1.29042743e-02,  2.13066519e-02],\n",
       "       [ 5.40715947e-02, -1.45719854e-01,  9.16482594e-02],\n",
       "       [-1.89488007e-01,  1.79242674e-01,  1.02453331e-02],\n",
       "       [-5.93581684e-01,  3.17658598e-01,  2.75923086e-01],\n",
       "       [-5.03484576e-01,  3.47897236e-01,  1.55587340e-01],\n",
       "       [-1.23359352e-01,  4.92186369e-01, -3.68827017e-01],\n",
       "       [ 3.44053263e-01,  3.68007202e-01, -7.12060465e-01],\n",
       "       [-1.17317617e-01,  2.03596256e-01, -8.62786387e-02],\n",
       "       [-2.05650091e-01,  4.52373798e-01, -2.46723707e-01],\n",
       "       [-5.03479335e-01,  7.17350665e-01, -2.13871331e-01],\n",
       "       [ 5.74903556e-02, -1.39570925e-02, -4.35332631e-02],\n",
       "       [-7.97126018e-02,  3.62519069e-01, -2.82806467e-01],\n",
       "       [-1.44300830e-01,  5.64328273e-01, -4.20027442e-01],\n",
       "       [-3.78536820e-01,  6.16267763e-01, -2.37730943e-01],\n",
       "       [-5.13915529e-01,  5.59205046e-01, -4.52895165e-02],\n",
       "       [-1.36681619e-01,  2.50987237e-02,  1.11582896e-01],\n",
       "       [-3.06080057e-01,  3.98120563e-01, -9.20405060e-02],\n",
       "       [-2.33340212e-01,  5.18682196e-01, -2.85341984e-01],\n",
       "       [-2.33982460e-01,  1.55130540e-01,  7.88519198e-02],\n",
       "       [-3.43153721e-01,  2.56840631e-01,  8.63130893e-02],\n",
       "       [-1.28266193e-01,  1.20989417e-01,  7.27677616e-03],\n",
       "       [-2.40028412e-01,  2.65931913e-01, -2.59035003e-02],\n",
       "       [-2.71144921e-01,  3.23166043e-01, -5.20211222e-02],\n",
       "       [-5.39517563e-04,  1.14782470e-01, -1.14242952e-01],\n",
       "       [-5.50757267e-02,  5.54094022e-01, -4.99018295e-01],\n",
       "       [-2.31590793e-01, -1.18519192e-01,  3.50109984e-01],\n",
       "       [-3.26149711e-01,  3.02344444e-01,  2.38052674e-02],\n",
       "       [-1.68429051e-01, -2.17315845e-02,  1.90160636e-01],\n",
       "       [-3.20177497e-01,  3.32030215e-01, -1.18527179e-02],\n",
       "       [ 3.29788752e-01, -1.50939913e-01, -1.78848840e-01],\n",
       "       [ 1.03413571e-01,  2.08538131e-01, -3.11951701e-01],\n",
       "       [ 2.29862414e-02,  3.66421148e-01, -3.89407389e-01],\n",
       "       [ 6.68261239e-02,  2.68513786e-03, -6.95112618e-02],\n",
       "       [-1.04879748e-01,  1.05677156e-01, -7.97407853e-04],\n",
       "       [-2.83607191e-01,  5.06777613e-01, -2.23170423e-01],\n",
       "       [-4.41255983e-01,  4.88811496e-01, -4.75555122e-02],\n",
       "       [-4.03063418e-01,  4.86344130e-01, -8.32807115e-02],\n",
       "       [-9.74319204e-02,  2.15671456e-01, -1.18239535e-01],\n",
       "       [-2.04862917e-01, -2.92013032e-02,  2.34064221e-01],\n",
       "       [-1.80388747e-01,  2.47232450e-01, -6.68437033e-02],\n",
       "       [-3.71555263e-01,  5.00042785e-01, -1.28487522e-01],\n",
       "       [ 3.83962518e-02,  3.94239961e-01, -4.32636213e-01],\n",
       "       [ 2.04822347e-01, -5.51602578e-02, -1.49662089e-01],\n",
       "       [-8.71553976e-01,  4.20005791e-01,  4.51548185e-01],\n",
       "       [-1.22511398e-01,  1.08635983e-01,  1.38754149e-02],\n",
       "       [-5.34446535e-01,  3.42741435e-01,  1.91705101e-01],\n",
       "       [-2.33340212e-01,  5.18682196e-01, -2.85341984e-01],\n",
       "       [ 1.23650198e-02,  3.42662419e-01, -3.55027439e-01],\n",
       "       [-5.37502198e-01,  1.78825608e-01,  3.58676590e-01],\n",
       "       [-2.10327933e-01,  2.17395765e-02,  1.88588357e-01],\n",
       "       [-1.81561989e-01,  6.63482430e-02,  1.15213746e-01],\n",
       "       [-9.48224729e-02,  5.46190011e-01, -4.51367538e-01],\n",
       "       [-4.82279230e-02, -1.92548159e-01,  2.40776082e-01],\n",
       "       [ 1.83123026e-01,  3.01947075e-01, -4.85070101e-01],\n",
       "       [-2.72039204e-01,  5.93910123e-01, -3.21870919e-01],\n",
       "       [ 3.31558799e-01, -1.35601437e-01, -1.95957362e-01],\n",
       "       [-2.03976609e-01,  1.70383360e-01,  3.35932483e-02],\n",
       "       [-1.34420730e-01, -4.30161930e-03,  1.38722349e-01]])"
      ]
     },
     "execution_count": 12,
     "metadata": {},
     "output_type": "execute_result"
    }
   ],
   "source": [
    "model.decision_function(X)"
   ]
  },
  {
   "cell_type": "code",
   "execution_count": 13,
   "metadata": {},
   "outputs": [],
   "source": [
    "labels=np.array(['Who','Where','When','What','Why','How','Additional information','Who_w','Where_w','When_w','What_w','Why_w','How_w','Additional information_w'])"
   ]
  },
  {
   "cell_type": "code",
   "execution_count": 14,
   "metadata": {},
   "outputs": [
    {
     "data": {
      "text/plain": [
       "array(['contradiction', 'entailment', 'neutral'], dtype=object)"
      ]
     },
     "execution_count": 14,
     "metadata": {},
     "output_type": "execute_result"
    }
   ],
   "source": [
    "model.classes_"
   ]
  },
  {
   "cell_type": "code",
   "execution_count": 15,
   "metadata": {},
   "outputs": [],
   "source": [
    "contradiction=model.coef_[0]\n",
    "entailment=model.coef_[1]\n",
    "neutral=model.coef_[2]"
   ]
  },
  {
   "cell_type": "code",
   "execution_count": 16,
   "metadata": {},
   "outputs": [
    {
     "name": "stdout",
     "output_type": "stream",
     "text": [
      "Contradiction  12 How_w 0 Who\n",
      "Entailment  3 What 12 How_w\n",
      "Neutral  8 Where_w 3 What\n"
     ]
    }
   ],
   "source": [
    "print(\"Contradiction \",np.argmax(contradiction),labels[np.argmax(contradiction)],np.argmin(contradiction),labels[np.argmin(contradiction)])\n",
    "print(\"Entailment \",np.argmax(entailment),labels[np.argmax(entailment)],np.argmin(entailment),labels[np.argmin(entailment)])\n",
    "print(\"Neutral \",np.argmax(neutral),labels[np.argmax(neutral)],np.argmin(neutral),labels[np.argmin(neutral)])"
   ]
  },
  {
   "cell_type": "code",
   "execution_count": 17,
   "metadata": {},
   "outputs": [
    {
     "data": {
      "image/png": "[encoded data removed]",
      "text/plain": [
       "<Figure size 432x288 with 1 Axes>"
      ]
     },
     "metadata": {
      "needs_background": "light"
     },
     "output_type": "display_data"
    }
   ],
   "source": [
    "import matplotlib.pyplot as plt\n",
    "import numpy as np\n",
    "\n",
    "x_v = np.arange(0,14,1)\n",
    "y_v = contradiction\n",
    "\n",
    "plt.bar(x_v,y_v)\n",
    "plt.xlabel('x')\n",
    "plt.ylabel('y')\n",
    "plt.title('Contradiction')\n",
    "plt.show()"
   ]
  },
  {
   "cell_type": "code",
   "execution_count": 18,
   "metadata": {},
   "outputs": [
    {
     "data": {
      "image/png": "[encoded data removed]",
      "text/plain": [
       "<Figure size 432x288 with 1 Axes>"
      ]
     },
     "metadata": {
      "needs_background": "light"
     },
     "output_type": "display_data"
    }
   ],
   "source": [
    "x_v = np.arange(0,14,1)\n",
    "y_v = entailment\n",
    "\n",
    "plt.bar(x_v,y_v)\n",
    "plt.xlabel('x')\n",
    "plt.ylabel('y')\n",
    "plt.title('Entailment')\n",
    "plt.show()"
   ]
  },
  {
   "cell_type": "code",
   "execution_count": 19,
   "metadata": {},
   "outputs": [
    {
     "data": {
      "image/png": "[encoded data removed]",
      "text/plain": [
       "<Figure size 432x288 with 1 Axes>"
      ]
     },
     "metadata": {
      "needs_background": "light"
     },
     "output_type": "display_data"
    }
   ],
   "source": [
    "x_v = np.arange(0,14,1)\n",
    "y_v = neutral\n",
    "\n",
    "plt.bar(x_v,y_v)\n",
    "plt.xlabel('x')\n",
    "plt.ylabel('y')\n",
    "plt.title('Neutral')\n",
    "plt.show()"
   ]
  },
  {
   "cell_type": "code",
   "execution_count": 20,
   "metadata": {},
   "outputs": [
    {
     "name": "stdout",
     "output_type": "stream",
     "text": [
      "['entailment' 'entailment' 'neutral' 'entailment' 'neutral' 'neutral'\n",
      " 'entailment' 'entailment' 'entailment' 'entailment' 'entailment'\n",
      " 'entailment' 'entailment' 'neutral' 'neutral' 'neutral' 'entailment'\n",
      " 'entailment' 'entailment' 'entailment' 'entailment' 'entailment'\n",
      " 'neutral' 'entailment' 'entailment' 'entailment' 'entailment' 'neutral'\n",
      " 'entailment' 'entailment' 'entailment' 'entailment' 'entailment'\n",
      " 'entailment' 'entailment' 'entailment' 'entailment' 'entailment'\n",
      " 'entailment' 'entailment' 'neutral' 'neutral' 'neutral' 'neutral'\n",
      " 'entailment' 'entailment' 'entailment' 'entailment' 'entailment'\n",
      " 'entailment' 'entailment' 'entailment' 'contradiction' 'entailment'\n",
      " 'entailment' 'entailment' 'entailment' 'neutral' 'entailment'\n",
      " 'entailment' 'entailment' 'entailment' 'entailment' 'entailment'\n",
      " 'entailment' 'entailment' 'entailment' 'neutral' 'entailment' 'neutral'\n",
      " 'entailment' 'contradiction' 'entailment' 'entailment' 'contradiction'\n",
      " 'entailment' 'entailment' 'entailment' 'entailment' 'entailment'\n",
      " 'neutral' 'entailment' 'entailment' 'entailment' 'contradiction'\n",
      " 'neutral' 'entailment' 'entailment' 'entailment' 'entailment' 'neutral'\n",
      " 'neutral' 'neutral' 'entailment' 'neutral' 'entailment' 'entailment'\n",
      " 'contradiction' 'entailment' 'neutral']\n"
     ]
    }
   ],
   "source": [
    "predictions = model.predict(X)\n",
    "print(predictions)"
   ]
  },
  {
   "cell_type": "code",
   "execution_count": 56,
   "metadata": {},
   "outputs": [],
   "source": [
    "pred=['entailment','entailment', 'neutral' ,'entailment' ,'neutral' ,'neutral',\n",
    " 'entailment' ,'entailment' ,'entailment', 'entailment' ,'entailment',\n",
    " 'entailment' ,'entailment' ,'neutral', 'neutral' ,'neutral', 'entailment',\n",
    " 'entailment' ,'entailment', 'entailment', 'entailment' ,'entailment',\n",
    " 'neutral' ,'entailment', 'entailment', 'entailment' ,'entailment' ,'neutral',\n",
    " 'entailment', 'entailment' ,'entailment' ,'entailment', 'entailment',\n",
    " 'entailment' ,'entailment' ,'entailment', 'entailment' ,'entailment',\n",
    " 'entailment' ,'entailment' ,'neutral', 'neutral', 'neutral', 'neutral',\n",
    " 'entailment' ,'entailment' ,'entailment' ,'entailment' ,'entailment',\n",
    " 'entailment' ,'entailment' ,'entailment', 'contradiction', 'entailment',\n",
    " 'entailment' ,'entailment' ,'entailment', 'neutral' ,'entailment',\n",
    " 'entailment' ,'entailment', 'entailment', 'entailment', 'entailment',\n",
    " 'entailment' ,'entailment' ,'entailment', 'neutral', 'entailment', 'neutral',\n",
    " 'entailment' ,'contradiction', 'entailment', 'entailment', 'contradiction',\n",
    " 'entailment' ,'entailment', 'entailment' ,'entailment', 'entailment',\n",
    " 'neutral' ,'entailment' ,'entailment' ,'entailment' ,'contradiction',\n",
    " 'neutral' ,'entailment', 'entailment', 'entailment', 'entailment', 'neutral',\n",
    " 'neutral' ,'neutral', 'entailment' ,'neutral' ,'entailment' ,'entailment',\n",
    " 'contradiction', 'entailment', 'neutral']"
   ]
  },
  {
   "cell_type": "code",
   "execution_count": 57,
   "metadata": {},
   "outputs": [
    {
     "data": {
      "text/plain": [
       "100"
      ]
     },
     "execution_count": 57,
     "metadata": {},
     "output_type": "execute_result"
    }
   ],
   "source": [
    "len(pred)"
   ]
  },
  {
   "cell_type": "code",
   "execution_count": 58,
   "metadata": {},
   "outputs": [],
   "source": [
    "reales=['entailment', 'entailment', 'contradiction', 'contradiction',\n",
    "       'neutral', 'neutral', 'neutral', 'entailment', 'neutral',\n",
    "       'entailment', 'neutral', 'contradiction', 'entailment',\n",
    "       'contradiction', 'neutral', 'neutral', 'entailment',\n",
    "       'contradiction', 'contradiction', 'entailment', 'entailment',\n",
    "       'entailment', 'neutral', 'contradiction', 'entailment', 'neutral',\n",
    "       'entailment', 'entailment', 'entailment', 'neutral', 'neutral',\n",
    "       'contradiction', 'contradiction', 'entailment', 'contradiction',\n",
    "       'neutral', 'entailment', 'neutral', 'neutral', 'entailment',\n",
    "       'neutral', 'neutral', 'contradiction', 'neutral', 'entailment',\n",
    "       'neutral', 'neutral', 'entailment', 'contradiction', 'neutral',\n",
    "       'entailment', 'entailment', 'neutral', 'entailment',\n",
    "       'contradiction', 'entailment', 'entailment', 'neutral', 'neutral',\n",
    "       'neutral', 'neutral', 'neutral', 'neutral', 'entailment',\n",
    "       'entailment', 'contradiction', 'entailment', 'entailment',\n",
    "       'neutral', 'contradiction', 'entailment', 'contradiction',\n",
    "       'contradiction', 'contradiction', 'neutral', 'entailment',\n",
    "       'entailment', 'entailment', 'entailment', 'contradiction',\n",
    "       'neutral', 'entailment', 'entailment', 'entailment',\n",
    "       'contradiction', 'entailment', 'entailment', 'entailment',\n",
    "       'contradiction', 'contradiction', 'contradiction', 'neutral',\n",
    "       'entailment', 'entailment', 'contradiction', 'entailment',\n",
    "       'entailment', 'contradiction', 'contradiction', 'contradiction']"
   ]
  },
  {
   "cell_type": "code",
   "execution_count": 59,
   "metadata": {},
   "outputs": [
    {
     "data": {
      "text/plain": [
       "100"
      ]
     },
     "execution_count": 59,
     "metadata": {},
     "output_type": "execute_result"
    }
   ],
   "source": [
    "len(reales)"
   ]
  },
  {
   "cell_type": "code",
   "execution_count": 61,
   "metadata": {},
   "outputs": [
    {
     "name": "stdout",
     "output_type": "stream",
     "text": [
      "52\n"
     ]
    }
   ],
   "source": [
    "cantidad=0\n",
    "for i in range(len(y)):\n",
    "    if pred[i]==reales[i]:\n",
    "        cantidad+=1\n",
    "print(cantidad)"
   ]
  },
  {
   "cell_type": "code",
   "execution_count": 22,
   "metadata": {},
   "outputs": [
    {
     "data": {
      "text/plain": [
       "array([[0.69678319, 0.07606002, 1.        , ..., 0.        , 1.        ,\n",
       "        0.        ],\n",
       "       [0.76258194, 1.        , 1.        , ..., 1.        , 1.        ,\n",
       "        1.        ],\n",
       "       [0.88135701, 0.26540819, 1.        , ..., 0.        , 1.        ,\n",
       "        1.        ],\n",
       "       ...,\n",
       "       [0.07230502, 1.        , 1.        , ..., 0.        , 1.        ,\n",
       "        0.        ],\n",
       "       [0.65567428, 1.        , 1.        , ..., 0.        , 0.        ,\n",
       "        0.        ],\n",
       "       [0.61532086, 1.        , 1.        , ..., 0.        , 0.        ,\n",
       "        0.        ]])"
      ]
     },
     "execution_count": 22,
     "metadata": {},
     "output_type": "execute_result"
    }
   ],
   "source": [
    "X"
   ]
  },
  {
   "cell_type": "code",
   "execution_count": 23,
   "metadata": {},
   "outputs": [
    {
     "data": {
      "text/plain": [
       "0.52"
      ]
     },
     "execution_count": 23,
     "metadata": {},
     "output_type": "execute_result"
    }
   ],
   "source": [
    "model.score(X,y)"
   ]
  },
  {
   "cell_type": "code",
   "execution_count": 38,
   "metadata": {},
   "outputs": [],
   "source": [
    "validation_size = 0.20\n",
    "seed = 7\n",
    "X_train, X_validation, Y_train, Y_validation = model_selection.train_test_split(X, y, test_size=validation_size)"
   ]
  },
  {
   "cell_type": "code",
   "execution_count": 39,
   "metadata": {},
   "outputs": [
    {
     "name": "stdout",
     "output_type": "stream",
     "text": [
      "Logistic Regression: 0.400000 (0.266927)\n"
     ]
    }
   ],
   "source": [
    "name='Logistic Regression'\n",
    "kfold = model_selection.KFold(n_splits=20)\n",
    "cv_results = model_selection.cross_val_score(model, X_train, Y_train, cv=kfold, scoring='accuracy')\n",
    "msg = \"%s: %f (%f)\" % (name, cv_results.mean(), cv_results.std())\n",
    "print(msg)"
   ]
  },
  {
   "cell_type": "code",
   "execution_count": 40,
   "metadata": {},
   "outputs": [
    {
     "name": "stdout",
     "output_type": "stream",
     "text": [
      "0.5\n"
     ]
    }
   ],
   "source": [
    "predictions = model.predict(X_validation)\n",
    "print(accuracy_score(Y_validation, predictions))"
   ]
  },
  {
   "cell_type": "code",
   "execution_count": 41,
   "metadata": {},
   "outputs": [
    {
     "data": {
      "text/plain": [
       "array(['contradiction', 'entailment', 'neutral'], dtype=object)"
      ]
     },
     "execution_count": 41,
     "metadata": {},
     "output_type": "execute_result"
    }
   ],
   "source": [
    "model.classes_"
   ]
  },
  {
   "cell_type": "code",
   "execution_count": 42,
   "metadata": {},
   "outputs": [
    {
     "name": "stdout",
     "output_type": "stream",
     "text": [
      "[[0 2 1]\n",
      " [0 7 1]\n",
      " [1 5 3]]\n"
     ]
    }
   ],
   "source": [
    "print(confusion_matrix(Y_validation, predictions,labels=model.classes_))"
   ]
  },
  {
   "cell_type": "code",
   "execution_count": 43,
   "metadata": {},
   "outputs": [
    {
     "name": "stdout",
     "output_type": "stream",
     "text": [
      "               precision    recall  f1-score   support\n",
      "\n",
      "contradiction       0.00      0.00      0.00         3\n",
      "   entailment       0.50      0.88      0.64         8\n",
      "      neutral       0.60      0.33      0.43         9\n",
      "\n",
      "     accuracy                           0.50        20\n",
      "    macro avg       0.37      0.40      0.35        20\n",
      " weighted avg       0.47      0.50      0.45        20\n",
      "\n"
     ]
    }
   ],
   "source": [
    "print(classification_report(Y_validation, predictions))"
   ]
  }
 ],
 "metadata": {
  "kernelspec": {
   "display_name": "Python 3",
   "language": "python",
   "name": "python3"
  },
  "language_info": {
   "codemirror_mode": {
    "name": "ipython",
    "version": 3
   },
   "file_extension": ".py",
   "mimetype": "text/x-python",
   "name": "python",
   "nbconvert_exporter": "python",
   "pygments_lexer": "ipython3",
   "version": "3.8.10"
  }
 },
 "nbformat": 4,
 "nbformat_minor": 2
}
