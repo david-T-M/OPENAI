{
 "cells": [
  {
   "cell_type": "code",
   "execution_count": 1,
   "metadata": {},
   "outputs": [],
   "source": [
    "import pandas as pd\n",
    "import numpy as np\n",
    "from sklearn import linear_model\n",
    "from sklearn import model_selection\n",
    "from sklearn.metrics import classification_report\n",
    "from sklearn.metrics import confusion_matrix\n",
    "from sklearn.metrics import accuracy_score\n",
    "import matplotlib.pyplot as plt\n",
    "import seaborn as sb"
   ]
  },
  {
   "cell_type": "code",
   "execution_count": 2,
   "metadata": {},
   "outputs": [
    {
     "data": {
      "text/html": [
       "<div>\n",
       "<style scoped>\n",
       "    .dataframe tbody tr th:only-of-type {\n",
       "        vertical-align: middle;\n",
       "    }\n",
       "\n",
       "    .dataframe tbody tr th {\n",
       "        vertical-align: top;\n",
       "    }\n",
       "\n",
       "    .dataframe thead th {\n",
       "        text-align: right;\n",
       "    }\n",
       "</style>\n",
       "<table border=\"1\" class=\"dataframe\">\n",
       "  <thead>\n",
       "    <tr style=\"text-align: right;\">\n",
       "      <th></th>\n",
       "      <th>Who</th>\n",
       "      <th>Where</th>\n",
       "      <th>When</th>\n",
       "      <th>What</th>\n",
       "      <th>Why</th>\n",
       "      <th>How</th>\n",
       "      <th>Additional information</th>\n",
       "      <th>Who_w</th>\n",
       "      <th>Where_w</th>\n",
       "      <th>When_w</th>\n",
       "      <th>What_w</th>\n",
       "      <th>Why_w</th>\n",
       "      <th>How_w</th>\n",
       "      <th>Additional information_w</th>\n",
       "      <th>CLASS</th>\n",
       "    </tr>\n",
       "  </thead>\n",
       "  <tbody>\n",
       "    <tr>\n",
       "      <th>0</th>\n",
       "      <td>0.696783</td>\n",
       "      <td>0.076060</td>\n",
       "      <td>0.000000</td>\n",
       "      <td>0.505262</td>\n",
       "      <td>0.000000</td>\n",
       "      <td>0.170564</td>\n",
       "      <td>0.000000</td>\n",
       "      <td>3.637586</td>\n",
       "      <td>0.000000</td>\n",
       "      <td>0.0</td>\n",
       "      <td>2.564949</td>\n",
       "      <td>0.0</td>\n",
       "      <td>0.0</td>\n",
       "      <td>0.000000</td>\n",
       "      <td>entailment</td>\n",
       "    </tr>\n",
       "    <tr>\n",
       "      <th>1</th>\n",
       "      <td>0.762582</td>\n",
       "      <td>0.087866</td>\n",
       "      <td>0.190637</td>\n",
       "      <td>0.944161</td>\n",
       "      <td>0.063499</td>\n",
       "      <td>0.223710</td>\n",
       "      <td>0.699488</td>\n",
       "      <td>3.637586</td>\n",
       "      <td>0.000000</td>\n",
       "      <td>0.0</td>\n",
       "      <td>3.637586</td>\n",
       "      <td>0.0</td>\n",
       "      <td>0.0</td>\n",
       "      <td>3.637586</td>\n",
       "      <td>entailment</td>\n",
       "    </tr>\n",
       "    <tr>\n",
       "      <th>2</th>\n",
       "      <td>0.881357</td>\n",
       "      <td>0.265408</td>\n",
       "      <td>0.000000</td>\n",
       "      <td>0.360803</td>\n",
       "      <td>0.000000</td>\n",
       "      <td>0.317074</td>\n",
       "      <td>0.068419</td>\n",
       "      <td>3.637586</td>\n",
       "      <td>2.251292</td>\n",
       "      <td>0.0</td>\n",
       "      <td>2.538974</td>\n",
       "      <td>0.0</td>\n",
       "      <td>0.0</td>\n",
       "      <td>0.000000</td>\n",
       "      <td>contradiction</td>\n",
       "    </tr>\n",
       "    <tr>\n",
       "      <th>3</th>\n",
       "      <td>0.153366</td>\n",
       "      <td>0.203428</td>\n",
       "      <td>0.000000</td>\n",
       "      <td>0.358316</td>\n",
       "      <td>0.000000</td>\n",
       "      <td>0.000000</td>\n",
       "      <td>0.000000</td>\n",
       "      <td>2.028148</td>\n",
       "      <td>0.000000</td>\n",
       "      <td>0.0</td>\n",
       "      <td>3.637586</td>\n",
       "      <td>0.0</td>\n",
       "      <td>0.0</td>\n",
       "      <td>0.000000</td>\n",
       "      <td>contradiction</td>\n",
       "    </tr>\n",
       "    <tr>\n",
       "      <th>4</th>\n",
       "      <td>0.919903</td>\n",
       "      <td>0.715984</td>\n",
       "      <td>0.000000</td>\n",
       "      <td>0.224679</td>\n",
       "      <td>0.000000</td>\n",
       "      <td>0.000000</td>\n",
       "      <td>0.172891</td>\n",
       "      <td>3.637586</td>\n",
       "      <td>3.637586</td>\n",
       "      <td>0.0</td>\n",
       "      <td>2.251292</td>\n",
       "      <td>0.0</td>\n",
       "      <td>0.0</td>\n",
       "      <td>0.000000</td>\n",
       "      <td>neutral</td>\n",
       "    </tr>\n",
       "    <tr>\n",
       "      <th>...</th>\n",
       "      <td>...</td>\n",
       "      <td>...</td>\n",
       "      <td>...</td>\n",
       "      <td>...</td>\n",
       "      <td>...</td>\n",
       "      <td>...</td>\n",
       "      <td>...</td>\n",
       "      <td>...</td>\n",
       "      <td>...</td>\n",
       "      <td>...</td>\n",
       "      <td>...</td>\n",
       "      <td>...</td>\n",
       "      <td>...</td>\n",
       "      <td>...</td>\n",
       "      <td>...</td>\n",
       "    </tr>\n",
       "    <tr>\n",
       "      <th>95</th>\n",
       "      <td>0.706643</td>\n",
       "      <td>0.210286</td>\n",
       "      <td>0.000000</td>\n",
       "      <td>0.570392</td>\n",
       "      <td>0.000000</td>\n",
       "      <td>0.137777</td>\n",
       "      <td>0.000000</td>\n",
       "      <td>3.637586</td>\n",
       "      <td>0.000000</td>\n",
       "      <td>0.0</td>\n",
       "      <td>3.637586</td>\n",
       "      <td>0.0</td>\n",
       "      <td>0.0</td>\n",
       "      <td>0.000000</td>\n",
       "      <td>entailment</td>\n",
       "    </tr>\n",
       "    <tr>\n",
       "      <th>96</th>\n",
       "      <td>0.894956</td>\n",
       "      <td>0.000000</td>\n",
       "      <td>0.000000</td>\n",
       "      <td>0.830284</td>\n",
       "      <td>0.000000</td>\n",
       "      <td>0.000000</td>\n",
       "      <td>0.000000</td>\n",
       "      <td>3.637586</td>\n",
       "      <td>0.000000</td>\n",
       "      <td>0.0</td>\n",
       "      <td>3.637586</td>\n",
       "      <td>0.0</td>\n",
       "      <td>0.0</td>\n",
       "      <td>0.000000</td>\n",
       "      <td>entailment</td>\n",
       "    </tr>\n",
       "    <tr>\n",
       "      <th>97</th>\n",
       "      <td>0.072305</td>\n",
       "      <td>0.000000</td>\n",
       "      <td>0.000000</td>\n",
       "      <td>0.086890</td>\n",
       "      <td>0.000000</td>\n",
       "      <td>0.189328</td>\n",
       "      <td>0.000000</td>\n",
       "      <td>3.637586</td>\n",
       "      <td>0.000000</td>\n",
       "      <td>0.0</td>\n",
       "      <td>3.637586</td>\n",
       "      <td>0.0</td>\n",
       "      <td>0.0</td>\n",
       "      <td>0.000000</td>\n",
       "      <td>contradiction</td>\n",
       "    </tr>\n",
       "    <tr>\n",
       "      <th>98</th>\n",
       "      <td>0.655674</td>\n",
       "      <td>0.139479</td>\n",
       "      <td>0.000000</td>\n",
       "      <td>0.357685</td>\n",
       "      <td>0.000000</td>\n",
       "      <td>0.000000</td>\n",
       "      <td>0.000000</td>\n",
       "      <td>3.637586</td>\n",
       "      <td>0.000000</td>\n",
       "      <td>0.0</td>\n",
       "      <td>2.564949</td>\n",
       "      <td>0.0</td>\n",
       "      <td>0.0</td>\n",
       "      <td>0.000000</td>\n",
       "      <td>contradiction</td>\n",
       "    </tr>\n",
       "    <tr>\n",
       "      <th>99</th>\n",
       "      <td>0.615321</td>\n",
       "      <td>0.239361</td>\n",
       "      <td>0.000000</td>\n",
       "      <td>0.030110</td>\n",
       "      <td>0.000000</td>\n",
       "      <td>0.000000</td>\n",
       "      <td>0.000000</td>\n",
       "      <td>3.637586</td>\n",
       "      <td>0.000000</td>\n",
       "      <td>0.0</td>\n",
       "      <td>2.564949</td>\n",
       "      <td>0.0</td>\n",
       "      <td>0.0</td>\n",
       "      <td>0.000000</td>\n",
       "      <td>contradiction</td>\n",
       "    </tr>\n",
       "  </tbody>\n",
       "</table>\n",
       "<p>100 rows × 15 columns</p>\n",
       "</div>"
      ],
      "text/plain": [
       "         Who     Where      When      What       Why       How  \\\n",
       "0   0.696783  0.076060  0.000000  0.505262  0.000000  0.170564   \n",
       "1   0.762582  0.087866  0.190637  0.944161  0.063499  0.223710   \n",
       "2   0.881357  0.265408  0.000000  0.360803  0.000000  0.317074   \n",
       "3   0.153366  0.203428  0.000000  0.358316  0.000000  0.000000   \n",
       "4   0.919903  0.715984  0.000000  0.224679  0.000000  0.000000   \n",
       "..       ...       ...       ...       ...       ...       ...   \n",
       "95  0.706643  0.210286  0.000000  0.570392  0.000000  0.137777   \n",
       "96  0.894956  0.000000  0.000000  0.830284  0.000000  0.000000   \n",
       "97  0.072305  0.000000  0.000000  0.086890  0.000000  0.189328   \n",
       "98  0.655674  0.139479  0.000000  0.357685  0.000000  0.000000   \n",
       "99  0.615321  0.239361  0.000000  0.030110  0.000000  0.000000   \n",
       "\n",
       "    Additional information     Who_w   Where_w  When_w    What_w  Why_w  \\\n",
       "0                 0.000000  3.637586  0.000000     0.0  2.564949    0.0   \n",
       "1                 0.699488  3.637586  0.000000     0.0  3.637586    0.0   \n",
       "2                 0.068419  3.637586  2.251292     0.0  2.538974    0.0   \n",
       "3                 0.000000  2.028148  0.000000     0.0  3.637586    0.0   \n",
       "4                 0.172891  3.637586  3.637586     0.0  2.251292    0.0   \n",
       "..                     ...       ...       ...     ...       ...    ...   \n",
       "95                0.000000  3.637586  0.000000     0.0  3.637586    0.0   \n",
       "96                0.000000  3.637586  0.000000     0.0  3.637586    0.0   \n",
       "97                0.000000  3.637586  0.000000     0.0  3.637586    0.0   \n",
       "98                0.000000  3.637586  0.000000     0.0  2.564949    0.0   \n",
       "99                0.000000  3.637586  0.000000     0.0  2.564949    0.0   \n",
       "\n",
       "    How_w  Additional information_w          CLASS  \n",
       "0     0.0                  0.000000     entailment  \n",
       "1     0.0                  3.637586     entailment  \n",
       "2     0.0                  0.000000  contradiction  \n",
       "3     0.0                  0.000000  contradiction  \n",
       "4     0.0                  0.000000        neutral  \n",
       "..    ...                       ...            ...  \n",
       "95    0.0                  0.000000     entailment  \n",
       "96    0.0                  0.000000     entailment  \n",
       "97    0.0                  0.000000  contradiction  \n",
       "98    0.0                  0.000000  contradiction  \n",
       "99    0.0                  0.000000  contradiction  \n",
       "\n",
       "[100 rows x 15 columns]"
      ]
     },
     "execution_count": 2,
     "metadata": {},
     "output_type": "execute_result"
    }
   ],
   "source": [
    "dataframe = pd.read_csv(r\"indicadores_H5W1_wordnet_sentencebert_CLASS.csv\")\n",
    "dataframe"
   ]
  },
  {
   "cell_type": "code",
   "execution_count": 3,
   "metadata": {},
   "outputs": [
    {
     "data": {
      "text/html": [
       "<div>\n",
       "<style scoped>\n",
       "    .dataframe tbody tr th:only-of-type {\n",
       "        vertical-align: middle;\n",
       "    }\n",
       "\n",
       "    .dataframe tbody tr th {\n",
       "        vertical-align: top;\n",
       "    }\n",
       "\n",
       "    .dataframe thead th {\n",
       "        text-align: right;\n",
       "    }\n",
       "</style>\n",
       "<table border=\"1\" class=\"dataframe\">\n",
       "  <thead>\n",
       "    <tr style=\"text-align: right;\">\n",
       "      <th></th>\n",
       "      <th>Who</th>\n",
       "      <th>Where</th>\n",
       "      <th>When</th>\n",
       "      <th>What</th>\n",
       "      <th>Why</th>\n",
       "      <th>How</th>\n",
       "      <th>Additional information</th>\n",
       "      <th>Who_w</th>\n",
       "      <th>Where_w</th>\n",
       "      <th>When_w</th>\n",
       "      <th>What_w</th>\n",
       "      <th>Why_w</th>\n",
       "      <th>How_w</th>\n",
       "      <th>Additional information_w</th>\n",
       "    </tr>\n",
       "  </thead>\n",
       "  <tbody>\n",
       "    <tr>\n",
       "      <th>count</th>\n",
       "      <td>100.000000</td>\n",
       "      <td>100.000000</td>\n",
       "      <td>100.000000</td>\n",
       "      <td>100.000000</td>\n",
       "      <td>100.000000</td>\n",
       "      <td>100.000000</td>\n",
       "      <td>100.000000</td>\n",
       "      <td>100.000000</td>\n",
       "      <td>100.000000</td>\n",
       "      <td>100.000000</td>\n",
       "      <td>100.000000</td>\n",
       "      <td>100.000000</td>\n",
       "      <td>100.000000</td>\n",
       "      <td>100.000000</td>\n",
       "    </tr>\n",
       "    <tr>\n",
       "      <th>mean</th>\n",
       "      <td>0.649812</td>\n",
       "      <td>0.271093</td>\n",
       "      <td>0.090596</td>\n",
       "      <td>0.405254</td>\n",
       "      <td>0.094444</td>\n",
       "      <td>0.105398</td>\n",
       "      <td>0.130433</td>\n",
       "      <td>3.216180</td>\n",
       "      <td>0.952474</td>\n",
       "      <td>0.083880</td>\n",
       "      <td>2.465364</td>\n",
       "      <td>0.155714</td>\n",
       "      <td>0.248701</td>\n",
       "      <td>0.405521</td>\n",
       "    </tr>\n",
       "    <tr>\n",
       "      <th>std</th>\n",
       "      <td>0.285327</td>\n",
       "      <td>0.278851</td>\n",
       "      <td>0.171786</td>\n",
       "      <td>0.290139</td>\n",
       "      <td>0.180641</td>\n",
       "      <td>0.154895</td>\n",
       "      <td>0.192638</td>\n",
       "      <td>0.979224</td>\n",
       "      <td>1.417860</td>\n",
       "      <td>0.492678</td>\n",
       "      <td>1.268416</td>\n",
       "      <td>0.691334</td>\n",
       "      <td>0.747393</td>\n",
       "      <td>1.052825</td>\n",
       "    </tr>\n",
       "    <tr>\n",
       "      <th>min</th>\n",
       "      <td>0.000000</td>\n",
       "      <td>0.000000</td>\n",
       "      <td>0.000000</td>\n",
       "      <td>-0.011613</td>\n",
       "      <td>-0.009505</td>\n",
       "      <td>-0.002661</td>\n",
       "      <td>-0.061773</td>\n",
       "      <td>0.000000</td>\n",
       "      <td>0.000000</td>\n",
       "      <td>0.000000</td>\n",
       "      <td>0.000000</td>\n",
       "      <td>0.000000</td>\n",
       "      <td>0.000000</td>\n",
       "      <td>0.000000</td>\n",
       "    </tr>\n",
       "    <tr>\n",
       "      <th>25%</th>\n",
       "      <td>0.474195</td>\n",
       "      <td>0.086424</td>\n",
       "      <td>0.000000</td>\n",
       "      <td>0.171322</td>\n",
       "      <td>0.000000</td>\n",
       "      <td>0.000000</td>\n",
       "      <td>0.000000</td>\n",
       "      <td>3.637586</td>\n",
       "      <td>0.000000</td>\n",
       "      <td>0.000000</td>\n",
       "      <td>1.871802</td>\n",
       "      <td>0.000000</td>\n",
       "      <td>0.000000</td>\n",
       "      <td>0.000000</td>\n",
       "    </tr>\n",
       "    <tr>\n",
       "      <th>50%</th>\n",
       "      <td>0.681552</td>\n",
       "      <td>0.206847</td>\n",
       "      <td>0.000000</td>\n",
       "      <td>0.326847</td>\n",
       "      <td>0.000000</td>\n",
       "      <td>0.041717</td>\n",
       "      <td>0.083760</td>\n",
       "      <td>3.637586</td>\n",
       "      <td>0.000000</td>\n",
       "      <td>0.000000</td>\n",
       "      <td>2.564949</td>\n",
       "      <td>0.000000</td>\n",
       "      <td>0.000000</td>\n",
       "      <td>0.000000</td>\n",
       "    </tr>\n",
       "    <tr>\n",
       "      <th>75%</th>\n",
       "      <td>0.896777</td>\n",
       "      <td>0.302398</td>\n",
       "      <td>0.187566</td>\n",
       "      <td>0.635148</td>\n",
       "      <td>0.187566</td>\n",
       "      <td>0.187566</td>\n",
       "      <td>0.187566</td>\n",
       "      <td>3.637586</td>\n",
       "      <td>1.730214</td>\n",
       "      <td>0.000000</td>\n",
       "      <td>3.637586</td>\n",
       "      <td>0.000000</td>\n",
       "      <td>0.000000</td>\n",
       "      <td>0.000000</td>\n",
       "    </tr>\n",
       "    <tr>\n",
       "      <th>max</th>\n",
       "      <td>1.000000</td>\n",
       "      <td>1.000000</td>\n",
       "      <td>1.000000</td>\n",
       "      <td>1.000000</td>\n",
       "      <td>1.000000</td>\n",
       "      <td>1.000000</td>\n",
       "      <td>1.000000</td>\n",
       "      <td>3.637586</td>\n",
       "      <td>3.637586</td>\n",
       "      <td>3.258097</td>\n",
       "      <td>3.637586</td>\n",
       "      <td>3.637586</td>\n",
       "      <td>3.637586</td>\n",
       "      <td>3.637586</td>\n",
       "    </tr>\n",
       "  </tbody>\n",
       "</table>\n",
       "</div>"
      ],
      "text/plain": [
       "              Who       Where        When        What         Why         How  \\\n",
       "count  100.000000  100.000000  100.000000  100.000000  100.000000  100.000000   \n",
       "mean     0.649812    0.271093    0.090596    0.405254    0.094444    0.105398   \n",
       "std      0.285327    0.278851    0.171786    0.290139    0.180641    0.154895   \n",
       "min      0.000000    0.000000    0.000000   -0.011613   -0.009505   -0.002661   \n",
       "25%      0.474195    0.086424    0.000000    0.171322    0.000000    0.000000   \n",
       "50%      0.681552    0.206847    0.000000    0.326847    0.000000    0.041717   \n",
       "75%      0.896777    0.302398    0.187566    0.635148    0.187566    0.187566   \n",
       "max      1.000000    1.000000    1.000000    1.000000    1.000000    1.000000   \n",
       "\n",
       "       Additional information       Who_w     Where_w      When_w      What_w  \\\n",
       "count              100.000000  100.000000  100.000000  100.000000  100.000000   \n",
       "mean                 0.130433    3.216180    0.952474    0.083880    2.465364   \n",
       "std                  0.192638    0.979224    1.417860    0.492678    1.268416   \n",
       "min                 -0.061773    0.000000    0.000000    0.000000    0.000000   \n",
       "25%                  0.000000    3.637586    0.000000    0.000000    1.871802   \n",
       "50%                  0.083760    3.637586    0.000000    0.000000    2.564949   \n",
       "75%                  0.187566    3.637586    1.730214    0.000000    3.637586   \n",
       "max                  1.000000    3.637586    3.637586    3.258097    3.637586   \n",
       "\n",
       "            Why_w       How_w  Additional information_w  \n",
       "count  100.000000  100.000000                100.000000  \n",
       "mean     0.155714    0.248701                  0.405521  \n",
       "std      0.691334    0.747393                  1.052825  \n",
       "min      0.000000    0.000000                  0.000000  \n",
       "25%      0.000000    0.000000                  0.000000  \n",
       "50%      0.000000    0.000000                  0.000000  \n",
       "75%      0.000000    0.000000                  0.000000  \n",
       "max      3.637586    3.637586                  3.637586  "
      ]
     },
     "execution_count": 3,
     "metadata": {},
     "output_type": "execute_result"
    }
   ],
   "source": [
    "dataframe.describe()"
   ]
  },
  {
   "cell_type": "code",
   "execution_count": 4,
   "metadata": {},
   "outputs": [
    {
     "name": "stdout",
     "output_type": "stream",
     "text": [
      "CLASS\n",
      "contradiction    27\n",
      "entailment       42\n",
      "neutral          31\n",
      "dtype: int64\n"
     ]
    }
   ],
   "source": [
    "print(dataframe.groupby('CLASS').size())"
   ]
  },
  {
   "cell_type": "code",
   "execution_count": 5,
   "metadata": {},
   "outputs": [
    {
     "data": {
      "image/png": "[encoded data removed]",
      "text/plain": [
       "<Figure size 2000x1000 with 16 Axes>"
      ]
     },
     "metadata": {},
     "output_type": "display_data"
    }
   ],
   "source": [
    "dataframe.hist(figsize=(20,10))\n",
    "plt.show()"
   ]
  },
  {
   "cell_type": "code",
   "execution_count": 6,
   "metadata": {},
   "outputs": [],
   "source": [
    "#sb.pairplot(dataframe.dropna(), hue='CLASS',size=4,vars=['Who','Where','When','What','Why','How','Additional information'],kind='reg')"
   ]
  },
  {
   "cell_type": "code",
   "execution_count": 7,
   "metadata": {},
   "outputs": [
    {
     "name": "stderr",
     "output_type": "stream",
     "text": [
      "C:\\Users\\Ninja\\AppData\\Local\\Temp\\ipykernel_19156\\1802400925.py:1: FutureWarning: In a future version of pandas all arguments of DataFrame.drop except for the argument 'labels' will be keyword-only.\n",
      "  X = np.array(dataframe.drop(['CLASS'],1))\n",
      "C:\\Users\\Ninja\\AppData\\Local\\Temp\\ipykernel_19156\\1802400925.py:2: FutureWarning: In a future version of pandas all arguments of DataFrame.drop except for the argument 'labels' will be keyword-only.\n",
      "  X_test = np.array(dataframe.drop(['CLASS'],1))\n"
     ]
    },
    {
     "data": {
      "text/plain": [
       "(100, 14)"
      ]
     },
     "execution_count": 7,
     "metadata": {},
     "output_type": "execute_result"
    }
   ],
   "source": [
    "X = np.array(dataframe.drop(['CLASS'],1))\n",
    "X_test = np.array(dataframe.drop(['CLASS'],1))\n",
    "y = np.array(dataframe['CLASS'])\n",
    "y_test =np.array(dataframe['CLASS'])\n",
    "X.shape"
   ]
  },
  {
   "cell_type": "code",
   "execution_count": 8,
   "metadata": {},
   "outputs": [
    {
     "data": {
      "text/plain": [
       "array(['entailment', 'entailment', 'contradiction', 'contradiction',\n",
       "       'neutral', 'neutral', 'neutral', 'entailment', 'neutral',\n",
       "       'entailment', 'neutral', 'contradiction', 'entailment',\n",
       "       'contradiction', 'neutral', 'neutral', 'entailment',\n",
       "       'contradiction', 'contradiction', 'entailment', 'entailment',\n",
       "       'entailment', 'neutral', 'contradiction', 'entailment', 'neutral',\n",
       "       'entailment', 'entailment', 'entailment', 'neutral', 'neutral',\n",
       "       'contradiction', 'contradiction', 'entailment', 'contradiction',\n",
       "       'neutral', 'entailment', 'neutral', 'neutral', 'entailment',\n",
       "       'neutral', 'neutral', 'contradiction', 'neutral', 'entailment',\n",
       "       'neutral', 'neutral', 'entailment', 'contradiction', 'neutral',\n",
       "       'entailment', 'entailment', 'neutral', 'entailment',\n",
       "       'contradiction', 'entailment', 'entailment', 'neutral', 'neutral',\n",
       "       'neutral', 'neutral', 'neutral', 'neutral', 'entailment',\n",
       "       'entailment', 'contradiction', 'entailment', 'entailment',\n",
       "       'neutral', 'contradiction', 'entailment', 'contradiction',\n",
       "       'contradiction', 'contradiction', 'neutral', 'entailment',\n",
       "       'entailment', 'entailment', 'entailment', 'contradiction',\n",
       "       'neutral', 'entailment', 'entailment', 'entailment',\n",
       "       'contradiction', 'entailment', 'entailment', 'entailment',\n",
       "       'contradiction', 'contradiction', 'contradiction', 'neutral',\n",
       "       'entailment', 'entailment', 'contradiction', 'entailment',\n",
       "       'entailment', 'contradiction', 'contradiction', 'contradiction'],\n",
       "      dtype=object)"
      ]
     },
     "execution_count": 8,
     "metadata": {},
     "output_type": "execute_result"
    }
   ],
   "source": [
    "y_test"
   ]
  },
  {
   "cell_type": "code",
   "execution_count": 9,
   "metadata": {},
   "outputs": [
    {
     "data": {
      "text/plain": [
       "array(['entailment', 'entailment', 'contradiction', 'contradiction',\n",
       "       'neutral', 'neutral', 'neutral', 'entailment', 'neutral',\n",
       "       'entailment', 'neutral', 'contradiction', 'entailment',\n",
       "       'contradiction', 'neutral', 'neutral', 'entailment',\n",
       "       'contradiction', 'contradiction', 'entailment', 'entailment',\n",
       "       'entailment', 'neutral', 'contradiction', 'entailment', 'neutral',\n",
       "       'entailment', 'entailment', 'entailment', 'neutral', 'neutral',\n",
       "       'contradiction', 'contradiction', 'entailment', 'contradiction',\n",
       "       'neutral', 'entailment', 'neutral', 'neutral', 'entailment',\n",
       "       'neutral', 'neutral', 'contradiction', 'neutral', 'entailment',\n",
       "       'neutral', 'neutral', 'entailment', 'contradiction', 'neutral',\n",
       "       'entailment', 'entailment', 'neutral', 'entailment',\n",
       "       'contradiction', 'entailment', 'entailment', 'neutral', 'neutral',\n",
       "       'neutral', 'neutral', 'neutral', 'neutral', 'entailment',\n",
       "       'entailment', 'contradiction', 'entailment', 'entailment',\n",
       "       'neutral', 'contradiction', 'entailment', 'contradiction',\n",
       "       'contradiction', 'contradiction', 'neutral', 'entailment',\n",
       "       'entailment', 'entailment', 'entailment', 'contradiction',\n",
       "       'neutral', 'entailment', 'entailment', 'entailment',\n",
       "       'contradiction', 'entailment', 'entailment', 'entailment',\n",
       "       'contradiction', 'contradiction', 'contradiction', 'neutral',\n",
       "       'entailment', 'entailment', 'contradiction', 'entailment',\n",
       "       'entailment', 'contradiction', 'contradiction', 'contradiction'],\n",
       "      dtype=object)"
      ]
     },
     "execution_count": 9,
     "metadata": {},
     "output_type": "execute_result"
    }
   ],
   "source": [
    "y"
   ]
  },
  {
   "cell_type": "code",
   "execution_count": 10,
   "metadata": {},
   "outputs": [
    {
     "data": {
      "text/plain": [
       "LogisticRegression(C=0.1)"
      ]
     },
     "execution_count": 10,
     "metadata": {},
     "output_type": "execute_result"
    }
   ],
   "source": [
    "model = linear_model.LogisticRegression(penalty=\"l2\", C=0.1)\n",
    "model.fit(X,y)"
   ]
  },
  {
   "cell_type": "code",
   "execution_count": 11,
   "metadata": {},
   "outputs": [
    {
     "data": {
      "text/plain": [
       "{'C': 0.1,\n",
       " 'class_weight': None,\n",
       " 'dual': False,\n",
       " 'fit_intercept': True,\n",
       " 'intercept_scaling': 1,\n",
       " 'l1_ratio': None,\n",
       " 'max_iter': 100,\n",
       " 'multi_class': 'auto',\n",
       " 'n_jobs': None,\n",
       " 'penalty': 'l2',\n",
       " 'random_state': None,\n",
       " 'solver': 'lbfgs',\n",
       " 'tol': 0.0001,\n",
       " 'verbose': 0,\n",
       " 'warm_start': False}"
      ]
     },
     "execution_count": 11,
     "metadata": {},
     "output_type": "execute_result"
    }
   ],
   "source": [
    "model.get_params()"
   ]
  },
  {
   "cell_type": "code",
   "execution_count": 12,
   "metadata": {},
   "outputs": [
    {
     "data": {
      "text/plain": [
       "array([[ 7.74334670e-04,  2.65809086e-01, -2.66583420e-01],\n",
       "       [-5.79467821e-01,  7.94274637e-01, -2.14806816e-01],\n",
       "       [-4.03442283e-01,  3.03461120e-01,  9.99811629e-02],\n",
       "       [ 2.58492136e-01,  3.03102079e-01, -5.61594215e-01],\n",
       "       [-6.82884113e-01,  3.16726601e-01,  3.66157511e-01],\n",
       "       [-5.13663371e-01,  3.24144770e-01,  1.89518601e-01],\n",
       "       [-1.37558814e+00, -4.71507185e-01,  1.84709533e+00],\n",
       "       [-5.97768610e-01,  2.53352482e-01,  3.44416127e-01],\n",
       "       [-9.26827867e-01, -7.13233008e-01,  1.64006087e+00],\n",
       "       [ 9.34307801e-02,  2.59852511e-01, -3.53283292e-01],\n",
       "       [ 5.67792068e-02,  7.06931643e-02, -1.27472371e-01],\n",
       "       [ 9.51601201e-02,  2.57272891e-01, -3.52433011e-01],\n",
       "       [ 7.89287240e-03,  4.31246699e-01, -4.39139571e-01],\n",
       "       [ 1.55644492e-01, -9.33916771e-02, -6.22528153e-02],\n",
       "       [-7.02624012e-01,  4.05048551e-01,  2.97575462e-01],\n",
       "       [-1.00799457e+00,  2.61439481e-01,  7.46555092e-01],\n",
       "       [-5.54036498e-01,  6.81168382e-01, -1.27131884e-01],\n",
       "       [-5.78005726e-01,  3.22435981e-01,  2.55569745e-01],\n",
       "       [ 6.40846011e-02,  4.29791546e-01, -4.93876147e-01],\n",
       "       [ 3.80004446e-02,  3.40691524e-01, -3.78691969e-01],\n",
       "       [-1.77090712e-01,  1.40108253e-01,  3.69824592e-02],\n",
       "       [ 3.69124572e-02,  3.22637307e-01, -3.59549765e-01],\n",
       "       [-1.83930036e-01,  1.84631321e-01, -7.01285359e-04],\n",
       "       [ 3.56563578e-02,  2.71971497e-01, -3.07627855e-01],\n",
       "       [ 6.28818669e-02,  3.61472481e-01, -4.24354348e-01],\n",
       "       [ 2.31809441e-02,  1.28720936e-01, -1.51901880e-01],\n",
       "       [ 9.02536566e-02,  2.16017475e-01, -3.06271132e-01],\n",
       "       [-4.23549854e-01,  5.29636927e-01, -1.06087073e-01],\n",
       "       [-6.77314009e-01,  3.17877910e-01,  3.59436099e-01],\n",
       "       [ 2.75377138e-02,  1.44950816e-01, -1.72488530e-01],\n",
       "       [-3.88646106e-02,  1.70832003e-01, -1.31967393e-01],\n",
       "       [ 1.24810547e-01,  4.31859915e-01, -5.56670462e-01],\n",
       "       [-1.08763265e-01,  3.41581486e-01, -2.32818221e-01],\n",
       "       [-1.41211605e-01,  8.18933926e-01, -6.77722321e-01],\n",
       "       [-4.79018826e-02, -2.37956727e-01,  2.85858609e-01],\n",
       "       [ 1.53884763e-01,  1.49926332e-01, -3.03811094e-01],\n",
       "       [-8.15306679e-01,  2.96791532e-01,  5.18515147e-01],\n",
       "       [ 8.23172404e-02,  2.45549926e-01, -3.27867166e-01],\n",
       "       [ 1.36237301e-01,  1.59575097e-01, -2.95812399e-01],\n",
       "       [-5.65317648e-01,  6.03038526e-01, -3.77208780e-02],\n",
       "       [-2.00952818e-01,  1.91472613e-01,  9.48020561e-03],\n",
       "       [-6.80462498e-01,  2.57982635e-01,  4.22479863e-01],\n",
       "       [ 1.68005559e-02,  9.11217213e-02, -1.07922277e-01],\n",
       "       [-1.65505496e-01,  4.67238533e-02,  1.18781643e-01],\n",
       "       [ 2.05515820e-01,  8.11133026e-02, -2.86629122e-01],\n",
       "       [-3.33747199e-01,  3.43182708e-01, -9.43550848e-03],\n",
       "       [-1.43615552e-02,  3.76980119e-01, -3.62618564e-01],\n",
       "       [ 2.92232902e-01,  5.16182463e-01, -8.08415364e-01],\n",
       "       [-5.09118341e-02,  3.39201776e-02,  1.69916565e-02],\n",
       "       [-6.59975965e-01, -2.02959852e-01,  8.62935817e-01],\n",
       "       [-7.84733691e-02,  4.64409786e-01, -3.85936417e-01],\n",
       "       [-2.51007582e-01,  5.97745821e-01, -3.46738238e-01],\n",
       "       [-4.84325373e-01,  4.06576635e-01,  7.77487375e-02],\n",
       "       [ 3.91158412e-02,  3.80019927e-01, -4.19135768e-01],\n",
       "       [-1.66473529e-02,  3.73137052e-01, -3.56489700e-01],\n",
       "       [-2.94488686e-03,  4.65540388e-01, -4.62595501e-01],\n",
       "       [ 9.12810182e-02,  3.92567328e-01, -4.83848346e-01],\n",
       "       [-6.07169774e-01,  2.29224519e-01,  3.77945255e-01],\n",
       "       [-5.14182083e-01,  3.08318205e-01,  2.05863879e-01],\n",
       "       [-1.42627165e-03,  5.35216084e-01, -5.33789813e-01],\n",
       "       [-7.00754748e-01,  3.15551100e-01,  3.85203648e-01],\n",
       "       [-3.39519673e-02,  1.30155586e-01, -9.62036187e-02],\n",
       "       [-4.99900129e-01,  3.28873678e-01,  1.71026452e-01],\n",
       "       [-7.61703588e-02,  5.84388534e-01, -5.08218175e-01],\n",
       "       [-4.63263881e-01,  5.33220322e-01, -6.99564415e-02],\n",
       "       [ 8.38514234e-03,  2.75698503e-01, -2.84083645e-01],\n",
       "       [-1.84012074e-02,  4.32092122e-01, -4.13690914e-01],\n",
       "       [-7.92157654e-01,  3.12187775e-01,  4.79969879e-01],\n",
       "       [ 6.84223523e-02,  3.14336296e-01, -3.82758648e-01],\n",
       "       [ 1.27107477e-01,  4.13876715e-02, -1.68495149e-01],\n",
       "       [-7.70085763e-01,  4.93948614e-01,  2.76137149e-01],\n",
       "       [ 2.01563216e-01, -3.33475568e-02, -1.68215659e-01],\n",
       "       [ 1.70686396e-01,  1.43169979e-01, -3.13856375e-01],\n",
       "       [-8.24691278e-01,  4.44010327e-01,  3.80680951e-01],\n",
       "       [ 1.76907825e-01,  9.00451447e-02, -2.66952970e-01],\n",
       "       [-6.06555024e-01,  4.93026436e-01,  1.13528588e-01],\n",
       "       [-4.18349948e-01,  5.77458206e-01, -1.59108257e-01],\n",
       "       [-7.06242356e-01,  6.31941582e-01,  7.43007747e-02],\n",
       "       [-3.50154350e-01,  5.22432076e-01, -1.72277727e-01],\n",
       "       [ 3.09859391e-02,  2.51949103e-01, -2.82935042e-01],\n",
       "       [-2.78007555e-01,  4.42425520e-01, -1.64417965e-01],\n",
       "       [-1.49165384e-01,  2.97750679e-01, -1.48585295e-01],\n",
       "       [-4.44269603e-01,  3.67176723e-01,  7.70928800e-02],\n",
       "       [-1.85387365e-01,  3.77721807e-01, -1.92334442e-01],\n",
       "       [ 1.50802451e-01,  2.72288639e-01, -4.23091090e-01],\n",
       "       [-4.66196506e-02,  1.50139623e-01, -1.03519973e-01],\n",
       "       [-7.68757185e-01,  3.24174407e-01,  4.44582778e-01],\n",
       "       [-4.66303542e-02,  1.98435424e-01, -1.51805070e-01],\n",
       "       [ 6.27879367e-02,  4.48083407e-01, -5.10871344e-01],\n",
       "       [ 3.31368781e-02,  3.50293154e-01, -3.83430032e-01],\n",
       "       [-6.23036365e-01,  2.47179643e-01,  3.75856723e-01],\n",
       "       [-7.22467108e-02, -8.77455213e-01,  9.49701924e-01],\n",
       "       [ 3.86268513e-02,  9.14983492e-02, -1.30125200e-01],\n",
       "       [-3.95294374e-01,  2.82589521e-01,  1.12704853e-01],\n",
       "       [-2.71158595e-01,  1.41443868e-01,  1.29714727e-01],\n",
       "       [ 5.80858991e-02,  2.99652570e-01, -3.57738469e-01],\n",
       "       [-2.04120615e-02,  4.30426618e-01, -4.10014556e-01],\n",
       "       [ 3.15739575e-01, -2.53146705e-02, -2.90424905e-01],\n",
       "       [ 3.79572402e-02,  1.95072367e-01, -2.33029607e-01],\n",
       "       [ 1.13524647e-01,  4.56709056e-02, -1.59195553e-01]])"
      ]
     },
     "execution_count": 12,
     "metadata": {},
     "output_type": "execute_result"
    }
   ],
   "source": [
    "model.decision_function(X)"
   ]
  },
  {
   "cell_type": "code",
   "execution_count": 17,
   "metadata": {},
   "outputs": [],
   "source": [
    "labels=np.array(['Who','Where','When','What','Why','How','Additional information','Who_w','Where_w','When_w','What_w','Why_w','How_w','Additional information_w'])"
   ]
  },
  {
   "cell_type": "code",
   "execution_count": 18,
   "metadata": {},
   "outputs": [
    {
     "data": {
      "text/plain": [
       "array(['contradiction', 'entailment', 'neutral'], dtype=object)"
      ]
     },
     "execution_count": 18,
     "metadata": {},
     "output_type": "execute_result"
    }
   ],
   "source": [
    "model.classes_"
   ]
  },
  {
   "cell_type": "code",
   "execution_count": 20,
   "metadata": {},
   "outputs": [],
   "source": [
    "contradiction=model.coef_[0]\n",
    "entailment=model.coef_[1]\n",
    "neutral=model.coef_[2]"
   ]
  },
  {
   "cell_type": "code",
   "execution_count": 21,
   "metadata": {},
   "outputs": [
    {
     "name": "stdout",
     "output_type": "stream",
     "text": [
      "Contradiction  10 What_w 3 What\n",
      "Entailment  3 What 11 Why_w\n",
      "Neutral  11 Why_w 3 What\n"
     ]
    }
   ],
   "source": [
    "print(\"Contradiction \",np.argmax(contradiction),labels[np.argmax(contradiction)],np.argmin(contradiction),labels[np.argmin(contradiction)])\n",
    "print(\"Entailment \",np.argmax(entailment),labels[np.argmax(entailment)],np.argmin(entailment),labels[np.argmin(entailment)])\n",
    "print(\"Neutral \",np.argmax(neutral),labels[np.argmax(neutral)],np.argmin(neutral),labels[np.argmin(neutral)])"
   ]
  },
  {
   "cell_type": "code",
   "execution_count": 22,
   "metadata": {},
   "outputs": [
    {
     "data": {
      "image/png": "[encoded data removed]",
      "text/plain": [
       "<Figure size 640x480 with 1 Axes>"
      ]
     },
     "metadata": {},
     "output_type": "display_data"
    }
   ],
   "source": [
    "import matplotlib.pyplot as plt\n",
    "import numpy as np\n",
    "\n",
    "x_v = np.arange(0,14,1)\n",
    "y_v = contradiction\n",
    "\n",
    "plt.bar(x_v,y_v)\n",
    "plt.xlabel('x')\n",
    "plt.ylabel('y')\n",
    "plt.title('Contradiction')\n",
    "plt.show()"
   ]
  },
  {
   "cell_type": "code",
   "execution_count": 24,
   "metadata": {},
   "outputs": [
    {
     "data": {
      "image/png": "[encoded data removed]",
      "text/plain": [
       "<Figure size 640x480 with 1 Axes>"
      ]
     },
     "metadata": {},
     "output_type": "display_data"
    }
   ],
   "source": [
    "x_v = np.arange(0,14,1)\n",
    "y_v = entailment\n",
    "\n",
    "plt.bar(x_v,y_v)\n",
    "plt.xlabel('x')\n",
    "plt.ylabel('y')\n",
    "plt.title('Entailment')\n",
    "plt.show()"
   ]
  },
  {
   "cell_type": "code",
   "execution_count": 25,
   "metadata": {},
   "outputs": [
    {
     "data": {
      "image/png": "[encoded data removed]",
      "text/plain": [
       "<Figure size 640x480 with 1 Axes>"
      ]
     },
     "metadata": {},
     "output_type": "display_data"
    }
   ],
   "source": [
    "x_v = np.arange(0,14,1)\n",
    "y_v = neutral\n",
    "\n",
    "plt.bar(x_v,y_v)\n",
    "plt.xlabel('x')\n",
    "plt.ylabel('y')\n",
    "plt.title('Neutral')\n",
    "plt.show()"
   ]
  },
  {
   "cell_type": "code",
   "execution_count": 26,
   "metadata": {},
   "outputs": [
    {
     "name": "stdout",
     "output_type": "stream",
     "text": [
      "['entailment' 'entailment' 'entailment' 'entailment' 'neutral'\n",
      " 'entailment' 'neutral' 'neutral' 'neutral' 'entailment' 'entailment'\n",
      " 'entailment' 'entailment' 'contradiction' 'entailment' 'neutral'\n",
      " 'entailment' 'entailment' 'entailment' 'entailment' 'entailment'\n",
      " 'entailment' 'entailment' 'entailment' 'entailment' 'entailment'\n",
      " 'entailment' 'entailment' 'neutral' 'entailment' 'entailment'\n",
      " 'entailment' 'entailment' 'entailment' 'neutral' 'contradiction'\n",
      " 'neutral' 'entailment' 'entailment' 'entailment' 'entailment' 'neutral'\n",
      " 'entailment' 'neutral' 'contradiction' 'entailment' 'entailment'\n",
      " 'entailment' 'entailment' 'neutral' 'entailment' 'entailment'\n",
      " 'entailment' 'entailment' 'entailment' 'entailment' 'entailment'\n",
      " 'neutral' 'entailment' 'entailment' 'neutral' 'entailment' 'entailment'\n",
      " 'entailment' 'entailment' 'entailment' 'entailment' 'neutral'\n",
      " 'entailment' 'contradiction' 'entailment' 'contradiction' 'contradiction'\n",
      " 'entailment' 'contradiction' 'entailment' 'entailment' 'entailment'\n",
      " 'entailment' 'entailment' 'entailment' 'entailment' 'entailment'\n",
      " 'entailment' 'entailment' 'entailment' 'neutral' 'entailment'\n",
      " 'entailment' 'entailment' 'neutral' 'neutral' 'entailment' 'entailment'\n",
      " 'entailment' 'entailment' 'entailment' 'contradiction' 'entailment'\n",
      " 'contradiction']\n"
     ]
    }
   ],
   "source": [
    "predictions = model.predict(X)\n",
    "print(predictions)"
   ]
  },
  {
   "cell_type": "code",
   "execution_count": 27,
   "metadata": {},
   "outputs": [
    {
     "data": {
      "text/plain": [
       "array(['entailment', 'entailment', 'contradiction', 'contradiction',\n",
       "       'neutral', 'neutral', 'neutral', 'entailment', 'neutral',\n",
       "       'entailment', 'neutral', 'contradiction', 'entailment',\n",
       "       'contradiction', 'neutral', 'neutral', 'entailment',\n",
       "       'contradiction', 'contradiction', 'entailment', 'entailment',\n",
       "       'entailment', 'neutral', 'contradiction', 'entailment', 'neutral',\n",
       "       'entailment', 'entailment', 'entailment', 'neutral', 'neutral',\n",
       "       'contradiction', 'contradiction', 'entailment', 'contradiction',\n",
       "       'neutral', 'entailment', 'neutral', 'neutral', 'entailment',\n",
       "       'neutral', 'neutral', 'contradiction', 'neutral', 'entailment',\n",
       "       'neutral', 'neutral', 'entailment', 'contradiction', 'neutral',\n",
       "       'entailment', 'entailment', 'neutral', 'entailment',\n",
       "       'contradiction', 'entailment', 'entailment', 'neutral', 'neutral',\n",
       "       'neutral', 'neutral', 'neutral', 'neutral', 'entailment',\n",
       "       'entailment', 'contradiction', 'entailment', 'entailment',\n",
       "       'neutral', 'contradiction', 'entailment', 'contradiction',\n",
       "       'contradiction', 'contradiction', 'neutral', 'entailment',\n",
       "       'entailment', 'entailment', 'entailment', 'contradiction',\n",
       "       'neutral', 'entailment', 'entailment', 'entailment',\n",
       "       'contradiction', 'entailment', 'entailment', 'entailment',\n",
       "       'contradiction', 'contradiction', 'contradiction', 'neutral',\n",
       "       'entailment', 'entailment', 'contradiction', 'entailment',\n",
       "       'entailment', 'contradiction', 'contradiction', 'contradiction'],\n",
       "      dtype=object)"
      ]
     },
     "execution_count": 27,
     "metadata": {},
     "output_type": "execute_result"
    }
   ],
   "source": [
    "y"
   ]
  },
  {
   "cell_type": "code",
   "execution_count": 28,
   "metadata": {},
   "outputs": [
    {
     "data": {
      "text/plain": [
       "array([[0.69678307, 0.07605992, 0.        , ..., 0.        , 0.        ,\n",
       "        0.        ],\n",
       "       [0.76258183, 0.08786619, 0.19063728, ..., 0.        , 0.        ,\n",
       "        3.63758616],\n",
       "       [0.88135707, 0.26540822, 0.        , ..., 0.        , 0.        ,\n",
       "        0.        ],\n",
       "       ...,\n",
       "       [0.07230499, 0.        , 0.        , ..., 0.        , 0.        ,\n",
       "        0.        ],\n",
       "       [0.65567434, 0.13947898, 0.        , ..., 0.        , 0.        ,\n",
       "        0.        ],\n",
       "       [0.61532092, 0.23936102, 0.        , ..., 0.        , 0.        ,\n",
       "        0.        ]])"
      ]
     },
     "execution_count": 28,
     "metadata": {},
     "output_type": "execute_result"
    }
   ],
   "source": [
    "X"
   ]
  },
  {
   "cell_type": "code",
   "execution_count": 29,
   "metadata": {},
   "outputs": [
    {
     "data": {
      "text/plain": [
       "0.52"
      ]
     },
     "execution_count": 29,
     "metadata": {},
     "output_type": "execute_result"
    }
   ],
   "source": [
    "model.score(X,y)"
   ]
  },
  {
   "cell_type": "code",
   "execution_count": 30,
   "metadata": {},
   "outputs": [],
   "source": [
    "validation_size = 0.10\n",
    "seed = 7\n",
    "X_train, X_validation, Y_train, Y_validation = model_selection.train_test_split(X, y, test_size=validation_size)"
   ]
  },
  {
   "cell_type": "code",
   "execution_count": 31,
   "metadata": {},
   "outputs": [
    {
     "name": "stdout",
     "output_type": "stream",
     "text": [
      "Logistic Regression: 0.400000 (0.166296)\n"
     ]
    }
   ],
   "source": [
    "name='Logistic Regression'\n",
    "kfold = model_selection.KFold(n_splits=10)\n",
    "cv_results = model_selection.cross_val_score(model, X_train, Y_train, cv=kfold, scoring='accuracy')\n",
    "msg = \"%s: %f (%f)\" % (name, cv_results.mean(), cv_results.std())\n",
    "print(msg)"
   ]
  },
  {
   "cell_type": "code",
   "execution_count": 32,
   "metadata": {},
   "outputs": [
    {
     "name": "stdout",
     "output_type": "stream",
     "text": [
      "0.6\n"
     ]
    }
   ],
   "source": [
    "predictions = model.predict(X_validation)\n",
    "print(accuracy_score(Y_validation, predictions))"
   ]
  },
  {
   "cell_type": "code",
   "execution_count": 39,
   "metadata": {},
   "outputs": [
    {
     "data": {
      "text/plain": [
       "array(['contradiction', 'entailment', 'neutral'], dtype=object)"
      ]
     },
     "execution_count": 39,
     "metadata": {},
     "output_type": "execute_result"
    }
   ],
   "source": [
    "model.classes_"
   ]
  },
  {
   "cell_type": "code",
   "execution_count": 38,
   "metadata": {},
   "outputs": [
    {
     "name": "stdout",
     "output_type": "stream",
     "text": [
      "[[1 2 0]\n",
      " [0 4 0]\n",
      " [0 2 1]]\n"
     ]
    }
   ],
   "source": [
    "print(confusion_matrix(Y_validation, predictions,labels=model.classes_))"
   ]
  },
  {
   "cell_type": "code",
   "execution_count": 34,
   "metadata": {},
   "outputs": [
    {
     "name": "stdout",
     "output_type": "stream",
     "text": [
      "               precision    recall  f1-score   support\n",
      "\n",
      "contradiction       1.00      0.33      0.50         3\n",
      "   entailment       0.50      1.00      0.67         4\n",
      "      neutral       1.00      0.33      0.50         3\n",
      "\n",
      "     accuracy                           0.60        10\n",
      "    macro avg       0.83      0.56      0.56        10\n",
      " weighted avg       0.80      0.60      0.57        10\n",
      "\n"
     ]
    }
   ],
   "source": [
    "print(classification_report(Y_validation, predictions))"
   ]
  }
 ],
 "metadata": {
  "kernelspec": {
   "display_name": "Python 3",
   "language": "python",
   "name": "python3"
  },
  "language_info": {
   "codemirror_mode": {
    "name": "ipython",
    "version": 3
   },
   "file_extension": ".py",
   "mimetype": "text/x-python",
   "name": "python",
   "nbconvert_exporter": "python",
   "pygments_lexer": "ipython3",
   "version": "3.9.13"
  }
 },
 "nbformat": 4,
 "nbformat_minor": 2
}
