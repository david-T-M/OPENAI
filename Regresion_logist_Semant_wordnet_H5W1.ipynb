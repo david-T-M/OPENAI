{
 "cells": [
  {
   "cell_type": "code",
   "execution_count": 166,
   "metadata": {},
   "outputs": [],
   "source": [
    "import pandas as pd\n",
    "import numpy as np\n",
    "from sklearn import linear_model\n",
    "from sklearn import model_selection\n",
    "from sklearn.metrics import classification_report\n",
    "from sklearn.metrics import confusion_matrix\n",
    "from sklearn.metrics import accuracy_score\n",
    "import matplotlib.pyplot as plt\n",
    "import seaborn as sb"
   ]
  },
  {
   "cell_type": "code",
   "execution_count": 167,
   "metadata": {},
   "outputs": [
    {
     "data": {
      "text/html": [
       "<div>\n",
       "<style scoped>\n",
       "    .dataframe tbody tr th:only-of-type {\n",
       "        vertical-align: middle;\n",
       "    }\n",
       "\n",
       "    .dataframe tbody tr th {\n",
       "        vertical-align: top;\n",
       "    }\n",
       "\n",
       "    .dataframe thead th {\n",
       "        text-align: right;\n",
       "    }\n",
       "</style>\n",
       "<table border=\"1\" class=\"dataframe\">\n",
       "  <thead>\n",
       "    <tr style=\"text-align: right;\">\n",
       "      <th></th>\n",
       "      <th>CLASS</th>\n",
       "      <th>Where</th>\n",
       "      <th>What</th>\n",
       "      <th>Who</th>\n",
       "      <th>When</th>\n",
       "      <th>Why</th>\n",
       "      <th>How</th>\n",
       "      <th>Additional information</th>\n",
       "    </tr>\n",
       "  </thead>\n",
       "  <tbody>\n",
       "    <tr>\n",
       "      <th>0</th>\n",
       "      <td>entailment</td>\n",
       "      <td>1.000000</td>\n",
       "      <td>0.505262</td>\n",
       "      <td>1</td>\n",
       "      <td>0</td>\n",
       "      <td>0</td>\n",
       "      <td>0.0</td>\n",
       "      <td>1.0</td>\n",
       "    </tr>\n",
       "    <tr>\n",
       "      <th>1</th>\n",
       "      <td>entailment</td>\n",
       "      <td>1.000000</td>\n",
       "      <td>0.944161</td>\n",
       "      <td>1</td>\n",
       "      <td>1</td>\n",
       "      <td>1</td>\n",
       "      <td>1.0</td>\n",
       "      <td>1.0</td>\n",
       "    </tr>\n",
       "    <tr>\n",
       "      <th>2</th>\n",
       "      <td>contradiction</td>\n",
       "      <td>0.265408</td>\n",
       "      <td>0.360803</td>\n",
       "      <td>1</td>\n",
       "      <td>0</td>\n",
       "      <td>0</td>\n",
       "      <td>1.0</td>\n",
       "      <td>1.0</td>\n",
       "    </tr>\n",
       "    <tr>\n",
       "      <th>3</th>\n",
       "      <td>contradiction</td>\n",
       "      <td>1.000000</td>\n",
       "      <td>0.919731</td>\n",
       "      <td>0</td>\n",
       "      <td>0</td>\n",
       "      <td>0</td>\n",
       "      <td>1.0</td>\n",
       "      <td>0.0</td>\n",
       "    </tr>\n",
       "    <tr>\n",
       "      <th>4</th>\n",
       "      <td>neutral</td>\n",
       "      <td>0.715984</td>\n",
       "      <td>0.224679</td>\n",
       "      <td>1</td>\n",
       "      <td>0</td>\n",
       "      <td>0</td>\n",
       "      <td>0.0</td>\n",
       "      <td>1.0</td>\n",
       "    </tr>\n",
       "    <tr>\n",
       "      <th>...</th>\n",
       "      <td>...</td>\n",
       "      <td>...</td>\n",
       "      <td>...</td>\n",
       "      <td>...</td>\n",
       "      <td>...</td>\n",
       "      <td>...</td>\n",
       "      <td>...</td>\n",
       "      <td>...</td>\n",
       "    </tr>\n",
       "    <tr>\n",
       "      <th>95</th>\n",
       "      <td>entailment</td>\n",
       "      <td>1.000000</td>\n",
       "      <td>0.747842</td>\n",
       "      <td>1</td>\n",
       "      <td>0</td>\n",
       "      <td>0</td>\n",
       "      <td>0.0</td>\n",
       "      <td>1.0</td>\n",
       "    </tr>\n",
       "    <tr>\n",
       "      <th>96</th>\n",
       "      <td>entailment</td>\n",
       "      <td>1.000000</td>\n",
       "      <td>0.830284</td>\n",
       "      <td>1</td>\n",
       "      <td>0</td>\n",
       "      <td>0</td>\n",
       "      <td>0.0</td>\n",
       "      <td>0.0</td>\n",
       "    </tr>\n",
       "    <tr>\n",
       "      <th>97</th>\n",
       "      <td>contradiction</td>\n",
       "      <td>1.000000</td>\n",
       "      <td>0.086890</td>\n",
       "      <td>1</td>\n",
       "      <td>0</td>\n",
       "      <td>0</td>\n",
       "      <td>0.0</td>\n",
       "      <td>0.0</td>\n",
       "    </tr>\n",
       "    <tr>\n",
       "      <th>98</th>\n",
       "      <td>contradiction</td>\n",
       "      <td>1.000000</td>\n",
       "      <td>0.357685</td>\n",
       "      <td>1</td>\n",
       "      <td>0</td>\n",
       "      <td>0</td>\n",
       "      <td>0.0</td>\n",
       "      <td>0.0</td>\n",
       "    </tr>\n",
       "    <tr>\n",
       "      <th>99</th>\n",
       "      <td>contradiction</td>\n",
       "      <td>1.000000</td>\n",
       "      <td>0.008623</td>\n",
       "      <td>1</td>\n",
       "      <td>0</td>\n",
       "      <td>0</td>\n",
       "      <td>0.0</td>\n",
       "      <td>1.0</td>\n",
       "    </tr>\n",
       "  </tbody>\n",
       "</table>\n",
       "<p>100 rows × 8 columns</p>\n",
       "</div>"
      ],
      "text/plain": [
       "            CLASS     Where      What  Who  When  Why  How  \\\n",
       "0      entailment  1.000000  0.505262    1     0    0  0.0   \n",
       "1      entailment  1.000000  0.944161    1     1    1  1.0   \n",
       "2   contradiction  0.265408  0.360803    1     0    0  1.0   \n",
       "3   contradiction  1.000000  0.919731    0     0    0  1.0   \n",
       "4         neutral  0.715984  0.224679    1     0    0  0.0   \n",
       "..            ...       ...       ...  ...   ...  ...  ...   \n",
       "95     entailment  1.000000  0.747842    1     0    0  0.0   \n",
       "96     entailment  1.000000  0.830284    1     0    0  0.0   \n",
       "97  contradiction  1.000000  0.086890    1     0    0  0.0   \n",
       "98  contradiction  1.000000  0.357685    1     0    0  0.0   \n",
       "99  contradiction  1.000000  0.008623    1     0    0  0.0   \n",
       "\n",
       "    Additional information  \n",
       "0                      1.0  \n",
       "1                      1.0  \n",
       "2                      1.0  \n",
       "3                      0.0  \n",
       "4                      1.0  \n",
       "..                     ...  \n",
       "95                     1.0  \n",
       "96                     0.0  \n",
       "97                     0.0  \n",
       "98                     0.0  \n",
       "99                     1.0  \n",
       "\n",
       "[100 rows x 8 columns]"
      ]
     },
     "execution_count": 167,
     "metadata": {},
     "output_type": "execute_result"
    }
   ],
   "source": [
    "dataframe = pd.read_csv(r\"indicadores_H5W1_sentencebertwordnet_5_curado_CLASS.csv\")\n",
    "dataframe"
   ]
  },
  {
   "cell_type": "code",
   "execution_count": 168,
   "metadata": {},
   "outputs": [],
   "source": [
    "colum=len(dataframe.columns)-1"
   ]
  },
  {
   "cell_type": "code",
   "execution_count": 169,
   "metadata": {},
   "outputs": [
    {
     "data": {
      "text/html": [
       "<div>\n",
       "<style scoped>\n",
       "    .dataframe tbody tr th:only-of-type {\n",
       "        vertical-align: middle;\n",
       "    }\n",
       "\n",
       "    .dataframe tbody tr th {\n",
       "        vertical-align: top;\n",
       "    }\n",
       "\n",
       "    .dataframe thead th {\n",
       "        text-align: right;\n",
       "    }\n",
       "</style>\n",
       "<table border=\"1\" class=\"dataframe\">\n",
       "  <thead>\n",
       "    <tr style=\"text-align: right;\">\n",
       "      <th></th>\n",
       "      <th>Where</th>\n",
       "      <th>What</th>\n",
       "      <th>Who</th>\n",
       "      <th>When</th>\n",
       "      <th>Why</th>\n",
       "      <th>How</th>\n",
       "      <th>Additional information</th>\n",
       "    </tr>\n",
       "  </thead>\n",
       "  <tbody>\n",
       "    <tr>\n",
       "      <th>count</th>\n",
       "      <td>100.000000</td>\n",
       "      <td>100.000000</td>\n",
       "      <td>100.000000</td>\n",
       "      <td>100.000000</td>\n",
       "      <td>100.000000</td>\n",
       "      <td>100.000000</td>\n",
       "      <td>100.000000</td>\n",
       "    </tr>\n",
       "    <tr>\n",
       "      <th>mean</th>\n",
       "      <td>0.788650</td>\n",
       "      <td>0.452605</td>\n",
       "      <td>0.740000</td>\n",
       "      <td>0.040000</td>\n",
       "      <td>0.080000</td>\n",
       "      <td>0.195000</td>\n",
       "      <td>0.495000</td>\n",
       "    </tr>\n",
       "    <tr>\n",
       "      <th>std</th>\n",
       "      <td>0.306683</td>\n",
       "      <td>0.299054</td>\n",
       "      <td>0.660884</td>\n",
       "      <td>0.315268</td>\n",
       "      <td>0.418752</td>\n",
       "      <td>0.563606</td>\n",
       "      <td>0.519785</td>\n",
       "    </tr>\n",
       "    <tr>\n",
       "      <th>min</th>\n",
       "      <td>0.094228</td>\n",
       "      <td>0.008623</td>\n",
       "      <td>-1.000000</td>\n",
       "      <td>-1.000000</td>\n",
       "      <td>-1.000000</td>\n",
       "      <td>-1.000000</td>\n",
       "      <td>-1.000000</td>\n",
       "    </tr>\n",
       "    <tr>\n",
       "      <th>25%</th>\n",
       "      <td>0.561895</td>\n",
       "      <td>0.205522</td>\n",
       "      <td>1.000000</td>\n",
       "      <td>0.000000</td>\n",
       "      <td>0.000000</td>\n",
       "      <td>0.000000</td>\n",
       "      <td>0.000000</td>\n",
       "    </tr>\n",
       "    <tr>\n",
       "      <th>50%</th>\n",
       "      <td>1.000000</td>\n",
       "      <td>0.385234</td>\n",
       "      <td>1.000000</td>\n",
       "      <td>0.000000</td>\n",
       "      <td>0.000000</td>\n",
       "      <td>0.000000</td>\n",
       "      <td>0.750000</td>\n",
       "    </tr>\n",
       "    <tr>\n",
       "      <th>75%</th>\n",
       "      <td>1.000000</td>\n",
       "      <td>0.687030</td>\n",
       "      <td>1.000000</td>\n",
       "      <td>0.000000</td>\n",
       "      <td>0.000000</td>\n",
       "      <td>1.000000</td>\n",
       "      <td>1.000000</td>\n",
       "    </tr>\n",
       "    <tr>\n",
       "      <th>max</th>\n",
       "      <td>1.000000</td>\n",
       "      <td>1.000000</td>\n",
       "      <td>1.000000</td>\n",
       "      <td>1.000000</td>\n",
       "      <td>1.000000</td>\n",
       "      <td>1.000000</td>\n",
       "      <td>1.000000</td>\n",
       "    </tr>\n",
       "  </tbody>\n",
       "</table>\n",
       "</div>"
      ],
      "text/plain": [
       "            Where        What         Who        When         Why         How  \\\n",
       "count  100.000000  100.000000  100.000000  100.000000  100.000000  100.000000   \n",
       "mean     0.788650    0.452605    0.740000    0.040000    0.080000    0.195000   \n",
       "std      0.306683    0.299054    0.660884    0.315268    0.418752    0.563606   \n",
       "min      0.094228    0.008623   -1.000000   -1.000000   -1.000000   -1.000000   \n",
       "25%      0.561895    0.205522    1.000000    0.000000    0.000000    0.000000   \n",
       "50%      1.000000    0.385234    1.000000    0.000000    0.000000    0.000000   \n",
       "75%      1.000000    0.687030    1.000000    0.000000    0.000000    1.000000   \n",
       "max      1.000000    1.000000    1.000000    1.000000    1.000000    1.000000   \n",
       "\n",
       "       Additional information  \n",
       "count              100.000000  \n",
       "mean                 0.495000  \n",
       "std                  0.519785  \n",
       "min                 -1.000000  \n",
       "25%                  0.000000  \n",
       "50%                  0.750000  \n",
       "75%                  1.000000  \n",
       "max                  1.000000  "
      ]
     },
     "execution_count": 169,
     "metadata": {},
     "output_type": "execute_result"
    }
   ],
   "source": [
    "dataframe.describe()"
   ]
  },
  {
   "cell_type": "code",
   "execution_count": 170,
   "metadata": {},
   "outputs": [
    {
     "name": "stdout",
     "output_type": "stream",
     "text": [
      "CLASS\n",
      "contradiction    27\n",
      "entailment       42\n",
      "neutral          31\n",
      "dtype: int64\n"
     ]
    }
   ],
   "source": [
    "print(dataframe.groupby('CLASS').size())"
   ]
  },
  {
   "cell_type": "code",
   "execution_count": 171,
   "metadata": {},
   "outputs": [
    {
     "data": {
      "image/png": "[encoded data removed]",
      "text/plain": [
       "<Figure size 2000x1000 with 9 Axes>"
      ]
     },
     "metadata": {},
     "output_type": "display_data"
    }
   ],
   "source": [
    "dataframe.hist(figsize=(20,10))\n",
    "plt.show()"
   ]
  },
  {
   "cell_type": "code",
   "execution_count": 172,
   "metadata": {},
   "outputs": [],
   "source": [
    "#sb.pairplot(dataframe.dropna(), hue='CLASS',size=4,vars=['Who','Where','When','What','Why','How','Additional information'],kind='reg')"
   ]
  },
  {
   "cell_type": "code",
   "execution_count": 173,
   "metadata": {},
   "outputs": [
    {
     "name": "stderr",
     "output_type": "stream",
     "text": [
      "C:\\Users\\Ninja\\AppData\\Local\\Temp\\ipykernel_22332\\1802400925.py:1: FutureWarning: In a future version of pandas all arguments of DataFrame.drop except for the argument 'labels' will be keyword-only.\n",
      "  X = np.array(dataframe.drop(['CLASS'],1))\n",
      "C:\\Users\\Ninja\\AppData\\Local\\Temp\\ipykernel_22332\\1802400925.py:2: FutureWarning: In a future version of pandas all arguments of DataFrame.drop except for the argument 'labels' will be keyword-only.\n",
      "  X_test = np.array(dataframe.drop(['CLASS'],1))\n"
     ]
    },
    {
     "data": {
      "text/plain": [
       "(100, 7)"
      ]
     },
     "execution_count": 173,
     "metadata": {},
     "output_type": "execute_result"
    }
   ],
   "source": [
    "X = np.array(dataframe.drop(['CLASS'],1))\n",
    "X_test = np.array(dataframe.drop(['CLASS'],1))\n",
    "y = np.array(dataframe['CLASS'])\n",
    "y_test =np.array(dataframe['CLASS'])\n",
    "X.shape"
   ]
  },
  {
   "cell_type": "code",
   "execution_count": 174,
   "metadata": {},
   "outputs": [
    {
     "data": {
      "text/plain": [
       "array(['entailment', 'entailment', 'contradiction', 'contradiction',\n",
       "       'neutral', 'neutral', 'neutral', 'entailment', 'neutral',\n",
       "       'entailment', 'neutral', 'contradiction', 'entailment',\n",
       "       'contradiction', 'neutral', 'neutral', 'entailment',\n",
       "       'contradiction', 'contradiction', 'entailment', 'entailment',\n",
       "       'entailment', 'neutral', 'contradiction', 'entailment', 'neutral',\n",
       "       'entailment', 'entailment', 'entailment', 'neutral', 'neutral',\n",
       "       'contradiction', 'contradiction', 'entailment', 'contradiction',\n",
       "       'neutral', 'entailment', 'neutral', 'neutral', 'entailment',\n",
       "       'neutral', 'neutral', 'contradiction', 'neutral', 'entailment',\n",
       "       'neutral', 'neutral', 'entailment', 'contradiction', 'neutral',\n",
       "       'entailment', 'entailment', 'neutral', 'entailment',\n",
       "       'contradiction', 'entailment', 'entailment', 'neutral', 'neutral',\n",
       "       'neutral', 'neutral', 'neutral', 'neutral', 'entailment',\n",
       "       'entailment', 'contradiction', 'entailment', 'entailment',\n",
       "       'neutral', 'contradiction', 'entailment', 'contradiction',\n",
       "       'contradiction', 'contradiction', 'neutral', 'entailment',\n",
       "       'entailment', 'entailment', 'entailment', 'contradiction',\n",
       "       'neutral', 'entailment', 'entailment', 'entailment',\n",
       "       'contradiction', 'entailment', 'entailment', 'entailment',\n",
       "       'contradiction', 'contradiction', 'contradiction', 'neutral',\n",
       "       'entailment', 'entailment', 'contradiction', 'entailment',\n",
       "       'entailment', 'contradiction', 'contradiction', 'contradiction'],\n",
       "      dtype=object)"
      ]
     },
     "execution_count": 174,
     "metadata": {},
     "output_type": "execute_result"
    }
   ],
   "source": [
    "y_test"
   ]
  },
  {
   "cell_type": "code",
   "execution_count": 175,
   "metadata": {},
   "outputs": [
    {
     "data": {
      "text/plain": [
       "array(['entailment', 'entailment', 'contradiction', 'contradiction',\n",
       "       'neutral', 'neutral', 'neutral', 'entailment', 'neutral',\n",
       "       'entailment', 'neutral', 'contradiction', 'entailment',\n",
       "       'contradiction', 'neutral', 'neutral', 'entailment',\n",
       "       'contradiction', 'contradiction', 'entailment', 'entailment',\n",
       "       'entailment', 'neutral', 'contradiction', 'entailment', 'neutral',\n",
       "       'entailment', 'entailment', 'entailment', 'neutral', 'neutral',\n",
       "       'contradiction', 'contradiction', 'entailment', 'contradiction',\n",
       "       'neutral', 'entailment', 'neutral', 'neutral', 'entailment',\n",
       "       'neutral', 'neutral', 'contradiction', 'neutral', 'entailment',\n",
       "       'neutral', 'neutral', 'entailment', 'contradiction', 'neutral',\n",
       "       'entailment', 'entailment', 'neutral', 'entailment',\n",
       "       'contradiction', 'entailment', 'entailment', 'neutral', 'neutral',\n",
       "       'neutral', 'neutral', 'neutral', 'neutral', 'entailment',\n",
       "       'entailment', 'contradiction', 'entailment', 'entailment',\n",
       "       'neutral', 'contradiction', 'entailment', 'contradiction',\n",
       "       'contradiction', 'contradiction', 'neutral', 'entailment',\n",
       "       'entailment', 'entailment', 'entailment', 'contradiction',\n",
       "       'neutral', 'entailment', 'entailment', 'entailment',\n",
       "       'contradiction', 'entailment', 'entailment', 'entailment',\n",
       "       'contradiction', 'contradiction', 'contradiction', 'neutral',\n",
       "       'entailment', 'entailment', 'contradiction', 'entailment',\n",
       "       'entailment', 'contradiction', 'contradiction', 'contradiction'],\n",
       "      dtype=object)"
      ]
     },
     "execution_count": 175,
     "metadata": {},
     "output_type": "execute_result"
    }
   ],
   "source": [
    "y"
   ]
  },
  {
   "cell_type": "code",
   "execution_count": 176,
   "metadata": {},
   "outputs": [
    {
     "data": {
      "text/plain": [
       "LogisticRegression(C=0.1)"
      ]
     },
     "execution_count": 176,
     "metadata": {},
     "output_type": "execute_result"
    }
   ],
   "source": [
    "model = linear_model.LogisticRegression(penalty=\"l2\", C=0.1)\n",
    "model.fit(X,y)"
   ]
  },
  {
   "cell_type": "code",
   "execution_count": 177,
   "metadata": {},
   "outputs": [
    {
     "data": {
      "text/plain": [
       "{'C': 0.1,\n",
       " 'class_weight': None,\n",
       " 'dual': False,\n",
       " 'fit_intercept': True,\n",
       " 'intercept_scaling': 1,\n",
       " 'l1_ratio': None,\n",
       " 'max_iter': 100,\n",
       " 'multi_class': 'auto',\n",
       " 'n_jobs': None,\n",
       " 'penalty': 'l2',\n",
       " 'random_state': None,\n",
       " 'solver': 'lbfgs',\n",
       " 'tol': 0.0001,\n",
       " 'verbose': 0,\n",
       " 'warm_start': False}"
      ]
     },
     "execution_count": 177,
     "metadata": {},
     "output_type": "execute_result"
    }
   ],
   "source": [
    "model.get_params()"
   ]
  },
  {
   "cell_type": "code",
   "execution_count": 178,
   "metadata": {},
   "outputs": [
    {
     "data": {
      "text/plain": [
       "array([[-0.42269346,  0.40562628,  0.01706718],\n",
       "       [ 0.10743327,  0.45536953, -0.5628028 ],\n",
       "       [-0.02750415,  0.12899595, -0.10149181],\n",
       "       [ 0.02513128,  0.2258778 , -0.25100908],\n",
       "       [-0.32983358,  0.25181426,  0.07801932],\n",
       "       [ 0.37974082, -0.32093482, -0.058806  ],\n",
       "       [-0.34440216,  0.40736577, -0.06296362],\n",
       "       [-0.37726199,  0.34330302,  0.03395897],\n",
       "       [-0.34881959,  0.39685824, -0.04803865],\n",
       "       [-0.61988878,  0.49544388,  0.12444491],\n",
       "       [-0.39008732,  0.34387867,  0.04620865],\n",
       "       [-0.4178914 ,  0.22665608,  0.19123532],\n",
       "       [-0.12208083,  0.382223  , -0.26014216],\n",
       "       [-0.33508418,  0.23971691,  0.09536726],\n",
       "       [-0.87946117,  0.36222473,  0.51723644],\n",
       "       [-0.30500361,  0.27635091,  0.02865269],\n",
       "       [-0.15846071,  0.3199871 , -0.16152639],\n",
       "       [-0.22978598,  0.20558199,  0.02420398],\n",
       "       [-0.07688695,  0.4313414 , -0.35445445],\n",
       "       [-0.79425608,  0.55981659,  0.23443949],\n",
       "       [-0.0672799 ,  0.27844417, -0.21116427],\n",
       "       [-0.34441497,  0.38851703, -0.04410205],\n",
       "       [-0.2107181 ,  0.13532966,  0.07538844],\n",
       "       [-0.40641594,  0.37480086,  0.03161508],\n",
       "       [-0.39194043,  0.47851797, -0.08657754],\n",
       "       [-0.06279085,  0.13881309, -0.07602223],\n",
       "       [-0.39237098,  0.34820333,  0.04416765],\n",
       "       [-0.24719194,  0.23971764,  0.0074743 ],\n",
       "       [-0.18214405,  0.14191363,  0.04023042],\n",
       "       [-0.2517998 ,  0.2131278 ,  0.038672  ],\n",
       "       [-0.35555648,  0.27848618,  0.0770703 ],\n",
       "       [ 0.07887019,  0.12411018, -0.20298037],\n",
       "       [-0.27049513,  0.29893731, -0.02844219],\n",
       "       [-0.41122986,  0.34517084,  0.06605902],\n",
       "       [ 0.160942  ,  0.04131299, -0.20225499],\n",
       "       [-0.37404513,  0.3134989 ,  0.06054623],\n",
       "       [-0.21076863,  0.16720063,  0.043568  ],\n",
       "       [-0.54728035,  0.35794224,  0.18933811],\n",
       "       [-0.35204504,  0.27183642,  0.08020863],\n",
       "       [-0.4972267 ,  0.546773  , -0.0495463 ],\n",
       "       [-0.3776536 ,  0.32033242,  0.05732118],\n",
       "       [-0.19484359,  0.12753322,  0.06731037],\n",
       "       [ 0.07539277,  0.00825896, -0.08365173],\n",
       "       [-0.12872942,  0.04896917,  0.07976024],\n",
       "       [-0.34897905,  0.26603021,  0.08294884],\n",
       "       [-0.91786632,  0.51028302,  0.4075833 ],\n",
       "       [-0.47939869,  0.37830739,  0.10109129],\n",
       "       [-0.52269188,  0.59499749, -0.0723056 ],\n",
       "       [ 0.42596349, -0.10227857, -0.32368492],\n",
       "       [ 0.45008334, -0.04406553, -0.40601782],\n",
       "       [-0.11349757,  0.36596852, -0.25247094],\n",
       "       [-0.47442009,  0.55780032, -0.08338023],\n",
       "       [ 0.31538366, -0.17789081, -0.13749284],\n",
       "       [-0.20175097,  0.40196767, -0.20021671],\n",
       "       [-0.30191906,  0.36201204, -0.06009298],\n",
       "       [-0.5417773 ,  0.63114034, -0.08936304],\n",
       "       [-0.35211911,  0.43705695, -0.08493784],\n",
       "       [-0.21964478,  0.15908168,  0.06056311],\n",
       "       [-0.20988918,  0.44955463, -0.23966545],\n",
       "       [-0.56977909,  0.59470489, -0.0249258 ],\n",
       "       [-0.19596703,  0.16825104,  0.027716  ],\n",
       "       [-0.33378086,  0.23724876,  0.09653209],\n",
       "       [-0.23674718,  0.24825421, -0.01150703],\n",
       "       [-0.20161666,  0.14761484,  0.05400182],\n",
       "       [-0.75467046,  0.6195556 ,  0.13511487],\n",
       "       [ 0.18698165,  0.21526182, -0.40224348],\n",
       "       [-0.10948515,  0.49307398, -0.38358883],\n",
       "       [ 0.03310723, -0.1491126 ,  0.11600537],\n",
       "       [-0.45967796,  0.47566538, -0.01598742],\n",
       "       [-0.32968124,  0.22948515,  0.10019609],\n",
       "       [-0.33208046,  0.38076624, -0.04868578],\n",
       "       [ 0.0837134 , -0.00749816, -0.07621524],\n",
       "       [-0.17630925,  0.20129817, -0.02498892],\n",
       "       [ 0.67935397, -0.32431395, -0.35504003],\n",
       "       [ 0.28252019,  0.12380011, -0.40632029],\n",
       "       [-0.39673215,  0.35646227,  0.04026988],\n",
       "       [-0.39378836,  0.52267051, -0.12888215],\n",
       "       [-0.54177729,  0.63114032, -0.08936303],\n",
       "       [-0.46986925,  0.53388158, -0.06401234],\n",
       "       [ 0.23381993,  0.21602581, -0.44984575],\n",
       "       [-0.36555786, -0.03764757,  0.40320543],\n",
       "       [ 0.29352662,  0.14462315, -0.43814977],\n",
       "       [-0.30590066,  0.22746093,  0.07843972],\n",
       "       [ 0.01102394,  0.18489755, -0.1959215 ],\n",
       "       [ 0.70553442, -0.33501146, -0.37052296],\n",
       "       [-0.30200929,  0.26654523,  0.03546407],\n",
       "       [-0.24719216,  0.20440211,  0.04279005],\n",
       "       [-0.35695262,  0.37059371, -0.01364109],\n",
       "       [ 0.61736738, -0.31507191, -0.30229547],\n",
       "       [-0.06993656,  0.28347521, -0.21353865],\n",
       "       [-0.29411116,  0.21169791,  0.08241325],\n",
       "       [-0.57492248,  0.41028931,  0.16463317],\n",
       "       [-0.32514467,  0.22089404,  0.10425062],\n",
       "       [-0.00981465, -0.07749308,  0.08730773],\n",
       "       [ 0.33739724, -0.31145442, -0.02594281],\n",
       "       [-0.48108269,  0.51620042, -0.03511773],\n",
       "       [-0.39964567,  0.49310972, -0.09346404],\n",
       "       [-0.22071032,  0.15425234,  0.06645798],\n",
       "       [-0.28589091,  0.27768755,  0.00820336],\n",
       "       [-0.30315235,  0.17924627,  0.12390608]])"
      ]
     },
     "execution_count": 178,
     "metadata": {},
     "output_type": "execute_result"
    }
   ],
   "source": [
    "model.decision_function(X)"
   ]
  },
  {
   "cell_type": "code",
   "execution_count": 179,
   "metadata": {},
   "outputs": [],
   "source": [
    "labels=np.array(['Who','Where','When','What','Why','How','Additional information','Who_w','Where_w','When_w','What_w','Why_w','How_w','Additional information_w'])"
   ]
  },
  {
   "cell_type": "code",
   "execution_count": 180,
   "metadata": {},
   "outputs": [
    {
     "data": {
      "text/plain": [
       "array(['contradiction', 'entailment', 'neutral'], dtype=object)"
      ]
     },
     "execution_count": 180,
     "metadata": {},
     "output_type": "execute_result"
    }
   ],
   "source": [
    "model.classes_"
   ]
  },
  {
   "cell_type": "code",
   "execution_count": 181,
   "metadata": {},
   "outputs": [],
   "source": [
    "contradiction=model.coef_[0]\n",
    "entailment=model.coef_[1]\n",
    "neutral=model.coef_[2]"
   ]
  },
  {
   "cell_type": "code",
   "execution_count": 182,
   "metadata": {},
   "outputs": [
    {
     "name": "stdout",
     "output_type": "stream",
     "text": [
      "Contradiction  4 Why 1 Where\n",
      "Entailment  1 Where 5 How\n",
      "Neutral  6 Additional information 4 Why\n"
     ]
    }
   ],
   "source": [
    "print(\"Contradiction \",np.argmax(contradiction),labels[np.argmax(contradiction)],np.argmin(contradiction),labels[np.argmin(contradiction)])\n",
    "print(\"Entailment \",np.argmax(entailment),labels[np.argmax(entailment)],np.argmin(entailment),labels[np.argmin(entailment)])\n",
    "print(\"Neutral \",np.argmax(neutral),labels[np.argmax(neutral)],np.argmin(neutral),labels[np.argmin(neutral)])"
   ]
  },
  {
   "cell_type": "code",
   "execution_count": 183,
   "metadata": {},
   "outputs": [
    {
     "data": {
      "image/png": "[encoded data removed]",
      "text/plain": [
       "<Figure size 640x480 with 1 Axes>"
      ]
     },
     "metadata": {},
     "output_type": "display_data"
    }
   ],
   "source": [
    "import matplotlib.pyplot as plt\n",
    "import numpy as np\n",
    "\n",
    "x_v = np.arange(0,colum,1)\n",
    "y_v = contradiction\n",
    "\n",
    "plt.bar(x_v,y_v)\n",
    "plt.xlabel('x')\n",
    "plt.ylabel('y')\n",
    "plt.title('Contradiction')\n",
    "plt.show()"
   ]
  },
  {
   "cell_type": "code",
   "execution_count": 184,
   "metadata": {},
   "outputs": [
    {
     "data": {
      "image/png": "[encoded data removed]",
      "text/plain": [
       "<Figure size 640x480 with 1 Axes>"
      ]
     },
     "metadata": {},
     "output_type": "display_data"
    }
   ],
   "source": [
    "x_v = np.arange(0,colum,1)\n",
    "y_v = entailment\n",
    "\n",
    "plt.bar(x_v,y_v)\n",
    "plt.xlabel('x')\n",
    "plt.ylabel('y')\n",
    "plt.title('Entailment')\n",
    "plt.show()"
   ]
  },
  {
   "cell_type": "code",
   "execution_count": 185,
   "metadata": {},
   "outputs": [
    {
     "data": {
      "image/png": "[encoded data removed]",
      "text/plain": [
       "<Figure size 640x480 with 1 Axes>"
      ]
     },
     "metadata": {},
     "output_type": "display_data"
    }
   ],
   "source": [
    "x_v = np.arange(0,colum,1)\n",
    "y_v = neutral\n",
    "\n",
    "plt.bar(x_v,y_v)\n",
    "plt.xlabel('x')\n",
    "plt.ylabel('y')\n",
    "plt.title('Neutral')\n",
    "plt.show()"
   ]
  },
  {
   "cell_type": "code",
   "execution_count": 186,
   "metadata": {},
   "outputs": [
    {
     "name": "stdout",
     "output_type": "stream",
     "text": [
      "['entailment' 'entailment' 'entailment' 'entailment' 'entailment'\n",
      " 'contradiction' 'entailment' 'entailment' 'entailment' 'entailment'\n",
      " 'entailment' 'entailment' 'entailment' 'entailment' 'neutral'\n",
      " 'entailment' 'entailment' 'entailment' 'entailment' 'entailment'\n",
      " 'entailment' 'entailment' 'entailment' 'entailment' 'entailment'\n",
      " 'entailment' 'entailment' 'entailment' 'entailment' 'entailment'\n",
      " 'entailment' 'entailment' 'entailment' 'entailment' 'contradiction'\n",
      " 'entailment' 'entailment' 'entailment' 'entailment' 'entailment'\n",
      " 'entailment' 'entailment' 'contradiction' 'neutral' 'entailment'\n",
      " 'entailment' 'entailment' 'entailment' 'contradiction' 'contradiction'\n",
      " 'entailment' 'entailment' 'contradiction' 'entailment' 'entailment'\n",
      " 'entailment' 'entailment' 'entailment' 'entailment' 'entailment'\n",
      " 'entailment' 'entailment' 'entailment' 'entailment' 'entailment'\n",
      " 'entailment' 'entailment' 'neutral' 'entailment' 'entailment'\n",
      " 'entailment' 'contradiction' 'entailment' 'contradiction' 'contradiction'\n",
      " 'entailment' 'entailment' 'entailment' 'entailment' 'contradiction'\n",
      " 'neutral' 'contradiction' 'entailment' 'entailment' 'contradiction'\n",
      " 'entailment' 'entailment' 'entailment' 'contradiction' 'entailment'\n",
      " 'entailment' 'entailment' 'entailment' 'neutral' 'contradiction'\n",
      " 'entailment' 'entailment' 'entailment' 'entailment' 'entailment']\n"
     ]
    }
   ],
   "source": [
    "predictions = model.predict(X)\n",
    "print(predictions)"
   ]
  },
  {
   "cell_type": "code",
   "execution_count": 187,
   "metadata": {},
   "outputs": [
    {
     "data": {
      "text/plain": [
       "array([[ 1.        ,  0.50526154,  1.        ,  0.        ,  0.        ,\n",
       "         0.        ,  1.        ],\n",
       "       [ 1.        ,  0.9441607 ,  1.        ,  1.        ,  1.        ,\n",
       "         1.        ,  1.        ],\n",
       "       [ 0.26540822,  0.36080334,  1.        ,  0.        ,  0.        ,\n",
       "         1.        ,  1.        ],\n",
       "       [ 1.        ,  0.9197309 ,  0.        ,  0.        ,  0.        ,\n",
       "         1.        ,  0.        ],\n",
       "       [ 0.71598363,  0.22467884,  1.        ,  0.        ,  0.        ,\n",
       "         0.        ,  1.        ],\n",
       "       [ 0.97049403,  0.08636216, -1.        ,  0.        ,  0.        ,\n",
       "         1.        ,  0.        ],\n",
       "       [ 0.75680149,  0.69085991,  1.        ,  0.        ,  0.        ,\n",
       "         0.        ,  0.        ],\n",
       "       [ 0.69444341,  0.42970109,  1.        ,  0.        ,  0.        ,\n",
       "         0.        ,  1.        ],\n",
       "       [ 1.        ,  0.61912507,  1.        ,  0.        ,  0.        ,\n",
       "         0.        ,  0.        ],\n",
       "       [ 1.        ,  0.5200339 ,  1.        ,  0.        ,  0.        ,\n",
       "        -1.        ,  0.        ],\n",
       "       [ 1.        ,  0.36979806,  1.        ,  0.        ,  0.        ,\n",
       "         0.        ,  1.        ],\n",
       "       [ 1.        ,  0.51793373, -1.        ,  0.        ,  0.        ,\n",
       "        -1.        ,  1.        ],\n",
       "       [ 1.        ,  0.90238875,  1.        ,  0.        ,  0.        ,\n",
       "         1.        ,  0.        ],\n",
       "       [ 1.        ,  0.14128536,  1.        ,  0.        ,  0.        ,\n",
       "         0.        ,  1.        ],\n",
       "       [ 0.28094414,  0.1442816 ,  1.        ,  0.        , -1.        ,\n",
       "        -1.        ,  1.        ],\n",
       "       [ 0.94671333,  0.15238781,  1.        ,  1.        ,  0.        ,\n",
       "         0.        ,  1.        ],\n",
       "       [ 1.        ,  0.63275498,  1.        ,  0.        ,  0.        ,\n",
       "         1.        ,  1.        ],\n",
       "       [ 0.56003576,  0.28756982,  1.        ,  0.        ,  0.        ,\n",
       "         0.        ,  0.        ],\n",
       "       [ 1.        ,  0.7891084 ,  1.        ,  0.        ,  1.        ,\n",
       "         0.        ,  0.        ],\n",
       "       [ 1.        ,  0.74919486,  1.        ,  0.        , -1.        ,\n",
       "         0.        ,  1.        ],\n",
       "       [ 1.        ,  0.67471611,  1.        ,  0.        ,  0.        ,\n",
       "         1.        ,  0.        ],\n",
       "       [ 1.        ,  0.60082591,  1.        ,  0.        ,  0.        ,\n",
       "         0.        ,  0.        ],\n",
       "       [ 1.        ,  0.04537703,  1.        ,  0.        ,  0.        ,\n",
       "         0.        ,  0.        ],\n",
       "       [ 1.        ,  0.43763596,  1.        ,  0.        ,  0.        ,\n",
       "         0.        ,  1.        ],\n",
       "       [ 1.        ,  0.79827225,  1.        ,  0.        ,  0.        ,\n",
       "         0.        ,  0.        ],\n",
       "       [ 1.        ,  0.23529083,  1.        ,  0.        ,  0.        ,\n",
       "         1.        ,  1.        ],\n",
       "       [ 1.        ,  0.3792856 ,  1.        ,  0.        ,  0.        ,\n",
       "         0.        ,  1.        ],\n",
       "       [ 0.54491723,  0.36548388,  1.        ,  0.        ,  0.        ,\n",
       "         0.        ,  0.        ],\n",
       "       [ 0.21787077,  0.21638668,  1.        ,  0.        ,  0.        ,\n",
       "         0.        ,  0.        ],\n",
       "       [ 1.        ,  0.21605256,  1.        ,  0.        ,  0.        ,\n",
       "         0.        ,  0.        ],\n",
       "       [ 1.        ,  0.22633836,  1.        ,  0.        ,  0.        ,\n",
       "         0.        ,  1.        ],\n",
       "       [ 1.        ,  0.6964705 ,  0.        ,  0.        ,  0.        ,\n",
       "         1.        ,  0.        ],\n",
       "       [ 0.350474  ,  0.53432488,  1.        ,  0.        ,  0.        ,\n",
       "         0.        ,  0.        ],\n",
       "       [ 1.        ,  0.91103351, -1.        ,  0.        ,  0.        ,\n",
       "        -1.        ,  0.        ],\n",
       "       [ 0.22222123,  0.08914887,  1.        ,  0.        ,  1.        ,\n",
       "         0.        ,  0.        ],\n",
       "       [ 1.        ,  0.30315015,  1.        ,  0.        ,  0.        ,\n",
       "         0.        ,  1.        ],\n",
       "       [ 0.59054244,  0.19726104,  1.        ,  0.        ,  0.        ,\n",
       "         0.        ,  0.        ],\n",
       "       [ 1.        ,  0.2183793 ,  1.        ,  0.        ,  0.        ,\n",
       "        -1.        ,  0.        ],\n",
       "       [ 1.        ,  0.21174994,  1.        ,  0.        ,  0.        ,\n",
       "         0.        ,  1.        ],\n",
       "       [ 1.        ,  0.8149128 ,  1.        ,  0.        ,  0.        ,\n",
       "         0.        ,  1.        ],\n",
       "       [ 1.        ,  0.3181417 ,  1.        ,  0.        ,  0.        ,\n",
       "         0.        ,  1.        ],\n",
       "       [ 0.71308208,  0.08570784,  1.        ,  0.        ,  0.        ,\n",
       "         0.        ,  0.        ],\n",
       "       [ 1.        ,  0.08197696,  1.        ,  0.        ,  0.        ,\n",
       "         1.        ,  0.        ],\n",
       "       [ 0.11208832,  0.03365815,  1.        ,  0.        ,  0.        ,\n",
       "         0.        ,  0.        ],\n",
       "       [ 1.        ,  0.19901213,  1.        ,  0.        ,  0.        ,\n",
       "         0.        ,  1.        ],\n",
       "       [ 1.        ,  0.45825508,  1.        ,  0.        , -1.        ,\n",
       "        -1.        ,  0.        ],\n",
       "       [ 1.        ,  0.66636622,  1.        ,  0.        , -1.        ,\n",
       "         1.        ,  1.        ],\n",
       "       [ 1.        ,  0.92070889,  1.        ,  0.        ,  0.        ,\n",
       "         0.        ,  1.        ],\n",
       "       [ 0.10487721,  0.04644512,  1.        ,  0.        ,  1.        ,\n",
       "         1.        ,  0.5       ],\n",
       "       [ 0.09422763,  0.80582273, -1.        ,  0.        ,  1.        ,\n",
       "         0.5       ,  0.        ],\n",
       "       [ 1.        ,  0.86672926,  1.        ,  0.        ,  0.        ,\n",
       "         1.        ,  0.        ],\n",
       "       [ 0.3013556 ,  0.97895849,  1.        ,  0.        ,  0.        ,\n",
       "         0.        ,  1.        ],\n",
       "       [ 0.69772029,  0.45477921, -1.        ,  0.        ,  0.        ,\n",
       "         1.        ,  0.        ],\n",
       "       [ 1.        ,  0.81260604,  1.        ,  0.        ,  0.        ,\n",
       "         1.        ,  1.        ],\n",
       "       [ 0.30452359,  0.68189812,  1.        ,  0.        ,  0.        ,\n",
       "         0.        ,  0.        ],\n",
       "       [ 1.        ,  1.        ,  1.        ,  0.        ,  0.        ,\n",
       "         0.        ,  1.        ],\n",
       "       [ 0.56251538,  0.79488909,  1.        ,  0.        ,  0.        ,\n",
       "         0.        ,  0.        ],\n",
       "       [ 0.91176689,  0.1151472 ,  1.        ,  0.        ,  0.        ,\n",
       "         0.        ,  0.        ],\n",
       "       [ 0.58538795,  1.        ,  1.        ,  0.        ,  0.        ,\n",
       "         1.        ,  1.        ],\n",
       "       [ 1.        ,  1.        ,  1.        , -1.        ,  0.        ,\n",
       "         0.        ,  1.        ],\n",
       "       [ 0.21580586,  0.2745797 ,  1.        ,  0.        ,  0.        ,\n",
       "         0.        ,  0.        ],\n",
       "       [ 1.        ,  0.13587067,  1.        ,  0.        ,  0.        ,\n",
       "         0.        ,  1.        ],\n",
       "       [ 0.18003285,  0.45725369,  1.        ,  0.        ,  0.        ,\n",
       "         0.        ,  0.        ],\n",
       "       [ 0.61959165,  0.1484782 ,  1.        ,  0.        ,  0.        ,\n",
       "         0.        ,  0.        ],\n",
       "       [ 1.        ,  0.65921426,  1.        ,  0.        ,  0.        ,\n",
       "        -1.        ,  1.        ],\n",
       "       [ 1.        ,  0.49733931,  1.        ,  0.        ,  1.        ,\n",
       "         1.        ,  1.        ],\n",
       "       [ 1.        ,  0.92453891,  1.        ,  0.        ,  1.        ,\n",
       "         0.        ,  0.        ],\n",
       "       [ 0.71791816,  0.27843255, -1.        , -1.        ,  0.        ,\n",
       "         0.        ,  0.        ],\n",
       "       [ 1.        ,  0.6589151 ,  1.        ,  0.        ,  0.        ,\n",
       "         0.        ,  1.        ],\n",
       "       [ 1.        ,  0.11883865,  1.        ,  0.        ,  0.        ,\n",
       "         0.        ,  1.        ],\n",
       "       [ 0.79887992,  0.62408197,  1.        ,  0.        ,  0.        ,\n",
       "         0.        ,  0.        ],\n",
       "       [ 1.        ,  0.04740859,  1.        ,  0.        ,  0.        ,\n",
       "         1.        ,  0.        ],\n",
       "       [ 1.        ,  0.32319951,  1.        ,  0.        ,  0.        ,\n",
       "         0.        , -1.        ],\n",
       "       [ 0.24599119,  0.10528015, -1.        ,  1.        ,  1.        ,\n",
       "         1.        ,  1.        ],\n",
       "       [ 1.        ,  0.21675527,  1.        ,  1.        ,  1.        ,\n",
       "         1.        ,  1.        ],\n",
       "       [ 1.        ,  0.39740428,  1.        ,  0.        ,  0.        ,\n",
       "         0.        ,  1.        ],\n",
       "       [ 0.47614342,  1.00000012,  1.        ,  0.        ,  0.        ,\n",
       "         0.        ,  0.        ],\n",
       "       [ 1.00000012,  0.99999994,  1.        ,  0.        ,  0.        ,\n",
       "         0.        ,  1.        ],\n",
       "       [ 0.49851987,  0.88701689,  1.        ,  0.        ,  0.        ,\n",
       "         0.        ,  1.        ],\n",
       "       [ 1.        ,  0.41908237,  1.        ,  1.        ,  1.        ,\n",
       "         1.        ,  1.        ],\n",
       "       [ 0.24010843,  0.39118227, -1.        , -1.        , -1.        ,\n",
       "         0.        ,  1.        ],\n",
       "       [ 1.        ,  0.47546947,  1.        ,  0.        ,  1.        ,\n",
       "         1.        ,  0.        ],\n",
       "       [ 0.44577038,  0.22534281,  1.        ,  0.        ,  0.        ,\n",
       "         0.        ,  1.        ],\n",
       "       [ 0.29460976,  0.61069524,  1.        ,  0.        ,  0.        ,\n",
       "         1.        ,  0.        ],\n",
       "       [ 0.28187734,  0.28766012, -1.        ,  0.        ,  1.        ,\n",
       "         1.        ,  0.        ],\n",
       "       [ 1.        ,  0.12020899,  1.        ,  1.        ,  0.        ,\n",
       "         0.        ,  1.        ],\n",
       "       [ 1.00000012,  0.1969099 ,  1.        ,  0.        ,  0.        ,\n",
       "         0.        ,  0.        ],\n",
       "       [ 1.        ,  0.34847319,  1.        ,  1.        ,  0.        ,\n",
       "         0.        ,  1.        ],\n",
       "       [ 0.48671487,  0.15730083, -1.        ,  0.        ,  1.        ,\n",
       "         1.        ,  1.        ],\n",
       "       [ 1.        ,  0.68575334,  1.        ,  0.        ,  0.        ,\n",
       "         1.        ,  0.        ],\n",
       "       [ 0.36119622,  0.20769143,  1.        ,  0.        ,  0.        ,\n",
       "         0.        ,  1.        ],\n",
       "       [ 1.        ,  0.33321965,  1.        ,  0.        ,  0.        ,\n",
       "        -1.        ,  0.        ],\n",
       "       [ 1.        ,  0.09999127,  1.        ,  0.        ,  0.        ,\n",
       "         0.        ,  1.        ],\n",
       "       [ 0.30552706,  0.30507308, -1.        ,  0.        ,  0.        ,\n",
       "         0.        ,  1.        ],\n",
       "       [ 0.19188622,  0.12992206, -1.        ,  0.        ,  0.        ,\n",
       "         1.        ,  1.        ],\n",
       "       [ 1.        ,  0.74784189,  1.        ,  0.        ,  0.        ,\n",
       "         0.        ,  1.        ],\n",
       "       [ 1.        ,  0.830284  ,  1.        ,  0.        ,  0.        ,\n",
       "         0.        ,  0.        ],\n",
       "       [ 1.        ,  0.08689009,  1.        ,  0.        ,  0.        ,\n",
       "         0.        ,  0.        ],\n",
       "       [ 1.        ,  0.35768539,  1.        ,  0.        ,  0.        ,\n",
       "         0.        ,  0.        ],\n",
       "       [ 1.        ,  0.00862332,  1.        ,  0.        ,  0.        ,\n",
       "         0.        ,  1.        ]])"
      ]
     },
     "execution_count": 187,
     "metadata": {},
     "output_type": "execute_result"
    }
   ],
   "source": [
    "X"
   ]
  },
  {
   "cell_type": "code",
   "execution_count": 188,
   "metadata": {},
   "outputs": [
    {
     "data": {
      "text/plain": [
       "0.51"
      ]
     },
     "execution_count": 188,
     "metadata": {},
     "output_type": "execute_result"
    }
   ],
   "source": [
    "model.score(X,y)"
   ]
  },
  {
   "cell_type": "code",
   "execution_count": 189,
   "metadata": {},
   "outputs": [],
   "source": [
    "validation_size = 0.10\n",
    "seed = 7\n",
    "X_train, X_validation, Y_train, Y_validation = model_selection.train_test_split(X, y, test_size=validation_size)"
   ]
  },
  {
   "cell_type": "code",
   "execution_count": 190,
   "metadata": {},
   "outputs": [
    {
     "name": "stdout",
     "output_type": "stream",
     "text": [
      "Logistic Regression: 0.477778 (0.122222)\n"
     ]
    }
   ],
   "source": [
    "name='Logistic Regression'\n",
    "kfold = model_selection.KFold(n_splits=10)\n",
    "cv_results = model_selection.cross_val_score(model, X_train, Y_train, cv=kfold, scoring='accuracy')\n",
    "msg = \"%s: %f (%f)\" % (name, cv_results.mean(), cv_results.std())\n",
    "print(msg)"
   ]
  },
  {
   "cell_type": "code",
   "execution_count": 191,
   "metadata": {},
   "outputs": [
    {
     "name": "stdout",
     "output_type": "stream",
     "text": [
      "0.1\n"
     ]
    }
   ],
   "source": [
    "predictions = model.predict(X_validation)\n",
    "print(accuracy_score(Y_validation, predictions))"
   ]
  },
  {
   "cell_type": "code",
   "execution_count": 192,
   "metadata": {},
   "outputs": [
    {
     "data": {
      "text/plain": [
       "array(['contradiction', 'entailment', 'neutral'], dtype=object)"
      ]
     },
     "execution_count": 192,
     "metadata": {},
     "output_type": "execute_result"
    }
   ],
   "source": [
    "model.classes_"
   ]
  },
  {
   "cell_type": "code",
   "execution_count": 193,
   "metadata": {},
   "outputs": [
    {
     "name": "stdout",
     "output_type": "stream",
     "text": [
      "[[1 3 0]\n",
      " [0 0 1]\n",
      " [0 5 0]]\n"
     ]
    }
   ],
   "source": [
    "print(confusion_matrix(Y_validation, predictions,labels=model.classes_))"
   ]
  },
  {
   "cell_type": "code",
   "execution_count": 194,
   "metadata": {},
   "outputs": [
    {
     "name": "stdout",
     "output_type": "stream",
     "text": [
      "               precision    recall  f1-score   support\n",
      "\n",
      "contradiction       1.00      0.25      0.40         4\n",
      "   entailment       0.00      0.00      0.00         1\n",
      "      neutral       0.00      0.00      0.00         5\n",
      "\n",
      "     accuracy                           0.10        10\n",
      "    macro avg       0.33      0.08      0.13        10\n",
      " weighted avg       0.40      0.10      0.16        10\n",
      "\n"
     ]
    }
   ],
   "source": [
    "print(classification_report(Y_validation, predictions))"
   ]
  }
 ],
 "metadata": {
  "kernelspec": {
   "display_name": "Python 3",
   "language": "python",
   "name": "python3"
  },
  "language_info": {
   "codemirror_mode": {
    "name": "ipython",
    "version": 3
   },
   "file_extension": ".py",
   "mimetype": "text/x-python",
   "name": "python",
   "nbconvert_exporter": "python",
   "pygments_lexer": "ipython3",
   "version": "3.9.13"
  }
 },
 "nbformat": 4,
 "nbformat_minor": 2
}
