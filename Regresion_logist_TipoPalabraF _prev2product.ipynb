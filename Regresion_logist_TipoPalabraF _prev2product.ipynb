{
 "cells": [
  {
   "cell_type": "code",
   "execution_count": 433,
   "metadata": {},
   "outputs": [],
   "source": [
    "import pandas as pd\n",
    "import numpy as np\n",
    "from sklearn import linear_model\n",
    "from sklearn import model_selection\n",
    "from sklearn.metrics import classification_report\n",
    "from sklearn.metrics import confusion_matrix\n",
    "from sklearn.metrics import f1_score\n",
    "from sklearn.metrics import accuracy_score\n",
    "import matplotlib.pyplot as plt\n",
    "import seaborn as sb"
   ]
  },
  {
   "cell_type": "code",
   "execution_count": 434,
   "metadata": {},
   "outputs": [
    {
     "data": {
      "text/html": [
       "<div>\n",
       "<style scoped>\n",
       "    .dataframe tbody tr th:only-of-type {\n",
       "        vertical-align: middle;\n",
       "    }\n",
       "\n",
       "    .dataframe tbody tr th {\n",
       "        vertical-align: top;\n",
       "    }\n",
       "\n",
       "    .dataframe thead th {\n",
       "        text-align: right;\n",
       "    }\n",
       "</style>\n",
       "<table border=\"1\" class=\"dataframe\">\n",
       "  <thead>\n",
       "    <tr style=\"text-align: right;\">\n",
       "      <th></th>\n",
       "      <th>NOUN_NOUN</th>\n",
       "      <th>NOUN_ADJ</th>\n",
       "      <th>NOUN_VERB</th>\n",
       "      <th>NOUN_ADV</th>\n",
       "      <th>ADJ_NOUN</th>\n",
       "      <th>ADJ_ADJ</th>\n",
       "      <th>ADJ_VERB</th>\n",
       "      <th>ADJ_ADV</th>\n",
       "      <th>VERB_NOUN</th>\n",
       "      <th>VERB_ADJ</th>\n",
       "      <th>...</th>\n",
       "      <th>ADV_VERB_</th>\n",
       "      <th>ADV_ADV_</th>\n",
       "      <th>sinonimos</th>\n",
       "      <th>antonimos</th>\n",
       "      <th>hiperonimos</th>\n",
       "      <th>hiponimos</th>\n",
       "      <th>action_wn</th>\n",
       "      <th>faltan</th>\n",
       "      <th>faltan2</th>\n",
       "      <th>CLASS</th>\n",
       "    </tr>\n",
       "  </thead>\n",
       "  <tbody>\n",
       "    <tr>\n",
       "      <th>0</th>\n",
       "      <td>2.358561</td>\n",
       "      <td>0.323334</td>\n",
       "      <td>0.622311</td>\n",
       "      <td>0.000000</td>\n",
       "      <td>0.000000</td>\n",
       "      <td>0.000000</td>\n",
       "      <td>0.000000</td>\n",
       "      <td>0.000000</td>\n",
       "      <td>2.588061</td>\n",
       "      <td>0.833760</td>\n",
       "      <td>...</td>\n",
       "      <td>0</td>\n",
       "      <td>0</td>\n",
       "      <td>0</td>\n",
       "      <td>0</td>\n",
       "      <td>3</td>\n",
       "      <td>2</td>\n",
       "      <td>0.754248</td>\n",
       "      <td>0.272841</td>\n",
       "      <td>0</td>\n",
       "      <td>entailment</td>\n",
       "    </tr>\n",
       "    <tr>\n",
       "      <th>1</th>\n",
       "      <td>4.879904</td>\n",
       "      <td>0.944648</td>\n",
       "      <td>0.452539</td>\n",
       "      <td>0.000000</td>\n",
       "      <td>2.080487</td>\n",
       "      <td>1.739786</td>\n",
       "      <td>0.000000</td>\n",
       "      <td>0.000000</td>\n",
       "      <td>2.459331</td>\n",
       "      <td>0.451001</td>\n",
       "      <td>...</td>\n",
       "      <td>0</td>\n",
       "      <td>0</td>\n",
       "      <td>4</td>\n",
       "      <td>0</td>\n",
       "      <td>0</td>\n",
       "      <td>1</td>\n",
       "      <td>0.877673</td>\n",
       "      <td>0.159916</td>\n",
       "      <td>1</td>\n",
       "      <td>entailment</td>\n",
       "    </tr>\n",
       "    <tr>\n",
       "      <th>2</th>\n",
       "      <td>2.305079</td>\n",
       "      <td>0.928263</td>\n",
       "      <td>0.942276</td>\n",
       "      <td>0.000000</td>\n",
       "      <td>1.355766</td>\n",
       "      <td>0.440236</td>\n",
       "      <td>0.173587</td>\n",
       "      <td>0.000000</td>\n",
       "      <td>0.000000</td>\n",
       "      <td>0.000000</td>\n",
       "      <td>...</td>\n",
       "      <td>0</td>\n",
       "      <td>0</td>\n",
       "      <td>1</td>\n",
       "      <td>0</td>\n",
       "      <td>0</td>\n",
       "      <td>0</td>\n",
       "      <td>0.859763</td>\n",
       "      <td>0.256307</td>\n",
       "      <td>1</td>\n",
       "      <td>contradiction</td>\n",
       "    </tr>\n",
       "    <tr>\n",
       "      <th>3</th>\n",
       "      <td>1.433082</td>\n",
       "      <td>0.000000</td>\n",
       "      <td>2.508721</td>\n",
       "      <td>0.000000</td>\n",
       "      <td>0.771747</td>\n",
       "      <td>0.000000</td>\n",
       "      <td>0.949051</td>\n",
       "      <td>0.000000</td>\n",
       "      <td>2.069529</td>\n",
       "      <td>0.000000</td>\n",
       "      <td>...</td>\n",
       "      <td>0</td>\n",
       "      <td>0</td>\n",
       "      <td>2</td>\n",
       "      <td>0</td>\n",
       "      <td>0</td>\n",
       "      <td>0</td>\n",
       "      <td>0.925000</td>\n",
       "      <td>1.000000</td>\n",
       "      <td>1</td>\n",
       "      <td>contradiction</td>\n",
       "    </tr>\n",
       "    <tr>\n",
       "      <th>4</th>\n",
       "      <td>2.326802</td>\n",
       "      <td>0.000000</td>\n",
       "      <td>0.000000</td>\n",
       "      <td>0.000000</td>\n",
       "      <td>0.000000</td>\n",
       "      <td>0.000000</td>\n",
       "      <td>0.000000</td>\n",
       "      <td>0.000000</td>\n",
       "      <td>0.000000</td>\n",
       "      <td>0.000000</td>\n",
       "      <td>...</td>\n",
       "      <td>2</td>\n",
       "      <td>0</td>\n",
       "      <td>2</td>\n",
       "      <td>0</td>\n",
       "      <td>0</td>\n",
       "      <td>0</td>\n",
       "      <td>0.948718</td>\n",
       "      <td>0.098130</td>\n",
       "      <td>1</td>\n",
       "      <td>neutral</td>\n",
       "    </tr>\n",
       "    <tr>\n",
       "      <th>...</th>\n",
       "      <td>...</td>\n",
       "      <td>...</td>\n",
       "      <td>...</td>\n",
       "      <td>...</td>\n",
       "      <td>...</td>\n",
       "      <td>...</td>\n",
       "      <td>...</td>\n",
       "      <td>...</td>\n",
       "      <td>...</td>\n",
       "      <td>...</td>\n",
       "      <td>...</td>\n",
       "      <td>...</td>\n",
       "      <td>...</td>\n",
       "      <td>...</td>\n",
       "      <td>...</td>\n",
       "      <td>...</td>\n",
       "      <td>...</td>\n",
       "      <td>...</td>\n",
       "      <td>...</td>\n",
       "      <td>...</td>\n",
       "      <td>...</td>\n",
       "    </tr>\n",
       "    <tr>\n",
       "      <th>95</th>\n",
       "      <td>5.413959</td>\n",
       "      <td>0.825655</td>\n",
       "      <td>0.386321</td>\n",
       "      <td>1.365551</td>\n",
       "      <td>1.448315</td>\n",
       "      <td>1.008830</td>\n",
       "      <td>0.343587</td>\n",
       "      <td>0.000000</td>\n",
       "      <td>1.097808</td>\n",
       "      <td>0.287286</td>\n",
       "      <td>...</td>\n",
       "      <td>0</td>\n",
       "      <td>0</td>\n",
       "      <td>1</td>\n",
       "      <td>0</td>\n",
       "      <td>1</td>\n",
       "      <td>2</td>\n",
       "      <td>0.825581</td>\n",
       "      <td>0.110635</td>\n",
       "      <td>1</td>\n",
       "      <td>entailment</td>\n",
       "    </tr>\n",
       "    <tr>\n",
       "      <th>96</th>\n",
       "      <td>2.000000</td>\n",
       "      <td>0.000000</td>\n",
       "      <td>0.000000</td>\n",
       "      <td>0.000000</td>\n",
       "      <td>0.768382</td>\n",
       "      <td>0.000000</td>\n",
       "      <td>0.000000</td>\n",
       "      <td>0.000000</td>\n",
       "      <td>0.000000</td>\n",
       "      <td>0.000000</td>\n",
       "      <td>...</td>\n",
       "      <td>0</td>\n",
       "      <td>0</td>\n",
       "      <td>3</td>\n",
       "      <td>0</td>\n",
       "      <td>0</td>\n",
       "      <td>0</td>\n",
       "      <td>1.000000</td>\n",
       "      <td>0.652412</td>\n",
       "      <td>0</td>\n",
       "      <td>entailment</td>\n",
       "    </tr>\n",
       "    <tr>\n",
       "      <th>97</th>\n",
       "      <td>1.065250</td>\n",
       "      <td>0.000000</td>\n",
       "      <td>0.254503</td>\n",
       "      <td>0.000000</td>\n",
       "      <td>0.000000</td>\n",
       "      <td>0.000000</td>\n",
       "      <td>0.000000</td>\n",
       "      <td>0.000000</td>\n",
       "      <td>0.752330</td>\n",
       "      <td>0.000000</td>\n",
       "      <td>...</td>\n",
       "      <td>0</td>\n",
       "      <td>0</td>\n",
       "      <td>0</td>\n",
       "      <td>0</td>\n",
       "      <td>0</td>\n",
       "      <td>0</td>\n",
       "      <td>0.681115</td>\n",
       "      <td>0.467361</td>\n",
       "      <td>2</td>\n",
       "      <td>contradiction</td>\n",
       "    </tr>\n",
       "    <tr>\n",
       "      <th>98</th>\n",
       "      <td>1.316973</td>\n",
       "      <td>0.000000</td>\n",
       "      <td>0.000000</td>\n",
       "      <td>0.000000</td>\n",
       "      <td>0.000000</td>\n",
       "      <td>0.000000</td>\n",
       "      <td>0.000000</td>\n",
       "      <td>0.000000</td>\n",
       "      <td>0.661479</td>\n",
       "      <td>0.000000</td>\n",
       "      <td>...</td>\n",
       "      <td>0</td>\n",
       "      <td>0</td>\n",
       "      <td>2</td>\n",
       "      <td>0</td>\n",
       "      <td>0</td>\n",
       "      <td>0</td>\n",
       "      <td>1.000000</td>\n",
       "      <td>1.000000</td>\n",
       "      <td>2</td>\n",
       "      <td>contradiction</td>\n",
       "    </tr>\n",
       "    <tr>\n",
       "      <th>99</th>\n",
       "      <td>2.040606</td>\n",
       "      <td>0.000000</td>\n",
       "      <td>0.688083</td>\n",
       "      <td>0.799900</td>\n",
       "      <td>0.434092</td>\n",
       "      <td>0.000000</td>\n",
       "      <td>0.323281</td>\n",
       "      <td>0.464549</td>\n",
       "      <td>0.909151</td>\n",
       "      <td>0.000000</td>\n",
       "      <td>...</td>\n",
       "      <td>0</td>\n",
       "      <td>0</td>\n",
       "      <td>2</td>\n",
       "      <td>0</td>\n",
       "      <td>0</td>\n",
       "      <td>0</td>\n",
       "      <td>0.863158</td>\n",
       "      <td>0.027139</td>\n",
       "      <td>2</td>\n",
       "      <td>contradiction</td>\n",
       "    </tr>\n",
       "  </tbody>\n",
       "</table>\n",
       "<p>100 rows × 40 columns</p>\n",
       "</div>"
      ],
      "text/plain": [
       "    NOUN_NOUN  NOUN_ADJ  NOUN_VERB  NOUN_ADV  ADJ_NOUN   ADJ_ADJ  ADJ_VERB  \\\n",
       "0    2.358561  0.323334   0.622311  0.000000  0.000000  0.000000  0.000000   \n",
       "1    4.879904  0.944648   0.452539  0.000000  2.080487  1.739786  0.000000   \n",
       "2    2.305079  0.928263   0.942276  0.000000  1.355766  0.440236  0.173587   \n",
       "3    1.433082  0.000000   2.508721  0.000000  0.771747  0.000000  0.949051   \n",
       "4    2.326802  0.000000   0.000000  0.000000  0.000000  0.000000  0.000000   \n",
       "..        ...       ...        ...       ...       ...       ...       ...   \n",
       "95   5.413959  0.825655   0.386321  1.365551  1.448315  1.008830  0.343587   \n",
       "96   2.000000  0.000000   0.000000  0.000000  0.768382  0.000000  0.000000   \n",
       "97   1.065250  0.000000   0.254503  0.000000  0.000000  0.000000  0.000000   \n",
       "98   1.316973  0.000000   0.000000  0.000000  0.000000  0.000000  0.000000   \n",
       "99   2.040606  0.000000   0.688083  0.799900  0.434092  0.000000  0.323281   \n",
       "\n",
       "     ADJ_ADV  VERB_NOUN  VERB_ADJ  ...  ADV_VERB_  ADV_ADV_  sinonimos  \\\n",
       "0   0.000000   2.588061  0.833760  ...          0         0          0   \n",
       "1   0.000000   2.459331  0.451001  ...          0         0          4   \n",
       "2   0.000000   0.000000  0.000000  ...          0         0          1   \n",
       "3   0.000000   2.069529  0.000000  ...          0         0          2   \n",
       "4   0.000000   0.000000  0.000000  ...          2         0          2   \n",
       "..       ...        ...       ...  ...        ...       ...        ...   \n",
       "95  0.000000   1.097808  0.287286  ...          0         0          1   \n",
       "96  0.000000   0.000000  0.000000  ...          0         0          3   \n",
       "97  0.000000   0.752330  0.000000  ...          0         0          0   \n",
       "98  0.000000   0.661479  0.000000  ...          0         0          2   \n",
       "99  0.464549   0.909151  0.000000  ...          0         0          2   \n",
       "\n",
       "    antonimos  hiperonimos  hiponimos  action_wn    faltan  faltan2  \\\n",
       "0           0            3          2   0.754248  0.272841        0   \n",
       "1           0            0          1   0.877673  0.159916        1   \n",
       "2           0            0          0   0.859763  0.256307        1   \n",
       "3           0            0          0   0.925000  1.000000        1   \n",
       "4           0            0          0   0.948718  0.098130        1   \n",
       "..        ...          ...        ...        ...       ...      ...   \n",
       "95          0            1          2   0.825581  0.110635        1   \n",
       "96          0            0          0   1.000000  0.652412        0   \n",
       "97          0            0          0   0.681115  0.467361        2   \n",
       "98          0            0          0   1.000000  1.000000        2   \n",
       "99          0            0          0   0.863158  0.027139        2   \n",
       "\n",
       "            CLASS  \n",
       "0      entailment  \n",
       "1      entailment  \n",
       "2   contradiction  \n",
       "3   contradiction  \n",
       "4         neutral  \n",
       "..            ...  \n",
       "95     entailment  \n",
       "96     entailment  \n",
       "97  contradiction  \n",
       "98  contradiction  \n",
       "99  contradiction  \n",
       "\n",
       "[100 rows x 40 columns]"
      ]
     },
     "execution_count": 434,
     "metadata": {},
     "output_type": "execute_result"
    }
   ],
   "source": [
    "#dataframe = pd.read_csv(r\"TipoPalabra_conteos_mean_umbral_mean.csv\")\n",
    "#dataframe = pd.read_csv(r\"TipoPalabra_conteos_umbral_mean_relsemanf_sim0.7.csv\")\n",
    "#dataframe = pd.read_csv(r\"TipoPalabra_conteos_umbral_mean_relsemanf_sim0.8.csv\")\n",
    "#dataframe = pd.read_csv(r\"TipoPalabra_conteos_umbral_mean_relsemanf_root_difTH_porcentajeR_MAs.csv\")\n",
    "dataframe = pd.read_csv(r\"salida/TipoPalabra_conteos_umbral_mean_relsemanf_root_difTH_porcentajeR_MAspromedio2.csv\")\n",
    "dataframe"
   ]
  },
  {
   "cell_type": "code",
   "execution_count": 435,
   "metadata": {},
   "outputs": [],
   "source": [
    "#dataframe.corr()"
   ]
  },
  {
   "cell_type": "code",
   "execution_count": 436,
   "metadata": {},
   "outputs": [
    {
     "data": {
      "text/html": [
       "<div>\n",
       "<style scoped>\n",
       "    .dataframe tbody tr th:only-of-type {\n",
       "        vertical-align: middle;\n",
       "    }\n",
       "\n",
       "    .dataframe tbody tr th {\n",
       "        vertical-align: top;\n",
       "    }\n",
       "\n",
       "    .dataframe thead th {\n",
       "        text-align: right;\n",
       "    }\n",
       "</style>\n",
       "<table border=\"1\" class=\"dataframe\">\n",
       "  <thead>\n",
       "    <tr style=\"text-align: right;\">\n",
       "      <th></th>\n",
       "      <th>NOUN_NOUN</th>\n",
       "      <th>NOUN_ADJ</th>\n",
       "      <th>NOUN_VERB</th>\n",
       "      <th>NOUN_ADV</th>\n",
       "      <th>ADJ_NOUN</th>\n",
       "      <th>ADJ_ADJ</th>\n",
       "      <th>ADJ_VERB</th>\n",
       "      <th>ADJ_ADV</th>\n",
       "      <th>VERB_NOUN</th>\n",
       "      <th>VERB_ADJ</th>\n",
       "      <th>...</th>\n",
       "      <th>ADV_ADJ_</th>\n",
       "      <th>ADV_VERB_</th>\n",
       "      <th>ADV_ADV_</th>\n",
       "      <th>sinonimos</th>\n",
       "      <th>antonimos</th>\n",
       "      <th>hiperonimos</th>\n",
       "      <th>hiponimos</th>\n",
       "      <th>action_wn</th>\n",
       "      <th>faltan</th>\n",
       "      <th>faltan2</th>\n",
       "    </tr>\n",
       "  </thead>\n",
       "  <tbody>\n",
       "    <tr>\n",
       "      <th>count</th>\n",
       "      <td>100.000000</td>\n",
       "      <td>100.000000</td>\n",
       "      <td>100.000000</td>\n",
       "      <td>100.000000</td>\n",
       "      <td>100.000000</td>\n",
       "      <td>100.000000</td>\n",
       "      <td>100.000000</td>\n",
       "      <td>100.000000</td>\n",
       "      <td>100.000000</td>\n",
       "      <td>100.000000</td>\n",
       "      <td>...</td>\n",
       "      <td>100.000000</td>\n",
       "      <td>100.000000</td>\n",
       "      <td>100.000000</td>\n",
       "      <td>100.000000</td>\n",
       "      <td>100.000000</td>\n",
       "      <td>100.000000</td>\n",
       "      <td>100.000000</td>\n",
       "      <td>100.000000</td>\n",
       "      <td>100.000000</td>\n",
       "      <td>100.000000</td>\n",
       "    </tr>\n",
       "    <tr>\n",
       "      <th>mean</th>\n",
       "      <td>3.298224</td>\n",
       "      <td>0.454706</td>\n",
       "      <td>0.901464</td>\n",
       "      <td>0.148235</td>\n",
       "      <td>0.858387</td>\n",
       "      <td>0.403246</td>\n",
       "      <td>0.356483</td>\n",
       "      <td>0.074768</td>\n",
       "      <td>1.002412</td>\n",
       "      <td>0.163880</td>\n",
       "      <td>...</td>\n",
       "      <td>0.120000</td>\n",
       "      <td>0.190000</td>\n",
       "      <td>0.070000</td>\n",
       "      <td>2.180000</td>\n",
       "      <td>0.030000</td>\n",
       "      <td>0.320000</td>\n",
       "      <td>0.370000</td>\n",
       "      <td>0.880817</td>\n",
       "      <td>0.425088</td>\n",
       "      <td>1.240000</td>\n",
       "    </tr>\n",
       "    <tr>\n",
       "      <th>std</th>\n",
       "      <td>2.190854</td>\n",
       "      <td>0.883885</td>\n",
       "      <td>0.909427</td>\n",
       "      <td>0.384945</td>\n",
       "      <td>1.317747</td>\n",
       "      <td>0.832110</td>\n",
       "      <td>0.591267</td>\n",
       "      <td>0.290324</td>\n",
       "      <td>1.471056</td>\n",
       "      <td>0.364595</td>\n",
       "      <td>...</td>\n",
       "      <td>0.477367</td>\n",
       "      <td>0.662029</td>\n",
       "      <td>0.536637</td>\n",
       "      <td>1.585158</td>\n",
       "      <td>0.171447</td>\n",
       "      <td>0.566399</td>\n",
       "      <td>0.676518</td>\n",
       "      <td>0.134301</td>\n",
       "      <td>0.368286</td>\n",
       "      <td>1.231899</td>\n",
       "    </tr>\n",
       "    <tr>\n",
       "      <th>min</th>\n",
       "      <td>0.000000</td>\n",
       "      <td>0.000000</td>\n",
       "      <td>0.000000</td>\n",
       "      <td>0.000000</td>\n",
       "      <td>-0.008496</td>\n",
       "      <td>0.000000</td>\n",
       "      <td>0.000000</td>\n",
       "      <td>0.000000</td>\n",
       "      <td>0.000000</td>\n",
       "      <td>0.000000</td>\n",
       "      <td>...</td>\n",
       "      <td>0.000000</td>\n",
       "      <td>0.000000</td>\n",
       "      <td>0.000000</td>\n",
       "      <td>0.000000</td>\n",
       "      <td>0.000000</td>\n",
       "      <td>0.000000</td>\n",
       "      <td>0.000000</td>\n",
       "      <td>0.000000</td>\n",
       "      <td>-0.058745</td>\n",
       "      <td>0.000000</td>\n",
       "    </tr>\n",
       "    <tr>\n",
       "      <th>25%</th>\n",
       "      <td>1.997307</td>\n",
       "      <td>0.000000</td>\n",
       "      <td>0.321252</td>\n",
       "      <td>0.000000</td>\n",
       "      <td>0.000000</td>\n",
       "      <td>0.000000</td>\n",
       "      <td>0.000000</td>\n",
       "      <td>0.000000</td>\n",
       "      <td>0.000000</td>\n",
       "      <td>0.000000</td>\n",
       "      <td>...</td>\n",
       "      <td>0.000000</td>\n",
       "      <td>0.000000</td>\n",
       "      <td>0.000000</td>\n",
       "      <td>1.000000</td>\n",
       "      <td>0.000000</td>\n",
       "      <td>0.000000</td>\n",
       "      <td>0.000000</td>\n",
       "      <td>0.851316</td>\n",
       "      <td>0.140080</td>\n",
       "      <td>0.000000</td>\n",
       "    </tr>\n",
       "    <tr>\n",
       "      <th>50%</th>\n",
       "      <td>2.644824</td>\n",
       "      <td>0.000000</td>\n",
       "      <td>0.649265</td>\n",
       "      <td>0.000000</td>\n",
       "      <td>0.417869</td>\n",
       "      <td>0.000000</td>\n",
       "      <td>0.000000</td>\n",
       "      <td>0.000000</td>\n",
       "      <td>0.660955</td>\n",
       "      <td>0.000000</td>\n",
       "      <td>...</td>\n",
       "      <td>0.000000</td>\n",
       "      <td>0.000000</td>\n",
       "      <td>0.000000</td>\n",
       "      <td>2.000000</td>\n",
       "      <td>0.000000</td>\n",
       "      <td>0.000000</td>\n",
       "      <td>0.000000</td>\n",
       "      <td>0.909091</td>\n",
       "      <td>0.273321</td>\n",
       "      <td>1.000000</td>\n",
       "    </tr>\n",
       "    <tr>\n",
       "      <th>75%</th>\n",
       "      <td>3.989543</td>\n",
       "      <td>0.442800</td>\n",
       "      <td>1.293300</td>\n",
       "      <td>0.000000</td>\n",
       "      <td>1.093820</td>\n",
       "      <td>0.466835</td>\n",
       "      <td>0.462931</td>\n",
       "      <td>0.000000</td>\n",
       "      <td>1.234545</td>\n",
       "      <td>0.000000</td>\n",
       "      <td>...</td>\n",
       "      <td>0.000000</td>\n",
       "      <td>0.000000</td>\n",
       "      <td>0.000000</td>\n",
       "      <td>3.000000</td>\n",
       "      <td>0.000000</td>\n",
       "      <td>1.000000</td>\n",
       "      <td>1.000000</td>\n",
       "      <td>0.961497</td>\n",
       "      <td>0.778200</td>\n",
       "      <td>2.000000</td>\n",
       "    </tr>\n",
       "    <tr>\n",
       "      <th>max</th>\n",
       "      <td>11.643143</td>\n",
       "      <td>4.508710</td>\n",
       "      <td>4.385522</td>\n",
       "      <td>2.191570</td>\n",
       "      <td>6.881524</td>\n",
       "      <td>3.908348</td>\n",
       "      <td>3.463590</td>\n",
       "      <td>1.872087</td>\n",
       "      <td>12.134146</td>\n",
       "      <td>2.184639</td>\n",
       "      <td>...</td>\n",
       "      <td>3.000000</td>\n",
       "      <td>4.000000</td>\n",
       "      <td>5.000000</td>\n",
       "      <td>7.000000</td>\n",
       "      <td>1.000000</td>\n",
       "      <td>3.000000</td>\n",
       "      <td>3.000000</td>\n",
       "      <td>1.000000</td>\n",
       "      <td>1.000000</td>\n",
       "      <td>5.000000</td>\n",
       "    </tr>\n",
       "  </tbody>\n",
       "</table>\n",
       "<p>8 rows × 39 columns</p>\n",
       "</div>"
      ],
      "text/plain": [
       "        NOUN_NOUN    NOUN_ADJ   NOUN_VERB    NOUN_ADV    ADJ_NOUN     ADJ_ADJ  \\\n",
       "count  100.000000  100.000000  100.000000  100.000000  100.000000  100.000000   \n",
       "mean     3.298224    0.454706    0.901464    0.148235    0.858387    0.403246   \n",
       "std      2.190854    0.883885    0.909427    0.384945    1.317747    0.832110   \n",
       "min      0.000000    0.000000    0.000000    0.000000   -0.008496    0.000000   \n",
       "25%      1.997307    0.000000    0.321252    0.000000    0.000000    0.000000   \n",
       "50%      2.644824    0.000000    0.649265    0.000000    0.417869    0.000000   \n",
       "75%      3.989543    0.442800    1.293300    0.000000    1.093820    0.466835   \n",
       "max     11.643143    4.508710    4.385522    2.191570    6.881524    3.908348   \n",
       "\n",
       "         ADJ_VERB     ADJ_ADV   VERB_NOUN    VERB_ADJ  ...    ADV_ADJ_  \\\n",
       "count  100.000000  100.000000  100.000000  100.000000  ...  100.000000   \n",
       "mean     0.356483    0.074768    1.002412    0.163880  ...    0.120000   \n",
       "std      0.591267    0.290324    1.471056    0.364595  ...    0.477367   \n",
       "min      0.000000    0.000000    0.000000    0.000000  ...    0.000000   \n",
       "25%      0.000000    0.000000    0.000000    0.000000  ...    0.000000   \n",
       "50%      0.000000    0.000000    0.660955    0.000000  ...    0.000000   \n",
       "75%      0.462931    0.000000    1.234545    0.000000  ...    0.000000   \n",
       "max      3.463590    1.872087   12.134146    2.184639  ...    3.000000   \n",
       "\n",
       "        ADV_VERB_    ADV_ADV_   sinonimos   antonimos  hiperonimos  \\\n",
       "count  100.000000  100.000000  100.000000  100.000000   100.000000   \n",
       "mean     0.190000    0.070000    2.180000    0.030000     0.320000   \n",
       "std      0.662029    0.536637    1.585158    0.171447     0.566399   \n",
       "min      0.000000    0.000000    0.000000    0.000000     0.000000   \n",
       "25%      0.000000    0.000000    1.000000    0.000000     0.000000   \n",
       "50%      0.000000    0.000000    2.000000    0.000000     0.000000   \n",
       "75%      0.000000    0.000000    3.000000    0.000000     1.000000   \n",
       "max      4.000000    5.000000    7.000000    1.000000     3.000000   \n",
       "\n",
       "        hiponimos   action_wn      faltan     faltan2  \n",
       "count  100.000000  100.000000  100.000000  100.000000  \n",
       "mean     0.370000    0.880817    0.425088    1.240000  \n",
       "std      0.676518    0.134301    0.368286    1.231899  \n",
       "min      0.000000    0.000000   -0.058745    0.000000  \n",
       "25%      0.000000    0.851316    0.140080    0.000000  \n",
       "50%      0.000000    0.909091    0.273321    1.000000  \n",
       "75%      1.000000    0.961497    0.778200    2.000000  \n",
       "max      3.000000    1.000000    1.000000    5.000000  \n",
       "\n",
       "[8 rows x 39 columns]"
      ]
     },
     "execution_count": 436,
     "metadata": {},
     "output_type": "execute_result"
    }
   ],
   "source": [
    "dataframe.describe()"
   ]
  },
  {
   "cell_type": "code",
   "execution_count": 437,
   "metadata": {},
   "outputs": [
    {
     "name": "stdout",
     "output_type": "stream",
     "text": [
      "CLASS\n",
      "contradiction    27\n",
      "entailment       42\n",
      "neutral          31\n",
      "dtype: int64\n"
     ]
    }
   ],
   "source": [
    "print(dataframe.groupby('CLASS').size())"
   ]
  },
  {
   "cell_type": "code",
   "execution_count": 438,
   "metadata": {},
   "outputs": [
    {
     "data": {
      "image/png": "[encoded data removed]",
      "text/plain": [
       "<Figure size 2000x1000 with 42 Axes>"
      ]
     },
     "metadata": {},
     "output_type": "display_data"
    }
   ],
   "source": [
    "dataframe.hist(figsize=(20,10))\n",
    "plt.show()"
   ]
  },
  {
   "cell_type": "code",
   "execution_count": 439,
   "metadata": {},
   "outputs": [],
   "source": [
    "labels=['NOUN_NOUN',\n",
    " 'NOUN_ADJ',\n",
    " 'NOUN_VERB',\n",
    " 'NOUN_ADV',\n",
    " 'ADJ_NOUN',\n",
    " 'ADJ_ADJ',\n",
    " 'ADJ_VERB',\n",
    " 'ADJ_ADV',\n",
    " 'VERB_NOUN',\n",
    " 'VERB_ADJ',\n",
    " 'VERB_VERB',\n",
    " 'VERB_ADV',\n",
    " 'ADV_NOUN',\n",
    " 'ADV_ADJ',\n",
    " 'ADV_VERB',\n",
    " 'ADV_ADV']"
   ]
  },
  {
   "cell_type": "code",
   "execution_count": 440,
   "metadata": {},
   "outputs": [],
   "source": [
    "#sb.pairplot(dataframe.dropna(), hue='CLASS',size=4,vars=labels,kind='reg')"
   ]
  },
  {
   "cell_type": "code",
   "execution_count": 441,
   "metadata": {},
   "outputs": [
    {
     "data": {
      "text/plain": [
       "(100, 39)"
      ]
     },
     "execution_count": 441,
     "metadata": {},
     "output_type": "execute_result"
    }
   ],
   "source": [
    "X = np.array(dataframe.drop(['CLASS'],1))\n",
    "X_test = np.array(dataframe.drop(['CLASS'],1))\n",
    "y = np.array(dataframe['CLASS'])\n",
    "y_test =np.array(dataframe['CLASS'])\n",
    "X.shape"
   ]
  },
  {
   "cell_type": "code",
   "execution_count": 442,
   "metadata": {},
   "outputs": [
    {
     "data": {
      "text/plain": [
       "array(['entailment', 'entailment', 'contradiction', 'contradiction',\n",
       "       'neutral', 'neutral', 'neutral', 'entailment', 'neutral',\n",
       "       'entailment', 'neutral', 'contradiction', 'entailment',\n",
       "       'contradiction', 'neutral', 'neutral', 'entailment',\n",
       "       'contradiction', 'contradiction', 'entailment', 'entailment',\n",
       "       'entailment', 'neutral', 'contradiction', 'entailment', 'neutral',\n",
       "       'entailment', 'entailment', 'entailment', 'neutral', 'neutral',\n",
       "       'contradiction', 'contradiction', 'entailment', 'contradiction',\n",
       "       'neutral', 'entailment', 'neutral', 'neutral', 'entailment',\n",
       "       'neutral', 'neutral', 'contradiction', 'neutral', 'entailment',\n",
       "       'neutral', 'neutral', 'entailment', 'contradiction', 'neutral',\n",
       "       'entailment', 'entailment', 'neutral', 'entailment',\n",
       "       'contradiction', 'entailment', 'entailment', 'neutral', 'neutral',\n",
       "       'neutral', 'neutral', 'neutral', 'neutral', 'entailment',\n",
       "       'entailment', 'contradiction', 'entailment', 'entailment',\n",
       "       'neutral', 'contradiction', 'entailment', 'contradiction',\n",
       "       'contradiction', 'contradiction', 'neutral', 'entailment',\n",
       "       'entailment', 'entailment', 'entailment', 'contradiction',\n",
       "       'neutral', 'entailment', 'entailment', 'entailment',\n",
       "       'contradiction', 'entailment', 'entailment', 'entailment',\n",
       "       'contradiction', 'contradiction', 'contradiction', 'neutral',\n",
       "       'entailment', 'entailment', 'contradiction', 'entailment',\n",
       "       'entailment', 'contradiction', 'contradiction', 'contradiction'],\n",
       "      dtype=object)"
      ]
     },
     "execution_count": 442,
     "metadata": {},
     "output_type": "execute_result"
    }
   ],
   "source": [
    "y_test"
   ]
  },
  {
   "cell_type": "code",
   "execution_count": 443,
   "metadata": {},
   "outputs": [
    {
     "data": {
      "text/plain": [
       "array(['entailment', 'entailment', 'contradiction', 'contradiction',\n",
       "       'neutral', 'neutral', 'neutral', 'entailment', 'neutral',\n",
       "       'entailment', 'neutral', 'contradiction', 'entailment',\n",
       "       'contradiction', 'neutral', 'neutral', 'entailment',\n",
       "       'contradiction', 'contradiction', 'entailment', 'entailment',\n",
       "       'entailment', 'neutral', 'contradiction', 'entailment', 'neutral',\n",
       "       'entailment', 'entailment', 'entailment', 'neutral', 'neutral',\n",
       "       'contradiction', 'contradiction', 'entailment', 'contradiction',\n",
       "       'neutral', 'entailment', 'neutral', 'neutral', 'entailment',\n",
       "       'neutral', 'neutral', 'contradiction', 'neutral', 'entailment',\n",
       "       'neutral', 'neutral', 'entailment', 'contradiction', 'neutral',\n",
       "       'entailment', 'entailment', 'neutral', 'entailment',\n",
       "       'contradiction', 'entailment', 'entailment', 'neutral', 'neutral',\n",
       "       'neutral', 'neutral', 'neutral', 'neutral', 'entailment',\n",
       "       'entailment', 'contradiction', 'entailment', 'entailment',\n",
       "       'neutral', 'contradiction', 'entailment', 'contradiction',\n",
       "       'contradiction', 'contradiction', 'neutral', 'entailment',\n",
       "       'entailment', 'entailment', 'entailment', 'contradiction',\n",
       "       'neutral', 'entailment', 'entailment', 'entailment',\n",
       "       'contradiction', 'entailment', 'entailment', 'entailment',\n",
       "       'contradiction', 'contradiction', 'contradiction', 'neutral',\n",
       "       'entailment', 'entailment', 'contradiction', 'entailment',\n",
       "       'entailment', 'contradiction', 'contradiction', 'contradiction'],\n",
       "      dtype=object)"
      ]
     },
     "execution_count": 443,
     "metadata": {},
     "output_type": "execute_result"
    }
   ],
   "source": [
    "y"
   ]
  },
  {
   "cell_type": "code",
   "execution_count": 444,
   "metadata": {},
   "outputs": [
    {
     "data": {
      "text/plain": [
       "LogisticRegression(C=0.1)"
      ]
     },
     "execution_count": 444,
     "metadata": {},
     "output_type": "execute_result"
    }
   ],
   "source": [
    "model = linear_model.LogisticRegression(penalty=\"l2\", C=0.1)\n",
    "model.fit(X,y)"
   ]
  },
  {
   "cell_type": "code",
   "execution_count": 445,
   "metadata": {},
   "outputs": [
    {
     "data": {
      "text/plain": [
       "{'C': 0.1,\n",
       " 'class_weight': None,\n",
       " 'dual': False,\n",
       " 'fit_intercept': True,\n",
       " 'intercept_scaling': 1,\n",
       " 'l1_ratio': None,\n",
       " 'max_iter': 100,\n",
       " 'multi_class': 'auto',\n",
       " 'n_jobs': None,\n",
       " 'penalty': 'l2',\n",
       " 'random_state': None,\n",
       " 'solver': 'lbfgs',\n",
       " 'tol': 0.0001,\n",
       " 'verbose': 0,\n",
       " 'warm_start': False}"
      ]
     },
     "execution_count": 445,
     "metadata": {},
     "output_type": "execute_result"
    }
   ],
   "source": [
    "model.get_params()"
   ]
  },
  {
   "cell_type": "code",
   "execution_count": 446,
   "metadata": {},
   "outputs": [
    {
     "data": {
      "text/plain": [
       "array([[ 2.27211171e-01,  5.26708781e-01, -7.53919953e-01],\n",
       "       [-9.03247596e-01,  4.41143208e-01,  4.62104388e-01],\n",
       "       [-1.09788310e-01, -6.24149591e-01,  7.33937902e-01],\n",
       "       [ 5.68651685e-01,  6.09029977e-01, -1.17768166e+00],\n",
       "       [-6.85779961e-01, -9.53268398e-03,  6.95312645e-01],\n",
       "       [ 7.27904887e-02, -5.68548272e-01,  4.95757783e-01],\n",
       "       [-6.16001934e-01,  6.82739514e-01, -6.67375794e-02],\n",
       "       [-7.11984629e-01,  1.40963330e+00, -6.97648675e-01],\n",
       "       [-2.97081567e-01, -2.70070763e-01,  5.67152330e-01],\n",
       "       [-1.09404733e+00,  1.73752535e+00, -6.43478021e-01],\n",
       "       [-8.29705028e-01,  5.90938390e-01,  2.38766638e-01],\n",
       "       [ 5.50035478e-01, -5.70355088e-01,  2.03196106e-02],\n",
       "       [-3.55226705e-01,  6.37476623e-01, -2.82249918e-01],\n",
       "       [ 2.97133189e-01, -5.07235656e-01,  2.10102466e-01],\n",
       "       [-2.94044054e-01, -7.16180244e-01,  1.01022430e+00],\n",
       "       [-6.65837710e-01,  1.01097453e+00, -3.45136815e-01],\n",
       "       [-5.82375166e-01,  2.16197724e+00, -1.57960207e+00],\n",
       "       [ 8.98573601e-02,  2.09853862e-01, -2.99711222e-01],\n",
       "       [-3.40287082e-01,  3.14757924e-01,  2.55291587e-02],\n",
       "       [-6.28359922e-01,  1.69734506e+00, -1.06898513e+00],\n",
       "       [-3.96201121e-01,  7.73413877e-01, -3.77212756e-01],\n",
       "       [-8.37769170e-01,  1.36407219e+00, -5.26303022e-01],\n",
       "       [-4.29257691e-01, -1.25918384e-01,  5.55176075e-01],\n",
       "       [ 3.32454596e-01,  2.45543756e-01, -5.77998352e-01],\n",
       "       [-1.12157108e+00,  1.44766980e+00, -3.26098716e-01],\n",
       "       [-2.29626392e+00, -2.71738493e-01,  2.56800241e+00],\n",
       "       [ 1.18793662e-01,  1.59975759e-01, -2.78769420e-01],\n",
       "       [-1.47775758e+00,  1.95310337e+00, -4.75345791e-01],\n",
       "       [ 1.70205886e-03,  1.93899673e-01, -1.95601732e-01],\n",
       "       [ 6.93473093e-01, -8.48699651e-01,  1.55226557e-01],\n",
       "       [-6.84088438e-01, -4.08560526e-01,  1.09264896e+00],\n",
       "       [ 9.35547700e-01, -2.44815191e-01, -6.90732509e-01],\n",
       "       [ 4.08144957e-01, -7.87169561e-01,  3.79024604e-01],\n",
       "       [ 7.81903782e-01, -1.03940862e+00,  2.57504837e-01],\n",
       "       [ 1.02484150e+00, -2.99979167e-01, -7.24862330e-01],\n",
       "       [-7.69213878e-01, -1.14752870e+00,  1.91674258e+00],\n",
       "       [-5.48430106e-01,  9.78999396e-01, -4.30569290e-01],\n",
       "       [ 6.75657746e-02, -2.48092783e-02, -4.27564963e-02],\n",
       "       [-2.25523558e+00, -5.53788105e-01,  2.80902368e+00],\n",
       "       [-7.63459381e-01,  4.53861698e-01,  3.09597683e-01],\n",
       "       [-3.63103845e-02, -4.42500062e-01,  4.78810446e-01],\n",
       "       [-7.88561295e-01,  5.01934413e-01,  2.86626882e-01],\n",
       "       [ 2.66178115e-01,  2.34209106e-01, -5.00387221e-01],\n",
       "       [ 5.58665483e-01, -4.80300948e-01, -7.83645348e-02],\n",
       "       [ 1.20081463e-01,  4.54675583e-01, -5.74757046e-01],\n",
       "       [-4.46137275e-02,  4.88321029e-01, -4.43707301e-01],\n",
       "       [ 1.58262403e-01, -3.09976112e-01,  1.51713710e-01],\n",
       "       [-1.21524236e+00,  1.34347786e+00, -1.28235492e-01],\n",
       "       [ 4.65185483e-01, -7.13146752e-01,  2.47961269e-01],\n",
       "       [-5.07471441e-01, -4.57253604e-01,  9.64725045e-01],\n",
       "       [-2.18690714e-01,  1.07560198e+00, -8.56911267e-01],\n",
       "       [-2.32066825e+00,  2.41512620e+00, -9.44579524e-02],\n",
       "       [ 8.15523568e-01, -8.34235739e-01,  1.87121715e-02],\n",
       "       [ 1.03302699e-01, -1.37426956e-01,  3.41242566e-02],\n",
       "       [ 1.37884482e-03,  2.47531260e-01, -2.48910105e-01],\n",
       "       [-4.22160641e-01,  8.98030794e-01, -4.75870153e-01],\n",
       "       [ 1.59263382e-01,  2.82372228e-01, -4.41635610e-01],\n",
       "       [ 6.31667407e-02, -6.40076549e-02,  8.40914211e-04],\n",
       "       [-4.34947863e-01,  4.68360898e-02,  3.88111773e-01],\n",
       "       [-8.33050639e-01,  1.19923702e-01,  7.13126937e-01],\n",
       "       [-5.11087849e-01,  7.35469402e-01, -2.24381553e-01],\n",
       "       [-2.83424947e-01,  2.64346935e-01,  1.90780129e-02],\n",
       "       [-2.92419661e-01,  7.69249287e-01, -4.76829626e-01],\n",
       "       [-4.43774449e-01,  6.23059223e-01, -1.79284773e-01],\n",
       "       [-1.64424966e+00,  1.46126898e+00,  1.82980672e-01],\n",
       "       [-7.90524534e-01,  1.24278815e+00, -4.52263616e-01],\n",
       "       [-1.05014126e+00,  1.81146038e+00, -7.61319123e-01],\n",
       "       [ 4.94453233e-03,  7.34211664e-01, -7.39156196e-01],\n",
       "       [ 6.15516504e-01, -1.37897592e+00,  7.63459418e-01],\n",
       "       [ 3.43550906e-01,  1.40755231e-01, -4.84306136e-01],\n",
       "       [-4.51077132e-01,  9.85334801e-01, -5.34257670e-01],\n",
       "       [ 1.52226807e-01,  5.81446805e-01, -7.33673612e-01],\n",
       "       [ 1.02491720e+00, -4.97288384e-01, -5.27628819e-01],\n",
       "       [ 1.33502566e+00, -1.79338899e+00,  4.58363329e-01],\n",
       "       [-3.37397549e-01, -7.52776465e-01,  1.09017401e+00],\n",
       "       [-9.92901735e-01,  5.56448609e-01,  4.36453127e-01],\n",
       "       [-3.86926835e-01,  6.82895211e-01, -2.95968376e-01],\n",
       "       [-4.65643150e-01,  9.88775910e-01, -5.23132760e-01],\n",
       "       [-4.01727628e-01,  5.58418357e-01, -1.56690729e-01],\n",
       "       [-6.03571202e-01,  1.05750180e+00, -4.53930603e-01],\n",
       "       [ 3.61119649e-01, -1.94872423e+00,  1.58760458e+00],\n",
       "       [-1.58854234e-03,  4.28588698e-01, -4.27000155e-01],\n",
       "       [ 6.13321889e-01, -4.84906076e-01, -1.28415812e-01],\n",
       "       [-7.59222429e-01,  8.88476139e-01, -1.29253710e-01],\n",
       "       [ 1.07536137e+00, -1.52441522e+00,  4.49053845e-01],\n",
       "       [-8.95699624e-01,  1.37748146e+00, -4.81781835e-01],\n",
       "       [-7.54131921e-01,  1.01935574e+00, -2.65223814e-01],\n",
       "       [-5.78427362e-01,  9.38354087e-01, -3.59926724e-01],\n",
       "       [-1.64793672e-01, -5.00135685e-01,  6.64929357e-01],\n",
       "       [-3.43683399e-01,  2.24645075e-01,  1.19038324e-01],\n",
       "       [ 5.88999356e-01, -7.62862323e-01,  1.73862967e-01],\n",
       "       [-3.83409697e-01, -1.28970894e+00,  1.67311864e+00],\n",
       "       [-4.43588677e-01,  9.10870846e-01, -4.67282170e-01],\n",
       "       [-5.88231906e-01,  1.05161942e+00, -4.63387511e-01],\n",
       "       [ 1.11970276e+00, -1.96708968e+00,  8.47386923e-01],\n",
       "       [-1.48026977e-01,  2.93988582e-01, -1.45961605e-01],\n",
       "       [-7.83684822e-01,  8.02746250e-01, -1.90614284e-02],\n",
       "       [ 6.53772788e-01, -5.40862449e-01, -1.12910339e-01],\n",
       "       [ 1.54909649e-01,  3.39946834e-02, -1.88904332e-01],\n",
       "       [ 9.71887609e-01, -2.60870058e-01, -7.11017551e-01]])"
      ]
     },
     "execution_count": 446,
     "metadata": {},
     "output_type": "execute_result"
    }
   ],
   "source": [
    "model.decision_function(X)"
   ]
  },
  {
   "cell_type": "code",
   "execution_count": 447,
   "metadata": {},
   "outputs": [],
   "source": [
    "labels=dataframe.columns[1:]"
   ]
  },
  {
   "cell_type": "code",
   "execution_count": 448,
   "metadata": {},
   "outputs": [
    {
     "data": {
      "text/plain": [
       "array(['contradiction', 'entailment', 'neutral'], dtype=object)"
      ]
     },
     "execution_count": 448,
     "metadata": {},
     "output_type": "execute_result"
    }
   ],
   "source": [
    "model.classes_"
   ]
  },
  {
   "cell_type": "code",
   "execution_count": 449,
   "metadata": {},
   "outputs": [],
   "source": [
    "contradiction=model.coef_[0]\n",
    "entailment=model.coef_[1]\n",
    "neutral=model.coef_[2]"
   ]
  },
  {
   "cell_type": "code",
   "execution_count": 450,
   "metadata": {},
   "outputs": [
    {
     "name": "stdout",
     "output_type": "stream",
     "text": [
      "Contradiction  27 ADV_NOUN_ 32 antonimos\n",
      "Entailment  22 ADJ_ADV_ 38 CLASS\n",
      "Neutral  30 ADV_ADV_ 37 faltan2\n"
     ]
    }
   ],
   "source": [
    "print(\"Contradiction \",np.argmax(contradiction),labels[np.argmax(contradiction)],np.argmin(contradiction),labels[np.argmin(contradiction)])\n",
    "print(\"Entailment \",np.argmax(entailment),labels[np.argmax(entailment)],np.argmin(entailment),labels[np.argmin(entailment)])\n",
    "print(\"Neutral \",np.argmax(neutral),labels[np.argmax(neutral)],np.argmin(neutral),labels[np.argmin(neutral)])"
   ]
  },
  {
   "cell_type": "code",
   "execution_count": 451,
   "metadata": {},
   "outputs": [],
   "source": [
    "n_columns=dataframe.shape[1]-1"
   ]
  },
  {
   "cell_type": "code",
   "execution_count": 452,
   "metadata": {},
   "outputs": [
    {
     "data": {
      "image/png": "[encoded data removed]",
      "text/plain": [
       "<Figure size 640x480 with 1 Axes>"
      ]
     },
     "metadata": {},
     "output_type": "display_data"
    }
   ],
   "source": [
    "import matplotlib.pyplot as plt\n",
    "import numpy as np\n",
    "\n",
    "x_v = np.arange(0,n_columns,1)\n",
    "y_v = contradiction\n",
    "\n",
    "plt.bar(x_v,y_v)\n",
    "plt.xlabel('x')\n",
    "plt.ylabel('y')\n",
    "plt.title('Contradiction')\n",
    "plt.show()"
   ]
  },
  {
   "cell_type": "code",
   "execution_count": 453,
   "metadata": {},
   "outputs": [
    {
     "data": {
      "image/png": "[encoded data removed]",
      "text/plain": [
       "<Figure size 640x480 with 1 Axes>"
      ]
     },
     "metadata": {},
     "output_type": "display_data"
    }
   ],
   "source": [
    "x_v = np.arange(0,n_columns,1)\n",
    "y_v = entailment\n",
    "\n",
    "plt.bar(x_v,y_v)\n",
    "plt.xlabel('x')\n",
    "plt.ylabel('y')\n",
    "plt.title('Entailment')\n",
    "plt.show()"
   ]
  },
  {
   "cell_type": "code",
   "execution_count": 454,
   "metadata": {},
   "outputs": [
    {
     "data": {
      "image/png": "[encoded data removed]",
      "text/plain": [
       "<Figure size 640x480 with 1 Axes>"
      ]
     },
     "metadata": {},
     "output_type": "display_data"
    }
   ],
   "source": [
    "x_v = np.arange(0,n_columns,1)\n",
    "y_v = neutral\n",
    "\n",
    "plt.bar(x_v,y_v)\n",
    "plt.xlabel('x')\n",
    "plt.ylabel('y')\n",
    "plt.title('Neutral')\n",
    "plt.show()"
   ]
  },
  {
   "cell_type": "code",
   "execution_count": 455,
   "metadata": {},
   "outputs": [
    {
     "name": "stdout",
     "output_type": "stream",
     "text": [
      "['entailment' 'neutral' 'neutral' 'entailment' 'neutral' 'neutral'\n",
      " 'entailment' 'entailment' 'neutral' 'entailment' 'entailment'\n",
      " 'contradiction' 'entailment' 'contradiction' 'neutral' 'entailment'\n",
      " 'entailment' 'entailment' 'entailment' 'entailment' 'entailment'\n",
      " 'entailment' 'neutral' 'contradiction' 'entailment' 'neutral'\n",
      " 'entailment' 'entailment' 'entailment' 'contradiction' 'neutral'\n",
      " 'contradiction' 'contradiction' 'contradiction' 'contradiction' 'neutral'\n",
      " 'entailment' 'contradiction' 'neutral' 'entailment' 'neutral'\n",
      " 'entailment' 'contradiction' 'contradiction' 'entailment' 'entailment'\n",
      " 'contradiction' 'entailment' 'contradiction' 'neutral' 'entailment'\n",
      " 'entailment' 'contradiction' 'contradiction' 'entailment' 'entailment'\n",
      " 'entailment' 'contradiction' 'neutral' 'neutral' 'entailment'\n",
      " 'entailment' 'entailment' 'entailment' 'entailment' 'entailment'\n",
      " 'entailment' 'entailment' 'neutral' 'contradiction' 'entailment'\n",
      " 'entailment' 'contradiction' 'contradiction' 'neutral' 'entailment'\n",
      " 'entailment' 'entailment' 'entailment' 'entailment' 'neutral'\n",
      " 'entailment' 'contradiction' 'entailment' 'contradiction' 'entailment'\n",
      " 'entailment' 'entailment' 'neutral' 'entailment' 'contradiction'\n",
      " 'neutral' 'entailment' 'entailment' 'contradiction' 'entailment'\n",
      " 'entailment' 'contradiction' 'contradiction' 'contradiction']\n"
     ]
    }
   ],
   "source": [
    "predictions = model.predict(X)\n",
    "print(predictions)"
   ]
  },
  {
   "cell_type": "code",
   "execution_count": 456,
   "metadata": {},
   "outputs": [
    {
     "data": {
      "text/plain": [
       "array(['entailment', 'entailment', 'contradiction', 'contradiction',\n",
       "       'neutral', 'neutral', 'neutral', 'entailment', 'neutral',\n",
       "       'entailment', 'neutral', 'contradiction', 'entailment',\n",
       "       'contradiction', 'neutral', 'neutral', 'entailment',\n",
       "       'contradiction', 'contradiction', 'entailment', 'entailment',\n",
       "       'entailment', 'neutral', 'contradiction', 'entailment', 'neutral',\n",
       "       'entailment', 'entailment', 'entailment', 'neutral', 'neutral',\n",
       "       'contradiction', 'contradiction', 'entailment', 'contradiction',\n",
       "       'neutral', 'entailment', 'neutral', 'neutral', 'entailment',\n",
       "       'neutral', 'neutral', 'contradiction', 'neutral', 'entailment',\n",
       "       'neutral', 'neutral', 'entailment', 'contradiction', 'neutral',\n",
       "       'entailment', 'entailment', 'neutral', 'entailment',\n",
       "       'contradiction', 'entailment', 'entailment', 'neutral', 'neutral',\n",
       "       'neutral', 'neutral', 'neutral', 'neutral', 'entailment',\n",
       "       'entailment', 'contradiction', 'entailment', 'entailment',\n",
       "       'neutral', 'contradiction', 'entailment', 'contradiction',\n",
       "       'contradiction', 'contradiction', 'neutral', 'entailment',\n",
       "       'entailment', 'entailment', 'entailment', 'contradiction',\n",
       "       'neutral', 'entailment', 'entailment', 'entailment',\n",
       "       'contradiction', 'entailment', 'entailment', 'entailment',\n",
       "       'contradiction', 'contradiction', 'contradiction', 'neutral',\n",
       "       'entailment', 'entailment', 'contradiction', 'entailment',\n",
       "       'entailment', 'contradiction', 'contradiction', 'contradiction'],\n",
       "      dtype=object)"
      ]
     },
     "execution_count": 456,
     "metadata": {},
     "output_type": "execute_result"
    }
   ],
   "source": [
    "y"
   ]
  },
  {
   "cell_type": "code",
   "execution_count": 457,
   "metadata": {},
   "outputs": [
    {
     "data": {
      "text/plain": [
       "array([[2.35856125, 0.32333449, 0.62231126, ..., 0.75424837, 0.27284071,\n",
       "        0.        ],\n",
       "       [4.87990382, 0.9446483 , 0.452539  , ..., 0.87767335, 0.15991646,\n",
       "        1.        ],\n",
       "       [2.30507916, 0.92826316, 0.94227566, ..., 0.85976331, 0.2563073 ,\n",
       "        1.        ],\n",
       "       ...,\n",
       "       [1.06525022, 0.        , 0.25450292, ..., 0.68111455, 0.46736127,\n",
       "        2.        ],\n",
       "       [1.316973  , 0.        , 0.        , ..., 1.        , 1.        ,\n",
       "        2.        ],\n",
       "       [2.04060631, 0.        , 0.68808261, ..., 0.86315789, 0.02713922,\n",
       "        2.        ]])"
      ]
     },
     "execution_count": 457,
     "metadata": {},
     "output_type": "execute_result"
    }
   ],
   "source": [
    "X"
   ]
  },
  {
   "cell_type": "code",
   "execution_count": 458,
   "metadata": {},
   "outputs": [
    {
     "data": {
      "text/plain": [
       "0.72"
      ]
     },
     "execution_count": 458,
     "metadata": {},
     "output_type": "execute_result"
    }
   ],
   "source": [
    "model.score(X,y)"
   ]
  },
  {
   "cell_type": "code",
   "execution_count": 459,
   "metadata": {},
   "outputs": [
    {
     "name": "stdout",
     "output_type": "stream",
     "text": [
      "[[17  8  2]\n",
      " [ 3 38  1]\n",
      " [ 6  8 17]]\n"
     ]
    }
   ],
   "source": [
    "print(confusion_matrix(y, predictions))"
   ]
  },
  {
   "cell_type": "code",
   "execution_count": 460,
   "metadata": {},
   "outputs": [
    {
     "name": "stdout",
     "output_type": "stream",
     "text": [
      "[0.64150943 0.79166667 0.66666667]\n"
     ]
    }
   ],
   "source": [
    "print(f1_score(y,predictions, average=None))"
   ]
  },
  {
   "cell_type": "code",
   "execution_count": 461,
   "metadata": {},
   "outputs": [],
   "source": [
    "validation_size = 0.20\n",
    "seed = 7\n",
    "X_train, X_validation, Y_train, Y_validation = model_selection.train_test_split(X, y, test_size=validation_size)"
   ]
  },
  {
   "cell_type": "code",
   "execution_count": 462,
   "metadata": {},
   "outputs": [
    {
     "name": "stdout",
     "output_type": "stream",
     "text": [
      "Logistic Regression: 0.475000 (0.261008)\n"
     ]
    }
   ],
   "source": [
    "name='Logistic Regression'\n",
    "kfold = model_selection.KFold(n_splits=20)\n",
    "cv_results = model_selection.cross_val_score(model, X_train, Y_train, cv=kfold, scoring='accuracy')\n",
    "msg = \"%s: %f (%f)\" % (name, cv_results.mean(), cv_results.std())\n",
    "print(msg)"
   ]
  },
  {
   "cell_type": "code",
   "execution_count": 463,
   "metadata": {},
   "outputs": [
    {
     "name": "stdout",
     "output_type": "stream",
     "text": [
      "0.65\n"
     ]
    }
   ],
   "source": [
    "predictions = model.predict(X_validation)\n",
    "print(accuracy_score(Y_validation, predictions))"
   ]
  },
  {
   "cell_type": "code",
   "execution_count": 464,
   "metadata": {},
   "outputs": [
    {
     "name": "stdout",
     "output_type": "stream",
     "text": [
      "[[3 1 0]\n",
      " [2 7 0]\n",
      " [2 2 3]]\n"
     ]
    }
   ],
   "source": [
    "print(confusion_matrix(Y_validation, predictions))"
   ]
  },
  {
   "cell_type": "code",
   "execution_count": 465,
   "metadata": {},
   "outputs": [
    {
     "name": "stdout",
     "output_type": "stream",
     "text": [
      "               precision    recall  f1-score   support\n",
      "\n",
      "contradiction       0.43      0.75      0.55         4\n",
      "   entailment       0.70      0.78      0.74         9\n",
      "      neutral       1.00      0.43      0.60         7\n",
      "\n",
      "     accuracy                           0.65        20\n",
      "    macro avg       0.71      0.65      0.63        20\n",
      " weighted avg       0.75      0.65      0.65        20\n",
      "\n"
     ]
    }
   ],
   "source": [
    "print(classification_report(Y_validation, predictions))"
   ]
  },
  {
   "cell_type": "code",
   "execution_count": 466,
   "metadata": {},
   "outputs": [],
   "source": [
    "#X_new = pd.DataFrame()\n",
    "#model.predict(X_new)"
   ]
  }
 ],
 "metadata": {
  "kernelspec": {
   "display_name": "Python 3",
   "language": "python",
   "name": "python3"
  },
  "language_info": {
   "codemirror_mode": {
    "name": "ipython",
    "version": 3
   },
   "file_extension": ".py",
   "mimetype": "text/x-python",
   "name": "python",
   "nbconvert_exporter": "python",
   "pygments_lexer": "ipython3",
   "version": "3.9.13"
  }
 },
 "nbformat": 4,
 "nbformat_minor": 2
}
