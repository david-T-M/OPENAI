{
 "cells": [
  {
   "cell_type": "code",
   "execution_count": 54,
   "metadata": {},
   "outputs": [],
   "source": [
    "import pandas as pd\n",
    "import numpy as np\n",
    "from sklearn import linear_model\n",
    "from sklearn import model_selection\n",
    "from sklearn.metrics import classification_report\n",
    "from sklearn.metrics import confusion_matrix\n",
    "from sklearn.metrics import f1_score\n",
    "from sklearn.metrics import accuracy_score\n",
    "import matplotlib.pyplot as plt\n",
    "import seaborn as sb"
   ]
  },
  {
   "cell_type": "code",
   "execution_count": 55,
   "metadata": {},
   "outputs": [
    {
     "data": {
      "text/html": [
       "<div>\n",
       "<style scoped>\n",
       "    .dataframe tbody tr th:only-of-type {\n",
       "        vertical-align: middle;\n",
       "    }\n",
       "\n",
       "    .dataframe tbody tr th {\n",
       "        vertical-align: top;\n",
       "    }\n",
       "\n",
       "    .dataframe thead th {\n",
       "        text-align: right;\n",
       "    }\n",
       "</style>\n",
       "<table border=\"1\" class=\"dataframe\">\n",
       "  <thead>\n",
       "    <tr style=\"text-align: right;\">\n",
       "      <th></th>\n",
       "      <th>suma</th>\n",
       "      <th>distancias</th>\n",
       "      <th>mutual_info</th>\n",
       "      <th>m_earth</th>\n",
       "      <th>max_info_p</th>\n",
       "      <th>antonimos</th>\n",
       "      <th>CLASS</th>\n",
       "    </tr>\n",
       "  </thead>\n",
       "  <tbody>\n",
       "    <tr>\n",
       "      <th>0</th>\n",
       "      <td>0.307372</td>\n",
       "      <td>39.145675</td>\n",
       "      <td>4.622286</td>\n",
       "      <td>0.037466</td>\n",
       "      <td>0.321673</td>\n",
       "      <td>0</td>\n",
       "      <td>entailment</td>\n",
       "    </tr>\n",
       "    <tr>\n",
       "      <th>1</th>\n",
       "      <td>0.164411</td>\n",
       "      <td>13.863624</td>\n",
       "      <td>0.984762</td>\n",
       "      <td>0.007264</td>\n",
       "      <td>0.423473</td>\n",
       "      <td>0</td>\n",
       "      <td>entailment</td>\n",
       "    </tr>\n",
       "    <tr>\n",
       "      <th>2</th>\n",
       "      <td>0.145214</td>\n",
       "      <td>21.441420</td>\n",
       "      <td>2.797228</td>\n",
       "      <td>0.027092</td>\n",
       "      <td>0.374040</td>\n",
       "      <td>0</td>\n",
       "      <td>contradiction</td>\n",
       "    </tr>\n",
       "    <tr>\n",
       "      <th>3</th>\n",
       "      <td>0.184051</td>\n",
       "      <td>5.690770</td>\n",
       "      <td>0.727185</td>\n",
       "      <td>0.010730</td>\n",
       "      <td>0.428242</td>\n",
       "      <td>0</td>\n",
       "      <td>contradiction</td>\n",
       "    </tr>\n",
       "    <tr>\n",
       "      <th>4</th>\n",
       "      <td>0.217909</td>\n",
       "      <td>12.320529</td>\n",
       "      <td>1.731026</td>\n",
       "      <td>0.016840</td>\n",
       "      <td>0.429542</td>\n",
       "      <td>0</td>\n",
       "      <td>neutral</td>\n",
       "    </tr>\n",
       "    <tr>\n",
       "      <th>...</th>\n",
       "      <td>...</td>\n",
       "      <td>...</td>\n",
       "      <td>...</td>\n",
       "      <td>...</td>\n",
       "      <td>...</td>\n",
       "      <td>...</td>\n",
       "      <td>...</td>\n",
       "    </tr>\n",
       "    <tr>\n",
       "      <th>95</th>\n",
       "      <td>0.331404</td>\n",
       "      <td>29.301110</td>\n",
       "      <td>3.374739</td>\n",
       "      <td>0.025939</td>\n",
       "      <td>0.474207</td>\n",
       "      <td>0</td>\n",
       "      <td>entailment</td>\n",
       "    </tr>\n",
       "    <tr>\n",
       "      <th>96</th>\n",
       "      <td>0.000000</td>\n",
       "      <td>4.414777</td>\n",
       "      <td>0.000000</td>\n",
       "      <td>0.000000</td>\n",
       "      <td>NaN</td>\n",
       "      <td>0</td>\n",
       "      <td>entailment</td>\n",
       "    </tr>\n",
       "    <tr>\n",
       "      <th>97</th>\n",
       "      <td>0.473885</td>\n",
       "      <td>20.708522</td>\n",
       "      <td>3.062808</td>\n",
       "      <td>0.027729</td>\n",
       "      <td>0.335611</td>\n",
       "      <td>0</td>\n",
       "      <td>contradiction</td>\n",
       "    </tr>\n",
       "    <tr>\n",
       "      <th>98</th>\n",
       "      <td>0.197156</td>\n",
       "      <td>14.175783</td>\n",
       "      <td>1.198357</td>\n",
       "      <td>0.005702</td>\n",
       "      <td>0.197156</td>\n",
       "      <td>0</td>\n",
       "      <td>contradiction</td>\n",
       "    </tr>\n",
       "    <tr>\n",
       "      <th>99</th>\n",
       "      <td>-0.021818</td>\n",
       "      <td>14.398052</td>\n",
       "      <td>2.541432</td>\n",
       "      <td>0.026494</td>\n",
       "      <td>0.276526</td>\n",
       "      <td>0</td>\n",
       "      <td>contradiction</td>\n",
       "    </tr>\n",
       "  </tbody>\n",
       "</table>\n",
       "<p>100 rows × 7 columns</p>\n",
       "</div>"
      ],
      "text/plain": [
       "        suma  distancias  mutual_info   m_earth  max_info_p  antonimos  \\\n",
       "0   0.307372   39.145675     4.622286  0.037466    0.321673          0   \n",
       "1   0.164411   13.863624     0.984762  0.007264    0.423473          0   \n",
       "2   0.145214   21.441420     2.797228  0.027092    0.374040          0   \n",
       "3   0.184051    5.690770     0.727185  0.010730    0.428242          0   \n",
       "4   0.217909   12.320529     1.731026  0.016840    0.429542          0   \n",
       "..       ...         ...          ...       ...         ...        ...   \n",
       "95  0.331404   29.301110     3.374739  0.025939    0.474207          0   \n",
       "96  0.000000    4.414777     0.000000  0.000000         NaN          0   \n",
       "97  0.473885   20.708522     3.062808  0.027729    0.335611          0   \n",
       "98  0.197156   14.175783     1.198357  0.005702    0.197156          0   \n",
       "99 -0.021818   14.398052     2.541432  0.026494    0.276526          0   \n",
       "\n",
       "            CLASS  \n",
       "0      entailment  \n",
       "1      entailment  \n",
       "2   contradiction  \n",
       "3   contradiction  \n",
       "4         neutral  \n",
       "..            ...  \n",
       "95     entailment  \n",
       "96     entailment  \n",
       "97  contradiction  \n",
       "98  contradiction  \n",
       "99  contradiction  \n",
       "\n",
       "[100 rows x 7 columns]"
      ]
     },
     "execution_count": 55,
     "metadata": {},
     "output_type": "execute_result"
    }
   ],
   "source": [
    "dataframe = pd.read_csv(r\"salida/prueba_medidas5.csv\")\n",
    "dataframe"
   ]
  },
  {
   "cell_type": "code",
   "execution_count": 56,
   "metadata": {},
   "outputs": [],
   "source": [
    "#dataframe.corr()"
   ]
  },
  {
   "cell_type": "code",
   "execution_count": 57,
   "metadata": {},
   "outputs": [
    {
     "data": {
      "text/html": [
       "<div>\n",
       "<style scoped>\n",
       "    .dataframe tbody tr th:only-of-type {\n",
       "        vertical-align: middle;\n",
       "    }\n",
       "\n",
       "    .dataframe tbody tr th {\n",
       "        vertical-align: top;\n",
       "    }\n",
       "\n",
       "    .dataframe thead th {\n",
       "        text-align: right;\n",
       "    }\n",
       "</style>\n",
       "<table border=\"1\" class=\"dataframe\">\n",
       "  <thead>\n",
       "    <tr style=\"text-align: right;\">\n",
       "      <th></th>\n",
       "      <th>suma</th>\n",
       "      <th>distancias</th>\n",
       "      <th>mutual_info</th>\n",
       "      <th>m_earth</th>\n",
       "      <th>max_info_p</th>\n",
       "      <th>antonimos</th>\n",
       "    </tr>\n",
       "  </thead>\n",
       "  <tbody>\n",
       "    <tr>\n",
       "      <th>count</th>\n",
       "      <td>100.000000</td>\n",
       "      <td>100.000000</td>\n",
       "      <td>100.000000</td>\n",
       "      <td>100.000000</td>\n",
       "      <td>78.000000</td>\n",
       "      <td>100.000000</td>\n",
       "    </tr>\n",
       "    <tr>\n",
       "      <th>mean</th>\n",
       "      <td>0.282839</td>\n",
       "      <td>15.471114</td>\n",
       "      <td>1.781882</td>\n",
       "      <td>0.017318</td>\n",
       "      <td>0.411387</td>\n",
       "      <td>0.090000</td>\n",
       "    </tr>\n",
       "    <tr>\n",
       "      <th>std</th>\n",
       "      <td>0.292599</td>\n",
       "      <td>10.387233</td>\n",
       "      <td>1.538257</td>\n",
       "      <td>0.015254</td>\n",
       "      <td>0.102573</td>\n",
       "      <td>0.287623</td>\n",
       "    </tr>\n",
       "    <tr>\n",
       "      <th>min</th>\n",
       "      <td>-0.021818</td>\n",
       "      <td>0.000000</td>\n",
       "      <td>0.000000</td>\n",
       "      <td>0.000000</td>\n",
       "      <td>0.177694</td>\n",
       "      <td>0.000000</td>\n",
       "    </tr>\n",
       "    <tr>\n",
       "      <th>25%</th>\n",
       "      <td>0.059380</td>\n",
       "      <td>6.147334</td>\n",
       "      <td>0.700058</td>\n",
       "      <td>0.005649</td>\n",
       "      <td>0.336424</td>\n",
       "      <td>0.000000</td>\n",
       "    </tr>\n",
       "    <tr>\n",
       "      <th>50%</th>\n",
       "      <td>0.213441</td>\n",
       "      <td>14.049280</td>\n",
       "      <td>1.393251</td>\n",
       "      <td>0.014229</td>\n",
       "      <td>0.427098</td>\n",
       "      <td>0.000000</td>\n",
       "    </tr>\n",
       "    <tr>\n",
       "      <th>75%</th>\n",
       "      <td>0.392348</td>\n",
       "      <td>23.153561</td>\n",
       "      <td>2.650642</td>\n",
       "      <td>0.026431</td>\n",
       "      <td>0.472342</td>\n",
       "      <td>0.000000</td>\n",
       "    </tr>\n",
       "    <tr>\n",
       "      <th>max</th>\n",
       "      <td>1.481318</td>\n",
       "      <td>45.452782</td>\n",
       "      <td>5.985706</td>\n",
       "      <td>0.062735</td>\n",
       "      <td>0.683210</td>\n",
       "      <td>1.000000</td>\n",
       "    </tr>\n",
       "  </tbody>\n",
       "</table>\n",
       "</div>"
      ],
      "text/plain": [
       "             suma  distancias  mutual_info     m_earth  max_info_p   antonimos\n",
       "count  100.000000  100.000000   100.000000  100.000000   78.000000  100.000000\n",
       "mean     0.282839   15.471114     1.781882    0.017318    0.411387    0.090000\n",
       "std      0.292599   10.387233     1.538257    0.015254    0.102573    0.287623\n",
       "min     -0.021818    0.000000     0.000000    0.000000    0.177694    0.000000\n",
       "25%      0.059380    6.147334     0.700058    0.005649    0.336424    0.000000\n",
       "50%      0.213441   14.049280     1.393251    0.014229    0.427098    0.000000\n",
       "75%      0.392348   23.153561     2.650642    0.026431    0.472342    0.000000\n",
       "max      1.481318   45.452782     5.985706    0.062735    0.683210    1.000000"
      ]
     },
     "execution_count": 57,
     "metadata": {},
     "output_type": "execute_result"
    }
   ],
   "source": [
    "dataframe.describe()"
   ]
  },
  {
   "cell_type": "code",
   "execution_count": 58,
   "metadata": {},
   "outputs": [
    {
     "name": "stdout",
     "output_type": "stream",
     "text": [
      "CLASS\n",
      "contradiction    27\n",
      "entailment       42\n",
      "neutral          31\n",
      "dtype: int64\n"
     ]
    }
   ],
   "source": [
    "print(dataframe.groupby('CLASS').size())"
   ]
  },
  {
   "cell_type": "code",
   "execution_count": 59,
   "metadata": {},
   "outputs": [
    {
     "data": {
      "image/png": "[encoded data removed]",
      "text/plain": [
       "<Figure size 2000x1000 with 6 Axes>"
      ]
     },
     "metadata": {},
     "output_type": "display_data"
    }
   ],
   "source": [
    "dataframe.hist(figsize=(20,10))\n",
    "plt.show()"
   ]
  },
  {
   "cell_type": "code",
   "execution_count": 60,
   "metadata": {},
   "outputs": [],
   "source": [
    "labels=['NOUN_NOUN',\n",
    " 'NOUN_ADJ',\n",
    " 'NOUN_VERB',\n",
    " 'NOUN_ADV',\n",
    " 'ADJ_NOUN',\n",
    " 'ADJ_ADJ',\n",
    " 'ADJ_VERB',\n",
    " 'ADJ_ADV',\n",
    " 'VERB_NOUN',\n",
    " 'VERB_ADJ',\n",
    " 'VERB_VERB',\n",
    " 'VERB_ADV',\n",
    " 'ADV_NOUN',\n",
    " 'ADV_ADJ',\n",
    " 'ADV_VERB',\n",
    " 'ADV_ADV']"
   ]
  },
  {
   "cell_type": "code",
   "execution_count": 61,
   "metadata": {},
   "outputs": [],
   "source": [
    "#sb.pairplot(dataframe.dropna(), hue='CLASS',size=4,vars=labels,kind='reg')"
   ]
  },
  {
   "cell_type": "code",
   "execution_count": 62,
   "metadata": {},
   "outputs": [
    {
     "data": {
      "text/plain": [
       "(100, 6)"
      ]
     },
     "execution_count": 62,
     "metadata": {},
     "output_type": "execute_result"
    }
   ],
   "source": [
    "X = np.array(dataframe.drop(['CLASS'],1))\n",
    "X_test = np.array(dataframe.drop(['CLASS'],1))\n",
    "y = np.array(dataframe['CLASS'])\n",
    "y_test =np.array(dataframe['CLASS'])\n",
    "X.shape"
   ]
  },
  {
   "cell_type": "code",
   "execution_count": 63,
   "metadata": {},
   "outputs": [],
   "source": [
    "X = np.nan_to_num(X)\n",
    "X_test = np.nan_to_num(X_test)"
   ]
  },
  {
   "cell_type": "code",
   "execution_count": 64,
   "metadata": {},
   "outputs": [
    {
     "data": {
      "text/plain": [
       "LogisticRegression(C=0.1)"
      ]
     },
     "execution_count": 64,
     "metadata": {},
     "output_type": "execute_result"
    }
   ],
   "source": [
    "model = linear_model.LogisticRegression(penalty=\"l2\", C=0.1)\n",
    "model.fit(X,y)"
   ]
  },
  {
   "cell_type": "code",
   "execution_count": 65,
   "metadata": {},
   "outputs": [
    {
     "data": {
      "text/plain": [
       "{'C': 0.1,\n",
       " 'class_weight': None,\n",
       " 'dual': False,\n",
       " 'fit_intercept': True,\n",
       " 'intercept_scaling': 1,\n",
       " 'l1_ratio': None,\n",
       " 'max_iter': 100,\n",
       " 'multi_class': 'auto',\n",
       " 'n_jobs': None,\n",
       " 'penalty': 'l2',\n",
       " 'random_state': None,\n",
       " 'solver': 'lbfgs',\n",
       " 'tol': 0.0001,\n",
       " 'verbose': 0,\n",
       " 'warm_start': False}"
      ]
     },
     "execution_count": 65,
     "metadata": {},
     "output_type": "execute_result"
    }
   ],
   "source": [
    "model.get_params()"
   ]
  },
  {
   "cell_type": "code",
   "execution_count": 66,
   "metadata": {},
   "outputs": [
    {
     "data": {
      "text/plain": [
       "array([[ 8.45054937e-01, -1.74399138e+00,  8.98936444e-01],\n",
       "       [-3.17524884e-01,  3.77647986e-01, -6.01231017e-02],\n",
       "       [ 1.37810048e-01, -3.76489824e-01,  2.38679777e-01],\n",
       "       [-5.73085251e-01,  9.14649845e-01, -3.41564594e-01],\n",
       "       [-2.61884040e-01,  3.49197875e-01, -8.73138348e-02],\n",
       "       [-8.09165546e-02,  1.10485872e-01, -2.95693172e-02],\n",
       "       [-3.50181814e-01,  4.61153850e-01, -1.10972036e-01],\n",
       "       [-4.70128871e-01,  7.74589580e-01, -3.04460709e-01],\n",
       "       [-1.06319866e-01, -1.53492931e-01,  2.59812797e-01],\n",
       "       [-6.86626115e-01,  1.15431864e+00, -4.67692520e-01],\n",
       "       [-5.32573041e-01,  8.80636105e-01, -3.48063064e-01],\n",
       "       [ 2.83256099e-01, -6.72669898e-01,  3.89413799e-01],\n",
       "       [-3.35894300e-01,  8.77754412e-01, -5.41860112e-01],\n",
       "       [ 2.39436132e-01, -5.77877793e-01,  3.38441661e-01],\n",
       "       [ 1.98857983e-01, -5.91277084e-01,  3.92419100e-01],\n",
       "       [-5.53671249e-01,  8.76241555e-01, -3.22570305e-01],\n",
       "       [-6.38102765e-01,  1.04406529e+00, -4.05962524e-01],\n",
       "       [-2.67489042e-02, -1.56585550e-01,  1.83334454e-01],\n",
       "       [-2.65295950e-01,  7.17342890e-01, -4.52046940e-01],\n",
       "       [-6.38944319e-01,  1.04597744e+00, -4.07033124e-01],\n",
       "       [-6.35526689e-01,  9.85044825e-01, -3.49518136e-01],\n",
       "       [-7.90355173e-01,  1.39000879e+00, -5.99653616e-01],\n",
       "       [-1.21481302e-01,  1.52094520e-01, -3.06132177e-02],\n",
       "       [-3.94418410e-01,  5.00082014e-01, -1.05663604e-01],\n",
       "       [-7.90355173e-01,  1.39000879e+00, -5.99653616e-01],\n",
       "       [-9.88905920e-02,  3.63785232e-01, -2.64894640e-01],\n",
       "       [-4.22437085e-01,  5.54035995e-01, -1.31598910e-01],\n",
       "       [-5.94590907e-01,  9.48370475e-01, -3.53779567e-01],\n",
       "       [ 2.49022474e-01, -4.27207243e-01,  1.78184769e-01],\n",
       "       [-8.50072705e-02,  6.80630488e-02,  1.69442217e-02],\n",
       "       [-8.14464404e-02, -3.19706410e-01,  4.01152850e-01],\n",
       "       [-1.56826461e-01,  4.56530704e-01, -2.99704243e-01],\n",
       "       [ 3.07338622e-01, -7.22898373e-01,  4.15559751e-01],\n",
       "       [-3.80828447e-01,  4.02207545e-01, -2.13790976e-02],\n",
       "       [ 2.61145140e-01, -6.35885109e-01,  3.74739969e-01],\n",
       "       [ 1.00359152e+00, -2.26515428e+00,  1.26156276e+00],\n",
       "       [-7.90355173e-01,  1.39000879e+00, -5.99653616e-01],\n",
       "       [ 1.60922525e-01, -5.86258736e-01,  4.25336211e-01],\n",
       "       [-3.12872827e-01,  4.29348485e-01, -1.16475657e-01],\n",
       "       [-3.41655458e-01,  3.76948847e-01, -3.52933895e-02],\n",
       "       [-1.56491368e-01,  2.21892901e-01, -6.54015337e-02],\n",
       "       [-2.88463016e-01,  1.82497228e-01,  1.05965787e-01],\n",
       "       [-2.00816054e-01,  2.36497716e-01, -3.56816619e-02],\n",
       "       [ 3.75609797e-01, -8.25485352e-01,  4.49875555e-01],\n",
       "       [ 1.25306492e-01, -3.71459274e-01,  2.46152781e-01],\n",
       "       [-1.14844789e-01,  3.40105025e-02,  8.08342864e-02],\n",
       "       [ 5.36992836e-01, -1.04431846e+00,  5.07325623e-01],\n",
       "       [-7.90355173e-01,  1.39000879e+00, -5.99653616e-01],\n",
       "       [ 2.39627005e-02,  1.09042065e-01, -1.33004766e-01],\n",
       "       [ 4.61696209e-01, -1.18343940e+00,  7.21743188e-01],\n",
       "       [-6.40884409e-01,  1.05038566e+00, -4.09501251e-01],\n",
       "       [-7.56206039e-02,  6.54541202e-03,  6.90751919e-02],\n",
       "       [ 4.86569014e-01, -1.10933850e+00,  6.22769484e-01],\n",
       "       [-3.06965680e-01,  3.86811452e-01, -7.98457723e-02],\n",
       "       [ 4.29322545e-02, -2.35641943e-01,  1.92709689e-01],\n",
       "       [-7.90355173e-01,  1.39000879e+00, -5.99653616e-01],\n",
       "       [-5.84558722e-01,  8.92757339e-01, -3.08198617e-01],\n",
       "       [ 1.20113079e-03, -2.40339300e-01,  2.39138169e-01],\n",
       "       [-9.35453354e-02,  9.11261563e-02,  2.41917908e-03],\n",
       "       [ 2.72561605e-01, -7.01786131e-01,  4.29224526e-01],\n",
       "       [-4.02110428e-01,  5.70806902e-01, -1.68696474e-01],\n",
       "       [-5.45279831e-01,  8.58064405e-01, -3.12784574e-01],\n",
       "       [-7.89553742e-02,  1.02518788e-01, -2.35634136e-02],\n",
       "       [-5.46596051e-01,  8.69065119e-01, -3.22469068e-01],\n",
       "       [ 5.91396200e-01, -1.22708430e+00,  6.35688104e-01],\n",
       "       [-2.46216143e-01,  1.76206803e-01,  7.00093405e-02],\n",
       "       [-7.10223961e-01,  1.20793698e+00, -4.97713016e-01],\n",
       "       [-3.95218433e-01,  5.25610015e-01, -1.30391582e-01],\n",
       "       [-4.34695944e-02, -8.51173884e-02,  1.28586983e-01],\n",
       "       [-3.99186768e-01,  5.43501349e-01, -1.44314580e-01],\n",
       "       [-6.78085705e-01,  1.13491336e+00, -4.56827659e-01],\n",
       "       [-2.54040145e-02, -7.96061664e-02,  1.05010181e-01],\n",
       "       [ 7.27258140e-01, -1.44922986e+00,  7.21971718e-01],\n",
       "       [ 9.15703530e-01, -1.92196421e+00,  1.00626068e+00],\n",
       "       [ 1.35083437e-01, -3.84533732e-01,  2.49450295e-01],\n",
       "       [-1.21803831e-01, -2.47015664e-02,  1.46505398e-01],\n",
       "       [-5.63051692e-01,  8.89064509e-01, -3.26012817e-01],\n",
       "       [-6.48835064e-01,  1.06845091e+00, -4.19615844e-01],\n",
       "       [-3.94871182e-01,  5.66159378e-01, -1.71288197e-01],\n",
       "       [-6.83989898e-01,  1.14832870e+00, -4.64338802e-01],\n",
       "       [ 5.21860428e-01, -1.12114767e+00,  5.99287242e-01],\n",
       "       [-4.36908582e-01,  5.91492025e-01, -1.54583443e-01],\n",
       "       [-4.24988656e-02, -1.16028193e-01,  1.58527059e-01],\n",
       "       [-6.48835064e-01,  1.06845091e+00, -4.19615844e-01],\n",
       "       [ 7.40898793e-01, -1.21917064e+00,  4.78271843e-01],\n",
       "       [-7.90355173e-01,  1.39000879e+00, -5.99653616e-01],\n",
       "       [-7.90355173e-01,  1.39000879e+00, -5.99653616e-01],\n",
       "       [-2.21249863e-01,  2.78467624e-01, -5.72177610e-02],\n",
       "       [ 9.86746233e-01, -1.54091707e+00,  5.54170837e-01],\n",
       "       [-2.39319562e-01,  6.58320096e-01, -4.19000534e-01],\n",
       "       [ 3.07673169e-01, -7.18482943e-01,  4.10809773e-01],\n",
       "       [ 1.51837255e-01, -6.50808877e-01,  4.98971622e-01],\n",
       "       [-7.90355173e-01,  1.39000879e+00, -5.99653616e-01],\n",
       "       [-7.83630578e-02, -7.87835398e-02,  1.57146598e-01],\n",
       "       [ 1.00288578e+00, -1.97936024e+00,  9.76474457e-01],\n",
       "       [ 4.03121990e-01, -9.48303872e-01,  5.45181882e-01],\n",
       "       [-6.72721118e-01,  1.12272411e+00, -4.50002987e-01],\n",
       "       [ 1.20350009e-01, -3.71344289e-01,  2.50994280e-01],\n",
       "       [-2.75701173e-01,  3.31206605e-01, -5.55054325e-02],\n",
       "       [-6.36056593e-02,  9.33339329e-02, -2.97282735e-02]])"
      ]
     },
     "execution_count": 66,
     "metadata": {},
     "output_type": "execute_result"
    }
   ],
   "source": [
    "model.decision_function(X)"
   ]
  },
  {
   "cell_type": "code",
   "execution_count": 67,
   "metadata": {},
   "outputs": [],
   "source": [
    "labels=dataframe.columns[1:]"
   ]
  },
  {
   "cell_type": "code",
   "execution_count": 68,
   "metadata": {},
   "outputs": [
    {
     "data": {
      "text/plain": [
       "array(['contradiction', 'entailment', 'neutral'], dtype=object)"
      ]
     },
     "execution_count": 68,
     "metadata": {},
     "output_type": "execute_result"
    }
   ],
   "source": [
    "model.classes_"
   ]
  },
  {
   "cell_type": "code",
   "execution_count": 69,
   "metadata": {},
   "outputs": [],
   "source": [
    "contradiction=model.coef_[0]\n",
    "entailment=model.coef_[1]\n",
    "neutral=model.coef_[2]"
   ]
  },
  {
   "cell_type": "code",
   "execution_count": 70,
   "metadata": {},
   "outputs": [
    {
     "name": "stdout",
     "output_type": "stream",
     "text": [
      "Contradiction  5 CLASS 0 distancias\n",
      "Entailment  0 distancias 2 m_earth\n",
      "Neutral  0 distancias 5 CLASS\n"
     ]
    }
   ],
   "source": [
    "print(\"Contradiction \",np.argmax(contradiction),labels[np.argmax(contradiction)],np.argmin(contradiction),labels[np.argmin(contradiction)])\n",
    "print(\"Entailment \",np.argmax(entailment),labels[np.argmax(entailment)],np.argmin(entailment),labels[np.argmin(entailment)])\n",
    "print(\"Neutral \",np.argmax(neutral),labels[np.argmax(neutral)],np.argmin(neutral),labels[np.argmin(neutral)])"
   ]
  },
  {
   "cell_type": "code",
   "execution_count": 71,
   "metadata": {},
   "outputs": [],
   "source": [
    "n_columns=dataframe.shape[1]-1"
   ]
  },
  {
   "cell_type": "code",
   "execution_count": 72,
   "metadata": {},
   "outputs": [
    {
     "data": {
      "image/png": "[encoded data removed]",
      "text/plain": [
       "<Figure size 640x480 with 1 Axes>"
      ]
     },
     "metadata": {},
     "output_type": "display_data"
    }
   ],
   "source": [
    "import matplotlib.pyplot as plt\n",
    "import numpy as np\n",
    "\n",
    "x_v = np.arange(0,n_columns,1)\n",
    "y_v = contradiction\n",
    "\n",
    "plt.bar(x_v,y_v)\n",
    "plt.xlabel('x')\n",
    "plt.ylabel('y')\n",
    "plt.title('Contradiction')\n",
    "plt.show()"
   ]
  },
  {
   "cell_type": "code",
   "execution_count": 73,
   "metadata": {},
   "outputs": [
    {
     "data": {
      "image/png": "[encoded data removed]",
      "text/plain": [
       "<Figure size 640x480 with 1 Axes>"
      ]
     },
     "metadata": {},
     "output_type": "display_data"
    }
   ],
   "source": [
    "x_v = np.arange(0,n_columns,1)\n",
    "y_v = entailment\n",
    "\n",
    "plt.bar(x_v,y_v)\n",
    "plt.xlabel('x')\n",
    "plt.ylabel('y')\n",
    "plt.title('Entailment')\n",
    "plt.show()"
   ]
  },
  {
   "cell_type": "code",
   "execution_count": 74,
   "metadata": {},
   "outputs": [
    {
     "data": {
      "image/png": "[encoded data removed]",
      "text/plain": [
       "<Figure size 640x480 with 1 Axes>"
      ]
     },
     "metadata": {},
     "output_type": "display_data"
    }
   ],
   "source": [
    "x_v = np.arange(0,n_columns,1)\n",
    "y_v = neutral\n",
    "\n",
    "plt.bar(x_v,y_v)\n",
    "plt.xlabel('x')\n",
    "plt.ylabel('y')\n",
    "plt.title('Neutral')\n",
    "plt.show()"
   ]
  },
  {
   "cell_type": "code",
   "execution_count": 75,
   "metadata": {},
   "outputs": [
    {
     "name": "stdout",
     "output_type": "stream",
     "text": [
      "['neutral' 'entailment' 'neutral' 'entailment' 'entailment' 'entailment'\n",
      " 'entailment' 'entailment' 'neutral' 'entailment' 'entailment' 'neutral'\n",
      " 'entailment' 'neutral' 'neutral' 'entailment' 'entailment' 'neutral'\n",
      " 'entailment' 'entailment' 'entailment' 'entailment' 'entailment'\n",
      " 'entailment' 'entailment' 'entailment' 'entailment' 'entailment'\n",
      " 'contradiction' 'entailment' 'neutral' 'entailment' 'neutral'\n",
      " 'entailment' 'neutral' 'neutral' 'entailment' 'neutral' 'entailment'\n",
      " 'entailment' 'entailment' 'entailment' 'entailment' 'neutral' 'neutral'\n",
      " 'neutral' 'contradiction' 'entailment' 'entailment' 'neutral'\n",
      " 'entailment' 'neutral' 'neutral' 'entailment' 'neutral' 'entailment'\n",
      " 'entailment' 'neutral' 'entailment' 'neutral' 'entailment' 'entailment'\n",
      " 'entailment' 'entailment' 'neutral' 'entailment' 'entailment'\n",
      " 'entailment' 'neutral' 'entailment' 'entailment' 'neutral'\n",
      " 'contradiction' 'neutral' 'neutral' 'neutral' 'entailment' 'entailment'\n",
      " 'entailment' 'entailment' 'neutral' 'entailment' 'neutral' 'entailment'\n",
      " 'contradiction' 'entailment' 'entailment' 'entailment' 'contradiction'\n",
      " 'entailment' 'neutral' 'neutral' 'entailment' 'neutral' 'contradiction'\n",
      " 'neutral' 'entailment' 'neutral' 'entailment' 'entailment']\n"
     ]
    }
   ],
   "source": [
    "predictions = model.predict(X)\n",
    "print(predictions)"
   ]
  },
  {
   "cell_type": "code",
   "execution_count": 76,
   "metadata": {},
   "outputs": [
    {
     "data": {
      "text/plain": [
       "array(['entailment', 'entailment', 'contradiction', 'contradiction',\n",
       "       'neutral', 'neutral', 'neutral', 'entailment', 'neutral',\n",
       "       'entailment', 'neutral', 'contradiction', 'entailment',\n",
       "       'contradiction', 'neutral', 'neutral', 'entailment',\n",
       "       'contradiction', 'contradiction', 'entailment', 'entailment',\n",
       "       'entailment', 'neutral', 'contradiction', 'entailment', 'neutral',\n",
       "       'entailment', 'entailment', 'entailment', 'neutral', 'neutral',\n",
       "       'contradiction', 'contradiction', 'entailment', 'contradiction',\n",
       "       'neutral', 'entailment', 'neutral', 'neutral', 'entailment',\n",
       "       'neutral', 'neutral', 'contradiction', 'neutral', 'entailment',\n",
       "       'neutral', 'neutral', 'entailment', 'contradiction', 'neutral',\n",
       "       'entailment', 'entailment', 'neutral', 'entailment',\n",
       "       'contradiction', 'entailment', 'entailment', 'neutral', 'neutral',\n",
       "       'neutral', 'neutral', 'neutral', 'neutral', 'entailment',\n",
       "       'entailment', 'contradiction', 'entailment', 'entailment',\n",
       "       'neutral', 'contradiction', 'entailment', 'contradiction',\n",
       "       'contradiction', 'contradiction', 'neutral', 'entailment',\n",
       "       'entailment', 'entailment', 'entailment', 'contradiction',\n",
       "       'neutral', 'entailment', 'entailment', 'entailment',\n",
       "       'contradiction', 'entailment', 'entailment', 'entailment',\n",
       "       'contradiction', 'contradiction', 'contradiction', 'neutral',\n",
       "       'entailment', 'entailment', 'contradiction', 'entailment',\n",
       "       'entailment', 'contradiction', 'contradiction', 'contradiction'],\n",
       "      dtype=object)"
      ]
     },
     "execution_count": 76,
     "metadata": {},
     "output_type": "execute_result"
    }
   ],
   "source": [
    "y"
   ]
  },
  {
   "cell_type": "code",
   "execution_count": 77,
   "metadata": {},
   "outputs": [
    {
     "data": {
      "text/plain": [
       "array([[ 3.07371900e-01,  3.91456752e+01,  4.62228616e+00,\n",
       "         3.74655331e-02,  3.21672887e-01,  0.00000000e+00],\n",
       "       [ 1.64411260e-01,  1.38636243e+01,  9.84761662e-01,\n",
       "         7.26423414e-03,  4.23473477e-01,  0.00000000e+00],\n",
       "       [ 1.45214260e-01,  2.14414196e+01,  2.79722849e+00,\n",
       "         2.70920791e-02,  3.74039928e-01,  0.00000000e+00],\n",
       "       [ 1.84050650e-01,  5.69076967e+00,  7.27184911e-01,\n",
       "         1.07301825e-02,  4.28241879e-01,  0.00000000e+00],\n",
       "       [ 2.17909460e-01,  1.23205285e+01,  1.73102637e+00,\n",
       "         1.68397555e-02,  4.29541886e-01,  0.00000000e+00],\n",
       "       [ 7.69879700e-02,  1.39227777e+01,  2.60389260e+00,\n",
       "         2.47894046e-02,  3.50135386e-01,  0.00000000e+00],\n",
       "       [ 1.98270720e-01,  1.24839091e+01,  1.01078420e+00,\n",
       "         5.31489247e-03,  2.98925549e-01,  0.00000000e+00],\n",
       "       [ 8.12321750e-02,  6.54863358e+00,  1.24546102e+00,\n",
       "         6.79689814e-03,  5.02530396e-01,  0.00000000e+00],\n",
       "       [ 2.93091060e-01,  2.30734215e+01,  8.33918599e-01,\n",
       "         5.49012048e-03,  4.05562699e-01,  0.00000000e+00],\n",
       "       [ 0.00000000e+00,  3.89292574e+00,  0.00000000e+00,\n",
       "         0.00000000e+00,  0.00000000e+00,  0.00000000e+00],\n",
       "       [ 1.69791280e-01,  5.22464609e+00,  1.10374030e+00,\n",
       "         6.50202171e-03,  4.43110377e-01,  0.00000000e+00],\n",
       "       [ 3.07114360e-01,  2.48254561e+01,  3.34760809e+00,\n",
       "         2.79568853e-02,  4.59886392e-01,  0.00000000e+00],\n",
       "       [ 0.00000000e+00,  6.04687977e+00,  0.00000000e+00,\n",
       "         0.00000000e+00,  0.00000000e+00,  1.00000000e+00],\n",
       "       [ 3.27644170e-01,  2.36936674e+01,  3.22184021e+00,\n",
       "         2.68863962e-02,  2.85309931e-01,  0.00000000e+00],\n",
       "       [ 4.36499980e-01,  2.50233736e+01,  2.79088922e+00,\n",
       "         2.81927201e-02,  4.26677982e-01,  0.00000000e+00],\n",
       "       [ 2.16029900e-01,  6.31858349e+00,  7.49233378e-01,\n",
       "         1.47729064e-02,  3.35344017e-01,  0.00000000e+00],\n",
       "       [ 0.00000000e+00,  5.71399498e+00,  0.00000000e+00,\n",
       "         0.00000000e+00,  0.00000000e+00,  0.00000000e+00],\n",
       "       [ 4.60557640e-01,  1.96427751e+01,  2.16465614e+00,\n",
       "         1.57878741e-02,  2.30278820e-01,  0.00000000e+00],\n",
       "       [ 0.00000000e+00,  8.69641829e+00,  0.00000000e+00,\n",
       "         0.00000000e+00,  0.00000000e+00,  1.00000000e+00],\n",
       "       [ 0.00000000e+00,  5.68241167e+00,  0.00000000e+00,\n",
       "         0.00000000e+00,  0.00000000e+00,  0.00000000e+00],\n",
       "       [ 3.89568840e-01,  4.33516502e+00,  7.61189842e-01,\n",
       "         7.12973761e-03,  6.83210433e-01,  0.00000000e+00],\n",
       "       [ 0.00000000e+00,  0.00000000e+00,  0.00000000e+00,\n",
       "         0.00000000e+00,  0.00000000e+00,  0.00000000e+00],\n",
       "       [ 5.61212080e-02,  1.44422321e+01,  2.17225467e+00,\n",
       "         1.69481180e-02,  2.68104315e-01,  0.00000000e+00],\n",
       "       [ 6.24244200e-01,  1.03177328e+01,  1.53116504e+00,\n",
       "         1.87773512e-02,  6.47198200e-01,  0.00000000e+00],\n",
       "       [ 0.00000000e+00,  0.00000000e+00,  0.00000000e+00,\n",
       "         0.00000000e+00,  0.00000000e+00,  0.00000000e+00],\n",
       "       [ 2.32939290e-01,  1.20323310e+01,  8.54752993e-01,\n",
       "         8.76616792e-03,  4.39118564e-01,  1.00000000e+00],\n",
       "       [ 0.00000000e+00,  1.38078742e+01,  0.00000000e+00,\n",
       "         0.00000000e+00,  0.00000000e+00,  0.00000000e+00],\n",
       "       [ 1.54091400e-01,  5.47002602e+00,  5.96278544e-01,\n",
       "         1.21700203e-02,  4.53475684e-01,  0.00000000e+00],\n",
       "       [ 2.40378660e-01,  2.51952686e+01,  8.28255338e-01,\n",
       "         7.81511513e-03,  3.90602291e-01,  1.00000000e+00],\n",
       "       [ 1.62193800e-01,  1.54069390e+01,  2.33458838e+00,\n",
       "         1.52980353e-02,  2.69227356e-01,  0.00000000e+00],\n",
       "       [ 1.22579940e+00,  2.39126539e+01,  1.59086046e+00,\n",
       "         2.24933107e-02,  4.08599814e-01,  0.00000000e+00],\n",
       "       [ 2.34114870e-01,  1.11034379e+01,  6.24326835e-01,\n",
       "         1.55858885e-02,  4.77688342e-01,  1.00000000e+00],\n",
       "       [ 3.48034530e-01,  2.54605122e+01,  3.42630929e+00,\n",
       "         2.74352551e-02,  4.36875343e-01,  0.00000000e+00],\n",
       "       [ 6.68711200e-01,  1.29500504e+01,  1.15706195e+00,\n",
       "         2.52892813e-02,  6.51861668e-01,  0.00000000e+00],\n",
       "       [ 5.29352300e-01,  2.33939810e+01,  3.65383798e+00,\n",
       "         4.53405482e-02,  5.16481578e-01,  0.00000000e+00],\n",
       "       [ 1.48131790e+00,  4.54527822e+01,  5.51422038e+00,\n",
       "         5.91705183e-02,  4.52955280e-01,  0.00000000e+00],\n",
       "       [ 0.00000000e+00,  0.00000000e+00,  0.00000000e+00,\n",
       "         0.00000000e+00,  0.00000000e+00,  0.00000000e+00],\n",
       "       [ 3.23058780e-01,  2.71256261e+01,  1.99515071e+00,\n",
       "         1.39527708e-02,  3.29362869e-01,  0.00000000e+00],\n",
       "       [ 3.07636530e-01,  1.12656302e+01,  1.63630354e+00,\n",
       "         2.64096032e-02,  4.30717945e-01,  0.00000000e+00],\n",
       "       [ 2.23561810e-01,  1.46150389e+01,  7.12966138e-01,\n",
       "         8.75826887e-03,  4.31218833e-01,  0.00000000e+00],\n",
       "       [ 4.79943900e-02,  1.34612474e+01,  2.10523849e+00,\n",
       "         1.91475089e-02,  2.83534676e-01,  0.00000000e+00],\n",
       "       [ 8.45034000e-01,  1.65931959e+01,  1.20597583e+00,\n",
       "         1.27274545e-02,  4.22517002e-01,  0.00000000e+00],\n",
       "       [ 2.91362700e-01,  1.36296268e+01,  1.95693347e+00,\n",
       "         1.30423306e-02,  3.38862956e-01,  0.00000000e+00],\n",
       "       [ 2.71738200e-01,  2.66907988e+01,  3.60680222e+00,\n",
       "         2.62057363e-02,  3.68544896e-01,  0.00000000e+00],\n",
       "       [ 5.79683540e-01,  1.98404751e+01,  3.37289359e+00,\n",
       "         2.59440576e-02,  4.27518924e-01,  0.00000000e+00],\n",
       "       [ 1.92197100e-01,  1.72143412e+01,  1.83907294e+00,\n",
       "         2.52939095e-02,  4.60118353e-01,  0.00000000e+00],\n",
       "       [ 2.37927140e-01,  2.79142962e+01,  4.50046568e+00,\n",
       "         3.57878132e-02,  3.09357107e-01,  0.00000000e+00],\n",
       "       [ 0.00000000e+00,  0.00000000e+00,  0.00000000e+00,\n",
       "         0.00000000e+00,  0.00000000e+00,  0.00000000e+00],\n",
       "       [ 8.07651900e-02,  1.62525339e+01,  8.27619005e-01,\n",
       "         1.11045521e-02,  5.11254728e-01,  1.00000000e+00],\n",
       "       [ 1.31166720e+00,  3.10260344e+01,  4.23431603e+00,\n",
       "         5.38931974e-02,  4.42913866e-01,  0.00000000e+00],\n",
       "       [ 0.00000000e+00,  5.60960054e+00,  0.00000000e+00,\n",
       "         0.00000000e+00,  0.00000000e+00,  0.00000000e+00],\n",
       "       [ 1.33324880e-01,  1.67727256e+01,  2.16500997e+00,\n",
       "         2.03372018e-02,  4.69966769e-01,  0.00000000e+00],\n",
       "       [ 5.01661800e-01,  3.08919683e+01,  3.79188608e+00,\n",
       "         3.93175808e-02,  4.10168350e-01,  0.00000000e+00],\n",
       "       [ 1.77893860e-01,  1.33488584e+01,  1.14264013e+00,\n",
       "         1.05079482e-02,  3.05093557e-01,  0.00000000e+00],\n",
       "       [ 3.55388050e-01,  2.00820322e+01,  2.48935522e+00,\n",
       "         9.72181166e-03,  1.77694023e-01,  0.00000000e+00],\n",
       "       [ 0.00000000e+00,  0.00000000e+00,  0.00000000e+00,\n",
       "         0.00000000e+00,  0.00000000e+00,  0.00000000e+00],\n",
       "       [ 3.70404540e-01,  6.28909445e+00,  6.61334986e-01,\n",
       "         5.03211254e-03,  3.70404541e-01,  0.00000000e+00],\n",
       "       [ 4.00684360e-01,  2.17165661e+01,  1.91170240e+00,\n",
       "         1.30461242e-02,  2.00342178e-01,  0.00000000e+00],\n",
       "       [ 1.45019650e-01,  1.50211525e+01,  2.33463596e+00,\n",
       "         1.45056890e-02,  2.73304880e-01,  0.00000000e+00],\n",
       "       [ 4.45944000e-01,  2.59360085e+01,  3.14120928e+00,\n",
       "         3.23072911e-02,  3.62731139e-01,  0.00000000e+00],\n",
       "       [ 2.06035850e-01,  1.08783755e+01,  9.41914374e-01,\n",
       "         6.04372206e-03,  2.63810068e-01,  0.00000000e+00],\n",
       "       [ 2.30568070e-01,  6.14648438e+00,  8.94085689e-01,\n",
       "         9.80625457e-03,  4.95190263e-01,  0.00000000e+00],\n",
       "       [ 8.76792400e-02,  1.41826773e+01,  2.56551172e+00,\n",
       "         2.15788882e-02,  3.06222081e-01,  0.00000000e+00],\n",
       "       [ 1.91652920e-01,  6.14761686e+00,  8.37120120e-01,\n",
       "         9.67469934e-03,  4.28290427e-01,  0.00000000e+00],\n",
       "       [ 3.53237700e-01,  3.13434739e+01,  4.34118849e+00,\n",
       "         4.36709954e-02,  3.81858140e-01,  0.00000000e+00],\n",
       "       [ 5.63349600e-01,  1.65934696e+01,  1.25533767e+00,\n",
       "         2.28404193e-02,  2.81674802e-01,  0.00000000e+00],\n",
       "       [ 0.00000000e+00,  3.00730443e+00,  0.00000000e+00,\n",
       "         0.00000000e+00,  0.00000000e+00,  0.00000000e+00],\n",
       "       [ 2.55189700e-01,  1.15291576e+01,  9.47089393e-01,\n",
       "         9.85527577e-03,  4.35450763e-01,  0.00000000e+00],\n",
       "       [ 1.42646880e-01,  1.84235477e+01,  2.10242952e+00,\n",
       "         2.24690453e-02,  5.34957528e-01,  0.00000000e+00],\n",
       "       [ 1.78814300e-01,  1.12662053e+01,  9.21069336e-01,\n",
       "         6.62312067e-03,  4.85902965e-01,  0.00000000e+00],\n",
       "       [ 0.00000000e+00,  4.21344519e+00,  0.00000000e+00,\n",
       "         0.00000000e+00,  0.00000000e+00,  0.00000000e+00],\n",
       "       [ 1.95755150e-01,  1.76102314e+01,  2.39905599e+00,\n",
       "         2.76165167e-02,  3.96802723e-01,  0.00000000e+00],\n",
       "       [ 6.04666620e-02,  3.44158835e+01,  4.52612620e+00,\n",
       "         3.86487212e-02,  4.82250690e-01,  0.00000000e+00],\n",
       "       [ 9.48927300e-01,  3.95077486e+01,  5.59457895e+00,\n",
       "         4.59659219e-02,  4.11049088e-01,  0.00000000e+00],\n",
       "       [ 5.50159450e-01,  1.96517210e+01,  3.49282858e+00,\n",
       "         4.16516458e-02,  5.72844326e-01,  0.00000000e+00],\n",
       "       [ 8.43232500e-01,  1.67843261e+01,  2.39055422e+00,\n",
       "         2.65212698e-02,  4.75745996e-01,  0.00000000e+00],\n",
       "       [ 3.17197080e-01,  5.17803431e+00,  1.04719880e+00,\n",
       "         1.24595228e-02,  6.02212787e-01,  0.00000000e+00],\n",
       "       [ 0.00000000e+00,  5.31121445e+00,  0.00000000e+00,\n",
       "         0.00000000e+00,  0.00000000e+00,  0.00000000e+00],\n",
       "       [ 1.44224270e-01,  1.05714736e+01,  1.04719880e+00,\n",
       "         1.24595228e-02,  4.35868829e-01,  0.00000000e+00],\n",
       "       [ 0.00000000e+00,  3.99186230e+00,  0.00000000e+00,\n",
       "         0.00000000e+00,  0.00000000e+00,  0.00000000e+00],\n",
       "       [ 7.66987800e-01,  2.84652505e+01,  4.75489390e+00,\n",
       "         6.04376980e-02,  5.21708155e-01,  0.00000000e+00],\n",
       "       [ 1.95720870e-01,  1.10041380e+01,  7.19423281e-01,\n",
       "         1.09811374e-02,  5.18790960e-01,  0.00000000e+00],\n",
       "       [ 5.76270160e-01,  1.76807237e+01,  2.59296742e+00,\n",
       "         3.74342089e-02,  5.21319548e-01,  0.00000000e+00],\n",
       "       [ 0.00000000e+00,  5.31121445e+00,  0.00000000e+00,\n",
       "         0.00000000e+00,  0.00000000e+00,  0.00000000e+00],\n",
       "       [ 7.53203800e-01,  3.01740153e+01,  3.84834371e+00,\n",
       "         3.63558226e-02,  4.17561471e-01,  1.00000000e+00],\n",
       "       [ 0.00000000e+00,  0.00000000e+00,  0.00000000e+00,\n",
       "         0.00000000e+00,  0.00000000e+00,  0.00000000e+00],\n",
       "       [ 0.00000000e+00,  0.00000000e+00,  0.00000000e+00,\n",
       "         0.00000000e+00,  0.00000000e+00,  0.00000000e+00],\n",
       "       [ 4.11294460e-01,  1.23620801e+01,  2.16404820e+00,\n",
       "         1.67206422e-02,  4.01525646e-01,  0.00000000e+00],\n",
       "       [ 2.10851700e-01,  3.34484677e+01,  4.57146446e+00,\n",
       "         2.22326306e-02,  4.21738982e-01,  1.00000000e+00],\n",
       "       [ 0.00000000e+00,  9.67130566e+00,  0.00000000e+00,\n",
       "         0.00000000e+00,  0.00000000e+00,  1.00000000e+00],\n",
       "       [ 3.22861500e-01,  2.53864198e+01,  3.42436598e+00,\n",
       "         2.91873452e-02,  4.41731373e-01,  0.00000000e+00],\n",
       "       [ 4.02421200e-01,  2.90604172e+01,  1.65174302e+00,\n",
       "         2.62292821e-02,  4.67412651e-01,  0.00000000e+00],\n",
       "       [ 0.00000000e+00,  0.00000000e+00,  0.00000000e+00,\n",
       "         0.00000000e+00,  0.00000000e+00,  0.00000000e+00],\n",
       "       [ 6.43426540e-01,  1.76567044e+01,  2.38352892e+00,\n",
       "         2.45783588e-02,  4.93866444e-01,  0.00000000e+00],\n",
       "       [ 5.75118360e-01,  3.93083963e+01,  5.98570585e+00,\n",
       "         6.27346632e-02,  4.73134120e-01,  0.00000000e+00],\n",
       "       [ 3.31404270e-01,  2.93011098e+01,  3.37473879e+00,\n",
       "         2.59386163e-02,  4.74207004e-01,  0.00000000e+00],\n",
       "       [ 0.00000000e+00,  4.41477680e+00,  0.00000000e+00,\n",
       "         0.00000000e+00,  0.00000000e+00,  0.00000000e+00],\n",
       "       [ 4.73885480e-01,  2.07085218e+01,  3.06280771e+00,\n",
       "         2.77288442e-02,  3.35610986e-01,  0.00000000e+00],\n",
       "       [ 1.97155730e-01,  1.41757827e+01,  1.19835689e+00,\n",
       "         5.70235026e-03,  1.97155729e-01,  0.00000000e+00],\n",
       "       [-2.18177880e-02,  1.43980517e+01,  2.54143210e+00,\n",
       "         2.64937770e-02,  2.76526153e-01,  0.00000000e+00]])"
      ]
     },
     "execution_count": 77,
     "metadata": {},
     "output_type": "execute_result"
    }
   ],
   "source": [
    "X"
   ]
  },
  {
   "cell_type": "code",
   "execution_count": 78,
   "metadata": {},
   "outputs": [
    {
     "data": {
      "text/plain": [
       "0.52"
      ]
     },
     "execution_count": 78,
     "metadata": {},
     "output_type": "execute_result"
    }
   ],
   "source": [
    "model.score(X,y)"
   ]
  },
  {
   "cell_type": "code",
   "execution_count": 79,
   "metadata": {},
   "outputs": [
    {
     "name": "stdout",
     "output_type": "stream",
     "text": [
      "[[ 4 12 11]\n",
      " [ 1 33  8]\n",
      " [ 1 15 15]]\n"
     ]
    }
   ],
   "source": [
    "print(confusion_matrix(y, predictions))"
   ]
  },
  {
   "cell_type": "code",
   "execution_count": 80,
   "metadata": {},
   "outputs": [
    {
     "name": "stdout",
     "output_type": "stream",
     "text": [
      "[0.24242424 0.64705882 0.46153846]\n"
     ]
    }
   ],
   "source": [
    "print(f1_score(y,predictions, average=None))"
   ]
  },
  {
   "cell_type": "code",
   "execution_count": 81,
   "metadata": {},
   "outputs": [],
   "source": [
    "validation_size = 0.20\n",
    "seed = 7\n",
    "X_train, X_validation, Y_train, Y_validation = model_selection.train_test_split(X, y, test_size=validation_size)"
   ]
  },
  {
   "cell_type": "code",
   "execution_count": 82,
   "metadata": {},
   "outputs": [
    {
     "name": "stdout",
     "output_type": "stream",
     "text": [
      "Logistic Regression: 0.525000 (0.222205)\n"
     ]
    }
   ],
   "source": [
    "name='Logistic Regression'\n",
    "kfold = model_selection.KFold(n_splits=20)\n",
    "cv_results = model_selection.cross_val_score(model, X_train, Y_train, cv=kfold, scoring='accuracy')\n",
    "msg = \"%s: %f (%f)\" % (name, cv_results.mean(), cv_results.std())\n",
    "print(msg)"
   ]
  },
  {
   "cell_type": "code",
   "execution_count": 83,
   "metadata": {},
   "outputs": [
    {
     "name": "stdout",
     "output_type": "stream",
     "text": [
      "0.5\n"
     ]
    }
   ],
   "source": [
    "predictions = model.predict(X_validation)\n",
    "print(accuracy_score(Y_validation, predictions))"
   ]
  },
  {
   "cell_type": "code",
   "execution_count": 84,
   "metadata": {},
   "outputs": [
    {
     "name": "stdout",
     "output_type": "stream",
     "text": [
      "[[ 0  3  3]\n",
      " [ 0 10  2]\n",
      " [ 0  2  0]]\n"
     ]
    }
   ],
   "source": [
    "print(confusion_matrix(Y_validation, predictions))"
   ]
  },
  {
   "cell_type": "code",
   "execution_count": 85,
   "metadata": {},
   "outputs": [
    {
     "name": "stdout",
     "output_type": "stream",
     "text": [
      "               precision    recall  f1-score   support\n",
      "\n",
      "contradiction       0.00      0.00      0.00         6\n",
      "   entailment       0.67      0.83      0.74        12\n",
      "      neutral       0.00      0.00      0.00         2\n",
      "\n",
      "     accuracy                           0.50        20\n",
      "    macro avg       0.22      0.28      0.25        20\n",
      " weighted avg       0.40      0.50      0.44        20\n",
      "\n"
     ]
    },
    {
     "name": "stderr",
     "output_type": "stream",
     "text": [
      "/home/david/anaconda3/lib/python3.9/site-packages/sklearn/metrics/_classification.py:1318: UndefinedMetricWarning: Precision and F-score are ill-defined and being set to 0.0 in labels with no predicted samples. Use `zero_division` parameter to control this behavior.\n",
      "  _warn_prf(average, modifier, msg_start, len(result))\n",
      "/home/david/anaconda3/lib/python3.9/site-packages/sklearn/metrics/_classification.py:1318: UndefinedMetricWarning: Precision and F-score are ill-defined and being set to 0.0 in labels with no predicted samples. Use `zero_division` parameter to control this behavior.\n",
      "  _warn_prf(average, modifier, msg_start, len(result))\n",
      "/home/david/anaconda3/lib/python3.9/site-packages/sklearn/metrics/_classification.py:1318: UndefinedMetricWarning: Precision and F-score are ill-defined and being set to 0.0 in labels with no predicted samples. Use `zero_division` parameter to control this behavior.\n",
      "  _warn_prf(average, modifier, msg_start, len(result))\n"
     ]
    }
   ],
   "source": [
    "print(classification_report(Y_validation, predictions))"
   ]
  },
  {
   "cell_type": "code",
   "execution_count": 86,
   "metadata": {},
   "outputs": [],
   "source": [
    "#X_new = pd.DataFrame()\n",
    "#model.predict(X_new)"
   ]
  }
 ],
 "metadata": {
  "kernelspec": {
   "display_name": "Python 3",
   "language": "python",
   "name": "python3"
  },
  "language_info": {
   "codemirror_mode": {
    "name": "ipython",
    "version": 3
   },
   "file_extension": ".py",
   "mimetype": "text/x-python",
   "name": "python",
   "nbconvert_exporter": "python",
   "pygments_lexer": "ipython3",
   "version": "3.9.13"
  }
 },
 "nbformat": 4,
 "nbformat_minor": 2
}
