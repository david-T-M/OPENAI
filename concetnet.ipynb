{
 "cells": [
  {
   "cell_type": "code",
   "execution_count": 1,
   "metadata": {},
   "outputs": [],
   "source": [
    "import conceptnet_lite\n",
    "conceptnet_lite.connect(\"data/conceptnet.db\")"
   ]
  },
  {
   "cell_type": "code",
   "execution_count": 2,
   "metadata": {},
   "outputs": [
    {
     "name": "stdout",
     "output_type": "stream",
     "text": [
      "yes\n"
     ]
    }
   ],
   "source": [
    "from conceptnet_lite import Label, edges_for\n",
    "if(Label.get(text='bloodred', language='en').concepts):\n",
    "    print(\"yes\")\n"
   ]
  },
  {
   "cell_type": "code",
   "execution_count": 3,
   "metadata": {},
   "outputs": [
    {
     "name": "stdout",
     "output_type": "stream",
     "text": [
      "SELECT \"t1\".\"id\", \"t1\".\"label_id\", \"t1\".\"sense_label\" FROM \"concept\" AS \"t1\" WHERE (\"t1\".\"label_id\" = 1483978)\n"
     ]
    }
   ],
   "source": [
    "concepts = Label.get(text='bloodred', language='en').concepts\n",
    "print(concepts)"
   ]
  },
  {
   "cell_type": "code",
   "execution_count": 4,
   "metadata": {},
   "outputs": [],
   "source": [
    "from conceptnet_lite import Concept\n",
    "concept_object = Concept.get(uri='/c/en/bloodred')"
   ]
  },
  {
   "cell_type": "code",
   "execution_count": 5,
   "metadata": {},
   "outputs": [
    {
     "name": "stdout",
     "output_type": "stream",
     "text": [
      "/c/en/bloodred\n"
     ]
    }
   ],
   "source": [
    "print(concept_object)"
   ]
  },
  {
   "cell_type": "code",
   "execution_count": 154,
   "metadata": {},
   "outputs": [
    {
     "name": "stdout",
     "output_type": "stream",
     "text": [
      "man - guy | related_to\n",
      "guy - man | related_to\n",
      "guy - man | related_to\n",
      "guy - man | is_a\n"
     ]
    }
   ],
   "source": [
    "word_t=\"man\"\n",
    "word_h=\"guy\"\n",
    "for e in edges_for(Label.get(text=word_h, language='en').concepts, same_language=True):\n",
    "    #if \"synonym\"==e.relation.name:\n",
    "    if word_t == e.start.text or word_t == e.end.text:\n",
    "        print(e.start.text, \"-\", e.end.text, \"|\", e.relation.name)"
   ]
  },
  {
   "cell_type": "code",
   "execution_count": 7,
   "metadata": {},
   "outputs": [
    {
     "name": "stdout",
     "output_type": "stream",
     "text": [
      "An exception occurred\n"
     ]
    }
   ],
   "source": [
    "from conceptnet_lite import Label\n",
    "\n",
    "try:\n",
    "    cat_concepts = Label.get(text='blood-red').concepts  \n",
    "    for c in cat_concepts:\n",
    "        print(\"    Concept URI:\", c.uri)\n",
    "        print(\"    Concept text:\", c.text)\n",
    "except:\n",
    "  print(\"An exception occurred\")"
   ]
  },
  {
   "cell_type": "code",
   "execution_count": 136,
   "metadata": {},
   "outputs": [
    {
     "name": "stdout",
     "output_type": "stream",
     "text": [
      "0\n",
      "1\n",
      "Found\n",
      "2\n"
     ]
    }
   ],
   "source": [
    "list1 = [[1, 2, 3], [4, 5, 6], [7, 8, 9]]\n",
    "\n",
    "n = 9\n",
    "\n",
    "for x in range(3):\n",
    "    for y in range(3):\n",
    "        if list1[x][y] == n:\n",
    "            print(\"Found\")\n",
    "            break\n",
    "    print(x)\n",
    "    #break"
   ]
  },
  {
   "cell_type": "code",
   "execution_count": 142,
   "metadata": {},
   "outputs": [
    {
     "name": "stdout",
     "output_type": "stream",
     "text": [
      "ada\n"
     ]
    }
   ],
   "source": [
    "try:\n",
    "    print(\"ada\")\n",
    "except:\n",
    "    print()"
   ]
  }
 ],
 "metadata": {
  "kernelspec": {
   "display_name": "base",
   "language": "python",
   "name": "python3"
  },
  "language_info": {
   "codemirror_mode": {
    "name": "ipython",
    "version": 3
   },
   "file_extension": ".py",
   "mimetype": "text/x-python",
   "name": "python",
   "nbconvert_exporter": "python",
   "pygments_lexer": "ipython3",
   "version": "3.9.13"
  }
 },
 "nbformat": 4,
 "nbformat_minor": 2
}
