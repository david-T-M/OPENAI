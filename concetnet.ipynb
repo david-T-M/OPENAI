{
 "cells": [
  {
   "cell_type": "code",
   "execution_count": 1,
   "metadata": {},
   "outputs": [],
   "source": [
    "import conceptnet_lite\n",
    "conceptnet_lite.connect(\"data/conceptnet.db\")"
   ]
  },
  {
   "cell_type": "code",
   "execution_count": 3,
   "metadata": {},
   "outputs": [
    {
     "name": "stdout",
     "output_type": "stream",
     "text": [
      "yes\n"
     ]
    }
   ],
   "source": [
    "from conceptnet_lite import Label, edges_for\n",
    "if(Label.get(text='bloodred', language='en').concepts):\n",
    "    print(\"yes\")\n"
   ]
  },
  {
   "cell_type": "code",
   "execution_count": 5,
   "metadata": {},
   "outputs": [
    {
     "name": "stdout",
     "output_type": "stream",
     "text": [
      "SELECT \"t1\".\"id\", \"t1\".\"label_id\", \"t1\".\"sense_label\" FROM \"concept\" AS \"t1\" WHERE (\"t1\".\"label_id\" = 1483978)\n"
     ]
    }
   ],
   "source": [
    "concepts = Label.get(text='bloodred', language='en').concepts\n",
    "print(concepts)"
   ]
  },
  {
   "cell_type": "code",
   "execution_count": 6,
   "metadata": {},
   "outputs": [],
   "source": [
    "from conceptnet_lite import Concept\n",
    "concept_object = Concept.get(uri='/c/en/bloodred')"
   ]
  },
  {
   "cell_type": "code",
   "execution_count": 7,
   "metadata": {},
   "outputs": [
    {
     "name": "stdout",
     "output_type": "stream",
     "text": [
      "/c/en/bloodred\n"
     ]
    }
   ],
   "source": [
    "print(concept_object)"
   ]
  },
  {
   "cell_type": "code",
   "execution_count": 16,
   "metadata": {},
   "outputs": [
    {
     "name": "stdout",
     "output_type": "stream",
     "text": [
      "monkey - works | at_location\n",
      "bleachworks - works | derived_from\n",
      "brassworks - works | derived_from\n",
      "brickworks - works | derived_from\n",
      "chainworks - works | derived_from\n",
      "coalworks - works | derived_from\n",
      "copperworks - works | derived_from\n",
      "deadworks - works | derived_from\n",
      "dyeworks - works | derived_from\n",
      "enamelworks - works | derived_from\n",
      "glassworks - works | derived_from\n",
      "gunworks - works | derived_from\n",
      "headworks - works | derived_from\n",
      "ironworks - works | derived_from\n",
      "laceworks - works | derived_from\n",
      "leatherworks - works | derived_from\n",
      "limeworks - works | derived_from\n",
      "loomworks - works | derived_from\n",
      "meatworks - works | derived_from\n",
      "metalworks - works | derived_from\n",
      "millworks - works | derived_from\n",
      "printworks - works | derived_from\n",
      "railworks - works | derived_from\n",
      "saltworks - works | derived_from\n",
      "semi_works - works | derived_from\n",
      "silkworks - works | derived_from\n",
      "skunkworks - works | derived_from\n",
      "soapworks - works | derived_from\n",
      "softworks - works | derived_from\n",
      "steelworks - works | derived_from\n",
      "streamworks - works | derived_from\n",
      "tileworks - works | derived_from\n",
      "upperworks - works | derived_from\n",
      "wagonworks - works | derived_from\n",
      "waterworks - works | derived_from\n",
      "woolworks - works | derived_from\n",
      "art - works | related_to\n",
      "bifta - works | related_to\n",
      "canteen - works | related_to\n",
      "completo - works | related_to\n",
      "coworker - works | related_to\n",
      "dentist - works | related_to\n",
      "design - works | related_to\n",
      "desk - works | related_to\n",
      "dipper - works | related_to\n",
      "doctor - works | related_to\n",
      "employ - works | related_to\n",
      "juvenilia - works | related_to\n",
      "literature - works | related_to\n",
      "lodgment - works | related_to\n",
      "miner - works | related_to\n",
      "stannary - works | related_to\n",
      "steel - works | related_to\n",
      "tax - works | related_to\n",
      "tooth - works | related_to\n",
      "workmate - works | related_to\n",
      "bag_of_tricks - works | synonym\n",
      "factory - works | synonym\n",
      "brassworks - works | derived_from\n",
      "brickworks - works | derived_from\n",
      "bronzeworks - works | derived_from\n",
      "clayworks - works | derived_from\n",
      "copperworks - works | derived_from\n",
      "freezing_works - works | derived_from\n",
      "gasworks - works | derived_from\n",
      "good_works - works | derived_from\n",
      "ironworks - works | derived_from\n",
      "metalworks - works | derived_from\n",
      "skunkworks - works | derived_from\n",
      "steelworks - works | derived_from\n",
      "waterworks - works | derived_from\n",
      "deeds - works | synonym\n",
      "workings - works | synonym\n",
      "works - duck_flying_objects | capable_of\n",
      "works - work | form_of\n",
      "works - work | form_of\n",
      "works - all_way | related_to\n",
      "works - in_works | related_to\n",
      "works - whole_nine_yards | related_to\n",
      "works - whole_shebang | related_to\n",
      "works - work | form_of\n",
      "works - work | related_to\n",
      "works - activity | is_a\n",
      "works - mechanism | is_a\n",
      "works - plant | synonym\n",
      "works - work | form_of\n",
      "works - work | related_to\n",
      "works - whole_shebang | synonym\n"
     ]
    }
   ],
   "source": [
    "for e in edges_for(Label.get(text='works', language='en').concepts, same_language=True):\n",
    "    #if \"synonym\"==e.relation.name:\n",
    "    print(e.start.text, \"-\", e.end.text, \"|\", e.relation.name)"
   ]
  },
  {
   "cell_type": "code",
   "execution_count": 28,
   "metadata": {},
   "outputs": [
    {
     "name": "stdout",
     "output_type": "stream",
     "text": [
      "An exception occurred\n"
     ]
    }
   ],
   "source": [
    "from conceptnet_lite import Label\n",
    "\n",
    "try:\n",
    "    cat_concepts = Label.get(text='blood-red').concepts  \n",
    "    for c in cat_concepts:\n",
    "        print(\"    Concept URI:\", c.uri)\n",
    "        print(\"    Concept text:\", c.text)\n",
    "except:\n",
    "  print(\"An exception occurred\")"
   ]
  },
  {
   "cell_type": "code",
   "execution_count": null,
   "metadata": {},
   "outputs": [],
   "source": []
  }
 ],
 "metadata": {
  "kernelspec": {
   "display_name": "base",
   "language": "python",
   "name": "python3"
  },
  "language_info": {
   "codemirror_mode": {
    "name": "ipython",
    "version": 3
   },
   "file_extension": ".py",
   "mimetype": "text/x-python",
   "name": "python",
   "nbconvert_exporter": "python",
   "pygments_lexer": "ipython3",
   "version": "3.9.13"
  }
 },
 "nbformat": 4,
 "nbformat_minor": 2
}
