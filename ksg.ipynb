{
 "cells": [
  {
   "cell_type": "code",
   "execution_count": 1,
   "metadata": {},
   "outputs": [
    {
     "ename": "ModuleNotFoundError",
     "evalue": "No module named 'npeet'",
     "output_type": "error",
     "traceback": [
      "\u001b[0;31m---------------------------------------------------------------------------\u001b[0m",
      "\u001b[0;31mModuleNotFoundError\u001b[0m                       Traceback (most recent call last)",
      "\u001b[1;32m/home/david/OPENAI/ksg.ipynb Cell 1\u001b[0m line \u001b[0;36m2\n\u001b[1;32m      <a href='vscode-notebook-cell://ssh-remote%2B148.218.36.156/home/david/OPENAI/ksg.ipynb#W0sdnNjb2RlLXJlbW90ZQ%3D%3D?line=0'>1</a>\u001b[0m \u001b[39mimport\u001b[39;00m \u001b[39mnumpy\u001b[39;00m \u001b[39mas\u001b[39;00m \u001b[39mnp\u001b[39;00m\n\u001b[0;32m----> <a href='vscode-notebook-cell://ssh-remote%2B148.218.36.156/home/david/OPENAI/ksg.ipynb#W0sdnNjb2RlLXJlbW90ZQ%3D%3D?line=1'>2</a>\u001b[0m \u001b[39mfrom\u001b[39;00m \u001b[39mnpeet\u001b[39;00m\u001b[39m.\u001b[39;00m\u001b[39mentropy_estimators\u001b[39;00m \u001b[39mimport\u001b[39;00m mi\n\u001b[1;32m      <a href='vscode-notebook-cell://ssh-remote%2B148.218.36.156/home/david/OPENAI/ksg.ipynb#W0sdnNjb2RlLXJlbW90ZQ%3D%3D?line=4'>5</a>\u001b[0m \u001b[39mdef\u001b[39;00m \u001b[39mksg_factory\u001b[39m(k\u001b[39m=\u001b[39m\u001b[39m3\u001b[39m, pool\u001b[39m=\u001b[39m\u001b[39mNone\u001b[39;00m):\n\u001b[1;32m      <a href='vscode-notebook-cell://ssh-remote%2B148.218.36.156/home/david/OPENAI/ksg.ipynb#W0sdnNjb2RlLXJlbW90ZQ%3D%3D?line=5'>6</a>\u001b[0m \u001b[39m    \u001b[39m\u001b[39m\"\"\"\u001b[39;00m\n\u001b[1;32m      <a href='vscode-notebook-cell://ssh-remote%2B148.218.36.156/home/david/OPENAI/ksg.ipynb#W0sdnNjb2RlLXJlbW90ZQ%3D%3D?line=6'>7</a>\u001b[0m \u001b[39m    :param k: number of nearest neighbours\u001b[39;00m\n\u001b[1;32m      <a href='vscode-notebook-cell://ssh-remote%2B148.218.36.156/home/david/OPENAI/ksg.ipynb#W0sdnNjb2RlLXJlbW90ZQ%3D%3D?line=7'>8</a>\u001b[0m \u001b[39m    :param pool: optional pooling function (e.g. np.mean or np.max)\u001b[39;00m\n\u001b[1;32m      <a href='vscode-notebook-cell://ssh-remote%2B148.218.36.156/home/david/OPENAI/ksg.ipynb#W0sdnNjb2RlLXJlbW90ZQ%3D%3D?line=8'>9</a>\u001b[0m \u001b[39m    :return: KSG similarity with given k and pooling (if any)\u001b[39;00m\n\u001b[1;32m     <a href='vscode-notebook-cell://ssh-remote%2B148.218.36.156/home/david/OPENAI/ksg.ipynb#W0sdnNjb2RlLXJlbW90ZQ%3D%3D?line=9'>10</a>\u001b[0m \u001b[39m    \"\"\"\u001b[39;00m\n",
      "\u001b[0;31mModuleNotFoundError\u001b[0m: No module named 'npeet'"
     ]
    }
   ],
   "source": [
    "import numpy as np\n",
    "from npeet.entropy_estimators import mi\n",
    "\n",
    "\n",
    "def ksg_factory(k=3, pool=None):\n",
    "    \"\"\"\n",
    "    :param k: number of nearest neighbours\n",
    "    :param pool: optional pooling function (e.g. np.mean or np.max)\n",
    "    :return: KSG similarity with given k and pooling (if any)\n",
    "    \"\"\"\n",
    "\n",
    "    def ksg(x, y):\n",
    "        \"\"\"\n",
    "        Kraskov–Stogbauer–Grassberger (KSG) estimator of mutual information\n",
    "        between two sentences represented as word embedding matrices x and y\n",
    "        :param x: list of word embeddings for the first sentence\n",
    "        :param y: list of word embeddings for the second sentence\n",
    "        :return: KSG similarity measure between the two sentences\n",
    "        \"\"\"\n",
    "\n",
    "        if pool is None:\n",
    "            xT = x.T\n",
    "            yT = y.T\n",
    "        else:\n",
    "            xT = pool(x, axis=0).reshape(-1, 1)\n",
    "            yT = pool(y, axis=0).reshape(-1, 1)\n",
    "\n",
    "        return mi(xT, yT, base=np.e, k=k)\n",
    "    return ksg\n",
    "\n",
    "\n",
    "ksg3 = ksg_factory(k=3)\n",
    "ksg10 = ksg_factory(k=10)\n",
    "\n",
    "mean_ksg10 = ksg_factory(k=10, pool=np.mean)\n",
    "max_ksg10 = ksg_factory(k=10, pool=np.max)"
   ]
  },
  {
   "cell_type": "code",
   "execution_count": 2,
   "metadata": {},
   "outputs": [],
   "source": [
    "import warnings\n",
    "\n",
    "import numpy as np\n",
    "import numpy.linalg as la\n",
    "from numpy import log\n",
    "from scipy.special import digamma\n",
    "from sklearn.neighbors import BallTree, KDTree\n"
   ]
  },
  {
   "cell_type": "code",
   "execution_count": 3,
   "metadata": {},
   "outputs": [],
   "source": [
    "def add_noise(x, intens=1e-10):\n",
    "    # small noise to break degeneracy, see doc.\n",
    "    return x + intens * np.random.random_sample(x.shape)"
   ]
  },
  {
   "cell_type": "code",
   "execution_count": 4,
   "metadata": {},
   "outputs": [],
   "source": [
    "def build_tree(points):\n",
    "    if points.shape[1] >= 20:\n",
    "        return BallTree(points, metric=\"chebyshev\")\n",
    "    return KDTree(points, metric=\"chebyshev\")"
   ]
  },
  {
   "cell_type": "code",
   "execution_count": 6,
   "metadata": {},
   "outputs": [],
   "source": [
    "def count_neighbors(tree, x, r):\n",
    "    return tree.query_radius(x, r, count_only=True)"
   ]
  },
  {
   "cell_type": "code",
   "execution_count": 7,
   "metadata": {},
   "outputs": [],
   "source": [
    "def avgdigamma(points, dvec):\n",
    "    # This part finds number of neighbors in some radius in the marginal space\n",
    "    # returns expectation value of <psi(nx)>\n",
    "    tree = build_tree(points)\n",
    "    dvec = dvec - 1e-15\n",
    "    num_points = count_neighbors(tree, points, dvec)\n",
    "    return np.mean(digamma(num_points))\n"
   ]
  },
  {
   "cell_type": "code",
   "execution_count": 8,
   "metadata": {},
   "outputs": [],
   "source": [
    "def lnc_correction(tree, points, k, alpha):\n",
    "    e = 0\n",
    "    n_sample = points.shape[0]\n",
    "    for point in points:\n",
    "        # Find k-nearest neighbors in joint space, p=inf means max norm\n",
    "        knn = tree.query(point[None, :], k=k + 1, return_distance=False)[0]\n",
    "        knn_points = points[knn]\n",
    "        # Substract mean of k-nearest neighbor points\n",
    "        knn_points = knn_points - knn_points[0]\n",
    "        # Calculate covariance matrix of k-nearest neighbor points, obtain eigen vectors\n",
    "        covr = knn_points.T @ knn_points / k\n",
    "        _, v = la.eig(covr)\n",
    "        # Calculate PCA-bounding box using eigen vectors\n",
    "        V_rect = np.log(np.abs(knn_points @ v).max(axis=0)).sum()\n",
    "        # Calculate the volume of original box\n",
    "        log_knn_dist = np.log(np.abs(knn_points).max(axis=0)).sum()\n",
    "\n",
    "        # Perform local non-uniformity checking and update correction term\n",
    "        if V_rect < log_knn_dist + np.log(alpha):\n",
    "            e += (log_knn_dist - V_rect) / n_sample\n",
    "    return e"
   ]
  },
  {
   "cell_type": "code",
   "execution_count": 9,
   "metadata": {},
   "outputs": [],
   "source": [
    "def query_neighbors(tree, x, k):\n",
    "    return tree.query(x, k=k + 1)[0][:, k]"
   ]
  },
  {
   "cell_type": "code",
   "execution_count": 10,
   "metadata": {},
   "outputs": [],
   "source": [
    "def mi(x, y, z=None, k=3, base=2, alpha=0):\n",
    "    \"\"\"Mutual information of x and y (conditioned on z if z is not None)\n",
    "    x, y should be a list of vectors, e.g. x = [[1.3], [3.7], [5.1], [2.4]]\n",
    "    if x is a one-dimensional scalar and we have four samples\n",
    "    \"\"\"\n",
    "    assert len(x) == len(y), \"Arrays should have same length\"\n",
    "    assert k <= len(x) - 1, \"Set k smaller than num. samples - 1\"\n",
    "    x, y = np.asarray(x), np.asarray(y)\n",
    "    x, y = x.reshape(x.shape[0], -1), y.reshape(y.shape[0], -1)\n",
    "    x = add_noise(x)\n",
    "    y = add_noise(y)\n",
    "    points = [x, y]\n",
    "    if z is not None:\n",
    "        z = np.asarray(z)\n",
    "        z = z.reshape(z.shape[0], -1)\n",
    "        points.append(z)\n",
    "    points = np.hstack(points)\n",
    "    # Find nearest neighbors in joint space, p=inf means max-norm\n",
    "    tree = build_tree(points)\n",
    "    dvec = query_neighbors(tree, points, k)\n",
    "    if z is None:\n",
    "        a, b, c, d = (\n",
    "            avgdigamma(x, dvec),\n",
    "            avgdigamma(y, dvec),\n",
    "            digamma(k),\n",
    "            digamma(len(x)),\n",
    "        )\n",
    "        if alpha > 0:\n",
    "            d += lnc_correction(tree, points, k, alpha)\n",
    "    else:\n",
    "        xz = np.c_[x, z]\n",
    "        yz = np.c_[y, z]\n",
    "        a, b, c, d = (\n",
    "            avgdigamma(xz, dvec),\n",
    "            avgdigamma(yz, dvec),\n",
    "            avgdigamma(z, dvec),\n",
    "            digamma(k),\n",
    "        )\n",
    "    return (-a - b + c + d) / log(base)\n"
   ]
  },
  {
   "cell_type": "code",
   "execution_count": 12,
   "metadata": {},
   "outputs": [
    {
     "name": "stdout",
     "output_type": "stream",
     "text": [
      "MI between two independent continuous random variables X and Y:\n",
      "-0.022484075103376248\n"
     ]
    }
   ],
   "source": [
    "print(\"MI between two independent continuous random variables X and Y:\")\n",
    "np.random.seed(0)\n",
    "x = np.random.randn(1000, 10)\n",
    "y = np.random.randn(1000, 3)\n",
    "print(mi(x, y, base=2, alpha=0))"
   ]
  }
 ],
 "metadata": {
  "kernelspec": {
   "display_name": "rit",
   "language": "python",
   "name": "python3"
  },
  "language_info": {
   "codemirror_mode": {
    "name": "ipython",
    "version": 3
   },
   "file_extension": ".py",
   "mimetype": "text/x-python",
   "name": "python",
   "nbconvert_exporter": "python",
   "pygments_lexer": "ipython3",
   "version": "3.9.13"
  }
 },
 "nbformat": 4,
 "nbformat_minor": 2
}
