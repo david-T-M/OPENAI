{
 "cells": [
  {
   "cell_type": "code",
   "execution_count": 31,
   "metadata": {},
   "outputs": [],
   "source": [
    "import pandas as pd\n",
    "import numpy as np\n",
    "from sklearn import linear_model\n",
    "from sklearn import model_selection\n",
    "from sklearn.metrics import classification_report\n",
    "from sklearn.metrics import confusion_matrix\n",
    "from sklearn.metrics import accuracy_score\n",
    "import matplotlib.pyplot as plt\n",
    "import seaborn as sb"
   ]
  },
  {
   "cell_type": "code",
   "execution_count": 32,
   "metadata": {},
   "outputs": [
    {
     "data": {
      "text/html": [
       "<div>\n",
       "<style scoped>\n",
       "    .dataframe tbody tr th:only-of-type {\n",
       "        vertical-align: middle;\n",
       "    }\n",
       "\n",
       "    .dataframe tbody tr th {\n",
       "        vertical-align: top;\n",
       "    }\n",
       "\n",
       "    .dataframe thead th {\n",
       "        text-align: right;\n",
       "    }\n",
       "</style>\n",
       "<table border=\"1\" class=\"dataframe\">\n",
       "  <thead>\n",
       "    <tr style=\"text-align: right;\">\n",
       "      <th></th>\n",
       "      <th>NOUN_NOUN</th>\n",
       "      <th>NOUN_ADJ</th>\n",
       "      <th>NOUN_VERB</th>\n",
       "      <th>NOUN_ADV</th>\n",
       "      <th>ADJ_NOUN</th>\n",
       "      <th>ADJ_ADJ</th>\n",
       "      <th>ADJ_VERB</th>\n",
       "      <th>ADJ_ADV</th>\n",
       "      <th>VERB_NOUN</th>\n",
       "      <th>VERB_ADJ</th>\n",
       "      <th>...</th>\n",
       "      <th>Why</th>\n",
       "      <th>How</th>\n",
       "      <th>Additional information</th>\n",
       "      <th>Who_w</th>\n",
       "      <th>Where_w</th>\n",
       "      <th>When_w</th>\n",
       "      <th>What_w</th>\n",
       "      <th>Why_w</th>\n",
       "      <th>How_w</th>\n",
       "      <th>Additional information_w</th>\n",
       "    </tr>\n",
       "  </thead>\n",
       "  <tbody>\n",
       "    <tr>\n",
       "      <th>0</th>\n",
       "      <td>23.182777</td>\n",
       "      <td>0.000000</td>\n",
       "      <td>8.168021</td>\n",
       "      <td>0.00000</td>\n",
       "      <td>3.787637</td>\n",
       "      <td>0.000000</td>\n",
       "      <td>0.000000</td>\n",
       "      <td>0.00000</td>\n",
       "      <td>1.747140</td>\n",
       "      <td>0.00000</td>\n",
       "      <td>...</td>\n",
       "      <td>1.0</td>\n",
       "      <td>1.0</td>\n",
       "      <td>1.000000</td>\n",
       "      <td>3.637586</td>\n",
       "      <td>0.000000</td>\n",
       "      <td>0.0</td>\n",
       "      <td>2.564949</td>\n",
       "      <td>0.0</td>\n",
       "      <td>0.0</td>\n",
       "      <td>0.000000</td>\n",
       "    </tr>\n",
       "    <tr>\n",
       "      <th>1</th>\n",
       "      <td>22.942028</td>\n",
       "      <td>1.591551</td>\n",
       "      <td>2.134990</td>\n",
       "      <td>0.00000</td>\n",
       "      <td>0.000000</td>\n",
       "      <td>8.615627</td>\n",
       "      <td>0.000000</td>\n",
       "      <td>0.00000</td>\n",
       "      <td>6.468956</td>\n",
       "      <td>0.00000</td>\n",
       "      <td>...</td>\n",
       "      <td>1.0</td>\n",
       "      <td>1.0</td>\n",
       "      <td>0.699488</td>\n",
       "      <td>3.637586</td>\n",
       "      <td>0.000000</td>\n",
       "      <td>0.0</td>\n",
       "      <td>3.637586</td>\n",
       "      <td>0.0</td>\n",
       "      <td>0.0</td>\n",
       "      <td>3.637586</td>\n",
       "    </tr>\n",
       "    <tr>\n",
       "      <th>2</th>\n",
       "      <td>14.880619</td>\n",
       "      <td>1.824592</td>\n",
       "      <td>3.687874</td>\n",
       "      <td>0.00000</td>\n",
       "      <td>5.383794</td>\n",
       "      <td>0.000000</td>\n",
       "      <td>3.665578</td>\n",
       "      <td>0.00000</td>\n",
       "      <td>1.199861</td>\n",
       "      <td>0.00000</td>\n",
       "      <td>...</td>\n",
       "      <td>1.0</td>\n",
       "      <td>1.0</td>\n",
       "      <td>1.000000</td>\n",
       "      <td>3.637586</td>\n",
       "      <td>2.251292</td>\n",
       "      <td>0.0</td>\n",
       "      <td>2.538974</td>\n",
       "      <td>0.0</td>\n",
       "      <td>0.0</td>\n",
       "      <td>0.000000</td>\n",
       "    </tr>\n",
       "    <tr>\n",
       "      <th>3</th>\n",
       "      <td>6.220228</td>\n",
       "      <td>0.000000</td>\n",
       "      <td>1.236711</td>\n",
       "      <td>0.00000</td>\n",
       "      <td>2.620311</td>\n",
       "      <td>0.000000</td>\n",
       "      <td>0.000000</td>\n",
       "      <td>0.00000</td>\n",
       "      <td>3.244059</td>\n",
       "      <td>0.00000</td>\n",
       "      <td>...</td>\n",
       "      <td>1.0</td>\n",
       "      <td>1.0</td>\n",
       "      <td>1.000000</td>\n",
       "      <td>2.028148</td>\n",
       "      <td>0.000000</td>\n",
       "      <td>0.0</td>\n",
       "      <td>3.637586</td>\n",
       "      <td>0.0</td>\n",
       "      <td>0.0</td>\n",
       "      <td>0.000000</td>\n",
       "    </tr>\n",
       "    <tr>\n",
       "      <th>4</th>\n",
       "      <td>12.571067</td>\n",
       "      <td>0.000000</td>\n",
       "      <td>0.000000</td>\n",
       "      <td>0.00000</td>\n",
       "      <td>0.000000</td>\n",
       "      <td>0.000000</td>\n",
       "      <td>0.000000</td>\n",
       "      <td>0.00000</td>\n",
       "      <td>2.450579</td>\n",
       "      <td>0.00000</td>\n",
       "      <td>...</td>\n",
       "      <td>1.0</td>\n",
       "      <td>1.0</td>\n",
       "      <td>1.000000</td>\n",
       "      <td>3.637586</td>\n",
       "      <td>3.637586</td>\n",
       "      <td>0.0</td>\n",
       "      <td>2.251292</td>\n",
       "      <td>0.0</td>\n",
       "      <td>0.0</td>\n",
       "      <td>0.000000</td>\n",
       "    </tr>\n",
       "    <tr>\n",
       "      <th>...</th>\n",
       "      <td>...</td>\n",
       "      <td>...</td>\n",
       "      <td>...</td>\n",
       "      <td>...</td>\n",
       "      <td>...</td>\n",
       "      <td>...</td>\n",
       "      <td>...</td>\n",
       "      <td>...</td>\n",
       "      <td>...</td>\n",
       "      <td>...</td>\n",
       "      <td>...</td>\n",
       "      <td>...</td>\n",
       "      <td>...</td>\n",
       "      <td>...</td>\n",
       "      <td>...</td>\n",
       "      <td>...</td>\n",
       "      <td>...</td>\n",
       "      <td>...</td>\n",
       "      <td>...</td>\n",
       "      <td>...</td>\n",
       "      <td>...</td>\n",
       "    </tr>\n",
       "    <tr>\n",
       "      <th>95</th>\n",
       "      <td>16.506134</td>\n",
       "      <td>3.235250</td>\n",
       "      <td>0.000000</td>\n",
       "      <td>0.00000</td>\n",
       "      <td>0.000000</td>\n",
       "      <td>5.424360</td>\n",
       "      <td>0.000000</td>\n",
       "      <td>0.00000</td>\n",
       "      <td>1.057925</td>\n",
       "      <td>1.00428</td>\n",
       "      <td>...</td>\n",
       "      <td>1.0</td>\n",
       "      <td>1.0</td>\n",
       "      <td>1.000000</td>\n",
       "      <td>3.637586</td>\n",
       "      <td>0.000000</td>\n",
       "      <td>0.0</td>\n",
       "      <td>3.637586</td>\n",
       "      <td>0.0</td>\n",
       "      <td>0.0</td>\n",
       "      <td>0.000000</td>\n",
       "    </tr>\n",
       "    <tr>\n",
       "      <th>96</th>\n",
       "      <td>11.299096</td>\n",
       "      <td>0.000000</td>\n",
       "      <td>0.000000</td>\n",
       "      <td>0.00000</td>\n",
       "      <td>5.716955</td>\n",
       "      <td>0.000000</td>\n",
       "      <td>0.000000</td>\n",
       "      <td>0.00000</td>\n",
       "      <td>0.000000</td>\n",
       "      <td>0.00000</td>\n",
       "      <td>...</td>\n",
       "      <td>1.0</td>\n",
       "      <td>1.0</td>\n",
       "      <td>1.000000</td>\n",
       "      <td>3.637586</td>\n",
       "      <td>0.000000</td>\n",
       "      <td>0.0</td>\n",
       "      <td>3.637586</td>\n",
       "      <td>0.0</td>\n",
       "      <td>0.0</td>\n",
       "      <td>0.000000</td>\n",
       "    </tr>\n",
       "    <tr>\n",
       "      <th>97</th>\n",
       "      <td>5.297839</td>\n",
       "      <td>0.000000</td>\n",
       "      <td>5.138863</td>\n",
       "      <td>0.00000</td>\n",
       "      <td>0.000000</td>\n",
       "      <td>0.000000</td>\n",
       "      <td>0.000000</td>\n",
       "      <td>0.00000</td>\n",
       "      <td>1.224579</td>\n",
       "      <td>0.00000</td>\n",
       "      <td>...</td>\n",
       "      <td>1.0</td>\n",
       "      <td>1.0</td>\n",
       "      <td>1.000000</td>\n",
       "      <td>3.637586</td>\n",
       "      <td>0.000000</td>\n",
       "      <td>0.0</td>\n",
       "      <td>3.637586</td>\n",
       "      <td>0.0</td>\n",
       "      <td>0.0</td>\n",
       "      <td>0.000000</td>\n",
       "    </tr>\n",
       "    <tr>\n",
       "      <th>98</th>\n",
       "      <td>7.110450</td>\n",
       "      <td>0.000000</td>\n",
       "      <td>0.000000</td>\n",
       "      <td>0.00000</td>\n",
       "      <td>0.000000</td>\n",
       "      <td>0.000000</td>\n",
       "      <td>0.000000</td>\n",
       "      <td>0.00000</td>\n",
       "      <td>2.450452</td>\n",
       "      <td>0.00000</td>\n",
       "      <td>...</td>\n",
       "      <td>1.0</td>\n",
       "      <td>1.0</td>\n",
       "      <td>1.000000</td>\n",
       "      <td>3.637586</td>\n",
       "      <td>0.000000</td>\n",
       "      <td>0.0</td>\n",
       "      <td>2.564949</td>\n",
       "      <td>0.0</td>\n",
       "      <td>0.0</td>\n",
       "      <td>0.000000</td>\n",
       "    </tr>\n",
       "    <tr>\n",
       "      <th>99</th>\n",
       "      <td>12.458813</td>\n",
       "      <td>0.000000</td>\n",
       "      <td>0.000000</td>\n",
       "      <td>1.13914</td>\n",
       "      <td>2.598276</td>\n",
       "      <td>0.000000</td>\n",
       "      <td>0.000000</td>\n",
       "      <td>1.18074</td>\n",
       "      <td>3.726410</td>\n",
       "      <td>0.00000</td>\n",
       "      <td>...</td>\n",
       "      <td>1.0</td>\n",
       "      <td>1.0</td>\n",
       "      <td>1.000000</td>\n",
       "      <td>3.637586</td>\n",
       "      <td>0.000000</td>\n",
       "      <td>0.0</td>\n",
       "      <td>2.564949</td>\n",
       "      <td>0.0</td>\n",
       "      <td>0.0</td>\n",
       "      <td>0.000000</td>\n",
       "    </tr>\n",
       "  </tbody>\n",
       "</table>\n",
       "<p>100 rows × 31 columns</p>\n",
       "</div>"
      ],
      "text/plain": [
       "    NOUN_NOUN  NOUN_ADJ  NOUN_VERB  NOUN_ADV  ADJ_NOUN   ADJ_ADJ  ADJ_VERB  \\\n",
       "0   23.182777  0.000000   8.168021   0.00000  3.787637  0.000000  0.000000   \n",
       "1   22.942028  1.591551   2.134990   0.00000  0.000000  8.615627  0.000000   \n",
       "2   14.880619  1.824592   3.687874   0.00000  5.383794  0.000000  3.665578   \n",
       "3    6.220228  0.000000   1.236711   0.00000  2.620311  0.000000  0.000000   \n",
       "4   12.571067  0.000000   0.000000   0.00000  0.000000  0.000000  0.000000   \n",
       "..        ...       ...        ...       ...       ...       ...       ...   \n",
       "95  16.506134  3.235250   0.000000   0.00000  0.000000  5.424360  0.000000   \n",
       "96  11.299096  0.000000   0.000000   0.00000  5.716955  0.000000  0.000000   \n",
       "97   5.297839  0.000000   5.138863   0.00000  0.000000  0.000000  0.000000   \n",
       "98   7.110450  0.000000   0.000000   0.00000  0.000000  0.000000  0.000000   \n",
       "99  12.458813  0.000000   0.000000   1.13914  2.598276  0.000000  0.000000   \n",
       "\n",
       "    ADJ_ADV  VERB_NOUN  VERB_ADJ  ...  Why  How  Additional information  \\\n",
       "0   0.00000   1.747140   0.00000  ...  1.0  1.0                1.000000   \n",
       "1   0.00000   6.468956   0.00000  ...  1.0  1.0                0.699488   \n",
       "2   0.00000   1.199861   0.00000  ...  1.0  1.0                1.000000   \n",
       "3   0.00000   3.244059   0.00000  ...  1.0  1.0                1.000000   \n",
       "4   0.00000   2.450579   0.00000  ...  1.0  1.0                1.000000   \n",
       "..      ...        ...       ...  ...  ...  ...                     ...   \n",
       "95  0.00000   1.057925   1.00428  ...  1.0  1.0                1.000000   \n",
       "96  0.00000   0.000000   0.00000  ...  1.0  1.0                1.000000   \n",
       "97  0.00000   1.224579   0.00000  ...  1.0  1.0                1.000000   \n",
       "98  0.00000   2.450452   0.00000  ...  1.0  1.0                1.000000   \n",
       "99  1.18074   3.726410   0.00000  ...  1.0  1.0                1.000000   \n",
       "\n",
       "       Who_w   Where_w  When_w    What_w  Why_w  How_w  \\\n",
       "0   3.637586  0.000000     0.0  2.564949    0.0    0.0   \n",
       "1   3.637586  0.000000     0.0  3.637586    0.0    0.0   \n",
       "2   3.637586  2.251292     0.0  2.538974    0.0    0.0   \n",
       "3   2.028148  0.000000     0.0  3.637586    0.0    0.0   \n",
       "4   3.637586  3.637586     0.0  2.251292    0.0    0.0   \n",
       "..       ...       ...     ...       ...    ...    ...   \n",
       "95  3.637586  0.000000     0.0  3.637586    0.0    0.0   \n",
       "96  3.637586  0.000000     0.0  3.637586    0.0    0.0   \n",
       "97  3.637586  0.000000     0.0  3.637586    0.0    0.0   \n",
       "98  3.637586  0.000000     0.0  2.564949    0.0    0.0   \n",
       "99  3.637586  0.000000     0.0  2.564949    0.0    0.0   \n",
       "\n",
       "    Additional information_w  \n",
       "0                   0.000000  \n",
       "1                   3.637586  \n",
       "2                   0.000000  \n",
       "3                   0.000000  \n",
       "4                   0.000000  \n",
       "..                       ...  \n",
       "95                  0.000000  \n",
       "96                  0.000000  \n",
       "97                  0.000000  \n",
       "98                  0.000000  \n",
       "99                  0.000000  \n",
       "\n",
       "[100 rows x 31 columns]"
      ]
     },
     "execution_count": 32,
     "metadata": {},
     "output_type": "execute_result"
    }
   ],
   "source": [
    "#dataframe = pd.read_csv(r\"indicadoresTipoPalabra_suma_CLASS.csv\")\n",
    "#dataframe = pd.read_csv(r\"indicadoresTipoPalabra_umbral1_CLASS.csv\")\n",
    "dataframe = pd.read_csv(r\"indicadoresTipoPalabra_umbral1_no_mean_SentenceBERT_Wordnet5w2H_CLASS.csv\",low_memory=False)\n",
    "dataframe"
   ]
  },
  {
   "cell_type": "code",
   "execution_count": 33,
   "metadata": {},
   "outputs": [
    {
     "data": {
      "text/html": [
       "<div>\n",
       "<style scoped>\n",
       "    .dataframe tbody tr th:only-of-type {\n",
       "        vertical-align: middle;\n",
       "    }\n",
       "\n",
       "    .dataframe tbody tr th {\n",
       "        vertical-align: top;\n",
       "    }\n",
       "\n",
       "    .dataframe thead th {\n",
       "        text-align: right;\n",
       "    }\n",
       "</style>\n",
       "<table border=\"1\" class=\"dataframe\">\n",
       "  <thead>\n",
       "    <tr style=\"text-align: right;\">\n",
       "      <th></th>\n",
       "      <th>NOUN_NOUN</th>\n",
       "      <th>NOUN_ADJ</th>\n",
       "      <th>NOUN_VERB</th>\n",
       "      <th>NOUN_ADV</th>\n",
       "      <th>ADJ_NOUN</th>\n",
       "      <th>ADJ_ADJ</th>\n",
       "      <th>ADJ_VERB</th>\n",
       "      <th>ADJ_ADV</th>\n",
       "      <th>VERB_NOUN</th>\n",
       "      <th>VERB_ADJ</th>\n",
       "      <th>...</th>\n",
       "      <th>Why</th>\n",
       "      <th>How</th>\n",
       "      <th>Additional information</th>\n",
       "      <th>Who_w</th>\n",
       "      <th>Where_w</th>\n",
       "      <th>When_w</th>\n",
       "      <th>What_w</th>\n",
       "      <th>Why_w</th>\n",
       "      <th>How_w</th>\n",
       "      <th>Additional information_w</th>\n",
       "    </tr>\n",
       "  </thead>\n",
       "  <tbody>\n",
       "    <tr>\n",
       "      <th>count</th>\n",
       "      <td>100.000000</td>\n",
       "      <td>100.000000</td>\n",
       "      <td>100.000000</td>\n",
       "      <td>100.000000</td>\n",
       "      <td>100.000000</td>\n",
       "      <td>100.000000</td>\n",
       "      <td>100.000000</td>\n",
       "      <td>100.000000</td>\n",
       "      <td>100.000000</td>\n",
       "      <td>100.000000</td>\n",
       "      <td>...</td>\n",
       "      <td>100.000000</td>\n",
       "      <td>100.000000</td>\n",
       "      <td>100.000000</td>\n",
       "      <td>100.000000</td>\n",
       "      <td>100.000000</td>\n",
       "      <td>100.000000</td>\n",
       "      <td>100.000000</td>\n",
       "      <td>100.000000</td>\n",
       "      <td>100.000000</td>\n",
       "      <td>100.000000</td>\n",
       "    </tr>\n",
       "    <tr>\n",
       "      <th>mean</th>\n",
       "      <td>15.933630</td>\n",
       "      <td>1.420933</td>\n",
       "      <td>2.266566</td>\n",
       "      <td>0.487803</td>\n",
       "      <td>3.229856</td>\n",
       "      <td>1.398877</td>\n",
       "      <td>0.406870</td>\n",
       "      <td>0.277978</td>\n",
       "      <td>2.540163</td>\n",
       "      <td>0.193960</td>\n",
       "      <td>...</td>\n",
       "      <td>0.908617</td>\n",
       "      <td>0.860216</td>\n",
       "      <td>0.870180</td>\n",
       "      <td>3.216180</td>\n",
       "      <td>0.952474</td>\n",
       "      <td>0.083880</td>\n",
       "      <td>2.465364</td>\n",
       "      <td>0.155714</td>\n",
       "      <td>0.248701</td>\n",
       "      <td>0.405521</td>\n",
       "    </tr>\n",
       "    <tr>\n",
       "      <th>std</th>\n",
       "      <td>11.844145</td>\n",
       "      <td>2.745811</td>\n",
       "      <td>3.052742</td>\n",
       "      <td>1.744622</td>\n",
       "      <td>4.718448</td>\n",
       "      <td>3.249229</td>\n",
       "      <td>1.306758</td>\n",
       "      <td>1.370748</td>\n",
       "      <td>3.315508</td>\n",
       "      <td>0.646068</td>\n",
       "      <td>...</td>\n",
       "      <td>0.259196</td>\n",
       "      <td>0.309860</td>\n",
       "      <td>0.293922</td>\n",
       "      <td>0.979224</td>\n",
       "      <td>1.417860</td>\n",
       "      <td>0.492678</td>\n",
       "      <td>1.268416</td>\n",
       "      <td>0.691334</td>\n",
       "      <td>0.747393</td>\n",
       "      <td>1.052825</td>\n",
       "    </tr>\n",
       "    <tr>\n",
       "      <th>min</th>\n",
       "      <td>0.000000</td>\n",
       "      <td>0.000000</td>\n",
       "      <td>0.000000</td>\n",
       "      <td>0.000000</td>\n",
       "      <td>0.000000</td>\n",
       "      <td>0.000000</td>\n",
       "      <td>0.000000</td>\n",
       "      <td>0.000000</td>\n",
       "      <td>0.000000</td>\n",
       "      <td>0.000000</td>\n",
       "      <td>...</td>\n",
       "      <td>-0.009505</td>\n",
       "      <td>0.026425</td>\n",
       "      <td>-0.013459</td>\n",
       "      <td>0.000000</td>\n",
       "      <td>0.000000</td>\n",
       "      <td>0.000000</td>\n",
       "      <td>0.000000</td>\n",
       "      <td>0.000000</td>\n",
       "      <td>0.000000</td>\n",
       "      <td>0.000000</td>\n",
       "    </tr>\n",
       "    <tr>\n",
       "      <th>25%</th>\n",
       "      <td>8.934640</td>\n",
       "      <td>0.000000</td>\n",
       "      <td>0.000000</td>\n",
       "      <td>0.000000</td>\n",
       "      <td>0.000000</td>\n",
       "      <td>0.000000</td>\n",
       "      <td>0.000000</td>\n",
       "      <td>0.000000</td>\n",
       "      <td>0.000000</td>\n",
       "      <td>0.000000</td>\n",
       "      <td>...</td>\n",
       "      <td>1.000000</td>\n",
       "      <td>1.000000</td>\n",
       "      <td>1.000000</td>\n",
       "      <td>3.637586</td>\n",
       "      <td>0.000000</td>\n",
       "      <td>0.000000</td>\n",
       "      <td>1.871802</td>\n",
       "      <td>0.000000</td>\n",
       "      <td>0.000000</td>\n",
       "      <td>0.000000</td>\n",
       "    </tr>\n",
       "    <tr>\n",
       "      <th>50%</th>\n",
       "      <td>12.463868</td>\n",
       "      <td>0.000000</td>\n",
       "      <td>1.342973</td>\n",
       "      <td>0.000000</td>\n",
       "      <td>1.779214</td>\n",
       "      <td>0.000000</td>\n",
       "      <td>0.000000</td>\n",
       "      <td>0.000000</td>\n",
       "      <td>1.592038</td>\n",
       "      <td>0.000000</td>\n",
       "      <td>...</td>\n",
       "      <td>1.000000</td>\n",
       "      <td>1.000000</td>\n",
       "      <td>1.000000</td>\n",
       "      <td>3.637586</td>\n",
       "      <td>0.000000</td>\n",
       "      <td>0.000000</td>\n",
       "      <td>2.564949</td>\n",
       "      <td>0.000000</td>\n",
       "      <td>0.000000</td>\n",
       "      <td>0.000000</td>\n",
       "    </tr>\n",
       "    <tr>\n",
       "      <th>75%</th>\n",
       "      <td>19.832999</td>\n",
       "      <td>2.225710</td>\n",
       "      <td>3.601139</td>\n",
       "      <td>0.000000</td>\n",
       "      <td>3.795642</td>\n",
       "      <td>0.000000</td>\n",
       "      <td>0.000000</td>\n",
       "      <td>0.000000</td>\n",
       "      <td>3.260690</td>\n",
       "      <td>0.000000</td>\n",
       "      <td>...</td>\n",
       "      <td>1.000000</td>\n",
       "      <td>1.000000</td>\n",
       "      <td>1.000000</td>\n",
       "      <td>3.637586</td>\n",
       "      <td>1.730214</td>\n",
       "      <td>0.000000</td>\n",
       "      <td>3.637586</td>\n",
       "      <td>0.000000</td>\n",
       "      <td>0.000000</td>\n",
       "      <td>0.000000</td>\n",
       "    </tr>\n",
       "    <tr>\n",
       "      <th>max</th>\n",
       "      <td>69.723298</td>\n",
       "      <td>15.646733</td>\n",
       "      <td>19.075915</td>\n",
       "      <td>11.812714</td>\n",
       "      <td>25.429739</td>\n",
       "      <td>17.176733</td>\n",
       "      <td>8.096021</td>\n",
       "      <td>10.670149</td>\n",
       "      <td>17.773756</td>\n",
       "      <td>5.053692</td>\n",
       "      <td>...</td>\n",
       "      <td>1.000000</td>\n",
       "      <td>1.000000</td>\n",
       "      <td>1.000000</td>\n",
       "      <td>3.637586</td>\n",
       "      <td>3.637586</td>\n",
       "      <td>3.258097</td>\n",
       "      <td>3.637586</td>\n",
       "      <td>3.637586</td>\n",
       "      <td>3.637586</td>\n",
       "      <td>3.637586</td>\n",
       "    </tr>\n",
       "  </tbody>\n",
       "</table>\n",
       "<p>8 rows × 30 columns</p>\n",
       "</div>"
      ],
      "text/plain": [
       "        NOUN_NOUN    NOUN_ADJ   NOUN_VERB    NOUN_ADV    ADJ_NOUN     ADJ_ADJ  \\\n",
       "count  100.000000  100.000000  100.000000  100.000000  100.000000  100.000000   \n",
       "mean    15.933630    1.420933    2.266566    0.487803    3.229856    1.398877   \n",
       "std     11.844145    2.745811    3.052742    1.744622    4.718448    3.249229   \n",
       "min      0.000000    0.000000    0.000000    0.000000    0.000000    0.000000   \n",
       "25%      8.934640    0.000000    0.000000    0.000000    0.000000    0.000000   \n",
       "50%     12.463868    0.000000    1.342973    0.000000    1.779214    0.000000   \n",
       "75%     19.832999    2.225710    3.601139    0.000000    3.795642    0.000000   \n",
       "max     69.723298   15.646733   19.075915   11.812714   25.429739   17.176733   \n",
       "\n",
       "         ADJ_VERB     ADJ_ADV   VERB_NOUN    VERB_ADJ  ...         Why  \\\n",
       "count  100.000000  100.000000  100.000000  100.000000  ...  100.000000   \n",
       "mean     0.406870    0.277978    2.540163    0.193960  ...    0.908617   \n",
       "std      1.306758    1.370748    3.315508    0.646068  ...    0.259196   \n",
       "min      0.000000    0.000000    0.000000    0.000000  ...   -0.009505   \n",
       "25%      0.000000    0.000000    0.000000    0.000000  ...    1.000000   \n",
       "50%      0.000000    0.000000    1.592038    0.000000  ...    1.000000   \n",
       "75%      0.000000    0.000000    3.260690    0.000000  ...    1.000000   \n",
       "max      8.096021   10.670149   17.773756    5.053692  ...    1.000000   \n",
       "\n",
       "              How  Additional information       Who_w     Where_w      When_w  \\\n",
       "count  100.000000              100.000000  100.000000  100.000000  100.000000   \n",
       "mean     0.860216                0.870180    3.216180    0.952474    0.083880   \n",
       "std      0.309860                0.293922    0.979224    1.417860    0.492678   \n",
       "min      0.026425               -0.013459    0.000000    0.000000    0.000000   \n",
       "25%      1.000000                1.000000    3.637586    0.000000    0.000000   \n",
       "50%      1.000000                1.000000    3.637586    0.000000    0.000000   \n",
       "75%      1.000000                1.000000    3.637586    1.730214    0.000000   \n",
       "max      1.000000                1.000000    3.637586    3.637586    3.258097   \n",
       "\n",
       "           What_w       Why_w       How_w  Additional information_w  \n",
       "count  100.000000  100.000000  100.000000                100.000000  \n",
       "mean     2.465364    0.155714    0.248701                  0.405521  \n",
       "std      1.268416    0.691334    0.747393                  1.052825  \n",
       "min      0.000000    0.000000    0.000000                  0.000000  \n",
       "25%      1.871802    0.000000    0.000000                  0.000000  \n",
       "50%      2.564949    0.000000    0.000000                  0.000000  \n",
       "75%      3.637586    0.000000    0.000000                  0.000000  \n",
       "max      3.637586    3.637586    3.637586                  3.637586  \n",
       "\n",
       "[8 rows x 30 columns]"
      ]
     },
     "execution_count": 33,
     "metadata": {},
     "output_type": "execute_result"
    }
   ],
   "source": [
    "dataframe.describe()"
   ]
  },
  {
   "cell_type": "code",
   "execution_count": 34,
   "metadata": {},
   "outputs": [
    {
     "name": "stdout",
     "output_type": "stream",
     "text": [
      "CLASS\n",
      "contradiction    27\n",
      "entailment       42\n",
      "neutral          31\n",
      "dtype: int64\n"
     ]
    }
   ],
   "source": [
    "print(dataframe.groupby('CLASS').size())"
   ]
  },
  {
   "cell_type": "code",
   "execution_count": 35,
   "metadata": {},
   "outputs": [
    {
     "data": {
      "image/png": "[encoded data removed]",
      "text/plain": [
       "<Figure size 1440x720 with 30 Axes>"
      ]
     },
     "metadata": {
      "needs_background": "light"
     },
     "output_type": "display_data"
    }
   ],
   "source": [
    "dataframe.hist(figsize=(20,10))\n",
    "plt.show()"
   ]
  },
  {
   "cell_type": "code",
   "execution_count": 36,
   "metadata": {},
   "outputs": [],
   "source": [
    "labels=['NOUN_NOUN',\n",
    " 'NOUN_ADJ',\n",
    " 'NOUN_VERB',\n",
    " 'NOUN_ADV',\n",
    " 'ADJ_NOUN',\n",
    " 'ADJ_ADJ',\n",
    " 'ADJ_VERB',\n",
    " 'ADJ_ADV',\n",
    " 'VERB_NOUN',\n",
    " 'VERB_ADJ',\n",
    " 'VERB_VERB',\n",
    " 'VERB_ADV',\n",
    " 'ADV_NOUN',\n",
    " 'ADV_ADJ',\n",
    " 'ADV_VERB',\n",
    " 'ADV_ADV']"
   ]
  },
  {
   "cell_type": "code",
   "execution_count": 37,
   "metadata": {},
   "outputs": [],
   "source": [
    "#sb.pairplot(dataframe.dropna(), hue='CLASS',size=4,vars=labels,kind='reg')"
   ]
  },
  {
   "cell_type": "code",
   "execution_count": 38,
   "metadata": {},
   "outputs": [
    {
     "name": "stderr",
     "output_type": "stream",
     "text": [
      "/tmp/ipykernel_113234/1802400925.py:1: FutureWarning: In a future version of pandas all arguments of DataFrame.drop except for the argument 'labels' will be keyword-only.\n",
      "  X = np.array(dataframe.drop(['CLASS'],1))\n",
      "/tmp/ipykernel_113234/1802400925.py:2: FutureWarning: In a future version of pandas all arguments of DataFrame.drop except for the argument 'labels' will be keyword-only.\n",
      "  X_test = np.array(dataframe.drop(['CLASS'],1))\n"
     ]
    },
    {
     "data": {
      "text/plain": [
       "(100, 30)"
      ]
     },
     "execution_count": 38,
     "metadata": {},
     "output_type": "execute_result"
    }
   ],
   "source": [
    "X = np.array(dataframe.drop(['CLASS'],1))\n",
    "X_test = np.array(dataframe.drop(['CLASS'],1))\n",
    "y = np.array(dataframe['CLASS'])\n",
    "y_test =np.array(dataframe['CLASS'])\n",
    "X.shape"
   ]
  },
  {
   "cell_type": "code",
   "execution_count": 39,
   "metadata": {},
   "outputs": [
    {
     "data": {
      "text/plain": [
       "array(['entailment', 'entailment', 'contradiction', 'contradiction',\n",
       "       'neutral', 'neutral', 'neutral', 'entailment', 'neutral',\n",
       "       'entailment', 'neutral', 'contradiction', 'entailment',\n",
       "       'contradiction', 'neutral', 'neutral', 'entailment',\n",
       "       'contradiction', 'contradiction', 'entailment', 'entailment',\n",
       "       'entailment', 'neutral', 'contradiction', 'entailment', 'neutral',\n",
       "       'entailment', 'entailment', 'entailment', 'neutral', 'neutral',\n",
       "       'contradiction', 'contradiction', 'entailment', 'contradiction',\n",
       "       'neutral', 'entailment', 'neutral', 'neutral', 'entailment',\n",
       "       'neutral', 'neutral', 'contradiction', 'neutral', 'entailment',\n",
       "       'neutral', 'neutral', 'entailment', 'contradiction', 'neutral',\n",
       "       'entailment', 'entailment', 'neutral', 'entailment',\n",
       "       'contradiction', 'entailment', 'entailment', 'neutral', 'neutral',\n",
       "       'neutral', 'neutral', 'neutral', 'neutral', 'entailment',\n",
       "       'entailment', 'contradiction', 'entailment', 'entailment',\n",
       "       'neutral', 'contradiction', 'entailment', 'contradiction',\n",
       "       'contradiction', 'contradiction', 'neutral', 'entailment',\n",
       "       'entailment', 'entailment', 'entailment', 'contradiction',\n",
       "       'neutral', 'entailment', 'entailment', 'entailment',\n",
       "       'contradiction', 'entailment', 'entailment', 'entailment',\n",
       "       'contradiction', 'contradiction', 'contradiction', 'neutral',\n",
       "       'entailment', 'entailment', 'contradiction', 'entailment',\n",
       "       'entailment', 'contradiction', 'contradiction', 'contradiction'],\n",
       "      dtype=object)"
      ]
     },
     "execution_count": 39,
     "metadata": {},
     "output_type": "execute_result"
    }
   ],
   "source": [
    "y_test"
   ]
  },
  {
   "cell_type": "code",
   "execution_count": 40,
   "metadata": {},
   "outputs": [
    {
     "data": {
      "text/plain": [
       "array(['entailment', 'entailment', 'contradiction', 'contradiction',\n",
       "       'neutral', 'neutral', 'neutral', 'entailment', 'neutral',\n",
       "       'entailment', 'neutral', 'contradiction', 'entailment',\n",
       "       'contradiction', 'neutral', 'neutral', 'entailment',\n",
       "       'contradiction', 'contradiction', 'entailment', 'entailment',\n",
       "       'entailment', 'neutral', 'contradiction', 'entailment', 'neutral',\n",
       "       'entailment', 'entailment', 'entailment', 'neutral', 'neutral',\n",
       "       'contradiction', 'contradiction', 'entailment', 'contradiction',\n",
       "       'neutral', 'entailment', 'neutral', 'neutral', 'entailment',\n",
       "       'neutral', 'neutral', 'contradiction', 'neutral', 'entailment',\n",
       "       'neutral', 'neutral', 'entailment', 'contradiction', 'neutral',\n",
       "       'entailment', 'entailment', 'neutral', 'entailment',\n",
       "       'contradiction', 'entailment', 'entailment', 'neutral', 'neutral',\n",
       "       'neutral', 'neutral', 'neutral', 'neutral', 'entailment',\n",
       "       'entailment', 'contradiction', 'entailment', 'entailment',\n",
       "       'neutral', 'contradiction', 'entailment', 'contradiction',\n",
       "       'contradiction', 'contradiction', 'neutral', 'entailment',\n",
       "       'entailment', 'entailment', 'entailment', 'contradiction',\n",
       "       'neutral', 'entailment', 'entailment', 'entailment',\n",
       "       'contradiction', 'entailment', 'entailment', 'entailment',\n",
       "       'contradiction', 'contradiction', 'contradiction', 'neutral',\n",
       "       'entailment', 'entailment', 'contradiction', 'entailment',\n",
       "       'entailment', 'contradiction', 'contradiction', 'contradiction'],\n",
       "      dtype=object)"
      ]
     },
     "execution_count": 40,
     "metadata": {},
     "output_type": "execute_result"
    }
   ],
   "source": [
    "y"
   ]
  },
  {
   "cell_type": "code",
   "execution_count": 41,
   "metadata": {},
   "outputs": [
    {
     "name": "stderr",
     "output_type": "stream",
     "text": [
      "/home/david/.local/lib/python3.8/site-packages/sklearn/linear_model/_logistic.py:458: ConvergenceWarning: lbfgs failed to converge (status=1):\n",
      "STOP: TOTAL NO. of ITERATIONS REACHED LIMIT.\n",
      "\n",
      "Increase the number of iterations (max_iter) or scale the data as shown in:\n",
      "    https://scikit-learn.org/stable/modules/preprocessing.html\n",
      "Please also refer to the documentation for alternative solver options:\n",
      "    https://scikit-learn.org/stable/modules/linear_model.html#logistic-regression\n",
      "  n_iter_i = _check_optimize_result(\n"
     ]
    },
    {
     "data": {
      "text/html": [
       "<style>#sk-container-id-2 {color: black;background-color: white;}#sk-container-id-2 pre{padding: 0;}#sk-container-id-2 div.sk-toggleable {background-color: white;}#sk-container-id-2 label.sk-toggleable__label {cursor: pointer;display: block;width: 100%;margin-bottom: 0;padding: 0.3em;box-sizing: border-box;text-align: center;}#sk-container-id-2 label.sk-toggleable__label-arrow:before {content: \"▸\";float: left;margin-right: 0.25em;color: #696969;}#sk-container-id-2 label.sk-toggleable__label-arrow:hover:before {color: black;}#sk-container-id-2 div.sk-estimator:hover label.sk-toggleable__label-arrow:before {color: black;}#sk-container-id-2 div.sk-toggleable__content {max-height: 0;max-width: 0;overflow: hidden;text-align: left;background-color: #f0f8ff;}#sk-container-id-2 div.sk-toggleable__content pre {margin: 0.2em;color: black;border-radius: 0.25em;background-color: #f0f8ff;}#sk-container-id-2 input.sk-toggleable__control:checked~div.sk-toggleable__content {max-height: 200px;max-width: 100%;overflow: auto;}#sk-container-id-2 input.sk-toggleable__control:checked~label.sk-toggleable__label-arrow:before {content: \"▾\";}#sk-container-id-2 div.sk-estimator input.sk-toggleable__control:checked~label.sk-toggleable__label {background-color: #d4ebff;}#sk-container-id-2 div.sk-label input.sk-toggleable__control:checked~label.sk-toggleable__label {background-color: #d4ebff;}#sk-container-id-2 input.sk-hidden--visually {border: 0;clip: rect(1px 1px 1px 1px);clip: rect(1px, 1px, 1px, 1px);height: 1px;margin: -1px;overflow: hidden;padding: 0;position: absolute;width: 1px;}#sk-container-id-2 div.sk-estimator {font-family: monospace;background-color: #f0f8ff;border: 1px dotted black;border-radius: 0.25em;box-sizing: border-box;margin-bottom: 0.5em;}#sk-container-id-2 div.sk-estimator:hover {background-color: #d4ebff;}#sk-container-id-2 div.sk-parallel-item::after {content: \"\";width: 100%;border-bottom: 1px solid gray;flex-grow: 1;}#sk-container-id-2 div.sk-label:hover label.sk-toggleable__label {background-color: #d4ebff;}#sk-container-id-2 div.sk-serial::before {content: \"\";position: absolute;border-left: 1px solid gray;box-sizing: border-box;top: 0;bottom: 0;left: 50%;z-index: 0;}#sk-container-id-2 div.sk-serial {display: flex;flex-direction: column;align-items: center;background-color: white;padding-right: 0.2em;padding-left: 0.2em;position: relative;}#sk-container-id-2 div.sk-item {position: relative;z-index: 1;}#sk-container-id-2 div.sk-parallel {display: flex;align-items: stretch;justify-content: center;background-color: white;position: relative;}#sk-container-id-2 div.sk-item::before, #sk-container-id-2 div.sk-parallel-item::before {content: \"\";position: absolute;border-left: 1px solid gray;box-sizing: border-box;top: 0;bottom: 0;left: 50%;z-index: -1;}#sk-container-id-2 div.sk-parallel-item {display: flex;flex-direction: column;z-index: 1;position: relative;background-color: white;}#sk-container-id-2 div.sk-parallel-item:first-child::after {align-self: flex-end;width: 50%;}#sk-container-id-2 div.sk-parallel-item:last-child::after {align-self: flex-start;width: 50%;}#sk-container-id-2 div.sk-parallel-item:only-child::after {width: 0;}#sk-container-id-2 div.sk-dashed-wrapped {border: 1px dashed gray;margin: 0 0.4em 0.5em 0.4em;box-sizing: border-box;padding-bottom: 0.4em;background-color: white;}#sk-container-id-2 div.sk-label label {font-family: monospace;font-weight: bold;display: inline-block;line-height: 1.2em;}#sk-container-id-2 div.sk-label-container {text-align: center;}#sk-container-id-2 div.sk-container {/* jupyter's `normalize.less` sets `[hidden] { display: none; }` but bootstrap.min.css set `[hidden] { display: none !important; }` so we also need the `!important` here to be able to override the default hidden behavior on the sphinx rendered scikit-learn.org. See: https://github.com/scikit-learn/scikit-learn/issues/21755 */display: inline-block !important;position: relative;}#sk-container-id-2 div.sk-text-repr-fallback {display: none;}</style><div id=\"sk-container-id-2\" class=\"sk-top-container\"><div class=\"sk-text-repr-fallback\"><pre>LogisticRegression(C=0.1)</pre><b>In a Jupyter environment, please rerun this cell to show the HTML representation or trust the notebook. <br />On GitHub, the HTML representation is unable to render, please try loading this page with nbviewer.org.</b></div><div class=\"sk-container\" hidden><div class=\"sk-item\"><div class=\"sk-estimator sk-toggleable\"><input class=\"sk-toggleable__control sk-hidden--visually\" id=\"sk-estimator-id-2\" type=\"checkbox\" checked><label for=\"sk-estimator-id-2\" class=\"sk-toggleable__label sk-toggleable__label-arrow\">LogisticRegression</label><div class=\"sk-toggleable__content\"><pre>LogisticRegression(C=0.1)</pre></div></div></div></div></div>"
      ],
      "text/plain": [
       "LogisticRegression(C=0.1)"
      ]
     },
     "execution_count": 41,
     "metadata": {},
     "output_type": "execute_result"
    }
   ],
   "source": [
    "model = linear_model.LogisticRegression(penalty=\"l2\", C=0.1)\n",
    "model.fit(X,y)"
   ]
  },
  {
   "cell_type": "code",
   "execution_count": 42,
   "metadata": {},
   "outputs": [
    {
     "data": {
      "text/plain": [
       "{'C': 0.1,\n",
       " 'class_weight': None,\n",
       " 'dual': False,\n",
       " 'fit_intercept': True,\n",
       " 'intercept_scaling': 1,\n",
       " 'l1_ratio': None,\n",
       " 'max_iter': 100,\n",
       " 'multi_class': 'auto',\n",
       " 'n_jobs': None,\n",
       " 'penalty': 'l2',\n",
       " 'random_state': None,\n",
       " 'solver': 'lbfgs',\n",
       " 'tol': 0.0001,\n",
       " 'verbose': 0,\n",
       " 'warm_start': False}"
      ]
     },
     "execution_count": 42,
     "metadata": {},
     "output_type": "execute_result"
    }
   ],
   "source": [
    "model.get_params()"
   ]
  },
  {
   "cell_type": "code",
   "execution_count": 43,
   "metadata": {},
   "outputs": [
    {
     "data": {
      "text/plain": [
       "array([[ 4.13288869e-01,  7.71838475e-01, -1.18512734e+00],\n",
       "       [-1.18797725e+00,  1.54261237e+00, -3.54635127e-01],\n",
       "       [-5.21736949e-01,  3.82247947e-01,  1.39489002e-01],\n",
       "       [ 3.89163355e-01,  8.73087400e-02, -4.76472095e-01],\n",
       "       [-5.46346453e-01,  2.75715403e-01,  2.70631049e-01],\n",
       "       [-1.18927084e-01,  5.34799300e-01, -4.15872216e-01],\n",
       "       [-1.11753269e+00, -5.89140388e-01,  1.70667308e+00],\n",
       "       [-1.13089055e+00,  7.54410728e-01,  3.76479818e-01],\n",
       "       [-7.06627932e-01, -1.28604266e+00,  1.99267059e+00],\n",
       "       [ 5.87569557e-01,  5.60248313e-01, -1.14781787e+00],\n",
       "       [-6.79196301e-01, -7.65671721e-02,  7.55763473e-01],\n",
       "       [ 1.64205034e-01,  2.28559689e-01, -3.92764722e-01],\n",
       "       [-2.32876055e-01,  3.55933346e-01, -1.23057292e-01],\n",
       "       [ 4.87911838e-01,  1.13031605e-01, -6.00943443e-01],\n",
       "       [-5.17430548e-01, -3.67005591e-01,  8.84436139e-01],\n",
       "       [-5.62427746e-01,  2.89637932e-01,  2.72789814e-01],\n",
       "       [-8.60320281e-01,  1.80648863e+00, -9.46168352e-01],\n",
       "       [-3.63118420e-01,  1.91597659e-01,  1.71520761e-01],\n",
       "       [-4.51487022e-01,  4.27074630e-01,  2.44123924e-02],\n",
       "       [ 3.00190294e-01,  6.29504584e-01, -9.29694878e-01],\n",
       "       [-1.83611581e-01,  6.57200336e-01, -4.73588756e-01],\n",
       "       [ 4.49708177e-01,  3.68445337e-01, -8.18153515e-01],\n",
       "       [-1.22508184e-01,  1.85991304e-01, -6.34831200e-02],\n",
       "       [ 2.50380303e-01,  4.56018324e-01, -7.06398627e-01],\n",
       "       [ 1.58020564e-01,  5.13139796e-01, -6.71160360e-01],\n",
       "       [-1.05507863e+00, -6.41891059e-01,  1.69696969e+00],\n",
       "       [ 2.85944075e-01,  2.60391428e-01, -5.46335504e-01],\n",
       "       [-6.65133244e-01,  6.05230834e-01,  5.99024103e-02],\n",
       "       [-9.40154010e-01,  4.37201897e-01,  5.02952112e-01],\n",
       "       [ 1.32921396e-01, -1.04086075e-02, -1.22512788e-01],\n",
       "       [-8.82809306e-01,  8.08398857e-01,  7.44104488e-02],\n",
       "       [ 1.48513198e+00, -2.36018197e-01, -1.24911379e+00],\n",
       "       [ 1.83825486e-01,  1.19796105e-01, -3.03621591e-01],\n",
       "       [ 2.98953123e-02,  4.89335493e-01, -5.19230805e-01],\n",
       "       [ 3.80035155e-01,  1.07431471e-01, -4.87466625e-01],\n",
       "       [-1.67756509e-02, -1.70599399e+00,  1.72276964e+00],\n",
       "       [-1.13271105e+00,  5.96561677e-01,  5.36149376e-01],\n",
       "       [ 1.52393173e-01, -3.65062668e-03, -1.48742546e-01],\n",
       "       [-2.20395703e+00, -8.74438769e-01,  3.07839580e+00],\n",
       "       [-1.82971524e-01, -1.63217146e-01,  3.46188670e-01],\n",
       "       [-6.88082645e-02, -2.11977251e-01,  2.80785515e-01],\n",
       "       [-1.66699559e+00,  2.60973254e-01,  1.40602233e+00],\n",
       "       [ 2.66704112e-01, -4.87285011e-01,  2.20580899e-01],\n",
       "       [-6.10845332e-03, -2.59295207e-01,  2.65403660e-01],\n",
       "       [ 1.79181462e+00,  2.80500015e+00, -4.59681477e+00],\n",
       "       [-1.50781734e-01,  3.47591930e-01, -1.96810196e-01],\n",
       "       [-4.12991492e-01, -4.93262795e-02,  4.62317771e-01],\n",
       "       [ 2.75594265e-01,  6.08143136e-01, -8.83737401e-01],\n",
       "       [ 4.80831188e-01, -4.62426926e-01, -1.84042619e-02],\n",
       "       [-4.06306108e-01, -8.84394458e-01,  1.29070057e+00],\n",
       "       [ 1.92008696e-01,  1.01933821e+00, -1.21134691e+00],\n",
       "       [-1.21617303e+00,  3.49727635e+00, -2.28110331e+00],\n",
       "       [-1.97192655e-01,  1.67498249e-01,  2.96944055e-02],\n",
       "       [ 3.86913673e-01,  6.29249346e-01, -1.01616302e+00],\n",
       "       [ 1.87251643e-01,  4.31886469e-01, -6.19138112e-01],\n",
       "       [ 1.05182497e-01,  3.35562843e-01, -4.40745340e-01],\n",
       "       [-1.52588826e-01,  5.52507837e-01, -3.99919011e-01],\n",
       "       [-7.55882308e-01,  2.26495666e-01,  5.29386642e-01],\n",
       "       [-3.44888620e-01, -2.58931404e-01,  6.03820024e-01],\n",
       "       [-1.69408642e+00,  1.17290524e+00,  5.21181180e-01],\n",
       "       [-7.40495080e-01,  1.28173952e-01,  6.12321128e-01],\n",
       "       [ 5.67279609e-02, -4.99099252e-02, -6.81803566e-03],\n",
       "       [-5.47824052e-01,  2.93365263e-01,  2.54458789e-01],\n",
       "       [ 3.44982501e-01,  7.54979074e-01, -1.09996157e+00],\n",
       "       [-1.28336378e+00,  8.85820753e-01,  3.97543028e-01],\n",
       "       [ 1.07851875e+00,  1.57691647e+00, -2.65543522e+00],\n",
       "       [-2.45733785e-02,  4.95962039e-01, -4.71388660e-01],\n",
       "       [-8.04988697e-01,  3.95085489e-01,  4.09903208e-01],\n",
       "       [ 1.90496337e-01,  5.96726026e-03, -1.96463597e-01],\n",
       "       [ 2.69110818e-01, -9.24566756e-02, -1.76654143e-01],\n",
       "       [-9.72266328e-01,  6.18004576e-01,  3.54261752e-01],\n",
       "       [ 4.61868324e-01, -1.66099286e-02, -4.45258395e-01],\n",
       "       [ 1.34437866e+00,  1.52901535e+00, -2.87339401e+00],\n",
       "       [-7.26351347e-01,  2.66130926e-01,  4.60220421e-01],\n",
       "       [-5.55954013e-02, -2.53173036e-01,  3.08768438e-01],\n",
       "       [-9.62234852e-01,  1.07828685e-01,  8.54406168e-01],\n",
       "       [-7.64087039e-01,  1.15236145e+00, -3.88274415e-01],\n",
       "       [-5.96270080e-01,  9.38243796e-01, -3.41973716e-01],\n",
       "       [-1.86208818e-01,  1.20948363e+00, -1.02327481e+00],\n",
       "       [ 1.60415243e-01,  2.95586694e-01, -4.56001937e-01],\n",
       "       [ 1.96989816e-01,  3.61358781e-01, -5.58348598e-01],\n",
       "       [ 1.00605243e-01,  8.10225806e-01, -9.10831049e-01],\n",
       "       [ 3.05953064e-01,  8.20204715e-01, -1.12615778e+00],\n",
       "       [ 5.13750883e-02,  5.33114526e-01, -5.84489614e-01],\n",
       "       [ 6.92190369e-01, -2.69114687e-01, -4.23075682e-01],\n",
       "       [-3.30572419e-01,  9.29443396e-01, -5.98870977e-01],\n",
       "       [-8.61225447e-01,  2.56820942e-01,  6.04404505e-01],\n",
       "       [ 1.02989762e-01,  4.60851815e-01, -5.63841577e-01],\n",
       "       [-3.14468413e-01,  1.05369819e+00, -7.39229779e-01],\n",
       "       [-3.42978213e-01,  1.37266896e-01,  2.05711317e-01],\n",
       "       [-5.84739173e-01,  3.16559289e-01,  2.68179884e-01],\n",
       "       [-1.83142084e-01, -7.63093927e-01,  9.46236012e-01],\n",
       "       [ 9.48170818e-02,  7.61927188e-02, -1.71009801e-01],\n",
       "       [ 1.50294194e-01,  7.90798402e-01, -9.41092596e-01],\n",
       "       [-3.01519624e-02, -2.58118237e-01,  2.88270199e-01],\n",
       "       [-6.82463491e-01,  2.46906988e-01,  4.35556503e-01],\n",
       "       [ 1.63801897e-01,  1.93638183e-01, -3.57440080e-01],\n",
       "       [ 4.81705385e-01,  2.51584649e-01, -7.33290034e-01],\n",
       "       [ 2.10485971e-01,  9.28467859e-02, -3.03332757e-01],\n",
       "       [ 5.46055501e-01,  2.39450935e-01, -7.85506435e-01]])"
      ]
     },
     "execution_count": 43,
     "metadata": {},
     "output_type": "execute_result"
    }
   ],
   "source": [
    "model.decision_function(X)"
   ]
  },
  {
   "cell_type": "code",
   "execution_count": 44,
   "metadata": {},
   "outputs": [],
   "source": [
    "labels=['NOUN_NOUN',\n",
    " 'NOUN_ADJ',\n",
    " 'NOUN_VERB',\n",
    " 'NOUN_ADV',\n",
    " 'ADJ_NOUN',\n",
    " 'ADJ_ADJ',\n",
    " 'ADJ_VERB',\n",
    " 'ADJ_ADV',\n",
    " 'VERB_NOUN',\n",
    " 'VERB_ADJ',\n",
    " 'VERB_VERB',\n",
    " 'VERB_ADV',\n",
    " 'ADV_NOUN',\n",
    " 'ADV_ADJ',\n",
    " 'ADV_VERB',\n",
    " 'ADV_ADV',\n",
    " 'Who','Where','When','What','Why','How','Additional information',\n",
    " 'Who_w','Where_w','When_w','What_w','Why_w','How_w','Additional information_w']"
   ]
  },
  {
   "cell_type": "code",
   "execution_count": 45,
   "metadata": {},
   "outputs": [
    {
     "data": {
      "text/plain": [
       "array(['contradiction', 'entailment', 'neutral'], dtype=object)"
      ]
     },
     "execution_count": 45,
     "metadata": {},
     "output_type": "execute_result"
    }
   ],
   "source": [
    "model.classes_"
   ]
  },
  {
   "cell_type": "code",
   "execution_count": 46,
   "metadata": {},
   "outputs": [],
   "source": [
    "contradiction=model.coef_[0]\n",
    "entailment=model.coef_[1]\n",
    "neutral=model.coef_[2]"
   ]
  },
  {
   "cell_type": "code",
   "execution_count": 47,
   "metadata": {},
   "outputs": [
    {
     "name": "stdout",
     "output_type": "stream",
     "text": [
      "Contradiction  3 NOUN_ADV 16 Who\n",
      "Entailment  19 What 27 Why_w\n",
      "Neutral  27 Why_w 19 What\n"
     ]
    }
   ],
   "source": [
    "print(\"Contradiction \",np.argmax(contradiction),labels[np.argmax(contradiction)],np.argmin(contradiction),labels[np.argmin(contradiction)])\n",
    "print(\"Entailment \",np.argmax(entailment),labels[np.argmax(entailment)],np.argmin(entailment),labels[np.argmin(entailment)])\n",
    "print(\"Neutral \",np.argmax(neutral),labels[np.argmax(neutral)],np.argmin(neutral),labels[np.argmin(neutral)])"
   ]
  },
  {
   "cell_type": "code",
   "execution_count": 48,
   "metadata": {},
   "outputs": [
    {
     "data": {
      "image/png": "[encoded data removed]",
      "text/plain": [
       "<Figure size 432x288 with 1 Axes>"
      ]
     },
     "metadata": {
      "needs_background": "light"
     },
     "output_type": "display_data"
    }
   ],
   "source": [
    "import matplotlib.pyplot as plt\n",
    "import numpy as np\n",
    "\n",
    "x_v = np.arange(0,30,1)\n",
    "y_v = contradiction\n",
    "\n",
    "plt.bar(x_v,y_v)\n",
    "plt.xlabel('x')\n",
    "plt.ylabel('y')\n",
    "plt.title('Contradiction')\n",
    "plt.show()"
   ]
  },
  {
   "cell_type": "code",
   "execution_count": 49,
   "metadata": {},
   "outputs": [
    {
     "data": {
      "image/png": "[encoded data removed]",
      "text/plain": [
       "<Figure size 432x288 with 1 Axes>"
      ]
     },
     "metadata": {
      "needs_background": "light"
     },
     "output_type": "display_data"
    }
   ],
   "source": [
    "x_v = np.arange(0,30,1)\n",
    "y_v = entailment\n",
    "\n",
    "plt.bar(x_v,y_v)\n",
    "plt.xlabel('x')\n",
    "plt.ylabel('y')\n",
    "plt.title('Entailment')\n",
    "plt.show()"
   ]
  },
  {
   "cell_type": "code",
   "execution_count": 50,
   "metadata": {},
   "outputs": [
    {
     "data": {
      "image/png": "[encoded data removed]",
      "text/plain": [
       "<Figure size 432x288 with 1 Axes>"
      ]
     },
     "metadata": {
      "needs_background": "light"
     },
     "output_type": "display_data"
    }
   ],
   "source": [
    "x_v = np.arange(0,30,1)\n",
    "y_v = neutral\n",
    "\n",
    "plt.bar(x_v,y_v)\n",
    "plt.xlabel('x')\n",
    "plt.ylabel('y')\n",
    "plt.title('Neutral')\n",
    "plt.show()"
   ]
  },
  {
   "cell_type": "code",
   "execution_count": 51,
   "metadata": {},
   "outputs": [
    {
     "name": "stdout",
     "output_type": "stream",
     "text": [
      "['entailment' 'entailment' 'entailment' 'contradiction' 'entailment'\n",
      " 'entailment' 'neutral' 'entailment' 'neutral' 'contradiction' 'neutral'\n",
      " 'entailment' 'entailment' 'contradiction' 'neutral' 'entailment'\n",
      " 'entailment' 'entailment' 'entailment' 'entailment' 'entailment'\n",
      " 'contradiction' 'entailment' 'entailment' 'entailment' 'neutral'\n",
      " 'contradiction' 'entailment' 'neutral' 'contradiction' 'entailment'\n",
      " 'contradiction' 'contradiction' 'entailment' 'contradiction' 'neutral'\n",
      " 'entailment' 'contradiction' 'neutral' 'neutral' 'neutral' 'neutral'\n",
      " 'contradiction' 'neutral' 'entailment' 'entailment' 'neutral'\n",
      " 'entailment' 'contradiction' 'neutral' 'entailment' 'entailment'\n",
      " 'entailment' 'entailment' 'entailment' 'entailment' 'entailment'\n",
      " 'neutral' 'neutral' 'entailment' 'neutral' 'contradiction' 'entailment'\n",
      " 'entailment' 'entailment' 'entailment' 'entailment' 'neutral'\n",
      " 'contradiction' 'contradiction' 'entailment' 'contradiction' 'entailment'\n",
      " 'neutral' 'neutral' 'neutral' 'entailment' 'entailment' 'entailment'\n",
      " 'entailment' 'entailment' 'entailment' 'entailment' 'entailment'\n",
      " 'contradiction' 'entailment' 'neutral' 'entailment' 'entailment'\n",
      " 'neutral' 'entailment' 'neutral' 'contradiction' 'entailment' 'neutral'\n",
      " 'neutral' 'entailment' 'contradiction' 'contradiction' 'contradiction']\n"
     ]
    }
   ],
   "source": [
    "predictions = model.predict(X)\n",
    "print(predictions)"
   ]
  },
  {
   "cell_type": "code",
   "execution_count": 52,
   "metadata": {},
   "outputs": [
    {
     "data": {
      "text/plain": [
       "array(['entailment', 'entailment', 'contradiction', 'contradiction',\n",
       "       'neutral', 'neutral', 'neutral', 'entailment', 'neutral',\n",
       "       'entailment', 'neutral', 'contradiction', 'entailment',\n",
       "       'contradiction', 'neutral', 'neutral', 'entailment',\n",
       "       'contradiction', 'contradiction', 'entailment', 'entailment',\n",
       "       'entailment', 'neutral', 'contradiction', 'entailment', 'neutral',\n",
       "       'entailment', 'entailment', 'entailment', 'neutral', 'neutral',\n",
       "       'contradiction', 'contradiction', 'entailment', 'contradiction',\n",
       "       'neutral', 'entailment', 'neutral', 'neutral', 'entailment',\n",
       "       'neutral', 'neutral', 'contradiction', 'neutral', 'entailment',\n",
       "       'neutral', 'neutral', 'entailment', 'contradiction', 'neutral',\n",
       "       'entailment', 'entailment', 'neutral', 'entailment',\n",
       "       'contradiction', 'entailment', 'entailment', 'neutral', 'neutral',\n",
       "       'neutral', 'neutral', 'neutral', 'neutral', 'entailment',\n",
       "       'entailment', 'contradiction', 'entailment', 'entailment',\n",
       "       'neutral', 'contradiction', 'entailment', 'contradiction',\n",
       "       'contradiction', 'contradiction', 'neutral', 'entailment',\n",
       "       'entailment', 'entailment', 'entailment', 'contradiction',\n",
       "       'neutral', 'entailment', 'entailment', 'entailment',\n",
       "       'contradiction', 'entailment', 'entailment', 'entailment',\n",
       "       'contradiction', 'contradiction', 'contradiction', 'neutral',\n",
       "       'entailment', 'entailment', 'contradiction', 'entailment',\n",
       "       'entailment', 'contradiction', 'contradiction', 'contradiction'],\n",
       "      dtype=object)"
      ]
     },
     "execution_count": 52,
     "metadata": {},
     "output_type": "execute_result"
    }
   ],
   "source": [
    "y"
   ]
  },
  {
   "cell_type": "code",
   "execution_count": 53,
   "metadata": {},
   "outputs": [
    {
     "data": {
      "text/plain": [
       "array([[23.18277657,  0.        ,  8.16802084, ...,  0.        ,\n",
       "         0.        ,  0.        ],\n",
       "       [22.94202816,  1.59155118,  2.13499045, ...,  0.        ,\n",
       "         0.        ,  3.63758616],\n",
       "       [14.88061917,  1.82459164,  3.68787432, ...,  0.        ,\n",
       "         0.        ,  0.        ],\n",
       "       ...,\n",
       "       [ 5.29783893,  0.        ,  5.13886273, ...,  0.        ,\n",
       "         0.        ,  0.        ],\n",
       "       [ 7.11044979,  0.        ,  0.        , ...,  0.        ,\n",
       "         0.        ,  0.        ],\n",
       "       [12.45881259,  0.        ,  0.        , ...,  0.        ,\n",
       "         0.        ,  0.        ]])"
      ]
     },
     "execution_count": 53,
     "metadata": {},
     "output_type": "execute_result"
    }
   ],
   "source": [
    "X"
   ]
  },
  {
   "cell_type": "code",
   "execution_count": 54,
   "metadata": {},
   "outputs": [
    {
     "data": {
      "text/plain": [
       "0.62"
      ]
     },
     "execution_count": 54,
     "metadata": {},
     "output_type": "execute_result"
    }
   ],
   "source": [
    "model.score(X,y)"
   ]
  },
  {
   "cell_type": "code",
   "execution_count": 55,
   "metadata": {},
   "outputs": [],
   "source": [
    "validation_size = 0.10\n",
    "seed = 7\n",
    "X_train, X_validation, Y_train, Y_validation = model_selection.train_test_split(X, y, test_size=validation_size)"
   ]
  },
  {
   "cell_type": "code",
   "execution_count": 56,
   "metadata": {},
   "outputs": [
    {
     "name": "stdout",
     "output_type": "stream",
     "text": [
      "Logistic Regression: 0.444444 (0.192450)\n"
     ]
    },
    {
     "name": "stderr",
     "output_type": "stream",
     "text": [
      "/home/david/.local/lib/python3.8/site-packages/sklearn/linear_model/_logistic.py:458: ConvergenceWarning: lbfgs failed to converge (status=1):\n",
      "STOP: TOTAL NO. of ITERATIONS REACHED LIMIT.\n",
      "\n",
      "Increase the number of iterations (max_iter) or scale the data as shown in:\n",
      "    https://scikit-learn.org/stable/modules/preprocessing.html\n",
      "Please also refer to the documentation for alternative solver options:\n",
      "    https://scikit-learn.org/stable/modules/linear_model.html#logistic-regression\n",
      "  n_iter_i = _check_optimize_result(\n",
      "/home/david/.local/lib/python3.8/site-packages/sklearn/linear_model/_logistic.py:458: ConvergenceWarning: lbfgs failed to converge (status=1):\n",
      "STOP: TOTAL NO. of ITERATIONS REACHED LIMIT.\n",
      "\n",
      "Increase the number of iterations (max_iter) or scale the data as shown in:\n",
      "    https://scikit-learn.org/stable/modules/preprocessing.html\n",
      "Please also refer to the documentation for alternative solver options:\n",
      "    https://scikit-learn.org/stable/modules/linear_model.html#logistic-regression\n",
      "  n_iter_i = _check_optimize_result(\n",
      "/home/david/.local/lib/python3.8/site-packages/sklearn/linear_model/_logistic.py:458: ConvergenceWarning: lbfgs failed to converge (status=1):\n",
      "STOP: TOTAL NO. of ITERATIONS REACHED LIMIT.\n",
      "\n",
      "Increase the number of iterations (max_iter) or scale the data as shown in:\n",
      "    https://scikit-learn.org/stable/modules/preprocessing.html\n",
      "Please also refer to the documentation for alternative solver options:\n",
      "    https://scikit-learn.org/stable/modules/linear_model.html#logistic-regression\n",
      "  n_iter_i = _check_optimize_result(\n",
      "/home/david/.local/lib/python3.8/site-packages/sklearn/linear_model/_logistic.py:458: ConvergenceWarning: lbfgs failed to converge (status=1):\n",
      "STOP: TOTAL NO. of ITERATIONS REACHED LIMIT.\n",
      "\n",
      "Increase the number of iterations (max_iter) or scale the data as shown in:\n",
      "    https://scikit-learn.org/stable/modules/preprocessing.html\n",
      "Please also refer to the documentation for alternative solver options:\n",
      "    https://scikit-learn.org/stable/modules/linear_model.html#logistic-regression\n",
      "  n_iter_i = _check_optimize_result(\n",
      "/home/david/.local/lib/python3.8/site-packages/sklearn/linear_model/_logistic.py:458: ConvergenceWarning: lbfgs failed to converge (status=1):\n",
      "STOP: TOTAL NO. of ITERATIONS REACHED LIMIT.\n",
      "\n",
      "Increase the number of iterations (max_iter) or scale the data as shown in:\n",
      "    https://scikit-learn.org/stable/modules/preprocessing.html\n",
      "Please also refer to the documentation for alternative solver options:\n",
      "    https://scikit-learn.org/stable/modules/linear_model.html#logistic-regression\n",
      "  n_iter_i = _check_optimize_result(\n",
      "/home/david/.local/lib/python3.8/site-packages/sklearn/linear_model/_logistic.py:458: ConvergenceWarning: lbfgs failed to converge (status=1):\n",
      "STOP: TOTAL NO. of ITERATIONS REACHED LIMIT.\n",
      "\n",
      "Increase the number of iterations (max_iter) or scale the data as shown in:\n",
      "    https://scikit-learn.org/stable/modules/preprocessing.html\n",
      "Please also refer to the documentation for alternative solver options:\n",
      "    https://scikit-learn.org/stable/modules/linear_model.html#logistic-regression\n",
      "  n_iter_i = _check_optimize_result(\n",
      "/home/david/.local/lib/python3.8/site-packages/sklearn/linear_model/_logistic.py:458: ConvergenceWarning: lbfgs failed to converge (status=1):\n",
      "STOP: TOTAL NO. of ITERATIONS REACHED LIMIT.\n",
      "\n",
      "Increase the number of iterations (max_iter) or scale the data as shown in:\n",
      "    https://scikit-learn.org/stable/modules/preprocessing.html\n",
      "Please also refer to the documentation for alternative solver options:\n",
      "    https://scikit-learn.org/stable/modules/linear_model.html#logistic-regression\n",
      "  n_iter_i = _check_optimize_result(\n",
      "/home/david/.local/lib/python3.8/site-packages/sklearn/linear_model/_logistic.py:458: ConvergenceWarning: lbfgs failed to converge (status=1):\n",
      "STOP: TOTAL NO. of ITERATIONS REACHED LIMIT.\n",
      "\n",
      "Increase the number of iterations (max_iter) or scale the data as shown in:\n",
      "    https://scikit-learn.org/stable/modules/preprocessing.html\n",
      "Please also refer to the documentation for alternative solver options:\n",
      "    https://scikit-learn.org/stable/modules/linear_model.html#logistic-regression\n",
      "  n_iter_i = _check_optimize_result(\n",
      "/home/david/.local/lib/python3.8/site-packages/sklearn/linear_model/_logistic.py:458: ConvergenceWarning: lbfgs failed to converge (status=1):\n",
      "STOP: TOTAL NO. of ITERATIONS REACHED LIMIT.\n",
      "\n",
      "Increase the number of iterations (max_iter) or scale the data as shown in:\n",
      "    https://scikit-learn.org/stable/modules/preprocessing.html\n",
      "Please also refer to the documentation for alternative solver options:\n",
      "    https://scikit-learn.org/stable/modules/linear_model.html#logistic-regression\n",
      "  n_iter_i = _check_optimize_result(\n",
      "/home/david/.local/lib/python3.8/site-packages/sklearn/linear_model/_logistic.py:458: ConvergenceWarning: lbfgs failed to converge (status=1):\n",
      "STOP: TOTAL NO. of ITERATIONS REACHED LIMIT.\n",
      "\n",
      "Increase the number of iterations (max_iter) or scale the data as shown in:\n",
      "    https://scikit-learn.org/stable/modules/preprocessing.html\n",
      "Please also refer to the documentation for alternative solver options:\n",
      "    https://scikit-learn.org/stable/modules/linear_model.html#logistic-regression\n",
      "  n_iter_i = _check_optimize_result(\n"
     ]
    }
   ],
   "source": [
    "name='Logistic Regression'\n",
    "kfold = model_selection.KFold(n_splits=10)\n",
    "cv_results = model_selection.cross_val_score(model, X_train, Y_train, cv=kfold, scoring='accuracy')\n",
    "msg = \"%s: %f (%f)\" % (name, cv_results.mean(), cv_results.std())\n",
    "print(msg)"
   ]
  },
  {
   "cell_type": "code",
   "execution_count": 57,
   "metadata": {},
   "outputs": [
    {
     "name": "stdout",
     "output_type": "stream",
     "text": [
      "0.6\n"
     ]
    }
   ],
   "source": [
    "predictions = model.predict(X_validation)\n",
    "print(accuracy_score(Y_validation, predictions))"
   ]
  },
  {
   "cell_type": "code",
   "execution_count": 58,
   "metadata": {},
   "outputs": [
    {
     "name": "stdout",
     "output_type": "stream",
     "text": [
      "[[1 2 0]\n",
      " [0 2 0]\n",
      " [0 2 3]]\n"
     ]
    }
   ],
   "source": [
    "print(confusion_matrix(Y_validation, predictions))"
   ]
  },
  {
   "cell_type": "code",
   "execution_count": 59,
   "metadata": {},
   "outputs": [
    {
     "name": "stdout",
     "output_type": "stream",
     "text": [
      "               precision    recall  f1-score   support\n",
      "\n",
      "contradiction       1.00      0.33      0.50         3\n",
      "   entailment       0.33      1.00      0.50         2\n",
      "      neutral       1.00      0.60      0.75         5\n",
      "\n",
      "     accuracy                           0.60        10\n",
      "    macro avg       0.78      0.64      0.58        10\n",
      " weighted avg       0.87      0.60      0.62        10\n",
      "\n"
     ]
    }
   ],
   "source": [
    "print(classification_report(Y_validation, predictions))"
   ]
  },
  {
   "cell_type": "code",
   "execution_count": 60,
   "metadata": {},
   "outputs": [],
   "source": [
    "#X_new = pd.DataFrame()\n",
    "#model.predict(X_new)"
   ]
  }
 ],
 "metadata": {
  "kernelspec": {
   "display_name": "Python 3",
   "language": "python",
   "name": "python3"
  },
  "language_info": {
   "codemirror_mode": {
    "name": "ipython",
    "version": 3
   },
   "file_extension": ".py",
   "mimetype": "text/x-python",
   "name": "python",
   "nbconvert_exporter": "python",
   "pygments_lexer": "ipython3",
   "version": "3.8.10"
  }
 },
 "nbformat": 4,
 "nbformat_minor": 2
}
