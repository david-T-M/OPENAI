{
 "cells": [
  {
   "cell_type": "code",
   "execution_count": 84,
   "metadata": {},
   "outputs": [],
   "source": [
    "import pandas as pd\n",
    "import numpy as np\n",
    "from sklearn import preprocessing\n",
    "from sklearn.linear_model import LogisticRegression as LR\n",
    "from sklearn.model_selection import train_test_split\n",
    "from sklearn.metrics import confusion_matrix,accuracy_score,precision_score,recall_score,f1_score"
   ]
  },
  {
   "cell_type": "code",
   "execution_count": 85,
   "metadata": {},
   "outputs": [],
   "source": [
    "dataframe = pd.read_csv('salida/resultados/SICK/DEV_5.csv.csv')"
   ]
  },
  {
   "cell_type": "code",
   "execution_count": 86,
   "metadata": {},
   "outputs": [
    {
     "data": {
      "text/html": [
       "<div>\n",
       "<style scoped>\n",
       "    .dataframe tbody tr th:only-of-type {\n",
       "        vertical-align: middle;\n",
       "    }\n",
       "\n",
       "    .dataframe tbody tr th {\n",
       "        vertical-align: top;\n",
       "    }\n",
       "\n",
       "    .dataframe thead th {\n",
       "        text-align: right;\n",
       "    }\n",
       "</style>\n",
       "<table border=\"1\" class=\"dataframe\">\n",
       "  <thead>\n",
       "    <tr style=\"text-align: right;\">\n",
       "      <th></th>\n",
       "      <th>suma</th>\n",
       "      <th>distancias</th>\n",
       "      <th>entropias</th>\n",
       "      <th>mutual_info</th>\n",
       "      <th>m_earth</th>\n",
       "      <th>max_info_p</th>\n",
       "      <th>antonimos</th>\n",
       "      <th>relaciones</th>\n",
       "      <th>sim_faltantes</th>\n",
       "      <th>CLASS</th>\n",
       "    </tr>\n",
       "  </thead>\n",
       "  <tbody>\n",
       "    <tr>\n",
       "      <th>0</th>\n",
       "      <td>0.000000</td>\n",
       "      <td>91.15190</td>\n",
       "      <td>0.000</td>\n",
       "      <td>1.192824e-12</td>\n",
       "      <td>16.474854</td>\n",
       "      <td>0.000000</td>\n",
       "      <td>0</td>\n",
       "      <td>0</td>\n",
       "      <td>0.000000</td>\n",
       "      <td>CONTRADICTION</td>\n",
       "    </tr>\n",
       "    <tr>\n",
       "      <th>1</th>\n",
       "      <td>0.000000</td>\n",
       "      <td>0.00000</td>\n",
       "      <td>0.000</td>\n",
       "      <td>0.000000e+00</td>\n",
       "      <td>0.000000</td>\n",
       "      <td>0.000000</td>\n",
       "      <td>0</td>\n",
       "      <td>1</td>\n",
       "      <td>0.000000</td>\n",
       "      <td>ENTAILMENT</td>\n",
       "    </tr>\n",
       "    <tr>\n",
       "      <th>2</th>\n",
       "      <td>0.000000</td>\n",
       "      <td>0.00000</td>\n",
       "      <td>0.000</td>\n",
       "      <td>0.000000e+00</td>\n",
       "      <td>0.000000</td>\n",
       "      <td>0.000000</td>\n",
       "      <td>0</td>\n",
       "      <td>0</td>\n",
       "      <td>1.000000</td>\n",
       "      <td>CONTRADICTION</td>\n",
       "    </tr>\n",
       "    <tr>\n",
       "      <th>3</th>\n",
       "      <td>1.185669</td>\n",
       "      <td>209.10780</td>\n",
       "      <td>1.500</td>\n",
       "      <td>7.031703e+00</td>\n",
       "      <td>1.045989</td>\n",
       "      <td>0.296417</td>\n",
       "      <td>1</td>\n",
       "      <td>2</td>\n",
       "      <td>0.487278</td>\n",
       "      <td>CONTRADICTION</td>\n",
       "    </tr>\n",
       "    <tr>\n",
       "      <th>4</th>\n",
       "      <td>0.760222</td>\n",
       "      <td>152.18210</td>\n",
       "      <td>1.000</td>\n",
       "      <td>3.512053e+00</td>\n",
       "      <td>1.129299</td>\n",
       "      <td>0.380111</td>\n",
       "      <td>1</td>\n",
       "      <td>0</td>\n",
       "      <td>0.472291</td>\n",
       "      <td>CONTRADICTION</td>\n",
       "    </tr>\n",
       "    <tr>\n",
       "      <th>...</th>\n",
       "      <td>...</td>\n",
       "      <td>...</td>\n",
       "      <td>...</td>\n",
       "      <td>...</td>\n",
       "      <td>...</td>\n",
       "      <td>...</td>\n",
       "      <td>...</td>\n",
       "      <td>...</td>\n",
       "      <td>...</td>\n",
       "      <td>...</td>\n",
       "    </tr>\n",
       "    <tr>\n",
       "      <th>90</th>\n",
       "      <td>0.986909</td>\n",
       "      <td>156.99320</td>\n",
       "      <td>0.918</td>\n",
       "      <td>1.061669e+01</td>\n",
       "      <td>2.130698</td>\n",
       "      <td>0.199834</td>\n",
       "      <td>0</td>\n",
       "      <td>1</td>\n",
       "      <td>0.287339</td>\n",
       "      <td>CONTRADICTION</td>\n",
       "    </tr>\n",
       "    <tr>\n",
       "      <th>91</th>\n",
       "      <td>0.302330</td>\n",
       "      <td>73.98176</td>\n",
       "      <td>1.000</td>\n",
       "      <td>3.260589e+00</td>\n",
       "      <td>0.495572</td>\n",
       "      <td>0.404658</td>\n",
       "      <td>0</td>\n",
       "      <td>0</td>\n",
       "      <td>0.260126</td>\n",
       "      <td>CONTRADICTION</td>\n",
       "    </tr>\n",
       "    <tr>\n",
       "      <th>92</th>\n",
       "      <td>1.608502</td>\n",
       "      <td>277.95917</td>\n",
       "      <td>2.459</td>\n",
       "      <td>2.124758e+01</td>\n",
       "      <td>3.813996</td>\n",
       "      <td>0.197763</td>\n",
       "      <td>0</td>\n",
       "      <td>0</td>\n",
       "      <td>0.246701</td>\n",
       "      <td>CONTRADICTION</td>\n",
       "    </tr>\n",
       "    <tr>\n",
       "      <th>93</th>\n",
       "      <td>0.595234</td>\n",
       "      <td>170.75844</td>\n",
       "      <td>1.500</td>\n",
       "      <td>6.351086e+00</td>\n",
       "      <td>1.874976</td>\n",
       "      <td>0.205298</td>\n",
       "      <td>0</td>\n",
       "      <td>2</td>\n",
       "      <td>0.162272</td>\n",
       "      <td>CONTRADICTION</td>\n",
       "    </tr>\n",
       "    <tr>\n",
       "      <th>94</th>\n",
       "      <td>4.102182</td>\n",
       "      <td>214.04932</td>\n",
       "      <td>1.788</td>\n",
       "      <td>3.192692e+01</td>\n",
       "      <td>7.137955</td>\n",
       "      <td>0.357369</td>\n",
       "      <td>0</td>\n",
       "      <td>1</td>\n",
       "      <td>0.478485</td>\n",
       "      <td>CONTRADICTION</td>\n",
       "    </tr>\n",
       "  </tbody>\n",
       "</table>\n",
       "<p>95 rows × 10 columns</p>\n",
       "</div>"
      ],
      "text/plain": [
       "        suma  distancias  entropias   mutual_info    m_earth  max_info_p  \\\n",
       "0   0.000000    91.15190      0.000  1.192824e-12  16.474854    0.000000   \n",
       "1   0.000000     0.00000      0.000  0.000000e+00   0.000000    0.000000   \n",
       "2   0.000000     0.00000      0.000  0.000000e+00   0.000000    0.000000   \n",
       "3   1.185669   209.10780      1.500  7.031703e+00   1.045989    0.296417   \n",
       "4   0.760222   152.18210      1.000  3.512053e+00   1.129299    0.380111   \n",
       "..       ...         ...        ...           ...        ...         ...   \n",
       "90  0.986909   156.99320      0.918  1.061669e+01   2.130698    0.199834   \n",
       "91  0.302330    73.98176      1.000  3.260589e+00   0.495572    0.404658   \n",
       "92  1.608502   277.95917      2.459  2.124758e+01   3.813996    0.197763   \n",
       "93  0.595234   170.75844      1.500  6.351086e+00   1.874976    0.205298   \n",
       "94  4.102182   214.04932      1.788  3.192692e+01   7.137955    0.357369   \n",
       "\n",
       "    antonimos  relaciones  sim_faltantes          CLASS  \n",
       "0           0           0       0.000000  CONTRADICTION  \n",
       "1           0           1       0.000000     ENTAILMENT  \n",
       "2           0           0       1.000000  CONTRADICTION  \n",
       "3           1           2       0.487278  CONTRADICTION  \n",
       "4           1           0       0.472291  CONTRADICTION  \n",
       "..        ...         ...            ...            ...  \n",
       "90          0           1       0.287339  CONTRADICTION  \n",
       "91          0           0       0.260126  CONTRADICTION  \n",
       "92          0           0       0.246701  CONTRADICTION  \n",
       "93          0           2       0.162272  CONTRADICTION  \n",
       "94          0           1       0.478485  CONTRADICTION  \n",
       "\n",
       "[95 rows x 10 columns]"
      ]
     },
     "execution_count": 86,
     "metadata": {},
     "output_type": "execute_result"
    }
   ],
   "source": [
    "dataframe"
   ]
  },
  {
   "cell_type": "code",
   "execution_count": 87,
   "metadata": {},
   "outputs": [],
   "source": [
    "X = np.array(dataframe.drop(['CLASS'],axis=1))\n",
    "y_ = np.array(dataframe['CLASS'])"
   ]
  },
  {
   "cell_type": "code",
   "execution_count": 88,
   "metadata": {},
   "outputs": [],
   "source": [
    "#SNLI\n",
    "# y=[]\n",
    "# for i in y_:\n",
    "#     if i == \"entailment\":\n",
    "#         y.append(1)\n",
    "#     elif i== \"contradiction\":\n",
    "#         y.append(2)\n",
    "#     else:\n",
    "#         y.append(0)"
   ]
  },
  {
   "cell_type": "code",
   "execution_count": 89,
   "metadata": {},
   "outputs": [],
   "source": [
    "# RTE3\n",
    "# y=[]\n",
    "# for i in y_:\n",
    "#     if i == \"YES\":\n",
    "#         y.append(1)\n",
    "#     else:\n",
    "#         y.append(0)"
   ]
  },
  {
   "cell_type": "code",
   "execution_count": 90,
   "metadata": {},
   "outputs": [],
   "source": [
    "# SICK\n",
    "y=[]\n",
    "for i in y_:\n",
    "    if i == \"ENTAILMENT\":\n",
    "        y.append(1)\n",
    "    else:\n",
    "        y.append(0)"
   ]
  },
  {
   "cell_type": "code",
   "execution_count": 91,
   "metadata": {},
   "outputs": [],
   "source": [
    "scaler = preprocessing.StandardScaler().fit(X)\n",
    "X_scaled = scaler.transform(X)\n",
    "X = X_scaled"
   ]
  },
  {
   "cell_type": "code",
   "execution_count": 92,
   "metadata": {},
   "outputs": [],
   "source": [
    "X_train, X_test, y_train, y_test = train_test_split(X, y, test_size = 0.2,random_state=7)"
   ]
  },
  {
   "cell_type": "code",
   "execution_count": 93,
   "metadata": {},
   "outputs": [],
   "source": [
    "X_train = np.nan_to_num(X_train)\n",
    "X_test = np.nan_to_num(X_test)"
   ]
  },
  {
   "cell_type": "code",
   "execution_count": 94,
   "metadata": {},
   "outputs": [],
   "source": [
    "import xgboost as xgb"
   ]
  },
  {
   "cell_type": "code",
   "execution_count": 95,
   "metadata": {},
   "outputs": [],
   "source": [
    "# Define hyperparameters\n",
    "#params = {\"objective\": \"reg:squarederror\", \"tree_method\": \"gpu_hist\"}"
   ]
  },
  {
   "cell_type": "code",
   "execution_count": 96,
   "metadata": {},
   "outputs": [],
   "source": [
    "clf_xgb = xgb.XGBClassifier(objective='reg:logistic',n_estimators=3000,device=\"cuda\")\n",
    "clf_xgb.fit(X_train, y_train)\n",
    "preds_xgb = clf_xgb.predict(X_test)"
   ]
  },
  {
   "cell_type": "code",
   "execution_count": 97,
   "metadata": {},
   "outputs": [
    {
     "data": {
      "text/plain": [
       "0.631578947368421"
      ]
     },
     "execution_count": 97,
     "metadata": {},
     "output_type": "execute_result"
    }
   ],
   "source": [
    "accuracy_score(y_test,preds_xgb)"
   ]
  },
  {
   "cell_type": "code",
   "execution_count": 98,
   "metadata": {},
   "outputs": [
    {
     "data": {
      "text/plain": [
       "0.5"
      ]
     },
     "execution_count": 98,
     "metadata": {},
     "output_type": "execute_result"
    }
   ],
   "source": [
    "precision_score(y_test,preds_xgb)"
   ]
  },
  {
   "cell_type": "code",
   "execution_count": 99,
   "metadata": {},
   "outputs": [
    {
     "data": {
      "text/plain": [
       "0.4615384615384615"
      ]
     },
     "execution_count": 99,
     "metadata": {},
     "output_type": "execute_result"
    }
   ],
   "source": [
    "f1_score(y_test,preds_xgb)"
   ]
  },
  {
   "cell_type": "code",
   "execution_count": 100,
   "metadata": {},
   "outputs": [
    {
     "data": {
      "text/plain": [
       "0.42857142857142855"
      ]
     },
     "execution_count": 100,
     "metadata": {},
     "output_type": "execute_result"
    }
   ],
   "source": [
    "recall_score(y_test,preds_xgb)"
   ]
  },
  {
   "cell_type": "code",
   "execution_count": 101,
   "metadata": {},
   "outputs": [],
   "source": [
    "clf_lr = LR().fit(X_train, y_train)"
   ]
  },
  {
   "cell_type": "code",
   "execution_count": 102,
   "metadata": {},
   "outputs": [
    {
     "name": "stdout",
     "output_type": "stream",
     "text": [
      "Accuracy de XGBoost:  0.631578947368421\n",
      "Accuracy de Logistic Regression:  0.7368421052631579\n"
     ]
    }
   ],
   "source": [
    "accuracy_xgb = float(np.sum(preds_xgb == np.array(y_test)))/len(np.array(y_test))\n",
    "print('Accuracy de XGBoost: ', accuracy_xgb)\n",
    "accuracy_lr = clf_lr.score(X_test, y_test)\n",
    "print('Accuracy de Logistic Regression: ', accuracy_lr)"
   ]
  },
  {
   "cell_type": "code",
   "execution_count": 103,
   "metadata": {},
   "outputs": [
    {
     "data": {
      "text/plain": [
       "array([[9, 3],\n",
       "       [4, 3]])"
      ]
     },
     "execution_count": 103,
     "metadata": {},
     "output_type": "execute_result"
    }
   ],
   "source": [
    "confusion_matrix(y_test, preds_xgb)"
   ]
  },
  {
   "cell_type": "code",
   "execution_count": 104,
   "metadata": {},
   "outputs": [],
   "source": [
    "data=xgb.DMatrix(X, label=y)"
   ]
  },
  {
   "cell_type": "code",
   "execution_count": 105,
   "metadata": {},
   "outputs": [],
   "source": [
    "#Performing cross-validation\n",
    "#cv_results = xgb.cv(data, num_boost_round=10, nfold=3,metrics='logloss', seed=42)\n",
    "\n",
    "#Printing the results\n",
    "#print(cv_results)"
   ]
  }
 ],
 "metadata": {
  "kernelspec": {
   "display_name": "base",
   "language": "python",
   "name": "python3"
  },
  "language_info": {
   "codemirror_mode": {
    "name": "ipython",
    "version": 3
   },
   "file_extension": ".py",
   "mimetype": "text/x-python",
   "name": "python",
   "nbconvert_exporter": "python",
   "pygments_lexer": "ipython3",
   "version": "3.9.13"
  }
 },
 "nbformat": 4,
 "nbformat_minor": 2
}
