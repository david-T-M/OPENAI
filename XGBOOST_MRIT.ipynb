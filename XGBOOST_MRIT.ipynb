{
 "cells": [
  {
   "cell_type": "code",
   "execution_count": 1,
   "metadata": {},
   "outputs": [],
   "source": [
    "import pandas as pd\n",
    "import numpy as np\n",
    "from sklearn import preprocessing\n",
    "from sklearn.linear_model import LogisticRegression as LR\n",
    "from sklearn.model_selection import train_test_split\n",
    "from sklearn.metrics import confusion_matrix,accuracy_score\n",
    "from sklearn.model_selection import cross_val_score, KFold"
   ]
  },
  {
   "cell_type": "code",
   "execution_count": 2,
   "metadata": {},
   "outputs": [],
   "source": [
    "dataframe = pd.read_csv('salida/resultadoMRIT2.csv')"
   ]
  },
  {
   "cell_type": "code",
   "execution_count": 3,
   "metadata": {},
   "outputs": [
    {
     "data": {
      "text/html": [
       "<div>\n",
       "<style scoped>\n",
       "    .dataframe tbody tr th:only-of-type {\n",
       "        vertical-align: middle;\n",
       "    }\n",
       "\n",
       "    .dataframe tbody tr th {\n",
       "        vertical-align: top;\n",
       "    }\n",
       "\n",
       "    .dataframe thead th {\n",
       "        text-align: right;\n",
       "    }\n",
       "</style>\n",
       "<table border=\"1\" class=\"dataframe\">\n",
       "  <thead>\n",
       "    <tr style=\"text-align: right;\">\n",
       "      <th></th>\n",
       "      <th>suma</th>\n",
       "      <th>distancias</th>\n",
       "      <th>entropias</th>\n",
       "      <th>mutual_info</th>\n",
       "      <th>m_earth</th>\n",
       "      <th>max_info_p</th>\n",
       "      <th>antonimos</th>\n",
       "      <th>relaciones</th>\n",
       "      <th>CLASS</th>\n",
       "    </tr>\n",
       "  </thead>\n",
       "  <tbody>\n",
       "    <tr>\n",
       "      <th>0</th>\n",
       "      <td>-0.264991</td>\n",
       "      <td>294.031950</td>\n",
       "      <td>4.839</td>\n",
       "      <td>9.576863</td>\n",
       "      <td>0.037193</td>\n",
       "      <td>0.517302</td>\n",
       "      <td>0</td>\n",
       "      <td>1</td>\n",
       "      <td>entailment</td>\n",
       "    </tr>\n",
       "    <tr>\n",
       "      <th>1</th>\n",
       "      <td>0.103484</td>\n",
       "      <td>189.135700</td>\n",
       "      <td>2.585</td>\n",
       "      <td>1.784762</td>\n",
       "      <td>0.006869</td>\n",
       "      <td>0.251793</td>\n",
       "      <td>0</td>\n",
       "      <td>1</td>\n",
       "      <td>entailment</td>\n",
       "    </tr>\n",
       "    <tr>\n",
       "      <th>2</th>\n",
       "      <td>-0.009624</td>\n",
       "      <td>123.245390</td>\n",
       "      <td>3.948</td>\n",
       "      <td>3.902809</td>\n",
       "      <td>0.017327</td>\n",
       "      <td>0.289142</td>\n",
       "      <td>0</td>\n",
       "      <td>0</td>\n",
       "      <td>contradiction</td>\n",
       "    </tr>\n",
       "    <tr>\n",
       "      <th>3</th>\n",
       "      <td>0.000000</td>\n",
       "      <td>0.000000</td>\n",
       "      <td>0.000</td>\n",
       "      <td>0.000000</td>\n",
       "      <td>0.000000</td>\n",
       "      <td>NaN</td>\n",
       "      <td>0</td>\n",
       "      <td>0</td>\n",
       "      <td>contradiction</td>\n",
       "    </tr>\n",
       "    <tr>\n",
       "      <th>4</th>\n",
       "      <td>0.176506</td>\n",
       "      <td>113.819000</td>\n",
       "      <td>2.750</td>\n",
       "      <td>3.763009</td>\n",
       "      <td>0.011833</td>\n",
       "      <td>0.373197</td>\n",
       "      <td>0</td>\n",
       "      <td>0</td>\n",
       "      <td>neutral</td>\n",
       "    </tr>\n",
       "    <tr>\n",
       "      <th>...</th>\n",
       "      <td>...</td>\n",
       "      <td>...</td>\n",
       "      <td>...</td>\n",
       "      <td>...</td>\n",
       "      <td>...</td>\n",
       "      <td>...</td>\n",
       "      <td>...</td>\n",
       "      <td>...</td>\n",
       "      <td>...</td>\n",
       "    </tr>\n",
       "    <tr>\n",
       "      <th>95</th>\n",
       "      <td>-0.080292</td>\n",
       "      <td>247.618470</td>\n",
       "      <td>4.438</td>\n",
       "      <td>7.502547</td>\n",
       "      <td>0.035230</td>\n",
       "      <td>0.464188</td>\n",
       "      <td>0</td>\n",
       "      <td>1</td>\n",
       "      <td>entailment</td>\n",
       "    </tr>\n",
       "    <tr>\n",
       "      <th>96</th>\n",
       "      <td>0.000000</td>\n",
       "      <td>37.524600</td>\n",
       "      <td>0.000</td>\n",
       "      <td>0.000000</td>\n",
       "      <td>0.000000</td>\n",
       "      <td>NaN</td>\n",
       "      <td>0</td>\n",
       "      <td>0</td>\n",
       "      <td>entailment</td>\n",
       "    </tr>\n",
       "    <tr>\n",
       "      <th>97</th>\n",
       "      <td>0.160267</td>\n",
       "      <td>189.692380</td>\n",
       "      <td>3.640</td>\n",
       "      <td>5.416953</td>\n",
       "      <td>0.026852</td>\n",
       "      <td>0.316492</td>\n",
       "      <td>0</td>\n",
       "      <td>1</td>\n",
       "      <td>contradiction</td>\n",
       "    </tr>\n",
       "    <tr>\n",
       "      <th>98</th>\n",
       "      <td>0.291853</td>\n",
       "      <td>97.558205</td>\n",
       "      <td>2.000</td>\n",
       "      <td>3.773990</td>\n",
       "      <td>0.010269</td>\n",
       "      <td>0.363122</td>\n",
       "      <td>0</td>\n",
       "      <td>1</td>\n",
       "      <td>contradiction</td>\n",
       "    </tr>\n",
       "    <tr>\n",
       "      <th>99</th>\n",
       "      <td>0.139937</td>\n",
       "      <td>83.549545</td>\n",
       "      <td>3.684</td>\n",
       "      <td>3.732050</td>\n",
       "      <td>0.015430</td>\n",
       "      <td>0.403102</td>\n",
       "      <td>0</td>\n",
       "      <td>0</td>\n",
       "      <td>contradiction</td>\n",
       "    </tr>\n",
       "  </tbody>\n",
       "</table>\n",
       "<p>100 rows × 9 columns</p>\n",
       "</div>"
      ],
      "text/plain": [
       "        suma  distancias  entropias  mutual_info   m_earth  max_info_p  \\\n",
       "0  -0.264991  294.031950      4.839     9.576863  0.037193    0.517302   \n",
       "1   0.103484  189.135700      2.585     1.784762  0.006869    0.251793   \n",
       "2  -0.009624  123.245390      3.948     3.902809  0.017327    0.289142   \n",
       "3   0.000000    0.000000      0.000     0.000000  0.000000         NaN   \n",
       "4   0.176506  113.819000      2.750     3.763009  0.011833    0.373197   \n",
       "..       ...         ...        ...          ...       ...         ...   \n",
       "95 -0.080292  247.618470      4.438     7.502547  0.035230    0.464188   \n",
       "96  0.000000   37.524600      0.000     0.000000  0.000000         NaN   \n",
       "97  0.160267  189.692380      3.640     5.416953  0.026852    0.316492   \n",
       "98  0.291853   97.558205      2.000     3.773990  0.010269    0.363122   \n",
       "99  0.139937   83.549545      3.684     3.732050  0.015430    0.403102   \n",
       "\n",
       "    antonimos  relaciones          CLASS  \n",
       "0           0           1     entailment  \n",
       "1           0           1     entailment  \n",
       "2           0           0  contradiction  \n",
       "3           0           0  contradiction  \n",
       "4           0           0        neutral  \n",
       "..        ...         ...            ...  \n",
       "95          0           1     entailment  \n",
       "96          0           0     entailment  \n",
       "97          0           1  contradiction  \n",
       "98          0           1  contradiction  \n",
       "99          0           0  contradiction  \n",
       "\n",
       "[100 rows x 9 columns]"
      ]
     },
     "execution_count": 3,
     "metadata": {},
     "output_type": "execute_result"
    }
   ],
   "source": [
    "dataframe"
   ]
  },
  {
   "cell_type": "code",
   "execution_count": 4,
   "metadata": {},
   "outputs": [],
   "source": [
    "X = np.array(dataframe.drop(['CLASS'],axis=1))\n",
    "y_ = np.array(dataframe['CLASS'])"
   ]
  },
  {
   "cell_type": "code",
   "execution_count": 5,
   "metadata": {},
   "outputs": [],
   "source": [
    "y=[]\n",
    "for i in y_:\n",
    "    if i == \"contradiction\":\n",
    "        y.append(0)\n",
    "    elif i == \"entailment\":\n",
    "        y.append(1)\n",
    "    else:\n",
    "        y.append(2)"
   ]
  },
  {
   "cell_type": "code",
   "execution_count": 6,
   "metadata": {},
   "outputs": [],
   "source": [
    "scaler = preprocessing.StandardScaler().fit(X)\n",
    "X_scaled = scaler.transform(X)\n",
    "X = X_scaled"
   ]
  },
  {
   "cell_type": "code",
   "execution_count": 7,
   "metadata": {},
   "outputs": [],
   "source": [
    "X_train, X_test, y_train, y_test = train_test_split(X, y, test_size = 0.2,random_state=7)"
   ]
  },
  {
   "cell_type": "code",
   "execution_count": 8,
   "metadata": {},
   "outputs": [],
   "source": [
    "X_train = np.nan_to_num(X_train)\n",
    "X_test = np.nan_to_num(X_test)"
   ]
  },
  {
   "cell_type": "code",
   "execution_count": 9,
   "metadata": {},
   "outputs": [],
   "source": [
    "import xgboost as xgb"
   ]
  },
  {
   "cell_type": "code",
   "execution_count": 9,
   "metadata": {},
   "outputs": [],
   "source": [
    "# Define hyperparameters\n",
    "#params = {\"objective\": \"reg:squarederror\", \"tree_method\": \"gpu_hist\"}"
   ]
  },
  {
   "cell_type": "code",
   "execution_count": 10,
   "metadata": {},
   "outputs": [
    {
     "name": "stderr",
     "output_type": "stream",
     "text": [
      "/home/david/anaconda3/envs/rit/lib/python3.9/site-packages/xgboost/core.py:160: UserWarning: [21:43:56] WARNING: /workspace/src/common/error_msg.cc:58: Falling back to prediction using DMatrix due to mismatched devices. This might lead to higher memory usage and slower performance. XGBoost is running on: cuda:0, while the input data is on: cpu.\n",
      "Potential solutions:\n",
      "- Use a data structure that matches the device ordinal in the booster.\n",
      "- Set the device for booster before call to inplace_predict.\n",
      "\n",
      "This warning will only be shown once.\n",
      "\n",
      "  warnings.warn(smsg, UserWarning)\n"
     ]
    }
   ],
   "source": [
    "clf_xgb = xgb.XGBClassifier(objective='reg:logistic',n_estimators=1000,device=\"cuda\")\n",
    "clf_xgb.fit(X_train, y_train)\n",
    "preds_xgb = clf_xgb.predict(X_test)"
   ]
  },
  {
   "cell_type": "code",
   "execution_count": 11,
   "metadata": {},
   "outputs": [
    {
     "name": "stdout",
     "output_type": "stream",
     "text": [
      "Mean cross-validation score: 0.50\n"
     ]
    }
   ],
   "source": [
    "scores = cross_val_score(clf_xgb, X_train, y_train, cv=5)\n",
    "print(\"Mean cross-validation score: %.2f\" % scores.mean())"
   ]
  },
  {
   "cell_type": "code",
   "execution_count": 12,
   "metadata": {},
   "outputs": [
    {
     "name": "stdout",
     "output_type": "stream",
     "text": [
      "K-fold CV average score: 0.53\n"
     ]
    }
   ],
   "source": [
    "kfold = KFold(n_splits=20, shuffle=True)\n",
    "kf_cv_scores = cross_val_score(clf_xgb, X_train, y_train, cv=kfold )\n",
    "print(\"K-fold CV average score: %.2f\" % kf_cv_scores.mean())"
   ]
  },
  {
   "cell_type": "code",
   "execution_count": 13,
   "metadata": {},
   "outputs": [
    {
     "data": {
      "text/plain": [
       "0.75"
      ]
     },
     "execution_count": 13,
     "metadata": {},
     "output_type": "execute_result"
    }
   ],
   "source": [
    "accuracy_score(y_test,preds_xgb)"
   ]
  },
  {
   "cell_type": "code",
   "execution_count": 18,
   "metadata": {},
   "outputs": [],
   "source": [
    "clf_lr = LR().fit(X_train, y_train)"
   ]
  },
  {
   "cell_type": "code",
   "execution_count": 19,
   "metadata": {},
   "outputs": [
    {
     "name": "stdout",
     "output_type": "stream",
     "text": [
      "Accuracy de XGBoost:  0.75\n",
      "Accuracy de Logistic Regression:  0.7\n"
     ]
    }
   ],
   "source": [
    "accuracy_xgb = float(np.sum(preds_xgb == np.array(y_test)))/len(np.array(y_test))\n",
    "print('Accuracy de XGBoost: ', accuracy_xgb)\n",
    "accuracy_lr = clf_lr.score(X_test, y_test)\n",
    "print('Accuracy de Logistic Regression: ', accuracy_lr)"
   ]
  },
  {
   "cell_type": "code",
   "execution_count": 20,
   "metadata": {},
   "outputs": [
    {
     "data": {
      "text/plain": [
       "array([[4, 0, 1],\n",
       "       [1, 6, 0],\n",
       "       [0, 3, 5]])"
      ]
     },
     "execution_count": 20,
     "metadata": {},
     "output_type": "execute_result"
    }
   ],
   "source": [
    "confusion_matrix(y_test, preds_xgb)"
   ]
  },
  {
   "cell_type": "code",
   "execution_count": 21,
   "metadata": {},
   "outputs": [],
   "source": [
    "data=xgb.DMatrix(X, label=y)"
   ]
  },
  {
   "cell_type": "code",
   "execution_count": 16,
   "metadata": {},
   "outputs": [
    {
     "ename": "TypeError",
     "evalue": "cv() missing 1 required positional argument: 'dtrain'",
     "output_type": "error",
     "traceback": [
      "\u001b[0;31m---------------------------------------------------------------------------\u001b[0m",
      "\u001b[0;31mTypeError\u001b[0m                                 Traceback (most recent call last)",
      "\u001b[1;32m/home/david/OPENAI/XGBOOST_MRIT.ipynb Cell 16\u001b[0m line \u001b[0;36m2\n\u001b[1;32m      <a href='vscode-notebook-cell://ssh-remote%2B148.218.36.156/home/david/OPENAI/XGBOOST_MRIT.ipynb#X21sdnNjb2RlLXJlbW90ZQ%3D%3D?line=0'>1</a>\u001b[0m \u001b[39m#Performing cross-validation\u001b[39;00m\n\u001b[0;32m----> <a href='vscode-notebook-cell://ssh-remote%2B148.218.36.156/home/david/OPENAI/XGBOOST_MRIT.ipynb#X21sdnNjb2RlLXJlbW90ZQ%3D%3D?line=1'>2</a>\u001b[0m cv_results \u001b[39m=\u001b[39m xgb\u001b[39m.\u001b[39;49mcv(data, num_boost_round\u001b[39m=\u001b[39;49m\u001b[39m10\u001b[39;49m, nfold\u001b[39m=\u001b[39;49m\u001b[39m3\u001b[39;49m,metrics\u001b[39m=\u001b[39;49m\u001b[39m'\u001b[39;49m\u001b[39mlogloss\u001b[39;49m\u001b[39m'\u001b[39;49m, seed\u001b[39m=\u001b[39;49m\u001b[39m42\u001b[39;49m)\n\u001b[1;32m      <a href='vscode-notebook-cell://ssh-remote%2B148.218.36.156/home/david/OPENAI/XGBOOST_MRIT.ipynb#X21sdnNjb2RlLXJlbW90ZQ%3D%3D?line=3'>4</a>\u001b[0m \u001b[39m#Printing the results\u001b[39;00m\n\u001b[1;32m      <a href='vscode-notebook-cell://ssh-remote%2B148.218.36.156/home/david/OPENAI/XGBOOST_MRIT.ipynb#X21sdnNjb2RlLXJlbW90ZQ%3D%3D?line=4'>5</a>\u001b[0m \u001b[39mprint\u001b[39m(cv_results)\n",
      "\u001b[0;31mTypeError\u001b[0m: cv() missing 1 required positional argument: 'dtrain'"
     ]
    }
   ],
   "source": [
    "#Performing cross-validation\n",
    "#cv_results = xgb.cv(data, num_boost_round=10, nfold=3,metrics='logloss', seed=42)\n",
    "\n",
    "#Printing the results\n",
    "#print(cv_results)"
   ]
  }
 ],
 "metadata": {
  "kernelspec": {
   "display_name": "base",
   "language": "python",
   "name": "python3"
  },
  "language_info": {
   "codemirror_mode": {
    "name": "ipython",
    "version": 3
   },
   "file_extension": ".py",
   "mimetype": "text/x-python",
   "name": "python",
   "nbconvert_exporter": "python",
   "pygments_lexer": "ipython3",
   "version": "3.9.13"
  }
 },
 "nbformat": 4,
 "nbformat_minor": 2
}
