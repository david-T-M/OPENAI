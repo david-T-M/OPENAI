{
 "cells": [
  {
   "cell_type": "code",
   "execution_count": 819,
   "metadata": {},
   "outputs": [],
   "source": [
    "import pandas as pd\n",
    "import numpy as np\n",
    "from sklearn import linear_model\n",
    "from sklearn import model_selection\n",
    "from sklearn.metrics import classification_report\n",
    "from sklearn.metrics import confusion_matrix\n",
    "from sklearn.metrics import f1_score\n",
    "from sklearn.metrics import accuracy_score\n",
    "import matplotlib.pyplot as plt\n",
    "import seaborn as sb"
   ]
  },
  {
   "cell_type": "code",
   "execution_count": 820,
   "metadata": {},
   "outputs": [
    {
     "data": {
      "text/html": [
       "<div>\n",
       "<style scoped>\n",
       "    .dataframe tbody tr th:only-of-type {\n",
       "        vertical-align: middle;\n",
       "    }\n",
       "\n",
       "    .dataframe tbody tr th {\n",
       "        vertical-align: top;\n",
       "    }\n",
       "\n",
       "    .dataframe thead th {\n",
       "        text-align: right;\n",
       "    }\n",
       "</style>\n",
       "<table border=\"1\" class=\"dataframe\">\n",
       "  <thead>\n",
       "    <tr style=\"text-align: right;\">\n",
       "      <th></th>\n",
       "      <th>NOUN_NOUN</th>\n",
       "      <th>NOUN_ADJ</th>\n",
       "      <th>NOUN_VERB</th>\n",
       "      <th>NOUN_ADV</th>\n",
       "      <th>ADJ_NOUN</th>\n",
       "      <th>ADJ_ADJ</th>\n",
       "      <th>ADJ_VERB</th>\n",
       "      <th>ADJ_ADV</th>\n",
       "      <th>VERB_NOUN</th>\n",
       "      <th>VERB_ADJ</th>\n",
       "      <th>...</th>\n",
       "      <th>ADV_VERB_r</th>\n",
       "      <th>ADV_ADV_r</th>\n",
       "      <th>sinonimos</th>\n",
       "      <th>antonimos</th>\n",
       "      <th>hiperonimos</th>\n",
       "      <th>hiponimos</th>\n",
       "      <th>relacionesf</th>\n",
       "      <th>dif</th>\n",
       "      <th>accion</th>\n",
       "      <th>CLASS</th>\n",
       "    </tr>\n",
       "  </thead>\n",
       "  <tbody>\n",
       "    <tr>\n",
       "      <th>0</th>\n",
       "      <td>28.645093</td>\n",
       "      <td>1.631951</td>\n",
       "      <td>9.032564</td>\n",
       "      <td>0.000000</td>\n",
       "      <td>6.144412</td>\n",
       "      <td>0.127508</td>\n",
       "      <td>0.000000</td>\n",
       "      <td>0.00000</td>\n",
       "      <td>4.677207</td>\n",
       "      <td>0.303176</td>\n",
       "      <td>...</td>\n",
       "      <td>0.000000</td>\n",
       "      <td>0.0</td>\n",
       "      <td>0</td>\n",
       "      <td>0</td>\n",
       "      <td>2</td>\n",
       "      <td>2</td>\n",
       "      <td>6</td>\n",
       "      <td>0.900000</td>\n",
       "      <td>0.235279</td>\n",
       "      <td>entailment</td>\n",
       "    </tr>\n",
       "    <tr>\n",
       "      <th>1</th>\n",
       "      <td>26.671300</td>\n",
       "      <td>3.984223</td>\n",
       "      <td>4.437697</td>\n",
       "      <td>0.000000</td>\n",
       "      <td>2.492923</td>\n",
       "      <td>8.615627</td>\n",
       "      <td>0.000000</td>\n",
       "      <td>0.00000</td>\n",
       "      <td>9.887845</td>\n",
       "      <td>0.000000</td>\n",
       "      <td>...</td>\n",
       "      <td>0.000000</td>\n",
       "      <td>0.0</td>\n",
       "      <td>4</td>\n",
       "      <td>0</td>\n",
       "      <td>0</td>\n",
       "      <td>1</td>\n",
       "      <td>7</td>\n",
       "      <td>1.045455</td>\n",
       "      <td>0.182328</td>\n",
       "      <td>entailment</td>\n",
       "    </tr>\n",
       "    <tr>\n",
       "      <th>2</th>\n",
       "      <td>14.880619</td>\n",
       "      <td>1.824592</td>\n",
       "      <td>3.687874</td>\n",
       "      <td>0.000000</td>\n",
       "      <td>5.383794</td>\n",
       "      <td>1.300978</td>\n",
       "      <td>3.665578</td>\n",
       "      <td>0.00000</td>\n",
       "      <td>1.199861</td>\n",
       "      <td>0.347017</td>\n",
       "      <td>...</td>\n",
       "      <td>0.000000</td>\n",
       "      <td>0.0</td>\n",
       "      <td>1</td>\n",
       "      <td>0</td>\n",
       "      <td>0</td>\n",
       "      <td>0</td>\n",
       "      <td>0</td>\n",
       "      <td>1.000000</td>\n",
       "      <td>0.360803</td>\n",
       "      <td>contradiction</td>\n",
       "    </tr>\n",
       "    <tr>\n",
       "      <th>3</th>\n",
       "      <td>7.112267</td>\n",
       "      <td>0.000000</td>\n",
       "      <td>4.998954</td>\n",
       "      <td>0.000000</td>\n",
       "      <td>3.913144</td>\n",
       "      <td>0.000000</td>\n",
       "      <td>0.000000</td>\n",
       "      <td>0.00000</td>\n",
       "      <td>4.153236</td>\n",
       "      <td>0.000000</td>\n",
       "      <td>...</td>\n",
       "      <td>0.000000</td>\n",
       "      <td>0.0</td>\n",
       "      <td>2</td>\n",
       "      <td>0</td>\n",
       "      <td>0</td>\n",
       "      <td>0</td>\n",
       "      <td>2</td>\n",
       "      <td>0.920000</td>\n",
       "      <td>1.000000</td>\n",
       "      <td>contradiction</td>\n",
       "    </tr>\n",
       "    <tr>\n",
       "      <th>4</th>\n",
       "      <td>14.623623</td>\n",
       "      <td>0.000000</td>\n",
       "      <td>1.083491</td>\n",
       "      <td>0.000000</td>\n",
       "      <td>1.657801</td>\n",
       "      <td>0.000000</td>\n",
       "      <td>0.000000</td>\n",
       "      <td>0.00000</td>\n",
       "      <td>3.077783</td>\n",
       "      <td>0.000000</td>\n",
       "      <td>...</td>\n",
       "      <td>0.411897</td>\n",
       "      <td>0.0</td>\n",
       "      <td>2</td>\n",
       "      <td>0</td>\n",
       "      <td>0</td>\n",
       "      <td>0</td>\n",
       "      <td>1</td>\n",
       "      <td>0.809524</td>\n",
       "      <td>0.459732</td>\n",
       "      <td>neutral</td>\n",
       "    </tr>\n",
       "    <tr>\n",
       "      <th>...</th>\n",
       "      <td>...</td>\n",
       "      <td>...</td>\n",
       "      <td>...</td>\n",
       "      <td>...</td>\n",
       "      <td>...</td>\n",
       "      <td>...</td>\n",
       "      <td>...</td>\n",
       "      <td>...</td>\n",
       "      <td>...</td>\n",
       "      <td>...</td>\n",
       "      <td>...</td>\n",
       "      <td>...</td>\n",
       "      <td>...</td>\n",
       "      <td>...</td>\n",
       "      <td>...</td>\n",
       "      <td>...</td>\n",
       "      <td>...</td>\n",
       "      <td>...</td>\n",
       "      <td>...</td>\n",
       "      <td>...</td>\n",
       "      <td>...</td>\n",
       "    </tr>\n",
       "    <tr>\n",
       "      <th>95</th>\n",
       "      <td>22.531673</td>\n",
       "      <td>4.194771</td>\n",
       "      <td>1.396518</td>\n",
       "      <td>1.896350</td>\n",
       "      <td>0.000000</td>\n",
       "      <td>5.424360</td>\n",
       "      <td>1.283683</td>\n",
       "      <td>0.00000</td>\n",
       "      <td>3.104924</td>\n",
       "      <td>1.004280</td>\n",
       "      <td>...</td>\n",
       "      <td>0.000000</td>\n",
       "      <td>0.0</td>\n",
       "      <td>1</td>\n",
       "      <td>0</td>\n",
       "      <td>0</td>\n",
       "      <td>2</td>\n",
       "      <td>2</td>\n",
       "      <td>0.650000</td>\n",
       "      <td>1.000000</td>\n",
       "      <td>entailment</td>\n",
       "    </tr>\n",
       "    <tr>\n",
       "      <th>96</th>\n",
       "      <td>11.299096</td>\n",
       "      <td>0.000000</td>\n",
       "      <td>0.397504</td>\n",
       "      <td>0.000000</td>\n",
       "      <td>5.716955</td>\n",
       "      <td>0.000000</td>\n",
       "      <td>0.512868</td>\n",
       "      <td>0.00000</td>\n",
       "      <td>0.000000</td>\n",
       "      <td>0.000000</td>\n",
       "      <td>...</td>\n",
       "      <td>0.000000</td>\n",
       "      <td>0.0</td>\n",
       "      <td>3</td>\n",
       "      <td>0</td>\n",
       "      <td>0</td>\n",
       "      <td>1</td>\n",
       "      <td>0</td>\n",
       "      <td>0.444444</td>\n",
       "      <td>0.895790</td>\n",
       "      <td>entailment</td>\n",
       "    </tr>\n",
       "    <tr>\n",
       "      <th>97</th>\n",
       "      <td>6.672148</td>\n",
       "      <td>0.000000</td>\n",
       "      <td>5.138863</td>\n",
       "      <td>0.000000</td>\n",
       "      <td>0.000000</td>\n",
       "      <td>0.000000</td>\n",
       "      <td>0.000000</td>\n",
       "      <td>0.00000</td>\n",
       "      <td>3.334945</td>\n",
       "      <td>0.000000</td>\n",
       "      <td>...</td>\n",
       "      <td>0.000000</td>\n",
       "      <td>0.0</td>\n",
       "      <td>0</td>\n",
       "      <td>0</td>\n",
       "      <td>0</td>\n",
       "      <td>0</td>\n",
       "      <td>2</td>\n",
       "      <td>0.923077</td>\n",
       "      <td>0.265505</td>\n",
       "      <td>contradiction</td>\n",
       "    </tr>\n",
       "    <tr>\n",
       "      <th>98</th>\n",
       "      <td>7.110450</td>\n",
       "      <td>0.000000</td>\n",
       "      <td>0.658881</td>\n",
       "      <td>0.000000</td>\n",
       "      <td>0.000000</td>\n",
       "      <td>0.000000</td>\n",
       "      <td>0.000000</td>\n",
       "      <td>0.00000</td>\n",
       "      <td>2.450452</td>\n",
       "      <td>0.000000</td>\n",
       "      <td>...</td>\n",
       "      <td>0.000000</td>\n",
       "      <td>0.0</td>\n",
       "      <td>2</td>\n",
       "      <td>0</td>\n",
       "      <td>0</td>\n",
       "      <td>0</td>\n",
       "      <td>0</td>\n",
       "      <td>1.222222</td>\n",
       "      <td>0.577761</td>\n",
       "      <td>contradiction</td>\n",
       "    </tr>\n",
       "    <tr>\n",
       "      <th>99</th>\n",
       "      <td>13.319034</td>\n",
       "      <td>0.000000</td>\n",
       "      <td>0.192194</td>\n",
       "      <td>3.825311</td>\n",
       "      <td>2.598276</td>\n",
       "      <td>0.000000</td>\n",
       "      <td>0.063817</td>\n",
       "      <td>1.18074</td>\n",
       "      <td>5.300272</td>\n",
       "      <td>0.000000</td>\n",
       "      <td>...</td>\n",
       "      <td>0.000000</td>\n",
       "      <td>0.0</td>\n",
       "      <td>1</td>\n",
       "      <td>0</td>\n",
       "      <td>0</td>\n",
       "      <td>0</td>\n",
       "      <td>2</td>\n",
       "      <td>1.178571</td>\n",
       "      <td>0.252164</td>\n",
       "      <td>contradiction</td>\n",
       "    </tr>\n",
       "  </tbody>\n",
       "</table>\n",
       "<p>100 rows × 56 columns</p>\n",
       "</div>"
      ],
      "text/plain": [
       "    NOUN_NOUN  NOUN_ADJ  NOUN_VERB  NOUN_ADV  ADJ_NOUN   ADJ_ADJ  ADJ_VERB  \\\n",
       "0   28.645093  1.631951   9.032564  0.000000  6.144412  0.127508  0.000000   \n",
       "1   26.671300  3.984223   4.437697  0.000000  2.492923  8.615627  0.000000   \n",
       "2   14.880619  1.824592   3.687874  0.000000  5.383794  1.300978  3.665578   \n",
       "3    7.112267  0.000000   4.998954  0.000000  3.913144  0.000000  0.000000   \n",
       "4   14.623623  0.000000   1.083491  0.000000  1.657801  0.000000  0.000000   \n",
       "..        ...       ...        ...       ...       ...       ...       ...   \n",
       "95  22.531673  4.194771   1.396518  1.896350  0.000000  5.424360  1.283683   \n",
       "96  11.299096  0.000000   0.397504  0.000000  5.716955  0.000000  0.512868   \n",
       "97   6.672148  0.000000   5.138863  0.000000  0.000000  0.000000  0.000000   \n",
       "98   7.110450  0.000000   0.658881  0.000000  0.000000  0.000000  0.000000   \n",
       "99  13.319034  0.000000   0.192194  3.825311  2.598276  0.000000  0.063817   \n",
       "\n",
       "    ADJ_ADV  VERB_NOUN  VERB_ADJ  ...  ADV_VERB_r  ADV_ADV_r  sinonimos  \\\n",
       "0   0.00000   4.677207  0.303176  ...    0.000000        0.0          0   \n",
       "1   0.00000   9.887845  0.000000  ...    0.000000        0.0          4   \n",
       "2   0.00000   1.199861  0.347017  ...    0.000000        0.0          1   \n",
       "3   0.00000   4.153236  0.000000  ...    0.000000        0.0          2   \n",
       "4   0.00000   3.077783  0.000000  ...    0.411897        0.0          2   \n",
       "..      ...        ...       ...  ...         ...        ...        ...   \n",
       "95  0.00000   3.104924  1.004280  ...    0.000000        0.0          1   \n",
       "96  0.00000   0.000000  0.000000  ...    0.000000        0.0          3   \n",
       "97  0.00000   3.334945  0.000000  ...    0.000000        0.0          0   \n",
       "98  0.00000   2.450452  0.000000  ...    0.000000        0.0          2   \n",
       "99  1.18074   5.300272  0.000000  ...    0.000000        0.0          1   \n",
       "\n",
       "    antonimos  hiperonimos  hiponimos  relacionesf       dif    accion  \\\n",
       "0           0            2          2            6  0.900000  0.235279   \n",
       "1           0            0          1            7  1.045455  0.182328   \n",
       "2           0            0          0            0  1.000000  0.360803   \n",
       "3           0            0          0            2  0.920000  1.000000   \n",
       "4           0            0          0            1  0.809524  0.459732   \n",
       "..        ...          ...        ...          ...       ...       ...   \n",
       "95          0            0          2            2  0.650000  1.000000   \n",
       "96          0            0          1            0  0.444444  0.895790   \n",
       "97          0            0          0            2  0.923077  0.265505   \n",
       "98          0            0          0            0  1.222222  0.577761   \n",
       "99          0            0          0            2  1.178571  0.252164   \n",
       "\n",
       "            CLASS  \n",
       "0      entailment  \n",
       "1      entailment  \n",
       "2   contradiction  \n",
       "3   contradiction  \n",
       "4         neutral  \n",
       "..            ...  \n",
       "95     entailment  \n",
       "96     entailment  \n",
       "97  contradiction  \n",
       "98  contradiction  \n",
       "99  contradiction  \n",
       "\n",
       "[100 rows x 56 columns]"
      ]
     },
     "execution_count": 820,
     "metadata": {},
     "output_type": "execute_result"
    }
   ],
   "source": [
    "#dataframe = pd.read_csv(r\"TipoPalabra_conteos_mean_umbral_mean.csv\")\n",
    "#dataframe = pd.read_csv(r\"TipoPalabra_conteos_umbral_mean_relsemanf_sim0.7.csv\")\n",
    "#dataframe = pd.read_csv(r\"TipoPalabra_conteos_umbral_mean_relsemanf_sim0.8.csv\")\n",
    "dataframe = pd.read_csv(r\"TipoPalabra_conteos_umbral_mean_relsemanf_root_difTH_porcentajeR_3.csv\")\n",
    "dataframe"
   ]
  },
  {
   "cell_type": "code",
   "execution_count": 821,
   "metadata": {},
   "outputs": [],
   "source": [
    "#dataframe.corr()"
   ]
  },
  {
   "cell_type": "code",
   "execution_count": 822,
   "metadata": {},
   "outputs": [
    {
     "data": {
      "text/html": [
       "<div>\n",
       "<style scoped>\n",
       "    .dataframe tbody tr th:only-of-type {\n",
       "        vertical-align: middle;\n",
       "    }\n",
       "\n",
       "    .dataframe tbody tr th {\n",
       "        vertical-align: top;\n",
       "    }\n",
       "\n",
       "    .dataframe thead th {\n",
       "        text-align: right;\n",
       "    }\n",
       "</style>\n",
       "<table border=\"1\" class=\"dataframe\">\n",
       "  <thead>\n",
       "    <tr style=\"text-align: right;\">\n",
       "      <th></th>\n",
       "      <th>NOUN_NOUN</th>\n",
       "      <th>NOUN_ADJ</th>\n",
       "      <th>NOUN_VERB</th>\n",
       "      <th>NOUN_ADV</th>\n",
       "      <th>ADJ_NOUN</th>\n",
       "      <th>ADJ_ADJ</th>\n",
       "      <th>ADJ_VERB</th>\n",
       "      <th>ADJ_ADV</th>\n",
       "      <th>VERB_NOUN</th>\n",
       "      <th>VERB_ADJ</th>\n",
       "      <th>...</th>\n",
       "      <th>ADV_ADJ_r</th>\n",
       "      <th>ADV_VERB_r</th>\n",
       "      <th>ADV_ADV_r</th>\n",
       "      <th>sinonimos</th>\n",
       "      <th>antonimos</th>\n",
       "      <th>hiperonimos</th>\n",
       "      <th>hiponimos</th>\n",
       "      <th>relacionesf</th>\n",
       "      <th>dif</th>\n",
       "      <th>accion</th>\n",
       "    </tr>\n",
       "  </thead>\n",
       "  <tbody>\n",
       "    <tr>\n",
       "      <th>count</th>\n",
       "      <td>100.000000</td>\n",
       "      <td>100.000000</td>\n",
       "      <td>100.000000</td>\n",
       "      <td>100.000000</td>\n",
       "      <td>100.000000</td>\n",
       "      <td>100.000000</td>\n",
       "      <td>100.000000</td>\n",
       "      <td>100.000000</td>\n",
       "      <td>100.000000</td>\n",
       "      <td>100.000000</td>\n",
       "      <td>...</td>\n",
       "      <td>100.000000</td>\n",
       "      <td>100.000000</td>\n",
       "      <td>100.000000</td>\n",
       "      <td>100.000000</td>\n",
       "      <td>100.000000</td>\n",
       "      <td>100.000000</td>\n",
       "      <td>100.000000</td>\n",
       "      <td>100.000000</td>\n",
       "      <td>100.000000</td>\n",
       "      <td>100.000000</td>\n",
       "    </tr>\n",
       "    <tr>\n",
       "      <th>mean</th>\n",
       "      <td>18.000084</td>\n",
       "      <td>1.966909</td>\n",
       "      <td>3.329762</td>\n",
       "      <td>0.714661</td>\n",
       "      <td>4.027800</td>\n",
       "      <td>1.670292</td>\n",
       "      <td>0.708723</td>\n",
       "      <td>0.286763</td>\n",
       "      <td>3.231024</td>\n",
       "      <td>0.323173</td>\n",
       "      <td>...</td>\n",
       "      <td>0.066035</td>\n",
       "      <td>0.119613</td>\n",
       "      <td>0.032855</td>\n",
       "      <td>2.070000</td>\n",
       "      <td>0.030000</td>\n",
       "      <td>0.380000</td>\n",
       "      <td>0.330000</td>\n",
       "      <td>2.120000</td>\n",
       "      <td>1.009862</td>\n",
       "      <td>0.536207</td>\n",
       "    </tr>\n",
       "    <tr>\n",
       "      <th>std</th>\n",
       "      <td>13.066107</td>\n",
       "      <td>3.663051</td>\n",
       "      <td>3.705304</td>\n",
       "      <td>1.865683</td>\n",
       "      <td>5.916808</td>\n",
       "      <td>3.708663</td>\n",
       "      <td>1.476073</td>\n",
       "      <td>1.224743</td>\n",
       "      <td>3.755477</td>\n",
       "      <td>0.811359</td>\n",
       "      <td>...</td>\n",
       "      <td>0.276378</td>\n",
       "      <td>0.481001</td>\n",
       "      <td>0.233131</td>\n",
       "      <td>1.465116</td>\n",
       "      <td>0.171447</td>\n",
       "      <td>0.599326</td>\n",
       "      <td>0.667499</td>\n",
       "      <td>2.621897</td>\n",
       "      <td>0.224374</td>\n",
       "      <td>0.305829</td>\n",
       "    </tr>\n",
       "    <tr>\n",
       "      <th>min</th>\n",
       "      <td>0.916115</td>\n",
       "      <td>0.000000</td>\n",
       "      <td>0.000000</td>\n",
       "      <td>0.000000</td>\n",
       "      <td>0.000000</td>\n",
       "      <td>0.000000</td>\n",
       "      <td>0.000000</td>\n",
       "      <td>0.000000</td>\n",
       "      <td>0.000000</td>\n",
       "      <td>0.000000</td>\n",
       "      <td>...</td>\n",
       "      <td>0.000000</td>\n",
       "      <td>0.000000</td>\n",
       "      <td>0.000000</td>\n",
       "      <td>0.000000</td>\n",
       "      <td>0.000000</td>\n",
       "      <td>0.000000</td>\n",
       "      <td>0.000000</td>\n",
       "      <td>0.000000</td>\n",
       "      <td>0.444444</td>\n",
       "      <td>0.179143</td>\n",
       "    </tr>\n",
       "    <tr>\n",
       "      <th>25%</th>\n",
       "      <td>9.314418</td>\n",
       "      <td>0.000000</td>\n",
       "      <td>0.325808</td>\n",
       "      <td>0.000000</td>\n",
       "      <td>0.000000</td>\n",
       "      <td>0.000000</td>\n",
       "      <td>0.000000</td>\n",
       "      <td>0.000000</td>\n",
       "      <td>1.096962</td>\n",
       "      <td>0.000000</td>\n",
       "      <td>...</td>\n",
       "      <td>0.000000</td>\n",
       "      <td>0.000000</td>\n",
       "      <td>0.000000</td>\n",
       "      <td>1.000000</td>\n",
       "      <td>0.000000</td>\n",
       "      <td>0.000000</td>\n",
       "      <td>0.000000</td>\n",
       "      <td>0.000000</td>\n",
       "      <td>0.875000</td>\n",
       "      <td>0.286664</td>\n",
       "    </tr>\n",
       "    <tr>\n",
       "      <th>50%</th>\n",
       "      <td>14.530209</td>\n",
       "      <td>0.000000</td>\n",
       "      <td>2.048562</td>\n",
       "      <td>0.000000</td>\n",
       "      <td>2.046613</td>\n",
       "      <td>0.000000</td>\n",
       "      <td>0.000000</td>\n",
       "      <td>0.000000</td>\n",
       "      <td>2.370600</td>\n",
       "      <td>0.000000</td>\n",
       "      <td>...</td>\n",
       "      <td>0.000000</td>\n",
       "      <td>0.000000</td>\n",
       "      <td>0.000000</td>\n",
       "      <td>2.000000</td>\n",
       "      <td>0.000000</td>\n",
       "      <td>0.000000</td>\n",
       "      <td>0.000000</td>\n",
       "      <td>1.000000</td>\n",
       "      <td>1.000000</td>\n",
       "      <td>0.398907</td>\n",
       "    </tr>\n",
       "    <tr>\n",
       "      <th>75%</th>\n",
       "      <td>22.358584</td>\n",
       "      <td>2.639672</td>\n",
       "      <td>5.007361</td>\n",
       "      <td>0.000000</td>\n",
       "      <td>5.493229</td>\n",
       "      <td>0.862745</td>\n",
       "      <td>0.984578</td>\n",
       "      <td>0.000000</td>\n",
       "      <td>3.736365</td>\n",
       "      <td>0.000000</td>\n",
       "      <td>...</td>\n",
       "      <td>0.000000</td>\n",
       "      <td>0.000000</td>\n",
       "      <td>0.000000</td>\n",
       "      <td>3.000000</td>\n",
       "      <td>0.000000</td>\n",
       "      <td>1.000000</td>\n",
       "      <td>0.000000</td>\n",
       "      <td>3.000000</td>\n",
       "      <td>1.133540</td>\n",
       "      <td>0.889210</td>\n",
       "    </tr>\n",
       "    <tr>\n",
       "      <th>max</th>\n",
       "      <td>72.258190</td>\n",
       "      <td>19.695068</td>\n",
       "      <td>19.075915</td>\n",
       "      <td>8.491863</td>\n",
       "      <td>35.697347</td>\n",
       "      <td>20.094136</td>\n",
       "      <td>8.336549</td>\n",
       "      <td>9.572460</td>\n",
       "      <td>20.975957</td>\n",
       "      <td>5.915599</td>\n",
       "      <td>...</td>\n",
       "      <td>2.075943</td>\n",
       "      <td>3.635319</td>\n",
       "      <td>1.856513</td>\n",
       "      <td>6.000000</td>\n",
       "      <td>1.000000</td>\n",
       "      <td>2.000000</td>\n",
       "      <td>3.000000</td>\n",
       "      <td>13.000000</td>\n",
       "      <td>1.777778</td>\n",
       "      <td>1.000000</td>\n",
       "    </tr>\n",
       "  </tbody>\n",
       "</table>\n",
       "<p>8 rows × 55 columns</p>\n",
       "</div>"
      ],
      "text/plain": [
       "        NOUN_NOUN    NOUN_ADJ   NOUN_VERB    NOUN_ADV    ADJ_NOUN     ADJ_ADJ  \\\n",
       "count  100.000000  100.000000  100.000000  100.000000  100.000000  100.000000   \n",
       "mean    18.000084    1.966909    3.329762    0.714661    4.027800    1.670292   \n",
       "std     13.066107    3.663051    3.705304    1.865683    5.916808    3.708663   \n",
       "min      0.916115    0.000000    0.000000    0.000000    0.000000    0.000000   \n",
       "25%      9.314418    0.000000    0.325808    0.000000    0.000000    0.000000   \n",
       "50%     14.530209    0.000000    2.048562    0.000000    2.046613    0.000000   \n",
       "75%     22.358584    2.639672    5.007361    0.000000    5.493229    0.862745   \n",
       "max     72.258190   19.695068   19.075915    8.491863   35.697347   20.094136   \n",
       "\n",
       "         ADJ_VERB     ADJ_ADV   VERB_NOUN    VERB_ADJ  ...   ADV_ADJ_r  \\\n",
       "count  100.000000  100.000000  100.000000  100.000000  ...  100.000000   \n",
       "mean     0.708723    0.286763    3.231024    0.323173  ...    0.066035   \n",
       "std      1.476073    1.224743    3.755477    0.811359  ...    0.276378   \n",
       "min      0.000000    0.000000    0.000000    0.000000  ...    0.000000   \n",
       "25%      0.000000    0.000000    1.096962    0.000000  ...    0.000000   \n",
       "50%      0.000000    0.000000    2.370600    0.000000  ...    0.000000   \n",
       "75%      0.984578    0.000000    3.736365    0.000000  ...    0.000000   \n",
       "max      8.336549    9.572460   20.975957    5.915599  ...    2.075943   \n",
       "\n",
       "       ADV_VERB_r   ADV_ADV_r   sinonimos   antonimos  hiperonimos  \\\n",
       "count  100.000000  100.000000  100.000000  100.000000   100.000000   \n",
       "mean     0.119613    0.032855    2.070000    0.030000     0.380000   \n",
       "std      0.481001    0.233131    1.465116    0.171447     0.599326   \n",
       "min      0.000000    0.000000    0.000000    0.000000     0.000000   \n",
       "25%      0.000000    0.000000    1.000000    0.000000     0.000000   \n",
       "50%      0.000000    0.000000    2.000000    0.000000     0.000000   \n",
       "75%      0.000000    0.000000    3.000000    0.000000     1.000000   \n",
       "max      3.635319    1.856513    6.000000    1.000000     2.000000   \n",
       "\n",
       "        hiponimos  relacionesf         dif      accion  \n",
       "count  100.000000   100.000000  100.000000  100.000000  \n",
       "mean     0.330000     2.120000    1.009862    0.536207  \n",
       "std      0.667499     2.621897    0.224374    0.305829  \n",
       "min      0.000000     0.000000    0.444444    0.179143  \n",
       "25%      0.000000     0.000000    0.875000    0.286664  \n",
       "50%      0.000000     1.000000    1.000000    0.398907  \n",
       "75%      0.000000     3.000000    1.133540    0.889210  \n",
       "max      3.000000    13.000000    1.777778    1.000000  \n",
       "\n",
       "[8 rows x 55 columns]"
      ]
     },
     "execution_count": 822,
     "metadata": {},
     "output_type": "execute_result"
    }
   ],
   "source": [
    "dataframe.describe()"
   ]
  },
  {
   "cell_type": "code",
   "execution_count": 823,
   "metadata": {},
   "outputs": [
    {
     "name": "stdout",
     "output_type": "stream",
     "text": [
      "CLASS\n",
      "contradiction    27\n",
      "entailment       42\n",
      "neutral          31\n",
      "dtype: int64\n"
     ]
    }
   ],
   "source": [
    "print(dataframe.groupby('CLASS').size())"
   ]
  },
  {
   "cell_type": "code",
   "execution_count": 824,
   "metadata": {},
   "outputs": [
    {
     "data": {
      "image/png": "[encoded data removed]",
      "text/plain": [
       "<Figure size 2000x1000 with 56 Axes>"
      ]
     },
     "metadata": {},
     "output_type": "display_data"
    }
   ],
   "source": [
    "dataframe.hist(figsize=(20,10))\n",
    "plt.show()"
   ]
  },
  {
   "cell_type": "code",
   "execution_count": 825,
   "metadata": {},
   "outputs": [],
   "source": [
    "labels=['NOUN_NOUN',\n",
    " 'NOUN_ADJ',\n",
    " 'NOUN_VERB',\n",
    " 'NOUN_ADV',\n",
    " 'ADJ_NOUN',\n",
    " 'ADJ_ADJ',\n",
    " 'ADJ_VERB',\n",
    " 'ADJ_ADV',\n",
    " 'VERB_NOUN',\n",
    " 'VERB_ADJ',\n",
    " 'VERB_VERB',\n",
    " 'VERB_ADV',\n",
    " 'ADV_NOUN',\n",
    " 'ADV_ADJ',\n",
    " 'ADV_VERB',\n",
    " 'ADV_ADV']"
   ]
  },
  {
   "cell_type": "code",
   "execution_count": 826,
   "metadata": {},
   "outputs": [],
   "source": [
    "#sb.pairplot(dataframe.dropna(), hue='CLASS',size=4,vars=labels,kind='reg')"
   ]
  },
  {
   "cell_type": "code",
   "execution_count": 827,
   "metadata": {},
   "outputs": [
    {
     "name": "stderr",
     "output_type": "stream",
     "text": [
      "C:\\Users\\Ninja\\AppData\\Local\\Temp\\ipykernel_13280\\1802400925.py:1: FutureWarning: In a future version of pandas all arguments of DataFrame.drop except for the argument 'labels' will be keyword-only.\n",
      "  X = np.array(dataframe.drop(['CLASS'],1))\n",
      "C:\\Users\\Ninja\\AppData\\Local\\Temp\\ipykernel_13280\\1802400925.py:2: FutureWarning: In a future version of pandas all arguments of DataFrame.drop except for the argument 'labels' will be keyword-only.\n",
      "  X_test = np.array(dataframe.drop(['CLASS'],1))\n"
     ]
    },
    {
     "data": {
      "text/plain": [
       "(100, 55)"
      ]
     },
     "execution_count": 827,
     "metadata": {},
     "output_type": "execute_result"
    }
   ],
   "source": [
    "X = np.array(dataframe.drop(['CLASS'],1))\n",
    "X_test = np.array(dataframe.drop(['CLASS'],1))\n",
    "y = np.array(dataframe['CLASS'])\n",
    "y_test =np.array(dataframe['CLASS'])\n",
    "X.shape"
   ]
  },
  {
   "cell_type": "code",
   "execution_count": 828,
   "metadata": {},
   "outputs": [
    {
     "data": {
      "text/plain": [
       "array(['entailment', 'entailment', 'contradiction', 'contradiction',\n",
       "       'neutral', 'neutral', 'neutral', 'entailment', 'neutral',\n",
       "       'entailment', 'neutral', 'contradiction', 'entailment',\n",
       "       'contradiction', 'neutral', 'neutral', 'entailment',\n",
       "       'contradiction', 'contradiction', 'entailment', 'entailment',\n",
       "       'entailment', 'neutral', 'contradiction', 'entailment', 'neutral',\n",
       "       'entailment', 'entailment', 'entailment', 'neutral', 'neutral',\n",
       "       'contradiction', 'contradiction', 'entailment', 'contradiction',\n",
       "       'neutral', 'entailment', 'neutral', 'neutral', 'entailment',\n",
       "       'neutral', 'neutral', 'contradiction', 'neutral', 'entailment',\n",
       "       'neutral', 'neutral', 'entailment', 'contradiction', 'neutral',\n",
       "       'entailment', 'entailment', 'neutral', 'entailment',\n",
       "       'contradiction', 'entailment', 'entailment', 'neutral', 'neutral',\n",
       "       'neutral', 'neutral', 'neutral', 'neutral', 'entailment',\n",
       "       'entailment', 'contradiction', 'entailment', 'entailment',\n",
       "       'neutral', 'contradiction', 'entailment', 'contradiction',\n",
       "       'contradiction', 'contradiction', 'neutral', 'entailment',\n",
       "       'entailment', 'entailment', 'entailment', 'contradiction',\n",
       "       'neutral', 'entailment', 'entailment', 'entailment',\n",
       "       'contradiction', 'entailment', 'entailment', 'entailment',\n",
       "       'contradiction', 'contradiction', 'contradiction', 'neutral',\n",
       "       'entailment', 'entailment', 'contradiction', 'entailment',\n",
       "       'entailment', 'contradiction', 'contradiction', 'contradiction'],\n",
       "      dtype=object)"
      ]
     },
     "execution_count": 828,
     "metadata": {},
     "output_type": "execute_result"
    }
   ],
   "source": [
    "y_test"
   ]
  },
  {
   "cell_type": "code",
   "execution_count": 829,
   "metadata": {},
   "outputs": [
    {
     "data": {
      "text/plain": [
       "array(['entailment', 'entailment', 'contradiction', 'contradiction',\n",
       "       'neutral', 'neutral', 'neutral', 'entailment', 'neutral',\n",
       "       'entailment', 'neutral', 'contradiction', 'entailment',\n",
       "       'contradiction', 'neutral', 'neutral', 'entailment',\n",
       "       'contradiction', 'contradiction', 'entailment', 'entailment',\n",
       "       'entailment', 'neutral', 'contradiction', 'entailment', 'neutral',\n",
       "       'entailment', 'entailment', 'entailment', 'neutral', 'neutral',\n",
       "       'contradiction', 'contradiction', 'entailment', 'contradiction',\n",
       "       'neutral', 'entailment', 'neutral', 'neutral', 'entailment',\n",
       "       'neutral', 'neutral', 'contradiction', 'neutral', 'entailment',\n",
       "       'neutral', 'neutral', 'entailment', 'contradiction', 'neutral',\n",
       "       'entailment', 'entailment', 'neutral', 'entailment',\n",
       "       'contradiction', 'entailment', 'entailment', 'neutral', 'neutral',\n",
       "       'neutral', 'neutral', 'neutral', 'neutral', 'entailment',\n",
       "       'entailment', 'contradiction', 'entailment', 'entailment',\n",
       "       'neutral', 'contradiction', 'entailment', 'contradiction',\n",
       "       'contradiction', 'contradiction', 'neutral', 'entailment',\n",
       "       'entailment', 'entailment', 'entailment', 'contradiction',\n",
       "       'neutral', 'entailment', 'entailment', 'entailment',\n",
       "       'contradiction', 'entailment', 'entailment', 'entailment',\n",
       "       'contradiction', 'contradiction', 'contradiction', 'neutral',\n",
       "       'entailment', 'entailment', 'contradiction', 'entailment',\n",
       "       'entailment', 'contradiction', 'contradiction', 'contradiction'],\n",
       "      dtype=object)"
      ]
     },
     "execution_count": 829,
     "metadata": {},
     "output_type": "execute_result"
    }
   ],
   "source": [
    "y"
   ]
  },
  {
   "cell_type": "code",
   "execution_count": 830,
   "metadata": {},
   "outputs": [
    {
     "name": "stderr",
     "output_type": "stream",
     "text": [
      "c:\\Users\\Ninja\\anaconda3\\lib\\site-packages\\sklearn\\linear_model\\_logistic.py:814: ConvergenceWarning: lbfgs failed to converge (status=1):\n",
      "STOP: TOTAL NO. of ITERATIONS REACHED LIMIT.\n",
      "\n",
      "Increase the number of iterations (max_iter) or scale the data as shown in:\n",
      "    https://scikit-learn.org/stable/modules/preprocessing.html\n",
      "Please also refer to the documentation for alternative solver options:\n",
      "    https://scikit-learn.org/stable/modules/linear_model.html#logistic-regression\n",
      "  n_iter_i = _check_optimize_result(\n"
     ]
    },
    {
     "data": {
      "text/plain": [
       "LogisticRegression(C=0.1)"
      ]
     },
     "execution_count": 830,
     "metadata": {},
     "output_type": "execute_result"
    }
   ],
   "source": [
    "model = linear_model.LogisticRegression(penalty=\"l2\", C=0.1)\n",
    "model.fit(X,y)"
   ]
  },
  {
   "cell_type": "code",
   "execution_count": 831,
   "metadata": {},
   "outputs": [
    {
     "data": {
      "text/plain": [
       "{'C': 0.1,\n",
       " 'class_weight': None,\n",
       " 'dual': False,\n",
       " 'fit_intercept': True,\n",
       " 'intercept_scaling': 1,\n",
       " 'l1_ratio': None,\n",
       " 'max_iter': 100,\n",
       " 'multi_class': 'auto',\n",
       " 'n_jobs': None,\n",
       " 'penalty': 'l2',\n",
       " 'random_state': None,\n",
       " 'solver': 'lbfgs',\n",
       " 'tol': 0.0001,\n",
       " 'verbose': 0,\n",
       " 'warm_start': False}"
      ]
     },
     "execution_count": 831,
     "metadata": {},
     "output_type": "execute_result"
    }
   ],
   "source": [
    "model.get_params()"
   ]
  },
  {
   "cell_type": "code",
   "execution_count": 832,
   "metadata": {},
   "outputs": [
    {
     "data": {
      "text/plain": [
       "array([[-1.33331740e-01,  2.86798584e-01, -1.53466844e-01],\n",
       "       [-1.37465052e+00,  1.15889252e+00,  2.15757998e-01],\n",
       "       [ 6.93764682e-01, -2.09985592e-01, -4.83779090e-01],\n",
       "       [ 2.36287700e-01, -1.18826392e-02, -2.24405060e-01],\n",
       "       [-7.41651103e-02, -5.21121891e-02,  1.26277299e-01],\n",
       "       [ 4.22870947e-01, -4.45531135e-01,  2.26601886e-02],\n",
       "       [-9.39968361e-01,  1.36621085e+00, -4.26242485e-01],\n",
       "       [-6.13858097e-01,  1.28892154e+00, -6.75063447e-01],\n",
       "       [ 6.84894815e-01, -1.09785350e+00,  4.12958689e-01],\n",
       "       [-7.30478044e-01,  1.48504868e+00, -7.54570635e-01],\n",
       "       [-2.32901718e+00,  7.22261931e-01,  1.60675525e+00],\n",
       "       [ 3.64990632e-01, -1.90568396e-01, -1.74422236e-01],\n",
       "       [-1.14625408e+00,  9.73131039e-01,  1.73123038e-01],\n",
       "       [ 1.43545074e+00,  2.63420392e-01, -1.69887113e+00],\n",
       "       [-1.49395139e+00,  2.11013431e-03,  1.49184125e+00],\n",
       "       [-2.71611561e-01,  4.26472011e-01, -1.54860450e-01],\n",
       "       [-2.54327077e+00,  2.29128082e+00,  2.51989945e-01],\n",
       "       [ 3.13699728e-01,  1.05754921e-02, -3.24275220e-01],\n",
       "       [ 1.61856012e-01, -4.75146418e-01,  3.13290405e-01],\n",
       "       [ 3.58921890e-01,  1.19087498e+00, -1.54979687e+00],\n",
       "       [-7.86306925e-03,  6.68180547e-01, -6.60317478e-01],\n",
       "       [-7.01574012e-01,  7.10178684e-01, -8.60467241e-03],\n",
       "       [-2.15619389e-01, -7.84461790e-02,  2.94065568e-01],\n",
       "       [ 4.58371076e-01,  4.70047883e-02, -5.05375864e-01],\n",
       "       [-8.96602297e-01,  1.56801955e+00, -6.71417248e-01],\n",
       "       [-2.66911537e+00, -4.14394848e-01,  3.08351022e+00],\n",
       "       [ 1.27294332e-01,  1.49972765e-01, -2.77267097e-01],\n",
       "       [-2.36944445e-01,  6.94464591e-01, -4.57520147e-01],\n",
       "       [-8.59075736e-01,  5.88103891e-01,  2.70971845e-01],\n",
       "       [-1.07290735e-01, -4.30450525e-01,  5.37741260e-01],\n",
       "       [-1.05444951e+00,  8.70061522e-01,  1.84387983e-01],\n",
       "       [ 1.68300187e+00, -6.80907313e-01, -1.00209456e+00],\n",
       "       [ 1.05753148e+00, -1.02490112e-01, -9.55041364e-01],\n",
       "       [ 7.97477827e-01, -4.42460801e-01, -3.55017026e-01],\n",
       "       [ 1.07421959e+00,  6.70006052e-01, -1.74422565e+00],\n",
       "       [-1.77174757e+00, -1.06140961e+00,  2.83315718e+00],\n",
       "       [-7.79035046e-01,  5.28265294e-01,  2.50769753e-01],\n",
       "       [ 5.82718511e-01, -3.09309770e-01, -2.73408741e-01],\n",
       "       [-4.57972429e+00,  8.06700109e-03,  4.57165729e+00],\n",
       "       [-1.08832392e+00,  4.81363482e-01,  6.06960439e-01],\n",
       "       [-2.25265838e-02, -4.91794684e-01,  5.14321268e-01],\n",
       "       [-8.56440991e-01,  2.51513509e-01,  6.04927482e-01],\n",
       "       [ 2.72059752e-01,  4.20271334e-02, -3.14086885e-01],\n",
       "       [-6.49837733e-01,  5.24974923e-03,  6.44587984e-01],\n",
       "       [ 5.34837891e-01,  1.71139395e+00, -2.24623184e+00],\n",
       "       [-4.16149998e-01,  9.42817847e-01, -5.26667848e-01],\n",
       "       [-1.70005525e+00,  2.08051228e-01,  1.49200402e+00],\n",
       "       [-1.14525875e+00,  1.44040191e+00, -2.95143159e-01],\n",
       "       [ 8.49608969e-01, -1.61850080e+00,  7.68891835e-01],\n",
       "       [-9.11105932e-01,  2.11980482e-01,  6.99125450e-01],\n",
       "       [-1.25487745e-01,  1.51683547e+00, -1.39134773e+00],\n",
       "       [-1.62820110e+00,  2.77124148e+00, -1.14304039e+00],\n",
       "       [ 3.41078179e-01, -1.12687828e-01, -2.28390351e-01],\n",
       "       [-6.66183221e-01,  5.59080977e-01,  1.07102244e-01],\n",
       "       [-1.26735754e-01,  6.06423406e-01, -4.79687652e-01],\n",
       "       [-4.97104103e-01,  1.02565611e+00, -5.28552005e-01],\n",
       "       [-7.67285904e-01,  6.37439844e-01,  1.29846060e-01],\n",
       "       [-2.43536808e-01, -1.39149297e-03,  2.44928301e-01],\n",
       "       [-1.93890342e-01, -8.53403464e-01,  1.04729381e+00],\n",
       "       [-3.96223388e+00,  1.57476332e+00,  2.38747056e+00],\n",
       "       [-6.87254333e-01,  5.35927317e-01,  1.51327017e-01],\n",
       "       [-7.53797262e-01,  3.62234683e-01,  3.91562580e-01],\n",
       "       [-5.35698562e-01,  1.22585028e-02,  5.23440059e-01],\n",
       "       [ 5.12886731e-02,  7.59879460e-01, -8.11168133e-01],\n",
       "       [-1.30316597e+00,  1.57829750e+00, -2.75131532e-01],\n",
       "       [ 9.87239546e-01,  1.80487577e+00, -2.79211532e+00],\n",
       "       [-4.77215928e-01,  6.42101141e-01, -1.64885214e-01],\n",
       "       [-9.50170572e-02,  5.57648533e-01, -4.62631476e-01],\n",
       "       [-4.67372760e-01, -5.68650681e-01,  1.03602344e+00],\n",
       "       [ 7.63716544e-02, -8.85925832e-01,  8.09554178e-01],\n",
       "       [-5.66009043e-02,  1.13108247e+00, -1.07448157e+00],\n",
       "       [ 4.05167615e-01, -5.27702688e-01,  1.22535073e-01],\n",
       "       [ 2.68943378e+00,  1.39475229e+00, -4.08418607e+00],\n",
       "       [ 2.11740937e+00, -1.27067039e+00, -8.46738979e-01],\n",
       "       [ 5.06570025e-02, -1.61923728e+00,  1.56858027e+00],\n",
       "       [-1.76550308e+00,  4.37650560e-01,  1.32785252e+00],\n",
       "       [-1.77382312e+00,  2.22132175e+00, -4.47498630e-01],\n",
       "       [-4.76660589e-01,  1.34103775e+00, -8.64377161e-01],\n",
       "       [-9.65020135e-01,  1.79558261e+00, -8.30562477e-01],\n",
       "       [-7.89037674e-01,  6.63244401e-01,  1.25793272e-01],\n",
       "       [ 2.15599816e-01, -1.08576525e+00,  8.70165435e-01],\n",
       "       [-5.47838116e-02,  7.67405217e-01, -7.12621405e-01],\n",
       "       [ 9.81705931e-01,  3.88503779e-01, -1.37020971e+00],\n",
       "       [-4.28018450e-01,  1.08700956e+00, -6.58991106e-01],\n",
       "       [ 1.24061354e+00, -9.71433307e-01, -2.69180233e-01],\n",
       "       [-5.92582422e-01,  1.99057712e+00, -1.39799470e+00],\n",
       "       [-1.34239423e+00,  1.00444062e+00,  3.37953608e-01],\n",
       "       [ 3.16466598e-01,  5.08746299e-01, -8.25212897e-01],\n",
       "       [ 7.24997171e-01, -2.68108241e-01, -4.56888931e-01],\n",
       "       [ 4.77747206e-01, -6.74189477e-01,  1.96442271e-01],\n",
       "       [ 1.05096913e+00, -3.83475730e-01, -6.67493397e-01],\n",
       "       [-1.52311772e+00, -5.11535833e-02,  1.57427130e+00],\n",
       "       [-7.74385189e-01,  5.72723823e-01,  2.01661365e-01],\n",
       "       [-3.14667892e-01,  6.27847312e-01, -3.13179420e-01],\n",
       "       [-2.93290641e-01, -5.80542525e-01,  8.73833166e-01],\n",
       "       [-9.34942382e-01,  5.33625788e-01,  4.01316593e-01],\n",
       "       [-5.35361774e-01,  7.73783387e-01, -2.38421614e-01],\n",
       "       [ 8.57252513e-01, -4.89908050e-02, -8.08261708e-01],\n",
       "       [-3.89663901e-01,  4.15623683e-01, -2.59597812e-02],\n",
       "       [ 9.64736050e-01, -2.05364031e-01, -7.59372019e-01]])"
      ]
     },
     "execution_count": 832,
     "metadata": {},
     "output_type": "execute_result"
    }
   ],
   "source": [
    "model.decision_function(X)"
   ]
  },
  {
   "cell_type": "code",
   "execution_count": 833,
   "metadata": {},
   "outputs": [],
   "source": [
    "labels=dataframe.columns[1:]"
   ]
  },
  {
   "cell_type": "code",
   "execution_count": 834,
   "metadata": {},
   "outputs": [
    {
     "data": {
      "text/plain": [
       "array(['contradiction', 'entailment', 'neutral'], dtype=object)"
      ]
     },
     "execution_count": 834,
     "metadata": {},
     "output_type": "execute_result"
    }
   ],
   "source": [
    "model.classes_"
   ]
  },
  {
   "cell_type": "code",
   "execution_count": 835,
   "metadata": {},
   "outputs": [],
   "source": [
    "contradiction=model.coef_[0]\n",
    "entailment=model.coef_[1]\n",
    "neutral=model.coef_[2]"
   ]
  },
  {
   "cell_type": "code",
   "execution_count": 836,
   "metadata": {},
   "outputs": [
    {
     "name": "stdout",
     "output_type": "stream",
     "text": [
      "Contradiction  33 NOUN_VERB_r 48 antonimos\n",
      "Entailment  48 antonimos 33 NOUN_VERB_r\n",
      "Neutral  30 ADV_ADV_ 3 ADJ_NOUN\n"
     ]
    }
   ],
   "source": [
    "print(\"Contradiction \",np.argmax(contradiction),labels[np.argmax(contradiction)],np.argmin(contradiction),labels[np.argmin(contradiction)])\n",
    "print(\"Entailment \",np.argmax(entailment),labels[np.argmax(entailment)],np.argmin(entailment),labels[np.argmin(entailment)])\n",
    "print(\"Neutral \",np.argmax(neutral),labels[np.argmax(neutral)],np.argmin(neutral),labels[np.argmin(neutral)])"
   ]
  },
  {
   "cell_type": "code",
   "execution_count": 837,
   "metadata": {},
   "outputs": [],
   "source": [
    "n_columns=dataframe.shape[1]-1"
   ]
  },
  {
   "cell_type": "code",
   "execution_count": 838,
   "metadata": {},
   "outputs": [
    {
     "data": {
      "image/png": "[encoded data removed]",
      "text/plain": [
       "<Figure size 640x480 with 1 Axes>"
      ]
     },
     "metadata": {},
     "output_type": "display_data"
    }
   ],
   "source": [
    "import matplotlib.pyplot as plt\n",
    "import numpy as np\n",
    "\n",
    "x_v = np.arange(0,n_columns,1)\n",
    "y_v = contradiction\n",
    "\n",
    "plt.bar(x_v,y_v)\n",
    "plt.xlabel('x')\n",
    "plt.ylabel('y')\n",
    "plt.title('Contradiction')\n",
    "plt.show()"
   ]
  },
  {
   "cell_type": "code",
   "execution_count": 839,
   "metadata": {},
   "outputs": [
    {
     "data": {
      "image/png": "[encoded data removed]",
      "text/plain": [
       "<Figure size 640x480 with 1 Axes>"
      ]
     },
     "metadata": {},
     "output_type": "display_data"
    }
   ],
   "source": [
    "x_v = np.arange(0,n_columns,1)\n",
    "y_v = entailment\n",
    "\n",
    "plt.bar(x_v,y_v)\n",
    "plt.xlabel('x')\n",
    "plt.ylabel('y')\n",
    "plt.title('Entailment')\n",
    "plt.show()"
   ]
  },
  {
   "cell_type": "code",
   "execution_count": 840,
   "metadata": {},
   "outputs": [
    {
     "data": {
      "image/png": "[encoded data removed]",
      "text/plain": [
       "<Figure size 640x480 with 1 Axes>"
      ]
     },
     "metadata": {},
     "output_type": "display_data"
    }
   ],
   "source": [
    "x_v = np.arange(0,n_columns,1)\n",
    "y_v = neutral\n",
    "\n",
    "plt.bar(x_v,y_v)\n",
    "plt.xlabel('x')\n",
    "plt.ylabel('y')\n",
    "plt.title('Neutral')\n",
    "plt.show()"
   ]
  },
  {
   "cell_type": "code",
   "execution_count": 841,
   "metadata": {},
   "outputs": [
    {
     "name": "stdout",
     "output_type": "stream",
     "text": [
      "['entailment' 'entailment' 'contradiction' 'contradiction' 'neutral'\n",
      " 'contradiction' 'entailment' 'entailment' 'contradiction' 'entailment'\n",
      " 'neutral' 'contradiction' 'entailment' 'contradiction' 'neutral'\n",
      " 'entailment' 'entailment' 'contradiction' 'neutral' 'entailment'\n",
      " 'entailment' 'entailment' 'neutral' 'contradiction' 'entailment'\n",
      " 'neutral' 'entailment' 'entailment' 'entailment' 'neutral' 'entailment'\n",
      " 'contradiction' 'contradiction' 'contradiction' 'contradiction' 'neutral'\n",
      " 'entailment' 'contradiction' 'neutral' 'neutral' 'neutral' 'neutral'\n",
      " 'contradiction' 'neutral' 'entailment' 'entailment' 'neutral'\n",
      " 'entailment' 'contradiction' 'neutral' 'entailment' 'entailment'\n",
      " 'contradiction' 'entailment' 'entailment' 'entailment' 'entailment'\n",
      " 'neutral' 'neutral' 'neutral' 'entailment' 'neutral' 'neutral'\n",
      " 'entailment' 'entailment' 'entailment' 'entailment' 'entailment'\n",
      " 'neutral' 'neutral' 'entailment' 'contradiction' 'contradiction'\n",
      " 'contradiction' 'neutral' 'neutral' 'entailment' 'entailment'\n",
      " 'entailment' 'entailment' 'neutral' 'entailment' 'contradiction'\n",
      " 'entailment' 'contradiction' 'entailment' 'entailment' 'entailment'\n",
      " 'contradiction' 'contradiction' 'contradiction' 'neutral' 'entailment'\n",
      " 'entailment' 'neutral' 'entailment' 'entailment' 'contradiction'\n",
      " 'entailment' 'contradiction']\n"
     ]
    }
   ],
   "source": [
    "predictions = model.predict(X)\n",
    "print(predictions)"
   ]
  },
  {
   "cell_type": "code",
   "execution_count": 842,
   "metadata": {},
   "outputs": [
    {
     "data": {
      "text/plain": [
       "array(['entailment', 'entailment', 'contradiction', 'contradiction',\n",
       "       'neutral', 'neutral', 'neutral', 'entailment', 'neutral',\n",
       "       'entailment', 'neutral', 'contradiction', 'entailment',\n",
       "       'contradiction', 'neutral', 'neutral', 'entailment',\n",
       "       'contradiction', 'contradiction', 'entailment', 'entailment',\n",
       "       'entailment', 'neutral', 'contradiction', 'entailment', 'neutral',\n",
       "       'entailment', 'entailment', 'entailment', 'neutral', 'neutral',\n",
       "       'contradiction', 'contradiction', 'entailment', 'contradiction',\n",
       "       'neutral', 'entailment', 'neutral', 'neutral', 'entailment',\n",
       "       'neutral', 'neutral', 'contradiction', 'neutral', 'entailment',\n",
       "       'neutral', 'neutral', 'entailment', 'contradiction', 'neutral',\n",
       "       'entailment', 'entailment', 'neutral', 'entailment',\n",
       "       'contradiction', 'entailment', 'entailment', 'neutral', 'neutral',\n",
       "       'neutral', 'neutral', 'neutral', 'neutral', 'entailment',\n",
       "       'entailment', 'contradiction', 'entailment', 'entailment',\n",
       "       'neutral', 'contradiction', 'entailment', 'contradiction',\n",
       "       'contradiction', 'contradiction', 'neutral', 'entailment',\n",
       "       'entailment', 'entailment', 'entailment', 'contradiction',\n",
       "       'neutral', 'entailment', 'entailment', 'entailment',\n",
       "       'contradiction', 'entailment', 'entailment', 'entailment',\n",
       "       'contradiction', 'contradiction', 'contradiction', 'neutral',\n",
       "       'entailment', 'entailment', 'contradiction', 'entailment',\n",
       "       'entailment', 'contradiction', 'contradiction', 'contradiction'],\n",
       "      dtype=object)"
      ]
     },
     "execution_count": 842,
     "metadata": {},
     "output_type": "execute_result"
    }
   ],
   "source": [
    "y"
   ]
  },
  {
   "cell_type": "code",
   "execution_count": 843,
   "metadata": {},
   "outputs": [
    {
     "data": {
      "text/plain": [
       "array([[28.64509261,  1.63195105,  9.03256369, ...,  6.        ,\n",
       "         0.9       ,  0.23527944],\n",
       "       [26.67130001,  3.98422295,  4.43769664, ...,  7.        ,\n",
       "         1.04545454,  0.18232787],\n",
       "       [14.88061917,  1.82459164,  3.68787432, ...,  0.        ,\n",
       "         1.        ,  0.36080334],\n",
       "       ...,\n",
       "       [ 6.67214802,  0.        ,  5.13886273, ...,  2.        ,\n",
       "         0.92307692,  0.26550528],\n",
       "       [ 7.11044979,  0.        ,  0.6588807 , ...,  0.        ,\n",
       "         1.22222222,  0.57776094],\n",
       "       [13.31903434,  0.        ,  0.19219354, ...,  2.        ,\n",
       "         1.17857143,  0.25216368]])"
      ]
     },
     "execution_count": 843,
     "metadata": {},
     "output_type": "execute_result"
    }
   ],
   "source": [
    "X"
   ]
  },
  {
   "cell_type": "code",
   "execution_count": 844,
   "metadata": {},
   "outputs": [
    {
     "data": {
      "text/plain": [
       "0.8"
      ]
     },
     "execution_count": 844,
     "metadata": {},
     "output_type": "execute_result"
    }
   ],
   "source": [
    "model.score(X,y)"
   ]
  },
  {
   "cell_type": "code",
   "execution_count": 845,
   "metadata": {},
   "outputs": [
    {
     "name": "stdout",
     "output_type": "stream",
     "text": [
      "[[20  4  3]\n",
      " [ 2 38  2]\n",
      " [ 4  5 22]]\n"
     ]
    }
   ],
   "source": [
    "print(confusion_matrix(y, predictions))"
   ]
  },
  {
   "cell_type": "code",
   "execution_count": 846,
   "metadata": {},
   "outputs": [
    {
     "name": "stdout",
     "output_type": "stream",
     "text": [
      "[0.75471698 0.85393258 0.75862069]\n"
     ]
    }
   ],
   "source": [
    "print(f1_score(y,predictions, average=None))"
   ]
  },
  {
   "cell_type": "code",
   "execution_count": 847,
   "metadata": {},
   "outputs": [],
   "source": [
    "validation_size = 0.20\n",
    "seed = 7\n",
    "X_train, X_validation, Y_train, Y_validation = model_selection.train_test_split(X, y, test_size=validation_size)"
   ]
  },
  {
   "cell_type": "code",
   "execution_count": 848,
   "metadata": {},
   "outputs": [
    {
     "name": "stderr",
     "output_type": "stream",
     "text": [
      "c:\\Users\\Ninja\\anaconda3\\lib\\site-packages\\sklearn\\linear_model\\_logistic.py:814: ConvergenceWarning: lbfgs failed to converge (status=1):\n",
      "STOP: TOTAL NO. of ITERATIONS REACHED LIMIT.\n",
      "\n",
      "Increase the number of iterations (max_iter) or scale the data as shown in:\n",
      "    https://scikit-learn.org/stable/modules/preprocessing.html\n",
      "Please also refer to the documentation for alternative solver options:\n",
      "    https://scikit-learn.org/stable/modules/linear_model.html#logistic-regression\n",
      "  n_iter_i = _check_optimize_result(\n",
      "c:\\Users\\Ninja\\anaconda3\\lib\\site-packages\\sklearn\\linear_model\\_logistic.py:814: ConvergenceWarning: lbfgs failed to converge (status=1):\n",
      "STOP: TOTAL NO. of ITERATIONS REACHED LIMIT.\n",
      "\n",
      "Increase the number of iterations (max_iter) or scale the data as shown in:\n",
      "    https://scikit-learn.org/stable/modules/preprocessing.html\n",
      "Please also refer to the documentation for alternative solver options:\n",
      "    https://scikit-learn.org/stable/modules/linear_model.html#logistic-regression\n",
      "  n_iter_i = _check_optimize_result(\n",
      "c:\\Users\\Ninja\\anaconda3\\lib\\site-packages\\sklearn\\linear_model\\_logistic.py:814: ConvergenceWarning: lbfgs failed to converge (status=1):\n",
      "STOP: TOTAL NO. of ITERATIONS REACHED LIMIT.\n",
      "\n",
      "Increase the number of iterations (max_iter) or scale the data as shown in:\n",
      "    https://scikit-learn.org/stable/modules/preprocessing.html\n",
      "Please also refer to the documentation for alternative solver options:\n",
      "    https://scikit-learn.org/stable/modules/linear_model.html#logistic-regression\n",
      "  n_iter_i = _check_optimize_result(\n",
      "c:\\Users\\Ninja\\anaconda3\\lib\\site-packages\\sklearn\\linear_model\\_logistic.py:814: ConvergenceWarning: lbfgs failed to converge (status=1):\n",
      "STOP: TOTAL NO. of ITERATIONS REACHED LIMIT.\n",
      "\n",
      "Increase the number of iterations (max_iter) or scale the data as shown in:\n",
      "    https://scikit-learn.org/stable/modules/preprocessing.html\n",
      "Please also refer to the documentation for alternative solver options:\n",
      "    https://scikit-learn.org/stable/modules/linear_model.html#logistic-regression\n",
      "  n_iter_i = _check_optimize_result(\n",
      "c:\\Users\\Ninja\\anaconda3\\lib\\site-packages\\sklearn\\linear_model\\_logistic.py:814: ConvergenceWarning: lbfgs failed to converge (status=1):\n",
      "STOP: TOTAL NO. of ITERATIONS REACHED LIMIT.\n",
      "\n",
      "Increase the number of iterations (max_iter) or scale the data as shown in:\n",
      "    https://scikit-learn.org/stable/modules/preprocessing.html\n",
      "Please also refer to the documentation for alternative solver options:\n",
      "    https://scikit-learn.org/stable/modules/linear_model.html#logistic-regression\n",
      "  n_iter_i = _check_optimize_result(\n",
      "c:\\Users\\Ninja\\anaconda3\\lib\\site-packages\\sklearn\\linear_model\\_logistic.py:814: ConvergenceWarning: lbfgs failed to converge (status=1):\n",
      "STOP: TOTAL NO. of ITERATIONS REACHED LIMIT.\n",
      "\n",
      "Increase the number of iterations (max_iter) or scale the data as shown in:\n",
      "    https://scikit-learn.org/stable/modules/preprocessing.html\n",
      "Please also refer to the documentation for alternative solver options:\n",
      "    https://scikit-learn.org/stable/modules/linear_model.html#logistic-regression\n",
      "  n_iter_i = _check_optimize_result(\n",
      "c:\\Users\\Ninja\\anaconda3\\lib\\site-packages\\sklearn\\linear_model\\_logistic.py:814: ConvergenceWarning: lbfgs failed to converge (status=1):\n",
      "STOP: TOTAL NO. of ITERATIONS REACHED LIMIT.\n",
      "\n",
      "Increase the number of iterations (max_iter) or scale the data as shown in:\n",
      "    https://scikit-learn.org/stable/modules/preprocessing.html\n",
      "Please also refer to the documentation for alternative solver options:\n",
      "    https://scikit-learn.org/stable/modules/linear_model.html#logistic-regression\n",
      "  n_iter_i = _check_optimize_result(\n",
      "c:\\Users\\Ninja\\anaconda3\\lib\\site-packages\\sklearn\\linear_model\\_logistic.py:814: ConvergenceWarning: lbfgs failed to converge (status=1):\n",
      "STOP: TOTAL NO. of ITERATIONS REACHED LIMIT.\n",
      "\n",
      "Increase the number of iterations (max_iter) or scale the data as shown in:\n",
      "    https://scikit-learn.org/stable/modules/preprocessing.html\n",
      "Please also refer to the documentation for alternative solver options:\n",
      "    https://scikit-learn.org/stable/modules/linear_model.html#logistic-regression\n",
      "  n_iter_i = _check_optimize_result(\n",
      "c:\\Users\\Ninja\\anaconda3\\lib\\site-packages\\sklearn\\linear_model\\_logistic.py:814: ConvergenceWarning: lbfgs failed to converge (status=1):\n",
      "STOP: TOTAL NO. of ITERATIONS REACHED LIMIT.\n",
      "\n",
      "Increase the number of iterations (max_iter) or scale the data as shown in:\n",
      "    https://scikit-learn.org/stable/modules/preprocessing.html\n",
      "Please also refer to the documentation for alternative solver options:\n",
      "    https://scikit-learn.org/stable/modules/linear_model.html#logistic-regression\n",
      "  n_iter_i = _check_optimize_result(\n",
      "c:\\Users\\Ninja\\anaconda3\\lib\\site-packages\\sklearn\\linear_model\\_logistic.py:814: ConvergenceWarning: lbfgs failed to converge (status=1):\n",
      "STOP: TOTAL NO. of ITERATIONS REACHED LIMIT.\n",
      "\n",
      "Increase the number of iterations (max_iter) or scale the data as shown in:\n",
      "    https://scikit-learn.org/stable/modules/preprocessing.html\n",
      "Please also refer to the documentation for alternative solver options:\n",
      "    https://scikit-learn.org/stable/modules/linear_model.html#logistic-regression\n",
      "  n_iter_i = _check_optimize_result(\n"
     ]
    },
    {
     "name": "stdout",
     "output_type": "stream",
     "text": [
      "Logistic Regression: 0.487500 (0.201168)\n"
     ]
    },
    {
     "name": "stderr",
     "output_type": "stream",
     "text": [
      "c:\\Users\\Ninja\\anaconda3\\lib\\site-packages\\sklearn\\linear_model\\_logistic.py:814: ConvergenceWarning: lbfgs failed to converge (status=1):\n",
      "STOP: TOTAL NO. of ITERATIONS REACHED LIMIT.\n",
      "\n",
      "Increase the number of iterations (max_iter) or scale the data as shown in:\n",
      "    https://scikit-learn.org/stable/modules/preprocessing.html\n",
      "Please also refer to the documentation for alternative solver options:\n",
      "    https://scikit-learn.org/stable/modules/linear_model.html#logistic-regression\n",
      "  n_iter_i = _check_optimize_result(\n",
      "c:\\Users\\Ninja\\anaconda3\\lib\\site-packages\\sklearn\\linear_model\\_logistic.py:814: ConvergenceWarning: lbfgs failed to converge (status=1):\n",
      "STOP: TOTAL NO. of ITERATIONS REACHED LIMIT.\n",
      "\n",
      "Increase the number of iterations (max_iter) or scale the data as shown in:\n",
      "    https://scikit-learn.org/stable/modules/preprocessing.html\n",
      "Please also refer to the documentation for alternative solver options:\n",
      "    https://scikit-learn.org/stable/modules/linear_model.html#logistic-regression\n",
      "  n_iter_i = _check_optimize_result(\n",
      "c:\\Users\\Ninja\\anaconda3\\lib\\site-packages\\sklearn\\linear_model\\_logistic.py:814: ConvergenceWarning: lbfgs failed to converge (status=1):\n",
      "STOP: TOTAL NO. of ITERATIONS REACHED LIMIT.\n",
      "\n",
      "Increase the number of iterations (max_iter) or scale the data as shown in:\n",
      "    https://scikit-learn.org/stable/modules/preprocessing.html\n",
      "Please also refer to the documentation for alternative solver options:\n",
      "    https://scikit-learn.org/stable/modules/linear_model.html#logistic-regression\n",
      "  n_iter_i = _check_optimize_result(\n",
      "c:\\Users\\Ninja\\anaconda3\\lib\\site-packages\\sklearn\\linear_model\\_logistic.py:814: ConvergenceWarning: lbfgs failed to converge (status=1):\n",
      "STOP: TOTAL NO. of ITERATIONS REACHED LIMIT.\n",
      "\n",
      "Increase the number of iterations (max_iter) or scale the data as shown in:\n",
      "    https://scikit-learn.org/stable/modules/preprocessing.html\n",
      "Please also refer to the documentation for alternative solver options:\n",
      "    https://scikit-learn.org/stable/modules/linear_model.html#logistic-regression\n",
      "  n_iter_i = _check_optimize_result(\n",
      "c:\\Users\\Ninja\\anaconda3\\lib\\site-packages\\sklearn\\linear_model\\_logistic.py:814: ConvergenceWarning: lbfgs failed to converge (status=1):\n",
      "STOP: TOTAL NO. of ITERATIONS REACHED LIMIT.\n",
      "\n",
      "Increase the number of iterations (max_iter) or scale the data as shown in:\n",
      "    https://scikit-learn.org/stable/modules/preprocessing.html\n",
      "Please also refer to the documentation for alternative solver options:\n",
      "    https://scikit-learn.org/stable/modules/linear_model.html#logistic-regression\n",
      "  n_iter_i = _check_optimize_result(\n",
      "c:\\Users\\Ninja\\anaconda3\\lib\\site-packages\\sklearn\\linear_model\\_logistic.py:814: ConvergenceWarning: lbfgs failed to converge (status=1):\n",
      "STOP: TOTAL NO. of ITERATIONS REACHED LIMIT.\n",
      "\n",
      "Increase the number of iterations (max_iter) or scale the data as shown in:\n",
      "    https://scikit-learn.org/stable/modules/preprocessing.html\n",
      "Please also refer to the documentation for alternative solver options:\n",
      "    https://scikit-learn.org/stable/modules/linear_model.html#logistic-regression\n",
      "  n_iter_i = _check_optimize_result(\n",
      "c:\\Users\\Ninja\\anaconda3\\lib\\site-packages\\sklearn\\linear_model\\_logistic.py:814: ConvergenceWarning: lbfgs failed to converge (status=1):\n",
      "STOP: TOTAL NO. of ITERATIONS REACHED LIMIT.\n",
      "\n",
      "Increase the number of iterations (max_iter) or scale the data as shown in:\n",
      "    https://scikit-learn.org/stable/modules/preprocessing.html\n",
      "Please also refer to the documentation for alternative solver options:\n",
      "    https://scikit-learn.org/stable/modules/linear_model.html#logistic-regression\n",
      "  n_iter_i = _check_optimize_result(\n",
      "c:\\Users\\Ninja\\anaconda3\\lib\\site-packages\\sklearn\\linear_model\\_logistic.py:814: ConvergenceWarning: lbfgs failed to converge (status=1):\n",
      "STOP: TOTAL NO. of ITERATIONS REACHED LIMIT.\n",
      "\n",
      "Increase the number of iterations (max_iter) or scale the data as shown in:\n",
      "    https://scikit-learn.org/stable/modules/preprocessing.html\n",
      "Please also refer to the documentation for alternative solver options:\n",
      "    https://scikit-learn.org/stable/modules/linear_model.html#logistic-regression\n",
      "  n_iter_i = _check_optimize_result(\n",
      "c:\\Users\\Ninja\\anaconda3\\lib\\site-packages\\sklearn\\linear_model\\_logistic.py:814: ConvergenceWarning: lbfgs failed to converge (status=1):\n",
      "STOP: TOTAL NO. of ITERATIONS REACHED LIMIT.\n",
      "\n",
      "Increase the number of iterations (max_iter) or scale the data as shown in:\n",
      "    https://scikit-learn.org/stable/modules/preprocessing.html\n",
      "Please also refer to the documentation for alternative solver options:\n",
      "    https://scikit-learn.org/stable/modules/linear_model.html#logistic-regression\n",
      "  n_iter_i = _check_optimize_result(\n",
      "c:\\Users\\Ninja\\anaconda3\\lib\\site-packages\\sklearn\\linear_model\\_logistic.py:814: ConvergenceWarning: lbfgs failed to converge (status=1):\n",
      "STOP: TOTAL NO. of ITERATIONS REACHED LIMIT.\n",
      "\n",
      "Increase the number of iterations (max_iter) or scale the data as shown in:\n",
      "    https://scikit-learn.org/stable/modules/preprocessing.html\n",
      "Please also refer to the documentation for alternative solver options:\n",
      "    https://scikit-learn.org/stable/modules/linear_model.html#logistic-regression\n",
      "  n_iter_i = _check_optimize_result(\n"
     ]
    }
   ],
   "source": [
    "name='Logistic Regression'\n",
    "kfold = model_selection.KFold(n_splits=20)\n",
    "cv_results = model_selection.cross_val_score(model, X_train, Y_train, cv=kfold, scoring='accuracy')\n",
    "msg = \"%s: %f (%f)\" % (name, cv_results.mean(), cv_results.std())\n",
    "print(msg)"
   ]
  },
  {
   "cell_type": "code",
   "execution_count": 849,
   "metadata": {},
   "outputs": [
    {
     "name": "stdout",
     "output_type": "stream",
     "text": [
      "0.7\n"
     ]
    }
   ],
   "source": [
    "predictions = model.predict(X_validation)\n",
    "print(accuracy_score(Y_validation, predictions))"
   ]
  },
  {
   "cell_type": "code",
   "execution_count": 850,
   "metadata": {},
   "outputs": [
    {
     "name": "stdout",
     "output_type": "stream",
     "text": [
      "[[4 2 2]\n",
      " [0 7 0]\n",
      " [1 1 3]]\n"
     ]
    }
   ],
   "source": [
    "print(confusion_matrix(Y_validation, predictions))"
   ]
  },
  {
   "cell_type": "code",
   "execution_count": 851,
   "metadata": {},
   "outputs": [
    {
     "name": "stdout",
     "output_type": "stream",
     "text": [
      "               precision    recall  f1-score   support\n",
      "\n",
      "contradiction       0.80      0.50      0.62         8\n",
      "   entailment       0.70      1.00      0.82         7\n",
      "      neutral       0.60      0.60      0.60         5\n",
      "\n",
      "     accuracy                           0.70        20\n",
      "    macro avg       0.70      0.70      0.68        20\n",
      " weighted avg       0.72      0.70      0.68        20\n",
      "\n"
     ]
    }
   ],
   "source": [
    "print(classification_report(Y_validation, predictions))"
   ]
  },
  {
   "cell_type": "code",
   "execution_count": 852,
   "metadata": {},
   "outputs": [],
   "source": [
    "#X_new = pd.DataFrame()\n",
    "#model.predict(X_new)"
   ]
  }
 ],
 "metadata": {
  "kernelspec": {
   "display_name": "Python 3",
   "language": "python",
   "name": "python3"
  },
  "language_info": {
   "codemirror_mode": {
    "name": "ipython",
    "version": 3
   },
   "file_extension": ".py",
   "mimetype": "text/x-python",
   "name": "python",
   "nbconvert_exporter": "python",
   "pygments_lexer": "ipython3",
   "version": "3.9.13"
  }
 },
 "nbformat": 4,
 "nbformat_minor": 2
}
