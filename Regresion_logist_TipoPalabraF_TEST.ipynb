{
 "cells": [
  {
   "cell_type": "code",
   "execution_count": 392,
   "metadata": {},
   "outputs": [],
   "source": [
    "import pandas as pd\n",
    "import numpy as np\n",
    "from sklearn import linear_model\n",
    "from sklearn import model_selection\n",
    "from sklearn.metrics import classification_report\n",
    "from sklearn.metrics import confusion_matrix\n",
    "from sklearn.metrics import accuracy_score\n",
    "import matplotlib.pyplot as plt\n",
    "import seaborn as sb"
   ]
  },
  {
   "cell_type": "code",
   "execution_count": 393,
   "metadata": {},
   "outputs": [
    {
     "data": {
      "text/html": [
       "<div>\n",
       "<style scoped>\n",
       "    .dataframe tbody tr th:only-of-type {\n",
       "        vertical-align: middle;\n",
       "    }\n",
       "\n",
       "    .dataframe tbody tr th {\n",
       "        vertical-align: top;\n",
       "    }\n",
       "\n",
       "    .dataframe thead th {\n",
       "        text-align: right;\n",
       "    }\n",
       "</style>\n",
       "<table border=\"1\" class=\"dataframe\">\n",
       "  <thead>\n",
       "    <tr style=\"text-align: right;\">\n",
       "      <th></th>\n",
       "      <th>CLASS</th>\n",
       "      <th>NOUN_NOUN</th>\n",
       "      <th>NOUN_ADJ</th>\n",
       "      <th>NOUN_VERB</th>\n",
       "      <th>NOUN_ADV</th>\n",
       "      <th>ADJ_NOUN</th>\n",
       "      <th>ADJ_ADJ</th>\n",
       "      <th>ADJ_VERB</th>\n",
       "      <th>ADJ_ADV</th>\n",
       "      <th>VERB_NOUN</th>\n",
       "      <th>...</th>\n",
       "      <th>VERB_ADV_</th>\n",
       "      <th>ADV_NOUN_</th>\n",
       "      <th>ADV_ADJ_</th>\n",
       "      <th>ADV_VERB_</th>\n",
       "      <th>ADV_ADV_</th>\n",
       "      <th>sinonimos</th>\n",
       "      <th>antonimos</th>\n",
       "      <th>hiperonimos</th>\n",
       "      <th>hiponimos</th>\n",
       "      <th>relacionesf</th>\n",
       "    </tr>\n",
       "  </thead>\n",
       "  <tbody>\n",
       "    <tr>\n",
       "      <th>0</th>\n",
       "      <td>neutral</td>\n",
       "      <td>33.796183</td>\n",
       "      <td>0.000000</td>\n",
       "      <td>0.380474</td>\n",
       "      <td>0.000000</td>\n",
       "      <td>1.183103</td>\n",
       "      <td>0.000000</td>\n",
       "      <td>0.093333</td>\n",
       "      <td>0.000000</td>\n",
       "      <td>9.692574</td>\n",
       "      <td>...</td>\n",
       "      <td>0</td>\n",
       "      <td>0</td>\n",
       "      <td>0</td>\n",
       "      <td>0</td>\n",
       "      <td>0</td>\n",
       "      <td>1</td>\n",
       "      <td>0</td>\n",
       "      <td>0</td>\n",
       "      <td>0</td>\n",
       "      <td>9</td>\n",
       "    </tr>\n",
       "    <tr>\n",
       "      <th>1</th>\n",
       "      <td>entailment</td>\n",
       "      <td>33.623150</td>\n",
       "      <td>0.000000</td>\n",
       "      <td>5.847821</td>\n",
       "      <td>0.000000</td>\n",
       "      <td>2.113398</td>\n",
       "      <td>0.000000</td>\n",
       "      <td>0.976824</td>\n",
       "      <td>0.000000</td>\n",
       "      <td>13.282438</td>\n",
       "      <td>...</td>\n",
       "      <td>0</td>\n",
       "      <td>0</td>\n",
       "      <td>0</td>\n",
       "      <td>0</td>\n",
       "      <td>0</td>\n",
       "      <td>2</td>\n",
       "      <td>0</td>\n",
       "      <td>0</td>\n",
       "      <td>0</td>\n",
       "      <td>5</td>\n",
       "    </tr>\n",
       "    <tr>\n",
       "      <th>2</th>\n",
       "      <td>contradiction</td>\n",
       "      <td>57.016686</td>\n",
       "      <td>0.000000</td>\n",
       "      <td>0.000000</td>\n",
       "      <td>0.000000</td>\n",
       "      <td>6.759290</td>\n",
       "      <td>0.000000</td>\n",
       "      <td>0.000000</td>\n",
       "      <td>0.000000</td>\n",
       "      <td>29.846165</td>\n",
       "      <td>...</td>\n",
       "      <td>0</td>\n",
       "      <td>0</td>\n",
       "      <td>0</td>\n",
       "      <td>0</td>\n",
       "      <td>0</td>\n",
       "      <td>1</td>\n",
       "      <td>0</td>\n",
       "      <td>0</td>\n",
       "      <td>0</td>\n",
       "      <td>5</td>\n",
       "    </tr>\n",
       "    <tr>\n",
       "      <th>3</th>\n",
       "      <td>neutral</td>\n",
       "      <td>6.618415</td>\n",
       "      <td>2.169392</td>\n",
       "      <td>0.164617</td>\n",
       "      <td>0.000000</td>\n",
       "      <td>1.281069</td>\n",
       "      <td>2.715726</td>\n",
       "      <td>0.032713</td>\n",
       "      <td>0.000000</td>\n",
       "      <td>0.000000</td>\n",
       "      <td>...</td>\n",
       "      <td>0</td>\n",
       "      <td>0</td>\n",
       "      <td>0</td>\n",
       "      <td>1</td>\n",
       "      <td>0</td>\n",
       "      <td>1</td>\n",
       "      <td>0</td>\n",
       "      <td>0</td>\n",
       "      <td>0</td>\n",
       "      <td>0</td>\n",
       "    </tr>\n",
       "    <tr>\n",
       "      <th>4</th>\n",
       "      <td>entailment</td>\n",
       "      <td>6.618415</td>\n",
       "      <td>6.273093</td>\n",
       "      <td>0.164617</td>\n",
       "      <td>2.900523</td>\n",
       "      <td>1.281069</td>\n",
       "      <td>3.007881</td>\n",
       "      <td>0.032713</td>\n",
       "      <td>1.905221</td>\n",
       "      <td>0.000000</td>\n",
       "      <td>...</td>\n",
       "      <td>0</td>\n",
       "      <td>0</td>\n",
       "      <td>1</td>\n",
       "      <td>1</td>\n",
       "      <td>1</td>\n",
       "      <td>2</td>\n",
       "      <td>0</td>\n",
       "      <td>0</td>\n",
       "      <td>0</td>\n",
       "      <td>1</td>\n",
       "    </tr>\n",
       "    <tr>\n",
       "      <th>...</th>\n",
       "      <td>...</td>\n",
       "      <td>...</td>\n",
       "      <td>...</td>\n",
       "      <td>...</td>\n",
       "      <td>...</td>\n",
       "      <td>...</td>\n",
       "      <td>...</td>\n",
       "      <td>...</td>\n",
       "      <td>...</td>\n",
       "      <td>...</td>\n",
       "      <td>...</td>\n",
       "      <td>...</td>\n",
       "      <td>...</td>\n",
       "      <td>...</td>\n",
       "      <td>...</td>\n",
       "      <td>...</td>\n",
       "      <td>...</td>\n",
       "      <td>...</td>\n",
       "      <td>...</td>\n",
       "      <td>...</td>\n",
       "      <td>...</td>\n",
       "    </tr>\n",
       "    <tr>\n",
       "      <th>9813</th>\n",
       "      <td>contradiction</td>\n",
       "      <td>8.402205</td>\n",
       "      <td>0.345277</td>\n",
       "      <td>1.433197</td>\n",
       "      <td>0.000000</td>\n",
       "      <td>0.000000</td>\n",
       "      <td>0.000000</td>\n",
       "      <td>0.000000</td>\n",
       "      <td>0.000000</td>\n",
       "      <td>1.308104</td>\n",
       "      <td>...</td>\n",
       "      <td>0</td>\n",
       "      <td>0</td>\n",
       "      <td>0</td>\n",
       "      <td>0</td>\n",
       "      <td>0</td>\n",
       "      <td>2</td>\n",
       "      <td>0</td>\n",
       "      <td>0</td>\n",
       "      <td>0</td>\n",
       "      <td>1</td>\n",
       "    </tr>\n",
       "    <tr>\n",
       "      <th>9814</th>\n",
       "      <td>entailment</td>\n",
       "      <td>8.400454</td>\n",
       "      <td>0.000000</td>\n",
       "      <td>1.437402</td>\n",
       "      <td>0.000000</td>\n",
       "      <td>0.000000</td>\n",
       "      <td>0.000000</td>\n",
       "      <td>0.000000</td>\n",
       "      <td>0.000000</td>\n",
       "      <td>1.100578</td>\n",
       "      <td>...</td>\n",
       "      <td>0</td>\n",
       "      <td>0</td>\n",
       "      <td>0</td>\n",
       "      <td>0</td>\n",
       "      <td>0</td>\n",
       "      <td>1</td>\n",
       "      <td>0</td>\n",
       "      <td>0</td>\n",
       "      <td>1</td>\n",
       "      <td>1</td>\n",
       "    </tr>\n",
       "    <tr>\n",
       "      <th>9815</th>\n",
       "      <td>contradiction</td>\n",
       "      <td>12.970977</td>\n",
       "      <td>0.000000</td>\n",
       "      <td>4.538058</td>\n",
       "      <td>0.000000</td>\n",
       "      <td>2.155510</td>\n",
       "      <td>0.000000</td>\n",
       "      <td>0.596163</td>\n",
       "      <td>0.000000</td>\n",
       "      <td>2.151257</td>\n",
       "      <td>...</td>\n",
       "      <td>0</td>\n",
       "      <td>0</td>\n",
       "      <td>0</td>\n",
       "      <td>0</td>\n",
       "      <td>0</td>\n",
       "      <td>1</td>\n",
       "      <td>0</td>\n",
       "      <td>0</td>\n",
       "      <td>0</td>\n",
       "      <td>5</td>\n",
       "    </tr>\n",
       "    <tr>\n",
       "      <th>9816</th>\n",
       "      <td>entailment</td>\n",
       "      <td>14.799540</td>\n",
       "      <td>0.000000</td>\n",
       "      <td>8.943353</td>\n",
       "      <td>0.000000</td>\n",
       "      <td>3.110718</td>\n",
       "      <td>0.000000</td>\n",
       "      <td>1.953732</td>\n",
       "      <td>0.000000</td>\n",
       "      <td>2.341955</td>\n",
       "      <td>...</td>\n",
       "      <td>0</td>\n",
       "      <td>0</td>\n",
       "      <td>0</td>\n",
       "      <td>0</td>\n",
       "      <td>0</td>\n",
       "      <td>3</td>\n",
       "      <td>0</td>\n",
       "      <td>0</td>\n",
       "      <td>0</td>\n",
       "      <td>2</td>\n",
       "    </tr>\n",
       "    <tr>\n",
       "      <th>9817</th>\n",
       "      <td>neutral</td>\n",
       "      <td>24.345361</td>\n",
       "      <td>0.000000</td>\n",
       "      <td>8.471576</td>\n",
       "      <td>0.000000</td>\n",
       "      <td>4.148530</td>\n",
       "      <td>0.000000</td>\n",
       "      <td>0.881707</td>\n",
       "      <td>0.000000</td>\n",
       "      <td>4.232938</td>\n",
       "      <td>...</td>\n",
       "      <td>0</td>\n",
       "      <td>0</td>\n",
       "      <td>0</td>\n",
       "      <td>0</td>\n",
       "      <td>0</td>\n",
       "      <td>2</td>\n",
       "      <td>0</td>\n",
       "      <td>0</td>\n",
       "      <td>0</td>\n",
       "      <td>3</td>\n",
       "    </tr>\n",
       "  </tbody>\n",
       "</table>\n",
       "<p>9818 rows × 38 columns</p>\n",
       "</div>"
      ],
      "text/plain": [
       "              CLASS  NOUN_NOUN  NOUN_ADJ  NOUN_VERB  NOUN_ADV  ADJ_NOUN  \\\n",
       "0           neutral  33.796183  0.000000   0.380474  0.000000  1.183103   \n",
       "1        entailment  33.623150  0.000000   5.847821  0.000000  2.113398   \n",
       "2     contradiction  57.016686  0.000000   0.000000  0.000000  6.759290   \n",
       "3           neutral   6.618415  2.169392   0.164617  0.000000  1.281069   \n",
       "4        entailment   6.618415  6.273093   0.164617  2.900523  1.281069   \n",
       "...             ...        ...       ...        ...       ...       ...   \n",
       "9813  contradiction   8.402205  0.345277   1.433197  0.000000  0.000000   \n",
       "9814     entailment   8.400454  0.000000   1.437402  0.000000  0.000000   \n",
       "9815  contradiction  12.970977  0.000000   4.538058  0.000000  2.155510   \n",
       "9816     entailment  14.799540  0.000000   8.943353  0.000000  3.110718   \n",
       "9817        neutral  24.345361  0.000000   8.471576  0.000000  4.148530   \n",
       "\n",
       "       ADJ_ADJ  ADJ_VERB   ADJ_ADV  VERB_NOUN  ...  VERB_ADV_  ADV_NOUN_  \\\n",
       "0     0.000000  0.093333  0.000000   9.692574  ...          0          0   \n",
       "1     0.000000  0.976824  0.000000  13.282438  ...          0          0   \n",
       "2     0.000000  0.000000  0.000000  29.846165  ...          0          0   \n",
       "3     2.715726  0.032713  0.000000   0.000000  ...          0          0   \n",
       "4     3.007881  0.032713  1.905221   0.000000  ...          0          0   \n",
       "...        ...       ...       ...        ...  ...        ...        ...   \n",
       "9813  0.000000  0.000000  0.000000   1.308104  ...          0          0   \n",
       "9814  0.000000  0.000000  0.000000   1.100578  ...          0          0   \n",
       "9815  0.000000  0.596163  0.000000   2.151257  ...          0          0   \n",
       "9816  0.000000  1.953732  0.000000   2.341955  ...          0          0   \n",
       "9817  0.000000  0.881707  0.000000   4.232938  ...          0          0   \n",
       "\n",
       "      ADV_ADJ_  ADV_VERB_  ADV_ADV_  sinonimos  antonimos  hiperonimos  \\\n",
       "0            0          0         0          1          0            0   \n",
       "1            0          0         0          2          0            0   \n",
       "2            0          0         0          1          0            0   \n",
       "3            0          1         0          1          0            0   \n",
       "4            1          1         1          2          0            0   \n",
       "...        ...        ...       ...        ...        ...          ...   \n",
       "9813         0          0         0          2          0            0   \n",
       "9814         0          0         0          1          0            0   \n",
       "9815         0          0         0          1          0            0   \n",
       "9816         0          0         0          3          0            0   \n",
       "9817         0          0         0          2          0            0   \n",
       "\n",
       "      hiponimos  relacionesf  \n",
       "0             0            9  \n",
       "1             0            5  \n",
       "2             0            5  \n",
       "3             0            0  \n",
       "4             0            1  \n",
       "...         ...          ...  \n",
       "9813          0            1  \n",
       "9814          1            1  \n",
       "9815          0            5  \n",
       "9816          0            2  \n",
       "9817          0            3  \n",
       "\n",
       "[9818 rows x 38 columns]"
      ]
     },
     "execution_count": 393,
     "metadata": {},
     "output_type": "execute_result"
    }
   ],
   "source": [
    "dataframe = pd.read_csv(r\"TipoPalabra_conteos_umbral_mean_relsemanf_TEST_CLASS.csv\")\n",
    "dataframe"
   ]
  },
  {
   "cell_type": "code",
   "execution_count": 394,
   "metadata": {},
   "outputs": [
    {
     "data": {
      "text/html": [
       "<div>\n",
       "<style scoped>\n",
       "    .dataframe tbody tr th:only-of-type {\n",
       "        vertical-align: middle;\n",
       "    }\n",
       "\n",
       "    .dataframe tbody tr th {\n",
       "        vertical-align: top;\n",
       "    }\n",
       "\n",
       "    .dataframe thead th {\n",
       "        text-align: right;\n",
       "    }\n",
       "</style>\n",
       "<table border=\"1\" class=\"dataframe\">\n",
       "  <thead>\n",
       "    <tr style=\"text-align: right;\">\n",
       "      <th></th>\n",
       "      <th>NOUN_NOUN</th>\n",
       "      <th>NOUN_ADJ</th>\n",
       "      <th>NOUN_VERB</th>\n",
       "      <th>NOUN_ADV</th>\n",
       "      <th>ADJ_NOUN</th>\n",
       "      <th>ADJ_ADJ</th>\n",
       "      <th>ADJ_VERB</th>\n",
       "      <th>ADJ_ADV</th>\n",
       "      <th>VERB_NOUN</th>\n",
       "      <th>VERB_ADJ</th>\n",
       "      <th>...</th>\n",
       "      <th>VERB_ADV_</th>\n",
       "      <th>ADV_NOUN_</th>\n",
       "      <th>ADV_ADJ_</th>\n",
       "      <th>ADV_VERB_</th>\n",
       "      <th>ADV_ADV_</th>\n",
       "      <th>sinonimos</th>\n",
       "      <th>antonimos</th>\n",
       "      <th>hiperonimos</th>\n",
       "      <th>hiponimos</th>\n",
       "      <th>relacionesf</th>\n",
       "    </tr>\n",
       "  </thead>\n",
       "  <tbody>\n",
       "    <tr>\n",
       "      <th>count</th>\n",
       "      <td>9818.000000</td>\n",
       "      <td>9818.000000</td>\n",
       "      <td>9818.000000</td>\n",
       "      <td>9818.000000</td>\n",
       "      <td>9818.000000</td>\n",
       "      <td>9818.000000</td>\n",
       "      <td>9818.000000</td>\n",
       "      <td>9818.000000</td>\n",
       "      <td>9818.000000</td>\n",
       "      <td>9818.000000</td>\n",
       "      <td>...</td>\n",
       "      <td>9818.000000</td>\n",
       "      <td>9818.000000</td>\n",
       "      <td>9818.000000</td>\n",
       "      <td>9818.000000</td>\n",
       "      <td>9818.000000</td>\n",
       "      <td>9818.000000</td>\n",
       "      <td>9818.000000</td>\n",
       "      <td>9818.000000</td>\n",
       "      <td>9818.000000</td>\n",
       "      <td>9818.000000</td>\n",
       "    </tr>\n",
       "    <tr>\n",
       "      <th>mean</th>\n",
       "      <td>16.394475</td>\n",
       "      <td>1.688639</td>\n",
       "      <td>3.837294</td>\n",
       "      <td>0.603821</td>\n",
       "      <td>2.767825</td>\n",
       "      <td>1.354010</td>\n",
       "      <td>0.605392</td>\n",
       "      <td>0.106982</td>\n",
       "      <td>2.759923</td>\n",
       "      <td>0.372364</td>\n",
       "      <td>...</td>\n",
       "      <td>0.217050</td>\n",
       "      <td>0.162762</td>\n",
       "      <td>0.034834</td>\n",
       "      <td>0.156244</td>\n",
       "      <td>0.034834</td>\n",
       "      <td>2.132817</td>\n",
       "      <td>0.043288</td>\n",
       "      <td>0.267875</td>\n",
       "      <td>0.228967</td>\n",
       "      <td>1.957425</td>\n",
       "    </tr>\n",
       "    <tr>\n",
       "      <th>std</th>\n",
       "      <td>11.669398</td>\n",
       "      <td>3.285123</td>\n",
       "      <td>4.011487</td>\n",
       "      <td>1.855389</td>\n",
       "      <td>3.871794</td>\n",
       "      <td>3.867684</td>\n",
       "      <td>1.237705</td>\n",
       "      <td>0.531202</td>\n",
       "      <td>3.101191</td>\n",
       "      <td>1.050108</td>\n",
       "      <td>...</td>\n",
       "      <td>0.682324</td>\n",
       "      <td>0.634474</td>\n",
       "      <td>0.242245</td>\n",
       "      <td>0.593188</td>\n",
       "      <td>0.232810</td>\n",
       "      <td>1.567236</td>\n",
       "      <td>0.222179</td>\n",
       "      <td>0.594145</td>\n",
       "      <td>0.514957</td>\n",
       "      <td>2.289619</td>\n",
       "    </tr>\n",
       "    <tr>\n",
       "      <th>min</th>\n",
       "      <td>0.000000</td>\n",
       "      <td>0.000000</td>\n",
       "      <td>0.000000</td>\n",
       "      <td>0.000000</td>\n",
       "      <td>0.000000</td>\n",
       "      <td>0.000000</td>\n",
       "      <td>0.000000</td>\n",
       "      <td>0.000000</td>\n",
       "      <td>0.000000</td>\n",
       "      <td>0.000000</td>\n",
       "      <td>...</td>\n",
       "      <td>0.000000</td>\n",
       "      <td>0.000000</td>\n",
       "      <td>0.000000</td>\n",
       "      <td>0.000000</td>\n",
       "      <td>0.000000</td>\n",
       "      <td>0.000000</td>\n",
       "      <td>0.000000</td>\n",
       "      <td>0.000000</td>\n",
       "      <td>0.000000</td>\n",
       "      <td>0.000000</td>\n",
       "    </tr>\n",
       "    <tr>\n",
       "      <th>25%</th>\n",
       "      <td>8.537189</td>\n",
       "      <td>0.000000</td>\n",
       "      <td>0.788176</td>\n",
       "      <td>0.000000</td>\n",
       "      <td>0.000000</td>\n",
       "      <td>0.000000</td>\n",
       "      <td>0.000000</td>\n",
       "      <td>0.000000</td>\n",
       "      <td>0.544852</td>\n",
       "      <td>0.000000</td>\n",
       "      <td>...</td>\n",
       "      <td>0.000000</td>\n",
       "      <td>0.000000</td>\n",
       "      <td>0.000000</td>\n",
       "      <td>0.000000</td>\n",
       "      <td>0.000000</td>\n",
       "      <td>1.000000</td>\n",
       "      <td>0.000000</td>\n",
       "      <td>0.000000</td>\n",
       "      <td>0.000000</td>\n",
       "      <td>0.000000</td>\n",
       "    </tr>\n",
       "    <tr>\n",
       "      <th>50%</th>\n",
       "      <td>13.675768</td>\n",
       "      <td>0.000000</td>\n",
       "      <td>2.964725</td>\n",
       "      <td>0.000000</td>\n",
       "      <td>1.548549</td>\n",
       "      <td>0.000000</td>\n",
       "      <td>0.000000</td>\n",
       "      <td>0.000000</td>\n",
       "      <td>1.914624</td>\n",
       "      <td>0.000000</td>\n",
       "      <td>...</td>\n",
       "      <td>0.000000</td>\n",
       "      <td>0.000000</td>\n",
       "      <td>0.000000</td>\n",
       "      <td>0.000000</td>\n",
       "      <td>0.000000</td>\n",
       "      <td>2.000000</td>\n",
       "      <td>0.000000</td>\n",
       "      <td>0.000000</td>\n",
       "      <td>0.000000</td>\n",
       "      <td>1.000000</td>\n",
       "    </tr>\n",
       "    <tr>\n",
       "      <th>75%</th>\n",
       "      <td>20.745081</td>\n",
       "      <td>2.462749</td>\n",
       "      <td>5.459814</td>\n",
       "      <td>0.000000</td>\n",
       "      <td>4.024013</td>\n",
       "      <td>0.521103</td>\n",
       "      <td>0.818806</td>\n",
       "      <td>0.000000</td>\n",
       "      <td>3.863960</td>\n",
       "      <td>0.000000</td>\n",
       "      <td>...</td>\n",
       "      <td>0.000000</td>\n",
       "      <td>0.000000</td>\n",
       "      <td>0.000000</td>\n",
       "      <td>0.000000</td>\n",
       "      <td>0.000000</td>\n",
       "      <td>3.000000</td>\n",
       "      <td>0.000000</td>\n",
       "      <td>0.000000</td>\n",
       "      <td>0.000000</td>\n",
       "      <td>3.000000</td>\n",
       "    </tr>\n",
       "    <tr>\n",
       "      <th>max</th>\n",
       "      <td>189.305465</td>\n",
       "      <td>46.465061</td>\n",
       "      <td>42.412623</td>\n",
       "      <td>21.441619</td>\n",
       "      <td>41.643242</td>\n",
       "      <td>92.507743</td>\n",
       "      <td>17.164005</td>\n",
       "      <td>9.572460</td>\n",
       "      <td>34.803299</td>\n",
       "      <td>15.453038</td>\n",
       "      <td>...</td>\n",
       "      <td>9.000000</td>\n",
       "      <td>11.000000</td>\n",
       "      <td>5.000000</td>\n",
       "      <td>13.000000</td>\n",
       "      <td>6.000000</td>\n",
       "      <td>14.000000</td>\n",
       "      <td>3.000000</td>\n",
       "      <td>7.000000</td>\n",
       "      <td>4.000000</td>\n",
       "      <td>46.000000</td>\n",
       "    </tr>\n",
       "  </tbody>\n",
       "</table>\n",
       "<p>8 rows × 37 columns</p>\n",
       "</div>"
      ],
      "text/plain": [
       "         NOUN_NOUN     NOUN_ADJ    NOUN_VERB     NOUN_ADV     ADJ_NOUN  \\\n",
       "count  9818.000000  9818.000000  9818.000000  9818.000000  9818.000000   \n",
       "mean     16.394475     1.688639     3.837294     0.603821     2.767825   \n",
       "std      11.669398     3.285123     4.011487     1.855389     3.871794   \n",
       "min       0.000000     0.000000     0.000000     0.000000     0.000000   \n",
       "25%       8.537189     0.000000     0.788176     0.000000     0.000000   \n",
       "50%      13.675768     0.000000     2.964725     0.000000     1.548549   \n",
       "75%      20.745081     2.462749     5.459814     0.000000     4.024013   \n",
       "max     189.305465    46.465061    42.412623    21.441619    41.643242   \n",
       "\n",
       "           ADJ_ADJ     ADJ_VERB      ADJ_ADV    VERB_NOUN     VERB_ADJ  ...  \\\n",
       "count  9818.000000  9818.000000  9818.000000  9818.000000  9818.000000  ...   \n",
       "mean      1.354010     0.605392     0.106982     2.759923     0.372364  ...   \n",
       "std       3.867684     1.237705     0.531202     3.101191     1.050108  ...   \n",
       "min       0.000000     0.000000     0.000000     0.000000     0.000000  ...   \n",
       "25%       0.000000     0.000000     0.000000     0.544852     0.000000  ...   \n",
       "50%       0.000000     0.000000     0.000000     1.914624     0.000000  ...   \n",
       "75%       0.521103     0.818806     0.000000     3.863960     0.000000  ...   \n",
       "max      92.507743    17.164005     9.572460    34.803299    15.453038  ...   \n",
       "\n",
       "         VERB_ADV_    ADV_NOUN_     ADV_ADJ_    ADV_VERB_     ADV_ADV_  \\\n",
       "count  9818.000000  9818.000000  9818.000000  9818.000000  9818.000000   \n",
       "mean      0.217050     0.162762     0.034834     0.156244     0.034834   \n",
       "std       0.682324     0.634474     0.242245     0.593188     0.232810   \n",
       "min       0.000000     0.000000     0.000000     0.000000     0.000000   \n",
       "25%       0.000000     0.000000     0.000000     0.000000     0.000000   \n",
       "50%       0.000000     0.000000     0.000000     0.000000     0.000000   \n",
       "75%       0.000000     0.000000     0.000000     0.000000     0.000000   \n",
       "max       9.000000    11.000000     5.000000    13.000000     6.000000   \n",
       "\n",
       "         sinonimos    antonimos  hiperonimos    hiponimos  relacionesf  \n",
       "count  9818.000000  9818.000000  9818.000000  9818.000000  9818.000000  \n",
       "mean      2.132817     0.043288     0.267875     0.228967     1.957425  \n",
       "std       1.567236     0.222179     0.594145     0.514957     2.289619  \n",
       "min       0.000000     0.000000     0.000000     0.000000     0.000000  \n",
       "25%       1.000000     0.000000     0.000000     0.000000     0.000000  \n",
       "50%       2.000000     0.000000     0.000000     0.000000     1.000000  \n",
       "75%       3.000000     0.000000     0.000000     0.000000     3.000000  \n",
       "max      14.000000     3.000000     7.000000     4.000000    46.000000  \n",
       "\n",
       "[8 rows x 37 columns]"
      ]
     },
     "execution_count": 394,
     "metadata": {},
     "output_type": "execute_result"
    }
   ],
   "source": [
    "dataframe.describe()"
   ]
  },
  {
   "cell_type": "code",
   "execution_count": 395,
   "metadata": {},
   "outputs": [
    {
     "name": "stdout",
     "output_type": "stream",
     "text": [
      "CLASS\n",
      "contradiction    3235\n",
      "entailment       3366\n",
      "neutral          3217\n",
      "dtype: int64\n"
     ]
    }
   ],
   "source": [
    "print(dataframe.groupby('CLASS').size())"
   ]
  },
  {
   "cell_type": "code",
   "execution_count": 396,
   "metadata": {},
   "outputs": [
    {
     "data": {
      "image/png": "[encoded data removed]",
      "text/plain": [
       "<Figure size 2000x1000 with 42 Axes>"
      ]
     },
     "metadata": {},
     "output_type": "display_data"
    }
   ],
   "source": [
    "dataframe.hist(figsize=(20,10))\n",
    "plt.show()"
   ]
  },
  {
   "cell_type": "code",
   "execution_count": 397,
   "metadata": {},
   "outputs": [
    {
     "data": {
      "text/plain": [
       "(9818, 37)"
      ]
     },
     "execution_count": 397,
     "metadata": {},
     "output_type": "execute_result"
    }
   ],
   "source": [
    "X = np.array(dataframe.drop(['CLASS'],1))\n",
    "X_test = np.array(dataframe.drop(['CLASS'],1))\n",
    "y = np.array(dataframe['CLASS'])\n",
    "y_test =np.array(dataframe['CLASS'])\n",
    "X.shape"
   ]
  },
  {
   "cell_type": "code",
   "execution_count": 398,
   "metadata": {},
   "outputs": [
    {
     "data": {
      "text/plain": [
       "array(['neutral', 'entailment', 'contradiction', ..., 'contradiction',\n",
       "       'entailment', 'neutral'], dtype=object)"
      ]
     },
     "execution_count": 398,
     "metadata": {},
     "output_type": "execute_result"
    }
   ],
   "source": [
    "y_test"
   ]
  },
  {
   "cell_type": "code",
   "execution_count": 399,
   "metadata": {},
   "outputs": [
    {
     "data": {
      "text/plain": [
       "array(['neutral', 'entailment', 'contradiction', ..., 'contradiction',\n",
       "       'entailment', 'neutral'], dtype=object)"
      ]
     },
     "execution_count": 399,
     "metadata": {},
     "output_type": "execute_result"
    }
   ],
   "source": [
    "y"
   ]
  },
  {
   "cell_type": "code",
   "execution_count": 400,
   "metadata": {},
   "outputs": [
    {
     "name": "stderr",
     "output_type": "stream",
     "text": [
      "/home/david/anaconda3/lib/python3.9/site-packages/sklearn/linear_model/_logistic.py:814: ConvergenceWarning: lbfgs failed to converge (status=1):\n",
      "STOP: TOTAL NO. of ITERATIONS REACHED LIMIT.\n",
      "\n",
      "Increase the number of iterations (max_iter) or scale the data as shown in:\n",
      "    https://scikit-learn.org/stable/modules/preprocessing.html\n",
      "Please also refer to the documentation for alternative solver options:\n",
      "    https://scikit-learn.org/stable/modules/linear_model.html#logistic-regression\n",
      "  n_iter_i = _check_optimize_result(\n"
     ]
    },
    {
     "data": {
      "text/plain": [
       "LogisticRegression(C=0.1)"
      ]
     },
     "execution_count": 400,
     "metadata": {},
     "output_type": "execute_result"
    }
   ],
   "source": [
    "model = linear_model.LogisticRegression(penalty=\"l2\", C=0.1)\n",
    "model.fit(X,y)"
   ]
  },
  {
   "cell_type": "code",
   "execution_count": 401,
   "metadata": {},
   "outputs": [
    {
     "data": {
      "text/plain": [
       "{'C': 0.1,\n",
       " 'class_weight': None,\n",
       " 'dual': False,\n",
       " 'fit_intercept': True,\n",
       " 'intercept_scaling': 1,\n",
       " 'l1_ratio': None,\n",
       " 'max_iter': 100,\n",
       " 'multi_class': 'auto',\n",
       " 'n_jobs': None,\n",
       " 'penalty': 'l2',\n",
       " 'random_state': None,\n",
       " 'solver': 'lbfgs',\n",
       " 'tol': 0.0001,\n",
       " 'verbose': 0,\n",
       " 'warm_start': False}"
      ]
     },
     "execution_count": 401,
     "metadata": {},
     "output_type": "execute_result"
    }
   ],
   "source": [
    "model.get_params()"
   ]
  },
  {
   "cell_type": "code",
   "execution_count": 402,
   "metadata": {},
   "outputs": [
    {
     "data": {
      "text/plain": [
       "array([[ 0.88417625, -0.91142379,  0.02724754],\n",
       "       [ 0.06956499, -0.45585043,  0.38628544],\n",
       "       [ 0.00313696, -1.11767772,  1.11454076],\n",
       "       ...,\n",
       "       [ 0.54928455, -0.40172169, -0.14756286],\n",
       "       [-0.39081626,  0.48046986, -0.0896536 ],\n",
       "       [ 0.16399824, -0.19435581,  0.03035757]])"
      ]
     },
     "execution_count": 402,
     "metadata": {},
     "output_type": "execute_result"
    }
   ],
   "source": [
    "model.decision_function(X)"
   ]
  },
  {
   "cell_type": "code",
   "execution_count": 403,
   "metadata": {},
   "outputs": [],
   "source": [
    "labels=dataframe.columns[1:]"
   ]
  },
  {
   "cell_type": "code",
   "execution_count": 404,
   "metadata": {},
   "outputs": [
    {
     "data": {
      "text/plain": [
       "array(['contradiction', 'entailment', 'neutral'], dtype=object)"
      ]
     },
     "execution_count": 404,
     "metadata": {},
     "output_type": "execute_result"
    }
   ],
   "source": [
    "model.classes_"
   ]
  },
  {
   "cell_type": "code",
   "execution_count": 405,
   "metadata": {},
   "outputs": [],
   "source": [
    "contradiction=model.coef_[0]\n",
    "entailment=model.coef_[1]\n",
    "neutral=model.coef_[2]"
   ]
  },
  {
   "cell_type": "code",
   "execution_count": 406,
   "metadata": {},
   "outputs": [
    {
     "name": "stdout",
     "output_type": "stream",
     "text": [
      "Contradiction  33 antonimos 32 sinonimos\n",
      "Entailment  32 sinonimos 33 antonimos\n",
      "Neutral  23 ADJ_ADV_ 33 antonimos\n"
     ]
    }
   ],
   "source": [
    "print(\"Contradiction \",np.argmax(contradiction),labels[np.argmax(contradiction)],np.argmin(contradiction),labels[np.argmin(contradiction)])\n",
    "print(\"Entailment \",np.argmax(entailment),labels[np.argmax(entailment)],np.argmin(entailment),labels[np.argmin(entailment)])\n",
    "print(\"Neutral \",np.argmax(neutral),labels[np.argmax(neutral)],np.argmin(neutral),labels[np.argmin(neutral)])"
   ]
  },
  {
   "cell_type": "code",
   "execution_count": 407,
   "metadata": {},
   "outputs": [],
   "source": [
    "n_columns=dataframe.shape[1]-1"
   ]
  },
  {
   "cell_type": "code",
   "execution_count": 408,
   "metadata": {},
   "outputs": [
    {
     "data": {
      "image/png": "[encoded data removed]",
      "text/plain": [
       "<Figure size 640x480 with 1 Axes>"
      ]
     },
     "metadata": {},
     "output_type": "display_data"
    }
   ],
   "source": [
    "import matplotlib.pyplot as plt\n",
    "import numpy as np\n",
    "\n",
    "x_v = np.arange(0,n_columns,1)\n",
    "y_v = contradiction\n",
    "\n",
    "plt.bar(x_v,y_v)\n",
    "plt.xlabel('x')\n",
    "plt.ylabel('y')\n",
    "plt.title('Contradiction')\n",
    "plt.show()"
   ]
  },
  {
   "cell_type": "code",
   "execution_count": 409,
   "metadata": {},
   "outputs": [
    {
     "data": {
      "image/png": "[encoded data removed]",
      "text/plain": [
       "<Figure size 640x480 with 1 Axes>"
      ]
     },
     "metadata": {},
     "output_type": "display_data"
    }
   ],
   "source": [
    "x_v = np.arange(0,n_columns,1)\n",
    "y_v = entailment\n",
    "\n",
    "plt.bar(x_v,y_v)\n",
    "plt.xlabel('x')\n",
    "plt.ylabel('y')\n",
    "plt.title('Entailment')\n",
    "plt.show()"
   ]
  },
  {
   "cell_type": "code",
   "execution_count": 410,
   "metadata": {},
   "outputs": [
    {
     "data": {
      "image/png": "[encoded data removed]",
      "text/plain": [
       "<Figure size 640x480 with 1 Axes>"
      ]
     },
     "metadata": {},
     "output_type": "display_data"
    }
   ],
   "source": [
    "x_v = np.arange(0,n_columns,1)\n",
    "y_v = neutral\n",
    "\n",
    "plt.bar(x_v,y_v)\n",
    "plt.xlabel('x')\n",
    "plt.ylabel('y')\n",
    "plt.title('Neutral')\n",
    "plt.show()"
   ]
  },
  {
   "cell_type": "code",
   "execution_count": 411,
   "metadata": {},
   "outputs": [
    {
     "name": "stdout",
     "output_type": "stream",
     "text": [
      "['contradiction' 'neutral' 'neutral' ... 'contradiction' 'entailment'\n",
      " 'contradiction']\n"
     ]
    }
   ],
   "source": [
    "predictions = model.predict(X)\n",
    "print(predictions)"
   ]
  },
  {
   "cell_type": "code",
   "execution_count": 412,
   "metadata": {},
   "outputs": [
    {
     "data": {
      "text/plain": [
       "array(['neutral', 'entailment', 'contradiction', ..., 'contradiction',\n",
       "       'entailment', 'neutral'], dtype=object)"
      ]
     },
     "execution_count": 412,
     "metadata": {},
     "output_type": "execute_result"
    }
   ],
   "source": [
    "y"
   ]
  },
  {
   "cell_type": "code",
   "execution_count": 413,
   "metadata": {},
   "outputs": [
    {
     "data": {
      "text/plain": [
       "array([[33.79618263,  0.        ,  0.3804743 , ...,  0.        ,\n",
       "         0.        ,  9.        ],\n",
       "       [33.62315011,  0.        ,  5.84782112, ...,  0.        ,\n",
       "         0.        ,  5.        ],\n",
       "       [57.01668584,  0.        ,  0.        , ...,  0.        ,\n",
       "         0.        ,  5.        ],\n",
       "       ...,\n",
       "       [12.97097707,  0.        ,  4.53805836, ...,  0.        ,\n",
       "         0.        ,  5.        ],\n",
       "       [14.79953998,  0.        ,  8.9433526 , ...,  0.        ,\n",
       "         0.        ,  2.        ],\n",
       "       [24.3453607 ,  0.        ,  8.47157582, ...,  0.        ,\n",
       "         0.        ,  3.        ]])"
      ]
     },
     "execution_count": 413,
     "metadata": {},
     "output_type": "execute_result"
    }
   ],
   "source": [
    "X"
   ]
  },
  {
   "cell_type": "code",
   "execution_count": 414,
   "metadata": {},
   "outputs": [
    {
     "data": {
      "text/plain": [
       "0.5315746587899776"
      ]
     },
     "execution_count": 414,
     "metadata": {},
     "output_type": "execute_result"
    }
   ],
   "source": [
    "model.score(X,y)"
   ]
  },
  {
   "cell_type": "code",
   "execution_count": 415,
   "metadata": {},
   "outputs": [
    {
     "name": "stdout",
     "output_type": "stream",
     "text": [
      "[[1958  734  543]\n",
      " [ 655 2226  485]\n",
      " [1158 1024 1035]]\n"
     ]
    }
   ],
   "source": [
    "print(confusion_matrix(y, predictions))"
   ]
  },
  {
   "cell_type": "code",
   "execution_count": 416,
   "metadata": {},
   "outputs": [],
   "source": [
    "validation_size = 0.20\n",
    "seed = 7\n",
    "X_train, X_validation, Y_train, Y_validation = model_selection.train_test_split(X, y, test_size=validation_size)"
   ]
  },
  {
   "cell_type": "code",
   "execution_count": 417,
   "metadata": {},
   "outputs": [
    {
     "name": "stderr",
     "output_type": "stream",
     "text": [
      "/home/david/anaconda3/lib/python3.9/site-packages/sklearn/linear_model/_logistic.py:814: ConvergenceWarning: lbfgs failed to converge (status=1):\n",
      "STOP: TOTAL NO. of ITERATIONS REACHED LIMIT.\n",
      "\n",
      "Increase the number of iterations (max_iter) or scale the data as shown in:\n",
      "    https://scikit-learn.org/stable/modules/preprocessing.html\n",
      "Please also refer to the documentation for alternative solver options:\n",
      "    https://scikit-learn.org/stable/modules/linear_model.html#logistic-regression\n",
      "  n_iter_i = _check_optimize_result(\n",
      "/home/david/anaconda3/lib/python3.9/site-packages/sklearn/linear_model/_logistic.py:814: ConvergenceWarning: lbfgs failed to converge (status=1):\n",
      "STOP: TOTAL NO. of ITERATIONS REACHED LIMIT.\n",
      "\n",
      "Increase the number of iterations (max_iter) or scale the data as shown in:\n",
      "    https://scikit-learn.org/stable/modules/preprocessing.html\n",
      "Please also refer to the documentation for alternative solver options:\n",
      "    https://scikit-learn.org/stable/modules/linear_model.html#logistic-regression\n",
      "  n_iter_i = _check_optimize_result(\n",
      "/home/david/anaconda3/lib/python3.9/site-packages/sklearn/linear_model/_logistic.py:814: ConvergenceWarning: lbfgs failed to converge (status=1):\n",
      "STOP: TOTAL NO. of ITERATIONS REACHED LIMIT.\n",
      "\n",
      "Increase the number of iterations (max_iter) or scale the data as shown in:\n",
      "    https://scikit-learn.org/stable/modules/preprocessing.html\n",
      "Please also refer to the documentation for alternative solver options:\n",
      "    https://scikit-learn.org/stable/modules/linear_model.html#logistic-regression\n",
      "  n_iter_i = _check_optimize_result(\n",
      "/home/david/anaconda3/lib/python3.9/site-packages/sklearn/linear_model/_logistic.py:814: ConvergenceWarning: lbfgs failed to converge (status=1):\n",
      "STOP: TOTAL NO. of ITERATIONS REACHED LIMIT.\n",
      "\n",
      "Increase the number of iterations (max_iter) or scale the data as shown in:\n",
      "    https://scikit-learn.org/stable/modules/preprocessing.html\n",
      "Please also refer to the documentation for alternative solver options:\n",
      "    https://scikit-learn.org/stable/modules/linear_model.html#logistic-regression\n",
      "  n_iter_i = _check_optimize_result(\n",
      "/home/david/anaconda3/lib/python3.9/site-packages/sklearn/linear_model/_logistic.py:814: ConvergenceWarning: lbfgs failed to converge (status=1):\n",
      "STOP: TOTAL NO. of ITERATIONS REACHED LIMIT.\n",
      "\n",
      "Increase the number of iterations (max_iter) or scale the data as shown in:\n",
      "    https://scikit-learn.org/stable/modules/preprocessing.html\n",
      "Please also refer to the documentation for alternative solver options:\n",
      "    https://scikit-learn.org/stable/modules/linear_model.html#logistic-regression\n",
      "  n_iter_i = _check_optimize_result(\n",
      "/home/david/anaconda3/lib/python3.9/site-packages/sklearn/linear_model/_logistic.py:814: ConvergenceWarning: lbfgs failed to converge (status=1):\n",
      "STOP: TOTAL NO. of ITERATIONS REACHED LIMIT.\n",
      "\n",
      "Increase the number of iterations (max_iter) or scale the data as shown in:\n",
      "    https://scikit-learn.org/stable/modules/preprocessing.html\n",
      "Please also refer to the documentation for alternative solver options:\n",
      "    https://scikit-learn.org/stable/modules/linear_model.html#logistic-regression\n",
      "  n_iter_i = _check_optimize_result(\n",
      "/home/david/anaconda3/lib/python3.9/site-packages/sklearn/linear_model/_logistic.py:814: ConvergenceWarning: lbfgs failed to converge (status=1):\n",
      "STOP: TOTAL NO. of ITERATIONS REACHED LIMIT.\n",
      "\n",
      "Increase the number of iterations (max_iter) or scale the data as shown in:\n",
      "    https://scikit-learn.org/stable/modules/preprocessing.html\n",
      "Please also refer to the documentation for alternative solver options:\n",
      "    https://scikit-learn.org/stable/modules/linear_model.html#logistic-regression\n",
      "  n_iter_i = _check_optimize_result(\n",
      "/home/david/anaconda3/lib/python3.9/site-packages/sklearn/linear_model/_logistic.py:814: ConvergenceWarning: lbfgs failed to converge (status=1):\n",
      "STOP: TOTAL NO. of ITERATIONS REACHED LIMIT.\n",
      "\n",
      "Increase the number of iterations (max_iter) or scale the data as shown in:\n",
      "    https://scikit-learn.org/stable/modules/preprocessing.html\n",
      "Please also refer to the documentation for alternative solver options:\n",
      "    https://scikit-learn.org/stable/modules/linear_model.html#logistic-regression\n",
      "  n_iter_i = _check_optimize_result(\n",
      "/home/david/anaconda3/lib/python3.9/site-packages/sklearn/linear_model/_logistic.py:814: ConvergenceWarning: lbfgs failed to converge (status=1):\n",
      "STOP: TOTAL NO. of ITERATIONS REACHED LIMIT.\n",
      "\n",
      "Increase the number of iterations (max_iter) or scale the data as shown in:\n",
      "    https://scikit-learn.org/stable/modules/preprocessing.html\n",
      "Please also refer to the documentation for alternative solver options:\n",
      "    https://scikit-learn.org/stable/modules/linear_model.html#logistic-regression\n",
      "  n_iter_i = _check_optimize_result(\n",
      "/home/david/anaconda3/lib/python3.9/site-packages/sklearn/linear_model/_logistic.py:814: ConvergenceWarning: lbfgs failed to converge (status=1):\n",
      "STOP: TOTAL NO. of ITERATIONS REACHED LIMIT.\n",
      "\n",
      "Increase the number of iterations (max_iter) or scale the data as shown in:\n",
      "    https://scikit-learn.org/stable/modules/preprocessing.html\n",
      "Please also refer to the documentation for alternative solver options:\n",
      "    https://scikit-learn.org/stable/modules/linear_model.html#logistic-regression\n",
      "  n_iter_i = _check_optimize_result(\n",
      "/home/david/anaconda3/lib/python3.9/site-packages/sklearn/linear_model/_logistic.py:814: ConvergenceWarning: lbfgs failed to converge (status=1):\n",
      "STOP: TOTAL NO. of ITERATIONS REACHED LIMIT.\n",
      "\n",
      "Increase the number of iterations (max_iter) or scale the data as shown in:\n",
      "    https://scikit-learn.org/stable/modules/preprocessing.html\n",
      "Please also refer to the documentation for alternative solver options:\n",
      "    https://scikit-learn.org/stable/modules/linear_model.html#logistic-regression\n",
      "  n_iter_i = _check_optimize_result(\n",
      "/home/david/anaconda3/lib/python3.9/site-packages/sklearn/linear_model/_logistic.py:814: ConvergenceWarning: lbfgs failed to converge (status=1):\n",
      "STOP: TOTAL NO. of ITERATIONS REACHED LIMIT.\n",
      "\n",
      "Increase the number of iterations (max_iter) or scale the data as shown in:\n",
      "    https://scikit-learn.org/stable/modules/preprocessing.html\n",
      "Please also refer to the documentation for alternative solver options:\n",
      "    https://scikit-learn.org/stable/modules/linear_model.html#logistic-regression\n",
      "  n_iter_i = _check_optimize_result(\n",
      "/home/david/anaconda3/lib/python3.9/site-packages/sklearn/linear_model/_logistic.py:814: ConvergenceWarning: lbfgs failed to converge (status=1):\n",
      "STOP: TOTAL NO. of ITERATIONS REACHED LIMIT.\n",
      "\n",
      "Increase the number of iterations (max_iter) or scale the data as shown in:\n",
      "    https://scikit-learn.org/stable/modules/preprocessing.html\n",
      "Please also refer to the documentation for alternative solver options:\n",
      "    https://scikit-learn.org/stable/modules/linear_model.html#logistic-regression\n",
      "  n_iter_i = _check_optimize_result(\n",
      "/home/david/anaconda3/lib/python3.9/site-packages/sklearn/linear_model/_logistic.py:814: ConvergenceWarning: lbfgs failed to converge (status=1):\n",
      "STOP: TOTAL NO. of ITERATIONS REACHED LIMIT.\n",
      "\n",
      "Increase the number of iterations (max_iter) or scale the data as shown in:\n",
      "    https://scikit-learn.org/stable/modules/preprocessing.html\n",
      "Please also refer to the documentation for alternative solver options:\n",
      "    https://scikit-learn.org/stable/modules/linear_model.html#logistic-regression\n",
      "  n_iter_i = _check_optimize_result(\n",
      "/home/david/anaconda3/lib/python3.9/site-packages/sklearn/linear_model/_logistic.py:814: ConvergenceWarning: lbfgs failed to converge (status=1):\n",
      "STOP: TOTAL NO. of ITERATIONS REACHED LIMIT.\n",
      "\n",
      "Increase the number of iterations (max_iter) or scale the data as shown in:\n",
      "    https://scikit-learn.org/stable/modules/preprocessing.html\n",
      "Please also refer to the documentation for alternative solver options:\n",
      "    https://scikit-learn.org/stable/modules/linear_model.html#logistic-regression\n",
      "  n_iter_i = _check_optimize_result(\n",
      "/home/david/anaconda3/lib/python3.9/site-packages/sklearn/linear_model/_logistic.py:814: ConvergenceWarning: lbfgs failed to converge (status=1):\n",
      "STOP: TOTAL NO. of ITERATIONS REACHED LIMIT.\n",
      "\n",
      "Increase the number of iterations (max_iter) or scale the data as shown in:\n",
      "    https://scikit-learn.org/stable/modules/preprocessing.html\n",
      "Please also refer to the documentation for alternative solver options:\n",
      "    https://scikit-learn.org/stable/modules/linear_model.html#logistic-regression\n",
      "  n_iter_i = _check_optimize_result(\n",
      "/home/david/anaconda3/lib/python3.9/site-packages/sklearn/linear_model/_logistic.py:814: ConvergenceWarning: lbfgs failed to converge (status=1):\n",
      "STOP: TOTAL NO. of ITERATIONS REACHED LIMIT.\n",
      "\n",
      "Increase the number of iterations (max_iter) or scale the data as shown in:\n",
      "    https://scikit-learn.org/stable/modules/preprocessing.html\n",
      "Please also refer to the documentation for alternative solver options:\n",
      "    https://scikit-learn.org/stable/modules/linear_model.html#logistic-regression\n",
      "  n_iter_i = _check_optimize_result(\n",
      "/home/david/anaconda3/lib/python3.9/site-packages/sklearn/linear_model/_logistic.py:814: ConvergenceWarning: lbfgs failed to converge (status=1):\n",
      "STOP: TOTAL NO. of ITERATIONS REACHED LIMIT.\n",
      "\n",
      "Increase the number of iterations (max_iter) or scale the data as shown in:\n",
      "    https://scikit-learn.org/stable/modules/preprocessing.html\n",
      "Please also refer to the documentation for alternative solver options:\n",
      "    https://scikit-learn.org/stable/modules/linear_model.html#logistic-regression\n",
      "  n_iter_i = _check_optimize_result(\n",
      "/home/david/anaconda3/lib/python3.9/site-packages/sklearn/linear_model/_logistic.py:814: ConvergenceWarning: lbfgs failed to converge (status=1):\n",
      "STOP: TOTAL NO. of ITERATIONS REACHED LIMIT.\n",
      "\n",
      "Increase the number of iterations (max_iter) or scale the data as shown in:\n",
      "    https://scikit-learn.org/stable/modules/preprocessing.html\n",
      "Please also refer to the documentation for alternative solver options:\n",
      "    https://scikit-learn.org/stable/modules/linear_model.html#logistic-regression\n",
      "  n_iter_i = _check_optimize_result(\n"
     ]
    },
    {
     "name": "stdout",
     "output_type": "stream",
     "text": [
      "Logistic Regression: 0.523683 (0.035542)\n"
     ]
    },
    {
     "name": "stderr",
     "output_type": "stream",
     "text": [
      "/home/david/anaconda3/lib/python3.9/site-packages/sklearn/linear_model/_logistic.py:814: ConvergenceWarning: lbfgs failed to converge (status=1):\n",
      "STOP: TOTAL NO. of ITERATIONS REACHED LIMIT.\n",
      "\n",
      "Increase the number of iterations (max_iter) or scale the data as shown in:\n",
      "    https://scikit-learn.org/stable/modules/preprocessing.html\n",
      "Please also refer to the documentation for alternative solver options:\n",
      "    https://scikit-learn.org/stable/modules/linear_model.html#logistic-regression\n",
      "  n_iter_i = _check_optimize_result(\n"
     ]
    }
   ],
   "source": [
    "name='Logistic Regression'\n",
    "kfold = model_selection.KFold(n_splits=20)\n",
    "cv_results = model_selection.cross_val_score(model, X_train, Y_train, cv=kfold, scoring='accuracy')\n",
    "msg = \"%s: %f (%f)\" % (name, cv_results.mean(), cv_results.std())\n",
    "print(msg)"
   ]
  },
  {
   "cell_type": "code",
   "execution_count": 418,
   "metadata": {},
   "outputs": [
    {
     "name": "stdout",
     "output_type": "stream",
     "text": [
      "0.5376782077393075\n"
     ]
    }
   ],
   "source": [
    "predictions = model.predict(X_validation)\n",
    "print(accuracy_score(Y_validation, predictions))"
   ]
  },
  {
   "cell_type": "code",
   "execution_count": 419,
   "metadata": {},
   "outputs": [
    {
     "name": "stdout",
     "output_type": "stream",
     "text": [
      "[[370 155  91]\n",
      " [121 472 107]\n",
      " [225 209 214]]\n"
     ]
    }
   ],
   "source": [
    "print(confusion_matrix(Y_validation, predictions))"
   ]
  },
  {
   "cell_type": "code",
   "execution_count": 420,
   "metadata": {},
   "outputs": [
    {
     "name": "stdout",
     "output_type": "stream",
     "text": [
      "               precision    recall  f1-score   support\n",
      "\n",
      "contradiction       0.52      0.60      0.56       616\n",
      "   entailment       0.56      0.67      0.61       700\n",
      "      neutral       0.52      0.33      0.40       648\n",
      "\n",
      "     accuracy                           0.54      1964\n",
      "    macro avg       0.53      0.54      0.52      1964\n",
      " weighted avg       0.53      0.54      0.53      1964\n",
      "\n"
     ]
    }
   ],
   "source": [
    "print(classification_report(Y_validation, predictions))"
   ]
  },
  {
   "cell_type": "code",
   "execution_count": 421,
   "metadata": {},
   "outputs": [],
   "source": [
    "#X_new = pd.DataFrame()\n",
    "#model.predict(X_new)"
   ]
  }
 ],
 "metadata": {
  "kernelspec": {
   "display_name": "Python 3",
   "language": "python",
   "name": "python3"
  },
  "language_info": {
   "codemirror_mode": {
    "name": "ipython",
    "version": 3
   },
   "file_extension": ".py",
   "mimetype": "text/x-python",
   "name": "python",
   "nbconvert_exporter": "python",
   "pygments_lexer": "ipython3",
   "version": "3.9.13"
  }
 },
 "nbformat": 4,
 "nbformat_minor": 2
}
