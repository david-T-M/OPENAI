{
 "cells": [
  {
   "cell_type": "code",
   "execution_count": 1,
   "metadata": {},
   "outputs": [],
   "source": [
    "from sklearn.feature_extraction.text import CountVectorizer\n",
    "import numpy as np\n",
    "from pyemd import emd\n",
    "from sklearn.metrics import euclidean_distances"
   ]
  },
  {
   "cell_type": "code",
   "execution_count": 2,
   "metadata": {},
   "outputs": [],
   "source": [
    "# Load vectors from dict\n",
    "def load_vectors_as_dict(path):\n",
    "    vectors = {}\n",
    "    with open(path, 'r', encoding=\"utf8\") as f:\n",
    "        line = f.readline()\n",
    "        while line:\n",
    "            # Split on white spaces\n",
    "            line = line.strip().split(' ')\n",
    "            if len(line) > 2:\n",
    "                vectors[line[0]] = np.array([float(l) for l in line[1:]], dtype=np.float32)\n",
    "            line = f.readline()\n",
    "    return vectors"
   ]
  },
  {
   "cell_type": "code",
   "execution_count": 3,
   "metadata": {},
   "outputs": [],
   "source": [
    "vocab_list=load_vectors_as_dict(\"data/glove.840B.300d.txt\")"
   ]
  },
  {
   "cell_type": "code",
   "execution_count": 4,
   "metadata": {},
   "outputs": [],
   "source": [
    "d1 = \"spread\"\n",
    "d2 = \"pass\""
   ]
  },
  {
   "cell_type": "code",
   "execution_count": 5,
   "metadata": {},
   "outputs": [],
   "source": [
    "def getWDM(d1,d2):\n",
    "    vect = CountVectorizer(stop_words=\"english\").fit([d1, d2])\n",
    "    v_1, v_2 = vect.transform([d1, d2])\n",
    "    v_1 = v_1.toarray().ravel()\n",
    "    v_2 = v_2.toarray().ravel()\n",
    "    W_=[]\n",
    "    for w in vect.get_feature_names_out():\n",
    "        if w in vocab_list:\n",
    "            v=vocab_list[w]\n",
    "            W_.append(v)\n",
    "        else:\n",
    "            v=np.zeros((1,300), dtype=np.float32)[0]\n",
    "            W_.append(v)\n",
    "    D_ = euclidean_distances(W_)\n",
    "    v_1 = v_1.astype(np.double)\n",
    "    v_2 = v_2.astype(np.double)\n",
    "    v_1 /= v_1.sum()\n",
    "    v_2 /= v_2.sum()\n",
    "    D_ = D_.astype(np.double)\n",
    "    D_ /= D_.max()  # just for comparison purposes\n",
    "    return emd(v_1, v_2, D_)"
   ]
  },
  {
   "cell_type": "code",
   "execution_count": 6,
   "metadata": {},
   "outputs": [
    {
     "data": {
      "text/plain": [
       "1.0"
      ]
     },
     "execution_count": 6,
     "metadata": {},
     "output_type": "execute_result"
    }
   ],
   "source": [
    "getWDM(d1,d2)"
   ]
  },
  {
   "cell_type": "code",
   "execution_count": 10,
   "metadata": {},
   "outputs": [
    {
     "data": {
      "text/plain": [
       "10.608934"
      ]
     },
     "execution_count": 10,
     "metadata": {},
     "output_type": "execute_result"
    }
   ],
   "source": [
    "np.dot(vocab_list[d1],vocab_list[d2])"
   ]
  }
 ],
 "metadata": {
  "kernelspec": {
   "display_name": "rit",
   "language": "python",
   "name": "python3"
  },
  "language_info": {
   "codemirror_mode": {
    "name": "ipython",
    "version": 3
   },
   "file_extension": ".py",
   "mimetype": "text/x-python",
   "name": "python",
   "nbconvert_exporter": "python",
   "pygments_lexer": "ipython3",
   "version": "3.9.13"
  }
 },
 "nbformat": 4,
 "nbformat_minor": 2
}
