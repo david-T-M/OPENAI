{
 "cells": [
  {
   "cell_type": "code",
   "execution_count": 40,
   "metadata": {},
   "outputs": [],
   "source": [
    "import pandas as pd\n",
    "import numpy as np\n",
    "from sklearn import linear_model\n",
    "from sklearn import model_selection\n",
    "from sklearn.metrics import classification_report\n",
    "from sklearn.metrics import confusion_matrix\n",
    "from sklearn.metrics import accuracy_score,precision_score,recall_score,f1_score,matthews_corrcoef\n",
    "import matplotlib.pyplot as plt\n",
    "import seaborn as sb\n",
    "from sklearn import preprocessing\n",
    "from sklearn.model_selection import GridSearchCV"
   ]
  },
  {
   "cell_type": "code",
   "execution_count": 41,
   "metadata": {},
   "outputs": [],
   "source": [
    "for i in range(8):\n",
    "    if i==0:\n",
    "        train = pd.read_csv('salida/resultados/RTE3/DEV_'+str(i+1)+'.csv.csv')\n",
    "    else:\n",
    "        temp = pd.read_csv('salida/resultados/RTE3/DEV_'+str(i+1)+'.csv.csv')\n",
    "        train=pd.concat([train,temp])"
   ]
  },
  {
   "cell_type": "code",
   "execution_count": 42,
   "metadata": {},
   "outputs": [
    {
     "data": {
      "text/html": [
       "<div>\n",
       "<style scoped>\n",
       "    .dataframe tbody tr th:only-of-type {\n",
       "        vertical-align: middle;\n",
       "    }\n",
       "\n",
       "    .dataframe tbody tr th {\n",
       "        vertical-align: top;\n",
       "    }\n",
       "\n",
       "    .dataframe thead th {\n",
       "        text-align: right;\n",
       "    }\n",
       "</style>\n",
       "<table border=\"1\" class=\"dataframe\">\n",
       "  <thead>\n",
       "    <tr style=\"text-align: right;\">\n",
       "      <th></th>\n",
       "      <th>suma</th>\n",
       "      <th>distancias</th>\n",
       "      <th>entropias</th>\n",
       "      <th>mutual_info</th>\n",
       "      <th>m_earth</th>\n",
       "      <th>max_info_p</th>\n",
       "      <th>antonimos</th>\n",
       "      <th>relaciones</th>\n",
       "      <th>sim_faltantes</th>\n",
       "      <th>CLASS</th>\n",
       "    </tr>\n",
       "  </thead>\n",
       "  <tbody>\n",
       "    <tr>\n",
       "      <th>0</th>\n",
       "      <td>0.000000</td>\n",
       "      <td>0.00000</td>\n",
       "      <td>0.000</td>\n",
       "      <td>0.000000</td>\n",
       "      <td>0.000000</td>\n",
       "      <td>0.000000</td>\n",
       "      <td>0</td>\n",
       "      <td>0</td>\n",
       "      <td>1.000000</td>\n",
       "      <td>YES</td>\n",
       "    </tr>\n",
       "    <tr>\n",
       "      <th>1</th>\n",
       "      <td>0.000000</td>\n",
       "      <td>877.07654</td>\n",
       "      <td>0.000</td>\n",
       "      <td>0.003572</td>\n",
       "      <td>5.346563</td>\n",
       "      <td>0.000000</td>\n",
       "      <td>0</td>\n",
       "      <td>5</td>\n",
       "      <td>0.000000</td>\n",
       "      <td>NO</td>\n",
       "    </tr>\n",
       "    <tr>\n",
       "      <th>2</th>\n",
       "      <td>0.000000</td>\n",
       "      <td>0.00000</td>\n",
       "      <td>0.000</td>\n",
       "      <td>0.000000</td>\n",
       "      <td>0.000000</td>\n",
       "      <td>0.000000</td>\n",
       "      <td>0</td>\n",
       "      <td>2</td>\n",
       "      <td>1.000000</td>\n",
       "      <td>UNKNOWN</td>\n",
       "    </tr>\n",
       "    <tr>\n",
       "      <th>3</th>\n",
       "      <td>0.000000</td>\n",
       "      <td>0.00000</td>\n",
       "      <td>0.000</td>\n",
       "      <td>0.000000</td>\n",
       "      <td>0.000000</td>\n",
       "      <td>0.000000</td>\n",
       "      <td>0</td>\n",
       "      <td>0</td>\n",
       "      <td>1.000000</td>\n",
       "      <td>YES</td>\n",
       "    </tr>\n",
       "    <tr>\n",
       "      <th>4</th>\n",
       "      <td>-0.140882</td>\n",
       "      <td>796.06140</td>\n",
       "      <td>1.530</td>\n",
       "      <td>0.087710</td>\n",
       "      <td>0.978448</td>\n",
       "      <td>0.231184</td>\n",
       "      <td>0</td>\n",
       "      <td>0</td>\n",
       "      <td>0.037146</td>\n",
       "      <td>YES</td>\n",
       "    </tr>\n",
       "    <tr>\n",
       "      <th>...</th>\n",
       "      <td>...</td>\n",
       "      <td>...</td>\n",
       "      <td>...</td>\n",
       "      <td>...</td>\n",
       "      <td>...</td>\n",
       "      <td>...</td>\n",
       "      <td>...</td>\n",
       "      <td>...</td>\n",
       "      <td>...</td>\n",
       "      <td>...</td>\n",
       "    </tr>\n",
       "    <tr>\n",
       "      <th>95</th>\n",
       "      <td>-0.019967</td>\n",
       "      <td>759.53076</td>\n",
       "      <td>2.055</td>\n",
       "      <td>0.181114</td>\n",
       "      <td>0.616965</td>\n",
       "      <td>0.424818</td>\n",
       "      <td>0</td>\n",
       "      <td>0</td>\n",
       "      <td>0.258356</td>\n",
       "      <td>UNKNOWN</td>\n",
       "    </tr>\n",
       "    <tr>\n",
       "      <th>96</th>\n",
       "      <td>0.000000</td>\n",
       "      <td>0.00000</td>\n",
       "      <td>0.000</td>\n",
       "      <td>0.000000</td>\n",
       "      <td>0.000000</td>\n",
       "      <td>0.000000</td>\n",
       "      <td>0</td>\n",
       "      <td>0</td>\n",
       "      <td>1.000000</td>\n",
       "      <td>YES</td>\n",
       "    </tr>\n",
       "    <tr>\n",
       "      <th>97</th>\n",
       "      <td>0.000000</td>\n",
       "      <td>0.00000</td>\n",
       "      <td>0.000</td>\n",
       "      <td>0.000000</td>\n",
       "      <td>0.000000</td>\n",
       "      <td>0.000000</td>\n",
       "      <td>0</td>\n",
       "      <td>0</td>\n",
       "      <td>1.000000</td>\n",
       "      <td>UNKNOWN</td>\n",
       "    </tr>\n",
       "    <tr>\n",
       "      <th>98</th>\n",
       "      <td>0.000000</td>\n",
       "      <td>0.00000</td>\n",
       "      <td>0.000</td>\n",
       "      <td>0.000000</td>\n",
       "      <td>0.000000</td>\n",
       "      <td>0.000000</td>\n",
       "      <td>0</td>\n",
       "      <td>0</td>\n",
       "      <td>1.000000</td>\n",
       "      <td>NO</td>\n",
       "    </tr>\n",
       "    <tr>\n",
       "      <th>99</th>\n",
       "      <td>-0.011597</td>\n",
       "      <td>1158.63110</td>\n",
       "      <td>2.610</td>\n",
       "      <td>0.276461</td>\n",
       "      <td>2.266041</td>\n",
       "      <td>0.557217</td>\n",
       "      <td>0</td>\n",
       "      <td>0</td>\n",
       "      <td>0.481782</td>\n",
       "      <td>YES</td>\n",
       "    </tr>\n",
       "  </tbody>\n",
       "</table>\n",
       "<p>800 rows × 10 columns</p>\n",
       "</div>"
      ],
      "text/plain": [
       "        suma  distancias  entropias  mutual_info   m_earth  max_info_p  \\\n",
       "0   0.000000     0.00000      0.000     0.000000  0.000000    0.000000   \n",
       "1   0.000000   877.07654      0.000     0.003572  5.346563    0.000000   \n",
       "2   0.000000     0.00000      0.000     0.000000  0.000000    0.000000   \n",
       "3   0.000000     0.00000      0.000     0.000000  0.000000    0.000000   \n",
       "4  -0.140882   796.06140      1.530     0.087710  0.978448    0.231184   \n",
       "..       ...         ...        ...          ...       ...         ...   \n",
       "95 -0.019967   759.53076      2.055     0.181114  0.616965    0.424818   \n",
       "96  0.000000     0.00000      0.000     0.000000  0.000000    0.000000   \n",
       "97  0.000000     0.00000      0.000     0.000000  0.000000    0.000000   \n",
       "98  0.000000     0.00000      0.000     0.000000  0.000000    0.000000   \n",
       "99 -0.011597  1158.63110      2.610     0.276461  2.266041    0.557217   \n",
       "\n",
       "    antonimos  relaciones  sim_faltantes    CLASS  \n",
       "0           0           0       1.000000      YES  \n",
       "1           0           5       0.000000       NO  \n",
       "2           0           2       1.000000  UNKNOWN  \n",
       "3           0           0       1.000000      YES  \n",
       "4           0           0       0.037146      YES  \n",
       "..        ...         ...            ...      ...  \n",
       "95          0           0       0.258356  UNKNOWN  \n",
       "96          0           0       1.000000      YES  \n",
       "97          0           0       1.000000  UNKNOWN  \n",
       "98          0           0       1.000000       NO  \n",
       "99          0           0       0.481782      YES  \n",
       "\n",
       "[800 rows x 10 columns]"
      ]
     },
     "execution_count": 42,
     "metadata": {},
     "output_type": "execute_result"
    }
   ],
   "source": [
    "train"
   ]
  },
  {
   "cell_type": "code",
   "execution_count": 43,
   "metadata": {},
   "outputs": [
    {
     "data": {
      "text/plain": [
       "<Axes: title={'center': 'mutual_info'}, xlabel='CLASS'>"
      ]
     },
     "execution_count": 43,
     "metadata": {},
     "output_type": "execute_result"
    },
    {
     "data": {
      "image/png": "[encoded data removed]",
      "text/plain": [
       "<Figure size 640x480 with 1 Axes>"
      ]
     },
     "metadata": {},
     "output_type": "display_data"
    }
   ],
   "source": [
    "train.boxplot(by=\"CLASS\",column=[\"mutual_info\"])"
   ]
  },
  {
   "cell_type": "code",
   "execution_count": 44,
   "metadata": {},
   "outputs": [
    {
     "data": {
      "text/html": [
       "<div>\n",
       "<style scoped>\n",
       "    .dataframe tbody tr th:only-of-type {\n",
       "        vertical-align: middle;\n",
       "    }\n",
       "\n",
       "    .dataframe tbody tr th {\n",
       "        vertical-align: top;\n",
       "    }\n",
       "\n",
       "    .dataframe thead th {\n",
       "        text-align: right;\n",
       "    }\n",
       "</style>\n",
       "<table border=\"1\" class=\"dataframe\">\n",
       "  <thead>\n",
       "    <tr style=\"text-align: right;\">\n",
       "      <th></th>\n",
       "      <th>distancias</th>\n",
       "      <th>mutual_info</th>\n",
       "      <th>m_earth</th>\n",
       "      <th>max_info_p</th>\n",
       "      <th>relaciones</th>\n",
       "      <th>sim_faltantes</th>\n",
       "      <th>CLASS</th>\n",
       "    </tr>\n",
       "  </thead>\n",
       "  <tbody>\n",
       "    <tr>\n",
       "      <th>0</th>\n",
       "      <td>0.00000</td>\n",
       "      <td>0.000000</td>\n",
       "      <td>0.000000</td>\n",
       "      <td>0.000000</td>\n",
       "      <td>0</td>\n",
       "      <td>1.000000</td>\n",
       "      <td>YES</td>\n",
       "    </tr>\n",
       "    <tr>\n",
       "      <th>1</th>\n",
       "      <td>877.07654</td>\n",
       "      <td>0.003572</td>\n",
       "      <td>5.346563</td>\n",
       "      <td>0.000000</td>\n",
       "      <td>5</td>\n",
       "      <td>0.000000</td>\n",
       "      <td>NO</td>\n",
       "    </tr>\n",
       "    <tr>\n",
       "      <th>2</th>\n",
       "      <td>0.00000</td>\n",
       "      <td>0.000000</td>\n",
       "      <td>0.000000</td>\n",
       "      <td>0.000000</td>\n",
       "      <td>2</td>\n",
       "      <td>1.000000</td>\n",
       "      <td>UNKNOWN</td>\n",
       "    </tr>\n",
       "    <tr>\n",
       "      <th>3</th>\n",
       "      <td>0.00000</td>\n",
       "      <td>0.000000</td>\n",
       "      <td>0.000000</td>\n",
       "      <td>0.000000</td>\n",
       "      <td>0</td>\n",
       "      <td>1.000000</td>\n",
       "      <td>YES</td>\n",
       "    </tr>\n",
       "    <tr>\n",
       "      <th>4</th>\n",
       "      <td>796.06140</td>\n",
       "      <td>0.087710</td>\n",
       "      <td>0.978448</td>\n",
       "      <td>0.231184</td>\n",
       "      <td>0</td>\n",
       "      <td>0.037146</td>\n",
       "      <td>YES</td>\n",
       "    </tr>\n",
       "    <tr>\n",
       "      <th>...</th>\n",
       "      <td>...</td>\n",
       "      <td>...</td>\n",
       "      <td>...</td>\n",
       "      <td>...</td>\n",
       "      <td>...</td>\n",
       "      <td>...</td>\n",
       "      <td>...</td>\n",
       "    </tr>\n",
       "    <tr>\n",
       "      <th>95</th>\n",
       "      <td>759.53076</td>\n",
       "      <td>0.181114</td>\n",
       "      <td>0.616965</td>\n",
       "      <td>0.424818</td>\n",
       "      <td>0</td>\n",
       "      <td>0.258356</td>\n",
       "      <td>UNKNOWN</td>\n",
       "    </tr>\n",
       "    <tr>\n",
       "      <th>96</th>\n",
       "      <td>0.00000</td>\n",
       "      <td>0.000000</td>\n",
       "      <td>0.000000</td>\n",
       "      <td>0.000000</td>\n",
       "      <td>0</td>\n",
       "      <td>1.000000</td>\n",
       "      <td>YES</td>\n",
       "    </tr>\n",
       "    <tr>\n",
       "      <th>97</th>\n",
       "      <td>0.00000</td>\n",
       "      <td>0.000000</td>\n",
       "      <td>0.000000</td>\n",
       "      <td>0.000000</td>\n",
       "      <td>0</td>\n",
       "      <td>1.000000</td>\n",
       "      <td>UNKNOWN</td>\n",
       "    </tr>\n",
       "    <tr>\n",
       "      <th>98</th>\n",
       "      <td>0.00000</td>\n",
       "      <td>0.000000</td>\n",
       "      <td>0.000000</td>\n",
       "      <td>0.000000</td>\n",
       "      <td>0</td>\n",
       "      <td>1.000000</td>\n",
       "      <td>NO</td>\n",
       "    </tr>\n",
       "    <tr>\n",
       "      <th>99</th>\n",
       "      <td>1158.63110</td>\n",
       "      <td>0.276461</td>\n",
       "      <td>2.266041</td>\n",
       "      <td>0.557217</td>\n",
       "      <td>0</td>\n",
       "      <td>0.481782</td>\n",
       "      <td>YES</td>\n",
       "    </tr>\n",
       "  </tbody>\n",
       "</table>\n",
       "<p>800 rows × 7 columns</p>\n",
       "</div>"
      ],
      "text/plain": [
       "    distancias  mutual_info   m_earth  max_info_p  relaciones  sim_faltantes  \\\n",
       "0      0.00000     0.000000  0.000000    0.000000           0       1.000000   \n",
       "1    877.07654     0.003572  5.346563    0.000000           5       0.000000   \n",
       "2      0.00000     0.000000  0.000000    0.000000           2       1.000000   \n",
       "3      0.00000     0.000000  0.000000    0.000000           0       1.000000   \n",
       "4    796.06140     0.087710  0.978448    0.231184           0       0.037146   \n",
       "..         ...          ...       ...         ...         ...            ...   \n",
       "95   759.53076     0.181114  0.616965    0.424818           0       0.258356   \n",
       "96     0.00000     0.000000  0.000000    0.000000           0       1.000000   \n",
       "97     0.00000     0.000000  0.000000    0.000000           0       1.000000   \n",
       "98     0.00000     0.000000  0.000000    0.000000           0       1.000000   \n",
       "99  1158.63110     0.276461  2.266041    0.557217           0       0.481782   \n",
       "\n",
       "      CLASS  \n",
       "0       YES  \n",
       "1        NO  \n",
       "2   UNKNOWN  \n",
       "3       YES  \n",
       "4       YES  \n",
       "..      ...  \n",
       "95  UNKNOWN  \n",
       "96      YES  \n",
       "97  UNKNOWN  \n",
       "98       NO  \n",
       "99      YES  \n",
       "\n",
       "[800 rows x 7 columns]"
      ]
     },
     "execution_count": 44,
     "metadata": {},
     "output_type": "execute_result"
    }
   ],
   "source": [
    "train=train.drop([\"suma\",\"entropias\",\"antonimos\"],axis=1)\n",
    "train"
   ]
  },
  {
   "cell_type": "code",
   "execution_count": 45,
   "metadata": {},
   "outputs": [],
   "source": [
    "X = np.array(train.drop(['CLASS'],axis=1))\n",
    "y_ = np.array(train['CLASS'])"
   ]
  },
  {
   "cell_type": "code",
   "execution_count": 46,
   "metadata": {},
   "outputs": [],
   "source": [
    "# RTE3\n",
    "y_train=[]\n",
    "for i in y_:\n",
    "    if i == \"YES\":\n",
    "        y_train.append(1)\n",
    "    else:\n",
    "        y_train.append(0)"
   ]
  },
  {
   "cell_type": "code",
   "execution_count": 47,
   "metadata": {},
   "outputs": [],
   "source": [
    "scaler = preprocessing.StandardScaler().fit(X)\n",
    "X_scaled = scaler.transform(X)\n",
    "X = X_scaled\n",
    "X_train=X"
   ]
  },
  {
   "cell_type": "code",
   "execution_count": 48,
   "metadata": {},
   "outputs": [
    {
     "data": {
      "image/png": "[encoded data removed]",
      "text/plain": [
       "<Figure size 2000x1000 with 6 Axes>"
      ]
     },
     "metadata": {},
     "output_type": "display_data"
    }
   ],
   "source": [
    "train.hist(figsize=(20,10))\n",
    "plt.show()"
   ]
  },
  {
   "cell_type": "code",
   "execution_count": 49,
   "metadata": {},
   "outputs": [],
   "source": [
    "for i in range(8):\n",
    "    if i==0:\n",
    "        test = pd.read_csv('salida/resultados/RTE3/TEST_'+str(i+1)+'.csv.csv')\n",
    "    else:\n",
    "        temp = pd.read_csv('salida/resultados/RTE3/TEST_'+str(i+1)+'.csv.csv')\n",
    "        test=pd.concat([test,temp])"
   ]
  },
  {
   "cell_type": "code",
   "execution_count": 50,
   "metadata": {},
   "outputs": [
    {
     "data": {
      "text/html": [
       "<div>\n",
       "<style scoped>\n",
       "    .dataframe tbody tr th:only-of-type {\n",
       "        vertical-align: middle;\n",
       "    }\n",
       "\n",
       "    .dataframe tbody tr th {\n",
       "        vertical-align: top;\n",
       "    }\n",
       "\n",
       "    .dataframe thead th {\n",
       "        text-align: right;\n",
       "    }\n",
       "</style>\n",
       "<table border=\"1\" class=\"dataframe\">\n",
       "  <thead>\n",
       "    <tr style=\"text-align: right;\">\n",
       "      <th></th>\n",
       "      <th>distancias</th>\n",
       "      <th>mutual_info</th>\n",
       "      <th>m_earth</th>\n",
       "      <th>max_info_p</th>\n",
       "      <th>relaciones</th>\n",
       "      <th>sim_faltantes</th>\n",
       "      <th>CLASS</th>\n",
       "    </tr>\n",
       "  </thead>\n",
       "  <tbody>\n",
       "    <tr>\n",
       "      <th>0</th>\n",
       "      <td>2268.1458</td>\n",
       "      <td>1.563063e-01</td>\n",
       "      <td>6.176232</td>\n",
       "      <td>0.271529</td>\n",
       "      <td>3</td>\n",
       "      <td>0.105568</td>\n",
       "      <td>YES</td>\n",
       "    </tr>\n",
       "    <tr>\n",
       "      <th>1</th>\n",
       "      <td>1441.6440</td>\n",
       "      <td>1.681337e-01</td>\n",
       "      <td>0.701502</td>\n",
       "      <td>0.393066</td>\n",
       "      <td>0</td>\n",
       "      <td>0.338005</td>\n",
       "      <td>YES</td>\n",
       "    </tr>\n",
       "    <tr>\n",
       "      <th>2</th>\n",
       "      <td>536.2693</td>\n",
       "      <td>2.562741e-15</td>\n",
       "      <td>4.289287</td>\n",
       "      <td>0.000000</td>\n",
       "      <td>0</td>\n",
       "      <td>0.000000</td>\n",
       "      <td>YES</td>\n",
       "    </tr>\n",
       "    <tr>\n",
       "      <th>3</th>\n",
       "      <td>0.0000</td>\n",
       "      <td>0.000000e+00</td>\n",
       "      <td>0.000000</td>\n",
       "      <td>0.000000</td>\n",
       "      <td>0</td>\n",
       "      <td>1.000000</td>\n",
       "      <td>YES</td>\n",
       "    </tr>\n",
       "    <tr>\n",
       "      <th>4</th>\n",
       "      <td>863.1677</td>\n",
       "      <td>1.368563e-01</td>\n",
       "      <td>0.973838</td>\n",
       "      <td>0.412710</td>\n",
       "      <td>0</td>\n",
       "      <td>0.413161</td>\n",
       "      <td>NO</td>\n",
       "    </tr>\n",
       "    <tr>\n",
       "      <th>...</th>\n",
       "      <td>...</td>\n",
       "      <td>...</td>\n",
       "      <td>...</td>\n",
       "      <td>...</td>\n",
       "      <td>...</td>\n",
       "      <td>...</td>\n",
       "      <td>...</td>\n",
       "    </tr>\n",
       "    <tr>\n",
       "      <th>95</th>\n",
       "      <td>0.0000</td>\n",
       "      <td>0.000000e+00</td>\n",
       "      <td>0.000000</td>\n",
       "      <td>0.000000</td>\n",
       "      <td>1</td>\n",
       "      <td>1.000000</td>\n",
       "      <td>YES</td>\n",
       "    </tr>\n",
       "    <tr>\n",
       "      <th>96</th>\n",
       "      <td>0.0000</td>\n",
       "      <td>0.000000e+00</td>\n",
       "      <td>0.000000</td>\n",
       "      <td>0.000000</td>\n",
       "      <td>0</td>\n",
       "      <td>1.000000</td>\n",
       "      <td>NO</td>\n",
       "    </tr>\n",
       "    <tr>\n",
       "      <th>97</th>\n",
       "      <td>1257.3066</td>\n",
       "      <td>2.335746e-01</td>\n",
       "      <td>0.589826</td>\n",
       "      <td>0.467463</td>\n",
       "      <td>0</td>\n",
       "      <td>0.485553</td>\n",
       "      <td>UNKNOWN</td>\n",
       "    </tr>\n",
       "    <tr>\n",
       "      <th>98</th>\n",
       "      <td>632.9640</td>\n",
       "      <td>1.062411e-01</td>\n",
       "      <td>1.010164</td>\n",
       "      <td>0.353093</td>\n",
       "      <td>0</td>\n",
       "      <td>0.234342</td>\n",
       "      <td>UNKNOWN</td>\n",
       "    </tr>\n",
       "    <tr>\n",
       "      <th>99</th>\n",
       "      <td>0.0000</td>\n",
       "      <td>0.000000e+00</td>\n",
       "      <td>0.000000</td>\n",
       "      <td>0.000000</td>\n",
       "      <td>0</td>\n",
       "      <td>1.000000</td>\n",
       "      <td>UNKNOWN</td>\n",
       "    </tr>\n",
       "  </tbody>\n",
       "</table>\n",
       "<p>800 rows × 7 columns</p>\n",
       "</div>"
      ],
      "text/plain": [
       "    distancias   mutual_info   m_earth  max_info_p  relaciones  sim_faltantes  \\\n",
       "0    2268.1458  1.563063e-01  6.176232    0.271529           3       0.105568   \n",
       "1    1441.6440  1.681337e-01  0.701502    0.393066           0       0.338005   \n",
       "2     536.2693  2.562741e-15  4.289287    0.000000           0       0.000000   \n",
       "3       0.0000  0.000000e+00  0.000000    0.000000           0       1.000000   \n",
       "4     863.1677  1.368563e-01  0.973838    0.412710           0       0.413161   \n",
       "..         ...           ...       ...         ...         ...            ...   \n",
       "95      0.0000  0.000000e+00  0.000000    0.000000           1       1.000000   \n",
       "96      0.0000  0.000000e+00  0.000000    0.000000           0       1.000000   \n",
       "97   1257.3066  2.335746e-01  0.589826    0.467463           0       0.485553   \n",
       "98    632.9640  1.062411e-01  1.010164    0.353093           0       0.234342   \n",
       "99      0.0000  0.000000e+00  0.000000    0.000000           0       1.000000   \n",
       "\n",
       "      CLASS  \n",
       "0       YES  \n",
       "1       YES  \n",
       "2       YES  \n",
       "3       YES  \n",
       "4        NO  \n",
       "..      ...  \n",
       "95      YES  \n",
       "96       NO  \n",
       "97  UNKNOWN  \n",
       "98  UNKNOWN  \n",
       "99  UNKNOWN  \n",
       "\n",
       "[800 rows x 7 columns]"
      ]
     },
     "execution_count": 50,
     "metadata": {},
     "output_type": "execute_result"
    }
   ],
   "source": [
    "test=test.drop([\"suma\",\"entropias\",\"antonimos\"],axis=1)\n",
    "test"
   ]
  },
  {
   "cell_type": "code",
   "execution_count": 51,
   "metadata": {},
   "outputs": [],
   "source": [
    "X_t = np.array(test.drop(['CLASS'],axis=1))\n",
    "y_t = np.array(test['CLASS'])"
   ]
  },
  {
   "cell_type": "code",
   "execution_count": 52,
   "metadata": {},
   "outputs": [],
   "source": [
    "# RTE3\n",
    "y_test=[]\n",
    "for i in y_t:\n",
    "    if i == \"YES\":\n",
    "        y_test.append(1)\n",
    "    else:\n",
    "        y_test.append(0)"
   ]
  },
  {
   "cell_type": "code",
   "execution_count": 53,
   "metadata": {},
   "outputs": [],
   "source": [
    "scaler = preprocessing.StandardScaler().fit(X_t)\n",
    "X_scaled = scaler.transform(X_t)\n",
    "X_test = X_scaled"
   ]
  },
  {
   "cell_type": "markdown",
   "metadata": {},
   "source": [
    "# MODELO DE REGRESIÓN LÓGISTICA"
   ]
  },
  {
   "cell_type": "code",
   "execution_count": 54,
   "metadata": {},
   "outputs": [],
   "source": [
    "# grid={\"C\":np.logspace(-3,3,7), \"penalty\":[\"l2\"]}# l1 lasso l2 ridge\n",
    "# logreg=linear_model.LogisticRegression()\n",
    "# logreg_cv=GridSearchCV(logreg,grid,cv=20)\n",
    "# logreg_cv.fit(X_train,y_train)"
   ]
  },
  {
   "cell_type": "code",
   "execution_count": 55,
   "metadata": {},
   "outputs": [],
   "source": [
    "# print(\"tuned hpyerparameters :(best parameters) \",logreg_cv.best_params_)\n",
    "# print(\"accuracy :\",logreg_cv.best_score_)"
   ]
  },
  {
   "cell_type": "code",
   "execution_count": 56,
   "metadata": {},
   "outputs": [
    {
     "data": {
      "text/html": [
       "<style>#sk-container-id-2 {color: black;}#sk-container-id-2 pre{padding: 0;}#sk-container-id-2 div.sk-toggleable {background-color: white;}#sk-container-id-2 label.sk-toggleable__label {cursor: pointer;display: block;width: 100%;margin-bottom: 0;padding: 0.3em;box-sizing: border-box;text-align: center;}#sk-container-id-2 label.sk-toggleable__label-arrow:before {content: \"▸\";float: left;margin-right: 0.25em;color: #696969;}#sk-container-id-2 label.sk-toggleable__label-arrow:hover:before {color: black;}#sk-container-id-2 div.sk-estimator:hover label.sk-toggleable__label-arrow:before {color: black;}#sk-container-id-2 div.sk-toggleable__content {max-height: 0;max-width: 0;overflow: hidden;text-align: left;background-color: #f0f8ff;}#sk-container-id-2 div.sk-toggleable__content pre {margin: 0.2em;color: black;border-radius: 0.25em;background-color: #f0f8ff;}#sk-container-id-2 input.sk-toggleable__control:checked~div.sk-toggleable__content {max-height: 200px;max-width: 100%;overflow: auto;}#sk-container-id-2 input.sk-toggleable__control:checked~label.sk-toggleable__label-arrow:before {content: \"▾\";}#sk-container-id-2 div.sk-estimator input.sk-toggleable__control:checked~label.sk-toggleable__label {background-color: #d4ebff;}#sk-container-id-2 div.sk-label input.sk-toggleable__control:checked~label.sk-toggleable__label {background-color: #d4ebff;}#sk-container-id-2 input.sk-hidden--visually {border: 0;clip: rect(1px 1px 1px 1px);clip: rect(1px, 1px, 1px, 1px);height: 1px;margin: -1px;overflow: hidden;padding: 0;position: absolute;width: 1px;}#sk-container-id-2 div.sk-estimator {font-family: monospace;background-color: #f0f8ff;border: 1px dotted black;border-radius: 0.25em;box-sizing: border-box;margin-bottom: 0.5em;}#sk-container-id-2 div.sk-estimator:hover {background-color: #d4ebff;}#sk-container-id-2 div.sk-parallel-item::after {content: \"\";width: 100%;border-bottom: 1px solid gray;flex-grow: 1;}#sk-container-id-2 div.sk-label:hover label.sk-toggleable__label {background-color: #d4ebff;}#sk-container-id-2 div.sk-serial::before {content: \"\";position: absolute;border-left: 1px solid gray;box-sizing: border-box;top: 0;bottom: 0;left: 50%;z-index: 0;}#sk-container-id-2 div.sk-serial {display: flex;flex-direction: column;align-items: center;background-color: white;padding-right: 0.2em;padding-left: 0.2em;position: relative;}#sk-container-id-2 div.sk-item {position: relative;z-index: 1;}#sk-container-id-2 div.sk-parallel {display: flex;align-items: stretch;justify-content: center;background-color: white;position: relative;}#sk-container-id-2 div.sk-item::before, #sk-container-id-2 div.sk-parallel-item::before {content: \"\";position: absolute;border-left: 1px solid gray;box-sizing: border-box;top: 0;bottom: 0;left: 50%;z-index: -1;}#sk-container-id-2 div.sk-parallel-item {display: flex;flex-direction: column;z-index: 1;position: relative;background-color: white;}#sk-container-id-2 div.sk-parallel-item:first-child::after {align-self: flex-end;width: 50%;}#sk-container-id-2 div.sk-parallel-item:last-child::after {align-self: flex-start;width: 50%;}#sk-container-id-2 div.sk-parallel-item:only-child::after {width: 0;}#sk-container-id-2 div.sk-dashed-wrapped {border: 1px dashed gray;margin: 0 0.4em 0.5em 0.4em;box-sizing: border-box;padding-bottom: 0.4em;background-color: white;}#sk-container-id-2 div.sk-label label {font-family: monospace;font-weight: bold;display: inline-block;line-height: 1.2em;}#sk-container-id-2 div.sk-label-container {text-align: center;}#sk-container-id-2 div.sk-container {/* jupyter's `normalize.less` sets `[hidden] { display: none; }` but bootstrap.min.css set `[hidden] { display: none !important; }` so we also need the `!important` here to be able to override the default hidden behavior on the sphinx rendered scikit-learn.org. See: https://github.com/scikit-learn/scikit-learn/issues/21755 */display: inline-block !important;position: relative;}#sk-container-id-2 div.sk-text-repr-fallback {display: none;}</style><div id=\"sk-container-id-2\" class=\"sk-top-container\"><div class=\"sk-text-repr-fallback\"><pre>LogisticRegression(C=1)</pre><b>In a Jupyter environment, please rerun this cell to show the HTML representation or trust the notebook. <br />On GitHub, the HTML representation is unable to render, please try loading this page with nbviewer.org.</b></div><div class=\"sk-container\" hidden><div class=\"sk-item\"><div class=\"sk-estimator sk-toggleable\"><input class=\"sk-toggleable__control sk-hidden--visually\" id=\"sk-estimator-id-2\" type=\"checkbox\" checked><label for=\"sk-estimator-id-2\" class=\"sk-toggleable__label sk-toggleable__label-arrow\">LogisticRegression</label><div class=\"sk-toggleable__content\"><pre>LogisticRegression(C=1)</pre></div></div></div></div></div>"
      ],
      "text/plain": [
       "LogisticRegression(C=1)"
      ]
     },
     "execution_count": 56,
     "metadata": {},
     "output_type": "execute_result"
    }
   ],
   "source": [
    "model = linear_model.LogisticRegression(penalty=\"l2\", C=1)\n",
    "model.fit(X_train,y_train)"
   ]
  },
  {
   "cell_type": "code",
   "execution_count": 57,
   "metadata": {},
   "outputs": [
    {
     "data": {
      "text/plain": [
       "{'C': 1,\n",
       " 'class_weight': None,\n",
       " 'dual': False,\n",
       " 'fit_intercept': True,\n",
       " 'intercept_scaling': 1,\n",
       " 'l1_ratio': None,\n",
       " 'max_iter': 100,\n",
       " 'multi_class': 'auto',\n",
       " 'n_jobs': None,\n",
       " 'penalty': 'l2',\n",
       " 'random_state': None,\n",
       " 'solver': 'lbfgs',\n",
       " 'tol': 0.0001,\n",
       " 'verbose': 0,\n",
       " 'warm_start': False}"
      ]
     },
     "execution_count": 57,
     "metadata": {},
     "output_type": "execute_result"
    }
   ],
   "source": [
    "model.get_params()"
   ]
  },
  {
   "cell_type": "code",
   "execution_count": 58,
   "metadata": {},
   "outputs": [
    {
     "data": {
      "text/plain": [
       "array([ 9.72054446e-01, -8.12578369e-01,  4.19888201e-01,  9.72054446e-01,\n",
       "        4.53942699e-02,  6.95971324e-01,  9.72054446e-01,  6.95971324e-01,\n",
       "        9.02374310e-02, -9.56696137e-01,  6.95971324e-01,  9.72054446e-01,\n",
       "        2.31695724e-01,  2.37419102e-01,  5.90008627e-01,  9.72054446e-01,\n",
       "        4.19888201e-01,  1.68024336e-01,  1.06581750e-01,  1.25401128e-01,\n",
       "       -2.35316819e-01,  6.95971324e-01,  6.95971324e-01,  6.95971324e-01,\n",
       "       -1.18163635e-01,  4.19888201e-01,  6.95971324e-01,  4.98232477e-02,\n",
       "       -6.82320187e-02,  8.06949757e-03,  9.01985170e-02,  4.19888201e-01,\n",
       "        2.04606464e-01,  6.58132275e-02,  6.95971324e-01,  6.95971324e-01,\n",
       "        4.19888201e-01,  1.22368945e-01,  1.43438654e-01,  9.72054446e-01,\n",
       "        9.72054446e-01,  2.03497260e-01, -2.81546389e-01,  4.28952511e-01,\n",
       "        4.19888201e-01,  4.19888201e-01,  6.95971324e-01,  4.19888201e-01,\n",
       "        9.72054446e-01,  6.95971324e-01, -4.94202911e-01, -1.29793674e-01,\n",
       "       -5.34919454e-01,  9.72054446e-01, -1.05600013e-01, -1.30659927e-02,\n",
       "        6.95971324e-01,  9.72054446e-01,  6.46991782e-02,  2.04566301e-01,\n",
       "        3.93197284e-01,  7.94279240e-02,  9.72054446e-01,  1.43805079e-01,\n",
       "        9.72054446e-01,  2.38610650e-01,  6.95971324e-01,  2.04135697e-01,\n",
       "        6.95971324e-01, -2.57331580e-01,  4.19888201e-01,  6.78084243e-02,\n",
       "        9.72054446e-01,  9.72054446e-01,  6.95971324e-01,  1.38595888e-01,\n",
       "        1.06053207e-01,  9.72054446e-01, -2.42154262e-01,  6.95971324e-01,\n",
       "        2.40001752e-02, -7.39383121e-01, -2.24218087e-01, -5.31674609e-01,\n",
       "        9.72054446e-01,  9.72054446e-01,  1.26233764e-01,  8.07735890e-02,\n",
       "        9.72054446e-01,  6.89467076e-02,  9.72054446e-01,  2.43048661e-01,\n",
       "        6.95971324e-01,  4.19888201e-01,  9.72054446e-01,  9.72054446e-01,\n",
       "        1.93137501e-01,  3.55230969e-01,  6.95971324e-01,  9.72054446e-01,\n",
       "       -1.97023772e-02,  9.72054446e-01,  4.19888201e-01,  5.89400445e-02,\n",
       "        7.92356028e-02, -9.85919657e-02,  1.38850945e-01,  6.95971324e-01,\n",
       "        6.95971324e-01,  9.72054446e-01,  9.72054446e-01,  6.95971324e-01,\n",
       "        9.72054446e-01, -2.51869458e-01, -5.40235968e-01,  4.19888201e-01,\n",
       "       -2.52031961e-01, -3.04294177e-02,  1.43805079e-01, -1.79639416e-01,\n",
       "       -2.01517107e-01,  4.19888201e-01,  1.43805079e-01,  1.04184844e-01,\n",
       "        1.83744195e-01,  2.04621091e-01,  9.72054446e-01, -4.84096137e-02,\n",
       "        6.95971324e-01,  1.95662651e-01, -3.82729458e-02,  1.07268582e-01,\n",
       "        9.72054446e-01,  9.72054446e-01,  1.67538851e-01,  1.90841048e-01,\n",
       "        9.72054446e-01,  6.95971324e-01,  2.60761639e-01,  4.19888201e-01,\n",
       "       -1.30725709e-01,  4.19888201e-01, -1.11107359e-01,  1.43805079e-01,\n",
       "        5.16631663e-01,  9.72054446e-01,  1.16339255e-01,  9.72054446e-01,\n",
       "        4.19888201e-01,  6.95971324e-01,  6.79116284e-02,  6.95971324e-01,\n",
       "       -4.93360794e-01,  9.01210375e-02,  4.19888201e-01,  4.55044680e-02,\n",
       "       -7.01547684e-01,  6.95971324e-01,  6.95971324e-01,  1.34417131e-01,\n",
       "        3.12352314e-01,  8.55635197e-03, -1.08334999e-01,  1.89130985e-01,\n",
       "        4.19888201e-01, -1.31065946e-01,  3.29517824e-01,  4.19888201e-01,\n",
       "        9.72054446e-01,  6.95971324e-01,  1.43805079e-01,  6.95971324e-01,\n",
       "        6.95971324e-01,  8.40349969e-02,  9.72054446e-01,  3.58147742e-03,\n",
       "        6.95971324e-01,  6.95971324e-01,  9.72054446e-01,  9.72054446e-01,\n",
       "        1.43805079e-01,  4.19888201e-01,  6.95971324e-01,  6.95971324e-01,\n",
       "        2.26898981e-01,  6.95971324e-01,  4.19888201e-01,  6.95971324e-01,\n",
       "        3.40592354e-02, -1.64182668e-01,  6.95971324e-01,  9.72054446e-01,\n",
       "        4.19888201e-01,  7.52779821e-02,  2.22753811e-01,  6.95971324e-01,\n",
       "        1.06022691e-01, -4.57192347e-02,  9.72054446e-01,  4.19888201e-01,\n",
       "        1.43805079e-01, -2.12989442e-01,  1.43805079e-01,  9.72054446e-01,\n",
       "       -1.85696624e+00,  9.72054446e-01,  4.54254735e-02, -2.04094255e-02,\n",
       "       -4.73504857e-01,  1.52847551e-01,  6.95233495e-02,  6.95971324e-01,\n",
       "       -3.81737134e-01,  3.40136199e-01,  1.76521549e-01,  4.19888201e-01,\n",
       "       -1.09547981e+00,  1.43805079e-01, -6.71145276e-01, -8.60600000e-01,\n",
       "       -1.88759142e-01,  9.72054446e-01, -7.20899105e-01, -3.45696686e-01,\n",
       "        9.72054446e-01,  6.95971324e-01,  1.06190253e-01, -2.72375514e+00,\n",
       "       -4.78893047e-01,  9.72054446e-01, -7.40136163e-02, -5.43118366e-01,\n",
       "       -4.62287838e-01,  6.95971324e-01,  5.18387234e-01,  9.72054446e-01,\n",
       "       -6.01000470e-01,  6.95971324e-01,  2.07173504e-01, -8.48074884e-02,\n",
       "        1.45490856e-01, -1.18294698e-02, -7.71801720e-02,  9.72054446e-01,\n",
       "        6.95971324e-01,  3.27211975e-02,  6.95971324e-01, -1.76216591e-01,\n",
       "        2.31580659e-01, -1.32682507e+00, -2.06168473e-01, -1.39845698e+00,\n",
       "       -9.20831413e-01, -1.10198893e+00, -1.05504222e-01, -1.54039416e+00,\n",
       "        2.31743669e-01,  9.72054446e-01, -2.93677457e-01, -6.16030479e-01,\n",
       "       -4.08361166e-01, -3.26000793e-01, -5.55357800e-01,  9.72054446e-01,\n",
       "       -1.34581270e+00, -5.19756361e-01, -1.40244836e+00,  2.21331877e-01,\n",
       "        1.43805079e-01, -3.89745633e-01, -1.97772417e-01, -1.02997673e+00,\n",
       "        6.95971324e-01, -4.24045746e-01, -1.10507160e+00, -1.94025617e-01,\n",
       "        9.72054446e-01,  9.72054446e-01, -5.34547775e-01,  3.34585320e-01,\n",
       "       -9.75874782e-01,  1.28109293e-01, -2.39079388e-01, -1.67050052e-01,\n",
       "       -1.67706308e-01,  3.58411343e-01, -6.96531174e-02,  9.72054446e-01,\n",
       "       -2.77998044e-01, -1.77845443e-01, -8.89730718e-01, -3.87062437e-01,\n",
       "        1.43805079e-01,  6.95971324e-01, -6.07389022e-01, -3.24926565e-01,\n",
       "        6.95971324e-01,  9.90207328e-02, -1.49808349e+00, -8.14572083e-02,\n",
       "        1.43805079e-01, -1.56264220e-01,  3.03323212e-01, -3.24814157e-01,\n",
       "        1.64608737e-02, -5.56616078e-01, -1.23573356e-01, -4.30359671e-01,\n",
       "        1.43805079e-01,  8.32118833e-02,  9.72054446e-01,  4.33234851e-02,\n",
       "        9.72054446e-01, -7.50657195e-01,  9.72054446e-01, -7.70343871e-01,\n",
       "        9.72054446e-01, -2.78898300e-02, -1.19723404e+00,  1.43805079e-01,\n",
       "        6.95971324e-01, -5.84974305e-01, -3.14155796e-01,  3.28108323e-03,\n",
       "       -1.41872188e-01, -1.86977863e-01,  1.29305860e-01,  2.32305859e-02,\n",
       "       -1.89002652e-02,  1.60890719e-01, -5.30996196e-01,  4.19888201e-01,\n",
       "       -1.01306810e+00, -2.53764133e+00, -5.67274353e-01, -2.08421209e-01,\n",
       "        9.72054446e-01,  9.72054446e-01, -6.13031703e-01, -6.73734591e-01,\n",
       "       -7.40735090e-02, -1.66817572e+00, -2.91835277e-01,  6.95971324e-01,\n",
       "       -2.01978827e+00,  9.72054446e-01, -1.03274545e+00, -7.35205712e-01,\n",
       "       -8.33870894e-01, -5.77772014e-01,  4.19888201e-01, -5.57323780e-01,\n",
       "       -1.04567236e+00, -4.77550287e-01,  1.53957190e-01, -9.50495670e-01,\n",
       "        9.72054446e-01,  9.72054446e-01, -1.83238589e-01, -1.32278043e-01,\n",
       "       -6.84444288e-01,  9.72054446e-01, -2.01226010e-01, -2.62731735e-01,\n",
       "       -1.60419088e-01,  1.43805079e-01, -1.25656876e+00, -2.87306792e-02,\n",
       "       -2.27086285e+00, -8.05964745e-01, -4.36519886e-01, -1.39524735e-01,\n",
       "       -6.05538033e-01, -1.14171475e-01, -1.35636990e-02, -3.32068972e-01,\n",
       "        9.72054446e-01,  9.72054446e-01, -5.43984011e-01, -1.12590427e+00,\n",
       "        1.17713982e-01, -8.88242743e-01, -1.03584650e+00, -3.29576298e-01,\n",
       "       -7.96620806e-01, -3.92566832e-01, -3.89762090e-01, -1.20564770e+00,\n",
       "       -1.90113583e-01, -6.24416064e-01, -7.83013485e-01,  9.72054446e-01,\n",
       "       -5.62209672e-01, -3.46133653e-01,  3.01505129e-02,  9.72054446e-01,\n",
       "        6.95971324e-01, -2.00088350e-02,  9.72054446e-01, -8.54994306e-01,\n",
       "       -1.29927071e+00, -6.84444288e-01,  9.72054446e-01, -1.64343507e+00,\n",
       "       -1.35181188e+00, -3.77268431e-01,  9.72054446e-01,  6.95971324e-01,\n",
       "       -1.88919827e+00, -3.87478058e-01,  9.72054446e-01, -2.10263899e-01,\n",
       "       -5.09535917e-01, -4.36617540e-01, -1.08996173e+00, -4.08361166e-01,\n",
       "        9.72054446e-01, -9.26625044e-01, -2.41607537e-01,  4.19888201e-01,\n",
       "        9.72054446e-01,  4.81760516e-01, -3.15423582e-01, -1.21978762e+00,\n",
       "        2.12619897e-01,  5.66541467e-02, -3.23018680e+00, -6.53570182e+00,\n",
       "       -7.70536645e+00, -3.75425610e-01, -8.23992580e-01,  9.72054446e-01,\n",
       "        9.72054446e-01,  6.95971324e-01, -2.01042125e+00,  9.72054446e-01,\n",
       "       -1.14987484e-01,  9.72054446e-01,  6.95971324e-01,  6.95971324e-01,\n",
       "        9.72054446e-01,  6.95971324e-01,  8.33328431e-03,  8.33229095e-02,\n",
       "        6.95971324e-01,  4.19888201e-01, -1.63872303e+00, -5.01051288e+00,\n",
       "       -1.85261184e-01, -7.17874047e-02,  2.27982196e-01,  9.05326100e-02,\n",
       "        2.10155470e-01, -1.36501054e-02,  9.72054446e-01,  9.72054446e-01,\n",
       "        9.72054446e-01, -1.32278043e-01,  6.95971324e-01,  1.43805079e-01,\n",
       "        4.19888201e-01, -1.92099235e+00,  9.72054446e-01, -6.56624535e-01,\n",
       "        6.95971324e-01,  6.95971324e-01,  6.95971324e-01, -2.04314305e-01,\n",
       "       -1.59916595e-01,  9.72054446e-01,  9.72054446e-01,  6.95971324e-01,\n",
       "        1.66164425e-01,  3.74505667e-01,  2.88935494e-01,  4.23888136e-02,\n",
       "        9.72054446e-01, -1.51391808e-01, -8.08274277e-03, -3.14474999e-01,\n",
       "        9.72054446e-01,  9.72054446e-01, -6.77292037e-01, -5.24870432e-02,\n",
       "       -3.25014547e-02,  4.15071935e-02,  8.33610319e-02,  9.72054446e-01,\n",
       "        9.72054446e-01, -5.95351155e-02,  9.72054446e-01, -6.60690190e-01,\n",
       "        1.88086648e-01, -6.13067243e-01,  9.72054446e-01,  9.72054446e-01,\n",
       "       -4.36260669e-01,  9.72054446e-01,  5.62046865e-01,  9.72054446e-01,\n",
       "       -3.31068070e-01,  6.95971324e-01,  9.72054446e-01,  9.72054446e-01,\n",
       "        6.95971324e-01,  4.19888201e-01,  6.95971324e-01,  6.95971324e-01,\n",
       "        9.72054446e-01,  2.26981493e-01,  8.77219147e-02,  9.72054446e-01,\n",
       "        9.72054446e-01,  4.72610622e-01,  9.72054446e-01,  1.77886437e-01,\n",
       "        6.95971324e-01,  6.11190727e-01, -7.67809334e-01, -1.04445497e+00,\n",
       "       -1.32765732e+00,  4.19888201e-01,  9.72054446e-01, -1.77467858e+00,\n",
       "       -3.31721605e+00, -3.02449782e+00,  9.72054446e-01, -1.11287824e+00,\n",
       "        6.95971324e-01,  3.51880722e-01,  1.02473562e-01, -2.73977772e-01,\n",
       "        9.72054446e-01,  1.73058602e-01, -3.39159651e-01,  4.25211363e-02,\n",
       "        6.95971324e-01,  9.72054446e-01,  1.06006105e-01,  9.72054446e-01,\n",
       "        9.72054446e-01,  6.95971324e-01, -7.81275822e-01, -7.48192965e-02,\n",
       "        9.72054446e-01,  1.12729439e-01,  1.61115783e-02, -4.35899028e-01,\n",
       "        9.72054446e-01,  6.95971324e-01, -7.46651404e-01,  4.19888201e-01,\n",
       "        4.19888201e-01, -5.45883863e-01,  2.13461406e-01,  9.72054446e-01,\n",
       "        9.72054446e-01,  9.72054446e-01, -1.24635225e+00,  1.51967454e-01,\n",
       "       -1.15160154e+00,  9.72054446e-01,  9.72054446e-01,  6.95971324e-01,\n",
       "        9.72054446e-01,  9.72054446e-01,  9.72054446e-01, -9.04682018e-02,\n",
       "        9.72054446e-01, -8.69599992e-02, -2.25254487e-01,  9.72054446e-01,\n",
       "        5.67378028e-01,  3.20951369e-01, -4.87133634e-01, -2.95665915e+00,\n",
       "       -4.06265289e-01, -7.94131882e-01,  1.67700881e-01,  1.72933167e-01,\n",
       "        9.72054446e-01, -2.12178932e-01, -2.12592956e-01,  4.19888201e-01,\n",
       "        4.19888201e-01,  9.72054446e-01, -2.48313498e+00,  6.95971324e-01,\n",
       "       -1.56350149e+00,  4.19888201e-01,  1.43805079e-01,  2.39591337e-01,\n",
       "       -6.58844413e-04,  1.68945877e-01, -1.02285963e+00,  1.86634244e-01,\n",
       "        2.04176111e-01, -1.28122448e+00,  1.17226875e-01, -4.08361166e-01,\n",
       "        9.72054446e-01, -9.90056391e-01,  1.43805079e-01, -1.20954423e-01,\n",
       "        9.72054446e-01,  1.75632382e-01,  9.72054446e-01,  6.95971324e-01,\n",
       "       -2.43385433e-01,  9.72054446e-01, -2.31052325e+00, -9.86516614e-02,\n",
       "       -9.20071632e-02,  4.19888201e-01,  4.19888201e-01, -7.28892292e-01,\n",
       "       -2.38080305e+00,  1.52548081e-01, -1.83253861e+00, -2.33126327e+00,\n",
       "       -8.52871660e-01, -3.99878125e-01,  4.36748168e-01,  4.91380543e-01,\n",
       "        1.45278668e-01,  9.72054446e-01, -9.65858008e-02, -1.14990575e+00,\n",
       "        6.95971324e-01, -5.64232115e-01, -1.30950949e+00,  9.72054446e-01,\n",
       "       -4.96583873e-01,  9.72054446e-01, -1.81241788e-01,  6.95971324e-01,\n",
       "       -2.49674352e-01, -8.59331551e-01, -1.28693991e+00,  1.07265812e-01,\n",
       "       -2.04208923e-01,  2.28847805e-01, -2.31688575e-01, -7.43215217e-01,\n",
       "       -3.06063806e-01, -1.78052007e+00, -8.29377029e-01, -1.54173899e-01,\n",
       "       -1.86772323e+00, -5.24723614e-01, -9.53002008e-01, -4.35282720e-01,\n",
       "       -2.00939837e-01, -4.23638162e-01, -9.10043319e-01,  9.72054446e-01,\n",
       "        3.47100291e-01, -2.23129159e-02,  5.68315728e-01, -5.03660956e-01,\n",
       "       -9.85754144e-01, -6.16699064e-02, -9.37585293e-01, -1.34890082e+00,\n",
       "        1.72519553e-01,  9.72054446e-01,  9.72054446e-01,  9.72054446e-01,\n",
       "       -1.31446847e-01, -1.15013834e-01, -5.60678638e-01, -2.78871981e-01,\n",
       "       -5.37098965e-01, -7.22534045e-01,  9.72054446e-01, -6.35444656e-01,\n",
       "       -8.63105604e-01, -7.57016442e-01, -3.25813111e+00, -1.75639839e+00,\n",
       "       -7.11715443e-01, -1.06574277e+00, -1.33429563e+00, -1.87562519e+00,\n",
       "       -3.41657880e-01, -2.95782162e+00, -3.32792330e-01,  1.53718101e-01,\n",
       "        9.72054446e-01, -1.19500343e+00, -9.56063262e-02, -1.79021745e+00,\n",
       "       -4.72284309e-01, -1.87779056e+00, -1.07195262e+00, -1.21407033e+00,\n",
       "       -2.40852617e-01,  9.72054446e-01, -7.82010991e-01,  2.13636153e-01,\n",
       "       -5.94726736e-01,  1.17603493e-02, -6.04507669e-01, -6.34348023e-01,\n",
       "       -1.84354954e+00, -2.22508609e+00,  9.72054446e-01, -6.96618577e-01,\n",
       "       -5.28939702e-01,  8.45073454e-02, -1.42850093e+00, -1.93198680e+00,\n",
       "        9.99954502e-02, -2.31623518e+00, -2.39110412e+00,  4.19888201e-01,\n",
       "       -1.06757620e+00, -8.82754241e-01, -2.29131542e+00, -7.23717199e-01,\n",
       "       -1.49519386e+00, -5.18910737e-01, -9.64143444e-01, -6.22533574e-01,\n",
       "        9.72054446e-01,  9.72054446e-01,  9.72054446e-01,  9.72054446e-01,\n",
       "        6.95971324e-01,  6.95971324e-01, -3.90810887e-01,  9.89034898e-03,\n",
       "        9.72054446e-01,  6.95971324e-01, -3.36868304e-01,  9.72054446e-01,\n",
       "        9.72054446e-01,  3.76283754e-01,  9.78083520e-02, -7.23137150e-02,\n",
       "        6.05223569e-02,  6.95971324e-01,  1.47694027e-01, -1.06940365e-01,\n",
       "        9.72054446e-01,  6.95971324e-01,  9.72054446e-01, -8.16328787e-02,\n",
       "        9.72054446e-01,  4.19888201e-01,  9.72054446e-01,  6.95971324e-01,\n",
       "       -4.10239913e-01,  1.34819023e-01,  1.25567540e-01,  6.95971324e-01,\n",
       "        1.75954827e-01,  9.72054446e-01, -3.32704263e-01,  9.72054446e-01,\n",
       "        9.72054446e-01,  6.95971324e-01,  2.75743346e-01,  9.72054446e-01,\n",
       "        9.72054446e-01,  9.72054446e-01,  5.17288553e-01,  2.23815146e-02,\n",
       "        5.81793474e-01,  9.72054446e-01,  3.85358123e-01, -6.00988569e-01,\n",
       "        2.74180700e-01,  9.72054446e-01,  9.72054446e-01,  3.77326429e-01,\n",
       "        1.43805079e-01,  9.72054446e-01, -7.43448699e-01, -6.65786594e-02,\n",
       "        9.72054446e-01,  9.72054446e-01,  9.72054446e-01,  9.72054446e-01,\n",
       "        2.46643509e-01,  9.72054446e-01,  4.91529071e-01,  9.72054446e-01,\n",
       "       -1.05314021e+00,  4.19888201e-01,  1.77667675e-01, -1.02045209e+00,\n",
       "       -3.09615656e-01, -2.46324059e-01,  1.60925778e-01,  3.52897748e-02,\n",
       "        9.72054446e-01,  9.72054446e-01,  9.72054446e-01,  1.87429068e-01])"
      ]
     },
     "execution_count": 58,
     "metadata": {},
     "output_type": "execute_result"
    }
   ],
   "source": [
    "model.decision_function(X)"
   ]
  },
  {
   "cell_type": "code",
   "execution_count": 59,
   "metadata": {},
   "outputs": [
    {
     "data": {
      "text/plain": [
       "Index(['distancias', 'mutual_info', 'm_earth', 'max_info_p', 'relaciones',\n",
       "       'sim_faltantes'],\n",
       "      dtype='object')"
      ]
     },
     "execution_count": 59,
     "metadata": {},
     "output_type": "execute_result"
    }
   ],
   "source": [
    "labels=train.columns[:-1]\n",
    "labels"
   ]
  },
  {
   "cell_type": "code",
   "execution_count": 60,
   "metadata": {},
   "outputs": [
    {
     "data": {
      "text/plain": [
       "array([0, 1])"
      ]
     },
     "execution_count": 60,
     "metadata": {},
     "output_type": "execute_result"
    }
   ],
   "source": [
    "model.classes_"
   ]
  },
  {
   "cell_type": "code",
   "execution_count": 61,
   "metadata": {},
   "outputs": [
    {
     "data": {
      "text/plain": [
       "array([-0.26093586, -0.19895942,  0.16078133, -0.38972256, -0.34121685,\n",
       "        0.24736294])"
      ]
     },
     "execution_count": 61,
     "metadata": {},
     "output_type": "execute_result"
    }
   ],
   "source": [
    "model.coef_[0]"
   ]
  },
  {
   "cell_type": "code",
   "execution_count": 62,
   "metadata": {},
   "outputs": [],
   "source": [
    "coeficientes=model.coef_[0]"
   ]
  },
  {
   "cell_type": "code",
   "execution_count": 63,
   "metadata": {},
   "outputs": [
    {
     "name": "stdout",
     "output_type": "stream",
     "text": [
      "Maximo,minimo  5 sim_faltantes 3 max_info_p\n"
     ]
    }
   ],
   "source": [
    "print(\"Maximo,minimo \",np.argmax(coeficientes),labels[np.argmax(coeficientes)],np.argmin(coeficientes),labels[np.argmin(coeficientes)])"
   ]
  },
  {
   "cell_type": "code",
   "execution_count": 64,
   "metadata": {},
   "outputs": [],
   "source": [
    "n_columns=train.shape[1]-1"
   ]
  },
  {
   "cell_type": "code",
   "execution_count": 65,
   "metadata": {},
   "outputs": [
    {
     "data": {
      "text/plain": [
       "6"
      ]
     },
     "execution_count": 65,
     "metadata": {},
     "output_type": "execute_result"
    }
   ],
   "source": [
    "n_columns"
   ]
  },
  {
   "cell_type": "code",
   "execution_count": 66,
   "metadata": {},
   "outputs": [
    {
     "data": {
      "image/png": "[encoded data removed]",
      "text/plain": [
       "<Figure size 640x480 with 1 Axes>"
      ]
     },
     "metadata": {},
     "output_type": "display_data"
    }
   ],
   "source": [
    "import matplotlib.pyplot as plt\n",
    "import numpy as np\n",
    "\n",
    "x_v = np.arange(0,n_columns,1)\n",
    "y_v = coeficientes\n",
    "\n",
    "plt.bar(x_v,y_v)\n",
    "plt.xlabel('x')\n",
    "plt.ylabel('y')\n",
    "plt.title('Coeficientes')\n",
    "plt.show()"
   ]
  },
  {
   "cell_type": "code",
   "execution_count": 67,
   "metadata": {},
   "outputs": [],
   "source": [
    "predictions = model.predict(X_test)"
   ]
  },
  {
   "cell_type": "code",
   "execution_count": 68,
   "metadata": {},
   "outputs": [
    {
     "name": "stdout",
     "output_type": "stream",
     "text": [
      "[[210 180]\n",
      " [149 261]]\n"
     ]
    }
   ],
   "source": [
    "print(confusion_matrix(y_test, predictions))"
   ]
  },
  {
   "cell_type": "code",
   "execution_count": 69,
   "metadata": {},
   "outputs": [
    {
     "name": "stdout",
     "output_type": "stream",
     "text": [
      "acccuracy:  0.59\n",
      "precision:  0.59\n",
      "recall 0.64\n",
      "f1_score:  0.61\n",
      "matthews_score:  0.18\n"
     ]
    }
   ],
   "source": [
    "print(\"acccuracy: \",round(accuracy_score(y_test,predictions),2))\n",
    "print(\"precision: \",round(precision_score(y_test,predictions),2))\n",
    "print(\"recall\",round(recall_score(y_test,predictions),2))\n",
    "print(\"f1_score: \",round(f1_score(y_test,predictions),2))\n",
    "print(\"matthews_score: \",round(matthews_corrcoef(y_test,predictions),2))"
   ]
  },
  {
   "cell_type": "code",
   "execution_count": 70,
   "metadata": {},
   "outputs": [
    {
     "data": {
      "text/plain": [
       "(800, 6)"
      ]
     },
     "execution_count": 70,
     "metadata": {},
     "output_type": "execute_result"
    }
   ],
   "source": [
    "X_train.shape"
   ]
  },
  {
   "cell_type": "code",
   "execution_count": 71,
   "metadata": {},
   "outputs": [
    {
     "data": {
      "text/plain": [
       "(800, 6)"
      ]
     },
     "execution_count": 71,
     "metadata": {},
     "output_type": "execute_result"
    }
   ],
   "source": [
    "X_test.shape"
   ]
  },
  {
   "cell_type": "code",
   "execution_count": 72,
   "metadata": {},
   "outputs": [],
   "source": [
    "X_cv=np.concatenate((X_train, X_test), axis=0)\n",
    "Y_cv=np.concatenate((y_train, y_test), axis=0)"
   ]
  },
  {
   "cell_type": "code",
   "execution_count": 73,
   "metadata": {},
   "outputs": [],
   "source": [
    "validation_size = 0.20\n",
    "X_train_cv, X_validation_cv, Y_train_cv, Y_validation_cv = model_selection.train_test_split(X_cv, Y_cv, test_size=validation_size)"
   ]
  },
  {
   "cell_type": "code",
   "execution_count": 74,
   "metadata": {},
   "outputs": [
    {
     "name": "stdout",
     "output_type": "stream",
     "text": [
      "Logistic Regression: 0.600000 (0.054537)\n"
     ]
    }
   ],
   "source": [
    "name='Logistic Regression'\n",
    "kfold = model_selection.KFold(n_splits=20)\n",
    "cv_results = model_selection.cross_val_score(model, X_train_cv, Y_train_cv, cv=kfold, scoring='precision')\n",
    "msg = \"%s: %f (%f)\" % (name, round(cv_results.mean(),2), cv_results.std())\n",
    "print(msg)"
   ]
  },
  {
   "cell_type": "code",
   "execution_count": 75,
   "metadata": {},
   "outputs": [
    {
     "name": "stdout",
     "output_type": "stream",
     "text": [
      "Logistic Regression: 0.740000 (0.072529)\n"
     ]
    }
   ],
   "source": [
    "name='Logistic Regression'\n",
    "kfold = model_selection.KFold(n_splits=20)\n",
    "cv_results = model_selection.cross_val_score(model, X_train_cv, Y_train_cv, cv=kfold, scoring='recall')\n",
    "msg = \"%s: %f (%f)\" % (name, round(cv_results.mean(),2), cv_results.std())\n",
    "print(msg)"
   ]
  },
  {
   "cell_type": "code",
   "execution_count": 76,
   "metadata": {},
   "outputs": [
    {
     "name": "stdout",
     "output_type": "stream",
     "text": [
      "Logistic Regression: 0.660000 (0.046515)\n"
     ]
    }
   ],
   "source": [
    "name='Logistic Regression'\n",
    "kfold = model_selection.KFold(n_splits=20)\n",
    "cv_results = model_selection.cross_val_score(model, X_train_cv, Y_train_cv, cv=kfold, scoring='f1')\n",
    "msg = \"%s: %f (%f)\" % (name, round(cv_results.mean(),2), cv_results.std())\n",
    "print(msg)"
   ]
  },
  {
   "cell_type": "code",
   "execution_count": 77,
   "metadata": {},
   "outputs": [
    {
     "name": "stdout",
     "output_type": "stream",
     "text": [
      "Logistic Regression: 0.210000 (0.095587)\n"
     ]
    }
   ],
   "source": [
    "name='Logistic Regression'\n",
    "kfold = model_selection.KFold(n_splits=20)\n",
    "cv_results = model_selection.cross_val_score(model, X_train_cv, Y_train_cv, cv=kfold, scoring='matthews_corrcoef')\n",
    "msg = \"%s: %f (%f)\" % (name, round(cv_results.mean(),2), cv_results.std())\n",
    "print(msg)"
   ]
  }
 ],
 "metadata": {
  "kernelspec": {
   "display_name": "Python 3",
   "language": "python",
   "name": "python3"
  },
  "language_info": {
   "codemirror_mode": {
    "name": "ipython",
    "version": 3
   },
   "file_extension": ".py",
   "mimetype": "text/x-python",
   "name": "python",
   "nbconvert_exporter": "python",
   "pygments_lexer": "ipython3",
   "version": "3.9.13"
  }
 },
 "nbformat": 4,
 "nbformat_minor": 2
}
