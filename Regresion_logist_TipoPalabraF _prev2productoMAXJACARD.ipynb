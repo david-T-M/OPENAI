{
 "cells": [
  {
   "cell_type": "code",
   "execution_count": 413,
   "metadata": {},
   "outputs": [],
   "source": [
    "import pandas as pd\n",
    "import numpy as np\n",
    "from sklearn import linear_model\n",
    "from sklearn import model_selection\n",
    "from sklearn.metrics import classification_report\n",
    "from sklearn.metrics import confusion_matrix\n",
    "from sklearn.metrics import f1_score\n",
    "from sklearn.metrics import accuracy_score\n",
    "import matplotlib.pyplot as plt\n",
    "import seaborn as sb"
   ]
  },
  {
   "cell_type": "code",
   "execution_count": 414,
   "metadata": {},
   "outputs": [
    {
     "data": {
      "text/html": [
       "<div>\n",
       "<style scoped>\n",
       "    .dataframe tbody tr th:only-of-type {\n",
       "        vertical-align: middle;\n",
       "    }\n",
       "\n",
       "    .dataframe tbody tr th {\n",
       "        vertical-align: top;\n",
       "    }\n",
       "\n",
       "    .dataframe thead th {\n",
       "        text-align: right;\n",
       "    }\n",
       "</style>\n",
       "<table border=\"1\" class=\"dataframe\">\n",
       "  <thead>\n",
       "    <tr style=\"text-align: right;\">\n",
       "      <th></th>\n",
       "      <th>NOUN_NOUN</th>\n",
       "      <th>NOUN_ADJ</th>\n",
       "      <th>NOUN_VERB</th>\n",
       "      <th>NOUN_ADV</th>\n",
       "      <th>ADJ_NOUN</th>\n",
       "      <th>ADJ_ADJ</th>\n",
       "      <th>ADJ_VERB</th>\n",
       "      <th>ADJ_ADV</th>\n",
       "      <th>VERB_NOUN</th>\n",
       "      <th>VERB_ADJ</th>\n",
       "      <th>...</th>\n",
       "      <th>ADV_ADJ_</th>\n",
       "      <th>ADV_VERB_</th>\n",
       "      <th>ADV_ADV_</th>\n",
       "      <th>sinonimos</th>\n",
       "      <th>antonimos</th>\n",
       "      <th>hiperonimos</th>\n",
       "      <th>hiponimos</th>\n",
       "      <th>action_wn</th>\n",
       "      <th>sim verbos</th>\n",
       "      <th>CLASS</th>\n",
       "    </tr>\n",
       "  </thead>\n",
       "  <tbody>\n",
       "    <tr>\n",
       "      <th>0</th>\n",
       "      <td>0.738736</td>\n",
       "      <td>0.000000</td>\n",
       "      <td>0.0</td>\n",
       "      <td>0</td>\n",
       "      <td>0.0</td>\n",
       "      <td>0.000000</td>\n",
       "      <td>0</td>\n",
       "      <td>0</td>\n",
       "      <td>0.0</td>\n",
       "      <td>0</td>\n",
       "      <td>...</td>\n",
       "      <td>0</td>\n",
       "      <td>0</td>\n",
       "      <td>0</td>\n",
       "      <td>0</td>\n",
       "      <td>0</td>\n",
       "      <td>1</td>\n",
       "      <td>0</td>\n",
       "      <td>0.0</td>\n",
       "      <td>0.165178</td>\n",
       "      <td>entailment</td>\n",
       "    </tr>\n",
       "    <tr>\n",
       "      <th>1</th>\n",
       "      <td>0.902263</td>\n",
       "      <td>0.000000</td>\n",
       "      <td>0.0</td>\n",
       "      <td>0</td>\n",
       "      <td>0.0</td>\n",
       "      <td>0.869893</td>\n",
       "      <td>0</td>\n",
       "      <td>0</td>\n",
       "      <td>0.0</td>\n",
       "      <td>0</td>\n",
       "      <td>...</td>\n",
       "      <td>0</td>\n",
       "      <td>0</td>\n",
       "      <td>0</td>\n",
       "      <td>4</td>\n",
       "      <td>0</td>\n",
       "      <td>1</td>\n",
       "      <td>0</td>\n",
       "      <td>1.0</td>\n",
       "      <td>0.798416</td>\n",
       "      <td>entailment</td>\n",
       "    </tr>\n",
       "    <tr>\n",
       "      <th>2</th>\n",
       "      <td>1.000000</td>\n",
       "      <td>0.000000</td>\n",
       "      <td>0.0</td>\n",
       "      <td>0</td>\n",
       "      <td>0.0</td>\n",
       "      <td>0.000000</td>\n",
       "      <td>0</td>\n",
       "      <td>0</td>\n",
       "      <td>0.0</td>\n",
       "      <td>0</td>\n",
       "      <td>...</td>\n",
       "      <td>0</td>\n",
       "      <td>0</td>\n",
       "      <td>0</td>\n",
       "      <td>1</td>\n",
       "      <td>0</td>\n",
       "      <td>0</td>\n",
       "      <td>0</td>\n",
       "      <td>0.0</td>\n",
       "      <td>0.360803</td>\n",
       "      <td>contradiction</td>\n",
       "    </tr>\n",
       "    <tr>\n",
       "      <th>3</th>\n",
       "      <td>0.000000</td>\n",
       "      <td>0.000000</td>\n",
       "      <td>0.0</td>\n",
       "      <td>0</td>\n",
       "      <td>0.0</td>\n",
       "      <td>0.000000</td>\n",
       "      <td>0</td>\n",
       "      <td>0</td>\n",
       "      <td>0.0</td>\n",
       "      <td>0</td>\n",
       "      <td>...</td>\n",
       "      <td>0</td>\n",
       "      <td>0</td>\n",
       "      <td>0</td>\n",
       "      <td>2</td>\n",
       "      <td>0</td>\n",
       "      <td>0</td>\n",
       "      <td>0</td>\n",
       "      <td>1.0</td>\n",
       "      <td>0.522530</td>\n",
       "      <td>contradiction</td>\n",
       "    </tr>\n",
       "    <tr>\n",
       "      <th>4</th>\n",
       "      <td>1.000000</td>\n",
       "      <td>0.000000</td>\n",
       "      <td>0.0</td>\n",
       "      <td>0</td>\n",
       "      <td>0.0</td>\n",
       "      <td>0.000000</td>\n",
       "      <td>0</td>\n",
       "      <td>0</td>\n",
       "      <td>0.0</td>\n",
       "      <td>0</td>\n",
       "      <td>...</td>\n",
       "      <td>0</td>\n",
       "      <td>0</td>\n",
       "      <td>0</td>\n",
       "      <td>2</td>\n",
       "      <td>0</td>\n",
       "      <td>0</td>\n",
       "      <td>0</td>\n",
       "      <td>0.0</td>\n",
       "      <td>0.347747</td>\n",
       "      <td>neutral</td>\n",
       "    </tr>\n",
       "    <tr>\n",
       "      <th>...</th>\n",
       "      <td>...</td>\n",
       "      <td>...</td>\n",
       "      <td>...</td>\n",
       "      <td>...</td>\n",
       "      <td>...</td>\n",
       "      <td>...</td>\n",
       "      <td>...</td>\n",
       "      <td>...</td>\n",
       "      <td>...</td>\n",
       "      <td>...</td>\n",
       "      <td>...</td>\n",
       "      <td>...</td>\n",
       "      <td>...</td>\n",
       "      <td>...</td>\n",
       "      <td>...</td>\n",
       "      <td>...</td>\n",
       "      <td>...</td>\n",
       "      <td>...</td>\n",
       "      <td>...</td>\n",
       "      <td>...</td>\n",
       "      <td>...</td>\n",
       "    </tr>\n",
       "    <tr>\n",
       "      <th>95</th>\n",
       "      <td>0.000000</td>\n",
       "      <td>0.000000</td>\n",
       "      <td>0.0</td>\n",
       "      <td>0</td>\n",
       "      <td>0.0</td>\n",
       "      <td>0.000000</td>\n",
       "      <td>0</td>\n",
       "      <td>0</td>\n",
       "      <td>0.0</td>\n",
       "      <td>0</td>\n",
       "      <td>...</td>\n",
       "      <td>0</td>\n",
       "      <td>0</td>\n",
       "      <td>0</td>\n",
       "      <td>1</td>\n",
       "      <td>0</td>\n",
       "      <td>0</td>\n",
       "      <td>0</td>\n",
       "      <td>1.0</td>\n",
       "      <td>1.000000</td>\n",
       "      <td>entailment</td>\n",
       "    </tr>\n",
       "    <tr>\n",
       "      <th>96</th>\n",
       "      <td>1.000000</td>\n",
       "      <td>0.768382</td>\n",
       "      <td>0.0</td>\n",
       "      <td>0</td>\n",
       "      <td>0.0</td>\n",
       "      <td>0.000000</td>\n",
       "      <td>0</td>\n",
       "      <td>0</td>\n",
       "      <td>0.0</td>\n",
       "      <td>0</td>\n",
       "      <td>...</td>\n",
       "      <td>0</td>\n",
       "      <td>0</td>\n",
       "      <td>0</td>\n",
       "      <td>2</td>\n",
       "      <td>0</td>\n",
       "      <td>0</td>\n",
       "      <td>0</td>\n",
       "      <td>0.0</td>\n",
       "      <td>0.895790</td>\n",
       "      <td>entailment</td>\n",
       "    </tr>\n",
       "    <tr>\n",
       "      <th>97</th>\n",
       "      <td>0.000000</td>\n",
       "      <td>0.000000</td>\n",
       "      <td>0.0</td>\n",
       "      <td>0</td>\n",
       "      <td>0.0</td>\n",
       "      <td>0.000000</td>\n",
       "      <td>0</td>\n",
       "      <td>0</td>\n",
       "      <td>0.0</td>\n",
       "      <td>0</td>\n",
       "      <td>...</td>\n",
       "      <td>0</td>\n",
       "      <td>0</td>\n",
       "      <td>0</td>\n",
       "      <td>0</td>\n",
       "      <td>0</td>\n",
       "      <td>0</td>\n",
       "      <td>0</td>\n",
       "      <td>0.0</td>\n",
       "      <td>0.198153</td>\n",
       "      <td>contradiction</td>\n",
       "    </tr>\n",
       "    <tr>\n",
       "      <th>98</th>\n",
       "      <td>1.000000</td>\n",
       "      <td>0.000000</td>\n",
       "      <td>0.0</td>\n",
       "      <td>0</td>\n",
       "      <td>0.0</td>\n",
       "      <td>0.000000</td>\n",
       "      <td>0</td>\n",
       "      <td>0</td>\n",
       "      <td>0.0</td>\n",
       "      <td>0</td>\n",
       "      <td>...</td>\n",
       "      <td>0</td>\n",
       "      <td>0</td>\n",
       "      <td>0</td>\n",
       "      <td>2</td>\n",
       "      <td>0</td>\n",
       "      <td>0</td>\n",
       "      <td>0</td>\n",
       "      <td>1.0</td>\n",
       "      <td>0.322019</td>\n",
       "      <td>contradiction</td>\n",
       "    </tr>\n",
       "    <tr>\n",
       "      <th>99</th>\n",
       "      <td>1.000000</td>\n",
       "      <td>0.000000</td>\n",
       "      <td>0.0</td>\n",
       "      <td>0</td>\n",
       "      <td>0.0</td>\n",
       "      <td>0.000000</td>\n",
       "      <td>0</td>\n",
       "      <td>0</td>\n",
       "      <td>0.0</td>\n",
       "      <td>0</td>\n",
       "      <td>...</td>\n",
       "      <td>0</td>\n",
       "      <td>0</td>\n",
       "      <td>0</td>\n",
       "      <td>1</td>\n",
       "      <td>0</td>\n",
       "      <td>0</td>\n",
       "      <td>0</td>\n",
       "      <td>0.0</td>\n",
       "      <td>0.252164</td>\n",
       "      <td>contradiction</td>\n",
       "    </tr>\n",
       "  </tbody>\n",
       "</table>\n",
       "<p>100 rows × 39 columns</p>\n",
       "</div>"
      ],
      "text/plain": [
       "    NOUN_NOUN  NOUN_ADJ  NOUN_VERB  NOUN_ADV  ADJ_NOUN   ADJ_ADJ  ADJ_VERB  \\\n",
       "0    0.738736  0.000000        0.0         0       0.0  0.000000         0   \n",
       "1    0.902263  0.000000        0.0         0       0.0  0.869893         0   \n",
       "2    1.000000  0.000000        0.0         0       0.0  0.000000         0   \n",
       "3    0.000000  0.000000        0.0         0       0.0  0.000000         0   \n",
       "4    1.000000  0.000000        0.0         0       0.0  0.000000         0   \n",
       "..        ...       ...        ...       ...       ...       ...       ...   \n",
       "95   0.000000  0.000000        0.0         0       0.0  0.000000         0   \n",
       "96   1.000000  0.768382        0.0         0       0.0  0.000000         0   \n",
       "97   0.000000  0.000000        0.0         0       0.0  0.000000         0   \n",
       "98   1.000000  0.000000        0.0         0       0.0  0.000000         0   \n",
       "99   1.000000  0.000000        0.0         0       0.0  0.000000         0   \n",
       "\n",
       "    ADJ_ADV  VERB_NOUN  VERB_ADJ  ...  ADV_ADJ_  ADV_VERB_  ADV_ADV_  \\\n",
       "0         0        0.0         0  ...         0          0         0   \n",
       "1         0        0.0         0  ...         0          0         0   \n",
       "2         0        0.0         0  ...         0          0         0   \n",
       "3         0        0.0         0  ...         0          0         0   \n",
       "4         0        0.0         0  ...         0          0         0   \n",
       "..      ...        ...       ...  ...       ...        ...       ...   \n",
       "95        0        0.0         0  ...         0          0         0   \n",
       "96        0        0.0         0  ...         0          0         0   \n",
       "97        0        0.0         0  ...         0          0         0   \n",
       "98        0        0.0         0  ...         0          0         0   \n",
       "99        0        0.0         0  ...         0          0         0   \n",
       "\n",
       "    sinonimos  antonimos  hiperonimos  hiponimos  action_wn  sim verbos  \\\n",
       "0           0          0            1          0        0.0    0.165178   \n",
       "1           4          0            1          0        1.0    0.798416   \n",
       "2           1          0            0          0        0.0    0.360803   \n",
       "3           2          0            0          0        1.0    0.522530   \n",
       "4           2          0            0          0        0.0    0.347747   \n",
       "..        ...        ...          ...        ...        ...         ...   \n",
       "95          1          0            0          0        1.0    1.000000   \n",
       "96          2          0            0          0        0.0    0.895790   \n",
       "97          0          0            0          0        0.0    0.198153   \n",
       "98          2          0            0          0        1.0    0.322019   \n",
       "99          1          0            0          0        0.0    0.252164   \n",
       "\n",
       "            CLASS  \n",
       "0      entailment  \n",
       "1      entailment  \n",
       "2   contradiction  \n",
       "3   contradiction  \n",
       "4         neutral  \n",
       "..            ...  \n",
       "95     entailment  \n",
       "96     entailment  \n",
       "97  contradiction  \n",
       "98  contradiction  \n",
       "99  contradiction  \n",
       "\n",
       "[100 rows x 39 columns]"
      ]
     },
     "execution_count": 414,
     "metadata": {},
     "output_type": "execute_result"
    }
   ],
   "source": [
    "#dataframe = pd.read_csv(r\"TipoPalabra_conteos_mean_umbral_mean.csv\")\n",
    "#dataframe = pd.read_csv(r\"TipoPalabra_conteos_umbral_mean_relsemanf_sim0.7.csv\")\n",
    "#dataframe = pd.read_csv(r\"TipoPalabra_conteos_umbral_mean_relsemanf_sim0.8.csv\")\n",
    "#dataframe = pd.read_csv(r\"TipoPalabra_conteos_umbral_mean_relsemanf_root_difTH_porcentajeR_MAs.csv\")\n",
    "dataframe = pd.read_csv(r\"TipoPalabra_conteos_umbral_mean_relsemanf_root_difTH_porcentajeR_MAspromedioMAXjacca.csv\")\n",
    "dataframe"
   ]
  },
  {
   "cell_type": "code",
   "execution_count": 415,
   "metadata": {},
   "outputs": [],
   "source": [
    "#dataframe.corr()"
   ]
  },
  {
   "cell_type": "code",
   "execution_count": 416,
   "metadata": {},
   "outputs": [
    {
     "data": {
      "text/html": [
       "<div>\n",
       "<style scoped>\n",
       "    .dataframe tbody tr th:only-of-type {\n",
       "        vertical-align: middle;\n",
       "    }\n",
       "\n",
       "    .dataframe tbody tr th {\n",
       "        vertical-align: top;\n",
       "    }\n",
       "\n",
       "    .dataframe thead th {\n",
       "        text-align: right;\n",
       "    }\n",
       "</style>\n",
       "<table border=\"1\" class=\"dataframe\">\n",
       "  <thead>\n",
       "    <tr style=\"text-align: right;\">\n",
       "      <th></th>\n",
       "      <th>NOUN_NOUN</th>\n",
       "      <th>NOUN_ADJ</th>\n",
       "      <th>NOUN_VERB</th>\n",
       "      <th>NOUN_ADV</th>\n",
       "      <th>ADJ_NOUN</th>\n",
       "      <th>ADJ_ADJ</th>\n",
       "      <th>ADJ_VERB</th>\n",
       "      <th>ADJ_ADV</th>\n",
       "      <th>VERB_NOUN</th>\n",
       "      <th>VERB_ADJ</th>\n",
       "      <th>...</th>\n",
       "      <th>ADV_NOUN_</th>\n",
       "      <th>ADV_ADJ_</th>\n",
       "      <th>ADV_VERB_</th>\n",
       "      <th>ADV_ADV_</th>\n",
       "      <th>sinonimos</th>\n",
       "      <th>antonimos</th>\n",
       "      <th>hiperonimos</th>\n",
       "      <th>hiponimos</th>\n",
       "      <th>action_wn</th>\n",
       "      <th>sim verbos</th>\n",
       "    </tr>\n",
       "  </thead>\n",
       "  <tbody>\n",
       "    <tr>\n",
       "      <th>count</th>\n",
       "      <td>100.000000</td>\n",
       "      <td>100.000000</td>\n",
       "      <td>100.000000</td>\n",
       "      <td>100.0</td>\n",
       "      <td>100.000000</td>\n",
       "      <td>100.000000</td>\n",
       "      <td>100.0</td>\n",
       "      <td>100.0</td>\n",
       "      <td>100.000000</td>\n",
       "      <td>100.0</td>\n",
       "      <td>...</td>\n",
       "      <td>100.0</td>\n",
       "      <td>100.0</td>\n",
       "      <td>100.0</td>\n",
       "      <td>100.000000</td>\n",
       "      <td>100.000000</td>\n",
       "      <td>100.000000</td>\n",
       "      <td>100.000000</td>\n",
       "      <td>100.000000</td>\n",
       "      <td>100.000000</td>\n",
       "      <td>100.000000</td>\n",
       "    </tr>\n",
       "    <tr>\n",
       "      <th>mean</th>\n",
       "      <td>0.800486</td>\n",
       "      <td>0.016507</td>\n",
       "      <td>0.042366</td>\n",
       "      <td>0.0</td>\n",
       "      <td>0.026860</td>\n",
       "      <td>0.157137</td>\n",
       "      <td>0.0</td>\n",
       "      <td>0.0</td>\n",
       "      <td>0.007008</td>\n",
       "      <td>0.0</td>\n",
       "      <td>...</td>\n",
       "      <td>0.0</td>\n",
       "      <td>0.0</td>\n",
       "      <td>0.0</td>\n",
       "      <td>0.030000</td>\n",
       "      <td>1.970000</td>\n",
       "      <td>0.060000</td>\n",
       "      <td>0.030000</td>\n",
       "      <td>0.030000</td>\n",
       "      <td>0.405000</td>\n",
       "      <td>0.458267</td>\n",
       "    </tr>\n",
       "    <tr>\n",
       "      <th>std</th>\n",
       "      <td>0.357887</td>\n",
       "      <td>0.116415</td>\n",
       "      <td>0.187950</td>\n",
       "      <td>0.0</td>\n",
       "      <td>0.154081</td>\n",
       "      <td>0.362365</td>\n",
       "      <td>0.0</td>\n",
       "      <td>0.0</td>\n",
       "      <td>0.070079</td>\n",
       "      <td>0.0</td>\n",
       "      <td>...</td>\n",
       "      <td>0.0</td>\n",
       "      <td>0.0</td>\n",
       "      <td>0.0</td>\n",
       "      <td>0.222702</td>\n",
       "      <td>1.374038</td>\n",
       "      <td>0.238683</td>\n",
       "      <td>0.171447</td>\n",
       "      <td>0.171447</td>\n",
       "      <td>0.490799</td>\n",
       "      <td>0.296277</td>\n",
       "    </tr>\n",
       "    <tr>\n",
       "      <th>min</th>\n",
       "      <td>0.000000</td>\n",
       "      <td>0.000000</td>\n",
       "      <td>0.000000</td>\n",
       "      <td>0.0</td>\n",
       "      <td>0.000000</td>\n",
       "      <td>0.000000</td>\n",
       "      <td>0.0</td>\n",
       "      <td>0.0</td>\n",
       "      <td>0.000000</td>\n",
       "      <td>0.0</td>\n",
       "      <td>...</td>\n",
       "      <td>0.0</td>\n",
       "      <td>0.0</td>\n",
       "      <td>0.0</td>\n",
       "      <td>0.000000</td>\n",
       "      <td>0.000000</td>\n",
       "      <td>0.000000</td>\n",
       "      <td>0.000000</td>\n",
       "      <td>0.000000</td>\n",
       "      <td>0.000000</td>\n",
       "      <td>0.165178</td>\n",
       "    </tr>\n",
       "    <tr>\n",
       "      <th>25%</th>\n",
       "      <td>0.857559</td>\n",
       "      <td>0.000000</td>\n",
       "      <td>0.000000</td>\n",
       "      <td>0.0</td>\n",
       "      <td>0.000000</td>\n",
       "      <td>0.000000</td>\n",
       "      <td>0.0</td>\n",
       "      <td>0.0</td>\n",
       "      <td>0.000000</td>\n",
       "      <td>0.0</td>\n",
       "      <td>...</td>\n",
       "      <td>0.0</td>\n",
       "      <td>0.0</td>\n",
       "      <td>0.0</td>\n",
       "      <td>0.000000</td>\n",
       "      <td>1.000000</td>\n",
       "      <td>0.000000</td>\n",
       "      <td>0.000000</td>\n",
       "      <td>0.000000</td>\n",
       "      <td>0.000000</td>\n",
       "      <td>0.255988</td>\n",
       "    </tr>\n",
       "    <tr>\n",
       "      <th>50%</th>\n",
       "      <td>1.000000</td>\n",
       "      <td>0.000000</td>\n",
       "      <td>0.000000</td>\n",
       "      <td>0.0</td>\n",
       "      <td>0.000000</td>\n",
       "      <td>0.000000</td>\n",
       "      <td>0.0</td>\n",
       "      <td>0.0</td>\n",
       "      <td>0.000000</td>\n",
       "      <td>0.0</td>\n",
       "      <td>...</td>\n",
       "      <td>0.0</td>\n",
       "      <td>0.0</td>\n",
       "      <td>0.0</td>\n",
       "      <td>0.000000</td>\n",
       "      <td>2.000000</td>\n",
       "      <td>0.000000</td>\n",
       "      <td>0.000000</td>\n",
       "      <td>0.000000</td>\n",
       "      <td>0.000000</td>\n",
       "      <td>0.330108</td>\n",
       "    </tr>\n",
       "    <tr>\n",
       "      <th>75%</th>\n",
       "      <td>1.000000</td>\n",
       "      <td>0.000000</td>\n",
       "      <td>0.000000</td>\n",
       "      <td>0.0</td>\n",
       "      <td>0.000000</td>\n",
       "      <td>0.000000</td>\n",
       "      <td>0.0</td>\n",
       "      <td>0.0</td>\n",
       "      <td>0.000000</td>\n",
       "      <td>0.0</td>\n",
       "      <td>...</td>\n",
       "      <td>0.0</td>\n",
       "      <td>0.0</td>\n",
       "      <td>0.0</td>\n",
       "      <td>0.000000</td>\n",
       "      <td>3.000000</td>\n",
       "      <td>0.000000</td>\n",
       "      <td>0.000000</td>\n",
       "      <td>0.000000</td>\n",
       "      <td>1.000000</td>\n",
       "      <td>0.531379</td>\n",
       "    </tr>\n",
       "    <tr>\n",
       "      <th>max</th>\n",
       "      <td>1.000000</td>\n",
       "      <td>0.882343</td>\n",
       "      <td>1.000000</td>\n",
       "      <td>0.0</td>\n",
       "      <td>1.000000</td>\n",
       "      <td>1.000000</td>\n",
       "      <td>0.0</td>\n",
       "      <td>0.0</td>\n",
       "      <td>0.700791</td>\n",
       "      <td>0.0</td>\n",
       "      <td>...</td>\n",
       "      <td>0.0</td>\n",
       "      <td>0.0</td>\n",
       "      <td>0.0</td>\n",
       "      <td>2.000000</td>\n",
       "      <td>6.000000</td>\n",
       "      <td>1.000000</td>\n",
       "      <td>1.000000</td>\n",
       "      <td>1.000000</td>\n",
       "      <td>1.000000</td>\n",
       "      <td>1.000000</td>\n",
       "    </tr>\n",
       "  </tbody>\n",
       "</table>\n",
       "<p>8 rows × 38 columns</p>\n",
       "</div>"
      ],
      "text/plain": [
       "        NOUN_NOUN    NOUN_ADJ   NOUN_VERB  NOUN_ADV    ADJ_NOUN     ADJ_ADJ  \\\n",
       "count  100.000000  100.000000  100.000000     100.0  100.000000  100.000000   \n",
       "mean     0.800486    0.016507    0.042366       0.0    0.026860    0.157137   \n",
       "std      0.357887    0.116415    0.187950       0.0    0.154081    0.362365   \n",
       "min      0.000000    0.000000    0.000000       0.0    0.000000    0.000000   \n",
       "25%      0.857559    0.000000    0.000000       0.0    0.000000    0.000000   \n",
       "50%      1.000000    0.000000    0.000000       0.0    0.000000    0.000000   \n",
       "75%      1.000000    0.000000    0.000000       0.0    0.000000    0.000000   \n",
       "max      1.000000    0.882343    1.000000       0.0    1.000000    1.000000   \n",
       "\n",
       "       ADJ_VERB  ADJ_ADV   VERB_NOUN  VERB_ADJ  ...  ADV_NOUN_  ADV_ADJ_  \\\n",
       "count     100.0    100.0  100.000000     100.0  ...      100.0     100.0   \n",
       "mean        0.0      0.0    0.007008       0.0  ...        0.0       0.0   \n",
       "std         0.0      0.0    0.070079       0.0  ...        0.0       0.0   \n",
       "min         0.0      0.0    0.000000       0.0  ...        0.0       0.0   \n",
       "25%         0.0      0.0    0.000000       0.0  ...        0.0       0.0   \n",
       "50%         0.0      0.0    0.000000       0.0  ...        0.0       0.0   \n",
       "75%         0.0      0.0    0.000000       0.0  ...        0.0       0.0   \n",
       "max         0.0      0.0    0.700791       0.0  ...        0.0       0.0   \n",
       "\n",
       "       ADV_VERB_    ADV_ADV_   sinonimos   antonimos  hiperonimos   hiponimos  \\\n",
       "count      100.0  100.000000  100.000000  100.000000   100.000000  100.000000   \n",
       "mean         0.0    0.030000    1.970000    0.060000     0.030000    0.030000   \n",
       "std          0.0    0.222702    1.374038    0.238683     0.171447    0.171447   \n",
       "min          0.0    0.000000    0.000000    0.000000     0.000000    0.000000   \n",
       "25%          0.0    0.000000    1.000000    0.000000     0.000000    0.000000   \n",
       "50%          0.0    0.000000    2.000000    0.000000     0.000000    0.000000   \n",
       "75%          0.0    0.000000    3.000000    0.000000     0.000000    0.000000   \n",
       "max          0.0    2.000000    6.000000    1.000000     1.000000    1.000000   \n",
       "\n",
       "        action_wn  sim verbos  \n",
       "count  100.000000  100.000000  \n",
       "mean     0.405000    0.458267  \n",
       "std      0.490799    0.296277  \n",
       "min      0.000000    0.165178  \n",
       "25%      0.000000    0.255988  \n",
       "50%      0.000000    0.330108  \n",
       "75%      1.000000    0.531379  \n",
       "max      1.000000    1.000000  \n",
       "\n",
       "[8 rows x 38 columns]"
      ]
     },
     "execution_count": 416,
     "metadata": {},
     "output_type": "execute_result"
    }
   ],
   "source": [
    "dataframe.describe()"
   ]
  },
  {
   "cell_type": "code",
   "execution_count": 417,
   "metadata": {},
   "outputs": [
    {
     "name": "stdout",
     "output_type": "stream",
     "text": [
      "CLASS\n",
      "contradiction    27\n",
      "entailment       42\n",
      "neutral          31\n",
      "dtype: int64\n"
     ]
    }
   ],
   "source": [
    "print(dataframe.groupby('CLASS').size())"
   ]
  },
  {
   "cell_type": "code",
   "execution_count": 418,
   "metadata": {},
   "outputs": [
    {
     "data": {
      "image/png": "[encoded data removed]",
      "text/plain": [
       "<Figure size 2000x1000 with 42 Axes>"
      ]
     },
     "metadata": {},
     "output_type": "display_data"
    }
   ],
   "source": [
    "dataframe.hist(figsize=(20,10))\n",
    "plt.show()"
   ]
  },
  {
   "cell_type": "code",
   "execution_count": 419,
   "metadata": {},
   "outputs": [],
   "source": [
    "labels=['NOUN_NOUN',\n",
    " 'NOUN_ADJ',\n",
    " 'NOUN_VERB',\n",
    " 'NOUN_ADV',\n",
    " 'ADJ_NOUN',\n",
    " 'ADJ_ADJ',\n",
    " 'ADJ_VERB',\n",
    " 'ADJ_ADV',\n",
    " 'VERB_NOUN',\n",
    " 'VERB_ADJ',\n",
    " 'VERB_VERB',\n",
    " 'VERB_ADV',\n",
    " 'ADV_NOUN',\n",
    " 'ADV_ADJ',\n",
    " 'ADV_VERB',\n",
    " 'ADV_ADV']"
   ]
  },
  {
   "cell_type": "code",
   "execution_count": 420,
   "metadata": {},
   "outputs": [],
   "source": [
    "#sb.pairplot(dataframe.dropna(), hue='CLASS',size=4,vars=labels,kind='reg')"
   ]
  },
  {
   "cell_type": "code",
   "execution_count": 421,
   "metadata": {},
   "outputs": [
    {
     "name": "stderr",
     "output_type": "stream",
     "text": [
      "C:\\Users\\Ninja\\AppData\\Local\\Temp\\ipykernel_27624\\1802400925.py:1: FutureWarning: In a future version of pandas all arguments of DataFrame.drop except for the argument 'labels' will be keyword-only.\n",
      "  X = np.array(dataframe.drop(['CLASS'],1))\n",
      "C:\\Users\\Ninja\\AppData\\Local\\Temp\\ipykernel_27624\\1802400925.py:2: FutureWarning: In a future version of pandas all arguments of DataFrame.drop except for the argument 'labels' will be keyword-only.\n",
      "  X_test = np.array(dataframe.drop(['CLASS'],1))\n"
     ]
    },
    {
     "data": {
      "text/plain": [
       "(100, 38)"
      ]
     },
     "execution_count": 421,
     "metadata": {},
     "output_type": "execute_result"
    }
   ],
   "source": [
    "X = np.array(dataframe.drop(['CLASS'],1))\n",
    "X_test = np.array(dataframe.drop(['CLASS'],1))\n",
    "y = np.array(dataframe['CLASS'])\n",
    "y_test =np.array(dataframe['CLASS'])\n",
    "X.shape"
   ]
  },
  {
   "cell_type": "code",
   "execution_count": 422,
   "metadata": {},
   "outputs": [
    {
     "data": {
      "text/plain": [
       "array(['entailment', 'entailment', 'contradiction', 'contradiction',\n",
       "       'neutral', 'neutral', 'neutral', 'entailment', 'neutral',\n",
       "       'entailment', 'neutral', 'contradiction', 'entailment',\n",
       "       'contradiction', 'neutral', 'neutral', 'entailment',\n",
       "       'contradiction', 'contradiction', 'entailment', 'entailment',\n",
       "       'entailment', 'neutral', 'contradiction', 'entailment', 'neutral',\n",
       "       'entailment', 'entailment', 'entailment', 'neutral', 'neutral',\n",
       "       'contradiction', 'contradiction', 'entailment', 'contradiction',\n",
       "       'neutral', 'entailment', 'neutral', 'neutral', 'entailment',\n",
       "       'neutral', 'neutral', 'contradiction', 'neutral', 'entailment',\n",
       "       'neutral', 'neutral', 'entailment', 'contradiction', 'neutral',\n",
       "       'entailment', 'entailment', 'neutral', 'entailment',\n",
       "       'contradiction', 'entailment', 'entailment', 'neutral', 'neutral',\n",
       "       'neutral', 'neutral', 'neutral', 'neutral', 'entailment',\n",
       "       'entailment', 'contradiction', 'entailment', 'entailment',\n",
       "       'neutral', 'contradiction', 'entailment', 'contradiction',\n",
       "       'contradiction', 'contradiction', 'neutral', 'entailment',\n",
       "       'entailment', 'entailment', 'entailment', 'contradiction',\n",
       "       'neutral', 'entailment', 'entailment', 'entailment',\n",
       "       'contradiction', 'entailment', 'entailment', 'entailment',\n",
       "       'contradiction', 'contradiction', 'contradiction', 'neutral',\n",
       "       'entailment', 'entailment', 'contradiction', 'entailment',\n",
       "       'entailment', 'contradiction', 'contradiction', 'contradiction'],\n",
       "      dtype=object)"
      ]
     },
     "execution_count": 422,
     "metadata": {},
     "output_type": "execute_result"
    }
   ],
   "source": [
    "y_test"
   ]
  },
  {
   "cell_type": "code",
   "execution_count": 423,
   "metadata": {},
   "outputs": [
    {
     "data": {
      "text/plain": [
       "array(['entailment', 'entailment', 'contradiction', 'contradiction',\n",
       "       'neutral', 'neutral', 'neutral', 'entailment', 'neutral',\n",
       "       'entailment', 'neutral', 'contradiction', 'entailment',\n",
       "       'contradiction', 'neutral', 'neutral', 'entailment',\n",
       "       'contradiction', 'contradiction', 'entailment', 'entailment',\n",
       "       'entailment', 'neutral', 'contradiction', 'entailment', 'neutral',\n",
       "       'entailment', 'entailment', 'entailment', 'neutral', 'neutral',\n",
       "       'contradiction', 'contradiction', 'entailment', 'contradiction',\n",
       "       'neutral', 'entailment', 'neutral', 'neutral', 'entailment',\n",
       "       'neutral', 'neutral', 'contradiction', 'neutral', 'entailment',\n",
       "       'neutral', 'neutral', 'entailment', 'contradiction', 'neutral',\n",
       "       'entailment', 'entailment', 'neutral', 'entailment',\n",
       "       'contradiction', 'entailment', 'entailment', 'neutral', 'neutral',\n",
       "       'neutral', 'neutral', 'neutral', 'neutral', 'entailment',\n",
       "       'entailment', 'contradiction', 'entailment', 'entailment',\n",
       "       'neutral', 'contradiction', 'entailment', 'contradiction',\n",
       "       'contradiction', 'contradiction', 'neutral', 'entailment',\n",
       "       'entailment', 'entailment', 'entailment', 'contradiction',\n",
       "       'neutral', 'entailment', 'entailment', 'entailment',\n",
       "       'contradiction', 'entailment', 'entailment', 'entailment',\n",
       "       'contradiction', 'contradiction', 'contradiction', 'neutral',\n",
       "       'entailment', 'entailment', 'contradiction', 'entailment',\n",
       "       'entailment', 'contradiction', 'contradiction', 'contradiction'],\n",
       "      dtype=object)"
      ]
     },
     "execution_count": 423,
     "metadata": {},
     "output_type": "execute_result"
    }
   ],
   "source": [
    "y"
   ]
  },
  {
   "cell_type": "code",
   "execution_count": 424,
   "metadata": {},
   "outputs": [
    {
     "data": {
      "text/plain": [
       "LogisticRegression(C=0.1)"
      ]
     },
     "execution_count": 424,
     "metadata": {},
     "output_type": "execute_result"
    }
   ],
   "source": [
    "model = linear_model.LogisticRegression(penalty=\"l2\", C=0.1)\n",
    "model.fit(X,y)"
   ]
  },
  {
   "cell_type": "code",
   "execution_count": 425,
   "metadata": {},
   "outputs": [
    {
     "data": {
      "text/plain": [
       "{'C': 0.1,\n",
       " 'class_weight': None,\n",
       " 'dual': False,\n",
       " 'fit_intercept': True,\n",
       " 'intercept_scaling': 1,\n",
       " 'l1_ratio': None,\n",
       " 'max_iter': 100,\n",
       " 'multi_class': 'auto',\n",
       " 'n_jobs': None,\n",
       " 'penalty': 'l2',\n",
       " 'random_state': None,\n",
       " 'solver': 'lbfgs',\n",
       " 'tol': 0.0001,\n",
       " 'verbose': 0,\n",
       " 'warm_start': False}"
      ]
     },
     "execution_count": 425,
     "metadata": {},
     "output_type": "execute_result"
    }
   ],
   "source": [
    "model.get_params()"
   ]
  },
  {
   "cell_type": "code",
   "execution_count": 426,
   "metadata": {},
   "outputs": [
    {
     "data": {
      "text/plain": [
       "array([[ 3.43410205e-01, -1.85387909e-01, -1.58022297e-01],\n",
       "       [-1.17638627e+00,  8.82376446e-01,  2.94009819e-01],\n",
       "       [ 2.71727421e-02, -1.35439828e-01,  1.08267086e-01],\n",
       "       [ 1.96847475e-01,  4.70666261e-01, -6.67513736e-01],\n",
       "       [-4.00114167e-01,  2.61786536e-01,  1.38327630e-01],\n",
       "       [-6.30356873e-02,  4.96540103e-01, -4.33504416e-01],\n",
       "       [-8.89569986e-01,  1.17765488e+00, -2.88084893e-01],\n",
       "       [-9.64843581e-01,  8.37605857e-01,  1.27237724e-01],\n",
       "       [ 1.84419469e-02, -1.23396381e-01,  1.04954434e-01],\n",
       "       [-1.31183116e+00,  1.52453466e+00, -2.12703504e-01],\n",
       "       [-8.17670085e-01,  7.51175498e-01,  6.64945873e-02],\n",
       "       [ 4.24480726e-01, -3.55161581e-01, -6.93191459e-02],\n",
       "       [ 7.80061639e-02,  3.62932515e-01, -4.40938679e-01],\n",
       "       [ 2.73415712e-02, -1.35671903e-01,  1.08330332e-01],\n",
       "       [-6.34797410e-01,  3.11071106e-01,  3.23726304e-01],\n",
       "       [-3.98132181e-01,  2.59062066e-01,  1.39070115e-01],\n",
       "       [-3.28807374e-01,  5.54323344e-01, -2.25515970e-01],\n",
       "       [ 3.11319131e-02, -1.40882170e-01,  1.09750257e-01],\n",
       "       [-2.71444407e-02,  1.94766665e-01, -1.67622224e-01],\n",
       "       [-3.60670242e-01,  1.03127083e+00, -6.70600586e-01],\n",
       "       [-3.97259448e-01,  2.57862392e-01,  1.39397056e-01],\n",
       "       [-4.38006057e-01,  7.47036301e-01, -3.09030244e-01],\n",
       "       [ 2.67533094e-02, -1.34863269e-01,  1.08109959e-01],\n",
       "       [ 4.26740553e-03,  3.23044475e-02, -3.65718530e-02],\n",
       "       [-7.38742131e-01,  1.10516397e+00, -3.66421834e-01],\n",
       "       [-9.79194341e-01,  2.37138695e-03,  9.76822955e-01],\n",
       "       [ 2.36524889e-02, -1.30600829e-01,  1.06948340e-01],\n",
       "       [-8.26629002e-01,  6.57951596e-01,  1.68677407e-01],\n",
       "       [ 3.74064624e-01, -4.21928194e-01,  4.78635695e-02],\n",
       "       [ 3.05111575e-02, -1.40028869e-01,  1.09517712e-01],\n",
       "       [-4.82943874e-01, -1.90168903e-01,  6.73112777e-01],\n",
       "       [ 1.91423631e-01, -3.25568391e-02, -1.58866792e-01],\n",
       "       [-8.92494977e-03,  1.86663432e-01, -1.77738482e-01],\n",
       "       [ 3.75405337e-01, -3.12732335e-01, -6.26730023e-02],\n",
       "       [ 2.75449186e-02, -1.35951428e-01,  1.08406509e-01],\n",
       "       [-4.84640484e-01,  4.19470764e-01,  6.51697198e-02],\n",
       "       [-3.99773829e-01,  2.61318702e-01,  1.38455127e-01],\n",
       "       [ 3.95523563e-01, -4.51426008e-01,  5.59024451e-02],\n",
       "       [-1.49414179e+00,  1.79325053e-01,  1.31481674e+00],\n",
       "       [-3.31452719e-01,  7.11072710e-01, -3.79619992e-01],\n",
       "       [ 3.06772980e-02, -1.40257249e-01,  1.09579951e-01],\n",
       "       [-9.10136917e-01,  2.06949831e-01,  7.03187086e-01],\n",
       "       [-4.37874134e-01,  7.46854959e-01, -3.08980824e-01],\n",
       "       [-1.42633909e-02,  5.78197613e-02, -4.35563703e-02],\n",
       "       [ 2.85223973e-02, -1.37295087e-01,  1.08772689e-01],\n",
       "       [-3.95183054e-01,  2.55008147e-01,  1.40174907e-01],\n",
       "       [-3.94881472e-01,  2.54593587e-01,  1.40287885e-01],\n",
       "       [-5.73738001e-01,  1.01320673e+00, -4.39468733e-01],\n",
       "       [ 3.08269905e-02, -1.40463019e-01,  1.09636028e-01],\n",
       "       [-4.19594383e-01,  2.88564366e-01,  1.31030017e-01],\n",
       "       [-5.05526273e-01,  9.04432996e-01, -3.98906723e-01],\n",
       "       [-1.46641726e+00,  1.37236416e+00,  9.40531024e-02],\n",
       "       [ 3.93392464e-01, -4.48496564e-01,  5.51041001e-02],\n",
       "       [ 8.08243887e-03, -1.09197979e-01,  1.01115540e-01],\n",
       "       [-5.77633731e-02,  3.54866528e-01, -2.97103155e-01],\n",
       "       [-4.51981175e-01,  9.02481539e-01, -4.50500364e-01],\n",
       "       [ 8.08243887e-03, -1.09197979e-01,  1.01115540e-01],\n",
       "       [ 8.08243887e-03, -1.09197979e-01,  1.01115540e-01],\n",
       "       [ 2.79704246e-02, -1.36536336e-01,  1.08565911e-01],\n",
       "       [-9.42935470e-01,  6.85176829e-01,  2.57758641e-01],\n",
       "       [-4.02981533e-01,  2.65741736e-01,  1.37239797e-01],\n",
       "       [ 3.08753063e-02, -1.40529434e-01,  1.09654128e-01],\n",
       "       [-7.19156063e-01,  1.07824060e+00, -3.59084538e-01],\n",
       "       [ 3.25432797e-02, -1.42822258e-01,  1.10278979e-01],\n",
       "       [-1.87031021e+00,  9.91980264e-01,  8.78329942e-01],\n",
       "       [-4.75900909e-01,  7.55682165e-01, -2.79781256e-01],\n",
       "       [-7.29389378e-01,  1.07110663e+00, -3.41717249e-01],\n",
       "       [-7.73920416e-02,  2.02898658e-01, -1.25506616e-01],\n",
       "       [ 3.74064624e-01, -4.21928194e-01,  4.78635695e-02],\n",
       "       [ 1.14345675e-01, -9.47688012e-04, -1.13397987e-01],\n",
       "       [-4.41426220e-01,  7.51758690e-01, -3.10332470e-01],\n",
       "       [ 5.34047625e-01, -3.87718326e-01, -1.46329299e-01],\n",
       "       [ 9.09429293e-02,  1.32631066e-01, -2.23573996e-01],\n",
       "       [ 3.92520007e-01, -4.47297270e-01,  5.47772632e-02],\n",
       "       [-1.93517250e-01, -6.74562698e-01,  8.68079948e-01],\n",
       "       [-5.15758702e-01,  2.88101830e-01,  2.27656872e-01],\n",
       "       [-2.92063683e-01,  6.81281675e-01, -3.89217992e-01],\n",
       "       [-4.64946807e-01,  7.84101334e-01, -3.19154528e-01],\n",
       "       [-6.02448058e-02,  3.52156119e-01, -2.91911313e-01],\n",
       "       [-4.77489536e-01,  9.37559422e-01, -4.60069886e-01],\n",
       "       [ 3.28901003e-01, -4.78795722e-01,  1.49894719e-01],\n",
       "       [-7.41746015e-03,  3.45271382e-01, -3.37853922e-01],\n",
       "       [ 3.97481578e-01, -4.54117529e-01,  5.66359504e-02],\n",
       "       [-4.64946828e-01,  7.84101334e-01, -3.19154507e-01],\n",
       "       [ 4.82483190e-01,  1.16309129e-01, -5.98792319e-01],\n",
       "       [-1.85308822e+00,  1.96475130e+00, -1.11663078e-01],\n",
       "       [-4.56244554e-01,  7.72107273e-01, -3.15862718e-01],\n",
       "       [-4.03406056e-01,  2.66338283e-01,  1.37067773e-01],\n",
       "       [ 2.94101681e-02, -1.38515431e-01,  1.09105263e-01],\n",
       "       [-2.13276616e-01,  1.71608827e-01,  4.16677897e-02],\n",
       "       [ 3.74064624e-01, -4.21928194e-01,  4.78635695e-02],\n",
       "       [-3.95948721e-01,  2.56060645e-01,  1.39888076e-01],\n",
       "       [-2.37183676e-02,  5.03913688e-01, -4.80195321e-01],\n",
       "       [-8.24637527e-01,  6.55214080e-01,  1.69423446e-01],\n",
       "       [ 3.93952610e-01, -4.49266550e-01,  5.53139402e-02],\n",
       "       [ 3.37414468e-01,  6.16146917e-02, -3.99029160e-01],\n",
       "       [-4.59581713e-01,  4.34135870e-01,  2.54458426e-02],\n",
       "       [ 3.98012647e-01, -4.54847545e-01,  5.68348976e-02],\n",
       "       [-8.31909036e-03,  3.46510778e-01, -3.38191687e-01],\n",
       "       [ 3.04173762e-02, -1.39899956e-01,  1.09482580e-01]])"
      ]
     },
     "execution_count": 426,
     "metadata": {},
     "output_type": "execute_result"
    }
   ],
   "source": [
    "model.decision_function(X)"
   ]
  },
  {
   "cell_type": "code",
   "execution_count": 427,
   "metadata": {},
   "outputs": [],
   "source": [
    "labels=dataframe.columns[1:]"
   ]
  },
  {
   "cell_type": "code",
   "execution_count": 428,
   "metadata": {},
   "outputs": [
    {
     "data": {
      "text/plain": [
       "array(['contradiction', 'entailment', 'neutral'], dtype=object)"
      ]
     },
     "execution_count": 428,
     "metadata": {},
     "output_type": "execute_result"
    }
   ],
   "source": [
    "model.classes_"
   ]
  },
  {
   "cell_type": "code",
   "execution_count": 429,
   "metadata": {},
   "outputs": [],
   "source": [
    "contradiction=model.coef_[0]\n",
    "entailment=model.coef_[1]\n",
    "neutral=model.coef_[2]"
   ]
  },
  {
   "cell_type": "code",
   "execution_count": 430,
   "metadata": {},
   "outputs": [
    {
     "name": "stdout",
     "output_type": "stream",
     "text": [
      "Contradiction  10 VERB_ADV 32 antonimos\n",
      "Entailment  32 antonimos 21 ADJ_VERB_\n",
      "Neutral  21 ADJ_VERB_ 26 VERB_ADV_\n"
     ]
    }
   ],
   "source": [
    "print(\"Contradiction \",np.argmax(contradiction),labels[np.argmax(contradiction)],np.argmin(contradiction),labels[np.argmin(contradiction)])\n",
    "print(\"Entailment \",np.argmax(entailment),labels[np.argmax(entailment)],np.argmin(entailment),labels[np.argmin(entailment)])\n",
    "print(\"Neutral \",np.argmax(neutral),labels[np.argmax(neutral)],np.argmin(neutral),labels[np.argmin(neutral)])"
   ]
  },
  {
   "cell_type": "code",
   "execution_count": 431,
   "metadata": {},
   "outputs": [],
   "source": [
    "n_columns=dataframe.shape[1]-1"
   ]
  },
  {
   "cell_type": "code",
   "execution_count": 432,
   "metadata": {},
   "outputs": [
    {
     "data": {
      "image/png": "[encoded data removed]",
      "text/plain": [
       "<Figure size 640x480 with 1 Axes>"
      ]
     },
     "metadata": {},
     "output_type": "display_data"
    }
   ],
   "source": [
    "import matplotlib.pyplot as plt\n",
    "import numpy as np\n",
    "\n",
    "x_v = np.arange(0,n_columns,1)\n",
    "y_v = contradiction\n",
    "\n",
    "plt.bar(x_v,y_v)\n",
    "plt.xlabel('x')\n",
    "plt.ylabel('y')\n",
    "plt.title('Contradiction')\n",
    "plt.show()"
   ]
  },
  {
   "cell_type": "code",
   "execution_count": 433,
   "metadata": {},
   "outputs": [
    {
     "data": {
      "image/png": "[encoded data removed]",
      "text/plain": [
       "<Figure size 640x480 with 1 Axes>"
      ]
     },
     "metadata": {},
     "output_type": "display_data"
    }
   ],
   "source": [
    "x_v = np.arange(0,n_columns,1)\n",
    "y_v = entailment\n",
    "\n",
    "plt.bar(x_v,y_v)\n",
    "plt.xlabel('x')\n",
    "plt.ylabel('y')\n",
    "plt.title('Entailment')\n",
    "plt.show()"
   ]
  },
  {
   "cell_type": "code",
   "execution_count": 434,
   "metadata": {},
   "outputs": [
    {
     "data": {
      "image/png": "[encoded data removed]",
      "text/plain": [
       "<Figure size 640x480 with 1 Axes>"
      ]
     },
     "metadata": {},
     "output_type": "display_data"
    }
   ],
   "source": [
    "x_v = np.arange(0,n_columns,1)\n",
    "y_v = neutral\n",
    "\n",
    "plt.bar(x_v,y_v)\n",
    "plt.xlabel('x')\n",
    "plt.ylabel('y')\n",
    "plt.title('Neutral')\n",
    "plt.show()"
   ]
  },
  {
   "cell_type": "code",
   "execution_count": 435,
   "metadata": {},
   "outputs": [
    {
     "name": "stdout",
     "output_type": "stream",
     "text": [
      "['contradiction' 'entailment' 'neutral' 'entailment' 'entailment'\n",
      " 'entailment' 'entailment' 'entailment' 'neutral' 'entailment'\n",
      " 'entailment' 'contradiction' 'entailment' 'neutral' 'neutral'\n",
      " 'entailment' 'entailment' 'neutral' 'entailment' 'entailment'\n",
      " 'entailment' 'entailment' 'neutral' 'entailment' 'entailment' 'neutral'\n",
      " 'neutral' 'entailment' 'contradiction' 'neutral' 'neutral'\n",
      " 'contradiction' 'entailment' 'contradiction' 'neutral' 'entailment'\n",
      " 'entailment' 'contradiction' 'neutral' 'entailment' 'neutral' 'neutral'\n",
      " 'entailment' 'entailment' 'neutral' 'entailment' 'entailment'\n",
      " 'entailment' 'neutral' 'entailment' 'entailment' 'entailment'\n",
      " 'contradiction' 'neutral' 'entailment' 'entailment' 'neutral' 'neutral'\n",
      " 'neutral' 'entailment' 'entailment' 'neutral' 'entailment' 'neutral'\n",
      " 'entailment' 'entailment' 'entailment' 'entailment' 'contradiction'\n",
      " 'contradiction' 'entailment' 'contradiction' 'entailment' 'contradiction'\n",
      " 'neutral' 'entailment' 'entailment' 'entailment' 'entailment'\n",
      " 'entailment' 'contradiction' 'entailment' 'contradiction' 'entailment'\n",
      " 'contradiction' 'entailment' 'entailment' 'entailment' 'neutral'\n",
      " 'entailment' 'contradiction' 'entailment' 'entailment' 'entailment'\n",
      " 'contradiction' 'contradiction' 'entailment' 'contradiction' 'entailment'\n",
      " 'neutral']\n"
     ]
    }
   ],
   "source": [
    "predictions = model.predict(X)\n",
    "print(predictions)"
   ]
  },
  {
   "cell_type": "code",
   "execution_count": 436,
   "metadata": {},
   "outputs": [
    {
     "data": {
      "text/plain": [
       "array(['entailment', 'entailment', 'contradiction', 'contradiction',\n",
       "       'neutral', 'neutral', 'neutral', 'entailment', 'neutral',\n",
       "       'entailment', 'neutral', 'contradiction', 'entailment',\n",
       "       'contradiction', 'neutral', 'neutral', 'entailment',\n",
       "       'contradiction', 'contradiction', 'entailment', 'entailment',\n",
       "       'entailment', 'neutral', 'contradiction', 'entailment', 'neutral',\n",
       "       'entailment', 'entailment', 'entailment', 'neutral', 'neutral',\n",
       "       'contradiction', 'contradiction', 'entailment', 'contradiction',\n",
       "       'neutral', 'entailment', 'neutral', 'neutral', 'entailment',\n",
       "       'neutral', 'neutral', 'contradiction', 'neutral', 'entailment',\n",
       "       'neutral', 'neutral', 'entailment', 'contradiction', 'neutral',\n",
       "       'entailment', 'entailment', 'neutral', 'entailment',\n",
       "       'contradiction', 'entailment', 'entailment', 'neutral', 'neutral',\n",
       "       'neutral', 'neutral', 'neutral', 'neutral', 'entailment',\n",
       "       'entailment', 'contradiction', 'entailment', 'entailment',\n",
       "       'neutral', 'contradiction', 'entailment', 'contradiction',\n",
       "       'contradiction', 'contradiction', 'neutral', 'entailment',\n",
       "       'entailment', 'entailment', 'entailment', 'contradiction',\n",
       "       'neutral', 'entailment', 'entailment', 'entailment',\n",
       "       'contradiction', 'entailment', 'entailment', 'entailment',\n",
       "       'contradiction', 'contradiction', 'contradiction', 'neutral',\n",
       "       'entailment', 'entailment', 'contradiction', 'entailment',\n",
       "       'entailment', 'contradiction', 'contradiction', 'contradiction'],\n",
       "      dtype=object)"
      ]
     },
     "execution_count": 436,
     "metadata": {},
     "output_type": "execute_result"
    }
   ],
   "source": [
    "y"
   ]
  },
  {
   "cell_type": "code",
   "execution_count": 437,
   "metadata": {},
   "outputs": [
    {
     "data": {
      "text/plain": [
       "array([[0.73873556, 0.        , 0.        , ..., 0.        , 0.        ,\n",
       "        0.16517779],\n",
       "       [0.90226305, 0.        , 0.        , ..., 0.        , 1.        ,\n",
       "        0.79841626],\n",
       "       [0.99999994, 0.        , 0.        , ..., 0.        , 0.        ,\n",
       "        0.36080334],\n",
       "       ...,\n",
       "       [0.        , 0.        , 0.        , ..., 0.        , 0.        ,\n",
       "        0.19815345],\n",
       "       [1.00000012, 0.        , 0.        , ..., 0.        , 1.        ,\n",
       "        0.32201928],\n",
       "       [0.99999982, 0.        , 0.        , ..., 0.        , 0.        ,\n",
       "        0.25216368]])"
      ]
     },
     "execution_count": 437,
     "metadata": {},
     "output_type": "execute_result"
    }
   ],
   "source": [
    "X"
   ]
  },
  {
   "cell_type": "code",
   "execution_count": 438,
   "metadata": {},
   "outputs": [
    {
     "data": {
      "text/plain": [
       "0.54"
      ]
     },
     "execution_count": 438,
     "metadata": {},
     "output_type": "execute_result"
    }
   ],
   "source": [
    "model.score(X,y)"
   ]
  },
  {
   "cell_type": "code",
   "execution_count": 439,
   "metadata": {},
   "outputs": [
    {
     "name": "stdout",
     "output_type": "stream",
     "text": [
      "[[ 9 11  7]\n",
      " [ 5 32  5]\n",
      " [ 4 14 13]]\n"
     ]
    }
   ],
   "source": [
    "print(confusion_matrix(y, predictions))"
   ]
  },
  {
   "cell_type": "code",
   "execution_count": 440,
   "metadata": {},
   "outputs": [
    {
     "name": "stdout",
     "output_type": "stream",
     "text": [
      "[0.4        0.64646465 0.46428571]\n"
     ]
    }
   ],
   "source": [
    "print(f1_score(y,predictions, average=None))"
   ]
  },
  {
   "cell_type": "code",
   "execution_count": 441,
   "metadata": {},
   "outputs": [],
   "source": [
    "validation_size = 0.20\n",
    "seed = 7\n",
    "X_train, X_validation, Y_train, Y_validation = model_selection.train_test_split(X, y, test_size=validation_size)"
   ]
  },
  {
   "cell_type": "code",
   "execution_count": 442,
   "metadata": {},
   "outputs": [
    {
     "name": "stdout",
     "output_type": "stream",
     "text": [
      "Logistic Regression: 0.487500 (0.230149)\n"
     ]
    }
   ],
   "source": [
    "name='Logistic Regression'\n",
    "kfold = model_selection.KFold(n_splits=20)\n",
    "cv_results = model_selection.cross_val_score(model, X_train, Y_train, cv=kfold, scoring='accuracy')\n",
    "msg = \"%s: %f (%f)\" % (name, cv_results.mean(), cv_results.std())\n",
    "print(msg)"
   ]
  },
  {
   "cell_type": "code",
   "execution_count": 443,
   "metadata": {},
   "outputs": [
    {
     "name": "stdout",
     "output_type": "stream",
     "text": [
      "0.55\n"
     ]
    }
   ],
   "source": [
    "predictions = model.predict(X_validation)\n",
    "print(accuracy_score(Y_validation, predictions))"
   ]
  },
  {
   "cell_type": "code",
   "execution_count": 444,
   "metadata": {},
   "outputs": [
    {
     "name": "stdout",
     "output_type": "stream",
     "text": [
      "[[1 2 1]\n",
      " [1 5 1]\n",
      " [0 4 5]]\n"
     ]
    }
   ],
   "source": [
    "print(confusion_matrix(Y_validation, predictions))"
   ]
  },
  {
   "cell_type": "code",
   "execution_count": 445,
   "metadata": {},
   "outputs": [
    {
     "name": "stdout",
     "output_type": "stream",
     "text": [
      "               precision    recall  f1-score   support\n",
      "\n",
      "contradiction       0.50      0.25      0.33         4\n",
      "   entailment       0.45      0.71      0.56         7\n",
      "      neutral       0.71      0.56      0.63         9\n",
      "\n",
      "     accuracy                           0.55        20\n",
      "    macro avg       0.56      0.51      0.50        20\n",
      " weighted avg       0.58      0.55      0.54        20\n",
      "\n"
     ]
    }
   ],
   "source": [
    "print(classification_report(Y_validation, predictions))"
   ]
  },
  {
   "cell_type": "code",
   "execution_count": 446,
   "metadata": {},
   "outputs": [],
   "source": [
    "#X_new = pd.DataFrame()\n",
    "#model.predict(X_new)"
   ]
  }
 ],
 "metadata": {
  "kernelspec": {
   "display_name": "Python 3",
   "language": "python",
   "name": "python3"
  },
  "language_info": {
   "codemirror_mode": {
    "name": "ipython",
    "version": 3
   },
   "file_extension": ".py",
   "mimetype": "text/x-python",
   "name": "python",
   "nbconvert_exporter": "python",
   "pygments_lexer": "ipython3",
   "version": "3.9.13"
  }
 },
 "nbformat": 4,
 "nbformat_minor": 2
}
