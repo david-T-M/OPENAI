{
 "cells": [
  {
   "cell_type": "code",
   "execution_count": 811,
   "metadata": {},
   "outputs": [],
   "source": [
    "import pandas as pd\n",
    "import numpy as np\n",
    "from sklearn import linear_model\n",
    "from sklearn import model_selection\n",
    "from sklearn.metrics import classification_report\n",
    "from sklearn.metrics import confusion_matrix\n",
    "from sklearn.metrics import f1_score\n",
    "from sklearn.metrics import accuracy_score\n",
    "import matplotlib.pyplot as plt\n",
    "import seaborn as sb"
   ]
  },
  {
   "cell_type": "code",
   "execution_count": 812,
   "metadata": {},
   "outputs": [
    {
     "data": {
      "text/html": [
       "<div>\n",
       "<style scoped>\n",
       "    .dataframe tbody tr th:only-of-type {\n",
       "        vertical-align: middle;\n",
       "    }\n",
       "\n",
       "    .dataframe tbody tr th {\n",
       "        vertical-align: top;\n",
       "    }\n",
       "\n",
       "    .dataframe thead th {\n",
       "        text-align: right;\n",
       "    }\n",
       "</style>\n",
       "<table border=\"1\" class=\"dataframe\">\n",
       "  <thead>\n",
       "    <tr style=\"text-align: right;\">\n",
       "      <th></th>\n",
       "      <th>NOUN_NOUN</th>\n",
       "      <th>NOUN_ADJ</th>\n",
       "      <th>NOUN_ADV</th>\n",
       "      <th>ADJ_NOUN</th>\n",
       "      <th>ADJ_ADJ</th>\n",
       "      <th>ADJ_ADV</th>\n",
       "      <th>ADV_NOUN</th>\n",
       "      <th>ADV_ADJ</th>\n",
       "      <th>ADV_ADV</th>\n",
       "      <th>sinonimos</th>\n",
       "      <th>antonimos</th>\n",
       "      <th>is_a</th>\n",
       "      <th>action_sim_nlp</th>\n",
       "      <th>distancia_euc</th>\n",
       "      <th>suma_info</th>\n",
       "      <th>suma_max_simi</th>\n",
       "      <th>CLASS</th>\n",
       "    </tr>\n",
       "  </thead>\n",
       "  <tbody>\n",
       "    <tr>\n",
       "      <th>0</th>\n",
       "      <td>0.336712</td>\n",
       "      <td>0.303363</td>\n",
       "      <td>0.000000</td>\n",
       "      <td>0.102473</td>\n",
       "      <td>0.000000</td>\n",
       "      <td>0.000000</td>\n",
       "      <td>0.000000</td>\n",
       "      <td>0.0</td>\n",
       "      <td>0.0</td>\n",
       "      <td>0</td>\n",
       "      <td>0</td>\n",
       "      <td>1</td>\n",
       "      <td>0.272841</td>\n",
       "      <td>6.524279</td>\n",
       "      <td>13.284535</td>\n",
       "      <td>2.697227</td>\n",
       "      <td>entailment</td>\n",
       "    </tr>\n",
       "    <tr>\n",
       "      <th>1</th>\n",
       "      <td>0.609988</td>\n",
       "      <td>0.472324</td>\n",
       "      <td>0.000000</td>\n",
       "      <td>0.424633</td>\n",
       "      <td>0.869893</td>\n",
       "      <td>0.000000</td>\n",
       "      <td>0.000000</td>\n",
       "      <td>0.0</td>\n",
       "      <td>0.0</td>\n",
       "      <td>5</td>\n",
       "      <td>0</td>\n",
       "      <td>2</td>\n",
       "      <td>0.159916</td>\n",
       "      <td>2.310604</td>\n",
       "      <td>23.873234</td>\n",
       "      <td>4.924438</td>\n",
       "      <td>entailment</td>\n",
       "    </tr>\n",
       "    <tr>\n",
       "      <th>2</th>\n",
       "      <td>0.404836</td>\n",
       "      <td>0.409299</td>\n",
       "      <td>0.000000</td>\n",
       "      <td>0.406516</td>\n",
       "      <td>0.440236</td>\n",
       "      <td>0.000000</td>\n",
       "      <td>0.000000</td>\n",
       "      <td>0.0</td>\n",
       "      <td>0.0</td>\n",
       "      <td>2</td>\n",
       "      <td>0</td>\n",
       "      <td>0</td>\n",
       "      <td>0.256307</td>\n",
       "      <td>5.360355</td>\n",
       "      <td>11.503313</td>\n",
       "      <td>2.209444</td>\n",
       "      <td>contradiction</td>\n",
       "    </tr>\n",
       "    <tr>\n",
       "      <th>3</th>\n",
       "      <td>0.418081</td>\n",
       "      <td>0.000000</td>\n",
       "      <td>0.000000</td>\n",
       "      <td>0.385873</td>\n",
       "      <td>0.000000</td>\n",
       "      <td>0.000000</td>\n",
       "      <td>0.000000</td>\n",
       "      <td>0.0</td>\n",
       "      <td>0.0</td>\n",
       "      <td>0</td>\n",
       "      <td>0</td>\n",
       "      <td>0</td>\n",
       "      <td>1.000000</td>\n",
       "      <td>2.845385</td>\n",
       "      <td>9.888334</td>\n",
       "      <td>1.457576</td>\n",
       "      <td>contradiction</td>\n",
       "    </tr>\n",
       "    <tr>\n",
       "      <th>4</th>\n",
       "      <td>0.646680</td>\n",
       "      <td>0.000000</td>\n",
       "      <td>0.000000</td>\n",
       "      <td>0.000000</td>\n",
       "      <td>0.000000</td>\n",
       "      <td>0.000000</td>\n",
       "      <td>0.323928</td>\n",
       "      <td>0.0</td>\n",
       "      <td>0.0</td>\n",
       "      <td>2</td>\n",
       "      <td>0</td>\n",
       "      <td>0</td>\n",
       "      <td>0.465413</td>\n",
       "      <td>3.080132</td>\n",
       "      <td>7.184703</td>\n",
       "      <td>2.859084</td>\n",
       "      <td>neutral</td>\n",
       "    </tr>\n",
       "    <tr>\n",
       "      <th>...</th>\n",
       "      <td>...</td>\n",
       "      <td>...</td>\n",
       "      <td>...</td>\n",
       "      <td>...</td>\n",
       "      <td>...</td>\n",
       "      <td>...</td>\n",
       "      <td>...</td>\n",
       "      <td>...</td>\n",
       "      <td>...</td>\n",
       "      <td>...</td>\n",
       "      <td>...</td>\n",
       "      <td>...</td>\n",
       "      <td>...</td>\n",
       "      <td>...</td>\n",
       "      <td>...</td>\n",
       "      <td>...</td>\n",
       "      <td>...</td>\n",
       "    </tr>\n",
       "    <tr>\n",
       "      <th>95</th>\n",
       "      <td>0.425643</td>\n",
       "      <td>0.412827</td>\n",
       "      <td>0.455184</td>\n",
       "      <td>0.362079</td>\n",
       "      <td>0.504415</td>\n",
       "      <td>0.000000</td>\n",
       "      <td>0.000000</td>\n",
       "      <td>0.0</td>\n",
       "      <td>0.0</td>\n",
       "      <td>0</td>\n",
       "      <td>0</td>\n",
       "      <td>1</td>\n",
       "      <td>0.110635</td>\n",
       "      <td>4.883518</td>\n",
       "      <td>19.256735</td>\n",
       "      <td>3.609311</td>\n",
       "      <td>entailment</td>\n",
       "    </tr>\n",
       "    <tr>\n",
       "      <th>96</th>\n",
       "      <td>1.000000</td>\n",
       "      <td>0.000000</td>\n",
       "      <td>0.000000</td>\n",
       "      <td>0.768382</td>\n",
       "      <td>0.000000</td>\n",
       "      <td>0.000000</td>\n",
       "      <td>0.000000</td>\n",
       "      <td>0.0</td>\n",
       "      <td>0.0</td>\n",
       "      <td>2</td>\n",
       "      <td>0</td>\n",
       "      <td>1</td>\n",
       "      <td>0.652412</td>\n",
       "      <td>4.656574</td>\n",
       "      <td>6.084509</td>\n",
       "      <td>2.664728</td>\n",
       "      <td>entailment</td>\n",
       "    </tr>\n",
       "    <tr>\n",
       "      <th>97</th>\n",
       "      <td>0.355083</td>\n",
       "      <td>0.000000</td>\n",
       "      <td>0.000000</td>\n",
       "      <td>0.000000</td>\n",
       "      <td>0.000000</td>\n",
       "      <td>0.000000</td>\n",
       "      <td>0.000000</td>\n",
       "      <td>0.0</td>\n",
       "      <td>0.0</td>\n",
       "      <td>0</td>\n",
       "      <td>0</td>\n",
       "      <td>0</td>\n",
       "      <td>0.467361</td>\n",
       "      <td>6.902841</td>\n",
       "      <td>3.825182</td>\n",
       "      <td>1.006833</td>\n",
       "      <td>contradiction</td>\n",
       "    </tr>\n",
       "    <tr>\n",
       "      <th>98</th>\n",
       "      <td>0.658487</td>\n",
       "      <td>0.000000</td>\n",
       "      <td>0.000000</td>\n",
       "      <td>0.000000</td>\n",
       "      <td>0.000000</td>\n",
       "      <td>0.000000</td>\n",
       "      <td>0.000000</td>\n",
       "      <td>0.0</td>\n",
       "      <td>0.0</td>\n",
       "      <td>0</td>\n",
       "      <td>0</td>\n",
       "      <td>0</td>\n",
       "      <td>0.479299</td>\n",
       "      <td>4.725261</td>\n",
       "      <td>3.457137</td>\n",
       "      <td>1.828981</td>\n",
       "      <td>contradiction</td>\n",
       "    </tr>\n",
       "    <tr>\n",
       "      <th>99</th>\n",
       "      <td>0.339205</td>\n",
       "      <td>0.000000</td>\n",
       "      <td>0.374999</td>\n",
       "      <td>0.434092</td>\n",
       "      <td>0.000000</td>\n",
       "      <td>0.464549</td>\n",
       "      <td>0.000000</td>\n",
       "      <td>0.0</td>\n",
       "      <td>0.0</td>\n",
       "      <td>4</td>\n",
       "      <td>0</td>\n",
       "      <td>0</td>\n",
       "      <td>0.479299</td>\n",
       "      <td>4.799351</td>\n",
       "      <td>8.602762</td>\n",
       "      <td>1.553052</td>\n",
       "      <td>contradiction</td>\n",
       "    </tr>\n",
       "  </tbody>\n",
       "</table>\n",
       "<p>100 rows × 17 columns</p>\n",
       "</div>"
      ],
      "text/plain": [
       "    NOUN_NOUN  NOUN_ADJ  NOUN_ADV  ADJ_NOUN   ADJ_ADJ   ADJ_ADV  ADV_NOUN  \\\n",
       "0    0.336712  0.303363  0.000000  0.102473  0.000000  0.000000  0.000000   \n",
       "1    0.609988  0.472324  0.000000  0.424633  0.869893  0.000000  0.000000   \n",
       "2    0.404836  0.409299  0.000000  0.406516  0.440236  0.000000  0.000000   \n",
       "3    0.418081  0.000000  0.000000  0.385873  0.000000  0.000000  0.000000   \n",
       "4    0.646680  0.000000  0.000000  0.000000  0.000000  0.000000  0.323928   \n",
       "..        ...       ...       ...       ...       ...       ...       ...   \n",
       "95   0.425643  0.412827  0.455184  0.362079  0.504415  0.000000  0.000000   \n",
       "96   1.000000  0.000000  0.000000  0.768382  0.000000  0.000000  0.000000   \n",
       "97   0.355083  0.000000  0.000000  0.000000  0.000000  0.000000  0.000000   \n",
       "98   0.658487  0.000000  0.000000  0.000000  0.000000  0.000000  0.000000   \n",
       "99   0.339205  0.000000  0.374999  0.434092  0.000000  0.464549  0.000000   \n",
       "\n",
       "    ADV_ADJ  ADV_ADV  sinonimos  antonimos  is_a  action_sim_nlp  \\\n",
       "0       0.0      0.0          0          0     1        0.272841   \n",
       "1       0.0      0.0          5          0     2        0.159916   \n",
       "2       0.0      0.0          2          0     0        0.256307   \n",
       "3       0.0      0.0          0          0     0        1.000000   \n",
       "4       0.0      0.0          2          0     0        0.465413   \n",
       "..      ...      ...        ...        ...   ...             ...   \n",
       "95      0.0      0.0          0          0     1        0.110635   \n",
       "96      0.0      0.0          2          0     1        0.652412   \n",
       "97      0.0      0.0          0          0     0        0.467361   \n",
       "98      0.0      0.0          0          0     0        0.479299   \n",
       "99      0.0      0.0          4          0     0        0.479299   \n",
       "\n",
       "    distancia_euc  suma_info  suma_max_simi          CLASS  \n",
       "0        6.524279  13.284535       2.697227     entailment  \n",
       "1        2.310604  23.873234       4.924438     entailment  \n",
       "2        5.360355  11.503313       2.209444  contradiction  \n",
       "3        2.845385   9.888334       1.457576  contradiction  \n",
       "4        3.080132   7.184703       2.859084        neutral  \n",
       "..            ...        ...            ...            ...  \n",
       "95       4.883518  19.256735       3.609311     entailment  \n",
       "96       4.656574   6.084509       2.664728     entailment  \n",
       "97       6.902841   3.825182       1.006833  contradiction  \n",
       "98       4.725261   3.457137       1.828981  contradiction  \n",
       "99       4.799351   8.602762       1.553052  contradiction  \n",
       "\n",
       "[100 rows x 17 columns]"
      ]
     },
     "execution_count": 812,
     "metadata": {},
     "output_type": "execute_result"
    }
   ],
   "source": [
    "#dataframe = pd.read_csv(r\"TipoPalabra_conteos_mean_umbral_mean.csv\")\n",
    "#dataframe = pd.read_csv(r\"TipoPalabra_conteos_umbral_mean_relsemanf_sim0.7.csv\")\n",
    "#dataframe = pd.read_csv(r\"TipoPalabra_conteos_umbral_mean_relsemanf_sim0.8.csv\")\n",
    "#dataframe = pd.read_csv(r\"TipoPalabra_conteos_umbral_mean_relsemanf_root_difTH_porcentajeR_MAs.csv\")\n",
    "dataframe = pd.read_csv(r\"salida/TipoPalabra_conteos_umbral_mean_relsemanf_root_difTH_porcentajeR_MAsmaxM.csv\")\n",
    "dataframe"
   ]
  },
  {
   "cell_type": "code",
   "execution_count": 813,
   "metadata": {},
   "outputs": [
    {
     "data": {
      "text/html": [
       "<div>\n",
       "<style scoped>\n",
       "    .dataframe tbody tr th:only-of-type {\n",
       "        vertical-align: middle;\n",
       "    }\n",
       "\n",
       "    .dataframe tbody tr th {\n",
       "        vertical-align: top;\n",
       "    }\n",
       "\n",
       "    .dataframe thead th {\n",
       "        text-align: right;\n",
       "    }\n",
       "</style>\n",
       "<table border=\"1\" class=\"dataframe\">\n",
       "  <thead>\n",
       "    <tr style=\"text-align: right;\">\n",
       "      <th></th>\n",
       "      <th>NOUN_NOUN</th>\n",
       "      <th>NOUN_ADJ</th>\n",
       "      <th>NOUN_ADV</th>\n",
       "      <th>ADJ_NOUN</th>\n",
       "      <th>ADJ_ADJ</th>\n",
       "      <th>ADJ_ADV</th>\n",
       "      <th>ADV_NOUN</th>\n",
       "      <th>ADV_ADJ</th>\n",
       "      <th>ADV_ADV</th>\n",
       "      <th>sinonimos</th>\n",
       "      <th>antonimos</th>\n",
       "      <th>is_a</th>\n",
       "      <th>action_sim_nlp</th>\n",
       "      <th>distancia_euc</th>\n",
       "      <th>suma_info</th>\n",
       "      <th>suma_max_simi</th>\n",
       "    </tr>\n",
       "  </thead>\n",
       "  <tbody>\n",
       "    <tr>\n",
       "      <th>count</th>\n",
       "      <td>100.000000</td>\n",
       "      <td>100.000000</td>\n",
       "      <td>100.000000</td>\n",
       "      <td>100.000000</td>\n",
       "      <td>100.000000</td>\n",
       "      <td>100.000000</td>\n",
       "      <td>100.000000</td>\n",
       "      <td>100.000000</td>\n",
       "      <td>100.000000</td>\n",
       "      <td>100.00000</td>\n",
       "      <td>100.000000</td>\n",
       "      <td>100.000000</td>\n",
       "      <td>100.000000</td>\n",
       "      <td>100.000000</td>\n",
       "      <td>100.000000</td>\n",
       "      <td>100.000000</td>\n",
       "    </tr>\n",
       "    <tr>\n",
       "      <th>mean</th>\n",
       "      <td>0.630107</td>\n",
       "      <td>0.141560</td>\n",
       "      <td>0.071047</td>\n",
       "      <td>0.243601</td>\n",
       "      <td>0.194753</td>\n",
       "      <td>0.043640</td>\n",
       "      <td>0.037574</td>\n",
       "      <td>0.030109</td>\n",
       "      <td>0.014561</td>\n",
       "      <td>2.21000</td>\n",
       "      <td>0.160000</td>\n",
       "      <td>0.280000</td>\n",
       "      <td>0.540611</td>\n",
       "      <td>3.783845</td>\n",
       "      <td>12.757370</td>\n",
       "      <td>3.004463</td>\n",
       "    </tr>\n",
       "    <tr>\n",
       "      <th>std</th>\n",
       "      <td>0.218295</td>\n",
       "      <td>0.200539</td>\n",
       "      <td>0.164055</td>\n",
       "      <td>0.224937</td>\n",
       "      <td>0.332652</td>\n",
       "      <td>0.134252</td>\n",
       "      <td>0.117618</td>\n",
       "      <td>0.110975</td>\n",
       "      <td>0.102441</td>\n",
       "      <td>2.63732</td>\n",
       "      <td>0.394917</td>\n",
       "      <td>0.514045</td>\n",
       "      <td>0.317691</td>\n",
       "      <td>2.073540</td>\n",
       "      <td>10.018077</td>\n",
       "      <td>1.395959</td>\n",
       "    </tr>\n",
       "    <tr>\n",
       "      <th>min</th>\n",
       "      <td>0.000000</td>\n",
       "      <td>0.000000</td>\n",
       "      <td>0.000000</td>\n",
       "      <td>0.000000</td>\n",
       "      <td>0.000000</td>\n",
       "      <td>0.000000</td>\n",
       "      <td>0.000000</td>\n",
       "      <td>0.000000</td>\n",
       "      <td>0.000000</td>\n",
       "      <td>0.00000</td>\n",
       "      <td>0.000000</td>\n",
       "      <td>0.000000</td>\n",
       "      <td>-0.022551</td>\n",
       "      <td>0.000000</td>\n",
       "      <td>2.296483</td>\n",
       "      <td>1.006833</td>\n",
       "    </tr>\n",
       "    <tr>\n",
       "      <th>25%</th>\n",
       "      <td>0.459413</td>\n",
       "      <td>0.000000</td>\n",
       "      <td>0.000000</td>\n",
       "      <td>0.000000</td>\n",
       "      <td>0.000000</td>\n",
       "      <td>0.000000</td>\n",
       "      <td>0.000000</td>\n",
       "      <td>0.000000</td>\n",
       "      <td>0.000000</td>\n",
       "      <td>0.00000</td>\n",
       "      <td>0.000000</td>\n",
       "      <td>0.000000</td>\n",
       "      <td>0.283722</td>\n",
       "      <td>2.157127</td>\n",
       "      <td>6.502260</td>\n",
       "      <td>2.000000</td>\n",
       "    </tr>\n",
       "    <tr>\n",
       "      <th>50%</th>\n",
       "      <td>0.609014</td>\n",
       "      <td>0.000000</td>\n",
       "      <td>0.000000</td>\n",
       "      <td>0.314125</td>\n",
       "      <td>0.000000</td>\n",
       "      <td>0.000000</td>\n",
       "      <td>0.000000</td>\n",
       "      <td>0.000000</td>\n",
       "      <td>0.000000</td>\n",
       "      <td>2.00000</td>\n",
       "      <td>0.000000</td>\n",
       "      <td>0.000000</td>\n",
       "      <td>0.479299</td>\n",
       "      <td>3.835158</td>\n",
       "      <td>9.554792</td>\n",
       "      <td>2.700766</td>\n",
       "    </tr>\n",
       "    <tr>\n",
       "      <th>75%</th>\n",
       "      <td>0.760330</td>\n",
       "      <td>0.349467</td>\n",
       "      <td>0.000000</td>\n",
       "      <td>0.423288</td>\n",
       "      <td>0.414501</td>\n",
       "      <td>0.000000</td>\n",
       "      <td>0.000000</td>\n",
       "      <td>0.000000</td>\n",
       "      <td>0.000000</td>\n",
       "      <td>3.25000</td>\n",
       "      <td>0.000000</td>\n",
       "      <td>0.250000</td>\n",
       "      <td>0.869796</td>\n",
       "      <td>5.102988</td>\n",
       "      <td>15.874422</td>\n",
       "      <td>3.592703</td>\n",
       "    </tr>\n",
       "    <tr>\n",
       "      <th>max</th>\n",
       "      <td>1.000000</td>\n",
       "      <td>0.594927</td>\n",
       "      <td>0.692382</td>\n",
       "      <td>0.768382</td>\n",
       "      <td>1.000000</td>\n",
       "      <td>0.568032</td>\n",
       "      <td>0.521636</td>\n",
       "      <td>0.470733</td>\n",
       "      <td>0.732554</td>\n",
       "      <td>16.00000</td>\n",
       "      <td>2.000000</td>\n",
       "      <td>2.000000</td>\n",
       "      <td>1.000000</td>\n",
       "      <td>8.772804</td>\n",
       "      <td>57.355515</td>\n",
       "      <td>7.681334</td>\n",
       "    </tr>\n",
       "  </tbody>\n",
       "</table>\n",
       "</div>"
      ],
      "text/plain": [
       "        NOUN_NOUN    NOUN_ADJ    NOUN_ADV    ADJ_NOUN     ADJ_ADJ     ADJ_ADV  \\\n",
       "count  100.000000  100.000000  100.000000  100.000000  100.000000  100.000000   \n",
       "mean     0.630107    0.141560    0.071047    0.243601    0.194753    0.043640   \n",
       "std      0.218295    0.200539    0.164055    0.224937    0.332652    0.134252   \n",
       "min      0.000000    0.000000    0.000000    0.000000    0.000000    0.000000   \n",
       "25%      0.459413    0.000000    0.000000    0.000000    0.000000    0.000000   \n",
       "50%      0.609014    0.000000    0.000000    0.314125    0.000000    0.000000   \n",
       "75%      0.760330    0.349467    0.000000    0.423288    0.414501    0.000000   \n",
       "max      1.000000    0.594927    0.692382    0.768382    1.000000    0.568032   \n",
       "\n",
       "         ADV_NOUN     ADV_ADJ     ADV_ADV  sinonimos   antonimos        is_a  \\\n",
       "count  100.000000  100.000000  100.000000  100.00000  100.000000  100.000000   \n",
       "mean     0.037574    0.030109    0.014561    2.21000    0.160000    0.280000   \n",
       "std      0.117618    0.110975    0.102441    2.63732    0.394917    0.514045   \n",
       "min      0.000000    0.000000    0.000000    0.00000    0.000000    0.000000   \n",
       "25%      0.000000    0.000000    0.000000    0.00000    0.000000    0.000000   \n",
       "50%      0.000000    0.000000    0.000000    2.00000    0.000000    0.000000   \n",
       "75%      0.000000    0.000000    0.000000    3.25000    0.000000    0.250000   \n",
       "max      0.521636    0.470733    0.732554   16.00000    2.000000    2.000000   \n",
       "\n",
       "       action_sim_nlp  distancia_euc   suma_info  suma_max_simi  \n",
       "count      100.000000     100.000000  100.000000     100.000000  \n",
       "mean         0.540611       3.783845   12.757370       3.004463  \n",
       "std          0.317691       2.073540   10.018077       1.395959  \n",
       "min         -0.022551       0.000000    2.296483       1.006833  \n",
       "25%          0.283722       2.157127    6.502260       2.000000  \n",
       "50%          0.479299       3.835158    9.554792       2.700766  \n",
       "75%          0.869796       5.102988   15.874422       3.592703  \n",
       "max          1.000000       8.772804   57.355515       7.681334  "
      ]
     },
     "execution_count": 813,
     "metadata": {},
     "output_type": "execute_result"
    }
   ],
   "source": [
    "dataframe.describe()"
   ]
  },
  {
   "cell_type": "code",
   "execution_count": 814,
   "metadata": {},
   "outputs": [
    {
     "name": "stdout",
     "output_type": "stream",
     "text": [
      "CLASS\n",
      "contradiction    27\n",
      "entailment       42\n",
      "neutral          31\n",
      "dtype: int64\n"
     ]
    }
   ],
   "source": [
    "print(dataframe.groupby('CLASS').size())"
   ]
  },
  {
   "cell_type": "code",
   "execution_count": 815,
   "metadata": {},
   "outputs": [
    {
     "data": {
      "image/png": "[encoded data removed]",
      "text/plain": [
       "<Figure size 2000x1000 with 16 Axes>"
      ]
     },
     "metadata": {},
     "output_type": "display_data"
    }
   ],
   "source": [
    "dataframe.hist(figsize=(20,10))\n",
    "plt.show()"
   ]
  },
  {
   "cell_type": "code",
   "execution_count": 816,
   "metadata": {},
   "outputs": [
    {
     "data": {
      "text/plain": [
       "(100, 16)"
      ]
     },
     "execution_count": 816,
     "metadata": {},
     "output_type": "execute_result"
    }
   ],
   "source": [
    "X = np.array(dataframe.drop(['CLASS'],1))\n",
    "X_test = np.array(dataframe.drop(['CLASS'],1))\n",
    "y = np.array(dataframe['CLASS'])\n",
    "y_test =np.array(dataframe['CLASS'])\n",
    "X.shape"
   ]
  },
  {
   "cell_type": "code",
   "execution_count": 817,
   "metadata": {},
   "outputs": [
    {
     "data": {
      "text/plain": [
       "array(['entailment', 'entailment', 'contradiction', 'contradiction',\n",
       "       'neutral', 'neutral', 'neutral', 'entailment', 'neutral',\n",
       "       'entailment', 'neutral', 'contradiction', 'entailment',\n",
       "       'contradiction', 'neutral', 'neutral', 'entailment',\n",
       "       'contradiction', 'contradiction', 'entailment', 'entailment',\n",
       "       'entailment', 'neutral', 'contradiction', 'entailment', 'neutral',\n",
       "       'entailment', 'entailment', 'entailment', 'neutral', 'neutral',\n",
       "       'contradiction', 'contradiction', 'entailment', 'contradiction',\n",
       "       'neutral', 'entailment', 'neutral', 'neutral', 'entailment',\n",
       "       'neutral', 'neutral', 'contradiction', 'neutral', 'entailment',\n",
       "       'neutral', 'neutral', 'entailment', 'contradiction', 'neutral',\n",
       "       'entailment', 'entailment', 'neutral', 'entailment',\n",
       "       'contradiction', 'entailment', 'entailment', 'neutral', 'neutral',\n",
       "       'neutral', 'neutral', 'neutral', 'neutral', 'entailment',\n",
       "       'entailment', 'contradiction', 'entailment', 'entailment',\n",
       "       'neutral', 'contradiction', 'entailment', 'contradiction',\n",
       "       'contradiction', 'contradiction', 'neutral', 'entailment',\n",
       "       'entailment', 'entailment', 'entailment', 'contradiction',\n",
       "       'neutral', 'entailment', 'entailment', 'entailment',\n",
       "       'contradiction', 'entailment', 'entailment', 'entailment',\n",
       "       'contradiction', 'contradiction', 'contradiction', 'neutral',\n",
       "       'entailment', 'entailment', 'contradiction', 'entailment',\n",
       "       'entailment', 'contradiction', 'contradiction', 'contradiction'],\n",
       "      dtype=object)"
      ]
     },
     "execution_count": 817,
     "metadata": {},
     "output_type": "execute_result"
    }
   ],
   "source": [
    "y_test"
   ]
  },
  {
   "cell_type": "code",
   "execution_count": 818,
   "metadata": {},
   "outputs": [
    {
     "data": {
      "text/plain": [
       "array(['entailment', 'entailment', 'contradiction', 'contradiction',\n",
       "       'neutral', 'neutral', 'neutral', 'entailment', 'neutral',\n",
       "       'entailment', 'neutral', 'contradiction', 'entailment',\n",
       "       'contradiction', 'neutral', 'neutral', 'entailment',\n",
       "       'contradiction', 'contradiction', 'entailment', 'entailment',\n",
       "       'entailment', 'neutral', 'contradiction', 'entailment', 'neutral',\n",
       "       'entailment', 'entailment', 'entailment', 'neutral', 'neutral',\n",
       "       'contradiction', 'contradiction', 'entailment', 'contradiction',\n",
       "       'neutral', 'entailment', 'neutral', 'neutral', 'entailment',\n",
       "       'neutral', 'neutral', 'contradiction', 'neutral', 'entailment',\n",
       "       'neutral', 'neutral', 'entailment', 'contradiction', 'neutral',\n",
       "       'entailment', 'entailment', 'neutral', 'entailment',\n",
       "       'contradiction', 'entailment', 'entailment', 'neutral', 'neutral',\n",
       "       'neutral', 'neutral', 'neutral', 'neutral', 'entailment',\n",
       "       'entailment', 'contradiction', 'entailment', 'entailment',\n",
       "       'neutral', 'contradiction', 'entailment', 'contradiction',\n",
       "       'contradiction', 'contradiction', 'neutral', 'entailment',\n",
       "       'entailment', 'entailment', 'entailment', 'contradiction',\n",
       "       'neutral', 'entailment', 'entailment', 'entailment',\n",
       "       'contradiction', 'entailment', 'entailment', 'entailment',\n",
       "       'contradiction', 'contradiction', 'contradiction', 'neutral',\n",
       "       'entailment', 'entailment', 'contradiction', 'entailment',\n",
       "       'entailment', 'contradiction', 'contradiction', 'contradiction'],\n",
       "      dtype=object)"
      ]
     },
     "execution_count": 818,
     "metadata": {},
     "output_type": "execute_result"
    }
   ],
   "source": [
    "y"
   ]
  },
  {
   "cell_type": "code",
   "execution_count": 819,
   "metadata": {},
   "outputs": [
    {
     "data": {
      "text/plain": [
       "LogisticRegression(C=0.1, max_iter=1000)"
      ]
     },
     "execution_count": 819,
     "metadata": {},
     "output_type": "execute_result"
    }
   ],
   "source": [
    "model = linear_model.LogisticRegression(penalty=\"l2\", C=0.1,max_iter = 1000)\n",
    "model.fit(X,y)"
   ]
  },
  {
   "cell_type": "code",
   "execution_count": 820,
   "metadata": {},
   "outputs": [
    {
     "data": {
      "text/plain": [
       "{'C': 0.1,\n",
       " 'class_weight': None,\n",
       " 'dual': False,\n",
       " 'fit_intercept': True,\n",
       " 'intercept_scaling': 1,\n",
       " 'l1_ratio': None,\n",
       " 'max_iter': 1000,\n",
       " 'multi_class': 'auto',\n",
       " 'n_jobs': None,\n",
       " 'penalty': 'l2',\n",
       " 'random_state': None,\n",
       " 'solver': 'lbfgs',\n",
       " 'tol': 0.0001,\n",
       " 'verbose': 0,\n",
       " 'warm_start': False}"
      ]
     },
     "execution_count": 820,
     "metadata": {},
     "output_type": "execute_result"
    }
   ],
   "source": [
    "model.get_params()"
   ]
  },
  {
   "cell_type": "code",
   "execution_count": 821,
   "metadata": {},
   "outputs": [
    {
     "data": {
      "text/plain": [
       "array([[ 0.41459151, -0.74934508,  0.33475357],\n",
       "       [-1.34793397,  0.86798926,  0.47994471],\n",
       "       [ 0.05713827, -0.3000826 ,  0.24294433],\n",
       "       [-0.36237229,  0.58992806, -0.22755577],\n",
       "       [-0.34027089,  0.43328459, -0.09301371],\n",
       "       [ 0.75892711, -1.04821553,  0.28928842],\n",
       "       [-0.59146569,  0.6726249 , -0.08115921],\n",
       "       [-0.91676048,  0.69669798,  0.2200625 ],\n",
       "       [ 0.33195844, -0.50600758,  0.17404913],\n",
       "       [-2.50970734,  2.4304902 ,  0.07921714],\n",
       "       [-1.07890338,  1.0183598 ,  0.06054358],\n",
       "       [ 0.94115822, -1.36592128,  0.42476305],\n",
       "       [-0.16598226,  0.47261214, -0.30662988],\n",
       "       [ 0.2294736 , -0.26141551,  0.03194191],\n",
       "       [-0.79533482, -0.26587184,  1.06120666],\n",
       "       [-0.47848503,  0.63383068, -0.15534565],\n",
       "       [-0.9578223 ,  1.25355106, -0.29572876],\n",
       "       [ 0.35863342, -0.34737129, -0.01126213],\n",
       "       [-0.11129771,  0.23412217, -0.12282446],\n",
       "       [-1.40537999,  1.54590705, -0.14052706],\n",
       "       [-1.03999629,  1.31235903, -0.27236274],\n",
       "       [-1.71788602,  1.95043412, -0.2325481 ],\n",
       "       [ 0.2702978 , -0.1748273 , -0.0954705 ],\n",
       "       [ 0.75028026, -0.84517287,  0.0948926 ],\n",
       "       [-0.85174049,  1.2488227 , -0.39708221],\n",
       "       [-0.90790411,  0.61102093,  0.29688318],\n",
       "       [-0.20652623,  0.25016933, -0.0436431 ],\n",
       "       [-0.97973373,  1.13833136, -0.15859763],\n",
       "       [ 0.58192831, -0.69891429,  0.11698598],\n",
       "       [-0.06490075,  0.05943775,  0.00546299],\n",
       "       [-0.08031908, -0.21807025,  0.29838934],\n",
       "       [ 0.72585374, -0.70225878, -0.02359496],\n",
       "       [-0.13609487, -0.08864705,  0.22474193],\n",
       "       [ 0.9479237 , -1.11573139,  0.16780769],\n",
       "       [ 0.58655625, -0.86933509,  0.28277884],\n",
       "       [-0.75574698, -0.17693352,  0.9326805 ],\n",
       "       [-1.08032742,  1.51830482, -0.4379774 ],\n",
       "       [ 0.42442753, -0.54865429,  0.12422675],\n",
       "       [-1.40176027,  0.96578659,  0.43597367],\n",
       "       [-0.26551787,  0.09544459,  0.17007327],\n",
       "       [-0.01745478,  0.11427077, -0.09681599],\n",
       "       [-0.20145104,  0.04914833,  0.1523027 ],\n",
       "       [-0.52369355,  0.62668378, -0.10299022],\n",
       "       [ 0.58692408, -0.79991507,  0.212991  ],\n",
       "       [-0.15994463,  0.10413894,  0.0558057 ],\n",
       "       [-0.85841026,  0.80820094,  0.05020931],\n",
       "       [-0.4277097 ,  0.10068468,  0.32702502],\n",
       "       [-1.08977428,  1.62463677, -0.53486249],\n",
       "       [-0.23841338,  0.36222962, -0.12381624],\n",
       "       [ 0.03939712, -0.44188513,  0.40248801],\n",
       "       [-0.95637514,  1.18645043, -0.23007529],\n",
       "       [-1.07950293,  0.62364382,  0.45585912],\n",
       "       [ 0.4815971 , -0.61713936,  0.13554227],\n",
       "       [-0.33225528,  0.34204846, -0.00979318],\n",
       "       [ 0.12744935, -0.0736126 , -0.05383674],\n",
       "       [-1.39465208,  1.77015611, -0.37550403],\n",
       "       [-0.36830419,  0.70304304, -0.33473885],\n",
       "       [ 0.02626649,  0.03048413, -0.05675062],\n",
       "       [ 0.24742272, -0.18118977, -0.06623296],\n",
       "       [-0.64928781,  0.14379356,  0.50549425],\n",
       "       [-0.40173241,  0.49167915, -0.08994675],\n",
       "       [-0.01584195,  0.44949145, -0.4336495 ],\n",
       "       [-0.56713385,  0.46171966,  0.10541419],\n",
       "       [-0.44472742,  0.74966261, -0.30493519],\n",
       "       [-1.64685393,  0.76771654,  0.87913739],\n",
       "       [-0.52225019,  0.62229588, -0.10004568],\n",
       "       [-1.12521826,  1.38078452, -0.25556625],\n",
       "       [-0.37706203,  0.47733426, -0.10027223],\n",
       "       [ 0.32943156, -0.51631171,  0.18688015],\n",
       "       [ 0.13843781,  0.10881913, -0.24725695],\n",
       "       [-0.06891335,  0.0967005 , -0.02778715],\n",
       "       [ 0.74684405, -0.6307121 , -0.11613195],\n",
       "       [-0.11250972, -0.61580754,  0.72831726],\n",
       "       [ 0.62994222, -0.84961832,  0.2196761 ],\n",
       "       [-0.23409171, -0.18625447,  0.42034617],\n",
       "       [-0.35187526,  0.27911407,  0.0727612 ],\n",
       "       [-0.71503544,  1.09326433, -0.37822889],\n",
       "       [-0.67042035,  0.96188633, -0.29146598],\n",
       "       [-0.51297033,  0.66676304, -0.15379272],\n",
       "       [-0.56498953,  0.68829112, -0.12330159],\n",
       "       [ 0.29150289, -0.71612808,  0.4246252 ],\n",
       "       [-0.5391597 ,  0.64150149, -0.10234179],\n",
       "       [ 0.36408589, -0.31556405, -0.04852184],\n",
       "       [-0.41234377,  0.71294456, -0.30060079],\n",
       "       [ 0.58554602, -0.81217512,  0.2266291 ],\n",
       "       [-2.79885234,  2.49041054,  0.3084418 ],\n",
       "       [-1.32088811,  1.87109334, -0.55020523],\n",
       "       [ 0.05112896,  0.02337351, -0.07450247],\n",
       "       [ 0.7973741 , -1.35679881,  0.55942471],\n",
       "       [-0.09224605,  0.21854364, -0.12629759],\n",
       "       [ 0.46765416, -0.61767758,  0.15002342],\n",
       "       [-0.4250267 , -0.07482941,  0.49985611],\n",
       "       [-1.0421756 ,  1.47827701, -0.43610141],\n",
       "       [-0.41617593,  0.18796003,  0.2282159 ],\n",
       "       [ 0.58986389, -0.92329309,  0.33342919],\n",
       "       [-0.02143497, -0.41559032,  0.43702529],\n",
       "       [-0.14547862,  0.16714549, -0.02166688],\n",
       "       [ 0.7188217 , -0.75121025,  0.03238855],\n",
       "       [ 0.27864828, -0.18357136, -0.09507693],\n",
       "       [-0.3296538 ,  0.41792573, -0.08827194]])"
      ]
     },
     "execution_count": 821,
     "metadata": {},
     "output_type": "execute_result"
    }
   ],
   "source": [
    "model.decision_function(X)"
   ]
  },
  {
   "cell_type": "code",
   "execution_count": 822,
   "metadata": {},
   "outputs": [],
   "source": [
    "labels=dataframe.columns[1:]"
   ]
  },
  {
   "cell_type": "code",
   "execution_count": 823,
   "metadata": {},
   "outputs": [
    {
     "data": {
      "text/plain": [
       "array(['contradiction', 'entailment', 'neutral'], dtype=object)"
      ]
     },
     "execution_count": 823,
     "metadata": {},
     "output_type": "execute_result"
    }
   ],
   "source": [
    "model.classes_"
   ]
  },
  {
   "cell_type": "code",
   "execution_count": 824,
   "metadata": {},
   "outputs": [],
   "source": [
    "contradiction=model.coef_[0]\n",
    "entailment=model.coef_[1]\n",
    "neutral=model.coef_[2]"
   ]
  },
  {
   "cell_type": "code",
   "execution_count": 825,
   "metadata": {},
   "outputs": [
    {
     "name": "stdout",
     "output_type": "stream",
     "text": [
      "Contradiction  10 is_a 11 action_sim_nlp\n",
      "Entailment  12 distancia_euc 13 suma_info\n",
      "Neutral  4 ADJ_ADV 10 is_a\n"
     ]
    }
   ],
   "source": [
    "print(\"Contradiction \",np.argmax(contradiction),labels[np.argmax(contradiction)],np.argmin(contradiction),labels[np.argmin(contradiction)])\n",
    "print(\"Entailment \",np.argmax(entailment),labels[np.argmax(entailment)],np.argmin(entailment),labels[np.argmin(entailment)])\n",
    "print(\"Neutral \",np.argmax(neutral),labels[np.argmax(neutral)],np.argmin(neutral),labels[np.argmin(neutral)])"
   ]
  },
  {
   "cell_type": "code",
   "execution_count": 826,
   "metadata": {},
   "outputs": [],
   "source": [
    "n_columns=dataframe.shape[1]-1"
   ]
  },
  {
   "cell_type": "code",
   "execution_count": 827,
   "metadata": {},
   "outputs": [
    {
     "data": {
      "image/png": "[encoded data removed]",
      "text/plain": [
       "<Figure size 640x480 with 1 Axes>"
      ]
     },
     "metadata": {},
     "output_type": "display_data"
    }
   ],
   "source": [
    "import matplotlib.pyplot as plt\n",
    "import numpy as np\n",
    "\n",
    "x_v = np.arange(0,n_columns,1)\n",
    "y_v = contradiction\n",
    "\n",
    "plt.bar(x_v,y_v)\n",
    "plt.xlabel('x')\n",
    "plt.ylabel('y')\n",
    "plt.title('Contradiction')\n",
    "plt.show()"
   ]
  },
  {
   "cell_type": "code",
   "execution_count": 828,
   "metadata": {},
   "outputs": [
    {
     "data": {
      "image/png": "[encoded data removed]",
      "text/plain": [
       "<Figure size 640x480 with 1 Axes>"
      ]
     },
     "metadata": {},
     "output_type": "display_data"
    }
   ],
   "source": [
    "x_v = np.arange(0,n_columns,1)\n",
    "y_v = entailment\n",
    "\n",
    "plt.bar(x_v,y_v)\n",
    "plt.xlabel('x')\n",
    "plt.ylabel('y')\n",
    "plt.title('Entailment')\n",
    "plt.show()"
   ]
  },
  {
   "cell_type": "code",
   "execution_count": 829,
   "metadata": {},
   "outputs": [
    {
     "data": {
      "image/png": "[encoded data removed]",
      "text/plain": [
       "<Figure size 640x480 with 1 Axes>"
      ]
     },
     "metadata": {},
     "output_type": "display_data"
    }
   ],
   "source": [
    "x_v = np.arange(0,n_columns,1)\n",
    "y_v = neutral\n",
    "\n",
    "plt.bar(x_v,y_v)\n",
    "plt.xlabel('x')\n",
    "plt.ylabel('y')\n",
    "plt.title('Neutral')\n",
    "plt.show()"
   ]
  },
  {
   "cell_type": "code",
   "execution_count": 830,
   "metadata": {},
   "outputs": [
    {
     "name": "stdout",
     "output_type": "stream",
     "text": [
      "['contradiction' 'entailment' 'neutral' 'entailment' 'entailment'\n",
      " 'contradiction' 'entailment' 'entailment' 'contradiction' 'entailment'\n",
      " 'entailment' 'contradiction' 'entailment' 'contradiction' 'neutral'\n",
      " 'entailment' 'entailment' 'contradiction' 'entailment' 'entailment'\n",
      " 'entailment' 'entailment' 'contradiction' 'contradiction' 'entailment'\n",
      " 'entailment' 'entailment' 'entailment' 'contradiction' 'entailment'\n",
      " 'neutral' 'contradiction' 'neutral' 'contradiction' 'contradiction'\n",
      " 'neutral' 'entailment' 'contradiction' 'entailment' 'neutral'\n",
      " 'entailment' 'neutral' 'entailment' 'contradiction' 'entailment'\n",
      " 'entailment' 'neutral' 'entailment' 'entailment' 'neutral' 'entailment'\n",
      " 'entailment' 'contradiction' 'entailment' 'contradiction' 'entailment'\n",
      " 'entailment' 'entailment' 'contradiction' 'neutral' 'entailment'\n",
      " 'entailment' 'entailment' 'entailment' 'neutral' 'entailment'\n",
      " 'entailment' 'entailment' 'contradiction' 'contradiction' 'entailment'\n",
      " 'contradiction' 'neutral' 'contradiction' 'neutral' 'entailment'\n",
      " 'entailment' 'entailment' 'entailment' 'entailment' 'neutral'\n",
      " 'entailment' 'contradiction' 'entailment' 'contradiction' 'entailment'\n",
      " 'entailment' 'contradiction' 'contradiction' 'entailment' 'contradiction'\n",
      " 'neutral' 'entailment' 'neutral' 'contradiction' 'neutral' 'entailment'\n",
      " 'contradiction' 'contradiction' 'entailment']\n"
     ]
    }
   ],
   "source": [
    "predictions = model.predict(X)\n",
    "print(predictions)"
   ]
  },
  {
   "cell_type": "code",
   "execution_count": 831,
   "metadata": {},
   "outputs": [
    {
     "data": {
      "text/plain": [
       "array(['entailment', 'entailment', 'contradiction', 'contradiction',\n",
       "       'neutral', 'neutral', 'neutral', 'entailment', 'neutral',\n",
       "       'entailment', 'neutral', 'contradiction', 'entailment',\n",
       "       'contradiction', 'neutral', 'neutral', 'entailment',\n",
       "       'contradiction', 'contradiction', 'entailment', 'entailment',\n",
       "       'entailment', 'neutral', 'contradiction', 'entailment', 'neutral',\n",
       "       'entailment', 'entailment', 'entailment', 'neutral', 'neutral',\n",
       "       'contradiction', 'contradiction', 'entailment', 'contradiction',\n",
       "       'neutral', 'entailment', 'neutral', 'neutral', 'entailment',\n",
       "       'neutral', 'neutral', 'contradiction', 'neutral', 'entailment',\n",
       "       'neutral', 'neutral', 'entailment', 'contradiction', 'neutral',\n",
       "       'entailment', 'entailment', 'neutral', 'entailment',\n",
       "       'contradiction', 'entailment', 'entailment', 'neutral', 'neutral',\n",
       "       'neutral', 'neutral', 'neutral', 'neutral', 'entailment',\n",
       "       'entailment', 'contradiction', 'entailment', 'entailment',\n",
       "       'neutral', 'contradiction', 'entailment', 'contradiction',\n",
       "       'contradiction', 'contradiction', 'neutral', 'entailment',\n",
       "       'entailment', 'entailment', 'entailment', 'contradiction',\n",
       "       'neutral', 'entailment', 'entailment', 'entailment',\n",
       "       'contradiction', 'entailment', 'entailment', 'entailment',\n",
       "       'contradiction', 'contradiction', 'contradiction', 'neutral',\n",
       "       'entailment', 'entailment', 'contradiction', 'entailment',\n",
       "       'entailment', 'contradiction', 'contradiction', 'contradiction'],\n",
       "      dtype=object)"
      ]
     },
     "execution_count": 831,
     "metadata": {},
     "output_type": "execute_result"
    }
   ],
   "source": [
    "y"
   ]
  },
  {
   "cell_type": "code",
   "execution_count": 832,
   "metadata": {},
   "outputs": [
    {
     "data": {
      "text/plain": [
       "array([[ 0.33671199,  0.30336349,  0.        , ...,  6.5242792 ,\n",
       "        13.28453541,  2.69722652],\n",
       "       [ 0.60998798,  0.47232415,  0.        , ...,  2.31060406,\n",
       "        23.8732338 ,  4.924438  ],\n",
       "       [ 0.40483618,  0.40929902,  0.        , ...,  5.3603549 ,\n",
       "        11.50331306,  2.20944357],\n",
       "       ...,\n",
       "       [ 0.35508341,  0.        ,  0.        , ...,  6.90284061,\n",
       "         3.82518172,  1.00683296],\n",
       "       [ 0.6584865 ,  0.        ,  0.        , ...,  4.72526089,\n",
       "         3.45713663,  1.82898128],\n",
       "       [ 0.33920481,  0.        ,  0.3749985 , ...,  4.79935058,\n",
       "         8.60276222,  1.55305207]])"
      ]
     },
     "execution_count": 832,
     "metadata": {},
     "output_type": "execute_result"
    }
   ],
   "source": [
    "X"
   ]
  },
  {
   "cell_type": "code",
   "execution_count": 833,
   "metadata": {},
   "outputs": [
    {
     "data": {
      "text/plain": [
       "0.59"
      ]
     },
     "execution_count": 833,
     "metadata": {},
     "output_type": "execute_result"
    }
   ],
   "source": [
    "model.score(X,y)"
   ]
  },
  {
   "cell_type": "code",
   "execution_count": 834,
   "metadata": {},
   "outputs": [
    {
     "name": "stdout",
     "output_type": "stream",
     "text": [
      "[[16  8  3]\n",
      " [ 5 33  4]\n",
      " [ 8 13 10]]\n"
     ]
    }
   ],
   "source": [
    "print(confusion_matrix(y, predictions))"
   ]
  },
  {
   "cell_type": "code",
   "execution_count": 835,
   "metadata": {},
   "outputs": [
    {
     "name": "stdout",
     "output_type": "stream",
     "text": [
      "[0.57142857 0.6875     0.41666667]\n"
     ]
    }
   ],
   "source": [
    "print(f1_score(y,predictions, average=None))"
   ]
  },
  {
   "cell_type": "code",
   "execution_count": 836,
   "metadata": {},
   "outputs": [],
   "source": [
    "validation_size = 0.20\n",
    "X_train, X_validation, Y_train, Y_validation = model_selection.train_test_split(X, y, test_size=validation_size)"
   ]
  },
  {
   "cell_type": "code",
   "execution_count": 837,
   "metadata": {},
   "outputs": [
    {
     "name": "stdout",
     "output_type": "stream",
     "text": [
      "Logistic Regression: 0.537500 (0.198037)\n"
     ]
    }
   ],
   "source": [
    "name='Logistic Regression'\n",
    "kfold = model_selection.KFold(n_splits=20)\n",
    "cv_results = model_selection.cross_val_score(model, X_train, Y_train, cv=kfold, scoring='accuracy')\n",
    "msg = \"%s: %f (%f)\" % (name, cv_results.mean(), cv_results.std())\n",
    "print(msg)"
   ]
  },
  {
   "cell_type": "code",
   "execution_count": 838,
   "metadata": {},
   "outputs": [
    {
     "name": "stdout",
     "output_type": "stream",
     "text": [
      "0.65\n"
     ]
    }
   ],
   "source": [
    "predictions = model.predict(X_validation)\n",
    "print(accuracy_score(Y_validation, predictions))"
   ]
  },
  {
   "cell_type": "code",
   "execution_count": 839,
   "metadata": {},
   "outputs": [
    {
     "name": "stdout",
     "output_type": "stream",
     "text": [
      "[[3 1 0]\n",
      " [1 5 0]\n",
      " [2 3 5]]\n"
     ]
    }
   ],
   "source": [
    "print(confusion_matrix(Y_validation, predictions))"
   ]
  },
  {
   "cell_type": "code",
   "execution_count": 840,
   "metadata": {},
   "outputs": [
    {
     "name": "stdout",
     "output_type": "stream",
     "text": [
      "               precision    recall  f1-score   support\n",
      "\n",
      "contradiction       0.50      0.75      0.60         4\n",
      "   entailment       0.56      0.83      0.67         6\n",
      "      neutral       1.00      0.50      0.67        10\n",
      "\n",
      "     accuracy                           0.65        20\n",
      "    macro avg       0.69      0.69      0.64        20\n",
      " weighted avg       0.77      0.65      0.65        20\n",
      "\n"
     ]
    }
   ],
   "source": [
    "print(classification_report(Y_validation, predictions))"
   ]
  },
  {
   "cell_type": "code",
   "execution_count": 841,
   "metadata": {},
   "outputs": [],
   "source": [
    "#X_new = pd.DataFrame()\n",
    "#model.predict(X_new)"
   ]
  }
 ],
 "metadata": {
  "kernelspec": {
   "display_name": "Python 3",
   "language": "python",
   "name": "python3"
  },
  "language_info": {
   "codemirror_mode": {
    "name": "ipython",
    "version": 3
   },
   "file_extension": ".py",
   "mimetype": "text/x-python",
   "name": "python",
   "nbconvert_exporter": "python",
   "pygments_lexer": "ipython3",
   "version": "3.9.13"
  }
 },
 "nbformat": 4,
 "nbformat_minor": 2
}
