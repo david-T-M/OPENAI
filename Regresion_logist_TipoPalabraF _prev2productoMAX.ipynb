{
 "cells": [
  {
   "cell_type": "code",
   "execution_count": 1361,
   "metadata": {},
   "outputs": [],
   "source": [
    "import pandas as pd\n",
    "import numpy as np\n",
    "from sklearn import linear_model\n",
    "from sklearn import model_selection\n",
    "from sklearn.metrics import classification_report\n",
    "from sklearn.metrics import confusion_matrix\n",
    "from sklearn.metrics import f1_score\n",
    "from sklearn.metrics import accuracy_score\n",
    "import matplotlib.pyplot as plt\n",
    "import seaborn as sb"
   ]
  },
  {
   "cell_type": "code",
   "execution_count": 1362,
   "metadata": {},
   "outputs": [
    {
     "data": {
      "text/html": [
       "<div>\n",
       "<style scoped>\n",
       "    .dataframe tbody tr th:only-of-type {\n",
       "        vertical-align: middle;\n",
       "    }\n",
       "\n",
       "    .dataframe tbody tr th {\n",
       "        vertical-align: top;\n",
       "    }\n",
       "\n",
       "    .dataframe thead th {\n",
       "        text-align: right;\n",
       "    }\n",
       "</style>\n",
       "<table border=\"1\" class=\"dataframe\">\n",
       "  <thead>\n",
       "    <tr style=\"text-align: right;\">\n",
       "      <th></th>\n",
       "      <th>NOUN_NOUN</th>\n",
       "      <th>NOUN_ADJ</th>\n",
       "      <th>NOUN_VERB</th>\n",
       "      <th>NOUN_ADV</th>\n",
       "      <th>ADJ_NOUN</th>\n",
       "      <th>ADJ_ADJ</th>\n",
       "      <th>ADJ_VERB</th>\n",
       "      <th>ADJ_ADV</th>\n",
       "      <th>VERB_NOUN</th>\n",
       "      <th>VERB_ADJ</th>\n",
       "      <th>...</th>\n",
       "      <th>ADV_VERB_</th>\n",
       "      <th>ADV_ADV_</th>\n",
       "      <th>sinonimos</th>\n",
       "      <th>antonimos</th>\n",
       "      <th>hiperonimos</th>\n",
       "      <th>hiponimos</th>\n",
       "      <th>action_wn</th>\n",
       "      <th>sim verbos</th>\n",
       "      <th>cantidad</th>\n",
       "      <th>CLASS</th>\n",
       "    </tr>\n",
       "  </thead>\n",
       "  <tbody>\n",
       "    <tr>\n",
       "      <th>0</th>\n",
       "      <td>8.401281</td>\n",
       "      <td>1.363580</td>\n",
       "      <td>1.149031</td>\n",
       "      <td>0.000000</td>\n",
       "      <td>2.325113</td>\n",
       "      <td>0.454527</td>\n",
       "      <td>0.259114</td>\n",
       "      <td>0.000000</td>\n",
       "      <td>3.174574</td>\n",
       "      <td>0.782569</td>\n",
       "      <td>...</td>\n",
       "      <td>0</td>\n",
       "      <td>0</td>\n",
       "      <td>0</td>\n",
       "      <td>0</td>\n",
       "      <td>2</td>\n",
       "      <td>3</td>\n",
       "      <td>0.800000</td>\n",
       "      <td>0.233037</td>\n",
       "      <td>25.631991</td>\n",
       "      <td>entailment</td>\n",
       "    </tr>\n",
       "    <tr>\n",
       "      <th>1</th>\n",
       "      <td>8.937979</td>\n",
       "      <td>3.000001</td>\n",
       "      <td>0.820234</td>\n",
       "      <td>0.000000</td>\n",
       "      <td>3.399397</td>\n",
       "      <td>1.000000</td>\n",
       "      <td>0.000000</td>\n",
       "      <td>0.000000</td>\n",
       "      <td>2.002434</td>\n",
       "      <td>0.505892</td>\n",
       "      <td>...</td>\n",
       "      <td>0</td>\n",
       "      <td>0</td>\n",
       "      <td>2</td>\n",
       "      <td>0</td>\n",
       "      <td>0</td>\n",
       "      <td>1</td>\n",
       "      <td>0.500000</td>\n",
       "      <td>0.203438</td>\n",
       "      <td>43.358374</td>\n",
       "      <td>entailment</td>\n",
       "    </tr>\n",
       "    <tr>\n",
       "      <th>2</th>\n",
       "      <td>4.330153</td>\n",
       "      <td>1.909053</td>\n",
       "      <td>1.799391</td>\n",
       "      <td>0.000000</td>\n",
       "      <td>2.551937</td>\n",
       "      <td>0.916135</td>\n",
       "      <td>0.689972</td>\n",
       "      <td>0.000000</td>\n",
       "      <td>0.501530</td>\n",
       "      <td>0.000000</td>\n",
       "      <td>...</td>\n",
       "      <td>0</td>\n",
       "      <td>0</td>\n",
       "      <td>0</td>\n",
       "      <td>0</td>\n",
       "      <td>0</td>\n",
       "      <td>0</td>\n",
       "      <td>0.400000</td>\n",
       "      <td>0.360803</td>\n",
       "      <td>13.512509</td>\n",
       "      <td>contradiction</td>\n",
       "    </tr>\n",
       "    <tr>\n",
       "      <th>3</th>\n",
       "      <td>0.028963</td>\n",
       "      <td>0.000000</td>\n",
       "      <td>2.676887</td>\n",
       "      <td>0.000000</td>\n",
       "      <td>0.031668</td>\n",
       "      <td>0.000000</td>\n",
       "      <td>0.636757</td>\n",
       "      <td>0.000000</td>\n",
       "      <td>0.119323</td>\n",
       "      <td>0.000000</td>\n",
       "      <td>...</td>\n",
       "      <td>0</td>\n",
       "      <td>0</td>\n",
       "      <td>2</td>\n",
       "      <td>0</td>\n",
       "      <td>0</td>\n",
       "      <td>1</td>\n",
       "      <td>1.000000</td>\n",
       "      <td>0.252164</td>\n",
       "      <td>2.416415</td>\n",
       "      <td>contradiction</td>\n",
       "    </tr>\n",
       "    <tr>\n",
       "      <th>4</th>\n",
       "      <td>3.277409</td>\n",
       "      <td>0.000000</td>\n",
       "      <td>2.061038</td>\n",
       "      <td>0.000000</td>\n",
       "      <td>1.638705</td>\n",
       "      <td>0.000000</td>\n",
       "      <td>1.030519</td>\n",
       "      <td>0.000000</td>\n",
       "      <td>0.000000</td>\n",
       "      <td>0.000000</td>\n",
       "      <td>...</td>\n",
       "      <td>0</td>\n",
       "      <td>0</td>\n",
       "      <td>2</td>\n",
       "      <td>0</td>\n",
       "      <td>0</td>\n",
       "      <td>0</td>\n",
       "      <td>0.000000</td>\n",
       "      <td>0.347747</td>\n",
       "      <td>23.910294</td>\n",
       "      <td>neutral</td>\n",
       "    </tr>\n",
       "    <tr>\n",
       "      <th>...</th>\n",
       "      <td>...</td>\n",
       "      <td>...</td>\n",
       "      <td>...</td>\n",
       "      <td>...</td>\n",
       "      <td>...</td>\n",
       "      <td>...</td>\n",
       "      <td>...</td>\n",
       "      <td>...</td>\n",
       "      <td>...</td>\n",
       "      <td>...</td>\n",
       "      <td>...</td>\n",
       "      <td>...</td>\n",
       "      <td>...</td>\n",
       "      <td>...</td>\n",
       "      <td>...</td>\n",
       "      <td>...</td>\n",
       "      <td>...</td>\n",
       "      <td>...</td>\n",
       "      <td>...</td>\n",
       "      <td>...</td>\n",
       "      <td>...</td>\n",
       "    </tr>\n",
       "    <tr>\n",
       "      <th>95</th>\n",
       "      <td>6.566009</td>\n",
       "      <td>1.451477</td>\n",
       "      <td>0.766031</td>\n",
       "      <td>1.412246</td>\n",
       "      <td>2.260360</td>\n",
       "      <td>1.476667</td>\n",
       "      <td>0.357769</td>\n",
       "      <td>0.739719</td>\n",
       "      <td>0.000000</td>\n",
       "      <td>0.000000</td>\n",
       "      <td>...</td>\n",
       "      <td>0</td>\n",
       "      <td>0</td>\n",
       "      <td>1</td>\n",
       "      <td>0</td>\n",
       "      <td>0</td>\n",
       "      <td>2</td>\n",
       "      <td>1.000000</td>\n",
       "      <td>0.236915</td>\n",
       "      <td>22.056425</td>\n",
       "      <td>entailment</td>\n",
       "    </tr>\n",
       "    <tr>\n",
       "      <th>96</th>\n",
       "      <td>0.415148</td>\n",
       "      <td>0.000000</td>\n",
       "      <td>0.439552</td>\n",
       "      <td>0.000000</td>\n",
       "      <td>0.415147</td>\n",
       "      <td>0.000000</td>\n",
       "      <td>0.439552</td>\n",
       "      <td>0.000000</td>\n",
       "      <td>0.000000</td>\n",
       "      <td>0.000000</td>\n",
       "      <td>...</td>\n",
       "      <td>0</td>\n",
       "      <td>0</td>\n",
       "      <td>1</td>\n",
       "      <td>0</td>\n",
       "      <td>0</td>\n",
       "      <td>1</td>\n",
       "      <td>1.000000</td>\n",
       "      <td>0.895790</td>\n",
       "      <td>2.617666</td>\n",
       "      <td>entailment</td>\n",
       "    </tr>\n",
       "    <tr>\n",
       "      <th>97</th>\n",
       "      <td>4.000000</td>\n",
       "      <td>0.000000</td>\n",
       "      <td>0.873123</td>\n",
       "      <td>0.000000</td>\n",
       "      <td>0.000000</td>\n",
       "      <td>0.000000</td>\n",
       "      <td>0.000000</td>\n",
       "      <td>0.000000</td>\n",
       "      <td>2.000000</td>\n",
       "      <td>0.000000</td>\n",
       "      <td>...</td>\n",
       "      <td>0</td>\n",
       "      <td>0</td>\n",
       "      <td>0</td>\n",
       "      <td>0</td>\n",
       "      <td>0</td>\n",
       "      <td>0</td>\n",
       "      <td>0.400000</td>\n",
       "      <td>0.245138</td>\n",
       "      <td>10.912521</td>\n",
       "      <td>contradiction</td>\n",
       "    </tr>\n",
       "    <tr>\n",
       "      <th>98</th>\n",
       "      <td>1.729706</td>\n",
       "      <td>0.000000</td>\n",
       "      <td>1.423062</td>\n",
       "      <td>0.000000</td>\n",
       "      <td>0.000000</td>\n",
       "      <td>0.000000</td>\n",
       "      <td>0.000000</td>\n",
       "      <td>0.000000</td>\n",
       "      <td>0.861428</td>\n",
       "      <td>0.000000</td>\n",
       "      <td>...</td>\n",
       "      <td>0</td>\n",
       "      <td>0</td>\n",
       "      <td>2</td>\n",
       "      <td>0</td>\n",
       "      <td>0</td>\n",
       "      <td>0</td>\n",
       "      <td>1.000000</td>\n",
       "      <td>1.000000</td>\n",
       "      <td>11.189399</td>\n",
       "      <td>contradiction</td>\n",
       "    </tr>\n",
       "    <tr>\n",
       "      <th>99</th>\n",
       "      <td>4.199807</td>\n",
       "      <td>0.000000</td>\n",
       "      <td>0.769743</td>\n",
       "      <td>2.028701</td>\n",
       "      <td>1.058588</td>\n",
       "      <td>0.000000</td>\n",
       "      <td>0.000000</td>\n",
       "      <td>0.476611</td>\n",
       "      <td>2.587723</td>\n",
       "      <td>0.000000</td>\n",
       "      <td>...</td>\n",
       "      <td>0</td>\n",
       "      <td>0</td>\n",
       "      <td>1</td>\n",
       "      <td>0</td>\n",
       "      <td>0</td>\n",
       "      <td>0</td>\n",
       "      <td>0.666667</td>\n",
       "      <td>0.234838</td>\n",
       "      <td>17.152626</td>\n",
       "      <td>contradiction</td>\n",
       "    </tr>\n",
       "  </tbody>\n",
       "</table>\n",
       "<p>100 rows × 40 columns</p>\n",
       "</div>"
      ],
      "text/plain": [
       "    NOUN_NOUN  NOUN_ADJ  NOUN_VERB  NOUN_ADV  ADJ_NOUN   ADJ_ADJ  ADJ_VERB  \\\n",
       "0    8.401281  1.363580   1.149031  0.000000  2.325113  0.454527  0.259114   \n",
       "1    8.937979  3.000001   0.820234  0.000000  3.399397  1.000000  0.000000   \n",
       "2    4.330153  1.909053   1.799391  0.000000  2.551937  0.916135  0.689972   \n",
       "3    0.028963  0.000000   2.676887  0.000000  0.031668  0.000000  0.636757   \n",
       "4    3.277409  0.000000   2.061038  0.000000  1.638705  0.000000  1.030519   \n",
       "..        ...       ...        ...       ...       ...       ...       ...   \n",
       "95   6.566009  1.451477   0.766031  1.412246  2.260360  1.476667  0.357769   \n",
       "96   0.415148  0.000000   0.439552  0.000000  0.415147  0.000000  0.439552   \n",
       "97   4.000000  0.000000   0.873123  0.000000  0.000000  0.000000  0.000000   \n",
       "98   1.729706  0.000000   1.423062  0.000000  0.000000  0.000000  0.000000   \n",
       "99   4.199807  0.000000   0.769743  2.028701  1.058588  0.000000  0.000000   \n",
       "\n",
       "     ADJ_ADV  VERB_NOUN  VERB_ADJ  ...  ADV_VERB_  ADV_ADV_  sinonimos  \\\n",
       "0   0.000000   3.174574  0.782569  ...          0         0          0   \n",
       "1   0.000000   2.002434  0.505892  ...          0         0          2   \n",
       "2   0.000000   0.501530  0.000000  ...          0         0          0   \n",
       "3   0.000000   0.119323  0.000000  ...          0         0          2   \n",
       "4   0.000000   0.000000  0.000000  ...          0         0          2   \n",
       "..       ...        ...       ...  ...        ...       ...        ...   \n",
       "95  0.739719   0.000000  0.000000  ...          0         0          1   \n",
       "96  0.000000   0.000000  0.000000  ...          0         0          1   \n",
       "97  0.000000   2.000000  0.000000  ...          0         0          0   \n",
       "98  0.000000   0.861428  0.000000  ...          0         0          2   \n",
       "99  0.476611   2.587723  0.000000  ...          0         0          1   \n",
       "\n",
       "    antonimos  hiperonimos  hiponimos  action_wn  sim verbos   cantidad  \\\n",
       "0           0            2          3   0.800000    0.233037  25.631991   \n",
       "1           0            0          1   0.500000    0.203438  43.358374   \n",
       "2           0            0          0   0.400000    0.360803  13.512509   \n",
       "3           0            0          1   1.000000    0.252164   2.416415   \n",
       "4           0            0          0   0.000000    0.347747  23.910294   \n",
       "..        ...          ...        ...        ...         ...        ...   \n",
       "95          0            0          2   1.000000    0.236915  22.056425   \n",
       "96          0            0          1   1.000000    0.895790   2.617666   \n",
       "97          0            0          0   0.400000    0.245138  10.912521   \n",
       "98          0            0          0   1.000000    1.000000  11.189399   \n",
       "99          0            0          0   0.666667    0.234838  17.152626   \n",
       "\n",
       "            CLASS  \n",
       "0      entailment  \n",
       "1      entailment  \n",
       "2   contradiction  \n",
       "3   contradiction  \n",
       "4         neutral  \n",
       "..            ...  \n",
       "95     entailment  \n",
       "96     entailment  \n",
       "97  contradiction  \n",
       "98  contradiction  \n",
       "99  contradiction  \n",
       "\n",
       "[100 rows x 40 columns]"
      ]
     },
     "execution_count": 1362,
     "metadata": {},
     "output_type": "execute_result"
    }
   ],
   "source": [
    "#dataframe = pd.read_csv(r\"TipoPalabra_conteos_mean_umbral_mean.csv\")\n",
    "#dataframe = pd.read_csv(r\"TipoPalabra_conteos_umbral_mean_relsemanf_sim0.7.csv\")\n",
    "#dataframe = pd.read_csv(r\"TipoPalabra_conteos_umbral_mean_relsemanf_sim0.8.csv\")\n",
    "#dataframe = pd.read_csv(r\"TipoPalabra_conteos_umbral_mean_relsemanf_root_difTH_porcentajeR_MAs.csv\")\n",
    "dataframe = pd.read_csv(r\"TipoPalabra_conteos_umbral_mean_relsemanf_root_difTH_porcentajeR_MAspromedioMAX.csv\")\n",
    "dataframe"
   ]
  },
  {
   "cell_type": "code",
   "execution_count": 1363,
   "metadata": {},
   "outputs": [],
   "source": [
    "#dataframe.corr()"
   ]
  },
  {
   "cell_type": "code",
   "execution_count": 1364,
   "metadata": {},
   "outputs": [
    {
     "data": {
      "text/html": [
       "<div>\n",
       "<style scoped>\n",
       "    .dataframe tbody tr th:only-of-type {\n",
       "        vertical-align: middle;\n",
       "    }\n",
       "\n",
       "    .dataframe tbody tr th {\n",
       "        vertical-align: top;\n",
       "    }\n",
       "\n",
       "    .dataframe thead th {\n",
       "        text-align: right;\n",
       "    }\n",
       "</style>\n",
       "<table border=\"1\" class=\"dataframe\">\n",
       "  <thead>\n",
       "    <tr style=\"text-align: right;\">\n",
       "      <th></th>\n",
       "      <th>NOUN_NOUN</th>\n",
       "      <th>NOUN_ADJ</th>\n",
       "      <th>NOUN_VERB</th>\n",
       "      <th>NOUN_ADV</th>\n",
       "      <th>ADJ_NOUN</th>\n",
       "      <th>ADJ_ADJ</th>\n",
       "      <th>ADJ_VERB</th>\n",
       "      <th>ADJ_ADV</th>\n",
       "      <th>VERB_NOUN</th>\n",
       "      <th>VERB_ADJ</th>\n",
       "      <th>...</th>\n",
       "      <th>ADV_ADJ_</th>\n",
       "      <th>ADV_VERB_</th>\n",
       "      <th>ADV_ADV_</th>\n",
       "      <th>sinonimos</th>\n",
       "      <th>antonimos</th>\n",
       "      <th>hiperonimos</th>\n",
       "      <th>hiponimos</th>\n",
       "      <th>action_wn</th>\n",
       "      <th>sim verbos</th>\n",
       "      <th>cantidad</th>\n",
       "    </tr>\n",
       "  </thead>\n",
       "  <tbody>\n",
       "    <tr>\n",
       "      <th>count</th>\n",
       "      <td>100.000000</td>\n",
       "      <td>100.000000</td>\n",
       "      <td>100.000000</td>\n",
       "      <td>100.000000</td>\n",
       "      <td>100.000000</td>\n",
       "      <td>100.000000</td>\n",
       "      <td>100.000000</td>\n",
       "      <td>100.000000</td>\n",
       "      <td>100.000000</td>\n",
       "      <td>100.000000</td>\n",
       "      <td>...</td>\n",
       "      <td>100.000000</td>\n",
       "      <td>100.000000</td>\n",
       "      <td>100.000000</td>\n",
       "      <td>100.000000</td>\n",
       "      <td>100.000000</td>\n",
       "      <td>100.000000</td>\n",
       "      <td>100.000000</td>\n",
       "      <td>100.000000</td>\n",
       "      <td>100.000000</td>\n",
       "      <td>100.000000</td>\n",
       "    </tr>\n",
       "    <tr>\n",
       "      <th>mean</th>\n",
       "      <td>4.761347</td>\n",
       "      <td>0.794955</td>\n",
       "      <td>1.719975</td>\n",
       "      <td>0.230639</td>\n",
       "      <td>1.928872</td>\n",
       "      <td>0.433916</td>\n",
       "      <td>0.771088</td>\n",
       "      <td>0.122621</td>\n",
       "      <td>1.231266</td>\n",
       "      <td>0.286138</td>\n",
       "      <td>...</td>\n",
       "      <td>0.110000</td>\n",
       "      <td>0.170000</td>\n",
       "      <td>0.040000</td>\n",
       "      <td>1.480000</td>\n",
       "      <td>0.030000</td>\n",
       "      <td>0.260000</td>\n",
       "      <td>0.370000</td>\n",
       "      <td>0.593222</td>\n",
       "      <td>0.476850</td>\n",
       "      <td>22.724198</td>\n",
       "    </tr>\n",
       "    <tr>\n",
       "      <th>std</th>\n",
       "      <td>3.285846</td>\n",
       "      <td>1.397995</td>\n",
       "      <td>1.375329</td>\n",
       "      <td>0.643803</td>\n",
       "      <td>2.488580</td>\n",
       "      <td>0.945647</td>\n",
       "      <td>1.106752</td>\n",
       "      <td>0.455211</td>\n",
       "      <td>1.596435</td>\n",
       "      <td>0.703187</td>\n",
       "      <td>...</td>\n",
       "      <td>0.510397</td>\n",
       "      <td>0.603943</td>\n",
       "      <td>0.281411</td>\n",
       "      <td>1.218378</td>\n",
       "      <td>0.171447</td>\n",
       "      <td>0.504925</td>\n",
       "      <td>0.705748</td>\n",
       "      <td>0.360166</td>\n",
       "      <td>0.317428</td>\n",
       "      <td>16.284707</td>\n",
       "    </tr>\n",
       "    <tr>\n",
       "      <th>min</th>\n",
       "      <td>0.028963</td>\n",
       "      <td>0.000000</td>\n",
       "      <td>0.000000</td>\n",
       "      <td>0.000000</td>\n",
       "      <td>0.000000</td>\n",
       "      <td>0.000000</td>\n",
       "      <td>0.000000</td>\n",
       "      <td>0.000000</td>\n",
       "      <td>0.000000</td>\n",
       "      <td>0.000000</td>\n",
       "      <td>...</td>\n",
       "      <td>0.000000</td>\n",
       "      <td>0.000000</td>\n",
       "      <td>0.000000</td>\n",
       "      <td>0.000000</td>\n",
       "      <td>0.000000</td>\n",
       "      <td>0.000000</td>\n",
       "      <td>0.000000</td>\n",
       "      <td>0.000000</td>\n",
       "      <td>0.171850</td>\n",
       "      <td>2.416415</td>\n",
       "    </tr>\n",
       "    <tr>\n",
       "      <th>25%</th>\n",
       "      <td>2.052701</td>\n",
       "      <td>0.000000</td>\n",
       "      <td>0.730803</td>\n",
       "      <td>0.000000</td>\n",
       "      <td>0.000000</td>\n",
       "      <td>0.000000</td>\n",
       "      <td>0.000000</td>\n",
       "      <td>0.000000</td>\n",
       "      <td>0.000000</td>\n",
       "      <td>0.000000</td>\n",
       "      <td>...</td>\n",
       "      <td>0.000000</td>\n",
       "      <td>0.000000</td>\n",
       "      <td>0.000000</td>\n",
       "      <td>1.000000</td>\n",
       "      <td>0.000000</td>\n",
       "      <td>0.000000</td>\n",
       "      <td>0.000000</td>\n",
       "      <td>0.400000</td>\n",
       "      <td>0.255728</td>\n",
       "      <td>11.284062</td>\n",
       "    </tr>\n",
       "    <tr>\n",
       "      <th>50%</th>\n",
       "      <td>4.231289</td>\n",
       "      <td>0.000000</td>\n",
       "      <td>1.390212</td>\n",
       "      <td>0.000000</td>\n",
       "      <td>1.432870</td>\n",
       "      <td>0.000000</td>\n",
       "      <td>0.416269</td>\n",
       "      <td>0.000000</td>\n",
       "      <td>0.719091</td>\n",
       "      <td>0.000000</td>\n",
       "      <td>...</td>\n",
       "      <td>0.000000</td>\n",
       "      <td>0.000000</td>\n",
       "      <td>0.000000</td>\n",
       "      <td>1.000000</td>\n",
       "      <td>0.000000</td>\n",
       "      <td>0.000000</td>\n",
       "      <td>0.000000</td>\n",
       "      <td>0.535714</td>\n",
       "      <td>0.312278</td>\n",
       "      <td>17.750911</td>\n",
       "    </tr>\n",
       "    <tr>\n",
       "      <th>75%</th>\n",
       "      <td>6.227800</td>\n",
       "      <td>1.385554</td>\n",
       "      <td>2.228058</td>\n",
       "      <td>0.000000</td>\n",
       "      <td>2.746455</td>\n",
       "      <td>0.453786</td>\n",
       "      <td>1.006907</td>\n",
       "      <td>0.000000</td>\n",
       "      <td>1.658040</td>\n",
       "      <td>0.085371</td>\n",
       "      <td>...</td>\n",
       "      <td>0.000000</td>\n",
       "      <td>0.000000</td>\n",
       "      <td>0.000000</td>\n",
       "      <td>2.000000</td>\n",
       "      <td>0.000000</td>\n",
       "      <td>0.000000</td>\n",
       "      <td>1.000000</td>\n",
       "      <td>1.000000</td>\n",
       "      <td>0.893845</td>\n",
       "      <td>28.201470</td>\n",
       "    </tr>\n",
       "    <tr>\n",
       "      <th>max</th>\n",
       "      <td>17.454696</td>\n",
       "      <td>6.874469</td>\n",
       "      <td>6.109281</td>\n",
       "      <td>4.202004</td>\n",
       "      <td>17.434322</td>\n",
       "      <td>6.334804</td>\n",
       "      <td>5.843788</td>\n",
       "      <td>3.218731</td>\n",
       "      <td>9.563269</td>\n",
       "      <td>4.052570</td>\n",
       "      <td>...</td>\n",
       "      <td>4.000000</td>\n",
       "      <td>4.000000</td>\n",
       "      <td>2.000000</td>\n",
       "      <td>6.000000</td>\n",
       "      <td>1.000000</td>\n",
       "      <td>2.000000</td>\n",
       "      <td>3.000000</td>\n",
       "      <td>1.000000</td>\n",
       "      <td>1.000000</td>\n",
       "      <td>89.999936</td>\n",
       "    </tr>\n",
       "  </tbody>\n",
       "</table>\n",
       "<p>8 rows × 39 columns</p>\n",
       "</div>"
      ],
      "text/plain": [
       "        NOUN_NOUN    NOUN_ADJ   NOUN_VERB    NOUN_ADV    ADJ_NOUN     ADJ_ADJ  \\\n",
       "count  100.000000  100.000000  100.000000  100.000000  100.000000  100.000000   \n",
       "mean     4.761347    0.794955    1.719975    0.230639    1.928872    0.433916   \n",
       "std      3.285846    1.397995    1.375329    0.643803    2.488580    0.945647   \n",
       "min      0.028963    0.000000    0.000000    0.000000    0.000000    0.000000   \n",
       "25%      2.052701    0.000000    0.730803    0.000000    0.000000    0.000000   \n",
       "50%      4.231289    0.000000    1.390212    0.000000    1.432870    0.000000   \n",
       "75%      6.227800    1.385554    2.228058    0.000000    2.746455    0.453786   \n",
       "max     17.454696    6.874469    6.109281    4.202004   17.434322    6.334804   \n",
       "\n",
       "         ADJ_VERB     ADJ_ADV   VERB_NOUN    VERB_ADJ  ...    ADV_ADJ_  \\\n",
       "count  100.000000  100.000000  100.000000  100.000000  ...  100.000000   \n",
       "mean     0.771088    0.122621    1.231266    0.286138  ...    0.110000   \n",
       "std      1.106752    0.455211    1.596435    0.703187  ...    0.510397   \n",
       "min      0.000000    0.000000    0.000000    0.000000  ...    0.000000   \n",
       "25%      0.000000    0.000000    0.000000    0.000000  ...    0.000000   \n",
       "50%      0.416269    0.000000    0.719091    0.000000  ...    0.000000   \n",
       "75%      1.006907    0.000000    1.658040    0.085371  ...    0.000000   \n",
       "max      5.843788    3.218731    9.563269    4.052570  ...    4.000000   \n",
       "\n",
       "        ADV_VERB_    ADV_ADV_   sinonimos   antonimos  hiperonimos  \\\n",
       "count  100.000000  100.000000  100.000000  100.000000   100.000000   \n",
       "mean     0.170000    0.040000    1.480000    0.030000     0.260000   \n",
       "std      0.603943    0.281411    1.218378    0.171447     0.504925   \n",
       "min      0.000000    0.000000    0.000000    0.000000     0.000000   \n",
       "25%      0.000000    0.000000    1.000000    0.000000     0.000000   \n",
       "50%      0.000000    0.000000    1.000000    0.000000     0.000000   \n",
       "75%      0.000000    0.000000    2.000000    0.000000     0.000000   \n",
       "max      4.000000    2.000000    6.000000    1.000000     2.000000   \n",
       "\n",
       "        hiponimos   action_wn  sim verbos    cantidad  \n",
       "count  100.000000  100.000000  100.000000  100.000000  \n",
       "mean     0.370000    0.593222    0.476850   22.724198  \n",
       "std      0.705748    0.360166    0.317428   16.284707  \n",
       "min      0.000000    0.000000    0.171850    2.416415  \n",
       "25%      0.000000    0.400000    0.255728   11.284062  \n",
       "50%      0.000000    0.535714    0.312278   17.750911  \n",
       "75%      1.000000    1.000000    0.893845   28.201470  \n",
       "max      3.000000    1.000000    1.000000   89.999936  \n",
       "\n",
       "[8 rows x 39 columns]"
      ]
     },
     "execution_count": 1364,
     "metadata": {},
     "output_type": "execute_result"
    }
   ],
   "source": [
    "dataframe.describe()"
   ]
  },
  {
   "cell_type": "code",
   "execution_count": 1365,
   "metadata": {},
   "outputs": [
    {
     "name": "stdout",
     "output_type": "stream",
     "text": [
      "CLASS\n",
      "contradiction    27\n",
      "entailment       42\n",
      "neutral          31\n",
      "dtype: int64\n"
     ]
    }
   ],
   "source": [
    "print(dataframe.groupby('CLASS').size())"
   ]
  },
  {
   "cell_type": "code",
   "execution_count": 1366,
   "metadata": {},
   "outputs": [
    {
     "data": {
      "image/png": "[encoded data removed]",
      "text/plain": [
       "<Figure size 2000x1000 with 42 Axes>"
      ]
     },
     "metadata": {},
     "output_type": "display_data"
    }
   ],
   "source": [
    "dataframe.hist(figsize=(20,10))\n",
    "plt.show()"
   ]
  },
  {
   "cell_type": "code",
   "execution_count": 1367,
   "metadata": {},
   "outputs": [],
   "source": [
    "labels=['NOUN_NOUN',\n",
    " 'NOUN_ADJ',\n",
    " 'NOUN_VERB',\n",
    " 'NOUN_ADV',\n",
    " 'ADJ_NOUN',\n",
    " 'ADJ_ADJ',\n",
    " 'ADJ_VERB',\n",
    " 'ADJ_ADV',\n",
    " 'VERB_NOUN',\n",
    " 'VERB_ADJ',\n",
    " 'VERB_VERB',\n",
    " 'VERB_ADV',\n",
    " 'ADV_NOUN',\n",
    " 'ADV_ADJ',\n",
    " 'ADV_VERB',\n",
    " 'ADV_ADV']"
   ]
  },
  {
   "cell_type": "code",
   "execution_count": 1368,
   "metadata": {},
   "outputs": [],
   "source": [
    "#sb.pairplot(dataframe.dropna(), hue='CLASS',size=4,vars=labels,kind='reg')"
   ]
  },
  {
   "cell_type": "code",
   "execution_count": 1369,
   "metadata": {},
   "outputs": [
    {
     "name": "stderr",
     "output_type": "stream",
     "text": [
      "C:\\Users\\Ninja\\AppData\\Local\\Temp\\ipykernel_10236\\1802400925.py:1: FutureWarning: In a future version of pandas all arguments of DataFrame.drop except for the argument 'labels' will be keyword-only.\n",
      "  X = np.array(dataframe.drop(['CLASS'],1))\n",
      "C:\\Users\\Ninja\\AppData\\Local\\Temp\\ipykernel_10236\\1802400925.py:2: FutureWarning: In a future version of pandas all arguments of DataFrame.drop except for the argument 'labels' will be keyword-only.\n",
      "  X_test = np.array(dataframe.drop(['CLASS'],1))\n"
     ]
    },
    {
     "data": {
      "text/plain": [
       "(100, 39)"
      ]
     },
     "execution_count": 1369,
     "metadata": {},
     "output_type": "execute_result"
    }
   ],
   "source": [
    "X = np.array(dataframe.drop(['CLASS'],1))\n",
    "X_test = np.array(dataframe.drop(['CLASS'],1))\n",
    "y = np.array(dataframe['CLASS'])\n",
    "y_test =np.array(dataframe['CLASS'])\n",
    "X.shape"
   ]
  },
  {
   "cell_type": "code",
   "execution_count": 1370,
   "metadata": {},
   "outputs": [
    {
     "data": {
      "text/plain": [
       "array(['entailment', 'entailment', 'contradiction', 'contradiction',\n",
       "       'neutral', 'neutral', 'neutral', 'entailment', 'neutral',\n",
       "       'entailment', 'neutral', 'contradiction', 'entailment',\n",
       "       'contradiction', 'neutral', 'neutral', 'entailment',\n",
       "       'contradiction', 'contradiction', 'entailment', 'entailment',\n",
       "       'entailment', 'neutral', 'contradiction', 'entailment', 'neutral',\n",
       "       'entailment', 'entailment', 'entailment', 'neutral', 'neutral',\n",
       "       'contradiction', 'contradiction', 'entailment', 'contradiction',\n",
       "       'neutral', 'entailment', 'neutral', 'neutral', 'entailment',\n",
       "       'neutral', 'neutral', 'contradiction', 'neutral', 'entailment',\n",
       "       'neutral', 'neutral', 'entailment', 'contradiction', 'neutral',\n",
       "       'entailment', 'entailment', 'neutral', 'entailment',\n",
       "       'contradiction', 'entailment', 'entailment', 'neutral', 'neutral',\n",
       "       'neutral', 'neutral', 'neutral', 'neutral', 'entailment',\n",
       "       'entailment', 'contradiction', 'entailment', 'entailment',\n",
       "       'neutral', 'contradiction', 'entailment', 'contradiction',\n",
       "       'contradiction', 'contradiction', 'neutral', 'entailment',\n",
       "       'entailment', 'entailment', 'entailment', 'contradiction',\n",
       "       'neutral', 'entailment', 'entailment', 'entailment',\n",
       "       'contradiction', 'entailment', 'entailment', 'entailment',\n",
       "       'contradiction', 'contradiction', 'contradiction', 'neutral',\n",
       "       'entailment', 'entailment', 'contradiction', 'entailment',\n",
       "       'entailment', 'contradiction', 'contradiction', 'contradiction'],\n",
       "      dtype=object)"
      ]
     },
     "execution_count": 1370,
     "metadata": {},
     "output_type": "execute_result"
    }
   ],
   "source": [
    "y_test"
   ]
  },
  {
   "cell_type": "code",
   "execution_count": 1371,
   "metadata": {},
   "outputs": [
    {
     "data": {
      "text/plain": [
       "array(['entailment', 'entailment', 'contradiction', 'contradiction',\n",
       "       'neutral', 'neutral', 'neutral', 'entailment', 'neutral',\n",
       "       'entailment', 'neutral', 'contradiction', 'entailment',\n",
       "       'contradiction', 'neutral', 'neutral', 'entailment',\n",
       "       'contradiction', 'contradiction', 'entailment', 'entailment',\n",
       "       'entailment', 'neutral', 'contradiction', 'entailment', 'neutral',\n",
       "       'entailment', 'entailment', 'entailment', 'neutral', 'neutral',\n",
       "       'contradiction', 'contradiction', 'entailment', 'contradiction',\n",
       "       'neutral', 'entailment', 'neutral', 'neutral', 'entailment',\n",
       "       'neutral', 'neutral', 'contradiction', 'neutral', 'entailment',\n",
       "       'neutral', 'neutral', 'entailment', 'contradiction', 'neutral',\n",
       "       'entailment', 'entailment', 'neutral', 'entailment',\n",
       "       'contradiction', 'entailment', 'entailment', 'neutral', 'neutral',\n",
       "       'neutral', 'neutral', 'neutral', 'neutral', 'entailment',\n",
       "       'entailment', 'contradiction', 'entailment', 'entailment',\n",
       "       'neutral', 'contradiction', 'entailment', 'contradiction',\n",
       "       'contradiction', 'contradiction', 'neutral', 'entailment',\n",
       "       'entailment', 'entailment', 'entailment', 'contradiction',\n",
       "       'neutral', 'entailment', 'entailment', 'entailment',\n",
       "       'contradiction', 'entailment', 'entailment', 'entailment',\n",
       "       'contradiction', 'contradiction', 'contradiction', 'neutral',\n",
       "       'entailment', 'entailment', 'contradiction', 'entailment',\n",
       "       'entailment', 'contradiction', 'contradiction', 'contradiction'],\n",
       "      dtype=object)"
      ]
     },
     "execution_count": 1371,
     "metadata": {},
     "output_type": "execute_result"
    }
   ],
   "source": [
    "y"
   ]
  },
  {
   "cell_type": "code",
   "execution_count": 1372,
   "metadata": {},
   "outputs": [
    {
     "name": "stderr",
     "output_type": "stream",
     "text": [
      "c:\\Users\\Ninja\\anaconda3\\lib\\site-packages\\sklearn\\linear_model\\_logistic.py:814: ConvergenceWarning: lbfgs failed to converge (status=1):\n",
      "STOP: TOTAL NO. of ITERATIONS REACHED LIMIT.\n",
      "\n",
      "Increase the number of iterations (max_iter) or scale the data as shown in:\n",
      "    https://scikit-learn.org/stable/modules/preprocessing.html\n",
      "Please also refer to the documentation for alternative solver options:\n",
      "    https://scikit-learn.org/stable/modules/linear_model.html#logistic-regression\n",
      "  n_iter_i = _check_optimize_result(\n"
     ]
    },
    {
     "data": {
      "text/plain": [
       "LogisticRegression(C=0.1)"
      ]
     },
     "execution_count": 1372,
     "metadata": {},
     "output_type": "execute_result"
    }
   ],
   "source": [
    "model = linear_model.LogisticRegression(penalty=\"l2\", C=0.1)\n",
    "model.fit(X,y)"
   ]
  },
  {
   "cell_type": "code",
   "execution_count": 1373,
   "metadata": {},
   "outputs": [
    {
     "data": {
      "text/plain": [
       "{'C': 0.1,\n",
       " 'class_weight': None,\n",
       " 'dual': False,\n",
       " 'fit_intercept': True,\n",
       " 'intercept_scaling': 1,\n",
       " 'l1_ratio': None,\n",
       " 'max_iter': 100,\n",
       " 'multi_class': 'auto',\n",
       " 'n_jobs': None,\n",
       " 'penalty': 'l2',\n",
       " 'random_state': None,\n",
       " 'solver': 'lbfgs',\n",
       " 'tol': 0.0001,\n",
       " 'verbose': 0,\n",
       " 'warm_start': False}"
      ]
     },
     "execution_count": 1373,
     "metadata": {},
     "output_type": "execute_result"
    }
   ],
   "source": [
    "model.get_params()"
   ]
  },
  {
   "cell_type": "code",
   "execution_count": 1374,
   "metadata": {},
   "outputs": [
    {
     "data": {
      "text/plain": [
       "array([[ 4.18230173e-01, -3.27838399e-01, -9.03917740e-02],\n",
       "       [-2.21226403e-01,  6.61138681e-01, -4.39912278e-01],\n",
       "       [-2.02894621e-01,  9.36876879e-04,  2.01957744e-01],\n",
       "       [-1.59069962e-01,  3.97466206e-01, -2.38396244e-01],\n",
       "       [-4.38140599e-01,  3.57346819e-01,  8.07937798e-02],\n",
       "       [ 1.81576070e-01, -4.05369948e-02, -1.41039075e-01],\n",
       "       [-8.02313272e-02,  1.16788429e-01, -3.65571013e-02],\n",
       "       [-5.06749100e-01,  8.95795219e-01, -3.89046119e-01],\n",
       "       [-1.50655033e-01, -6.42010233e-01,  7.92665266e-01],\n",
       "       [ 5.13856916e-01,  1.64968319e+00, -2.16354010e+00],\n",
       "       [-3.46696952e-01,  1.71440717e-01,  1.75256235e-01],\n",
       "       [ 2.96548150e-01, -1.18449355e-01, -1.78098795e-01],\n",
       "       [-2.62931935e-01,  6.36803604e-01, -3.73871668e-01],\n",
       "       [ 2.57489490e-01,  8.23579177e-01, -1.08106867e+00],\n",
       "       [-7.17332337e-01, -1.70825602e+00,  2.42558836e+00],\n",
       "       [-3.59945577e-01,  4.49070998e-01, -8.91254208e-02],\n",
       "       [-2.54724534e-01,  1.90115886e+00, -1.64643433e+00],\n",
       "       [ 1.16883102e-01, -1.23276684e-01,  6.39358194e-03],\n",
       "       [-3.47068123e-01,  4.62093429e-01, -1.15025306e-01],\n",
       "       [-2.45112764e-01,  2.34281500e+00, -2.09770223e+00],\n",
       "       [-1.97275456e-01,  1.38828046e+00, -1.19100500e+00],\n",
       "       [ 2.22740918e-01,  1.46720292e+00, -1.68994384e+00],\n",
       "       [-5.17067169e-01,  1.24886411e-01,  3.92180759e-01],\n",
       "       [ 1.23446416e-01,  9.64108103e-02, -2.19857227e-01],\n",
       "       [-5.79985063e-01,  1.55945520e+00, -9.79470140e-01],\n",
       "       [-1.08120132e+00, -5.47551675e-01,  1.62875300e+00],\n",
       "       [ 1.64694867e-01,  1.06716044e+00, -1.23185530e+00],\n",
       "       [-1.08608957e-01,  5.99780768e-01, -4.91171811e-01],\n",
       "       [ 2.03159563e-01, -7.26029170e-01,  5.22869607e-01],\n",
       "       [ 1.40159093e-01, -1.26369483e-01, -1.37896096e-02],\n",
       "       [-9.58253170e-01, -2.64153502e-01,  1.22240667e+00],\n",
       "       [ 1.04072428e+00, -9.99969530e-01, -4.07547540e-02],\n",
       "       [ 4.62500414e-01, -1.22642576e-01, -3.39857838e-01],\n",
       "       [ 3.87116776e-01, -3.82333980e-01, -4.78279615e-03],\n",
       "       [ 3.61026857e-01,  2.79875238e-01, -6.40902095e-01],\n",
       "       [ 8.53057317e-01, -4.21052652e+00,  3.35746920e+00],\n",
       "       [ 2.89945321e-02,  2.27169362e-01, -2.56163894e-01],\n",
       "       [ 4.44534786e-01, -1.01807166e+00,  5.73536873e-01],\n",
       "       [-2.35988156e+00,  6.31124740e-02,  2.29676908e+00],\n",
       "       [-1.24951227e+00,  1.35481167e+00, -1.05299404e-01],\n",
       "       [ 1.45378284e-01, -4.36685643e-01,  2.91307359e-01],\n",
       "       [ 1.73959138e-02, -6.06208043e-01,  5.88812129e-01],\n",
       "       [ 8.51122945e-01, -1.05938668e+00,  2.08263736e-01],\n",
       "       [-2.90757079e-01,  6.19610680e-01, -3.28853601e-01],\n",
       "       [-1.32407456e-02,  3.58902618e-01, -3.45661872e-01],\n",
       "       [ 1.23816348e-01,  6.27166163e-02, -1.86532964e-01],\n",
       "       [ 2.84566774e-01,  6.68740070e-01, -9.53306844e-01],\n",
       "       [-6.64850049e-01,  1.25964138e+00, -5.94791330e-01],\n",
       "       [ 1.43419219e-01, -5.44955375e-01,  4.01536156e-01],\n",
       "       [-1.52181737e-02, -7.75363574e-01,  7.90581748e-01],\n",
       "       [-3.87734087e-01,  5.58196006e-01, -1.70461918e-01],\n",
       "       [-2.17450854e+00,  1.62502549e+00,  5.49483052e-01],\n",
       "       [ 2.53610940e-01, -7.26098902e-01,  4.72487962e-01],\n",
       "       [-8.82664135e-02,  1.28761581e+00, -1.19934940e+00],\n",
       "       [-1.89699609e-01,  5.58553300e-01, -3.68853690e-01],\n",
       "       [-3.05536399e-01,  2.17660415e+00, -1.87106775e+00],\n",
       "       [-3.87966743e-01,  4.59428106e-01, -7.14613638e-02],\n",
       "       [-4.04478929e-02, -2.65762232e-01,  3.06210124e-01],\n",
       "       [-3.13518054e-01, -6.62326401e-02,  3.79750694e-01],\n",
       "       [-1.15233187e+00,  2.14937598e-01,  9.37394273e-01],\n",
       "       [ 3.85303653e-02, -4.54174414e-01,  4.15644049e-01],\n",
       "       [-2.40051639e-01,  7.29808328e-01, -4.89756689e-01],\n",
       "       [-1.19573033e-01, -2.10823665e-01,  3.30396698e-01],\n",
       "       [-9.09689876e-03,  6.33564032e-01, -6.24467133e-01],\n",
       "       [-1.32926156e+00,  8.34317574e-01,  4.94943985e-01],\n",
       "       [ 2.54635225e-01, -3.74841396e-01,  1.20206171e-01],\n",
       "       [-2.31048381e-01,  1.13677552e+00, -9.05727142e-01],\n",
       "       [ 3.67351549e-01, -1.44032553e-01, -2.23318996e-01],\n",
       "       [-4.73157512e-01,  1.25364583e-01,  3.47792929e-01],\n",
       "       [ 2.47789395e-01,  3.79867000e-01, -6.27656395e-01],\n",
       "       [-4.53028961e-02,  8.72428013e-01, -8.27125117e-01],\n",
       "       [-2.38093078e-01,  7.81810043e-01, -5.43716965e-01],\n",
       "       [ 4.27793475e-01, -3.47542246e-01, -8.02512292e-02],\n",
       "       [ 4.42759305e-01, -1.06603111e+00,  6.23271804e-01],\n",
       "       [-7.93847818e-02, -6.94858034e-01,  7.74242816e-01],\n",
       "       [-1.11582330e+00,  7.27460275e-01,  3.88363021e-01],\n",
       "       [-5.87426923e-01,  1.12566085e+00, -5.38233926e-01],\n",
       "       [-1.29745813e-01,  1.13374227e-01,  1.63715859e-02],\n",
       "       [-9.33813541e-01,  1.06435883e+00, -1.30545294e-01],\n",
       "       [-3.00731957e-01,  7.73066296e-01, -4.72334339e-01],\n",
       "       [ 1.02935241e-01, -1.19459806e+00,  1.09166282e+00],\n",
       "       [ 1.36450419e-01,  6.27205854e-01, -7.63656273e-01],\n",
       "       [ 7.73577329e-02, -2.63819219e-03, -7.47195407e-02],\n",
       "       [-5.10858563e-01,  1.39960459e+00, -8.88746029e-01],\n",
       "       [ 6.95459630e-01, -1.25639484e+00,  5.60935207e-01],\n",
       "       [-1.29526880e+00,  1.38057372e+00, -8.53049269e-02],\n",
       "       [-4.97905329e-01,  1.04227751e+00, -5.44372177e-01],\n",
       "       [-2.82759579e-01,  1.01420225e+00, -7.31442672e-01],\n",
       "       [ 6.14558263e-03, -7.73938605e-01,  7.67793022e-01],\n",
       "       [-1.02235204e-01,  3.74695425e-01, -2.72460221e-01],\n",
       "       [ 3.85303969e-01,  4.13370833e-01, -7.98674802e-01],\n",
       "       [ 2.89029766e-01, -1.77249321e+00,  1.48346344e+00],\n",
       "       [ 3.07270363e-01,  1.78483907e-01, -4.85754270e-01],\n",
       "       [-5.98039048e-01,  3.25889180e-01,  2.72149867e-01],\n",
       "       [ 2.45758502e-01, -3.13068005e-01,  6.73095027e-02],\n",
       "       [-6.80095042e-01,  8.15642186e-01, -1.35547143e-01],\n",
       "       [-1.57128680e-01,  7.70888834e-01, -6.13760154e-01],\n",
       "       [ 2.82529825e-01,  3.11468555e-02, -3.13676680e-01],\n",
       "       [-8.90211965e-02,  5.25326774e-01, -4.36305577e-01],\n",
       "       [ 6.69090617e-01, -4.31837795e-01, -2.37252822e-01]])"
      ]
     },
     "execution_count": 1374,
     "metadata": {},
     "output_type": "execute_result"
    }
   ],
   "source": [
    "model.decision_function(X)"
   ]
  },
  {
   "cell_type": "code",
   "execution_count": 1375,
   "metadata": {},
   "outputs": [],
   "source": [
    "labels=dataframe.columns[1:]"
   ]
  },
  {
   "cell_type": "code",
   "execution_count": 1376,
   "metadata": {},
   "outputs": [
    {
     "data": {
      "text/plain": [
       "array(['contradiction', 'entailment', 'neutral'], dtype=object)"
      ]
     },
     "execution_count": 1376,
     "metadata": {},
     "output_type": "execute_result"
    }
   ],
   "source": [
    "model.classes_"
   ]
  },
  {
   "cell_type": "code",
   "execution_count": 1377,
   "metadata": {},
   "outputs": [],
   "source": [
    "contradiction=model.coef_[0]\n",
    "entailment=model.coef_[1]\n",
    "neutral=model.coef_[2]"
   ]
  },
  {
   "cell_type": "code",
   "execution_count": 1378,
   "metadata": {},
   "outputs": [
    {
     "name": "stdout",
     "output_type": "stream",
     "text": [
      "Contradiction  27 ADV_NOUN_ 32 antonimos\n",
      "Entailment  32 antonimos 27 ADV_NOUN_\n",
      "Neutral  21 ADJ_VERB_ 36 sim verbos\n"
     ]
    }
   ],
   "source": [
    "print(\"Contradiction \",np.argmax(contradiction),labels[np.argmax(contradiction)],np.argmin(contradiction),labels[np.argmin(contradiction)])\n",
    "print(\"Entailment \",np.argmax(entailment),labels[np.argmax(entailment)],np.argmin(entailment),labels[np.argmin(entailment)])\n",
    "print(\"Neutral \",np.argmax(neutral),labels[np.argmax(neutral)],np.argmin(neutral),labels[np.argmin(neutral)])"
   ]
  },
  {
   "cell_type": "code",
   "execution_count": 1379,
   "metadata": {},
   "outputs": [],
   "source": [
    "n_columns=dataframe.shape[1]-1"
   ]
  },
  {
   "cell_type": "code",
   "execution_count": 1380,
   "metadata": {},
   "outputs": [
    {
     "data": {
      "image/png": "[encoded data removed]",
      "text/plain": [
       "<Figure size 640x480 with 1 Axes>"
      ]
     },
     "metadata": {},
     "output_type": "display_data"
    }
   ],
   "source": [
    "import matplotlib.pyplot as plt\n",
    "import numpy as np\n",
    "\n",
    "x_v = np.arange(0,n_columns,1)\n",
    "y_v = contradiction\n",
    "\n",
    "plt.bar(x_v,y_v)\n",
    "plt.xlabel('x')\n",
    "plt.ylabel('y')\n",
    "plt.title('Contradiction')\n",
    "plt.show()"
   ]
  },
  {
   "cell_type": "code",
   "execution_count": 1381,
   "metadata": {},
   "outputs": [
    {
     "data": {
      "image/png": "[encoded data removed]",
      "text/plain": [
       "<Figure size 640x480 with 1 Axes>"
      ]
     },
     "metadata": {},
     "output_type": "display_data"
    }
   ],
   "source": [
    "x_v = np.arange(0,n_columns,1)\n",
    "y_v = entailment\n",
    "\n",
    "plt.bar(x_v,y_v)\n",
    "plt.xlabel('x')\n",
    "plt.ylabel('y')\n",
    "plt.title('Entailment')\n",
    "plt.show()"
   ]
  },
  {
   "cell_type": "code",
   "execution_count": 1382,
   "metadata": {},
   "outputs": [
    {
     "data": {
      "image/png": "[encoded data removed]",
      "text/plain": [
       "<Figure size 640x480 with 1 Axes>"
      ]
     },
     "metadata": {},
     "output_type": "display_data"
    }
   ],
   "source": [
    "x_v = np.arange(0,n_columns,1)\n",
    "y_v = neutral\n",
    "\n",
    "plt.bar(x_v,y_v)\n",
    "plt.xlabel('x')\n",
    "plt.ylabel('y')\n",
    "plt.title('Neutral')\n",
    "plt.show()"
   ]
  },
  {
   "cell_type": "code",
   "execution_count": 1383,
   "metadata": {},
   "outputs": [
    {
     "name": "stdout",
     "output_type": "stream",
     "text": [
      "['contradiction' 'entailment' 'neutral' 'entailment' 'entailment'\n",
      " 'contradiction' 'entailment' 'entailment' 'neutral' 'entailment'\n",
      " 'neutral' 'contradiction' 'entailment' 'entailment' 'neutral'\n",
      " 'entailment' 'entailment' 'contradiction' 'entailment' 'entailment'\n",
      " 'entailment' 'entailment' 'neutral' 'contradiction' 'entailment'\n",
      " 'neutral' 'entailment' 'entailment' 'neutral' 'contradiction' 'neutral'\n",
      " 'contradiction' 'contradiction' 'contradiction' 'contradiction' 'neutral'\n",
      " 'entailment' 'neutral' 'neutral' 'entailment' 'neutral' 'neutral'\n",
      " 'contradiction' 'entailment' 'entailment' 'contradiction' 'entailment'\n",
      " 'entailment' 'neutral' 'neutral' 'entailment' 'entailment' 'neutral'\n",
      " 'entailment' 'entailment' 'entailment' 'entailment' 'neutral' 'neutral'\n",
      " 'neutral' 'neutral' 'entailment' 'neutral' 'entailment' 'entailment'\n",
      " 'contradiction' 'entailment' 'contradiction' 'neutral' 'entailment'\n",
      " 'entailment' 'entailment' 'contradiction' 'neutral' 'neutral'\n",
      " 'entailment' 'entailment' 'entailment' 'entailment' 'entailment'\n",
      " 'neutral' 'entailment' 'contradiction' 'entailment' 'contradiction'\n",
      " 'entailment' 'entailment' 'entailment' 'neutral' 'entailment'\n",
      " 'entailment' 'neutral' 'contradiction' 'entailment' 'contradiction'\n",
      " 'entailment' 'entailment' 'contradiction' 'entailment' 'contradiction']\n"
     ]
    }
   ],
   "source": [
    "predictions = model.predict(X)\n",
    "print(predictions)"
   ]
  },
  {
   "cell_type": "code",
   "execution_count": 1384,
   "metadata": {},
   "outputs": [
    {
     "data": {
      "text/plain": [
       "array(['entailment', 'entailment', 'contradiction', 'contradiction',\n",
       "       'neutral', 'neutral', 'neutral', 'entailment', 'neutral',\n",
       "       'entailment', 'neutral', 'contradiction', 'entailment',\n",
       "       'contradiction', 'neutral', 'neutral', 'entailment',\n",
       "       'contradiction', 'contradiction', 'entailment', 'entailment',\n",
       "       'entailment', 'neutral', 'contradiction', 'entailment', 'neutral',\n",
       "       'entailment', 'entailment', 'entailment', 'neutral', 'neutral',\n",
       "       'contradiction', 'contradiction', 'entailment', 'contradiction',\n",
       "       'neutral', 'entailment', 'neutral', 'neutral', 'entailment',\n",
       "       'neutral', 'neutral', 'contradiction', 'neutral', 'entailment',\n",
       "       'neutral', 'neutral', 'entailment', 'contradiction', 'neutral',\n",
       "       'entailment', 'entailment', 'neutral', 'entailment',\n",
       "       'contradiction', 'entailment', 'entailment', 'neutral', 'neutral',\n",
       "       'neutral', 'neutral', 'neutral', 'neutral', 'entailment',\n",
       "       'entailment', 'contradiction', 'entailment', 'entailment',\n",
       "       'neutral', 'contradiction', 'entailment', 'contradiction',\n",
       "       'contradiction', 'contradiction', 'neutral', 'entailment',\n",
       "       'entailment', 'entailment', 'entailment', 'contradiction',\n",
       "       'neutral', 'entailment', 'entailment', 'entailment',\n",
       "       'contradiction', 'entailment', 'entailment', 'entailment',\n",
       "       'contradiction', 'contradiction', 'contradiction', 'neutral',\n",
       "       'entailment', 'entailment', 'contradiction', 'entailment',\n",
       "       'entailment', 'contradiction', 'contradiction', 'contradiction'],\n",
       "      dtype=object)"
      ]
     },
     "execution_count": 1384,
     "metadata": {},
     "output_type": "execute_result"
    }
   ],
   "source": [
    "y"
   ]
  },
  {
   "cell_type": "code",
   "execution_count": 1385,
   "metadata": {},
   "outputs": [
    {
     "data": {
      "text/plain": [
       "array([[ 8.40128101,  1.36358026,  1.14903089, ...,  0.8       ,\n",
       "         0.23303741, 25.6319913 ],\n",
       "       [ 8.93797857,  3.0000006 ,  0.82023352, ...,  0.5       ,\n",
       "         0.20343813, 43.3583741 ],\n",
       "       [ 4.3301526 ,  1.90905339,  1.79939061, ...,  0.4       ,\n",
       "         0.36080334, 13.51250924],\n",
       "       ...,\n",
       "       [ 4.00000048,  0.        ,  0.87312317, ...,  0.4       ,\n",
       "         0.24513762, 10.9125206 ],\n",
       "       [ 1.7297056 ,  0.        ,  1.42306229, ...,  1.        ,\n",
       "         1.        , 11.18939924],\n",
       "       [ 4.1998066 ,  0.        ,  0.76974306, ...,  0.66666667,\n",
       "         0.23483758, 17.15262644]])"
      ]
     },
     "execution_count": 1385,
     "metadata": {},
     "output_type": "execute_result"
    }
   ],
   "source": [
    "X"
   ]
  },
  {
   "cell_type": "code",
   "execution_count": 1386,
   "metadata": {},
   "outputs": [
    {
     "data": {
      "text/plain": [
       "0.71"
      ]
     },
     "execution_count": 1386,
     "metadata": {},
     "output_type": "execute_result"
    }
   ],
   "source": [
    "model.score(X,y)"
   ]
  },
  {
   "cell_type": "code",
   "execution_count": 1387,
   "metadata": {},
   "outputs": [
    {
     "name": "stdout",
     "output_type": "stream",
     "text": [
      "[[13 10  4]\n",
      " [ 5 36  1]\n",
      " [ 3  6 22]]\n"
     ]
    }
   ],
   "source": [
    "print(confusion_matrix(y, predictions))"
   ]
  },
  {
   "cell_type": "code",
   "execution_count": 1388,
   "metadata": {},
   "outputs": [
    {
     "name": "stdout",
     "output_type": "stream",
     "text": [
      "[0.54166667 0.76595745 0.75862069]\n"
     ]
    }
   ],
   "source": [
    "print(f1_score(y,predictions, average=None))"
   ]
  },
  {
   "cell_type": "code",
   "execution_count": 1389,
   "metadata": {},
   "outputs": [],
   "source": [
    "validation_size = 0.20\n",
    "seed = 7\n",
    "X_train, X_validation, Y_train, Y_validation = model_selection.train_test_split(X, y, test_size=validation_size)"
   ]
  },
  {
   "cell_type": "code",
   "execution_count": 1390,
   "metadata": {},
   "outputs": [
    {
     "name": "stderr",
     "output_type": "stream",
     "text": [
      "c:\\Users\\Ninja\\anaconda3\\lib\\site-packages\\sklearn\\linear_model\\_logistic.py:814: ConvergenceWarning: lbfgs failed to converge (status=1):\n",
      "STOP: TOTAL NO. of ITERATIONS REACHED LIMIT.\n",
      "\n",
      "Increase the number of iterations (max_iter) or scale the data as shown in:\n",
      "    https://scikit-learn.org/stable/modules/preprocessing.html\n",
      "Please also refer to the documentation for alternative solver options:\n",
      "    https://scikit-learn.org/stable/modules/linear_model.html#logistic-regression\n",
      "  n_iter_i = _check_optimize_result(\n",
      "c:\\Users\\Ninja\\anaconda3\\lib\\site-packages\\sklearn\\linear_model\\_logistic.py:814: ConvergenceWarning: lbfgs failed to converge (status=1):\n",
      "STOP: TOTAL NO. of ITERATIONS REACHED LIMIT.\n",
      "\n",
      "Increase the number of iterations (max_iter) or scale the data as shown in:\n",
      "    https://scikit-learn.org/stable/modules/preprocessing.html\n",
      "Please also refer to the documentation for alternative solver options:\n",
      "    https://scikit-learn.org/stable/modules/linear_model.html#logistic-regression\n",
      "  n_iter_i = _check_optimize_result(\n",
      "c:\\Users\\Ninja\\anaconda3\\lib\\site-packages\\sklearn\\linear_model\\_logistic.py:814: ConvergenceWarning: lbfgs failed to converge (status=1):\n",
      "STOP: TOTAL NO. of ITERATIONS REACHED LIMIT.\n",
      "\n",
      "Increase the number of iterations (max_iter) or scale the data as shown in:\n",
      "    https://scikit-learn.org/stable/modules/preprocessing.html\n",
      "Please also refer to the documentation for alternative solver options:\n",
      "    https://scikit-learn.org/stable/modules/linear_model.html#logistic-regression\n",
      "  n_iter_i = _check_optimize_result(\n",
      "c:\\Users\\Ninja\\anaconda3\\lib\\site-packages\\sklearn\\linear_model\\_logistic.py:814: ConvergenceWarning: lbfgs failed to converge (status=1):\n",
      "STOP: TOTAL NO. of ITERATIONS REACHED LIMIT.\n",
      "\n",
      "Increase the number of iterations (max_iter) or scale the data as shown in:\n",
      "    https://scikit-learn.org/stable/modules/preprocessing.html\n",
      "Please also refer to the documentation for alternative solver options:\n",
      "    https://scikit-learn.org/stable/modules/linear_model.html#logistic-regression\n",
      "  n_iter_i = _check_optimize_result(\n",
      "c:\\Users\\Ninja\\anaconda3\\lib\\site-packages\\sklearn\\linear_model\\_logistic.py:814: ConvergenceWarning: lbfgs failed to converge (status=1):\n",
      "STOP: TOTAL NO. of ITERATIONS REACHED LIMIT.\n",
      "\n",
      "Increase the number of iterations (max_iter) or scale the data as shown in:\n",
      "    https://scikit-learn.org/stable/modules/preprocessing.html\n",
      "Please also refer to the documentation for alternative solver options:\n",
      "    https://scikit-learn.org/stable/modules/linear_model.html#logistic-regression\n",
      "  n_iter_i = _check_optimize_result(\n",
      "c:\\Users\\Ninja\\anaconda3\\lib\\site-packages\\sklearn\\linear_model\\_logistic.py:814: ConvergenceWarning: lbfgs failed to converge (status=1):\n",
      "STOP: TOTAL NO. of ITERATIONS REACHED LIMIT.\n",
      "\n",
      "Increase the number of iterations (max_iter) or scale the data as shown in:\n",
      "    https://scikit-learn.org/stable/modules/preprocessing.html\n",
      "Please also refer to the documentation for alternative solver options:\n",
      "    https://scikit-learn.org/stable/modules/linear_model.html#logistic-regression\n",
      "  n_iter_i = _check_optimize_result(\n",
      "c:\\Users\\Ninja\\anaconda3\\lib\\site-packages\\sklearn\\linear_model\\_logistic.py:814: ConvergenceWarning: lbfgs failed to converge (status=1):\n",
      "STOP: TOTAL NO. of ITERATIONS REACHED LIMIT.\n",
      "\n",
      "Increase the number of iterations (max_iter) or scale the data as shown in:\n",
      "    https://scikit-learn.org/stable/modules/preprocessing.html\n",
      "Please also refer to the documentation for alternative solver options:\n",
      "    https://scikit-learn.org/stable/modules/linear_model.html#logistic-regression\n",
      "  n_iter_i = _check_optimize_result(\n",
      "c:\\Users\\Ninja\\anaconda3\\lib\\site-packages\\sklearn\\linear_model\\_logistic.py:814: ConvergenceWarning: lbfgs failed to converge (status=1):\n",
      "STOP: TOTAL NO. of ITERATIONS REACHED LIMIT.\n",
      "\n",
      "Increase the number of iterations (max_iter) or scale the data as shown in:\n",
      "    https://scikit-learn.org/stable/modules/preprocessing.html\n",
      "Please also refer to the documentation for alternative solver options:\n",
      "    https://scikit-learn.org/stable/modules/linear_model.html#logistic-regression\n",
      "  n_iter_i = _check_optimize_result(\n",
      "c:\\Users\\Ninja\\anaconda3\\lib\\site-packages\\sklearn\\linear_model\\_logistic.py:814: ConvergenceWarning: lbfgs failed to converge (status=1):\n",
      "STOP: TOTAL NO. of ITERATIONS REACHED LIMIT.\n",
      "\n",
      "Increase the number of iterations (max_iter) or scale the data as shown in:\n",
      "    https://scikit-learn.org/stable/modules/preprocessing.html\n",
      "Please also refer to the documentation for alternative solver options:\n",
      "    https://scikit-learn.org/stable/modules/linear_model.html#logistic-regression\n",
      "  n_iter_i = _check_optimize_result(\n",
      "c:\\Users\\Ninja\\anaconda3\\lib\\site-packages\\sklearn\\linear_model\\_logistic.py:814: ConvergenceWarning: lbfgs failed to converge (status=1):\n",
      "STOP: TOTAL NO. of ITERATIONS REACHED LIMIT.\n",
      "\n",
      "Increase the number of iterations (max_iter) or scale the data as shown in:\n",
      "    https://scikit-learn.org/stable/modules/preprocessing.html\n",
      "Please also refer to the documentation for alternative solver options:\n",
      "    https://scikit-learn.org/stable/modules/linear_model.html#logistic-regression\n",
      "  n_iter_i = _check_optimize_result(\n",
      "c:\\Users\\Ninja\\anaconda3\\lib\\site-packages\\sklearn\\linear_model\\_logistic.py:814: ConvergenceWarning: lbfgs failed to converge (status=1):\n",
      "STOP: TOTAL NO. of ITERATIONS REACHED LIMIT.\n",
      "\n",
      "Increase the number of iterations (max_iter) or scale the data as shown in:\n",
      "    https://scikit-learn.org/stable/modules/preprocessing.html\n",
      "Please also refer to the documentation for alternative solver options:\n",
      "    https://scikit-learn.org/stable/modules/linear_model.html#logistic-regression\n",
      "  n_iter_i = _check_optimize_result(\n",
      "c:\\Users\\Ninja\\anaconda3\\lib\\site-packages\\sklearn\\linear_model\\_logistic.py:814: ConvergenceWarning: lbfgs failed to converge (status=1):\n",
      "STOP: TOTAL NO. of ITERATIONS REACHED LIMIT.\n",
      "\n",
      "Increase the number of iterations (max_iter) or scale the data as shown in:\n",
      "    https://scikit-learn.org/stable/modules/preprocessing.html\n",
      "Please also refer to the documentation for alternative solver options:\n",
      "    https://scikit-learn.org/stable/modules/linear_model.html#logistic-regression\n",
      "  n_iter_i = _check_optimize_result(\n",
      "c:\\Users\\Ninja\\anaconda3\\lib\\site-packages\\sklearn\\linear_model\\_logistic.py:814: ConvergenceWarning: lbfgs failed to converge (status=1):\n",
      "STOP: TOTAL NO. of ITERATIONS REACHED LIMIT.\n",
      "\n",
      "Increase the number of iterations (max_iter) or scale the data as shown in:\n",
      "    https://scikit-learn.org/stable/modules/preprocessing.html\n",
      "Please also refer to the documentation for alternative solver options:\n",
      "    https://scikit-learn.org/stable/modules/linear_model.html#logistic-regression\n",
      "  n_iter_i = _check_optimize_result(\n",
      "c:\\Users\\Ninja\\anaconda3\\lib\\site-packages\\sklearn\\linear_model\\_logistic.py:814: ConvergenceWarning: lbfgs failed to converge (status=1):\n",
      "STOP: TOTAL NO. of ITERATIONS REACHED LIMIT.\n",
      "\n",
      "Increase the number of iterations (max_iter) or scale the data as shown in:\n",
      "    https://scikit-learn.org/stable/modules/preprocessing.html\n",
      "Please also refer to the documentation for alternative solver options:\n",
      "    https://scikit-learn.org/stable/modules/linear_model.html#logistic-regression\n",
      "  n_iter_i = _check_optimize_result(\n",
      "c:\\Users\\Ninja\\anaconda3\\lib\\site-packages\\sklearn\\linear_model\\_logistic.py:814: ConvergenceWarning: lbfgs failed to converge (status=1):\n",
      "STOP: TOTAL NO. of ITERATIONS REACHED LIMIT.\n",
      "\n",
      "Increase the number of iterations (max_iter) or scale the data as shown in:\n",
      "    https://scikit-learn.org/stable/modules/preprocessing.html\n",
      "Please also refer to the documentation for alternative solver options:\n",
      "    https://scikit-learn.org/stable/modules/linear_model.html#logistic-regression\n",
      "  n_iter_i = _check_optimize_result(\n"
     ]
    },
    {
     "name": "stdout",
     "output_type": "stream",
     "text": [
      "Logistic Regression: 0.375000 (0.230489)\n"
     ]
    },
    {
     "name": "stderr",
     "output_type": "stream",
     "text": [
      "c:\\Users\\Ninja\\anaconda3\\lib\\site-packages\\sklearn\\linear_model\\_logistic.py:814: ConvergenceWarning: lbfgs failed to converge (status=1):\n",
      "STOP: TOTAL NO. of ITERATIONS REACHED LIMIT.\n",
      "\n",
      "Increase the number of iterations (max_iter) or scale the data as shown in:\n",
      "    https://scikit-learn.org/stable/modules/preprocessing.html\n",
      "Please also refer to the documentation for alternative solver options:\n",
      "    https://scikit-learn.org/stable/modules/linear_model.html#logistic-regression\n",
      "  n_iter_i = _check_optimize_result(\n",
      "c:\\Users\\Ninja\\anaconda3\\lib\\site-packages\\sklearn\\linear_model\\_logistic.py:814: ConvergenceWarning: lbfgs failed to converge (status=1):\n",
      "STOP: TOTAL NO. of ITERATIONS REACHED LIMIT.\n",
      "\n",
      "Increase the number of iterations (max_iter) or scale the data as shown in:\n",
      "    https://scikit-learn.org/stable/modules/preprocessing.html\n",
      "Please also refer to the documentation for alternative solver options:\n",
      "    https://scikit-learn.org/stable/modules/linear_model.html#logistic-regression\n",
      "  n_iter_i = _check_optimize_result(\n",
      "c:\\Users\\Ninja\\anaconda3\\lib\\site-packages\\sklearn\\linear_model\\_logistic.py:814: ConvergenceWarning: lbfgs failed to converge (status=1):\n",
      "STOP: TOTAL NO. of ITERATIONS REACHED LIMIT.\n",
      "\n",
      "Increase the number of iterations (max_iter) or scale the data as shown in:\n",
      "    https://scikit-learn.org/stable/modules/preprocessing.html\n",
      "Please also refer to the documentation for alternative solver options:\n",
      "    https://scikit-learn.org/stable/modules/linear_model.html#logistic-regression\n",
      "  n_iter_i = _check_optimize_result(\n",
      "c:\\Users\\Ninja\\anaconda3\\lib\\site-packages\\sklearn\\linear_model\\_logistic.py:814: ConvergenceWarning: lbfgs failed to converge (status=1):\n",
      "STOP: TOTAL NO. of ITERATIONS REACHED LIMIT.\n",
      "\n",
      "Increase the number of iterations (max_iter) or scale the data as shown in:\n",
      "    https://scikit-learn.org/stable/modules/preprocessing.html\n",
      "Please also refer to the documentation for alternative solver options:\n",
      "    https://scikit-learn.org/stable/modules/linear_model.html#logistic-regression\n",
      "  n_iter_i = _check_optimize_result(\n",
      "c:\\Users\\Ninja\\anaconda3\\lib\\site-packages\\sklearn\\linear_model\\_logistic.py:814: ConvergenceWarning: lbfgs failed to converge (status=1):\n",
      "STOP: TOTAL NO. of ITERATIONS REACHED LIMIT.\n",
      "\n",
      "Increase the number of iterations (max_iter) or scale the data as shown in:\n",
      "    https://scikit-learn.org/stable/modules/preprocessing.html\n",
      "Please also refer to the documentation for alternative solver options:\n",
      "    https://scikit-learn.org/stable/modules/linear_model.html#logistic-regression\n",
      "  n_iter_i = _check_optimize_result(\n"
     ]
    }
   ],
   "source": [
    "name='Logistic Regression'\n",
    "kfold = model_selection.KFold(n_splits=20)\n",
    "cv_results = model_selection.cross_val_score(model, X_train, Y_train, cv=kfold, scoring='accuracy')\n",
    "msg = \"%s: %f (%f)\" % (name, cv_results.mean(), cv_results.std())\n",
    "print(msg)"
   ]
  },
  {
   "cell_type": "code",
   "execution_count": 1391,
   "metadata": {},
   "outputs": [
    {
     "name": "stdout",
     "output_type": "stream",
     "text": [
      "0.8\n"
     ]
    }
   ],
   "source": [
    "predictions = model.predict(X_validation)\n",
    "print(accuracy_score(Y_validation, predictions))"
   ]
  },
  {
   "cell_type": "code",
   "execution_count": 1392,
   "metadata": {},
   "outputs": [
    {
     "name": "stdout",
     "output_type": "stream",
     "text": [
      "[[2 1 0]\n",
      " [1 9 0]\n",
      " [0 2 5]]\n"
     ]
    }
   ],
   "source": [
    "print(confusion_matrix(Y_validation, predictions))"
   ]
  },
  {
   "cell_type": "code",
   "execution_count": 1393,
   "metadata": {},
   "outputs": [
    {
     "name": "stdout",
     "output_type": "stream",
     "text": [
      "               precision    recall  f1-score   support\n",
      "\n",
      "contradiction       0.67      0.67      0.67         3\n",
      "   entailment       0.75      0.90      0.82        10\n",
      "      neutral       1.00      0.71      0.83         7\n",
      "\n",
      "     accuracy                           0.80        20\n",
      "    macro avg       0.81      0.76      0.77        20\n",
      " weighted avg       0.82      0.80      0.80        20\n",
      "\n"
     ]
    }
   ],
   "source": [
    "print(classification_report(Y_validation, predictions))"
   ]
  },
  {
   "cell_type": "code",
   "execution_count": 1394,
   "metadata": {},
   "outputs": [],
   "source": [
    "#X_new = pd.DataFrame()\n",
    "#model.predict(X_new)"
   ]
  }
 ],
 "metadata": {
  "kernelspec": {
   "display_name": "Python 3",
   "language": "python",
   "name": "python3"
  },
  "language_info": {
   "codemirror_mode": {
    "name": "ipython",
    "version": 3
   },
   "file_extension": ".py",
   "mimetype": "text/x-python",
   "name": "python",
   "nbconvert_exporter": "python",
   "pygments_lexer": "ipython3",
   "version": "3.9.13"
  }
 },
 "nbformat": 4,
 "nbformat_minor": 2
}
