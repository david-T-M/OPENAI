{
 "cells": [
  {
   "cell_type": "code",
   "execution_count": 1939,
   "metadata": {},
   "outputs": [],
   "source": [
    "import pandas as pd\n",
    "import numpy as np\n",
    "from sklearn import linear_model\n",
    "from sklearn import model_selection\n",
    "from sklearn.metrics import classification_report\n",
    "from sklearn.metrics import confusion_matrix\n",
    "from sklearn.metrics import f1_score\n",
    "from sklearn.metrics import accuracy_score\n",
    "import matplotlib.pyplot as plt\n",
    "import seaborn as sb"
   ]
  },
  {
   "cell_type": "code",
   "execution_count": 1940,
   "metadata": {},
   "outputs": [
    {
     "data": {
      "text/html": [
       "<div>\n",
       "<style scoped>\n",
       "    .dataframe tbody tr th:only-of-type {\n",
       "        vertical-align: middle;\n",
       "    }\n",
       "\n",
       "    .dataframe tbody tr th {\n",
       "        vertical-align: top;\n",
       "    }\n",
       "\n",
       "    .dataframe thead th {\n",
       "        text-align: right;\n",
       "    }\n",
       "</style>\n",
       "<table border=\"1\" class=\"dataframe\">\n",
       "  <thead>\n",
       "    <tr style=\"text-align: right;\">\n",
       "      <th></th>\n",
       "      <th>NOUN_NOUN</th>\n",
       "      <th>NOUN_ADJ</th>\n",
       "      <th>NOUN_VERB</th>\n",
       "      <th>NOUN_ADV</th>\n",
       "      <th>ADJ_NOUN</th>\n",
       "      <th>ADJ_ADJ</th>\n",
       "      <th>ADJ_VERB</th>\n",
       "      <th>ADJ_ADV</th>\n",
       "      <th>VERB_NOUN</th>\n",
       "      <th>VERB_ADJ</th>\n",
       "      <th>...</th>\n",
       "      <th>ADV_ADJ_</th>\n",
       "      <th>ADV_VERB_</th>\n",
       "      <th>ADV_ADV_</th>\n",
       "      <th>sinonimos</th>\n",
       "      <th>antonimos</th>\n",
       "      <th>hiperonimos</th>\n",
       "      <th>hiponimos</th>\n",
       "      <th>action_wn</th>\n",
       "      <th>sim verbos</th>\n",
       "      <th>CLASS</th>\n",
       "    </tr>\n",
       "  </thead>\n",
       "  <tbody>\n",
       "    <tr>\n",
       "      <th>0</th>\n",
       "      <td>2.358561</td>\n",
       "      <td>0.323334</td>\n",
       "      <td>0.622311</td>\n",
       "      <td>0.000000</td>\n",
       "      <td>0.000000</td>\n",
       "      <td>0.000000</td>\n",
       "      <td>0.000000</td>\n",
       "      <td>0.000000</td>\n",
       "      <td>2.588061</td>\n",
       "      <td>0.833760</td>\n",
       "      <td>...</td>\n",
       "      <td>0</td>\n",
       "      <td>0</td>\n",
       "      <td>0</td>\n",
       "      <td>0</td>\n",
       "      <td>0</td>\n",
       "      <td>2</td>\n",
       "      <td>3</td>\n",
       "      <td>0.800000</td>\n",
       "      <td>0.233037</td>\n",
       "      <td>entailment</td>\n",
       "    </tr>\n",
       "    <tr>\n",
       "      <th>1</th>\n",
       "      <td>4.879904</td>\n",
       "      <td>0.944648</td>\n",
       "      <td>0.452539</td>\n",
       "      <td>0.000000</td>\n",
       "      <td>2.080487</td>\n",
       "      <td>1.739786</td>\n",
       "      <td>0.000000</td>\n",
       "      <td>0.000000</td>\n",
       "      <td>2.459331</td>\n",
       "      <td>0.451001</td>\n",
       "      <td>...</td>\n",
       "      <td>0</td>\n",
       "      <td>0</td>\n",
       "      <td>0</td>\n",
       "      <td>4</td>\n",
       "      <td>0</td>\n",
       "      <td>0</td>\n",
       "      <td>1</td>\n",
       "      <td>1.000000</td>\n",
       "      <td>0.203438</td>\n",
       "      <td>entailment</td>\n",
       "    </tr>\n",
       "    <tr>\n",
       "      <th>2</th>\n",
       "      <td>2.305078</td>\n",
       "      <td>0.928263</td>\n",
       "      <td>0.942275</td>\n",
       "      <td>0.000000</td>\n",
       "      <td>1.355766</td>\n",
       "      <td>0.440236</td>\n",
       "      <td>0.173587</td>\n",
       "      <td>0.000000</td>\n",
       "      <td>0.000000</td>\n",
       "      <td>0.000000</td>\n",
       "      <td>...</td>\n",
       "      <td>0</td>\n",
       "      <td>0</td>\n",
       "      <td>0</td>\n",
       "      <td>1</td>\n",
       "      <td>0</td>\n",
       "      <td>0</td>\n",
       "      <td>0</td>\n",
       "      <td>0.400000</td>\n",
       "      <td>0.360803</td>\n",
       "      <td>contradiction</td>\n",
       "    </tr>\n",
       "    <tr>\n",
       "      <th>3</th>\n",
       "      <td>1.433082</td>\n",
       "      <td>0.000000</td>\n",
       "      <td>2.508722</td>\n",
       "      <td>0.000000</td>\n",
       "      <td>0.771747</td>\n",
       "      <td>0.000000</td>\n",
       "      <td>0.949051</td>\n",
       "      <td>0.000000</td>\n",
       "      <td>2.069529</td>\n",
       "      <td>0.000000</td>\n",
       "      <td>...</td>\n",
       "      <td>0</td>\n",
       "      <td>0</td>\n",
       "      <td>0</td>\n",
       "      <td>2</td>\n",
       "      <td>0</td>\n",
       "      <td>0</td>\n",
       "      <td>0</td>\n",
       "      <td>1.000000</td>\n",
       "      <td>1.000000</td>\n",
       "      <td>contradiction</td>\n",
       "    </tr>\n",
       "    <tr>\n",
       "      <th>4</th>\n",
       "      <td>2.326802</td>\n",
       "      <td>0.000000</td>\n",
       "      <td>0.000000</td>\n",
       "      <td>0.000000</td>\n",
       "      <td>0.000000</td>\n",
       "      <td>0.000000</td>\n",
       "      <td>0.000000</td>\n",
       "      <td>0.000000</td>\n",
       "      <td>0.000000</td>\n",
       "      <td>0.000000</td>\n",
       "      <td>...</td>\n",
       "      <td>0</td>\n",
       "      <td>2</td>\n",
       "      <td>0</td>\n",
       "      <td>2</td>\n",
       "      <td>0</td>\n",
       "      <td>0</td>\n",
       "      <td>0</td>\n",
       "      <td>0.500000</td>\n",
       "      <td>0.347747</td>\n",
       "      <td>neutral</td>\n",
       "    </tr>\n",
       "    <tr>\n",
       "      <th>...</th>\n",
       "      <td>...</td>\n",
       "      <td>...</td>\n",
       "      <td>...</td>\n",
       "      <td>...</td>\n",
       "      <td>...</td>\n",
       "      <td>...</td>\n",
       "      <td>...</td>\n",
       "      <td>...</td>\n",
       "      <td>...</td>\n",
       "      <td>...</td>\n",
       "      <td>...</td>\n",
       "      <td>...</td>\n",
       "      <td>...</td>\n",
       "      <td>...</td>\n",
       "      <td>...</td>\n",
       "      <td>...</td>\n",
       "      <td>...</td>\n",
       "      <td>...</td>\n",
       "      <td>...</td>\n",
       "      <td>...</td>\n",
       "      <td>...</td>\n",
       "    </tr>\n",
       "    <tr>\n",
       "      <th>95</th>\n",
       "      <td>5.413959</td>\n",
       "      <td>0.825654</td>\n",
       "      <td>0.386321</td>\n",
       "      <td>1.365552</td>\n",
       "      <td>1.448315</td>\n",
       "      <td>1.008830</td>\n",
       "      <td>0.343587</td>\n",
       "      <td>0.000000</td>\n",
       "      <td>1.097808</td>\n",
       "      <td>0.287286</td>\n",
       "      <td>...</td>\n",
       "      <td>0</td>\n",
       "      <td>0</td>\n",
       "      <td>0</td>\n",
       "      <td>1</td>\n",
       "      <td>0</td>\n",
       "      <td>0</td>\n",
       "      <td>2</td>\n",
       "      <td>1.000000</td>\n",
       "      <td>0.236915</td>\n",
       "      <td>entailment</td>\n",
       "    </tr>\n",
       "    <tr>\n",
       "      <th>96</th>\n",
       "      <td>2.000000</td>\n",
       "      <td>0.000000</td>\n",
       "      <td>0.000000</td>\n",
       "      <td>0.000000</td>\n",
       "      <td>0.768382</td>\n",
       "      <td>0.000000</td>\n",
       "      <td>0.000000</td>\n",
       "      <td>0.000000</td>\n",
       "      <td>0.000000</td>\n",
       "      <td>0.000000</td>\n",
       "      <td>...</td>\n",
       "      <td>0</td>\n",
       "      <td>0</td>\n",
       "      <td>0</td>\n",
       "      <td>3</td>\n",
       "      <td>0</td>\n",
       "      <td>0</td>\n",
       "      <td>0</td>\n",
       "      <td>1.000000</td>\n",
       "      <td>0.895790</td>\n",
       "      <td>entailment</td>\n",
       "    </tr>\n",
       "    <tr>\n",
       "      <th>97</th>\n",
       "      <td>1.065250</td>\n",
       "      <td>0.000000</td>\n",
       "      <td>0.254503</td>\n",
       "      <td>0.000000</td>\n",
       "      <td>0.000000</td>\n",
       "      <td>0.000000</td>\n",
       "      <td>0.000000</td>\n",
       "      <td>0.000000</td>\n",
       "      <td>0.752330</td>\n",
       "      <td>0.000000</td>\n",
       "      <td>...</td>\n",
       "      <td>0</td>\n",
       "      <td>0</td>\n",
       "      <td>0</td>\n",
       "      <td>0</td>\n",
       "      <td>0</td>\n",
       "      <td>0</td>\n",
       "      <td>0</td>\n",
       "      <td>0.000000</td>\n",
       "      <td>0.245138</td>\n",
       "      <td>contradiction</td>\n",
       "    </tr>\n",
       "    <tr>\n",
       "      <th>98</th>\n",
       "      <td>1.316973</td>\n",
       "      <td>0.000000</td>\n",
       "      <td>0.000000</td>\n",
       "      <td>0.000000</td>\n",
       "      <td>0.000000</td>\n",
       "      <td>0.000000</td>\n",
       "      <td>0.000000</td>\n",
       "      <td>0.000000</td>\n",
       "      <td>0.661479</td>\n",
       "      <td>0.000000</td>\n",
       "      <td>...</td>\n",
       "      <td>0</td>\n",
       "      <td>0</td>\n",
       "      <td>0</td>\n",
       "      <td>2</td>\n",
       "      <td>0</td>\n",
       "      <td>0</td>\n",
       "      <td>0</td>\n",
       "      <td>1.000000</td>\n",
       "      <td>1.000000</td>\n",
       "      <td>contradiction</td>\n",
       "    </tr>\n",
       "    <tr>\n",
       "      <th>99</th>\n",
       "      <td>2.040607</td>\n",
       "      <td>0.000000</td>\n",
       "      <td>0.688083</td>\n",
       "      <td>0.799900</td>\n",
       "      <td>0.434092</td>\n",
       "      <td>0.000000</td>\n",
       "      <td>0.323281</td>\n",
       "      <td>0.464549</td>\n",
       "      <td>0.909151</td>\n",
       "      <td>0.000000</td>\n",
       "      <td>...</td>\n",
       "      <td>0</td>\n",
       "      <td>0</td>\n",
       "      <td>0</td>\n",
       "      <td>2</td>\n",
       "      <td>0</td>\n",
       "      <td>0</td>\n",
       "      <td>0</td>\n",
       "      <td>0.666667</td>\n",
       "      <td>0.234838</td>\n",
       "      <td>contradiction</td>\n",
       "    </tr>\n",
       "  </tbody>\n",
       "</table>\n",
       "<p>100 rows × 39 columns</p>\n",
       "</div>"
      ],
      "text/plain": [
       "    NOUN_NOUN  NOUN_ADJ  NOUN_VERB  NOUN_ADV  ADJ_NOUN   ADJ_ADJ  ADJ_VERB  \\\n",
       "0    2.358561  0.323334   0.622311  0.000000  0.000000  0.000000  0.000000   \n",
       "1    4.879904  0.944648   0.452539  0.000000  2.080487  1.739786  0.000000   \n",
       "2    2.305078  0.928263   0.942275  0.000000  1.355766  0.440236  0.173587   \n",
       "3    1.433082  0.000000   2.508722  0.000000  0.771747  0.000000  0.949051   \n",
       "4    2.326802  0.000000   0.000000  0.000000  0.000000  0.000000  0.000000   \n",
       "..        ...       ...        ...       ...       ...       ...       ...   \n",
       "95   5.413959  0.825654   0.386321  1.365552  1.448315  1.008830  0.343587   \n",
       "96   2.000000  0.000000   0.000000  0.000000  0.768382  0.000000  0.000000   \n",
       "97   1.065250  0.000000   0.254503  0.000000  0.000000  0.000000  0.000000   \n",
       "98   1.316973  0.000000   0.000000  0.000000  0.000000  0.000000  0.000000   \n",
       "99   2.040607  0.000000   0.688083  0.799900  0.434092  0.000000  0.323281   \n",
       "\n",
       "     ADJ_ADV  VERB_NOUN  VERB_ADJ  ...  ADV_ADJ_  ADV_VERB_  ADV_ADV_  \\\n",
       "0   0.000000   2.588061  0.833760  ...         0          0         0   \n",
       "1   0.000000   2.459331  0.451001  ...         0          0         0   \n",
       "2   0.000000   0.000000  0.000000  ...         0          0         0   \n",
       "3   0.000000   2.069529  0.000000  ...         0          0         0   \n",
       "4   0.000000   0.000000  0.000000  ...         0          2         0   \n",
       "..       ...        ...       ...  ...       ...        ...       ...   \n",
       "95  0.000000   1.097808  0.287286  ...         0          0         0   \n",
       "96  0.000000   0.000000  0.000000  ...         0          0         0   \n",
       "97  0.000000   0.752330  0.000000  ...         0          0         0   \n",
       "98  0.000000   0.661479  0.000000  ...         0          0         0   \n",
       "99  0.464549   0.909151  0.000000  ...         0          0         0   \n",
       "\n",
       "    sinonimos  antonimos  hiperonimos  hiponimos  action_wn  sim verbos  \\\n",
       "0           0          0            2          3   0.800000    0.233037   \n",
       "1           4          0            0          1   1.000000    0.203438   \n",
       "2           1          0            0          0   0.400000    0.360803   \n",
       "3           2          0            0          0   1.000000    1.000000   \n",
       "4           2          0            0          0   0.500000    0.347747   \n",
       "..        ...        ...          ...        ...        ...         ...   \n",
       "95          1          0            0          2   1.000000    0.236915   \n",
       "96          3          0            0          0   1.000000    0.895790   \n",
       "97          0          0            0          0   0.000000    0.245138   \n",
       "98          2          0            0          0   1.000000    1.000000   \n",
       "99          2          0            0          0   0.666667    0.234838   \n",
       "\n",
       "            CLASS  \n",
       "0      entailment  \n",
       "1      entailment  \n",
       "2   contradiction  \n",
       "3   contradiction  \n",
       "4         neutral  \n",
       "..            ...  \n",
       "95     entailment  \n",
       "96     entailment  \n",
       "97  contradiction  \n",
       "98  contradiction  \n",
       "99  contradiction  \n",
       "\n",
       "[100 rows x 39 columns]"
      ]
     },
     "execution_count": 1940,
     "metadata": {},
     "output_type": "execute_result"
    }
   ],
   "source": [
    "#dataframe = pd.read_csv(r\"TipoPalabra_conteos_mean_umbral_mean.csv\")\n",
    "#dataframe = pd.read_csv(r\"TipoPalabra_conteos_umbral_mean_relsemanf_sim0.7.csv\")\n",
    "#dataframe = pd.read_csv(r\"TipoPalabra_conteos_umbral_mean_relsemanf_sim0.8.csv\")\n",
    "#dataframe = pd.read_csv(r\"TipoPalabra_conteos_umbral_mean_relsemanf_root_difTH_porcentajeR_MAs.csv\")\n",
    "dataframe = pd.read_csv(r\"TipoPalabra_conteos_umbral_mean_relsemanf_root_difTH_porcentajeR_MAspromedio.csv\")\n",
    "dataframe"
   ]
  },
  {
   "cell_type": "code",
   "execution_count": 1941,
   "metadata": {},
   "outputs": [],
   "source": [
    "#dataframe.corr()"
   ]
  },
  {
   "cell_type": "code",
   "execution_count": 1942,
   "metadata": {},
   "outputs": [
    {
     "data": {
      "text/html": [
       "<div>\n",
       "<style scoped>\n",
       "    .dataframe tbody tr th:only-of-type {\n",
       "        vertical-align: middle;\n",
       "    }\n",
       "\n",
       "    .dataframe tbody tr th {\n",
       "        vertical-align: top;\n",
       "    }\n",
       "\n",
       "    .dataframe thead th {\n",
       "        text-align: right;\n",
       "    }\n",
       "</style>\n",
       "<table border=\"1\" class=\"dataframe\">\n",
       "  <thead>\n",
       "    <tr style=\"text-align: right;\">\n",
       "      <th></th>\n",
       "      <th>NOUN_NOUN</th>\n",
       "      <th>NOUN_ADJ</th>\n",
       "      <th>NOUN_VERB</th>\n",
       "      <th>NOUN_ADV</th>\n",
       "      <th>ADJ_NOUN</th>\n",
       "      <th>ADJ_ADJ</th>\n",
       "      <th>ADJ_VERB</th>\n",
       "      <th>ADJ_ADV</th>\n",
       "      <th>VERB_NOUN</th>\n",
       "      <th>VERB_ADJ</th>\n",
       "      <th>...</th>\n",
       "      <th>ADV_NOUN_</th>\n",
       "      <th>ADV_ADJ_</th>\n",
       "      <th>ADV_VERB_</th>\n",
       "      <th>ADV_ADV_</th>\n",
       "      <th>sinonimos</th>\n",
       "      <th>antonimos</th>\n",
       "      <th>hiperonimos</th>\n",
       "      <th>hiponimos</th>\n",
       "      <th>action_wn</th>\n",
       "      <th>sim verbos</th>\n",
       "    </tr>\n",
       "  </thead>\n",
       "  <tbody>\n",
       "    <tr>\n",
       "      <th>count</th>\n",
       "      <td>100.000000</td>\n",
       "      <td>100.000000</td>\n",
       "      <td>100.000000</td>\n",
       "      <td>100.000000</td>\n",
       "      <td>100.000000</td>\n",
       "      <td>100.000000</td>\n",
       "      <td>100.000000</td>\n",
       "      <td>100.000000</td>\n",
       "      <td>100.000000</td>\n",
       "      <td>100.000000</td>\n",
       "      <td>...</td>\n",
       "      <td>100.00000</td>\n",
       "      <td>100.000000</td>\n",
       "      <td>100.000000</td>\n",
       "      <td>100.000000</td>\n",
       "      <td>100.000000</td>\n",
       "      <td>100.000000</td>\n",
       "      <td>100.00000</td>\n",
       "      <td>100.000000</td>\n",
       "      <td>100.000000</td>\n",
       "      <td>100.000000</td>\n",
       "    </tr>\n",
       "    <tr>\n",
       "      <th>mean</th>\n",
       "      <td>3.298224</td>\n",
       "      <td>0.454706</td>\n",
       "      <td>0.901464</td>\n",
       "      <td>0.148235</td>\n",
       "      <td>0.858387</td>\n",
       "      <td>0.403246</td>\n",
       "      <td>0.356483</td>\n",
       "      <td>0.074768</td>\n",
       "      <td>1.002412</td>\n",
       "      <td>0.163880</td>\n",
       "      <td>...</td>\n",
       "      <td>0.26000</td>\n",
       "      <td>0.120000</td>\n",
       "      <td>0.190000</td>\n",
       "      <td>0.070000</td>\n",
       "      <td>2.120000</td>\n",
       "      <td>0.030000</td>\n",
       "      <td>0.33000</td>\n",
       "      <td>0.380000</td>\n",
       "      <td>0.635477</td>\n",
       "      <td>0.539610</td>\n",
       "    </tr>\n",
       "    <tr>\n",
       "      <th>std</th>\n",
       "      <td>2.190854</td>\n",
       "      <td>0.883885</td>\n",
       "      <td>0.909427</td>\n",
       "      <td>0.384945</td>\n",
       "      <td>1.317747</td>\n",
       "      <td>0.832110</td>\n",
       "      <td>0.591267</td>\n",
       "      <td>0.290324</td>\n",
       "      <td>1.471056</td>\n",
       "      <td>0.364595</td>\n",
       "      <td>...</td>\n",
       "      <td>0.87178</td>\n",
       "      <td>0.477367</td>\n",
       "      <td>0.662029</td>\n",
       "      <td>0.536637</td>\n",
       "      <td>1.512774</td>\n",
       "      <td>0.171447</td>\n",
       "      <td>0.53286</td>\n",
       "      <td>0.707535</td>\n",
       "      <td>0.406712</td>\n",
       "      <td>0.340887</td>\n",
       "    </tr>\n",
       "    <tr>\n",
       "      <th>min</th>\n",
       "      <td>0.000000</td>\n",
       "      <td>0.000000</td>\n",
       "      <td>0.000000</td>\n",
       "      <td>0.000000</td>\n",
       "      <td>-0.008496</td>\n",
       "      <td>0.000000</td>\n",
       "      <td>0.000000</td>\n",
       "      <td>0.000000</td>\n",
       "      <td>0.000000</td>\n",
       "      <td>0.000000</td>\n",
       "      <td>...</td>\n",
       "      <td>0.00000</td>\n",
       "      <td>0.000000</td>\n",
       "      <td>0.000000</td>\n",
       "      <td>0.000000</td>\n",
       "      <td>0.000000</td>\n",
       "      <td>0.000000</td>\n",
       "      <td>0.00000</td>\n",
       "      <td>0.000000</td>\n",
       "      <td>0.000000</td>\n",
       "      <td>0.171850</td>\n",
       "    </tr>\n",
       "    <tr>\n",
       "      <th>25%</th>\n",
       "      <td>1.997307</td>\n",
       "      <td>0.000000</td>\n",
       "      <td>0.321252</td>\n",
       "      <td>0.000000</td>\n",
       "      <td>0.000000</td>\n",
       "      <td>0.000000</td>\n",
       "      <td>0.000000</td>\n",
       "      <td>0.000000</td>\n",
       "      <td>0.000000</td>\n",
       "      <td>0.000000</td>\n",
       "      <td>...</td>\n",
       "      <td>0.00000</td>\n",
       "      <td>0.000000</td>\n",
       "      <td>0.000000</td>\n",
       "      <td>0.000000</td>\n",
       "      <td>1.000000</td>\n",
       "      <td>0.000000</td>\n",
       "      <td>0.00000</td>\n",
       "      <td>0.000000</td>\n",
       "      <td>0.333333</td>\n",
       "      <td>0.258523</td>\n",
       "    </tr>\n",
       "    <tr>\n",
       "      <th>50%</th>\n",
       "      <td>2.644824</td>\n",
       "      <td>0.000000</td>\n",
       "      <td>0.649265</td>\n",
       "      <td>0.000000</td>\n",
       "      <td>0.417869</td>\n",
       "      <td>0.000000</td>\n",
       "      <td>0.000000</td>\n",
       "      <td>0.000000</td>\n",
       "      <td>0.660955</td>\n",
       "      <td>0.000000</td>\n",
       "      <td>...</td>\n",
       "      <td>0.00000</td>\n",
       "      <td>0.000000</td>\n",
       "      <td>0.000000</td>\n",
       "      <td>0.000000</td>\n",
       "      <td>2.000000</td>\n",
       "      <td>0.000000</td>\n",
       "      <td>0.00000</td>\n",
       "      <td>0.000000</td>\n",
       "      <td>0.788889</td>\n",
       "      <td>0.342050</td>\n",
       "    </tr>\n",
       "    <tr>\n",
       "      <th>75%</th>\n",
       "      <td>3.989543</td>\n",
       "      <td>0.442800</td>\n",
       "      <td>1.293300</td>\n",
       "      <td>0.000000</td>\n",
       "      <td>1.093820</td>\n",
       "      <td>0.466835</td>\n",
       "      <td>0.462931</td>\n",
       "      <td>0.000000</td>\n",
       "      <td>1.234545</td>\n",
       "      <td>0.000000</td>\n",
       "      <td>...</td>\n",
       "      <td>0.00000</td>\n",
       "      <td>0.000000</td>\n",
       "      <td>0.000000</td>\n",
       "      <td>0.000000</td>\n",
       "      <td>3.000000</td>\n",
       "      <td>0.000000</td>\n",
       "      <td>1.00000</td>\n",
       "      <td>1.000000</td>\n",
       "      <td>1.000000</td>\n",
       "      <td>1.000000</td>\n",
       "    </tr>\n",
       "    <tr>\n",
       "      <th>max</th>\n",
       "      <td>11.643142</td>\n",
       "      <td>4.508711</td>\n",
       "      <td>4.385522</td>\n",
       "      <td>2.191569</td>\n",
       "      <td>6.881524</td>\n",
       "      <td>3.908348</td>\n",
       "      <td>3.463590</td>\n",
       "      <td>1.872087</td>\n",
       "      <td>12.134147</td>\n",
       "      <td>2.184639</td>\n",
       "      <td>...</td>\n",
       "      <td>5.00000</td>\n",
       "      <td>3.000000</td>\n",
       "      <td>4.000000</td>\n",
       "      <td>5.000000</td>\n",
       "      <td>6.000000</td>\n",
       "      <td>1.000000</td>\n",
       "      <td>2.00000</td>\n",
       "      <td>3.000000</td>\n",
       "      <td>1.000000</td>\n",
       "      <td>1.000000</td>\n",
       "    </tr>\n",
       "  </tbody>\n",
       "</table>\n",
       "<p>8 rows × 38 columns</p>\n",
       "</div>"
      ],
      "text/plain": [
       "        NOUN_NOUN    NOUN_ADJ   NOUN_VERB    NOUN_ADV    ADJ_NOUN     ADJ_ADJ  \\\n",
       "count  100.000000  100.000000  100.000000  100.000000  100.000000  100.000000   \n",
       "mean     3.298224    0.454706    0.901464    0.148235    0.858387    0.403246   \n",
       "std      2.190854    0.883885    0.909427    0.384945    1.317747    0.832110   \n",
       "min      0.000000    0.000000    0.000000    0.000000   -0.008496    0.000000   \n",
       "25%      1.997307    0.000000    0.321252    0.000000    0.000000    0.000000   \n",
       "50%      2.644824    0.000000    0.649265    0.000000    0.417869    0.000000   \n",
       "75%      3.989543    0.442800    1.293300    0.000000    1.093820    0.466835   \n",
       "max     11.643142    4.508711    4.385522    2.191569    6.881524    3.908348   \n",
       "\n",
       "         ADJ_VERB     ADJ_ADV   VERB_NOUN    VERB_ADJ  ...  ADV_NOUN_  \\\n",
       "count  100.000000  100.000000  100.000000  100.000000  ...  100.00000   \n",
       "mean     0.356483    0.074768    1.002412    0.163880  ...    0.26000   \n",
       "std      0.591267    0.290324    1.471056    0.364595  ...    0.87178   \n",
       "min      0.000000    0.000000    0.000000    0.000000  ...    0.00000   \n",
       "25%      0.000000    0.000000    0.000000    0.000000  ...    0.00000   \n",
       "50%      0.000000    0.000000    0.660955    0.000000  ...    0.00000   \n",
       "75%      0.462931    0.000000    1.234545    0.000000  ...    0.00000   \n",
       "max      3.463590    1.872087   12.134147    2.184639  ...    5.00000   \n",
       "\n",
       "         ADV_ADJ_   ADV_VERB_    ADV_ADV_   sinonimos   antonimos  \\\n",
       "count  100.000000  100.000000  100.000000  100.000000  100.000000   \n",
       "mean     0.120000    0.190000    0.070000    2.120000    0.030000   \n",
       "std      0.477367    0.662029    0.536637    1.512774    0.171447   \n",
       "min      0.000000    0.000000    0.000000    0.000000    0.000000   \n",
       "25%      0.000000    0.000000    0.000000    1.000000    0.000000   \n",
       "50%      0.000000    0.000000    0.000000    2.000000    0.000000   \n",
       "75%      0.000000    0.000000    0.000000    3.000000    0.000000   \n",
       "max      3.000000    4.000000    5.000000    6.000000    1.000000   \n",
       "\n",
       "       hiperonimos   hiponimos   action_wn  sim verbos  \n",
       "count    100.00000  100.000000  100.000000  100.000000  \n",
       "mean       0.33000    0.380000    0.635477    0.539610  \n",
       "std        0.53286    0.707535    0.406712    0.340887  \n",
       "min        0.00000    0.000000    0.000000    0.171850  \n",
       "25%        0.00000    0.000000    0.333333    0.258523  \n",
       "50%        0.00000    0.000000    0.788889    0.342050  \n",
       "75%        1.00000    1.000000    1.000000    1.000000  \n",
       "max        2.00000    3.000000    1.000000    1.000000  \n",
       "\n",
       "[8 rows x 38 columns]"
      ]
     },
     "execution_count": 1942,
     "metadata": {},
     "output_type": "execute_result"
    }
   ],
   "source": [
    "dataframe.describe()"
   ]
  },
  {
   "cell_type": "code",
   "execution_count": 1943,
   "metadata": {},
   "outputs": [
    {
     "name": "stdout",
     "output_type": "stream",
     "text": [
      "CLASS\n",
      "contradiction    27\n",
      "entailment       42\n",
      "neutral          31\n",
      "dtype: int64\n"
     ]
    }
   ],
   "source": [
    "print(dataframe.groupby('CLASS').size())"
   ]
  },
  {
   "cell_type": "code",
   "execution_count": 1944,
   "metadata": {},
   "outputs": [
    {
     "data": {
      "image/png": "[encoded data removed]",
      "text/plain": [
       "<Figure size 2000x1000 with 42 Axes>"
      ]
     },
     "metadata": {},
     "output_type": "display_data"
    }
   ],
   "source": [
    "dataframe.hist(figsize=(20,10))\n",
    "plt.show()"
   ]
  },
  {
   "cell_type": "code",
   "execution_count": 1945,
   "metadata": {},
   "outputs": [],
   "source": [
    "labels=['NOUN_NOUN',\n",
    " 'NOUN_ADJ',\n",
    " 'NOUN_VERB',\n",
    " 'NOUN_ADV',\n",
    " 'ADJ_NOUN',\n",
    " 'ADJ_ADJ',\n",
    " 'ADJ_VERB',\n",
    " 'ADJ_ADV',\n",
    " 'VERB_NOUN',\n",
    " 'VERB_ADJ',\n",
    " 'VERB_VERB',\n",
    " 'VERB_ADV',\n",
    " 'ADV_NOUN',\n",
    " 'ADV_ADJ',\n",
    " 'ADV_VERB',\n",
    " 'ADV_ADV']"
   ]
  },
  {
   "cell_type": "code",
   "execution_count": 1946,
   "metadata": {},
   "outputs": [],
   "source": [
    "#sb.pairplot(dataframe.dropna(), hue='CLASS',size=4,vars=labels,kind='reg')"
   ]
  },
  {
   "cell_type": "code",
   "execution_count": 1947,
   "metadata": {},
   "outputs": [
    {
     "name": "stderr",
     "output_type": "stream",
     "text": [
      "C:\\Users\\Ninja\\AppData\\Local\\Temp\\ipykernel_12028\\1802400925.py:1: FutureWarning: In a future version of pandas all arguments of DataFrame.drop except for the argument 'labels' will be keyword-only.\n",
      "  X = np.array(dataframe.drop(['CLASS'],1))\n",
      "C:\\Users\\Ninja\\AppData\\Local\\Temp\\ipykernel_12028\\1802400925.py:2: FutureWarning: In a future version of pandas all arguments of DataFrame.drop except for the argument 'labels' will be keyword-only.\n",
      "  X_test = np.array(dataframe.drop(['CLASS'],1))\n"
     ]
    },
    {
     "data": {
      "text/plain": [
       "(100, 38)"
      ]
     },
     "execution_count": 1947,
     "metadata": {},
     "output_type": "execute_result"
    }
   ],
   "source": [
    "X = np.array(dataframe.drop(['CLASS'],1))\n",
    "X_test = np.array(dataframe.drop(['CLASS'],1))\n",
    "y = np.array(dataframe['CLASS'])\n",
    "y_test =np.array(dataframe['CLASS'])\n",
    "X.shape"
   ]
  },
  {
   "cell_type": "code",
   "execution_count": 1948,
   "metadata": {},
   "outputs": [
    {
     "data": {
      "text/plain": [
       "array(['entailment', 'entailment', 'contradiction', 'contradiction',\n",
       "       'neutral', 'neutral', 'neutral', 'entailment', 'neutral',\n",
       "       'entailment', 'neutral', 'contradiction', 'entailment',\n",
       "       'contradiction', 'neutral', 'neutral', 'entailment',\n",
       "       'contradiction', 'contradiction', 'entailment', 'entailment',\n",
       "       'entailment', 'neutral', 'contradiction', 'entailment', 'neutral',\n",
       "       'entailment', 'entailment', 'entailment', 'neutral', 'neutral',\n",
       "       'contradiction', 'contradiction', 'entailment', 'contradiction',\n",
       "       'neutral', 'entailment', 'neutral', 'neutral', 'entailment',\n",
       "       'neutral', 'neutral', 'contradiction', 'neutral', 'entailment',\n",
       "       'neutral', 'neutral', 'entailment', 'contradiction', 'neutral',\n",
       "       'entailment', 'entailment', 'neutral', 'entailment',\n",
       "       'contradiction', 'entailment', 'entailment', 'neutral', 'neutral',\n",
       "       'neutral', 'neutral', 'neutral', 'neutral', 'entailment',\n",
       "       'entailment', 'contradiction', 'entailment', 'entailment',\n",
       "       'neutral', 'contradiction', 'entailment', 'contradiction',\n",
       "       'contradiction', 'contradiction', 'neutral', 'entailment',\n",
       "       'entailment', 'entailment', 'entailment', 'contradiction',\n",
       "       'neutral', 'entailment', 'entailment', 'entailment',\n",
       "       'contradiction', 'entailment', 'entailment', 'entailment',\n",
       "       'contradiction', 'contradiction', 'contradiction', 'neutral',\n",
       "       'entailment', 'entailment', 'contradiction', 'entailment',\n",
       "       'entailment', 'contradiction', 'contradiction', 'contradiction'],\n",
       "      dtype=object)"
      ]
     },
     "execution_count": 1948,
     "metadata": {},
     "output_type": "execute_result"
    }
   ],
   "source": [
    "y_test"
   ]
  },
  {
   "cell_type": "code",
   "execution_count": 1949,
   "metadata": {},
   "outputs": [
    {
     "data": {
      "text/plain": [
       "array(['entailment', 'entailment', 'contradiction', 'contradiction',\n",
       "       'neutral', 'neutral', 'neutral', 'entailment', 'neutral',\n",
       "       'entailment', 'neutral', 'contradiction', 'entailment',\n",
       "       'contradiction', 'neutral', 'neutral', 'entailment',\n",
       "       'contradiction', 'contradiction', 'entailment', 'entailment',\n",
       "       'entailment', 'neutral', 'contradiction', 'entailment', 'neutral',\n",
       "       'entailment', 'entailment', 'entailment', 'neutral', 'neutral',\n",
       "       'contradiction', 'contradiction', 'entailment', 'contradiction',\n",
       "       'neutral', 'entailment', 'neutral', 'neutral', 'entailment',\n",
       "       'neutral', 'neutral', 'contradiction', 'neutral', 'entailment',\n",
       "       'neutral', 'neutral', 'entailment', 'contradiction', 'neutral',\n",
       "       'entailment', 'entailment', 'neutral', 'entailment',\n",
       "       'contradiction', 'entailment', 'entailment', 'neutral', 'neutral',\n",
       "       'neutral', 'neutral', 'neutral', 'neutral', 'entailment',\n",
       "       'entailment', 'contradiction', 'entailment', 'entailment',\n",
       "       'neutral', 'contradiction', 'entailment', 'contradiction',\n",
       "       'contradiction', 'contradiction', 'neutral', 'entailment',\n",
       "       'entailment', 'entailment', 'entailment', 'contradiction',\n",
       "       'neutral', 'entailment', 'entailment', 'entailment',\n",
       "       'contradiction', 'entailment', 'entailment', 'entailment',\n",
       "       'contradiction', 'contradiction', 'contradiction', 'neutral',\n",
       "       'entailment', 'entailment', 'contradiction', 'entailment',\n",
       "       'entailment', 'contradiction', 'contradiction', 'contradiction'],\n",
       "      dtype=object)"
      ]
     },
     "execution_count": 1949,
     "metadata": {},
     "output_type": "execute_result"
    }
   ],
   "source": [
    "y"
   ]
  },
  {
   "cell_type": "code",
   "execution_count": 1950,
   "metadata": {},
   "outputs": [
    {
     "data": {
      "text/plain": [
       "LogisticRegression(C=0.1)"
      ]
     },
     "execution_count": 1950,
     "metadata": {},
     "output_type": "execute_result"
    }
   ],
   "source": [
    "model = linear_model.LogisticRegression(penalty=\"l2\", C=0.1)\n",
    "model.fit(X,y)"
   ]
  },
  {
   "cell_type": "code",
   "execution_count": 1951,
   "metadata": {},
   "outputs": [
    {
     "data": {
      "text/plain": [
       "{'C': 0.1,\n",
       " 'class_weight': None,\n",
       " 'dual': False,\n",
       " 'fit_intercept': True,\n",
       " 'intercept_scaling': 1,\n",
       " 'l1_ratio': None,\n",
       " 'max_iter': 100,\n",
       " 'multi_class': 'auto',\n",
       " 'n_jobs': None,\n",
       " 'penalty': 'l2',\n",
       " 'random_state': None,\n",
       " 'solver': 'lbfgs',\n",
       " 'tol': 0.0001,\n",
       " 'verbose': 0,\n",
       " 'warm_start': False}"
      ]
     },
     "execution_count": 1951,
     "metadata": {},
     "output_type": "execute_result"
    }
   ],
   "source": [
    "model.get_params()"
   ]
  },
  {
   "cell_type": "code",
   "execution_count": 1952,
   "metadata": {},
   "outputs": [
    {
     "data": {
      "text/plain": [
       "array([[ 6.28411668e-01,  2.50294696e-01, -8.78706364e-01],\n",
       "       [-9.65696931e-01,  5.08906900e-01,  4.56790031e-01],\n",
       "       [-3.02161588e-02, -7.10675405e-01,  7.40891564e-01],\n",
       "       [ 5.48217506e-01,  7.00418281e-01, -1.24863579e+00],\n",
       "       [-6.57705000e-01,  1.11312250e-02,  6.46573775e-01],\n",
       "       [ 1.36391124e-01, -6.85173471e-01,  5.48782347e-01],\n",
       "       [-8.03612165e-01,  9.09031925e-01, -1.05419760e-01],\n",
       "       [-6.59195138e-01,  1.26940038e+00, -6.10205247e-01],\n",
       "       [-1.36638076e-01, -3.80341838e-01,  5.16979914e-01],\n",
       "       [-5.69262783e-01,  1.11549533e+00, -5.46232548e-01],\n",
       "       [-8.78666596e-01,  7.16052908e-01,  1.62613688e-01],\n",
       "       [ 5.20893907e-01, -3.11827834e-01, -2.09066073e-01],\n",
       "       [-2.66647480e-01,  2.23551370e-01,  4.30961098e-02],\n",
       "       [ 1.95909898e-01, -2.68803577e-01,  7.28936792e-02],\n",
       "       [-6.32629412e-01, -1.25777472e-01,  7.58406884e-01],\n",
       "       [-6.28993752e-01,  7.66837590e-01, -1.37843839e-01],\n",
       "       [-5.09132157e-01,  2.06737142e+00, -1.55823926e+00],\n",
       "       [-2.58570423e-02,  1.63787145e-01, -1.37930103e-01],\n",
       "       [-2.49737813e-01,  2.50456185e-01, -7.18372140e-04],\n",
       "       [-6.74344684e-01,  1.66852324e+00, -9.94178553e-01],\n",
       "       [-2.22834183e-01,  5.32272235e-01, -3.09438053e-01],\n",
       "       [-7.10780951e-01,  1.16426816e+00, -4.53487214e-01],\n",
       "       [-1.60428315e-01, -4.09283628e-01,  5.69711943e-01],\n",
       "       [ 2.75251890e-01,  3.18350117e-01, -5.93602007e-01],\n",
       "       [-1.20625480e+00,  1.54911050e+00, -3.42855696e-01],\n",
       "       [-1.70020921e+00, -1.00362073e+00,  2.70382993e+00],\n",
       "       [ 3.89419884e-01, -1.21329515e-01, -2.68090369e-01],\n",
       "       [-1.44513403e+00,  1.91670720e+00, -4.71573169e-01],\n",
       "       [ 3.61078005e-01, -2.14738458e-01, -1.46339547e-01],\n",
       "       [ 5.78300156e-01, -5.38112056e-01, -4.01880998e-02],\n",
       "       [-7.25107035e-01, -2.55611334e-01,  9.80718369e-01],\n",
       "       [ 1.07316192e+00, -3.95967887e-01, -6.77194034e-01],\n",
       "       [ 3.23370615e-01, -7.87111144e-01,  4.63740529e-01],\n",
       "       [ 3.87896575e-01, -3.31101230e-01, -5.67953454e-02],\n",
       "       [ 8.72224755e-01, -1.13724207e-01, -7.58500549e-01],\n",
       "       [-1.12246948e+00, -7.45240902e-01,  1.86771038e+00],\n",
       "       [-4.42786282e-01,  8.42687430e-01, -3.99901148e-01],\n",
       "       [ 1.83877565e-01, -1.94945270e-01,  1.10677051e-02],\n",
       "       [-2.22401512e+00, -7.67848961e-01,  2.99186408e+00],\n",
       "       [-7.54535856e-01,  4.41523115e-01,  3.13012741e-01],\n",
       "       [-1.27497204e-02, -5.50131201e-01,  5.62880922e-01],\n",
       "       [-8.87332513e-01,  4.38453589e-01,  4.48878924e-01],\n",
       "       [ 2.55734293e-01,  2.79764660e-01, -5.35498952e-01],\n",
       "       [ 2.87086730e-01,  4.26278670e-02, -3.29714597e-01],\n",
       "       [ 1.75227148e-01,  4.48835957e-01, -6.24063105e-01],\n",
       "       [-1.67524648e-01,  5.19863846e-01, -3.52339198e-01],\n",
       "       [-9.20781503e-02,  2.42012541e-02,  6.78768962e-02],\n",
       "       [-1.25255940e+00,  1.32772093e+00, -7.51615301e-02],\n",
       "       [ 5.52790023e-01, -7.84486713e-01,  2.31696690e-01],\n",
       "       [-3.65936995e-01, -6.30882036e-01,  9.96819032e-01],\n",
       "       [-1.86625825e-01,  1.03364756e+00, -8.47021734e-01],\n",
       "       [-2.77113900e+00,  2.78790544e+00, -1.67664418e-02],\n",
       "       [ 3.44873015e-01, -4.20058658e-02, -3.02867149e-01],\n",
       "       [ 1.92766955e-01, -9.82736139e-02, -9.44933409e-02],\n",
       "       [-1.45127588e-02,  3.72964669e-01, -3.58451910e-01],\n",
       "       [-3.69021451e-01,  7.74215060e-01, -4.05193610e-01],\n",
       "       [ 8.66989760e-02,  2.43813047e-01, -3.30512023e-01],\n",
       "       [-1.36727458e-01,  8.33403125e-02,  5.33871454e-02],\n",
       "       [-1.94676459e-01, -3.77613395e-01,  5.72289854e-01],\n",
       "       [-1.03796196e+00,  2.50581660e-01,  7.87380299e-01],\n",
       "       [-3.65626671e-01,  4.26420273e-01, -6.07936012e-02],\n",
       "       [-1.36915133e-01, -3.35319816e-02,  1.70447115e-01],\n",
       "       [-3.43209119e-01,  7.91435651e-01, -4.48226532e-01],\n",
       "       [-3.78062200e-01,  4.63467388e-01, -8.54051884e-02],\n",
       "       [-1.49668806e+00,  1.23724073e+00,  2.59447330e-01],\n",
       "       [-7.01487158e-01,  1.11245314e+00, -4.10965983e-01],\n",
       "       [-9.87274101e-01,  1.64353836e+00, -6.56264255e-01],\n",
       "       [ 1.13728842e-01,  6.60521091e-01, -7.74249934e-01],\n",
       "       [ 6.56342309e-01, -1.33023210e+00,  6.73889788e-01],\n",
       "       [ 4.89824862e-01, -1.30882181e-01, -3.58942682e-01],\n",
       "       [-4.75839150e-01,  8.39587559e-01, -3.63748408e-01],\n",
       "       [ 4.01940666e-01,  2.61658209e-01, -6.63598875e-01],\n",
       "       [ 9.58197188e-01, -2.03346611e-01, -7.54850576e-01],\n",
       "       [ 8.03554808e-01, -7.78804510e-01, -2.47502985e-02],\n",
       "       [-1.71647763e-01, -9.11007253e-01,  1.08265502e+00],\n",
       "       [-1.23742077e+00,  8.49606956e-01,  3.87813816e-01],\n",
       "       [-4.45758004e-01,  7.42891242e-01, -2.97133238e-01],\n",
       "       [-4.18975174e-01,  9.14214932e-01, -4.95239758e-01],\n",
       "       [-4.05041925e-01,  6.72322463e-01, -2.67280537e-01],\n",
       "       [-4.83503951e-01,  9.51692579e-01, -4.68188629e-01],\n",
       "       [ 4.81389459e-02, -1.40609898e+00,  1.35796003e+00],\n",
       "       [-2.16751309e-01,  8.69357460e-01, -6.52606151e-01],\n",
       "       [ 4.82489286e-01, -2.42687923e-01, -2.39801363e-01],\n",
       "       [-6.22567289e-01,  7.00683862e-01, -7.81165729e-02],\n",
       "       [ 5.81423403e-01, -5.34864914e-01, -4.65584892e-02],\n",
       "       [-1.20661370e+00,  1.56325961e+00, -3.56645907e-01],\n",
       "       [-6.90516827e-01,  9.16788897e-01, -2.26272069e-01],\n",
       "       [-7.02207600e-01,  1.00635710e+00, -3.04149499e-01],\n",
       "       [ 2.21021244e-02, -7.22125711e-01,  7.00023587e-01],\n",
       "       [-3.00993974e-01,  1.67289796e-01,  1.33704178e-01],\n",
       "       [ 3.91272401e-01, -2.99110260e-01, -9.21621414e-02],\n",
       "       [-6.62253528e-01, -9.57656775e-01,  1.61991030e+00],\n",
       "       [-4.89128489e-01,  1.05743949e+00, -5.68311005e-01],\n",
       "       [-9.28901071e-01,  1.55782018e+00, -6.28919105e-01],\n",
       "       [ 6.68367880e-01, -1.25040343e+00,  5.82035555e-01],\n",
       "       [ 1.92933998e-01, -1.85838912e-02, -1.74350106e-01],\n",
       "       [-6.70971844e-01,  7.28233757e-01, -5.72619130e-02],\n",
       "       [ 5.21605076e-01, -4.58671052e-01, -6.29340233e-02],\n",
       "       [-4.33051981e-02,  4.22210644e-01, -3.78905446e-01],\n",
       "       [ 9.01981561e-01, -1.62497226e-01, -7.39484334e-01]])"
      ]
     },
     "execution_count": 1952,
     "metadata": {},
     "output_type": "execute_result"
    }
   ],
   "source": [
    "model.decision_function(X)"
   ]
  },
  {
   "cell_type": "code",
   "execution_count": 1953,
   "metadata": {},
   "outputs": [],
   "source": [
    "labels=dataframe.columns[1:]"
   ]
  },
  {
   "cell_type": "code",
   "execution_count": 1954,
   "metadata": {},
   "outputs": [
    {
     "data": {
      "text/plain": [
       "array(['contradiction', 'entailment', 'neutral'], dtype=object)"
      ]
     },
     "execution_count": 1954,
     "metadata": {},
     "output_type": "execute_result"
    }
   ],
   "source": [
    "model.classes_"
   ]
  },
  {
   "cell_type": "code",
   "execution_count": 1955,
   "metadata": {},
   "outputs": [],
   "source": [
    "contradiction=model.coef_[0]\n",
    "entailment=model.coef_[1]\n",
    "neutral=model.coef_[2]"
   ]
  },
  {
   "cell_type": "code",
   "execution_count": 1956,
   "metadata": {},
   "outputs": [
    {
     "name": "stdout",
     "output_type": "stream",
     "text": [
      "Contradiction  27 ADV_NOUN_ 32 antonimos\n",
      "Entailment  32 antonimos 20 ADJ_ADJ_\n",
      "Neutral  30 ADV_ADV_ 36 sim verbos\n"
     ]
    }
   ],
   "source": [
    "print(\"Contradiction \",np.argmax(contradiction),labels[np.argmax(contradiction)],np.argmin(contradiction),labels[np.argmin(contradiction)])\n",
    "print(\"Entailment \",np.argmax(entailment),labels[np.argmax(entailment)],np.argmin(entailment),labels[np.argmin(entailment)])\n",
    "print(\"Neutral \",np.argmax(neutral),labels[np.argmax(neutral)],np.argmin(neutral),labels[np.argmin(neutral)])"
   ]
  },
  {
   "cell_type": "code",
   "execution_count": 1957,
   "metadata": {},
   "outputs": [],
   "source": [
    "n_columns=dataframe.shape[1]-1"
   ]
  },
  {
   "cell_type": "code",
   "execution_count": 1958,
   "metadata": {},
   "outputs": [
    {
     "data": {
      "image/png": "[encoded data removed]",
      "text/plain": [
       "<Figure size 640x480 with 1 Axes>"
      ]
     },
     "metadata": {},
     "output_type": "display_data"
    }
   ],
   "source": [
    "import matplotlib.pyplot as plt\n",
    "import numpy as np\n",
    "\n",
    "x_v = np.arange(0,n_columns,1)\n",
    "y_v = contradiction\n",
    "\n",
    "plt.bar(x_v,y_v)\n",
    "plt.xlabel('x')\n",
    "plt.ylabel('y')\n",
    "plt.title('Contradiction')\n",
    "plt.show()"
   ]
  },
  {
   "cell_type": "code",
   "execution_count": 1959,
   "metadata": {},
   "outputs": [
    {
     "data": {
      "image/png": "[encoded data removed]",
      "text/plain": [
       "<Figure size 640x480 with 1 Axes>"
      ]
     },
     "metadata": {},
     "output_type": "display_data"
    }
   ],
   "source": [
    "x_v = np.arange(0,n_columns,1)\n",
    "y_v = entailment\n",
    "\n",
    "plt.bar(x_v,y_v)\n",
    "plt.xlabel('x')\n",
    "plt.ylabel('y')\n",
    "plt.title('Entailment')\n",
    "plt.show()"
   ]
  },
  {
   "cell_type": "code",
   "execution_count": 1960,
   "metadata": {},
   "outputs": [
    {
     "data": {
      "image/png": "[encoded data removed]",
      "text/plain": [
       "<Figure size 640x480 with 1 Axes>"
      ]
     },
     "metadata": {},
     "output_type": "display_data"
    }
   ],
   "source": [
    "x_v = np.arange(0,n_columns,1)\n",
    "y_v = neutral\n",
    "\n",
    "plt.bar(x_v,y_v)\n",
    "plt.xlabel('x')\n",
    "plt.ylabel('y')\n",
    "plt.title('Neutral')\n",
    "plt.show()"
   ]
  },
  {
   "cell_type": "code",
   "execution_count": 1961,
   "metadata": {},
   "outputs": [
    {
     "name": "stdout",
     "output_type": "stream",
     "text": [
      "['contradiction' 'entailment' 'neutral' 'entailment' 'neutral' 'neutral'\n",
      " 'entailment' 'entailment' 'neutral' 'entailment' 'entailment'\n",
      " 'contradiction' 'entailment' 'contradiction' 'neutral' 'entailment'\n",
      " 'entailment' 'entailment' 'entailment' 'entailment' 'entailment'\n",
      " 'entailment' 'neutral' 'entailment' 'entailment' 'neutral'\n",
      " 'contradiction' 'entailment' 'contradiction' 'contradiction' 'neutral'\n",
      " 'contradiction' 'neutral' 'contradiction' 'contradiction' 'neutral'\n",
      " 'entailment' 'contradiction' 'neutral' 'entailment' 'neutral' 'neutral'\n",
      " 'entailment' 'contradiction' 'entailment' 'entailment' 'neutral'\n",
      " 'entailment' 'contradiction' 'neutral' 'entailment' 'entailment'\n",
      " 'contradiction' 'contradiction' 'entailment' 'entailment' 'entailment'\n",
      " 'entailment' 'neutral' 'neutral' 'entailment' 'neutral' 'entailment'\n",
      " 'entailment' 'entailment' 'entailment' 'entailment' 'entailment'\n",
      " 'neutral' 'contradiction' 'entailment' 'contradiction' 'contradiction'\n",
      " 'contradiction' 'neutral' 'entailment' 'entailment' 'entailment'\n",
      " 'entailment' 'entailment' 'neutral' 'entailment' 'contradiction'\n",
      " 'entailment' 'contradiction' 'entailment' 'entailment' 'entailment'\n",
      " 'neutral' 'entailment' 'contradiction' 'neutral' 'entailment'\n",
      " 'entailment' 'contradiction' 'contradiction' 'entailment' 'contradiction'\n",
      " 'entailment' 'contradiction']\n"
     ]
    }
   ],
   "source": [
    "predictions = model.predict(X)\n",
    "print(predictions)"
   ]
  },
  {
   "cell_type": "code",
   "execution_count": 1962,
   "metadata": {},
   "outputs": [
    {
     "data": {
      "text/plain": [
       "array(['entailment', 'entailment', 'contradiction', 'contradiction',\n",
       "       'neutral', 'neutral', 'neutral', 'entailment', 'neutral',\n",
       "       'entailment', 'neutral', 'contradiction', 'entailment',\n",
       "       'contradiction', 'neutral', 'neutral', 'entailment',\n",
       "       'contradiction', 'contradiction', 'entailment', 'entailment',\n",
       "       'entailment', 'neutral', 'contradiction', 'entailment', 'neutral',\n",
       "       'entailment', 'entailment', 'entailment', 'neutral', 'neutral',\n",
       "       'contradiction', 'contradiction', 'entailment', 'contradiction',\n",
       "       'neutral', 'entailment', 'neutral', 'neutral', 'entailment',\n",
       "       'neutral', 'neutral', 'contradiction', 'neutral', 'entailment',\n",
       "       'neutral', 'neutral', 'entailment', 'contradiction', 'neutral',\n",
       "       'entailment', 'entailment', 'neutral', 'entailment',\n",
       "       'contradiction', 'entailment', 'entailment', 'neutral', 'neutral',\n",
       "       'neutral', 'neutral', 'neutral', 'neutral', 'entailment',\n",
       "       'entailment', 'contradiction', 'entailment', 'entailment',\n",
       "       'neutral', 'contradiction', 'entailment', 'contradiction',\n",
       "       'contradiction', 'contradiction', 'neutral', 'entailment',\n",
       "       'entailment', 'entailment', 'entailment', 'contradiction',\n",
       "       'neutral', 'entailment', 'entailment', 'entailment',\n",
       "       'contradiction', 'entailment', 'entailment', 'entailment',\n",
       "       'contradiction', 'contradiction', 'contradiction', 'neutral',\n",
       "       'entailment', 'entailment', 'contradiction', 'entailment',\n",
       "       'entailment', 'contradiction', 'contradiction', 'contradiction'],\n",
       "      dtype=object)"
      ]
     },
     "execution_count": 1962,
     "metadata": {},
     "output_type": "execute_result"
    }
   ],
   "source": [
    "y"
   ]
  },
  {
   "cell_type": "code",
   "execution_count": 1963,
   "metadata": {},
   "outputs": [
    {
     "data": {
      "text/plain": [
       "array([[2.35856082, 0.32333437, 0.62231132, ..., 3.        , 0.8       ,\n",
       "        0.23303741],\n",
       "       [4.87990355, 0.94464815, 0.45253906, ..., 1.        , 1.        ,\n",
       "        0.20343813],\n",
       "       [2.30507833, 0.92826292, 0.94227543, ..., 0.        , 0.4       ,\n",
       "        0.36080334],\n",
       "       ...,\n",
       "       [1.0652501 , 0.        , 0.25450289, ..., 0.        , 0.        ,\n",
       "        0.24513762],\n",
       "       [1.31697321, 0.        , 0.        , ..., 0.        , 1.        ,\n",
       "        1.        ],\n",
       "       [2.04060655, 0.        , 0.68808258, ..., 0.        , 0.66666667,\n",
       "        0.23483758]])"
      ]
     },
     "execution_count": 1963,
     "metadata": {},
     "output_type": "execute_result"
    }
   ],
   "source": [
    "X"
   ]
  },
  {
   "cell_type": "code",
   "execution_count": 1964,
   "metadata": {},
   "outputs": [
    {
     "data": {
      "text/plain": [
       "0.69"
      ]
     },
     "execution_count": 1964,
     "metadata": {},
     "output_type": "execute_result"
    }
   ],
   "source": [
    "model.score(X,y)"
   ]
  },
  {
   "cell_type": "code",
   "execution_count": 1965,
   "metadata": {},
   "outputs": [
    {
     "name": "stdout",
     "output_type": "stream",
     "text": [
      "[[14 10  3]\n",
      " [ 7 35  0]\n",
      " [ 4  7 20]]\n"
     ]
    }
   ],
   "source": [
    "print(confusion_matrix(y, predictions))"
   ]
  },
  {
   "cell_type": "code",
   "execution_count": 1966,
   "metadata": {},
   "outputs": [
    {
     "name": "stdout",
     "output_type": "stream",
     "text": [
      "[0.53846154 0.74468085 0.74074074]\n"
     ]
    }
   ],
   "source": [
    "print(f1_score(y,predictions, average=None))"
   ]
  },
  {
   "cell_type": "code",
   "execution_count": 1967,
   "metadata": {},
   "outputs": [],
   "source": [
    "validation_size = 0.20\n",
    "seed = 7\n",
    "X_train, X_validation, Y_train, Y_validation = model_selection.train_test_split(X, y, test_size=validation_size)"
   ]
  },
  {
   "cell_type": "code",
   "execution_count": 1968,
   "metadata": {},
   "outputs": [
    {
     "name": "stdout",
     "output_type": "stream",
     "text": [
      "Logistic Regression: 0.487500 (0.147373)\n"
     ]
    }
   ],
   "source": [
    "name='Logistic Regression'\n",
    "kfold = model_selection.KFold(n_splits=20)\n",
    "cv_results = model_selection.cross_val_score(model, X_train, Y_train, cv=kfold, scoring='accuracy')\n",
    "msg = \"%s: %f (%f)\" % (name, cv_results.mean(), cv_results.std())\n",
    "print(msg)"
   ]
  },
  {
   "cell_type": "code",
   "execution_count": 1969,
   "metadata": {},
   "outputs": [
    {
     "name": "stdout",
     "output_type": "stream",
     "text": [
      "0.6\n"
     ]
    }
   ],
   "source": [
    "predictions = model.predict(X_validation)\n",
    "print(accuracy_score(Y_validation, predictions))"
   ]
  },
  {
   "cell_type": "code",
   "execution_count": 1970,
   "metadata": {},
   "outputs": [
    {
     "name": "stdout",
     "output_type": "stream",
     "text": [
      "[[3 1 0]\n",
      " [3 7 0]\n",
      " [4 0 2]]\n"
     ]
    }
   ],
   "source": [
    "print(confusion_matrix(Y_validation, predictions))"
   ]
  },
  {
   "cell_type": "code",
   "execution_count": 1971,
   "metadata": {},
   "outputs": [
    {
     "name": "stdout",
     "output_type": "stream",
     "text": [
      "               precision    recall  f1-score   support\n",
      "\n",
      "contradiction       0.30      0.75      0.43         4\n",
      "   entailment       0.88      0.70      0.78        10\n",
      "      neutral       1.00      0.33      0.50         6\n",
      "\n",
      "     accuracy                           0.60        20\n",
      "    macro avg       0.72      0.59      0.57        20\n",
      " weighted avg       0.80      0.60      0.62        20\n",
      "\n"
     ]
    }
   ],
   "source": [
    "print(classification_report(Y_validation, predictions))"
   ]
  },
  {
   "cell_type": "code",
   "execution_count": 1972,
   "metadata": {},
   "outputs": [],
   "source": [
    "#X_new = pd.DataFrame()\n",
    "#model.predict(X_new)"
   ]
  }
 ],
 "metadata": {
  "kernelspec": {
   "display_name": "Python 3",
   "language": "python",
   "name": "python3"
  },
  "language_info": {
   "codemirror_mode": {
    "name": "ipython",
    "version": 3
   },
   "file_extension": ".py",
   "mimetype": "text/x-python",
   "name": "python",
   "nbconvert_exporter": "python",
   "pygments_lexer": "ipython3",
   "version": "3.9.13"
  }
 },
 "nbformat": 4,
 "nbformat_minor": 2
}
