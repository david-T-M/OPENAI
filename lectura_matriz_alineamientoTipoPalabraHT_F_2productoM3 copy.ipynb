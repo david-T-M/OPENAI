{
 "cells": [
  {
   "cell_type": "code",
   "execution_count": 2,
   "metadata": {},
   "outputs": [],
   "source": [
    "import seaborn as sns\n",
    "import pandas as pd\n",
    "import numpy as np"
   ]
  },
  {
   "cell_type": "code",
   "execution_count": 98,
   "metadata": {},
   "outputs": [],
   "source": [
    "import conceptnet_lite\n",
    "\n",
    "conceptnet_lite.connect(\"data/conceptnet.db\")\n",
    "from conceptnet_lite import Label, edges_for"
   ]
  },
  {
   "cell_type": "code",
   "execution_count": 5,
   "metadata": {},
   "outputs": [],
   "source": [
    "import mutual_info as mi\n",
    "#from mutual_info import *\n",
    "#len(mi.nearest_distances(texto1.T,k=3))\n"
   ]
  },
  {
   "cell_type": "code",
   "execution_count": 6,
   "metadata": {},
   "outputs": [],
   "source": [
    "def encontrar_relaciones(relaciones):\n",
    "    borrar=set()\n",
    "    borrar_i=set()\n",
    "    for r in relaciones:\n",
    "        index=r[0]\n",
    "        c=r[1]\n",
    "        wt=str(index).split(\"{\")[1].split(\",\")[0]\n",
    "        wh=str(c).split(\"{\")[1].split(\",\")[0]    \n",
    "        try:\n",
    "            for e in edges_for(Label.get(text=wh, language='en').concepts, same_language=True):\n",
    "                if \"synonym\"==e.relation.name:\n",
    "                    if wh== e.start.text:\n",
    "                        if e.end.text==wt:\n",
    "                            borrar.add(c)\n",
    "                            borrar_i.add(index)\n",
    "                            break\n",
    "                    else:\n",
    "                        if e.start.text==wt:\n",
    "                            borrar.add(c)\n",
    "                            borrar_i.add(index)\n",
    "                            break\n",
    "                elif \"is_a\" ==e.relation.name:\n",
    "                    if wh== e.start.text:\n",
    "                        if e.end.text==wt:\n",
    "                            print(wh,\" is_a \",wt)\n",
    "                            borrar.add(c)\n",
    "                            borrar_i.add(index)\n",
    "                            break\n",
    "                    else: ##quitar y la busqueda de relacioens\n",
    "                        if wh== e.end.text:\n",
    "                            if e.start.text==wt:\n",
    "                                print(wt,\" is_a \",wh)\n",
    "                                borrar.add(c)\n",
    "                                borrar_i.add(index)\n",
    "                                break\n",
    "                # elif \"derived_from\" == e.relation.name:\n",
    "                #     if wh== e.start.text:\n",
    "                #         if e.end.text==wt:\n",
    "                #             print(wh,\" derivado_from \",wt)\n",
    "                #             borrar.add(c)\n",
    "                #             borrar_i.add(index)\n",
    "                #             break\n",
    "                elif \"used_for\" == e.relation.name:\n",
    "                    if wh== e.start.text:\n",
    "                        if e.end.text==wt:\n",
    "                            print(wh,\" used_for \",wt)\n",
    "                            borrar.add(c)\n",
    "                            borrar_i.add(index)\n",
    "                            break\n",
    "        except:\n",
    "            a=0\n",
    "    return list(borrar),list(borrar_i)"
   ]
  },
  {
   "cell_type": "code",
   "execution_count": 8,
   "metadata": {},
   "outputs": [],
   "source": [
    "def encontrar_relaciones_contrarias(relaciones):\n",
    "    antonyms=[]\n",
    "    borrar=[]\n",
    "    borrar_i=[]\n",
    "    for r in relaciones:\n",
    "        index=r[0]\n",
    "        c=r[1]\n",
    "        wt=str(index).split(\"{\")[1].split(\",\")[0]\n",
    "        wh=str(c).split(\"{\")[1].split(\",\")[0]\n",
    "        try:\n",
    "            for e in edges_for(Label.get(text=wh, language='en').concepts, same_language=True):\n",
    "                if \"antonym\" ==e.relation.name:\n",
    "                    if wt== e.start.text:\n",
    "                        if e.end.text==wh:\n",
    "                            print(wt,\" antonym \",wh)\n",
    "                            #borrar.append(c)\n",
    "                            #borrar_i.append(index)\n",
    "                            antonyms.append(wt)\n",
    "                            break\n",
    "                        else:\n",
    "                            print(wh,\" antonym \",wt)\n",
    "                            #borrar.append(c)\n",
    "                            #borrar_i.append(index)\n",
    "                            antonyms.append(wt)\n",
    "                            break\n",
    "                elif \"distinct_from\" ==e.relation.name:\n",
    "                    if wh== e.start.text:\n",
    "                        if e.end.text==wt:\n",
    "                            print(wh,\" distinct from \",wt)\n",
    "                            #borrar.append(c)\n",
    "                            #borrar_i.append(index)\n",
    "                            antonyms.append(wt)\n",
    "                            break\n",
    "                    else:\n",
    "                        if e.start.text==wt:\n",
    "                            print(wt,\" antonym \",wh)\n",
    "                            #borrar.append(c)\n",
    "                            #borrar_i.append(index)\n",
    "                            antonyms.append(wt)\n",
    "                            break\n",
    "        except:\n",
    "            a=0\n",
    "    return borrar,borrar_i,antonyms"
   ]
  },
  {
   "cell_type": "code",
   "execution_count": 9,
   "metadata": {},
   "outputs": [],
   "source": [
    "def encontrar_relaciones_cercanas(indexes,columnas):\n",
    "    borrar=[]\n",
    "    borrar_i=[]\n",
    "    related=[]\n",
    "    for index in indexes:\n",
    "        for c in columnas:\n",
    "            wt=str(index).split(\"{\")[1].split(\",\")[0]\n",
    "            wh=str(c).split(\"{\")[1].split(\",\")[0]\n",
    "            try:\n",
    "                for e in edges_for(Label.get(text=wh, language='en').concepts, same_language=True):\n",
    "                    if \"related_to\" ==e.relation.name:\n",
    "                        if wt== e.start.text:\n",
    "                            if e.end.text==wh:\n",
    "                                print(wt,\" related_to \",wh)\n",
    "                                #borrar.append(c)\n",
    "                                #borrar_i.append(index)\n",
    "                                related.append(wt)\n",
    "                                break\n",
    "                            else:\n",
    "                                print(wh,\" related_to \",wt)\n",
    "                                #borrar.append(c)\n",
    "                                #borrar_i.append(index)\n",
    "                                related.append(wt)\n",
    "                                break\n",
    "                    elif \"similar_to\" ==e.relation.name:\n",
    "                        if wh== e.start.text:\n",
    "                            if e.end.text==wt:\n",
    "                                print(wh,\" similar_to \",wt)\n",
    "                                #borrar.append(c)\n",
    "                                #borrar_i.append(index)\n",
    "                                related.append(wt)\n",
    "                                break\n",
    "                        else:\n",
    "                            if e.start.text==wt:\n",
    "                                print(wt,\" similar_to \",wh)\n",
    "                                #borrar.append(c)\n",
    "                                #borrar_i.append(index)\n",
    "                                related.append(wt)\n",
    "                                break\n",
    "            except:\n",
    "                a=0\n",
    "    return borrar,borrar_i,related"
   ]
  },
  {
   "cell_type": "code",
   "execution_count": 10,
   "metadata": {},
   "outputs": [
    {
     "data": {
      "text/html": [
       "<div>\n",
       "<style scoped>\n",
       "    .dataframe tbody tr th:only-of-type {\n",
       "        vertical-align: middle;\n",
       "    }\n",
       "\n",
       "    .dataframe tbody tr th {\n",
       "        vertical-align: top;\n",
       "    }\n",
       "\n",
       "    .dataframe thead th {\n",
       "        text-align: right;\n",
       "    }\n",
       "</style>\n",
       "<table border=\"1\" class=\"dataframe\">\n",
       "  <thead>\n",
       "    <tr style=\"text-align: right;\">\n",
       "      <th></th>\n",
       "      <th>Main index</th>\n",
       "      <th>Text</th>\n",
       "      <th>Hipotesis</th>\n",
       "      <th>R_Text</th>\n",
       "      <th>R_Hip</th>\n",
       "      <th>M_Align</th>\n",
       "      <th>Prediction</th>\n",
       "      <th>Gold_label</th>\n",
       "      <th>Input1</th>\n",
       "      <th>Input2</th>\n",
       "      <th>Model1</th>\n",
       "      <th>Model2</th>\n",
       "    </tr>\n",
       "  </thead>\n",
       "  <tbody>\n",
       "    <tr>\n",
       "      <th>0</th>\n",
       "      <td>0</td>\n",
       "      <td>[NULL{null,PROPN}, a{a,DET}, man{man,NOUN}, we...</td>\n",
       "      <td>[NULL{null,PROPN}, a{a,DET}, person{person,NOU...</td>\n",
       "      <td>[[0.46309, 0.43844, -0.47275, 0.0077819, 0.404...</td>\n",
       "      <td>[[0.46309, 0.43844, -0.47275, 0.0077819, 0.404...</td>\n",
       "      <td>[[54.419086, 0.26434264, 19.101225, 1.2564747,...</td>\n",
       "      <td>[0.03256245, 0.9674213, 1.6298849e-05]</td>\n",
       "      <td>[1.0, 0.0, 0.0]</td>\n",
       "      <td>[[0.46309, 0.43844, -0.47275, 0.0077819, 0.404...</td>\n",
       "      <td>[[0.46309, 0.43844, -0.47275, 0.0077819, 0.404...</td>\n",
       "      <td>[[0.46309, 0.43844, -0.47275, 0.0077819, 0.404...</td>\n",
       "      <td>[[0.46309, 0.43844, -0.47275, 0.0077819, 0.404...</td>\n",
       "    </tr>\n",
       "    <tr>\n",
       "      <th>1</th>\n",
       "      <td>1</td>\n",
       "      <td>[NULL{null,PROPN}, a{a,DET}, man{man,NOUN}, dr...</td>\n",
       "      <td>[NULL{null,PROPN}, a{a,DET}, guy{guy,NOUN}, in...</td>\n",
       "      <td>[[0.46309, 0.43844, -0.47275, 0.0077819, 0.404...</td>\n",
       "      <td>[[0.46309, 0.43844, -0.47275, 0.0077819, 0.404...</td>\n",
       "      <td>[[54.419086, 0.26434264, 15.958708, 1.2564747,...</td>\n",
       "      <td>[0.032293927, 0.9676897, 1.637127e-05]</td>\n",
       "      <td>[1.0, 0.0, 0.0]</td>\n",
       "      <td>[[0.46309, 0.43844, -0.47275, 0.0077819, 0.404...</td>\n",
       "      <td>[[0.46309, 0.43844, -0.47275, 0.0077819, 0.404...</td>\n",
       "      <td>[[0.46309, 0.43844, -0.47275, 0.0077819, 0.404...</td>\n",
       "      <td>[[0.46309, 0.43844, -0.47275, 0.0077819, 0.404...</td>\n",
       "    </tr>\n",
       "    <tr>\n",
       "      <th>2</th>\n",
       "      <td>2</td>\n",
       "      <td>[NULL{null,PROPN}, a{a,DET}, young{young,ADJ},...</td>\n",
       "      <td>[NULL{null,PROPN}, a{a,DET}, boy{boy,NOUN}, sl...</td>\n",
       "      <td>[[0.46309, 0.43844, -0.47275, 0.0077819, 0.404...</td>\n",
       "      <td>[[0.46309, 0.43844, -0.47275, 0.0077819, 0.404...</td>\n",
       "      <td>[[54.419086, 0.26434264, 13.145995, 53.678085,...</td>\n",
       "      <td>[0.86936, 0.016950097, 0.113689914]</td>\n",
       "      <td>[0.0, 0.0, 1.0]</td>\n",
       "      <td>[[0.46309, 0.43844, -0.47275, 0.0077819, 0.404...</td>\n",
       "      <td>[[0.46309, 0.43844, -0.47275, 0.0077819, 0.404...</td>\n",
       "      <td>[[0.46309, 0.43844, -0.47275, 0.0077819, 0.404...</td>\n",
       "      <td>[[0.46309, 0.43844, -0.47275, 0.0077819, 0.404...</td>\n",
       "    </tr>\n",
       "    <tr>\n",
       "      <th>3</th>\n",
       "      <td>3</td>\n",
       "      <td>[NULL{null,NOUN}, an{an,DET}, asian{asian,ADJ}...</td>\n",
       "      <td>[NULL{null,PROPN}, nobody{nobody,NOUN}, is{be,...</td>\n",
       "      <td>[[0.46309, 0.43844, -0.47275, 0.0077819, 0.404...</td>\n",
       "      <td>[[0.46309, 0.43844, -0.47275, 0.0077819, 0.404...</td>\n",
       "      <td>[[54.419086, 39.413757, 4.3888206, 17.930946, ...</td>\n",
       "      <td>[0.56929874, 0.4305042, 0.00019709245]</td>\n",
       "      <td>[0.0, 0.0, 1.0]</td>\n",
       "      <td>[[0.46309, 0.43844, -0.47275, 0.0077819, 0.404...</td>\n",
       "      <td>[[0.46309, 0.43844, -0.47275, 0.0077819, 0.404...</td>\n",
       "      <td>[[0.46309, 0.43844, -0.47275, 0.0077819, 0.404...</td>\n",
       "      <td>[[0.46309, 0.43844, -0.47275, 0.0077819, 0.404...</td>\n",
       "    </tr>\n",
       "    <tr>\n",
       "      <th>4</th>\n",
       "      <td>4</td>\n",
       "      <td>[NULL{null,PROPN}, a{a,DET}, child{child,NOUN}...</td>\n",
       "      <td>[NULL{null,PROPN}, the{the,DET}, child{child,N...</td>\n",
       "      <td>[[0.46309, 0.43844, -0.47275, 0.0077819, 0.404...</td>\n",
       "      <td>[[0.46309, 0.43844, -0.47275, 0.0077819, 0.404...</td>\n",
       "      <td>[[54.419086, 0.0, 13.88712, 4.3888206, 1.63502...</td>\n",
       "      <td>[0.012144173, 0.9878521, 3.820453e-06]</td>\n",
       "      <td>[0.0, 1.0, 0.0]</td>\n",
       "      <td>[[0.46309, 0.43844, -0.47275, 0.0077819, 0.404...</td>\n",
       "      <td>[[0.46309, 0.43844, -0.47275, 0.0077819, 0.404...</td>\n",
       "      <td>[[0.46309, 0.43844, -0.47275, 0.0077819, 0.404...</td>\n",
       "      <td>[[0.46309, 0.43844, -0.47275, 0.0077819, 0.404...</td>\n",
       "    </tr>\n",
       "    <tr>\n",
       "      <th>...</th>\n",
       "      <td>...</td>\n",
       "      <td>...</td>\n",
       "      <td>...</td>\n",
       "      <td>...</td>\n",
       "      <td>...</td>\n",
       "      <td>...</td>\n",
       "      <td>...</td>\n",
       "      <td>...</td>\n",
       "      <td>...</td>\n",
       "      <td>...</td>\n",
       "      <td>...</td>\n",
       "      <td>...</td>\n",
       "    </tr>\n",
       "    <tr>\n",
       "      <th>95</th>\n",
       "      <td>95</td>\n",
       "      <td>[NULL{null,PROPN}, a{a,DET}, group{group,NOUN}...</td>\n",
       "      <td>[NULL{null,PROPN}, a{a,DET}, bunch{bunch,NOUN}...</td>\n",
       "      <td>[[0.46309, 0.43844, -0.47275, 0.0077819, 0.404...</td>\n",
       "      <td>[[0.46309, 0.43844, -0.47275, 0.0077819, 0.404...</td>\n",
       "      <td>[[54.419086, 0.26434264, 3.9083166, 0.06153027...</td>\n",
       "      <td>[0.0071587614, 0.99284124, 1.5131656e-08]</td>\n",
       "      <td>[1.0, 0.0, 0.0]</td>\n",
       "      <td>[[0.46309, 0.43844, -0.47275, 0.0077819, 0.404...</td>\n",
       "      <td>[[0.46309, 0.43844, -0.47275, 0.0077819, 0.404...</td>\n",
       "      <td>[[0.46309, 0.43844, -0.47275, 0.0077819, 0.404...</td>\n",
       "      <td>[[0.46309, 0.43844, -0.47275, 0.0077819, 0.404...</td>\n",
       "    </tr>\n",
       "    <tr>\n",
       "      <th>96</th>\n",
       "      <td>96</td>\n",
       "      <td>[NULL{null,PROPN}, a{a,DET}, woman{woman,NOUN}...</td>\n",
       "      <td>[NULL{null,ADJ}, woman{woman,NOUN}, holds{hold...</td>\n",
       "      <td>[[0.46309, 0.43844, -0.47275, 0.0077819, 0.404...</td>\n",
       "      <td>[[0.46309, 0.43844, -0.47275, 0.0077819, 0.404...</td>\n",
       "      <td>[[54.419086, 13.22332, 7.2733583, 11.074403, 0...</td>\n",
       "      <td>[0.019462422, 0.98053336, 4.2487504e-06]</td>\n",
       "      <td>[1.0, 0.0, 0.0]</td>\n",
       "      <td>[[0.46309, 0.43844, -0.47275, 0.0077819, 0.404...</td>\n",
       "      <td>[[0.46309, 0.43844, -0.47275, 0.0077819, 0.404...</td>\n",
       "      <td>[[0.46309, 0.43844, -0.47275, 0.0077819, 0.404...</td>\n",
       "      <td>[[0.46309, 0.43844, -0.47275, 0.0077819, 0.404...</td>\n",
       "    </tr>\n",
       "    <tr>\n",
       "      <th>97</th>\n",
       "      <td>97</td>\n",
       "      <td>[NULL{null,PROPN}, a{a,DET}, skateboarding{ska...</td>\n",
       "      <td>[NULL{null,PROPN}, a{a,DET}, man{man,NOUN}, pa...</td>\n",
       "      <td>[[0.46309, 0.43844, -0.47275, 0.0077819, 0.404...</td>\n",
       "      <td>[[0.46309, 0.43844, -0.47275, 0.0077819, 0.404...</td>\n",
       "      <td>[[54.419086, 0.26434264, 13.771974, 2.2339544,...</td>\n",
       "      <td>[0.29717302, 0.70180535, 0.0010215595]</td>\n",
       "      <td>[0.0, 0.0, 1.0]</td>\n",
       "      <td>[[0.46309, 0.43844, -0.47275, 0.0077819, 0.404...</td>\n",
       "      <td>[[0.46309, 0.43844, -0.47275, 0.0077819, 0.404...</td>\n",
       "      <td>[[0.46309, 0.43844, -0.47275, 0.0077819, 0.404...</td>\n",
       "      <td>[[0.46309, 0.43844, -0.47275, 0.0077819, 0.404...</td>\n",
       "    </tr>\n",
       "    <tr>\n",
       "      <th>98</th>\n",
       "      <td>98</td>\n",
       "      <td>[NULL{null,ADJ}, four{four,NUM}, children{chil...</td>\n",
       "      <td>[NULL{null,PROPN}, the{the,DET}, children{chil...</td>\n",
       "      <td>[[0.46309, 0.43844, -0.47275, 0.0077819, 0.404...</td>\n",
       "      <td>[[0.46309, 0.43844, -0.47275, 0.0077819, 0.404...</td>\n",
       "      <td>[[54.419086, 0.0, 11.626324, 2.5308318, 6.2507...</td>\n",
       "      <td>[0.026629888, 0.9733507, 1.9341656e-05]</td>\n",
       "      <td>[0.0, 0.0, 1.0]</td>\n",
       "      <td>[[0.46309, 0.43844, -0.47275, 0.0077819, 0.404...</td>\n",
       "      <td>[[0.46309, 0.43844, -0.47275, 0.0077819, 0.404...</td>\n",
       "      <td>[[0.46309, 0.43844, -0.47275, 0.0077819, 0.404...</td>\n",
       "      <td>[[0.46309, 0.43844, -0.47275, 0.0077819, 0.404...</td>\n",
       "    </tr>\n",
       "    <tr>\n",
       "      <th>99</th>\n",
       "      <td>99</td>\n",
       "      <td>[NULL{null,ADJ}, three{three,NUM}, men{man,NOU...</td>\n",
       "      <td>[NULL{null,ADJ}, one{one,NUM}, of{of,ADP}, the...</td>\n",
       "      <td>[[0.46309, 0.43844, -0.47275, 0.0077819, 0.404...</td>\n",
       "      <td>[[0.46309, 0.43844, -0.47275, 0.0077819, 0.404...</td>\n",
       "      <td>[[54.419086, 5.68592, 0.06153027, 0.0, 17.9565...</td>\n",
       "      <td>[0.046912152, 0.95307666, 1.1263402e-05]</td>\n",
       "      <td>[0.0, 0.0, 1.0]</td>\n",
       "      <td>[[0.46309, 0.43844, -0.47275, 0.0077819, 0.404...</td>\n",
       "      <td>[[0.46309, 0.43844, -0.47275, 0.0077819, 0.404...</td>\n",
       "      <td>[[0.46309, 0.43844, -0.47275, 0.0077819, 0.404...</td>\n",
       "      <td>[[0.46309, 0.43844, -0.47275, 0.0077819, 0.404...</td>\n",
       "    </tr>\n",
       "  </tbody>\n",
       "</table>\n",
       "<p>100 rows × 12 columns</p>\n",
       "</div>"
      ],
      "text/plain": [
       "    Main index                                               Text  \\\n",
       "0            0  [NULL{null,PROPN}, a{a,DET}, man{man,NOUN}, we...   \n",
       "1            1  [NULL{null,PROPN}, a{a,DET}, man{man,NOUN}, dr...   \n",
       "2            2  [NULL{null,PROPN}, a{a,DET}, young{young,ADJ},...   \n",
       "3            3  [NULL{null,NOUN}, an{an,DET}, asian{asian,ADJ}...   \n",
       "4            4  [NULL{null,PROPN}, a{a,DET}, child{child,NOUN}...   \n",
       "..         ...                                                ...   \n",
       "95          95  [NULL{null,PROPN}, a{a,DET}, group{group,NOUN}...   \n",
       "96          96  [NULL{null,PROPN}, a{a,DET}, woman{woman,NOUN}...   \n",
       "97          97  [NULL{null,PROPN}, a{a,DET}, skateboarding{ska...   \n",
       "98          98  [NULL{null,ADJ}, four{four,NUM}, children{chil...   \n",
       "99          99  [NULL{null,ADJ}, three{three,NUM}, men{man,NOU...   \n",
       "\n",
       "                                            Hipotesis  \\\n",
       "0   [NULL{null,PROPN}, a{a,DET}, person{person,NOU...   \n",
       "1   [NULL{null,PROPN}, a{a,DET}, guy{guy,NOUN}, in...   \n",
       "2   [NULL{null,PROPN}, a{a,DET}, boy{boy,NOUN}, sl...   \n",
       "3   [NULL{null,PROPN}, nobody{nobody,NOUN}, is{be,...   \n",
       "4   [NULL{null,PROPN}, the{the,DET}, child{child,N...   \n",
       "..                                                ...   \n",
       "95  [NULL{null,PROPN}, a{a,DET}, bunch{bunch,NOUN}...   \n",
       "96  [NULL{null,ADJ}, woman{woman,NOUN}, holds{hold...   \n",
       "97  [NULL{null,PROPN}, a{a,DET}, man{man,NOUN}, pa...   \n",
       "98  [NULL{null,PROPN}, the{the,DET}, children{chil...   \n",
       "99  [NULL{null,ADJ}, one{one,NUM}, of{of,ADP}, the...   \n",
       "\n",
       "                                               R_Text  \\\n",
       "0   [[0.46309, 0.43844, -0.47275, 0.0077819, 0.404...   \n",
       "1   [[0.46309, 0.43844, -0.47275, 0.0077819, 0.404...   \n",
       "2   [[0.46309, 0.43844, -0.47275, 0.0077819, 0.404...   \n",
       "3   [[0.46309, 0.43844, -0.47275, 0.0077819, 0.404...   \n",
       "4   [[0.46309, 0.43844, -0.47275, 0.0077819, 0.404...   \n",
       "..                                                ...   \n",
       "95  [[0.46309, 0.43844, -0.47275, 0.0077819, 0.404...   \n",
       "96  [[0.46309, 0.43844, -0.47275, 0.0077819, 0.404...   \n",
       "97  [[0.46309, 0.43844, -0.47275, 0.0077819, 0.404...   \n",
       "98  [[0.46309, 0.43844, -0.47275, 0.0077819, 0.404...   \n",
       "99  [[0.46309, 0.43844, -0.47275, 0.0077819, 0.404...   \n",
       "\n",
       "                                                R_Hip  \\\n",
       "0   [[0.46309, 0.43844, -0.47275, 0.0077819, 0.404...   \n",
       "1   [[0.46309, 0.43844, -0.47275, 0.0077819, 0.404...   \n",
       "2   [[0.46309, 0.43844, -0.47275, 0.0077819, 0.404...   \n",
       "3   [[0.46309, 0.43844, -0.47275, 0.0077819, 0.404...   \n",
       "4   [[0.46309, 0.43844, -0.47275, 0.0077819, 0.404...   \n",
       "..                                                ...   \n",
       "95  [[0.46309, 0.43844, -0.47275, 0.0077819, 0.404...   \n",
       "96  [[0.46309, 0.43844, -0.47275, 0.0077819, 0.404...   \n",
       "97  [[0.46309, 0.43844, -0.47275, 0.0077819, 0.404...   \n",
       "98  [[0.46309, 0.43844, -0.47275, 0.0077819, 0.404...   \n",
       "99  [[0.46309, 0.43844, -0.47275, 0.0077819, 0.404...   \n",
       "\n",
       "                                              M_Align  \\\n",
       "0   [[54.419086, 0.26434264, 19.101225, 1.2564747,...   \n",
       "1   [[54.419086, 0.26434264, 15.958708, 1.2564747,...   \n",
       "2   [[54.419086, 0.26434264, 13.145995, 53.678085,...   \n",
       "3   [[54.419086, 39.413757, 4.3888206, 17.930946, ...   \n",
       "4   [[54.419086, 0.0, 13.88712, 4.3888206, 1.63502...   \n",
       "..                                                ...   \n",
       "95  [[54.419086, 0.26434264, 3.9083166, 0.06153027...   \n",
       "96  [[54.419086, 13.22332, 7.2733583, 11.074403, 0...   \n",
       "97  [[54.419086, 0.26434264, 13.771974, 2.2339544,...   \n",
       "98  [[54.419086, 0.0, 11.626324, 2.5308318, 6.2507...   \n",
       "99  [[54.419086, 5.68592, 0.06153027, 0.0, 17.9565...   \n",
       "\n",
       "                                   Prediction       Gold_label  \\\n",
       "0      [0.03256245, 0.9674213, 1.6298849e-05]  [1.0, 0.0, 0.0]   \n",
       "1      [0.032293927, 0.9676897, 1.637127e-05]  [1.0, 0.0, 0.0]   \n",
       "2         [0.86936, 0.016950097, 0.113689914]  [0.0, 0.0, 1.0]   \n",
       "3      [0.56929874, 0.4305042, 0.00019709245]  [0.0, 0.0, 1.0]   \n",
       "4      [0.012144173, 0.9878521, 3.820453e-06]  [0.0, 1.0, 0.0]   \n",
       "..                                        ...              ...   \n",
       "95  [0.0071587614, 0.99284124, 1.5131656e-08]  [1.0, 0.0, 0.0]   \n",
       "96   [0.019462422, 0.98053336, 4.2487504e-06]  [1.0, 0.0, 0.0]   \n",
       "97     [0.29717302, 0.70180535, 0.0010215595]  [0.0, 0.0, 1.0]   \n",
       "98    [0.026629888, 0.9733507, 1.9341656e-05]  [0.0, 0.0, 1.0]   \n",
       "99   [0.046912152, 0.95307666, 1.1263402e-05]  [0.0, 0.0, 1.0]   \n",
       "\n",
       "                                               Input1  \\\n",
       "0   [[0.46309, 0.43844, -0.47275, 0.0077819, 0.404...   \n",
       "1   [[0.46309, 0.43844, -0.47275, 0.0077819, 0.404...   \n",
       "2   [[0.46309, 0.43844, -0.47275, 0.0077819, 0.404...   \n",
       "3   [[0.46309, 0.43844, -0.47275, 0.0077819, 0.404...   \n",
       "4   [[0.46309, 0.43844, -0.47275, 0.0077819, 0.404...   \n",
       "..                                                ...   \n",
       "95  [[0.46309, 0.43844, -0.47275, 0.0077819, 0.404...   \n",
       "96  [[0.46309, 0.43844, -0.47275, 0.0077819, 0.404...   \n",
       "97  [[0.46309, 0.43844, -0.47275, 0.0077819, 0.404...   \n",
       "98  [[0.46309, 0.43844, -0.47275, 0.0077819, 0.404...   \n",
       "99  [[0.46309, 0.43844, -0.47275, 0.0077819, 0.404...   \n",
       "\n",
       "                                               Input2  \\\n",
       "0   [[0.46309, 0.43844, -0.47275, 0.0077819, 0.404...   \n",
       "1   [[0.46309, 0.43844, -0.47275, 0.0077819, 0.404...   \n",
       "2   [[0.46309, 0.43844, -0.47275, 0.0077819, 0.404...   \n",
       "3   [[0.46309, 0.43844, -0.47275, 0.0077819, 0.404...   \n",
       "4   [[0.46309, 0.43844, -0.47275, 0.0077819, 0.404...   \n",
       "..                                                ...   \n",
       "95  [[0.46309, 0.43844, -0.47275, 0.0077819, 0.404...   \n",
       "96  [[0.46309, 0.43844, -0.47275, 0.0077819, 0.404...   \n",
       "97  [[0.46309, 0.43844, -0.47275, 0.0077819, 0.404...   \n",
       "98  [[0.46309, 0.43844, -0.47275, 0.0077819, 0.404...   \n",
       "99  [[0.46309, 0.43844, -0.47275, 0.0077819, 0.404...   \n",
       "\n",
       "                                               Model1  \\\n",
       "0   [[0.46309, 0.43844, -0.47275, 0.0077819, 0.404...   \n",
       "1   [[0.46309, 0.43844, -0.47275, 0.0077819, 0.404...   \n",
       "2   [[0.46309, 0.43844, -0.47275, 0.0077819, 0.404...   \n",
       "3   [[0.46309, 0.43844, -0.47275, 0.0077819, 0.404...   \n",
       "4   [[0.46309, 0.43844, -0.47275, 0.0077819, 0.404...   \n",
       "..                                                ...   \n",
       "95  [[0.46309, 0.43844, -0.47275, 0.0077819, 0.404...   \n",
       "96  [[0.46309, 0.43844, -0.47275, 0.0077819, 0.404...   \n",
       "97  [[0.46309, 0.43844, -0.47275, 0.0077819, 0.404...   \n",
       "98  [[0.46309, 0.43844, -0.47275, 0.0077819, 0.404...   \n",
       "99  [[0.46309, 0.43844, -0.47275, 0.0077819, 0.404...   \n",
       "\n",
       "                                               Model2  \n",
       "0   [[0.46309, 0.43844, -0.47275, 0.0077819, 0.404...  \n",
       "1   [[0.46309, 0.43844, -0.47275, 0.0077819, 0.404...  \n",
       "2   [[0.46309, 0.43844, -0.47275, 0.0077819, 0.404...  \n",
       "3   [[0.46309, 0.43844, -0.47275, 0.0077819, 0.404...  \n",
       "4   [[0.46309, 0.43844, -0.47275, 0.0077819, 0.404...  \n",
       "..                                                ...  \n",
       "95  [[0.46309, 0.43844, -0.47275, 0.0077819, 0.404...  \n",
       "96  [[0.46309, 0.43844, -0.47275, 0.0077819, 0.404...  \n",
       "97  [[0.46309, 0.43844, -0.47275, 0.0077819, 0.404...  \n",
       "98  [[0.46309, 0.43844, -0.47275, 0.0077819, 0.404...  \n",
       "99  [[0.46309, 0.43844, -0.47275, 0.0077819, 0.404...  \n",
       "\n",
       "[100 rows x 12 columns]"
      ]
     },
     "execution_count": 10,
     "metadata": {},
     "output_type": "execute_result"
    }
   ],
   "source": [
    "dfp=pd.read_pickle(\"data/prueba2_T.pickle\")\n",
    "dfp"
   ]
  },
  {
   "cell_type": "code",
   "execution_count": 11,
   "metadata": {},
   "outputs": [],
   "source": [
    "def obtener_distancia(num,dfp):\n",
    "    texto_2_t=dfp.at[num,\"Text\"]\n",
    "    hipotesis_2_t=dfp.at[num,\"Hipotesis\"]\n",
    "    texto_2=dfp.at[num,\"R_Text\"]\n",
    "    hipotesis_2=dfp.at[num,\"R_Hip\"]\n",
    "    if len(texto_2_t) > 41 and len(hipotesis_2_t) > 41:\n",
    "        max_t=41\n",
    "        max_h=41\n",
    "    elif len(texto_2_t) > 41:\n",
    "        max_t=41\n",
    "        max_h=len(hipotesis_2_t)\n",
    "    elif len(hipotesis_2_t) > 41:\n",
    "        max_h=41\n",
    "        max_t=len(texto_2_t)\n",
    "    else:\n",
    "        max_t=len(texto_2_t)\n",
    "        max_h=len(hipotesis_2_t)\n",
    "    lista_l=[]\n",
    "    for i in range(max_t):\n",
    "        lista=[]\n",
    "        for j in range(max_h):\n",
    "            lista.append(np.linalg.norm(texto_2[i] - hipotesis_2[j]))#*wasserstein_distance(texto_2[i],hipotesis_2[j]))\n",
    "        lista_l.append(lista)\n",
    "    meartrh=pd.DataFrame(lista_l[:],index=texto_2_t[:max_t],columns=hipotesis_2_t[:max_h])\n",
    "    col=meartrh.columns\n",
    "    borrar=[]\n",
    "    for c in col:\n",
    "        if \"{null\" in str(c) or \"{be,VERB\" in str(c) or (\"NOUN\" not in str(c) and \"VERB\" not in str(c) and \"ADJ\" not in str(c) and \"ADV\" not in str(c)):\n",
    "            borrar.append(c)        \n",
    "    borrar_i=[]\n",
    "    indexes=meartrh.index\n",
    "    for index in indexes:\n",
    "        if \"{null\" in str(index) or \"{be,VERB\" in str(index) or (\"NOUN\" not in str(index) and \"VERB\" not in str(index) and \"ADJ\" not in str(index) and \"ADV\" not in str(index)):\n",
    "            borrar_i.append(index)        \n",
    "    meartrh=meartrh.drop(borrar,axis=1)\n",
    "    meartrh=meartrh.drop(borrar_i,axis=0)\n",
    "    return meartrh.min().sum()"
   ]
  },
  {
   "cell_type": "code",
   "execution_count": 12,
   "metadata": {},
   "outputs": [
    {
     "data": {
      "text/plain": [
       "13.863625"
      ]
     },
     "execution_count": 12,
     "metadata": {},
     "output_type": "execute_result"
    }
   ],
   "source": [
    "obtener_distancia(1,dfp)"
   ]
  },
  {
   "cell_type": "code",
   "execution_count": 13,
   "metadata": {},
   "outputs": [],
   "source": [
    "num=4"
   ]
  },
  {
   "cell_type": "code",
   "execution_count": 14,
   "metadata": {},
   "outputs": [],
   "source": [
    "texto_2_t=dfp.at[num,\"Text\"]\n",
    "hipotesis_2_t=dfp.at[num,\"Hipotesis\"]"
   ]
  },
  {
   "cell_type": "code",
   "execution_count": 15,
   "metadata": {},
   "outputs": [],
   "source": [
    "texto_2=dfp.at[num,\"R_Text\"][:len(texto_2_t)]\n",
    "hipotesis_2=dfp.at[num,\"R_Hip\"][:len(hipotesis_2_t)]"
   ]
  },
  {
   "cell_type": "code",
   "execution_count": 17,
   "metadata": {},
   "outputs": [
    {
     "name": "stdout",
     "output_type": "stream",
     "text": [
      "[[0.0, 0.19008815211666233, 0.08020218823881195, 0.1775682177426642, 0.16140678274503445, 0.08671844121922426, 0.15351576059979072, 0.19008815211666233, 0.05986579852498835, 0.15115383563408002], [0.14834371000567137, 0.043891933305079275, 0.0830695415090304, 0.03418254807872775, 0.024505374192376667, 0.07508806559373624, 0.03322409135095467, 0.043891933305079275, 0.09137285773671464, 0.02293595313288581], [0.08020218823881195, 0.12036977648691691, 0.0, 0.10856170185696101, 0.09265287483518479, 0.0402823770069517, 0.08593330307165159, 0.12036977648691691, 0.03593013265315671, 0.0909132596850395], [0.15720896474939455, 0.04066822837538288, 0.08736436379840597, 0.03234842489560834, 0.028707856196172894, 0.08221165459603068, 0.029253624348590777, 0.04066822837538288, 0.10056427274743322, 0.0317498613311909], [0.14834371000567137, 0.043891933305079275, 0.0830695415090304, 0.03418254807872775, 0.024505374192376667, 0.07508806559373624, 0.03322409135095467, 0.043891933305079275, 0.09137285773671464, 0.02293595313288581], [0.07460151674458756, 0.12302728236221502, 0.034632779694317474, 0.11115373442036797, 0.09094823945953974, 0.032779723741114146, 0.08518842027367399, 0.12302728236221502, 0.02458341030025622, 0.08607583352752651], [0.08186413106023491, 0.12572687452324616, 0.03290112777904135, 0.11281660639865244, 0.09245713994605462, 0.02592221826295524, 0.0903358369186753, 0.12572687452324616, 0.03314835229393794, 0.09142607345847259], [0.10572983527711283, 0.09385974084294196, 0.04920427110667028, 0.08347447954283174, 0.05999527112483823, 0.04651497723612314, 0.056199175334380305, 0.09385974084294196, 0.05045854793405548, 0.06001883426060278], [0.16591675142864307, 0.032420853447841506, 0.0973329093622548, 0.0357033329198991, 0.015734308014798443, 0.0928784361401146, 0.02552496540602686, 0.032420853447841506, 0.1067447832682713, 0.025714388883498057], [0.18175198945032506, 0.026486782011782763, 0.11612497266042432, 0.036188360345355865, 0.03636589949824463, 0.11492874451961442, 0.03396541746381749, 0.026486782011782763, 0.12468743561902854, 0.03543183450557989], [0.14834371000567137, 0.043891933305079275, 0.0830695415090304, 0.03418254807872775, 0.024505374192376667, 0.07508806559373624, 0.03322409135095467, 0.043891933305079275, 0.09137285773671464, 0.02293595313288581], [0.05986579852498835, 0.1312900201831295, 0.03593013265315671, 0.12060655251145358, 0.10244878416832458, 0.03927972956783682, 0.09482472689521573, 0.1312900201831295, 0.0, 0.09465144169371341], [0.15115383563408002, 0.04504094206374247, 0.0909132596850395, 0.03381650795083258, 0.027630125727155272, 0.08259535073069856, 0.03464212968712673, 0.04504094206374247, 0.09465144169371341, 0.0]]\n"
     ]
    }
   ],
   "source": [
    "from scipy.stats import wasserstein_distance\n",
    "lista_l=[]\n",
    "lista_muinfor=[]\n",
    "for i in range(len(texto_2)):\n",
    "    lista=[]\n",
    "    lista_mu=[]\n",
    "    for j in range(len(hipotesis_2)):\n",
    "        #lista.append()\n",
    "        lista.append(wasserstein_distance(texto_2[i],hipotesis_2[j]))\n",
    "        lista_mu.append(mi.mutual_information_2d(np.array(texto_2[i]),np.array(hipotesis_2[j])))\n",
    "    lista_l.append(lista)\n",
    "    lista_muinfor.append(lista_mu)\n",
    "print(lista_l)"
   ]
  },
  {
   "cell_type": "code",
   "execution_count": 18,
   "metadata": {},
   "outputs": [
    {
     "data": {
      "text/html": [
       "<div>\n",
       "<style scoped>\n",
       "    .dataframe tbody tr th:only-of-type {\n",
       "        vertical-align: middle;\n",
       "    }\n",
       "\n",
       "    .dataframe tbody tr th {\n",
       "        vertical-align: top;\n",
       "    }\n",
       "\n",
       "    .dataframe thead th {\n",
       "        text-align: right;\n",
       "    }\n",
       "</style>\n",
       "<table border=\"1\" class=\"dataframe\">\n",
       "  <thead>\n",
       "    <tr style=\"text-align: right;\">\n",
       "      <th></th>\n",
       "      <th>NULL{null,PROPN}</th>\n",
       "      <th>the{the,DET}</th>\n",
       "      <th>child{child,NOUN}</th>\n",
       "      <th>is{be,VERB}</th>\n",
       "      <th>getting{get,VERB}</th>\n",
       "      <th>wet{wet,NOUN}</th>\n",
       "      <th>from{from,ADP}</th>\n",
       "      <th>the{the,DET}</th>\n",
       "      <th>fountain{fountain,NOUN}</th>\n",
       "      <th>.{.,PUNCT}</th>\n",
       "    </tr>\n",
       "  </thead>\n",
       "  <tbody>\n",
       "    <tr>\n",
       "      <th>NULL{null,PROPN}</th>\n",
       "      <td>0.000000</td>\n",
       "      <td>0.190088</td>\n",
       "      <td>0.080202</td>\n",
       "      <td>0.177568</td>\n",
       "      <td>0.161407</td>\n",
       "      <td>0.086718</td>\n",
       "      <td>0.153516</td>\n",
       "      <td>0.190088</td>\n",
       "      <td>0.059866</td>\n",
       "      <td>0.151154</td>\n",
       "    </tr>\n",
       "    <tr>\n",
       "      <th>a{a,DET}</th>\n",
       "      <td>0.148344</td>\n",
       "      <td>0.043892</td>\n",
       "      <td>0.083070</td>\n",
       "      <td>0.034183</td>\n",
       "      <td>0.024505</td>\n",
       "      <td>0.075088</td>\n",
       "      <td>0.033224</td>\n",
       "      <td>0.043892</td>\n",
       "      <td>0.091373</td>\n",
       "      <td>0.022936</td>\n",
       "    </tr>\n",
       "    <tr>\n",
       "      <th>child{child,NOUN}</th>\n",
       "      <td>0.080202</td>\n",
       "      <td>0.120370</td>\n",
       "      <td>0.000000</td>\n",
       "      <td>0.108562</td>\n",
       "      <td>0.092653</td>\n",
       "      <td>0.040282</td>\n",
       "      <td>0.085933</td>\n",
       "      <td>0.120370</td>\n",
       "      <td>0.035930</td>\n",
       "      <td>0.090913</td>\n",
       "    </tr>\n",
       "    <tr>\n",
       "      <th>in{in,ADP}</th>\n",
       "      <td>0.157209</td>\n",
       "      <td>0.040668</td>\n",
       "      <td>0.087364</td>\n",
       "      <td>0.032348</td>\n",
       "      <td>0.028708</td>\n",
       "      <td>0.082212</td>\n",
       "      <td>0.029254</td>\n",
       "      <td>0.040668</td>\n",
       "      <td>0.100564</td>\n",
       "      <td>0.031750</td>\n",
       "    </tr>\n",
       "    <tr>\n",
       "      <th>a{a,DET}</th>\n",
       "      <td>0.148344</td>\n",
       "      <td>0.043892</td>\n",
       "      <td>0.083070</td>\n",
       "      <td>0.034183</td>\n",
       "      <td>0.024505</td>\n",
       "      <td>0.075088</td>\n",
       "      <td>0.033224</td>\n",
       "      <td>0.043892</td>\n",
       "      <td>0.091373</td>\n",
       "      <td>0.022936</td>\n",
       "    </tr>\n",
       "    <tr>\n",
       "      <th>maroon{maroon,ADJ}</th>\n",
       "      <td>0.074602</td>\n",
       "      <td>0.123027</td>\n",
       "      <td>0.034633</td>\n",
       "      <td>0.111154</td>\n",
       "      <td>0.090948</td>\n",
       "      <td>0.032780</td>\n",
       "      <td>0.085188</td>\n",
       "      <td>0.123027</td>\n",
       "      <td>0.024583</td>\n",
       "      <td>0.086076</td>\n",
       "    </tr>\n",
       "    <tr>\n",
       "      <th>shirt{shirt,NOUN}</th>\n",
       "      <td>0.081864</td>\n",
       "      <td>0.125727</td>\n",
       "      <td>0.032901</td>\n",
       "      <td>0.112817</td>\n",
       "      <td>0.092457</td>\n",
       "      <td>0.025922</td>\n",
       "      <td>0.090336</td>\n",
       "      <td>0.125727</td>\n",
       "      <td>0.033148</td>\n",
       "      <td>0.091426</td>\n",
       "    </tr>\n",
       "    <tr>\n",
       "      <th>playing{play,VERB}</th>\n",
       "      <td>0.105730</td>\n",
       "      <td>0.093860</td>\n",
       "      <td>0.049204</td>\n",
       "      <td>0.083474</td>\n",
       "      <td>0.059995</td>\n",
       "      <td>0.046515</td>\n",
       "      <td>0.056199</td>\n",
       "      <td>0.093860</td>\n",
       "      <td>0.050459</td>\n",
       "      <td>0.060019</td>\n",
       "    </tr>\n",
       "    <tr>\n",
       "      <th>next{next,ADV}</th>\n",
       "      <td>0.165917</td>\n",
       "      <td>0.032421</td>\n",
       "      <td>0.097333</td>\n",
       "      <td>0.035703</td>\n",
       "      <td>0.015734</td>\n",
       "      <td>0.092878</td>\n",
       "      <td>0.025525</td>\n",
       "      <td>0.032421</td>\n",
       "      <td>0.106745</td>\n",
       "      <td>0.025714</td>\n",
       "    </tr>\n",
       "    <tr>\n",
       "      <th>to{to,ADP}</th>\n",
       "      <td>0.181752</td>\n",
       "      <td>0.026487</td>\n",
       "      <td>0.116125</td>\n",
       "      <td>0.036188</td>\n",
       "      <td>0.036366</td>\n",
       "      <td>0.114929</td>\n",
       "      <td>0.033965</td>\n",
       "      <td>0.026487</td>\n",
       "      <td>0.124687</td>\n",
       "      <td>0.035432</td>\n",
       "    </tr>\n",
       "    <tr>\n",
       "      <th>a{a,DET}</th>\n",
       "      <td>0.148344</td>\n",
       "      <td>0.043892</td>\n",
       "      <td>0.083070</td>\n",
       "      <td>0.034183</td>\n",
       "      <td>0.024505</td>\n",
       "      <td>0.075088</td>\n",
       "      <td>0.033224</td>\n",
       "      <td>0.043892</td>\n",
       "      <td>0.091373</td>\n",
       "      <td>0.022936</td>\n",
       "    </tr>\n",
       "    <tr>\n",
       "      <th>fountain{fountain,NOUN}</th>\n",
       "      <td>0.059866</td>\n",
       "      <td>0.131290</td>\n",
       "      <td>0.035930</td>\n",
       "      <td>0.120607</td>\n",
       "      <td>0.102449</td>\n",
       "      <td>0.039280</td>\n",
       "      <td>0.094825</td>\n",
       "      <td>0.131290</td>\n",
       "      <td>0.000000</td>\n",
       "      <td>0.094651</td>\n",
       "    </tr>\n",
       "    <tr>\n",
       "      <th>.{.,PUNCT}</th>\n",
       "      <td>0.151154</td>\n",
       "      <td>0.045041</td>\n",
       "      <td>0.090913</td>\n",
       "      <td>0.033817</td>\n",
       "      <td>0.027630</td>\n",
       "      <td>0.082595</td>\n",
       "      <td>0.034642</td>\n",
       "      <td>0.045041</td>\n",
       "      <td>0.094651</td>\n",
       "      <td>0.000000</td>\n",
       "    </tr>\n",
       "  </tbody>\n",
       "</table>\n",
       "</div>"
      ],
      "text/plain": [
       "                         NULL{null,PROPN}  the{the,DET}  child{child,NOUN}  \\\n",
       "NULL{null,PROPN}                 0.000000      0.190088           0.080202   \n",
       "a{a,DET}                         0.148344      0.043892           0.083070   \n",
       "child{child,NOUN}                0.080202      0.120370           0.000000   \n",
       "in{in,ADP}                       0.157209      0.040668           0.087364   \n",
       "a{a,DET}                         0.148344      0.043892           0.083070   \n",
       "maroon{maroon,ADJ}               0.074602      0.123027           0.034633   \n",
       "shirt{shirt,NOUN}                0.081864      0.125727           0.032901   \n",
       "playing{play,VERB}               0.105730      0.093860           0.049204   \n",
       "next{next,ADV}                   0.165917      0.032421           0.097333   \n",
       "to{to,ADP}                       0.181752      0.026487           0.116125   \n",
       "a{a,DET}                         0.148344      0.043892           0.083070   \n",
       "fountain{fountain,NOUN}          0.059866      0.131290           0.035930   \n",
       ".{.,PUNCT}                       0.151154      0.045041           0.090913   \n",
       "\n",
       "                         is{be,VERB}  getting{get,VERB}  wet{wet,NOUN}  \\\n",
       "NULL{null,PROPN}            0.177568           0.161407       0.086718   \n",
       "a{a,DET}                    0.034183           0.024505       0.075088   \n",
       "child{child,NOUN}           0.108562           0.092653       0.040282   \n",
       "in{in,ADP}                  0.032348           0.028708       0.082212   \n",
       "a{a,DET}                    0.034183           0.024505       0.075088   \n",
       "maroon{maroon,ADJ}          0.111154           0.090948       0.032780   \n",
       "shirt{shirt,NOUN}           0.112817           0.092457       0.025922   \n",
       "playing{play,VERB}          0.083474           0.059995       0.046515   \n",
       "next{next,ADV}              0.035703           0.015734       0.092878   \n",
       "to{to,ADP}                  0.036188           0.036366       0.114929   \n",
       "a{a,DET}                    0.034183           0.024505       0.075088   \n",
       "fountain{fountain,NOUN}     0.120607           0.102449       0.039280   \n",
       ".{.,PUNCT}                  0.033817           0.027630       0.082595   \n",
       "\n",
       "                         from{from,ADP}  the{the,DET}  \\\n",
       "NULL{null,PROPN}               0.153516      0.190088   \n",
       "a{a,DET}                       0.033224      0.043892   \n",
       "child{child,NOUN}              0.085933      0.120370   \n",
       "in{in,ADP}                     0.029254      0.040668   \n",
       "a{a,DET}                       0.033224      0.043892   \n",
       "maroon{maroon,ADJ}             0.085188      0.123027   \n",
       "shirt{shirt,NOUN}              0.090336      0.125727   \n",
       "playing{play,VERB}             0.056199      0.093860   \n",
       "next{next,ADV}                 0.025525      0.032421   \n",
       "to{to,ADP}                     0.033965      0.026487   \n",
       "a{a,DET}                       0.033224      0.043892   \n",
       "fountain{fountain,NOUN}        0.094825      0.131290   \n",
       ".{.,PUNCT}                     0.034642      0.045041   \n",
       "\n",
       "                         fountain{fountain,NOUN}  .{.,PUNCT}  \n",
       "NULL{null,PROPN}                        0.059866    0.151154  \n",
       "a{a,DET}                                0.091373    0.022936  \n",
       "child{child,NOUN}                       0.035930    0.090913  \n",
       "in{in,ADP}                              0.100564    0.031750  \n",
       "a{a,DET}                                0.091373    0.022936  \n",
       "maroon{maroon,ADJ}                      0.024583    0.086076  \n",
       "shirt{shirt,NOUN}                       0.033148    0.091426  \n",
       "playing{play,VERB}                      0.050459    0.060019  \n",
       "next{next,ADV}                          0.106745    0.025714  \n",
       "to{to,ADP}                              0.124687    0.035432  \n",
       "a{a,DET}                                0.091373    0.022936  \n",
       "fountain{fountain,NOUN}                 0.000000    0.094651  \n",
       ".{.,PUNCT}                              0.094651    0.000000  "
      ]
     },
     "execution_count": 18,
     "metadata": {},
     "output_type": "execute_result"
    }
   ],
   "source": [
    "meartrh=pd.DataFrame(lista_l[:],index=texto_2_t,columns=hipotesis_2_t)\n",
    "meartrh"
   ]
  },
  {
   "cell_type": "code",
   "execution_count": 19,
   "metadata": {},
   "outputs": [
    {
     "data": {
      "text/plain": [
       "['NULL{null,PROPN}',\n",
       " 'the{the,DET}',\n",
       " 'is{be,VERB}',\n",
       " 'from{from,ADP}',\n",
       " 'the{the,DET}',\n",
       " '.{.,PUNCT}']"
      ]
     },
     "execution_count": 19,
     "metadata": {},
     "output_type": "execute_result"
    }
   ],
   "source": [
    "col=meartrh.columns\n",
    "borrar=[]\n",
    "for c in col:\n",
    "    if \"{be,VERB\" in str(c) or (\"NOUN\" not in str(c) and \"VERB\" not in str(c) and \"ADJ\" not in str(c) and \"ADV\" not in str(c)):\n",
    "        borrar.append(c)        \n",
    "borrar"
   ]
  },
  {
   "cell_type": "code",
   "execution_count": 20,
   "metadata": {},
   "outputs": [
    {
     "data": {
      "text/plain": [
       "['NULL{null,PROPN}',\n",
       " 'a{a,DET}',\n",
       " 'in{in,ADP}',\n",
       " 'a{a,DET}',\n",
       " 'to{to,ADP}',\n",
       " 'a{a,DET}',\n",
       " '.{.,PUNCT}']"
      ]
     },
     "execution_count": 20,
     "metadata": {},
     "output_type": "execute_result"
    }
   ],
   "source": [
    "borrar_i=[]\n",
    "for index,strings in meartrh.iterrows():\n",
    "    if \"{be,VERB\" in str(index) or (\"NOUN\" not in str(index) and \"VERB\" not in str(index) and \"ADJ\" not in str(index) and \"ADV\" not in str(index)):\n",
    "        borrar_i.append(index)        \n",
    "borrar_i"
   ]
  },
  {
   "cell_type": "code",
   "execution_count": 21,
   "metadata": {},
   "outputs": [
    {
     "data": {
      "text/html": [
       "<div>\n",
       "<style scoped>\n",
       "    .dataframe tbody tr th:only-of-type {\n",
       "        vertical-align: middle;\n",
       "    }\n",
       "\n",
       "    .dataframe tbody tr th {\n",
       "        vertical-align: top;\n",
       "    }\n",
       "\n",
       "    .dataframe thead th {\n",
       "        text-align: right;\n",
       "    }\n",
       "</style>\n",
       "<table border=\"1\" class=\"dataframe\">\n",
       "  <thead>\n",
       "    <tr style=\"text-align: right;\">\n",
       "      <th></th>\n",
       "      <th>child{child,NOUN}</th>\n",
       "      <th>getting{get,VERB}</th>\n",
       "      <th>wet{wet,NOUN}</th>\n",
       "      <th>fountain{fountain,NOUN}</th>\n",
       "    </tr>\n",
       "  </thead>\n",
       "  <tbody>\n",
       "    <tr>\n",
       "      <th>child{child,NOUN}</th>\n",
       "      <td>0.000000</td>\n",
       "      <td>0.092653</td>\n",
       "      <td>0.040282</td>\n",
       "      <td>0.035930</td>\n",
       "    </tr>\n",
       "    <tr>\n",
       "      <th>maroon{maroon,ADJ}</th>\n",
       "      <td>0.034633</td>\n",
       "      <td>0.090948</td>\n",
       "      <td>0.032780</td>\n",
       "      <td>0.024583</td>\n",
       "    </tr>\n",
       "    <tr>\n",
       "      <th>shirt{shirt,NOUN}</th>\n",
       "      <td>0.032901</td>\n",
       "      <td>0.092457</td>\n",
       "      <td>0.025922</td>\n",
       "      <td>0.033148</td>\n",
       "    </tr>\n",
       "    <tr>\n",
       "      <th>playing{play,VERB}</th>\n",
       "      <td>0.049204</td>\n",
       "      <td>0.059995</td>\n",
       "      <td>0.046515</td>\n",
       "      <td>0.050459</td>\n",
       "    </tr>\n",
       "    <tr>\n",
       "      <th>next{next,ADV}</th>\n",
       "      <td>0.097333</td>\n",
       "      <td>0.015734</td>\n",
       "      <td>0.092878</td>\n",
       "      <td>0.106745</td>\n",
       "    </tr>\n",
       "    <tr>\n",
       "      <th>fountain{fountain,NOUN}</th>\n",
       "      <td>0.035930</td>\n",
       "      <td>0.102449</td>\n",
       "      <td>0.039280</td>\n",
       "      <td>0.000000</td>\n",
       "    </tr>\n",
       "  </tbody>\n",
       "</table>\n",
       "</div>"
      ],
      "text/plain": [
       "                         child{child,NOUN}  getting{get,VERB}  wet{wet,NOUN}  \\\n",
       "child{child,NOUN}                 0.000000           0.092653       0.040282   \n",
       "maroon{maroon,ADJ}                0.034633           0.090948       0.032780   \n",
       "shirt{shirt,NOUN}                 0.032901           0.092457       0.025922   \n",
       "playing{play,VERB}                0.049204           0.059995       0.046515   \n",
       "next{next,ADV}                    0.097333           0.015734       0.092878   \n",
       "fountain{fountain,NOUN}           0.035930           0.102449       0.039280   \n",
       "\n",
       "                         fountain{fountain,NOUN}  \n",
       "child{child,NOUN}                       0.035930  \n",
       "maroon{maroon,ADJ}                      0.024583  \n",
       "shirt{shirt,NOUN}                       0.033148  \n",
       "playing{play,VERB}                      0.050459  \n",
       "next{next,ADV}                          0.106745  \n",
       "fountain{fountain,NOUN}                 0.000000  "
      ]
     },
     "execution_count": 21,
     "metadata": {},
     "output_type": "execute_result"
    }
   ],
   "source": [
    "meartrh=meartrh.drop(borrar,axis=1)\n",
    "meartrh=meartrh.drop(borrar_i,axis=0)\n",
    "#meartrh=meartrh.drop(\"is{be,VERB}\",axis=0)\n",
    "meartrh"
   ]
  },
  {
   "cell_type": "code",
   "execution_count": 22,
   "metadata": {},
   "outputs": [
    {
     "data": {
      "text/plain": [
       "child{child,NOUN}                   next{next,ADV}\n",
       "getting{get,VERB}          fountain{fountain,NOUN}\n",
       "wet{wet,NOUN}                       next{next,ADV}\n",
       "fountain{fountain,NOUN}             next{next,ADV}\n",
       "dtype: object"
      ]
     },
     "execution_count": 22,
     "metadata": {},
     "output_type": "execute_result"
    }
   ],
   "source": [
    "meartrh.idxmax()"
   ]
  },
  {
   "cell_type": "code",
   "execution_count": 23,
   "metadata": {},
   "outputs": [
    {
     "data": {
      "text/plain": [
       "0.04165652627775368"
      ]
     },
     "execution_count": 23,
     "metadata": {},
     "output_type": "execute_result"
    }
   ],
   "source": [
    "meartrh.min().sum()"
   ]
  },
  {
   "cell_type": "code",
   "execution_count": 24,
   "metadata": {},
   "outputs": [
    {
     "data": {
      "text/plain": [
       "1.2327605265489543"
      ]
     },
     "execution_count": 24,
     "metadata": {},
     "output_type": "execute_result"
    }
   ],
   "source": [
    "meartrh.sum().sum()"
   ]
  },
  {
   "cell_type": "markdown",
   "metadata": {},
   "source": [
    "# Para normalizar vectores"
   ]
  },
  {
   "cell_type": "code",
   "execution_count": 25,
   "metadata": {},
   "outputs": [],
   "source": [
    "#norms = np.linalg.norm(texto_2, axis=-1, keepdims=True)\n",
    "#norms = np.where(norms == 0, 1, norms)\n",
    "#print(texto_2 / norms)"
   ]
  },
  {
   "cell_type": "code",
   "execution_count": 26,
   "metadata": {},
   "outputs": [],
   "source": [
    "#ma_2=np.dot(texto_2,texto_2.T)\n",
    "#ma_2"
   ]
  },
  {
   "cell_type": "code",
   "execution_count": 27,
   "metadata": {},
   "outputs": [],
   "source": [
    "#madt=pd.DataFrame(ma_2)\n",
    "#madt"
   ]
  },
  {
   "cell_type": "code",
   "execution_count": 28,
   "metadata": {},
   "outputs": [],
   "source": [
    "#madt.min()"
   ]
  },
  {
   "cell_type": "markdown",
   "metadata": {},
   "source": [
    "# Lectura de matriz de alineamiento"
   ]
  },
  {
   "cell_type": "code",
   "execution_count": 29,
   "metadata": {},
   "outputs": [
    {
     "data": {
      "text/html": [
       "<div>\n",
       "<style scoped>\n",
       "    .dataframe tbody tr th:only-of-type {\n",
       "        vertical-align: middle;\n",
       "    }\n",
       "\n",
       "    .dataframe tbody tr th {\n",
       "        vertical-align: top;\n",
       "    }\n",
       "\n",
       "    .dataframe thead th {\n",
       "        text-align: right;\n",
       "    }\n",
       "</style>\n",
       "<table border=\"1\" class=\"dataframe\">\n",
       "  <thead>\n",
       "    <tr style=\"text-align: right;\">\n",
       "      <th></th>\n",
       "      <th>Main index</th>\n",
       "      <th>Text</th>\n",
       "      <th>Hipotesis</th>\n",
       "      <th>R_Text</th>\n",
       "      <th>R_Hip</th>\n",
       "      <th>M_Align</th>\n",
       "      <th>Prediction</th>\n",
       "      <th>Gold_label</th>\n",
       "    </tr>\n",
       "  </thead>\n",
       "  <tbody>\n",
       "    <tr>\n",
       "      <th>0</th>\n",
       "      <td>0</td>\n",
       "      <td>[NULL{null,PROPN}, a{a,DET}, man{man,NOUN}, we...</td>\n",
       "      <td>[NULL{null,PROPN}, a{a,DET}, person{person,NOU...</td>\n",
       "      <td>[[0.058692623, 0.05556845, -0.059916947, 0.000...</td>\n",
       "      <td>[[0.058692623, 0.05556845, -0.059916947, 0.000...</td>\n",
       "      <td>[[2.760008, 0.060492776, 0.7027438, 0.20296031...</td>\n",
       "      <td>[0.4928643, 0.50155383, 0.0055818837]</td>\n",
       "      <td>[1.0, 0.0, 0.0]</td>\n",
       "    </tr>\n",
       "    <tr>\n",
       "      <th>1</th>\n",
       "      <td>1</td>\n",
       "      <td>[NULL{null,PROPN}, a{a,DET}, man{man,NOUN}, dr...</td>\n",
       "      <td>[NULL{null,PROPN}, a{a,DET}, guy{guy,NOUN}, in...</td>\n",
       "      <td>[[0.058692623, 0.05556845, -0.059916947, 0.000...</td>\n",
       "      <td>[[0.058692623, 0.05556845, -0.059916947, 0.000...</td>\n",
       "      <td>[[2.760008, 0.060492776, 0.64837056, 0.2029603...</td>\n",
       "      <td>[0.4695498, 0.3973312, 0.13311893]</td>\n",
       "      <td>[1.0, 0.0, 0.0]</td>\n",
       "    </tr>\n",
       "    <tr>\n",
       "      <th>2</th>\n",
       "      <td>2</td>\n",
       "      <td>[NULL{null,PROPN}, a{a,DET}, young{young,ADJ},...</td>\n",
       "      <td>[NULL{null,PROPN}, a{a,DET}, boy{boy,NOUN}, sl...</td>\n",
       "      <td>[[0.058692623, 0.05556845, -0.059916947, 0.000...</td>\n",
       "      <td>[[0.058692623, 0.05556845, -0.059916947, 0.000...</td>\n",
       "      <td>[[2.760008, 0.060492776, 0.4078711, 2.2245083,...</td>\n",
       "      <td>[1.4341879e-06, 8.787866e-05, 0.9999107]</td>\n",
       "      <td>[0.0, 0.0, 1.0]</td>\n",
       "    </tr>\n",
       "    <tr>\n",
       "      <th>3</th>\n",
       "      <td>3</td>\n",
       "      <td>[NULL{null,NOUN}, an{an,DET}, asian{asian,ADJ}...</td>\n",
       "      <td>[NULL{null,PROPN}, nobody{nobody,NOUN}, is{be,...</td>\n",
       "      <td>[[0.058692623, 0.05556845, -0.059916947, 0.000...</td>\n",
       "      <td>[[0.058692623, 0.05556845, -0.059916947, 0.000...</td>\n",
       "      <td>[[2.760008, 1.9305927, 0.10360007, 0.8346571, ...</td>\n",
       "      <td>[0.033964496, 0.008023773, 0.9580117]</td>\n",
       "      <td>[0.0, 0.0, 1.0]</td>\n",
       "    </tr>\n",
       "    <tr>\n",
       "      <th>4</th>\n",
       "      <td>4</td>\n",
       "      <td>[NULL{null,PROPN}, a{a,DET}, child{child,NOUN}...</td>\n",
       "      <td>[NULL{null,PROPN}, the{the,DET}, child{child,N...</td>\n",
       "      <td>[[0.058692623, 0.05556845, -0.059916947, 0.000...</td>\n",
       "      <td>[[0.058692623, 0.05556845, -0.059916947, 0.000...</td>\n",
       "      <td>[[2.760008, 0.033035405, 0.5160244, 0.10360007...</td>\n",
       "      <td>[0.0027733932, 0.9895504, 0.0076761814]</td>\n",
       "      <td>[0.0, 1.0, 0.0]</td>\n",
       "    </tr>\n",
       "    <tr>\n",
       "      <th>...</th>\n",
       "      <td>...</td>\n",
       "      <td>...</td>\n",
       "      <td>...</td>\n",
       "      <td>...</td>\n",
       "      <td>...</td>\n",
       "      <td>...</td>\n",
       "      <td>...</td>\n",
       "      <td>...</td>\n",
       "    </tr>\n",
       "    <tr>\n",
       "      <th>95</th>\n",
       "      <td>95</td>\n",
       "      <td>[NULL{null,PROPN}, a{a,DET}, group{group,NOUN}...</td>\n",
       "      <td>[NULL{null,PROPN}, a{a,DET}, bunch{bunch,NOUN}...</td>\n",
       "      <td>[[0.058692623, 0.05556845, -0.059916947, 0.000...</td>\n",
       "      <td>[[0.058692623, 0.05556845, -0.059916947, 0.000...</td>\n",
       "      <td>[[2.760008, 0.060492776, 0.41359743, 0.0717519...</td>\n",
       "      <td>[0.8000752, 0.17865694, 0.021267932]</td>\n",
       "      <td>[1.0, 0.0, 0.0]</td>\n",
       "    </tr>\n",
       "    <tr>\n",
       "      <th>96</th>\n",
       "      <td>96</td>\n",
       "      <td>[NULL{null,PROPN}, a{a,DET}, woman{woman,NOUN}...</td>\n",
       "      <td>[NULL{null,ADJ}, woman{woman,NOUN}, holds{hold...</td>\n",
       "      <td>[[0.058692623, 0.05556845, -0.059916947, 0.000...</td>\n",
       "      <td>[[0.058692623, 0.05556845, -0.059916947, 0.000...</td>\n",
       "      <td>[[2.760008, 0.475788, 0.8695118, 0.72379255, 0...</td>\n",
       "      <td>[0.7528739, 0.18234292, 0.06478321]</td>\n",
       "      <td>[1.0, 0.0, 0.0]</td>\n",
       "    </tr>\n",
       "    <tr>\n",
       "      <th>97</th>\n",
       "      <td>97</td>\n",
       "      <td>[NULL{null,PROPN}, a{a,DET}, skateboarding{ska...</td>\n",
       "      <td>[NULL{null,PROPN}, a{a,DET}, man{man,NOUN}, pa...</td>\n",
       "      <td>[[0.058692623, 0.05556845, -0.059916947, 0.000...</td>\n",
       "      <td>[[0.058692623, 0.05556845, -0.059916947, 0.000...</td>\n",
       "      <td>[[2.760008, 0.060492776, 0.43997452, 1.9583746...</td>\n",
       "      <td>[7.513892e-05, 0.0013085654, 0.99861634]</td>\n",
       "      <td>[0.0, 0.0, 1.0]</td>\n",
       "    </tr>\n",
       "    <tr>\n",
       "      <th>98</th>\n",
       "      <td>98</td>\n",
       "      <td>[NULL{null,ADJ}, four{four,NUM}, children{chil...</td>\n",
       "      <td>[NULL{null,PROPN}, the{the,DET}, children{chil...</td>\n",
       "      <td>[[0.058692623, 0.05556845, -0.059916947, 0.000...</td>\n",
       "      <td>[[0.058692623, 0.05556845, -0.059916947, 0.000...</td>\n",
       "      <td>[[2.760008, 0.033035405, 0.44769567, 0.0726737...</td>\n",
       "      <td>[0.034316223, 0.83774996, 0.12793382]</td>\n",
       "      <td>[0.0, 0.0, 1.0]</td>\n",
       "    </tr>\n",
       "    <tr>\n",
       "      <th>99</th>\n",
       "      <td>99</td>\n",
       "      <td>[NULL{null,ADJ}, three{three,NUM}, men{man,NOU...</td>\n",
       "      <td>[NULL{null,ADJ}, one{one,NUM}, of{of,ADP}, the...</td>\n",
       "      <td>[[0.058692623, 0.05556845, -0.059916947, 0.000...</td>\n",
       "      <td>[[0.058692623, 0.05556845, -0.059916947, 0.000...</td>\n",
       "      <td>[[2.760008, 0.38066497, 0.07175191, 0.03303540...</td>\n",
       "      <td>[0.0035314807, 0.5047337, 0.49173486]</td>\n",
       "      <td>[0.0, 0.0, 1.0]</td>\n",
       "    </tr>\n",
       "  </tbody>\n",
       "</table>\n",
       "<p>100 rows × 8 columns</p>\n",
       "</div>"
      ],
      "text/plain": [
       "    Main index                                               Text  \\\n",
       "0            0  [NULL{null,PROPN}, a{a,DET}, man{man,NOUN}, we...   \n",
       "1            1  [NULL{null,PROPN}, a{a,DET}, man{man,NOUN}, dr...   \n",
       "2            2  [NULL{null,PROPN}, a{a,DET}, young{young,ADJ},...   \n",
       "3            3  [NULL{null,NOUN}, an{an,DET}, asian{asian,ADJ}...   \n",
       "4            4  [NULL{null,PROPN}, a{a,DET}, child{child,NOUN}...   \n",
       "..         ...                                                ...   \n",
       "95          95  [NULL{null,PROPN}, a{a,DET}, group{group,NOUN}...   \n",
       "96          96  [NULL{null,PROPN}, a{a,DET}, woman{woman,NOUN}...   \n",
       "97          97  [NULL{null,PROPN}, a{a,DET}, skateboarding{ska...   \n",
       "98          98  [NULL{null,ADJ}, four{four,NUM}, children{chil...   \n",
       "99          99  [NULL{null,ADJ}, three{three,NUM}, men{man,NOU...   \n",
       "\n",
       "                                            Hipotesis  \\\n",
       "0   [NULL{null,PROPN}, a{a,DET}, person{person,NOU...   \n",
       "1   [NULL{null,PROPN}, a{a,DET}, guy{guy,NOUN}, in...   \n",
       "2   [NULL{null,PROPN}, a{a,DET}, boy{boy,NOUN}, sl...   \n",
       "3   [NULL{null,PROPN}, nobody{nobody,NOUN}, is{be,...   \n",
       "4   [NULL{null,PROPN}, the{the,DET}, child{child,N...   \n",
       "..                                                ...   \n",
       "95  [NULL{null,PROPN}, a{a,DET}, bunch{bunch,NOUN}...   \n",
       "96  [NULL{null,ADJ}, woman{woman,NOUN}, holds{hold...   \n",
       "97  [NULL{null,PROPN}, a{a,DET}, man{man,NOUN}, pa...   \n",
       "98  [NULL{null,PROPN}, the{the,DET}, children{chil...   \n",
       "99  [NULL{null,ADJ}, one{one,NUM}, of{of,ADP}, the...   \n",
       "\n",
       "                                               R_Text  \\\n",
       "0   [[0.058692623, 0.05556845, -0.059916947, 0.000...   \n",
       "1   [[0.058692623, 0.05556845, -0.059916947, 0.000...   \n",
       "2   [[0.058692623, 0.05556845, -0.059916947, 0.000...   \n",
       "3   [[0.058692623, 0.05556845, -0.059916947, 0.000...   \n",
       "4   [[0.058692623, 0.05556845, -0.059916947, 0.000...   \n",
       "..                                                ...   \n",
       "95  [[0.058692623, 0.05556845, -0.059916947, 0.000...   \n",
       "96  [[0.058692623, 0.05556845, -0.059916947, 0.000...   \n",
       "97  [[0.058692623, 0.05556845, -0.059916947, 0.000...   \n",
       "98  [[0.058692623, 0.05556845, -0.059916947, 0.000...   \n",
       "99  [[0.058692623, 0.05556845, -0.059916947, 0.000...   \n",
       "\n",
       "                                                R_Hip  \\\n",
       "0   [[0.058692623, 0.05556845, -0.059916947, 0.000...   \n",
       "1   [[0.058692623, 0.05556845, -0.059916947, 0.000...   \n",
       "2   [[0.058692623, 0.05556845, -0.059916947, 0.000...   \n",
       "3   [[0.058692623, 0.05556845, -0.059916947, 0.000...   \n",
       "4   [[0.058692623, 0.05556845, -0.059916947, 0.000...   \n",
       "..                                                ...   \n",
       "95  [[0.058692623, 0.05556845, -0.059916947, 0.000...   \n",
       "96  [[0.058692623, 0.05556845, -0.059916947, 0.000...   \n",
       "97  [[0.058692623, 0.05556845, -0.059916947, 0.000...   \n",
       "98  [[0.058692623, 0.05556845, -0.059916947, 0.000...   \n",
       "99  [[0.058692623, 0.05556845, -0.059916947, 0.000...   \n",
       "\n",
       "                                              M_Align  \\\n",
       "0   [[2.760008, 0.060492776, 0.7027438, 0.20296031...   \n",
       "1   [[2.760008, 0.060492776, 0.64837056, 0.2029603...   \n",
       "2   [[2.760008, 0.060492776, 0.4078711, 2.2245083,...   \n",
       "3   [[2.760008, 1.9305927, 0.10360007, 0.8346571, ...   \n",
       "4   [[2.760008, 0.033035405, 0.5160244, 0.10360007...   \n",
       "..                                                ...   \n",
       "95  [[2.760008, 0.060492776, 0.41359743, 0.0717519...   \n",
       "96  [[2.760008, 0.475788, 0.8695118, 0.72379255, 0...   \n",
       "97  [[2.760008, 0.060492776, 0.43997452, 1.9583746...   \n",
       "98  [[2.760008, 0.033035405, 0.44769567, 0.0726737...   \n",
       "99  [[2.760008, 0.38066497, 0.07175191, 0.03303540...   \n",
       "\n",
       "                                  Prediction       Gold_label  \n",
       "0      [0.4928643, 0.50155383, 0.0055818837]  [1.0, 0.0, 0.0]  \n",
       "1         [0.4695498, 0.3973312, 0.13311893]  [1.0, 0.0, 0.0]  \n",
       "2   [1.4341879e-06, 8.787866e-05, 0.9999107]  [0.0, 0.0, 1.0]  \n",
       "3      [0.033964496, 0.008023773, 0.9580117]  [0.0, 0.0, 1.0]  \n",
       "4    [0.0027733932, 0.9895504, 0.0076761814]  [0.0, 1.0, 0.0]  \n",
       "..                                       ...              ...  \n",
       "95      [0.8000752, 0.17865694, 0.021267932]  [1.0, 0.0, 0.0]  \n",
       "96       [0.7528739, 0.18234292, 0.06478321]  [1.0, 0.0, 0.0]  \n",
       "97  [7.513892e-05, 0.0013085654, 0.99861634]  [0.0, 0.0, 1.0]  \n",
       "98     [0.034316223, 0.83774996, 0.12793382]  [0.0, 0.0, 1.0]  \n",
       "99     [0.0035314807, 0.5047337, 0.49173486]  [0.0, 0.0, 1.0]  \n",
       "\n",
       "[100 rows x 8 columns]"
      ]
     },
     "execution_count": 29,
     "metadata": {},
     "output_type": "execute_result"
    }
   ],
   "source": [
    "df = pd.read_pickle(\"data/prueba100.pickle\")\n",
    "df"
   ]
  },
  {
   "cell_type": "code",
   "execution_count": 30,
   "metadata": {},
   "outputs": [],
   "source": [
    "indice=4"
   ]
  },
  {
   "cell_type": "code",
   "execution_count": 31,
   "metadata": {},
   "outputs": [
    {
     "name": "stdout",
     "output_type": "stream",
     "text": [
      "13\n",
      "10\n"
     ]
    }
   ],
   "source": [
    "t=pd.DataFrame(df.at[indice,\"Text\"])\n",
    "h=pd.DataFrame(df.at[indice,\"Hipotesis\"])\n",
    "print(len(t))\n",
    "print(len(h))"
   ]
  },
  {
   "cell_type": "code",
   "execution_count": 32,
   "metadata": {},
   "outputs": [],
   "source": [
    "texto1=pd.DataFrame(df.at[indice,\"R_Text\"])\n",
    "hipotesis1=pd.DataFrame(df.at[indice,\"R_Hip\"])"
   ]
  },
  {
   "cell_type": "code",
   "execution_count": 33,
   "metadata": {},
   "outputs": [],
   "source": [
    "#t"
   ]
  },
  {
   "cell_type": "code",
   "execution_count": 34,
   "metadata": {},
   "outputs": [],
   "source": [
    "#h"
   ]
  },
  {
   "cell_type": "markdown",
   "metadata": {},
   "source": [
    "# Comparar con concatenación y suma las tuplas alineadas en intrasentence"
   ]
  },
  {
   "cell_type": "code",
   "execution_count": 35,
   "metadata": {},
   "outputs": [],
   "source": [
    "texto1=df.at[indice,\"R_Text\"]\n",
    "hipotesis1=df.at[indice,\"R_Hip\"]"
   ]
  },
  {
   "cell_type": "code",
   "execution_count": 36,
   "metadata": {},
   "outputs": [],
   "source": [
    "#t"
   ]
  },
  {
   "cell_type": "code",
   "execution_count": 37,
   "metadata": {},
   "outputs": [
    {
     "data": {
      "text/plain": [
       "(300,)"
      ]
     },
     "execution_count": 37,
     "metadata": {},
     "output_type": "execute_result"
    }
   ],
   "source": [
    "texto1[2].shape"
   ]
  },
  {
   "cell_type": "code",
   "execution_count": 38,
   "metadata": {},
   "outputs": [
    {
     "data": {
      "text/plain": [
       "300"
      ]
     },
     "execution_count": 38,
     "metadata": {},
     "output_type": "execute_result"
    }
   ],
   "source": [
    "#    FOUNTAIN - CHILD\n",
    "fontain=np.mean((texto1[11],texto1[2]),axis=0)\n",
    "len(fontain)"
   ]
  },
  {
   "cell_type": "code",
   "execution_count": 39,
   "metadata": {},
   "outputs": [
    {
     "data": {
      "text/plain": [
       "300"
      ]
     },
     "execution_count": 39,
     "metadata": {},
     "output_type": "execute_result"
    }
   ],
   "source": [
    "#  FOUNTAIN  - WET\n",
    "wetf=np.mean((hipotesis1[8],hipotesis1[5]),axis=0)\n",
    "len(wetf)"
   ]
  },
  {
   "cell_type": "code",
   "execution_count": 40,
   "metadata": {},
   "outputs": [
    {
     "data": {
      "text/plain": [
       "0.4006682"
      ]
     },
     "execution_count": 40,
     "metadata": {},
     "output_type": "execute_result"
    }
   ],
   "source": [
    "#POR QUE EXCEDE EL VALOR DE 1\n",
    "np.dot(fontain,wetf)"
   ]
  },
  {
   "cell_type": "code",
   "execution_count": 41,
   "metadata": {},
   "outputs": [
    {
     "data": {
      "text/plain": [
       "600"
      ]
     },
     "execution_count": 41,
     "metadata": {},
     "output_type": "execute_result"
    }
   ],
   "source": [
    "#   A  - CHILD\n",
    "a_child=np.concatenate((texto1[1],texto1[2]))\n",
    "#shirtlees_man=(texto1[1]+texto1[2])/2\n",
    "len(a_child)"
   ]
  },
  {
   "cell_type": "code",
   "execution_count": 42,
   "metadata": {},
   "outputs": [
    {
     "data": {
      "text/plain": [
       "600"
      ]
     },
     "execution_count": 42,
     "metadata": {},
     "output_type": "execute_result"
    }
   ],
   "source": [
    "# playing -to\n",
    "playing_to=np.concatenate((texto1[7],texto1[9]))\n",
    "#shirtlees_man=(texto1[1]+texto1[2])/2\n",
    "len(playing_to)"
   ]
  },
  {
   "cell_type": "code",
   "execution_count": 43,
   "metadata": {},
   "outputs": [
    {
     "data": {
      "text/plain": [
       "600"
      ]
     },
     "execution_count": 43,
     "metadata": {},
     "output_type": "execute_result"
    }
   ],
   "source": [
    "#   CHILD - the\n",
    "child_the=np.concatenate((hipotesis1[2],hipotesis1[7]))\n",
    "len(child_the)"
   ]
  },
  {
   "cell_type": "code",
   "execution_count": 44,
   "metadata": {},
   "outputs": [
    {
     "data": {
      "text/plain": [
       "600"
      ]
     },
     "execution_count": 44,
     "metadata": {},
     "output_type": "execute_result"
    }
   ],
   "source": [
    "getting_wet=np.concatenate((hipotesis1[4],hipotesis1[5]))\n",
    "#not_wearing=(hipotesis1[4]+hipotesis1[5])/2\n",
    "len(getting_wet)"
   ]
  },
  {
   "cell_type": "code",
   "execution_count": 45,
   "metadata": {},
   "outputs": [
    {
     "data": {
      "text/plain": [
       "0.7518902"
      ]
     },
     "execution_count": 45,
     "metadata": {},
     "output_type": "execute_result"
    }
   ],
   "source": [
    "np.dot(a_child,child_the)"
   ]
  },
  {
   "cell_type": "code",
   "execution_count": 46,
   "metadata": {},
   "outputs": [
    {
     "data": {
      "text/plain": [
       "0.7447932"
      ]
     },
     "execution_count": 46,
     "metadata": {},
     "output_type": "execute_result"
    }
   ],
   "source": [
    "np.dot(playing_to,getting_wet)"
   ]
  },
  {
   "cell_type": "code",
   "execution_count": 47,
   "metadata": {},
   "outputs": [
    {
     "data": {
      "text/plain": [
       "0.8623389"
      ]
     },
     "execution_count": 47,
     "metadata": {},
     "output_type": "execute_result"
    }
   ],
   "source": [
    "np.dot(playing_to,child_the)"
   ]
  },
  {
   "cell_type": "code",
   "execution_count": 49,
   "metadata": {},
   "outputs": [],
   "source": [
    "#np.dot(getting_wet,fontain)"
   ]
  },
  {
   "cell_type": "code",
   "execution_count": 50,
   "metadata": {},
   "outputs": [],
   "source": [
    "#np.dot(getting_wet,wetf)"
   ]
  },
  {
   "cell_type": "markdown",
   "metadata": {},
   "source": [
    "## Comparación intrasentence"
   ]
  },
  {
   "cell_type": "code",
   "execution_count": 51,
   "metadata": {},
   "outputs": [
    {
     "data": {
      "text/html": [
       "<div>\n",
       "<style scoped>\n",
       "    .dataframe tbody tr th:only-of-type {\n",
       "        vertical-align: middle;\n",
       "    }\n",
       "\n",
       "    .dataframe tbody tr th {\n",
       "        vertical-align: top;\n",
       "    }\n",
       "\n",
       "    .dataframe thead th {\n",
       "        text-align: right;\n",
       "    }\n",
       "</style>\n",
       "<table border=\"1\" class=\"dataframe\">\n",
       "  <thead>\n",
       "    <tr style=\"text-align: right;\">\n",
       "      <th></th>\n",
       "      <th>(a{a,DET},)</th>\n",
       "      <th>(child{child,NOUN},)</th>\n",
       "      <th>(in{in,ADP},)</th>\n",
       "      <th>(a{a,DET},)</th>\n",
       "      <th>(maroon{maroon,ADJ},)</th>\n",
       "      <th>(shirt{shirt,NOUN},)</th>\n",
       "      <th>(playing{play,VERB},)</th>\n",
       "      <th>(next{next,ADV},)</th>\n",
       "      <th>(to{to,ADP},)</th>\n",
       "      <th>(a{a,DET},)</th>\n",
       "      <th>(fountain{fountain,NOUN},)</th>\n",
       "      <th>(.{.,PUNCT},)</th>\n",
       "    </tr>\n",
       "  </thead>\n",
       "  <tbody>\n",
       "    <tr>\n",
       "      <th>(a{a,DET},)</th>\n",
       "      <td>1.000000</td>\n",
       "      <td>0.395472</td>\n",
       "      <td>0.454527</td>\n",
       "      <td>1.000000</td>\n",
       "      <td>0.114632</td>\n",
       "      <td>0.266668</td>\n",
       "      <td>0.327973</td>\n",
       "      <td>0.495689</td>\n",
       "      <td>0.505892</td>\n",
       "      <td>1.000000</td>\n",
       "      <td>0.245613</td>\n",
       "      <td>0.291600</td>\n",
       "    </tr>\n",
       "    <tr>\n",
       "      <th>(child{child,NOUN},)</th>\n",
       "      <td>0.395472</td>\n",
       "      <td>1.000000</td>\n",
       "      <td>0.332690</td>\n",
       "      <td>0.395472</td>\n",
       "      <td>0.090822</td>\n",
       "      <td>0.214158</td>\n",
       "      <td>0.274601</td>\n",
       "      <td>0.353080</td>\n",
       "      <td>0.401760</td>\n",
       "      <td>0.395472</td>\n",
       "      <td>0.143708</td>\n",
       "      <td>0.261569</td>\n",
       "    </tr>\n",
       "    <tr>\n",
       "      <th>(in{in,ADP},)</th>\n",
       "      <td>0.454527</td>\n",
       "      <td>0.332690</td>\n",
       "      <td>1.000000</td>\n",
       "      <td>0.454527</td>\n",
       "      <td>0.050158</td>\n",
       "      <td>0.171070</td>\n",
       "      <td>0.325592</td>\n",
       "      <td>0.437826</td>\n",
       "      <td>0.471923</td>\n",
       "      <td>0.454527</td>\n",
       "      <td>0.194855</td>\n",
       "      <td>0.300469</td>\n",
       "    </tr>\n",
       "    <tr>\n",
       "      <th>(a{a,DET},)</th>\n",
       "      <td>1.000000</td>\n",
       "      <td>0.395472</td>\n",
       "      <td>0.454527</td>\n",
       "      <td>1.000000</td>\n",
       "      <td>0.114632</td>\n",
       "      <td>0.266668</td>\n",
       "      <td>0.327973</td>\n",
       "      <td>0.495689</td>\n",
       "      <td>0.505892</td>\n",
       "      <td>1.000000</td>\n",
       "      <td>0.245613</td>\n",
       "      <td>0.291600</td>\n",
       "    </tr>\n",
       "    <tr>\n",
       "      <th>(maroon{maroon,ADJ},)</th>\n",
       "      <td>0.114632</td>\n",
       "      <td>0.090822</td>\n",
       "      <td>0.050158</td>\n",
       "      <td>0.114632</td>\n",
       "      <td>1.000001</td>\n",
       "      <td>0.454116</td>\n",
       "      <td>0.048698</td>\n",
       "      <td>0.068707</td>\n",
       "      <td>0.014956</td>\n",
       "      <td>0.114632</td>\n",
       "      <td>0.135726</td>\n",
       "      <td>0.090673</td>\n",
       "    </tr>\n",
       "    <tr>\n",
       "      <th>(shirt{shirt,NOUN},)</th>\n",
       "      <td>0.266668</td>\n",
       "      <td>0.214158</td>\n",
       "      <td>0.171070</td>\n",
       "      <td>0.266668</td>\n",
       "      <td>0.454116</td>\n",
       "      <td>1.000000</td>\n",
       "      <td>0.229041</td>\n",
       "      <td>0.260263</td>\n",
       "      <td>0.191875</td>\n",
       "      <td>0.266668</td>\n",
       "      <td>0.142237</td>\n",
       "      <td>0.218576</td>\n",
       "    </tr>\n",
       "    <tr>\n",
       "      <th>(playing{play,VERB},)</th>\n",
       "      <td>0.327973</td>\n",
       "      <td>0.274601</td>\n",
       "      <td>0.325592</td>\n",
       "      <td>0.327973</td>\n",
       "      <td>0.048698</td>\n",
       "      <td>0.229041</td>\n",
       "      <td>1.000000</td>\n",
       "      <td>0.350165</td>\n",
       "      <td>0.259833</td>\n",
       "      <td>0.327973</td>\n",
       "      <td>0.146186</td>\n",
       "      <td>0.249423</td>\n",
       "    </tr>\n",
       "    <tr>\n",
       "      <th>(next{next,ADV},)</th>\n",
       "      <td>0.495689</td>\n",
       "      <td>0.353080</td>\n",
       "      <td>0.437826</td>\n",
       "      <td>0.495689</td>\n",
       "      <td>0.068707</td>\n",
       "      <td>0.260263</td>\n",
       "      <td>0.350165</td>\n",
       "      <td>1.000001</td>\n",
       "      <td>0.509918</td>\n",
       "      <td>0.495689</td>\n",
       "      <td>0.179694</td>\n",
       "      <td>0.348170</td>\n",
       "    </tr>\n",
       "    <tr>\n",
       "      <th>(to{to,ADP},)</th>\n",
       "      <td>0.505892</td>\n",
       "      <td>0.401760</td>\n",
       "      <td>0.471923</td>\n",
       "      <td>0.505892</td>\n",
       "      <td>0.014956</td>\n",
       "      <td>0.191875</td>\n",
       "      <td>0.259833</td>\n",
       "      <td>0.509918</td>\n",
       "      <td>1.000000</td>\n",
       "      <td>0.505892</td>\n",
       "      <td>0.157662</td>\n",
       "      <td>0.358275</td>\n",
       "    </tr>\n",
       "    <tr>\n",
       "      <th>(a{a,DET},)</th>\n",
       "      <td>1.000000</td>\n",
       "      <td>0.395472</td>\n",
       "      <td>0.454527</td>\n",
       "      <td>1.000000</td>\n",
       "      <td>0.114632</td>\n",
       "      <td>0.266668</td>\n",
       "      <td>0.327973</td>\n",
       "      <td>0.495689</td>\n",
       "      <td>0.505892</td>\n",
       "      <td>1.000000</td>\n",
       "      <td>0.245613</td>\n",
       "      <td>0.291600</td>\n",
       "    </tr>\n",
       "    <tr>\n",
       "      <th>(fountain{fountain,NOUN},)</th>\n",
       "      <td>0.245613</td>\n",
       "      <td>0.143708</td>\n",
       "      <td>0.194855</td>\n",
       "      <td>0.245613</td>\n",
       "      <td>0.135726</td>\n",
       "      <td>0.142237</td>\n",
       "      <td>0.146186</td>\n",
       "      <td>0.179694</td>\n",
       "      <td>0.157662</td>\n",
       "      <td>0.245613</td>\n",
       "      <td>1.000000</td>\n",
       "      <td>0.138824</td>\n",
       "    </tr>\n",
       "    <tr>\n",
       "      <th>(.{.,PUNCT},)</th>\n",
       "      <td>0.291600</td>\n",
       "      <td>0.261569</td>\n",
       "      <td>0.300469</td>\n",
       "      <td>0.291600</td>\n",
       "      <td>0.090673</td>\n",
       "      <td>0.218576</td>\n",
       "      <td>0.249423</td>\n",
       "      <td>0.348170</td>\n",
       "      <td>0.358275</td>\n",
       "      <td>0.291600</td>\n",
       "      <td>0.138824</td>\n",
       "      <td>1.000001</td>\n",
       "    </tr>\n",
       "  </tbody>\n",
       "</table>\n",
       "</div>"
      ],
      "text/plain": [
       "                            (a{a,DET},)  (child{child,NOUN},)  (in{in,ADP},)  \\\n",
       "(a{a,DET},)                    1.000000              0.395472       0.454527   \n",
       "(child{child,NOUN},)           0.395472              1.000000       0.332690   \n",
       "(in{in,ADP},)                  0.454527              0.332690       1.000000   \n",
       "(a{a,DET},)                    1.000000              0.395472       0.454527   \n",
       "(maroon{maroon,ADJ},)          0.114632              0.090822       0.050158   \n",
       "(shirt{shirt,NOUN},)           0.266668              0.214158       0.171070   \n",
       "(playing{play,VERB},)          0.327973              0.274601       0.325592   \n",
       "(next{next,ADV},)              0.495689              0.353080       0.437826   \n",
       "(to{to,ADP},)                  0.505892              0.401760       0.471923   \n",
       "(a{a,DET},)                    1.000000              0.395472       0.454527   \n",
       "(fountain{fountain,NOUN},)     0.245613              0.143708       0.194855   \n",
       "(.{.,PUNCT},)                  0.291600              0.261569       0.300469   \n",
       "\n",
       "                            (a{a,DET},)  (maroon{maroon,ADJ},)  \\\n",
       "(a{a,DET},)                    1.000000               0.114632   \n",
       "(child{child,NOUN},)           0.395472               0.090822   \n",
       "(in{in,ADP},)                  0.454527               0.050158   \n",
       "(a{a,DET},)                    1.000000               0.114632   \n",
       "(maroon{maroon,ADJ},)          0.114632               1.000001   \n",
       "(shirt{shirt,NOUN},)           0.266668               0.454116   \n",
       "(playing{play,VERB},)          0.327973               0.048698   \n",
       "(next{next,ADV},)              0.495689               0.068707   \n",
       "(to{to,ADP},)                  0.505892               0.014956   \n",
       "(a{a,DET},)                    1.000000               0.114632   \n",
       "(fountain{fountain,NOUN},)     0.245613               0.135726   \n",
       "(.{.,PUNCT},)                  0.291600               0.090673   \n",
       "\n",
       "                            (shirt{shirt,NOUN},)  (playing{play,VERB},)  \\\n",
       "(a{a,DET},)                             0.266668               0.327973   \n",
       "(child{child,NOUN},)                    0.214158               0.274601   \n",
       "(in{in,ADP},)                           0.171070               0.325592   \n",
       "(a{a,DET},)                             0.266668               0.327973   \n",
       "(maroon{maroon,ADJ},)                   0.454116               0.048698   \n",
       "(shirt{shirt,NOUN},)                    1.000000               0.229041   \n",
       "(playing{play,VERB},)                   0.229041               1.000000   \n",
       "(next{next,ADV},)                       0.260263               0.350165   \n",
       "(to{to,ADP},)                           0.191875               0.259833   \n",
       "(a{a,DET},)                             0.266668               0.327973   \n",
       "(fountain{fountain,NOUN},)              0.142237               0.146186   \n",
       "(.{.,PUNCT},)                           0.218576               0.249423   \n",
       "\n",
       "                            (next{next,ADV},)  (to{to,ADP},)  (a{a,DET},)  \\\n",
       "(a{a,DET},)                          0.495689       0.505892     1.000000   \n",
       "(child{child,NOUN},)                 0.353080       0.401760     0.395472   \n",
       "(in{in,ADP},)                        0.437826       0.471923     0.454527   \n",
       "(a{a,DET},)                          0.495689       0.505892     1.000000   \n",
       "(maroon{maroon,ADJ},)                0.068707       0.014956     0.114632   \n",
       "(shirt{shirt,NOUN},)                 0.260263       0.191875     0.266668   \n",
       "(playing{play,VERB},)                0.350165       0.259833     0.327973   \n",
       "(next{next,ADV},)                    1.000001       0.509918     0.495689   \n",
       "(to{to,ADP},)                        0.509918       1.000000     0.505892   \n",
       "(a{a,DET},)                          0.495689       0.505892     1.000000   \n",
       "(fountain{fountain,NOUN},)           0.179694       0.157662     0.245613   \n",
       "(.{.,PUNCT},)                        0.348170       0.358275     0.291600   \n",
       "\n",
       "                            (fountain{fountain,NOUN},)  (.{.,PUNCT},)  \n",
       "(a{a,DET},)                                   0.245613       0.291600  \n",
       "(child{child,NOUN},)                          0.143708       0.261569  \n",
       "(in{in,ADP},)                                 0.194855       0.300469  \n",
       "(a{a,DET},)                                   0.245613       0.291600  \n",
       "(maroon{maroon,ADJ},)                         0.135726       0.090673  \n",
       "(shirt{shirt,NOUN},)                          0.142237       0.218576  \n",
       "(playing{play,VERB},)                         0.146186       0.249423  \n",
       "(next{next,ADV},)                             0.179694       0.348170  \n",
       "(to{to,ADP},)                                 0.157662       0.358275  \n",
       "(a{a,DET},)                                   0.245613       0.291600  \n",
       "(fountain{fountain,NOUN},)                    1.000000       0.138824  \n",
       "(.{.,PUNCT},)                                 0.138824       1.000001  "
      ]
     },
     "execution_count": 51,
     "metadata": {},
     "output_type": "execute_result"
    }
   ],
   "source": [
    "maTexto=pd.DataFrame(np.dot(texto1[1:len(t)],texto1[1:len(t)].T),index=t[1:],columns=t[1:])\n",
    "maTexto"
   ]
  },
  {
   "cell_type": "code",
   "execution_count": 52,
   "metadata": {},
   "outputs": [
    {
     "data": {
      "text/html": [
       "<div>\n",
       "<style scoped>\n",
       "    .dataframe tbody tr th:only-of-type {\n",
       "        vertical-align: middle;\n",
       "    }\n",
       "\n",
       "    .dataframe tbody tr th {\n",
       "        vertical-align: top;\n",
       "    }\n",
       "\n",
       "    .dataframe thead th {\n",
       "        text-align: right;\n",
       "    }\n",
       "</style>\n",
       "<table border=\"1\" class=\"dataframe\">\n",
       "  <thead>\n",
       "    <tr style=\"text-align: right;\">\n",
       "      <th></th>\n",
       "      <th>(the{the,DET},)</th>\n",
       "      <th>(child{child,NOUN},)</th>\n",
       "      <th>(is{be,VERB},)</th>\n",
       "      <th>(getting{get,VERB},)</th>\n",
       "      <th>(wet{wet,NOUN},)</th>\n",
       "      <th>(from{from,ADP},)</th>\n",
       "      <th>(the{the,DET},)</th>\n",
       "      <th>(fountain{fountain,NOUN},)</th>\n",
       "      <th>(.{.,PUNCT},)</th>\n",
       "    </tr>\n",
       "  </thead>\n",
       "  <tbody>\n",
       "    <tr>\n",
       "      <th>(the{the,DET},)</th>\n",
       "      <td>1.000000</td>\n",
       "      <td>0.356418</td>\n",
       "      <td>0.553611</td>\n",
       "      <td>0.427420</td>\n",
       "      <td>0.277771</td>\n",
       "      <td>0.489423</td>\n",
       "      <td>1.000000</td>\n",
       "      <td>0.258244</td>\n",
       "      <td>0.311352</td>\n",
       "    </tr>\n",
       "    <tr>\n",
       "      <th>(child{child,NOUN},)</th>\n",
       "      <td>0.356418</td>\n",
       "      <td>1.000000</td>\n",
       "      <td>0.386440</td>\n",
       "      <td>0.358259</td>\n",
       "      <td>0.199049</td>\n",
       "      <td>0.296287</td>\n",
       "      <td>0.356418</td>\n",
       "      <td>0.143708</td>\n",
       "      <td>0.261569</td>\n",
       "    </tr>\n",
       "    <tr>\n",
       "      <th>(is{be,VERB},)</th>\n",
       "      <td>0.553611</td>\n",
       "      <td>0.386440</td>\n",
       "      <td>1.000000</td>\n",
       "      <td>0.452887</td>\n",
       "      <td>0.237249</td>\n",
       "      <td>0.368237</td>\n",
       "      <td>0.553611</td>\n",
       "      <td>0.233714</td>\n",
       "      <td>0.381103</td>\n",
       "    </tr>\n",
       "    <tr>\n",
       "      <th>(getting{get,VERB},)</th>\n",
       "      <td>0.427420</td>\n",
       "      <td>0.358259</td>\n",
       "      <td>0.452887</td>\n",
       "      <td>1.000000</td>\n",
       "      <td>0.441898</td>\n",
       "      <td>0.395281</td>\n",
       "      <td>0.427420</td>\n",
       "      <td>0.165309</td>\n",
       "      <td>0.331161</td>\n",
       "    </tr>\n",
       "    <tr>\n",
       "      <th>(wet{wet,NOUN},)</th>\n",
       "      <td>0.277771</td>\n",
       "      <td>0.199049</td>\n",
       "      <td>0.237249</td>\n",
       "      <td>0.441898</td>\n",
       "      <td>1.000000</td>\n",
       "      <td>0.217718</td>\n",
       "      <td>0.277771</td>\n",
       "      <td>0.259916</td>\n",
       "      <td>0.262965</td>\n",
       "    </tr>\n",
       "    <tr>\n",
       "      <th>(from{from,ADP},)</th>\n",
       "      <td>0.489423</td>\n",
       "      <td>0.296287</td>\n",
       "      <td>0.368237</td>\n",
       "      <td>0.395281</td>\n",
       "      <td>0.217718</td>\n",
       "      <td>1.000000</td>\n",
       "      <td>0.489423</td>\n",
       "      <td>0.149354</td>\n",
       "      <td>0.273883</td>\n",
       "    </tr>\n",
       "    <tr>\n",
       "      <th>(the{the,DET},)</th>\n",
       "      <td>1.000000</td>\n",
       "      <td>0.356418</td>\n",
       "      <td>0.553611</td>\n",
       "      <td>0.427420</td>\n",
       "      <td>0.277771</td>\n",
       "      <td>0.489423</td>\n",
       "      <td>1.000000</td>\n",
       "      <td>0.258244</td>\n",
       "      <td>0.311352</td>\n",
       "    </tr>\n",
       "    <tr>\n",
       "      <th>(fountain{fountain,NOUN},)</th>\n",
       "      <td>0.258244</td>\n",
       "      <td>0.143708</td>\n",
       "      <td>0.233714</td>\n",
       "      <td>0.165309</td>\n",
       "      <td>0.259916</td>\n",
       "      <td>0.149354</td>\n",
       "      <td>0.258244</td>\n",
       "      <td>1.000000</td>\n",
       "      <td>0.138824</td>\n",
       "    </tr>\n",
       "    <tr>\n",
       "      <th>(.{.,PUNCT},)</th>\n",
       "      <td>0.311352</td>\n",
       "      <td>0.261569</td>\n",
       "      <td>0.381103</td>\n",
       "      <td>0.331161</td>\n",
       "      <td>0.262965</td>\n",
       "      <td>0.273883</td>\n",
       "      <td>0.311352</td>\n",
       "      <td>0.138824</td>\n",
       "      <td>1.000001</td>\n",
       "    </tr>\n",
       "  </tbody>\n",
       "</table>\n",
       "</div>"
      ],
      "text/plain": [
       "                            (the{the,DET},)  (child{child,NOUN},)  \\\n",
       "(the{the,DET},)                    1.000000              0.356418   \n",
       "(child{child,NOUN},)               0.356418              1.000000   \n",
       "(is{be,VERB},)                     0.553611              0.386440   \n",
       "(getting{get,VERB},)               0.427420              0.358259   \n",
       "(wet{wet,NOUN},)                   0.277771              0.199049   \n",
       "(from{from,ADP},)                  0.489423              0.296287   \n",
       "(the{the,DET},)                    1.000000              0.356418   \n",
       "(fountain{fountain,NOUN},)         0.258244              0.143708   \n",
       "(.{.,PUNCT},)                      0.311352              0.261569   \n",
       "\n",
       "                            (is{be,VERB},)  (getting{get,VERB},)  \\\n",
       "(the{the,DET},)                   0.553611              0.427420   \n",
       "(child{child,NOUN},)              0.386440              0.358259   \n",
       "(is{be,VERB},)                    1.000000              0.452887   \n",
       "(getting{get,VERB},)              0.452887              1.000000   \n",
       "(wet{wet,NOUN},)                  0.237249              0.441898   \n",
       "(from{from,ADP},)                 0.368237              0.395281   \n",
       "(the{the,DET},)                   0.553611              0.427420   \n",
       "(fountain{fountain,NOUN},)        0.233714              0.165309   \n",
       "(.{.,PUNCT},)                     0.381103              0.331161   \n",
       "\n",
       "                            (wet{wet,NOUN},)  (from{from,ADP},)  \\\n",
       "(the{the,DET},)                     0.277771           0.489423   \n",
       "(child{child,NOUN},)                0.199049           0.296287   \n",
       "(is{be,VERB},)                      0.237249           0.368237   \n",
       "(getting{get,VERB},)                0.441898           0.395281   \n",
       "(wet{wet,NOUN},)                    1.000000           0.217718   \n",
       "(from{from,ADP},)                   0.217718           1.000000   \n",
       "(the{the,DET},)                     0.277771           0.489423   \n",
       "(fountain{fountain,NOUN},)          0.259916           0.149354   \n",
       "(.{.,PUNCT},)                       0.262965           0.273883   \n",
       "\n",
       "                            (the{the,DET},)  (fountain{fountain,NOUN},)  \\\n",
       "(the{the,DET},)                    1.000000                    0.258244   \n",
       "(child{child,NOUN},)               0.356418                    0.143708   \n",
       "(is{be,VERB},)                     0.553611                    0.233714   \n",
       "(getting{get,VERB},)               0.427420                    0.165309   \n",
       "(wet{wet,NOUN},)                   0.277771                    0.259916   \n",
       "(from{from,ADP},)                  0.489423                    0.149354   \n",
       "(the{the,DET},)                    1.000000                    0.258244   \n",
       "(fountain{fountain,NOUN},)         0.258244                    1.000000   \n",
       "(.{.,PUNCT},)                      0.311352                    0.138824   \n",
       "\n",
       "                            (.{.,PUNCT},)  \n",
       "(the{the,DET},)                  0.311352  \n",
       "(child{child,NOUN},)             0.261569  \n",
       "(is{be,VERB},)                   0.381103  \n",
       "(getting{get,VERB},)             0.331161  \n",
       "(wet{wet,NOUN},)                 0.262965  \n",
       "(from{from,ADP},)                0.273883  \n",
       "(the{the,DET},)                  0.311352  \n",
       "(fountain{fountain,NOUN},)       0.138824  \n",
       "(.{.,PUNCT},)                    1.000001  "
      ]
     },
     "execution_count": 52,
     "metadata": {},
     "output_type": "execute_result"
    }
   ],
   "source": [
    "maHipotesis=pd.DataFrame(np.dot(hipotesis1[1:len(h)],hipotesis1[1:len(h)].T),index=h[1:],columns=h[1:])\n",
    "maHipotesis"
   ]
  },
  {
   "cell_type": "code",
   "execution_count": 53,
   "metadata": {},
   "outputs": [],
   "source": [
    "dt_temp=pd.DataFrame(np.triu(maTexto.values,k=1),index=t[1:],columns=t[1:])"
   ]
  },
  {
   "cell_type": "code",
   "execution_count": 54,
   "metadata": {},
   "outputs": [],
   "source": [
    "dh_temp=pd.DataFrame(np.triu(maHipotesis.values,k=1),index=h[1:],columns=h[1:])"
   ]
  },
  {
   "cell_type": "code",
   "execution_count": 55,
   "metadata": {},
   "outputs": [
    {
     "data": {
      "text/html": [
       "<div>\n",
       "<style scoped>\n",
       "    .dataframe tbody tr th:only-of-type {\n",
       "        vertical-align: middle;\n",
       "    }\n",
       "\n",
       "    .dataframe tbody tr th {\n",
       "        vertical-align: top;\n",
       "    }\n",
       "\n",
       "    .dataframe thead th {\n",
       "        text-align: right;\n",
       "    }\n",
       "</style>\n",
       "<table border=\"1\" class=\"dataframe\">\n",
       "  <thead>\n",
       "    <tr style=\"text-align: right;\">\n",
       "      <th></th>\n",
       "      <th>0</th>\n",
       "    </tr>\n",
       "  </thead>\n",
       "  <tbody>\n",
       "    <tr>\n",
       "      <th>0</th>\n",
       "      <td>NULL{null,PROPN}</td>\n",
       "    </tr>\n",
       "    <tr>\n",
       "      <th>1</th>\n",
       "      <td>the{the,DET}</td>\n",
       "    </tr>\n",
       "    <tr>\n",
       "      <th>2</th>\n",
       "      <td>child{child,NOUN}</td>\n",
       "    </tr>\n",
       "    <tr>\n",
       "      <th>3</th>\n",
       "      <td>is{be,VERB}</td>\n",
       "    </tr>\n",
       "    <tr>\n",
       "      <th>4</th>\n",
       "      <td>getting{get,VERB}</td>\n",
       "    </tr>\n",
       "    <tr>\n",
       "      <th>5</th>\n",
       "      <td>wet{wet,NOUN}</td>\n",
       "    </tr>\n",
       "    <tr>\n",
       "      <th>6</th>\n",
       "      <td>from{from,ADP}</td>\n",
       "    </tr>\n",
       "    <tr>\n",
       "      <th>7</th>\n",
       "      <td>the{the,DET}</td>\n",
       "    </tr>\n",
       "    <tr>\n",
       "      <th>8</th>\n",
       "      <td>fountain{fountain,NOUN}</td>\n",
       "    </tr>\n",
       "    <tr>\n",
       "      <th>9</th>\n",
       "      <td>.{.,PUNCT}</td>\n",
       "    </tr>\n",
       "  </tbody>\n",
       "</table>\n",
       "</div>"
      ],
      "text/plain": [
       "                         0\n",
       "0         NULL{null,PROPN}\n",
       "1             the{the,DET}\n",
       "2        child{child,NOUN}\n",
       "3              is{be,VERB}\n",
       "4        getting{get,VERB}\n",
       "5            wet{wet,NOUN}\n",
       "6           from{from,ADP}\n",
       "7             the{the,DET}\n",
       "8  fountain{fountain,NOUN}\n",
       "9               .{.,PUNCT}"
      ]
     },
     "execution_count": 55,
     "metadata": {},
     "output_type": "execute_result"
    }
   ],
   "source": [
    "h"
   ]
  },
  {
   "cell_type": "code",
   "execution_count": 56,
   "metadata": {},
   "outputs": [],
   "source": [
    "col=dt_temp.columns\n",
    "borrar=[]\n",
    "for c in col:\n",
    "    if \"{be,VERB\" in str(c) or (\"NOUN\" not in str(c) and \"VERB\" not in str(c) and \"ADJ\" not in str(c) and \"ADV\" not in str(c)):\n",
    "        borrar.append(c)        \n",
    "borrar_i=[]\n",
    "for index,strings in dt_temp.iterrows():\n",
    "    if \"{be,VERB\" in str(index) or (\"NOUN\" not in str(index) and \"VERB\" not in str(index) and \"ADJ\" not in str(index) and \"ADV\" not in str(index)):\n",
    "        borrar_i.append(index)        "
   ]
  },
  {
   "cell_type": "code",
   "execution_count": 57,
   "metadata": {},
   "outputs": [
    {
     "data": {
      "text/html": [
       "<div>\n",
       "<style scoped>\n",
       "    .dataframe tbody tr th:only-of-type {\n",
       "        vertical-align: middle;\n",
       "    }\n",
       "\n",
       "    .dataframe tbody tr th {\n",
       "        vertical-align: top;\n",
       "    }\n",
       "\n",
       "    .dataframe thead th {\n",
       "        text-align: right;\n",
       "    }\n",
       "</style>\n",
       "<table border=\"1\" class=\"dataframe\">\n",
       "  <thead>\n",
       "    <tr style=\"text-align: right;\">\n",
       "      <th></th>\n",
       "      <th>(child{child,NOUN},)</th>\n",
       "      <th>(maroon{maroon,ADJ},)</th>\n",
       "      <th>(shirt{shirt,NOUN},)</th>\n",
       "      <th>(playing{play,VERB},)</th>\n",
       "      <th>(next{next,ADV},)</th>\n",
       "      <th>(fountain{fountain,NOUN},)</th>\n",
       "    </tr>\n",
       "  </thead>\n",
       "  <tbody>\n",
       "    <tr>\n",
       "      <th>(child{child,NOUN},)</th>\n",
       "      <td>0.0</td>\n",
       "      <td>0.090822</td>\n",
       "      <td>0.214158</td>\n",
       "      <td>0.274601</td>\n",
       "      <td>0.353080</td>\n",
       "      <td>0.143708</td>\n",
       "    </tr>\n",
       "    <tr>\n",
       "      <th>(maroon{maroon,ADJ},)</th>\n",
       "      <td>0.0</td>\n",
       "      <td>0.000000</td>\n",
       "      <td>0.454116</td>\n",
       "      <td>0.048698</td>\n",
       "      <td>0.068707</td>\n",
       "      <td>0.135726</td>\n",
       "    </tr>\n",
       "    <tr>\n",
       "      <th>(shirt{shirt,NOUN},)</th>\n",
       "      <td>0.0</td>\n",
       "      <td>0.000000</td>\n",
       "      <td>0.000000</td>\n",
       "      <td>0.229041</td>\n",
       "      <td>0.260263</td>\n",
       "      <td>0.142237</td>\n",
       "    </tr>\n",
       "    <tr>\n",
       "      <th>(playing{play,VERB},)</th>\n",
       "      <td>0.0</td>\n",
       "      <td>0.000000</td>\n",
       "      <td>0.000000</td>\n",
       "      <td>0.000000</td>\n",
       "      <td>0.350165</td>\n",
       "      <td>0.146186</td>\n",
       "    </tr>\n",
       "    <tr>\n",
       "      <th>(next{next,ADV},)</th>\n",
       "      <td>0.0</td>\n",
       "      <td>0.000000</td>\n",
       "      <td>0.000000</td>\n",
       "      <td>0.000000</td>\n",
       "      <td>0.000000</td>\n",
       "      <td>0.179694</td>\n",
       "    </tr>\n",
       "    <tr>\n",
       "      <th>(fountain{fountain,NOUN},)</th>\n",
       "      <td>0.0</td>\n",
       "      <td>0.000000</td>\n",
       "      <td>0.000000</td>\n",
       "      <td>0.000000</td>\n",
       "      <td>0.000000</td>\n",
       "      <td>0.000000</td>\n",
       "    </tr>\n",
       "  </tbody>\n",
       "</table>\n",
       "</div>"
      ],
      "text/plain": [
       "                            (child{child,NOUN},)  (maroon{maroon,ADJ},)  \\\n",
       "(child{child,NOUN},)                         0.0               0.090822   \n",
       "(maroon{maroon,ADJ},)                        0.0               0.000000   \n",
       "(shirt{shirt,NOUN},)                         0.0               0.000000   \n",
       "(playing{play,VERB},)                        0.0               0.000000   \n",
       "(next{next,ADV},)                            0.0               0.000000   \n",
       "(fountain{fountain,NOUN},)                   0.0               0.000000   \n",
       "\n",
       "                            (shirt{shirt,NOUN},)  (playing{play,VERB},)  \\\n",
       "(child{child,NOUN},)                    0.214158               0.274601   \n",
       "(maroon{maroon,ADJ},)                   0.454116               0.048698   \n",
       "(shirt{shirt,NOUN},)                    0.000000               0.229041   \n",
       "(playing{play,VERB},)                   0.000000               0.000000   \n",
       "(next{next,ADV},)                       0.000000               0.000000   \n",
       "(fountain{fountain,NOUN},)              0.000000               0.000000   \n",
       "\n",
       "                            (next{next,ADV},)  (fountain{fountain,NOUN},)  \n",
       "(child{child,NOUN},)                 0.353080                    0.143708  \n",
       "(maroon{maroon,ADJ},)                0.068707                    0.135726  \n",
       "(shirt{shirt,NOUN},)                 0.260263                    0.142237  \n",
       "(playing{play,VERB},)                0.350165                    0.146186  \n",
       "(next{next,ADV},)                    0.000000                    0.179694  \n",
       "(fountain{fountain,NOUN},)           0.000000                    0.000000  "
      ]
     },
     "execution_count": 57,
     "metadata": {},
     "output_type": "execute_result"
    }
   ],
   "source": [
    "dt_temp=dt_temp.drop(borrar,axis=1)\n",
    "dt_temp=dt_temp.drop(borrar_i,axis=0)\n",
    "dt_temp"
   ]
  },
  {
   "cell_type": "code",
   "execution_count": 58,
   "metadata": {},
   "outputs": [],
   "source": [
    "col=dh_temp.columns\n",
    "borrar=[]\n",
    "for c in col:\n",
    "    if \"{be,VERB\" in str(c) or (\"NOUN\" not in str(c) and \"VERB\" not in str(c) and \"ADJ\" not in str(c) and \"ADV\" not in str(c)):\n",
    "        borrar.append(c)        \n",
    "borrar_i=[]\n",
    "for index,strings in dh_temp.iterrows():\n",
    "    if \"{be,VERB\" in str(index) or (\"NOUN\" not in str(index) and \"VERB\" not in str(index) and \"ADJ\" not in str(index) and \"ADV\" not in str(index)):\n",
    "        borrar_i.append(index) "
   ]
  },
  {
   "cell_type": "code",
   "execution_count": 59,
   "metadata": {},
   "outputs": [
    {
     "data": {
      "text/html": [
       "<div>\n",
       "<style scoped>\n",
       "    .dataframe tbody tr th:only-of-type {\n",
       "        vertical-align: middle;\n",
       "    }\n",
       "\n",
       "    .dataframe tbody tr th {\n",
       "        vertical-align: top;\n",
       "    }\n",
       "\n",
       "    .dataframe thead th {\n",
       "        text-align: right;\n",
       "    }\n",
       "</style>\n",
       "<table border=\"1\" class=\"dataframe\">\n",
       "  <thead>\n",
       "    <tr style=\"text-align: right;\">\n",
       "      <th></th>\n",
       "      <th>(child{child,NOUN},)</th>\n",
       "      <th>(getting{get,VERB},)</th>\n",
       "      <th>(wet{wet,NOUN},)</th>\n",
       "      <th>(fountain{fountain,NOUN},)</th>\n",
       "    </tr>\n",
       "  </thead>\n",
       "  <tbody>\n",
       "    <tr>\n",
       "      <th>(child{child,NOUN},)</th>\n",
       "      <td>0.0</td>\n",
       "      <td>0.358259</td>\n",
       "      <td>0.199049</td>\n",
       "      <td>0.143708</td>\n",
       "    </tr>\n",
       "    <tr>\n",
       "      <th>(getting{get,VERB},)</th>\n",
       "      <td>0.0</td>\n",
       "      <td>0.000000</td>\n",
       "      <td>0.441898</td>\n",
       "      <td>0.165309</td>\n",
       "    </tr>\n",
       "    <tr>\n",
       "      <th>(wet{wet,NOUN},)</th>\n",
       "      <td>0.0</td>\n",
       "      <td>0.000000</td>\n",
       "      <td>0.000000</td>\n",
       "      <td>0.259916</td>\n",
       "    </tr>\n",
       "    <tr>\n",
       "      <th>(fountain{fountain,NOUN},)</th>\n",
       "      <td>0.0</td>\n",
       "      <td>0.000000</td>\n",
       "      <td>0.000000</td>\n",
       "      <td>0.000000</td>\n",
       "    </tr>\n",
       "  </tbody>\n",
       "</table>\n",
       "</div>"
      ],
      "text/plain": [
       "                            (child{child,NOUN},)  (getting{get,VERB},)  \\\n",
       "(child{child,NOUN},)                         0.0              0.358259   \n",
       "(getting{get,VERB},)                         0.0              0.000000   \n",
       "(wet{wet,NOUN},)                             0.0              0.000000   \n",
       "(fountain{fountain,NOUN},)                   0.0              0.000000   \n",
       "\n",
       "                            (wet{wet,NOUN},)  (fountain{fountain,NOUN},)  \n",
       "(child{child,NOUN},)                0.199049                    0.143708  \n",
       "(getting{get,VERB},)                0.441898                    0.165309  \n",
       "(wet{wet,NOUN},)                    0.000000                    0.259916  \n",
       "(fountain{fountain,NOUN},)          0.000000                    0.000000  "
      ]
     },
     "execution_count": 59,
     "metadata": {},
     "output_type": "execute_result"
    }
   ],
   "source": [
    "dh_temp=dh_temp.drop(borrar,axis=1)\n",
    "dh_temp=dh_temp.drop(borrar_i,axis=0)\n",
    "dh_temp"
   ]
  },
  {
   "cell_type": "code",
   "execution_count": 60,
   "metadata": {},
   "outputs": [
    {
     "data": {
      "text/plain": [
       "(child{child,NOUN},)                (getting{get,VERB},)\n",
       "(getting{get,VERB},)                    (wet{wet,NOUN},)\n",
       "(wet{wet,NOUN},)              (fountain{fountain,NOUN},)\n",
       "(fountain{fountain,NOUN},)          (child{child,NOUN},)\n",
       "dtype: object"
      ]
     },
     "execution_count": 60,
     "metadata": {},
     "output_type": "execute_result"
    }
   ],
   "source": [
    "dh_temp.T.idxmax()"
   ]
  },
  {
   "cell_type": "code",
   "execution_count": 61,
   "metadata": {},
   "outputs": [
    {
     "data": {
      "text/plain": [
       "(child{child,NOUN},)                   (next{next,ADV},)\n",
       "(maroon{maroon,ADJ},)               (shirt{shirt,NOUN},)\n",
       "(shirt{shirt,NOUN},)                   (next{next,ADV},)\n",
       "(playing{play,VERB},)                  (next{next,ADV},)\n",
       "(next{next,ADV},)             (fountain{fountain,NOUN},)\n",
       "(fountain{fountain,NOUN},)          (child{child,NOUN},)\n",
       "dtype: object"
      ]
     },
     "execution_count": 61,
     "metadata": {},
     "output_type": "execute_result"
    }
   ],
   "source": [
    "dt_temp.T.idxmax()"
   ]
  },
  {
   "cell_type": "code",
   "execution_count": 62,
   "metadata": {},
   "outputs": [
    {
     "data": {
      "text/html": [
       "<div>\n",
       "<style scoped>\n",
       "    .dataframe tbody tr th:only-of-type {\n",
       "        vertical-align: middle;\n",
       "    }\n",
       "\n",
       "    .dataframe tbody tr th {\n",
       "        vertical-align: top;\n",
       "    }\n",
       "\n",
       "    .dataframe thead th {\n",
       "        text-align: right;\n",
       "    }\n",
       "</style>\n",
       "<table border=\"1\" class=\"dataframe\">\n",
       "  <thead>\n",
       "    <tr style=\"text-align: right;\">\n",
       "      <th></th>\n",
       "      <th>(the{the,DET},)</th>\n",
       "      <th>(child{child,NOUN},)</th>\n",
       "      <th>(is{be,VERB},)</th>\n",
       "      <th>(getting{get,VERB},)</th>\n",
       "      <th>(wet{wet,NOUN},)</th>\n",
       "      <th>(from{from,ADP},)</th>\n",
       "      <th>(the{the,DET},)</th>\n",
       "      <th>(fountain{fountain,NOUN},)</th>\n",
       "      <th>(.{.,PUNCT},)</th>\n",
       "    </tr>\n",
       "  </thead>\n",
       "  <tbody>\n",
       "    <tr>\n",
       "      <th>(a{a,DET},)</th>\n",
       "      <td>0.592582</td>\n",
       "      <td>0.395472</td>\n",
       "      <td>0.635047</td>\n",
       "      <td>0.453539</td>\n",
       "      <td>0.292145</td>\n",
       "      <td>0.364275</td>\n",
       "      <td>0.592582</td>\n",
       "      <td>0.245613</td>\n",
       "      <td>0.291600</td>\n",
       "    </tr>\n",
       "    <tr>\n",
       "      <th>(child{child,NOUN},)</th>\n",
       "      <td>0.356418</td>\n",
       "      <td>1.000000</td>\n",
       "      <td>0.386440</td>\n",
       "      <td>0.358259</td>\n",
       "      <td>0.199049</td>\n",
       "      <td>0.296287</td>\n",
       "      <td>0.356418</td>\n",
       "      <td>0.143708</td>\n",
       "      <td>0.261569</td>\n",
       "    </tr>\n",
       "    <tr>\n",
       "      <th>(in{in,ADP},)</th>\n",
       "      <td>0.555486</td>\n",
       "      <td>0.332690</td>\n",
       "      <td>0.421469</td>\n",
       "      <td>0.366236</td>\n",
       "      <td>0.270731</td>\n",
       "      <td>0.458216</td>\n",
       "      <td>0.555486</td>\n",
       "      <td>0.194855</td>\n",
       "      <td>0.300469</td>\n",
       "    </tr>\n",
       "    <tr>\n",
       "      <th>(a{a,DET},)</th>\n",
       "      <td>0.592582</td>\n",
       "      <td>0.395472</td>\n",
       "      <td>0.635047</td>\n",
       "      <td>0.453539</td>\n",
       "      <td>0.292145</td>\n",
       "      <td>0.364275</td>\n",
       "      <td>0.592582</td>\n",
       "      <td>0.245613</td>\n",
       "      <td>0.291600</td>\n",
       "    </tr>\n",
       "    <tr>\n",
       "      <th>(maroon{maroon,ADJ},)</th>\n",
       "      <td>0.076979</td>\n",
       "      <td>0.090822</td>\n",
       "      <td>0.030187</td>\n",
       "      <td>0.058698</td>\n",
       "      <td>0.159212</td>\n",
       "      <td>0.015186</td>\n",
       "      <td>0.076979</td>\n",
       "      <td>0.135726</td>\n",
       "      <td>0.090673</td>\n",
       "    </tr>\n",
       "    <tr>\n",
       "      <th>(shirt{shirt,NOUN},)</th>\n",
       "      <td>0.207242</td>\n",
       "      <td>0.214158</td>\n",
       "      <td>0.256434</td>\n",
       "      <td>0.281335</td>\n",
       "      <td>0.326803</td>\n",
       "      <td>0.189128</td>\n",
       "      <td>0.207242</td>\n",
       "      <td>0.142237</td>\n",
       "      <td>0.218576</td>\n",
       "    </tr>\n",
       "    <tr>\n",
       "      <th>(playing{play,VERB},)</th>\n",
       "      <td>0.338178</td>\n",
       "      <td>0.274601</td>\n",
       "      <td>0.325514</td>\n",
       "      <td>0.482399</td>\n",
       "      <td>0.242746</td>\n",
       "      <td>0.246129</td>\n",
       "      <td>0.338178</td>\n",
       "      <td>0.146186</td>\n",
       "      <td>0.249423</td>\n",
       "    </tr>\n",
       "    <tr>\n",
       "      <th>(next{next,ADV},)</th>\n",
       "      <td>0.615340</td>\n",
       "      <td>0.353080</td>\n",
       "      <td>0.454186</td>\n",
       "      <td>0.532281</td>\n",
       "      <td>0.294777</td>\n",
       "      <td>0.357690</td>\n",
       "      <td>0.615340</td>\n",
       "      <td>0.179694</td>\n",
       "      <td>0.348170</td>\n",
       "    </tr>\n",
       "    <tr>\n",
       "      <th>(to{to,ADP},)</th>\n",
       "      <td>0.587738</td>\n",
       "      <td>0.401759</td>\n",
       "      <td>0.405487</td>\n",
       "      <td>0.442979</td>\n",
       "      <td>0.262394</td>\n",
       "      <td>0.507419</td>\n",
       "      <td>0.587738</td>\n",
       "      <td>0.157663</td>\n",
       "      <td>0.358275</td>\n",
       "    </tr>\n",
       "    <tr>\n",
       "      <th>(a{a,DET},)</th>\n",
       "      <td>0.592582</td>\n",
       "      <td>0.395472</td>\n",
       "      <td>0.635047</td>\n",
       "      <td>0.453539</td>\n",
       "      <td>0.292145</td>\n",
       "      <td>0.364275</td>\n",
       "      <td>0.592582</td>\n",
       "      <td>0.245613</td>\n",
       "      <td>0.291600</td>\n",
       "    </tr>\n",
       "    <tr>\n",
       "      <th>(fountain{fountain,NOUN},)</th>\n",
       "      <td>0.258244</td>\n",
       "      <td>0.143708</td>\n",
       "      <td>0.233714</td>\n",
       "      <td>0.165309</td>\n",
       "      <td>0.259916</td>\n",
       "      <td>0.149354</td>\n",
       "      <td>0.258244</td>\n",
       "      <td>1.000000</td>\n",
       "      <td>0.138824</td>\n",
       "    </tr>\n",
       "    <tr>\n",
       "      <th>(.{.,PUNCT},)</th>\n",
       "      <td>0.311351</td>\n",
       "      <td>0.261569</td>\n",
       "      <td>0.381103</td>\n",
       "      <td>0.331160</td>\n",
       "      <td>0.262965</td>\n",
       "      <td>0.273883</td>\n",
       "      <td>0.311351</td>\n",
       "      <td>0.138824</td>\n",
       "      <td>1.000000</td>\n",
       "    </tr>\n",
       "  </tbody>\n",
       "</table>\n",
       "</div>"
      ],
      "text/plain": [
       "                            (the{the,DET},)  (child{child,NOUN},)  \\\n",
       "(a{a,DET},)                        0.592582              0.395472   \n",
       "(child{child,NOUN},)               0.356418              1.000000   \n",
       "(in{in,ADP},)                      0.555486              0.332690   \n",
       "(a{a,DET},)                        0.592582              0.395472   \n",
       "(maroon{maroon,ADJ},)              0.076979              0.090822   \n",
       "(shirt{shirt,NOUN},)               0.207242              0.214158   \n",
       "(playing{play,VERB},)              0.338178              0.274601   \n",
       "(next{next,ADV},)                  0.615340              0.353080   \n",
       "(to{to,ADP},)                      0.587738              0.401759   \n",
       "(a{a,DET},)                        0.592582              0.395472   \n",
       "(fountain{fountain,NOUN},)         0.258244              0.143708   \n",
       "(.{.,PUNCT},)                      0.311351              0.261569   \n",
       "\n",
       "                            (is{be,VERB},)  (getting{get,VERB},)  \\\n",
       "(a{a,DET},)                       0.635047              0.453539   \n",
       "(child{child,NOUN},)              0.386440              0.358259   \n",
       "(in{in,ADP},)                     0.421469              0.366236   \n",
       "(a{a,DET},)                       0.635047              0.453539   \n",
       "(maroon{maroon,ADJ},)             0.030187              0.058698   \n",
       "(shirt{shirt,NOUN},)              0.256434              0.281335   \n",
       "(playing{play,VERB},)             0.325514              0.482399   \n",
       "(next{next,ADV},)                 0.454186              0.532281   \n",
       "(to{to,ADP},)                     0.405487              0.442979   \n",
       "(a{a,DET},)                       0.635047              0.453539   \n",
       "(fountain{fountain,NOUN},)        0.233714              0.165309   \n",
       "(.{.,PUNCT},)                     0.381103              0.331160   \n",
       "\n",
       "                            (wet{wet,NOUN},)  (from{from,ADP},)  \\\n",
       "(a{a,DET},)                         0.292145           0.364275   \n",
       "(child{child,NOUN},)                0.199049           0.296287   \n",
       "(in{in,ADP},)                       0.270731           0.458216   \n",
       "(a{a,DET},)                         0.292145           0.364275   \n",
       "(maroon{maroon,ADJ},)               0.159212           0.015186   \n",
       "(shirt{shirt,NOUN},)                0.326803           0.189128   \n",
       "(playing{play,VERB},)               0.242746           0.246129   \n",
       "(next{next,ADV},)                   0.294777           0.357690   \n",
       "(to{to,ADP},)                       0.262394           0.507419   \n",
       "(a{a,DET},)                         0.292145           0.364275   \n",
       "(fountain{fountain,NOUN},)          0.259916           0.149354   \n",
       "(.{.,PUNCT},)                       0.262965           0.273883   \n",
       "\n",
       "                            (the{the,DET},)  (fountain{fountain,NOUN},)  \\\n",
       "(a{a,DET},)                        0.592582                    0.245613   \n",
       "(child{child,NOUN},)               0.356418                    0.143708   \n",
       "(in{in,ADP},)                      0.555486                    0.194855   \n",
       "(a{a,DET},)                        0.592582                    0.245613   \n",
       "(maroon{maroon,ADJ},)              0.076979                    0.135726   \n",
       "(shirt{shirt,NOUN},)               0.207242                    0.142237   \n",
       "(playing{play,VERB},)              0.338178                    0.146186   \n",
       "(next{next,ADV},)                  0.615340                    0.179694   \n",
       "(to{to,ADP},)                      0.587738                    0.157663   \n",
       "(a{a,DET},)                        0.592582                    0.245613   \n",
       "(fountain{fountain,NOUN},)         0.258244                    1.000000   \n",
       "(.{.,PUNCT},)                      0.311351                    0.138824   \n",
       "\n",
       "                            (.{.,PUNCT},)  \n",
       "(a{a,DET},)                      0.291600  \n",
       "(child{child,NOUN},)             0.261569  \n",
       "(in{in,ADP},)                    0.300469  \n",
       "(a{a,DET},)                      0.291600  \n",
       "(maroon{maroon,ADJ},)            0.090673  \n",
       "(shirt{shirt,NOUN},)             0.218576  \n",
       "(playing{play,VERB},)            0.249423  \n",
       "(next{next,ADV},)                0.348170  \n",
       "(to{to,ADP},)                    0.358275  \n",
       "(a{a,DET},)                      0.291600  \n",
       "(fountain{fountain,NOUN},)       0.138824  \n",
       "(.{.,PUNCT},)                    1.000000  "
      ]
     },
     "execution_count": 62,
     "metadata": {},
     "output_type": "execute_result"
    }
   ],
   "source": [
    "#ma=pd.DataFrame(df.at[indice,\"M_Align\"][1:len(t)+1,1:len(h)+1],columns=h,index=t)\n",
    "ma=pd.DataFrame(np.dot(texto1[1:len(t)],hipotesis1[1:len(h)].T),index=t[1:],columns=h[1:])\n",
    "#ma=pd.DataFrame(np.dot(hipotesis1[1:len(h)],hipotesis1[1:len(h)].T),index=h[1:],columns=h[1:])\n",
    "ma"
   ]
  },
  {
   "cell_type": "code",
   "execution_count": 63,
   "metadata": {},
   "outputs": [],
   "source": [
    "col=ma.columns\n",
    "borrar=[]\n",
    "for c in col:\n",
    "    if (\"NOUN\" not in str(c) and \"VERB\" not in str(c) and \"ADJ\" not in str(c) and \"ADV\" not in str(c)) or \"be,VERB\" in str(c) :\n",
    "        borrar.append(c)        \n",
    "borrar=list(set(borrar))"
   ]
  },
  {
   "cell_type": "code",
   "execution_count": 64,
   "metadata": {},
   "outputs": [],
   "source": [
    "ma=ma.drop(borrar,axis=1)"
   ]
  },
  {
   "cell_type": "code",
   "execution_count": 66,
   "metadata": {},
   "outputs": [],
   "source": [
    "borrar_i=[]\n",
    "for index,strings in ma.iterrows():\n",
    "    lema_i=str(index).split(\"{\")[1].split(\",\")[0]\n",
    "    if (\"NOUN\" not in str(index) and \"VERB\" not in str(index) and \"ADJ\" not in str(index) and \"ADV\" not in str(index)) or \"be,VERB\" in str(index) :\n",
    "        borrar_i.append(index)      \n",
    "    for c in col:\n",
    "        if index==c:\n",
    "            borrar_i.append(index)\n",
    "            borrar.append(c)\n",
    "        # if strings[c]>=1:\n",
    "        #     borrar_i.append(index)\n",
    "        #     borrar.append(c)\n",
    "        lema_c=str(c).split(\"{\")[1].split(\",\")[0]\n",
    "        if lema_i == lema_c:\n",
    "            borrar_i.append(index)\n",
    "            borrar.append(c)\n",
    "borrar_i=list(set(borrar_i))"
   ]
  },
  {
   "cell_type": "code",
   "execution_count": 67,
   "metadata": {},
   "outputs": [
    {
     "data": {
      "text/html": [
       "<div>\n",
       "<style scoped>\n",
       "    .dataframe tbody tr th:only-of-type {\n",
       "        vertical-align: middle;\n",
       "    }\n",
       "\n",
       "    .dataframe tbody tr th {\n",
       "        vertical-align: top;\n",
       "    }\n",
       "\n",
       "    .dataframe thead th {\n",
       "        text-align: right;\n",
       "    }\n",
       "</style>\n",
       "<table border=\"1\" class=\"dataframe\">\n",
       "  <thead>\n",
       "    <tr style=\"text-align: right;\">\n",
       "      <th></th>\n",
       "      <th>(child{child,NOUN},)</th>\n",
       "      <th>(getting{get,VERB},)</th>\n",
       "      <th>(wet{wet,NOUN},)</th>\n",
       "      <th>(fountain{fountain,NOUN},)</th>\n",
       "    </tr>\n",
       "  </thead>\n",
       "  <tbody>\n",
       "    <tr>\n",
       "      <th>(maroon{maroon,ADJ},)</th>\n",
       "      <td>0.090822</td>\n",
       "      <td>0.058698</td>\n",
       "      <td>0.159212</td>\n",
       "      <td>0.135726</td>\n",
       "    </tr>\n",
       "    <tr>\n",
       "      <th>(shirt{shirt,NOUN},)</th>\n",
       "      <td>0.214158</td>\n",
       "      <td>0.281335</td>\n",
       "      <td>0.326803</td>\n",
       "      <td>0.142237</td>\n",
       "    </tr>\n",
       "    <tr>\n",
       "      <th>(playing{play,VERB},)</th>\n",
       "      <td>0.274601</td>\n",
       "      <td>0.482399</td>\n",
       "      <td>0.242746</td>\n",
       "      <td>0.146186</td>\n",
       "    </tr>\n",
       "    <tr>\n",
       "      <th>(next{next,ADV},)</th>\n",
       "      <td>0.353080</td>\n",
       "      <td>0.532281</td>\n",
       "      <td>0.294777</td>\n",
       "      <td>0.179694</td>\n",
       "    </tr>\n",
       "  </tbody>\n",
       "</table>\n",
       "</div>"
      ],
      "text/plain": [
       "                       (child{child,NOUN},)  (getting{get,VERB},)  \\\n",
       "(maroon{maroon,ADJ},)              0.090822              0.058698   \n",
       "(shirt{shirt,NOUN},)               0.214158              0.281335   \n",
       "(playing{play,VERB},)              0.274601              0.482399   \n",
       "(next{next,ADV},)                  0.353080              0.532281   \n",
       "\n",
       "                       (wet{wet,NOUN},)  (fountain{fountain,NOUN},)  \n",
       "(maroon{maroon,ADJ},)          0.159212                    0.135726  \n",
       "(shirt{shirt,NOUN},)           0.326803                    0.142237  \n",
       "(playing{play,VERB},)          0.242746                    0.146186  \n",
       "(next{next,ADV},)              0.294777                    0.179694  "
      ]
     },
     "execution_count": 67,
     "metadata": {},
     "output_type": "execute_result"
    }
   ],
   "source": [
    "\n",
    "ma=ma.drop(borrar_i,axis=0)\n",
    "ma"
   ]
  },
  {
   "cell_type": "code",
   "execution_count": 68,
   "metadata": {},
   "outputs": [
    {
     "data": {
      "text/plain": [
       "(maroon{maroon,ADJ},)        (wet{wet,NOUN},)\n",
       "(shirt{shirt,NOUN},)         (wet{wet,NOUN},)\n",
       "(playing{play,VERB},)    (getting{get,VERB},)\n",
       "(next{next,ADV},)        (getting{get,VERB},)\n",
       "dtype: object"
      ]
     },
     "execution_count": 68,
     "metadata": {},
     "output_type": "execute_result"
    }
   ],
   "source": [
    "ma.T.idxmax()"
   ]
  },
  {
   "cell_type": "code",
   "execution_count": 70,
   "metadata": {},
   "outputs": [
    {
     "name": "stdout",
     "output_type": "stream",
     "text": [
      "(child{child,NOUN},)             (next{next,ADV},)\n",
      "(getting{get,VERB},)             (next{next,ADV},)\n",
      "(wet{wet,NOUN},)              (shirt{shirt,NOUN},)\n",
      "(fountain{fountain,NOUN},)       (next{next,ADV},)\n",
      "dtype: object\n"
     ]
    }
   ],
   "source": [
    "print(ma.idxmax())"
   ]
  },
  {
   "cell_type": "code",
   "execution_count": 71,
   "metadata": {},
   "outputs": [
    {
     "data": {
      "text/plain": [
       "0.9786885976791382"
      ]
     },
     "execution_count": 71,
     "metadata": {},
     "output_type": "execute_result"
    }
   ],
   "source": [
    "ma.sum().sum()/ma.shape[0]"
   ]
  },
  {
   "cell_type": "code",
   "execution_count": 72,
   "metadata": {},
   "outputs": [
    {
     "data": {
      "text/plain": [
       "<Axes: >"
      ]
     },
     "execution_count": 72,
     "metadata": {},
     "output_type": "execute_result"
    },
    {
     "data": {
      "image/png": "[encoded data removed]",
      "text/plain": [
       "<Figure size 1000x1000 with 2 Axes>"
      ]
     },
     "metadata": {},
     "output_type": "display_data"
    }
   ],
   "source": [
    "import matplotlib.pyplot as plt\n",
    "fig, ax = plt.subplots(figsize=(10,10))\n",
    "sns.heatmap(ma, center=0, cmap='Blues_r', annot=True, fmt='.2f')"
   ]
  },
  {
   "cell_type": "code",
   "execution_count": 73,
   "metadata": {},
   "outputs": [
    {
     "data": {
      "text/plain": [
       "1.3918577"
      ]
     },
     "execution_count": 73,
     "metadata": {},
     "output_type": "execute_result"
    }
   ],
   "source": [
    "ma.max().sum()"
   ]
  },
  {
   "cell_type": "code",
   "execution_count": 74,
   "metadata": {},
   "outputs": [
    {
     "data": {
      "text/plain": [
       "Index([('maroon{maroon,ADJ}',),  ('shirt{shirt,NOUN}',),\n",
       "       ('playing{play,VERB}',),     ('next{next,ADV}',)],\n",
       "      dtype='object')"
      ]
     },
     "execution_count": 74,
     "metadata": {},
     "output_type": "execute_result"
    }
   ],
   "source": [
    "ma.index"
   ]
  },
  {
   "cell_type": "markdown",
   "metadata": {},
   "source": [
    "# Checar cuant suma la información por clase"
   ]
  },
  {
   "cell_type": "code",
   "execution_count": 75,
   "metadata": {},
   "outputs": [],
   "source": [
    "prueba=pd.read_csv(\"data/prueba.csv\")"
   ]
  },
  {
   "cell_type": "code",
   "execution_count": 76,
   "metadata": {},
   "outputs": [
    {
     "data": {
      "text/html": [
       "<div>\n",
       "<style scoped>\n",
       "    .dataframe tbody tr th:only-of-type {\n",
       "        vertical-align: middle;\n",
       "    }\n",
       "\n",
       "    .dataframe tbody tr th {\n",
       "        vertical-align: top;\n",
       "    }\n",
       "\n",
       "    .dataframe thead th {\n",
       "        text-align: right;\n",
       "    }\n",
       "</style>\n",
       "<table border=\"1\" class=\"dataframe\">\n",
       "  <thead>\n",
       "    <tr style=\"text-align: right;\">\n",
       "      <th></th>\n",
       "      <th>Unnamed: 0.1</th>\n",
       "      <th>Unnamed: 0</th>\n",
       "      <th>gold_label</th>\n",
       "      <th>sentence1</th>\n",
       "      <th>sentence2</th>\n",
       "      <th>SET</th>\n",
       "    </tr>\n",
       "  </thead>\n",
       "  <tbody>\n",
       "    <tr>\n",
       "      <th>0</th>\n",
       "      <td>568111</td>\n",
       "      <td>558275</td>\n",
       "      <td>entailment</td>\n",
       "      <td>A man wearing a blue shirt, black apron, eyegl...</td>\n",
       "      <td>A person in appropriate institution protection...</td>\n",
       "      <td>TEST</td>\n",
       "    </tr>\n",
       "    <tr>\n",
       "      <th>1</th>\n",
       "      <td>568812</td>\n",
       "      <td>558976</td>\n",
       "      <td>entailment</td>\n",
       "      <td>A man dressed in a red shirt and black tie sta...</td>\n",
       "      <td>a guy in a red top and tie makes a speech</td>\n",
       "      <td>TEST</td>\n",
       "    </tr>\n",
       "    <tr>\n",
       "      <th>2</th>\n",
       "      <td>560781</td>\n",
       "      <td>550939</td>\n",
       "      <td>contradiction</td>\n",
       "      <td>A young boy runs across a road in front of a s...</td>\n",
       "      <td>A boy sleeps in his bed.</td>\n",
       "      <td>TEST</td>\n",
       "    </tr>\n",
       "    <tr>\n",
       "      <th>3</th>\n",
       "      <td>565799</td>\n",
       "      <td>555963</td>\n",
       "      <td>contradiction</td>\n",
       "      <td>An Asian woman is standing on a path with a ba...</td>\n",
       "      <td>Nobody is standing</td>\n",
       "      <td>TEST</td>\n",
       "    </tr>\n",
       "    <tr>\n",
       "      <th>4</th>\n",
       "      <td>562665</td>\n",
       "      <td>552829</td>\n",
       "      <td>neutral</td>\n",
       "      <td>A child in a maroon shirt playing next to a fo...</td>\n",
       "      <td>The child is getting wet from the fountain.</td>\n",
       "      <td>TEST</td>\n",
       "    </tr>\n",
       "    <tr>\n",
       "      <th>...</th>\n",
       "      <td>...</td>\n",
       "      <td>...</td>\n",
       "      <td>...</td>\n",
       "      <td>...</td>\n",
       "      <td>...</td>\n",
       "      <td>...</td>\n",
       "    </tr>\n",
       "    <tr>\n",
       "      <th>95</th>\n",
       "      <td>567068</td>\n",
       "      <td>557232</td>\n",
       "      <td>entailment</td>\n",
       "      <td>A group of men in blue shirts, banded hats, an...</td>\n",
       "      <td>a bunch of guys in colorful clothes stand toge...</td>\n",
       "      <td>TEST</td>\n",
       "    </tr>\n",
       "    <tr>\n",
       "      <th>96</th>\n",
       "      <td>568650</td>\n",
       "      <td>558814</td>\n",
       "      <td>entailment</td>\n",
       "      <td>A woman holding a newborn baby.</td>\n",
       "      <td>woman holds baby</td>\n",
       "      <td>TEST</td>\n",
       "    </tr>\n",
       "    <tr>\n",
       "      <th>97</th>\n",
       "      <td>559485</td>\n",
       "      <td>549643</td>\n",
       "      <td>contradiction</td>\n",
       "      <td>A skateboarding youth does a trick on a rail.</td>\n",
       "      <td>A man painting a tree.</td>\n",
       "      <td>TEST</td>\n",
       "    </tr>\n",
       "    <tr>\n",
       "      <th>98</th>\n",
       "      <td>559755</td>\n",
       "      <td>549913</td>\n",
       "      <td>contradiction</td>\n",
       "      <td>Four children are playing in some water.</td>\n",
       "      <td>The children are doing chores.</td>\n",
       "      <td>TEST</td>\n",
       "    </tr>\n",
       "    <tr>\n",
       "      <th>99</th>\n",
       "      <td>561555</td>\n",
       "      <td>551716</td>\n",
       "      <td>contradiction</td>\n",
       "      <td>Three men dressed in suits and ties clasps the...</td>\n",
       "      <td>One of the men is actually sasquatch.</td>\n",
       "      <td>TEST</td>\n",
       "    </tr>\n",
       "  </tbody>\n",
       "</table>\n",
       "<p>100 rows × 6 columns</p>\n",
       "</div>"
      ],
      "text/plain": [
       "    Unnamed: 0.1  Unnamed: 0     gold_label  \\\n",
       "0         568111      558275     entailment   \n",
       "1         568812      558976     entailment   \n",
       "2         560781      550939  contradiction   \n",
       "3         565799      555963  contradiction   \n",
       "4         562665      552829        neutral   \n",
       "..           ...         ...            ...   \n",
       "95        567068      557232     entailment   \n",
       "96        568650      558814     entailment   \n",
       "97        559485      549643  contradiction   \n",
       "98        559755      549913  contradiction   \n",
       "99        561555      551716  contradiction   \n",
       "\n",
       "                                            sentence1  \\\n",
       "0   A man wearing a blue shirt, black apron, eyegl...   \n",
       "1   A man dressed in a red shirt and black tie sta...   \n",
       "2   A young boy runs across a road in front of a s...   \n",
       "3   An Asian woman is standing on a path with a ba...   \n",
       "4   A child in a maroon shirt playing next to a fo...   \n",
       "..                                                ...   \n",
       "95  A group of men in blue shirts, banded hats, an...   \n",
       "96                    A woman holding a newborn baby.   \n",
       "97      A skateboarding youth does a trick on a rail.   \n",
       "98           Four children are playing in some water.   \n",
       "99  Three men dressed in suits and ties clasps the...   \n",
       "\n",
       "                                            sentence2   SET  \n",
       "0   A person in appropriate institution protection...  TEST  \n",
       "1           a guy in a red top and tie makes a speech  TEST  \n",
       "2                            A boy sleeps in his bed.  TEST  \n",
       "3                                  Nobody is standing  TEST  \n",
       "4         The child is getting wet from the fountain.  TEST  \n",
       "..                                                ...   ...  \n",
       "95  a bunch of guys in colorful clothes stand toge...  TEST  \n",
       "96                                   woman holds baby  TEST  \n",
       "97                             A man painting a tree.  TEST  \n",
       "98                     The children are doing chores.  TEST  \n",
       "99              One of the men is actually sasquatch.  TEST  \n",
       "\n",
       "[100 rows x 6 columns]"
      ]
     },
     "execution_count": 76,
     "metadata": {},
     "output_type": "execute_result"
    }
   ],
   "source": [
    "prueba"
   ]
  },
  {
   "cell_type": "code",
   "execution_count": 77,
   "metadata": {},
   "outputs": [],
   "source": [
    "def entropia(X):\n",
    "    \"\"\"Devuelve el valor de entropia de una muestra de datos\"\"\" \n",
    "    probs = [np.mean(X == valor) for valor in set(X)]\n",
    "    return -round(sum(p * np.log2(p) for p in probs), 3)"
   ]
  },
  {
   "cell_type": "code",
   "execution_count": 78,
   "metadata": {},
   "outputs": [],
   "source": [
    "import time\n"
   ]
  },
  {
   "cell_type": "code",
   "execution_count": 99,
   "metadata": {},
   "outputs": [
    {
     "name": "stdout",
     "output_type": "stream",
     "text": [
      "0\n",
      "man  is_a  person\n",
      "food  related_to  meal\n",
      "1\n",
      "guy  is_a  man\n",
      "dress  related_to  top\n",
      "2\n",
      "3\n",
      "4\n",
      "5\n",
      "6\n",
      "7\n",
      "8\n",
      "snow  is_a  weather\n",
      "play  related_to  enjoy\n",
      "9\n"
     ]
    },
    {
     "name": "stderr",
     "output_type": "stream",
     "text": [
      "/tmp/ipykernel_108212/2476662664.py:173: RuntimeWarning: invalid value encountered in scalar divide\n",
      "  max_info.append((maalign.max().sum()/(maalign.shape[1])))\n"
     ]
    },
    {
     "name": "stdout",
     "output_type": "stream",
     "text": [
      "10\n",
      "11\n",
      "lawn  is_a  grass\n",
      "father  related_to  man\n",
      "12\n",
      "man  antonym  people\n",
      "man  antonym  people\n",
      "man  related_to  people\n",
      "13\n",
      "14\n",
      "girl  is_a  child\n",
      "15\n",
      "16\n"
     ]
    },
    {
     "name": "stderr",
     "output_type": "stream",
     "text": [
      "/tmp/ipykernel_108212/2476662664.py:173: RuntimeWarning: invalid value encountered in scalar divide\n",
      "  max_info.append((maalign.max().sum()/(maalign.shape[1])))\n"
     ]
    },
    {
     "name": "stdout",
     "output_type": "stream",
     "text": [
      "17\n",
      "water  related_to  lake\n",
      "18\n",
      "lady  is_a  woman\n",
      "dog  antonym  cat\n",
      "dog  antonym  cat\n",
      "dog  related_to  cat\n",
      "19\n",
      "boy  is_a  child\n",
      "20\n"
     ]
    },
    {
     "name": "stderr",
     "output_type": "stream",
     "text": [
      "/tmp/ipykernel_108212/2476662664.py:173: RuntimeWarning: invalid value encountered in scalar divide\n",
      "  max_info.append((maalign.max().sum()/(maalign.shape[1])))\n"
     ]
    },
    {
     "name": "stdout",
     "output_type": "stream",
     "text": [
      "21\n"
     ]
    },
    {
     "name": "stderr",
     "output_type": "stream",
     "text": [
      "/tmp/ipykernel_108212/2476662664.py:173: RuntimeWarning: invalid value encountered in scalar divide\n",
      "  max_info.append((maalign.max().sum()/(maalign.shape[1])))\n"
     ]
    },
    {
     "name": "stdout",
     "output_type": "stream",
     "text": [
      "22\n",
      "23\n",
      "24\n",
      "25\n"
     ]
    },
    {
     "name": "stderr",
     "output_type": "stream",
     "text": [
      "/tmp/ipykernel_108212/2476662664.py:173: RuntimeWarning: invalid value encountered in scalar divide\n",
      "  max_info.append((maalign.max().sum()/(maalign.shape[1])))\n"
     ]
    },
    {
     "name": "stdout",
     "output_type": "stream",
     "text": [
      "shadow  antonym  light\n",
      "shadow  antonym  light\n",
      "shadow  related_to  light\n",
      "26\n",
      "ball  related_to  play\n",
      "ball  related_to  game\n",
      "27\n",
      "28\n",
      "man  antonym  people\n",
      "man  antonym  people\n",
      "man  related_to  people\n",
      "book  related_to  reading\n",
      "book  related_to  material\n",
      "29\n",
      "30\n",
      "guy  is_a  man\n",
      "31\n",
      "child  antonym  adult\n",
      "child  antonym  adult\n",
      "child  related_to  adult\n",
      "32\n",
      "woman  is_a  man\n",
      "33\n",
      "celebrate  related_to  celebration\n",
      "34\n",
      "man  related_to  people\n",
      "35\n",
      "dress  related_to  girl\n",
      "young  related_to  new\n",
      "36\n",
      "37\n"
     ]
    },
    {
     "name": "stderr",
     "output_type": "stream",
     "text": [
      "/tmp/ipykernel_108212/2476662664.py:173: RuntimeWarning: invalid value encountered in scalar divide\n",
      "  max_info.append((maalign.max().sum()/(maalign.shape[1])))\n"
     ]
    },
    {
     "name": "stdout",
     "output_type": "stream",
     "text": [
      "father  is_a  man\n",
      "son  is_a  child\n",
      "38\n",
      "39\n",
      "cellphone  is_a  phone\n",
      "40\n",
      "41\n",
      "42\n",
      "43\n",
      "44\n",
      "shirtless  related_to  shirt\n",
      "tie  related_to  wear\n",
      "45\n",
      "drawing  is_a  art\n",
      "46\n",
      "47\n",
      "48\n"
     ]
    },
    {
     "name": "stderr",
     "output_type": "stream",
     "text": [
      "/tmp/ipykernel_108212/2476662664.py:173: RuntimeWarning: invalid value encountered in scalar divide\n",
      "  max_info.append((maalign.max().sum()/(maalign.shape[1])))\n"
     ]
    },
    {
     "name": "stdout",
     "output_type": "stream",
     "text": [
      "middle  distinct from  back\n",
      "middle  distinct from  back\n",
      "wave  related_to  ocean\n",
      "49\n",
      "50\n"
     ]
    },
    {
     "name": "stderr",
     "output_type": "stream",
     "text": [
      "/tmp/ipykernel_108212/2476662664.py:173: RuntimeWarning: invalid value encountered in scalar divide\n",
      "  max_info.append((maalign.max().sum()/(maalign.shape[1])))\n"
     ]
    },
    {
     "name": "stdout",
     "output_type": "stream",
     "text": [
      "51\n",
      "52\n",
      "53\n",
      "man  is_a  person\n",
      "54\n",
      "55\n"
     ]
    },
    {
     "name": "stderr",
     "output_type": "stream",
     "text": [
      "/tmp/ipykernel_108212/2476662664.py:173: RuntimeWarning: invalid value encountered in scalar divide\n",
      "  max_info.append((maalign.max().sum()/(maalign.shape[1])))\n"
     ]
    },
    {
     "name": "stdout",
     "output_type": "stream",
     "text": [
      "56\n",
      "57\n",
      "swan  is_a  bird\n",
      "58\n",
      "59\n",
      "60\n",
      "bicycle  is_a  bike\n",
      "61\n",
      "62\n",
      "63\n",
      "grass  related_to  outside\n",
      "64\n",
      "man  is_a  person\n",
      "table  related_to  half\n",
      "box  related_to  conceal\n",
      "box  related_to  device\n",
      "65\n",
      "66\n"
     ]
    },
    {
     "name": "stderr",
     "output_type": "stream",
     "text": [
      "/tmp/ipykernel_108212/2476662664.py:173: RuntimeWarning: invalid value encountered in scalar divide\n",
      "  max_info.append((maalign.max().sum()/(maalign.shape[1])))\n"
     ]
    },
    {
     "name": "stdout",
     "output_type": "stream",
     "text": [
      "67\n",
      "guy  is_a  man\n",
      "68\n",
      "woman  is_a  person\n",
      "69\n",
      "woman  is_a  man\n",
      "70\n"
     ]
    },
    {
     "name": "stderr",
     "output_type": "stream",
     "text": [
      "/tmp/ipykernel_108212/2476662664.py:173: RuntimeWarning: invalid value encountered in scalar divide\n",
      "  max_info.append((maalign.max().sum()/(maalign.shape[1])))\n"
     ]
    },
    {
     "name": "stdout",
     "output_type": "stream",
     "text": [
      "71\n",
      "woman  is_a  man\n",
      "fill  related_to  put\n",
      "72\n",
      "guy  is_a  man\n",
      "bite  related_to  eat\n",
      "73\n",
      "male  related_to  boy\n",
      "74\n",
      "75\n",
      "reach  related_to  hold\n",
      "reach  related_to  hand\n",
      "76\n",
      "77\n",
      "78\n"
     ]
    },
    {
     "name": "stderr",
     "output_type": "stream",
     "text": [
      "/tmp/ipykernel_108212/2476662664.py:173: RuntimeWarning: invalid value encountered in scalar divide\n",
      "  max_info.append((maalign.max().sum()/(maalign.shape[1])))\n"
     ]
    },
    {
     "name": "stdout",
     "output_type": "stream",
     "text": [
      "79\n",
      "street  related_to  yellow\n",
      "orange  related_to  yellow\n",
      "80\n",
      "stretch  related_to  wide\n",
      "stretch  related_to  make\n",
      "stretch  related_to  wide\n",
      "stretch  related_to  make\n",
      "81\n",
      "wreck  related_to  damage\n",
      "82\n",
      "man  related_to  people\n",
      "city  related_to  people\n",
      "street  related_to  people\n",
      "street  related_to  outside\n",
      "83\n"
     ]
    },
    {
     "name": "stderr",
     "output_type": "stream",
     "text": [
      "/tmp/ipykernel_108212/2476662664.py:173: RuntimeWarning: invalid value encountered in scalar divide\n",
      "  max_info.append((maalign.max().sum()/(maalign.shape[1])))\n"
     ]
    },
    {
     "name": "stdout",
     "output_type": "stream",
     "text": [
      "84\n",
      "boy  antonym  girl\n",
      "boy  antonym  girl\n",
      "boy  related_to  girl\n",
      "85\n"
     ]
    },
    {
     "name": "stderr",
     "output_type": "stream",
     "text": [
      "/tmp/ipykernel_108212/2476662664.py:173: RuntimeWarning: invalid value encountered in scalar divide\n",
      "  max_info.append((maalign.max().sum()/(maalign.shape[1])))\n",
      "/tmp/ipykernel_108212/2476662664.py:173: RuntimeWarning: invalid value encountered in scalar divide\n",
      "  max_info.append((maalign.max().sum()/(maalign.shape[1])))\n"
     ]
    },
    {
     "name": "stdout",
     "output_type": "stream",
     "text": [
      "86\n",
      "87\n",
      "88\n",
      "mother  antonym  father\n",
      "mother  antonym  father\n",
      "mother  related_to  father\n",
      "89\n",
      "red  antonym  blue\n",
      "red  antonym  blue\n",
      "90\n",
      "boy  is_a  child\n",
      "91\n",
      "lady  related_to  young\n",
      "audience  related_to  people\n",
      "house  related_to  people\n",
      "92\n",
      "93\n"
     ]
    },
    {
     "name": "stderr",
     "output_type": "stream",
     "text": [
      "/tmp/ipykernel_108212/2476662664.py:173: RuntimeWarning: invalid value encountered in scalar divide\n",
      "  max_info.append((maalign.max().sum()/(maalign.shape[1])))\n"
     ]
    },
    {
     "name": "stdout",
     "output_type": "stream",
     "text": [
      "94\n",
      "act  related_to  movie\n",
      "95\n",
      "guy  is_a  man\n",
      "shirt  related_to  clothe\n",
      "96\n",
      "97\n"
     ]
    },
    {
     "name": "stderr",
     "output_type": "stream",
     "text": [
      "/tmp/ipykernel_108212/2476662664.py:173: RuntimeWarning: invalid value encountered in scalar divide\n",
      "  max_info.append((maalign.max().sum()/(maalign.shape[1])))\n"
     ]
    },
    {
     "name": "stdout",
     "output_type": "stream",
     "text": [
      "youth  related_to  man\n",
      "98\n",
      "play  related_to  do\n",
      "99\n"
     ]
    }
   ],
   "source": [
    "sumas=[]\n",
    "distancias=[]\n",
    "entropias=[]\n",
    "etiquetas=[]\n",
    "mearts=[]\n",
    "mutinf=[]\n",
    "max_info=[]\n",
    "list_antonimos=[]\n",
    "listas_malign=[]\n",
    "lista_anto=[]\n",
    "lista_related=[]\n",
    "lista_relatedT=[]\n",
    "for num, strings in df.iterrows():\n",
    "    print(num)\n",
    "    texto_2_t=df.at[num,\"Text\"]\n",
    "    hipotesis_2_t=df.at[num,\"Hipotesis\"]\n",
    "    texto_2=df.at[num,\"R_Text\"]\n",
    "    hipotesis_2=df.at[num,\"R_Hip\"]\n",
    "    if len(texto_2_t) > 41 and len(hipotesis_2_t) > 41:\n",
    "        max_t=41\n",
    "        max_h=41\n",
    "    elif len(texto_2_t) > 41:\n",
    "        max_t=41\n",
    "        max_h=len(hipotesis_2_t)\n",
    "    elif len(hipotesis_2_t) > 41:\n",
    "        max_h=41\n",
    "        max_t=len(texto_2_t)\n",
    "    else:\n",
    "        max_t=len(texto_2_t)\n",
    "        max_h=len(hipotesis_2_t)\n",
    "    lista_l=[]\n",
    "    lista_muinfor=[]    \n",
    "    for i in range(max_t):\n",
    "        lista=[]\n",
    "        lista_mu=[]\n",
    "        for j in range(max_h):\n",
    "            #lista.append()\n",
    "            lista.append(wasserstein_distance(texto_2[i],hipotesis_2[j]))\n",
    "            lista_mu.append(mi.mutual_information_2d(np.array(texto_2[i]),np.array(hipotesis_2[j])))\n",
    "        lista_l.append(lista)\n",
    "        lista_muinfor.append(lista_mu)\n",
    "    \n",
    "    meartrh=pd.DataFrame(lista_l[:],index=texto_2_t[:max_t],columns=hipotesis_2_t[:max_h])\n",
    "    MI_=pd.DataFrame(lista_muinfor[:],index=texto_2_t[:max_t],columns=hipotesis_2_t[:max_h])\n",
    "    maalign=pd.DataFrame(np.dot(texto_2[:max_t],hipotesis_2[:max_h].T),index=texto_2_t[:max_t],columns=hipotesis_2_t[:max_h])\n",
    "    col=maalign.columns\n",
    "    borrar=[]\n",
    "    indexes=maalign.index\n",
    "    for c in col:\n",
    "        if \"{null,\" in str(c) or \"{be,VERB\" in str(c) or (\"NOUN\" not in str(c) and \"VERB\" not in str(c) and \"ADJ\" not in str(c) and \"ADV\" not in str(c)):\n",
    "            borrar.append(c)        \n",
    "        elif str(c) in indexes:\n",
    "            borrar.append(c)        \n",
    "    borrar_i=[]\n",
    "    for index in indexes:\n",
    "        if \"{null,\" in str(index) or \"{be,VERB\" in str(index) or (\"NOUN\" not in str(index) and \"VERB\" not in str(index) and \"ADJ\" not in str(index) and \"ADV\" not in str(index)):\n",
    "            borrar_i.append(index) \n",
    "        elif str(index) in col:\n",
    "            borrar_i.append(index) \n",
    "    maalign=maalign.drop(borrar,axis=1)\n",
    "    maalign=maalign.drop(borrar_i,axis=0)\n",
    "    meartrh=meartrh.drop(borrar,axis=1)\n",
    "    meartrh=meartrh.drop(borrar_i,axis=0)\n",
    "    MI_=MI_.drop(borrar,axis=1)\n",
    "    MI_=MI_.drop(borrar_i,axis=0)\n",
    "    borrar=[]\n",
    "    borrar_i=[]\n",
    "    col=maalign.columns\n",
    "    for index,strings in maalign.iterrows():\n",
    "        lema_i=str(index).split(\"{\")[1].split(\",\")[0]\n",
    "        for c in col:\n",
    "            if index==c:\n",
    "                borrar_i.append(index)\n",
    "                borrar.append(c)\n",
    "            if strings[c]>=1:\n",
    "                borrar_i.append(index)\n",
    "                borrar.append(c)\n",
    "            lema_c=str(c).split(\"{\")[1].split(\",\")[0]\n",
    "            if lema_i == lema_c:\n",
    "                borrar_i.append(index)\n",
    "                borrar.append(c)\n",
    "    maalign=maalign.drop(borrar,axis=1)\n",
    "    maalign=maalign.drop(borrar_i,axis=0)\n",
    "    meartrh=meartrh.drop(borrar,axis=1)\n",
    "    meartrh=meartrh.drop(borrar_i,axis=0)\n",
    "    MI_=MI_.drop(borrar,axis=1)\n",
    "    MI_=MI_.drop(borrar_i,axis=0)\n",
    "    \n",
    "    #primera vuelta\n",
    "    a=maalign.idxmax().values\n",
    "    b=maalign.columns\n",
    "    rel=[]\n",
    "    for i in range(len(a)):\n",
    "        rel.append((a[i],b[i]))\n",
    "    a,b=encontrar_relaciones(rel[:])\n",
    "    maalign=maalign.drop(a,axis=1)\n",
    "    maalign=maalign.drop(b,axis=0)\n",
    "    meartrh=meartrh.drop(a,axis=1)\n",
    "    meartrh=meartrh.drop(b,axis=0)\n",
    "    MI_=MI_.drop(a,axis=1)\n",
    "    MI_=MI_.drop(b,axis=0)\n",
    "    \n",
    "    # relaciones contrarias\n",
    "    a=maalign.idxmax().values\n",
    "    b=maalign.columns\n",
    "    rel=[]\n",
    "    for i in range(len(a)):\n",
    "        rel.append((a[i],b[i]))\n",
    "    a,b,d=encontrar_relaciones_contrarias(rel[:])\n",
    "    maalign=maalign.drop(a,axis=1)\n",
    "    maalign=maalign.drop(b,axis=0)\n",
    "    meartrh=meartrh.drop(a,axis=1)\n",
    "    meartrh=meartrh.drop(b,axis=0)\n",
    "    MI_=MI_.drop(a,axis=1)\n",
    "    MI_=MI_.drop(b,axis=0)\n",
    "    \n",
    "    # #relaciones cercanas\n",
    "    # a=maalign.idxmax().values\n",
    "    # b=maalign.columns\n",
    "    # rel=[]\n",
    "    # for i in range(len(a)):\n",
    "    #     rel.append((a[i],b[i]))\n",
    "    # a,b,r_l1=encontrar_relaciones_cercanas(rel[:])\n",
    "    # maalign=maalign.drop(a,axis=1)\n",
    "    # maalign=maalign.drop(b,axis=0)\n",
    "    # meartrh=meartrh.drop(a,axis=1)\n",
    "    # meartrh=meartrh.drop(b,axis=0)\n",
    "    # MI_=MI_.drop(a,axis=1)\n",
    "    # MI_=MI_.drop(b,axis=0)\n",
    "\n",
    "    # segunda vuelta\n",
    "    a=maalign.idxmax().values\n",
    "    b=maalign.columns\n",
    "    rel=[]\n",
    "    for i in range(len(a)):\n",
    "        rel.append((a[i],b[i]))\n",
    "    a,b=encontrar_relaciones(rel[:])\n",
    "    maalign=maalign.drop(a,axis=1)\n",
    "    maalign=maalign.drop(b,axis=0)\n",
    "    meartrh=meartrh.drop(a,axis=1)\n",
    "    meartrh=meartrh.drop(b,axis=0)\n",
    "    MI_=MI_.drop(a,axis=1)\n",
    "    MI_=MI_.drop(b,axis=0)\n",
    "        \n",
    "    #relaciones contrarias quitar\n",
    "    a=maalign.idxmax().values\n",
    "    b=maalign.columns\n",
    "    rel=[]\n",
    "    for i in range(len(a)):\n",
    "        rel.append((a[i],b[i]))\n",
    "    \n",
    "    a,b,d1=encontrar_relaciones_contrarias(rel[:])\n",
    "    maalign=maalign.drop(a,axis=1)\n",
    "    maalign=maalign.drop(b,axis=0)\n",
    "    meartrh=meartrh.drop(a,axis=1)\n",
    "    meartrh=meartrh.drop(b,axis=0)\n",
    "    MI_=MI_.drop(a,axis=1)\n",
    "    MI_=MI_.drop(b,axis=0)\n",
    "\n",
    "    # relaciones cercanas quitar\n",
    "    indexes=maalign.index\n",
    "    columnas=maalign.columns\n",
    "    a,b,r_l2=encontrar_relaciones_cercanas(indexes,columnas)\n",
    "    maalign=maalign.drop(a,axis=1)\n",
    "    maalign=maalign.drop(b,axis=0)\n",
    "    meartrh=meartrh.drop(a,axis=1)\n",
    "    meartrh=meartrh.drop(b,axis=0)\n",
    "    MI_=MI_.drop(a,axis=1)\n",
    "    MI_=MI_.drop(b,axis=0)\n",
    "\n",
    "    #alamacenado de resultados\n",
    "    sumas.append(maalign.min().sum())\n",
    "    max_info.append((maalign.max().sum()/(maalign.shape[1])))\n",
    "    entropias.append(entropia(maalign.round(2).values.flatten()))\n",
    "    mearts.append(meartrh.max().sum())\n",
    "    mutinf.append(MI_.max().sum())\n",
    "    distancias.append(obtener_distancia(num,dfp)) \n",
    "    d2=[]   \n",
    "    if d==[] and d1==[]:\n",
    "        d2=[]\n",
    "    else:\n",
    "        d2=list(set(d+d1))\n",
    "    r2=[]   \n",
    "    if r_l2==[]:\n",
    "        r2=[]\n",
    "    else:\n",
    "        r2=list(set(r_l2))\n",
    "    list_antonimos.append(len(d2))\n",
    "    listas_malign.append(maalign)\n",
    "    lista_anto.append(d2)\n",
    "    lista_related.append(len(r2))\n",
    "    lista_relatedT.append(r2)"
   ]
  },
  {
   "cell_type": "code",
   "execution_count": 100,
   "metadata": {},
   "outputs": [
    {
     "data": {
      "text/html": [
       "<div>\n",
       "<style scoped>\n",
       "    .dataframe tbody tr th:only-of-type {\n",
       "        vertical-align: middle;\n",
       "    }\n",
       "\n",
       "    .dataframe tbody tr th {\n",
       "        vertical-align: top;\n",
       "    }\n",
       "\n",
       "    .dataframe thead th {\n",
       "        text-align: right;\n",
       "    }\n",
       "</style>\n",
       "<table border=\"1\" class=\"dataframe\">\n",
       "  <thead>\n",
       "    <tr style=\"text-align: right;\">\n",
       "      <th></th>\n",
       "      <th>actually{actually,ADV}</th>\n",
       "      <th>sasquatch{sasquatch,NOUN}</th>\n",
       "    </tr>\n",
       "  </thead>\n",
       "  <tbody>\n",
       "    <tr>\n",
       "      <th>dressed{dress,VERB}</th>\n",
       "      <td>0.005627</td>\n",
       "      <td>0.009660</td>\n",
       "    </tr>\n",
       "    <tr>\n",
       "      <th>suits{suit,NOUN}</th>\n",
       "      <td>0.009887</td>\n",
       "      <td>0.005550</td>\n",
       "    </tr>\n",
       "    <tr>\n",
       "      <th>ties{tie,NOUN}</th>\n",
       "      <td>0.008758</td>\n",
       "      <td>0.006563</td>\n",
       "    </tr>\n",
       "    <tr>\n",
       "      <th>clasps{clasp,VERB}</th>\n",
       "      <td>0.011448</td>\n",
       "      <td>0.005406</td>\n",
       "    </tr>\n",
       "    <tr>\n",
       "      <th>their{-PRON-,ADJ}</th>\n",
       "      <td>0.004394</td>\n",
       "      <td>0.013741</td>\n",
       "    </tr>\n",
       "    <tr>\n",
       "      <th>raised{raise,VERB}</th>\n",
       "      <td>0.008580</td>\n",
       "      <td>0.009331</td>\n",
       "    </tr>\n",
       "    <tr>\n",
       "      <th>hands{hand,NOUN}</th>\n",
       "      <td>0.005058</td>\n",
       "      <td>0.011088</td>\n",
       "    </tr>\n",
       "    <tr>\n",
       "      <th>standing{stand,VERB}</th>\n",
       "      <td>0.005231</td>\n",
       "      <td>0.009481</td>\n",
       "    </tr>\n",
       "    <tr>\n",
       "      <th>front{front,NOUN}</th>\n",
       "      <td>0.009058</td>\n",
       "      <td>0.006825</td>\n",
       "    </tr>\n",
       "    <tr>\n",
       "      <th>corporate{corporate,ADJ}</th>\n",
       "      <td>0.008859</td>\n",
       "      <td>0.009759</td>\n",
       "    </tr>\n",
       "    <tr>\n",
       "      <th>logos{logo,NOUN}</th>\n",
       "      <td>0.012753</td>\n",
       "      <td>0.006113</td>\n",
       "    </tr>\n",
       "  </tbody>\n",
       "</table>\n",
       "</div>"
      ],
      "text/plain": [
       "                          actually{actually,ADV}  sasquatch{sasquatch,NOUN}\n",
       "dressed{dress,VERB}                     0.005627                   0.009660\n",
       "suits{suit,NOUN}                        0.009887                   0.005550\n",
       "ties{tie,NOUN}                          0.008758                   0.006563\n",
       "clasps{clasp,VERB}                      0.011448                   0.005406\n",
       "their{-PRON-,ADJ}                       0.004394                   0.013741\n",
       "raised{raise,VERB}                      0.008580                   0.009331\n",
       "hands{hand,NOUN}                        0.005058                   0.011088\n",
       "standing{stand,VERB}                    0.005231                   0.009481\n",
       "front{front,NOUN}                       0.009058                   0.006825\n",
       "corporate{corporate,ADJ}                0.008859                   0.009759\n",
       "logos{logo,NOUN}                        0.012753                   0.006113"
      ]
     },
     "execution_count": 100,
     "metadata": {},
     "output_type": "execute_result"
    }
   ],
   "source": [
    "meartrh"
   ]
  },
  {
   "cell_type": "code",
   "execution_count": 101,
   "metadata": {},
   "outputs": [
    {
     "data": {
      "text/html": [
       "<div>\n",
       "<style scoped>\n",
       "    .dataframe tbody tr th:only-of-type {\n",
       "        vertical-align: middle;\n",
       "    }\n",
       "\n",
       "    .dataframe tbody tr th {\n",
       "        vertical-align: top;\n",
       "    }\n",
       "\n",
       "    .dataframe thead th {\n",
       "        text-align: right;\n",
       "    }\n",
       "</style>\n",
       "<table border=\"1\" class=\"dataframe\">\n",
       "  <thead>\n",
       "    <tr style=\"text-align: right;\">\n",
       "      <th></th>\n",
       "      <th>actually{actually,ADV}</th>\n",
       "      <th>sasquatch{sasquatch,NOUN}</th>\n",
       "    </tr>\n",
       "  </thead>\n",
       "  <tbody>\n",
       "    <tr>\n",
       "      <th>dressed{dress,VERB}</th>\n",
       "      <td>0.389713</td>\n",
       "      <td>0.088503</td>\n",
       "    </tr>\n",
       "    <tr>\n",
       "      <th>suits{suit,NOUN}</th>\n",
       "      <td>0.344928</td>\n",
       "      <td>0.052184</td>\n",
       "    </tr>\n",
       "    <tr>\n",
       "      <th>ties{tie,NOUN}</th>\n",
       "      <td>0.277400</td>\n",
       "      <td>0.010205</td>\n",
       "    </tr>\n",
       "    <tr>\n",
       "      <th>clasps{clasp,VERB}</th>\n",
       "      <td>0.016735</td>\n",
       "      <td>-0.006220</td>\n",
       "    </tr>\n",
       "    <tr>\n",
       "      <th>their{-PRON-,ADJ}</th>\n",
       "      <td>0.464549</td>\n",
       "      <td>-0.038553</td>\n",
       "    </tr>\n",
       "    <tr>\n",
       "      <th>raised{raise,VERB}</th>\n",
       "      <td>0.409186</td>\n",
       "      <td>-0.010537</td>\n",
       "    </tr>\n",
       "    <tr>\n",
       "      <th>hands{hand,NOUN}</th>\n",
       "      <td>0.435277</td>\n",
       "      <td>-0.019895</td>\n",
       "    </tr>\n",
       "    <tr>\n",
       "      <th>standing{stand,VERB}</th>\n",
       "      <td>0.433906</td>\n",
       "      <td>0.029716</td>\n",
       "    </tr>\n",
       "    <tr>\n",
       "      <th>front{front,NOUN}</th>\n",
       "      <td>0.355166</td>\n",
       "      <td>-0.004828</td>\n",
       "    </tr>\n",
       "    <tr>\n",
       "      <th>corporate{corporate,ADJ}</th>\n",
       "      <td>0.266992</td>\n",
       "      <td>-0.026747</td>\n",
       "    </tr>\n",
       "    <tr>\n",
       "      <th>logos{logo,NOUN}</th>\n",
       "      <td>0.192949</td>\n",
       "      <td>0.076035</td>\n",
       "    </tr>\n",
       "  </tbody>\n",
       "</table>\n",
       "</div>"
      ],
      "text/plain": [
       "                          actually{actually,ADV}  sasquatch{sasquatch,NOUN}\n",
       "dressed{dress,VERB}                     0.389713                   0.088503\n",
       "suits{suit,NOUN}                        0.344928                   0.052184\n",
       "ties{tie,NOUN}                          0.277400                   0.010205\n",
       "clasps{clasp,VERB}                      0.016735                  -0.006220\n",
       "their{-PRON-,ADJ}                       0.464549                  -0.038553\n",
       "raised{raise,VERB}                      0.409186                  -0.010537\n",
       "hands{hand,NOUN}                        0.435277                  -0.019895\n",
       "standing{stand,VERB}                    0.433906                   0.029716\n",
       "front{front,NOUN}                       0.355166                  -0.004828\n",
       "corporate{corporate,ADJ}                0.266992                  -0.026747\n",
       "logos{logo,NOUN}                        0.192949                   0.076035"
      ]
     },
     "execution_count": 101,
     "metadata": {},
     "output_type": "execute_result"
    }
   ],
   "source": [
    "maalign"
   ]
  },
  {
   "cell_type": "code",
   "execution_count": 82,
   "metadata": {},
   "outputs": [],
   "source": [
    "#listas_malign"
   ]
  },
  {
   "cell_type": "code",
   "execution_count": 102,
   "metadata": {},
   "outputs": [
    {
     "ename": "ValueError",
     "evalue": "setting an array element with a sequence. The requested array has an inhomogeneous shape after 2 dimensions. The detected shape was (3, 100) + inhomogeneous part.",
     "output_type": "error",
     "traceback": [
      "\u001b[0;31m---------------------------------------------------------------------------\u001b[0m",
      "\u001b[0;31mValueError\u001b[0m                                Traceback (most recent call last)",
      "\u001b[1;32m/home/david/OPENAI/lectura_matriz_alineamientoTipoPalabraHT_F_2productoM3 copy.ipynb Cell 81\u001b[0m line \u001b[0;36m2\n\u001b[1;32m      <a href='vscode-notebook-cell://ssh-remote%2B148.218.36.156/home/david/OPENAI/lectura_matriz_alineamientoTipoPalabraHT_F_2productoM3%20copy.ipynb#Y143sdnNjb2RlLXJlbW90ZQ%3D%3D?line=0'>1</a>\u001b[0m clases\u001b[39m=\u001b[39mprueba[\u001b[39m\"\u001b[39m\u001b[39mgold_label\u001b[39m\u001b[39m\"\u001b[39m]\u001b[39m.\u001b[39mvalues\n\u001b[0;32m----> <a href='vscode-notebook-cell://ssh-remote%2B148.218.36.156/home/david/OPENAI/lectura_matriz_alineamientoTipoPalabraHT_F_2productoM3%20copy.ipynb#Y143sdnNjb2RlLXJlbW90ZQ%3D%3D?line=1'>2</a>\u001b[0m temp \u001b[39m=\u001b[39mnp\u001b[39m.\u001b[39;49marray([listas_malign,lista_anto,clases])\n\u001b[1;32m      <a href='vscode-notebook-cell://ssh-remote%2B148.218.36.156/home/david/OPENAI/lectura_matriz_alineamientoTipoPalabraHT_F_2productoM3%20copy.ipynb#Y143sdnNjb2RlLXJlbW90ZQ%3D%3D?line=2'>3</a>\u001b[0m temp \u001b[39m=\u001b[39m pd\u001b[39m.\u001b[39mDataFrame(temp\u001b[39m.\u001b[39mT,columns\u001b[39m=\u001b[39m[\u001b[39m\"\u001b[39m\u001b[39mmalign\u001b[39m\u001b[39m\"\u001b[39m,\u001b[39m\"\u001b[39m\u001b[39mantonimos\u001b[39m\u001b[39m\"\u001b[39m,\u001b[39m\"\u001b[39m\u001b[39mCLASS\u001b[39m\u001b[39m\"\u001b[39m])\n\u001b[1;32m      <a href='vscode-notebook-cell://ssh-remote%2B148.218.36.156/home/david/OPENAI/lectura_matriz_alineamientoTipoPalabraHT_F_2productoM3%20copy.ipynb#Y143sdnNjb2RlLXJlbW90ZQ%3D%3D?line=3'>4</a>\u001b[0m temp\u001b[39m.\u001b[39mto_pickle(\u001b[39m\"\u001b[39m\u001b[39msalida/data6F.pickle\u001b[39m\u001b[39m\"\u001b[39m)\n",
      "\u001b[0;31mValueError\u001b[0m: setting an array element with a sequence. The requested array has an inhomogeneous shape after 2 dimensions. The detected shape was (3, 100) + inhomogeneous part."
     ]
    }
   ],
   "source": [
    "clases=prueba[\"gold_label\"].values\n",
    "temp =np.array([listas_malign,lista_anto,clases])\n",
    "temp = pd.DataFrame(temp.T,columns=[\"malign\",\"antonimos\",\"CLASS\"])\n",
    "temp.to_pickle(\"salida/data6F.pickle\")"
   ]
  },
  {
   "cell_type": "markdown",
   "metadata": {},
   "source": [
    "# Revision de matriz de alineamiento"
   ]
  },
  {
   "cell_type": "code",
   "execution_count": 103,
   "metadata": {},
   "outputs": [
    {
     "ename": "NameError",
     "evalue": "name 'temp' is not defined",
     "output_type": "error",
     "traceback": [
      "\u001b[0;31m---------------------------------------------------------------------------\u001b[0m",
      "\u001b[0;31mNameError\u001b[0m                                 Traceback (most recent call last)",
      "\u001b[1;32m/home/david/OPENAI/lectura_matriz_alineamientoTipoPalabraHT_F_2productoM3 copy.ipynb Cell 83\u001b[0m line \u001b[0;36m2\n\u001b[1;32m      <a href='vscode-notebook-cell://ssh-remote%2B148.218.36.156/home/david/OPENAI/lectura_matriz_alineamientoTipoPalabraHT_F_2productoM3%20copy.ipynb#Y145sdnNjb2RlLXJlbW90ZQ%3D%3D?line=0'>1</a>\u001b[0m ch\u001b[39m=\u001b[39m\u001b[39m5\u001b[39m\n\u001b[0;32m----> <a href='vscode-notebook-cell://ssh-remote%2B148.218.36.156/home/david/OPENAI/lectura_matriz_alineamientoTipoPalabraHT_F_2productoM3%20copy.ipynb#Y145sdnNjb2RlLXJlbW90ZQ%3D%3D?line=1'>2</a>\u001b[0m temp\u001b[39m.\u001b[39mat[ch,\u001b[39m\"\u001b[39m\u001b[39mantonimos\u001b[39m\u001b[39m\"\u001b[39m]\n",
      "\u001b[0;31mNameError\u001b[0m: name 'temp' is not defined"
     ]
    }
   ],
   "source": [
    "ch=5\n",
    "temp.at[ch,\"antonimos\"]"
   ]
  },
  {
   "cell_type": "code",
   "execution_count": 104,
   "metadata": {},
   "outputs": [
    {
     "ename": "NameError",
     "evalue": "name 'temp' is not defined",
     "output_type": "error",
     "traceback": [
      "\u001b[0;31m---------------------------------------------------------------------------\u001b[0m",
      "\u001b[0;31mNameError\u001b[0m                                 Traceback (most recent call last)",
      "\u001b[1;32m/home/david/OPENAI/lectura_matriz_alineamientoTipoPalabraHT_F_2productoM3 copy.ipynb Cell 84\u001b[0m line \u001b[0;36m1\n\u001b[0;32m----> <a href='vscode-notebook-cell://ssh-remote%2B148.218.36.156/home/david/OPENAI/lectura_matriz_alineamientoTipoPalabraHT_F_2productoM3%20copy.ipynb#Y146sdnNjb2RlLXJlbW90ZQ%3D%3D?line=0'>1</a>\u001b[0m temp\u001b[39m.\u001b[39mat[ch,\u001b[39m\"\u001b[39m\u001b[39mmalign\u001b[39m\u001b[39m\"\u001b[39m]\u001b[39m.\u001b[39mmax()\u001b[39m.\u001b[39msum()\u001b[39m/\u001b[39mtemp\u001b[39m.\u001b[39mat[ch,\u001b[39m\"\u001b[39m\u001b[39mmalign\u001b[39m\u001b[39m\"\u001b[39m]\u001b[39m.\u001b[39mshape[\u001b[39m1\u001b[39m]\n",
      "\u001b[0;31mNameError\u001b[0m: name 'temp' is not defined"
     ]
    }
   ],
   "source": [
    "temp.at[ch,\"malign\"].max().sum()/temp.at[ch,\"malign\"].shape[1]"
   ]
  },
  {
   "cell_type": "code",
   "execution_count": 105,
   "metadata": {},
   "outputs": [
    {
     "data": {
      "text/html": [
       "<div>\n",
       "<style scoped>\n",
       "    .dataframe tbody tr th:only-of-type {\n",
       "        vertical-align: middle;\n",
       "    }\n",
       "\n",
       "    .dataframe tbody tr th {\n",
       "        vertical-align: top;\n",
       "    }\n",
       "\n",
       "    .dataframe thead th {\n",
       "        text-align: right;\n",
       "    }\n",
       "</style>\n",
       "<table border=\"1\" class=\"dataframe\">\n",
       "  <thead>\n",
       "    <tr style=\"text-align: right;\">\n",
       "      <th></th>\n",
       "      <th>suma</th>\n",
       "      <th>distancias</th>\n",
       "      <th>entropias</th>\n",
       "      <th>mutual_info</th>\n",
       "      <th>m_earth</th>\n",
       "      <th>max_info_p</th>\n",
       "      <th>antonimos</th>\n",
       "      <th>relaciones</th>\n",
       "      <th>CLASS</th>\n",
       "    </tr>\n",
       "  </thead>\n",
       "  <tbody>\n",
       "    <tr>\n",
       "      <th>0</th>\n",
       "      <td>0.382265</td>\n",
       "      <td>39.145676</td>\n",
       "      <td>4.734</td>\n",
       "      <td>6.089623</td>\n",
       "      <td>0.046611</td>\n",
       "      <td>0.41685</td>\n",
       "      <td>0</td>\n",
       "      <td>1</td>\n",
       "      <td>entailment</td>\n",
       "    </tr>\n",
       "    <tr>\n",
       "      <th>1</th>\n",
       "      <td>0.164411</td>\n",
       "      <td>13.863625</td>\n",
       "      <td>2.585</td>\n",
       "      <td>0.984762</td>\n",
       "      <td>0.007264</td>\n",
       "      <td>0.423473</td>\n",
       "      <td>0</td>\n",
       "      <td>1</td>\n",
       "      <td>entailment</td>\n",
       "    </tr>\n",
       "    <tr>\n",
       "      <th>2</th>\n",
       "      <td>0.145214</td>\n",
       "      <td>21.44142</td>\n",
       "      <td>4.357</td>\n",
       "      <td>2.797228</td>\n",
       "      <td>0.027092</td>\n",
       "      <td>0.37404</td>\n",
       "      <td>0</td>\n",
       "      <td>0</td>\n",
       "      <td>contradiction</td>\n",
       "    </tr>\n",
       "    <tr>\n",
       "      <th>3</th>\n",
       "      <td>0.184051</td>\n",
       "      <td>5.69077</td>\n",
       "      <td>3.278</td>\n",
       "      <td>0.727185</td>\n",
       "      <td>0.01073</td>\n",
       "      <td>0.428242</td>\n",
       "      <td>0</td>\n",
       "      <td>0</td>\n",
       "      <td>contradiction</td>\n",
       "    </tr>\n",
       "    <tr>\n",
       "      <th>4</th>\n",
       "      <td>0.217909</td>\n",
       "      <td>12.320528</td>\n",
       "      <td>3.0</td>\n",
       "      <td>1.731026</td>\n",
       "      <td>0.01684</td>\n",
       "      <td>0.429542</td>\n",
       "      <td>0</td>\n",
       "      <td>0</td>\n",
       "      <td>neutral</td>\n",
       "    </tr>\n",
       "    <tr>\n",
       "      <th>...</th>\n",
       "      <td>...</td>\n",
       "      <td>...</td>\n",
       "      <td>...</td>\n",
       "      <td>...</td>\n",
       "      <td>...</td>\n",
       "      <td>...</td>\n",
       "      <td>...</td>\n",
       "      <td>...</td>\n",
       "      <td>...</td>\n",
       "    </tr>\n",
       "    <tr>\n",
       "      <th>95</th>\n",
       "      <td>0.449939</td>\n",
       "      <td>29.301107</td>\n",
       "      <td>4.453</td>\n",
       "      <td>4.582784</td>\n",
       "      <td>0.033026</td>\n",
       "      <td>0.525259</td>\n",
       "      <td>0</td>\n",
       "      <td>1</td>\n",
       "      <td>entailment</td>\n",
       "    </tr>\n",
       "    <tr>\n",
       "      <th>96</th>\n",
       "      <td>0.0</td>\n",
       "      <td>4.414777</td>\n",
       "      <td>0</td>\n",
       "      <td>0.0</td>\n",
       "      <td>0.0</td>\n",
       "      <td>NaN</td>\n",
       "      <td>0</td>\n",
       "      <td>0</td>\n",
       "      <td>entailment</td>\n",
       "    </tr>\n",
       "    <tr>\n",
       "      <th>97</th>\n",
       "      <td>0.473886</td>\n",
       "      <td>20.708523</td>\n",
       "      <td>3.457</td>\n",
       "      <td>3.062808</td>\n",
       "      <td>0.027729</td>\n",
       "      <td>0.335611</td>\n",
       "      <td>0</td>\n",
       "      <td>1</td>\n",
       "      <td>contradiction</td>\n",
       "    </tr>\n",
       "    <tr>\n",
       "      <th>98</th>\n",
       "      <td>0.484735</td>\n",
       "      <td>14.175783</td>\n",
       "      <td>2.0</td>\n",
       "      <td>1.889121</td>\n",
       "      <td>0.016444</td>\n",
       "      <td>0.372568</td>\n",
       "      <td>0</td>\n",
       "      <td>1</td>\n",
       "      <td>contradiction</td>\n",
       "    </tr>\n",
       "    <tr>\n",
       "      <th>99</th>\n",
       "      <td>-0.021818</td>\n",
       "      <td>14.398052</td>\n",
       "      <td>4.369</td>\n",
       "      <td>2.541432</td>\n",
       "      <td>0.026494</td>\n",
       "      <td>0.276526</td>\n",
       "      <td>0</td>\n",
       "      <td>0</td>\n",
       "      <td>contradiction</td>\n",
       "    </tr>\n",
       "  </tbody>\n",
       "</table>\n",
       "<p>100 rows × 9 columns</p>\n",
       "</div>"
      ],
      "text/plain": [
       "        suma distancias entropias mutual_info   m_earth max_info_p antonimos  \\\n",
       "0   0.382265  39.145676     4.734    6.089623  0.046611    0.41685         0   \n",
       "1   0.164411  13.863625     2.585    0.984762  0.007264   0.423473         0   \n",
       "2   0.145214   21.44142     4.357    2.797228  0.027092    0.37404         0   \n",
       "3   0.184051    5.69077     3.278    0.727185   0.01073   0.428242         0   \n",
       "4   0.217909  12.320528       3.0    1.731026   0.01684   0.429542         0   \n",
       "..       ...        ...       ...         ...       ...        ...       ...   \n",
       "95  0.449939  29.301107     4.453    4.582784  0.033026   0.525259         0   \n",
       "96       0.0   4.414777         0         0.0       0.0        NaN         0   \n",
       "97  0.473886  20.708523     3.457    3.062808  0.027729   0.335611         0   \n",
       "98  0.484735  14.175783       2.0    1.889121  0.016444   0.372568         0   \n",
       "99 -0.021818  14.398052     4.369    2.541432  0.026494   0.276526         0   \n",
       "\n",
       "   relaciones          CLASS  \n",
       "0           1     entailment  \n",
       "1           1     entailment  \n",
       "2           0  contradiction  \n",
       "3           0  contradiction  \n",
       "4           0        neutral  \n",
       "..        ...            ...  \n",
       "95          1     entailment  \n",
       "96          0     entailment  \n",
       "97          1  contradiction  \n",
       "98          1  contradiction  \n",
       "99          0  contradiction  \n",
       "\n",
       "[100 rows x 9 columns]"
      ]
     },
     "execution_count": 105,
     "metadata": {},
     "output_type": "execute_result"
    }
   ],
   "source": [
    "clases=prueba[\"gold_label\"].values\n",
    "temp1 =np.array([sumas,distancias,entropias,mutinf,mearts,max_info,list_antonimos,lista_related,clases])\n",
    "df_sumas = pd.DataFrame(temp1.T,columns=[\"suma\",\"distancias\",\"entropias\",\"mutual_info\",\"m_earth\",\"max_info_p\",\"antonimos\",\"relaciones\",\"CLASS\"])\n",
    "df_sumas"
   ]
  },
  {
   "cell_type": "code",
   "execution_count": 106,
   "metadata": {},
   "outputs": [
    {
     "data": {
      "text/plain": [
       "5.6907697"
      ]
     },
     "execution_count": 106,
     "metadata": {},
     "output_type": "execute_result"
    }
   ],
   "source": [
    "df_sumas.at[3,\"distancias\"]"
   ]
  },
  {
   "cell_type": "code",
   "execution_count": 107,
   "metadata": {},
   "outputs": [],
   "source": [
    "#df_sumas.to_csv(\"salida/prueba_medidas.csv\",index=False)\n",
    "df_sumas.to_csv(\"salida/prueba_medidas6validar.csv\",index=False)"
   ]
  },
  {
   "cell_type": "code",
   "execution_count": 108,
   "metadata": {},
   "outputs": [
    {
     "data": {
      "text/plain": [
       "<Axes: title={'center': 'antonimos'}, xlabel='CLASS'>"
      ]
     },
     "execution_count": 108,
     "metadata": {},
     "output_type": "execute_result"
    },
    {
     "data": {
      "image/png": "[encoded data removed]",
      "text/plain": [
       "<Figure size 640x480 with 1 Axes>"
      ]
     },
     "metadata": {},
     "output_type": "display_data"
    }
   ],
   "source": [
    "df_sumas.boxplot(by=\"CLASS\",column=[\"antonimos\"])"
   ]
  },
  {
   "cell_type": "code",
   "execution_count": 109,
   "metadata": {},
   "outputs": [
    {
     "data": {
      "text/plain": [
       "<Axes: title={'center': 'relaciones'}, xlabel='CLASS'>"
      ]
     },
     "execution_count": 109,
     "metadata": {},
     "output_type": "execute_result"
    },
    {
     "data": {
      "image/png": "[encoded data removed]",
      "text/plain": [
       "<Figure size 640x480 with 1 Axes>"
      ]
     },
     "metadata": {},
     "output_type": "display_data"
    }
   ],
   "source": [
    "df_sumas.boxplot(by=\"CLASS\",column=[\"relaciones\"])"
   ]
  },
  {
   "cell_type": "code",
   "execution_count": 110,
   "metadata": {},
   "outputs": [
    {
     "data": {
      "text/plain": [
       "<Axes: title={'center': 'distancias'}, xlabel='CLASS'>"
      ]
     },
     "execution_count": 110,
     "metadata": {},
     "output_type": "execute_result"
    },
    {
     "data": {
      "image/png": "[encoded data removed]",
      "text/plain": [
       "<Figure size 640x480 with 1 Axes>"
      ]
     },
     "metadata": {},
     "output_type": "display_data"
    }
   ],
   "source": [
    "df_sumas.boxplot(by=\"CLASS\",column=[\"distancias\"])"
   ]
  },
  {
   "cell_type": "code",
   "execution_count": 111,
   "metadata": {},
   "outputs": [
    {
     "data": {
      "text/plain": [
       "<Axes: title={'center': 'mutual_info'}, xlabel='CLASS'>"
      ]
     },
     "execution_count": 111,
     "metadata": {},
     "output_type": "execute_result"
    },
    {
     "data": {
      "image/png": "[encoded data removed]",
      "text/plain": [
       "<Figure size 640x480 with 1 Axes>"
      ]
     },
     "metadata": {},
     "output_type": "display_data"
    }
   ],
   "source": [
    "df_sumas.boxplot(by=\"CLASS\",column=[\"mutual_info\"])"
   ]
  },
  {
   "cell_type": "code",
   "execution_count": 112,
   "metadata": {},
   "outputs": [
    {
     "data": {
      "text/plain": [
       "<Axes: title={'center': 'suma'}, xlabel='CLASS'>"
      ]
     },
     "execution_count": 112,
     "metadata": {},
     "output_type": "execute_result"
    },
    {
     "data": {
      "image/png": "[encoded data removed]",
      "text/plain": [
       "<Figure size 640x480 with 1 Axes>"
      ]
     },
     "metadata": {},
     "output_type": "display_data"
    }
   ],
   "source": [
    "df_sumas.boxplot(by=\"CLASS\",column=[\"suma\"])"
   ]
  },
  {
   "cell_type": "code",
   "execution_count": 113,
   "metadata": {},
   "outputs": [
    {
     "data": {
      "text/plain": [
       "<Axes: title={'center': 'entropias'}, xlabel='CLASS'>"
      ]
     },
     "execution_count": 113,
     "metadata": {},
     "output_type": "execute_result"
    },
    {
     "data": {
      "image/png": "[encoded data removed]",
      "text/plain": [
       "<Figure size 640x480 with 1 Axes>"
      ]
     },
     "metadata": {},
     "output_type": "display_data"
    }
   ],
   "source": [
    "df_sumas.boxplot(by=\"CLASS\",column=[\"entropias\"])"
   ]
  },
  {
   "cell_type": "code",
   "execution_count": 114,
   "metadata": {},
   "outputs": [
    {
     "data": {
      "text/plain": [
       "<Axes: title={'center': 'max_info_p'}, xlabel='CLASS'>"
      ]
     },
     "execution_count": 114,
     "metadata": {},
     "output_type": "execute_result"
    },
    {
     "data": {
      "image/png": "[encoded data removed]",
      "text/plain": [
       "<Figure size 640x480 with 1 Axes>"
      ]
     },
     "metadata": {},
     "output_type": "display_data"
    }
   ],
   "source": [
    "df_sumas.boxplot(by=\"CLASS\",column=[\"max_info_p\"])"
   ]
  }
 ],
 "metadata": {
  "kernelspec": {
   "display_name": "base",
   "language": "python",
   "name": "python3"
  },
  "language_info": {
   "codemirror_mode": {
    "name": "ipython",
    "version": 3
   },
   "file_extension": ".py",
   "mimetype": "text/x-python",
   "name": "python",
   "nbconvert_exporter": "python",
   "pygments_lexer": "ipython3",
   "version": "3.9.13"
  }
 },
 "nbformat": 4,
 "nbformat_minor": 2
}
