{
 "cells": [
  {
   "cell_type": "code",
   "execution_count": 129,
   "metadata": {},
   "outputs": [],
   "source": [
    "import pandas as pd\n",
    "import numpy as np\n",
    "from sklearn import linear_model\n",
    "from sklearn import model_selection\n",
    "from sklearn.metrics import classification_report\n",
    "from sklearn.metrics import confusion_matrix\n",
    "from sklearn.metrics import accuracy_score,precision_score,recall_score,f1_score,matthews_corrcoef\n",
    "import matplotlib.pyplot as plt\n",
    "import seaborn as sb\n",
    "from sklearn import preprocessing"
   ]
  },
  {
   "cell_type": "markdown",
   "metadata": {},
   "source": [
    "# TRAIN"
   ]
  },
  {
   "cell_type": "code",
   "execution_count": 162,
   "metadata": {},
   "outputs": [],
   "source": [
    "for i in range(8):\n",
    "    if i==0:\n",
    "        train = pd.read_csv('salida/resultados/RTE3/DEV_'+str(i+1)+'.csv.csv')\n",
    "    else:\n",
    "        temp = pd.read_csv('salida/resultados/RTE3/DEV_'+str(i+1)+'.csv.csv')\n",
    "        train=pd.concat([train,temp])"
   ]
  },
  {
   "cell_type": "code",
   "execution_count": 163,
   "metadata": {},
   "outputs": [
    {
     "data": {
      "text/html": [
       "<div>\n",
       "<style scoped>\n",
       "    .dataframe tbody tr th:only-of-type {\n",
       "        vertical-align: middle;\n",
       "    }\n",
       "\n",
       "    .dataframe tbody tr th {\n",
       "        vertical-align: top;\n",
       "    }\n",
       "\n",
       "    .dataframe thead th {\n",
       "        text-align: right;\n",
       "    }\n",
       "</style>\n",
       "<table border=\"1\" class=\"dataframe\">\n",
       "  <thead>\n",
       "    <tr style=\"text-align: right;\">\n",
       "      <th></th>\n",
       "      <th>suma</th>\n",
       "      <th>distancias</th>\n",
       "      <th>entropias</th>\n",
       "      <th>mutual_info</th>\n",
       "      <th>m_earth</th>\n",
       "      <th>max_info_p</th>\n",
       "      <th>antonimos</th>\n",
       "      <th>relaciones</th>\n",
       "      <th>sim_faltantes</th>\n",
       "      <th>CLASS</th>\n",
       "    </tr>\n",
       "  </thead>\n",
       "  <tbody>\n",
       "    <tr>\n",
       "      <th>0</th>\n",
       "      <td>0.000000</td>\n",
       "      <td>0.00000</td>\n",
       "      <td>0.000</td>\n",
       "      <td>0.000000e+00</td>\n",
       "      <td>0.000000</td>\n",
       "      <td>0.000000</td>\n",
       "      <td>0</td>\n",
       "      <td>0</td>\n",
       "      <td>1.000000</td>\n",
       "      <td>YES</td>\n",
       "    </tr>\n",
       "    <tr>\n",
       "      <th>1</th>\n",
       "      <td>0.000000</td>\n",
       "      <td>115.24142</td>\n",
       "      <td>0.000</td>\n",
       "      <td>7.130074e-12</td>\n",
       "      <td>40.431974</td>\n",
       "      <td>0.000000</td>\n",
       "      <td>0</td>\n",
       "      <td>5</td>\n",
       "      <td>0.000000</td>\n",
       "      <td>NO</td>\n",
       "    </tr>\n",
       "    <tr>\n",
       "      <th>2</th>\n",
       "      <td>0.000000</td>\n",
       "      <td>0.00000</td>\n",
       "      <td>0.000</td>\n",
       "      <td>0.000000e+00</td>\n",
       "      <td>0.000000</td>\n",
       "      <td>0.000000</td>\n",
       "      <td>0</td>\n",
       "      <td>2</td>\n",
       "      <td>1.000000</td>\n",
       "      <td>UNKNOWN</td>\n",
       "    </tr>\n",
       "    <tr>\n",
       "      <th>3</th>\n",
       "      <td>0.000000</td>\n",
       "      <td>0.00000</td>\n",
       "      <td>0.000</td>\n",
       "      <td>0.000000e+00</td>\n",
       "      <td>0.000000</td>\n",
       "      <td>0.000000</td>\n",
       "      <td>0</td>\n",
       "      <td>0</td>\n",
       "      <td>1.000000</td>\n",
       "      <td>YES</td>\n",
       "    </tr>\n",
       "    <tr>\n",
       "      <th>4</th>\n",
       "      <td>0.538812</td>\n",
       "      <td>142.35385</td>\n",
       "      <td>1.530</td>\n",
       "      <td>1.667491e+01</td>\n",
       "      <td>5.765878</td>\n",
       "      <td>0.231184</td>\n",
       "      <td>0</td>\n",
       "      <td>0</td>\n",
       "      <td>0.037146</td>\n",
       "      <td>YES</td>\n",
       "    </tr>\n",
       "    <tr>\n",
       "      <th>...</th>\n",
       "      <td>...</td>\n",
       "      <td>...</td>\n",
       "      <td>...</td>\n",
       "      <td>...</td>\n",
       "      <td>...</td>\n",
       "      <td>...</td>\n",
       "      <td>...</td>\n",
       "      <td>...</td>\n",
       "      <td>...</td>\n",
       "      <td>...</td>\n",
       "    </tr>\n",
       "    <tr>\n",
       "      <th>95</th>\n",
       "      <td>2.227070</td>\n",
       "      <td>80.40987</td>\n",
       "      <td>2.055</td>\n",
       "      <td>2.127697e+01</td>\n",
       "      <td>4.710831</td>\n",
       "      <td>0.424818</td>\n",
       "      <td>0</td>\n",
       "      <td>0</td>\n",
       "      <td>0.258356</td>\n",
       "      <td>UNKNOWN</td>\n",
       "    </tr>\n",
       "    <tr>\n",
       "      <th>96</th>\n",
       "      <td>0.000000</td>\n",
       "      <td>0.00000</td>\n",
       "      <td>0.000</td>\n",
       "      <td>0.000000e+00</td>\n",
       "      <td>0.000000</td>\n",
       "      <td>0.000000</td>\n",
       "      <td>0</td>\n",
       "      <td>0</td>\n",
       "      <td>1.000000</td>\n",
       "      <td>YES</td>\n",
       "    </tr>\n",
       "    <tr>\n",
       "      <th>97</th>\n",
       "      <td>0.000000</td>\n",
       "      <td>0.00000</td>\n",
       "      <td>0.000</td>\n",
       "      <td>0.000000e+00</td>\n",
       "      <td>0.000000</td>\n",
       "      <td>0.000000</td>\n",
       "      <td>0</td>\n",
       "      <td>0</td>\n",
       "      <td>1.000000</td>\n",
       "      <td>UNKNOWN</td>\n",
       "    </tr>\n",
       "    <tr>\n",
       "      <th>98</th>\n",
       "      <td>0.000000</td>\n",
       "      <td>0.00000</td>\n",
       "      <td>0.000</td>\n",
       "      <td>0.000000e+00</td>\n",
       "      <td>0.000000</td>\n",
       "      <td>0.000000</td>\n",
       "      <td>0</td>\n",
       "      <td>0</td>\n",
       "      <td>1.000000</td>\n",
       "      <td>NO</td>\n",
       "    </tr>\n",
       "    <tr>\n",
       "      <th>99</th>\n",
       "      <td>5.147204</td>\n",
       "      <td>98.93596</td>\n",
       "      <td>2.610</td>\n",
       "      <td>3.021686e+01</td>\n",
       "      <td>10.344565</td>\n",
       "      <td>0.557217</td>\n",
       "      <td>0</td>\n",
       "      <td>0</td>\n",
       "      <td>0.481782</td>\n",
       "      <td>YES</td>\n",
       "    </tr>\n",
       "  </tbody>\n",
       "</table>\n",
       "<p>800 rows × 10 columns</p>\n",
       "</div>"
      ],
      "text/plain": [
       "        suma  distancias  entropias   mutual_info    m_earth  max_info_p  \\\n",
       "0   0.000000     0.00000      0.000  0.000000e+00   0.000000    0.000000   \n",
       "1   0.000000   115.24142      0.000  7.130074e-12  40.431974    0.000000   \n",
       "2   0.000000     0.00000      0.000  0.000000e+00   0.000000    0.000000   \n",
       "3   0.000000     0.00000      0.000  0.000000e+00   0.000000    0.000000   \n",
       "4   0.538812   142.35385      1.530  1.667491e+01   5.765878    0.231184   \n",
       "..       ...         ...        ...           ...        ...         ...   \n",
       "95  2.227070    80.40987      2.055  2.127697e+01   4.710831    0.424818   \n",
       "96  0.000000     0.00000      0.000  0.000000e+00   0.000000    0.000000   \n",
       "97  0.000000     0.00000      0.000  0.000000e+00   0.000000    0.000000   \n",
       "98  0.000000     0.00000      0.000  0.000000e+00   0.000000    0.000000   \n",
       "99  5.147204    98.93596      2.610  3.021686e+01  10.344565    0.557217   \n",
       "\n",
       "    antonimos  relaciones  sim_faltantes    CLASS  \n",
       "0           0           0       1.000000      YES  \n",
       "1           0           5       0.000000       NO  \n",
       "2           0           2       1.000000  UNKNOWN  \n",
       "3           0           0       1.000000      YES  \n",
       "4           0           0       0.037146      YES  \n",
       "..        ...         ...            ...      ...  \n",
       "95          0           0       0.258356  UNKNOWN  \n",
       "96          0           0       1.000000      YES  \n",
       "97          0           0       1.000000  UNKNOWN  \n",
       "98          0           0       1.000000       NO  \n",
       "99          0           0       0.481782      YES  \n",
       "\n",
       "[800 rows x 10 columns]"
      ]
     },
     "execution_count": 163,
     "metadata": {},
     "output_type": "execute_result"
    }
   ],
   "source": [
    "train"
   ]
  },
  {
   "cell_type": "code",
   "execution_count": 164,
   "metadata": {},
   "outputs": [
    {
     "data": {
      "text/plain": [
       "<Axes: title={'center': 'antonimos'}, xlabel='CLASS'>"
      ]
     },
     "execution_count": 164,
     "metadata": {},
     "output_type": "execute_result"
    },
    {
     "data": {
      "image/png": "[encoded data removed]",
      "text/plain": [
       "<Figure size 640x480 with 1 Axes>"
      ]
     },
     "metadata": {},
     "output_type": "display_data"
    }
   ],
   "source": [
    "train.boxplot(by=\"CLASS\",column=\"antonimos\")"
   ]
  },
  {
   "cell_type": "code",
   "execution_count": 132,
   "metadata": {},
   "outputs": [
    {
     "data": {
      "text/html": [
       "<div>\n",
       "<style scoped>\n",
       "    .dataframe tbody tr th:only-of-type {\n",
       "        vertical-align: middle;\n",
       "    }\n",
       "\n",
       "    .dataframe tbody tr th {\n",
       "        vertical-align: top;\n",
       "    }\n",
       "\n",
       "    .dataframe thead th {\n",
       "        text-align: right;\n",
       "    }\n",
       "</style>\n",
       "<table border=\"1\" class=\"dataframe\">\n",
       "  <thead>\n",
       "    <tr style=\"text-align: right;\">\n",
       "      <th></th>\n",
       "      <th>suma</th>\n",
       "      <th>distancias</th>\n",
       "      <th>mutual_info</th>\n",
       "      <th>m_earth</th>\n",
       "      <th>max_info_p</th>\n",
       "      <th>relaciones</th>\n",
       "      <th>sim_faltantes</th>\n",
       "      <th>CLASS</th>\n",
       "    </tr>\n",
       "  </thead>\n",
       "  <tbody>\n",
       "    <tr>\n",
       "      <th>0</th>\n",
       "      <td>0.000000</td>\n",
       "      <td>0.00000</td>\n",
       "      <td>0.000000e+00</td>\n",
       "      <td>0.000000</td>\n",
       "      <td>0.000000</td>\n",
       "      <td>0</td>\n",
       "      <td>1.000000</td>\n",
       "      <td>YES</td>\n",
       "    </tr>\n",
       "    <tr>\n",
       "      <th>1</th>\n",
       "      <td>0.000000</td>\n",
       "      <td>115.24142</td>\n",
       "      <td>7.130074e-12</td>\n",
       "      <td>40.431974</td>\n",
       "      <td>0.000000</td>\n",
       "      <td>5</td>\n",
       "      <td>0.000000</td>\n",
       "      <td>NO</td>\n",
       "    </tr>\n",
       "    <tr>\n",
       "      <th>2</th>\n",
       "      <td>0.000000</td>\n",
       "      <td>0.00000</td>\n",
       "      <td>0.000000e+00</td>\n",
       "      <td>0.000000</td>\n",
       "      <td>0.000000</td>\n",
       "      <td>2</td>\n",
       "      <td>1.000000</td>\n",
       "      <td>UNKNOWN</td>\n",
       "    </tr>\n",
       "    <tr>\n",
       "      <th>3</th>\n",
       "      <td>0.000000</td>\n",
       "      <td>0.00000</td>\n",
       "      <td>0.000000e+00</td>\n",
       "      <td>0.000000</td>\n",
       "      <td>0.000000</td>\n",
       "      <td>0</td>\n",
       "      <td>1.000000</td>\n",
       "      <td>YES</td>\n",
       "    </tr>\n",
       "    <tr>\n",
       "      <th>4</th>\n",
       "      <td>0.538812</td>\n",
       "      <td>142.35385</td>\n",
       "      <td>1.667491e+01</td>\n",
       "      <td>5.765878</td>\n",
       "      <td>0.231184</td>\n",
       "      <td>0</td>\n",
       "      <td>0.037146</td>\n",
       "      <td>YES</td>\n",
       "    </tr>\n",
       "    <tr>\n",
       "      <th>...</th>\n",
       "      <td>...</td>\n",
       "      <td>...</td>\n",
       "      <td>...</td>\n",
       "      <td>...</td>\n",
       "      <td>...</td>\n",
       "      <td>...</td>\n",
       "      <td>...</td>\n",
       "      <td>...</td>\n",
       "    </tr>\n",
       "    <tr>\n",
       "      <th>95</th>\n",
       "      <td>2.227070</td>\n",
       "      <td>80.40987</td>\n",
       "      <td>2.127697e+01</td>\n",
       "      <td>4.710831</td>\n",
       "      <td>0.424818</td>\n",
       "      <td>0</td>\n",
       "      <td>0.258356</td>\n",
       "      <td>UNKNOWN</td>\n",
       "    </tr>\n",
       "    <tr>\n",
       "      <th>96</th>\n",
       "      <td>0.000000</td>\n",
       "      <td>0.00000</td>\n",
       "      <td>0.000000e+00</td>\n",
       "      <td>0.000000</td>\n",
       "      <td>0.000000</td>\n",
       "      <td>0</td>\n",
       "      <td>1.000000</td>\n",
       "      <td>YES</td>\n",
       "    </tr>\n",
       "    <tr>\n",
       "      <th>97</th>\n",
       "      <td>0.000000</td>\n",
       "      <td>0.00000</td>\n",
       "      <td>0.000000e+00</td>\n",
       "      <td>0.000000</td>\n",
       "      <td>0.000000</td>\n",
       "      <td>0</td>\n",
       "      <td>1.000000</td>\n",
       "      <td>UNKNOWN</td>\n",
       "    </tr>\n",
       "    <tr>\n",
       "      <th>98</th>\n",
       "      <td>0.000000</td>\n",
       "      <td>0.00000</td>\n",
       "      <td>0.000000e+00</td>\n",
       "      <td>0.000000</td>\n",
       "      <td>0.000000</td>\n",
       "      <td>0</td>\n",
       "      <td>1.000000</td>\n",
       "      <td>NO</td>\n",
       "    </tr>\n",
       "    <tr>\n",
       "      <th>99</th>\n",
       "      <td>5.147204</td>\n",
       "      <td>98.93596</td>\n",
       "      <td>3.021686e+01</td>\n",
       "      <td>10.344565</td>\n",
       "      <td>0.557217</td>\n",
       "      <td>0</td>\n",
       "      <td>0.481782</td>\n",
       "      <td>YES</td>\n",
       "    </tr>\n",
       "  </tbody>\n",
       "</table>\n",
       "<p>800 rows × 8 columns</p>\n",
       "</div>"
      ],
      "text/plain": [
       "        suma  distancias   mutual_info    m_earth  max_info_p  relaciones  \\\n",
       "0   0.000000     0.00000  0.000000e+00   0.000000    0.000000           0   \n",
       "1   0.000000   115.24142  7.130074e-12  40.431974    0.000000           5   \n",
       "2   0.000000     0.00000  0.000000e+00   0.000000    0.000000           2   \n",
       "3   0.000000     0.00000  0.000000e+00   0.000000    0.000000           0   \n",
       "4   0.538812   142.35385  1.667491e+01   5.765878    0.231184           0   \n",
       "..       ...         ...           ...        ...         ...         ...   \n",
       "95  2.227070    80.40987  2.127697e+01   4.710831    0.424818           0   \n",
       "96  0.000000     0.00000  0.000000e+00   0.000000    0.000000           0   \n",
       "97  0.000000     0.00000  0.000000e+00   0.000000    0.000000           0   \n",
       "98  0.000000     0.00000  0.000000e+00   0.000000    0.000000           0   \n",
       "99  5.147204    98.93596  3.021686e+01  10.344565    0.557217           0   \n",
       "\n",
       "    sim_faltantes    CLASS  \n",
       "0        1.000000      YES  \n",
       "1        0.000000       NO  \n",
       "2        1.000000  UNKNOWN  \n",
       "3        1.000000      YES  \n",
       "4        0.037146      YES  \n",
       "..            ...      ...  \n",
       "95       0.258356  UNKNOWN  \n",
       "96       1.000000      YES  \n",
       "97       1.000000  UNKNOWN  \n",
       "98       1.000000       NO  \n",
       "99       0.481782      YES  \n",
       "\n",
       "[800 rows x 8 columns]"
      ]
     },
     "execution_count": 132,
     "metadata": {},
     "output_type": "execute_result"
    }
   ],
   "source": [
    "train=train.drop([\"entropias\",\"antonimos\"],axis=1)\n",
    "train"
   ]
  },
  {
   "cell_type": "code",
   "execution_count": 133,
   "metadata": {},
   "outputs": [],
   "source": [
    "X = np.array(train.drop(['CLASS'],axis=1))\n",
    "y_ = np.array(train['CLASS'])"
   ]
  },
  {
   "cell_type": "code",
   "execution_count": 134,
   "metadata": {},
   "outputs": [],
   "source": [
    "# RTE3\n",
    "y_train=[]\n",
    "for i in y_:\n",
    "    if i == \"YES\":\n",
    "        y_train.append(1)\n",
    "    else:\n",
    "        y_train.append(0)"
   ]
  },
  {
   "cell_type": "code",
   "execution_count": 135,
   "metadata": {},
   "outputs": [],
   "source": [
    "scaler = preprocessing.StandardScaler().fit(X)\n",
    "X_scaled = scaler.transform(X)\n",
    "X = X_scaled\n",
    "X_train=X"
   ]
  },
  {
   "cell_type": "code",
   "execution_count": 136,
   "metadata": {},
   "outputs": [
    {
     "data": {
      "image/png": "[encoded data removed]",
      "text/plain": [
       "<Figure size 2000x1000 with 9 Axes>"
      ]
     },
     "metadata": {},
     "output_type": "display_data"
    }
   ],
   "source": [
    "train.hist(figsize=(20,10))\n",
    "plt.show()"
   ]
  },
  {
   "cell_type": "markdown",
   "metadata": {},
   "source": [
    "# TEST"
   ]
  },
  {
   "cell_type": "code",
   "execution_count": 137,
   "metadata": {},
   "outputs": [],
   "source": [
    "for i in range(8):\n",
    "    if i==0:\n",
    "        test = pd.read_csv('salida/resultados/GHS/GHS_'+str(i+1)+'.csv.csv')\n",
    "    else:\n",
    "        temp = pd.read_csv('salida/resultados/GHS/GHS_'+str(i+1)+'.csv.csv')\n",
    "        test=pd.concat([test,temp])"
   ]
  },
  {
   "cell_type": "code",
   "execution_count": 138,
   "metadata": {},
   "outputs": [
    {
     "data": {
      "text/html": [
       "<div>\n",
       "<style scoped>\n",
       "    .dataframe tbody tr th:only-of-type {\n",
       "        vertical-align: middle;\n",
       "    }\n",
       "\n",
       "    .dataframe tbody tr th {\n",
       "        vertical-align: top;\n",
       "    }\n",
       "\n",
       "    .dataframe thead th {\n",
       "        text-align: right;\n",
       "    }\n",
       "</style>\n",
       "<table border=\"1\" class=\"dataframe\">\n",
       "  <thead>\n",
       "    <tr style=\"text-align: right;\">\n",
       "      <th></th>\n",
       "      <th>suma</th>\n",
       "      <th>distancias</th>\n",
       "      <th>mutual_info</th>\n",
       "      <th>m_earth</th>\n",
       "      <th>max_info_p</th>\n",
       "      <th>relaciones</th>\n",
       "      <th>sim_faltantes</th>\n",
       "      <th>CLASS</th>\n",
       "    </tr>\n",
       "  </thead>\n",
       "  <tbody>\n",
       "    <tr>\n",
       "      <th>0</th>\n",
       "      <td>5.679739</td>\n",
       "      <td>79.98151</td>\n",
       "      <td>26.125275</td>\n",
       "      <td>4.323032</td>\n",
       "      <td>1.000000</td>\n",
       "      <td>1</td>\n",
       "      <td>0.661373</td>\n",
       "      <td>ENTAILMENT</td>\n",
       "    </tr>\n",
       "    <tr>\n",
       "      <th>1</th>\n",
       "      <td>25.331194</td>\n",
       "      <td>1055.37120</td>\n",
       "      <td>153.406431</td>\n",
       "      <td>24.355206</td>\n",
       "      <td>0.389737</td>\n",
       "      <td>4</td>\n",
       "      <td>0.742481</td>\n",
       "      <td>NONENTAILMENT</td>\n",
       "    </tr>\n",
       "    <tr>\n",
       "      <th>2</th>\n",
       "      <td>16.384842</td>\n",
       "      <td>845.79240</td>\n",
       "      <td>183.542110</td>\n",
       "      <td>37.086826</td>\n",
       "      <td>0.336778</td>\n",
       "      <td>3</td>\n",
       "      <td>0.474353</td>\n",
       "      <td>NONENTAILMENT</td>\n",
       "    </tr>\n",
       "    <tr>\n",
       "      <th>3</th>\n",
       "      <td>0.000000</td>\n",
       "      <td>0.00000</td>\n",
       "      <td>0.000000</td>\n",
       "      <td>0.000000</td>\n",
       "      <td>0.000000</td>\n",
       "      <td>0</td>\n",
       "      <td>1.000000</td>\n",
       "      <td>ENTAILMENT</td>\n",
       "    </tr>\n",
       "    <tr>\n",
       "      <th>4</th>\n",
       "      <td>12.049216</td>\n",
       "      <td>1389.58010</td>\n",
       "      <td>131.118867</td>\n",
       "      <td>77.395240</td>\n",
       "      <td>0.294243</td>\n",
       "      <td>4</td>\n",
       "      <td>0.474036</td>\n",
       "      <td>NONENTAILMENT</td>\n",
       "    </tr>\n",
       "    <tr>\n",
       "      <th>...</th>\n",
       "      <td>...</td>\n",
       "      <td>...</td>\n",
       "      <td>...</td>\n",
       "      <td>...</td>\n",
       "      <td>...</td>\n",
       "      <td>...</td>\n",
       "      <td>...</td>\n",
       "      <td>...</td>\n",
       "    </tr>\n",
       "    <tr>\n",
       "      <th>95</th>\n",
       "      <td>41.176525</td>\n",
       "      <td>2078.99200</td>\n",
       "      <td>383.745933</td>\n",
       "      <td>91.014366</td>\n",
       "      <td>0.363880</td>\n",
       "      <td>0</td>\n",
       "      <td>0.515552</td>\n",
       "      <td>NONENTAILMENT</td>\n",
       "    </tr>\n",
       "    <tr>\n",
       "      <th>96</th>\n",
       "      <td>8.346832</td>\n",
       "      <td>164.74274</td>\n",
       "      <td>63.822208</td>\n",
       "      <td>22.211134</td>\n",
       "      <td>0.415687</td>\n",
       "      <td>1</td>\n",
       "      <td>0.461147</td>\n",
       "      <td>ENTAILMENT</td>\n",
       "    </tr>\n",
       "    <tr>\n",
       "      <th>97</th>\n",
       "      <td>27.009216</td>\n",
       "      <td>2074.65770</td>\n",
       "      <td>373.729796</td>\n",
       "      <td>83.578557</td>\n",
       "      <td>0.368339</td>\n",
       "      <td>3</td>\n",
       "      <td>0.591632</td>\n",
       "      <td>NONENTAILMENT</td>\n",
       "    </tr>\n",
       "    <tr>\n",
       "      <th>98</th>\n",
       "      <td>17.902107</td>\n",
       "      <td>689.81537</td>\n",
       "      <td>163.529527</td>\n",
       "      <td>29.076957</td>\n",
       "      <td>0.454881</td>\n",
       "      <td>5</td>\n",
       "      <td>0.646072</td>\n",
       "      <td>NONENTAILMENT</td>\n",
       "    </tr>\n",
       "    <tr>\n",
       "      <th>99</th>\n",
       "      <td>6.479897</td>\n",
       "      <td>729.40660</td>\n",
       "      <td>63.836807</td>\n",
       "      <td>15.803333</td>\n",
       "      <td>0.338645</td>\n",
       "      <td>2</td>\n",
       "      <td>0.358709</td>\n",
       "      <td>NONENTAILMENT</td>\n",
       "    </tr>\n",
       "  </tbody>\n",
       "</table>\n",
       "<p>800 rows × 8 columns</p>\n",
       "</div>"
      ],
      "text/plain": [
       "         suma  distancias  mutual_info    m_earth  max_info_p  relaciones  \\\n",
       "0    5.679739    79.98151    26.125275   4.323032    1.000000           1   \n",
       "1   25.331194  1055.37120   153.406431  24.355206    0.389737           4   \n",
       "2   16.384842   845.79240   183.542110  37.086826    0.336778           3   \n",
       "3    0.000000     0.00000     0.000000   0.000000    0.000000           0   \n",
       "4   12.049216  1389.58010   131.118867  77.395240    0.294243           4   \n",
       "..        ...         ...          ...        ...         ...         ...   \n",
       "95  41.176525  2078.99200   383.745933  91.014366    0.363880           0   \n",
       "96   8.346832   164.74274    63.822208  22.211134    0.415687           1   \n",
       "97  27.009216  2074.65770   373.729796  83.578557    0.368339           3   \n",
       "98  17.902107   689.81537   163.529527  29.076957    0.454881           5   \n",
       "99   6.479897   729.40660    63.836807  15.803333    0.338645           2   \n",
       "\n",
       "    sim_faltantes          CLASS  \n",
       "0        0.661373     ENTAILMENT  \n",
       "1        0.742481  NONENTAILMENT  \n",
       "2        0.474353  NONENTAILMENT  \n",
       "3        1.000000     ENTAILMENT  \n",
       "4        0.474036  NONENTAILMENT  \n",
       "..            ...            ...  \n",
       "95       0.515552  NONENTAILMENT  \n",
       "96       0.461147     ENTAILMENT  \n",
       "97       0.591632  NONENTAILMENT  \n",
       "98       0.646072  NONENTAILMENT  \n",
       "99       0.358709  NONENTAILMENT  \n",
       "\n",
       "[800 rows x 8 columns]"
      ]
     },
     "execution_count": 138,
     "metadata": {},
     "output_type": "execute_result"
    }
   ],
   "source": [
    "test=test.drop([\"entropias\",\"antonimos\"],axis=1)\n",
    "test"
   ]
  },
  {
   "cell_type": "code",
   "execution_count": 139,
   "metadata": {},
   "outputs": [],
   "source": [
    "X_t = np.array(test.drop(['CLASS'],axis=1))\n",
    "y_t = np.array(test['CLASS'])"
   ]
  },
  {
   "cell_type": "code",
   "execution_count": 140,
   "metadata": {},
   "outputs": [],
   "source": [
    "# GHS\n",
    "y_test=[]\n",
    "for i in y_t:\n",
    "    if i == \"ENTAILMENT\":\n",
    "        y_test.append(1)\n",
    "    else:\n",
    "        y_test.append(0)"
   ]
  },
  {
   "cell_type": "code",
   "execution_count": 141,
   "metadata": {},
   "outputs": [],
   "source": [
    "scaler = preprocessing.StandardScaler().fit(X_t)\n",
    "X_scaled = scaler.transform(X_t)\n",
    "X_test = X_scaled"
   ]
  },
  {
   "cell_type": "markdown",
   "metadata": {},
   "source": [
    "# MODELO DE REGRESIÓN LÓGISTICA"
   ]
  },
  {
   "cell_type": "code",
   "execution_count": 142,
   "metadata": {},
   "outputs": [
    {
     "data": {
      "text/html": [
       "<style>#sk-container-id-5 {color: black;}#sk-container-id-5 pre{padding: 0;}#sk-container-id-5 div.sk-toggleable {background-color: white;}#sk-container-id-5 label.sk-toggleable__label {cursor: pointer;display: block;width: 100%;margin-bottom: 0;padding: 0.3em;box-sizing: border-box;text-align: center;}#sk-container-id-5 label.sk-toggleable__label-arrow:before {content: \"▸\";float: left;margin-right: 0.25em;color: #696969;}#sk-container-id-5 label.sk-toggleable__label-arrow:hover:before {color: black;}#sk-container-id-5 div.sk-estimator:hover label.sk-toggleable__label-arrow:before {color: black;}#sk-container-id-5 div.sk-toggleable__content {max-height: 0;max-width: 0;overflow: hidden;text-align: left;background-color: #f0f8ff;}#sk-container-id-5 div.sk-toggleable__content pre {margin: 0.2em;color: black;border-radius: 0.25em;background-color: #f0f8ff;}#sk-container-id-5 input.sk-toggleable__control:checked~div.sk-toggleable__content {max-height: 200px;max-width: 100%;overflow: auto;}#sk-container-id-5 input.sk-toggleable__control:checked~label.sk-toggleable__label-arrow:before {content: \"▾\";}#sk-container-id-5 div.sk-estimator input.sk-toggleable__control:checked~label.sk-toggleable__label {background-color: #d4ebff;}#sk-container-id-5 div.sk-label input.sk-toggleable__control:checked~label.sk-toggleable__label {background-color: #d4ebff;}#sk-container-id-5 input.sk-hidden--visually {border: 0;clip: rect(1px 1px 1px 1px);clip: rect(1px, 1px, 1px, 1px);height: 1px;margin: -1px;overflow: hidden;padding: 0;position: absolute;width: 1px;}#sk-container-id-5 div.sk-estimator {font-family: monospace;background-color: #f0f8ff;border: 1px dotted black;border-radius: 0.25em;box-sizing: border-box;margin-bottom: 0.5em;}#sk-container-id-5 div.sk-estimator:hover {background-color: #d4ebff;}#sk-container-id-5 div.sk-parallel-item::after {content: \"\";width: 100%;border-bottom: 1px solid gray;flex-grow: 1;}#sk-container-id-5 div.sk-label:hover label.sk-toggleable__label {background-color: #d4ebff;}#sk-container-id-5 div.sk-serial::before {content: \"\";position: absolute;border-left: 1px solid gray;box-sizing: border-box;top: 0;bottom: 0;left: 50%;z-index: 0;}#sk-container-id-5 div.sk-serial {display: flex;flex-direction: column;align-items: center;background-color: white;padding-right: 0.2em;padding-left: 0.2em;position: relative;}#sk-container-id-5 div.sk-item {position: relative;z-index: 1;}#sk-container-id-5 div.sk-parallel {display: flex;align-items: stretch;justify-content: center;background-color: white;position: relative;}#sk-container-id-5 div.sk-item::before, #sk-container-id-5 div.sk-parallel-item::before {content: \"\";position: absolute;border-left: 1px solid gray;box-sizing: border-box;top: 0;bottom: 0;left: 50%;z-index: -1;}#sk-container-id-5 div.sk-parallel-item {display: flex;flex-direction: column;z-index: 1;position: relative;background-color: white;}#sk-container-id-5 div.sk-parallel-item:first-child::after {align-self: flex-end;width: 50%;}#sk-container-id-5 div.sk-parallel-item:last-child::after {align-self: flex-start;width: 50%;}#sk-container-id-5 div.sk-parallel-item:only-child::after {width: 0;}#sk-container-id-5 div.sk-dashed-wrapped {border: 1px dashed gray;margin: 0 0.4em 0.5em 0.4em;box-sizing: border-box;padding-bottom: 0.4em;background-color: white;}#sk-container-id-5 div.sk-label label {font-family: monospace;font-weight: bold;display: inline-block;line-height: 1.2em;}#sk-container-id-5 div.sk-label-container {text-align: center;}#sk-container-id-5 div.sk-container {/* jupyter's `normalize.less` sets `[hidden] { display: none; }` but bootstrap.min.css set `[hidden] { display: none !important; }` so we also need the `!important` here to be able to override the default hidden behavior on the sphinx rendered scikit-learn.org. See: https://github.com/scikit-learn/scikit-learn/issues/21755 */display: inline-block !important;position: relative;}#sk-container-id-5 div.sk-text-repr-fallback {display: none;}</style><div id=\"sk-container-id-5\" class=\"sk-top-container\"><div class=\"sk-text-repr-fallback\"><pre>LogisticRegression(C=1)</pre><b>In a Jupyter environment, please rerun this cell to show the HTML representation or trust the notebook. <br />On GitHub, the HTML representation is unable to render, please try loading this page with nbviewer.org.</b></div><div class=\"sk-container\" hidden><div class=\"sk-item\"><div class=\"sk-estimator sk-toggleable\"><input class=\"sk-toggleable__control sk-hidden--visually\" id=\"sk-estimator-id-5\" type=\"checkbox\" checked><label for=\"sk-estimator-id-5\" class=\"sk-toggleable__label sk-toggleable__label-arrow\">LogisticRegression</label><div class=\"sk-toggleable__content\"><pre>LogisticRegression(C=1)</pre></div></div></div></div></div>"
      ],
      "text/plain": [
       "LogisticRegression(C=1)"
      ]
     },
     "execution_count": 142,
     "metadata": {},
     "output_type": "execute_result"
    }
   ],
   "source": [
    "model = linear_model.LogisticRegression(penalty=\"l2\", C=1)\n",
    "model.fit(X_train,y_train)"
   ]
  },
  {
   "cell_type": "code",
   "execution_count": 143,
   "metadata": {},
   "outputs": [
    {
     "data": {
      "text/plain": [
       "{'C': 1,\n",
       " 'class_weight': None,\n",
       " 'dual': False,\n",
       " 'fit_intercept': True,\n",
       " 'intercept_scaling': 1,\n",
       " 'l1_ratio': None,\n",
       " 'max_iter': 100,\n",
       " 'multi_class': 'auto',\n",
       " 'n_jobs': None,\n",
       " 'penalty': 'l2',\n",
       " 'random_state': None,\n",
       " 'solver': 'lbfgs',\n",
       " 'tol': 0.0001,\n",
       " 'verbose': 0,\n",
       " 'warm_start': False}"
      ]
     },
     "execution_count": 143,
     "metadata": {},
     "output_type": "execute_result"
    }
   ],
   "source": [
    "model.get_params()"
   ]
  },
  {
   "cell_type": "code",
   "execution_count": 144,
   "metadata": {},
   "outputs": [
    {
     "data": {
      "text/plain": [
       "array([ 9.43808249e-01, -7.58236364e-01,  4.00486989e-01,  9.43808249e-01,\n",
       "       -6.72220794e-02,  6.72147619e-01,  9.43808249e-01,  6.72147619e-01,\n",
       "        1.69222805e-02, -1.37710830e+00,  6.72147619e-01,  9.43808249e-01,\n",
       "        3.01228772e-01,  4.32440121e-01,  6.58529497e-01,  9.43808249e-01,\n",
       "        4.00486989e-01,  2.62384008e-01,  8.47127024e-02,  3.07538783e-01,\n",
       "       -1.07141780e-01,  6.72147619e-01,  6.72147619e-01,  6.72147619e-01,\n",
       "       -9.19548467e-02,  4.00486989e-01,  6.72147619e-01, -1.47357219e-01,\n",
       "        2.36813565e-02,  1.70898043e-01,  2.72149204e-01,  4.00486989e-01,\n",
       "        2.34846903e-01,  2.51579096e-01,  6.72147619e-01,  6.72147619e-01,\n",
       "        4.00486989e-01,  1.44494433e-01,  5.27396364e-02,  9.43808249e-01,\n",
       "        9.43808249e-01,  8.89772031e-02, -1.50758706e-01,  2.87845696e-01,\n",
       "        4.00486989e-01,  4.00486989e-01,  6.72147619e-01,  4.00486989e-01,\n",
       "        9.43808249e-01,  6.72147619e-01, -3.62597029e-01,  1.70375713e-02,\n",
       "       -6.58963756e-01,  9.43808249e-01, -1.21492227e-02,  2.50279925e-01,\n",
       "        6.72147619e-01,  9.43808249e-01,  2.80869890e-01,  1.90510970e-01,\n",
       "        8.62184471e-01, -8.38913052e-03,  9.43808249e-01,  1.28826360e-01,\n",
       "        9.43808249e-01,  3.51514119e-01,  6.72147619e-01,  2.11541635e-01,\n",
       "        6.72147619e-01, -1.94362618e-01,  4.00486989e-01,  2.37863492e-01,\n",
       "        9.43808249e-01,  9.43808249e-01,  6.72147619e-01,  1.90272984e-01,\n",
       "        1.08176983e-01,  9.43808249e-01,  1.22097430e-02,  6.72147619e-01,\n",
       "       -2.15255135e-01, -3.32955724e-01, -1.16462550e-01, -7.19084573e-01,\n",
       "        9.43808249e-01,  9.43808249e-01,  2.09169063e-01,  1.75952187e-02,\n",
       "        9.43808249e-01,  3.29576465e-02,  9.43808249e-01,  3.26343381e-01,\n",
       "        6.72147619e-01,  4.00486989e-01,  9.43808249e-01,  9.43808249e-01,\n",
       "        1.16008406e-01,  3.14292881e-01,  6.72147619e-01,  9.43808249e-01,\n",
       "        6.06261068e-02,  9.43808249e-01,  4.00486989e-01, -4.82352944e-03,\n",
       "        6.98571811e-03,  4.32398602e-02,  1.03854739e-01,  6.72147619e-01,\n",
       "        6.72147619e-01,  9.43808249e-01,  9.43808249e-01,  6.72147619e-01,\n",
       "        9.43808249e-01, -8.81415490e-01, -4.76103689e-01,  4.00486989e-01,\n",
       "       -2.79960054e-01, -7.12669159e-01,  1.28826360e-01, -5.78499712e-01,\n",
       "       -4.57353712e-01,  4.00486989e-01,  1.28826360e-01,  2.40667365e-01,\n",
       "        5.05441594e-02,  6.01710123e-02,  9.43808249e-01,  1.31309566e-01,\n",
       "        6.72147619e-01,  4.25603425e-02,  5.06224019e-02, -5.84270101e-03,\n",
       "        9.43808249e-01,  9.43808249e-01,  2.65597690e-02,  1.90819159e-01,\n",
       "        9.43808249e-01,  6.72147619e-01,  2.16601220e-01,  4.00486989e-01,\n",
       "       -9.85396536e-02,  4.00486989e-01, -9.69583001e-02,  1.28826360e-01,\n",
       "        1.27938356e-01,  9.43808249e-01,  1.69370084e-01,  9.43808249e-01,\n",
       "        4.00486989e-01,  6.72147619e-01,  4.35862862e-03,  6.72147619e-01,\n",
       "       -4.90967032e-01,  6.35243604e-02,  4.00486989e-01,  1.45580807e-01,\n",
       "       -6.13012507e-02,  6.72147619e-01,  6.72147619e-01,  2.18693954e-01,\n",
       "        3.30085248e-01, -3.40659185e-01, -8.90038095e-02,  3.42419679e-01,\n",
       "        4.00486989e-01, -6.24268959e-02,  2.45685255e-01,  4.00486989e-01,\n",
       "        9.43808249e-01,  6.72147619e-01,  1.28826360e-01,  6.72147619e-01,\n",
       "        6.72147619e-01,  2.70434411e-01,  9.43808249e-01, -1.25695645e+00,\n",
       "        6.72147619e-01,  6.72147619e-01,  9.43808249e-01,  9.43808249e-01,\n",
       "        1.28826360e-01,  4.00486989e-01,  6.72147619e-01,  6.72147619e-01,\n",
       "        3.81177940e-01,  6.72147619e-01,  4.00486989e-01,  6.72147619e-01,\n",
       "       -5.63641129e-02, -1.76009239e-01,  6.72147619e-01,  9.43808249e-01,\n",
       "        4.00486989e-01,  5.87046975e-02,  9.53881085e-02,  6.72147619e-01,\n",
       "        1.61349330e-01,  1.99510305e-01,  9.43808249e-01,  4.00486989e-01,\n",
       "        1.28826360e-01,  9.80863506e-02,  1.28826360e-01,  9.43808249e-01,\n",
       "       -1.54955535e+00,  9.43808249e-01, -8.86082543e-02,  8.72634556e-02,\n",
       "       -1.22146549e-01,  4.46443450e-01,  1.99152149e-02,  6.72147619e-01,\n",
       "       -3.19010868e-01,  3.08364550e-01,  2.47679005e-01,  4.00486989e-01,\n",
       "       -7.69798071e-01,  1.28826360e-01, -5.40187921e-01, -7.03503203e-01,\n",
       "       -8.59955448e-02,  9.43808249e-01, -4.93624991e-01, -1.36966838e-01,\n",
       "        9.43808249e-01,  6.72147619e-01, -1.46102128e-01, -2.00178751e+00,\n",
       "       -8.11651645e-01,  9.43808249e-01, -1.68372563e-01, -3.77902979e-01,\n",
       "       -5.07643635e-01,  6.72147619e-01,  1.55403047e-01,  9.43808249e-01,\n",
       "       -6.81401873e-01,  6.72147619e-01, -3.35151751e-01, -4.91565575e-01,\n",
       "        1.97196733e-01, -3.18383085e-01, -9.70479591e-01,  9.43808249e-01,\n",
       "        6.72147619e-01,  1.46876832e-01,  6.72147619e-01, -9.59213313e-02,\n",
       "        1.77759352e-01, -1.39131142e+00, -2.56982219e-01, -6.70590371e-01,\n",
       "       -1.40036352e+00, -1.05038022e+00, -3.07815293e-01, -1.57946988e+00,\n",
       "        3.00215279e-01,  9.43808249e-01,  1.35404437e-01, -5.48349520e-01,\n",
       "       -4.14494900e-01,  1.73424053e-03, -5.83210543e-01,  9.43808249e-01,\n",
       "       -1.18190622e+00, -2.39802744e-01, -1.12912173e+00,  2.01520887e-01,\n",
       "        1.28826360e-01, -3.22413400e-01, -3.42108108e-01, -8.87255513e-01,\n",
       "        6.72147619e-01, -4.36842887e-01, -8.80767063e-01, -2.20562828e-01,\n",
       "        9.43808249e-01,  9.43808249e-01, -4.43005727e-01,  4.13856369e-01,\n",
       "       -5.37839157e-01,  1.03343982e-01, -2.96680618e-01,  7.14409171e-02,\n",
       "        6.36528410e-02,  8.37069072e-02,  5.15136420e-02,  9.43808249e-01,\n",
       "       -1.32208231e-01, -3.59044793e-01, -9.58095877e-01, -3.60990732e-01,\n",
       "        1.28826360e-01,  6.72147619e-01, -5.35181341e-01, -4.50466981e-01,\n",
       "        6.72147619e-01,  1.95965909e-01, -1.43835716e+00, -6.94932016e-02,\n",
       "        1.28826360e-01, -4.07991704e-02, -1.12457140e-01, -1.32341626e-01,\n",
       "       -3.78208085e-02, -5.27717049e-01, -8.71602683e-03, -6.28725383e-01,\n",
       "        1.28826360e-01, -2.82757246e-01,  9.43808249e-01,  1.63753368e-01,\n",
       "        9.43808249e-01, -4.43831947e-01,  9.43808249e-01, -9.11358501e-01,\n",
       "        9.43808249e-01,  1.76335572e-01, -1.58195273e+00,  1.28826360e-01,\n",
       "        6.72147619e-01, -1.45923893e+00, -3.22711761e-01,  2.20854275e-01,\n",
       "       -1.81279187e-01, -4.53078929e-01,  1.86359122e-02,  1.30358862e-01,\n",
       "        7.32038438e-02,  1.96084821e-01, -5.34304854e-01,  4.00486989e-01,\n",
       "       -6.13770500e-01, -7.33405821e-02, -6.53120262e-01,  8.17230829e-03,\n",
       "        9.43808249e-01,  9.43808249e-01, -3.78879532e-01, -5.84927592e-01,\n",
       "       -6.32777150e-02, -1.83138565e+00, -2.24133837e-01,  6.72147619e-01,\n",
       "       -9.73006377e-01,  9.43808249e-01, -7.92592535e-01, -5.08771727e-01,\n",
       "       -8.88259790e-01, -1.82902357e-01,  4.00486989e-01, -2.80548183e-01,\n",
       "       -1.05271973e+00, -1.88500228e-01,  1.24539535e-01, -6.56483661e-01,\n",
       "        9.43808249e-01,  9.43808249e-01, -1.16563146e-01, -1.42834270e-01,\n",
       "       -6.86155530e-01,  9.43808249e-01, -1.89960403e-01, -4.16028445e-01,\n",
       "        3.62994011e-02,  1.28826360e-01, -1.26994576e+00,  5.46691214e-02,\n",
       "       -1.22037533e+00, -7.49078756e-01, -2.83085646e-01, -5.68472613e-02,\n",
       "        1.21354347e-01, -2.23743697e-01, -1.51548208e-01, -2.16375421e-01,\n",
       "        9.43808249e-01,  9.43808249e-01, -2.21346725e-01, -9.07474375e-01,\n",
       "        1.53080477e-01, -8.49816746e-01, -5.28065263e-01, -2.42923405e-01,\n",
       "       -3.75870689e-01, -2.68098298e-01, -2.95998930e-01, -1.07312135e+00,\n",
       "       -1.51661440e-01, -2.17809857e-01, -8.78252305e-01,  9.43808249e-01,\n",
       "       -5.50310976e-01, -9.46719385e-02,  1.39485754e-02,  9.43808249e-01,\n",
       "        6.72147619e-01, -1.16073173e-01,  9.43808249e-01, -2.37638878e-01,\n",
       "       -1.20676870e+00, -6.86155530e-01,  9.43808249e-01, -1.62581107e+00,\n",
       "       -1.23806605e+00, -1.74737430e-01,  9.43808249e-01,  6.72147619e-01,\n",
       "       -1.77366470e+00, -2.16970259e-01,  9.43808249e-01, -2.90358556e-01,\n",
       "       -5.15249053e-01, -6.06950099e-01, -1.02835220e+00, -4.14494900e-01,\n",
       "        9.43808249e-01, -4.73227162e-01, -1.05450400e-01,  4.00486989e-01,\n",
       "        9.43808249e-01,  1.04976303e+00, -6.76246058e-01, -1.09922906e+00,\n",
       "        3.63233163e-01,  5.02547617e-02, -2.75521259e+00, -7.18318547e+00,\n",
       "       -7.21399101e+00, -6.07070475e-01, -9.71613977e-01,  9.43808249e-01,\n",
       "        9.43808249e-01,  6.72147619e-01, -2.10156136e+00,  9.43808249e-01,\n",
       "       -4.48752173e-01,  9.43808249e-01,  6.72147619e-01,  6.72147619e-01,\n",
       "        9.43808249e-01,  6.72147619e-01,  1.74643334e-01,  1.55104979e-01,\n",
       "        6.72147619e-01,  4.00486989e-01, -9.69675795e-01, -3.69275151e+00,\n",
       "       -1.78124568e-01, -9.63905051e-03,  1.89467905e-01,  4.29527024e-02,\n",
       "        3.78833616e-01,  6.81477449e-02,  9.43808249e-01,  9.43808249e-01,\n",
       "        9.43808249e-01, -1.42834270e-01,  6.72147619e-01,  1.28826360e-01,\n",
       "        4.00486989e-01, -1.62714876e+00,  9.43808249e-01, -3.14660141e-01,\n",
       "        6.72147619e-01,  6.72147619e-01,  6.72147619e-01, -1.63286597e-01,\n",
       "       -2.92754189e-01,  9.43808249e-01,  9.43808249e-01,  6.72147619e-01,\n",
       "        1.57424404e-01,  3.82507295e-01,  3.59549040e-01,  6.97097867e-02,\n",
       "        9.43808249e-01, -1.06040687e-01,  1.31331729e-01, -2.41602936e-01,\n",
       "        9.43808249e-01,  9.43808249e-01, -7.83648085e-01, -6.96517649e-01,\n",
       "        2.13907092e-02,  5.02369216e-02,  6.27168960e-02,  9.43808249e-01,\n",
       "        9.43808249e-01,  5.35300441e-02,  9.43808249e-01, -5.71992182e-01,\n",
       "        4.02283254e-01, -4.01886227e-01,  9.43808249e-01,  9.43808249e-01,\n",
       "       -2.69225987e-02,  9.43808249e-01,  7.58485204e-01,  9.43808249e-01,\n",
       "        1.65035828e-01,  6.72147619e-01,  9.43808249e-01,  9.43808249e-01,\n",
       "        6.72147619e-01,  4.00486989e-01,  6.72147619e-01,  6.72147619e-01,\n",
       "        9.43808249e-01,  3.86983850e-01, -9.14892714e-01,  9.43808249e-01,\n",
       "        9.43808249e-01,  5.80047789e-01,  9.43808249e-01,  3.16127992e-01,\n",
       "        6.72147619e-01,  3.07424909e-01, -6.76705271e-01, -1.34615142e+00,\n",
       "       -1.75398540e+00,  4.00486989e-01,  9.43808249e-01, -1.86299058e+00,\n",
       "       -2.31504478e+00, -3.64192059e+00,  9.43808249e-01, -1.31701910e+00,\n",
       "        6.72147619e-01,  2.77872476e-01,  3.41544347e-02, -9.58557956e-02,\n",
       "        9.43808249e-01,  3.10813143e-01, -8.85573669e-02,  7.13968870e-02,\n",
       "        6.72147619e-01,  9.43808249e-01,  1.56776737e-01,  9.43808249e-01,\n",
       "        9.43808249e-01,  6.72147619e-01, -1.16325462e+00, -5.78968669e-02,\n",
       "        9.43808249e-01,  1.15546063e-01,  7.85578630e-02, -3.14167854e-01,\n",
       "        9.43808249e-01,  6.72147619e-01, -5.62636834e-01,  4.00486989e-01,\n",
       "        4.00486989e-01, -1.58390127e+00,  2.24812551e-01,  9.43808249e-01,\n",
       "        9.43808249e-01,  9.43808249e-01, -2.75607191e-01,  1.61984231e-01,\n",
       "       -1.05950736e+00,  9.43808249e-01,  9.43808249e-01,  6.72147619e-01,\n",
       "        9.43808249e-01,  9.43808249e-01,  9.43808249e-01,  1.30727543e-01,\n",
       "        9.43808249e-01, -1.23862562e-02, -5.17204215e-01,  9.43808249e-01,\n",
       "        4.97745869e-01,  3.35479200e-01, -7.78845598e-01, -4.45406344e-01,\n",
       "       -7.93867502e-01, -9.65657450e-01, -3.14659074e-01,  8.97240975e-03,\n",
       "        9.43808249e-01, -1.15635985e-01, -8.13296343e-01,  4.00486989e-01,\n",
       "        4.00486989e-01,  9.43808249e-01, -3.36331866e+00,  6.72147619e-01,\n",
       "       -2.04595183e+00,  4.00486989e-01,  1.28826360e-01,  3.31289653e-01,\n",
       "       -3.17475998e-01,  1.62729769e-01, -3.42099265e+00,  6.71033624e-02,\n",
       "        1.67252117e-01, -4.72415516e-01,  1.09820955e-01, -4.14494900e-01,\n",
       "        9.43808249e-01, -1.04072818e+00,  1.28826360e-01,  1.46780467e-01,\n",
       "        9.43808249e-01,  7.26899492e-02,  9.43808249e-01,  6.72147619e-01,\n",
       "       -3.94013549e-01,  9.43808249e-01, -1.94013883e+00,  1.42471036e-02,\n",
       "       -4.58846339e-01,  4.00486989e-01,  4.00486989e-01, -1.33725238e+00,\n",
       "       -3.35214762e+00,  1.93628653e-01, -8.11563126e-01, -1.95629356e+00,\n",
       "       -5.69201904e-01, -3.89616549e-01,  1.39894821e+00,  1.09519884e+00,\n",
       "        1.68118569e-01,  9.43808249e-01, -2.70509881e-01, -1.72913276e+00,\n",
       "        6.72147619e-01, -2.22894231e-01, -1.97978585e+00,  9.43808249e-01,\n",
       "       -5.71472300e-01,  9.43808249e-01, -7.51816570e-02,  6.72147619e-01,\n",
       "       -4.63211829e-01, -5.67333655e-01, -2.15865124e+00,  2.22253425e-01,\n",
       "       -2.51995067e-02, -4.46304535e-01, -2.38737990e-01, -2.86013244e+00,\n",
       "       -8.74391311e-02, -1.83586173e+00, -8.25661524e-01, -5.90319771e-02,\n",
       "       -3.16558136e+00, -5.98694992e-01, -9.95968883e-01, -4.11403641e-01,\n",
       "       -3.66919115e-01, -1.45242683e-01, -7.61967634e-01,  9.43808249e-01,\n",
       "        1.78084793e-01, -4.08747828e-02,  4.28273764e-01, -5.02476895e-01,\n",
       "       -1.13258137e+00, -2.04218061e-01, -1.32398469e+00, -1.64081095e+00,\n",
       "        2.87281738e-01,  9.43808249e-01,  9.43808249e-01,  9.43808249e-01,\n",
       "        9.27140745e-02,  8.56230537e-03, -4.22305277e-01, -2.20828653e-01,\n",
       "       -3.41959251e-01, -6.66585573e-01,  9.43808249e-01, -9.30781578e-01,\n",
       "       -7.77480879e-01, -9.06414255e-01, -2.05930042e+00, -1.17351452e+00,\n",
       "       -1.82372772e+00, -1.21148475e+00, -1.21267060e+00, -1.26984193e+00,\n",
       "       -1.28426309e+00, -3.23135212e+00, -2.15095660e+00, -5.49401964e-01,\n",
       "        9.43808249e-01, -1.04188311e+00, -3.73696388e-01, -1.57983835e+00,\n",
       "       -5.97839299e-01, -1.67789341e+00, -1.28975113e+00, -2.12421130e+00,\n",
       "        1.62594930e-02,  9.43808249e-01, -7.79348705e-01,  3.65499801e-01,\n",
       "       -5.01023475e-01,  1.37179903e-01, -6.18797442e-01, -7.55577419e-01,\n",
       "       -1.92826393e+00, -2.54995264e+00,  9.43808249e-01, -3.28086914e-01,\n",
       "       -7.60767708e-01,  2.20344770e-01, -1.21114893e+00, -2.36671566e+00,\n",
       "        1.82614423e-01, -3.62325128e+00, -7.06567300e+00,  4.00486989e-01,\n",
       "       -1.44305909e+00, -8.31877839e-01, -1.76042329e+00, -1.73102062e+00,\n",
       "       -1.37875648e+00, -5.36006599e-01, -1.16660444e+00, -4.83393666e-01,\n",
       "        9.43808249e-01,  9.43808249e-01,  9.43808249e-01,  9.43808249e-01,\n",
       "        6.72147619e-01,  6.72147619e-01, -7.58918847e-01, -1.94200434e-01,\n",
       "        9.43808249e-01,  6.72147619e-01, -4.47862337e-01,  9.43808249e-01,\n",
       "        9.43808249e-01, -3.56488013e-01,  1.24769784e-01, -8.95092862e-03,\n",
       "        8.53268283e-02,  6.72147619e-01,  1.18245910e-01,  2.25616242e-01,\n",
       "        9.43808249e-01,  6.72147619e-01,  9.43808249e-01, -1.49126710e-01,\n",
       "        9.43808249e-01,  4.00486989e-01,  9.43808249e-01,  6.72147619e-01,\n",
       "       -3.63260578e-01,  1.47091670e-01,  3.04034856e-01,  6.72147619e-01,\n",
       "        2.58204765e-01,  9.43808249e-01, -3.00794282e-01,  9.43808249e-01,\n",
       "        9.43808249e-01,  6.72147619e-01, -1.22661726e-01,  9.43808249e-01,\n",
       "        9.43808249e-01,  9.43808249e-01,  8.70053431e-01,  1.95964491e-01,\n",
       "        6.69189942e-01,  9.43808249e-01,  5.73922771e-01, -5.63068122e-01,\n",
       "        2.60442918e-01,  9.43808249e-01,  9.43808249e-01,  1.13848584e+00,\n",
       "        1.28826360e-01,  9.43808249e-01, -5.77881823e-01,  1.99467096e-01,\n",
       "        9.43808249e-01,  9.43808249e-01,  9.43808249e-01,  9.43808249e-01,\n",
       "        3.60784125e-01,  9.43808249e-01, -3.41375498e-01,  9.43808249e-01,\n",
       "       -1.05977557e+00,  4.00486989e-01,  2.79611351e-01, -1.04787243e+00,\n",
       "       -2.27824203e-01,  6.97900251e-03,  2.26633344e-01,  1.98619412e-01,\n",
       "        9.43808249e-01,  9.43808249e-01,  9.43808249e-01,  2.29038304e-01])"
      ]
     },
     "execution_count": 144,
     "metadata": {},
     "output_type": "execute_result"
    }
   ],
   "source": [
    "model.decision_function(X)"
   ]
  },
  {
   "cell_type": "code",
   "execution_count": 145,
   "metadata": {},
   "outputs": [
    {
     "data": {
      "text/plain": [
       "Index(['suma', 'distancias', 'mutual_info', 'm_earth', 'max_info_p',\n",
       "       'relaciones', 'sim_faltantes'],\n",
       "      dtype='object')"
      ]
     },
     "execution_count": 145,
     "metadata": {},
     "output_type": "execute_result"
    }
   ],
   "source": [
    "labels=train.columns[:-1]\n",
    "labels"
   ]
  },
  {
   "cell_type": "code",
   "execution_count": 146,
   "metadata": {},
   "outputs": [
    {
     "data": {
      "text/plain": [
       "array([0, 1])"
      ]
     },
     "execution_count": 146,
     "metadata": {},
     "output_type": "execute_result"
    }
   ],
   "source": [
    "model.classes_"
   ]
  },
  {
   "cell_type": "code",
   "execution_count": 147,
   "metadata": {},
   "outputs": [
    {
     "data": {
      "text/plain": [
       "array([ 0.03144597, -0.68496977, -0.22583299,  0.18450096, -0.06247202,\n",
       "       -0.335751  ,  0.12832687])"
      ]
     },
     "execution_count": 147,
     "metadata": {},
     "output_type": "execute_result"
    }
   ],
   "source": [
    "model.coef_[0]"
   ]
  },
  {
   "cell_type": "code",
   "execution_count": 148,
   "metadata": {},
   "outputs": [],
   "source": [
    "coeficientes=model.coef_[0]"
   ]
  },
  {
   "cell_type": "code",
   "execution_count": 149,
   "metadata": {},
   "outputs": [
    {
     "name": "stdout",
     "output_type": "stream",
     "text": [
      "Maximo,minimo  3 m_earth 1 distancias\n"
     ]
    }
   ],
   "source": [
    "print(\"Maximo,minimo \",np.argmax(coeficientes),labels[np.argmax(coeficientes)],np.argmin(coeficientes),labels[np.argmin(coeficientes)])"
   ]
  },
  {
   "cell_type": "code",
   "execution_count": 150,
   "metadata": {},
   "outputs": [],
   "source": [
    "n_columns=train.shape[1]-1"
   ]
  },
  {
   "cell_type": "code",
   "execution_count": 151,
   "metadata": {},
   "outputs": [
    {
     "data": {
      "text/plain": [
       "7"
      ]
     },
     "execution_count": 151,
     "metadata": {},
     "output_type": "execute_result"
    }
   ],
   "source": [
    "n_columns"
   ]
  },
  {
   "cell_type": "code",
   "execution_count": 152,
   "metadata": {},
   "outputs": [
    {
     "data": {
      "image/png": "[encoded data removed]",
      "text/plain": [
       "<Figure size 640x480 with 1 Axes>"
      ]
     },
     "metadata": {},
     "output_type": "display_data"
    }
   ],
   "source": [
    "import matplotlib.pyplot as plt\n",
    "import numpy as np\n",
    "\n",
    "x_v = np.arange(0,n_columns,1)\n",
    "y_v = coeficientes\n",
    "\n",
    "plt.bar(x_v,y_v)\n",
    "plt.xlabel('x')\n",
    "plt.ylabel('y')\n",
    "plt.title('Coeficientes')\n",
    "plt.show()"
   ]
  },
  {
   "cell_type": "code",
   "execution_count": 153,
   "metadata": {},
   "outputs": [],
   "source": [
    "predictions = model.predict(X_test)"
   ]
  },
  {
   "cell_type": "code",
   "execution_count": 154,
   "metadata": {},
   "outputs": [
    {
     "name": "stdout",
     "output_type": "stream",
     "text": [
      "[[326  75]\n",
      " [  7 392]]\n"
     ]
    }
   ],
   "source": [
    "print(confusion_matrix(y_test, predictions))"
   ]
  },
  {
   "cell_type": "code",
   "execution_count": 155,
   "metadata": {},
   "outputs": [
    {
     "name": "stdout",
     "output_type": "stream",
     "text": [
      "acccuracy:  0.9\n",
      "precision:  0.84\n",
      "recall 0.98\n",
      "f1_score:  0.91\n",
      "matthews_score:  0.81\n"
     ]
    }
   ],
   "source": [
    "print(\"acccuracy: \",round(accuracy_score(y_test,predictions),2))\n",
    "print(\"precision: \",round(precision_score(y_test,predictions),2))\n",
    "print(\"recall\",round(recall_score(y_test,predictions),2))\n",
    "print(\"f1_score: \",round(f1_score(y_test,predictions),2))\n",
    "print(\"matthews_score: \",round(matthews_corrcoef(y_test,predictions),2))"
   ]
  },
  {
   "cell_type": "code",
   "execution_count": 156,
   "metadata": {},
   "outputs": [],
   "source": [
    "X_cv=np.concatenate((X_train, X_test), axis=0)\n",
    "Y_cv=np.concatenate((y_train, y_test), axis=0)"
   ]
  },
  {
   "cell_type": "code",
   "execution_count": 157,
   "metadata": {},
   "outputs": [],
   "source": [
    "validation_size = 0.20\n",
    "X_train_cv, X_validation_cv, Y_train_cv, Y_validation_cv = model_selection.train_test_split(X_cv, Y_cv, test_size=validation_size)"
   ]
  },
  {
   "cell_type": "code",
   "execution_count": 158,
   "metadata": {},
   "outputs": [
    {
     "name": "stdout",
     "output_type": "stream",
     "text": [
      "Logistic Regression: 0.780000 (0.063497)\n"
     ]
    }
   ],
   "source": [
    "name='Logistic Regression'\n",
    "kfold = model_selection.KFold(n_splits=20)\n",
    "cv_results = model_selection.cross_val_score(model, X_train_cv, Y_train_cv, cv=kfold, scoring='precision')\n",
    "msg = \"%s: %f (%f)\" % (name, round(cv_results.mean(),2), cv_results.std())\n",
    "print(msg)"
   ]
  },
  {
   "cell_type": "code",
   "execution_count": 159,
   "metadata": {},
   "outputs": [
    {
     "name": "stdout",
     "output_type": "stream",
     "text": [
      "Logistic Regression: 0.870000 (0.041203)\n"
     ]
    }
   ],
   "source": [
    "name='Logistic Regression'\n",
    "kfold = model_selection.KFold(n_splits=20)\n",
    "cv_results = model_selection.cross_val_score(model, X_train_cv, Y_train_cv, cv=kfold, scoring='recall')\n",
    "msg = \"%s: %f (%f)\" % (name, round(cv_results.mean(),2), cv_results.std())\n",
    "print(msg)"
   ]
  },
  {
   "cell_type": "code",
   "execution_count": 160,
   "metadata": {},
   "outputs": [
    {
     "name": "stdout",
     "output_type": "stream",
     "text": [
      "Logistic Regression: 0.820000 (0.036318)\n"
     ]
    }
   ],
   "source": [
    "name='Logistic Regression'\n",
    "kfold = model_selection.KFold(n_splits=20)\n",
    "cv_results = model_selection.cross_val_score(model, X_train_cv, Y_train_cv, cv=kfold, scoring='f1')\n",
    "msg = \"%s: %f (%f)\" % (name, round(cv_results.mean(),2), cv_results.std())\n",
    "print(msg)"
   ]
  },
  {
   "cell_type": "code",
   "execution_count": 161,
   "metadata": {},
   "outputs": [
    {
     "name": "stdout",
     "output_type": "stream",
     "text": [
      "Logistic Regression: 0.620000 (0.071579)\n"
     ]
    }
   ],
   "source": [
    "name='Logistic Regression'\n",
    "kfold = model_selection.KFold(n_splits=20)\n",
    "cv_results = model_selection.cross_val_score(model, X_train_cv, Y_train_cv, cv=kfold, scoring='matthews_corrcoef')\n",
    "msg = \"%s: %f (%f)\" % (name, round(cv_results.mean(),2), cv_results.std())\n",
    "print(msg)"
   ]
  }
 ],
 "metadata": {
  "kernelspec": {
   "display_name": "Python 3",
   "language": "python",
   "name": "python3"
  },
  "language_info": {
   "codemirror_mode": {
    "name": "ipython",
    "version": 3
   },
   "file_extension": ".py",
   "mimetype": "text/x-python",
   "name": "python",
   "nbconvert_exporter": "python",
   "pygments_lexer": "ipython3",
   "version": "3.9.13"
  }
 },
 "nbformat": 4,
 "nbformat_minor": 2
}
