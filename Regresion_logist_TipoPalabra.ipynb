{
 "cells": [
  {
   "cell_type": "code",
   "execution_count": 46,
   "metadata": {},
   "outputs": [],
   "source": [
    "import pandas as pd\n",
    "import numpy as np\n",
    "from sklearn import linear_model\n",
    "from sklearn import model_selection\n",
    "from sklearn.metrics import classification_report\n",
    "from sklearn.metrics import confusion_matrix\n",
    "from sklearn.metrics import accuracy_score\n",
    "import matplotlib.pyplot as plt\n",
    "import seaborn as sb"
   ]
  },
  {
   "cell_type": "code",
   "execution_count": 47,
   "metadata": {},
   "outputs": [
    {
     "data": {
      "text/html": [
       "<div>\n",
       "<style scoped>\n",
       "    .dataframe tbody tr th:only-of-type {\n",
       "        vertical-align: middle;\n",
       "    }\n",
       "\n",
       "    .dataframe tbody tr th {\n",
       "        vertical-align: top;\n",
       "    }\n",
       "\n",
       "    .dataframe thead th {\n",
       "        text-align: right;\n",
       "    }\n",
       "</style>\n",
       "<table border=\"1\" class=\"dataframe\">\n",
       "  <thead>\n",
       "    <tr style=\"text-align: right;\">\n",
       "      <th></th>\n",
       "      <th>NOUN_NOUN</th>\n",
       "      <th>NOUN_ADJ</th>\n",
       "      <th>NOUN_VERB</th>\n",
       "      <th>NOUN_ADV</th>\n",
       "      <th>ADJ_NOUN</th>\n",
       "      <th>ADJ_ADJ</th>\n",
       "      <th>ADJ_VERB</th>\n",
       "      <th>ADJ_ADV</th>\n",
       "      <th>VERB_NOUN</th>\n",
       "      <th>VERB_ADJ</th>\n",
       "      <th>VERB_VERB</th>\n",
       "      <th>VERB_ADV</th>\n",
       "      <th>ADV_NOUN</th>\n",
       "      <th>ADV_ADJ</th>\n",
       "      <th>ADV_VERB</th>\n",
       "      <th>ADV_ADV</th>\n",
       "      <th>CLASS</th>\n",
       "    </tr>\n",
       "  </thead>\n",
       "  <tbody>\n",
       "    <tr>\n",
       "      <th>0</th>\n",
       "      <td>23.182777</td>\n",
       "      <td>0.000000</td>\n",
       "      <td>8.168021</td>\n",
       "      <td>0.00000</td>\n",
       "      <td>3.787637</td>\n",
       "      <td>0.000000</td>\n",
       "      <td>0.000000</td>\n",
       "      <td>0.00000</td>\n",
       "      <td>1.747140</td>\n",
       "      <td>0.00000</td>\n",
       "      <td>2.091629</td>\n",
       "      <td>0.00000</td>\n",
       "      <td>0.000000</td>\n",
       "      <td>0.0</td>\n",
       "      <td>0.0</td>\n",
       "      <td>0.0</td>\n",
       "      <td>entailment</td>\n",
       "    </tr>\n",
       "    <tr>\n",
       "      <th>1</th>\n",
       "      <td>22.942028</td>\n",
       "      <td>1.591551</td>\n",
       "      <td>2.134990</td>\n",
       "      <td>0.00000</td>\n",
       "      <td>0.000000</td>\n",
       "      <td>8.615627</td>\n",
       "      <td>0.000000</td>\n",
       "      <td>0.00000</td>\n",
       "      <td>6.468956</td>\n",
       "      <td>0.00000</td>\n",
       "      <td>1.410625</td>\n",
       "      <td>0.00000</td>\n",
       "      <td>0.000000</td>\n",
       "      <td>0.0</td>\n",
       "      <td>0.0</td>\n",
       "      <td>0.0</td>\n",
       "      <td>entailment</td>\n",
       "    </tr>\n",
       "    <tr>\n",
       "      <th>2</th>\n",
       "      <td>14.880619</td>\n",
       "      <td>1.824592</td>\n",
       "      <td>3.687874</td>\n",
       "      <td>0.00000</td>\n",
       "      <td>5.383794</td>\n",
       "      <td>0.000000</td>\n",
       "      <td>3.665578</td>\n",
       "      <td>0.00000</td>\n",
       "      <td>1.199861</td>\n",
       "      <td>0.00000</td>\n",
       "      <td>3.661071</td>\n",
       "      <td>0.00000</td>\n",
       "      <td>0.000000</td>\n",
       "      <td>0.0</td>\n",
       "      <td>0.0</td>\n",
       "      <td>0.0</td>\n",
       "      <td>contradiction</td>\n",
       "    </tr>\n",
       "    <tr>\n",
       "      <th>3</th>\n",
       "      <td>6.220228</td>\n",
       "      <td>0.000000</td>\n",
       "      <td>1.236711</td>\n",
       "      <td>0.00000</td>\n",
       "      <td>2.620311</td>\n",
       "      <td>0.000000</td>\n",
       "      <td>0.000000</td>\n",
       "      <td>0.00000</td>\n",
       "      <td>3.244059</td>\n",
       "      <td>0.00000</td>\n",
       "      <td>6.575240</td>\n",
       "      <td>0.00000</td>\n",
       "      <td>0.000000</td>\n",
       "      <td>0.0</td>\n",
       "      <td>0.0</td>\n",
       "      <td>0.0</td>\n",
       "      <td>contradiction</td>\n",
       "    </tr>\n",
       "    <tr>\n",
       "      <th>4</th>\n",
       "      <td>12.571067</td>\n",
       "      <td>0.000000</td>\n",
       "      <td>0.000000</td>\n",
       "      <td>0.00000</td>\n",
       "      <td>0.000000</td>\n",
       "      <td>0.000000</td>\n",
       "      <td>0.000000</td>\n",
       "      <td>0.00000</td>\n",
       "      <td>2.450579</td>\n",
       "      <td>0.00000</td>\n",
       "      <td>1.128580</td>\n",
       "      <td>0.00000</td>\n",
       "      <td>1.474608</td>\n",
       "      <td>0.0</td>\n",
       "      <td>0.0</td>\n",
       "      <td>0.0</td>\n",
       "      <td>neutral</td>\n",
       "    </tr>\n",
       "    <tr>\n",
       "      <th>...</th>\n",
       "      <td>...</td>\n",
       "      <td>...</td>\n",
       "      <td>...</td>\n",
       "      <td>...</td>\n",
       "      <td>...</td>\n",
       "      <td>...</td>\n",
       "      <td>...</td>\n",
       "      <td>...</td>\n",
       "      <td>...</td>\n",
       "      <td>...</td>\n",
       "      <td>...</td>\n",
       "      <td>...</td>\n",
       "      <td>...</td>\n",
       "      <td>...</td>\n",
       "      <td>...</td>\n",
       "      <td>...</td>\n",
       "      <td>...</td>\n",
       "    </tr>\n",
       "    <tr>\n",
       "      <th>95</th>\n",
       "      <td>16.506134</td>\n",
       "      <td>3.235250</td>\n",
       "      <td>0.000000</td>\n",
       "      <td>0.00000</td>\n",
       "      <td>0.000000</td>\n",
       "      <td>5.424360</td>\n",
       "      <td>0.000000</td>\n",
       "      <td>0.00000</td>\n",
       "      <td>1.057925</td>\n",
       "      <td>1.00428</td>\n",
       "      <td>2.870017</td>\n",
       "      <td>0.00000</td>\n",
       "      <td>0.000000</td>\n",
       "      <td>0.0</td>\n",
       "      <td>0.0</td>\n",
       "      <td>0.0</td>\n",
       "      <td>entailment</td>\n",
       "    </tr>\n",
       "    <tr>\n",
       "      <th>96</th>\n",
       "      <td>11.299096</td>\n",
       "      <td>0.000000</td>\n",
       "      <td>0.000000</td>\n",
       "      <td>0.00000</td>\n",
       "      <td>5.716955</td>\n",
       "      <td>0.000000</td>\n",
       "      <td>0.000000</td>\n",
       "      <td>0.00000</td>\n",
       "      <td>0.000000</td>\n",
       "      <td>0.00000</td>\n",
       "      <td>1.437577</td>\n",
       "      <td>0.00000</td>\n",
       "      <td>0.000000</td>\n",
       "      <td>0.0</td>\n",
       "      <td>0.0</td>\n",
       "      <td>0.0</td>\n",
       "      <td>entailment</td>\n",
       "    </tr>\n",
       "    <tr>\n",
       "      <th>97</th>\n",
       "      <td>5.297839</td>\n",
       "      <td>0.000000</td>\n",
       "      <td>5.138863</td>\n",
       "      <td>0.00000</td>\n",
       "      <td>0.000000</td>\n",
       "      <td>0.000000</td>\n",
       "      <td>0.000000</td>\n",
       "      <td>0.00000</td>\n",
       "      <td>1.224579</td>\n",
       "      <td>0.00000</td>\n",
       "      <td>4.193496</td>\n",
       "      <td>0.00000</td>\n",
       "      <td>0.000000</td>\n",
       "      <td>0.0</td>\n",
       "      <td>0.0</td>\n",
       "      <td>0.0</td>\n",
       "      <td>contradiction</td>\n",
       "    </tr>\n",
       "    <tr>\n",
       "      <th>98</th>\n",
       "      <td>7.110450</td>\n",
       "      <td>0.000000</td>\n",
       "      <td>0.000000</td>\n",
       "      <td>0.00000</td>\n",
       "      <td>0.000000</td>\n",
       "      <td>0.000000</td>\n",
       "      <td>0.000000</td>\n",
       "      <td>0.00000</td>\n",
       "      <td>2.450452</td>\n",
       "      <td>0.00000</td>\n",
       "      <td>1.492532</td>\n",
       "      <td>0.00000</td>\n",
       "      <td>0.000000</td>\n",
       "      <td>0.0</td>\n",
       "      <td>0.0</td>\n",
       "      <td>0.0</td>\n",
       "      <td>contradiction</td>\n",
       "    </tr>\n",
       "    <tr>\n",
       "      <th>99</th>\n",
       "      <td>12.458813</td>\n",
       "      <td>0.000000</td>\n",
       "      <td>0.000000</td>\n",
       "      <td>1.13914</td>\n",
       "      <td>2.598276</td>\n",
       "      <td>0.000000</td>\n",
       "      <td>0.000000</td>\n",
       "      <td>1.18074</td>\n",
       "      <td>3.726410</td>\n",
       "      <td>0.00000</td>\n",
       "      <td>0.000000</td>\n",
       "      <td>1.02838</td>\n",
       "      <td>0.000000</td>\n",
       "      <td>0.0</td>\n",
       "      <td>0.0</td>\n",
       "      <td>0.0</td>\n",
       "      <td>contradiction</td>\n",
       "    </tr>\n",
       "  </tbody>\n",
       "</table>\n",
       "<p>100 rows × 17 columns</p>\n",
       "</div>"
      ],
      "text/plain": [
       "    NOUN_NOUN  NOUN_ADJ  NOUN_VERB  NOUN_ADV  ADJ_NOUN   ADJ_ADJ  ADJ_VERB  \\\n",
       "0   23.182777  0.000000   8.168021   0.00000  3.787637  0.000000  0.000000   \n",
       "1   22.942028  1.591551   2.134990   0.00000  0.000000  8.615627  0.000000   \n",
       "2   14.880619  1.824592   3.687874   0.00000  5.383794  0.000000  3.665578   \n",
       "3    6.220228  0.000000   1.236711   0.00000  2.620311  0.000000  0.000000   \n",
       "4   12.571067  0.000000   0.000000   0.00000  0.000000  0.000000  0.000000   \n",
       "..        ...       ...        ...       ...       ...       ...       ...   \n",
       "95  16.506134  3.235250   0.000000   0.00000  0.000000  5.424360  0.000000   \n",
       "96  11.299096  0.000000   0.000000   0.00000  5.716955  0.000000  0.000000   \n",
       "97   5.297839  0.000000   5.138863   0.00000  0.000000  0.000000  0.000000   \n",
       "98   7.110450  0.000000   0.000000   0.00000  0.000000  0.000000  0.000000   \n",
       "99  12.458813  0.000000   0.000000   1.13914  2.598276  0.000000  0.000000   \n",
       "\n",
       "    ADJ_ADV  VERB_NOUN  VERB_ADJ  VERB_VERB  VERB_ADV  ADV_NOUN  ADV_ADJ  \\\n",
       "0   0.00000   1.747140   0.00000   2.091629   0.00000  0.000000      0.0   \n",
       "1   0.00000   6.468956   0.00000   1.410625   0.00000  0.000000      0.0   \n",
       "2   0.00000   1.199861   0.00000   3.661071   0.00000  0.000000      0.0   \n",
       "3   0.00000   3.244059   0.00000   6.575240   0.00000  0.000000      0.0   \n",
       "4   0.00000   2.450579   0.00000   1.128580   0.00000  1.474608      0.0   \n",
       "..      ...        ...       ...        ...       ...       ...      ...   \n",
       "95  0.00000   1.057925   1.00428   2.870017   0.00000  0.000000      0.0   \n",
       "96  0.00000   0.000000   0.00000   1.437577   0.00000  0.000000      0.0   \n",
       "97  0.00000   1.224579   0.00000   4.193496   0.00000  0.000000      0.0   \n",
       "98  0.00000   2.450452   0.00000   1.492532   0.00000  0.000000      0.0   \n",
       "99  1.18074   3.726410   0.00000   0.000000   1.02838  0.000000      0.0   \n",
       "\n",
       "    ADV_VERB  ADV_ADV          CLASS  \n",
       "0        0.0      0.0     entailment  \n",
       "1        0.0      0.0     entailment  \n",
       "2        0.0      0.0  contradiction  \n",
       "3        0.0      0.0  contradiction  \n",
       "4        0.0      0.0        neutral  \n",
       "..       ...      ...            ...  \n",
       "95       0.0      0.0     entailment  \n",
       "96       0.0      0.0     entailment  \n",
       "97       0.0      0.0  contradiction  \n",
       "98       0.0      0.0  contradiction  \n",
       "99       0.0      0.0  contradiction  \n",
       "\n",
       "[100 rows x 17 columns]"
      ]
     },
     "execution_count": 47,
     "metadata": {},
     "output_type": "execute_result"
    }
   ],
   "source": [
    "#dataframe = pd.read_csv(r\"indicadoresTipoPalabra_suma_CLASS.csv\")\n",
    "#dataframe = pd.read_csv(r\"indicadoresTipoPalabra_umbral1_CLASS.csv\")\n",
    "dataframe = pd.read_csv(r\"indicadoresTipoPalabra_umbral1_no_mean_CLASS.csv\")\n",
    "dataframe"
   ]
  },
  {
   "cell_type": "code",
   "execution_count": 48,
   "metadata": {},
   "outputs": [
    {
     "data": {
      "text/html": [
       "<div>\n",
       "<style scoped>\n",
       "    .dataframe tbody tr th:only-of-type {\n",
       "        vertical-align: middle;\n",
       "    }\n",
       "\n",
       "    .dataframe tbody tr th {\n",
       "        vertical-align: top;\n",
       "    }\n",
       "\n",
       "    .dataframe thead th {\n",
       "        text-align: right;\n",
       "    }\n",
       "</style>\n",
       "<table border=\"1\" class=\"dataframe\">\n",
       "  <thead>\n",
       "    <tr style=\"text-align: right;\">\n",
       "      <th></th>\n",
       "      <th>NOUN_NOUN</th>\n",
       "      <th>NOUN_ADJ</th>\n",
       "      <th>NOUN_VERB</th>\n",
       "      <th>NOUN_ADV</th>\n",
       "      <th>ADJ_NOUN</th>\n",
       "      <th>ADJ_ADJ</th>\n",
       "      <th>ADJ_VERB</th>\n",
       "      <th>ADJ_ADV</th>\n",
       "      <th>VERB_NOUN</th>\n",
       "      <th>VERB_ADJ</th>\n",
       "      <th>VERB_VERB</th>\n",
       "      <th>VERB_ADV</th>\n",
       "      <th>ADV_NOUN</th>\n",
       "      <th>ADV_ADJ</th>\n",
       "      <th>ADV_VERB</th>\n",
       "      <th>ADV_ADV</th>\n",
       "    </tr>\n",
       "  </thead>\n",
       "  <tbody>\n",
       "    <tr>\n",
       "      <th>count</th>\n",
       "      <td>100.000000</td>\n",
       "      <td>100.000000</td>\n",
       "      <td>100.000000</td>\n",
       "      <td>100.000000</td>\n",
       "      <td>100.000000</td>\n",
       "      <td>100.000000</td>\n",
       "      <td>100.000000</td>\n",
       "      <td>100.000000</td>\n",
       "      <td>100.000000</td>\n",
       "      <td>100.000000</td>\n",
       "      <td>100.000000</td>\n",
       "      <td>100.000000</td>\n",
       "      <td>100.000000</td>\n",
       "      <td>100.000000</td>\n",
       "      <td>100.000000</td>\n",
       "      <td>100.000000</td>\n",
       "    </tr>\n",
       "    <tr>\n",
       "      <th>mean</th>\n",
       "      <td>15.933630</td>\n",
       "      <td>1.420933</td>\n",
       "      <td>2.266566</td>\n",
       "      <td>0.487803</td>\n",
       "      <td>3.229856</td>\n",
       "      <td>1.398877</td>\n",
       "      <td>0.406870</td>\n",
       "      <td>0.277978</td>\n",
       "      <td>2.540163</td>\n",
       "      <td>0.193960</td>\n",
       "      <td>2.511021</td>\n",
       "      <td>0.217655</td>\n",
       "      <td>0.444092</td>\n",
       "      <td>0.055996</td>\n",
       "      <td>0.299592</td>\n",
       "      <td>0.121411</td>\n",
       "    </tr>\n",
       "    <tr>\n",
       "      <th>std</th>\n",
       "      <td>11.844145</td>\n",
       "      <td>2.745811</td>\n",
       "      <td>3.052742</td>\n",
       "      <td>1.744622</td>\n",
       "      <td>4.718448</td>\n",
       "      <td>3.249229</td>\n",
       "      <td>1.306758</td>\n",
       "      <td>1.370748</td>\n",
       "      <td>3.315508</td>\n",
       "      <td>0.646068</td>\n",
       "      <td>3.128407</td>\n",
       "      <td>0.917154</td>\n",
       "      <td>1.917748</td>\n",
       "      <td>0.374244</td>\n",
       "      <td>1.608045</td>\n",
       "      <td>0.879950</td>\n",
       "    </tr>\n",
       "    <tr>\n",
       "      <th>min</th>\n",
       "      <td>0.000000</td>\n",
       "      <td>0.000000</td>\n",
       "      <td>0.000000</td>\n",
       "      <td>0.000000</td>\n",
       "      <td>0.000000</td>\n",
       "      <td>0.000000</td>\n",
       "      <td>0.000000</td>\n",
       "      <td>0.000000</td>\n",
       "      <td>0.000000</td>\n",
       "      <td>0.000000</td>\n",
       "      <td>0.000000</td>\n",
       "      <td>0.000000</td>\n",
       "      <td>0.000000</td>\n",
       "      <td>0.000000</td>\n",
       "      <td>0.000000</td>\n",
       "      <td>0.000000</td>\n",
       "    </tr>\n",
       "    <tr>\n",
       "      <th>25%</th>\n",
       "      <td>8.934640</td>\n",
       "      <td>0.000000</td>\n",
       "      <td>0.000000</td>\n",
       "      <td>0.000000</td>\n",
       "      <td>0.000000</td>\n",
       "      <td>0.000000</td>\n",
       "      <td>0.000000</td>\n",
       "      <td>0.000000</td>\n",
       "      <td>0.000000</td>\n",
       "      <td>0.000000</td>\n",
       "      <td>0.000000</td>\n",
       "      <td>0.000000</td>\n",
       "      <td>0.000000</td>\n",
       "      <td>0.000000</td>\n",
       "      <td>0.000000</td>\n",
       "      <td>0.000000</td>\n",
       "    </tr>\n",
       "    <tr>\n",
       "      <th>50%</th>\n",
       "      <td>12.463868</td>\n",
       "      <td>0.000000</td>\n",
       "      <td>1.342973</td>\n",
       "      <td>0.000000</td>\n",
       "      <td>1.779214</td>\n",
       "      <td>0.000000</td>\n",
       "      <td>0.000000</td>\n",
       "      <td>0.000000</td>\n",
       "      <td>1.592038</td>\n",
       "      <td>0.000000</td>\n",
       "      <td>1.589384</td>\n",
       "      <td>0.000000</td>\n",
       "      <td>0.000000</td>\n",
       "      <td>0.000000</td>\n",
       "      <td>0.000000</td>\n",
       "      <td>0.000000</td>\n",
       "    </tr>\n",
       "    <tr>\n",
       "      <th>75%</th>\n",
       "      <td>19.832999</td>\n",
       "      <td>2.225710</td>\n",
       "      <td>3.601139</td>\n",
       "      <td>0.000000</td>\n",
       "      <td>3.795642</td>\n",
       "      <td>0.000000</td>\n",
       "      <td>0.000000</td>\n",
       "      <td>0.000000</td>\n",
       "      <td>3.260690</td>\n",
       "      <td>0.000000</td>\n",
       "      <td>3.587492</td>\n",
       "      <td>0.000000</td>\n",
       "      <td>0.000000</td>\n",
       "      <td>0.000000</td>\n",
       "      <td>0.000000</td>\n",
       "      <td>0.000000</td>\n",
       "    </tr>\n",
       "    <tr>\n",
       "      <th>max</th>\n",
       "      <td>69.723298</td>\n",
       "      <td>15.646733</td>\n",
       "      <td>19.075915</td>\n",
       "      <td>11.812714</td>\n",
       "      <td>25.429739</td>\n",
       "      <td>17.176733</td>\n",
       "      <td>8.096021</td>\n",
       "      <td>10.670149</td>\n",
       "      <td>17.773756</td>\n",
       "      <td>5.053692</td>\n",
       "      <td>16.915806</td>\n",
       "      <td>7.196821</td>\n",
       "      <td>13.142446</td>\n",
       "      <td>3.442915</td>\n",
       "      <td>13.756932</td>\n",
       "      <td>7.558466</td>\n",
       "    </tr>\n",
       "  </tbody>\n",
       "</table>\n",
       "</div>"
      ],
      "text/plain": [
       "        NOUN_NOUN    NOUN_ADJ   NOUN_VERB    NOUN_ADV    ADJ_NOUN     ADJ_ADJ  \\\n",
       "count  100.000000  100.000000  100.000000  100.000000  100.000000  100.000000   \n",
       "mean    15.933630    1.420933    2.266566    0.487803    3.229856    1.398877   \n",
       "std     11.844145    2.745811    3.052742    1.744622    4.718448    3.249229   \n",
       "min      0.000000    0.000000    0.000000    0.000000    0.000000    0.000000   \n",
       "25%      8.934640    0.000000    0.000000    0.000000    0.000000    0.000000   \n",
       "50%     12.463868    0.000000    1.342973    0.000000    1.779214    0.000000   \n",
       "75%     19.832999    2.225710    3.601139    0.000000    3.795642    0.000000   \n",
       "max     69.723298   15.646733   19.075915   11.812714   25.429739   17.176733   \n",
       "\n",
       "         ADJ_VERB     ADJ_ADV   VERB_NOUN    VERB_ADJ   VERB_VERB    VERB_ADV  \\\n",
       "count  100.000000  100.000000  100.000000  100.000000  100.000000  100.000000   \n",
       "mean     0.406870    0.277978    2.540163    0.193960    2.511021    0.217655   \n",
       "std      1.306758    1.370748    3.315508    0.646068    3.128407    0.917154   \n",
       "min      0.000000    0.000000    0.000000    0.000000    0.000000    0.000000   \n",
       "25%      0.000000    0.000000    0.000000    0.000000    0.000000    0.000000   \n",
       "50%      0.000000    0.000000    1.592038    0.000000    1.589384    0.000000   \n",
       "75%      0.000000    0.000000    3.260690    0.000000    3.587492    0.000000   \n",
       "max      8.096021   10.670149   17.773756    5.053692   16.915806    7.196821   \n",
       "\n",
       "         ADV_NOUN     ADV_ADJ    ADV_VERB     ADV_ADV  \n",
       "count  100.000000  100.000000  100.000000  100.000000  \n",
       "mean     0.444092    0.055996    0.299592    0.121411  \n",
       "std      1.917748    0.374244    1.608045    0.879950  \n",
       "min      0.000000    0.000000    0.000000    0.000000  \n",
       "25%      0.000000    0.000000    0.000000    0.000000  \n",
       "50%      0.000000    0.000000    0.000000    0.000000  \n",
       "75%      0.000000    0.000000    0.000000    0.000000  \n",
       "max     13.142446    3.442915   13.756932    7.558466  "
      ]
     },
     "execution_count": 48,
     "metadata": {},
     "output_type": "execute_result"
    }
   ],
   "source": [
    "dataframe.describe()"
   ]
  },
  {
   "cell_type": "code",
   "execution_count": 49,
   "metadata": {},
   "outputs": [
    {
     "name": "stdout",
     "output_type": "stream",
     "text": [
      "CLASS\n",
      "contradiction    27\n",
      "entailment       42\n",
      "neutral          31\n",
      "dtype: int64\n"
     ]
    }
   ],
   "source": [
    "print(dataframe.groupby('CLASS').size())"
   ]
  },
  {
   "cell_type": "code",
   "execution_count": 50,
   "metadata": {},
   "outputs": [
    {
     "data": {
      "image/png": "[encoded data removed]",
      "text/plain": [
       "<Figure size 1440x720 with 16 Axes>"
      ]
     },
     "metadata": {
      "needs_background": "light"
     },
     "output_type": "display_data"
    }
   ],
   "source": [
    "dataframe.hist(figsize=(20,10))\n",
    "plt.show()"
   ]
  },
  {
   "cell_type": "code",
   "execution_count": 51,
   "metadata": {},
   "outputs": [],
   "source": [
    "labels=['NOUN_NOUN',\n",
    " 'NOUN_ADJ',\n",
    " 'NOUN_VERB',\n",
    " 'NOUN_ADV',\n",
    " 'ADJ_NOUN',\n",
    " 'ADJ_ADJ',\n",
    " 'ADJ_VERB',\n",
    " 'ADJ_ADV',\n",
    " 'VERB_NOUN',\n",
    " 'VERB_ADJ',\n",
    " 'VERB_VERB',\n",
    " 'VERB_ADV',\n",
    " 'ADV_NOUN',\n",
    " 'ADV_ADJ',\n",
    " 'ADV_VERB',\n",
    " 'ADV_ADV']"
   ]
  },
  {
   "cell_type": "code",
   "execution_count": 52,
   "metadata": {},
   "outputs": [],
   "source": [
    "#sb.pairplot(dataframe.dropna(), hue='CLASS',size=4,vars=labels,kind='reg')"
   ]
  },
  {
   "cell_type": "code",
   "execution_count": 53,
   "metadata": {},
   "outputs": [
    {
     "name": "stderr",
     "output_type": "stream",
     "text": [
      "/tmp/ipykernel_104756/1802400925.py:1: FutureWarning: In a future version of pandas all arguments of DataFrame.drop except for the argument 'labels' will be keyword-only.\n",
      "  X = np.array(dataframe.drop(['CLASS'],1))\n",
      "/tmp/ipykernel_104756/1802400925.py:2: FutureWarning: In a future version of pandas all arguments of DataFrame.drop except for the argument 'labels' will be keyword-only.\n",
      "  X_test = np.array(dataframe.drop(['CLASS'],1))\n"
     ]
    },
    {
     "data": {
      "text/plain": [
       "(100, 16)"
      ]
     },
     "execution_count": 53,
     "metadata": {},
     "output_type": "execute_result"
    }
   ],
   "source": [
    "X = np.array(dataframe.drop(['CLASS'],1))\n",
    "X_test = np.array(dataframe.drop(['CLASS'],1))\n",
    "y = np.array(dataframe['CLASS'])\n",
    "y_test =np.array(dataframe['CLASS'])\n",
    "X.shape"
   ]
  },
  {
   "cell_type": "code",
   "execution_count": 54,
   "metadata": {},
   "outputs": [
    {
     "data": {
      "text/plain": [
       "array(['entailment', 'entailment', 'contradiction', 'contradiction',\n",
       "       'neutral', 'neutral', 'neutral', 'entailment', 'neutral',\n",
       "       'entailment', 'neutral', 'contradiction', 'entailment',\n",
       "       'contradiction', 'neutral', 'neutral', 'entailment',\n",
       "       'contradiction', 'contradiction', 'entailment', 'entailment',\n",
       "       'entailment', 'neutral', 'contradiction', 'entailment', 'neutral',\n",
       "       'entailment', 'entailment', 'entailment', 'neutral', 'neutral',\n",
       "       'contradiction', 'contradiction', 'entailment', 'contradiction',\n",
       "       'neutral', 'entailment', 'neutral', 'neutral', 'entailment',\n",
       "       'neutral', 'neutral', 'contradiction', 'neutral', 'entailment',\n",
       "       'neutral', 'neutral', 'entailment', 'contradiction', 'neutral',\n",
       "       'entailment', 'entailment', 'neutral', 'entailment',\n",
       "       'contradiction', 'entailment', 'entailment', 'neutral', 'neutral',\n",
       "       'neutral', 'neutral', 'neutral', 'neutral', 'entailment',\n",
       "       'entailment', 'contradiction', 'entailment', 'entailment',\n",
       "       'neutral', 'contradiction', 'entailment', 'contradiction',\n",
       "       'contradiction', 'contradiction', 'neutral', 'entailment',\n",
       "       'entailment', 'entailment', 'entailment', 'contradiction',\n",
       "       'neutral', 'entailment', 'entailment', 'entailment',\n",
       "       'contradiction', 'entailment', 'entailment', 'entailment',\n",
       "       'contradiction', 'contradiction', 'contradiction', 'neutral',\n",
       "       'entailment', 'entailment', 'contradiction', 'entailment',\n",
       "       'entailment', 'contradiction', 'contradiction', 'contradiction'],\n",
       "      dtype=object)"
      ]
     },
     "execution_count": 54,
     "metadata": {},
     "output_type": "execute_result"
    }
   ],
   "source": [
    "y_test"
   ]
  },
  {
   "cell_type": "code",
   "execution_count": 55,
   "metadata": {},
   "outputs": [
    {
     "data": {
      "text/plain": [
       "array(['entailment', 'entailment', 'contradiction', 'contradiction',\n",
       "       'neutral', 'neutral', 'neutral', 'entailment', 'neutral',\n",
       "       'entailment', 'neutral', 'contradiction', 'entailment',\n",
       "       'contradiction', 'neutral', 'neutral', 'entailment',\n",
       "       'contradiction', 'contradiction', 'entailment', 'entailment',\n",
       "       'entailment', 'neutral', 'contradiction', 'entailment', 'neutral',\n",
       "       'entailment', 'entailment', 'entailment', 'neutral', 'neutral',\n",
       "       'contradiction', 'contradiction', 'entailment', 'contradiction',\n",
       "       'neutral', 'entailment', 'neutral', 'neutral', 'entailment',\n",
       "       'neutral', 'neutral', 'contradiction', 'neutral', 'entailment',\n",
       "       'neutral', 'neutral', 'entailment', 'contradiction', 'neutral',\n",
       "       'entailment', 'entailment', 'neutral', 'entailment',\n",
       "       'contradiction', 'entailment', 'entailment', 'neutral', 'neutral',\n",
       "       'neutral', 'neutral', 'neutral', 'neutral', 'entailment',\n",
       "       'entailment', 'contradiction', 'entailment', 'entailment',\n",
       "       'neutral', 'contradiction', 'entailment', 'contradiction',\n",
       "       'contradiction', 'contradiction', 'neutral', 'entailment',\n",
       "       'entailment', 'entailment', 'entailment', 'contradiction',\n",
       "       'neutral', 'entailment', 'entailment', 'entailment',\n",
       "       'contradiction', 'entailment', 'entailment', 'entailment',\n",
       "       'contradiction', 'contradiction', 'contradiction', 'neutral',\n",
       "       'entailment', 'entailment', 'contradiction', 'entailment',\n",
       "       'entailment', 'contradiction', 'contradiction', 'contradiction'],\n",
       "      dtype=object)"
      ]
     },
     "execution_count": 55,
     "metadata": {},
     "output_type": "execute_result"
    }
   ],
   "source": [
    "y"
   ]
  },
  {
   "cell_type": "code",
   "execution_count": 56,
   "metadata": {},
   "outputs": [
    {
     "name": "stderr",
     "output_type": "stream",
     "text": [
      "/home/david/.local/lib/python3.8/site-packages/sklearn/linear_model/_logistic.py:458: ConvergenceWarning: lbfgs failed to converge (status=1):\n",
      "STOP: TOTAL NO. of ITERATIONS REACHED LIMIT.\n",
      "\n",
      "Increase the number of iterations (max_iter) or scale the data as shown in:\n",
      "    https://scikit-learn.org/stable/modules/preprocessing.html\n",
      "Please also refer to the documentation for alternative solver options:\n",
      "    https://scikit-learn.org/stable/modules/linear_model.html#logistic-regression\n",
      "  n_iter_i = _check_optimize_result(\n"
     ]
    },
    {
     "data": {
      "text/html": [
       "<style>#sk-container-id-2 {color: black;background-color: white;}#sk-container-id-2 pre{padding: 0;}#sk-container-id-2 div.sk-toggleable {background-color: white;}#sk-container-id-2 label.sk-toggleable__label {cursor: pointer;display: block;width: 100%;margin-bottom: 0;padding: 0.3em;box-sizing: border-box;text-align: center;}#sk-container-id-2 label.sk-toggleable__label-arrow:before {content: \"▸\";float: left;margin-right: 0.25em;color: #696969;}#sk-container-id-2 label.sk-toggleable__label-arrow:hover:before {color: black;}#sk-container-id-2 div.sk-estimator:hover label.sk-toggleable__label-arrow:before {color: black;}#sk-container-id-2 div.sk-toggleable__content {max-height: 0;max-width: 0;overflow: hidden;text-align: left;background-color: #f0f8ff;}#sk-container-id-2 div.sk-toggleable__content pre {margin: 0.2em;color: black;border-radius: 0.25em;background-color: #f0f8ff;}#sk-container-id-2 input.sk-toggleable__control:checked~div.sk-toggleable__content {max-height: 200px;max-width: 100%;overflow: auto;}#sk-container-id-2 input.sk-toggleable__control:checked~label.sk-toggleable__label-arrow:before {content: \"▾\";}#sk-container-id-2 div.sk-estimator input.sk-toggleable__control:checked~label.sk-toggleable__label {background-color: #d4ebff;}#sk-container-id-2 div.sk-label input.sk-toggleable__control:checked~label.sk-toggleable__label {background-color: #d4ebff;}#sk-container-id-2 input.sk-hidden--visually {border: 0;clip: rect(1px 1px 1px 1px);clip: rect(1px, 1px, 1px, 1px);height: 1px;margin: -1px;overflow: hidden;padding: 0;position: absolute;width: 1px;}#sk-container-id-2 div.sk-estimator {font-family: monospace;background-color: #f0f8ff;border: 1px dotted black;border-radius: 0.25em;box-sizing: border-box;margin-bottom: 0.5em;}#sk-container-id-2 div.sk-estimator:hover {background-color: #d4ebff;}#sk-container-id-2 div.sk-parallel-item::after {content: \"\";width: 100%;border-bottom: 1px solid gray;flex-grow: 1;}#sk-container-id-2 div.sk-label:hover label.sk-toggleable__label {background-color: #d4ebff;}#sk-container-id-2 div.sk-serial::before {content: \"\";position: absolute;border-left: 1px solid gray;box-sizing: border-box;top: 0;bottom: 0;left: 50%;z-index: 0;}#sk-container-id-2 div.sk-serial {display: flex;flex-direction: column;align-items: center;background-color: white;padding-right: 0.2em;padding-left: 0.2em;position: relative;}#sk-container-id-2 div.sk-item {position: relative;z-index: 1;}#sk-container-id-2 div.sk-parallel {display: flex;align-items: stretch;justify-content: center;background-color: white;position: relative;}#sk-container-id-2 div.sk-item::before, #sk-container-id-2 div.sk-parallel-item::before {content: \"\";position: absolute;border-left: 1px solid gray;box-sizing: border-box;top: 0;bottom: 0;left: 50%;z-index: -1;}#sk-container-id-2 div.sk-parallel-item {display: flex;flex-direction: column;z-index: 1;position: relative;background-color: white;}#sk-container-id-2 div.sk-parallel-item:first-child::after {align-self: flex-end;width: 50%;}#sk-container-id-2 div.sk-parallel-item:last-child::after {align-self: flex-start;width: 50%;}#sk-container-id-2 div.sk-parallel-item:only-child::after {width: 0;}#sk-container-id-2 div.sk-dashed-wrapped {border: 1px dashed gray;margin: 0 0.4em 0.5em 0.4em;box-sizing: border-box;padding-bottom: 0.4em;background-color: white;}#sk-container-id-2 div.sk-label label {font-family: monospace;font-weight: bold;display: inline-block;line-height: 1.2em;}#sk-container-id-2 div.sk-label-container {text-align: center;}#sk-container-id-2 div.sk-container {/* jupyter's `normalize.less` sets `[hidden] { display: none; }` but bootstrap.min.css set `[hidden] { display: none !important; }` so we also need the `!important` here to be able to override the default hidden behavior on the sphinx rendered scikit-learn.org. See: https://github.com/scikit-learn/scikit-learn/issues/21755 */display: inline-block !important;position: relative;}#sk-container-id-2 div.sk-text-repr-fallback {display: none;}</style><div id=\"sk-container-id-2\" class=\"sk-top-container\"><div class=\"sk-text-repr-fallback\"><pre>LogisticRegression(C=0.1)</pre><b>In a Jupyter environment, please rerun this cell to show the HTML representation or trust the notebook. <br />On GitHub, the HTML representation is unable to render, please try loading this page with nbviewer.org.</b></div><div class=\"sk-container\" hidden><div class=\"sk-item\"><div class=\"sk-estimator sk-toggleable\"><input class=\"sk-toggleable__control sk-hidden--visually\" id=\"sk-estimator-id-2\" type=\"checkbox\" checked><label for=\"sk-estimator-id-2\" class=\"sk-toggleable__label sk-toggleable__label-arrow\">LogisticRegression</label><div class=\"sk-toggleable__content\"><pre>LogisticRegression(C=0.1)</pre></div></div></div></div></div>"
      ],
      "text/plain": [
       "LogisticRegression(C=0.1)"
      ]
     },
     "execution_count": 56,
     "metadata": {},
     "output_type": "execute_result"
    }
   ],
   "source": [
    "model = linear_model.LogisticRegression(penalty=\"l2\", C=0.1)\n",
    "model.fit(X,y)"
   ]
  },
  {
   "cell_type": "code",
   "execution_count": 57,
   "metadata": {},
   "outputs": [
    {
     "data": {
      "text/plain": [
       "{'C': 0.1,\n",
       " 'class_weight': None,\n",
       " 'dual': False,\n",
       " 'fit_intercept': True,\n",
       " 'intercept_scaling': 1,\n",
       " 'l1_ratio': None,\n",
       " 'max_iter': 100,\n",
       " 'multi_class': 'auto',\n",
       " 'n_jobs': None,\n",
       " 'penalty': 'l2',\n",
       " 'random_state': None,\n",
       " 'solver': 'lbfgs',\n",
       " 'tol': 0.0001,\n",
       " 'verbose': 0,\n",
       " 'warm_start': False}"
      ]
     },
     "execution_count": 57,
     "metadata": {},
     "output_type": "execute_result"
    }
   ],
   "source": [
    "model.get_params()"
   ]
  },
  {
   "cell_type": "code",
   "execution_count": 58,
   "metadata": {},
   "outputs": [
    {
     "data": {
      "text/plain": [
       "array([[ 2.10596404e-01,  6.75581375e-01, -8.86177779e-01],\n",
       "       [-1.35031669e+00,  1.14576088e+00,  2.04555810e-01],\n",
       "       [-3.56639057e-01,  4.13998404e-01, -5.73593469e-02],\n",
       "       [-2.04070560e-02,  1.97413380e-01, -1.77006324e-01],\n",
       "       [-1.11994157e-01,  2.75107829e-01, -1.63113672e-01],\n",
       "       [ 2.51153582e-01,  5.42614291e-01, -7.93767873e-01],\n",
       "       [-3.12105123e-02,  1.96211220e-01, -1.65000707e-01],\n",
       "       [-6.65088537e-01,  7.99006577e-01, -1.33918040e-01],\n",
       "       [-2.60024153e-01, -5.43444200e-01,  8.03468353e-01],\n",
       "       [ 1.66195955e-01,  3.41908648e-01, -5.08104602e-01],\n",
       "       [-7.61464666e-01,  1.66163646e-01,  5.95301020e-01],\n",
       "       [-7.31172075e-02,  2.76876872e-01, -2.03759665e-01],\n",
       "       [-4.02394559e-01,  2.90114020e-01,  1.12280539e-01],\n",
       "       [ 2.17093933e-01,  3.70680416e-01, -5.87774350e-01],\n",
       "       [-3.33191540e-01, -2.46057154e-01,  5.79248693e-01],\n",
       "       [-5.81649444e-02,  2.02248919e-01, -1.44083975e-01],\n",
       "       [-1.12331884e+00,  1.69659147e+00, -5.73272631e-01],\n",
       "       [-4.87012760e-02,  1.22469274e-01, -7.37679978e-02],\n",
       "       [-7.01110516e-01,  3.47930319e-01,  3.53180197e-01],\n",
       "       [ 3.43436188e-01,  5.27362595e-01, -8.70798783e-01],\n",
       "       [-6.80787181e-02,  4.24696423e-01, -3.56617705e-01],\n",
       "       [ 2.96610274e-01,  1.15678429e-01, -4.12288703e-01],\n",
       "       [-9.19458497e-02,  2.26813509e-01, -1.34867659e-01],\n",
       "       [-1.88261908e-01,  3.85617351e-01, -1.97355443e-01],\n",
       "       [-1.98304770e-01,  4.07966893e-01, -2.09662123e-01],\n",
       "       [-1.25298122e+00, -5.01711707e-01,  1.75469292e+00],\n",
       "       [-5.02352091e-02,  2.28598864e-01, -1.78363655e-01],\n",
       "       [-1.75215692e-01,  4.37693601e-01, -2.62477909e-01],\n",
       "       [-2.82977980e-01,  1.73159066e-01,  1.09818914e-01],\n",
       "       [-1.66889034e-01,  8.34250518e-02,  8.34639818e-02],\n",
       "       [-1.02458277e+00,  1.07327803e+00, -4.86952625e-02],\n",
       "       [ 1.28022616e+00, -3.74071877e-01, -9.06154280e-01],\n",
       "       [ 1.26888678e-01,  3.98442225e-02, -1.66732900e-01],\n",
       "       [ 9.97002128e-02,  1.11419289e-01, -2.11119502e-01],\n",
       "       [ 5.02571178e-01,  7.45014672e-01, -1.24758585e+00],\n",
       "       [-3.16131156e-02, -1.58476192e+00,  1.61637504e+00],\n",
       "       [-4.46447184e-01,  2.99516900e-01,  1.46930283e-01],\n",
       "       [-2.24073470e-01,  3.98775692e-01, -1.74702222e-01],\n",
       "       [-2.47543818e+00, -7.20413663e-01,  3.19585184e+00],\n",
       "       [ 3.89035928e-02, -4.19017456e-01,  3.80113863e-01],\n",
       "       [ 3.71310759e-02, -1.77429798e-01,  1.40298722e-01],\n",
       "       [-1.01744964e+00,  4.41918320e-01,  5.75531323e-01],\n",
       "       [-9.76827873e-02, -4.57584920e-01,  5.55267707e-01],\n",
       "       [ 7.38457253e-02,  3.28627091e-02, -1.06708434e-01],\n",
       "       [ 1.43444929e+00,  2.60947269e+00, -4.04392199e+00],\n",
       "       [-3.72585199e-03,  4.31685439e-01, -4.27959587e-01],\n",
       "       [-6.85899229e-01, -1.68108054e-01,  8.54007283e-01],\n",
       "       [ 1.27859481e-01,  2.79861854e-01, -4.07721335e-01],\n",
       "       [ 2.62655740e-01, -5.94542313e-01,  3.31886573e-01],\n",
       "       [-2.40534832e-01, -5.06973551e-01,  7.47508383e-01],\n",
       "       [ 2.75171904e-02,  6.61233539e-01, -6.88750730e-01],\n",
       "       [-8.60133412e-01,  3.23061659e+00, -2.37048318e+00],\n",
       "       [ 1.06810985e-01,  3.88541266e-02, -1.45665112e-01],\n",
       "       [ 1.46662023e-01,  3.45224351e-01, -4.91886374e-01],\n",
       "       [-1.43830146e-01,  3.23730046e-01, -1.79899900e-01],\n",
       "       [-1.76021416e-01,  1.15936976e-01,  6.00844399e-02],\n",
       "       [-4.92082940e-02,  9.58352849e-02, -4.66269909e-02],\n",
       "       [-4.71447673e-01,  3.18841688e-01,  1.52605985e-01],\n",
       "       [-2.76293052e-02, -7.02207284e-01,  7.29836590e-01],\n",
       "       [-1.44624950e+00,  9.70580889e-01,  4.75668613e-01],\n",
       "       [-2.18457481e-01,  1.06530775e-01,  1.11926706e-01],\n",
       "       [-1.38801103e-01,  4.78063440e-02,  9.09947586e-02],\n",
       "       [-3.56171070e-01,  2.99269504e-01,  5.69015659e-02],\n",
       "       [ 3.86427304e-01,  6.22494029e-01, -1.00892133e+00],\n",
       "       [-1.00999611e+00,  7.53291293e-01,  2.56704816e-01],\n",
       "       [ 9.49036297e-01,  1.42921654e+00, -2.37825283e+00],\n",
       "       [-2.85029082e-01,  2.76767406e-01,  8.26167648e-03],\n",
       "       [-9.39372551e-02,  4.70602531e-01, -3.76665276e-01],\n",
       "       [-1.32708862e-01, -1.06673970e-01,  2.39382833e-01],\n",
       "       [-2.00893282e-01,  1.43979603e-01,  5.69136793e-02],\n",
       "       [-2.41826544e-01,  5.27811853e-01, -2.85985308e-01],\n",
       "       [ 1.49322886e-01,  2.28978026e-01, -3.78300912e-01],\n",
       "       [ 1.16500746e+00,  1.53970383e+00, -2.70471129e+00],\n",
       "       [-1.21270597e-01, -1.55983506e-01,  2.77254103e-01],\n",
       "       [-4.84914319e-01, -1.32037632e-01,  6.16951951e-01],\n",
       "       [-9.28970404e-01, -6.57993043e-02,  9.94769708e-01],\n",
       "       [-5.67277067e-01,  8.82766275e-01, -3.15489207e-01],\n",
       "       [ 1.62646185e-02,  5.77935082e-01, -5.94199700e-01],\n",
       "       [-3.86625490e-02,  9.39198466e-01, -9.00535917e-01],\n",
       "       [-2.86448713e-01,  2.32008415e-01,  5.44402977e-02],\n",
       "       [ 1.32586295e-01,  4.84455814e-01, -6.17042108e-01],\n",
       "       [ 3.27922617e-01,  6.31508871e-01, -9.59431488e-01],\n",
       "       [ 6.62557510e-01,  4.88620502e-01, -1.15117801e+00],\n",
       "       [-9.93480168e-03,  4.27189706e-01, -4.17254905e-01],\n",
       "       [ 4.09342389e-01, -2.05431198e-01, -2.03911191e-01],\n",
       "       [-7.77062909e-01,  8.35882181e-01, -5.88192724e-02],\n",
       "       [-3.40714259e-01,  2.17787846e-01,  1.22926413e-01],\n",
       "       [-2.12938042e-01,  5.02504567e-01, -2.89566524e-01],\n",
       "       [-3.44756046e-01,  5.95878319e-01, -2.51122273e-01],\n",
       "       [-6.37604263e-01, -3.84244436e-03,  6.41446707e-01],\n",
       "       [-1.62814209e-01,  3.15475034e-01, -1.52660825e-01],\n",
       "       [-1.42757723e-01,  9.21998669e-03,  1.33537736e-01],\n",
       "       [-3.00794522e-01,  2.24300075e-01,  7.64944477e-02],\n",
       "       [-5.29167808e-03,  6.57993572e-01, -6.52701893e-01],\n",
       "       [-1.61087219e-01, -4.64538714e-03,  1.65732606e-01],\n",
       "       [-1.12778889e+00,  3.58653739e-01,  7.69135155e-01],\n",
       "       [-3.84400501e-02, -7.71871726e-02,  1.15627223e-01],\n",
       "       [ 6.86282539e-02,  4.96271098e-01, -5.64899351e-01],\n",
       "       [-1.27998072e-01,  1.39874467e-01, -1.18763954e-02],\n",
       "       [ 1.43609538e-01,  3.39876339e-01, -4.83485876e-01]])"
      ]
     },
     "execution_count": 58,
     "metadata": {},
     "output_type": "execute_result"
    }
   ],
   "source": [
    "model.decision_function(X)"
   ]
  },
  {
   "cell_type": "code",
   "execution_count": 59,
   "metadata": {},
   "outputs": [],
   "source": [
    "labels=['NOUN_NOUN',\n",
    " 'NOUN_ADJ',\n",
    " 'NOUN_VERB',\n",
    " 'NOUN_ADV',\n",
    " 'ADJ_NOUN',\n",
    " 'ADJ_ADJ',\n",
    " 'ADJ_VERB',\n",
    " 'ADJ_ADV',\n",
    " 'VERB_NOUN',\n",
    " 'VERB_ADJ',\n",
    " 'VERB_VERB',\n",
    " 'VERB_ADV',\n",
    " 'ADV_NOUN',\n",
    " 'ADV_ADJ',\n",
    " 'ADV_VERB',\n",
    " 'ADV_ADV']"
   ]
  },
  {
   "cell_type": "code",
   "execution_count": 60,
   "metadata": {},
   "outputs": [
    {
     "data": {
      "text/plain": [
       "array(['contradiction', 'entailment', 'neutral'], dtype=object)"
      ]
     },
     "execution_count": 60,
     "metadata": {},
     "output_type": "execute_result"
    }
   ],
   "source": [
    "model.classes_"
   ]
  },
  {
   "cell_type": "code",
   "execution_count": 61,
   "metadata": {},
   "outputs": [],
   "source": [
    "contradiction=model.coef_[0]\n",
    "entailment=model.coef_[1]\n",
    "neutral=model.coef_[2]"
   ]
  },
  {
   "cell_type": "code",
   "execution_count": 62,
   "metadata": {},
   "outputs": [
    {
     "name": "stdout",
     "output_type": "stream",
     "text": [
      "Contradiction  3 NOUN_ADV 5 ADJ_ADJ\n",
      "Entailment  7 ADJ_ADV 1 NOUN_ADJ\n",
      "Neutral  1 NOUN_ADJ 3 NOUN_ADV\n"
     ]
    }
   ],
   "source": [
    "print(\"Contradiction \",np.argmax(contradiction),labels[np.argmax(contradiction)],np.argmin(contradiction),labels[np.argmin(contradiction)])\n",
    "print(\"Entailment \",np.argmax(entailment),labels[np.argmax(entailment)],np.argmin(entailment),labels[np.argmin(entailment)])\n",
    "print(\"Neutral \",np.argmax(neutral),labels[np.argmax(neutral)],np.argmin(neutral),labels[np.argmin(neutral)])"
   ]
  },
  {
   "cell_type": "code",
   "execution_count": 63,
   "metadata": {},
   "outputs": [
    {
     "data": {
      "image/png": "[encoded data removed]",
      "text/plain": [
       "<Figure size 432x288 with 1 Axes>"
      ]
     },
     "metadata": {
      "needs_background": "light"
     },
     "output_type": "display_data"
    }
   ],
   "source": [
    "import matplotlib.pyplot as plt\n",
    "import numpy as np\n",
    "\n",
    "x_v = np.arange(0,16,1)\n",
    "y_v = contradiction\n",
    "\n",
    "plt.bar(x_v,y_v)\n",
    "plt.xlabel('x')\n",
    "plt.ylabel('y')\n",
    "plt.title('Contradiction')\n",
    "plt.show()"
   ]
  },
  {
   "cell_type": "code",
   "execution_count": 64,
   "metadata": {},
   "outputs": [
    {
     "data": {
      "image/png": "[encoded data removed]",
      "text/plain": [
       "<Figure size 432x288 with 1 Axes>"
      ]
     },
     "metadata": {
      "needs_background": "light"
     },
     "output_type": "display_data"
    }
   ],
   "source": [
    "x_v = np.arange(0,16,1)\n",
    "y_v = entailment\n",
    "\n",
    "plt.bar(x_v,y_v)\n",
    "plt.xlabel('x')\n",
    "plt.ylabel('y')\n",
    "plt.title('Entailment')\n",
    "plt.show()"
   ]
  },
  {
   "cell_type": "code",
   "execution_count": 65,
   "metadata": {},
   "outputs": [
    {
     "data": {
      "image/png": "[encoded data removed]",
      "text/plain": [
       "<Figure size 432x288 with 1 Axes>"
      ]
     },
     "metadata": {
      "needs_background": "light"
     },
     "output_type": "display_data"
    }
   ],
   "source": [
    "x_v = np.arange(0,16,1)\n",
    "y_v = neutral\n",
    "\n",
    "plt.bar(x_v,y_v)\n",
    "plt.xlabel('x')\n",
    "plt.ylabel('y')\n",
    "plt.title('Neutral')\n",
    "plt.show()"
   ]
  },
  {
   "cell_type": "code",
   "execution_count": 66,
   "metadata": {},
   "outputs": [
    {
     "name": "stdout",
     "output_type": "stream",
     "text": [
      "['entailment' 'entailment' 'entailment' 'entailment' 'entailment'\n",
      " 'entailment' 'entailment' 'entailment' 'neutral' 'entailment' 'neutral'\n",
      " 'entailment' 'entailment' 'entailment' 'neutral' 'entailment'\n",
      " 'entailment' 'entailment' 'neutral' 'entailment' 'entailment'\n",
      " 'contradiction' 'entailment' 'entailment' 'entailment' 'neutral'\n",
      " 'entailment' 'entailment' 'entailment' 'neutral' 'entailment'\n",
      " 'contradiction' 'contradiction' 'entailment' 'entailment' 'neutral'\n",
      " 'entailment' 'entailment' 'neutral' 'neutral' 'neutral' 'neutral'\n",
      " 'neutral' 'contradiction' 'entailment' 'entailment' 'neutral'\n",
      " 'entailment' 'neutral' 'neutral' 'entailment' 'entailment'\n",
      " 'contradiction' 'entailment' 'entailment' 'entailment' 'entailment'\n",
      " 'entailment' 'neutral' 'entailment' 'neutral' 'neutral' 'entailment'\n",
      " 'entailment' 'entailment' 'entailment' 'entailment' 'entailment'\n",
      " 'neutral' 'entailment' 'entailment' 'entailment' 'entailment' 'neutral'\n",
      " 'neutral' 'neutral' 'entailment' 'entailment' 'entailment' 'entailment'\n",
      " 'entailment' 'entailment' 'contradiction' 'entailment' 'contradiction'\n",
      " 'entailment' 'entailment' 'entailment' 'entailment' 'neutral'\n",
      " 'entailment' 'neutral' 'entailment' 'entailment' 'neutral' 'neutral'\n",
      " 'neutral' 'entailment' 'entailment' 'entailment']\n"
     ]
    }
   ],
   "source": [
    "predictions = model.predict(X)\n",
    "print(predictions)"
   ]
  },
  {
   "cell_type": "code",
   "execution_count": 67,
   "metadata": {},
   "outputs": [
    {
     "data": {
      "text/plain": [
       "array(['entailment', 'entailment', 'contradiction', 'contradiction',\n",
       "       'neutral', 'neutral', 'neutral', 'entailment', 'neutral',\n",
       "       'entailment', 'neutral', 'contradiction', 'entailment',\n",
       "       'contradiction', 'neutral', 'neutral', 'entailment',\n",
       "       'contradiction', 'contradiction', 'entailment', 'entailment',\n",
       "       'entailment', 'neutral', 'contradiction', 'entailment', 'neutral',\n",
       "       'entailment', 'entailment', 'entailment', 'neutral', 'neutral',\n",
       "       'contradiction', 'contradiction', 'entailment', 'contradiction',\n",
       "       'neutral', 'entailment', 'neutral', 'neutral', 'entailment',\n",
       "       'neutral', 'neutral', 'contradiction', 'neutral', 'entailment',\n",
       "       'neutral', 'neutral', 'entailment', 'contradiction', 'neutral',\n",
       "       'entailment', 'entailment', 'neutral', 'entailment',\n",
       "       'contradiction', 'entailment', 'entailment', 'neutral', 'neutral',\n",
       "       'neutral', 'neutral', 'neutral', 'neutral', 'entailment',\n",
       "       'entailment', 'contradiction', 'entailment', 'entailment',\n",
       "       'neutral', 'contradiction', 'entailment', 'contradiction',\n",
       "       'contradiction', 'contradiction', 'neutral', 'entailment',\n",
       "       'entailment', 'entailment', 'entailment', 'contradiction',\n",
       "       'neutral', 'entailment', 'entailment', 'entailment',\n",
       "       'contradiction', 'entailment', 'entailment', 'entailment',\n",
       "       'contradiction', 'contradiction', 'contradiction', 'neutral',\n",
       "       'entailment', 'entailment', 'contradiction', 'entailment',\n",
       "       'entailment', 'contradiction', 'contradiction', 'contradiction'],\n",
       "      dtype=object)"
      ]
     },
     "execution_count": 67,
     "metadata": {},
     "output_type": "execute_result"
    }
   ],
   "source": [
    "y"
   ]
  },
  {
   "cell_type": "code",
   "execution_count": 68,
   "metadata": {},
   "outputs": [
    {
     "data": {
      "text/plain": [
       "array([[23.18277657,  0.        ,  8.16802084, ...,  0.        ,\n",
       "         0.        ,  0.        ],\n",
       "       [22.94202816,  1.59155118,  2.13499045, ...,  0.        ,\n",
       "         0.        ,  0.        ],\n",
       "       [14.88061917,  1.82459164,  3.68787432, ...,  0.        ,\n",
       "         0.        ,  0.        ],\n",
       "       ...,\n",
       "       [ 5.29783893,  0.        ,  5.13886273, ...,  0.        ,\n",
       "         0.        ,  0.        ],\n",
       "       [ 7.11044979,  0.        ,  0.        , ...,  0.        ,\n",
       "         0.        ,  0.        ],\n",
       "       [12.45881259,  0.        ,  0.        , ...,  0.        ,\n",
       "         0.        ,  0.        ]])"
      ]
     },
     "execution_count": 68,
     "metadata": {},
     "output_type": "execute_result"
    }
   ],
   "source": [
    "X"
   ]
  },
  {
   "cell_type": "code",
   "execution_count": 69,
   "metadata": {},
   "outputs": [
    {
     "data": {
      "text/plain": [
       "0.56"
      ]
     },
     "execution_count": 69,
     "metadata": {},
     "output_type": "execute_result"
    }
   ],
   "source": [
    "model.score(X,y)"
   ]
  },
  {
   "cell_type": "code",
   "execution_count": 70,
   "metadata": {},
   "outputs": [],
   "source": [
    "validation_size = 0.10\n",
    "seed = 7\n",
    "X_train, X_validation, Y_train, Y_validation = model_selection.train_test_split(X, y, test_size=validation_size)"
   ]
  },
  {
   "cell_type": "code",
   "execution_count": 71,
   "metadata": {},
   "outputs": [
    {
     "name": "stdout",
     "output_type": "stream",
     "text": [
      "Logistic Regression: 0.433333 (0.059835)\n"
     ]
    },
    {
     "name": "stderr",
     "output_type": "stream",
     "text": [
      "/home/david/.local/lib/python3.8/site-packages/sklearn/linear_model/_logistic.py:458: ConvergenceWarning: lbfgs failed to converge (status=1):\n",
      "STOP: TOTAL NO. of ITERATIONS REACHED LIMIT.\n",
      "\n",
      "Increase the number of iterations (max_iter) or scale the data as shown in:\n",
      "    https://scikit-learn.org/stable/modules/preprocessing.html\n",
      "Please also refer to the documentation for alternative solver options:\n",
      "    https://scikit-learn.org/stable/modules/linear_model.html#logistic-regression\n",
      "  n_iter_i = _check_optimize_result(\n",
      "/home/david/.local/lib/python3.8/site-packages/sklearn/linear_model/_logistic.py:458: ConvergenceWarning: lbfgs failed to converge (status=1):\n",
      "STOP: TOTAL NO. of ITERATIONS REACHED LIMIT.\n",
      "\n",
      "Increase the number of iterations (max_iter) or scale the data as shown in:\n",
      "    https://scikit-learn.org/stable/modules/preprocessing.html\n",
      "Please also refer to the documentation for alternative solver options:\n",
      "    https://scikit-learn.org/stable/modules/linear_model.html#logistic-regression\n",
      "  n_iter_i = _check_optimize_result(\n"
     ]
    }
   ],
   "source": [
    "name='Logistic Regression'\n",
    "kfold = model_selection.KFold(n_splits=10)\n",
    "cv_results = model_selection.cross_val_score(model, X_train, Y_train, cv=kfold, scoring='accuracy')\n",
    "msg = \"%s: %f (%f)\" % (name, cv_results.mean(), cv_results.std())\n",
    "print(msg)"
   ]
  },
  {
   "cell_type": "code",
   "execution_count": 72,
   "metadata": {},
   "outputs": [
    {
     "name": "stdout",
     "output_type": "stream",
     "text": [
      "0.7\n"
     ]
    }
   ],
   "source": [
    "predictions = model.predict(X_validation)\n",
    "print(accuracy_score(Y_validation, predictions))"
   ]
  },
  {
   "cell_type": "code",
   "execution_count": 73,
   "metadata": {},
   "outputs": [
    {
     "name": "stdout",
     "output_type": "stream",
     "text": [
      "[[0 1 1]\n",
      " [0 6 1]\n",
      " [0 0 1]]\n"
     ]
    }
   ],
   "source": [
    "print(confusion_matrix(Y_validation, predictions))"
   ]
  },
  {
   "cell_type": "code",
   "execution_count": 74,
   "metadata": {},
   "outputs": [
    {
     "name": "stdout",
     "output_type": "stream",
     "text": [
      "               precision    recall  f1-score   support\n",
      "\n",
      "contradiction       0.00      0.00      0.00         2\n",
      "   entailment       0.86      0.86      0.86         7\n",
      "      neutral       0.33      1.00      0.50         1\n",
      "\n",
      "     accuracy                           0.70        10\n",
      "    macro avg       0.40      0.62      0.45        10\n",
      " weighted avg       0.63      0.70      0.65        10\n",
      "\n"
     ]
    },
    {
     "name": "stderr",
     "output_type": "stream",
     "text": [
      "/home/david/.local/lib/python3.8/site-packages/sklearn/metrics/_classification.py:1344: UndefinedMetricWarning: Precision and F-score are ill-defined and being set to 0.0 in labels with no predicted samples. Use `zero_division` parameter to control this behavior.\n",
      "  _warn_prf(average, modifier, msg_start, len(result))\n",
      "/home/david/.local/lib/python3.8/site-packages/sklearn/metrics/_classification.py:1344: UndefinedMetricWarning: Precision and F-score are ill-defined and being set to 0.0 in labels with no predicted samples. Use `zero_division` parameter to control this behavior.\n",
      "  _warn_prf(average, modifier, msg_start, len(result))\n",
      "/home/david/.local/lib/python3.8/site-packages/sklearn/metrics/_classification.py:1344: UndefinedMetricWarning: Precision and F-score are ill-defined and being set to 0.0 in labels with no predicted samples. Use `zero_division` parameter to control this behavior.\n",
      "  _warn_prf(average, modifier, msg_start, len(result))\n"
     ]
    }
   ],
   "source": [
    "print(classification_report(Y_validation, predictions))"
   ]
  },
  {
   "cell_type": "code",
   "execution_count": 75,
   "metadata": {},
   "outputs": [],
   "source": [
    "#X_new = pd.DataFrame()\n",
    "#model.predict(X_new)"
   ]
  }
 ],
 "metadata": {
  "kernelspec": {
   "display_name": "Python 3",
   "language": "python",
   "name": "python3"
  },
  "language_info": {
   "codemirror_mode": {
    "name": "ipython",
    "version": 3
   },
   "file_extension": ".py",
   "mimetype": "text/x-python",
   "name": "python",
   "nbconvert_exporter": "python",
   "pygments_lexer": "ipython3",
   "version": "3.8.10"
  }
 },
 "nbformat": 4,
 "nbformat_minor": 2
}
