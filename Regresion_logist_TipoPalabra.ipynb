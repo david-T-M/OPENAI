{
 "cells": [
  {
   "cell_type": "code",
   "execution_count": 123,
   "metadata": {},
   "outputs": [],
   "source": [
    "import pandas as pd\n",
    "import numpy as np\n",
    "from sklearn import linear_model\n",
    "from sklearn import model_selection\n",
    "from sklearn.metrics import classification_report\n",
    "from sklearn.metrics import confusion_matrix\n",
    "from sklearn.metrics import accuracy_score\n",
    "import matplotlib.pyplot as plt\n",
    "import seaborn as sb"
   ]
  },
  {
   "cell_type": "code",
   "execution_count": 124,
   "metadata": {},
   "outputs": [
    {
     "data": {
      "text/html": [
       "<div>\n",
       "<style scoped>\n",
       "    .dataframe tbody tr th:only-of-type {\n",
       "        vertical-align: middle;\n",
       "    }\n",
       "\n",
       "    .dataframe tbody tr th {\n",
       "        vertical-align: top;\n",
       "    }\n",
       "\n",
       "    .dataframe thead th {\n",
       "        text-align: right;\n",
       "    }\n",
       "</style>\n",
       "<table border=\"1\" class=\"dataframe\">\n",
       "  <thead>\n",
       "    <tr style=\"text-align: right;\">\n",
       "      <th></th>\n",
       "      <th>NOUN_NOUN</th>\n",
       "      <th>NOUN_ADJ</th>\n",
       "      <th>NOUN_VERB</th>\n",
       "      <th>NOUN_ADV</th>\n",
       "      <th>ADJ_NOUN</th>\n",
       "      <th>ADJ_ADJ</th>\n",
       "      <th>ADJ_VERB</th>\n",
       "      <th>ADJ_ADV</th>\n",
       "      <th>VERB_NOUN</th>\n",
       "      <th>VERB_ADJ</th>\n",
       "      <th>VERB_VERB</th>\n",
       "      <th>VERB_ADV</th>\n",
       "      <th>ADV_NOUN</th>\n",
       "      <th>ADV_ADJ</th>\n",
       "      <th>ADV_VERB</th>\n",
       "      <th>ADV_ADV</th>\n",
       "      <th>CLASS</th>\n",
       "    </tr>\n",
       "  </thead>\n",
       "  <tbody>\n",
       "    <tr>\n",
       "      <th>0</th>\n",
       "      <td>3.660995</td>\n",
       "      <td>0.000000</td>\n",
       "      <td>1.243875</td>\n",
       "      <td>0.000000</td>\n",
       "      <td>0.908511</td>\n",
       "      <td>0.000000</td>\n",
       "      <td>0.000000</td>\n",
       "      <td>0.000000</td>\n",
       "      <td>0.293707</td>\n",
       "      <td>0.000000</td>\n",
       "      <td>0.351618</td>\n",
       "      <td>0.000000</td>\n",
       "      <td>0.000000</td>\n",
       "      <td>0.0</td>\n",
       "      <td>0.0</td>\n",
       "      <td>0.0</td>\n",
       "      <td>entailment</td>\n",
       "    </tr>\n",
       "    <tr>\n",
       "      <th>1</th>\n",
       "      <td>3.219189</td>\n",
       "      <td>0.222679</td>\n",
       "      <td>0.187945</td>\n",
       "      <td>0.000000</td>\n",
       "      <td>0.000000</td>\n",
       "      <td>1.224963</td>\n",
       "      <td>0.000000</td>\n",
       "      <td>0.000000</td>\n",
       "      <td>1.138384</td>\n",
       "      <td>0.000000</td>\n",
       "      <td>0.203158</td>\n",
       "      <td>0.000000</td>\n",
       "      <td>0.000000</td>\n",
       "      <td>0.0</td>\n",
       "      <td>0.0</td>\n",
       "      <td>0.0</td>\n",
       "      <td>entailment</td>\n",
       "    </tr>\n",
       "    <tr>\n",
       "      <th>2</th>\n",
       "      <td>3.281627</td>\n",
       "      <td>0.225920</td>\n",
       "      <td>0.742457</td>\n",
       "      <td>0.000000</td>\n",
       "      <td>1.351210</td>\n",
       "      <td>0.000000</td>\n",
       "      <td>0.894665</td>\n",
       "      <td>0.000000</td>\n",
       "      <td>0.199190</td>\n",
       "      <td>0.000000</td>\n",
       "      <td>0.607777</td>\n",
       "      <td>0.000000</td>\n",
       "      <td>0.000000</td>\n",
       "      <td>0.0</td>\n",
       "      <td>0.0</td>\n",
       "      <td>0.0</td>\n",
       "      <td>contradiction</td>\n",
       "    </tr>\n",
       "    <tr>\n",
       "      <th>3</th>\n",
       "      <td>2.461393</td>\n",
       "      <td>0.000000</td>\n",
       "      <td>0.561039</td>\n",
       "      <td>0.000000</td>\n",
       "      <td>1.731715</td>\n",
       "      <td>0.000000</td>\n",
       "      <td>0.000000</td>\n",
       "      <td>0.000000</td>\n",
       "      <td>0.845888</td>\n",
       "      <td>0.000000</td>\n",
       "      <td>1.699068</td>\n",
       "      <td>0.000000</td>\n",
       "      <td>0.000000</td>\n",
       "      <td>0.0</td>\n",
       "      <td>0.0</td>\n",
       "      <td>0.0</td>\n",
       "      <td>contradiction</td>\n",
       "    </tr>\n",
       "    <tr>\n",
       "      <th>4</th>\n",
       "      <td>1.860485</td>\n",
       "      <td>0.000000</td>\n",
       "      <td>0.000000</td>\n",
       "      <td>0.000000</td>\n",
       "      <td>0.000000</td>\n",
       "      <td>0.000000</td>\n",
       "      <td>0.000000</td>\n",
       "      <td>0.000000</td>\n",
       "      <td>0.504674</td>\n",
       "      <td>0.000000</td>\n",
       "      <td>0.232421</td>\n",
       "      <td>0.000000</td>\n",
       "      <td>0.357102</td>\n",
       "      <td>0.0</td>\n",
       "      <td>0.0</td>\n",
       "      <td>0.0</td>\n",
       "      <td>neutral</td>\n",
       "    </tr>\n",
       "    <tr>\n",
       "      <th>...</th>\n",
       "      <td>...</td>\n",
       "      <td>...</td>\n",
       "      <td>...</td>\n",
       "      <td>...</td>\n",
       "      <td>...</td>\n",
       "      <td>...</td>\n",
       "      <td>...</td>\n",
       "      <td>...</td>\n",
       "      <td>...</td>\n",
       "      <td>...</td>\n",
       "      <td>...</td>\n",
       "      <td>...</td>\n",
       "      <td>...</td>\n",
       "      <td>...</td>\n",
       "      <td>...</td>\n",
       "      <td>...</td>\n",
       "      <td>...</td>\n",
       "    </tr>\n",
       "    <tr>\n",
       "      <th>95</th>\n",
       "      <td>2.884689</td>\n",
       "      <td>0.571227</td>\n",
       "      <td>0.000000</td>\n",
       "      <td>0.000000</td>\n",
       "      <td>0.000000</td>\n",
       "      <td>1.233097</td>\n",
       "      <td>0.000000</td>\n",
       "      <td>0.000000</td>\n",
       "      <td>0.247773</td>\n",
       "      <td>0.235209</td>\n",
       "      <td>0.694806</td>\n",
       "      <td>0.000000</td>\n",
       "      <td>0.000000</td>\n",
       "      <td>0.0</td>\n",
       "      <td>0.0</td>\n",
       "      <td>0.0</td>\n",
       "      <td>entailment</td>\n",
       "    </tr>\n",
       "    <tr>\n",
       "      <th>96</th>\n",
       "      <td>1.887273</td>\n",
       "      <td>0.000000</td>\n",
       "      <td>0.000000</td>\n",
       "      <td>0.000000</td>\n",
       "      <td>0.917675</td>\n",
       "      <td>0.000000</td>\n",
       "      <td>0.000000</td>\n",
       "      <td>0.000000</td>\n",
       "      <td>0.000000</td>\n",
       "      <td>0.000000</td>\n",
       "      <td>0.719443</td>\n",
       "      <td>0.000000</td>\n",
       "      <td>0.000000</td>\n",
       "      <td>0.0</td>\n",
       "      <td>0.0</td>\n",
       "      <td>0.0</td>\n",
       "      <td>entailment</td>\n",
       "    </tr>\n",
       "    <tr>\n",
       "      <th>97</th>\n",
       "      <td>1.317129</td>\n",
       "      <td>0.000000</td>\n",
       "      <td>0.965588</td>\n",
       "      <td>0.000000</td>\n",
       "      <td>0.000000</td>\n",
       "      <td>0.000000</td>\n",
       "      <td>0.000000</td>\n",
       "      <td>0.000000</td>\n",
       "      <td>0.281120</td>\n",
       "      <td>0.000000</td>\n",
       "      <td>1.045653</td>\n",
       "      <td>0.000000</td>\n",
       "      <td>0.000000</td>\n",
       "      <td>0.0</td>\n",
       "      <td>0.0</td>\n",
       "      <td>0.0</td>\n",
       "      <td>contradiction</td>\n",
       "    </tr>\n",
       "    <tr>\n",
       "      <th>98</th>\n",
       "      <td>1.533278</td>\n",
       "      <td>0.000000</td>\n",
       "      <td>0.000000</td>\n",
       "      <td>0.000000</td>\n",
       "      <td>0.000000</td>\n",
       "      <td>0.000000</td>\n",
       "      <td>0.000000</td>\n",
       "      <td>0.000000</td>\n",
       "      <td>0.525473</td>\n",
       "      <td>0.000000</td>\n",
       "      <td>0.320058</td>\n",
       "      <td>0.000000</td>\n",
       "      <td>0.000000</td>\n",
       "      <td>0.0</td>\n",
       "      <td>0.0</td>\n",
       "      <td>0.0</td>\n",
       "      <td>contradiction</td>\n",
       "    </tr>\n",
       "    <tr>\n",
       "      <th>99</th>\n",
       "      <td>2.465868</td>\n",
       "      <td>0.000000</td>\n",
       "      <td>0.000000</td>\n",
       "      <td>0.295772</td>\n",
       "      <td>0.594562</td>\n",
       "      <td>0.000000</td>\n",
       "      <td>0.000000</td>\n",
       "      <td>0.270188</td>\n",
       "      <td>1.522963</td>\n",
       "      <td>0.000000</td>\n",
       "      <td>0.000000</td>\n",
       "      <td>0.313707</td>\n",
       "      <td>0.000000</td>\n",
       "      <td>0.0</td>\n",
       "      <td>0.0</td>\n",
       "      <td>0.0</td>\n",
       "      <td>contradiction</td>\n",
       "    </tr>\n",
       "  </tbody>\n",
       "</table>\n",
       "<p>100 rows × 17 columns</p>\n",
       "</div>"
      ],
      "text/plain": [
       "    NOUN_NOUN  NOUN_ADJ  NOUN_VERB  NOUN_ADV  ADJ_NOUN   ADJ_ADJ  ADJ_VERB  \\\n",
       "0    3.660995  0.000000   1.243875  0.000000  0.908511  0.000000  0.000000   \n",
       "1    3.219189  0.222679   0.187945  0.000000  0.000000  1.224963  0.000000   \n",
       "2    3.281627  0.225920   0.742457  0.000000  1.351210  0.000000  0.894665   \n",
       "3    2.461393  0.000000   0.561039  0.000000  1.731715  0.000000  0.000000   \n",
       "4    1.860485  0.000000   0.000000  0.000000  0.000000  0.000000  0.000000   \n",
       "..        ...       ...        ...       ...       ...       ...       ...   \n",
       "95   2.884689  0.571227   0.000000  0.000000  0.000000  1.233097  0.000000   \n",
       "96   1.887273  0.000000   0.000000  0.000000  0.917675  0.000000  0.000000   \n",
       "97   1.317129  0.000000   0.965588  0.000000  0.000000  0.000000  0.000000   \n",
       "98   1.533278  0.000000   0.000000  0.000000  0.000000  0.000000  0.000000   \n",
       "99   2.465868  0.000000   0.000000  0.295772  0.594562  0.000000  0.000000   \n",
       "\n",
       "     ADJ_ADV  VERB_NOUN  VERB_ADJ  VERB_VERB  VERB_ADV  ADV_NOUN  ADV_ADJ  \\\n",
       "0   0.000000   0.293707  0.000000   0.351618  0.000000  0.000000      0.0   \n",
       "1   0.000000   1.138384  0.000000   0.203158  0.000000  0.000000      0.0   \n",
       "2   0.000000   0.199190  0.000000   0.607777  0.000000  0.000000      0.0   \n",
       "3   0.000000   0.845888  0.000000   1.699068  0.000000  0.000000      0.0   \n",
       "4   0.000000   0.504674  0.000000   0.232421  0.000000  0.357102      0.0   \n",
       "..       ...        ...       ...        ...       ...       ...      ...   \n",
       "95  0.000000   0.247773  0.235209   0.694806  0.000000  0.000000      0.0   \n",
       "96  0.000000   0.000000  0.000000   0.719443  0.000000  0.000000      0.0   \n",
       "97  0.000000   0.281120  0.000000   1.045653  0.000000  0.000000      0.0   \n",
       "98  0.000000   0.525473  0.000000   0.320058  0.000000  0.000000      0.0   \n",
       "99  0.270188   1.522963  0.000000   0.000000  0.313707  0.000000      0.0   \n",
       "\n",
       "    ADV_VERB  ADV_ADV          CLASS  \n",
       "0        0.0      0.0     entailment  \n",
       "1        0.0      0.0     entailment  \n",
       "2        0.0      0.0  contradiction  \n",
       "3        0.0      0.0  contradiction  \n",
       "4        0.0      0.0        neutral  \n",
       "..       ...      ...            ...  \n",
       "95       0.0      0.0     entailment  \n",
       "96       0.0      0.0     entailment  \n",
       "97       0.0      0.0  contradiction  \n",
       "98       0.0      0.0  contradiction  \n",
       "99       0.0      0.0  contradiction  \n",
       "\n",
       "[100 rows x 17 columns]"
      ]
     },
     "execution_count": 124,
     "metadata": {},
     "output_type": "execute_result"
    }
   ],
   "source": [
    "#dataframe = pd.read_csv(r\"indicadoresTipoPalabra_CLASS.csv\")\n",
    "#dataframe = pd.read_csv(r\"indicadoresTipoPalabra_umbral1_CLASS.csv\")\n",
    "dataframe = pd.read_csv(r\"indicadoresTipoPalabra_umbral1_CLASS.csv\")\n",
    "dataframe"
   ]
  },
  {
   "cell_type": "code",
   "execution_count": 125,
   "metadata": {},
   "outputs": [
    {
     "data": {
      "text/html": [
       "<div>\n",
       "<style scoped>\n",
       "    .dataframe tbody tr th:only-of-type {\n",
       "        vertical-align: middle;\n",
       "    }\n",
       "\n",
       "    .dataframe tbody tr th {\n",
       "        vertical-align: top;\n",
       "    }\n",
       "\n",
       "    .dataframe thead th {\n",
       "        text-align: right;\n",
       "    }\n",
       "</style>\n",
       "<table border=\"1\" class=\"dataframe\">\n",
       "  <thead>\n",
       "    <tr style=\"text-align: right;\">\n",
       "      <th></th>\n",
       "      <th>NOUN_NOUN</th>\n",
       "      <th>NOUN_ADJ</th>\n",
       "      <th>NOUN_VERB</th>\n",
       "      <th>NOUN_ADV</th>\n",
       "      <th>ADJ_NOUN</th>\n",
       "      <th>ADJ_ADJ</th>\n",
       "      <th>ADJ_VERB</th>\n",
       "      <th>ADJ_ADV</th>\n",
       "      <th>VERB_NOUN</th>\n",
       "      <th>VERB_ADJ</th>\n",
       "      <th>VERB_VERB</th>\n",
       "      <th>VERB_ADV</th>\n",
       "      <th>ADV_NOUN</th>\n",
       "      <th>ADV_ADJ</th>\n",
       "      <th>ADV_VERB</th>\n",
       "      <th>ADV_ADV</th>\n",
       "    </tr>\n",
       "  </thead>\n",
       "  <tbody>\n",
       "    <tr>\n",
       "      <th>count</th>\n",
       "      <td>100.000000</td>\n",
       "      <td>100.000000</td>\n",
       "      <td>100.000000</td>\n",
       "      <td>100.000000</td>\n",
       "      <td>100.000000</td>\n",
       "      <td>100.000000</td>\n",
       "      <td>100.000000</td>\n",
       "      <td>100.000000</td>\n",
       "      <td>100.000000</td>\n",
       "      <td>100.000000</td>\n",
       "      <td>100.000000</td>\n",
       "      <td>100.000000</td>\n",
       "      <td>100.000000</td>\n",
       "      <td>100.000000</td>\n",
       "      <td>100.000000</td>\n",
       "      <td>100.000000</td>\n",
       "    </tr>\n",
       "    <tr>\n",
       "      <th>mean</th>\n",
       "      <td>2.339321</td>\n",
       "      <td>0.167602</td>\n",
       "      <td>0.360893</td>\n",
       "      <td>0.089380</td>\n",
       "      <td>0.590455</td>\n",
       "      <td>0.164717</td>\n",
       "      <td>0.077265</td>\n",
       "      <td>0.038643</td>\n",
       "      <td>0.418385</td>\n",
       "      <td>0.039352</td>\n",
       "      <td>0.422376</td>\n",
       "      <td>0.036583</td>\n",
       "      <td>0.044113</td>\n",
       "      <td>0.004942</td>\n",
       "      <td>0.026716</td>\n",
       "      <td>0.019079</td>\n",
       "    </tr>\n",
       "    <tr>\n",
       "      <th>std</th>\n",
       "      <td>1.130411</td>\n",
       "      <td>0.297415</td>\n",
       "      <td>0.487580</td>\n",
       "      <td>0.323304</td>\n",
       "      <td>0.689397</td>\n",
       "      <td>0.352279</td>\n",
       "      <td>0.303308</td>\n",
       "      <td>0.166581</td>\n",
       "      <td>0.465513</td>\n",
       "      <td>0.119461</td>\n",
       "      <td>0.477382</td>\n",
       "      <td>0.153294</td>\n",
       "      <td>0.137597</td>\n",
       "      <td>0.031786</td>\n",
       "      <td>0.118051</td>\n",
       "      <td>0.163007</td>\n",
       "    </tr>\n",
       "    <tr>\n",
       "      <th>min</th>\n",
       "      <td>0.000000</td>\n",
       "      <td>0.000000</td>\n",
       "      <td>0.000000</td>\n",
       "      <td>0.000000</td>\n",
       "      <td>0.000000</td>\n",
       "      <td>0.000000</td>\n",
       "      <td>0.000000</td>\n",
       "      <td>0.000000</td>\n",
       "      <td>0.000000</td>\n",
       "      <td>0.000000</td>\n",
       "      <td>0.000000</td>\n",
       "      <td>0.000000</td>\n",
       "      <td>0.000000</td>\n",
       "      <td>0.000000</td>\n",
       "      <td>0.000000</td>\n",
       "      <td>0.000000</td>\n",
       "    </tr>\n",
       "    <tr>\n",
       "      <th>25%</th>\n",
       "      <td>1.477958</td>\n",
       "      <td>0.000000</td>\n",
       "      <td>0.000000</td>\n",
       "      <td>0.000000</td>\n",
       "      <td>0.000000</td>\n",
       "      <td>0.000000</td>\n",
       "      <td>0.000000</td>\n",
       "      <td>0.000000</td>\n",
       "      <td>0.000000</td>\n",
       "      <td>0.000000</td>\n",
       "      <td>0.000000</td>\n",
       "      <td>0.000000</td>\n",
       "      <td>0.000000</td>\n",
       "      <td>0.000000</td>\n",
       "      <td>0.000000</td>\n",
       "      <td>0.000000</td>\n",
       "    </tr>\n",
       "    <tr>\n",
       "      <th>50%</th>\n",
       "      <td>2.271634</td>\n",
       "      <td>0.000000</td>\n",
       "      <td>0.190060</td>\n",
       "      <td>0.000000</td>\n",
       "      <td>0.488398</td>\n",
       "      <td>0.000000</td>\n",
       "      <td>0.000000</td>\n",
       "      <td>0.000000</td>\n",
       "      <td>0.326972</td>\n",
       "      <td>0.000000</td>\n",
       "      <td>0.328384</td>\n",
       "      <td>0.000000</td>\n",
       "      <td>0.000000</td>\n",
       "      <td>0.000000</td>\n",
       "      <td>0.000000</td>\n",
       "      <td>0.000000</td>\n",
       "    </tr>\n",
       "    <tr>\n",
       "      <th>75%</th>\n",
       "      <td>3.003646</td>\n",
       "      <td>0.269384</td>\n",
       "      <td>0.623798</td>\n",
       "      <td>0.000000</td>\n",
       "      <td>0.939787</td>\n",
       "      <td>0.000000</td>\n",
       "      <td>0.000000</td>\n",
       "      <td>0.000000</td>\n",
       "      <td>0.542236</td>\n",
       "      <td>0.000000</td>\n",
       "      <td>0.600600</td>\n",
       "      <td>0.000000</td>\n",
       "      <td>0.000000</td>\n",
       "      <td>0.000000</td>\n",
       "      <td>0.000000</td>\n",
       "      <td>0.000000</td>\n",
       "    </tr>\n",
       "    <tr>\n",
       "      <th>max</th>\n",
       "      <td>7.267500</td>\n",
       "      <td>1.379865</td>\n",
       "      <td>2.869047</td>\n",
       "      <td>2.170801</td>\n",
       "      <td>3.071738</td>\n",
       "      <td>1.427687</td>\n",
       "      <td>2.680772</td>\n",
       "      <td>0.964438</td>\n",
       "      <td>2.353116</td>\n",
       "      <td>0.588168</td>\n",
       "      <td>2.480648</td>\n",
       "      <td>1.029944</td>\n",
       "      <td>0.652995</td>\n",
       "      <td>0.280395</td>\n",
       "      <td>0.813687</td>\n",
       "      <td>1.604701</td>\n",
       "    </tr>\n",
       "  </tbody>\n",
       "</table>\n",
       "</div>"
      ],
      "text/plain": [
       "        NOUN_NOUN    NOUN_ADJ   NOUN_VERB    NOUN_ADV    ADJ_NOUN     ADJ_ADJ  \\\n",
       "count  100.000000  100.000000  100.000000  100.000000  100.000000  100.000000   \n",
       "mean     2.339321    0.167602    0.360893    0.089380    0.590455    0.164717   \n",
       "std      1.130411    0.297415    0.487580    0.323304    0.689397    0.352279   \n",
       "min      0.000000    0.000000    0.000000    0.000000    0.000000    0.000000   \n",
       "25%      1.477958    0.000000    0.000000    0.000000    0.000000    0.000000   \n",
       "50%      2.271634    0.000000    0.190060    0.000000    0.488398    0.000000   \n",
       "75%      3.003646    0.269384    0.623798    0.000000    0.939787    0.000000   \n",
       "max      7.267500    1.379865    2.869047    2.170801    3.071738    1.427687   \n",
       "\n",
       "         ADJ_VERB     ADJ_ADV   VERB_NOUN    VERB_ADJ   VERB_VERB    VERB_ADV  \\\n",
       "count  100.000000  100.000000  100.000000  100.000000  100.000000  100.000000   \n",
       "mean     0.077265    0.038643    0.418385    0.039352    0.422376    0.036583   \n",
       "std      0.303308    0.166581    0.465513    0.119461    0.477382    0.153294   \n",
       "min      0.000000    0.000000    0.000000    0.000000    0.000000    0.000000   \n",
       "25%      0.000000    0.000000    0.000000    0.000000    0.000000    0.000000   \n",
       "50%      0.000000    0.000000    0.326972    0.000000    0.328384    0.000000   \n",
       "75%      0.000000    0.000000    0.542236    0.000000    0.600600    0.000000   \n",
       "max      2.680772    0.964438    2.353116    0.588168    2.480648    1.029944   \n",
       "\n",
       "         ADV_NOUN     ADV_ADJ    ADV_VERB     ADV_ADV  \n",
       "count  100.000000  100.000000  100.000000  100.000000  \n",
       "mean     0.044113    0.004942    0.026716    0.019079  \n",
       "std      0.137597    0.031786    0.118051    0.163007  \n",
       "min      0.000000    0.000000    0.000000    0.000000  \n",
       "25%      0.000000    0.000000    0.000000    0.000000  \n",
       "50%      0.000000    0.000000    0.000000    0.000000  \n",
       "75%      0.000000    0.000000    0.000000    0.000000  \n",
       "max      0.652995    0.280395    0.813687    1.604701  "
      ]
     },
     "execution_count": 125,
     "metadata": {},
     "output_type": "execute_result"
    }
   ],
   "source": [
    "dataframe.describe()"
   ]
  },
  {
   "cell_type": "code",
   "execution_count": 126,
   "metadata": {},
   "outputs": [
    {
     "name": "stdout",
     "output_type": "stream",
     "text": [
      "CLASS\n",
      "contradiction    27\n",
      "entailment       42\n",
      "neutral          31\n",
      "dtype: int64\n"
     ]
    }
   ],
   "source": [
    "print(dataframe.groupby('CLASS').size())"
   ]
  },
  {
   "cell_type": "code",
   "execution_count": 127,
   "metadata": {},
   "outputs": [
    {
     "data": {
      "image/png": "[encoded data removed]",
      "text/plain": [
       "<Figure size 2000x1000 with 16 Axes>"
      ]
     },
     "metadata": {},
     "output_type": "display_data"
    }
   ],
   "source": [
    "dataframe.hist(figsize=(20,10))\n",
    "plt.show()"
   ]
  },
  {
   "cell_type": "code",
   "execution_count": 128,
   "metadata": {},
   "outputs": [],
   "source": [
    "labels=['NOUN_NOUN',\n",
    " 'NOUN_ADJ',\n",
    " 'NOUN_VERB',\n",
    " 'NOUN_ADV',\n",
    " 'ADJ_NOUN',\n",
    " 'ADJ_ADJ',\n",
    " 'ADJ_VERB',\n",
    " 'ADJ_ADV',\n",
    " 'VERB_NOUN',\n",
    " 'VERB_ADJ',\n",
    " 'VERB_VERB',\n",
    " 'VERB_ADV',\n",
    " 'ADV_NOUN',\n",
    " 'ADV_ADJ',\n",
    " 'ADV_VERB',\n",
    " 'ADV_ADV']"
   ]
  },
  {
   "cell_type": "code",
   "execution_count": 129,
   "metadata": {},
   "outputs": [],
   "source": [
    "#sb.pairplot(dataframe.dropna(), hue='CLASS',size=4,vars=labels,kind='reg')"
   ]
  },
  {
   "cell_type": "code",
   "execution_count": 130,
   "metadata": {},
   "outputs": [
    {
     "name": "stderr",
     "output_type": "stream",
     "text": [
      "C:\\Users\\Ninja\\AppData\\Local\\Temp\\ipykernel_20860\\1802400925.py:1: FutureWarning: In a future version of pandas all arguments of DataFrame.drop except for the argument 'labels' will be keyword-only.\n",
      "  X = np.array(dataframe.drop(['CLASS'],1))\n",
      "C:\\Users\\Ninja\\AppData\\Local\\Temp\\ipykernel_20860\\1802400925.py:2: FutureWarning: In a future version of pandas all arguments of DataFrame.drop except for the argument 'labels' will be keyword-only.\n",
      "  X_test = np.array(dataframe.drop(['CLASS'],1))\n"
     ]
    },
    {
     "data": {
      "text/plain": [
       "(100, 16)"
      ]
     },
     "execution_count": 130,
     "metadata": {},
     "output_type": "execute_result"
    }
   ],
   "source": [
    "X = np.array(dataframe.drop(['CLASS'],1))\n",
    "X_test = np.array(dataframe.drop(['CLASS'],1))\n",
    "y = np.array(dataframe['CLASS'])\n",
    "y_test =np.array(dataframe['CLASS'])\n",
    "X.shape"
   ]
  },
  {
   "cell_type": "code",
   "execution_count": 131,
   "metadata": {},
   "outputs": [
    {
     "data": {
      "text/plain": [
       "array(['entailment', 'entailment', 'contradiction', 'contradiction',\n",
       "       'neutral', 'neutral', 'neutral', 'entailment', 'neutral',\n",
       "       'entailment', 'neutral', 'contradiction', 'entailment',\n",
       "       'contradiction', 'neutral', 'neutral', 'entailment',\n",
       "       'contradiction', 'contradiction', 'entailment', 'entailment',\n",
       "       'entailment', 'neutral', 'contradiction', 'entailment', 'neutral',\n",
       "       'entailment', 'entailment', 'entailment', 'neutral', 'neutral',\n",
       "       'contradiction', 'contradiction', 'entailment', 'contradiction',\n",
       "       'neutral', 'entailment', 'neutral', 'neutral', 'entailment',\n",
       "       'neutral', 'neutral', 'contradiction', 'neutral', 'entailment',\n",
       "       'neutral', 'neutral', 'entailment', 'contradiction', 'neutral',\n",
       "       'entailment', 'entailment', 'neutral', 'entailment',\n",
       "       'contradiction', 'entailment', 'entailment', 'neutral', 'neutral',\n",
       "       'neutral', 'neutral', 'neutral', 'neutral', 'entailment',\n",
       "       'entailment', 'contradiction', 'entailment', 'entailment',\n",
       "       'neutral', 'contradiction', 'entailment', 'contradiction',\n",
       "       'contradiction', 'contradiction', 'neutral', 'entailment',\n",
       "       'entailment', 'entailment', 'entailment', 'contradiction',\n",
       "       'neutral', 'entailment', 'entailment', 'entailment',\n",
       "       'contradiction', 'entailment', 'entailment', 'entailment',\n",
       "       'contradiction', 'contradiction', 'contradiction', 'neutral',\n",
       "       'entailment', 'entailment', 'contradiction', 'entailment',\n",
       "       'entailment', 'contradiction', 'contradiction', 'contradiction'],\n",
       "      dtype=object)"
      ]
     },
     "execution_count": 131,
     "metadata": {},
     "output_type": "execute_result"
    }
   ],
   "source": [
    "y_test"
   ]
  },
  {
   "cell_type": "code",
   "execution_count": 132,
   "metadata": {},
   "outputs": [
    {
     "data": {
      "text/plain": [
       "array(['entailment', 'entailment', 'contradiction', 'contradiction',\n",
       "       'neutral', 'neutral', 'neutral', 'entailment', 'neutral',\n",
       "       'entailment', 'neutral', 'contradiction', 'entailment',\n",
       "       'contradiction', 'neutral', 'neutral', 'entailment',\n",
       "       'contradiction', 'contradiction', 'entailment', 'entailment',\n",
       "       'entailment', 'neutral', 'contradiction', 'entailment', 'neutral',\n",
       "       'entailment', 'entailment', 'entailment', 'neutral', 'neutral',\n",
       "       'contradiction', 'contradiction', 'entailment', 'contradiction',\n",
       "       'neutral', 'entailment', 'neutral', 'neutral', 'entailment',\n",
       "       'neutral', 'neutral', 'contradiction', 'neutral', 'entailment',\n",
       "       'neutral', 'neutral', 'entailment', 'contradiction', 'neutral',\n",
       "       'entailment', 'entailment', 'neutral', 'entailment',\n",
       "       'contradiction', 'entailment', 'entailment', 'neutral', 'neutral',\n",
       "       'neutral', 'neutral', 'neutral', 'neutral', 'entailment',\n",
       "       'entailment', 'contradiction', 'entailment', 'entailment',\n",
       "       'neutral', 'contradiction', 'entailment', 'contradiction',\n",
       "       'contradiction', 'contradiction', 'neutral', 'entailment',\n",
       "       'entailment', 'entailment', 'entailment', 'contradiction',\n",
       "       'neutral', 'entailment', 'entailment', 'entailment',\n",
       "       'contradiction', 'entailment', 'entailment', 'entailment',\n",
       "       'contradiction', 'contradiction', 'contradiction', 'neutral',\n",
       "       'entailment', 'entailment', 'contradiction', 'entailment',\n",
       "       'entailment', 'contradiction', 'contradiction', 'contradiction'],\n",
       "      dtype=object)"
      ]
     },
     "execution_count": 132,
     "metadata": {},
     "output_type": "execute_result"
    }
   ],
   "source": [
    "y"
   ]
  },
  {
   "cell_type": "code",
   "execution_count": 133,
   "metadata": {},
   "outputs": [
    {
     "data": {
      "text/plain": [
       "LogisticRegression(C=0.1)"
      ]
     },
     "execution_count": 133,
     "metadata": {},
     "output_type": "execute_result"
    }
   ],
   "source": [
    "model = linear_model.LogisticRegression(penalty=\"l2\", C=0.1)\n",
    "model.fit(X,y)"
   ]
  },
  {
   "cell_type": "code",
   "execution_count": 134,
   "metadata": {},
   "outputs": [
    {
     "data": {
      "text/plain": [
       "{'C': 0.1,\n",
       " 'class_weight': None,\n",
       " 'dual': False,\n",
       " 'fit_intercept': True,\n",
       " 'intercept_scaling': 1,\n",
       " 'l1_ratio': None,\n",
       " 'max_iter': 100,\n",
       " 'multi_class': 'auto',\n",
       " 'n_jobs': None,\n",
       " 'penalty': 'l2',\n",
       " 'random_state': None,\n",
       " 'solver': 'lbfgs',\n",
       " 'tol': 0.0001,\n",
       " 'verbose': 0,\n",
       " 'warm_start': False}"
      ]
     },
     "execution_count": 134,
     "metadata": {},
     "output_type": "execute_result"
    }
   ],
   "source": [
    "model.get_params()"
   ]
  },
  {
   "cell_type": "code",
   "execution_count": 135,
   "metadata": {},
   "outputs": [
    {
     "data": {
      "text/plain": [
       "array([[-0.11743052,  0.46759948, -0.35016896],\n",
       "       [-0.30464814,  0.23458174,  0.0700664 ],\n",
       "       [-0.19848792,  0.41342729, -0.21493937],\n",
       "       [-0.05564714,  0.52865658, -0.47300944],\n",
       "       [-0.14853779,  0.11159158,  0.03694621],\n",
       "       [ 0.14897454,  0.39167957, -0.54065412],\n",
       "       [-0.14634276,  0.17960771, -0.03326495],\n",
       "       [-0.20954602,  0.17420616,  0.03533985],\n",
       "       [-0.27070579,  0.08799881,  0.18270697],\n",
       "       [ 0.15652836,  0.37096853, -0.52749689],\n",
       "       [-0.36300497,  0.04717971,  0.31582525],\n",
       "       [-0.16113022,  0.26820123, -0.10707101],\n",
       "       [-0.27226703,  0.57111133, -0.2988443 ],\n",
       "       [-0.15743023,  0.3481133 , -0.19068307],\n",
       "       [-0.1444064 ,  0.25104987, -0.10664348],\n",
       "       [-0.02382615,  0.08618818, -0.06236203],\n",
       "       [-0.40525173,  1.09403465, -0.68878293],\n",
       "       [-0.13943184,  0.04798264,  0.0914492 ],\n",
       "       [-0.34531592,  0.15234275,  0.19297317],\n",
       "       [ 0.02427793,  0.77576442, -0.80004234],\n",
       "       [-0.14223251,  0.3647081 , -0.22247558],\n",
       "       [-0.03213544,  0.33756648, -0.30543104],\n",
       "       [-0.25318971,  0.18828262,  0.06490708],\n",
       "       [-0.18788977,  0.13736423,  0.05052554],\n",
       "       [-0.16852632,  0.2244557 , -0.05592937],\n",
       "       [-0.52457112, -0.04933158,  0.5739027 ],\n",
       "       [-0.18084973,  0.25437106, -0.07352133],\n",
       "       [-0.12580974,  0.22173015, -0.09592041],\n",
       "       [-0.2003943 ,  0.10288454,  0.09750976],\n",
       "       [-0.21237644,  0.08331932,  0.12905712],\n",
       "       [-0.35066023,  0.25115651,  0.09950372],\n",
       "       [ 0.00480966,  0.13059343, -0.13540309],\n",
       "       [-0.11178401,  0.21931908, -0.10753506],\n",
       "       [-0.19030091,  0.12947048,  0.06083042],\n",
       "       [-0.17642968,  0.44986376, -0.27343408],\n",
       "       [-0.24847176,  0.17261404,  0.07585772],\n",
       "       [-0.18835632,  0.12254093,  0.06581539],\n",
       "       [-0.18648427,  0.28456593, -0.09808166],\n",
       "       [-0.52236431,  0.06746656,  0.45489776],\n",
       "       [-0.17938646,  0.19443996, -0.01505351],\n",
       "       [-0.28665879,  0.06690453,  0.21975426],\n",
       "       [-0.3673548 ,  0.11620503,  0.25114977],\n",
       "       [-0.13814343, -0.02239856,  0.16054199],\n",
       "       [-0.13568215,  0.1714576 , -0.03577545],\n",
       "       [-0.06365474,  0.65854936, -0.59489462],\n",
       "       [-0.20878087,  0.27207897, -0.0632981 ],\n",
       "       [-0.25409193,  0.1499682 ,  0.10412373],\n",
       "       [-0.14292952,  0.26704945, -0.12411994],\n",
       "       [ 0.06133746, -0.03855098, -0.02278647],\n",
       "       [-0.25104842,  0.0287955 ,  0.22225292],\n",
       "       [-0.14402289,  0.48588286, -0.34185997],\n",
       "       [-0.38392635,  0.41067278, -0.02674643],\n",
       "       [-0.17880003,  0.14855398,  0.03024604],\n",
       "       [-0.17788851,  0.35055502, -0.17266651],\n",
       "       [-0.19800866,  0.23570646, -0.0376978 ],\n",
       "       [-0.13145762,  0.29119778, -0.15974017],\n",
       "       [-0.23999908,  0.02209343,  0.21790566],\n",
       "       [-0.20283523,  0.09889884,  0.10393639],\n",
       "       [-0.13817039, -0.02332583,  0.16149622],\n",
       "       [-0.37969185,  0.62024926, -0.24055741],\n",
       "       [-0.18364961,  0.09401336,  0.08963624],\n",
       "       [-0.19991677,  0.04760646,  0.15231031],\n",
       "       [-0.09237634,  0.26375571, -0.17137937],\n",
       "       [-0.16150318,  0.18167148, -0.0201683 ],\n",
       "       [-0.40401476,  0.2174184 ,  0.18659635],\n",
       "       [-0.16524554,  0.40767209, -0.24242656],\n",
       "       [-0.12787978,  0.41425863, -0.28637885],\n",
       "       [-0.16061404,  0.30840609, -0.14779205],\n",
       "       [-0.18272254,  0.04358167,  0.13914087],\n",
       "       [-0.11970559,  0.10549497,  0.01421062],\n",
       "       [-0.17746075,  0.55952149, -0.38206074],\n",
       "       [-0.0669471 ,  0.37848591, -0.31153881],\n",
       "       [-0.06427003,  0.63417253, -0.5699025 ],\n",
       "       [-0.1722086 ,  0.09879346,  0.07341513],\n",
       "       [-0.31250946,  0.00879298,  0.30371648],\n",
       "       [-0.45207363,  0.0415866 ,  0.41048703],\n",
       "       [-0.27207002,  0.28283914, -0.01076912],\n",
       "       [-0.20400824,  0.39096886, -0.18696061],\n",
       "       [-0.20686206,  0.38821293, -0.18135087],\n",
       "       [-0.13084388,  0.19765373, -0.06680985],\n",
       "       [-0.17788349,  0.45869061, -0.28080712],\n",
       "       [-0.24720187,  0.81546219, -0.56826032],\n",
       "       [-0.12265152,  0.35822999, -0.23557848],\n",
       "       [-0.18640795,  0.35458106, -0.16817312],\n",
       "       [-0.10727092,  0.29666227, -0.18939135],\n",
       "       [-0.11816761,  0.31912126, -0.20095365],\n",
       "       [-0.19685408,  0.10866524,  0.08818883],\n",
       "       [-0.06705784,  0.32171376, -0.25465592],\n",
       "       [-0.10010023,  0.34767176, -0.24757153],\n",
       "       [-0.27860381,  0.04693842,  0.23166539],\n",
       "       [-0.16134409,  0.16463704, -0.00329295],\n",
       "       [-0.15226856,  0.16634984, -0.01408128],\n",
       "       [-0.10653076,  0.10127277,  0.00525799],\n",
       "       [-0.02019281,  0.11286436, -0.09267154],\n",
       "       [-0.18636344,  0.29049273, -0.10412928],\n",
       "       [-0.46753067,  0.2479644 ,  0.21956627],\n",
       "       [-0.19247535,  0.21090395, -0.01842861],\n",
       "       [-0.20898063,  0.49401403, -0.2850334 ],\n",
       "       [-0.15580501,  0.12606325,  0.02974175],\n",
       "       [ 0.03678155,  0.152214  , -0.18899554]])"
      ]
     },
     "execution_count": 135,
     "metadata": {},
     "output_type": "execute_result"
    }
   ],
   "source": [
    "model.decision_function(X)"
   ]
  },
  {
   "cell_type": "code",
   "execution_count": 136,
   "metadata": {},
   "outputs": [],
   "source": [
    "labels=['NOUN_NOUN',\n",
    " 'NOUN_ADJ',\n",
    " 'NOUN_VERB',\n",
    " 'NOUN_ADV',\n",
    " 'ADJ_NOUN',\n",
    " 'ADJ_ADJ',\n",
    " 'ADJ_VERB',\n",
    " 'ADJ_ADV',\n",
    " 'VERB_NOUN',\n",
    " 'VERB_ADJ',\n",
    " 'VERB_VERB',\n",
    " 'VERB_ADV',\n",
    " 'ADV_NOUN',\n",
    " 'ADV_ADJ',\n",
    " 'ADV_VERB',\n",
    " 'ADV_ADV']"
   ]
  },
  {
   "cell_type": "code",
   "execution_count": 137,
   "metadata": {},
   "outputs": [
    {
     "data": {
      "text/plain": [
       "array(['contradiction', 'entailment', 'neutral'], dtype=object)"
      ]
     },
     "execution_count": 137,
     "metadata": {},
     "output_type": "execute_result"
    }
   ],
   "source": [
    "model.classes_"
   ]
  },
  {
   "cell_type": "code",
   "execution_count": 138,
   "metadata": {},
   "outputs": [],
   "source": [
    "contradiction=model.coef_[0]\n",
    "entailment=model.coef_[1]\n",
    "neutral=model.coef_[2]"
   ]
  },
  {
   "cell_type": "code",
   "execution_count": 139,
   "metadata": {},
   "outputs": [
    {
     "name": "stdout",
     "output_type": "stream",
     "text": [
      "Contradiction  8 VERB_NOUN 5 ADJ_ADJ\n",
      "Entailment  2 NOUN_VERB 1 NOUN_ADJ\n",
      "Neutral  1 NOUN_ADJ 3 NOUN_ADV\n"
     ]
    }
   ],
   "source": [
    "print(\"Contradiction \",np.argmax(contradiction),labels[np.argmax(contradiction)],np.argmin(contradiction),labels[np.argmin(contradiction)])\n",
    "print(\"Entailment \",np.argmax(entailment),labels[np.argmax(entailment)],np.argmin(entailment),labels[np.argmin(entailment)])\n",
    "print(\"Neutral \",np.argmax(neutral),labels[np.argmax(neutral)],np.argmin(neutral),labels[np.argmin(neutral)])"
   ]
  },
  {
   "cell_type": "code",
   "execution_count": 140,
   "metadata": {},
   "outputs": [
    {
     "data": {
      "image/png": "[encoded data removed]",
      "text/plain": [
       "<Figure size 640x480 with 1 Axes>"
      ]
     },
     "metadata": {},
     "output_type": "display_data"
    }
   ],
   "source": [
    "import matplotlib.pyplot as plt\n",
    "import numpy as np\n",
    "\n",
    "x_v = np.arange(0,16,1)\n",
    "y_v = contradiction\n",
    "\n",
    "plt.bar(x_v,y_v)\n",
    "plt.xlabel('x')\n",
    "plt.ylabel('y')\n",
    "plt.title('Contradiction')\n",
    "plt.show()"
   ]
  },
  {
   "cell_type": "code",
   "execution_count": 141,
   "metadata": {},
   "outputs": [
    {
     "data": {
      "image/png": "[encoded data removed]",
      "text/plain": [
       "<Figure size 640x480 with 1 Axes>"
      ]
     },
     "metadata": {},
     "output_type": "display_data"
    }
   ],
   "source": [
    "x_v = np.arange(0,16,1)\n",
    "y_v = entailment\n",
    "\n",
    "plt.bar(x_v,y_v)\n",
    "plt.xlabel('x')\n",
    "plt.ylabel('y')\n",
    "plt.title('Entailment')\n",
    "plt.show()"
   ]
  },
  {
   "cell_type": "code",
   "execution_count": 142,
   "metadata": {},
   "outputs": [
    {
     "data": {
      "image/png": "[encoded data removed]",
      "text/plain": [
       "<Figure size 640x480 with 1 Axes>"
      ]
     },
     "metadata": {},
     "output_type": "display_data"
    }
   ],
   "source": [
    "x_v = np.arange(0,16,1)\n",
    "y_v = neutral\n",
    "\n",
    "plt.bar(x_v,y_v)\n",
    "plt.xlabel('x')\n",
    "plt.ylabel('y')\n",
    "plt.title('Neutral')\n",
    "plt.show()"
   ]
  },
  {
   "cell_type": "code",
   "execution_count": 143,
   "metadata": {},
   "outputs": [
    {
     "name": "stdout",
     "output_type": "stream",
     "text": [
      "['entailment' 'entailment' 'entailment' 'entailment' 'entailment'\n",
      " 'entailment' 'entailment' 'entailment' 'neutral' 'entailment' 'neutral'\n",
      " 'entailment' 'entailment' 'entailment' 'entailment' 'entailment'\n",
      " 'entailment' 'neutral' 'neutral' 'entailment' 'entailment' 'entailment'\n",
      " 'entailment' 'entailment' 'entailment' 'neutral' 'entailment'\n",
      " 'entailment' 'entailment' 'neutral' 'entailment' 'entailment'\n",
      " 'entailment' 'entailment' 'entailment' 'entailment' 'entailment'\n",
      " 'entailment' 'neutral' 'entailment' 'neutral' 'neutral' 'neutral'\n",
      " 'entailment' 'entailment' 'entailment' 'entailment' 'entailment'\n",
      " 'contradiction' 'neutral' 'entailment' 'entailment' 'entailment'\n",
      " 'entailment' 'entailment' 'entailment' 'neutral' 'neutral' 'neutral'\n",
      " 'entailment' 'entailment' 'neutral' 'entailment' 'entailment'\n",
      " 'entailment' 'entailment' 'entailment' 'entailment' 'neutral'\n",
      " 'entailment' 'entailment' 'entailment' 'entailment' 'entailment'\n",
      " 'neutral' 'neutral' 'entailment' 'entailment' 'entailment' 'entailment'\n",
      " 'entailment' 'entailment' 'entailment' 'entailment' 'entailment'\n",
      " 'entailment' 'entailment' 'entailment' 'entailment' 'neutral'\n",
      " 'entailment' 'entailment' 'entailment' 'entailment' 'entailment'\n",
      " 'entailment' 'entailment' 'entailment' 'entailment' 'entailment']\n"
     ]
    }
   ],
   "source": [
    "predictions = model.predict(X)\n",
    "print(predictions)"
   ]
  },
  {
   "cell_type": "code",
   "execution_count": 144,
   "metadata": {},
   "outputs": [
    {
     "data": {
      "text/plain": [
       "array(['entailment', 'entailment', 'contradiction', 'contradiction',\n",
       "       'neutral', 'neutral', 'neutral', 'entailment', 'neutral',\n",
       "       'entailment', 'neutral', 'contradiction', 'entailment',\n",
       "       'contradiction', 'neutral', 'neutral', 'entailment',\n",
       "       'contradiction', 'contradiction', 'entailment', 'entailment',\n",
       "       'entailment', 'neutral', 'contradiction', 'entailment', 'neutral',\n",
       "       'entailment', 'entailment', 'entailment', 'neutral', 'neutral',\n",
       "       'contradiction', 'contradiction', 'entailment', 'contradiction',\n",
       "       'neutral', 'entailment', 'neutral', 'neutral', 'entailment',\n",
       "       'neutral', 'neutral', 'contradiction', 'neutral', 'entailment',\n",
       "       'neutral', 'neutral', 'entailment', 'contradiction', 'neutral',\n",
       "       'entailment', 'entailment', 'neutral', 'entailment',\n",
       "       'contradiction', 'entailment', 'entailment', 'neutral', 'neutral',\n",
       "       'neutral', 'neutral', 'neutral', 'neutral', 'entailment',\n",
       "       'entailment', 'contradiction', 'entailment', 'entailment',\n",
       "       'neutral', 'contradiction', 'entailment', 'contradiction',\n",
       "       'contradiction', 'contradiction', 'neutral', 'entailment',\n",
       "       'entailment', 'entailment', 'entailment', 'contradiction',\n",
       "       'neutral', 'entailment', 'entailment', 'entailment',\n",
       "       'contradiction', 'entailment', 'entailment', 'entailment',\n",
       "       'contradiction', 'contradiction', 'contradiction', 'neutral',\n",
       "       'entailment', 'entailment', 'contradiction', 'entailment',\n",
       "       'entailment', 'contradiction', 'contradiction', 'contradiction'],\n",
       "      dtype=object)"
      ]
     },
     "execution_count": 144,
     "metadata": {},
     "output_type": "execute_result"
    }
   ],
   "source": [
    "y"
   ]
  },
  {
   "cell_type": "code",
   "execution_count": 145,
   "metadata": {},
   "outputs": [
    {
     "data": {
      "text/plain": [
       "array([[3.66099477, 0.        , 1.24387543, ..., 0.        , 0.        ,\n",
       "        0.        ],\n",
       "       [3.21918873, 0.22267923, 0.1879449 , ..., 0.        , 0.        ,\n",
       "        0.        ],\n",
       "       [3.28162739, 0.22592035, 0.7424574 , ..., 0.        , 0.        ,\n",
       "        0.        ],\n",
       "       ...,\n",
       "       [1.3171289 , 0.        , 0.96558818, ..., 0.        , 0.        ,\n",
       "        0.        ],\n",
       "       [1.53327845, 0.        , 0.        , ..., 0.        , 0.        ,\n",
       "        0.        ],\n",
       "       [2.46586753, 0.        , 0.        , ..., 0.        , 0.        ,\n",
       "        0.        ]])"
      ]
     },
     "execution_count": 145,
     "metadata": {},
     "output_type": "execute_result"
    }
   ],
   "source": [
    "X"
   ]
  },
  {
   "cell_type": "code",
   "execution_count": 146,
   "metadata": {},
   "outputs": [
    {
     "data": {
      "text/plain": [
       "0.54"
      ]
     },
     "execution_count": 146,
     "metadata": {},
     "output_type": "execute_result"
    }
   ],
   "source": [
    "model.score(X,y)"
   ]
  },
  {
   "cell_type": "code",
   "execution_count": 147,
   "metadata": {},
   "outputs": [],
   "source": [
    "validation_size = 0.10\n",
    "seed = 7\n",
    "X_train, X_validation, Y_train, Y_validation = model_selection.train_test_split(X, y, test_size=validation_size)"
   ]
  },
  {
   "cell_type": "code",
   "execution_count": 148,
   "metadata": {},
   "outputs": [
    {
     "name": "stdout",
     "output_type": "stream",
     "text": [
      "Logistic Regression: 0.366667 (0.140984)\n"
     ]
    }
   ],
   "source": [
    "name='Logistic Regression'\n",
    "kfold = model_selection.KFold(n_splits=10)\n",
    "cv_results = model_selection.cross_val_score(model, X_train, Y_train, cv=kfold, scoring='accuracy')\n",
    "msg = \"%s: %f (%f)\" % (name, cv_results.mean(), cv_results.std())\n",
    "print(msg)"
   ]
  },
  {
   "cell_type": "code",
   "execution_count": 149,
   "metadata": {},
   "outputs": [
    {
     "name": "stdout",
     "output_type": "stream",
     "text": [
      "0.6\n"
     ]
    }
   ],
   "source": [
    "predictions = model.predict(X_validation)\n",
    "print(accuracy_score(Y_validation, predictions))"
   ]
  },
  {
   "cell_type": "code",
   "execution_count": 150,
   "metadata": {},
   "outputs": [
    {
     "name": "stdout",
     "output_type": "stream",
     "text": [
      "[[0 1 1]\n",
      " [0 5 0]\n",
      " [0 2 1]]\n"
     ]
    }
   ],
   "source": [
    "print(confusion_matrix(Y_validation, predictions))"
   ]
  },
  {
   "cell_type": "code",
   "execution_count": 151,
   "metadata": {},
   "outputs": [
    {
     "name": "stdout",
     "output_type": "stream",
     "text": [
      "               precision    recall  f1-score   support\n",
      "\n",
      "contradiction       0.00      0.00      0.00         2\n",
      "   entailment       0.62      1.00      0.77         5\n",
      "      neutral       0.50      0.33      0.40         3\n",
      "\n",
      "     accuracy                           0.60        10\n",
      "    macro avg       0.38      0.44      0.39        10\n",
      " weighted avg       0.46      0.60      0.50        10\n",
      "\n"
     ]
    },
    {
     "name": "stderr",
     "output_type": "stream",
     "text": [
      "c:\\Users\\Ninja\\anaconda3\\lib\\site-packages\\sklearn\\metrics\\_classification.py:1318: UndefinedMetricWarning: Precision and F-score are ill-defined and being set to 0.0 in labels with no predicted samples. Use `zero_division` parameter to control this behavior.\n",
      "  _warn_prf(average, modifier, msg_start, len(result))\n",
      "c:\\Users\\Ninja\\anaconda3\\lib\\site-packages\\sklearn\\metrics\\_classification.py:1318: UndefinedMetricWarning: Precision and F-score are ill-defined and being set to 0.0 in labels with no predicted samples. Use `zero_division` parameter to control this behavior.\n",
      "  _warn_prf(average, modifier, msg_start, len(result))\n",
      "c:\\Users\\Ninja\\anaconda3\\lib\\site-packages\\sklearn\\metrics\\_classification.py:1318: UndefinedMetricWarning: Precision and F-score are ill-defined and being set to 0.0 in labels with no predicted samples. Use `zero_division` parameter to control this behavior.\n",
      "  _warn_prf(average, modifier, msg_start, len(result))\n"
     ]
    }
   ],
   "source": [
    "print(classification_report(Y_validation, predictions))"
   ]
  },
  {
   "cell_type": "code",
   "execution_count": 152,
   "metadata": {},
   "outputs": [],
   "source": [
    "#X_new = pd.DataFrame()\n",
    "#model.predict(X_new)"
   ]
  }
 ],
 "metadata": {
  "kernelspec": {
   "display_name": "Python 3",
   "language": "python",
   "name": "python3"
  },
  "language_info": {
   "codemirror_mode": {
    "name": "ipython",
    "version": 3
   },
   "file_extension": ".py",
   "mimetype": "text/x-python",
   "name": "python",
   "nbconvert_exporter": "python",
   "pygments_lexer": "ipython3",
   "version": "3.9.13"
  }
 },
 "nbformat": 4,
 "nbformat_minor": 2
}
