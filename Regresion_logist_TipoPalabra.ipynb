{
 "cells": [
  {
   "cell_type": "code",
   "execution_count": 1,
   "metadata": {},
   "outputs": [],
   "source": [
    "import pandas as pd\n",
    "import numpy as np\n",
    "from sklearn import linear_model\n",
    "from sklearn import model_selection\n",
    "from sklearn.metrics import classification_report\n",
    "from sklearn.metrics import confusion_matrix\n",
    "from sklearn.metrics import accuracy_score\n",
    "import matplotlib.pyplot as plt\n",
    "import seaborn as sb"
   ]
  },
  {
   "cell_type": "code",
   "execution_count": 2,
   "metadata": {},
   "outputs": [
    {
     "data": {
      "text/html": [
       "<div>\n",
       "<style scoped>\n",
       "    .dataframe tbody tr th:only-of-type {\n",
       "        vertical-align: middle;\n",
       "    }\n",
       "\n",
       "    .dataframe tbody tr th {\n",
       "        vertical-align: top;\n",
       "    }\n",
       "\n",
       "    .dataframe thead th {\n",
       "        text-align: right;\n",
       "    }\n",
       "</style>\n",
       "<table border=\"1\" class=\"dataframe\">\n",
       "  <thead>\n",
       "    <tr style=\"text-align: right;\">\n",
       "      <th></th>\n",
       "      <th>NOUN_NOUN</th>\n",
       "      <th>NOUN_ADJ</th>\n",
       "      <th>NOUN_VERB</th>\n",
       "      <th>NOUN_ADV</th>\n",
       "      <th>ADJ_NOUN</th>\n",
       "      <th>ADJ_ADJ</th>\n",
       "      <th>ADJ_VERB</th>\n",
       "      <th>ADJ_ADV</th>\n",
       "      <th>VERB_NOUN</th>\n",
       "      <th>VERB_ADJ</th>\n",
       "      <th>VERB_VERB</th>\n",
       "      <th>VERB_ADV</th>\n",
       "      <th>ADV_NOUN</th>\n",
       "      <th>ADV_ADJ</th>\n",
       "      <th>ADV_VERB</th>\n",
       "      <th>ADV_ADV</th>\n",
       "      <th>CLASS</th>\n",
       "    </tr>\n",
       "  </thead>\n",
       "  <tbody>\n",
       "    <tr>\n",
       "      <th>0</th>\n",
       "      <td>29.814597</td>\n",
       "      <td>0.945609</td>\n",
       "      <td>9.577688</td>\n",
       "      <td>0.000000</td>\n",
       "      <td>6.800851</td>\n",
       "      <td>0.000000</td>\n",
       "      <td>0.642470</td>\n",
       "      <td>0.000000</td>\n",
       "      <td>5.435837</td>\n",
       "      <td>0.303176</td>\n",
       "      <td>2.453069</td>\n",
       "      <td>0.000000</td>\n",
       "      <td>0.000000</td>\n",
       "      <td>0.0</td>\n",
       "      <td>0.000000</td>\n",
       "      <td>0.0</td>\n",
       "      <td>entailment</td>\n",
       "    </tr>\n",
       "    <tr>\n",
       "      <th>1</th>\n",
       "      <td>29.092507</td>\n",
       "      <td>4.735214</td>\n",
       "      <td>5.257172</td>\n",
       "      <td>0.000000</td>\n",
       "      <td>4.513306</td>\n",
       "      <td>8.615627</td>\n",
       "      <td>0.600425</td>\n",
       "      <td>0.000000</td>\n",
       "      <td>11.058411</td>\n",
       "      <td>1.788771</td>\n",
       "      <td>2.480298</td>\n",
       "      <td>0.000000</td>\n",
       "      <td>0.000000</td>\n",
       "      <td>0.0</td>\n",
       "      <td>0.000000</td>\n",
       "      <td>0.0</td>\n",
       "      <td>entailment</td>\n",
       "    </tr>\n",
       "    <tr>\n",
       "      <th>2</th>\n",
       "      <td>16.572224</td>\n",
       "      <td>1.849449</td>\n",
       "      <td>5.897130</td>\n",
       "      <td>0.000000</td>\n",
       "      <td>6.348649</td>\n",
       "      <td>1.392652</td>\n",
       "      <td>4.144476</td>\n",
       "      <td>0.000000</td>\n",
       "      <td>1.746275</td>\n",
       "      <td>0.347017</td>\n",
       "      <td>3.661071</td>\n",
       "      <td>0.000000</td>\n",
       "      <td>0.000000</td>\n",
       "      <td>0.0</td>\n",
       "      <td>0.000000</td>\n",
       "      <td>0.0</td>\n",
       "      <td>contradiction</td>\n",
       "    </tr>\n",
       "    <tr>\n",
       "      <th>3</th>\n",
       "      <td>9.043169</td>\n",
       "      <td>0.000000</td>\n",
       "      <td>5.331275</td>\n",
       "      <td>0.000000</td>\n",
       "      <td>2.620311</td>\n",
       "      <td>0.000000</td>\n",
       "      <td>0.360311</td>\n",
       "      <td>0.000000</td>\n",
       "      <td>4.406553</td>\n",
       "      <td>0.000000</td>\n",
       "      <td>6.739488</td>\n",
       "      <td>0.000000</td>\n",
       "      <td>0.000000</td>\n",
       "      <td>0.0</td>\n",
       "      <td>0.000000</td>\n",
       "      <td>0.0</td>\n",
       "      <td>contradiction</td>\n",
       "    </tr>\n",
       "    <tr>\n",
       "      <th>4</th>\n",
       "      <td>15.622809</td>\n",
       "      <td>0.000000</td>\n",
       "      <td>1.105674</td>\n",
       "      <td>0.000000</td>\n",
       "      <td>2.219383</td>\n",
       "      <td>0.000000</td>\n",
       "      <td>0.181362</td>\n",
       "      <td>0.000000</td>\n",
       "      <td>3.077783</td>\n",
       "      <td>0.000000</td>\n",
       "      <td>1.128580</td>\n",
       "      <td>0.000000</td>\n",
       "      <td>2.668364</td>\n",
       "      <td>0.0</td>\n",
       "      <td>0.411897</td>\n",
       "      <td>0.0</td>\n",
       "      <td>neutral</td>\n",
       "    </tr>\n",
       "    <tr>\n",
       "      <th>...</th>\n",
       "      <td>...</td>\n",
       "      <td>...</td>\n",
       "      <td>...</td>\n",
       "      <td>...</td>\n",
       "      <td>...</td>\n",
       "      <td>...</td>\n",
       "      <td>...</td>\n",
       "      <td>...</td>\n",
       "      <td>...</td>\n",
       "      <td>...</td>\n",
       "      <td>...</td>\n",
       "      <td>...</td>\n",
       "      <td>...</td>\n",
       "      <td>...</td>\n",
       "      <td>...</td>\n",
       "      <td>...</td>\n",
       "      <td>...</td>\n",
       "    </tr>\n",
       "    <tr>\n",
       "      <th>95</th>\n",
       "      <td>19.725743</td>\n",
       "      <td>4.861953</td>\n",
       "      <td>1.396518</td>\n",
       "      <td>0.893568</td>\n",
       "      <td>1.963413</td>\n",
       "      <td>5.424360</td>\n",
       "      <td>1.283683</td>\n",
       "      <td>0.000000</td>\n",
       "      <td>3.284759</td>\n",
       "      <td>1.199031</td>\n",
       "      <td>3.380224</td>\n",
       "      <td>0.000000</td>\n",
       "      <td>0.000000</td>\n",
       "      <td>0.0</td>\n",
       "      <td>0.000000</td>\n",
       "      <td>0.0</td>\n",
       "      <td>entailment</td>\n",
       "    </tr>\n",
       "    <tr>\n",
       "      <th>96</th>\n",
       "      <td>11.299096</td>\n",
       "      <td>0.000000</td>\n",
       "      <td>0.000000</td>\n",
       "      <td>0.000000</td>\n",
       "      <td>5.716955</td>\n",
       "      <td>0.000000</td>\n",
       "      <td>0.000000</td>\n",
       "      <td>0.000000</td>\n",
       "      <td>0.362618</td>\n",
       "      <td>0.000000</td>\n",
       "      <td>1.437577</td>\n",
       "      <td>0.000000</td>\n",
       "      <td>0.000000</td>\n",
       "      <td>0.0</td>\n",
       "      <td>0.000000</td>\n",
       "      <td>0.0</td>\n",
       "      <td>entailment</td>\n",
       "    </tr>\n",
       "    <tr>\n",
       "      <th>97</th>\n",
       "      <td>7.041407</td>\n",
       "      <td>0.000000</td>\n",
       "      <td>5.675516</td>\n",
       "      <td>0.000000</td>\n",
       "      <td>0.000000</td>\n",
       "      <td>0.000000</td>\n",
       "      <td>0.000000</td>\n",
       "      <td>0.000000</td>\n",
       "      <td>3.334945</td>\n",
       "      <td>0.000000</td>\n",
       "      <td>4.193496</td>\n",
       "      <td>0.000000</td>\n",
       "      <td>0.000000</td>\n",
       "      <td>0.0</td>\n",
       "      <td>0.000000</td>\n",
       "      <td>0.0</td>\n",
       "      <td>contradiction</td>\n",
       "    </tr>\n",
       "    <tr>\n",
       "      <th>98</th>\n",
       "      <td>7.767476</td>\n",
       "      <td>0.000000</td>\n",
       "      <td>0.898168</td>\n",
       "      <td>0.000000</td>\n",
       "      <td>0.000000</td>\n",
       "      <td>0.000000</td>\n",
       "      <td>0.000000</td>\n",
       "      <td>0.000000</td>\n",
       "      <td>3.150363</td>\n",
       "      <td>0.000000</td>\n",
       "      <td>1.546038</td>\n",
       "      <td>0.000000</td>\n",
       "      <td>0.000000</td>\n",
       "      <td>0.0</td>\n",
       "      <td>0.000000</td>\n",
       "      <td>0.0</td>\n",
       "      <td>contradiction</td>\n",
       "    </tr>\n",
       "    <tr>\n",
       "      <th>99</th>\n",
       "      <td>15.121010</td>\n",
       "      <td>0.000000</td>\n",
       "      <td>0.074238</td>\n",
       "      <td>4.106234</td>\n",
       "      <td>2.926198</td>\n",
       "      <td>0.000000</td>\n",
       "      <td>0.000000</td>\n",
       "      <td>1.348246</td>\n",
       "      <td>6.315391</td>\n",
       "      <td>0.000000</td>\n",
       "      <td>0.164248</td>\n",
       "      <td>2.481469</td>\n",
       "      <td>0.000000</td>\n",
       "      <td>0.0</td>\n",
       "      <td>0.000000</td>\n",
       "      <td>0.0</td>\n",
       "      <td>contradiction</td>\n",
       "    </tr>\n",
       "  </tbody>\n",
       "</table>\n",
       "<p>100 rows × 17 columns</p>\n",
       "</div>"
      ],
      "text/plain": [
       "    NOUN_NOUN  NOUN_ADJ  NOUN_VERB  NOUN_ADV  ADJ_NOUN   ADJ_ADJ  ADJ_VERB  \\\n",
       "0   29.814597  0.945609   9.577688  0.000000  6.800851  0.000000  0.642470   \n",
       "1   29.092507  4.735214   5.257172  0.000000  4.513306  8.615627  0.600425   \n",
       "2   16.572224  1.849449   5.897130  0.000000  6.348649  1.392652  4.144476   \n",
       "3    9.043169  0.000000   5.331275  0.000000  2.620311  0.000000  0.360311   \n",
       "4   15.622809  0.000000   1.105674  0.000000  2.219383  0.000000  0.181362   \n",
       "..        ...       ...        ...       ...       ...       ...       ...   \n",
       "95  19.725743  4.861953   1.396518  0.893568  1.963413  5.424360  1.283683   \n",
       "96  11.299096  0.000000   0.000000  0.000000  5.716955  0.000000  0.000000   \n",
       "97   7.041407  0.000000   5.675516  0.000000  0.000000  0.000000  0.000000   \n",
       "98   7.767476  0.000000   0.898168  0.000000  0.000000  0.000000  0.000000   \n",
       "99  15.121010  0.000000   0.074238  4.106234  2.926198  0.000000  0.000000   \n",
       "\n",
       "     ADJ_ADV  VERB_NOUN  VERB_ADJ  VERB_VERB  VERB_ADV  ADV_NOUN  ADV_ADJ  \\\n",
       "0   0.000000   5.435837  0.303176   2.453069  0.000000  0.000000      0.0   \n",
       "1   0.000000  11.058411  1.788771   2.480298  0.000000  0.000000      0.0   \n",
       "2   0.000000   1.746275  0.347017   3.661071  0.000000  0.000000      0.0   \n",
       "3   0.000000   4.406553  0.000000   6.739488  0.000000  0.000000      0.0   \n",
       "4   0.000000   3.077783  0.000000   1.128580  0.000000  2.668364      0.0   \n",
       "..       ...        ...       ...        ...       ...       ...      ...   \n",
       "95  0.000000   3.284759  1.199031   3.380224  0.000000  0.000000      0.0   \n",
       "96  0.000000   0.362618  0.000000   1.437577  0.000000  0.000000      0.0   \n",
       "97  0.000000   3.334945  0.000000   4.193496  0.000000  0.000000      0.0   \n",
       "98  0.000000   3.150363  0.000000   1.546038  0.000000  0.000000      0.0   \n",
       "99  1.348246   6.315391  0.000000   0.164248  2.481469  0.000000      0.0   \n",
       "\n",
       "    ADV_VERB  ADV_ADV          CLASS  \n",
       "0   0.000000      0.0     entailment  \n",
       "1   0.000000      0.0     entailment  \n",
       "2   0.000000      0.0  contradiction  \n",
       "3   0.000000      0.0  contradiction  \n",
       "4   0.411897      0.0        neutral  \n",
       "..       ...      ...            ...  \n",
       "95  0.000000      0.0     entailment  \n",
       "96  0.000000      0.0     entailment  \n",
       "97  0.000000      0.0  contradiction  \n",
       "98  0.000000      0.0  contradiction  \n",
       "99  0.000000      0.0  contradiction  \n",
       "\n",
       "[100 rows x 17 columns]"
      ]
     },
     "execution_count": 2,
     "metadata": {},
     "output_type": "execute_result"
    }
   ],
   "source": [
    "#dataframe = pd.read_csv(r\"indicadoresTipoPalabra_suma_CLASS.csv\")\n",
    "#dataframe = pd.read_csv(r\"indicadoresTipoPalabra_umbral1_CLASS.csv\")\n",
    "dataframe = pd.read_csv(r\"indicadoresTipoPalabra_umbral0.5_no_mean_CLASS.csv\")\n",
    "dataframe"
   ]
  },
  {
   "cell_type": "code",
   "execution_count": 3,
   "metadata": {},
   "outputs": [
    {
     "data": {
      "text/html": [
       "<div>\n",
       "<style scoped>\n",
       "    .dataframe tbody tr th:only-of-type {\n",
       "        vertical-align: middle;\n",
       "    }\n",
       "\n",
       "    .dataframe tbody tr th {\n",
       "        vertical-align: top;\n",
       "    }\n",
       "\n",
       "    .dataframe thead th {\n",
       "        text-align: right;\n",
       "    }\n",
       "</style>\n",
       "<table border=\"1\" class=\"dataframe\">\n",
       "  <thead>\n",
       "    <tr style=\"text-align: right;\">\n",
       "      <th></th>\n",
       "      <th>NOUN_NOUN</th>\n",
       "      <th>NOUN_ADJ</th>\n",
       "      <th>NOUN_VERB</th>\n",
       "      <th>NOUN_ADV</th>\n",
       "      <th>ADJ_NOUN</th>\n",
       "      <th>ADJ_ADJ</th>\n",
       "      <th>ADJ_VERB</th>\n",
       "      <th>ADJ_ADV</th>\n",
       "      <th>VERB_NOUN</th>\n",
       "      <th>VERB_ADJ</th>\n",
       "      <th>VERB_VERB</th>\n",
       "      <th>VERB_ADV</th>\n",
       "      <th>ADV_NOUN</th>\n",
       "      <th>ADV_ADJ</th>\n",
       "      <th>ADV_VERB</th>\n",
       "      <th>ADV_ADV</th>\n",
       "    </tr>\n",
       "  </thead>\n",
       "  <tbody>\n",
       "    <tr>\n",
       "      <th>count</th>\n",
       "      <td>100.000000</td>\n",
       "      <td>100.000000</td>\n",
       "      <td>100.000000</td>\n",
       "      <td>100.000000</td>\n",
       "      <td>100.000000</td>\n",
       "      <td>100.000000</td>\n",
       "      <td>100.000000</td>\n",
       "      <td>100.000000</td>\n",
       "      <td>100.000000</td>\n",
       "      <td>100.000000</td>\n",
       "      <td>100.000000</td>\n",
       "      <td>100.000000</td>\n",
       "      <td>100.000000</td>\n",
       "      <td>100.000000</td>\n",
       "      <td>100.000000</td>\n",
       "      <td>100.000000</td>\n",
       "    </tr>\n",
       "    <tr>\n",
       "      <th>mean</th>\n",
       "      <td>19.041175</td>\n",
       "      <td>2.114527</td>\n",
       "      <td>3.614212</td>\n",
       "      <td>0.786733</td>\n",
       "      <td>4.634990</td>\n",
       "      <td>1.583440</td>\n",
       "      <td>0.965469</td>\n",
       "      <td>0.352649</td>\n",
       "      <td>4.206618</td>\n",
       "      <td>0.458541</td>\n",
       "      <td>2.867172</td>\n",
       "      <td>0.357665</td>\n",
       "      <td>0.580838</td>\n",
       "      <td>0.115699</td>\n",
       "      <td>0.330111</td>\n",
       "      <td>0.141434</td>\n",
       "    </tr>\n",
       "    <tr>\n",
       "      <th>std</th>\n",
       "      <td>13.612629</td>\n",
       "      <td>4.008308</td>\n",
       "      <td>3.908363</td>\n",
       "      <td>2.144165</td>\n",
       "      <td>6.215911</td>\n",
       "      <td>3.522354</td>\n",
       "      <td>1.659072</td>\n",
       "      <td>1.460394</td>\n",
       "      <td>4.304034</td>\n",
       "      <td>1.031332</td>\n",
       "      <td>3.347506</td>\n",
       "      <td>1.060946</td>\n",
       "      <td>2.095186</td>\n",
       "      <td>0.514403</td>\n",
       "      <td>1.730057</td>\n",
       "      <td>1.017673</td>\n",
       "    </tr>\n",
       "    <tr>\n",
       "      <th>min</th>\n",
       "      <td>1.580998</td>\n",
       "      <td>0.000000</td>\n",
       "      <td>0.000000</td>\n",
       "      <td>0.000000</td>\n",
       "      <td>0.000000</td>\n",
       "      <td>0.000000</td>\n",
       "      <td>0.000000</td>\n",
       "      <td>0.000000</td>\n",
       "      <td>0.000000</td>\n",
       "      <td>0.000000</td>\n",
       "      <td>0.000000</td>\n",
       "      <td>0.000000</td>\n",
       "      <td>0.000000</td>\n",
       "      <td>0.000000</td>\n",
       "      <td>0.000000</td>\n",
       "      <td>0.000000</td>\n",
       "    </tr>\n",
       "    <tr>\n",
       "      <th>25%</th>\n",
       "      <td>10.175392</td>\n",
       "      <td>0.000000</td>\n",
       "      <td>0.514718</td>\n",
       "      <td>0.000000</td>\n",
       "      <td>0.415337</td>\n",
       "      <td>0.000000</td>\n",
       "      <td>0.000000</td>\n",
       "      <td>0.000000</td>\n",
       "      <td>1.610648</td>\n",
       "      <td>0.000000</td>\n",
       "      <td>0.319659</td>\n",
       "      <td>0.000000</td>\n",
       "      <td>0.000000</td>\n",
       "      <td>0.000000</td>\n",
       "      <td>0.000000</td>\n",
       "      <td>0.000000</td>\n",
       "    </tr>\n",
       "    <tr>\n",
       "      <th>50%</th>\n",
       "      <td>15.474805</td>\n",
       "      <td>0.000000</td>\n",
       "      <td>2.562971</td>\n",
       "      <td>0.000000</td>\n",
       "      <td>2.880180</td>\n",
       "      <td>0.000000</td>\n",
       "      <td>0.278030</td>\n",
       "      <td>0.000000</td>\n",
       "      <td>3.019852</td>\n",
       "      <td>0.000000</td>\n",
       "      <td>1.830627</td>\n",
       "      <td>0.000000</td>\n",
       "      <td>0.000000</td>\n",
       "      <td>0.000000</td>\n",
       "      <td>0.000000</td>\n",
       "      <td>0.000000</td>\n",
       "    </tr>\n",
       "    <tr>\n",
       "      <th>75%</th>\n",
       "      <td>22.937880</td>\n",
       "      <td>3.692394</td>\n",
       "      <td>5.356768</td>\n",
       "      <td>0.000000</td>\n",
       "      <td>5.977152</td>\n",
       "      <td>0.921151</td>\n",
       "      <td>1.324848</td>\n",
       "      <td>0.000000</td>\n",
       "      <td>4.762785</td>\n",
       "      <td>0.521687</td>\n",
       "      <td>3.727550</td>\n",
       "      <td>0.000000</td>\n",
       "      <td>0.000000</td>\n",
       "      <td>0.000000</td>\n",
       "      <td>0.000000</td>\n",
       "      <td>0.000000</td>\n",
       "    </tr>\n",
       "    <tr>\n",
       "      <th>max</th>\n",
       "      <td>73.208999</td>\n",
       "      <td>22.425358</td>\n",
       "      <td>20.784923</td>\n",
       "      <td>11.812714</td>\n",
       "      <td>36.122735</td>\n",
       "      <td>19.306622</td>\n",
       "      <td>9.743642</td>\n",
       "      <td>10.924815</td>\n",
       "      <td>22.219485</td>\n",
       "      <td>7.707878</td>\n",
       "      <td>17.269338</td>\n",
       "      <td>7.196821</td>\n",
       "      <td>13.434893</td>\n",
       "      <td>3.442915</td>\n",
       "      <td>15.162001</td>\n",
       "      <td>8.573847</td>\n",
       "    </tr>\n",
       "  </tbody>\n",
       "</table>\n",
       "</div>"
      ],
      "text/plain": [
       "        NOUN_NOUN    NOUN_ADJ   NOUN_VERB    NOUN_ADV    ADJ_NOUN     ADJ_ADJ  \\\n",
       "count  100.000000  100.000000  100.000000  100.000000  100.000000  100.000000   \n",
       "mean    19.041175    2.114527    3.614212    0.786733    4.634990    1.583440   \n",
       "std     13.612629    4.008308    3.908363    2.144165    6.215911    3.522354   \n",
       "min      1.580998    0.000000    0.000000    0.000000    0.000000    0.000000   \n",
       "25%     10.175392    0.000000    0.514718    0.000000    0.415337    0.000000   \n",
       "50%     15.474805    0.000000    2.562971    0.000000    2.880180    0.000000   \n",
       "75%     22.937880    3.692394    5.356768    0.000000    5.977152    0.921151   \n",
       "max     73.208999   22.425358   20.784923   11.812714   36.122735   19.306622   \n",
       "\n",
       "         ADJ_VERB     ADJ_ADV   VERB_NOUN    VERB_ADJ   VERB_VERB    VERB_ADV  \\\n",
       "count  100.000000  100.000000  100.000000  100.000000  100.000000  100.000000   \n",
       "mean     0.965469    0.352649    4.206618    0.458541    2.867172    0.357665   \n",
       "std      1.659072    1.460394    4.304034    1.031332    3.347506    1.060946   \n",
       "min      0.000000    0.000000    0.000000    0.000000    0.000000    0.000000   \n",
       "25%      0.000000    0.000000    1.610648    0.000000    0.319659    0.000000   \n",
       "50%      0.278030    0.000000    3.019852    0.000000    1.830627    0.000000   \n",
       "75%      1.324848    0.000000    4.762785    0.521687    3.727550    0.000000   \n",
       "max      9.743642   10.924815   22.219485    7.707878   17.269338    7.196821   \n",
       "\n",
       "         ADV_NOUN     ADV_ADJ    ADV_VERB     ADV_ADV  \n",
       "count  100.000000  100.000000  100.000000  100.000000  \n",
       "mean     0.580838    0.115699    0.330111    0.141434  \n",
       "std      2.095186    0.514403    1.730057    1.017673  \n",
       "min      0.000000    0.000000    0.000000    0.000000  \n",
       "25%      0.000000    0.000000    0.000000    0.000000  \n",
       "50%      0.000000    0.000000    0.000000    0.000000  \n",
       "75%      0.000000    0.000000    0.000000    0.000000  \n",
       "max     13.434893    3.442915   15.162001    8.573847  "
      ]
     },
     "execution_count": 3,
     "metadata": {},
     "output_type": "execute_result"
    }
   ],
   "source": [
    "dataframe.describe()"
   ]
  },
  {
   "cell_type": "code",
   "execution_count": 4,
   "metadata": {},
   "outputs": [
    {
     "name": "stdout",
     "output_type": "stream",
     "text": [
      "CLASS\n",
      "contradiction    27\n",
      "entailment       42\n",
      "neutral          31\n",
      "dtype: int64\n"
     ]
    }
   ],
   "source": [
    "print(dataframe.groupby('CLASS').size())"
   ]
  },
  {
   "cell_type": "code",
   "execution_count": 5,
   "metadata": {},
   "outputs": [
    {
     "data": {
      "image/png": "[encoded data removed]",
      "text/plain": [
       "<Figure size 2000x1000 with 16 Axes>"
      ]
     },
     "metadata": {},
     "output_type": "display_data"
    }
   ],
   "source": [
    "dataframe.hist(figsize=(20,10))\n",
    "plt.show()"
   ]
  },
  {
   "cell_type": "code",
   "execution_count": 6,
   "metadata": {},
   "outputs": [],
   "source": [
    "labels=['NOUN_NOUN',\n",
    " 'NOUN_ADJ',\n",
    " 'NOUN_VERB',\n",
    " 'NOUN_ADV',\n",
    " 'ADJ_NOUN',\n",
    " 'ADJ_ADJ',\n",
    " 'ADJ_VERB',\n",
    " 'ADJ_ADV',\n",
    " 'VERB_NOUN',\n",
    " 'VERB_ADJ',\n",
    " 'VERB_VERB',\n",
    " 'VERB_ADV',\n",
    " 'ADV_NOUN',\n",
    " 'ADV_ADJ',\n",
    " 'ADV_VERB',\n",
    " 'ADV_ADV']"
   ]
  },
  {
   "cell_type": "code",
   "execution_count": 7,
   "metadata": {},
   "outputs": [],
   "source": [
    "#sb.pairplot(dataframe.dropna(), hue='CLASS',size=4,vars=labels,kind='reg')"
   ]
  },
  {
   "cell_type": "code",
   "execution_count": 8,
   "metadata": {},
   "outputs": [
    {
     "name": "stderr",
     "output_type": "stream",
     "text": [
      "C:\\Users\\Ninja\\AppData\\Local\\Temp\\ipykernel_10468\\1802400925.py:1: FutureWarning: In a future version of pandas all arguments of DataFrame.drop except for the argument 'labels' will be keyword-only.\n",
      "  X = np.array(dataframe.drop(['CLASS'],1))\n",
      "C:\\Users\\Ninja\\AppData\\Local\\Temp\\ipykernel_10468\\1802400925.py:2: FutureWarning: In a future version of pandas all arguments of DataFrame.drop except for the argument 'labels' will be keyword-only.\n",
      "  X_test = np.array(dataframe.drop(['CLASS'],1))\n"
     ]
    },
    {
     "data": {
      "text/plain": [
       "(100, 16)"
      ]
     },
     "execution_count": 8,
     "metadata": {},
     "output_type": "execute_result"
    }
   ],
   "source": [
    "X = np.array(dataframe.drop(['CLASS'],1))\n",
    "X_test = np.array(dataframe.drop(['CLASS'],1))\n",
    "y = np.array(dataframe['CLASS'])\n",
    "y_test =np.array(dataframe['CLASS'])\n",
    "X.shape"
   ]
  },
  {
   "cell_type": "code",
   "execution_count": 9,
   "metadata": {},
   "outputs": [
    {
     "data": {
      "text/plain": [
       "array(['entailment', 'entailment', 'contradiction', 'contradiction',\n",
       "       'neutral', 'neutral', 'neutral', 'entailment', 'neutral',\n",
       "       'entailment', 'neutral', 'contradiction', 'entailment',\n",
       "       'contradiction', 'neutral', 'neutral', 'entailment',\n",
       "       'contradiction', 'contradiction', 'entailment', 'entailment',\n",
       "       'entailment', 'neutral', 'contradiction', 'entailment', 'neutral',\n",
       "       'entailment', 'entailment', 'entailment', 'neutral', 'neutral',\n",
       "       'contradiction', 'contradiction', 'entailment', 'contradiction',\n",
       "       'neutral', 'entailment', 'neutral', 'neutral', 'entailment',\n",
       "       'neutral', 'neutral', 'contradiction', 'neutral', 'entailment',\n",
       "       'neutral', 'neutral', 'entailment', 'contradiction', 'neutral',\n",
       "       'entailment', 'entailment', 'neutral', 'entailment',\n",
       "       'contradiction', 'entailment', 'entailment', 'neutral', 'neutral',\n",
       "       'neutral', 'neutral', 'neutral', 'neutral', 'entailment',\n",
       "       'entailment', 'contradiction', 'entailment', 'entailment',\n",
       "       'neutral', 'contradiction', 'entailment', 'contradiction',\n",
       "       'contradiction', 'contradiction', 'neutral', 'entailment',\n",
       "       'entailment', 'entailment', 'entailment', 'contradiction',\n",
       "       'neutral', 'entailment', 'entailment', 'entailment',\n",
       "       'contradiction', 'entailment', 'entailment', 'entailment',\n",
       "       'contradiction', 'contradiction', 'contradiction', 'neutral',\n",
       "       'entailment', 'entailment', 'contradiction', 'entailment',\n",
       "       'entailment', 'contradiction', 'contradiction', 'contradiction'],\n",
       "      dtype=object)"
      ]
     },
     "execution_count": 9,
     "metadata": {},
     "output_type": "execute_result"
    }
   ],
   "source": [
    "y_test"
   ]
  },
  {
   "cell_type": "code",
   "execution_count": 10,
   "metadata": {},
   "outputs": [
    {
     "data": {
      "text/plain": [
       "array(['entailment', 'entailment', 'contradiction', 'contradiction',\n",
       "       'neutral', 'neutral', 'neutral', 'entailment', 'neutral',\n",
       "       'entailment', 'neutral', 'contradiction', 'entailment',\n",
       "       'contradiction', 'neutral', 'neutral', 'entailment',\n",
       "       'contradiction', 'contradiction', 'entailment', 'entailment',\n",
       "       'entailment', 'neutral', 'contradiction', 'entailment', 'neutral',\n",
       "       'entailment', 'entailment', 'entailment', 'neutral', 'neutral',\n",
       "       'contradiction', 'contradiction', 'entailment', 'contradiction',\n",
       "       'neutral', 'entailment', 'neutral', 'neutral', 'entailment',\n",
       "       'neutral', 'neutral', 'contradiction', 'neutral', 'entailment',\n",
       "       'neutral', 'neutral', 'entailment', 'contradiction', 'neutral',\n",
       "       'entailment', 'entailment', 'neutral', 'entailment',\n",
       "       'contradiction', 'entailment', 'entailment', 'neutral', 'neutral',\n",
       "       'neutral', 'neutral', 'neutral', 'neutral', 'entailment',\n",
       "       'entailment', 'contradiction', 'entailment', 'entailment',\n",
       "       'neutral', 'contradiction', 'entailment', 'contradiction',\n",
       "       'contradiction', 'contradiction', 'neutral', 'entailment',\n",
       "       'entailment', 'entailment', 'entailment', 'contradiction',\n",
       "       'neutral', 'entailment', 'entailment', 'entailment',\n",
       "       'contradiction', 'entailment', 'entailment', 'entailment',\n",
       "       'contradiction', 'contradiction', 'contradiction', 'neutral',\n",
       "       'entailment', 'entailment', 'contradiction', 'entailment',\n",
       "       'entailment', 'contradiction', 'contradiction', 'contradiction'],\n",
       "      dtype=object)"
      ]
     },
     "execution_count": 10,
     "metadata": {},
     "output_type": "execute_result"
    }
   ],
   "source": [
    "y"
   ]
  },
  {
   "cell_type": "code",
   "execution_count": 11,
   "metadata": {},
   "outputs": [
    {
     "name": "stderr",
     "output_type": "stream",
     "text": [
      "c:\\Users\\Ninja\\anaconda3\\lib\\site-packages\\sklearn\\linear_model\\_logistic.py:814: ConvergenceWarning: lbfgs failed to converge (status=1):\n",
      "STOP: TOTAL NO. of ITERATIONS REACHED LIMIT.\n",
      "\n",
      "Increase the number of iterations (max_iter) or scale the data as shown in:\n",
      "    https://scikit-learn.org/stable/modules/preprocessing.html\n",
      "Please also refer to the documentation for alternative solver options:\n",
      "    https://scikit-learn.org/stable/modules/linear_model.html#logistic-regression\n",
      "  n_iter_i = _check_optimize_result(\n"
     ]
    },
    {
     "data": {
      "text/plain": [
       "LogisticRegression(C=0.1)"
      ]
     },
     "execution_count": 11,
     "metadata": {},
     "output_type": "execute_result"
    }
   ],
   "source": [
    "model = linear_model.LogisticRegression(penalty=\"l2\", C=0.1)\n",
    "model.fit(X,y)"
   ]
  },
  {
   "cell_type": "code",
   "execution_count": 12,
   "metadata": {},
   "outputs": [
    {
     "data": {
      "text/plain": [
       "{'C': 0.1,\n",
       " 'class_weight': None,\n",
       " 'dual': False,\n",
       " 'fit_intercept': True,\n",
       " 'intercept_scaling': 1,\n",
       " 'l1_ratio': None,\n",
       " 'max_iter': 100,\n",
       " 'multi_class': 'auto',\n",
       " 'n_jobs': None,\n",
       " 'penalty': 'l2',\n",
       " 'random_state': None,\n",
       " 'solver': 'lbfgs',\n",
       " 'tol': 0.0001,\n",
       " 'verbose': 0,\n",
       " 'warm_start': False}"
      ]
     },
     "execution_count": 12,
     "metadata": {},
     "output_type": "execute_result"
    }
   ],
   "source": [
    "model.get_params()"
   ]
  },
  {
   "cell_type": "code",
   "execution_count": 13,
   "metadata": {},
   "outputs": [
    {
     "data": {
      "text/plain": [
       "array([[ 3.81780954e-01,  2.71924616e-01, -6.53705571e-01],\n",
       "       [-8.65399591e-01,  7.14427225e-01,  1.50972365e-01],\n",
       "       [-6.54923196e-01,  8.43042373e-01, -1.88119176e-01],\n",
       "       [ 3.58672906e-02,  2.45504079e-01, -2.81371369e-01],\n",
       "       [-9.77994769e-02,  3.29345964e-01, -2.31546487e-01],\n",
       "       [ 5.66568054e-01,  2.31955874e-01, -7.98523928e-01],\n",
       "       [-3.42916836e-02,  1.80041418e-01, -1.45749735e-01],\n",
       "       [-2.03776261e-01,  3.29483310e-01, -1.25707049e-01],\n",
       "       [-3.21988809e-01, -6.10947354e-01,  9.32936164e-01],\n",
       "       [ 1.98644935e-01,  6.71390577e-01, -8.70035513e-01],\n",
       "       [-1.05640015e+00,  5.27717794e-01,  5.28682358e-01],\n",
       "       [-1.17161958e-01,  4.39602775e-01, -3.22440816e-01],\n",
       "       [-6.38057154e-01,  4.64216636e-01,  1.73840518e-01],\n",
       "       [ 2.89817561e-01,  4.88222233e-01, -7.78039794e-01],\n",
       "       [-4.93525821e-01, -6.45688805e-02,  5.58094702e-01],\n",
       "       [ 1.80581284e-02,  6.25928673e-02, -8.06509956e-02],\n",
       "       [-9.72663957e-01,  1.74823332e+00, -7.75569360e-01],\n",
       "       [ 4.62269828e-02, -3.95522631e-04, -4.58314602e-02],\n",
       "       [-5.52127630e-01,  2.53053061e-01,  2.99074570e-01],\n",
       "       [ 2.30681857e-01,  3.99490486e-01, -6.30172343e-01],\n",
       "       [-1.06133882e-01,  3.24267771e-01, -2.18133889e-01],\n",
       "       [ 2.58611486e-01,  3.30930522e-01, -5.89542008e-01],\n",
       "       [-1.92567556e-01,  1.51757894e-01,  4.08096621e-02],\n",
       "       [ 7.46297530e-02,  3.88145043e-01, -4.62774796e-01],\n",
       "       [-2.35398952e-01,  3.45519917e-01, -1.10120965e-01],\n",
       "       [-1.31232505e+00, -4.58754895e-01,  1.77107994e+00],\n",
       "       [-4.27580710e-02,  1.30289812e-01, -8.75317411e-02],\n",
       "       [-2.70744692e-01,  6.20905231e-01, -3.50160539e-01],\n",
       "       [-4.07284894e-01,  3.86105646e-01,  2.11792481e-02],\n",
       "       [-2.13651662e-02, -5.04492340e-03,  2.64100896e-02],\n",
       "       [-9.71039988e-01,  9.45346913e-01,  2.56930742e-02],\n",
       "       [ 1.61193248e+00, -6.11525555e-01, -1.00040692e+00],\n",
       "       [ 1.26402807e-01,  1.91890599e-01, -3.18293407e-01],\n",
       "       [ 3.00170758e-01, -1.11147248e-01, -1.89023510e-01],\n",
       "       [ 4.89449088e-01,  5.33434968e-01, -1.02288406e+00],\n",
       "       [-7.11448541e-01, -1.36837111e+00,  2.07981965e+00],\n",
       "       [-4.59148104e-01,  4.91048589e-01, -3.19004851e-02],\n",
       "       [-2.33458851e-01,  4.32811014e-01, -1.99352163e-01],\n",
       "       [-3.57522388e+00, -1.11090068e+00,  4.68612455e+00],\n",
       "       [-4.76880792e-01, -1.15095274e-01,  5.91976067e-01],\n",
       "       [-2.33132053e-02, -2.92182991e-01,  3.15496196e-01],\n",
       "       [-9.63257413e-01,  5.03821360e-01,  4.59436053e-01],\n",
       "       [ 1.77007160e-01, -3.35046168e-01,  1.58039008e-01],\n",
       "       [-4.42083135e-02,  7.15097107e-02, -2.73013972e-02],\n",
       "       [ 6.79326884e-01,  1.67694428e+00, -2.35627116e+00],\n",
       "       [ 2.02363202e-01,  5.00617396e-01, -7.02980598e-01],\n",
       "       [-5.84863687e-01, -4.31121683e-01,  1.01598537e+00],\n",
       "       [-1.80472262e-01,  3.70542096e-01, -1.90069834e-01],\n",
       "       [ 5.71739563e-01, -6.13781398e-01,  4.20418348e-02],\n",
       "       [-2.30799395e-01, -4.74609000e-01,  7.05408396e-01],\n",
       "       [ 7.13948905e-02,  5.88210335e-01, -6.59605226e-01],\n",
       "       [-1.79692966e+00,  3.80232653e+00, -2.00539688e+00],\n",
       "       [ 2.30523571e-01, -5.56031510e-02, -1.74920420e-01],\n",
       "       [ 6.59593489e-03,  4.13403055e-01, -4.19998990e-01],\n",
       "       [-1.69982022e-01,  2.51228926e-01, -8.12469037e-02],\n",
       "       [-3.08343193e-01,  3.64733826e-01, -5.63906330e-02],\n",
       "       [-1.48997295e-01,  7.64436271e-02,  7.25536674e-02],\n",
       "       [-5.20812287e-01,  5.93175401e-01, -7.23631142e-02],\n",
       "       [-3.05288474e-01, -8.25593473e-01,  1.13088195e+00],\n",
       "       [-1.62367834e+00,  1.15284790e+00,  4.70830435e-01],\n",
       "       [-1.70458256e-01,  9.75641660e-02,  7.28940895e-02],\n",
       "       [-9.63753724e-02, -4.02636028e-02,  1.36638975e-01],\n",
       "       [-2.10398066e-01,  4.66225714e-01, -2.55827648e-01],\n",
       "       [ 2.06410461e-01,  6.15141586e-01, -8.21552047e-01],\n",
       "       [-1.21727161e+00,  7.59599260e-01,  4.57672355e-01],\n",
       "       [ 8.09022762e-01,  8.12401451e-01, -1.62142421e+00],\n",
       "       [-1.94788218e-01,  2.40189964e-01, -4.54017463e-02],\n",
       "       [-1.27881848e-01,  5.49203273e-01, -4.21321425e-01],\n",
       "       [-4.15818094e-01, -2.95366919e-01,  7.11185013e-01],\n",
       "       [-4.52180116e-02,  1.89794707e-01, -1.44576695e-01],\n",
       "       [-3.72874336e-01,  5.17824553e-01, -1.44950217e-01],\n",
       "       [ 1.85047373e-01,  3.08856703e-01, -4.93904076e-01],\n",
       "       [ 8.57292242e-01,  8.51821583e-01, -1.70911383e+00],\n",
       "       [-1.71811731e-01, -2.34573960e-01,  4.06385692e-01],\n",
       "       [ 6.51696222e-02, -2.30565551e-01,  1.65395929e-01],\n",
       "       [-1.11606902e+00,  2.99030529e-02,  1.08616597e+00],\n",
       "       [-8.73709424e-01,  1.25749574e+00, -3.83786311e-01],\n",
       "       [-1.93408365e-01,  4.89112359e-01, -2.95703994e-01],\n",
       "       [-8.88172432e-01,  1.84314772e+00, -9.54975287e-01],\n",
       "       [-2.05986070e-01,  3.97256759e-01, -1.91270689e-01],\n",
       "       [-6.21073918e-02,  5.51232960e-01, -4.89125568e-01],\n",
       "       [ 2.44111671e-01,  3.61363370e-01, -6.05475041e-01],\n",
       "       [ 8.86864327e-01,  5.43906710e-01, -1.43077104e+00],\n",
       "       [-5.70693285e-02,  3.16851239e-01, -2.59781910e-01],\n",
       "       [ 3.74851249e-01, -4.95173599e-01,  1.20322350e-01],\n",
       "       [-8.34867880e-01,  9.15129533e-01, -8.02616532e-02],\n",
       "       [-4.00208141e-01,  3.60095830e-01,  4.01123108e-02],\n",
       "       [-1.05130777e-01,  4.50564792e-01, -3.45434016e-01],\n",
       "       [-3.00788833e-01,  7.33447869e-01, -4.32659037e-01],\n",
       "       [-6.53613375e-01, -3.88717828e-02,  6.92485158e-01],\n",
       "       [-1.73806941e-01,  4.53629878e-01, -2.79822937e-01],\n",
       "       [-7.78488090e-01,  1.67238803e-01,  6.11249287e-01],\n",
       "       [-3.21864516e-01,  2.99241639e-01,  2.26228773e-02],\n",
       "       [-1.92064013e-02,  4.15680201e-01, -3.96473800e-01],\n",
       "       [-2.98500479e-01, -1.83305890e-02,  3.16831068e-01],\n",
       "       [-1.23325291e+00,  7.35982194e-01,  4.97270717e-01],\n",
       "       [-1.31849409e-01, -7.18179595e-02,  2.03667369e-01],\n",
       "       [ 1.01874330e-01,  2.34224548e-01, -3.36098878e-01],\n",
       "       [-8.74285480e-02,  6.69793768e-02,  2.04491712e-02],\n",
       "       [ 5.59823816e-01,  4.53820890e-02, -6.05205905e-01]])"
      ]
     },
     "execution_count": 13,
     "metadata": {},
     "output_type": "execute_result"
    }
   ],
   "source": [
    "model.decision_function(X)"
   ]
  },
  {
   "cell_type": "code",
   "execution_count": 14,
   "metadata": {},
   "outputs": [],
   "source": [
    "labels=['NOUN_NOUN',\n",
    " 'NOUN_ADJ',\n",
    " 'NOUN_VERB',\n",
    " 'NOUN_ADV',\n",
    " 'ADJ_NOUN',\n",
    " 'ADJ_ADJ',\n",
    " 'ADJ_VERB',\n",
    " 'ADJ_ADV',\n",
    " 'VERB_NOUN',\n",
    " 'VERB_ADJ',\n",
    " 'VERB_VERB',\n",
    " 'VERB_ADV',\n",
    " 'ADV_NOUN',\n",
    " 'ADV_ADJ',\n",
    " 'ADV_VERB',\n",
    " 'ADV_ADV']"
   ]
  },
  {
   "cell_type": "code",
   "execution_count": 15,
   "metadata": {},
   "outputs": [
    {
     "data": {
      "text/plain": [
       "array(['contradiction', 'entailment', 'neutral'], dtype=object)"
      ]
     },
     "execution_count": 15,
     "metadata": {},
     "output_type": "execute_result"
    }
   ],
   "source": [
    "model.classes_"
   ]
  },
  {
   "cell_type": "code",
   "execution_count": 16,
   "metadata": {},
   "outputs": [],
   "source": [
    "contradiction=model.coef_[0]\n",
    "entailment=model.coef_[1]\n",
    "neutral=model.coef_[2]"
   ]
  },
  {
   "cell_type": "code",
   "execution_count": 17,
   "metadata": {},
   "outputs": [
    {
     "name": "stdout",
     "output_type": "stream",
     "text": [
      "Contradiction  13 ADV_ADJ 7 ADJ_ADV\n",
      "Entailment  7 ADJ_ADV 11 VERB_ADV\n",
      "Neutral  1 NOUN_ADJ 3 NOUN_ADV\n"
     ]
    }
   ],
   "source": [
    "print(\"Contradiction \",np.argmax(contradiction),labels[np.argmax(contradiction)],np.argmin(contradiction),labels[np.argmin(contradiction)])\n",
    "print(\"Entailment \",np.argmax(entailment),labels[np.argmax(entailment)],np.argmin(entailment),labels[np.argmin(entailment)])\n",
    "print(\"Neutral \",np.argmax(neutral),labels[np.argmax(neutral)],np.argmin(neutral),labels[np.argmin(neutral)])"
   ]
  },
  {
   "cell_type": "code",
   "execution_count": 18,
   "metadata": {},
   "outputs": [
    {
     "data": {
      "image/png": "[encoded data removed]",
      "text/plain": [
       "<Figure size 640x480 with 1 Axes>"
      ]
     },
     "metadata": {},
     "output_type": "display_data"
    }
   ],
   "source": [
    "import matplotlib.pyplot as plt\n",
    "import numpy as np\n",
    "\n",
    "x_v = np.arange(0,16,1)\n",
    "y_v = contradiction\n",
    "\n",
    "plt.bar(x_v,y_v)\n",
    "plt.xlabel('x')\n",
    "plt.ylabel('y')\n",
    "plt.title('Contradiction')\n",
    "plt.show()"
   ]
  },
  {
   "cell_type": "code",
   "execution_count": 19,
   "metadata": {},
   "outputs": [
    {
     "data": {
      "image/png": "[encoded data removed]",
      "text/plain": [
       "<Figure size 640x480 with 1 Axes>"
      ]
     },
     "metadata": {},
     "output_type": "display_data"
    }
   ],
   "source": [
    "x_v = np.arange(0,16,1)\n",
    "y_v = entailment\n",
    "\n",
    "plt.bar(x_v,y_v)\n",
    "plt.xlabel('x')\n",
    "plt.ylabel('y')\n",
    "plt.title('Entailment')\n",
    "plt.show()"
   ]
  },
  {
   "cell_type": "code",
   "execution_count": 20,
   "metadata": {},
   "outputs": [
    {
     "data": {
      "image/png": "[encoded data removed]",
      "text/plain": [
       "<Figure size 640x480 with 1 Axes>"
      ]
     },
     "metadata": {},
     "output_type": "display_data"
    }
   ],
   "source": [
    "x_v = np.arange(0,16,1)\n",
    "y_v = neutral\n",
    "\n",
    "plt.bar(x_v,y_v)\n",
    "plt.xlabel('x')\n",
    "plt.ylabel('y')\n",
    "plt.title('Neutral')\n",
    "plt.show()"
   ]
  },
  {
   "cell_type": "code",
   "execution_count": 21,
   "metadata": {},
   "outputs": [
    {
     "name": "stdout",
     "output_type": "stream",
     "text": [
      "['contradiction' 'entailment' 'entailment' 'entailment' 'entailment'\n",
      " 'contradiction' 'entailment' 'entailment' 'neutral' 'entailment'\n",
      " 'neutral' 'entailment' 'entailment' 'entailment' 'neutral' 'entailment'\n",
      " 'entailment' 'contradiction' 'neutral' 'entailment' 'entailment'\n",
      " 'entailment' 'entailment' 'entailment' 'entailment' 'neutral'\n",
      " 'entailment' 'entailment' 'entailment' 'neutral' 'entailment'\n",
      " 'contradiction' 'entailment' 'contradiction' 'entailment' 'neutral'\n",
      " 'entailment' 'entailment' 'neutral' 'neutral' 'neutral' 'entailment'\n",
      " 'contradiction' 'entailment' 'entailment' 'entailment' 'neutral'\n",
      " 'entailment' 'contradiction' 'neutral' 'entailment' 'entailment'\n",
      " 'contradiction' 'entailment' 'entailment' 'entailment' 'entailment'\n",
      " 'entailment' 'neutral' 'entailment' 'entailment' 'neutral' 'entailment'\n",
      " 'entailment' 'entailment' 'entailment' 'entailment' 'entailment'\n",
      " 'neutral' 'entailment' 'entailment' 'entailment' 'contradiction'\n",
      " 'neutral' 'neutral' 'neutral' 'entailment' 'entailment' 'entailment'\n",
      " 'entailment' 'entailment' 'entailment' 'contradiction' 'entailment'\n",
      " 'contradiction' 'entailment' 'entailment' 'entailment' 'entailment'\n",
      " 'neutral' 'entailment' 'neutral' 'entailment' 'entailment' 'neutral'\n",
      " 'entailment' 'neutral' 'entailment' 'entailment' 'contradiction']\n"
     ]
    }
   ],
   "source": [
    "predictions = model.predict(X)\n",
    "print(predictions)"
   ]
  },
  {
   "cell_type": "code",
   "execution_count": 22,
   "metadata": {},
   "outputs": [
    {
     "data": {
      "text/plain": [
       "array(['entailment', 'entailment', 'contradiction', 'contradiction',\n",
       "       'neutral', 'neutral', 'neutral', 'entailment', 'neutral',\n",
       "       'entailment', 'neutral', 'contradiction', 'entailment',\n",
       "       'contradiction', 'neutral', 'neutral', 'entailment',\n",
       "       'contradiction', 'contradiction', 'entailment', 'entailment',\n",
       "       'entailment', 'neutral', 'contradiction', 'entailment', 'neutral',\n",
       "       'entailment', 'entailment', 'entailment', 'neutral', 'neutral',\n",
       "       'contradiction', 'contradiction', 'entailment', 'contradiction',\n",
       "       'neutral', 'entailment', 'neutral', 'neutral', 'entailment',\n",
       "       'neutral', 'neutral', 'contradiction', 'neutral', 'entailment',\n",
       "       'neutral', 'neutral', 'entailment', 'contradiction', 'neutral',\n",
       "       'entailment', 'entailment', 'neutral', 'entailment',\n",
       "       'contradiction', 'entailment', 'entailment', 'neutral', 'neutral',\n",
       "       'neutral', 'neutral', 'neutral', 'neutral', 'entailment',\n",
       "       'entailment', 'contradiction', 'entailment', 'entailment',\n",
       "       'neutral', 'contradiction', 'entailment', 'contradiction',\n",
       "       'contradiction', 'contradiction', 'neutral', 'entailment',\n",
       "       'entailment', 'entailment', 'entailment', 'contradiction',\n",
       "       'neutral', 'entailment', 'entailment', 'entailment',\n",
       "       'contradiction', 'entailment', 'entailment', 'entailment',\n",
       "       'contradiction', 'contradiction', 'contradiction', 'neutral',\n",
       "       'entailment', 'entailment', 'contradiction', 'entailment',\n",
       "       'entailment', 'contradiction', 'contradiction', 'contradiction'],\n",
       "      dtype=object)"
      ]
     },
     "execution_count": 22,
     "metadata": {},
     "output_type": "execute_result"
    }
   ],
   "source": [
    "y"
   ]
  },
  {
   "cell_type": "code",
   "execution_count": 23,
   "metadata": {},
   "outputs": [
    {
     "data": {
      "text/plain": [
       "array([[29.81459746,  0.94560911,  9.5776875 , ...,  0.        ,\n",
       "         0.        ,  0.        ],\n",
       "       [29.09250657,  4.73521405,  5.25717238, ...,  0.        ,\n",
       "         0.        ,  0.        ],\n",
       "       [16.5722238 ,  1.84944902,  5.89712995, ...,  0.        ,\n",
       "         0.        ,  0.        ],\n",
       "       ...,\n",
       "       [ 7.04140747,  0.        ,  5.67551607, ...,  0.        ,\n",
       "         0.        ,  0.        ],\n",
       "       [ 7.76747555,  0.        ,  0.8981683 , ...,  0.        ,\n",
       "         0.        ,  0.        ],\n",
       "       [15.12100993,  0.        ,  0.07423799, ...,  0.        ,\n",
       "         0.        ,  0.        ]])"
      ]
     },
     "execution_count": 23,
     "metadata": {},
     "output_type": "execute_result"
    }
   ],
   "source": [
    "X"
   ]
  },
  {
   "cell_type": "code",
   "execution_count": 38,
   "metadata": {},
   "outputs": [
    {
     "data": {
      "text/plain": [
       "0.58"
      ]
     },
     "execution_count": 38,
     "metadata": {},
     "output_type": "execute_result"
    }
   ],
   "source": [
    "model.score(X,y)"
   ]
  },
  {
   "cell_type": "code",
   "execution_count": 39,
   "metadata": {},
   "outputs": [],
   "source": [
    "validation_size = 0.10\n",
    "seed = 7\n",
    "X_train, X_validation, Y_train, Y_validation = model_selection.train_test_split(X, y, test_size=validation_size)"
   ]
  },
  {
   "cell_type": "code",
   "execution_count": 40,
   "metadata": {},
   "outputs": [
    {
     "name": "stdout",
     "output_type": "stream",
     "text": [
      "Logistic Regression: 0.388889 (0.102439)\n"
     ]
    },
    {
     "name": "stderr",
     "output_type": "stream",
     "text": [
      "c:\\Users\\Ninja\\anaconda3\\lib\\site-packages\\sklearn\\linear_model\\_logistic.py:814: ConvergenceWarning: lbfgs failed to converge (status=1):\n",
      "STOP: TOTAL NO. of ITERATIONS REACHED LIMIT.\n",
      "\n",
      "Increase the number of iterations (max_iter) or scale the data as shown in:\n",
      "    https://scikit-learn.org/stable/modules/preprocessing.html\n",
      "Please also refer to the documentation for alternative solver options:\n",
      "    https://scikit-learn.org/stable/modules/linear_model.html#logistic-regression\n",
      "  n_iter_i = _check_optimize_result(\n",
      "c:\\Users\\Ninja\\anaconda3\\lib\\site-packages\\sklearn\\linear_model\\_logistic.py:814: ConvergenceWarning: lbfgs failed to converge (status=1):\n",
      "STOP: TOTAL NO. of ITERATIONS REACHED LIMIT.\n",
      "\n",
      "Increase the number of iterations (max_iter) or scale the data as shown in:\n",
      "    https://scikit-learn.org/stable/modules/preprocessing.html\n",
      "Please also refer to the documentation for alternative solver options:\n",
      "    https://scikit-learn.org/stable/modules/linear_model.html#logistic-regression\n",
      "  n_iter_i = _check_optimize_result(\n",
      "c:\\Users\\Ninja\\anaconda3\\lib\\site-packages\\sklearn\\linear_model\\_logistic.py:814: ConvergenceWarning: lbfgs failed to converge (status=1):\n",
      "STOP: TOTAL NO. of ITERATIONS REACHED LIMIT.\n",
      "\n",
      "Increase the number of iterations (max_iter) or scale the data as shown in:\n",
      "    https://scikit-learn.org/stable/modules/preprocessing.html\n",
      "Please also refer to the documentation for alternative solver options:\n",
      "    https://scikit-learn.org/stable/modules/linear_model.html#logistic-regression\n",
      "  n_iter_i = _check_optimize_result(\n",
      "c:\\Users\\Ninja\\anaconda3\\lib\\site-packages\\sklearn\\linear_model\\_logistic.py:814: ConvergenceWarning: lbfgs failed to converge (status=1):\n",
      "STOP: TOTAL NO. of ITERATIONS REACHED LIMIT.\n",
      "\n",
      "Increase the number of iterations (max_iter) or scale the data as shown in:\n",
      "    https://scikit-learn.org/stable/modules/preprocessing.html\n",
      "Please also refer to the documentation for alternative solver options:\n",
      "    https://scikit-learn.org/stable/modules/linear_model.html#logistic-regression\n",
      "  n_iter_i = _check_optimize_result(\n",
      "c:\\Users\\Ninja\\anaconda3\\lib\\site-packages\\sklearn\\linear_model\\_logistic.py:814: ConvergenceWarning: lbfgs failed to converge (status=1):\n",
      "STOP: TOTAL NO. of ITERATIONS REACHED LIMIT.\n",
      "\n",
      "Increase the number of iterations (max_iter) or scale the data as shown in:\n",
      "    https://scikit-learn.org/stable/modules/preprocessing.html\n",
      "Please also refer to the documentation for alternative solver options:\n",
      "    https://scikit-learn.org/stable/modules/linear_model.html#logistic-regression\n",
      "  n_iter_i = _check_optimize_result(\n",
      "c:\\Users\\Ninja\\anaconda3\\lib\\site-packages\\sklearn\\linear_model\\_logistic.py:814: ConvergenceWarning: lbfgs failed to converge (status=1):\n",
      "STOP: TOTAL NO. of ITERATIONS REACHED LIMIT.\n",
      "\n",
      "Increase the number of iterations (max_iter) or scale the data as shown in:\n",
      "    https://scikit-learn.org/stable/modules/preprocessing.html\n",
      "Please also refer to the documentation for alternative solver options:\n",
      "    https://scikit-learn.org/stable/modules/linear_model.html#logistic-regression\n",
      "  n_iter_i = _check_optimize_result(\n",
      "c:\\Users\\Ninja\\anaconda3\\lib\\site-packages\\sklearn\\linear_model\\_logistic.py:814: ConvergenceWarning: lbfgs failed to converge (status=1):\n",
      "STOP: TOTAL NO. of ITERATIONS REACHED LIMIT.\n",
      "\n",
      "Increase the number of iterations (max_iter) or scale the data as shown in:\n",
      "    https://scikit-learn.org/stable/modules/preprocessing.html\n",
      "Please also refer to the documentation for alternative solver options:\n",
      "    https://scikit-learn.org/stable/modules/linear_model.html#logistic-regression\n",
      "  n_iter_i = _check_optimize_result(\n",
      "c:\\Users\\Ninja\\anaconda3\\lib\\site-packages\\sklearn\\linear_model\\_logistic.py:814: ConvergenceWarning: lbfgs failed to converge (status=1):\n",
      "STOP: TOTAL NO. of ITERATIONS REACHED LIMIT.\n",
      "\n",
      "Increase the number of iterations (max_iter) or scale the data as shown in:\n",
      "    https://scikit-learn.org/stable/modules/preprocessing.html\n",
      "Please also refer to the documentation for alternative solver options:\n",
      "    https://scikit-learn.org/stable/modules/linear_model.html#logistic-regression\n",
      "  n_iter_i = _check_optimize_result(\n",
      "c:\\Users\\Ninja\\anaconda3\\lib\\site-packages\\sklearn\\linear_model\\_logistic.py:814: ConvergenceWarning: lbfgs failed to converge (status=1):\n",
      "STOP: TOTAL NO. of ITERATIONS REACHED LIMIT.\n",
      "\n",
      "Increase the number of iterations (max_iter) or scale the data as shown in:\n",
      "    https://scikit-learn.org/stable/modules/preprocessing.html\n",
      "Please also refer to the documentation for alternative solver options:\n",
      "    https://scikit-learn.org/stable/modules/linear_model.html#logistic-regression\n",
      "  n_iter_i = _check_optimize_result(\n",
      "c:\\Users\\Ninja\\anaconda3\\lib\\site-packages\\sklearn\\linear_model\\_logistic.py:814: ConvergenceWarning: lbfgs failed to converge (status=1):\n",
      "STOP: TOTAL NO. of ITERATIONS REACHED LIMIT.\n",
      "\n",
      "Increase the number of iterations (max_iter) or scale the data as shown in:\n",
      "    https://scikit-learn.org/stable/modules/preprocessing.html\n",
      "Please also refer to the documentation for alternative solver options:\n",
      "    https://scikit-learn.org/stable/modules/linear_model.html#logistic-regression\n",
      "  n_iter_i = _check_optimize_result(\n"
     ]
    }
   ],
   "source": [
    "name='Logistic Regression'\n",
    "kfold = model_selection.KFold(n_splits=10)\n",
    "cv_results = model_selection.cross_val_score(model, X_train, Y_train, cv=kfold, scoring='accuracy')\n",
    "msg = \"%s: %f (%f)\" % (name, cv_results.mean(), cv_results.std())\n",
    "print(msg)"
   ]
  },
  {
   "cell_type": "code",
   "execution_count": 41,
   "metadata": {},
   "outputs": [
    {
     "name": "stdout",
     "output_type": "stream",
     "text": [
      "0.5\n"
     ]
    }
   ],
   "source": [
    "predictions = model.predict(X_validation)\n",
    "print(accuracy_score(Y_validation, predictions))"
   ]
  },
  {
   "cell_type": "code",
   "execution_count": 42,
   "metadata": {},
   "outputs": [
    {
     "name": "stdout",
     "output_type": "stream",
     "text": [
      "[[0 4 0]\n",
      " [0 3 0]\n",
      " [0 1 2]]\n"
     ]
    }
   ],
   "source": [
    "print(confusion_matrix(Y_validation, predictions))"
   ]
  },
  {
   "cell_type": "code",
   "execution_count": 43,
   "metadata": {},
   "outputs": [
    {
     "name": "stdout",
     "output_type": "stream",
     "text": [
      "               precision    recall  f1-score   support\n",
      "\n",
      "contradiction       0.00      0.00      0.00         4\n",
      "   entailment       0.38      1.00      0.55         3\n",
      "      neutral       1.00      0.67      0.80         3\n",
      "\n",
      "     accuracy                           0.50        10\n",
      "    macro avg       0.46      0.56      0.45        10\n",
      " weighted avg       0.41      0.50      0.40        10\n",
      "\n"
     ]
    },
    {
     "name": "stderr",
     "output_type": "stream",
     "text": [
      "c:\\Users\\Ninja\\anaconda3\\lib\\site-packages\\sklearn\\metrics\\_classification.py:1318: UndefinedMetricWarning: Precision and F-score are ill-defined and being set to 0.0 in labels with no predicted samples. Use `zero_division` parameter to control this behavior.\n",
      "  _warn_prf(average, modifier, msg_start, len(result))\n",
      "c:\\Users\\Ninja\\anaconda3\\lib\\site-packages\\sklearn\\metrics\\_classification.py:1318: UndefinedMetricWarning: Precision and F-score are ill-defined and being set to 0.0 in labels with no predicted samples. Use `zero_division` parameter to control this behavior.\n",
      "  _warn_prf(average, modifier, msg_start, len(result))\n",
      "c:\\Users\\Ninja\\anaconda3\\lib\\site-packages\\sklearn\\metrics\\_classification.py:1318: UndefinedMetricWarning: Precision and F-score are ill-defined and being set to 0.0 in labels with no predicted samples. Use `zero_division` parameter to control this behavior.\n",
      "  _warn_prf(average, modifier, msg_start, len(result))\n"
     ]
    }
   ],
   "source": [
    "print(classification_report(Y_validation, predictions))"
   ]
  },
  {
   "cell_type": "code",
   "execution_count": 44,
   "metadata": {},
   "outputs": [],
   "source": [
    "#X_new = pd.DataFrame()\n",
    "#model.predict(X_new)"
   ]
  }
 ],
 "metadata": {
  "kernelspec": {
   "display_name": "Python 3",
   "language": "python",
   "name": "python3"
  },
  "language_info": {
   "codemirror_mode": {
    "name": "ipython",
    "version": 3
   },
   "file_extension": ".py",
   "mimetype": "text/x-python",
   "name": "python",
   "nbconvert_exporter": "python",
   "pygments_lexer": "ipython3",
   "version": "3.9.13"
  }
 },
 "nbformat": 4,
 "nbformat_minor": 2
}
