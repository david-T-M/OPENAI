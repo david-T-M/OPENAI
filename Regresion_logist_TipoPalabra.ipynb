{
 "cells": [
  {
   "cell_type": "code",
   "execution_count": 77,
   "metadata": {},
   "outputs": [],
   "source": [
    "import pandas as pd\n",
    "import numpy as np\n",
    "from sklearn import linear_model\n",
    "from sklearn import model_selection\n",
    "from sklearn.metrics import classification_report\n",
    "from sklearn.metrics import confusion_matrix\n",
    "from sklearn.metrics import accuracy_score\n",
    "import matplotlib.pyplot as plt\n",
    "import seaborn as sb"
   ]
  },
  {
   "cell_type": "code",
   "execution_count": 78,
   "metadata": {},
   "outputs": [
    {
     "data": {
      "text/html": [
       "<div>\n",
       "<style scoped>\n",
       "    .dataframe tbody tr th:only-of-type {\n",
       "        vertical-align: middle;\n",
       "    }\n",
       "\n",
       "    .dataframe tbody tr th {\n",
       "        vertical-align: top;\n",
       "    }\n",
       "\n",
       "    .dataframe thead th {\n",
       "        text-align: right;\n",
       "    }\n",
       "</style>\n",
       "<table border=\"1\" class=\"dataframe\">\n",
       "  <thead>\n",
       "    <tr style=\"text-align: right;\">\n",
       "      <th></th>\n",
       "      <th>NOUN_NOUN</th>\n",
       "      <th>NOUN_ADJ</th>\n",
       "      <th>NOUN_VERB</th>\n",
       "      <th>NOUN_ADV</th>\n",
       "      <th>ADJ_NOUN</th>\n",
       "      <th>ADJ_ADJ</th>\n",
       "      <th>ADJ_VERB</th>\n",
       "      <th>ADJ_ADV</th>\n",
       "      <th>VERB_NOUN</th>\n",
       "      <th>VERB_ADJ</th>\n",
       "      <th>VERB_VERB</th>\n",
       "      <th>VERB_ADV</th>\n",
       "      <th>ADV_NOUN</th>\n",
       "      <th>ADV_ADJ</th>\n",
       "      <th>ADV_VERB</th>\n",
       "      <th>ADV_ADV</th>\n",
       "      <th>CLASS</th>\n",
       "    </tr>\n",
       "  </thead>\n",
       "  <tbody>\n",
       "    <tr>\n",
       "      <th>0</th>\n",
       "      <td>2.542400</td>\n",
       "      <td>0.000000</td>\n",
       "      <td>0.000000</td>\n",
       "      <td>0.000000</td>\n",
       "      <td>0.658124</td>\n",
       "      <td>0.000000</td>\n",
       "      <td>0.000000</td>\n",
       "      <td>0.0</td>\n",
       "      <td>0.385790</td>\n",
       "      <td>0.0</td>\n",
       "      <td>0.624237</td>\n",
       "      <td>0.000000</td>\n",
       "      <td>0.000000</td>\n",
       "      <td>0.0</td>\n",
       "      <td>0.0</td>\n",
       "      <td>0.0</td>\n",
       "      <td>entailment</td>\n",
       "    </tr>\n",
       "    <tr>\n",
       "      <th>1</th>\n",
       "      <td>2.356793</td>\n",
       "      <td>0.000000</td>\n",
       "      <td>0.000000</td>\n",
       "      <td>0.000000</td>\n",
       "      <td>0.000000</td>\n",
       "      <td>1.224963</td>\n",
       "      <td>0.000000</td>\n",
       "      <td>0.0</td>\n",
       "      <td>0.963250</td>\n",
       "      <td>0.0</td>\n",
       "      <td>0.000000</td>\n",
       "      <td>0.000000</td>\n",
       "      <td>0.000000</td>\n",
       "      <td>0.0</td>\n",
       "      <td>0.0</td>\n",
       "      <td>0.0</td>\n",
       "      <td>entailment</td>\n",
       "    </tr>\n",
       "    <tr>\n",
       "      <th>2</th>\n",
       "      <td>3.281627</td>\n",
       "      <td>0.000000</td>\n",
       "      <td>0.000000</td>\n",
       "      <td>0.000000</td>\n",
       "      <td>1.125973</td>\n",
       "      <td>0.000000</td>\n",
       "      <td>0.573775</td>\n",
       "      <td>0.0</td>\n",
       "      <td>0.000000</td>\n",
       "      <td>0.0</td>\n",
       "      <td>0.607777</td>\n",
       "      <td>0.000000</td>\n",
       "      <td>0.000000</td>\n",
       "      <td>0.0</td>\n",
       "      <td>0.0</td>\n",
       "      <td>0.0</td>\n",
       "      <td>contradiction</td>\n",
       "    </tr>\n",
       "    <tr>\n",
       "      <th>3</th>\n",
       "      <td>2.461393</td>\n",
       "      <td>0.000000</td>\n",
       "      <td>2.282951</td>\n",
       "      <td>0.000000</td>\n",
       "      <td>1.731715</td>\n",
       "      <td>0.000000</td>\n",
       "      <td>0.000000</td>\n",
       "      <td>0.0</td>\n",
       "      <td>1.099049</td>\n",
       "      <td>0.0</td>\n",
       "      <td>1.295804</td>\n",
       "      <td>0.000000</td>\n",
       "      <td>0.000000</td>\n",
       "      <td>0.0</td>\n",
       "      <td>0.0</td>\n",
       "      <td>0.0</td>\n",
       "      <td>contradiction</td>\n",
       "    </tr>\n",
       "    <tr>\n",
       "      <th>4</th>\n",
       "      <td>1.614665</td>\n",
       "      <td>0.000000</td>\n",
       "      <td>0.000000</td>\n",
       "      <td>0.000000</td>\n",
       "      <td>0.350315</td>\n",
       "      <td>0.000000</td>\n",
       "      <td>0.000000</td>\n",
       "      <td>0.0</td>\n",
       "      <td>0.293673</td>\n",
       "      <td>0.0</td>\n",
       "      <td>0.000000</td>\n",
       "      <td>0.000000</td>\n",
       "      <td>0.357102</td>\n",
       "      <td>0.0</td>\n",
       "      <td>0.0</td>\n",
       "      <td>0.0</td>\n",
       "      <td>neutral</td>\n",
       "    </tr>\n",
       "    <tr>\n",
       "      <th>...</th>\n",
       "      <td>...</td>\n",
       "      <td>...</td>\n",
       "      <td>...</td>\n",
       "      <td>...</td>\n",
       "      <td>...</td>\n",
       "      <td>...</td>\n",
       "      <td>...</td>\n",
       "      <td>...</td>\n",
       "      <td>...</td>\n",
       "      <td>...</td>\n",
       "      <td>...</td>\n",
       "      <td>...</td>\n",
       "      <td>...</td>\n",
       "      <td>...</td>\n",
       "      <td>...</td>\n",
       "      <td>...</td>\n",
       "      <td>...</td>\n",
       "    </tr>\n",
       "    <tr>\n",
       "      <th>95</th>\n",
       "      <td>1.710075</td>\n",
       "      <td>0.274734</td>\n",
       "      <td>0.000000</td>\n",
       "      <td>0.000000</td>\n",
       "      <td>0.000000</td>\n",
       "      <td>1.233097</td>\n",
       "      <td>0.000000</td>\n",
       "      <td>0.0</td>\n",
       "      <td>0.247773</td>\n",
       "      <td>0.0</td>\n",
       "      <td>0.694806</td>\n",
       "      <td>0.000000</td>\n",
       "      <td>0.000000</td>\n",
       "      <td>0.0</td>\n",
       "      <td>0.0</td>\n",
       "      <td>0.0</td>\n",
       "      <td>entailment</td>\n",
       "    </tr>\n",
       "    <tr>\n",
       "      <th>96</th>\n",
       "      <td>1.321407</td>\n",
       "      <td>0.000000</td>\n",
       "      <td>0.000000</td>\n",
       "      <td>0.000000</td>\n",
       "      <td>0.636309</td>\n",
       "      <td>0.000000</td>\n",
       "      <td>0.000000</td>\n",
       "      <td>0.0</td>\n",
       "      <td>0.000000</td>\n",
       "      <td>0.0</td>\n",
       "      <td>0.719443</td>\n",
       "      <td>0.000000</td>\n",
       "      <td>0.000000</td>\n",
       "      <td>0.0</td>\n",
       "      <td>0.0</td>\n",
       "      <td>0.0</td>\n",
       "      <td>entailment</td>\n",
       "    </tr>\n",
       "    <tr>\n",
       "      <th>97</th>\n",
       "      <td>1.055430</td>\n",
       "      <td>0.000000</td>\n",
       "      <td>0.641396</td>\n",
       "      <td>0.000000</td>\n",
       "      <td>0.000000</td>\n",
       "      <td>0.000000</td>\n",
       "      <td>0.000000</td>\n",
       "      <td>0.0</td>\n",
       "      <td>0.000000</td>\n",
       "      <td>0.0</td>\n",
       "      <td>1.045653</td>\n",
       "      <td>0.000000</td>\n",
       "      <td>0.000000</td>\n",
       "      <td>0.0</td>\n",
       "      <td>0.0</td>\n",
       "      <td>0.0</td>\n",
       "      <td>contradiction</td>\n",
       "    </tr>\n",
       "    <tr>\n",
       "      <th>98</th>\n",
       "      <td>1.339892</td>\n",
       "      <td>0.000000</td>\n",
       "      <td>0.000000</td>\n",
       "      <td>0.000000</td>\n",
       "      <td>0.000000</td>\n",
       "      <td>0.000000</td>\n",
       "      <td>0.000000</td>\n",
       "      <td>0.0</td>\n",
       "      <td>0.860057</td>\n",
       "      <td>0.0</td>\n",
       "      <td>0.000000</td>\n",
       "      <td>0.000000</td>\n",
       "      <td>0.000000</td>\n",
       "      <td>0.0</td>\n",
       "      <td>0.0</td>\n",
       "      <td>0.0</td>\n",
       "      <td>contradiction</td>\n",
       "    </tr>\n",
       "    <tr>\n",
       "      <th>99</th>\n",
       "      <td>2.428047</td>\n",
       "      <td>0.000000</td>\n",
       "      <td>0.000000</td>\n",
       "      <td>0.521006</td>\n",
       "      <td>0.639987</td>\n",
       "      <td>0.000000</td>\n",
       "      <td>0.000000</td>\n",
       "      <td>0.0</td>\n",
       "      <td>1.522963</td>\n",
       "      <td>0.0</td>\n",
       "      <td>0.000000</td>\n",
       "      <td>0.460974</td>\n",
       "      <td>0.000000</td>\n",
       "      <td>0.0</td>\n",
       "      <td>0.0</td>\n",
       "      <td>0.0</td>\n",
       "      <td>contradiction</td>\n",
       "    </tr>\n",
       "  </tbody>\n",
       "</table>\n",
       "<p>100 rows × 17 columns</p>\n",
       "</div>"
      ],
      "text/plain": [
       "    NOUN_NOUN  NOUN_ADJ  NOUN_VERB  NOUN_ADV  ADJ_NOUN   ADJ_ADJ  ADJ_VERB  \\\n",
       "0    2.542400  0.000000   0.000000  0.000000  0.658124  0.000000  0.000000   \n",
       "1    2.356793  0.000000   0.000000  0.000000  0.000000  1.224963  0.000000   \n",
       "2    3.281627  0.000000   0.000000  0.000000  1.125973  0.000000  0.573775   \n",
       "3    2.461393  0.000000   2.282951  0.000000  1.731715  0.000000  0.000000   \n",
       "4    1.614665  0.000000   0.000000  0.000000  0.350315  0.000000  0.000000   \n",
       "..        ...       ...        ...       ...       ...       ...       ...   \n",
       "95   1.710075  0.274734   0.000000  0.000000  0.000000  1.233097  0.000000   \n",
       "96   1.321407  0.000000   0.000000  0.000000  0.636309  0.000000  0.000000   \n",
       "97   1.055430  0.000000   0.641396  0.000000  0.000000  0.000000  0.000000   \n",
       "98   1.339892  0.000000   0.000000  0.000000  0.000000  0.000000  0.000000   \n",
       "99   2.428047  0.000000   0.000000  0.521006  0.639987  0.000000  0.000000   \n",
       "\n",
       "    ADJ_ADV  VERB_NOUN  VERB_ADJ  VERB_VERB  VERB_ADV  ADV_NOUN  ADV_ADJ  \\\n",
       "0       0.0   0.385790       0.0   0.624237  0.000000  0.000000      0.0   \n",
       "1       0.0   0.963250       0.0   0.000000  0.000000  0.000000      0.0   \n",
       "2       0.0   0.000000       0.0   0.607777  0.000000  0.000000      0.0   \n",
       "3       0.0   1.099049       0.0   1.295804  0.000000  0.000000      0.0   \n",
       "4       0.0   0.293673       0.0   0.000000  0.000000  0.357102      0.0   \n",
       "..      ...        ...       ...        ...       ...       ...      ...   \n",
       "95      0.0   0.247773       0.0   0.694806  0.000000  0.000000      0.0   \n",
       "96      0.0   0.000000       0.0   0.719443  0.000000  0.000000      0.0   \n",
       "97      0.0   0.000000       0.0   1.045653  0.000000  0.000000      0.0   \n",
       "98      0.0   0.860057       0.0   0.000000  0.000000  0.000000      0.0   \n",
       "99      0.0   1.522963       0.0   0.000000  0.460974  0.000000      0.0   \n",
       "\n",
       "    ADV_VERB  ADV_ADV          CLASS  \n",
       "0        0.0      0.0     entailment  \n",
       "1        0.0      0.0     entailment  \n",
       "2        0.0      0.0  contradiction  \n",
       "3        0.0      0.0  contradiction  \n",
       "4        0.0      0.0        neutral  \n",
       "..       ...      ...            ...  \n",
       "95       0.0      0.0     entailment  \n",
       "96       0.0      0.0     entailment  \n",
       "97       0.0      0.0  contradiction  \n",
       "98       0.0      0.0  contradiction  \n",
       "99       0.0      0.0  contradiction  \n",
       "\n",
       "[100 rows x 17 columns]"
      ]
     },
     "execution_count": 78,
     "metadata": {},
     "output_type": "execute_result"
    }
   ],
   "source": [
    "dataframe = pd.read_csv(r\"indicadoresTipoPalabra_suma_CLASS.csv\")\n",
    "dataframe"
   ]
  },
  {
   "cell_type": "code",
   "execution_count": 79,
   "metadata": {},
   "outputs": [
    {
     "data": {
      "text/html": [
       "<div>\n",
       "<style scoped>\n",
       "    .dataframe tbody tr th:only-of-type {\n",
       "        vertical-align: middle;\n",
       "    }\n",
       "\n",
       "    .dataframe tbody tr th {\n",
       "        vertical-align: top;\n",
       "    }\n",
       "\n",
       "    .dataframe thead th {\n",
       "        text-align: right;\n",
       "    }\n",
       "</style>\n",
       "<table border=\"1\" class=\"dataframe\">\n",
       "  <thead>\n",
       "    <tr style=\"text-align: right;\">\n",
       "      <th></th>\n",
       "      <th>NOUN_NOUN</th>\n",
       "      <th>NOUN_ADJ</th>\n",
       "      <th>NOUN_VERB</th>\n",
       "      <th>NOUN_ADV</th>\n",
       "      <th>ADJ_NOUN</th>\n",
       "      <th>ADJ_ADJ</th>\n",
       "      <th>ADJ_VERB</th>\n",
       "      <th>ADJ_ADV</th>\n",
       "      <th>VERB_NOUN</th>\n",
       "      <th>VERB_ADJ</th>\n",
       "      <th>VERB_VERB</th>\n",
       "      <th>VERB_ADV</th>\n",
       "      <th>ADV_NOUN</th>\n",
       "      <th>ADV_ADJ</th>\n",
       "      <th>ADV_VERB</th>\n",
       "      <th>ADV_ADV</th>\n",
       "    </tr>\n",
       "  </thead>\n",
       "  <tbody>\n",
       "    <tr>\n",
       "      <th>count</th>\n",
       "      <td>100.000000</td>\n",
       "      <td>100.000000</td>\n",
       "      <td>100.000000</td>\n",
       "      <td>100.000000</td>\n",
       "      <td>100.000000</td>\n",
       "      <td>100.000000</td>\n",
       "      <td>100.000000</td>\n",
       "      <td>100.000000</td>\n",
       "      <td>100.000000</td>\n",
       "      <td>100.000000</td>\n",
       "      <td>100.000000</td>\n",
       "      <td>100.000000</td>\n",
       "      <td>100.000000</td>\n",
       "      <td>100.000000</td>\n",
       "      <td>100.000000</td>\n",
       "      <td>100.000000</td>\n",
       "    </tr>\n",
       "    <tr>\n",
       "      <th>mean</th>\n",
       "      <td>1.881990</td>\n",
       "      <td>0.058599</td>\n",
       "      <td>0.164600</td>\n",
       "      <td>0.082751</td>\n",
       "      <td>0.506549</td>\n",
       "      <td>0.125585</td>\n",
       "      <td>0.051362</td>\n",
       "      <td>0.052191</td>\n",
       "      <td>0.348631</td>\n",
       "      <td>0.047858</td>\n",
       "      <td>0.446970</td>\n",
       "      <td>0.029931</td>\n",
       "      <td>0.041809</td>\n",
       "      <td>0.002313</td>\n",
       "      <td>0.013680</td>\n",
       "      <td>0.012051</td>\n",
       "    </tr>\n",
       "    <tr>\n",
       "      <th>std</th>\n",
       "      <td>0.949409</td>\n",
       "      <td>0.187344</td>\n",
       "      <td>0.467801</td>\n",
       "      <td>0.313345</td>\n",
       "      <td>0.538999</td>\n",
       "      <td>0.300875</td>\n",
       "      <td>0.254913</td>\n",
       "      <td>0.224003</td>\n",
       "      <td>0.460627</td>\n",
       "      <td>0.153219</td>\n",
       "      <td>0.553401</td>\n",
       "      <td>0.143291</td>\n",
       "      <td>0.153656</td>\n",
       "      <td>0.023125</td>\n",
       "      <td>0.076325</td>\n",
       "      <td>0.100842</td>\n",
       "    </tr>\n",
       "    <tr>\n",
       "      <th>min</th>\n",
       "      <td>0.000000</td>\n",
       "      <td>0.000000</td>\n",
       "      <td>0.000000</td>\n",
       "      <td>0.000000</td>\n",
       "      <td>0.000000</td>\n",
       "      <td>0.000000</td>\n",
       "      <td>0.000000</td>\n",
       "      <td>0.000000</td>\n",
       "      <td>0.000000</td>\n",
       "      <td>0.000000</td>\n",
       "      <td>0.000000</td>\n",
       "      <td>0.000000</td>\n",
       "      <td>0.000000</td>\n",
       "      <td>0.000000</td>\n",
       "      <td>0.000000</td>\n",
       "      <td>0.000000</td>\n",
       "    </tr>\n",
       "    <tr>\n",
       "      <th>25%</th>\n",
       "      <td>1.248608</td>\n",
       "      <td>0.000000</td>\n",
       "      <td>0.000000</td>\n",
       "      <td>0.000000</td>\n",
       "      <td>0.000000</td>\n",
       "      <td>0.000000</td>\n",
       "      <td>0.000000</td>\n",
       "      <td>0.000000</td>\n",
       "      <td>0.000000</td>\n",
       "      <td>0.000000</td>\n",
       "      <td>0.000000</td>\n",
       "      <td>0.000000</td>\n",
       "      <td>0.000000</td>\n",
       "      <td>0.000000</td>\n",
       "      <td>0.000000</td>\n",
       "      <td>0.000000</td>\n",
       "    </tr>\n",
       "    <tr>\n",
       "      <th>50%</th>\n",
       "      <td>1.711361</td>\n",
       "      <td>0.000000</td>\n",
       "      <td>0.000000</td>\n",
       "      <td>0.000000</td>\n",
       "      <td>0.399078</td>\n",
       "      <td>0.000000</td>\n",
       "      <td>0.000000</td>\n",
       "      <td>0.000000</td>\n",
       "      <td>0.239174</td>\n",
       "      <td>0.000000</td>\n",
       "      <td>0.337143</td>\n",
       "      <td>0.000000</td>\n",
       "      <td>0.000000</td>\n",
       "      <td>0.000000</td>\n",
       "      <td>0.000000</td>\n",
       "      <td>0.000000</td>\n",
       "    </tr>\n",
       "    <tr>\n",
       "      <th>75%</th>\n",
       "      <td>2.358077</td>\n",
       "      <td>0.000000</td>\n",
       "      <td>0.000000</td>\n",
       "      <td>0.000000</td>\n",
       "      <td>0.759413</td>\n",
       "      <td>0.000000</td>\n",
       "      <td>0.000000</td>\n",
       "      <td>0.000000</td>\n",
       "      <td>0.464630</td>\n",
       "      <td>0.000000</td>\n",
       "      <td>0.686612</td>\n",
       "      <td>0.000000</td>\n",
       "      <td>0.000000</td>\n",
       "      <td>0.000000</td>\n",
       "      <td>0.000000</td>\n",
       "      <td>0.000000</td>\n",
       "    </tr>\n",
       "    <tr>\n",
       "      <th>max</th>\n",
       "      <td>5.399959</td>\n",
       "      <td>0.828765</td>\n",
       "      <td>2.869047</td>\n",
       "      <td>1.902082</td>\n",
       "      <td>2.173910</td>\n",
       "      <td>1.233097</td>\n",
       "      <td>2.320341</td>\n",
       "      <td>1.417337</td>\n",
       "      <td>2.368589</td>\n",
       "      <td>0.714920</td>\n",
       "      <td>3.355250</td>\n",
       "      <td>1.029944</td>\n",
       "      <td>0.778637</td>\n",
       "      <td>0.231254</td>\n",
       "      <td>0.639196</td>\n",
       "      <td>0.986702</td>\n",
       "    </tr>\n",
       "  </tbody>\n",
       "</table>\n",
       "</div>"
      ],
      "text/plain": [
       "        NOUN_NOUN    NOUN_ADJ   NOUN_VERB    NOUN_ADV    ADJ_NOUN     ADJ_ADJ  \\\n",
       "count  100.000000  100.000000  100.000000  100.000000  100.000000  100.000000   \n",
       "mean     1.881990    0.058599    0.164600    0.082751    0.506549    0.125585   \n",
       "std      0.949409    0.187344    0.467801    0.313345    0.538999    0.300875   \n",
       "min      0.000000    0.000000    0.000000    0.000000    0.000000    0.000000   \n",
       "25%      1.248608    0.000000    0.000000    0.000000    0.000000    0.000000   \n",
       "50%      1.711361    0.000000    0.000000    0.000000    0.399078    0.000000   \n",
       "75%      2.358077    0.000000    0.000000    0.000000    0.759413    0.000000   \n",
       "max      5.399959    0.828765    2.869047    1.902082    2.173910    1.233097   \n",
       "\n",
       "         ADJ_VERB     ADJ_ADV   VERB_NOUN    VERB_ADJ   VERB_VERB    VERB_ADV  \\\n",
       "count  100.000000  100.000000  100.000000  100.000000  100.000000  100.000000   \n",
       "mean     0.051362    0.052191    0.348631    0.047858    0.446970    0.029931   \n",
       "std      0.254913    0.224003    0.460627    0.153219    0.553401    0.143291   \n",
       "min      0.000000    0.000000    0.000000    0.000000    0.000000    0.000000   \n",
       "25%      0.000000    0.000000    0.000000    0.000000    0.000000    0.000000   \n",
       "50%      0.000000    0.000000    0.239174    0.000000    0.337143    0.000000   \n",
       "75%      0.000000    0.000000    0.464630    0.000000    0.686612    0.000000   \n",
       "max      2.320341    1.417337    2.368589    0.714920    3.355250    1.029944   \n",
       "\n",
       "         ADV_NOUN     ADV_ADJ    ADV_VERB     ADV_ADV  \n",
       "count  100.000000  100.000000  100.000000  100.000000  \n",
       "mean     0.041809    0.002313    0.013680    0.012051  \n",
       "std      0.153656    0.023125    0.076325    0.100842  \n",
       "min      0.000000    0.000000    0.000000    0.000000  \n",
       "25%      0.000000    0.000000    0.000000    0.000000  \n",
       "50%      0.000000    0.000000    0.000000    0.000000  \n",
       "75%      0.000000    0.000000    0.000000    0.000000  \n",
       "max      0.778637    0.231254    0.639196    0.986702  "
      ]
     },
     "execution_count": 79,
     "metadata": {},
     "output_type": "execute_result"
    }
   ],
   "source": [
    "dataframe.describe()"
   ]
  },
  {
   "cell_type": "code",
   "execution_count": 80,
   "metadata": {},
   "outputs": [
    {
     "name": "stdout",
     "output_type": "stream",
     "text": [
      "CLASS\n",
      "contradiction    27\n",
      "entailment       42\n",
      "neutral          31\n",
      "dtype: int64\n"
     ]
    }
   ],
   "source": [
    "print(dataframe.groupby('CLASS').size())"
   ]
  },
  {
   "cell_type": "code",
   "execution_count": 81,
   "metadata": {},
   "outputs": [
    {
     "data": {
      "image/png": "[encoded data removed]",
      "text/plain": [
       "<Figure size 2000x1000 with 16 Axes>"
      ]
     },
     "metadata": {},
     "output_type": "display_data"
    }
   ],
   "source": [
    "dataframe.hist(figsize=(20,10))\n",
    "plt.show()"
   ]
  },
  {
   "cell_type": "code",
   "execution_count": 82,
   "metadata": {},
   "outputs": [],
   "source": [
    "labels=['NOUN_NOUN',\n",
    " 'NOUN_ADJ',\n",
    " 'NOUN_VERB',\n",
    " 'NOUN_ADV',\n",
    " 'ADJ_NOUN',\n",
    " 'ADJ_ADJ',\n",
    " 'ADJ_VERB',\n",
    " 'ADJ_ADV',\n",
    " 'VERB_NOUN',\n",
    " 'VERB_ADJ',\n",
    " 'VERB_VERB',\n",
    " 'VERB_ADV',\n",
    " 'ADV_NOUN',\n",
    " 'ADV_ADJ',\n",
    " 'ADV_VERB',\n",
    " 'ADV_ADV']"
   ]
  },
  {
   "cell_type": "code",
   "execution_count": 83,
   "metadata": {},
   "outputs": [],
   "source": [
    "#sb.pairplot(dataframe.dropna(), hue='CLASS',size=4,vars=labels,kind='reg')"
   ]
  },
  {
   "cell_type": "code",
   "execution_count": 84,
   "metadata": {},
   "outputs": [
    {
     "name": "stderr",
     "output_type": "stream",
     "text": [
      "C:\\Users\\Ninja\\AppData\\Local\\Temp\\ipykernel_23456\\1802400925.py:1: FutureWarning: In a future version of pandas all arguments of DataFrame.drop except for the argument 'labels' will be keyword-only.\n",
      "  X = np.array(dataframe.drop(['CLASS'],1))\n",
      "C:\\Users\\Ninja\\AppData\\Local\\Temp\\ipykernel_23456\\1802400925.py:2: FutureWarning: In a future version of pandas all arguments of DataFrame.drop except for the argument 'labels' will be keyword-only.\n",
      "  X_test = np.array(dataframe.drop(['CLASS'],1))\n"
     ]
    },
    {
     "data": {
      "text/plain": [
       "(100, 16)"
      ]
     },
     "execution_count": 84,
     "metadata": {},
     "output_type": "execute_result"
    }
   ],
   "source": [
    "X = np.array(dataframe.drop(['CLASS'],1))\n",
    "X_test = np.array(dataframe.drop(['CLASS'],1))\n",
    "y = np.array(dataframe['CLASS'])\n",
    "y_test =np.array(dataframe['CLASS'])\n",
    "X.shape"
   ]
  },
  {
   "cell_type": "code",
   "execution_count": 85,
   "metadata": {},
   "outputs": [
    {
     "data": {
      "text/plain": [
       "array(['entailment', 'entailment', 'contradiction', 'contradiction',\n",
       "       'neutral', 'neutral', 'neutral', 'entailment', 'neutral',\n",
       "       'entailment', 'neutral', 'contradiction', 'entailment',\n",
       "       'contradiction', 'neutral', 'neutral', 'entailment',\n",
       "       'contradiction', 'contradiction', 'entailment', 'entailment',\n",
       "       'entailment', 'neutral', 'contradiction', 'entailment', 'neutral',\n",
       "       'entailment', 'entailment', 'entailment', 'neutral', 'neutral',\n",
       "       'contradiction', 'contradiction', 'entailment', 'contradiction',\n",
       "       'neutral', 'entailment', 'neutral', 'neutral', 'entailment',\n",
       "       'neutral', 'neutral', 'contradiction', 'neutral', 'entailment',\n",
       "       'neutral', 'neutral', 'entailment', 'contradiction', 'neutral',\n",
       "       'entailment', 'entailment', 'neutral', 'entailment',\n",
       "       'contradiction', 'entailment', 'entailment', 'neutral', 'neutral',\n",
       "       'neutral', 'neutral', 'neutral', 'neutral', 'entailment',\n",
       "       'entailment', 'contradiction', 'entailment', 'entailment',\n",
       "       'neutral', 'contradiction', 'entailment', 'contradiction',\n",
       "       'contradiction', 'contradiction', 'neutral', 'entailment',\n",
       "       'entailment', 'entailment', 'entailment', 'contradiction',\n",
       "       'neutral', 'entailment', 'entailment', 'entailment',\n",
       "       'contradiction', 'entailment', 'entailment', 'entailment',\n",
       "       'contradiction', 'contradiction', 'contradiction', 'neutral',\n",
       "       'entailment', 'entailment', 'contradiction', 'entailment',\n",
       "       'entailment', 'contradiction', 'contradiction', 'contradiction'],\n",
       "      dtype=object)"
      ]
     },
     "execution_count": 85,
     "metadata": {},
     "output_type": "execute_result"
    }
   ],
   "source": [
    "y_test"
   ]
  },
  {
   "cell_type": "code",
   "execution_count": 86,
   "metadata": {},
   "outputs": [
    {
     "data": {
      "text/plain": [
       "array(['entailment', 'entailment', 'contradiction', 'contradiction',\n",
       "       'neutral', 'neutral', 'neutral', 'entailment', 'neutral',\n",
       "       'entailment', 'neutral', 'contradiction', 'entailment',\n",
       "       'contradiction', 'neutral', 'neutral', 'entailment',\n",
       "       'contradiction', 'contradiction', 'entailment', 'entailment',\n",
       "       'entailment', 'neutral', 'contradiction', 'entailment', 'neutral',\n",
       "       'entailment', 'entailment', 'entailment', 'neutral', 'neutral',\n",
       "       'contradiction', 'contradiction', 'entailment', 'contradiction',\n",
       "       'neutral', 'entailment', 'neutral', 'neutral', 'entailment',\n",
       "       'neutral', 'neutral', 'contradiction', 'neutral', 'entailment',\n",
       "       'neutral', 'neutral', 'entailment', 'contradiction', 'neutral',\n",
       "       'entailment', 'entailment', 'neutral', 'entailment',\n",
       "       'contradiction', 'entailment', 'entailment', 'neutral', 'neutral',\n",
       "       'neutral', 'neutral', 'neutral', 'neutral', 'entailment',\n",
       "       'entailment', 'contradiction', 'entailment', 'entailment',\n",
       "       'neutral', 'contradiction', 'entailment', 'contradiction',\n",
       "       'contradiction', 'contradiction', 'neutral', 'entailment',\n",
       "       'entailment', 'entailment', 'entailment', 'contradiction',\n",
       "       'neutral', 'entailment', 'entailment', 'entailment',\n",
       "       'contradiction', 'entailment', 'entailment', 'entailment',\n",
       "       'contradiction', 'contradiction', 'contradiction', 'neutral',\n",
       "       'entailment', 'entailment', 'contradiction', 'entailment',\n",
       "       'entailment', 'contradiction', 'contradiction', 'contradiction'],\n",
       "      dtype=object)"
      ]
     },
     "execution_count": 86,
     "metadata": {},
     "output_type": "execute_result"
    }
   ],
   "source": [
    "y"
   ]
  },
  {
   "cell_type": "code",
   "execution_count": 87,
   "metadata": {},
   "outputs": [
    {
     "data": {
      "text/plain": [
       "LogisticRegression(C=0.1)"
      ]
     },
     "execution_count": 87,
     "metadata": {},
     "output_type": "execute_result"
    }
   ],
   "source": [
    "model = linear_model.LogisticRegression(penalty=\"l2\", C=0.1)\n",
    "model.fit(X,y)"
   ]
  },
  {
   "cell_type": "code",
   "execution_count": 88,
   "metadata": {},
   "outputs": [
    {
     "data": {
      "text/plain": [
       "{'C': 0.1,\n",
       " 'class_weight': None,\n",
       " 'dual': False,\n",
       " 'fit_intercept': True,\n",
       " 'intercept_scaling': 1,\n",
       " 'l1_ratio': None,\n",
       " 'max_iter': 100,\n",
       " 'multi_class': 'auto',\n",
       " 'n_jobs': None,\n",
       " 'penalty': 'l2',\n",
       " 'random_state': None,\n",
       " 'solver': 'lbfgs',\n",
       " 'tol': 0.0001,\n",
       " 'verbose': 0,\n",
       " 'warm_start': False}"
      ]
     },
     "execution_count": 88,
     "metadata": {},
     "output_type": "execute_result"
    }
   ],
   "source": [
    "model.get_params()"
   ]
  },
  {
   "cell_type": "code",
   "execution_count": 89,
   "metadata": {},
   "outputs": [
    {
     "data": {
      "text/plain": [
       "array([[-1.15386648e-01,  2.80313569e-01, -1.64926921e-01],\n",
       "       [-2.07725295e-01,  8.57165529e-02,  1.22008742e-01],\n",
       "       [-1.09172915e-01,  4.38701242e-01, -3.29528327e-01],\n",
       "       [-1.57390029e-02,  6.42958999e-01, -6.27219996e-01],\n",
       "       [-1.49853737e-01,  3.38870353e-02,  1.15966702e-01],\n",
       "       [ 9.44280558e-02,  2.40817021e-01, -3.35245077e-01],\n",
       "       [-2.11099880e-01,  1.98401129e-01,  1.26987506e-02],\n",
       "       [-2.94755864e-01,  1.05792333e-01,  1.88963531e-01],\n",
       "       [-3.61437923e-01,  1.54098849e-01,  2.07339074e-01],\n",
       "       [ 8.80041581e-02,  1.69182041e-01, -2.57186199e-01],\n",
       "       [-3.55280319e-01,  2.67863809e-02,  3.28493938e-01],\n",
       "       [-1.21684175e-01,  4.22512396e-01, -3.00828221e-01],\n",
       "       [-5.49280103e-01,  1.07689164e+00, -5.27611533e-01],\n",
       "       [-1.40290970e-01,  3.00490972e-01, -1.60200002e-01],\n",
       "       [-1.71173313e-01,  2.90840644e-01, -1.19667332e-01],\n",
       "       [ 4.60601503e-02, -1.12510724e-01,  6.64505734e-02],\n",
       "       [-3.09280656e-01,  1.04919504e+00, -7.39914380e-01],\n",
       "       [-1.83594386e-01, -1.96894185e-02,  2.03283804e-01],\n",
       "       [-3.48731961e-01,  2.62590336e-01,  8.61416246e-02],\n",
       "       [-1.17608526e-01,  6.89682767e-01, -5.72074241e-01],\n",
       "       [-2.19313546e-01,  4.45591359e-01, -2.26277812e-01],\n",
       "       [ 2.02331857e-01,  1.56816383e-01, -3.59148240e-01],\n",
       "       [-2.48658125e-01,  2.62759271e-01, -1.41011458e-02],\n",
       "       [-7.94346760e-02,  5.27021527e-02,  2.67325233e-02],\n",
       "       [-2.28282389e-01,  3.56220502e-01, -1.27938113e-01],\n",
       "       [-4.55708185e-01,  8.25025040e-02,  3.73205681e-01],\n",
       "       [-2.90440513e-01,  4.81565584e-01, -1.91125071e-01],\n",
       "       [-1.56131302e-01,  2.38421722e-01, -8.22904198e-02],\n",
       "       [-1.11152505e-01,  1.25766822e-02,  9.85758233e-02],\n",
       "       [ 3.00709234e-02, -3.65587882e-02,  6.48786482e-03],\n",
       "       [-3.82193637e-01,  2.36543352e-01,  1.45650284e-01],\n",
       "       [-1.82074122e-01,  2.62283831e-01, -8.02097089e-02],\n",
       "       [-1.72681897e-01,  2.53939189e-01, -8.12572919e-02],\n",
       "       [-2.55630148e-01,  1.10976608e-01,  1.44653540e-01],\n",
       "       [-2.34738663e-01,  4.14646975e-01, -1.79908312e-01],\n",
       "       [-3.47708181e-01,  3.34959863e-01,  1.27483185e-02],\n",
       "       [-7.80791220e-02,  2.47168114e-02,  5.33623106e-02],\n",
       "       [-2.65540694e-01,  2.43679949e-01,  2.18607451e-02],\n",
       "       [-1.66193864e-01,  9.07306952e-02,  7.54631684e-02],\n",
       "       [-1.69304707e-01,  4.42742665e-01, -2.73437958e-01],\n",
       "       [-3.74045097e-01, -3.20690064e-02,  4.06114103e-01],\n",
       "       [-3.61577480e-01,  1.93050946e-01,  1.68526534e-01],\n",
       "       [-1.06301273e-01, -9.13822046e-02,  1.97683477e-01],\n",
       "       [-2.85516602e-01,  3.98156945e-01, -1.12640343e-01],\n",
       "       [-3.59254439e-01,  6.92833131e-01, -3.33578692e-01],\n",
       "       [-9.23861891e-02,  2.00892886e-01, -1.08506697e-01],\n",
       "       [-2.55014397e-01,  1.12318694e-01,  1.42695703e-01],\n",
       "       [-3.28478063e-01,  5.49156771e-01, -2.20678708e-01],\n",
       "       [ 4.14855084e-01, -1.51156861e-01, -2.63698223e-01],\n",
       "       [-1.21058419e-01, -4.66204990e-02,  1.67678918e-01],\n",
       "       [-9.79114284e-02,  3.52227333e-01, -2.54315904e-01],\n",
       "       [-2.87980140e-01,  3.45166906e-01, -5.71867658e-02],\n",
       "       [-1.09221249e-01,  1.72780588e-02,  9.19431899e-02],\n",
       "       [-8.24433997e-02,  2.78425970e-01, -1.95982570e-01],\n",
       "       [-2.69109766e-01,  1.96522832e-01,  7.25869337e-02],\n",
       "       [-8.88112908e-02,  3.20081493e-01, -2.31270202e-01],\n",
       "       [-2.66039612e-01,  1.58682182e-02,  2.50171393e-01],\n",
       "       [-2.23039371e-01,  4.61357766e-02,  1.76903595e-01],\n",
       "       [-1.44605648e-01, -5.48147990e-02,  1.99420447e-01],\n",
       "       [-3.07102447e-01,  5.26755339e-01, -2.19652892e-01],\n",
       "       [-8.40066343e-02,  8.20899473e-02,  1.91668699e-03],\n",
       "       [-1.41941127e-01,  7.56086112e-02,  6.63325157e-02],\n",
       "       [-2.26499991e-01,  3.83670270e-01, -1.57170279e-01],\n",
       "       [-2.83724210e-01,  4.40707702e-01, -1.56983492e-01],\n",
       "       [-5.19037462e-01,  2.92961029e-01,  2.26076433e-01],\n",
       "       [-2.36946159e-01,  1.48068353e-01,  8.88778057e-02],\n",
       "       [-2.52024495e-01,  6.54200107e-01, -4.02175612e-01],\n",
       "       [-1.13593321e-01,  2.89579002e-01, -1.75985681e-01],\n",
       "       [ 5.12297230e-02,  2.66513645e-01, -3.17743368e-01],\n",
       "       [ 7.45931540e-02, -2.25446067e-03, -7.23386933e-02],\n",
       "       [-2.86756472e-01,  6.45996423e-01, -3.59239951e-01],\n",
       "       [-4.87479136e-02,  4.44256237e-01, -3.95508323e-01],\n",
       "       [-1.38018140e-01,  1.55577665e-01, -1.75595247e-02],\n",
       "       [-2.39089005e-01,  1.55750123e-01,  8.33388816e-02],\n",
       "       [-5.17511477e-02, -4.43125716e-02,  9.60637193e-02],\n",
       "       [-5.00985220e-01,  2.86868298e-01,  2.14116922e-01],\n",
       "       [-4.45243254e-01,  7.53025739e-01, -3.07782484e-01],\n",
       "       [-2.51021258e-01,  3.11219603e-01, -6.01983444e-02],\n",
       "       [-4.30352329e-01,  7.86346025e-01, -3.55993696e-01],\n",
       "       [-7.03659528e-02,  1.68400778e-01, -9.80348256e-02],\n",
       "       [-2.37396649e-01,  2.78095221e-01, -4.06985717e-02],\n",
       "       [-2.59593476e-01,  6.62811051e-01, -4.03217575e-01],\n",
       "       [-2.74943785e-01,  6.30733336e-01, -3.55789551e-01],\n",
       "       [-2.66779643e-01,  4.10957062e-01, -1.44177420e-01],\n",
       "       [-2.52540543e-01,  2.53320643e-01, -7.80099651e-04],\n",
       "       [-1.36726868e-01,  7.21978496e-02,  6.45290188e-02],\n",
       "       [-1.05150102e-01,  1.66729252e-02,  8.84771769e-02],\n",
       "       [-1.08834094e-01,  2.25352687e-01, -1.16518593e-01],\n",
       "       [-1.88182632e-01,  3.17306487e-01, -1.29123855e-01],\n",
       "       [-7.65657594e-02, -8.01096940e-02,  1.56675453e-01],\n",
       "       [-1.85340663e-01,  1.30785974e-01,  5.45546888e-02],\n",
       "       [-1.34674771e-01,  6.04968999e-02,  7.41778708e-02],\n",
       "       [ 2.60147318e-02, -4.40648931e-02,  1.80501614e-02],\n",
       "       [-1.34156112e-01, -1.61292862e-02,  1.50285398e-01],\n",
       "       [-1.09786242e-01,  7.49375596e-02,  3.48486828e-02],\n",
       "       [-4.53945535e-01,  3.91306363e-01,  6.26391725e-02],\n",
       "       [-2.73326907e-01,  3.16069457e-01, -4.27425500e-02],\n",
       "       [-2.95449045e-01,  4.33275595e-01, -1.37826550e-01],\n",
       "       [-8.66921454e-02, -8.67330882e-02,  1.73425234e-01],\n",
       "       [ 9.43703666e-02,  1.91238422e-02, -1.13494209e-01]])"
      ]
     },
     "execution_count": 89,
     "metadata": {},
     "output_type": "execute_result"
    }
   ],
   "source": [
    "model.decision_function(X)"
   ]
  },
  {
   "cell_type": "code",
   "execution_count": 90,
   "metadata": {},
   "outputs": [],
   "source": [
    "labels=['NOUN_NOUN',\n",
    " 'NOUN_ADJ',\n",
    " 'NOUN_VERB',\n",
    " 'NOUN_ADV',\n",
    " 'ADJ_NOUN',\n",
    " 'ADJ_ADJ',\n",
    " 'ADJ_VERB',\n",
    " 'ADJ_ADV',\n",
    " 'VERB_NOUN',\n",
    " 'VERB_ADJ',\n",
    " 'VERB_VERB',\n",
    " 'VERB_ADV',\n",
    " 'ADV_NOUN',\n",
    " 'ADV_ADJ',\n",
    " 'ADV_VERB',\n",
    " 'ADV_ADV']"
   ]
  },
  {
   "cell_type": "code",
   "execution_count": 91,
   "metadata": {},
   "outputs": [
    {
     "data": {
      "text/plain": [
       "array(['contradiction', 'entailment', 'neutral'], dtype=object)"
      ]
     },
     "execution_count": 91,
     "metadata": {},
     "output_type": "execute_result"
    }
   ],
   "source": [
    "model.classes_"
   ]
  },
  {
   "cell_type": "code",
   "execution_count": 92,
   "metadata": {},
   "outputs": [],
   "source": [
    "contradiction=model.coef_[0]\n",
    "entailment=model.coef_[1]\n",
    "neutral=model.coef_[2]"
   ]
  },
  {
   "cell_type": "code",
   "execution_count": 93,
   "metadata": {},
   "outputs": [
    {
     "name": "stdout",
     "output_type": "stream",
     "text": [
      "Contradiction  8 VERB_NOUN 5 ADJ_ADJ\n",
      "Entailment  10 VERB_VERB 8 VERB_NOUN\n",
      "Neutral  1 NOUN_ADJ 10 VERB_VERB\n"
     ]
    }
   ],
   "source": [
    "print(\"Contradiction \",np.argmax(contradiction),labels[np.argmax(contradiction)],np.argmin(contradiction),labels[np.argmin(contradiction)])\n",
    "print(\"Entailment \",np.argmax(entailment),labels[np.argmax(entailment)],np.argmin(entailment),labels[np.argmin(entailment)])\n",
    "print(\"Neutral \",np.argmax(neutral),labels[np.argmax(neutral)],np.argmin(neutral),labels[np.argmin(neutral)])"
   ]
  },
  {
   "cell_type": "code",
   "execution_count": 94,
   "metadata": {},
   "outputs": [
    {
     "data": {
      "image/png": "[encoded data removed]",
      "text/plain": [
       "<Figure size 640x480 with 1 Axes>"
      ]
     },
     "metadata": {},
     "output_type": "display_data"
    }
   ],
   "source": [
    "import matplotlib.pyplot as plt\n",
    "import numpy as np\n",
    "\n",
    "x_v = np.arange(0,16,1)\n",
    "y_v = contradiction\n",
    "\n",
    "plt.bar(x_v,y_v)\n",
    "plt.xlabel('x')\n",
    "plt.ylabel('y')\n",
    "plt.title('Contradiction')\n",
    "plt.show()"
   ]
  },
  {
   "cell_type": "code",
   "execution_count": 95,
   "metadata": {},
   "outputs": [
    {
     "data": {
      "image/png": "[encoded data removed]",
      "text/plain": [
       "<Figure size 640x480 with 1 Axes>"
      ]
     },
     "metadata": {},
     "output_type": "display_data"
    }
   ],
   "source": [
    "x_v = np.arange(0,16,1)\n",
    "y_v = entailment\n",
    "\n",
    "plt.bar(x_v,y_v)\n",
    "plt.xlabel('x')\n",
    "plt.ylabel('y')\n",
    "plt.title('Entailment')\n",
    "plt.show()"
   ]
  },
  {
   "cell_type": "code",
   "execution_count": 96,
   "metadata": {},
   "outputs": [
    {
     "data": {
      "image/png": "[encoded data removed]",
      "text/plain": [
       "<Figure size 640x480 with 1 Axes>"
      ]
     },
     "metadata": {},
     "output_type": "display_data"
    }
   ],
   "source": [
    "x_v = np.arange(0,16,1)\n",
    "y_v = neutral\n",
    "\n",
    "plt.bar(x_v,y_v)\n",
    "plt.xlabel('x')\n",
    "plt.ylabel('y')\n",
    "plt.title('Neutral')\n",
    "plt.show()"
   ]
  },
  {
   "cell_type": "code",
   "execution_count": 97,
   "metadata": {},
   "outputs": [
    {
     "name": "stdout",
     "output_type": "stream",
     "text": [
      "['entailment' 'neutral' 'entailment' 'entailment' 'neutral' 'entailment'\n",
      " 'entailment' 'neutral' 'neutral' 'entailment' 'neutral' 'entailment'\n",
      " 'entailment' 'entailment' 'entailment' 'neutral' 'entailment' 'neutral'\n",
      " 'entailment' 'entailment' 'entailment' 'contradiction' 'entailment'\n",
      " 'entailment' 'entailment' 'neutral' 'entailment' 'entailment' 'neutral'\n",
      " 'contradiction' 'entailment' 'entailment' 'entailment' 'neutral'\n",
      " 'entailment' 'entailment' 'neutral' 'entailment' 'entailment'\n",
      " 'entailment' 'neutral' 'entailment' 'neutral' 'entailment' 'entailment'\n",
      " 'entailment' 'neutral' 'entailment' 'contradiction' 'neutral'\n",
      " 'entailment' 'entailment' 'neutral' 'entailment' 'entailment'\n",
      " 'entailment' 'neutral' 'neutral' 'neutral' 'entailment' 'entailment'\n",
      " 'entailment' 'entailment' 'entailment' 'entailment' 'entailment'\n",
      " 'entailment' 'entailment' 'entailment' 'contradiction' 'entailment'\n",
      " 'entailment' 'entailment' 'entailment' 'neutral' 'entailment'\n",
      " 'entailment' 'entailment' 'entailment' 'entailment' 'entailment'\n",
      " 'entailment' 'entailment' 'entailment' 'entailment' 'entailment'\n",
      " 'neutral' 'entailment' 'entailment' 'neutral' 'entailment' 'neutral'\n",
      " 'contradiction' 'neutral' 'entailment' 'entailment' 'entailment'\n",
      " 'entailment' 'neutral' 'contradiction']\n"
     ]
    }
   ],
   "source": [
    "predictions = model.predict(X)\n",
    "print(predictions)"
   ]
  },
  {
   "cell_type": "code",
   "execution_count": 98,
   "metadata": {},
   "outputs": [
    {
     "data": {
      "text/plain": [
       "array(['entailment', 'entailment', 'contradiction', 'contradiction',\n",
       "       'neutral', 'neutral', 'neutral', 'entailment', 'neutral',\n",
       "       'entailment', 'neutral', 'contradiction', 'entailment',\n",
       "       'contradiction', 'neutral', 'neutral', 'entailment',\n",
       "       'contradiction', 'contradiction', 'entailment', 'entailment',\n",
       "       'entailment', 'neutral', 'contradiction', 'entailment', 'neutral',\n",
       "       'entailment', 'entailment', 'entailment', 'neutral', 'neutral',\n",
       "       'contradiction', 'contradiction', 'entailment', 'contradiction',\n",
       "       'neutral', 'entailment', 'neutral', 'neutral', 'entailment',\n",
       "       'neutral', 'neutral', 'contradiction', 'neutral', 'entailment',\n",
       "       'neutral', 'neutral', 'entailment', 'contradiction', 'neutral',\n",
       "       'entailment', 'entailment', 'neutral', 'entailment',\n",
       "       'contradiction', 'entailment', 'entailment', 'neutral', 'neutral',\n",
       "       'neutral', 'neutral', 'neutral', 'neutral', 'entailment',\n",
       "       'entailment', 'contradiction', 'entailment', 'entailment',\n",
       "       'neutral', 'contradiction', 'entailment', 'contradiction',\n",
       "       'contradiction', 'contradiction', 'neutral', 'entailment',\n",
       "       'entailment', 'entailment', 'entailment', 'contradiction',\n",
       "       'neutral', 'entailment', 'entailment', 'entailment',\n",
       "       'contradiction', 'entailment', 'entailment', 'entailment',\n",
       "       'contradiction', 'contradiction', 'contradiction', 'neutral',\n",
       "       'entailment', 'entailment', 'contradiction', 'entailment',\n",
       "       'entailment', 'contradiction', 'contradiction', 'contradiction'],\n",
       "      dtype=object)"
      ]
     },
     "execution_count": 98,
     "metadata": {},
     "output_type": "execute_result"
    }
   ],
   "source": [
    "y"
   ]
  },
  {
   "cell_type": "code",
   "execution_count": 99,
   "metadata": {},
   "outputs": [
    {
     "data": {
      "text/plain": [
       "array([[2.54240022, 0.        , 0.        , ..., 0.        , 0.        ,\n",
       "        0.        ],\n",
       "       [2.35679286, 0.        , 0.        , ..., 0.        , 0.        ,\n",
       "        0.        ],\n",
       "       [3.28162732, 0.        , 0.        , ..., 0.        , 0.        ,\n",
       "        0.        ],\n",
       "       ...,\n",
       "       [1.0554299 , 0.        , 0.64139593, ..., 0.        , 0.        ,\n",
       "        0.        ],\n",
       "       [1.33989195, 0.        , 0.        , ..., 0.        , 0.        ,\n",
       "        0.        ],\n",
       "       [2.42804723, 0.        , 0.        , ..., 0.        , 0.        ,\n",
       "        0.        ]])"
      ]
     },
     "execution_count": 99,
     "metadata": {},
     "output_type": "execute_result"
    }
   ],
   "source": [
    "X"
   ]
  },
  {
   "cell_type": "code",
   "execution_count": 100,
   "metadata": {},
   "outputs": [
    {
     "data": {
      "text/plain": [
       "0.48"
      ]
     },
     "execution_count": 100,
     "metadata": {},
     "output_type": "execute_result"
    }
   ],
   "source": [
    "model.score(X,y)"
   ]
  },
  {
   "cell_type": "code",
   "execution_count": 209,
   "metadata": {},
   "outputs": [],
   "source": [
    "validation_size = 0.10\n",
    "seed = 7\n",
    "X_train, X_validation, Y_train, Y_validation = model_selection.train_test_split(X, y, test_size=validation_size)"
   ]
  },
  {
   "cell_type": "code",
   "execution_count": 210,
   "metadata": {},
   "outputs": [
    {
     "name": "stdout",
     "output_type": "stream",
     "text": [
      "Logistic Regression: 0.411111 (0.157527)\n"
     ]
    }
   ],
   "source": [
    "name='Logistic Regression'\n",
    "kfold = model_selection.KFold(n_splits=10)\n",
    "cv_results = model_selection.cross_val_score(model, X_train, Y_train, cv=kfold, scoring='accuracy')\n",
    "msg = \"%s: %f (%f)\" % (name, cv_results.mean(), cv_results.std())\n",
    "print(msg)"
   ]
  },
  {
   "cell_type": "code",
   "execution_count": 211,
   "metadata": {},
   "outputs": [
    {
     "name": "stdout",
     "output_type": "stream",
     "text": [
      "0.4\n"
     ]
    }
   ],
   "source": [
    "predictions = model.predict(X_validation)\n",
    "print(accuracy_score(Y_validation, predictions))"
   ]
  },
  {
   "cell_type": "code",
   "execution_count": 212,
   "metadata": {},
   "outputs": [
    {
     "name": "stdout",
     "output_type": "stream",
     "text": [
      "[[0 2 0]\n",
      " [0 4 0]\n",
      " [0 4 0]]\n"
     ]
    }
   ],
   "source": [
    "print(confusion_matrix(Y_validation, predictions))"
   ]
  },
  {
   "cell_type": "code",
   "execution_count": 213,
   "metadata": {},
   "outputs": [
    {
     "name": "stdout",
     "output_type": "stream",
     "text": [
      "               precision    recall  f1-score   support\n",
      "\n",
      "contradiction       0.00      0.00      0.00         2\n",
      "   entailment       0.40      1.00      0.57         4\n",
      "      neutral       0.00      0.00      0.00         4\n",
      "\n",
      "     accuracy                           0.40        10\n",
      "    macro avg       0.13      0.33      0.19        10\n",
      " weighted avg       0.16      0.40      0.23        10\n",
      "\n"
     ]
    },
    {
     "name": "stderr",
     "output_type": "stream",
     "text": [
      "c:\\Users\\Ninja\\anaconda3\\lib\\site-packages\\sklearn\\metrics\\_classification.py:1318: UndefinedMetricWarning: Precision and F-score are ill-defined and being set to 0.0 in labels with no predicted samples. Use `zero_division` parameter to control this behavior.\n",
      "  _warn_prf(average, modifier, msg_start, len(result))\n",
      "c:\\Users\\Ninja\\anaconda3\\lib\\site-packages\\sklearn\\metrics\\_classification.py:1318: UndefinedMetricWarning: Precision and F-score are ill-defined and being set to 0.0 in labels with no predicted samples. Use `zero_division` parameter to control this behavior.\n",
      "  _warn_prf(average, modifier, msg_start, len(result))\n",
      "c:\\Users\\Ninja\\anaconda3\\lib\\site-packages\\sklearn\\metrics\\_classification.py:1318: UndefinedMetricWarning: Precision and F-score are ill-defined and being set to 0.0 in labels with no predicted samples. Use `zero_division` parameter to control this behavior.\n",
      "  _warn_prf(average, modifier, msg_start, len(result))\n"
     ]
    }
   ],
   "source": [
    "print(classification_report(Y_validation, predictions))"
   ]
  },
  {
   "cell_type": "code",
   "execution_count": 214,
   "metadata": {},
   "outputs": [],
   "source": [
    "#X_new = pd.DataFrame()\n",
    "#model.predict(X_new)"
   ]
  }
 ],
 "metadata": {
  "kernelspec": {
   "display_name": "Python 3",
   "language": "python",
   "name": "python3"
  },
  "language_info": {
   "codemirror_mode": {
    "name": "ipython",
    "version": 3
   },
   "file_extension": ".py",
   "mimetype": "text/x-python",
   "name": "python",
   "nbconvert_exporter": "python",
   "pygments_lexer": "ipython3",
   "version": "3.9.13"
  }
 },
 "nbformat": 4,
 "nbformat_minor": 2
}
