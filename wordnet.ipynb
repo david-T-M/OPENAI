{
 "cells": [
  {
   "cell_type": "code",
   "execution_count": 1,
   "metadata": {},
   "outputs": [],
   "source": [
    "import nltk, re, os\n",
    "from nltk.corpus import wordnet as wn"
   ]
  },
  {
   "cell_type": "markdown",
   "metadata": {},
   "source": [
    "# prueba de medidas de una librería de github"
   ]
  },
  {
   "cell_type": "code",
   "execution_count": 2,
   "metadata": {},
   "outputs": [],
   "source": [
    "import wordnet_t"
   ]
  },
  {
   "cell_type": "code",
   "execution_count": 23,
   "metadata": {},
   "outputs": [
    {
     "name": "stdout",
     "output_type": "stream",
     "text": [
      "2\n"
     ]
    }
   ],
   "source": [
    "prueba=wordnet_t.WordNet(\"data/synsets.txt\", \"data/hypernyms.txt\")"
   ]
  },
  {
   "cell_type": "code",
   "execution_count": 26,
   "metadata": {},
   "outputs": [],
   "source": [
    "dog_synsets = prueba.get_synsets(\"dog\")\n",
    "cat_synsets = prueba.get_synsets(\"cat\")"
   ]
  },
  {
   "cell_type": "code",
   "execution_count": 27,
   "metadata": {},
   "outputs": [
    {
     "name": "stdout",
     "output_type": "stream",
     "text": [
      "SYNSET id : 20611; list of lemmas: andiron, firedog, dog, dog-iron; gloss: metal supports for logs in a fireplace\n",
      "\n",
      "SYNSET id : 26824; list of lemmas: cad, bounder, blackguard, dog, hound, heel; gloss: someone who is morally reprehensible\n",
      "\n",
      "SYNSET id : 35929; list of lemmas: dog; gloss: informal term for a man\n",
      "\n",
      "SYNSET id : 35930; list of lemmas: dog, domestic_dog, Canis_familiaris; gloss: a member of the genus Canis (probably descended from the common wolf) that has been domesticated by man since prehistoric times; occurs in many breeds\n",
      "\n",
      "SYNSET id : 41436; list of lemmas: frank, frankfurter, hotdog, hot_dog, dog, wiener, wienerwurst, weenie; gloss: a smooth-textured sausage of minced beef or pork usually smoked; often served on a bread roll\n",
      "\n",
      "SYNSET id : 41735; list of lemmas: frump, dog; gloss: a dull unattractive unpleasant girl or woman\n",
      "\n",
      "SYNSET id : 59573; list of lemmas: pawl, detent, click, dog; gloss: a hinged catch that fits into a notch of a ratchet to move a wheel forward or prevent it from moving backward\n",
      "\n"
     ]
    }
   ],
   "source": [
    "for a in dog_synsets:\n",
    "    print(a)"
   ]
  },
  {
   "cell_type": "code",
   "execution_count": 43,
   "metadata": {},
   "outputs": [],
   "source": [
    "cat_synsets = prueba.get_synsets(\"carnivore\")"
   ]
  },
  {
   "cell_type": "code",
   "execution_count": 52,
   "metadata": {},
   "outputs": [
    {
     "name": "stdout",
     "output_type": "stream",
     "text": [
      "SYNSET id : 35930; list of lemmas: dog, domestic_dog, Canis_familiaris; gloss: a member of the genus Canis (probably descended from the common wolf) that has been domesticated by man since prehistoric times; occurs in many breeds\n",
      "\n",
      "RELATION (35930, 27617)\n",
      "ORIGIN SYNSET id : 35930; list of lemmas: dog, domestic_dog, Canis_familiaris; gloss: a member of the genus Canis (probably descended from the common wolf) that has been domesticated by man since prehistoric times; occurs in many breeds\n",
      "DESTINATION(HYPERNYM) SYNSET id : 27617; list of lemmas: carnivore; gloss: any animal that feeds on flesh\n",
      "\n"
     ]
    }
   ],
   "source": [
    "# test print synset: 38045,eon aeon,the longest division of geological time\n",
    "origin = prueba._verticesDict['35930']\n",
    "print(origin)\n",
    "\n",
    "# test print relation: 38045,43088\n",
    "destination = prueba._verticesDict['27617']\n",
    "relation = wordnet_t.Relation(origin, destination)\n",
    "print(relation)\n"
   ]
  },
  {
   "cell_type": "code",
   "execution_count": 53,
   "metadata": {},
   "outputs": [
    {
     "name": "stdout",
     "output_type": "stream",
     "text": [
      "RELATION (35930, 27181)\n",
      "ORIGIN SYNSET id : 35930; list of lemmas: dog, domestic_dog, Canis_familiaris; gloss: a member of the genus Canis (probably descended from the common wolf) that has been domesticated by man since prehistoric times; occurs in many breeds\n",
      "DESTINATION(HYPERNYM) SYNSET id : 27181; list of lemmas: canine, canid; gloss: any of various fissiped mammals with nonretractile claws and typically long muzzles\n",
      "\n",
      "RELATION (27181, 27618)\n",
      "ORIGIN SYNSET id : 27181; list of lemmas: canine, canid; gloss: any of various fissiped mammals with nonretractile claws and typically long muzzles\n",
      "DESTINATION(HYPERNYM) SYNSET id : 27618; list of lemmas: carnivore; gloss: a terrestrial or aquatic flesh-eating mammal\n",
      "\n",
      "RELATION (27618, 61107)\n",
      "ORIGIN SYNSET id : 27618; list of lemmas: carnivore; gloss: a terrestrial or aquatic flesh-eating mammal\n",
      "DESTINATION(HYPERNYM) SYNSET id : 61107; list of lemmas: placental, placental_mammal, eutherian, eutherian_mammal; gloss: mammals having a placenta; all mammals except monotremes and marsupials\n",
      "\n",
      "RELATION (61107, 52850)\n",
      "ORIGIN SYNSET id : 61107; list of lemmas: placental, placental_mammal, eutherian, eutherian_mammal; gloss: mammals having a placenta; all mammals except monotremes and marsupials\n",
      "DESTINATION(HYPERNYM) SYNSET id : 52850; list of lemmas: mammal, mammalian; gloss: any warm-blooded vertebrate having the skin more or less covered with hair; young are born alive except for the small subclass of monotremes and nourished with milk\n",
      "\n",
      "RELATION (52850, 79358)\n",
      "ORIGIN SYNSET id : 52850; list of lemmas: mammal, mammalian; gloss: any warm-blooded vertebrate having the skin more or less covered with hair; young are born alive except for the small subclass of monotremes and nourished with milk\n",
      "DESTINATION(HYPERNYM) SYNSET id : 79358; list of lemmas: vertebrate, craniate; gloss: animals having a bony or cartilaginous skeleton with a segmented spinal column and a large brain enclosed in a skull or cranium\n",
      "\n",
      "RELATION (79358, 29183)\n",
      "ORIGIN SYNSET id : 79358; list of lemmas: vertebrate, craniate; gloss: animals having a bony or cartilaginous skeleton with a segmented spinal column and a large brain enclosed in a skull or cranium\n",
      "DESTINATION(HYPERNYM) SYNSET id : 29183; list of lemmas: chordate; gloss: any animal of the phylum Chordata having a notochord or spinal column\n",
      "\n",
      "RELATION (29183, 20737)\n",
      "ORIGIN SYNSET id : 29183; list of lemmas: chordate; gloss: any animal of the phylum Chordata having a notochord or spinal column\n",
      "DESTINATION(HYPERNYM) SYNSET id : 20737; list of lemmas: animal, animate_being, beast, brute, creature, fauna; gloss: a living organism characterized by voluntary movement\n",
      "\n",
      "RELATION (20737, 58119)\n",
      "ORIGIN SYNSET id : 20737; list of lemmas: animal, animate_being, beast, brute, creature, fauna; gloss: a living organism characterized by voluntary movement\n",
      "DESTINATION(HYPERNYM) SYNSET id : 58119; list of lemmas: organism, being; gloss: a living thing that has (or can develop) the ability to act or function independently\n",
      "\n",
      "RELATION (58119, 51772)\n",
      "ORIGIN SYNSET id : 58119; list of lemmas: organism, being; gloss: a living thing that has (or can develop) the ability to act or function independently\n",
      "DESTINATION(HYPERNYM) SYNSET id : 51772; list of lemmas: living_thing, animate_thing; gloss: a living (or once living) entity\n",
      "\n",
      "RELATION (51772, 80928)\n",
      "ORIGIN SYNSET id : 51772; list of lemmas: living_thing, animate_thing; gloss: a living (or once living) entity\n",
      "DESTINATION(HYPERNYM) SYNSET id : 80928; list of lemmas: whole, unit; gloss: an assemblage of parts that is regarded as a single entity\n",
      "\n",
      "RELATION (80928, 57288)\n",
      "ORIGIN SYNSET id : 80928; list of lemmas: whole, unit; gloss: an assemblage of parts that is regarded as a single entity\n",
      "DESTINATION(HYPERNYM) SYNSET id : 57288; list of lemmas: object, physical_object; gloss: a tangible and visible entity; an entity that can cast a shadow\n",
      "\n",
      "RELATION (57288, 60550)\n",
      "ORIGIN SYNSET id : 57288; list of lemmas: object, physical_object; gloss: a tangible and visible entity; an entity that can cast a shadow\n",
      "DESTINATION(HYPERNYM) SYNSET id : 60550; list of lemmas: physical_entity; gloss: an entity that has physical existence\n",
      "\n",
      "RELATION (60550, 37987)\n",
      "ORIGIN SYNSET id : 60550; list of lemmas: physical_entity; gloss: an entity that has physical existence\n",
      "DESTINATION(HYPERNYM) SYNSET id : 37987; list of lemmas: entity; gloss: that which is perceived or known or inferred to have its own distinct existence (living or nonliving)\n",
      "\n",
      "---------------------------------------------------------\n",
      "RELATION (35930, 36030)\n",
      "ORIGIN SYNSET id : 35930; list of lemmas: dog, domestic_dog, Canis_familiaris; gloss: a member of the genus Canis (probably descended from the common wolf) that has been domesticated by man since prehistoric times; occurs in many breeds\n",
      "DESTINATION(HYPERNYM) SYNSET id : 36030; list of lemmas: domestic_animal, domesticated_animal; gloss: any of various animals that have been tamed and made fit for a human environment\n",
      "\n",
      "RELATION (36030, 20737)\n",
      "ORIGIN SYNSET id : 36030; list of lemmas: domestic_animal, domesticated_animal; gloss: any of various animals that have been tamed and made fit for a human environment\n",
      "DESTINATION(HYPERNYM) SYNSET id : 20737; list of lemmas: animal, animate_being, beast, brute, creature, fauna; gloss: a living organism characterized by voluntary movement\n",
      "\n",
      "RELATION (20737, 58119)\n",
      "ORIGIN SYNSET id : 20737; list of lemmas: animal, animate_being, beast, brute, creature, fauna; gloss: a living organism characterized by voluntary movement\n",
      "DESTINATION(HYPERNYM) SYNSET id : 58119; list of lemmas: organism, being; gloss: a living thing that has (or can develop) the ability to act or function independently\n",
      "\n",
      "RELATION (58119, 51772)\n",
      "ORIGIN SYNSET id : 58119; list of lemmas: organism, being; gloss: a living thing that has (or can develop) the ability to act or function independently\n",
      "DESTINATION(HYPERNYM) SYNSET id : 51772; list of lemmas: living_thing, animate_thing; gloss: a living (or once living) entity\n",
      "\n",
      "RELATION (51772, 80928)\n",
      "ORIGIN SYNSET id : 51772; list of lemmas: living_thing, animate_thing; gloss: a living (or once living) entity\n",
      "DESTINATION(HYPERNYM) SYNSET id : 80928; list of lemmas: whole, unit; gloss: an assemblage of parts that is regarded as a single entity\n",
      "\n",
      "RELATION (80928, 57288)\n",
      "ORIGIN SYNSET id : 80928; list of lemmas: whole, unit; gloss: an assemblage of parts that is regarded as a single entity\n",
      "DESTINATION(HYPERNYM) SYNSET id : 57288; list of lemmas: object, physical_object; gloss: a tangible and visible entity; an entity that can cast a shadow\n",
      "\n",
      "RELATION (57288, 60550)\n",
      "ORIGIN SYNSET id : 57288; list of lemmas: object, physical_object; gloss: a tangible and visible entity; an entity that can cast a shadow\n",
      "DESTINATION(HYPERNYM) SYNSET id : 60550; list of lemmas: physical_entity; gloss: an entity that has physical existence\n",
      "\n",
      "RELATION (60550, 37987)\n",
      "ORIGIN SYNSET id : 60550; list of lemmas: physical_entity; gloss: an entity that has physical existence\n",
      "DESTINATION(HYPERNYM) SYNSET id : 37987; list of lemmas: entity; gloss: that which is perceived or known or inferred to have its own distinct existence (living or nonliving)\n",
      "\n",
      "---------------------------------------------------------\n",
      "RELATION (27617, 62519)\n",
      "ORIGIN SYNSET id : 27617; list of lemmas: carnivore; gloss: any animal that feeds on flesh\n",
      "DESTINATION(HYPERNYM) SYNSET id : 62519; list of lemmas: predator, predatory_animal; gloss: any animal that lives by preying on other animals\n",
      "\n",
      "RELATION (62519, 20737)\n",
      "ORIGIN SYNSET id : 62519; list of lemmas: predator, predatory_animal; gloss: any animal that lives by preying on other animals\n",
      "DESTINATION(HYPERNYM) SYNSET id : 20737; list of lemmas: animal, animate_being, beast, brute, creature, fauna; gloss: a living organism characterized by voluntary movement\n",
      "\n",
      "RELATION (20737, 58119)\n",
      "ORIGIN SYNSET id : 20737; list of lemmas: animal, animate_being, beast, brute, creature, fauna; gloss: a living organism characterized by voluntary movement\n",
      "DESTINATION(HYPERNYM) SYNSET id : 58119; list of lemmas: organism, being; gloss: a living thing that has (or can develop) the ability to act or function independently\n",
      "\n",
      "RELATION (58119, 51772)\n",
      "ORIGIN SYNSET id : 58119; list of lemmas: organism, being; gloss: a living thing that has (or can develop) the ability to act or function independently\n",
      "DESTINATION(HYPERNYM) SYNSET id : 51772; list of lemmas: living_thing, animate_thing; gloss: a living (or once living) entity\n",
      "\n",
      "RELATION (51772, 80928)\n",
      "ORIGIN SYNSET id : 51772; list of lemmas: living_thing, animate_thing; gloss: a living (or once living) entity\n",
      "DESTINATION(HYPERNYM) SYNSET id : 80928; list of lemmas: whole, unit; gloss: an assemblage of parts that is regarded as a single entity\n",
      "\n",
      "RELATION (80928, 57288)\n",
      "ORIGIN SYNSET id : 80928; list of lemmas: whole, unit; gloss: an assemblage of parts that is regarded as a single entity\n",
      "DESTINATION(HYPERNYM) SYNSET id : 57288; list of lemmas: object, physical_object; gloss: a tangible and visible entity; an entity that can cast a shadow\n",
      "\n",
      "RELATION (57288, 60550)\n",
      "ORIGIN SYNSET id : 57288; list of lemmas: object, physical_object; gloss: a tangible and visible entity; an entity that can cast a shadow\n",
      "DESTINATION(HYPERNYM) SYNSET id : 60550; list of lemmas: physical_entity; gloss: an entity that has physical existence\n",
      "\n",
      "RELATION (60550, 37987)\n",
      "ORIGIN SYNSET id : 60550; list of lemmas: physical_entity; gloss: an entity that has physical existence\n",
      "DESTINATION(HYPERNYM) SYNSET id : 37987; list of lemmas: entity; gloss: that which is perceived or known or inferred to have its own distinct existence (living or nonliving)\n",
      "\n",
      "---------------------------------------------------------\n"
     ]
    }
   ],
   "source": [
    "dog_synsets = prueba.get_synsets(\"dog\")\n",
    "domestic_dog = next(\n",
    "    syn for syn in dog_synsets if \"domestic_dog\" in syn.name)\n",
    "\n",
    "cat_synsets = prueba.get_synsets(\"carnivore\")\n",
    "domestic_cat = next(\n",
    "    syn for syn in cat_synsets if \"carnivore\" in syn.name)\n",
    "\n",
    "hyp = prueba.lch_similarity(domestic_dog, domestic_cat)\n"
   ]
  },
  {
   "cell_type": "code",
   "execution_count": 55,
   "metadata": {},
   "outputs": [
    {
     "name": "stdout",
     "output_type": "stream",
     "text": [
      "RELATION (35930, 27181)\n",
      "ORIGIN SYNSET id : 35930; list of lemmas: dog, domestic_dog, Canis_familiaris; gloss: a member of the genus Canis (probably descended from the common wolf) that has been domesticated by man since prehistoric times; occurs in many breeds\n",
      "DESTINATION(HYPERNYM) SYNSET id : 27181; list of lemmas: canine, canid; gloss: any of various fissiped mammals with nonretractile claws and typically long muzzles\n",
      "\n",
      "RELATION (27181, 27618)\n",
      "ORIGIN SYNSET id : 27181; list of lemmas: canine, canid; gloss: any of various fissiped mammals with nonretractile claws and typically long muzzles\n",
      "DESTINATION(HYPERNYM) SYNSET id : 27618; list of lemmas: carnivore; gloss: a terrestrial or aquatic flesh-eating mammal\n",
      "\n",
      "RELATION (27618, 61107)\n",
      "ORIGIN SYNSET id : 27618; list of lemmas: carnivore; gloss: a terrestrial or aquatic flesh-eating mammal\n",
      "DESTINATION(HYPERNYM) SYNSET id : 61107; list of lemmas: placental, placental_mammal, eutherian, eutherian_mammal; gloss: mammals having a placenta; all mammals except monotremes and marsupials\n",
      "\n",
      "RELATION (61107, 52850)\n",
      "ORIGIN SYNSET id : 61107; list of lemmas: placental, placental_mammal, eutherian, eutherian_mammal; gloss: mammals having a placenta; all mammals except monotremes and marsupials\n",
      "DESTINATION(HYPERNYM) SYNSET id : 52850; list of lemmas: mammal, mammalian; gloss: any warm-blooded vertebrate having the skin more or less covered with hair; young are born alive except for the small subclass of monotremes and nourished with milk\n",
      "\n",
      "RELATION (52850, 79358)\n",
      "ORIGIN SYNSET id : 52850; list of lemmas: mammal, mammalian; gloss: any warm-blooded vertebrate having the skin more or less covered with hair; young are born alive except for the small subclass of monotremes and nourished with milk\n",
      "DESTINATION(HYPERNYM) SYNSET id : 79358; list of lemmas: vertebrate, craniate; gloss: animals having a bony or cartilaginous skeleton with a segmented spinal column and a large brain enclosed in a skull or cranium\n",
      "\n",
      "RELATION (79358, 29183)\n",
      "ORIGIN SYNSET id : 79358; list of lemmas: vertebrate, craniate; gloss: animals having a bony or cartilaginous skeleton with a segmented spinal column and a large brain enclosed in a skull or cranium\n",
      "DESTINATION(HYPERNYM) SYNSET id : 29183; list of lemmas: chordate; gloss: any animal of the phylum Chordata having a notochord or spinal column\n",
      "\n",
      "RELATION (29183, 20737)\n",
      "ORIGIN SYNSET id : 29183; list of lemmas: chordate; gloss: any animal of the phylum Chordata having a notochord or spinal column\n",
      "DESTINATION(HYPERNYM) SYNSET id : 20737; list of lemmas: animal, animate_being, beast, brute, creature, fauna; gloss: a living organism characterized by voluntary movement\n",
      "\n",
      "RELATION (20737, 58119)\n",
      "ORIGIN SYNSET id : 20737; list of lemmas: animal, animate_being, beast, brute, creature, fauna; gloss: a living organism characterized by voluntary movement\n",
      "DESTINATION(HYPERNYM) SYNSET id : 58119; list of lemmas: organism, being; gloss: a living thing that has (or can develop) the ability to act or function independently\n",
      "\n",
      "RELATION (58119, 51772)\n",
      "ORIGIN SYNSET id : 58119; list of lemmas: organism, being; gloss: a living thing that has (or can develop) the ability to act or function independently\n",
      "DESTINATION(HYPERNYM) SYNSET id : 51772; list of lemmas: living_thing, animate_thing; gloss: a living (or once living) entity\n",
      "\n",
      "RELATION (51772, 80928)\n",
      "ORIGIN SYNSET id : 51772; list of lemmas: living_thing, animate_thing; gloss: a living (or once living) entity\n",
      "DESTINATION(HYPERNYM) SYNSET id : 80928; list of lemmas: whole, unit; gloss: an assemblage of parts that is regarded as a single entity\n",
      "\n",
      "RELATION (80928, 57288)\n",
      "ORIGIN SYNSET id : 80928; list of lemmas: whole, unit; gloss: an assemblage of parts that is regarded as a single entity\n",
      "DESTINATION(HYPERNYM) SYNSET id : 57288; list of lemmas: object, physical_object; gloss: a tangible and visible entity; an entity that can cast a shadow\n",
      "\n",
      "RELATION (57288, 60550)\n",
      "ORIGIN SYNSET id : 57288; list of lemmas: object, physical_object; gloss: a tangible and visible entity; an entity that can cast a shadow\n",
      "DESTINATION(HYPERNYM) SYNSET id : 60550; list of lemmas: physical_entity; gloss: an entity that has physical existence\n",
      "\n",
      "RELATION (60550, 37987)\n",
      "ORIGIN SYNSET id : 60550; list of lemmas: physical_entity; gloss: an entity that has physical existence\n",
      "DESTINATION(HYPERNYM) SYNSET id : 37987; list of lemmas: entity; gloss: that which is perceived or known or inferred to have its own distinct existence (living or nonliving)\n",
      "\n",
      "---------------------------------------------------------\n",
      "RELATION (35930, 36030)\n",
      "ORIGIN SYNSET id : 35930; list of lemmas: dog, domestic_dog, Canis_familiaris; gloss: a member of the genus Canis (probably descended from the common wolf) that has been domesticated by man since prehistoric times; occurs in many breeds\n",
      "DESTINATION(HYPERNYM) SYNSET id : 36030; list of lemmas: domestic_animal, domesticated_animal; gloss: any of various animals that have been tamed and made fit for a human environment\n",
      "\n",
      "RELATION (36030, 20737)\n",
      "ORIGIN SYNSET id : 36030; list of lemmas: domestic_animal, domesticated_animal; gloss: any of various animals that have been tamed and made fit for a human environment\n",
      "DESTINATION(HYPERNYM) SYNSET id : 20737; list of lemmas: animal, animate_being, beast, brute, creature, fauna; gloss: a living organism characterized by voluntary movement\n",
      "\n",
      "RELATION (20737, 58119)\n",
      "ORIGIN SYNSET id : 20737; list of lemmas: animal, animate_being, beast, brute, creature, fauna; gloss: a living organism characterized by voluntary movement\n",
      "DESTINATION(HYPERNYM) SYNSET id : 58119; list of lemmas: organism, being; gloss: a living thing that has (or can develop) the ability to act or function independently\n",
      "\n",
      "RELATION (58119, 51772)\n",
      "ORIGIN SYNSET id : 58119; list of lemmas: organism, being; gloss: a living thing that has (or can develop) the ability to act or function independently\n",
      "DESTINATION(HYPERNYM) SYNSET id : 51772; list of lemmas: living_thing, animate_thing; gloss: a living (or once living) entity\n",
      "\n",
      "RELATION (51772, 80928)\n",
      "ORIGIN SYNSET id : 51772; list of lemmas: living_thing, animate_thing; gloss: a living (or once living) entity\n",
      "DESTINATION(HYPERNYM) SYNSET id : 80928; list of lemmas: whole, unit; gloss: an assemblage of parts that is regarded as a single entity\n",
      "\n",
      "RELATION (80928, 57288)\n",
      "ORIGIN SYNSET id : 80928; list of lemmas: whole, unit; gloss: an assemblage of parts that is regarded as a single entity\n",
      "DESTINATION(HYPERNYM) SYNSET id : 57288; list of lemmas: object, physical_object; gloss: a tangible and visible entity; an entity that can cast a shadow\n",
      "\n",
      "RELATION (57288, 60550)\n",
      "ORIGIN SYNSET id : 57288; list of lemmas: object, physical_object; gloss: a tangible and visible entity; an entity that can cast a shadow\n",
      "DESTINATION(HYPERNYM) SYNSET id : 60550; list of lemmas: physical_entity; gloss: an entity that has physical existence\n",
      "\n",
      "RELATION (60550, 37987)\n",
      "ORIGIN SYNSET id : 60550; list of lemmas: physical_entity; gloss: an entity that has physical existence\n",
      "DESTINATION(HYPERNYM) SYNSET id : 37987; list of lemmas: entity; gloss: that which is perceived or known or inferred to have its own distinct existence (living or nonliving)\n",
      "\n",
      "---------------------------------------------------------\n",
      "RELATION (27617, 62519)\n",
      "ORIGIN SYNSET id : 27617; list of lemmas: carnivore; gloss: any animal that feeds on flesh\n",
      "DESTINATION(HYPERNYM) SYNSET id : 62519; list of lemmas: predator, predatory_animal; gloss: any animal that lives by preying on other animals\n",
      "\n",
      "RELATION (62519, 20737)\n",
      "ORIGIN SYNSET id : 62519; list of lemmas: predator, predatory_animal; gloss: any animal that lives by preying on other animals\n",
      "DESTINATION(HYPERNYM) SYNSET id : 20737; list of lemmas: animal, animate_being, beast, brute, creature, fauna; gloss: a living organism characterized by voluntary movement\n",
      "\n",
      "RELATION (20737, 58119)\n",
      "ORIGIN SYNSET id : 20737; list of lemmas: animal, animate_being, beast, brute, creature, fauna; gloss: a living organism characterized by voluntary movement\n",
      "DESTINATION(HYPERNYM) SYNSET id : 58119; list of lemmas: organism, being; gloss: a living thing that has (or can develop) the ability to act or function independently\n",
      "\n",
      "RELATION (58119, 51772)\n",
      "ORIGIN SYNSET id : 58119; list of lemmas: organism, being; gloss: a living thing that has (or can develop) the ability to act or function independently\n",
      "DESTINATION(HYPERNYM) SYNSET id : 51772; list of lemmas: living_thing, animate_thing; gloss: a living (or once living) entity\n",
      "\n",
      "RELATION (51772, 80928)\n",
      "ORIGIN SYNSET id : 51772; list of lemmas: living_thing, animate_thing; gloss: a living (or once living) entity\n",
      "DESTINATION(HYPERNYM) SYNSET id : 80928; list of lemmas: whole, unit; gloss: an assemblage of parts that is regarded as a single entity\n",
      "\n",
      "RELATION (80928, 57288)\n",
      "ORIGIN SYNSET id : 80928; list of lemmas: whole, unit; gloss: an assemblage of parts that is regarded as a single entity\n",
      "DESTINATION(HYPERNYM) SYNSET id : 57288; list of lemmas: object, physical_object; gloss: a tangible and visible entity; an entity that can cast a shadow\n",
      "\n",
      "RELATION (57288, 60550)\n",
      "ORIGIN SYNSET id : 57288; list of lemmas: object, physical_object; gloss: a tangible and visible entity; an entity that can cast a shadow\n",
      "DESTINATION(HYPERNYM) SYNSET id : 60550; list of lemmas: physical_entity; gloss: an entity that has physical existence\n",
      "\n",
      "RELATION (60550, 37987)\n",
      "ORIGIN SYNSET id : 60550; list of lemmas: physical_entity; gloss: an entity that has physical existence\n",
      "DESTINATION(HYPERNYM) SYNSET id : 37987; list of lemmas: entity; gloss: that which is perceived or known or inferred to have its own distinct existence (living or nonliving)\n",
      "\n",
      "---------------------------------------------------------\n"
     ]
    },
    {
     "data": {
      "text/plain": [
       "4"
      ]
     },
     "execution_count": 55,
     "metadata": {},
     "output_type": "execute_result"
    }
   ],
   "source": [
    "prueba.distance(domestic_dog,domestic_cat)"
   ]
  },
  {
   "cell_type": "code",
   "execution_count": 58,
   "metadata": {},
   "outputs": [
    {
     "ename": "KeyError",
     "evalue": "<wordnet_t.Lemma object at 0x00000232F0364910>",
     "output_type": "error",
     "traceback": [
      "\u001b[1;31m---------------------------------------------------------------------------\u001b[0m",
      "\u001b[1;31mKeyError\u001b[0m                                  Traceback (most recent call last)",
      "\u001b[1;32m~\\AppData\\Local\\Temp\\ipykernel_17736\\1560808648.py\u001b[0m in \u001b[0;36m<module>\u001b[1;34m\u001b[0m\n\u001b[1;32m----> 1\u001b[1;33m \u001b[0mprueba\u001b[0m\u001b[1;33m.\u001b[0m\u001b[0mnoun_lowest_common_hypernyms\u001b[0m\u001b[1;33m(\u001b[0m\u001b[0mdomestic_dog\u001b[0m\u001b[1;33m,\u001b[0m\u001b[0mdomestic_cat\u001b[0m\u001b[1;33m)\u001b[0m\u001b[1;33m\u001b[0m\u001b[1;33m\u001b[0m\u001b[0m\n\u001b[0m",
      "\u001b[1;32mc:\\Users\\Ninja\\Documents\\labSemComp-git\\OPENAI\\wordnet_t.py\u001b[0m in \u001b[0;36mnoun_lowest_common_hypernyms\u001b[1;34m(self, noun1, noun2)\u001b[0m\n\u001b[0;32m    352\u001b[0m \u001b[1;33m\u001b[0m\u001b[0m\n\u001b[0;32m    353\u001b[0m         \u001b[1;31m# possible synsets of nouns\u001b[0m\u001b[1;33m\u001b[0m\u001b[1;33m\u001b[0m\u001b[0m\n\u001b[1;32m--> 354\u001b[1;33m         \u001b[0msynsets1\u001b[0m \u001b[1;33m=\u001b[0m \u001b[0mself\u001b[0m\u001b[1;33m.\u001b[0m\u001b[0mget_synsets\u001b[0m\u001b[1;33m(\u001b[0m\u001b[0mnoun1\u001b[0m\u001b[1;33m)\u001b[0m\u001b[1;33m\u001b[0m\u001b[1;33m\u001b[0m\u001b[0m\n\u001b[0m\u001b[0;32m    355\u001b[0m         \u001b[0msynsets2\u001b[0m \u001b[1;33m=\u001b[0m \u001b[0mself\u001b[0m\u001b[1;33m.\u001b[0m\u001b[0mget_synsets\u001b[0m\u001b[1;33m(\u001b[0m\u001b[0mnoun2\u001b[0m\u001b[1;33m)\u001b[0m\u001b[1;33m\u001b[0m\u001b[1;33m\u001b[0m\u001b[0m\n\u001b[0;32m    356\u001b[0m \u001b[1;33m\u001b[0m\u001b[0m\n",
      "\u001b[1;32mc:\\Users\\Ninja\\Documents\\labSemComp-git\\OPENAI\\wordnet_t.py\u001b[0m in \u001b[0;36mget_synsets\u001b[1;34m(self, noun)\u001b[0m\n\u001b[0;32m    117\u001b[0m         \u001b[0mlemma\u001b[0m \u001b[1;33m=\u001b[0m \u001b[0mLemma\u001b[0m\u001b[1;33m(\u001b[0m\u001b[0mnoun\u001b[0m\u001b[1;33m)\u001b[0m\u001b[1;33m\u001b[0m\u001b[1;33m\u001b[0m\u001b[0m\n\u001b[0;32m    118\u001b[0m         \u001b[0mlemmas_dict\u001b[0m \u001b[1;33m=\u001b[0m \u001b[0mself\u001b[0m\u001b[1;33m.\u001b[0m\u001b[0m_lemmasDict\u001b[0m\u001b[1;33m\u001b[0m\u001b[1;33m\u001b[0m\u001b[0m\n\u001b[1;32m--> 119\u001b[1;33m         \u001b[1;32mfor\u001b[0m \u001b[0msynset\u001b[0m \u001b[1;32min\u001b[0m \u001b[0mlemmas_dict\u001b[0m\u001b[1;33m[\u001b[0m\u001b[0mlemma\u001b[0m\u001b[1;33m]\u001b[0m\u001b[1;33m:\u001b[0m\u001b[1;33m\u001b[0m\u001b[1;33m\u001b[0m\u001b[0m\n\u001b[0m\u001b[0;32m    120\u001b[0m             \u001b[0msynsets\u001b[0m\u001b[1;33m.\u001b[0m\u001b[0mappend\u001b[0m\u001b[1;33m(\u001b[0m\u001b[0msynset\u001b[0m\u001b[1;33m)\u001b[0m\u001b[1;33m\u001b[0m\u001b[1;33m\u001b[0m\u001b[0m\n\u001b[0;32m    121\u001b[0m         \u001b[1;32mreturn\u001b[0m \u001b[0msynsets\u001b[0m\u001b[1;33m\u001b[0m\u001b[1;33m\u001b[0m\u001b[0m\n",
      "\u001b[1;31mKeyError\u001b[0m: <wordnet_t.Lemma object at 0x00000232F0364910>"
     ]
    }
   ],
   "source": [
    "prueba.noun_lowest_common_hypernyms(domestic_dog,domestic_cat)"
   ]
  },
  {
   "cell_type": "code",
   "execution_count": null,
   "metadata": {},
   "outputs": [],
   "source": [
    "wordnet_t.Relation(origin, destination)"
   ]
  },
  {
   "cell_type": "code",
   "execution_count": 44,
   "metadata": {},
   "outputs": [
    {
     "name": "stdout",
     "output_type": "stream",
     "text": [
      "SYNSET id : 27617; list of lemmas: carnivore; gloss: any animal that feeds on flesh\n",
      "\n",
      "SYNSET id : 27618; list of lemmas: carnivore; gloss: a terrestrial or aquatic flesh-eating mammal\n",
      "\n"
     ]
    }
   ],
   "source": [
    "for b in cat_synsets:\n",
    "    print(b)"
   ]
  },
  {
   "cell_type": "code",
   "execution_count": 37,
   "metadata": {},
   "outputs": [
    {
     "name": "stdout",
     "output_type": "stream",
     "text": [
      "RELATION (59573, 27965)\n",
      "ORIGIN SYNSET id : 59573; list of lemmas: pawl, detent, click, dog; gloss: a hinged catch that fits into a notch of a ratchet to move a wheel forward or prevent it from moving backward\n",
      "DESTINATION(HYPERNYM) SYNSET id : 27965; list of lemmas: catch, stop; gloss: a restraint that checks the motion of something\n",
      "\n",
      "RELATION (27965, 66097)\n",
      "ORIGIN SYNSET id : 27965; list of lemmas: catch, stop; gloss: a restraint that checks the motion of something\n",
      "DESTINATION(HYPERNYM) SYNSET id : 66097; list of lemmas: restraint, constraint; gloss: a device that retards something's motion\n",
      "\n",
      "RELATION (66097, 34908)\n",
      "ORIGIN SYNSET id : 66097; list of lemmas: restraint, constraint; gloss: a device that retards something's motion\n",
      "DESTINATION(HYPERNYM) SYNSET id : 34908; list of lemmas: device; gloss: an instrumentality invented for a particular purpose\n",
      "\n",
      "RELATION (34908, 48395)\n",
      "ORIGIN SYNSET id : 34908; list of lemmas: device; gloss: an instrumentality invented for a particular purpose\n",
      "DESTINATION(HYPERNYM) SYNSET id : 48395; list of lemmas: instrumentality, instrumentation; gloss: an artifact (or system of artifacts) that is instrumental in accomplishing some end\n",
      "\n",
      "RELATION (48395, 21738)\n",
      "ORIGIN SYNSET id : 48395; list of lemmas: instrumentality, instrumentation; gloss: an artifact (or system of artifacts) that is instrumental in accomplishing some end\n",
      "DESTINATION(HYPERNYM) SYNSET id : 21738; list of lemmas: artifact, artefact; gloss: a man-made object taken as a whole\n",
      "\n",
      "RELATION (21738, 80928)\n",
      "ORIGIN SYNSET id : 21738; list of lemmas: artifact, artefact; gloss: a man-made object taken as a whole\n",
      "DESTINATION(HYPERNYM) SYNSET id : 80928; list of lemmas: whole, unit; gloss: an assemblage of parts that is regarded as a single entity\n",
      "\n",
      "RELATION (80928, 57288)\n",
      "ORIGIN SYNSET id : 80928; list of lemmas: whole, unit; gloss: an assemblage of parts that is regarded as a single entity\n",
      "DESTINATION(HYPERNYM) SYNSET id : 57288; list of lemmas: object, physical_object; gloss: a tangible and visible entity; an entity that can cast a shadow\n",
      "\n",
      "RELATION (57288, 60550)\n",
      "ORIGIN SYNSET id : 57288; list of lemmas: object, physical_object; gloss: a tangible and visible entity; an entity that can cast a shadow\n",
      "DESTINATION(HYPERNYM) SYNSET id : 60550; list of lemmas: physical_entity; gloss: an entity that has physical existence\n",
      "\n",
      "RELATION (60550, 37987)\n",
      "ORIGIN SYNSET id : 60550; list of lemmas: physical_entity; gloss: an entity that has physical existence\n",
      "DESTINATION(HYPERNYM) SYNSET id : 37987; list of lemmas: entity; gloss: that which is perceived or known or inferred to have its own distinct existence (living or nonliving)\n",
      "\n",
      "---------------------------------------------------------\n",
      "RELATION (49544, 73206)\n",
      "ORIGIN SYNSET id : 49544; list of lemmas: kat, khat, qat, quat, cat, Arabian_tea, African_tea; gloss: the leaves of the shrub Catha edulis which are chewed like tobacco or used to make tea; has the effect of a euphoric stimulant\n",
      "DESTINATION(HYPERNYM) SYNSET id : 73206; list of lemmas: stimulant, stimulant_drug, excitant; gloss: a drug that temporarily quickens some vital process\n",
      "\n",
      "RELATION (73206, 36588)\n",
      "ORIGIN SYNSET id : 73206; list of lemmas: stimulant, stimulant_drug, excitant; gloss: a drug that temporarily quickens some vital process\n",
      "DESTINATION(HYPERNYM) SYNSET id : 36588; list of lemmas: drug; gloss: a substance that is used as a medicine or narcotic\n",
      "\n",
      "RELATION (36588, 19651)\n",
      "ORIGIN SYNSET id : 36588; list of lemmas: drug; gloss: a substance that is used as a medicine or narcotic\n",
      "DESTINATION(HYPERNYM) SYNSET id : 19651; list of lemmas: agent; gloss: a substance that exerts some force or effect\n",
      "\n",
      "RELATION (19651, 28049)\n",
      "ORIGIN SYNSET id : 19651; list of lemmas: agent; gloss: a substance that exerts some force or effect\n",
      "DESTINATION(HYPERNYM) SYNSET id : 28049; list of lemmas: causal_agent, cause, causal_agency; gloss: any entity that produces an effect or is responsible for events or results\n",
      "\n",
      "RELATION (28049, 60550)\n",
      "ORIGIN SYNSET id : 28049; list of lemmas: causal_agent, cause, causal_agency; gloss: any entity that produces an effect or is responsible for events or results\n",
      "DESTINATION(HYPERNYM) SYNSET id : 60550; list of lemmas: physical_entity; gloss: an entity that has physical existence\n",
      "\n",
      "RELATION (60550, 37987)\n",
      "ORIGIN SYNSET id : 60550; list of lemmas: physical_entity; gloss: an entity that has physical existence\n",
      "DESTINATION(HYPERNYM) SYNSET id : 37987; list of lemmas: entity; gloss: that which is perceived or known or inferred to have its own distinct existence (living or nonliving)\n",
      "\n",
      "---------------------------------------------------------\n",
      "RELATION (19651, 74012)\n",
      "ORIGIN SYNSET id : 19651; list of lemmas: agent; gloss: a substance that exerts some force or effect\n",
      "DESTINATION(HYPERNYM) SYNSET id : 74012; list of lemmas: substance; gloss: a particular kind or species of matter with uniform properties\n",
      "\n",
      "RELATION (74012, 53480)\n",
      "ORIGIN SYNSET id : 74012; list of lemmas: substance; gloss: a particular kind or species of matter with uniform properties\n",
      "DESTINATION(HYPERNYM) SYNSET id : 53480; list of lemmas: matter; gloss: that which has mass and occupies space\n",
      "\n",
      "RELATION (53480, 60550)\n",
      "ORIGIN SYNSET id : 53480; list of lemmas: matter; gloss: that which has mass and occupies space\n",
      "DESTINATION(HYPERNYM) SYNSET id : 60550; list of lemmas: physical_entity; gloss: an entity that has physical existence\n",
      "\n",
      "RELATION (60550, 37987)\n",
      "ORIGIN SYNSET id : 60550; list of lemmas: physical_entity; gloss: an entity that has physical existence\n",
      "DESTINATION(HYPERNYM) SYNSET id : 37987; list of lemmas: entity; gloss: that which is perceived or known or inferred to have its own distinct existence (living or nonliving)\n",
      "\n",
      "---------------------------------------------------------\n"
     ]
    },
    {
     "data": {
      "text/plain": [
       "{<wordnet_t.Synset at 0x232facc72b0>}"
      ]
     },
     "execution_count": 37,
     "metadata": {},
     "output_type": "execute_result"
    }
   ],
   "source": [
    "prueba.lowest_common_hypernyms(a,b)"
   ]
  },
  {
   "cell_type": "code",
   "execution_count": 4,
   "metadata": {},
   "outputs": [
    {
     "ename": "AttributeError",
     "evalue": "'TestWordNet' object has no attribute 'wn'",
     "output_type": "error",
     "traceback": [
      "\u001b[1;31m---------------------------------------------------------------------------\u001b[0m",
      "\u001b[1;31mAttributeError\u001b[0m                            Traceback (most recent call last)",
      "\u001b[1;32m~\\AppData\\Local\\Temp\\ipykernel_17736\\4117592445.py\u001b[0m in \u001b[0;36m<module>\u001b[1;34m\u001b[0m\n\u001b[1;32m----> 1\u001b[1;33m \u001b[0mprueba\u001b[0m\u001b[1;33m.\u001b[0m\u001b[0mtest_size\u001b[0m\u001b[1;33m(\u001b[0m\u001b[1;33m)\u001b[0m\u001b[1;33m\u001b[0m\u001b[1;33m\u001b[0m\u001b[0m\n\u001b[0m",
      "\u001b[1;32mc:\\Users\\Ninja\\Documents\\labSemComp-git\\OPENAI\\test_wordnet.py\u001b[0m in \u001b[0;36mtest_size\u001b[1;34m(self)\u001b[0m\n\u001b[0;32m     13\u001b[0m \u001b[1;33m\u001b[0m\u001b[0m\n\u001b[0;32m     14\u001b[0m     \u001b[1;32mdef\u001b[0m \u001b[0mtest_size\u001b[0m\u001b[1;33m(\u001b[0m\u001b[0mself\u001b[0m\u001b[1;33m)\u001b[0m\u001b[1;33m:\u001b[0m\u001b[1;33m\u001b[0m\u001b[1;33m\u001b[0m\u001b[0m\n\u001b[1;32m---> 15\u001b[1;33m         \u001b[0mself\u001b[0m\u001b[1;33m.\u001b[0m\u001b[0massertEqual\u001b[0m\u001b[1;33m(\u001b[0m\u001b[0mlen\u001b[0m\u001b[1;33m(\u001b[0m\u001b[0mself\u001b[0m\u001b[1;33m.\u001b[0m\u001b[0mwn\u001b[0m\u001b[1;33m)\u001b[0m\u001b[1;33m,\u001b[0m \u001b[1;36m82115\u001b[0m\u001b[1;33m)\u001b[0m\u001b[1;33m\u001b[0m\u001b[1;33m\u001b[0m\u001b[0m\n\u001b[0m\u001b[0;32m     16\u001b[0m \u001b[1;33m\u001b[0m\u001b[0m\n\u001b[0;32m     17\u001b[0m     \u001b[1;32mdef\u001b[0m \u001b[0mtest_synsets\u001b[0m\u001b[1;33m(\u001b[0m\u001b[0mself\u001b[0m\u001b[1;33m)\u001b[0m\u001b[1;33m:\u001b[0m\u001b[1;33m\u001b[0m\u001b[1;33m\u001b[0m\u001b[0m\n",
      "\u001b[1;31mAttributeError\u001b[0m: 'TestWordNet' object has no attribute 'wn'"
     ]
    }
   ],
   "source": [
    "prueba.test_size()"
   ]
  },
  {
   "cell_type": "code",
   "execution_count": 2,
   "metadata": {},
   "outputs": [],
   "source": []
  },
  {
   "cell_type": "markdown",
   "metadata": {},
   "source": [
    "# prueba con wordnet"
   ]
  },
  {
   "cell_type": "markdown",
   "metadata": {},
   "source": [
    "### Caminos de Hyperonimos de synset hasta el root entity"
   ]
  },
  {
   "cell_type": "code",
   "execution_count": 2,
   "metadata": {},
   "outputs": [
    {
     "name": "stdout",
     "output_type": "stream",
     "text": [
      "3\n",
      "Synset('guy.n.01') [[Synset('entity.n.01'), Synset('physical_entity.n.01'), Synset('causal_agent.n.01'), Synset('person.n.01'), Synset('adult.n.01'), Synset('man.n.01'), Synset('guy.n.01')], [Synset('entity.n.01'), Synset('physical_entity.n.01'), Synset('object.n.01'), Synset('whole.n.02'), Synset('living_thing.n.01'), Synset('organism.n.01'), Synset('person.n.01'), Synset('adult.n.01'), Synset('man.n.01'), Synset('guy.n.01')], [Synset('entity.n.01'), Synset('physical_entity.n.01'), Synset('causal_agent.n.01'), Synset('person.n.01'), Synset('male.n.02'), Synset('man.n.01'), Synset('guy.n.01')], [Synset('entity.n.01'), Synset('physical_entity.n.01'), Synset('object.n.01'), Synset('whole.n.02'), Synset('living_thing.n.01'), Synset('organism.n.01'), Synset('person.n.01'), Synset('male.n.02'), Synset('man.n.01'), Synset('guy.n.01')]]\n",
      "Synset('guy.n.02') [[Synset('entity.n.01'), Synset('physical_entity.n.01'), Synset('object.n.01'), Synset('whole.n.02'), Synset('artifact.n.01'), Synset('creation.n.02'), Synset('representation.n.02'), Synset('effigy.n.01'), Synset('guy.n.02')]]\n",
      "Synset('guy.n.03') [[Synset('entity.n.01'), Synset('physical_entity.n.01'), Synset('object.n.01'), Synset('whole.n.02'), Synset('artifact.n.01'), Synset('instrumentality.n.03'), Synset('device.n.01'), Synset('strengthener.n.01'), Synset('brace.n.09'), Synset('guy.n.03')], [Synset('entity.n.01'), Synset('physical_entity.n.01'), Synset('object.n.01'), Synset('whole.n.02'), Synset('artifact.n.01'), Synset('instrumentality.n.03'), Synset('device.n.01'), Synset('support.n.10'), Synset('structural_member.n.01'), Synset('brace.n.09'), Synset('guy.n.03')]]\n"
     ]
    }
   ],
   "source": [
    "asda=list(wn.synsets(\"guy\",wn.NOUN))\n",
    "print(len(asda))\n",
    "for synset in list(asda)[:100]:\n",
    "    print(synset,synset.hypernym_paths())"
   ]
  },
  {
   "cell_type": "code",
   "execution_count": 3,
   "metadata": {},
   "outputs": [
    {
     "name": "stdout",
     "output_type": "stream",
     "text": [
      "8\n",
      "Synset('cat.n.01') [[Synset('entity.n.01'), Synset('physical_entity.n.01'), Synset('object.n.01'), Synset('whole.n.02'), Synset('living_thing.n.01'), Synset('organism.n.01'), Synset('animal.n.01'), Synset('chordate.n.01'), Synset('vertebrate.n.01'), Synset('mammal.n.01'), Synset('placental.n.01'), Synset('carnivore.n.01'), Synset('feline.n.01'), Synset('cat.n.01')]]\n",
      "Synset('guy.n.01') [[Synset('entity.n.01'), Synset('physical_entity.n.01'), Synset('causal_agent.n.01'), Synset('person.n.01'), Synset('adult.n.01'), Synset('man.n.01'), Synset('guy.n.01')], [Synset('entity.n.01'), Synset('physical_entity.n.01'), Synset('object.n.01'), Synset('whole.n.02'), Synset('living_thing.n.01'), Synset('organism.n.01'), Synset('person.n.01'), Synset('adult.n.01'), Synset('man.n.01'), Synset('guy.n.01')], [Synset('entity.n.01'), Synset('physical_entity.n.01'), Synset('causal_agent.n.01'), Synset('person.n.01'), Synset('male.n.02'), Synset('man.n.01'), Synset('guy.n.01')], [Synset('entity.n.01'), Synset('physical_entity.n.01'), Synset('object.n.01'), Synset('whole.n.02'), Synset('living_thing.n.01'), Synset('organism.n.01'), Synset('person.n.01'), Synset('male.n.02'), Synset('man.n.01'), Synset('guy.n.01')]]\n",
      "Synset('cat.n.03') [[Synset('entity.n.01'), Synset('physical_entity.n.01'), Synset('causal_agent.n.01'), Synset('person.n.01'), Synset('communicator.n.01'), Synset('gossip.n.03'), Synset('cat.n.03')], [Synset('entity.n.01'), Synset('physical_entity.n.01'), Synset('object.n.01'), Synset('whole.n.02'), Synset('living_thing.n.01'), Synset('organism.n.01'), Synset('person.n.01'), Synset('communicator.n.01'), Synset('gossip.n.03'), Synset('cat.n.03')], [Synset('entity.n.01'), Synset('physical_entity.n.01'), Synset('causal_agent.n.01'), Synset('person.n.01'), Synset('adult.n.01'), Synset('woman.n.01'), Synset('cat.n.03')], [Synset('entity.n.01'), Synset('physical_entity.n.01'), Synset('object.n.01'), Synset('whole.n.02'), Synset('living_thing.n.01'), Synset('organism.n.01'), Synset('person.n.01'), Synset('adult.n.01'), Synset('woman.n.01'), Synset('cat.n.03')], [Synset('entity.n.01'), Synset('physical_entity.n.01'), Synset('causal_agent.n.01'), Synset('person.n.01'), Synset('female.n.02'), Synset('woman.n.01'), Synset('cat.n.03')], [Synset('entity.n.01'), Synset('physical_entity.n.01'), Synset('object.n.01'), Synset('whole.n.02'), Synset('living_thing.n.01'), Synset('organism.n.01'), Synset('person.n.01'), Synset('female.n.02'), Synset('woman.n.01'), Synset('cat.n.03')]]\n",
      "Synset('kat.n.01') [[Synset('entity.n.01'), Synset('physical_entity.n.01'), Synset('causal_agent.n.01'), Synset('agent.n.03'), Synset('drug.n.01'), Synset('stimulant.n.02'), Synset('kat.n.01')], [Synset('entity.n.01'), Synset('physical_entity.n.01'), Synset('matter.n.03'), Synset('substance.n.07'), Synset('agent.n.03'), Synset('drug.n.01'), Synset('stimulant.n.02'), Synset('kat.n.01')]]\n",
      "Synset('cat-o'-nine-tails.n.01') [[Synset('entity.n.01'), Synset('physical_entity.n.01'), Synset('object.n.01'), Synset('whole.n.02'), Synset('artifact.n.01'), Synset('instrumentality.n.03'), Synset('device.n.01'), Synset('instrument.n.01'), Synset('whip.n.01'), Synset('cat-o'-nine-tails.n.01')]]\n",
      "Synset('caterpillar.n.02') [[Synset('entity.n.01'), Synset('physical_entity.n.01'), Synset('object.n.01'), Synset('whole.n.02'), Synset('artifact.n.01'), Synset('instrumentality.n.03'), Synset('container.n.01'), Synset('wheeled_vehicle.n.01'), Synset('self-propelled_vehicle.n.01'), Synset('tracked_vehicle.n.01'), Synset('caterpillar.n.02')], [Synset('entity.n.01'), Synset('physical_entity.n.01'), Synset('object.n.01'), Synset('whole.n.02'), Synset('artifact.n.01'), Synset('instrumentality.n.03'), Synset('conveyance.n.03'), Synset('vehicle.n.01'), Synset('wheeled_vehicle.n.01'), Synset('self-propelled_vehicle.n.01'), Synset('tracked_vehicle.n.01'), Synset('caterpillar.n.02')]]\n",
      "Synset('big_cat.n.01') [[Synset('entity.n.01'), Synset('physical_entity.n.01'), Synset('object.n.01'), Synset('whole.n.02'), Synset('living_thing.n.01'), Synset('organism.n.01'), Synset('animal.n.01'), Synset('chordate.n.01'), Synset('vertebrate.n.01'), Synset('mammal.n.01'), Synset('placental.n.01'), Synset('carnivore.n.01'), Synset('feline.n.01'), Synset('big_cat.n.01')]]\n",
      "Synset('computerized_tomography.n.01') [[Synset('entity.n.01'), Synset('abstraction.n.06'), Synset('psychological_feature.n.01'), Synset('event.n.01'), Synset('act.n.02'), Synset('activity.n.01'), Synset('representation.n.10'), Synset('pictorial_representation.n.01'), Synset('imaging.n.02'), Synset('x-raying.n.01'), Synset('computerized_tomography.n.01')]]\n"
     ]
    }
   ],
   "source": [
    "asda=list(wn.synsets(\"cat\",wn.NOUN))\n",
    "print(len(asda))\n",
    "for synset in list(asda)[:100]:\n",
    "    print(synset,synset.hypernym_paths())"
   ]
  },
  {
   "cell_type": "markdown",
   "metadata": {},
   "source": [
    "### Sinónimos y antonimos de las palabras"
   ]
  },
  {
   "cell_type": "code",
   "execution_count": 4,
   "metadata": {},
   "outputs": [],
   "source": [
    "palabra1=\"man\"\n",
    "palabra2=\"guy\""
   ]
  },
  {
   "cell_type": "code",
   "execution_count": 5,
   "metadata": {},
   "outputs": [
    {
     "name": "stdout",
     "output_type": "stream",
     "text": [
      "man\n",
      "Lemma('man.n.01.man')\n",
      "Lemma('woman.n.01.woman')\n",
      "Lemma('man.n.01.adult_male')\n",
      "man\n",
      "Lemma('serviceman.n.01.serviceman')\n",
      "Lemma('civilian.n.01.civilian')\n",
      "Lemma('serviceman.n.01.military_man')\n",
      "Lemma('serviceman.n.01.man')\n",
      "Lemma('serviceman.n.01.military_personnel')\n",
      "man\n",
      "Lemma('man.n.03.man')\n",
      "man\n",
      "Lemma('homo.n.02.homo')\n",
      "Lemma('homo.n.02.man')\n",
      "Lemma('homo.n.02.human_being')\n",
      "Lemma('homo.n.02.human')\n",
      "man\n",
      "Lemma('man.n.05.man')\n",
      "man\n",
      "Lemma('man.n.06.man')\n",
      "man\n",
      "Lemma('valet.n.01.valet')\n",
      "Lemma('valet.n.01.valet_de_chambre')\n",
      "Lemma('valet.n.01.gentleman')\n",
      "Lemma('valet.n.01.gentleman's_gentleman')\n",
      "Lemma('valet.n.01.man')\n",
      "man\n",
      "Lemma('man.n.08.man')\n",
      "Lemma('woman.n.02.woman')\n",
      "man\n",
      "Lemma('man.n.09.Man')\n",
      "Lemma('man.n.09.Isle_of_Man')\n",
      "man\n",
      "Lemma('man.n.10.man')\n",
      "Lemma('man.n.10.piece')\n",
      "man\n",
      "Lemma('world.n.08.world')\n",
      "Lemma('world.n.08.human_race')\n",
      "Lemma('world.n.08.humanity')\n",
      "Lemma('world.n.08.humankind')\n",
      "Lemma('world.n.08.human_beings')\n",
      "Lemma('world.n.08.humans')\n",
      "Lemma('world.n.08.mankind')\n",
      "Lemma('world.n.08.man')\n",
      "man\n",
      "Lemma('man.v.01.man')\n",
      "man\n",
      "Lemma('man.v.02.man')\n",
      "['man', 'adult_male', 'serviceman', 'military_man', 'man', 'military_personnel', 'man', 'homo', 'man', 'human_being', 'human', 'man', 'man', 'valet', 'valet_de_chambre', 'gentleman', \"gentleman's_gentleman\", 'man', 'man', 'Man', 'Isle_of_Man', 'man', 'piece', 'world', 'human_race', 'humanity', 'humankind', 'human_beings', 'humans', 'mankind', 'man', 'man', 'man']\n",
      "['woman', 'civilian', 'woman']\n"
     ]
    }
   ],
   "source": [
    "synonyms = []\n",
    "antonyms = []\n",
    "for syn in wn.synsets(palabra1):\n",
    "    print(palabra1)\n",
    "    for l in syn.lemmas():\n",
    "        synonyms.append(l.name())\n",
    "        print(l)\n",
    "        if l.antonyms():\n",
    "            print(l.antonyms()[0])\n",
    "            antonyms.append(l.antonyms()[0].name())\n",
    "  \n",
    "print(synonyms)\n",
    "print(antonyms)"
   ]
  },
  {
   "cell_type": "code",
   "execution_count": 6,
   "metadata": {},
   "outputs": [
    {
     "data": {
      "text/plain": [
       "['woman', 'civilian', 'woman']"
      ]
     },
     "execution_count": 6,
     "metadata": {},
     "output_type": "execute_result"
    }
   ],
   "source": [
    "antonyms"
   ]
  },
  {
   "cell_type": "markdown",
   "metadata": {},
   "source": [
    "### Similaridad de wup entre synsets"
   ]
  },
  {
   "cell_type": "code",
   "execution_count": 128,
   "metadata": {},
   "outputs": [],
   "source": [
    "palabra1=\"runs\"\n",
    "palabra2=\"sleep\""
   ]
  },
  {
   "cell_type": "code",
   "execution_count": 129,
   "metadata": {},
   "outputs": [
    {
     "name": "stdout",
     "output_type": "stream",
     "text": [
      "Synset('function.v.01') Synset('sleep.v.02')\n",
      "0.4 Synset('function.v.01') perform as expected when applied Synset('sleep.v.02') be able to accommodate for sleeping\n",
      "1.8718021769015913\n",
      "0.25\n",
      "Synset('play.v.18') Synset('sleep.v.02')\n",
      "0.4 Synset('play.v.18') cause to emit recorded audio or video Synset('sleep.v.02') be able to accommodate for sleeping\n",
      "1.8718021769015913\n",
      "0.25\n",
      "Synset('guide.v.05') Synset('sleep.v.02')\n",
      "0.4 Synset('guide.v.05') pass over, across, or through Synset('sleep.v.02') be able to accommodate for sleeping\n",
      "1.8718021769015913\n",
      "0.25\n"
     ]
    }
   ],
   "source": [
    "w1 = wn.synsets(palabra1,wn.VERB)\n",
    "w2 = wn.synsets(palabra2,wn.VERB) # n denotes noun\n",
    "for a in w1:\n",
    "    for b in w2:\n",
    "        if a.wup_similarity(b)>=0.4:\n",
    "            print(a,b)\n",
    "            print(a.wup_similarity(b),a,a.definition(),b,b.definition())\n",
    "            print(a.lch_similarity(b))\n",
    "            print(a.path_similarity(b))"
   ]
  },
  {
   "cell_type": "markdown",
   "metadata": {},
   "source": [
    "# Explorar synsets"
   ]
  },
  {
   "cell_type": "code",
   "execution_count": 159,
   "metadata": {},
   "outputs": [
    {
     "name": "stdout",
     "output_type": "stream",
     "text": [
      "Synset('run.v.01') move fast by using one's feet, with one foot off the ground at any given time\n",
      "Synset('scat.v.01') flee; take to one's heels; cut and run\n",
      "Synset('run.v.03') stretch out over a distance, space, time, or scope; run or extend between two points or beyond a certain point\n",
      "Synset('operate.v.01') direct or control; projects, businesses, etc.\n",
      "Synset('run.v.05') have a particular form\n",
      "Synset('run.v.06') move along, of liquids\n",
      "Synset('function.v.01') perform as expected when applied\n",
      "Synset('range.v.01') change or be different within limits\n",
      "Synset('campaign.v.01') run, stand, or compete for an office or a position\n",
      "Synset('play.v.18') cause to emit recorded audio or video\n",
      "Synset('run.v.11') move about freely and without restraint, or act as if running around in an uncontrolled way\n",
      "Synset('tend.v.01') have a tendency or disposition to do or be something; be inclined\n",
      "Synset('run.v.13') be operating, running or functioning\n",
      "Synset('run.v.14') change from one state to another\n",
      "Synset('run.v.15') cause to perform\n",
      "Synset('run.v.16') be affected by; be subjected to\n",
      "Synset('prevail.v.03') continue to exist\n",
      "Synset('run.v.18') occur persistently\n",
      "Synset('run.v.19') carry out a process or program, as on a computer or a machine\n",
      "Synset('carry.v.15') include as the content; broadcast or publicize\n",
      "Synset('run.v.21') carry out\n",
      "Synset('guide.v.05') pass over, across, or through\n",
      "Synset('run.v.23') cause something to pass or lead somewhere\n",
      "Synset('run.v.24') make without a miss\n",
      "Synset('run.v.25') deal in illegally, such as arms or liquor\n",
      "Synset('run.v.26') cause an animal to move fast\n",
      "Synset('run.v.27') be diffused\n",
      "Synset('run.v.28') sail before the wind\n",
      "Synset('run.v.29') cover by running; run a certain distance\n",
      "Synset('run.v.30') extend or continue for a certain period of time\n",
      "Synset('run.v.31') set animals loose to graze\n",
      "Synset('run.v.32') keep company\n",
      "Synset('run.v.33') run with the ball; in such sports as football\n",
      "Synset('run.v.34') travel rapidly, by any (unspecified) means\n",
      "Synset('ply.v.03') travel a route regularly\n",
      "Synset('hunt.v.01') pursue for food or sport (as of wild animals)\n",
      "Synset('race.v.02') compete in a race\n",
      "Synset('move.v.13') progress by being changed\n",
      "Synset('melt.v.01') reduce or cause to be reduced from a solid to a liquid state, usually by heating\n",
      "Synset('ladder.v.01') come unraveled or undone as if by snagging\n",
      "Synset('run.v.41') become undone\n"
     ]
    }
   ],
   "source": [
    "contextos_a = []\n",
    "for a in wn.synsets(palabra1, pos=wn.VERB):\n",
    "    #if(palabra2 in a.definition()):\n",
    "    print(a, a.definition())\n",
    "    c_a=a\n",
    "    contextos_a.append(a)"
   ]
  },
  {
   "cell_type": "code",
   "execution_count": 160,
   "metadata": {},
   "outputs": [
    {
     "data": {
      "text/plain": [
       "[Synset('run.v.01'),\n",
       " Synset('scat.v.01'),\n",
       " Synset('run.v.03'),\n",
       " Synset('operate.v.01'),\n",
       " Synset('run.v.05'),\n",
       " Synset('run.v.06'),\n",
       " Synset('function.v.01'),\n",
       " Synset('range.v.01'),\n",
       " Synset('campaign.v.01'),\n",
       " Synset('play.v.18'),\n",
       " Synset('run.v.11'),\n",
       " Synset('tend.v.01'),\n",
       " Synset('run.v.13'),\n",
       " Synset('run.v.14'),\n",
       " Synset('run.v.15'),\n",
       " Synset('run.v.16'),\n",
       " Synset('prevail.v.03'),\n",
       " Synset('run.v.18'),\n",
       " Synset('run.v.19'),\n",
       " Synset('carry.v.15'),\n",
       " Synset('run.v.21'),\n",
       " Synset('guide.v.05'),\n",
       " Synset('run.v.23'),\n",
       " Synset('run.v.24'),\n",
       " Synset('run.v.25'),\n",
       " Synset('run.v.26'),\n",
       " Synset('run.v.27'),\n",
       " Synset('run.v.28'),\n",
       " Synset('run.v.29'),\n",
       " Synset('run.v.30'),\n",
       " Synset('run.v.31'),\n",
       " Synset('run.v.32'),\n",
       " Synset('run.v.33'),\n",
       " Synset('run.v.34'),\n",
       " Synset('ply.v.03'),\n",
       " Synset('hunt.v.01'),\n",
       " Synset('race.v.02'),\n",
       " Synset('move.v.13'),\n",
       " Synset('melt.v.01'),\n",
       " Synset('ladder.v.01'),\n",
       " Synset('run.v.41')]"
      ]
     },
     "execution_count": 160,
     "metadata": {},
     "output_type": "execute_result"
    }
   ],
   "source": [
    "contextos_a"
   ]
  },
  {
   "cell_type": "code",
   "execution_count": 161,
   "metadata": {},
   "outputs": [
    {
     "name": "stdout",
     "output_type": "stream",
     "text": [
      "Synset('sleep.v.01') sleep.v.01 be asleep\n",
      "Synset('sleep.v.02') sleep.v.02 be able to accommodate for sleeping\n"
     ]
    },
    {
     "data": {
      "text/plain": [
       "[Synset('sleep.v.01'), Synset('sleep.v.02')]"
      ]
     },
     "execution_count": 161,
     "metadata": {},
     "output_type": "execute_result"
    }
   ],
   "source": [
    "contextos_b = []\n",
    "for a in wn.synsets(palabra2, pos=wn.VERB):\n",
    "    print(a,a.name(), a.definition())\n",
    "    c_b=a\n",
    "    contextos_b.append(a)\n",
    "contextos_b"
   ]
  },
  {
   "cell_type": "code",
   "execution_count": null,
   "metadata": {},
   "outputs": [],
   "source": []
  },
  {
   "cell_type": "code",
   "execution_count": 163,
   "metadata": {},
   "outputs": [
    {
     "name": "stdout",
     "output_type": "stream",
     "text": [
      "Synset name :   sleep.v.01\n",
      "Synset('run.v.01') Synset('sleep.v.01')\n",
      "None\n",
      "Synset('scat.v.01') Synset('sleep.v.01')\n",
      "None\n",
      "Synset('run.v.03') Synset('sleep.v.01')\n",
      "None\n",
      "Synset('operate.v.01') Synset('sleep.v.01')\n",
      "None\n",
      "Synset('run.v.05') Synset('sleep.v.01')\n",
      "None\n",
      "Synset('run.v.06') Synset('sleep.v.01')\n",
      "None\n",
      "Synset('function.v.01') Synset('sleep.v.01')\n",
      "None\n",
      "Synset('range.v.01') Synset('sleep.v.01')\n",
      "None\n",
      "Synset('campaign.v.01') Synset('sleep.v.01')\n",
      "None\n",
      "Synset('play.v.18') Synset('sleep.v.01')\n",
      "None\n",
      "Synset('run.v.11') Synset('sleep.v.01')\n",
      "None\n",
      "Synset('tend.v.01') Synset('sleep.v.01')\n",
      "None\n",
      "Synset('run.v.13') Synset('sleep.v.01')\n",
      "None\n",
      "Synset('run.v.14') Synset('sleep.v.01')\n",
      "None\n",
      "Synset('run.v.15') Synset('sleep.v.01')\n",
      "None\n",
      "Synset('run.v.16') Synset('sleep.v.01')\n",
      "None\n",
      "Synset('prevail.v.03') Synset('sleep.v.01')\n",
      "None\n",
      "Synset('run.v.18') Synset('sleep.v.01')\n",
      "None\n",
      "Synset('run.v.19') Synset('sleep.v.01')\n",
      "None\n",
      "Synset('carry.v.15') Synset('sleep.v.01')\n",
      "None\n",
      "Synset('run.v.21') Synset('sleep.v.01')\n",
      "None\n",
      "Synset('guide.v.05') Synset('sleep.v.01')\n",
      "None\n",
      "Synset('run.v.23') Synset('sleep.v.01')\n",
      "None\n",
      "Synset('run.v.24') Synset('sleep.v.01')\n",
      "None\n",
      "Synset('run.v.25') Synset('sleep.v.01')\n",
      "None\n",
      "Synset('run.v.26') Synset('sleep.v.01')\n",
      "None\n",
      "Synset('run.v.27') Synset('sleep.v.01')\n",
      "None\n",
      "Synset('run.v.28') Synset('sleep.v.01')\n",
      "None\n",
      "Synset('run.v.29') Synset('sleep.v.01')\n",
      "None\n",
      "Synset('run.v.30') Synset('sleep.v.01')\n",
      "None\n",
      "Synset('run.v.31') Synset('sleep.v.01')\n",
      "None\n",
      "Synset('run.v.32') Synset('sleep.v.01')\n",
      "None\n",
      "Synset('run.v.33') Synset('sleep.v.01')\n",
      "None\n",
      "Synset('run.v.34') Synset('sleep.v.01')\n",
      "None\n",
      "Synset('ply.v.03') Synset('sleep.v.01')\n",
      "None\n",
      "Synset('hunt.v.01') Synset('sleep.v.01')\n",
      "None\n",
      "Synset('race.v.02') Synset('sleep.v.01')\n",
      "None\n",
      "Synset('move.v.13') Synset('sleep.v.01')\n",
      "None\n",
      "Synset('melt.v.01') Synset('sleep.v.01')\n",
      "None\n",
      "Synset('ladder.v.01') Synset('sleep.v.01')\n",
      "None\n",
      "Synset('run.v.41') Synset('sleep.v.01')\n",
      "None\n",
      "Synset name :   sleep.v.02\n",
      "Synset('run.v.01') Synset('sleep.v.02')\n",
      "None\n",
      "Synset('scat.v.01') Synset('sleep.v.02')\n",
      "None\n",
      "Synset('run.v.03') Synset('sleep.v.02')\n",
      "None\n",
      "Synset('operate.v.01') Synset('sleep.v.02')\n",
      "None\n",
      "Synset('run.v.05') Synset('sleep.v.02')\n",
      "None\n",
      "Synset('run.v.06') Synset('sleep.v.02')\n",
      "None\n",
      "Synset('function.v.01') Synset('sleep.v.02')\n",
      "None\n",
      "Synset('range.v.01') Synset('sleep.v.02')\n",
      "None\n",
      "Synset('campaign.v.01') Synset('sleep.v.02')\n",
      "None\n",
      "Synset('play.v.18') Synset('sleep.v.02')\n",
      "None\n",
      "Synset('run.v.11') Synset('sleep.v.02')\n",
      "None\n",
      "Synset('tend.v.01') Synset('sleep.v.02')\n",
      "None\n",
      "Synset('run.v.13') Synset('sleep.v.02')\n",
      "None\n",
      "Synset('run.v.14') Synset('sleep.v.02')\n",
      "None\n",
      "Synset('run.v.15') Synset('sleep.v.02')\n",
      "None\n",
      "Synset('run.v.16') Synset('sleep.v.02')\n",
      "None\n",
      "Synset('prevail.v.03') Synset('sleep.v.02')\n",
      "None\n",
      "Synset('run.v.18') Synset('sleep.v.02')\n",
      "None\n",
      "Synset('run.v.19') Synset('sleep.v.02')\n",
      "None\n",
      "Synset('carry.v.15') Synset('sleep.v.02')\n",
      "None\n",
      "Synset('run.v.21') Synset('sleep.v.02')\n",
      "None\n",
      "Synset('guide.v.05') Synset('sleep.v.02')\n",
      "None\n",
      "Synset('run.v.23') Synset('sleep.v.02')\n",
      "None\n",
      "Synset('run.v.24') Synset('sleep.v.02')\n",
      "None\n",
      "Synset('run.v.25') Synset('sleep.v.02')\n",
      "None\n",
      "Synset('run.v.26') Synset('sleep.v.02')\n",
      "None\n",
      "Synset('run.v.27') Synset('sleep.v.02')\n",
      "None\n",
      "Synset('run.v.28') Synset('sleep.v.02')\n",
      "None\n",
      "Synset('run.v.29') Synset('sleep.v.02')\n",
      "None\n",
      "Synset('run.v.30') Synset('sleep.v.02')\n",
      "None\n",
      "Synset('run.v.31') Synset('sleep.v.02')\n",
      "None\n",
      "Synset('run.v.32') Synset('sleep.v.02')\n",
      "None\n",
      "Synset('run.v.33') Synset('sleep.v.02')\n",
      "None\n",
      "Synset('run.v.34') Synset('sleep.v.02')\n",
      "None\n",
      "Synset('ply.v.03') Synset('sleep.v.02')\n",
      "None\n",
      "Synset('hunt.v.01') Synset('sleep.v.02')\n",
      "None\n",
      "Synset('race.v.02') Synset('sleep.v.02')\n",
      "None\n",
      "Synset('move.v.13') Synset('sleep.v.02')\n",
      "None\n",
      "Synset('melt.v.01') Synset('sleep.v.02')\n",
      "None\n",
      "Synset('ladder.v.01') Synset('sleep.v.02')\n",
      "None\n",
      "Synset('run.v.41') Synset('sleep.v.02')\n",
      "None\n"
     ]
    }
   ],
   "source": [
    "distancia = 5\n",
    "for b in contextos_b:\n",
    "    print (\"Synset name :  \", b.name())\n",
    "    for a in contextos_a:\n",
    "        print(a,b)\n",
    "        p=a.shortest_path_distance(b)\n",
    "        print(p)\n",
    "        if p!=None and p<distancia:\n",
    "            print(a,b,a.shortest_path_distance(b))\n",
    "            distancia=a.shortest_path_distance(b)\n",
    "            c_a=a\n",
    "            c_b=b"
   ]
  },
  {
   "cell_type": "code",
   "execution_count": 164,
   "metadata": {},
   "outputs": [
    {
     "name": "stdout",
     "output_type": "stream",
     "text": [
      "Synset('run.v.41') Synset('sleep.v.02')\n"
     ]
    }
   ],
   "source": [
    "print(c_a,c_b)"
   ]
  },
  {
   "cell_type": "code",
   "execution_count": 165,
   "metadata": {},
   "outputs": [
    {
     "data": {
      "text/plain": [
       "['run', 'unravel']"
      ]
     },
     "execution_count": 165,
     "metadata": {},
     "output_type": "execute_result"
    }
   ],
   "source": [
    "c_a.lemma_names()"
   ]
  },
  {
   "cell_type": "code",
   "execution_count": 137,
   "metadata": {},
   "outputs": [
    {
     "data": {
      "text/plain": [
       "['sleep']"
      ]
     },
     "execution_count": 137,
     "metadata": {},
     "output_type": "execute_result"
    }
   ],
   "source": [
    "c_b.lemma_names()"
   ]
  },
  {
   "cell_type": "code",
   "execution_count": 138,
   "metadata": {},
   "outputs": [
    {
     "data": {
      "text/plain": [
       "Synset('sleep.v.02')"
      ]
     },
     "execution_count": 138,
     "metadata": {},
     "output_type": "execute_result"
    }
   ],
   "source": [
    "c_b"
   ]
  },
  {
   "cell_type": "code",
   "execution_count": 139,
   "metadata": {},
   "outputs": [
    {
     "data": {
      "text/plain": [
       "['disintegrate']"
      ]
     },
     "execution_count": 139,
     "metadata": {},
     "output_type": "execute_result"
    }
   ],
   "source": [
    "hyper = sorted(lemma.name() for synset in c_a.hypernyms() for lemma in synset.lemmas())\n",
    "hyper"
   ]
  },
  {
   "cell_type": "code",
   "execution_count": 140,
   "metadata": {},
   "outputs": [],
   "source": [
    "hipon = sorted(lemma.name() for synset in c_b.hypernyms() for lemma in synset.lemmas())"
   ]
  },
  {
   "cell_type": "code",
   "execution_count": 141,
   "metadata": {},
   "outputs": [
    {
     "data": {
      "text/plain": [
       "['accommodate', 'admit', 'hold']"
      ]
     },
     "execution_count": 141,
     "metadata": {},
     "output_type": "execute_result"
    }
   ],
   "source": [
    "hipon"
   ]
  },
  {
   "cell_type": "code",
   "execution_count": 142,
   "metadata": {},
   "outputs": [
    {
     "data": {
      "text/plain": [
       "set()"
      ]
     },
     "execution_count": 142,
     "metadata": {},
     "output_type": "execute_result"
    }
   ],
   "source": [
    "hyper_s=set(hyper)\n",
    "hipon_s=set(hipon)\n",
    "hyper_s.intersection(hipon_s)"
   ]
  },
  {
   "cell_type": "code",
   "execution_count": 143,
   "metadata": {},
   "outputs": [
    {
     "name": "stdout",
     "output_type": "stream",
     "text": [
      "[[Synset('entity.n.01'), Synset('abstraction.n.06'), Synset('psychological_feature.n.01'), Synset('event.n.01'), Synset('act.n.02'), Synset('action.n.01'), Synset('accomplishment.n.01'), Synset('attainment.n.01'), Synset('success.n.02'), Synset('score.n.10'), Synset('run.n.01')]]\n",
      "[[Synset('entity.n.01'), Synset('abstraction.n.06'), Synset('psychological_feature.n.01'), Synset('event.n.01'), Synset('act.n.02'), Synset('activity.n.01'), Synset('attempt.n.01'), Synset('test.n.05')]]\n",
      "[[Synset('entity.n.01'), Synset('abstraction.n.06'), Synset('psychological_feature.n.01'), Synset('event.n.01'), Synset('social_event.n.01'), Synset('contest.n.01'), Synset('race.n.02'), Synset('footrace.n.01')]]\n",
      "[[Synset('entity.n.01'), Synset('abstraction.n.06'), Synset('group.n.01'), Synset('arrangement.n.02'), Synset('ordering.n.01'), Synset('series.n.01'), Synset('succession.n.02'), Synset('streak.n.01')]]\n",
      "[[Synset('entity.n.01'), Synset('abstraction.n.06'), Synset('psychological_feature.n.01'), Synset('cognition.n.01'), Synset('content.n.05'), Synset('idea.n.01'), Synset('plan.n.01'), Synset('plan_of_action.n.01'), Synset('play.n.03'), Synset('football_play.n.01'), Synset('run.n.05')]]\n",
      "[[Synset('entity.n.01'), Synset('abstraction.n.06'), Synset('psychological_feature.n.01'), Synset('event.n.01'), Synset('act.n.02'), Synset('action.n.01'), Synset('change.n.03'), Synset('motion.n.06'), Synset('travel.n.01'), Synset('journey.n.01'), Synset('trip.n.01'), Synset('run.n.06')]]\n",
      "[[Synset('entity.n.01'), Synset('abstraction.n.06'), Synset('psychological_feature.n.01'), Synset('event.n.01'), Synset('act.n.02'), Synset('action.n.01'), Synset('change.n.03'), Synset('motion.n.06'), Synset('locomotion.n.02'), Synset('run.n.07')]]\n",
      "[[Synset('entity.n.01'), Synset('abstraction.n.06'), Synset('measure.n.02'), Synset('fundamental_quantity.n.01'), Synset('time_period.n.01'), Synset('run.n.08')]]\n",
      "[[Synset('entity.n.01'), Synset('abstraction.n.06'), Synset('attribute.n.02'), Synset('state.n.02'), Synset('freedom.n.01'), Synset('liberty.n.02'), Synset('run.n.09')]]\n",
      "[[Synset('entity.n.01'), Synset('abstraction.n.06'), Synset('measure.n.02'), Synset('indefinite_quantity.n.01'), Synset('run.n.10')]]\n",
      "[[Synset('entity.n.01'), Synset('physical_entity.n.01'), Synset('thing.n.12'), Synset('body_of_water.n.01'), Synset('stream.n.01'), Synset('rivulet.n.01')]]\n",
      "[[Synset('entity.n.01'), Synset('abstraction.n.06'), Synset('psychological_feature.n.01'), Synset('event.n.01'), Synset('social_event.n.01'), Synset('contest.n.01'), Synset('race.n.01'), Synset('political_campaign.n.01')]]\n",
      "[[Synset('entity.n.01'), Synset('abstraction.n.06'), Synset('psychological_feature.n.01'), Synset('event.n.01'), Synset('happening.n.01'), Synset('change.n.01'), Synset('damage.n.01'), Synset('run.n.13')]]\n",
      "[[Synset('entity.n.01'), Synset('abstraction.n.06'), Synset('psychological_feature.n.01'), Synset('event.n.01'), Synset('happening.n.01'), Synset('movement.n.03'), Synset('change_of_location.n.01'), Synset('flow.n.01'), Synset('discharge.n.06')]]\n",
      "[[Synset('entity.n.01'), Synset('abstraction.n.06'), Synset('attribute.n.02'), Synset('property.n.02'), Synset('temporal_property.n.01'), Synset('temporal_arrangement.n.01'), Synset('sequence.n.02'), Synset('run.n.15')]]\n",
      "[[Synset('entity.n.01'), Synset('abstraction.n.06'), Synset('psychological_feature.n.01'), Synset('event.n.01'), Synset('act.n.02'), Synset('action.n.01'), Synset('change.n.03'), Synset('motion.n.06'), Synset('travel.n.01'), Synset('journey.n.01'), Synset('trip.n.01'), Synset('run.n.16')]]\n",
      "[[Synset('travel.v.01'), Synset('travel_rapidly.v.01'), Synset('run.v.01')]]\n",
      "[[Synset('leave.v.01'), Synset('scat.v.01')]]\n",
      "[[Synset('be.v.03'), Synset('run.v.03')]]\n",
      "[[Synset('control.v.01'), Synset('manage.v.02'), Synset('direct.v.04'), Synset('operate.v.01')]]\n",
      "[[Synset('be.v.01'), Synset('run.v.05')]]\n",
      "[[Synset('move.v.03'), Synset('run.v.06')]]\n",
      "[[Synset('function.v.01')]]\n",
      "[[Synset('be.v.01'), Synset('range.v.01')]]\n",
      "[[Synset('compete.v.01'), Synset('race.v.02'), Synset('campaign.v.01')]]\n",
      "[[Synset('play.v.18')]]\n",
      "[[Synset('travel.v.01'), Synset('run.v.11')]]\n",
      "[[Synset('be.v.01'), Synset('tend.v.01')]]\n",
      "[[Synset('function.v.01'), Synset('run.v.13')]]\n",
      "[[Synset('change.v.02'), Synset('change_state.v.01'), Synset('become.v.01'), Synset('run.v.14')]]\n",
      "[[Synset('change.v.01'), Synset('affect.v.01'), Synset('process.v.01'), Synset('run.v.15')]]\n",
      "[[Synset('change.v.01'), Synset('affect.v.01'), Synset('subject.v.01'), Synset('incur.v.01'), Synset('run.v.16')]]\n",
      "[[Synset('be.v.01'), Synset('continue.v.10'), Synset('prevail.v.03')]]\n",
      "[[Synset('appear.v.05'), Synset('occur.v.03'), Synset('run.v.18')]]\n",
      "[[Synset('induce.v.02'), Synset('compel.v.01'), Synset('enforce.v.01'), Synset('run.v.19')]]\n",
      "[[Synset('act.v.01'), Synset('interact.v.01'), Synset('communicate.v.02'), Synset('inform.v.01'), Synset('tell.v.02'), Synset('publicize.v.01'), Synset('circulate.v.02'), Synset('carry.v.15')]]\n",
      "[[Synset('change.v.01'), Synset('end.v.02'), Synset('complete.v.01'), Synset('carry_through.v.01'), Synset('run.v.21')], [Synset('make.v.03'), Synset('cause.v.01'), Synset('effect.v.01'), Synset('carry_through.v.01'), Synset('run.v.21')]]\n",
      "[[Synset('guide.v.05')]]\n",
      "[[Synset('pass.v.22'), Synset('run.v.23')]]\n",
      "[[Synset('succeed.v.01'), Synset('run.v.24')]]\n",
      "[[Synset('trade.v.01'), Synset('run.v.25')]]\n",
      "[[Synset('move.v.02'), Synset('run.v.26')]]\n",
      "[[Synset('spread.v.01'), Synset('diffuse.v.01'), Synset('run.v.27')]]\n",
      "[[Synset('travel.v.01'), Synset('travel.v.05'), Synset('ride.v.02'), Synset('boat.v.01'), Synset('sail.v.03'), Synset('run.v.28')]]\n",
      "[[Synset('travel.v.01'), Synset('pass.v.01'), Synset('run.v.29')]]\n",
      "[[Synset('be.v.01'), Synset('measure.v.03'), Synset('last.v.01'), Synset('run.v.30')]]\n",
      "[[Synset('free.v.01'), Synset('run.v.31')]]\n",
      "[[Synset('travel.v.01'), Synset('accompany.v.02'), Synset('run.v.32')]]\n",
      "[[Synset('travel.v.01'), Synset('travel_rapidly.v.01'), Synset('run.v.01'), Synset('run.v.33')]]\n",
      "[[Synset('travel.v.01'), Synset('run.v.34')]]\n",
      "[[Synset('travel.v.03'), Synset('ply.v.03')]]\n",
      "[[Synset('get.v.01'), Synset('capture.v.06'), Synset('hunt.v.01')]]\n",
      "[[Synset('compete.v.01'), Synset('race.v.02')]]\n",
      "[[Synset('change.v.02'), Synset('move.v.13')]]\n",
      "[[Synset('change.v.02'), Synset('change_integrity.v.01'), Synset('dissolve.v.02'), Synset('melt.v.01')]]\n",
      "[[Synset('change.v.02'), Synset('change_integrity.v.01'), Synset('break.v.02'), Synset('ladder.v.01')]]\n",
      "[[Synset('change.v.02'), Synset('change_integrity.v.01'), Synset('disintegrate.v.01'), Synset('run.v.41')]]\n"
     ]
    }
   ],
   "source": [
    "for a in wn.synsets(palabra1):\n",
    "    print(a.hypernym_paths())"
   ]
  },
  {
   "cell_type": "code",
   "execution_count": 177,
   "metadata": {},
   "outputs": [
    {
     "name": "stdout",
     "output_type": "stream",
     "text": [
      "[[Synset('entity.n.01'), Synset('abstraction.n.06'), Synset('attribute.n.02'), Synset('state.n.02'), Synset('condition.n.01'), Synset('physical_condition.n.01'), Synset('sleep.n.01')]]\n",
      "[[Synset('entity.n.01'), Synset('abstraction.n.06'), Synset('attribute.n.02'), Synset('state.n.02'), Synset('condition.n.01'), Synset('physical_condition.n.01'), Synset('sleep.n.02')]]\n",
      "[[Synset('entity.n.01'), Synset('abstraction.n.06'), Synset('measure.n.02'), Synset('fundamental_quantity.n.01'), Synset('time_period.n.01'), Synset('sleep.n.03')]]\n",
      "[[Synset('entity.n.01'), Synset('abstraction.n.06'), Synset('attribute.n.02'), Synset('state.n.02'), Synset('death.n.03'), Synset('rest.n.05')]]\n",
      "[[Synset('lie.v.02'), Synset('recumb.v.01'), Synset('rest.v.05'), Synset('sleep.v.01')]]\n",
      "[[Synset('accommodate.v.04'), Synset('sleep.v.02')]]\n"
     ]
    }
   ],
   "source": [
    "for b in wn.synsets(palabra2):\n",
    "    print(b.hypernym_paths())"
   ]
  },
  {
   "cell_type": "code",
   "execution_count": 178,
   "metadata": {},
   "outputs": [],
   "source": [
    "paths = c_a.hypernym_paths()"
   ]
  },
  {
   "cell_type": "code",
   "execution_count": 180,
   "metadata": {},
   "outputs": [
    {
     "data": {
      "text/plain": [
       "'become undone'"
      ]
     },
     "execution_count": 180,
     "metadata": {},
     "output_type": "execute_result"
    }
   ],
   "source": [
    "c_a.definition()"
   ]
  },
  {
   "cell_type": "code",
   "execution_count": 181,
   "metadata": {},
   "outputs": [
    {
     "data": {
      "text/plain": [
       "[[Synset('change.v.02'),\n",
       "  Synset('change_integrity.v.01'),\n",
       "  Synset('disintegrate.v.01'),\n",
       "  Synset('run.v.41')]]"
      ]
     },
     "execution_count": 181,
     "metadata": {},
     "output_type": "execute_result"
    }
   ],
   "source": [
    "paths"
   ]
  },
  {
   "cell_type": "code",
   "execution_count": 182,
   "metadata": {},
   "outputs": [],
   "source": [
    "pathsb = c_b.hypernym_paths()"
   ]
  },
  {
   "cell_type": "code",
   "execution_count": 183,
   "metadata": {},
   "outputs": [
    {
     "data": {
      "text/plain": [
       "'become undone'"
      ]
     },
     "execution_count": 183,
     "metadata": {},
     "output_type": "execute_result"
    }
   ],
   "source": [
    "c_a.definition()"
   ]
  },
  {
   "cell_type": "code",
   "execution_count": 184,
   "metadata": {},
   "outputs": [
    {
     "data": {
      "text/plain": [
       "'be able to accommodate for sleeping'"
      ]
     },
     "execution_count": 184,
     "metadata": {},
     "output_type": "execute_result"
    }
   ],
   "source": [
    "c_b.definition()"
   ]
  },
  {
   "cell_type": "code",
   "execution_count": 185,
   "metadata": {},
   "outputs": [
    {
     "data": {
      "text/plain": [
       "[[Synset('change.v.02'),\n",
       "  Synset('change_integrity.v.01'),\n",
       "  Synset('disintegrate.v.01'),\n",
       "  Synset('run.v.41')]]"
      ]
     },
     "execution_count": 185,
     "metadata": {},
     "output_type": "execute_result"
    }
   ],
   "source": [
    "paths  # reversa .reverse()"
   ]
  },
  {
   "cell_type": "code",
   "execution_count": 186,
   "metadata": {},
   "outputs": [
    {
     "data": {
      "text/plain": [
       "[Synset('change.v.02'),\n",
       " Synset('change_integrity.v.01'),\n",
       " Synset('disintegrate.v.01'),\n",
       " Synset('run.v.41')]"
      ]
     },
     "execution_count": 186,
     "metadata": {},
     "output_type": "execute_result"
    }
   ],
   "source": [
    "paths[0]"
   ]
  },
  {
   "cell_type": "code",
   "execution_count": 187,
   "metadata": {},
   "outputs": [
    {
     "data": {
      "text/plain": [
       "[Synset('accommodate.v.04'), Synset('sleep.v.02')]"
      ]
     },
     "execution_count": 187,
     "metadata": {},
     "output_type": "execute_result"
    }
   ],
   "source": [
    "pathsb[0]"
   ]
  },
  {
   "cell_type": "code",
   "execution_count": 189,
   "metadata": {},
   "outputs": [
    {
     "data": {
      "text/plain": [
       "set()"
      ]
     },
     "execution_count": 189,
     "metadata": {},
     "output_type": "execute_result"
    }
   ],
   "source": [
    "set(paths[0]).intersection(pathsb[0])"
   ]
  },
  {
   "cell_type": "markdown",
   "metadata": {},
   "source": [
    "# CO-HYPONYMS SOBRE SENTIDOS"
   ]
  },
  {
   "cell_type": "code",
   "execution_count": 315,
   "metadata": {},
   "outputs": [],
   "source": [
    "palabra1=\"banded\"\n",
    "palabra2=\"together\"  # dances"
   ]
  },
  {
   "cell_type": "code",
   "execution_count": 316,
   "metadata": {},
   "outputs": [
    {
     "name": "stdout",
     "output_type": "stream",
     "text": [
      "Synset('band.v.01') band.v.01 bind or tie together, as with a band\n",
      "Synset('ring.v.06') ring.v.06 attach a ring to the foot of, in order to identify\n"
     ]
    },
    {
     "data": {
      "text/plain": [
       "[Synset('band.v.01'), Synset('ring.v.06')]"
      ]
     },
     "execution_count": 316,
     "metadata": {},
     "output_type": "execute_result"
    }
   ],
   "source": [
    "contextos_a = []\n",
    "for a in wn.synsets(palabra1, pos=wn.VERB): #VERB\n",
    "    print(a,a.name(), a.definition())\n",
    "    contextos_a.append(a)\n",
    "contextos_a"
   ]
  },
  {
   "cell_type": "code",
   "execution_count": 317,
   "metadata": {},
   "outputs": [
    {
     "data": {
      "text/plain": [
       "[]"
      ]
     },
     "execution_count": 317,
     "metadata": {},
     "output_type": "execute_result"
    }
   ],
   "source": [
    "contextos_b = []\n",
    "for a in wn.synsets(palabra2, pos=wn.VERB):\n",
    "    print(a,a.name(), a.definition())\n",
    "    contextos_b.append(a)\n",
    "contextos_b"
   ]
  },
  {
   "cell_type": "code",
   "execution_count": 321,
   "metadata": {},
   "outputs": [
    {
     "data": {
      "text/plain": [
       "'ADV'"
      ]
     },
     "execution_count": 321,
     "metadata": {},
     "output_type": "execute_result"
    }
   ],
   "source": [
    "che=\"colorful{colorful,ADV}\"\n",
    "str(che).split(\"}\")[0].split(\",\")[1]"
   ]
  },
  {
   "cell_type": "code",
   "execution_count": 318,
   "metadata": {},
   "outputs": [],
   "source": [
    "for b in contextos_b:\n",
    "    print (\"Synset name :  \", b.name())\n",
    "    pathsb = b.hypernym_paths()\n",
    "    for a in contextos_a:\n",
    "        print(a.lowest_common_hypernyms(b))\n",
    "        if type(a.shortest_path_distance(b))==type(1):\n",
    "            if(a.shortest_path_distance(b)<=4):\n",
    "                print (\"Synset name hiperonimos :  \", a.name(),b.name(),a.lowest_common_hypernyms(b),a.shortest_path_distance(b))\n",
    "                # pathsa = a.hypernym_paths()\n",
    "                # for p1 in pathsb:\n",
    "                #     #p1.reverse()\n",
    "                #     #print(len(p1),p1)\n",
    "                #     for p2 in pathsa:\n",
    "                #         #p2.reverse()\n",
    "                #         #print(len(p2),p2)\n",
    "                #         if (len(set(p1).intersection(set(p2)))>1):\n",
    "                #             print(\"Intersection: \",set(p1).intersection(set(p2)),p1,p2)\n",
    "                #             print(\"Camino corto\",a.shortest_path_distance(b))"
   ]
  },
  {
   "cell_type": "code",
   "execution_count": 113,
   "metadata": {},
   "outputs": [
    {
     "data": {
      "text/plain": [
       "False"
      ]
     },
     "execution_count": 113,
     "metadata": {},
     "output_type": "execute_result"
    }
   ],
   "source": [
    "c_b in paths[0]"
   ]
  },
  {
   "cell_type": "code",
   "execution_count": 36,
   "metadata": {},
   "outputs": [],
   "source": [
    "camino1=paths[0]"
   ]
  },
  {
   "cell_type": "code",
   "execution_count": 37,
   "metadata": {},
   "outputs": [
    {
     "data": {
      "text/plain": [
       "[Synset('entity.n.01'),\n",
       " Synset('physical_entity.n.01'),\n",
       " Synset('object.n.01'),\n",
       " Synset('whole.n.02'),\n",
       " Synset('living_thing.n.01'),\n",
       " Synset('organism.n.01'),\n",
       " Synset('animal.n.01'),\n",
       " Synset('chordate.n.01'),\n",
       " Synset('vertebrate.n.01'),\n",
       " Synset('mammal.n.01'),\n",
       " Synset('placental.n.01'),\n",
       " Synset('carnivore.n.01'),\n",
       " Synset('canine.n.02'),\n",
       " Synset('dog.n.01')]"
      ]
     },
     "execution_count": 37,
     "metadata": {},
     "output_type": "execute_result"
    }
   ],
   "source": [
    "camino1"
   ]
  },
  {
   "cell_type": "code",
   "execution_count": 38,
   "metadata": {},
   "outputs": [
    {
     "data": {
      "text/plain": [
       "14"
      ]
     },
     "execution_count": 38,
     "metadata": {},
     "output_type": "execute_result"
    }
   ],
   "source": [
    "len(camino1)"
   ]
  },
  {
   "cell_type": "code",
   "execution_count": 39,
   "metadata": {},
   "outputs": [
    {
     "name": "stdout",
     "output_type": "stream",
     "text": [
      "Synset('dog.n.01') a member of the genus Canis (probably descended from the common wolf) that has been domesticated by man since prehistoric times; occurs in many breeds\n",
      "Synset('canine.n.02') any of various fissiped mammals with nonretractile claws and typically long muzzles\n",
      "Synset('carnivore.n.01') a terrestrial or aquatic flesh-eating mammal\n",
      "Synset('placental.n.01') mammals having a placenta; all mammals except monotremes and marsupials\n",
      "Synset('mammal.n.01') any warm-blooded vertebrate having the skin more or less covered with hair; young are born alive except for the small subclass of monotremes and nourished with milk\n",
      "Synset('vertebrate.n.01') animals having a bony or cartilaginous skeleton with a segmented spinal column and a large brain enclosed in a skull or cranium\n",
      "Synset('chordate.n.01') any animal of the phylum Chordata having a notochord or spinal column\n",
      "Synset('animal.n.01') a living organism characterized by voluntary movement\n",
      "Synset('organism.n.01') a living thing that has (or can develop) the ability to act or function independently\n",
      "Synset('living_thing.n.01') a living (or once living) entity\n",
      "Synset('whole.n.02') an assemblage of parts that is regarded as a single entity\n",
      "Synset('object.n.01') a tangible and visible entity; an entity that can cast a shadow\n",
      "Synset('physical_entity.n.01') an entity that has physical existence\n"
     ]
    }
   ],
   "source": [
    "for i in range(len(camino1)-1,0,-1):\n",
    "    if(camino1[i]!=c_b):\n",
    "        print(camino1[i],camino1[i].definition())\n",
    "    else:\n",
    "        print(camino1[i],camino1[i].definition())\n",
    "        break"
   ]
  },
  {
   "cell_type": "markdown",
   "metadata": {},
   "source": [
    "# Común hypernyms que existen entre los dos conceptos.\n",
    "## Sí uno es hyperonimo de otro entonces podemos encontrar un camino con la función anterior"
   ]
  },
  {
   "cell_type": "code",
   "execution_count": 40,
   "metadata": {},
   "outputs": [
    {
     "data": {
      "text/plain": [
       "[Synset('carnivore.n.01')]"
      ]
     },
     "execution_count": 40,
     "metadata": {},
     "output_type": "execute_result"
    }
   ],
   "source": [
    "c_a.lowest_common_hypernyms(c_b)"
   ]
  },
  {
   "cell_type": "code",
   "execution_count": 41,
   "metadata": {},
   "outputs": [
    {
     "data": {
      "text/plain": [
       "[Synset('domestic_cat.n.01'), Synset('wildcat.n.03')]"
      ]
     },
     "execution_count": 41,
     "metadata": {},
     "output_type": "execute_result"
    }
   ],
   "source": [
    "c_b.hyponyms()"
   ]
  },
  {
   "cell_type": "markdown",
   "metadata": {},
   "source": [
    "# otro caso"
   ]
  },
  {
   "cell_type": "code",
   "execution_count": 42,
   "metadata": {},
   "outputs": [
    {
     "name": "stdout",
     "output_type": "stream",
     "text": [
      "[Synset('adonis.n.01'), Synset('babu.n.01'), Synset('bachelor.n.01'), Synset('bey.n.01'), Synset('black_man.n.01'), Synset('boy.n.02'), Synset('boyfriend.n.01'), Synset('bull.n.02'), Synset('dandy.n.01'), Synset('ejaculator.n.01'), Synset('esquire.n.02'), Synset('eunuch.n.01'), Synset('ex-boyfriend.n.01'), Synset('ex-husband.n.01'), Synset('father-figure.n.01'), Synset('father_figure.n.01'), Synset('fellow.n.06'), Synset('galoot.n.01'), Synset('geezer.n.01'), Synset('gentleman.n.01'), Synset('grass_widower.n.01'), Synset('guy.n.01'), Synset('herr.n.01'), Synset('hooray_henry.n.01'), Synset('housefather.n.01'), Synset('hunk.n.01'), Synset('inamorato.n.01'), Synset('iron_man.n.01'), Synset('ironside.n.01'), Synset('middle-aged_man.n.01'), Synset('monsieur.n.01'), Synset('old_boy.n.01'), Synset('old_man.n.01'), Synset('patriarch.n.02'), Synset('peter_pan.n.01'), Synset('ponce.n.01'), Synset('posseman.n.01'), Synset('senhor.n.01'), Synset('shaver.n.01'), Synset('signor.n.01'), Synset('signore.n.01'), Synset('sir.n.01'), Synset('stiff.n.01'), Synset('stud.n.01'), Synset('tarzan.n.01'), Synset('white_man.n.01'), Synset('widower.n.01'), Synset('womanizer.n.01'), Synset('wonder_boy.n.01'), Synset('yellow_man.n.01'), Synset('young_buck.n.01')]\n"
     ]
    }
   ],
   "source": [
    "print(wn.synset('man.n.01').hyponyms())"
   ]
  },
  {
   "cell_type": "code",
   "execution_count": 43,
   "metadata": {},
   "outputs": [],
   "source": [
    "dog = wn.synset('man.n.01')"
   ]
  },
  {
   "cell_type": "code",
   "execution_count": 44,
   "metadata": {},
   "outputs": [
    {
     "data": {
      "text/plain": [
       "[Synset('adult.n.01'), Synset('male.n.02')]"
      ]
     },
     "execution_count": 44,
     "metadata": {},
     "output_type": "execute_result"
    }
   ],
   "source": [
    "dog.hypernyms()"
   ]
  },
  {
   "cell_type": "code",
   "execution_count": 45,
   "metadata": {},
   "outputs": [
    {
     "data": {
      "text/plain": [
       "[Synset('person.n.01')]"
      ]
     },
     "execution_count": 45,
     "metadata": {},
     "output_type": "execute_result"
    }
   ],
   "source": [
    "adulto = wn.synset('adult.n.01')\n",
    "adulto.hypernyms()"
   ]
  },
  {
   "cell_type": "code",
   "execution_count": 46,
   "metadata": {},
   "outputs": [
    {
     "data": {
      "text/plain": [
       "[Synset('person.n.01'), Synset('person.n.02'), Synset('person.n.03')]"
      ]
     },
     "execution_count": 46,
     "metadata": {},
     "output_type": "execute_result"
    }
   ],
   "source": [
    "wn.synsets('person', pos=wn.NOUN)"
   ]
  },
  {
   "cell_type": "code",
   "execution_count": 47,
   "metadata": {},
   "outputs": [
    {
     "data": {
      "text/plain": [
       "'a human being'"
      ]
     },
     "execution_count": 47,
     "metadata": {},
     "output_type": "execute_result"
    }
   ],
   "source": [
    "person=wn.synset('person.n.01')\n",
    "person.definition()"
   ]
  },
  {
   "cell_type": "code",
   "execution_count": 48,
   "metadata": {},
   "outputs": [
    {
     "data": {
      "text/plain": [
       "[Synset('adonis.n.01'),\n",
       " Synset('babu.n.01'),\n",
       " Synset('bachelor.n.01'),\n",
       " Synset('bey.n.01'),\n",
       " Synset('black_man.n.01'),\n",
       " Synset('boy.n.02'),\n",
       " Synset('boyfriend.n.01'),\n",
       " Synset('bull.n.02'),\n",
       " Synset('dandy.n.01'),\n",
       " Synset('ejaculator.n.01'),\n",
       " Synset('esquire.n.02'),\n",
       " Synset('eunuch.n.01'),\n",
       " Synset('ex-boyfriend.n.01'),\n",
       " Synset('ex-husband.n.01'),\n",
       " Synset('father-figure.n.01'),\n",
       " Synset('father_figure.n.01'),\n",
       " Synset('fellow.n.06'),\n",
       " Synset('galoot.n.01'),\n",
       " Synset('geezer.n.01'),\n",
       " Synset('gentleman.n.01'),\n",
       " Synset('grass_widower.n.01'),\n",
       " Synset('guy.n.01'),\n",
       " Synset('herr.n.01'),\n",
       " Synset('hooray_henry.n.01'),\n",
       " Synset('housefather.n.01'),\n",
       " Synset('hunk.n.01'),\n",
       " Synset('inamorato.n.01'),\n",
       " Synset('iron_man.n.01'),\n",
       " Synset('ironside.n.01'),\n",
       " Synset('middle-aged_man.n.01'),\n",
       " Synset('monsieur.n.01'),\n",
       " Synset('old_boy.n.01'),\n",
       " Synset('old_man.n.01'),\n",
       " Synset('patriarch.n.02'),\n",
       " Synset('peter_pan.n.01'),\n",
       " Synset('ponce.n.01'),\n",
       " Synset('posseman.n.01'),\n",
       " Synset('senhor.n.01'),\n",
       " Synset('shaver.n.01'),\n",
       " Synset('signor.n.01'),\n",
       " Synset('signore.n.01'),\n",
       " Synset('sir.n.01'),\n",
       " Synset('stiff.n.01'),\n",
       " Synset('stud.n.01'),\n",
       " Synset('tarzan.n.01'),\n",
       " Synset('white_man.n.01'),\n",
       " Synset('widower.n.01'),\n",
       " Synset('womanizer.n.01'),\n",
       " Synset('wonder_boy.n.01'),\n",
       " Synset('yellow_man.n.01'),\n",
       " Synset('young_buck.n.01')]"
      ]
     },
     "execution_count": 48,
     "metadata": {},
     "output_type": "execute_result"
    }
   ],
   "source": [
    "dog.hyponyms()"
   ]
  },
  {
   "cell_type": "code",
   "execution_count": 49,
   "metadata": {},
   "outputs": [
    {
     "data": {
      "text/plain": [
       "[]"
      ]
     },
     "execution_count": 49,
     "metadata": {},
     "output_type": "execute_result"
    }
   ],
   "source": [
    "dog.member_holonyms()"
   ]
  },
  {
   "cell_type": "code",
   "execution_count": 50,
   "metadata": {},
   "outputs": [
    {
     "data": {
      "text/plain": [
       "[Synset('entity.n.01')]"
      ]
     },
     "execution_count": 50,
     "metadata": {},
     "output_type": "execute_result"
    }
   ],
   "source": [
    "dog.root_hypernyms()"
   ]
  },
  {
   "cell_type": "code",
   "execution_count": 51,
   "metadata": {},
   "outputs": [
    {
     "data": {
      "text/plain": [
       "[Synset('carnivore.n.01')]"
      ]
     },
     "execution_count": 51,
     "metadata": {},
     "output_type": "execute_result"
    }
   ],
   "source": [
    "wn.synset('dog.n.01').lowest_common_hypernyms(wn.synset('cat.n.01'))"
   ]
  },
  {
   "cell_type": "code",
   "execution_count": 52,
   "metadata": {},
   "outputs": [
    {
     "data": {
      "text/plain": [
       "4"
      ]
     },
     "execution_count": 52,
     "metadata": {},
     "output_type": "execute_result"
    }
   ],
   "source": [
    "wn.synset('dog.n.01').shortest_path_distance(wn.synset('cat.n.01'))"
   ]
  },
  {
   "cell_type": "code",
   "execution_count": 53,
   "metadata": {},
   "outputs": [
    {
     "data": {
      "text/plain": [
       "[Synset('agreement.n.01'),\n",
       " Synset('agreement.n.02'),\n",
       " Synset('agreement.n.03'),\n",
       " Synset('agreement.n.04'),\n",
       " Synset('agreement.n.05'),\n",
       " Synset('agreement.n.06')]"
      ]
     },
     "execution_count": 53,
     "metadata": {},
     "output_type": "execute_result"
    }
   ],
   "source": [
    "wn.synsets('agreement', pos=wn.NOUN)"
   ]
  },
  {
   "cell_type": "code",
   "execution_count": 54,
   "metadata": {},
   "outputs": [
    {
     "data": {
      "text/plain": [
       "[Synset('signer.n.02')]"
      ]
     },
     "execution_count": 54,
     "metadata": {},
     "output_type": "execute_result"
    }
   ],
   "source": [
    "wn.synsets('signatory', pos=wn.NOUN)"
   ]
  },
  {
   "cell_type": "code",
   "execution_count": 55,
   "metadata": {},
   "outputs": [],
   "source": [
    "dev = wn.synset('signer.n.02').lowest_common_hypernyms(wn.synset('agreement.n.01'))"
   ]
  },
  {
   "cell_type": "code",
   "execution_count": 56,
   "metadata": {},
   "outputs": [
    {
     "data": {
      "text/plain": [
       "[Synset('entity.n.01')]"
      ]
     },
     "execution_count": 56,
     "metadata": {},
     "output_type": "execute_result"
    }
   ],
   "source": [
    "dev"
   ]
  },
  {
   "cell_type": "code",
   "execution_count": 57,
   "metadata": {},
   "outputs": [],
   "source": [
    "dev = wn.synset('signer.n.02').lowest_common_hypernyms(wn.synset('agreement.n.01'))"
   ]
  },
  {
   "cell_type": "code",
   "execution_count": 58,
   "metadata": {},
   "outputs": [
    {
     "data": {
      "text/plain": [
       "[Synset('entity.n.01')]"
      ]
     },
     "execution_count": 58,
     "metadata": {},
     "output_type": "execute_result"
    }
   ],
   "source": [
    "dev"
   ]
  },
  {
   "cell_type": "code",
   "execution_count": 59,
   "metadata": {},
   "outputs": [
    {
     "data": {
      "text/plain": [
       "'that which is perceived or known or inferred to have its own distinct existence (living or nonliving)'"
      ]
     },
     "execution_count": 59,
     "metadata": {},
     "output_type": "execute_result"
    }
   ],
   "source": [
    "dev = wn.synset('entity.n.01')\n",
    "dev.definition()"
   ]
  },
  {
   "cell_type": "code",
   "execution_count": 60,
   "metadata": {},
   "outputs": [
    {
     "name": "stdout",
     "output_type": "stream",
     "text": [
      "9\n"
     ]
    }
   ],
   "source": [
    "agreement = wn.synset('agreement.n.01')\n",
    "signer = wn.synset('signer.n.02')\n",
    "print(agreement.shortest_path_distance(signer))"
   ]
  },
  {
   "cell_type": "code",
   "execution_count": 61,
   "metadata": {},
   "outputs": [
    {
     "data": {
      "text/plain": [
       "0.1"
      ]
     },
     "execution_count": 61,
     "metadata": {},
     "output_type": "execute_result"
    }
   ],
   "source": [
    "agreement.path_similarity(signer)"
   ]
  },
  {
   "cell_type": "code",
   "execution_count": 62,
   "metadata": {},
   "outputs": [
    {
     "name": "stdout",
     "output_type": "stream",
     "text": [
      "9\n"
     ]
    }
   ],
   "source": [
    "print(agreement.shortest_path_distance(signer))"
   ]
  },
  {
   "cell_type": "code",
   "execution_count": 63,
   "metadata": {},
   "outputs": [
    {
     "data": {
      "text/plain": [
       "'the statement (oral or written) of an exchange of promises'"
      ]
     },
     "execution_count": 63,
     "metadata": {},
     "output_type": "execute_result"
    }
   ],
   "source": [
    "agreement.definition()"
   ]
  },
  {
   "cell_type": "code",
   "execution_count": 64,
   "metadata": {},
   "outputs": [
    {
     "data": {
      "text/plain": [
       "[Synset('signer.n.02')]"
      ]
     },
     "execution_count": 64,
     "metadata": {},
     "output_type": "execute_result"
    }
   ],
   "source": [
    "signer.tree(agreement)"
   ]
  },
  {
   "cell_type": "code",
   "execution_count": 66,
   "metadata": {},
   "outputs": [
    {
     "data": {
      "text/plain": [
       "[Synset('entity.n.01')]"
      ]
     },
     "execution_count": 66,
     "metadata": {},
     "output_type": "execute_result"
    }
   ],
   "source": [
    "signer.common_hypernyms(agreement)"
   ]
  },
  {
   "cell_type": "code",
   "execution_count": 67,
   "metadata": {},
   "outputs": [
    {
     "name": "stdout",
     "output_type": "stream",
     "text": [
      "[Synset('abhorrer.n.01'), Synset('cosigner.n.01'), Synset('cosigner.n.02'), Synset('endorser.n.02'), Synset('witness.n.04')]\n",
      "['abhorrer']\n",
      "a signer of a 1679 address to Charles II in which those who petitioned for the reconvening of parliament were condemned and abhorred\n",
      "['cosigner', 'cosignatory']\n",
      "one of two or more signers of the same document (as a treaty or declaration)\n",
      "['cosigner']\n",
      "a signer in addition to the principal signer (to verify the authenticity of the principal signature or to provide surety)\n",
      "['endorser', 'indorser']\n",
      "a person who transfers his ownership interest in something by signing a check or negotiable security\n",
      "['witness', 'attestant', 'attestor', 'attestator']\n",
      "(law) a person who attests to the genuineness of a document or signature by adding their own signature\n"
     ]
    }
   ],
   "source": [
    "print(signer.hyponyms())\n",
    "\n",
    "for element in signer.hyponyms():\n",
    "    print(element.lemma_names())\n",
    "    print(element.definition())"
   ]
  },
  {
   "cell_type": "code",
   "execution_count": 68,
   "metadata": {},
   "outputs": [
    {
     "name": "stdout",
     "output_type": "stream",
     "text": [
      "['person', 'individual', 'someone', 'somebody', 'mortal', 'soul']\n",
      "a human being\n"
     ]
    }
   ],
   "source": [
    "for element in signer.hypernyms():\n",
    "    print(element.lemma_names())\n",
    "    print(element.definition())"
   ]
  },
  {
   "cell_type": "code",
   "execution_count": 69,
   "metadata": {},
   "outputs": [
    {
     "name": "stdout",
     "output_type": "stream",
     "text": [
      "['statement']\n",
      "a message that is stated or declared; a communication (oral or written) setting forth particulars or facts etc\n"
     ]
    }
   ],
   "source": [
    "for element in agreement.hypernyms():\n",
    "    print(element.lemma_names())\n",
    "    print(element.definition())"
   ]
  },
  {
   "cell_type": "code",
   "execution_count": 74,
   "metadata": {},
   "outputs": [
    {
     "data": {
      "text/plain": [
       "'that which is perceived or known or inferred to have its own distinct existence (living or nonliving)'"
      ]
     },
     "execution_count": 74,
     "metadata": {},
     "output_type": "execute_result"
    }
   ],
   "source": [
    "ent = wn.synset('entity.n.01')\n",
    "ent.definition()"
   ]
  },
  {
   "cell_type": "markdown",
   "metadata": {},
   "source": [
    "# Vamos a encontrar los synsets que se encuentran entre agreemet y signer"
   ]
  },
  {
   "cell_type": "code",
   "execution_count": 75,
   "metadata": {},
   "outputs": [
    {
     "name": "stdout",
     "output_type": "stream",
     "text": [
      "9\n"
     ]
    }
   ],
   "source": [
    "print(agreement.shortest_path_distance(signer))"
   ]
  },
  {
   "cell_type": "code",
   "execution_count": 76,
   "metadata": {},
   "outputs": [
    {
     "data": {
      "text/plain": [
       "{(Synset('causal_agent.n.01'), 2),\n",
       " (Synset('entity.n.01'), 4),\n",
       " (Synset('entity.n.01'), 7),\n",
       " (Synset('living_thing.n.01'), 3),\n",
       " (Synset('object.n.01'), 5),\n",
       " (Synset('organism.n.01'), 2),\n",
       " (Synset('person.n.01'), 1),\n",
       " (Synset('physical_entity.n.01'), 3),\n",
       " (Synset('physical_entity.n.01'), 6),\n",
       " (Synset('signer.n.02'), 0),\n",
       " (Synset('whole.n.02'), 4)}"
      ]
     },
     "execution_count": 76,
     "metadata": {},
     "output_type": "execute_result"
    }
   ],
   "source": [
    "signer.hypernym_distances(0) "
   ]
  },
  {
   "cell_type": "code",
   "execution_count": 77,
   "metadata": {},
   "outputs": [
    {
     "data": {
      "text/plain": [
       "[Synset('person.n.01')]"
      ]
     },
     "execution_count": 77,
     "metadata": {},
     "output_type": "execute_result"
    }
   ],
   "source": [
    "signer.hypernyms()"
   ]
  },
  {
   "cell_type": "code",
   "execution_count": 78,
   "metadata": {},
   "outputs": [
    {
     "data": {
      "text/plain": [
       "Synset('person.n.01')"
      ]
     },
     "execution_count": 78,
     "metadata": {},
     "output_type": "execute_result"
    }
   ],
   "source": [
    "persona = wn.synset('person.n.01')\n",
    "persona"
   ]
  },
  {
   "cell_type": "code",
   "execution_count": 79,
   "metadata": {},
   "outputs": [
    {
     "data": {
      "text/plain": [
       "{(Synset('causal_agent.n.01'), 1),\n",
       " (Synset('entity.n.01'), 3),\n",
       " (Synset('entity.n.01'), 6),\n",
       " (Synset('living_thing.n.01'), 2),\n",
       " (Synset('object.n.01'), 4),\n",
       " (Synset('organism.n.01'), 1),\n",
       " (Synset('person.n.01'), 0),\n",
       " (Synset('physical_entity.n.01'), 2),\n",
       " (Synset('physical_entity.n.01'), 5),\n",
       " (Synset('whole.n.02'), 3)}"
      ]
     },
     "execution_count": 79,
     "metadata": {},
     "output_type": "execute_result"
    }
   ],
   "source": [
    "persona.hypernym_distances()"
   ]
  },
  {
   "cell_type": "code",
   "execution_count": 80,
   "metadata": {},
   "outputs": [
    {
     "data": {
      "text/plain": [
       "'that which is perceived or known or inferred to have its own distinct existence (living or nonliving)'"
      ]
     },
     "execution_count": 80,
     "metadata": {},
     "output_type": "execute_result"
    }
   ],
   "source": [
    "entidad = wn.synset('entity.n.01')\n",
    "entidad.definition()"
   ]
  },
  {
   "cell_type": "code",
   "execution_count": 81,
   "metadata": {},
   "outputs": [],
   "source": [
    "paths = signer.hypernym_paths()"
   ]
  },
  {
   "cell_type": "code",
   "execution_count": 82,
   "metadata": {},
   "outputs": [
    {
     "data": {
      "text/plain": [
       "[[Synset('entity.n.01'),\n",
       "  Synset('physical_entity.n.01'),\n",
       "  Synset('causal_agent.n.01'),\n",
       "  Synset('person.n.01'),\n",
       "  Synset('signer.n.02')],\n",
       " [Synset('entity.n.01'),\n",
       "  Synset('physical_entity.n.01'),\n",
       "  Synset('object.n.01'),\n",
       "  Synset('whole.n.02'),\n",
       "  Synset('living_thing.n.01'),\n",
       "  Synset('organism.n.01'),\n",
       "  Synset('person.n.01'),\n",
       "  Synset('signer.n.02')]]"
      ]
     },
     "execution_count": 82,
     "metadata": {},
     "output_type": "execute_result"
    }
   ],
   "source": [
    "paths"
   ]
  },
  {
   "cell_type": "code",
   "execution_count": 83,
   "metadata": {},
   "outputs": [
    {
     "name": "stdout",
     "output_type": "stream",
     "text": [
      "entity.n.01 that which is perceived or known or inferred to have its own distinct existence (living or nonliving)\n",
      "physical_entity.n.01 an entity that has physical existence\n",
      "causal_agent.n.01 any entity that produces an effect or is responsible for events or results\n",
      "person.n.01 a human being\n",
      "signer.n.02 someone who signs and is bound by a document\n"
     ]
    },
    {
     "data": {
      "text/plain": [
       "[None, None, None, None, None]"
      ]
     },
     "execution_count": 83,
     "metadata": {},
     "output_type": "execute_result"
    }
   ],
   "source": [
    "[print(synset.name(), synset.definition()) for synset in paths[0]]"
   ]
  },
  {
   "cell_type": "code",
   "execution_count": 84,
   "metadata": {},
   "outputs": [
    {
     "data": {
      "text/plain": [
       "[[Synset('entity.n.01'),\n",
       "  Synset('abstraction.n.06'),\n",
       "  Synset('communication.n.02'),\n",
       "  Synset('message.n.02'),\n",
       "  Synset('statement.n.01'),\n",
       "  Synset('agreement.n.01')]]"
      ]
     },
     "execution_count": 84,
     "metadata": {},
     "output_type": "execute_result"
    }
   ],
   "source": [
    "paths_a = agreement.hypernym_paths()\n",
    "paths_a"
   ]
  },
  {
   "cell_type": "code",
   "execution_count": 85,
   "metadata": {},
   "outputs": [
    {
     "name": "stdout",
     "output_type": "stream",
     "text": [
      "entity.n.01 that which is perceived or known or inferred to have its own distinct existence (living or nonliving)\n",
      "abstraction.n.06 a general concept formed by extracting common features from specific examples\n",
      "communication.n.02 something that is communicated by or to or between people or groups\n",
      "message.n.02 what a communication that is about something is about\n",
      "statement.n.01 a message that is stated or declared; a communication (oral or written) setting forth particulars or facts etc\n",
      "agreement.n.01 the statement (oral or written) of an exchange of promises\n"
     ]
    },
    {
     "data": {
      "text/plain": [
       "[None, None, None, None, None, None]"
      ]
     },
     "execution_count": 85,
     "metadata": {},
     "output_type": "execute_result"
    }
   ],
   "source": [
    "[print(synset.name(), synset.definition()) for synset in paths_a[0]]"
   ]
  },
  {
   "cell_type": "code",
   "execution_count": 86,
   "metadata": {},
   "outputs": [
    {
     "data": {
      "text/plain": [
       "[]"
      ]
     },
     "execution_count": 86,
     "metadata": {},
     "output_type": "execute_result"
    }
   ],
   "source": [
    "wn.synset('agreement.n.02').part_holonyms()"
   ]
  },
  {
   "cell_type": "markdown",
   "metadata": {},
   "source": [
    "### Entidad es el root entonces requerimos llegar a agreement"
   ]
  },
  {
   "cell_type": "code",
   "execution_count": 87,
   "metadata": {},
   "outputs": [
    {
     "data": {
      "text/plain": [
       "[Synset('abstraction.n.06'),\n",
       " Synset('physical_entity.n.01'),\n",
       " Synset('thing.n.08')]"
      ]
     },
     "execution_count": 87,
     "metadata": {},
     "output_type": "execute_result"
    }
   ],
   "source": [
    "entidad.hyponyms()"
   ]
  },
  {
   "cell_type": "code",
   "execution_count": 104,
   "metadata": {},
   "outputs": [
    {
     "data": {
      "text/plain": [
       "'a general concept formed by extracting common features from specific examples'"
      ]
     },
     "execution_count": 104,
     "metadata": {},
     "output_type": "execute_result"
    }
   ],
   "source": [
    "abst = wn.synset('abstraction.n.06')\n",
    "abst.definition()"
   ]
  },
  {
   "cell_type": "code",
   "execution_count": 105,
   "metadata": {},
   "outputs": [
    {
     "data": {
      "text/plain": [
       "[Synset('attribute.n.02'),\n",
       " Synset('communication.n.02'),\n",
       " Synset('group.n.01'),\n",
       " Synset('measure.n.02'),\n",
       " Synset('otherworld.n.01'),\n",
       " Synset('psychological_feature.n.01'),\n",
       " Synset('relation.n.01'),\n",
       " Synset('set.n.02')]"
      ]
     },
     "execution_count": 105,
     "metadata": {},
     "output_type": "execute_result"
    }
   ],
   "source": [
    "abst.hyponyms()"
   ]
  },
  {
   "cell_type": "code",
   "execution_count": 106,
   "metadata": {},
   "outputs": [
    {
     "data": {
      "text/plain": [
       "Synset('communication.n.02')"
      ]
     },
     "execution_count": 106,
     "metadata": {},
     "output_type": "execute_result"
    }
   ],
   "source": [
    "comunication = wn.synset('communication.n.02')\n",
    "comunication"
   ]
  },
  {
   "cell_type": "code",
   "execution_count": 107,
   "metadata": {},
   "outputs": [
    {
     "data": {
      "text/plain": [
       "[Synset('auditory_communication.n.01'),\n",
       " Synset('contagion.n.03'),\n",
       " Synset('didacticism.n.01'),\n",
       " Synset('display.n.05'),\n",
       " Synset('document.n.03'),\n",
       " Synset('expressive_style.n.01'),\n",
       " Synset('indication.n.01'),\n",
       " Synset('language.n.01'),\n",
       " Synset('message.n.01'),\n",
       " Synset('message.n.02'),\n",
       " Synset('paralanguage.n.01'),\n",
       " Synset('psychic_communication.n.01'),\n",
       " Synset('publication.n.03'),\n",
       " Synset('sign.n.02'),\n",
       " Synset('signal.n.01'),\n",
       " Synset('visual_communication.n.01'),\n",
       " Synset('voice.n.02'),\n",
       " Synset('voice.n.06'),\n",
       " Synset('written_communication.n.01')]"
      ]
     },
     "execution_count": 107,
     "metadata": {},
     "output_type": "execute_result"
    }
   ],
   "source": [
    "comunication.hyponyms()"
   ]
  },
  {
   "cell_type": "code",
   "execution_count": 96,
   "metadata": {},
   "outputs": [
    {
     "data": {
      "text/plain": [
       "{(Synset('abstraction.n.06'), 4),\n",
       " (Synset('agreement.n.01'), 0),\n",
       " (Synset('communication.n.02'), 3),\n",
       " (Synset('entity.n.01'), 5),\n",
       " (Synset('message.n.02'), 2),\n",
       " (Synset('statement.n.01'), 1)}"
      ]
     },
     "execution_count": 96,
     "metadata": {},
     "output_type": "execute_result"
    }
   ],
   "source": [
    "agreement.hypernym_distances(0)"
   ]
  },
  {
   "cell_type": "code",
   "execution_count": 88,
   "metadata": {},
   "outputs": [
    {
     "data": {
      "text/plain": [
       "'a message that is stated or declared; a communication (oral or written) setting forth particulars or facts etc'"
      ]
     },
     "execution_count": 88,
     "metadata": {},
     "output_type": "execute_result"
    }
   ],
   "source": [
    "statement = wn.synset('statement.n.01')\n",
    "statement.definition()"
   ]
  },
  {
   "cell_type": "code",
   "execution_count": 99,
   "metadata": {},
   "outputs": [
    {
     "data": {
      "text/plain": [
       "{(Synset('abstraction.n.06'), 3),\n",
       " (Synset('communication.n.02'), 2),\n",
       " (Synset('entity.n.01'), 4),\n",
       " (Synset('message.n.02'), 1),\n",
       " (Synset('statement.n.01'), 0)}"
      ]
     },
     "execution_count": 99,
     "metadata": {},
     "output_type": "execute_result"
    }
   ],
   "source": [
    "statement.hypernym_distances(0)"
   ]
  },
  {
   "cell_type": "code",
   "execution_count": 100,
   "metadata": {},
   "outputs": [
    {
     "data": {
      "text/plain": [
       "'what a communication that is about something is about'"
      ]
     },
     "execution_count": 100,
     "metadata": {},
     "output_type": "execute_result"
    }
   ],
   "source": [
    "message = wn.synset('message.n.02')\n",
    "message.definition()"
   ]
  },
  {
   "cell_type": "code",
   "execution_count": 101,
   "metadata": {},
   "outputs": [
    {
     "data": {
      "text/plain": [
       "{(Synset('abstraction.n.06'), 2),\n",
       " (Synset('communication.n.02'), 1),\n",
       " (Synset('entity.n.01'), 3),\n",
       " (Synset('message.n.02'), 0)}"
      ]
     },
     "execution_count": 101,
     "metadata": {},
     "output_type": "execute_result"
    }
   ],
   "source": [
    "message.hypernym_distances(0)"
   ]
  },
  {
   "cell_type": "code",
   "execution_count": 102,
   "metadata": {},
   "outputs": [
    {
     "data": {
      "text/plain": [
       "'something that is communicated by or to or between people or groups'"
      ]
     },
     "execution_count": 102,
     "metadata": {},
     "output_type": "execute_result"
    }
   ],
   "source": [
    "comunication = wn.synset('communication.n.02')\n",
    "comunication.definition()"
   ]
  },
  {
   "cell_type": "code",
   "execution_count": 103,
   "metadata": {},
   "outputs": [
    {
     "data": {
      "text/plain": [
       "{(Synset('abstraction.n.06'), 1),\n",
       " (Synset('communication.n.02'), 0),\n",
       " (Synset('entity.n.01'), 2)}"
      ]
     },
     "execution_count": 103,
     "metadata": {},
     "output_type": "execute_result"
    }
   ],
   "source": [
    "comunication.hypernym_distances(0)"
   ]
  },
  {
   "cell_type": "code",
   "execution_count": 76,
   "metadata": {},
   "outputs": [
    {
     "name": "stdout",
     "output_type": "stream",
     "text": [
      "{Synset('physical_entity.n.01'): 3, Synset('organism.n.01'): 2, Synset('person.n.01'): 1, Synset('entity.n.01'): 4, Synset('whole.n.02'): 4, Synset('object.n.01'): 5, Synset('signer.n.02'): 0, Synset('living_thing.n.01'): 3, Synset('causal_agent.n.01'): 2}\n",
      "{(Synset('abstraction.n.06'), 4), (Synset('message.n.02'), 2), (Synset('communication.n.02'), 3), (Synset('entity.n.01'), 5), (Synset('agreement.n.01'), 0), (Synset('statement.n.01'), 1)}\n",
      "{(Synset('physical_entity.n.01'), 3), (Synset('organism.n.01'), 2), (Synset('physical_entity.n.01'), 6), (Synset('person.n.01'), 1), (Synset('entity.n.01'), 4), (Synset('whole.n.02'), 4), (Synset('object.n.01'), 5), (Synset('signer.n.02'), 0), (Synset('entity.n.01'), 7), (Synset('living_thing.n.01'), 3), (Synset('causal_agent.n.01'), 2)}\n",
      "Synset('entity.n.01')\n",
      "5  -  4\n",
      "9\n"
     ]
    }
   ],
   "source": [
    "path_distance =-1\n",
    "dist_list1 = agreement.hypernym_distances(0) \n",
    "dist_dict1 = {} \n",
    "dist_list2 = signer.hypernym_distances(0) \n",
    "dist_dict2 = {} \n",
    "   \n",
    "# Transform each distance list into a dictionary. In cases where \n",
    "# there are duplicate nodes in the list (due to there being multiple \n",
    "# paths to the root) the duplicate with the shortest distance from \n",
    "# the original node is entered. \n",
    " \n",
    "for (l, d) in [(dist_list1, dist_dict1), (dist_list2, dist_dict2)]: \n",
    "    for (key, value) in l: \n",
    "        if key in d: \n",
    "            if value < d[key]: \n",
    "                d[key] = value \n",
    "        else: \n",
    "            d[key] = value \n",
    "print(d)\n",
    "# For each ancestor synset common to both subject synsets, find the \n",
    "# connecting path length. Return the shortest of these. \n",
    "print(dist_list1)\n",
    "print(dist_list2)\n",
    "for synset1 in dist_dict1.keys(): \n",
    "    for synset2 in dist_dict2.keys(): \n",
    "        if synset1 == synset2: \n",
    "            print(synset1)\n",
    "            new_distance = dist_dict1[synset1] + dist_dict2[synset2] \n",
    "            print(dist_dict1[synset1], \" - \",dist_dict2[synset2])\n",
    "            if path_distance < 0 or new_distance < path_distance: \n",
    "                path_distance = new_distance \n",
    "print(path_distance)"
   ]
  },
  {
   "cell_type": "code",
   "execution_count": 32,
   "metadata": {},
   "outputs": [],
   "source": [
    "for a in clo:\n",
    "    print(a)"
   ]
  }
 ],
 "metadata": {
  "kernelspec": {
   "display_name": "Python 3",
   "language": "python",
   "name": "python3"
  },
  "language_info": {
   "codemirror_mode": {
    "name": "ipython",
    "version": 3
   },
   "file_extension": ".py",
   "mimetype": "text/x-python",
   "name": "python",
   "nbconvert_exporter": "python",
   "pygments_lexer": "ipython3",
   "version": "3.9.13"
  },
  "orig_nbformat": 4
 },
 "nbformat": 4,
 "nbformat_minor": 2
}
