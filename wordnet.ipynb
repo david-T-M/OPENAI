{
 "cells": [
  {
   "cell_type": "code",
   "execution_count": 1,
   "metadata": {},
   "outputs": [],
   "source": [
    "import nltk, re, os\n",
    "from nltk.corpus import wordnet as wn"
   ]
  },
  {
   "cell_type": "code",
   "execution_count": 3,
   "metadata": {},
   "outputs": [
    {
     "name": "stdout",
     "output_type": "stream",
     "text": [
      "3\n",
      "Synset('meal.n.01') [Synset('nutriment.n.01')]\n",
      "Synset('meal.n.02') [Synset('occasion.n.04')]\n",
      "Synset('meal.n.03') [Synset('foodstuff.n.02')]\n"
     ]
    }
   ],
   "source": [
    "asda=list(wn.synsets(\"meal\",wn.NOUN))\n",
    "print(len(asda))\n",
    "for synset in list(asda)[:100]:\n",
    "    print(synset,synset.hypernyms())"
   ]
  },
  {
   "cell_type": "code",
   "execution_count": 10,
   "metadata": {},
   "outputs": [
    {
     "name": "stdout",
     "output_type": "stream",
     "text": [
      "8\n",
      "Synset('bed.n.01') [Synset('bedroom_furniture.n.01')]\n",
      "Synset('bed.n.02') [Synset('plot.n.02')]\n",
      "Synset('bed.n.03') [Synset('natural_depression.n.01')]\n",
      "Synset('bed.n.04') [Synset('stratum.n.01')]\n",
      "Synset('seam.n.03') [Synset('stratum.n.01')]\n",
      "Synset('layer.n.01') [Synset('artifact.n.01')]\n",
      "Synset('bed.n.07') [Synset('surface.n.01')]\n",
      "Synset('bed.n.08') [Synset('foundation.n.03')]\n"
     ]
    }
   ],
   "source": [
    "asda=list(wn.synsets(\"bed\",wn.NOUN))\n",
    "print(len(asda))\n",
    "for synset in list(asda)[:100]:\n",
    "    print(synset,synset.hypernyms())"
   ]
  },
  {
   "cell_type": "code",
   "execution_count": 14,
   "metadata": {},
   "outputs": [],
   "source": [
    "palabra1=\"front\"\n",
    "palabra2=\"bed\""
   ]
  },
  {
   "cell_type": "code",
   "execution_count": 16,
   "metadata": {},
   "outputs": [
    {
     "name": "stdout",
     "output_type": "stream",
     "text": [
      "Lemma('front.n.01.front')\n",
      "Lemma('rear.n.02.rear')\n",
      "Lemma('front.n.01.front_end')\n",
      "Lemma('front.n.01.forepart')\n",
      "Lemma('battlefront.n.01.battlefront')\n",
      "Lemma('battlefront.n.01.front')\n",
      "Lemma('battlefront.n.01.front_line')\n",
      "Lemma('front.n.03.front')\n",
      "Lemma('front.n.04.front')\n",
      "Lemma('rear.n.05.rear')\n",
      "Lemma('front_man.n.01.front_man')\n",
      "Lemma('front_man.n.01.front')\n",
      "Lemma('front_man.n.01.figurehead')\n",
      "Lemma('front_man.n.01.nominal_head')\n",
      "Lemma('front_man.n.01.straw_man')\n",
      "Lemma('front_man.n.01.strawman')\n",
      "Lemma('front.n.06.front')\n",
      "Lemma('front.n.07.front')\n",
      "Lemma('presence.n.02.presence')\n",
      "Lemma('presence.n.02.front')\n",
      "Lemma('front.n.09.front')\n",
      "Lemma('back.n.03.back')\n",
      "Lemma('movement.n.04.movement')\n",
      "Lemma('movement.n.04.social_movement')\n",
      "Lemma('movement.n.04.front')\n",
      "Lemma('front.v.01.front')\n",
      "Lemma('back.v.06.back')\n",
      "Lemma('front.v.01.look')\n",
      "Lemma('front.v.01.face')\n",
      "Lemma('front.v.02.front')\n",
      "Lemma('front.v.02.breast')\n",
      "Lemma('front.a.01.front')\n",
      "Lemma('back.a.01.back')\n",
      "{'strawman', 'social_movement', 'front_man', 'presence', 'face', 'battlefront', 'forepart', 'look', 'nominal_head', 'movement', 'front', 'figurehead', 'breast', 'front_end', 'straw_man', 'front_line'}\n",
      "{'rear', 'back'}\n"
     ]
    }
   ],
   "source": [
    "synonyms = []\n",
    "antonyms = []\n",
    "for syn in wn.synsets(palabra1):\n",
    "    for l in syn.lemmas():\n",
    "        synonyms.append(l.name())\n",
    "        print(l)\n",
    "        if l.antonyms():\n",
    "            print(l.antonyms()[0])\n",
    "            antonyms.append(l.antonyms()[0].name())\n",
    "  \n",
    "print(set(synonyms))\n",
    "print(set(antonyms))"
   ]
  },
  {
   "cell_type": "code",
   "execution_count": 5,
   "metadata": {},
   "outputs": [
    {
     "data": {
      "text/plain": [
       "['woman', 'civilian', 'woman']"
      ]
     },
     "execution_count": 5,
     "metadata": {},
     "output_type": "execute_result"
    }
   ],
   "source": [
    "antonyms"
   ]
  },
  {
   "cell_type": "code",
   "execution_count": 19,
   "metadata": {},
   "outputs": [
    {
     "name": "stdout",
     "output_type": "stream",
     "text": [
      "Synset('front.n.01') Synset('bed.n.02')\n",
      "0.42105263157894735 Synset('front.n.01') the side that is forward or prominent Synset('bed.n.02') a plot of ground in which plants are growing\n",
      "[Synset('entity.n.01'), Synset('location.n.01'), Synset('physical_entity.n.01'), Synset('object.n.01')]\n",
      "Synset('front.n.01') Synset('bed.n.04')\n",
      "0.5555555555555556 Synset('front.n.01') the side that is forward or prominent Synset('bed.n.04') (geology) a stratum of rock (especially sedimentary rock)\n",
      "[Synset('entity.n.01'), Synset('region.n.01'), Synset('object.n.01'), Synset('physical_entity.n.01'), Synset('location.n.01')]\n",
      "Synset('front.n.01') Synset('seam.n.03')\n",
      "0.5555555555555556 Synset('front.n.01') the side that is forward or prominent Synset('seam.n.03') a stratum of ore or coal thick enough to be mined with profit\n",
      "[Synset('entity.n.01'), Synset('region.n.01'), Synset('object.n.01'), Synset('physical_entity.n.01'), Synset('location.n.01')]\n",
      "Synset('battlefront.n.01') Synset('bed.n.02')\n",
      "0.47058823529411764 Synset('battlefront.n.01') the line along which opposing armies face each other Synset('bed.n.02') a plot of ground in which plants are growing\n",
      "[Synset('entity.n.01'), Synset('location.n.01'), Synset('physical_entity.n.01'), Synset('object.n.01')]\n",
      "Synset('battlefront.n.01') Synset('bed.n.03')\n",
      "0.42857142857142855 Synset('battlefront.n.01') the line along which opposing armies face each other Synset('bed.n.03') a depression forming the ground under a body of water\n",
      "[Synset('entity.n.01'), Synset('physical_entity.n.01'), Synset('object.n.01')]\n",
      "Synset('battlefront.n.01') Synset('bed.n.04')\n",
      "0.5 Synset('battlefront.n.01') the line along which opposing armies face each other Synset('bed.n.04') (geology) a stratum of rock (especially sedimentary rock)\n",
      "[Synset('entity.n.01'), Synset('location.n.01'), Synset('physical_entity.n.01'), Synset('object.n.01')]\n",
      "Synset('battlefront.n.01') Synset('seam.n.03')\n",
      "0.5 Synset('battlefront.n.01') the line along which opposing armies face each other Synset('seam.n.03') a stratum of ore or coal thick enough to be mined with profit\n",
      "[Synset('entity.n.01'), Synset('location.n.01'), Synset('physical_entity.n.01'), Synset('object.n.01')]\n",
      "Synset('battlefront.n.01') Synset('layer.n.01')\n",
      "0.42857142857142855 Synset('battlefront.n.01') the line along which opposing armies face each other Synset('layer.n.01') single thickness of usually some homogeneous substance\n",
      "[Synset('entity.n.01'), Synset('physical_entity.n.01'), Synset('object.n.01')]\n",
      "Synset('battlefront.n.01') Synset('bed.n.07')\n",
      "0.4 Synset('battlefront.n.01') the line along which opposing armies face each other Synset('bed.n.07') the flat surface of a printing press on which the type form is laid in the last stage of producing a newspaper or magazine or book etc.\n",
      "[Synset('entity.n.01'), Synset('physical_entity.n.01'), Synset('object.n.01')]\n",
      "Synset('front.n.04') Synset('bed.n.01')\n",
      "0.5555555555555556 Synset('front.n.04') the side that is seen or that goes first Synset('bed.n.01') a piece of furniture that provides a place to sleep\n",
      "[Synset('entity.n.01'), Synset('object.n.01'), Synset('whole.n.02'), Synset('artifact.n.01'), Synset('physical_entity.n.01')]\n",
      "Synset('front.n.04') Synset('bed.n.03')\n",
      "0.42857142857142855 Synset('front.n.04') the side that is seen or that goes first Synset('bed.n.03') a depression forming the ground under a body of water\n",
      "[Synset('entity.n.01'), Synset('physical_entity.n.01'), Synset('object.n.01')]\n",
      "Synset('front.n.04') Synset('layer.n.01')\n",
      "0.7142857142857143 Synset('front.n.04') the side that is seen or that goes first Synset('layer.n.01') single thickness of usually some homogeneous substance\n",
      "[Synset('entity.n.01'), Synset('object.n.01'), Synset('whole.n.02'), Synset('artifact.n.01'), Synset('physical_entity.n.01')]\n",
      "Synset('front.n.04') Synset('bed.n.07')\n",
      "0.8 Synset('front.n.04') the side that is seen or that goes first Synset('bed.n.07') the flat surface of a printing press on which the type form is laid in the last stage of producing a newspaper or magazine or book etc.\n",
      "[Synset('entity.n.01'), Synset('object.n.01'), Synset('surface.n.01'), Synset('artifact.n.01'), Synset('whole.n.02'), Synset('physical_entity.n.01')]\n",
      "Synset('front.n.04') Synset('bed.n.08')\n",
      "0.5555555555555556 Synset('front.n.04') the side that is seen or that goes first Synset('bed.n.08') a foundation of earth or rock supporting a road or railroad track\n",
      "[Synset('entity.n.01'), Synset('object.n.01'), Synset('whole.n.02'), Synset('artifact.n.01'), Synset('physical_entity.n.01')]\n",
      "Synset('front_man.n.01') Synset('layer.n.01')\n",
      "0.47058823529411764 Synset('front_man.n.01') a person used as a cover for some questionable activity Synset('layer.n.01') single thickness of usually some homogeneous substance\n",
      "[Synset('entity.n.01'), Synset('physical_entity.n.01'), Synset('whole.n.02'), Synset('object.n.01')]\n",
      "Synset('front_man.n.01') Synset('bed.n.07')\n",
      "0.4444444444444444 Synset('front_man.n.01') a person used as a cover for some questionable activity Synset('bed.n.07') the flat surface of a printing press on which the type form is laid in the last stage of producing a newspaper or magazine or book etc.\n",
      "[Synset('entity.n.01'), Synset('physical_entity.n.01'), Synset('whole.n.02'), Synset('object.n.01')]\n",
      "Synset('presence.n.02') Synset('bed.n.02')\n",
      "0.5263157894736842 Synset('presence.n.02') the immediate proximity of someone or something Synset('bed.n.02') a plot of ground in which plants are growing\n",
      "[Synset('entity.n.01'), Synset('region.n.03'), Synset('object.n.01'), Synset('physical_entity.n.01'), Synset('location.n.01')]\n",
      "Synset('presence.n.02') Synset('bed.n.04')\n",
      "0.4444444444444444 Synset('presence.n.02') the immediate proximity of someone or something Synset('bed.n.04') (geology) a stratum of rock (especially sedimentary rock)\n",
      "[Synset('entity.n.01'), Synset('location.n.01'), Synset('physical_entity.n.01'), Synset('object.n.01')]\n",
      "Synset('presence.n.02') Synset('seam.n.03')\n",
      "0.4444444444444444 Synset('presence.n.02') the immediate proximity of someone or something Synset('seam.n.03') a stratum of ore or coal thick enough to be mined with profit\n",
      "[Synset('entity.n.01'), Synset('location.n.01'), Synset('physical_entity.n.01'), Synset('object.n.01')]\n",
      "Synset('front.n.09') Synset('bed.n.02')\n",
      "0.5 Synset('front.n.09') the part of something that is nearest to the normal viewer Synset('bed.n.02') a plot of ground in which plants are growing\n",
      "[Synset('entity.n.01'), Synset('location.n.01'), Synset('physical_entity.n.01'), Synset('object.n.01')]\n",
      "Synset('front.n.09') Synset('bed.n.03')\n",
      "0.46153846153846156 Synset('front.n.09') the part of something that is nearest to the normal viewer Synset('bed.n.03') a depression forming the ground under a body of water\n",
      "[Synset('entity.n.01'), Synset('physical_entity.n.01'), Synset('object.n.01')]\n",
      "Synset('front.n.09') Synset('bed.n.04')\n",
      "0.5333333333333333 Synset('front.n.09') the part of something that is nearest to the normal viewer Synset('bed.n.04') (geology) a stratum of rock (especially sedimentary rock)\n",
      "[Synset('entity.n.01'), Synset('location.n.01'), Synset('physical_entity.n.01'), Synset('object.n.01')]\n",
      "Synset('front.n.09') Synset('seam.n.03')\n",
      "0.5333333333333333 Synset('front.n.09') the part of something that is nearest to the normal viewer Synset('seam.n.03') a stratum of ore or coal thick enough to be mined with profit\n",
      "[Synset('entity.n.01'), Synset('location.n.01'), Synset('physical_entity.n.01'), Synset('object.n.01')]\n",
      "Synset('front.n.09') Synset('layer.n.01')\n",
      "0.46153846153846156 Synset('front.n.09') the part of something that is nearest to the normal viewer Synset('layer.n.01') single thickness of usually some homogeneous substance\n",
      "[Synset('entity.n.01'), Synset('physical_entity.n.01'), Synset('object.n.01')]\n",
      "Synset('front.n.09') Synset('bed.n.07')\n",
      "0.42857142857142855 Synset('front.n.09') the part of something that is nearest to the normal viewer Synset('bed.n.07') the flat surface of a printing press on which the type form is laid in the last stage of producing a newspaper or magazine or book etc.\n",
      "[Synset('entity.n.01'), Synset('physical_entity.n.01'), Synset('object.n.01')]\n"
     ]
    }
   ],
   "source": [
    "w1 = wn.synsets(palabra1,wn.NOUN)\n",
    "w2 = wn.synsets(palabra2,wn.NOUN) # n denotes noun\n",
    "for a in w1:\n",
    "    for b in w2:\n",
    "        if a.wup_similarity(b)>=0.4:\n",
    "            print(a,b)\n",
    "            print(a.wup_similarity(b),a,a.definition(),b,b.definition())\n",
    "            print(a.common_hypernyms(b))"
   ]
  },
  {
   "cell_type": "markdown",
   "metadata": {},
   "source": [
    "# Explorar synsets"
   ]
  },
  {
   "cell_type": "code",
   "execution_count": 64,
   "metadata": {},
   "outputs": [
    {
     "name": "stdout",
     "output_type": "stream",
     "text": [
      "Synset('orange.s.01') of the color between red and yellow; similar to the color of a ripe orange\n"
     ]
    }
   ],
   "source": [
    "contextos = []\n",
    "for a in wn.synsets(palabra1, pos=wn.ADJ):\n",
    "    #if(palabra2 in a.definition()):\n",
    "    print(a, a.definition())\n",
    "    c_a=a\n",
    "    contextos.append(a)"
   ]
  },
  {
   "cell_type": "code",
   "execution_count": 65,
   "metadata": {},
   "outputs": [
    {
     "data": {
      "text/plain": [
       "[Synset('orange.s.01')]"
      ]
     },
     "execution_count": 65,
     "metadata": {},
     "output_type": "execute_result"
    }
   ],
   "source": [
    "contextos"
   ]
  },
  {
   "cell_type": "code",
   "execution_count": 66,
   "metadata": {},
   "outputs": [
    {
     "name": "stdout",
     "output_type": "stream",
     "text": [
      "Synset('colorful.a.01') colorful.a.01 having striking color\n",
      "Synset('colorful.a.02') colorful.a.02 striking in variety and interest\n",
      "Synset('colored.a.01') colored.a.01 having color or a certain color; sometimes used in combination\n"
     ]
    },
    {
     "data": {
      "text/plain": [
       "[Synset('colorful.a.01'), Synset('colorful.a.02'), Synset('colored.a.01')]"
      ]
     },
     "execution_count": 66,
     "metadata": {},
     "output_type": "execute_result"
    }
   ],
   "source": [
    "target = []\n",
    "for a in wn.synsets(palabra2, pos=wn.ADJ):\n",
    "    print(a,a.name(), a.definition())\n",
    "    c_b=a\n",
    "    target.append(a)\n",
    "target"
   ]
  },
  {
   "cell_type": "code",
   "execution_count": 67,
   "metadata": {},
   "outputs": [
    {
     "name": "stdout",
     "output_type": "stream",
     "text": [
      "Synset name :   colorful.a.01\n",
      "Synset('orange.s.01') Synset('colorful.a.01')\n",
      "None\n",
      "Synset name :   colorful.a.02\n",
      "Synset('orange.s.01') Synset('colorful.a.02')\n",
      "None\n",
      "Synset name :   colored.a.01\n",
      "Synset('orange.s.01') Synset('colored.a.01')\n",
      "None\n"
     ]
    }
   ],
   "source": [
    "distancia = 5\n",
    "for b in target:\n",
    "    print (\"Synset name :  \", b.name())\n",
    "    for a in contextos:\n",
    "        print(a,b)\n",
    "        p=a.shortest_path_distance(b)\n",
    "        print(p)\n",
    "        if p!=None and p<distancia:\n",
    "            print(a,b,a.shortest_path_distance(b))\n",
    "            distancia=a.shortest_path_distance(b)\n",
    "            c_a=a\n",
    "            c_b=b"
   ]
  },
  {
   "cell_type": "code",
   "execution_count": 40,
   "metadata": {},
   "outputs": [
    {
     "name": "stdout",
     "output_type": "stream",
     "text": [
      "Synset('orange.n.05') Synset('colored.a.01')\n"
     ]
    }
   ],
   "source": [
    "print(c_a,c_b)"
   ]
  },
  {
   "cell_type": "code",
   "execution_count": 41,
   "metadata": {},
   "outputs": [
    {
     "data": {
      "text/plain": [
       "['Orange', 'Orange_River']"
      ]
     },
     "execution_count": 41,
     "metadata": {},
     "output_type": "execute_result"
    }
   ],
   "source": [
    "c_a.lemma_names()"
   ]
  },
  {
   "cell_type": "code",
   "execution_count": 42,
   "metadata": {},
   "outputs": [
    {
     "data": {
      "text/plain": [
       "['colored', 'coloured', 'colorful']"
      ]
     },
     "execution_count": 42,
     "metadata": {},
     "output_type": "execute_result"
    }
   ],
   "source": [
    "c_b.lemma_names()"
   ]
  },
  {
   "cell_type": "code",
   "execution_count": 43,
   "metadata": {},
   "outputs": [
    {
     "data": {
      "text/plain": [
       "Synset('colored.a.01')"
      ]
     },
     "execution_count": 43,
     "metadata": {},
     "output_type": "execute_result"
    }
   ],
   "source": [
    "c_b"
   ]
  },
  {
   "cell_type": "code",
   "execution_count": 68,
   "metadata": {},
   "outputs": [
    {
     "data": {
      "text/plain": [
       "[]"
      ]
     },
     "execution_count": 68,
     "metadata": {},
     "output_type": "execute_result"
    }
   ],
   "source": [
    "hyper = sorted(lemma.name() for synset in c_a.hypernyms() for lemma in synset.lemmas())\n",
    "hyper"
   ]
  },
  {
   "cell_type": "code",
   "execution_count": 69,
   "metadata": {},
   "outputs": [],
   "source": [
    "hipon = sorted(lemma.name() for synset in c_b.hypernyms() for lemma in synset.lemmas())"
   ]
  },
  {
   "cell_type": "code",
   "execution_count": 70,
   "metadata": {},
   "outputs": [
    {
     "data": {
      "text/plain": [
       "set()"
      ]
     },
     "execution_count": 70,
     "metadata": {},
     "output_type": "execute_result"
    }
   ],
   "source": [
    "hyper_s=set(hyper)\n",
    "hipon_s=set(hipon)\n",
    "hyper_s.intersection(hipon_s)"
   ]
  },
  {
   "cell_type": "code",
   "execution_count": 56,
   "metadata": {},
   "outputs": [
    {
     "name": "stdout",
     "output_type": "stream",
     "text": [
      "[[Synset('entity.n.01'), Synset('physical_entity.n.01'), Synset('object.n.01'), Synset('whole.n.02'), Synset('natural_object.n.01'), Synset('plant_part.n.01'), Synset('plant_organ.n.01'), Synset('reproductive_structure.n.01'), Synset('fruit.n.01'), Synset('edible_fruit.n.01'), Synset('citrus.n.01'), Synset('orange.n.01')], [Synset('entity.n.01'), Synset('physical_entity.n.01'), Synset('matter.n.03'), Synset('solid.n.01'), Synset('food.n.02'), Synset('produce.n.01'), Synset('edible_fruit.n.01'), Synset('citrus.n.01'), Synset('orange.n.01')]]\n",
      "[[Synset('entity.n.01'), Synset('abstraction.n.06'), Synset('attribute.n.02'), Synset('property.n.02'), Synset('visual_property.n.01'), Synset('color.n.01'), Synset('chromatic_color.n.01'), Synset('orange.n.02')]]\n",
      "[[Synset('entity.n.01'), Synset('physical_entity.n.01'), Synset('object.n.01'), Synset('whole.n.02'), Synset('living_thing.n.01'), Synset('organism.n.01'), Synset('plant.n.02'), Synset('vascular_plant.n.01'), Synset('woody_plant.n.01'), Synset('tree.n.01'), Synset('angiospermous_tree.n.01'), Synset('fruit_tree.n.01'), Synset('citrus.n.02'), Synset('orange.n.03')]]\n",
      "[[Synset('entity.n.01'), Synset('physical_entity.n.01'), Synset('matter.n.03'), Synset('substance.n.01'), Synset('material.n.01'), Synset('coloring_material.n.01'), Synset('pigment.n.01'), Synset('orange.n.04')], [Synset('entity.n.01'), Synset('abstraction.n.06'), Synset('relation.n.01'), Synset('part.n.01'), Synset('substance.n.01'), Synset('material.n.01'), Synset('coloring_material.n.01'), Synset('pigment.n.01'), Synset('orange.n.04')]]\n",
      "[[Synset('entity.n.01'), Synset('physical_entity.n.01'), Synset('thing.n.12'), Synset('body_of_water.n.01'), Synset('stream.n.01'), Synset('river.n.01'), Synset('orange.n.05')]]\n",
      "[[Synset('orange.s.01')]]\n"
     ]
    }
   ],
   "source": [
    "for a in wn.synsets(palabra1):\n",
    "    print(a.hypernym_paths())"
   ]
  },
  {
   "cell_type": "code",
   "execution_count": 55,
   "metadata": {},
   "outputs": [
    {
     "name": "stdout",
     "output_type": "stream",
     "text": [
      "[[Synset('colorful.a.01')]]\n",
      "[[Synset('colorful.a.02')]]\n",
      "[[Synset('colored.a.01')]]\n"
     ]
    }
   ],
   "source": [
    "for b in wn.synsets(palabra2):\n",
    "    print(b.hypernym_paths())"
   ]
  },
  {
   "cell_type": "code",
   "execution_count": 47,
   "metadata": {},
   "outputs": [],
   "source": [
    "paths = c_a.hypernym_paths()"
   ]
  },
  {
   "cell_type": "code",
   "execution_count": 48,
   "metadata": {},
   "outputs": [
    {
     "data": {
      "text/plain": [
       "[[Synset('entity.n.01'),\n",
       "  Synset('physical_entity.n.01'),\n",
       "  Synset('thing.n.12'),\n",
       "  Synset('body_of_water.n.01'),\n",
       "  Synset('stream.n.01'),\n",
       "  Synset('river.n.01'),\n",
       "  Synset('orange.n.05')]]"
      ]
     },
     "execution_count": 48,
     "metadata": {},
     "output_type": "execute_result"
    }
   ],
   "source": [
    "paths"
   ]
  },
  {
   "cell_type": "code",
   "execution_count": 49,
   "metadata": {},
   "outputs": [
    {
     "data": {
      "text/plain": [
       "Synset('colored.a.01')"
      ]
     },
     "execution_count": 49,
     "metadata": {},
     "output_type": "execute_result"
    }
   ],
   "source": [
    "c_b"
   ]
  },
  {
   "cell_type": "code",
   "execution_count": 51,
   "metadata": {},
   "outputs": [
    {
     "data": {
      "text/plain": [
       "False"
      ]
     },
     "execution_count": 51,
     "metadata": {},
     "output_type": "execute_result"
    }
   ],
   "source": [
    "c_b in paths[0]"
   ]
  },
  {
   "cell_type": "code",
   "execution_count": 105,
   "metadata": {},
   "outputs": [],
   "source": [
    "camino1=paths[0]"
   ]
  },
  {
   "cell_type": "code",
   "execution_count": 106,
   "metadata": {},
   "outputs": [
    {
     "data": {
      "text/plain": [
       "[Synset('entity.n.01'),\n",
       " Synset('physical_entity.n.01'),\n",
       " Synset('causal_agent.n.01'),\n",
       " Synset('person.n.01'),\n",
       " Synset('adult.n.01'),\n",
       " Synset('woman.n.01')]"
      ]
     },
     "execution_count": 106,
     "metadata": {},
     "output_type": "execute_result"
    }
   ],
   "source": [
    "camino1"
   ]
  },
  {
   "cell_type": "code",
   "execution_count": 107,
   "metadata": {},
   "outputs": [
    {
     "data": {
      "text/plain": [
       "6"
      ]
     },
     "execution_count": 107,
     "metadata": {},
     "output_type": "execute_result"
    }
   ],
   "source": [
    "len(camino1)"
   ]
  },
  {
   "cell_type": "code",
   "execution_count": 108,
   "metadata": {},
   "outputs": [
    {
     "name": "stdout",
     "output_type": "stream",
     "text": [
      "Synset('woman.n.01') an adult female person (as opposed to a man)\n",
      "Synset('adult.n.01') a fully developed person from maturity onward\n",
      "Synset('person.n.01') a human being\n",
      "Synset('causal_agent.n.01') any entity that produces an effect or is responsible for events or results\n",
      "Synset('physical_entity.n.01') an entity that has physical existence\n"
     ]
    }
   ],
   "source": [
    "for i in range(len(camino1)-1,0,-1):\n",
    "    if(camino1[i]!=c_b):\n",
    "        print(camino1[i],camino1[i].definition())\n",
    "    else:\n",
    "        print(camino1[i],camino1[i].definition())\n",
    "        break"
   ]
  },
  {
   "cell_type": "markdown",
   "metadata": {},
   "source": [
    "# Común hypernyms que existen entre los dos conceptos.\n",
    "## Sí uno es hyperonimo de otro entonces podemos encontrar un camino con la función anterior"
   ]
  },
  {
   "cell_type": "code",
   "execution_count": 26,
   "metadata": {},
   "outputs": [
    {
     "data": {
      "text/plain": [
       "[Synset('person.n.01')]"
      ]
     },
     "execution_count": 26,
     "metadata": {},
     "output_type": "execute_result"
    }
   ],
   "source": [
    "c_a.lowest_common_hypernyms(c_b)"
   ]
  },
  {
   "cell_type": "code",
   "execution_count": 28,
   "metadata": {},
   "outputs": [
    {
     "data": {
      "text/plain": [
       "[Synset('abator.n.01'),\n",
       " Synset('abjurer.n.01'),\n",
       " Synset('abomination.n.01'),\n",
       " Synset('abstainer.n.02'),\n",
       " Synset('achiever.n.01'),\n",
       " Synset('acquaintance.n.03'),\n",
       " Synset('acquirer.n.01'),\n",
       " Synset('active.n.03'),\n",
       " Synset('actor.n.02'),\n",
       " Synset('adjudicator.n.01'),\n",
       " Synset('admirer.n.02'),\n",
       " Synset('adoptee.n.01'),\n",
       " Synset('adult.n.01'),\n",
       " Synset('adventurer.n.01'),\n",
       " Synset('adversary.n.01'),\n",
       " Synset('advisee.n.01'),\n",
       " Synset('advocate.n.01'),\n",
       " Synset('affiant.n.01'),\n",
       " Synset('african.n.01'),\n",
       " Synset('agnostic.n.01'),\n",
       " Synset('amateur.n.01'),\n",
       " Synset('amerindian.n.01'),\n",
       " Synset('ancient.n.02'),\n",
       " Synset('anomaly.n.02'),\n",
       " Synset('anti-american.n.01'),\n",
       " Synset('anti.n.01'),\n",
       " Synset('applicant.n.01'),\n",
       " Synset('appointee.n.02'),\n",
       " Synset('appreciator.n.01'),\n",
       " Synset('apprehender.n.02'),\n",
       " Synset('aquarius.n.01'),\n",
       " Synset('archaist.n.01'),\n",
       " Synset('aries.n.01'),\n",
       " Synset('arrogator.n.01'),\n",
       " Synset('assessee.n.01'),\n",
       " Synset('asthmatic.n.01'),\n",
       " Synset('authority.n.02'),\n",
       " Synset('autodidact.n.01'),\n",
       " Synset('baby_boomer.n.01'),\n",
       " Synset('baby_buster.n.01'),\n",
       " Synset('bad_guy.n.01'),\n",
       " Synset('bad_person.n.01'),\n",
       " Synset('baldhead.n.01'),\n",
       " Synset('balker.n.01'),\n",
       " Synset('bather.n.02'),\n",
       " Synset('beard.n.03'),\n",
       " Synset('bedfellow.n.02'),\n",
       " Synset('bereaved.n.01'),\n",
       " Synset('best.n.02'),\n",
       " Synset('birth.n.05'),\n",
       " Synset('biter.n.01'),\n",
       " Synset('black.n.05'),\n",
       " Synset('blogger.n.01'),\n",
       " Synset('blond.n.01'),\n",
       " Synset('bluecoat.n.01'),\n",
       " Synset('bodybuilder.n.01'),\n",
       " Synset('bomber.n.02'),\n",
       " Synset('brunet.n.01'),\n",
       " Synset('bullfighter.n.01'),\n",
       " Synset('buster.n.04'),\n",
       " Synset('cancer.n.02'),\n",
       " Synset('candidate.n.02'),\n",
       " Synset('capitalist.n.02'),\n",
       " Synset('capricorn.n.01'),\n",
       " Synset('captor.n.01'),\n",
       " Synset('case.n.06'),\n",
       " Synset('cashier.n.02'),\n",
       " Synset('celebrant.n.01'),\n",
       " Synset('censor.n.01'),\n",
       " Synset('chameleon.n.01'),\n",
       " Synset('changer.n.01'),\n",
       " Synset('charmer.n.02'),\n",
       " Synset('child.n.03'),\n",
       " Synset('chutzpanik.n.01'),\n",
       " Synset('closer.n.01'),\n",
       " Synset('clumsy_person.n.01'),\n",
       " Synset('collector.n.01'),\n",
       " Synset('color-blind_person.n.01'),\n",
       " Synset('combatant.n.01'),\n",
       " Synset('commoner.n.01'),\n",
       " Synset('communicator.n.01'),\n",
       " Synset('complexifier.n.01'),\n",
       " Synset('compulsive.n.01'),\n",
       " Synset('computer_user.n.01'),\n",
       " Synset('contemplative.n.01'),\n",
       " Synset('contestant.n.01'),\n",
       " Synset('convert.n.01'),\n",
       " Synset('copycat.n.01'),\n",
       " Synset('counter.n.05'),\n",
       " Synset('counterterrorist.n.01'),\n",
       " Synset('coward.n.01'),\n",
       " Synset('crawler.n.02'),\n",
       " Synset('creator.n.02'),\n",
       " Synset('creature.n.02'),\n",
       " Synset('creditor.n.01'),\n",
       " Synset('cripple.n.01'),\n",
       " Synset('dancer.n.02'),\n",
       " Synset('dead_person.n.01'),\n",
       " Synset('deaf_person.n.01'),\n",
       " Synset('debaser.n.01'),\n",
       " Synset('debtor.n.01'),\n",
       " Synset('defecator.n.01'),\n",
       " Synset('delayer.n.01'),\n",
       " Synset('deliverer.n.04'),\n",
       " Synset('demander.n.01'),\n",
       " Synset('dieter.n.01'),\n",
       " Synset('differentiator.n.01'),\n",
       " Synset('disentangler.n.01'),\n",
       " Synset('disputant.n.01'),\n",
       " Synset('dissenter.n.01'),\n",
       " Synset('divider.n.02'),\n",
       " Synset('domestic_partner.n.01'),\n",
       " Synset('double.n.03'),\n",
       " Synset('dresser.n.02'),\n",
       " Synset('dribbler.n.02'),\n",
       " Synset('drug_user.n.01'),\n",
       " Synset('dyslectic.n.01'),\n",
       " Synset('ectomorph.n.01'),\n",
       " Synset('effecter.n.01'),\n",
       " Synset('elizabethan.n.01'),\n",
       " Synset('emotional_person.n.01'),\n",
       " Synset('endomorph.n.01'),\n",
       " Synset('engineer.n.01'),\n",
       " Synset('enjoyer.n.01'),\n",
       " Synset('enrollee.n.01'),\n",
       " Synset('entertainer.n.01'),\n",
       " Synset('ethnic.n.01'),\n",
       " Synset('experimenter.n.02'),\n",
       " Synset('expert.n.01'),\n",
       " Synset('explorer.n.01'),\n",
       " Synset('extrovert.n.01'),\n",
       " Synset('face.n.05'),\n",
       " Synset('faddist.n.01'),\n",
       " Synset('faller.n.02'),\n",
       " Synset('fastener.n.01'),\n",
       " Synset('female.n.02'),\n",
       " Synset('fiduciary.n.01'),\n",
       " Synset('first-rater.n.01'),\n",
       " Synset('follower.n.01'),\n",
       " Synset('free_agent.n.02'),\n",
       " Synset('friend.n.01'),\n",
       " Synset('fugitive.n.01'),\n",
       " Synset('gainer.n.01'),\n",
       " Synset('gainer.n.02'),\n",
       " Synset('gambler.n.01'),\n",
       " Synset('gatekeeper.n.01'),\n",
       " Synset('gatherer.n.01'),\n",
       " Synset('gemini.n.01'),\n",
       " Synset('gentile.n.02'),\n",
       " Synset('good_guy.n.01'),\n",
       " Synset('good_person.n.01'),\n",
       " Synset('granter.n.01'),\n",
       " Synset('greeter.n.01'),\n",
       " Synset('grinner.n.01'),\n",
       " Synset('groaner.n.01'),\n",
       " Synset('grunter.n.01'),\n",
       " Synset('guesser.n.01'),\n",
       " Synset('handicapped_person.n.01'),\n",
       " Synset('hater.n.01'),\n",
       " Synset('heterosexual.n.01'),\n",
       " Synset('homosexual.n.01'),\n",
       " Synset('homunculus.n.02'),\n",
       " Synset('hope.n.04'),\n",
       " Synset('hoper.n.01'),\n",
       " Synset('huddler.n.02'),\n",
       " Synset('hugger.n.01'),\n",
       " Synset('immune.n.01'),\n",
       " Synset('individualist.n.01'),\n",
       " Synset('inhabitant.n.01'),\n",
       " Synset('innocent.n.01'),\n",
       " Synset('insured.n.01'),\n",
       " Synset('intellectual.n.01'),\n",
       " Synset('interpreter.n.02'),\n",
       " Synset('introvert.n.01'),\n",
       " Synset('jat.n.01'),\n",
       " Synset('jew.n.01'),\n",
       " Synset('jewel.n.02'),\n",
       " Synset('jumper.n.01'),\n",
       " Synset('junior.n.03'),\n",
       " Synset('juvenile.n.01'),\n",
       " Synset('killer.n.01'),\n",
       " Synset('kink.n.03'),\n",
       " Synset('kneeler.n.01'),\n",
       " Synset('knocker.n.02'),\n",
       " Synset('knower.n.01'),\n",
       " Synset('large_person.n.01'),\n",
       " Synset('latin.n.03'),\n",
       " Synset('laugher.n.01'),\n",
       " Synset('leader.n.01'),\n",
       " Synset('learner.n.01'),\n",
       " Synset('left-hander.n.02'),\n",
       " Synset('leo.n.01'),\n",
       " Synset('libra.n.01'),\n",
       " Synset('life.n.08'),\n",
       " Synset('lightning_rod.n.01'),\n",
       " Synset('linguist.n.02'),\n",
       " Synset('literate.n.01'),\n",
       " Synset('liver.n.03'),\n",
       " Synset('longer.n.01'),\n",
       " Synset('loose_cannon.n.01'),\n",
       " Synset('loved_one.n.01'),\n",
       " Synset('lover.n.01'),\n",
       " Synset('machine.n.02'),\n",
       " Synset('mailer.n.02'),\n",
       " Synset('malcontent.n.01'),\n",
       " Synset('male.n.02'),\n",
       " Synset('man.n.03'),\n",
       " Synset('man_jack.n.01'),\n",
       " Synset('manipulator.n.02'),\n",
       " Synset('married.n.01'),\n",
       " Synset('masturbator.n.01'),\n",
       " Synset('measurer.n.01'),\n",
       " Synset('mesomorph.n.01'),\n",
       " Synset('mestizo.n.01'),\n",
       " Synset('middlebrow.n.01'),\n",
       " Synset('miracle_man.n.01'),\n",
       " Synset('misogamist.n.01'),\n",
       " Synset('mixed-blood.n.01'),\n",
       " Synset('modern.n.01'),\n",
       " Synset('money_handler.n.01'),\n",
       " Synset('monolingual.n.01'),\n",
       " Synset('mother_hen.n.01'),\n",
       " Synset('mouse.n.03'),\n",
       " Synset('mutilator.n.01'),\n",
       " Synset('namer.n.01'),\n",
       " Synset('namesake.n.01'),\n",
       " Synset('national.n.01'),\n",
       " Synset('native.n.01'),\n",
       " Synset('native.n.02'),\n",
       " Synset('neglecter.n.01'),\n",
       " Synset('neighbor.n.01'),\n",
       " Synset('neutral.n.01'),\n",
       " Synset('nondescript.n.01'),\n",
       " Synset('nonmember.n.01'),\n",
       " Synset('nonparticipant.n.01'),\n",
       " Synset('nonpartisan.n.01'),\n",
       " Synset('nonperson.n.01'),\n",
       " Synset('nonreligious_person.n.01'),\n",
       " Synset('nonresident.n.01'),\n",
       " Synset('nonsmoker.n.01'),\n",
       " Synset('nonworker.n.01'),\n",
       " Synset('nude.n.03'),\n",
       " Synset('nurser.n.01'),\n",
       " Synset('occultist.n.01'),\n",
       " Synset('optimist.n.01'),\n",
       " Synset('orphan.n.02'),\n",
       " Synset('ostrich.n.01'),\n",
       " Synset('ouster.n.01'),\n",
       " Synset('outcaste.n.01'),\n",
       " Synset('outdoorsman.n.01'),\n",
       " Synset('owner.n.02'),\n",
       " Synset('pamperer.n.01'),\n",
       " Synset('pansexual.n.01'),\n",
       " Synset('pardoner.n.01'),\n",
       " Synset('partner.n.03'),\n",
       " Synset('party.n.05'),\n",
       " Synset('passer.n.02'),\n",
       " Synset('peer.n.01'),\n",
       " Synset('perceiver.n.01'),\n",
       " Synset('percher.n.01'),\n",
       " Synset('person_of_color.n.01'),\n",
       " Synset('personage.n.01'),\n",
       " Synset('personification.n.01'),\n",
       " Synset('perspirer.n.01'),\n",
       " Synset('philosopher.n.02'),\n",
       " Synset('picker.n.01'),\n",
       " Synset('pisces.n.02'),\n",
       " Synset('pisser.n.01'),\n",
       " Synset('planner.n.01'),\n",
       " Synset('player.n.04'),\n",
       " Synset('posturer.n.01'),\n",
       " Synset('powderer.n.01'),\n",
       " Synset('precursor.n.02'),\n",
       " Synset('preserver.n.03'),\n",
       " Synset('primitive.n.01'),\n",
       " Synset('propositus.n.01'),\n",
       " Synset('public_relations_person.n.01'),\n",
       " Synset('pursuer.n.02'),\n",
       " Synset('pussycat.n.01'),\n",
       " Synset('quarter.n.11'),\n",
       " Synset('quitter.n.01'),\n",
       " Synset('radical.n.03'),\n",
       " Synset('realist.n.02'),\n",
       " Synset('rectifier.n.02'),\n",
       " Synset('redhead.n.01'),\n",
       " Synset('registrant.n.01'),\n",
       " Synset('relative.n.01'),\n",
       " Synset('reliever.n.02'),\n",
       " Synset('religious_person.n.01'),\n",
       " Synset('repeater.n.01'),\n",
       " Synset('rescuer.n.02'),\n",
       " Synset('rester.n.01'),\n",
       " Synset('restrainer.n.02'),\n",
       " Synset('revenant.n.01'),\n",
       " Synset('rich_person.n.01'),\n",
       " Synset('right-hander.n.02'),\n",
       " Synset('riser.n.01'),\n",
       " Synset('romper.n.01'),\n",
       " Synset('roundhead.n.01'),\n",
       " Synset('ruler.n.01'),\n",
       " Synset('rusher.n.03'),\n",
       " Synset('sagittarius.n.01'),\n",
       " Synset('scientist.n.01'),\n",
       " Synset('scorpio.n.01'),\n",
       " Synset('scratcher.n.02'),\n",
       " Synset('second-rater.n.01'),\n",
       " Synset('seeder.n.01'),\n",
       " Synset('seeker.n.01'),\n",
       " Synset('segregate.n.01'),\n",
       " Synset('self.n.02'),\n",
       " Synset('sensualist.n.01'),\n",
       " Synset('sentimentalist.n.01'),\n",
       " Synset('sex_object.n.01'),\n",
       " Synset('sex_symbol.n.01'),\n",
       " Synset('shaker.n.01'),\n",
       " Synset('showman.n.01'),\n",
       " Synset('signer.n.02'),\n",
       " Synset('simpleton.n.01'),\n",
       " Synset('six-footer.n.01'),\n",
       " Synset('skidder.n.01'),\n",
       " Synset('slav.n.01'),\n",
       " Synset('slave.n.01'),\n",
       " Synset('slave.n.03'),\n",
       " Synset('sleepyhead.n.01'),\n",
       " Synset('sloucher.n.01'),\n",
       " Synset('small_person.n.01'),\n",
       " Synset('smasher.n.01'),\n",
       " Synset('smiler.n.01'),\n",
       " Synset('sneezer.n.01'),\n",
       " Synset('sniffer.n.01'),\n",
       " Synset('sniffler.n.01'),\n",
       " Synset('snuffer.n.02'),\n",
       " Synset('snuffler.n.01'),\n",
       " Synset('socializer.n.01'),\n",
       " Synset('sort.n.03'),\n",
       " Synset('sounding_board.n.01'),\n",
       " Synset('sphinx.n.01'),\n",
       " Synset('spitter.n.01'),\n",
       " Synset('sport.n.04'),\n",
       " Synset('sprawler.n.01'),\n",
       " Synset('spurner.n.01'),\n",
       " Synset('squinter.n.01'),\n",
       " Synset('stifler.n.01'),\n",
       " Synset('stigmatic.n.01'),\n",
       " Synset('stooper.n.02'),\n",
       " Synset('stranger.n.02'),\n",
       " Synset('struggler.n.01'),\n",
       " Synset('subject.n.06'),\n",
       " Synset('supernumerary.n.01'),\n",
       " Synset('surrenderer.n.01'),\n",
       " Synset('survivalist.n.01'),\n",
       " Synset('survivor.n.02'),\n",
       " Synset('suspect.n.01'),\n",
       " Synset('tagger.n.01'),\n",
       " Synset('tagger.n.02'),\n",
       " Synset('tapper.n.02'),\n",
       " Synset('taurus.n.02'),\n",
       " Synset('tempter.n.01'),\n",
       " Synset('termer.n.01'),\n",
       " Synset('terror.n.02'),\n",
       " Synset('testator.n.01'),\n",
       " Synset('thin_person.n.01'),\n",
       " Synset('third-rater.n.01'),\n",
       " Synset('thrower.n.02'),\n",
       " Synset('tiger.n.01'),\n",
       " Synset('totemist.n.01'),\n",
       " Synset('toucher.n.01'),\n",
       " Synset('transfer.n.02'),\n",
       " Synset('transsexual.n.02'),\n",
       " Synset('transvestite.n.01'),\n",
       " Synset('traveler.n.01'),\n",
       " Synset('trier.n.02'),\n",
       " Synset('turner.n.07'),\n",
       " Synset('tyrant.n.03'),\n",
       " Synset('undoer.n.02'),\n",
       " Synset('unfortunate.n.01'),\n",
       " Synset('unskilled_person.n.01'),\n",
       " Synset('unwelcome_person.n.01'),\n",
       " Synset('user.n.01'),\n",
       " Synset('vanisher.n.01'),\n",
       " Synset('victim.n.02'),\n",
       " Synset('victorian.n.01'),\n",
       " Synset('virgo.n.01'),\n",
       " Synset('visionary.n.01'),\n",
       " Synset('visually_impaired_person.n.01'),\n",
       " Synset('waiter.n.02'),\n",
       " Synset('waker.n.02'),\n",
       " Synset('walk-in.n.01'),\n",
       " Synset('wanter.n.01'),\n",
       " Synset('ward.n.01'),\n",
       " Synset('warrior.n.01'),\n",
       " Synset('watcher.n.03'),\n",
       " Synset('weakling.n.01'),\n",
       " Synset('weasel.n.01'),\n",
       " Synset('white.n.01'),\n",
       " Synset('wiggler.n.01'),\n",
       " Synset('winker.n.01'),\n",
       " Synset('withholder.n.01'),\n",
       " Synset('witness.n.05'),\n",
       " Synset('worker.n.01'),\n",
       " Synset('worldling.n.01'),\n",
       " Synset('yawner.n.01')]"
      ]
     },
     "execution_count": 28,
     "metadata": {},
     "output_type": "execute_result"
    }
   ],
   "source": [
    "c_b.hyponyms()"
   ]
  },
  {
   "cell_type": "markdown",
   "metadata": {},
   "source": [
    "# otro caso"
   ]
  },
  {
   "cell_type": "code",
   "execution_count": 29,
   "metadata": {},
   "outputs": [
    {
     "name": "stdout",
     "output_type": "stream",
     "text": [
      "[Synset('adonis.n.01'), Synset('babu.n.01'), Synset('bachelor.n.01'), Synset('bey.n.01'), Synset('black_man.n.01'), Synset('boy.n.02'), Synset('boyfriend.n.01'), Synset('bull.n.02'), Synset('dandy.n.01'), Synset('ejaculator.n.01'), Synset('esquire.n.02'), Synset('eunuch.n.01'), Synset('ex-boyfriend.n.01'), Synset('ex-husband.n.01'), Synset('father-figure.n.01'), Synset('father_figure.n.01'), Synset('fellow.n.06'), Synset('galoot.n.01'), Synset('geezer.n.01'), Synset('gentleman.n.01'), Synset('grass_widower.n.01'), Synset('guy.n.01'), Synset('herr.n.01'), Synset('hooray_henry.n.01'), Synset('housefather.n.01'), Synset('hunk.n.01'), Synset('inamorato.n.01'), Synset('iron_man.n.01'), Synset('ironside.n.01'), Synset('middle-aged_man.n.01'), Synset('monsieur.n.01'), Synset('old_boy.n.01'), Synset('old_man.n.01'), Synset('patriarch.n.02'), Synset('peter_pan.n.01'), Synset('ponce.n.01'), Synset('posseman.n.01'), Synset('senhor.n.01'), Synset('shaver.n.01'), Synset('signor.n.01'), Synset('signore.n.01'), Synset('sir.n.01'), Synset('stiff.n.01'), Synset('stud.n.01'), Synset('tarzan.n.01'), Synset('white_man.n.01'), Synset('widower.n.01'), Synset('womanizer.n.01'), Synset('wonder_boy.n.01'), Synset('yellow_man.n.01'), Synset('young_buck.n.01')]\n"
     ]
    }
   ],
   "source": [
    "print(wn.synset('man.n.01').hyponyms())"
   ]
  },
  {
   "cell_type": "code",
   "execution_count": 14,
   "metadata": {},
   "outputs": [],
   "source": [
    "dog = wn.synset('man.n.01')"
   ]
  },
  {
   "cell_type": "code",
   "execution_count": 15,
   "metadata": {},
   "outputs": [
    {
     "data": {
      "text/plain": [
       "[Synset('adult.n.01'), Synset('male.n.02')]"
      ]
     },
     "execution_count": 15,
     "metadata": {},
     "output_type": "execute_result"
    }
   ],
   "source": [
    "dog.hypernyms()"
   ]
  },
  {
   "cell_type": "code",
   "execution_count": 19,
   "metadata": {},
   "outputs": [
    {
     "data": {
      "text/plain": [
       "[Synset('person.n.01')]"
      ]
     },
     "execution_count": 19,
     "metadata": {},
     "output_type": "execute_result"
    }
   ],
   "source": [
    "adulto = wn.synset('adult.n.01')\n",
    "adulto.hypernyms()"
   ]
  },
  {
   "cell_type": "code",
   "execution_count": 22,
   "metadata": {},
   "outputs": [
    {
     "data": {
      "text/plain": [
       "[Synset('person.n.01'), Synset('person.n.02'), Synset('person.n.03')]"
      ]
     },
     "execution_count": 22,
     "metadata": {},
     "output_type": "execute_result"
    }
   ],
   "source": [
    "wn.synsets('person', pos=wn.NOUN)"
   ]
  },
  {
   "cell_type": "code",
   "execution_count": 28,
   "metadata": {},
   "outputs": [
    {
     "data": {
      "text/plain": [
       "'a human being'"
      ]
     },
     "execution_count": 28,
     "metadata": {},
     "output_type": "execute_result"
    }
   ],
   "source": [
    "person=wn.synset('person.n.01')\n",
    "person.definition()"
   ]
  },
  {
   "cell_type": "code",
   "execution_count": 10,
   "metadata": {},
   "outputs": [
    {
     "data": {
      "text/plain": [
       "[Synset('basenji.n.01'),\n",
       " Synset('corgi.n.01'),\n",
       " Synset('cur.n.01'),\n",
       " Synset('dalmatian.n.02'),\n",
       " Synset('great_pyrenees.n.01'),\n",
       " Synset('griffon.n.02'),\n",
       " Synset('hunting_dog.n.01'),\n",
       " Synset('lapdog.n.01'),\n",
       " Synset('leonberg.n.01'),\n",
       " Synset('mexican_hairless.n.01'),\n",
       " Synset('newfoundland.n.01'),\n",
       " Synset('pooch.n.01'),\n",
       " Synset('poodle.n.01'),\n",
       " Synset('pug.n.01'),\n",
       " Synset('puppy.n.01'),\n",
       " Synset('spitz.n.01'),\n",
       " Synset('toy_dog.n.01'),\n",
       " Synset('working_dog.n.01')]"
      ]
     },
     "execution_count": 10,
     "metadata": {},
     "output_type": "execute_result"
    }
   ],
   "source": [
    "dog.hyponyms()"
   ]
  },
  {
   "cell_type": "code",
   "execution_count": 11,
   "metadata": {},
   "outputs": [
    {
     "data": {
      "text/plain": [
       "[Synset('canis.n.01'), Synset('pack.n.06')]"
      ]
     },
     "execution_count": 11,
     "metadata": {},
     "output_type": "execute_result"
    }
   ],
   "source": [
    "dog.member_holonyms()"
   ]
  },
  {
   "cell_type": "code",
   "execution_count": 12,
   "metadata": {},
   "outputs": [
    {
     "data": {
      "text/plain": [
       "[Synset('entity.n.01')]"
      ]
     },
     "execution_count": 12,
     "metadata": {},
     "output_type": "execute_result"
    }
   ],
   "source": [
    "dog.root_hypernyms()"
   ]
  },
  {
   "cell_type": "code",
   "execution_count": 13,
   "metadata": {},
   "outputs": [
    {
     "data": {
      "text/plain": [
       "[Synset('carnivore.n.01')]"
      ]
     },
     "execution_count": 13,
     "metadata": {},
     "output_type": "execute_result"
    }
   ],
   "source": [
    "wn.synset('dog.n.01').lowest_common_hypernyms(wn.synset('cat.n.01'))"
   ]
  },
  {
   "cell_type": "code",
   "execution_count": 14,
   "metadata": {},
   "outputs": [
    {
     "data": {
      "text/plain": [
       "[Synset('agreement.n.01'),\n",
       " Synset('agreement.n.02'),\n",
       " Synset('agreement.n.03'),\n",
       " Synset('agreement.n.04'),\n",
       " Synset('agreement.n.05'),\n",
       " Synset('agreement.n.06')]"
      ]
     },
     "execution_count": 14,
     "metadata": {},
     "output_type": "execute_result"
    }
   ],
   "source": [
    "wn.synsets('agreement', pos=wn.NOUN)"
   ]
  },
  {
   "cell_type": "code",
   "execution_count": 15,
   "metadata": {},
   "outputs": [
    {
     "data": {
      "text/plain": [
       "[Synset('signer.n.02')]"
      ]
     },
     "execution_count": 15,
     "metadata": {},
     "output_type": "execute_result"
    }
   ],
   "source": [
    "wn.synsets('signatory', pos=wn.NOUN)"
   ]
  },
  {
   "cell_type": "code",
   "execution_count": 17,
   "metadata": {},
   "outputs": [],
   "source": [
    "dev = wn.synset('signer.n.02').lowest_common_hypernyms(wn.synset('agreement.n.01'))"
   ]
  },
  {
   "cell_type": "code",
   "execution_count": null,
   "metadata": {},
   "outputs": [],
   "source": [
    "dev = wn.synset('signer.n.02')..lowest_common_hypernyms(wn.synset('agreement.n.01'))"
   ]
  },
  {
   "cell_type": "code",
   "execution_count": 21,
   "metadata": {},
   "outputs": [
    {
     "data": {
      "text/plain": [
       "'that which is perceived or known or inferred to have its own distinct existence (living or nonliving)'"
      ]
     },
     "execution_count": 21,
     "metadata": {},
     "output_type": "execute_result"
    }
   ],
   "source": [
    "dev = wn.synset('entity.n.01')\n",
    "dev.definition()"
   ]
  },
  {
   "cell_type": "code",
   "execution_count": 22,
   "metadata": {},
   "outputs": [],
   "source": [
    "agreement = wn.synset('agreement.n.01')\n",
    "signer = wn.synset('signer.n.02')\n",
    "print(agreement.shortest_path_distance(signer))"
   ]
  },
  {
   "cell_type": "code",
   "execution_count": 23,
   "metadata": {},
   "outputs": [
    {
     "data": {
      "text/plain": [
       "0.1"
      ]
     },
     "execution_count": 23,
     "metadata": {},
     "output_type": "execute_result"
    }
   ],
   "source": [
    "agreement.path_similarity(signer)"
   ]
  },
  {
   "cell_type": "code",
   "execution_count": 38,
   "metadata": {},
   "outputs": [
    {
     "name": "stdout",
     "output_type": "stream",
     "text": [
      "9\n"
     ]
    }
   ],
   "source": [
    "print(agreement.shortest_path_distance(signer))"
   ]
  },
  {
   "cell_type": "code",
   "execution_count": 40,
   "metadata": {},
   "outputs": [
    {
     "data": {
      "text/plain": [
       "'the statement (oral or written) of an exchange of promises'"
      ]
     },
     "execution_count": 40,
     "metadata": {},
     "output_type": "execute_result"
    }
   ],
   "source": [
    "agreement.definition()"
   ]
  },
  {
   "cell_type": "code",
   "execution_count": 46,
   "metadata": {},
   "outputs": [
    {
     "data": {
      "text/plain": [
       "[Synset('signer.n.02')]"
      ]
     },
     "execution_count": 46,
     "metadata": {},
     "output_type": "execute_result"
    }
   ],
   "source": [
    "signer.tree(agreement)"
   ]
  },
  {
   "cell_type": "code",
   "execution_count": 50,
   "metadata": {},
   "outputs": [
    {
     "data": {
      "text/plain": [
       "[Synset('entity.n.01')]"
      ]
     },
     "execution_count": 50,
     "metadata": {},
     "output_type": "execute_result"
    }
   ],
   "source": [
    "signer.common_hypernyms(agreement)"
   ]
  },
  {
   "cell_type": "code",
   "execution_count": 53,
   "metadata": {},
   "outputs": [
    {
     "name": "stdout",
     "output_type": "stream",
     "text": [
      "[Synset('abhorrer.n.01'), Synset('cosigner.n.01'), Synset('cosigner.n.02'), Synset('endorser.n.02'), Synset('witness.n.04')]\n",
      "['abhorrer']\n",
      "a signer of a 1679 address to Charles II in which those who petitioned for the reconvening of parliament were condemned and abhorred\n",
      "['cosigner', 'cosignatory']\n",
      "one of two or more signers of the same document (as a treaty or declaration)\n",
      "['cosigner']\n",
      "a signer in addition to the principal signer (to verify the authenticity of the principal signature or to provide surety)\n",
      "['endorser', 'indorser']\n",
      "a person who transfers his ownership interest in something by signing a check or negotiable security\n",
      "['witness', 'attestant', 'attestor', 'attestator']\n",
      "(law) a person who attests to the genuineness of a document or signature by adding their own signature\n"
     ]
    }
   ],
   "source": [
    "print(signer.hyponyms())\n",
    "\n",
    "for element in signer.hyponyms():\n",
    "    print(element.lemma_names())\n",
    "    print(element.definition())"
   ]
  },
  {
   "cell_type": "code",
   "execution_count": 54,
   "metadata": {},
   "outputs": [
    {
     "name": "stdout",
     "output_type": "stream",
     "text": [
      "['person', 'individual', 'someone', 'somebody', 'mortal', 'soul']\n",
      "a human being\n"
     ]
    }
   ],
   "source": [
    "for element in signer.hypernyms():\n",
    "    print(element.lemma_names())\n",
    "    print(element.definition())"
   ]
  },
  {
   "cell_type": "code",
   "execution_count": 55,
   "metadata": {},
   "outputs": [
    {
     "name": "stdout",
     "output_type": "stream",
     "text": [
      "['statement']\n",
      "a message that is stated or declared; a communication (oral or written) setting forth particulars or facts etc\n"
     ]
    }
   ],
   "source": [
    "for element in agreement.hypernyms():\n",
    "    print(element.lemma_names())\n",
    "    print(element.definition())"
   ]
  },
  {
   "cell_type": "code",
   "execution_count": 52,
   "metadata": {},
   "outputs": [
    {
     "ename": "AttributeError",
     "evalue": "'list' object has no attribute 'definitions'",
     "output_type": "error",
     "traceback": [
      "\u001b[0;31m---------------------------------------------------------------------------\u001b[0m",
      "\u001b[0;31mAttributeError\u001b[0m                            Traceback (most recent call last)",
      "\u001b[1;32m/media/david/adds/OPENAI/wordnet.ipynb Celda 24\u001b[0m in \u001b[0;36m<module>\u001b[0;34m\u001b[0m\n\u001b[1;32m      <a href='vscode-notebook-cell:/media/david/adds/OPENAI/wordnet.ipynb#X36sZmlsZQ%3D%3D?line=0'>1</a>\u001b[0m ent \u001b[39m=\u001b[39m wn\u001b[39m.\u001b[39msynsets(\u001b[39m'\u001b[39m\u001b[39mentity.n.01\u001b[39m\u001b[39m'\u001b[39m)\n\u001b[0;32m----> <a href='vscode-notebook-cell:/media/david/adds/OPENAI/wordnet.ipynb#X36sZmlsZQ%3D%3D?line=1'>2</a>\u001b[0m ent\u001b[39m.\u001b[39;49mdefinitions()\n",
      "\u001b[0;31mAttributeError\u001b[0m: 'list' object has no attribute 'definitions'"
     ]
    }
   ],
   "source": [
    "ent = wn.synsets('entity.n.01')\n",
    "ent.definitions()"
   ]
  },
  {
   "cell_type": "markdown",
   "metadata": {},
   "source": [
    "# Vamos a encontrar los synsets que se encuentran entre agreemet y signer"
   ]
  },
  {
   "cell_type": "code",
   "execution_count": 59,
   "metadata": {},
   "outputs": [
    {
     "name": "stdout",
     "output_type": "stream",
     "text": [
      "9\n"
     ]
    }
   ],
   "source": [
    "print(agreement.shortest_path_distance(signer))"
   ]
  },
  {
   "cell_type": "code",
   "execution_count": 71,
   "metadata": {},
   "outputs": [
    {
     "data": {
      "text/plain": [
       "{(Synset('causal_agent.n.01'), 2),\n",
       " (Synset('entity.n.01'), 4),\n",
       " (Synset('entity.n.01'), 7),\n",
       " (Synset('living_thing.n.01'), 3),\n",
       " (Synset('object.n.01'), 5),\n",
       " (Synset('organism.n.01'), 2),\n",
       " (Synset('person.n.01'), 1),\n",
       " (Synset('physical_entity.n.01'), 3),\n",
       " (Synset('physical_entity.n.01'), 6),\n",
       " (Synset('signer.n.02'), 0),\n",
       " (Synset('whole.n.02'), 4)}"
      ]
     },
     "execution_count": 71,
     "metadata": {},
     "output_type": "execute_result"
    }
   ],
   "source": [
    "signer.hypernym_distances(0) "
   ]
  },
  {
   "cell_type": "code",
   "execution_count": 77,
   "metadata": {},
   "outputs": [
    {
     "data": {
      "text/plain": [
       "[Synset('person.n.01')]"
      ]
     },
     "execution_count": 77,
     "metadata": {},
     "output_type": "execute_result"
    }
   ],
   "source": [
    "signer.hypernyms()"
   ]
  },
  {
   "cell_type": "code",
   "execution_count": 80,
   "metadata": {},
   "outputs": [
    {
     "data": {
      "text/plain": [
       "Synset('person.n.01')"
      ]
     },
     "execution_count": 80,
     "metadata": {},
     "output_type": "execute_result"
    }
   ],
   "source": [
    "persona = wn.synset('person.n.01')\n",
    "persona"
   ]
  },
  {
   "cell_type": "code",
   "execution_count": 82,
   "metadata": {},
   "outputs": [
    {
     "data": {
      "text/plain": [
       "{(Synset('causal_agent.n.01'), 1),\n",
       " (Synset('entity.n.01'), 3),\n",
       " (Synset('entity.n.01'), 6),\n",
       " (Synset('living_thing.n.01'), 2),\n",
       " (Synset('object.n.01'), 4),\n",
       " (Synset('organism.n.01'), 1),\n",
       " (Synset('person.n.01'), 0),\n",
       " (Synset('physical_entity.n.01'), 2),\n",
       " (Synset('physical_entity.n.01'), 5),\n",
       " (Synset('whole.n.02'), 3)}"
      ]
     },
     "execution_count": 82,
     "metadata": {},
     "output_type": "execute_result"
    }
   ],
   "source": [
    "persona.hypernym_distances()"
   ]
  },
  {
   "cell_type": "code",
   "execution_count": 83,
   "metadata": {},
   "outputs": [
    {
     "data": {
      "text/plain": [
       "'that which is perceived or known or inferred to have its own distinct existence (living or nonliving)'"
      ]
     },
     "execution_count": 83,
     "metadata": {},
     "output_type": "execute_result"
    }
   ],
   "source": [
    "entidad = wn.synset('entity.n.01')\n",
    "entidad.definition()"
   ]
  },
  {
   "cell_type": "code",
   "execution_count": 108,
   "metadata": {},
   "outputs": [],
   "source": [
    "paths = signer.hypernym_paths()"
   ]
  },
  {
   "cell_type": "code",
   "execution_count": 109,
   "metadata": {},
   "outputs": [
    {
     "data": {
      "text/plain": [
       "[[Synset('entity.n.01'),\n",
       "  Synset('physical_entity.n.01'),\n",
       "  Synset('causal_agent.n.01'),\n",
       "  Synset('person.n.01'),\n",
       "  Synset('signer.n.02')],\n",
       " [Synset('entity.n.01'),\n",
       "  Synset('physical_entity.n.01'),\n",
       "  Synset('object.n.01'),\n",
       "  Synset('whole.n.02'),\n",
       "  Synset('living_thing.n.01'),\n",
       "  Synset('organism.n.01'),\n",
       "  Synset('person.n.01'),\n",
       "  Synset('signer.n.02')]]"
      ]
     },
     "execution_count": 109,
     "metadata": {},
     "output_type": "execute_result"
    }
   ],
   "source": [
    "paths"
   ]
  },
  {
   "cell_type": "code",
   "execution_count": 112,
   "metadata": {},
   "outputs": [
    {
     "name": "stdout",
     "output_type": "stream",
     "text": [
      "entity.n.01 that which is perceived or known or inferred to have its own distinct existence (living or nonliving)\n",
      "physical_entity.n.01 an entity that has physical existence\n",
      "causal_agent.n.01 any entity that produces an effect or is responsible for events or results\n",
      "person.n.01 a human being\n",
      "signer.n.02 someone who signs and is bound by a document\n"
     ]
    },
    {
     "data": {
      "text/plain": [
       "[None, None, None, None, None]"
      ]
     },
     "execution_count": 112,
     "metadata": {},
     "output_type": "execute_result"
    }
   ],
   "source": [
    "[print(synset.name(), synset.definition()) for synset in paths[0]]"
   ]
  },
  {
   "cell_type": "code",
   "execution_count": 113,
   "metadata": {},
   "outputs": [
    {
     "data": {
      "text/plain": [
       "[[Synset('entity.n.01'),\n",
       "  Synset('abstraction.n.06'),\n",
       "  Synset('communication.n.02'),\n",
       "  Synset('message.n.02'),\n",
       "  Synset('statement.n.01'),\n",
       "  Synset('agreement.n.01')]]"
      ]
     },
     "execution_count": 113,
     "metadata": {},
     "output_type": "execute_result"
    }
   ],
   "source": [
    "paths_a = agreement.hypernym_paths()\n",
    "paths_a"
   ]
  },
  {
   "cell_type": "code",
   "execution_count": 114,
   "metadata": {},
   "outputs": [
    {
     "name": "stdout",
     "output_type": "stream",
     "text": [
      "entity.n.01 that which is perceived or known or inferred to have its own distinct existence (living or nonliving)\n",
      "abstraction.n.06 a general concept formed by extracting common features from specific examples\n",
      "communication.n.02 something that is communicated by or to or between people or groups\n",
      "message.n.02 what a communication that is about something is about\n",
      "statement.n.01 a message that is stated or declared; a communication (oral or written) setting forth particulars or facts etc\n",
      "agreement.n.01 the statement (oral or written) of an exchange of promises\n"
     ]
    },
    {
     "data": {
      "text/plain": [
       "[None, None, None, None, None, None]"
      ]
     },
     "execution_count": 114,
     "metadata": {},
     "output_type": "execute_result"
    }
   ],
   "source": [
    "[print(synset.name(), synset.definition()) for synset in paths_a[0]]"
   ]
  },
  {
   "cell_type": "code",
   "execution_count": 117,
   "metadata": {},
   "outputs": [
    {
     "data": {
      "text/plain": [
       "[]"
      ]
     },
     "execution_count": 117,
     "metadata": {},
     "output_type": "execute_result"
    }
   ],
   "source": [
    "wn.synset('agreement.n.02').part_holonyms()"
   ]
  },
  {
   "cell_type": "markdown",
   "metadata": {},
   "source": [
    "### Entidad es el root entonces requerimos llegar a agreement"
   ]
  },
  {
   "cell_type": "code",
   "execution_count": 84,
   "metadata": {},
   "outputs": [
    {
     "data": {
      "text/plain": [
       "[Synset('abstraction.n.06'),\n",
       " Synset('physical_entity.n.01'),\n",
       " Synset('thing.n.08')]"
      ]
     },
     "execution_count": 84,
     "metadata": {},
     "output_type": "execute_result"
    }
   ],
   "source": [
    "entidad.hyponyms()"
   ]
  },
  {
   "cell_type": "code",
   "execution_count": 104,
   "metadata": {},
   "outputs": [
    {
     "data": {
      "text/plain": [
       "'a general concept formed by extracting common features from specific examples'"
      ]
     },
     "execution_count": 104,
     "metadata": {},
     "output_type": "execute_result"
    }
   ],
   "source": [
    "abst = wn.synset('abstraction.n.06')\n",
    "abst.definition()"
   ]
  },
  {
   "cell_type": "code",
   "execution_count": 105,
   "metadata": {},
   "outputs": [
    {
     "data": {
      "text/plain": [
       "[Synset('attribute.n.02'),\n",
       " Synset('communication.n.02'),\n",
       " Synset('group.n.01'),\n",
       " Synset('measure.n.02'),\n",
       " Synset('otherworld.n.01'),\n",
       " Synset('psychological_feature.n.01'),\n",
       " Synset('relation.n.01'),\n",
       " Synset('set.n.02')]"
      ]
     },
     "execution_count": 105,
     "metadata": {},
     "output_type": "execute_result"
    }
   ],
   "source": [
    "abst.hyponyms()"
   ]
  },
  {
   "cell_type": "code",
   "execution_count": 106,
   "metadata": {},
   "outputs": [
    {
     "data": {
      "text/plain": [
       "Synset('communication.n.02')"
      ]
     },
     "execution_count": 106,
     "metadata": {},
     "output_type": "execute_result"
    }
   ],
   "source": [
    "comunication = wn.synset('communication.n.02')\n",
    "comunication"
   ]
  },
  {
   "cell_type": "code",
   "execution_count": 107,
   "metadata": {},
   "outputs": [
    {
     "data": {
      "text/plain": [
       "[Synset('auditory_communication.n.01'),\n",
       " Synset('contagion.n.03'),\n",
       " Synset('didacticism.n.01'),\n",
       " Synset('display.n.05'),\n",
       " Synset('document.n.03'),\n",
       " Synset('expressive_style.n.01'),\n",
       " Synset('indication.n.01'),\n",
       " Synset('language.n.01'),\n",
       " Synset('message.n.01'),\n",
       " Synset('message.n.02'),\n",
       " Synset('paralanguage.n.01'),\n",
       " Synset('psychic_communication.n.01'),\n",
       " Synset('publication.n.03'),\n",
       " Synset('sign.n.02'),\n",
       " Synset('signal.n.01'),\n",
       " Synset('visual_communication.n.01'),\n",
       " Synset('voice.n.02'),\n",
       " Synset('voice.n.06'),\n",
       " Synset('written_communication.n.01')]"
      ]
     },
     "execution_count": 107,
     "metadata": {},
     "output_type": "execute_result"
    }
   ],
   "source": [
    "comunication.hyponyms()"
   ]
  },
  {
   "cell_type": "code",
   "execution_count": 96,
   "metadata": {},
   "outputs": [
    {
     "data": {
      "text/plain": [
       "{(Synset('abstraction.n.06'), 4),\n",
       " (Synset('agreement.n.01'), 0),\n",
       " (Synset('communication.n.02'), 3),\n",
       " (Synset('entity.n.01'), 5),\n",
       " (Synset('message.n.02'), 2),\n",
       " (Synset('statement.n.01'), 1)}"
      ]
     },
     "execution_count": 96,
     "metadata": {},
     "output_type": "execute_result"
    }
   ],
   "source": [
    "agreement.hypernym_distances(0)"
   ]
  },
  {
   "cell_type": "code",
   "execution_count": 88,
   "metadata": {},
   "outputs": [
    {
     "data": {
      "text/plain": [
       "'a message that is stated or declared; a communication (oral or written) setting forth particulars or facts etc'"
      ]
     },
     "execution_count": 88,
     "metadata": {},
     "output_type": "execute_result"
    }
   ],
   "source": [
    "statement = wn.synset('statement.n.01')\n",
    "statement.definition()"
   ]
  },
  {
   "cell_type": "code",
   "execution_count": 99,
   "metadata": {},
   "outputs": [
    {
     "data": {
      "text/plain": [
       "{(Synset('abstraction.n.06'), 3),\n",
       " (Synset('communication.n.02'), 2),\n",
       " (Synset('entity.n.01'), 4),\n",
       " (Synset('message.n.02'), 1),\n",
       " (Synset('statement.n.01'), 0)}"
      ]
     },
     "execution_count": 99,
     "metadata": {},
     "output_type": "execute_result"
    }
   ],
   "source": [
    "statement.hypernym_distances(0)"
   ]
  },
  {
   "cell_type": "code",
   "execution_count": 100,
   "metadata": {},
   "outputs": [
    {
     "data": {
      "text/plain": [
       "'what a communication that is about something is about'"
      ]
     },
     "execution_count": 100,
     "metadata": {},
     "output_type": "execute_result"
    }
   ],
   "source": [
    "message = wn.synset('message.n.02')\n",
    "message.definition()"
   ]
  },
  {
   "cell_type": "code",
   "execution_count": 101,
   "metadata": {},
   "outputs": [
    {
     "data": {
      "text/plain": [
       "{(Synset('abstraction.n.06'), 2),\n",
       " (Synset('communication.n.02'), 1),\n",
       " (Synset('entity.n.01'), 3),\n",
       " (Synset('message.n.02'), 0)}"
      ]
     },
     "execution_count": 101,
     "metadata": {},
     "output_type": "execute_result"
    }
   ],
   "source": [
    "message.hypernym_distances(0)"
   ]
  },
  {
   "cell_type": "code",
   "execution_count": 102,
   "metadata": {},
   "outputs": [
    {
     "data": {
      "text/plain": [
       "'something that is communicated by or to or between people or groups'"
      ]
     },
     "execution_count": 102,
     "metadata": {},
     "output_type": "execute_result"
    }
   ],
   "source": [
    "comunication = wn.synset('communication.n.02')\n",
    "comunication.definition()"
   ]
  },
  {
   "cell_type": "code",
   "execution_count": 103,
   "metadata": {},
   "outputs": [
    {
     "data": {
      "text/plain": [
       "{(Synset('abstraction.n.06'), 1),\n",
       " (Synset('communication.n.02'), 0),\n",
       " (Synset('entity.n.01'), 2)}"
      ]
     },
     "execution_count": 103,
     "metadata": {},
     "output_type": "execute_result"
    }
   ],
   "source": [
    "comunication.hypernym_distances(0)"
   ]
  },
  {
   "cell_type": "code",
   "execution_count": 76,
   "metadata": {},
   "outputs": [
    {
     "name": "stdout",
     "output_type": "stream",
     "text": [
      "{Synset('physical_entity.n.01'): 3, Synset('organism.n.01'): 2, Synset('person.n.01'): 1, Synset('entity.n.01'): 4, Synset('whole.n.02'): 4, Synset('object.n.01'): 5, Synset('signer.n.02'): 0, Synset('living_thing.n.01'): 3, Synset('causal_agent.n.01'): 2}\n",
      "{(Synset('abstraction.n.06'), 4), (Synset('message.n.02'), 2), (Synset('communication.n.02'), 3), (Synset('entity.n.01'), 5), (Synset('agreement.n.01'), 0), (Synset('statement.n.01'), 1)}\n",
      "{(Synset('physical_entity.n.01'), 3), (Synset('organism.n.01'), 2), (Synset('physical_entity.n.01'), 6), (Synset('person.n.01'), 1), (Synset('entity.n.01'), 4), (Synset('whole.n.02'), 4), (Synset('object.n.01'), 5), (Synset('signer.n.02'), 0), (Synset('entity.n.01'), 7), (Synset('living_thing.n.01'), 3), (Synset('causal_agent.n.01'), 2)}\n",
      "Synset('entity.n.01')\n",
      "5  -  4\n",
      "9\n"
     ]
    }
   ],
   "source": [
    "path_distance =-1\n",
    "dist_list1 = agreement.hypernym_distances(0) \n",
    "dist_dict1 = {} \n",
    "dist_list2 = signer.hypernym_distances(0) \n",
    "dist_dict2 = {} \n",
    "   \n",
    "# Transform each distance list into a dictionary. In cases where \n",
    "# there are duplicate nodes in the list (due to there being multiple \n",
    "# paths to the root) the duplicate with the shortest distance from \n",
    "# the original node is entered. \n",
    " \n",
    "for (l, d) in [(dist_list1, dist_dict1), (dist_list2, dist_dict2)]: \n",
    "    for (key, value) in l: \n",
    "        if key in d: \n",
    "            if value < d[key]: \n",
    "                d[key] = value \n",
    "        else: \n",
    "            d[key] = value \n",
    "print(d)\n",
    "# For each ancestor synset common to both subject synsets, find the \n",
    "# connecting path length. Return the shortest of these. \n",
    "print(dist_list1)\n",
    "print(dist_list2)\n",
    "for synset1 in dist_dict1.keys(): \n",
    "    for synset2 in dist_dict2.keys(): \n",
    "        if synset1 == synset2: \n",
    "            print(synset1)\n",
    "            new_distance = dist_dict1[synset1] + dist_dict2[synset2] \n",
    "            print(dist_dict1[synset1], \" - \",dist_dict2[synset2])\n",
    "            if path_distance < 0 or new_distance < path_distance: \n",
    "                path_distance = new_distance \n",
    "print(path_distance)"
   ]
  },
  {
   "cell_type": "code",
   "execution_count": 32,
   "metadata": {},
   "outputs": [],
   "source": [
    "for a in clo:\n",
    "    print(a)"
   ]
  }
 ],
 "metadata": {
  "kernelspec": {
   "display_name": "Python 3",
   "language": "python",
   "name": "python3"
  },
  "language_info": {
   "codemirror_mode": {
    "name": "ipython",
    "version": 3
   },
   "file_extension": ".py",
   "mimetype": "text/x-python",
   "name": "python",
   "nbconvert_exporter": "python",
   "pygments_lexer": "ipython3",
   "version": "3.8.10"
  },
  "orig_nbformat": 4
 },
 "nbformat": 4,
 "nbformat_minor": 2
}
